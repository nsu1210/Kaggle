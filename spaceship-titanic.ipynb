{
 "cells": [
  {
   "cell_type": "code",
   "execution_count": 1,
   "id": "9c0f590c",
   "metadata": {
    "execution": {
     "iopub.execute_input": "2022-03-30T04:52:32.544178Z",
     "iopub.status.busy": "2022-03-30T04:52:32.543209Z",
     "iopub.status.idle": "2022-03-30T04:52:33.598441Z",
     "shell.execute_reply": "2022-03-30T04:52:33.597729Z",
     "shell.execute_reply.started": "2022-03-30T04:51:16.805125Z"
    },
    "papermill": {
     "duration": 1.097229,
     "end_time": "2022-03-30T04:52:33.598629",
     "exception": false,
     "start_time": "2022-03-30T04:52:32.501400",
     "status": "completed"
    },
    "tags": []
   },
   "outputs": [],
   "source": [
    "import numpy as np\n",
    "import pandas as pd\n",
    "import os\n",
    "import gc\n",
    "import matplotlib.pyplot as plt\n",
    "import seaborn as sns\n",
    "import warnings \n",
    "warnings.filterwarnings('ignore')"
   ]
  },
  {
   "cell_type": "markdown",
   "id": "8968a461",
   "metadata": {
    "papermill": {
     "duration": 0.024225,
     "end_time": "2022-03-30T04:52:33.648759",
     "exception": false,
     "start_time": "2022-03-30T04:52:33.624534",
     "status": "completed"
    },
    "tags": []
   },
   "source": [
    "In this competition your task is to predict whether a passenger was transported to an alternate dimension during the Spaceship Titanic's collision with the spacetime anomaly. To help you make these predictions, you're given a set of personal records recovered from the ship's damaged computer system."
   ]
  },
  {
   "cell_type": "markdown",
   "id": "80b75467",
   "metadata": {
    "papermill": {
     "duration": 0.026848,
     "end_time": "2022-03-30T04:52:33.701943",
     "exception": false,
     "start_time": "2022-03-30T04:52:33.675095",
     "status": "completed"
    },
    "tags": []
   },
   "source": [
    "# File and Data Field Descriptions\n",
    "* train.csv - Personal records for about two-thirds (~8700) of the passengers, to be used as training data.\n",
    "* PassengerId - A unique Id for each passenger. Each Id takes the form gggg_pp where gggg indicates a group the passenger is travelling with and pp is their number within the group. People in a group are often family members, but not always.\n",
    "* HomePlanet - The planet the passenger departed from, typically their planet of permanent residence.\n",
    "* CryoSleep - Indicates whether the passenger elected to be put into suspended animation for the duration of the voyage. Passengers in cryosleep are confined to their cabins.\n",
    "* Cabin - The cabin number where the passenger is staying. Takes the form deck/num/side, where side can be either P for Port or S for Starboard.\n",
    "* Destination - The planet the passenger will be debarking to.\n",
    "* Age - The age of the passenger.\n",
    "* VIP - Whether the passenger has paid for special VIP service during the voyage.\n",
    "* RoomService, FoodCourt, ShoppingMall, Spa, VRDeck - Amount the passenger has billed at each of the Spaceship Titanic's many luxury amenities.\n",
    "* Name - The first and last names of the passenger.\n",
    "* Transported - Whether the passenger was transported to another dimension. This is the target, the column you are trying to predict."
   ]
  },
  {
   "cell_type": "code",
   "execution_count": 2,
   "id": "cd41f75e",
   "metadata": {
    "execution": {
     "iopub.execute_input": "2022-03-30T04:52:33.759648Z",
     "iopub.status.busy": "2022-03-30T04:52:33.758927Z",
     "iopub.status.idle": "2022-03-30T04:52:33.849193Z",
     "shell.execute_reply": "2022-03-30T04:52:33.849956Z",
     "shell.execute_reply.started": "2022-03-30T04:51:16.868109Z"
    },
    "papermill": {
     "duration": 0.123417,
     "end_time": "2022-03-30T04:52:33.850171",
     "exception": false,
     "start_time": "2022-03-30T04:52:33.726754",
     "status": "completed"
    },
    "tags": []
   },
   "outputs": [
    {
     "name": "stdout",
     "output_type": "stream",
     "text": [
      "(8693, 14)\n",
      "(4277, 13)\n"
     ]
    }
   ],
   "source": [
    "train = pd.read_csv('../input/spaceship-titanic/train.csv')\n",
    "test = pd.read_csv('../input/spaceship-titanic/test.csv')\n",
    "sub = pd.read_csv('../input/spaceship-titanic/sample_submission.csv')\n",
    "print(train.shape)\n",
    "print(test.shape)"
   ]
  },
  {
   "cell_type": "code",
   "execution_count": 3,
   "id": "b8ab2837",
   "metadata": {
    "execution": {
     "iopub.execute_input": "2022-03-30T04:52:33.916515Z",
     "iopub.status.busy": "2022-03-30T04:52:33.915693Z",
     "iopub.status.idle": "2022-03-30T04:52:33.942131Z",
     "shell.execute_reply": "2022-03-30T04:52:33.941509Z",
     "shell.execute_reply.started": "2022-03-30T04:51:16.940757Z"
    },
    "papermill": {
     "duration": 0.064475,
     "end_time": "2022-03-30T04:52:33.942279",
     "exception": false,
     "start_time": "2022-03-30T04:52:33.877804",
     "status": "completed"
    },
    "tags": []
   },
   "outputs": [
    {
     "data": {
      "text/html": [
       "<div>\n",
       "<style scoped>\n",
       "    .dataframe tbody tr th:only-of-type {\n",
       "        vertical-align: middle;\n",
       "    }\n",
       "\n",
       "    .dataframe tbody tr th {\n",
       "        vertical-align: top;\n",
       "    }\n",
       "\n",
       "    .dataframe thead th {\n",
       "        text-align: right;\n",
       "    }\n",
       "</style>\n",
       "<table border=\"1\" class=\"dataframe\">\n",
       "  <thead>\n",
       "    <tr style=\"text-align: right;\">\n",
       "      <th></th>\n",
       "      <th>PassengerId</th>\n",
       "      <th>HomePlanet</th>\n",
       "      <th>CryoSleep</th>\n",
       "      <th>Cabin</th>\n",
       "      <th>Destination</th>\n",
       "      <th>Age</th>\n",
       "      <th>VIP</th>\n",
       "      <th>RoomService</th>\n",
       "      <th>FoodCourt</th>\n",
       "      <th>ShoppingMall</th>\n",
       "      <th>Spa</th>\n",
       "      <th>VRDeck</th>\n",
       "      <th>Name</th>\n",
       "      <th>Transported</th>\n",
       "    </tr>\n",
       "  </thead>\n",
       "  <tbody>\n",
       "    <tr>\n",
       "      <th>0</th>\n",
       "      <td>0001_01</td>\n",
       "      <td>Europa</td>\n",
       "      <td>False</td>\n",
       "      <td>B/0/P</td>\n",
       "      <td>TRAPPIST-1e</td>\n",
       "      <td>39.0</td>\n",
       "      <td>False</td>\n",
       "      <td>0.0</td>\n",
       "      <td>0.0</td>\n",
       "      <td>0.0</td>\n",
       "      <td>0.0</td>\n",
       "      <td>0.0</td>\n",
       "      <td>Maham Ofracculy</td>\n",
       "      <td>False</td>\n",
       "    </tr>\n",
       "    <tr>\n",
       "      <th>1</th>\n",
       "      <td>0002_01</td>\n",
       "      <td>Earth</td>\n",
       "      <td>False</td>\n",
       "      <td>F/0/S</td>\n",
       "      <td>TRAPPIST-1e</td>\n",
       "      <td>24.0</td>\n",
       "      <td>False</td>\n",
       "      <td>109.0</td>\n",
       "      <td>9.0</td>\n",
       "      <td>25.0</td>\n",
       "      <td>549.0</td>\n",
       "      <td>44.0</td>\n",
       "      <td>Juanna Vines</td>\n",
       "      <td>True</td>\n",
       "    </tr>\n",
       "    <tr>\n",
       "      <th>2</th>\n",
       "      <td>0003_01</td>\n",
       "      <td>Europa</td>\n",
       "      <td>False</td>\n",
       "      <td>A/0/S</td>\n",
       "      <td>TRAPPIST-1e</td>\n",
       "      <td>58.0</td>\n",
       "      <td>True</td>\n",
       "      <td>43.0</td>\n",
       "      <td>3576.0</td>\n",
       "      <td>0.0</td>\n",
       "      <td>6715.0</td>\n",
       "      <td>49.0</td>\n",
       "      <td>Altark Susent</td>\n",
       "      <td>False</td>\n",
       "    </tr>\n",
       "    <tr>\n",
       "      <th>3</th>\n",
       "      <td>0003_02</td>\n",
       "      <td>Europa</td>\n",
       "      <td>False</td>\n",
       "      <td>A/0/S</td>\n",
       "      <td>TRAPPIST-1e</td>\n",
       "      <td>33.0</td>\n",
       "      <td>False</td>\n",
       "      <td>0.0</td>\n",
       "      <td>1283.0</td>\n",
       "      <td>371.0</td>\n",
       "      <td>3329.0</td>\n",
       "      <td>193.0</td>\n",
       "      <td>Solam Susent</td>\n",
       "      <td>False</td>\n",
       "    </tr>\n",
       "    <tr>\n",
       "      <th>4</th>\n",
       "      <td>0004_01</td>\n",
       "      <td>Earth</td>\n",
       "      <td>False</td>\n",
       "      <td>F/1/S</td>\n",
       "      <td>TRAPPIST-1e</td>\n",
       "      <td>16.0</td>\n",
       "      <td>False</td>\n",
       "      <td>303.0</td>\n",
       "      <td>70.0</td>\n",
       "      <td>151.0</td>\n",
       "      <td>565.0</td>\n",
       "      <td>2.0</td>\n",
       "      <td>Willy Santantines</td>\n",
       "      <td>True</td>\n",
       "    </tr>\n",
       "  </tbody>\n",
       "</table>\n",
       "</div>"
      ],
      "text/plain": [
       "  PassengerId HomePlanet CryoSleep  Cabin  Destination   Age    VIP  \\\n",
       "0     0001_01     Europa     False  B/0/P  TRAPPIST-1e  39.0  False   \n",
       "1     0002_01      Earth     False  F/0/S  TRAPPIST-1e  24.0  False   \n",
       "2     0003_01     Europa     False  A/0/S  TRAPPIST-1e  58.0   True   \n",
       "3     0003_02     Europa     False  A/0/S  TRAPPIST-1e  33.0  False   \n",
       "4     0004_01      Earth     False  F/1/S  TRAPPIST-1e  16.0  False   \n",
       "\n",
       "   RoomService  FoodCourt  ShoppingMall     Spa  VRDeck               Name  \\\n",
       "0          0.0        0.0           0.0     0.0     0.0    Maham Ofracculy   \n",
       "1        109.0        9.0          25.0   549.0    44.0       Juanna Vines   \n",
       "2         43.0     3576.0           0.0  6715.0    49.0      Altark Susent   \n",
       "3          0.0     1283.0         371.0  3329.0   193.0       Solam Susent   \n",
       "4        303.0       70.0         151.0   565.0     2.0  Willy Santantines   \n",
       "\n",
       "   Transported  \n",
       "0        False  \n",
       "1         True  \n",
       "2        False  \n",
       "3        False  \n",
       "4         True  "
      ]
     },
     "execution_count": 3,
     "metadata": {},
     "output_type": "execute_result"
    }
   ],
   "source": [
    "train.head()"
   ]
  },
  {
   "cell_type": "markdown",
   "id": "ef79261f",
   "metadata": {
    "papermill": {
     "duration": 0.02839,
     "end_time": "2022-03-30T04:52:33.998462",
     "exception": false,
     "start_time": "2022-03-30T04:52:33.970072",
     "status": "completed"
    },
    "tags": []
   },
   "source": [
    "# EDA"
   ]
  },
  {
   "cell_type": "code",
   "execution_count": 4,
   "id": "d88887b1",
   "metadata": {
    "execution": {
     "iopub.execute_input": "2022-03-30T04:52:34.075788Z",
     "iopub.status.busy": "2022-03-30T04:52:34.074665Z",
     "iopub.status.idle": "2022-03-30T04:52:34.125205Z",
     "shell.execute_reply": "2022-03-30T04:52:34.124381Z",
     "shell.execute_reply.started": "2022-03-30T04:51:17.021581Z"
    },
    "papermill": {
     "duration": 0.095721,
     "end_time": "2022-03-30T04:52:34.125391",
     "exception": false,
     "start_time": "2022-03-30T04:52:34.029670",
     "status": "completed"
    },
    "tags": []
   },
   "outputs": [
    {
     "data": {
      "text/html": [
       "<div>\n",
       "<style scoped>\n",
       "    .dataframe tbody tr th:only-of-type {\n",
       "        vertical-align: middle;\n",
       "    }\n",
       "\n",
       "    .dataframe tbody tr th {\n",
       "        vertical-align: top;\n",
       "    }\n",
       "\n",
       "    .dataframe thead th {\n",
       "        text-align: right;\n",
       "    }\n",
       "</style>\n",
       "<table border=\"1\" class=\"dataframe\">\n",
       "  <thead>\n",
       "    <tr style=\"text-align: right;\">\n",
       "      <th></th>\n",
       "      <th>dtypes</th>\n",
       "      <th>missing</th>\n",
       "      <th>nlevel</th>\n",
       "    </tr>\n",
       "  </thead>\n",
       "  <tbody>\n",
       "    <tr>\n",
       "      <th>PassengerId</th>\n",
       "      <td>object</td>\n",
       "      <td>0</td>\n",
       "      <td>8693</td>\n",
       "    </tr>\n",
       "    <tr>\n",
       "      <th>HomePlanet</th>\n",
       "      <td>object</td>\n",
       "      <td>201</td>\n",
       "      <td>3</td>\n",
       "    </tr>\n",
       "    <tr>\n",
       "      <th>CryoSleep</th>\n",
       "      <td>object</td>\n",
       "      <td>217</td>\n",
       "      <td>2</td>\n",
       "    </tr>\n",
       "    <tr>\n",
       "      <th>Cabin</th>\n",
       "      <td>object</td>\n",
       "      <td>199</td>\n",
       "      <td>6560</td>\n",
       "    </tr>\n",
       "    <tr>\n",
       "      <th>Destination</th>\n",
       "      <td>object</td>\n",
       "      <td>182</td>\n",
       "      <td>3</td>\n",
       "    </tr>\n",
       "    <tr>\n",
       "      <th>Age</th>\n",
       "      <td>float64</td>\n",
       "      <td>179</td>\n",
       "      <td>80</td>\n",
       "    </tr>\n",
       "    <tr>\n",
       "      <th>VIP</th>\n",
       "      <td>object</td>\n",
       "      <td>203</td>\n",
       "      <td>2</td>\n",
       "    </tr>\n",
       "    <tr>\n",
       "      <th>RoomService</th>\n",
       "      <td>float64</td>\n",
       "      <td>181</td>\n",
       "      <td>1273</td>\n",
       "    </tr>\n",
       "    <tr>\n",
       "      <th>FoodCourt</th>\n",
       "      <td>float64</td>\n",
       "      <td>183</td>\n",
       "      <td>1507</td>\n",
       "    </tr>\n",
       "    <tr>\n",
       "      <th>ShoppingMall</th>\n",
       "      <td>float64</td>\n",
       "      <td>208</td>\n",
       "      <td>1115</td>\n",
       "    </tr>\n",
       "    <tr>\n",
       "      <th>Spa</th>\n",
       "      <td>float64</td>\n",
       "      <td>183</td>\n",
       "      <td>1327</td>\n",
       "    </tr>\n",
       "    <tr>\n",
       "      <th>VRDeck</th>\n",
       "      <td>float64</td>\n",
       "      <td>188</td>\n",
       "      <td>1306</td>\n",
       "    </tr>\n",
       "    <tr>\n",
       "      <th>Name</th>\n",
       "      <td>object</td>\n",
       "      <td>200</td>\n",
       "      <td>8473</td>\n",
       "    </tr>\n",
       "    <tr>\n",
       "      <th>Transported</th>\n",
       "      <td>bool</td>\n",
       "      <td>0</td>\n",
       "      <td>2</td>\n",
       "    </tr>\n",
       "  </tbody>\n",
       "</table>\n",
       "</div>"
      ],
      "text/plain": [
       "               dtypes  missing  nlevel\n",
       "PassengerId    object        0    8693\n",
       "HomePlanet     object      201       3\n",
       "CryoSleep      object      217       2\n",
       "Cabin          object      199    6560\n",
       "Destination    object      182       3\n",
       "Age           float64      179      80\n",
       "VIP            object      203       2\n",
       "RoomService   float64      181    1273\n",
       "FoodCourt     float64      183    1507\n",
       "ShoppingMall  float64      208    1115\n",
       "Spa           float64      183    1327\n",
       "VRDeck        float64      188    1306\n",
       "Name           object      200    8473\n",
       "Transported      bool        0       2"
      ]
     },
     "execution_count": 4,
     "metadata": {},
     "output_type": "execute_result"
    }
   ],
   "source": [
    "def eda(df):\n",
    "    summary = pd.DataFrame()\n",
    "    summary['dtypes'] = df.dtypes\n",
    "    summary['missing'] = df.isnull().sum()\n",
    "    summary['nlevel'] = df.nunique()\n",
    "    return summary\n",
    "\n",
    "eda(train)"
   ]
  },
  {
   "cell_type": "code",
   "execution_count": 5,
   "id": "d82e659f",
   "metadata": {
    "execution": {
     "iopub.execute_input": "2022-03-30T04:52:34.206524Z",
     "iopub.status.busy": "2022-03-30T04:52:34.205713Z",
     "iopub.status.idle": "2022-03-30T04:52:34.223396Z",
     "shell.execute_reply": "2022-03-30T04:52:34.224028Z",
     "shell.execute_reply.started": "2022-03-30T04:51:17.087728Z"
    },
    "papermill": {
     "duration": 0.060741,
     "end_time": "2022-03-30T04:52:34.224281",
     "exception": false,
     "start_time": "2022-03-30T04:52:34.163540",
     "status": "completed"
    },
    "tags": []
   },
   "outputs": [
    {
     "data": {
      "text/html": [
       "<div>\n",
       "<style scoped>\n",
       "    .dataframe tbody tr th:only-of-type {\n",
       "        vertical-align: middle;\n",
       "    }\n",
       "\n",
       "    .dataframe tbody tr th {\n",
       "        vertical-align: top;\n",
       "    }\n",
       "\n",
       "    .dataframe thead th {\n",
       "        text-align: right;\n",
       "    }\n",
       "</style>\n",
       "<table border=\"1\" class=\"dataframe\">\n",
       "  <thead>\n",
       "    <tr style=\"text-align: right;\">\n",
       "      <th></th>\n",
       "      <th>dtypes</th>\n",
       "      <th>missing</th>\n",
       "      <th>nlevel</th>\n",
       "    </tr>\n",
       "  </thead>\n",
       "  <tbody>\n",
       "    <tr>\n",
       "      <th>PassengerId</th>\n",
       "      <td>object</td>\n",
       "      <td>0</td>\n",
       "      <td>4277</td>\n",
       "    </tr>\n",
       "    <tr>\n",
       "      <th>HomePlanet</th>\n",
       "      <td>object</td>\n",
       "      <td>87</td>\n",
       "      <td>3</td>\n",
       "    </tr>\n",
       "    <tr>\n",
       "      <th>CryoSleep</th>\n",
       "      <td>object</td>\n",
       "      <td>93</td>\n",
       "      <td>2</td>\n",
       "    </tr>\n",
       "    <tr>\n",
       "      <th>Cabin</th>\n",
       "      <td>object</td>\n",
       "      <td>100</td>\n",
       "      <td>3265</td>\n",
       "    </tr>\n",
       "    <tr>\n",
       "      <th>Destination</th>\n",
       "      <td>object</td>\n",
       "      <td>92</td>\n",
       "      <td>3</td>\n",
       "    </tr>\n",
       "    <tr>\n",
       "      <th>Age</th>\n",
       "      <td>float64</td>\n",
       "      <td>91</td>\n",
       "      <td>79</td>\n",
       "    </tr>\n",
       "    <tr>\n",
       "      <th>VIP</th>\n",
       "      <td>object</td>\n",
       "      <td>93</td>\n",
       "      <td>2</td>\n",
       "    </tr>\n",
       "    <tr>\n",
       "      <th>RoomService</th>\n",
       "      <td>float64</td>\n",
       "      <td>82</td>\n",
       "      <td>842</td>\n",
       "    </tr>\n",
       "    <tr>\n",
       "      <th>FoodCourt</th>\n",
       "      <td>float64</td>\n",
       "      <td>106</td>\n",
       "      <td>902</td>\n",
       "    </tr>\n",
       "    <tr>\n",
       "      <th>ShoppingMall</th>\n",
       "      <td>float64</td>\n",
       "      <td>98</td>\n",
       "      <td>715</td>\n",
       "    </tr>\n",
       "    <tr>\n",
       "      <th>Spa</th>\n",
       "      <td>float64</td>\n",
       "      <td>101</td>\n",
       "      <td>833</td>\n",
       "    </tr>\n",
       "    <tr>\n",
       "      <th>VRDeck</th>\n",
       "      <td>float64</td>\n",
       "      <td>80</td>\n",
       "      <td>796</td>\n",
       "    </tr>\n",
       "    <tr>\n",
       "      <th>Name</th>\n",
       "      <td>object</td>\n",
       "      <td>94</td>\n",
       "      <td>4176</td>\n",
       "    </tr>\n",
       "  </tbody>\n",
       "</table>\n",
       "</div>"
      ],
      "text/plain": [
       "               dtypes  missing  nlevel\n",
       "PassengerId    object        0    4277\n",
       "HomePlanet     object       87       3\n",
       "CryoSleep      object       93       2\n",
       "Cabin          object      100    3265\n",
       "Destination    object       92       3\n",
       "Age           float64       91      79\n",
       "VIP            object       93       2\n",
       "RoomService   float64       82     842\n",
       "FoodCourt     float64      106     902\n",
       "ShoppingMall  float64       98     715\n",
       "Spa           float64      101     833\n",
       "VRDeck        float64       80     796\n",
       "Name           object       94    4176"
      ]
     },
     "execution_count": 5,
     "metadata": {},
     "output_type": "execute_result"
    }
   ],
   "source": [
    "eda(test)"
   ]
  },
  {
   "cell_type": "code",
   "execution_count": 6,
   "id": "59efd752",
   "metadata": {
    "execution": {
     "iopub.execute_input": "2022-03-30T04:52:34.290348Z",
     "iopub.status.busy": "2022-03-30T04:52:34.287554Z",
     "iopub.status.idle": "2022-03-30T04:52:34.308738Z",
     "shell.execute_reply": "2022-03-30T04:52:34.309284Z",
     "shell.execute_reply.started": "2022-03-30T04:51:17.209452Z"
    },
    "papermill": {
     "duration": 0.054349,
     "end_time": "2022-03-30T04:52:34.309629",
     "exception": false,
     "start_time": "2022-03-30T04:52:34.255280",
     "status": "completed"
    },
    "tags": []
   },
   "outputs": [
    {
     "data": {
      "text/plain": [
       "0"
      ]
     },
     "execution_count": 6,
     "metadata": {},
     "output_type": "execute_result"
    }
   ],
   "source": [
    "train.duplicated().sum()"
   ]
  },
  {
   "cell_type": "markdown",
   "id": "0842867a",
   "metadata": {
    "papermill": {
     "duration": 0.028749,
     "end_time": "2022-03-30T04:52:34.367948",
     "exception": false,
     "start_time": "2022-03-30T04:52:34.339199",
     "status": "completed"
    },
    "tags": []
   },
   "source": [
    "## Target"
   ]
  },
  {
   "cell_type": "code",
   "execution_count": 7,
   "id": "5898575a",
   "metadata": {
    "execution": {
     "iopub.execute_input": "2022-03-30T04:52:34.433361Z",
     "iopub.status.busy": "2022-03-30T04:52:34.432203Z",
     "iopub.status.idle": "2022-03-30T04:52:34.440298Z",
     "shell.execute_reply": "2022-03-30T04:52:34.439613Z",
     "shell.execute_reply.started": "2022-03-30T04:51:17.270910Z"
    },
    "papermill": {
     "duration": 0.043251,
     "end_time": "2022-03-30T04:52:34.440460",
     "exception": false,
     "start_time": "2022-03-30T04:52:34.397209",
     "status": "completed"
    },
    "tags": []
   },
   "outputs": [
    {
     "data": {
      "text/plain": [
       "True     4378\n",
       "False    4315\n",
       "Name: Transported, dtype: int64"
      ]
     },
     "execution_count": 7,
     "metadata": {},
     "output_type": "execute_result"
    }
   ],
   "source": [
    "train['Transported'].value_counts()"
   ]
  },
  {
   "cell_type": "code",
   "execution_count": 8,
   "id": "22df083a",
   "metadata": {
    "execution": {
     "iopub.execute_input": "2022-03-30T04:52:34.516050Z",
     "iopub.status.busy": "2022-03-30T04:52:34.514811Z",
     "iopub.status.idle": "2022-03-30T04:52:34.523832Z",
     "shell.execute_reply": "2022-03-30T04:52:34.524530Z",
     "shell.execute_reply.started": "2022-03-30T04:51:17.324789Z"
    },
    "papermill": {
     "duration": 0.052385,
     "end_time": "2022-03-30T04:52:34.524830",
     "exception": false,
     "start_time": "2022-03-30T04:52:34.472445",
     "status": "completed"
    },
    "tags": []
   },
   "outputs": [
    {
     "data": {
      "text/plain": [
       "Earth     4602\n",
       "Europa    2131\n",
       "Mars      1759\n",
       "Name: HomePlanet, dtype: int64"
      ]
     },
     "execution_count": 8,
     "metadata": {},
     "output_type": "execute_result"
    }
   ],
   "source": [
    "train.select_dtypes(include = 'object').columns\n",
    "\n",
    "\n",
    "train['HomePlanet'].value_counts()"
   ]
  },
  {
   "cell_type": "code",
   "execution_count": 9,
   "id": "04cfa5d1",
   "metadata": {
    "execution": {
     "iopub.execute_input": "2022-03-30T04:52:34.591803Z",
     "iopub.status.busy": "2022-03-30T04:52:34.590868Z",
     "iopub.status.idle": "2022-03-30T04:52:34.600018Z",
     "shell.execute_reply": "2022-03-30T04:52:34.600550Z",
     "shell.execute_reply.started": "2022-03-30T04:51:17.373676Z"
    },
    "papermill": {
     "duration": 0.044122,
     "end_time": "2022-03-30T04:52:34.600776",
     "exception": false,
     "start_time": "2022-03-30T04:52:34.556654",
     "status": "completed"
    },
    "tags": []
   },
   "outputs": [
    {
     "data": {
      "text/plain": [
       "False    5439\n",
       "True     3037\n",
       "Name: CryoSleep, dtype: int64"
      ]
     },
     "execution_count": 9,
     "metadata": {},
     "output_type": "execute_result"
    }
   ],
   "source": [
    "train['CryoSleep'].value_counts()"
   ]
  },
  {
   "cell_type": "code",
   "execution_count": 10,
   "id": "18e4be2e",
   "metadata": {
    "execution": {
     "iopub.execute_input": "2022-03-30T04:52:34.669433Z",
     "iopub.status.busy": "2022-03-30T04:52:34.668175Z",
     "iopub.status.idle": "2022-03-30T04:52:34.677673Z",
     "shell.execute_reply": "2022-03-30T04:52:34.678206Z",
     "shell.execute_reply.started": "2022-03-30T04:51:17.421275Z"
    },
    "papermill": {
     "duration": 0.045322,
     "end_time": "2022-03-30T04:52:34.678409",
     "exception": false,
     "start_time": "2022-03-30T04:52:34.633087",
     "status": "completed"
    },
    "tags": []
   },
   "outputs": [
    {
     "data": {
      "text/plain": [
       "TRAPPIST-1e      5915\n",
       "55 Cancri e      1800\n",
       "PSO J318.5-22     796\n",
       "Name: Destination, dtype: int64"
      ]
     },
     "execution_count": 10,
     "metadata": {},
     "output_type": "execute_result"
    }
   ],
   "source": [
    "train['Destination'].value_counts()"
   ]
  },
  {
   "cell_type": "code",
   "execution_count": 11,
   "id": "16f10b8c",
   "metadata": {
    "execution": {
     "iopub.execute_input": "2022-03-30T04:52:34.742937Z",
     "iopub.status.busy": "2022-03-30T04:52:34.740740Z",
     "iopub.status.idle": "2022-03-30T04:52:34.750155Z",
     "shell.execute_reply": "2022-03-30T04:52:34.750691Z",
     "shell.execute_reply.started": "2022-03-30T04:51:17.479985Z"
    },
    "papermill": {
     "duration": 0.043927,
     "end_time": "2022-03-30T04:52:34.750894",
     "exception": false,
     "start_time": "2022-03-30T04:52:34.706967",
     "status": "completed"
    },
    "tags": []
   },
   "outputs": [
    {
     "data": {
      "text/plain": [
       "False    8291\n",
       "True      199\n",
       "Name: VIP, dtype: int64"
      ]
     },
     "execution_count": 11,
     "metadata": {},
     "output_type": "execute_result"
    }
   ],
   "source": [
    "train['VIP'].value_counts()"
   ]
  },
  {
   "cell_type": "code",
   "execution_count": 12,
   "id": "77e85bb2",
   "metadata": {
    "execution": {
     "iopub.execute_input": "2022-03-30T04:52:34.818730Z",
     "iopub.status.busy": "2022-03-30T04:52:34.818100Z",
     "iopub.status.idle": "2022-03-30T04:52:36.007206Z",
     "shell.execute_reply": "2022-03-30T04:52:36.007724Z",
     "shell.execute_reply.started": "2022-03-30T04:51:17.528492Z"
    },
    "papermill": {
     "duration": 1.22413,
     "end_time": "2022-03-30T04:52:36.007938",
     "exception": false,
     "start_time": "2022-03-30T04:52:34.783808",
     "status": "completed"
    },
    "tags": []
   },
   "outputs": [
    {
     "data": {
      "image/png": "[encoded data removed]",
      "text/plain": [
       "<Figure size 720x576 with 6 Axes>"
      ]
     },
     "metadata": {
      "needs_background": "light"
     },
     "output_type": "display_data"
    }
   ],
   "source": [
    "train.hist(bins = 50, figsize = (10,8))\n",
    "plt.show()"
   ]
  },
  {
   "cell_type": "code",
   "execution_count": 13,
   "id": "4c750e54",
   "metadata": {
    "execution": {
     "iopub.execute_input": "2022-03-30T04:52:36.076874Z",
     "iopub.status.busy": "2022-03-30T04:52:36.076256Z",
     "iopub.status.idle": "2022-03-30T04:52:36.108173Z",
     "shell.execute_reply": "2022-03-30T04:52:36.108573Z",
     "shell.execute_reply.started": "2022-03-30T04:51:18.556420Z"
    },
    "papermill": {
     "duration": 0.067384,
     "end_time": "2022-03-30T04:52:36.108752",
     "exception": false,
     "start_time": "2022-03-30T04:52:36.041368",
     "status": "completed"
    },
    "tags": []
   },
   "outputs": [
    {
     "data": {
      "text/html": [
       "<div>\n",
       "<style scoped>\n",
       "    .dataframe tbody tr th:only-of-type {\n",
       "        vertical-align: middle;\n",
       "    }\n",
       "\n",
       "    .dataframe tbody tr th {\n",
       "        vertical-align: top;\n",
       "    }\n",
       "\n",
       "    .dataframe thead th {\n",
       "        text-align: right;\n",
       "    }\n",
       "</style>\n",
       "<table border=\"1\" class=\"dataframe\">\n",
       "  <thead>\n",
       "    <tr style=\"text-align: right;\">\n",
       "      <th></th>\n",
       "      <th>Age</th>\n",
       "      <th>RoomService</th>\n",
       "      <th>FoodCourt</th>\n",
       "      <th>ShoppingMall</th>\n",
       "      <th>Spa</th>\n",
       "      <th>VRDeck</th>\n",
       "    </tr>\n",
       "  </thead>\n",
       "  <tbody>\n",
       "    <tr>\n",
       "      <th>count</th>\n",
       "      <td>8514.000000</td>\n",
       "      <td>8512.000000</td>\n",
       "      <td>8510.000000</td>\n",
       "      <td>8485.000000</td>\n",
       "      <td>8510.000000</td>\n",
       "      <td>8505.000000</td>\n",
       "    </tr>\n",
       "    <tr>\n",
       "      <th>mean</th>\n",
       "      <td>28.827930</td>\n",
       "      <td>224.687617</td>\n",
       "      <td>458.077203</td>\n",
       "      <td>173.729169</td>\n",
       "      <td>311.138778</td>\n",
       "      <td>304.854791</td>\n",
       "    </tr>\n",
       "    <tr>\n",
       "      <th>std</th>\n",
       "      <td>14.489021</td>\n",
       "      <td>666.717663</td>\n",
       "      <td>1611.489240</td>\n",
       "      <td>604.696458</td>\n",
       "      <td>1136.705535</td>\n",
       "      <td>1145.717189</td>\n",
       "    </tr>\n",
       "    <tr>\n",
       "      <th>min</th>\n",
       "      <td>0.000000</td>\n",
       "      <td>0.000000</td>\n",
       "      <td>0.000000</td>\n",
       "      <td>0.000000</td>\n",
       "      <td>0.000000</td>\n",
       "      <td>0.000000</td>\n",
       "    </tr>\n",
       "    <tr>\n",
       "      <th>25%</th>\n",
       "      <td>19.000000</td>\n",
       "      <td>0.000000</td>\n",
       "      <td>0.000000</td>\n",
       "      <td>0.000000</td>\n",
       "      <td>0.000000</td>\n",
       "      <td>0.000000</td>\n",
       "    </tr>\n",
       "    <tr>\n",
       "      <th>50%</th>\n",
       "      <td>27.000000</td>\n",
       "      <td>0.000000</td>\n",
       "      <td>0.000000</td>\n",
       "      <td>0.000000</td>\n",
       "      <td>0.000000</td>\n",
       "      <td>0.000000</td>\n",
       "    </tr>\n",
       "    <tr>\n",
       "      <th>75%</th>\n",
       "      <td>38.000000</td>\n",
       "      <td>47.000000</td>\n",
       "      <td>76.000000</td>\n",
       "      <td>27.000000</td>\n",
       "      <td>59.000000</td>\n",
       "      <td>46.000000</td>\n",
       "    </tr>\n",
       "    <tr>\n",
       "      <th>max</th>\n",
       "      <td>79.000000</td>\n",
       "      <td>14327.000000</td>\n",
       "      <td>29813.000000</td>\n",
       "      <td>23492.000000</td>\n",
       "      <td>22408.000000</td>\n",
       "      <td>24133.000000</td>\n",
       "    </tr>\n",
       "  </tbody>\n",
       "</table>\n",
       "</div>"
      ],
      "text/plain": [
       "               Age   RoomService     FoodCourt  ShoppingMall           Spa  \\\n",
       "count  8514.000000   8512.000000   8510.000000   8485.000000   8510.000000   \n",
       "mean     28.827930    224.687617    458.077203    173.729169    311.138778   \n",
       "std      14.489021    666.717663   1611.489240    604.696458   1136.705535   \n",
       "min       0.000000      0.000000      0.000000      0.000000      0.000000   \n",
       "25%      19.000000      0.000000      0.000000      0.000000      0.000000   \n",
       "50%      27.000000      0.000000      0.000000      0.000000      0.000000   \n",
       "75%      38.000000     47.000000     76.000000     27.000000     59.000000   \n",
       "max      79.000000  14327.000000  29813.000000  23492.000000  22408.000000   \n",
       "\n",
       "             VRDeck  \n",
       "count   8505.000000  \n",
       "mean     304.854791  \n",
       "std     1145.717189  \n",
       "min        0.000000  \n",
       "25%        0.000000  \n",
       "50%        0.000000  \n",
       "75%       46.000000  \n",
       "max    24133.000000  "
      ]
     },
     "execution_count": 13,
     "metadata": {},
     "output_type": "execute_result"
    }
   ],
   "source": [
    "train.describe()"
   ]
  },
  {
   "cell_type": "code",
   "execution_count": 14,
   "id": "51b70c4d",
   "metadata": {
    "execution": {
     "iopub.execute_input": "2022-03-30T04:52:36.174742Z",
     "iopub.status.busy": "2022-03-30T04:52:36.174166Z",
     "iopub.status.idle": "2022-03-30T04:52:36.177730Z",
     "shell.execute_reply": "2022-03-30T04:52:36.178231Z",
     "shell.execute_reply.started": "2022-03-30T04:51:18.586394Z"
    },
    "papermill": {
     "duration": 0.037974,
     "end_time": "2022-03-30T04:52:36.178400",
     "exception": false,
     "start_time": "2022-03-30T04:52:36.140426",
     "status": "completed"
    },
    "tags": []
   },
   "outputs": [],
   "source": [
    "#train[train.Spa > 10000]"
   ]
  },
  {
   "cell_type": "code",
   "execution_count": 15,
   "id": "2e8c7536",
   "metadata": {
    "execution": {
     "iopub.execute_input": "2022-03-30T04:52:36.243973Z",
     "iopub.status.busy": "2022-03-30T04:52:36.243191Z",
     "iopub.status.idle": "2022-03-30T04:52:36.531298Z",
     "shell.execute_reply": "2022-03-30T04:52:36.530450Z",
     "shell.execute_reply.started": "2022-03-30T04:51:18.591994Z"
    },
    "papermill": {
     "duration": 0.322325,
     "end_time": "2022-03-30T04:52:36.531449",
     "exception": false,
     "start_time": "2022-03-30T04:52:36.209124",
     "status": "completed"
    },
    "tags": []
   },
   "outputs": [
    {
     "data": {
      "image/png": "[encoded data removed]",
      "text/plain": [
       "<Figure size 432x288 with 2 Axes>"
      ]
     },
     "metadata": {
      "needs_background": "light"
     },
     "output_type": "display_data"
    }
   ],
   "source": [
    "sns.heatmap(train.corr(), cmap = 'coolwarm')\n",
    "plt.show()"
   ]
  },
  {
   "cell_type": "code",
   "execution_count": 16,
   "id": "db0b8723",
   "metadata": {
    "execution": {
     "iopub.execute_input": "2022-03-30T04:52:36.603175Z",
     "iopub.status.busy": "2022-03-30T04:52:36.602517Z",
     "iopub.status.idle": "2022-03-30T04:52:36.616218Z",
     "shell.execute_reply": "2022-03-30T04:52:36.616809Z",
     "shell.execute_reply.started": "2022-03-30T04:51:18.869206Z"
    },
    "papermill": {
     "duration": 0.052675,
     "end_time": "2022-03-30T04:52:36.616988",
     "exception": false,
     "start_time": "2022-03-30T04:52:36.564313",
     "status": "completed"
    },
    "tags": []
   },
   "outputs": [
    {
     "data": {
      "text/html": [
       "<div>\n",
       "<style scoped>\n",
       "    .dataframe tbody tr th:only-of-type {\n",
       "        vertical-align: middle;\n",
       "    }\n",
       "\n",
       "    .dataframe tbody tr th {\n",
       "        vertical-align: top;\n",
       "    }\n",
       "\n",
       "    .dataframe thead th {\n",
       "        text-align: right;\n",
       "    }\n",
       "</style>\n",
       "<table border=\"1\" class=\"dataframe\">\n",
       "  <thead>\n",
       "    <tr style=\"text-align: right;\">\n",
       "      <th></th>\n",
       "      <th>index</th>\n",
       "      <th>Transported</th>\n",
       "    </tr>\n",
       "  </thead>\n",
       "  <tbody>\n",
       "    <tr>\n",
       "      <th>0</th>\n",
       "      <td>RoomService</td>\n",
       "      <td>-0.244611</td>\n",
       "    </tr>\n",
       "    <tr>\n",
       "      <th>1</th>\n",
       "      <td>Spa</td>\n",
       "      <td>-0.221131</td>\n",
       "    </tr>\n",
       "    <tr>\n",
       "      <th>2</th>\n",
       "      <td>VRDeck</td>\n",
       "      <td>-0.207075</td>\n",
       "    </tr>\n",
       "    <tr>\n",
       "      <th>3</th>\n",
       "      <td>Age</td>\n",
       "      <td>-0.075026</td>\n",
       "    </tr>\n",
       "    <tr>\n",
       "      <th>4</th>\n",
       "      <td>ShoppingMall</td>\n",
       "      <td>0.010141</td>\n",
       "    </tr>\n",
       "    <tr>\n",
       "      <th>5</th>\n",
       "      <td>FoodCourt</td>\n",
       "      <td>0.046566</td>\n",
       "    </tr>\n",
       "    <tr>\n",
       "      <th>6</th>\n",
       "      <td>Transported</td>\n",
       "      <td>1.000000</td>\n",
       "    </tr>\n",
       "  </tbody>\n",
       "</table>\n",
       "</div>"
      ],
      "text/plain": [
       "          index  Transported\n",
       "0   RoomService    -0.244611\n",
       "1           Spa    -0.221131\n",
       "2        VRDeck    -0.207075\n",
       "3           Age    -0.075026\n",
       "4  ShoppingMall     0.010141\n",
       "5     FoodCourt     0.046566\n",
       "6   Transported     1.000000"
      ]
     },
     "execution_count": 16,
     "metadata": {},
     "output_type": "execute_result"
    }
   ],
   "source": [
    "train.corr()['Transported'].sort_values().reset_index()"
   ]
  },
  {
   "cell_type": "markdown",
   "id": "75bf6b08",
   "metadata": {
    "papermill": {
     "duration": 0.030245,
     "end_time": "2022-03-30T04:52:36.679268",
     "exception": false,
     "start_time": "2022-03-30T04:52:36.649023",
     "status": "completed"
    },
    "tags": []
   },
   "source": [
    "# FE"
   ]
  },
  {
   "cell_type": "code",
   "execution_count": 17,
   "id": "b0b7dcdb",
   "metadata": {
    "execution": {
     "iopub.execute_input": "2022-03-30T04:52:36.745806Z",
     "iopub.status.busy": "2022-03-30T04:52:36.745188Z",
     "iopub.status.idle": "2022-03-30T04:52:36.777385Z",
     "shell.execute_reply": "2022-03-30T04:52:36.777866Z",
     "shell.execute_reply.started": "2022-03-30T04:51:18.886916Z"
    },
    "papermill": {
     "duration": 0.067729,
     "end_time": "2022-03-30T04:52:36.778075",
     "exception": false,
     "start_time": "2022-03-30T04:52:36.710346",
     "status": "completed"
    },
    "tags": []
   },
   "outputs": [
    {
     "name": "stdout",
     "output_type": "stream",
     "text": [
      "(12970, 14)\n"
     ]
    }
   ],
   "source": [
    "df = pd.concat([train, test])\n",
    "\n",
    "df['Transported'] = df['Transported'].fillna(-1).astype('int')\n",
    "df['CryoSleep'] = df['CryoSleep'].fillna(-1).astype('int')\n",
    "df['VIP'] = df['VIP'].fillna(-1).astype('int')\n",
    "\n",
    "obj_cols = ['HomePlanet',   'Destination', 'Name','Cabin']\n",
    "for c in obj_cols:\n",
    "    df[c] = df[c].fillna('None')\n",
    "\n",
    "num_cols = ['Age','RoomService', 'FoodCourt', 'ShoppingMall', 'Spa', 'VRDeck']\n",
    "for c in num_cols:\n",
    "    df[c] = df[c].fillna(df[c].median())\n",
    "    \n",
    "  \n",
    "print(df.shape)"
   ]
  },
  {
   "cell_type": "code",
   "execution_count": 18,
   "id": "7ff387a1",
   "metadata": {
    "execution": {
     "iopub.execute_input": "2022-03-30T04:52:36.870946Z",
     "iopub.status.busy": "2022-03-30T04:52:36.859124Z",
     "iopub.status.idle": "2022-03-30T04:52:36.897665Z",
     "shell.execute_reply": "2022-03-30T04:52:36.897143Z",
     "shell.execute_reply.started": "2022-03-30T04:51:18.919374Z"
    },
    "papermill": {
     "duration": 0.088512,
     "end_time": "2022-03-30T04:52:36.897851",
     "exception": false,
     "start_time": "2022-03-30T04:52:36.809339",
     "status": "completed"
    },
    "tags": []
   },
   "outputs": [
    {
     "data": {
      "text/html": [
       "<div>\n",
       "<style scoped>\n",
       "    .dataframe tbody tr th:only-of-type {\n",
       "        vertical-align: middle;\n",
       "    }\n",
       "\n",
       "    .dataframe tbody tr th {\n",
       "        vertical-align: top;\n",
       "    }\n",
       "\n",
       "    .dataframe thead th {\n",
       "        text-align: right;\n",
       "    }\n",
       "</style>\n",
       "<table border=\"1\" class=\"dataframe\">\n",
       "  <thead>\n",
       "    <tr style=\"text-align: right;\">\n",
       "      <th></th>\n",
       "      <th>PassengerId</th>\n",
       "      <th>HomePlanet</th>\n",
       "      <th>CryoSleep</th>\n",
       "      <th>Cabin</th>\n",
       "      <th>Destination</th>\n",
       "      <th>Age</th>\n",
       "      <th>VIP</th>\n",
       "      <th>RoomService</th>\n",
       "      <th>FoodCourt</th>\n",
       "      <th>ShoppingMall</th>\n",
       "      <th>Spa</th>\n",
       "      <th>VRDeck</th>\n",
       "      <th>Name</th>\n",
       "      <th>Transported</th>\n",
       "      <th>deck</th>\n",
       "      <th>num</th>\n",
       "      <th>side</th>\n",
       "      <th>total_spent</th>\n",
       "    </tr>\n",
       "  </thead>\n",
       "  <tbody>\n",
       "    <tr>\n",
       "      <th>0</th>\n",
       "      <td>0001_01</td>\n",
       "      <td>Europa</td>\n",
       "      <td>0</td>\n",
       "      <td>B/0/P</td>\n",
       "      <td>TRAPPIST-1e</td>\n",
       "      <td>39.0</td>\n",
       "      <td>0</td>\n",
       "      <td>0.0</td>\n",
       "      <td>0.0</td>\n",
       "      <td>0.0</td>\n",
       "      <td>0.0</td>\n",
       "      <td>0.0</td>\n",
       "      <td>Maham Ofracculy</td>\n",
       "      <td>0</td>\n",
       "      <td>B</td>\n",
       "      <td>0</td>\n",
       "      <td>P</td>\n",
       "      <td>0.0</td>\n",
       "    </tr>\n",
       "    <tr>\n",
       "      <th>1</th>\n",
       "      <td>0002_01</td>\n",
       "      <td>Earth</td>\n",
       "      <td>0</td>\n",
       "      <td>F/0/S</td>\n",
       "      <td>TRAPPIST-1e</td>\n",
       "      <td>24.0</td>\n",
       "      <td>0</td>\n",
       "      <td>109.0</td>\n",
       "      <td>9.0</td>\n",
       "      <td>25.0</td>\n",
       "      <td>549.0</td>\n",
       "      <td>44.0</td>\n",
       "      <td>Juanna Vines</td>\n",
       "      <td>1</td>\n",
       "      <td>F</td>\n",
       "      <td>0</td>\n",
       "      <td>S</td>\n",
       "      <td>736.0</td>\n",
       "    </tr>\n",
       "    <tr>\n",
       "      <th>2</th>\n",
       "      <td>0003_01</td>\n",
       "      <td>Europa</td>\n",
       "      <td>0</td>\n",
       "      <td>A/0/S</td>\n",
       "      <td>TRAPPIST-1e</td>\n",
       "      <td>58.0</td>\n",
       "      <td>1</td>\n",
       "      <td>43.0</td>\n",
       "      <td>3576.0</td>\n",
       "      <td>0.0</td>\n",
       "      <td>6715.0</td>\n",
       "      <td>49.0</td>\n",
       "      <td>Altark Susent</td>\n",
       "      <td>0</td>\n",
       "      <td>A</td>\n",
       "      <td>0</td>\n",
       "      <td>S</td>\n",
       "      <td>10383.0</td>\n",
       "    </tr>\n",
       "    <tr>\n",
       "      <th>3</th>\n",
       "      <td>0003_02</td>\n",
       "      <td>Europa</td>\n",
       "      <td>0</td>\n",
       "      <td>A/0/S</td>\n",
       "      <td>TRAPPIST-1e</td>\n",
       "      <td>33.0</td>\n",
       "      <td>0</td>\n",
       "      <td>0.0</td>\n",
       "      <td>1283.0</td>\n",
       "      <td>371.0</td>\n",
       "      <td>3329.0</td>\n",
       "      <td>193.0</td>\n",
       "      <td>Solam Susent</td>\n",
       "      <td>0</td>\n",
       "      <td>A</td>\n",
       "      <td>0</td>\n",
       "      <td>S</td>\n",
       "      <td>5176.0</td>\n",
       "    </tr>\n",
       "    <tr>\n",
       "      <th>4</th>\n",
       "      <td>0004_01</td>\n",
       "      <td>Earth</td>\n",
       "      <td>0</td>\n",
       "      <td>F/1/S</td>\n",
       "      <td>TRAPPIST-1e</td>\n",
       "      <td>16.0</td>\n",
       "      <td>0</td>\n",
       "      <td>303.0</td>\n",
       "      <td>70.0</td>\n",
       "      <td>151.0</td>\n",
       "      <td>565.0</td>\n",
       "      <td>2.0</td>\n",
       "      <td>Willy Santantines</td>\n",
       "      <td>1</td>\n",
       "      <td>F</td>\n",
       "      <td>1</td>\n",
       "      <td>S</td>\n",
       "      <td>1091.0</td>\n",
       "    </tr>\n",
       "  </tbody>\n",
       "</table>\n",
       "</div>"
      ],
      "text/plain": [
       "  PassengerId HomePlanet  CryoSleep  Cabin  Destination   Age  VIP  \\\n",
       "0     0001_01     Europa          0  B/0/P  TRAPPIST-1e  39.0    0   \n",
       "1     0002_01      Earth          0  F/0/S  TRAPPIST-1e  24.0    0   \n",
       "2     0003_01     Europa          0  A/0/S  TRAPPIST-1e  58.0    1   \n",
       "3     0003_02     Europa          0  A/0/S  TRAPPIST-1e  33.0    0   \n",
       "4     0004_01      Earth          0  F/1/S  TRAPPIST-1e  16.0    0   \n",
       "\n",
       "   RoomService  FoodCourt  ShoppingMall     Spa  VRDeck               Name  \\\n",
       "0          0.0        0.0           0.0     0.0     0.0    Maham Ofracculy   \n",
       "1        109.0        9.0          25.0   549.0    44.0       Juanna Vines   \n",
       "2         43.0     3576.0           0.0  6715.0    49.0      Altark Susent   \n",
       "3          0.0     1283.0         371.0  3329.0   193.0       Solam Susent   \n",
       "4        303.0       70.0         151.0   565.0     2.0  Willy Santantines   \n",
       "\n",
       "   Transported deck  num side  total_spent  \n",
       "0            0    B    0    P          0.0  \n",
       "1            1    F    0    S        736.0  \n",
       "2            0    A    0    S      10383.0  \n",
       "3            0    A    0    S       5176.0  \n",
       "4            1    F    1    S       1091.0  "
      ]
     },
     "execution_count": 18,
     "metadata": {},
     "output_type": "execute_result"
    }
   ],
   "source": [
    "df['deck'] = df['Cabin'].astype(str).apply(lambda x: x.split('/')[0])\n",
    "df['num'] = df['Cabin'].astype(str).apply(lambda x: int(x.split('/')[1]) if x != 'None' else -1)\n",
    "df['side'] = df['Cabin'].astype(str).apply(lambda x: x.split('/')[-1])\n",
    "\n",
    "df['total_spent'] = df[['RoomService', 'FoodCourt', 'ShoppingMall', 'Spa', 'VRDeck']].sum(axis = 1)\n",
    "#df['Age'] = pd.cut(df['Age'], 8)\n",
    "df.head()"
   ]
  },
  {
   "cell_type": "markdown",
   "id": "022cb6b4",
   "metadata": {
    "papermill": {
     "duration": 0.032602,
     "end_time": "2022-03-30T04:52:36.965741",
     "exception": false,
     "start_time": "2022-03-30T04:52:36.933139",
     "status": "completed"
    },
    "tags": []
   },
   "source": [
    "# Pre-processing"
   ]
  },
  {
   "cell_type": "code",
   "execution_count": 19,
   "id": "d842723b",
   "metadata": {
    "execution": {
     "iopub.execute_input": "2022-03-30T04:52:37.042499Z",
     "iopub.status.busy": "2022-03-30T04:52:37.041748Z",
     "iopub.status.idle": "2022-03-30T04:52:37.342640Z",
     "shell.execute_reply": "2022-03-30T04:52:37.343130Z",
     "shell.execute_reply.started": "2022-03-30T04:51:18.968832Z"
    },
    "papermill": {
     "duration": 0.342704,
     "end_time": "2022-03-30T04:52:37.343299",
     "exception": false,
     "start_time": "2022-03-30T04:52:37.000595",
     "status": "completed"
    },
    "tags": []
   },
   "outputs": [
    {
     "data": {
      "text/html": [
       "<div>\n",
       "<style scoped>\n",
       "    .dataframe tbody tr th:only-of-type {\n",
       "        vertical-align: middle;\n",
       "    }\n",
       "\n",
       "    .dataframe tbody tr th {\n",
       "        vertical-align: top;\n",
       "    }\n",
       "\n",
       "    .dataframe thead th {\n",
       "        text-align: right;\n",
       "    }\n",
       "</style>\n",
       "<table border=\"1\" class=\"dataframe\">\n",
       "  <thead>\n",
       "    <tr style=\"text-align: right;\">\n",
       "      <th></th>\n",
       "      <th>PassengerId</th>\n",
       "      <th>HomePlanet</th>\n",
       "      <th>CryoSleep</th>\n",
       "      <th>Cabin</th>\n",
       "      <th>Destination</th>\n",
       "      <th>Age</th>\n",
       "      <th>VIP</th>\n",
       "      <th>RoomService</th>\n",
       "      <th>FoodCourt</th>\n",
       "      <th>ShoppingMall</th>\n",
       "      <th>Spa</th>\n",
       "      <th>VRDeck</th>\n",
       "      <th>Name</th>\n",
       "      <th>Transported</th>\n",
       "      <th>deck</th>\n",
       "      <th>num</th>\n",
       "      <th>side</th>\n",
       "      <th>total_spent</th>\n",
       "    </tr>\n",
       "  </thead>\n",
       "  <tbody>\n",
       "    <tr>\n",
       "      <th>0</th>\n",
       "      <td>0001_01</td>\n",
       "      <td>1</td>\n",
       "      <td>0</td>\n",
       "      <td>B/0/P</td>\n",
       "      <td>3</td>\n",
       "      <td>39</td>\n",
       "      <td>0</td>\n",
       "      <td>0.0</td>\n",
       "      <td>0.0</td>\n",
       "      <td>0.0</td>\n",
       "      <td>0.0</td>\n",
       "      <td>0.0</td>\n",
       "      <td>Maham Ofracculy</td>\n",
       "      <td>0</td>\n",
       "      <td>1</td>\n",
       "      <td>0</td>\n",
       "      <td>1</td>\n",
       "      <td>0.0</td>\n",
       "    </tr>\n",
       "    <tr>\n",
       "      <th>1</th>\n",
       "      <td>0002_01</td>\n",
       "      <td>0</td>\n",
       "      <td>0</td>\n",
       "      <td>F/0/S</td>\n",
       "      <td>3</td>\n",
       "      <td>24</td>\n",
       "      <td>0</td>\n",
       "      <td>109.0</td>\n",
       "      <td>9.0</td>\n",
       "      <td>25.0</td>\n",
       "      <td>549.0</td>\n",
       "      <td>44.0</td>\n",
       "      <td>Juanna Vines</td>\n",
       "      <td>1</td>\n",
       "      <td>5</td>\n",
       "      <td>0</td>\n",
       "      <td>2</td>\n",
       "      <td>736.0</td>\n",
       "    </tr>\n",
       "    <tr>\n",
       "      <th>2</th>\n",
       "      <td>0003_01</td>\n",
       "      <td>1</td>\n",
       "      <td>0</td>\n",
       "      <td>A/0/S</td>\n",
       "      <td>3</td>\n",
       "      <td>58</td>\n",
       "      <td>1</td>\n",
       "      <td>43.0</td>\n",
       "      <td>3576.0</td>\n",
       "      <td>0.0</td>\n",
       "      <td>6715.0</td>\n",
       "      <td>49.0</td>\n",
       "      <td>Altark Susent</td>\n",
       "      <td>0</td>\n",
       "      <td>0</td>\n",
       "      <td>0</td>\n",
       "      <td>2</td>\n",
       "      <td>10383.0</td>\n",
       "    </tr>\n",
       "    <tr>\n",
       "      <th>3</th>\n",
       "      <td>0003_02</td>\n",
       "      <td>1</td>\n",
       "      <td>0</td>\n",
       "      <td>A/0/S</td>\n",
       "      <td>3</td>\n",
       "      <td>33</td>\n",
       "      <td>0</td>\n",
       "      <td>0.0</td>\n",
       "      <td>1283.0</td>\n",
       "      <td>371.0</td>\n",
       "      <td>3329.0</td>\n",
       "      <td>193.0</td>\n",
       "      <td>Solam Susent</td>\n",
       "      <td>0</td>\n",
       "      <td>0</td>\n",
       "      <td>0</td>\n",
       "      <td>2</td>\n",
       "      <td>5176.0</td>\n",
       "    </tr>\n",
       "    <tr>\n",
       "      <th>4</th>\n",
       "      <td>0004_01</td>\n",
       "      <td>0</td>\n",
       "      <td>0</td>\n",
       "      <td>F/1/S</td>\n",
       "      <td>3</td>\n",
       "      <td>16</td>\n",
       "      <td>0</td>\n",
       "      <td>303.0</td>\n",
       "      <td>70.0</td>\n",
       "      <td>151.0</td>\n",
       "      <td>565.0</td>\n",
       "      <td>2.0</td>\n",
       "      <td>Willy Santantines</td>\n",
       "      <td>1</td>\n",
       "      <td>5</td>\n",
       "      <td>1</td>\n",
       "      <td>2</td>\n",
       "      <td>1091.0</td>\n",
       "    </tr>\n",
       "  </tbody>\n",
       "</table>\n",
       "</div>"
      ],
      "text/plain": [
       "  PassengerId  HomePlanet  CryoSleep  Cabin  Destination  Age  VIP  \\\n",
       "0     0001_01           1          0  B/0/P            3   39    0   \n",
       "1     0002_01           0          0  F/0/S            3   24    0   \n",
       "2     0003_01           1          0  A/0/S            3   58    1   \n",
       "3     0003_02           1          0  A/0/S            3   33    0   \n",
       "4     0004_01           0          0  F/1/S            3   16    0   \n",
       "\n",
       "   RoomService  FoodCourt  ShoppingMall     Spa  VRDeck               Name  \\\n",
       "0          0.0        0.0           0.0     0.0     0.0    Maham Ofracculy   \n",
       "1        109.0        9.0          25.0   549.0    44.0       Juanna Vines   \n",
       "2         43.0     3576.0           0.0  6715.0    49.0      Altark Susent   \n",
       "3          0.0     1283.0         371.0  3329.0   193.0       Solam Susent   \n",
       "4        303.0       70.0         151.0   565.0     2.0  Willy Santantines   \n",
       "\n",
       "   Transported  deck  num  side  total_spent  \n",
       "0            0     1    0     1          0.0  \n",
       "1            1     5    0     2        736.0  \n",
       "2            0     0    0     2      10383.0  \n",
       "3            0     0    0     2       5176.0  \n",
       "4            1     5    1     2       1091.0  "
      ]
     },
     "execution_count": 19,
     "metadata": {},
     "output_type": "execute_result"
    }
   ],
   "source": [
    "from sklearn.preprocessing import LabelEncoder, StandardScaler\n",
    "le = LabelEncoder()\n",
    "\n",
    "for c in ['deck','side','Destination','HomePlanet','Age']:\n",
    "    df[c] = le.fit_transform(df[c])\n",
    "\n",
    "df.head()    "
   ]
  },
  {
   "cell_type": "code",
   "execution_count": 20,
   "id": "fe08b757",
   "metadata": {
    "execution": {
     "iopub.execute_input": "2022-03-30T04:52:37.417330Z",
     "iopub.status.busy": "2022-03-30T04:52:37.412202Z",
     "iopub.status.idle": "2022-03-30T04:52:37.419476Z",
     "shell.execute_reply": "2022-03-30T04:52:37.419981Z",
     "shell.execute_reply.started": "2022-03-30T04:51:19.006793Z"
    },
    "papermill": {
     "duration": 0.043955,
     "end_time": "2022-03-30T04:52:37.420197",
     "exception": false,
     "start_time": "2022-03-30T04:52:37.376242",
     "status": "completed"
    },
    "tags": []
   },
   "outputs": [
    {
     "data": {
      "text/plain": [
       "True     144\n",
       "False     34\n",
       "Name: Transported, dtype: int64"
      ]
     },
     "execution_count": 20,
     "metadata": {},
     "output_type": "execute_result"
    }
   ],
   "source": [
    "train[train.Age < 1]['Transported'].value_counts()"
   ]
  },
  {
   "cell_type": "code",
   "execution_count": 21,
   "id": "cbe6f392",
   "metadata": {
    "execution": {
     "iopub.execute_input": "2022-03-30T04:52:37.494379Z",
     "iopub.status.busy": "2022-03-30T04:52:37.493540Z",
     "iopub.status.idle": "2022-03-30T04:52:37.503454Z",
     "shell.execute_reply": "2022-03-30T04:52:37.503996Z",
     "shell.execute_reply.started": "2022-03-30T04:51:19.019227Z"
    },
    "papermill": {
     "duration": 0.048162,
     "end_time": "2022-03-30T04:52:37.504213",
     "exception": false,
     "start_time": "2022-03-30T04:52:37.456051",
     "status": "completed"
    },
    "tags": []
   },
   "outputs": [
    {
     "name": "stdout",
     "output_type": "stream",
     "text": [
      "(8693, 14)\n",
      "(4277, 14)\n"
     ]
    }
   ],
   "source": [
    "train = df[:len(train)]\n",
    "test = df[-len(test):]\n",
    "\n",
    "X_train = train.drop(['PassengerId','Cabin','Name','Transported'], axis = 1)\n",
    "y_train = train.Transported\n",
    "\n",
    "X_test = test.drop(['PassengerId','Cabin','Name','Transported'], axis = 1)\n",
    "\n",
    "print(X_train.shape)\n",
    "print(X_test.shape)"
   ]
  },
  {
   "cell_type": "code",
   "execution_count": 22,
   "id": "60985653",
   "metadata": {
    "execution": {
     "iopub.execute_input": "2022-03-30T04:52:37.578817Z",
     "iopub.status.busy": "2022-03-30T04:52:37.578224Z",
     "iopub.status.idle": "2022-03-30T04:52:37.595398Z",
     "shell.execute_reply": "2022-03-30T04:52:37.595842Z",
     "shell.execute_reply.started": "2022-03-30T04:51:19.035684Z"
    },
    "papermill": {
     "duration": 0.057193,
     "end_time": "2022-03-30T04:52:37.596029",
     "exception": false,
     "start_time": "2022-03-30T04:52:37.538836",
     "status": "completed"
    },
    "tags": []
   },
   "outputs": [
    {
     "data": {
      "text/html": [
       "<div>\n",
       "<style scoped>\n",
       "    .dataframe tbody tr th:only-of-type {\n",
       "        vertical-align: middle;\n",
       "    }\n",
       "\n",
       "    .dataframe tbody tr th {\n",
       "        vertical-align: top;\n",
       "    }\n",
       "\n",
       "    .dataframe thead th {\n",
       "        text-align: right;\n",
       "    }\n",
       "</style>\n",
       "<table border=\"1\" class=\"dataframe\">\n",
       "  <thead>\n",
       "    <tr style=\"text-align: right;\">\n",
       "      <th></th>\n",
       "      <th>HomePlanet</th>\n",
       "      <th>CryoSleep</th>\n",
       "      <th>Destination</th>\n",
       "      <th>Age</th>\n",
       "      <th>VIP</th>\n",
       "      <th>RoomService</th>\n",
       "      <th>FoodCourt</th>\n",
       "      <th>ShoppingMall</th>\n",
       "      <th>Spa</th>\n",
       "      <th>VRDeck</th>\n",
       "      <th>deck</th>\n",
       "      <th>num</th>\n",
       "      <th>side</th>\n",
       "      <th>total_spent</th>\n",
       "    </tr>\n",
       "  </thead>\n",
       "  <tbody>\n",
       "    <tr>\n",
       "      <th>0</th>\n",
       "      <td>1</td>\n",
       "      <td>0</td>\n",
       "      <td>3</td>\n",
       "      <td>39</td>\n",
       "      <td>0</td>\n",
       "      <td>0.0</td>\n",
       "      <td>0.0</td>\n",
       "      <td>0.0</td>\n",
       "      <td>0.0</td>\n",
       "      <td>0.0</td>\n",
       "      <td>1</td>\n",
       "      <td>0</td>\n",
       "      <td>1</td>\n",
       "      <td>0.0</td>\n",
       "    </tr>\n",
       "    <tr>\n",
       "      <th>1</th>\n",
       "      <td>0</td>\n",
       "      <td>0</td>\n",
       "      <td>3</td>\n",
       "      <td>24</td>\n",
       "      <td>0</td>\n",
       "      <td>109.0</td>\n",
       "      <td>9.0</td>\n",
       "      <td>25.0</td>\n",
       "      <td>549.0</td>\n",
       "      <td>44.0</td>\n",
       "      <td>5</td>\n",
       "      <td>0</td>\n",
       "      <td>2</td>\n",
       "      <td>736.0</td>\n",
       "    </tr>\n",
       "    <tr>\n",
       "      <th>2</th>\n",
       "      <td>1</td>\n",
       "      <td>0</td>\n",
       "      <td>3</td>\n",
       "      <td>58</td>\n",
       "      <td>1</td>\n",
       "      <td>43.0</td>\n",
       "      <td>3576.0</td>\n",
       "      <td>0.0</td>\n",
       "      <td>6715.0</td>\n",
       "      <td>49.0</td>\n",
       "      <td>0</td>\n",
       "      <td>0</td>\n",
       "      <td>2</td>\n",
       "      <td>10383.0</td>\n",
       "    </tr>\n",
       "    <tr>\n",
       "      <th>3</th>\n",
       "      <td>1</td>\n",
       "      <td>0</td>\n",
       "      <td>3</td>\n",
       "      <td>33</td>\n",
       "      <td>0</td>\n",
       "      <td>0.0</td>\n",
       "      <td>1283.0</td>\n",
       "      <td>371.0</td>\n",
       "      <td>3329.0</td>\n",
       "      <td>193.0</td>\n",
       "      <td>0</td>\n",
       "      <td>0</td>\n",
       "      <td>2</td>\n",
       "      <td>5176.0</td>\n",
       "    </tr>\n",
       "    <tr>\n",
       "      <th>4</th>\n",
       "      <td>0</td>\n",
       "      <td>0</td>\n",
       "      <td>3</td>\n",
       "      <td>16</td>\n",
       "      <td>0</td>\n",
       "      <td>303.0</td>\n",
       "      <td>70.0</td>\n",
       "      <td>151.0</td>\n",
       "      <td>565.0</td>\n",
       "      <td>2.0</td>\n",
       "      <td>5</td>\n",
       "      <td>1</td>\n",
       "      <td>2</td>\n",
       "      <td>1091.0</td>\n",
       "    </tr>\n",
       "  </tbody>\n",
       "</table>\n",
       "</div>"
      ],
      "text/plain": [
       "   HomePlanet  CryoSleep  Destination  Age  VIP  RoomService  FoodCourt  \\\n",
       "0           1          0            3   39    0          0.0        0.0   \n",
       "1           0          0            3   24    0        109.0        9.0   \n",
       "2           1          0            3   58    1         43.0     3576.0   \n",
       "3           1          0            3   33    0          0.0     1283.0   \n",
       "4           0          0            3   16    0        303.0       70.0   \n",
       "\n",
       "   ShoppingMall     Spa  VRDeck  deck  num  side  total_spent  \n",
       "0           0.0     0.0     0.0     1    0     1          0.0  \n",
       "1          25.0   549.0    44.0     5    0     2        736.0  \n",
       "2           0.0  6715.0    49.0     0    0     2      10383.0  \n",
       "3         371.0  3329.0   193.0     0    0     2       5176.0  \n",
       "4         151.0   565.0     2.0     5    1     2       1091.0  "
      ]
     },
     "execution_count": 22,
     "metadata": {},
     "output_type": "execute_result"
    }
   ],
   "source": [
    "X_train.head()"
   ]
  },
  {
   "cell_type": "code",
   "execution_count": null,
   "id": "51fa6169",
   "metadata": {
    "papermill": {
     "duration": 0.034023,
     "end_time": "2022-03-30T04:52:37.664839",
     "exception": false,
     "start_time": "2022-03-30T04:52:37.630816",
     "status": "completed"
    },
    "tags": []
   },
   "outputs": [],
   "source": []
  },
  {
   "cell_type": "markdown",
   "id": "042f672f",
   "metadata": {
    "papermill": {
     "duration": 0.032701,
     "end_time": "2022-03-30T04:52:37.731284",
     "exception": false,
     "start_time": "2022-03-30T04:52:37.698583",
     "status": "completed"
    },
    "tags": []
   },
   "source": [
    "# LGBM"
   ]
  },
  {
   "cell_type": "code",
   "execution_count": 23,
   "id": "d2f73d11",
   "metadata": {
    "execution": {
     "iopub.execute_input": "2022-03-30T04:52:37.809035Z",
     "iopub.status.busy": "2022-03-30T04:52:37.808192Z",
     "iopub.status.idle": "2022-03-30T04:52:45.166641Z",
     "shell.execute_reply": "2022-03-30T04:52:45.167613Z",
     "shell.execute_reply.started": "2022-03-30T04:51:19.057108Z"
    },
    "papermill": {
     "duration": 7.401828,
     "end_time": "2022-03-30T04:52:45.167843",
     "exception": false,
     "start_time": "2022-03-30T04:52:37.766015",
     "status": "completed"
    },
    "tags": []
   },
   "outputs": [
    {
     "data": {
      "text/html": [
       "<style type='text/css'>\n",
       ".datatable table.frame { margin-bottom: 0; }\n",
       ".datatable table.frame thead { border-bottom: none; }\n",
       ".datatable table.frame tr.coltypes td {  color: #FFFFFF;  line-height: 6px;  padding: 0 0.5em;}\n",
       ".datatable .bool    { background: #DDDD99; }\n",
       ".datatable .object  { background: #565656; }\n",
       ".datatable .int     { background: #5D9E5D; }\n",
       ".datatable .float   { background: #4040CC; }\n",
       ".datatable .str     { background: #CC4040; }\n",
       ".datatable .time    { background: #40CC40; }\n",
       ".datatable .row_index {  background: var(--jp-border-color3);  border-right: 1px solid var(--jp-border-color0);  color: var(--jp-ui-font-color3);  font-size: 9px;}\n",
       ".datatable .frame tbody td { text-align: left; }\n",
       ".datatable .frame tr.coltypes .row_index {  background: var(--jp-border-color0);}\n",
       ".datatable th:nth-child(2) { padding-left: 12px; }\n",
       ".datatable .hellipsis {  color: var(--jp-cell-editor-border-color);}\n",
       ".datatable .vellipsis {  background: var(--jp-layout-color0);  color: var(--jp-cell-editor-border-color);}\n",
       ".datatable .na {  color: var(--jp-cell-editor-border-color);  font-size: 80%;}\n",
       ".datatable .sp {  opacity: 0.25;}\n",
       ".datatable .footer { font-size: 9px; }\n",
       ".datatable .frame_dimensions {  background: var(--jp-border-color3);  border-top: 1px solid var(--jp-border-color0);  color: var(--jp-ui-font-color3);  display: inline-block;  opacity: 0.6;  padding: 1px 10px 1px 5px;}\n",
       "</style>\n"
      ],
      "text/plain": [
       "<IPython.core.display.HTML object>"
      ]
     },
     "metadata": {},
     "output_type": "display_data"
    },
    {
     "name": "stdout",
     "output_type": "stream",
     "text": [
      "fold  1\n",
      "****************************************\n",
      "[100]\ttraining's auc: 0.91443\ttraining's binary_logloss: 0.463568\tvalid_1's auc: 0.871408\tvalid_1's binary_logloss: 0.506246\n",
      "[200]\ttraining's auc: 0.923706\ttraining's binary_logloss: 0.390359\tvalid_1's auc: 0.874714\tvalid_1's binary_logloss: 0.455872\n",
      "[300]\ttraining's auc: 0.931998\ttraining's binary_logloss: 0.355265\tvalid_1's auc: 0.875125\tvalid_1's binary_logloss: 0.449689\n",
      "[400]\ttraining's auc: 0.939661\ttraining's binary_logloss: 0.332757\tvalid_1's auc: 0.875501\tvalid_1's binary_logloss: 0.446506\n",
      "[500]\ttraining's auc: 0.945734\ttraining's binary_logloss: 0.316057\tvalid_1's auc: 0.876687\tvalid_1's binary_logloss: 0.44719\n",
      "fold  2\n",
      "****************************************\n",
      "[100]\ttraining's auc: 0.914382\ttraining's binary_logloss: 0.463888\tvalid_1's auc: 0.861874\tvalid_1's binary_logloss: 0.506027\n",
      "fold  3\n",
      "****************************************\n",
      "[100]\ttraining's auc: 0.908489\ttraining's binary_logloss: 0.468349\tvalid_1's auc: 0.879191\tvalid_1's binary_logloss: 0.491409\n",
      "[200]\ttraining's auc: 0.917484\ttraining's binary_logloss: 0.398477\tvalid_1's auc: 0.889205\tvalid_1's binary_logloss: 0.436604\n",
      "[300]\ttraining's auc: 0.926935\ttraining's binary_logloss: 0.364393\tvalid_1's auc: 0.895367\tvalid_1's binary_logloss: 0.42032\n",
      "[400]\ttraining's auc: 0.935207\ttraining's binary_logloss: 0.342568\tvalid_1's auc: 0.897875\tvalid_1's binary_logloss: 0.417533\n",
      "[500]\ttraining's auc: 0.941885\ttraining's binary_logloss: 0.326179\tvalid_1's auc: 0.899083\tvalid_1's binary_logloss: 0.417734\n",
      "fold  4\n",
      "****************************************\n",
      "[100]\ttraining's auc: 0.904658\ttraining's binary_logloss: 0.473942\tvalid_1's auc: 0.900315\tvalid_1's binary_logloss: 0.476036\n",
      "[200]\ttraining's auc: 0.915188\ttraining's binary_logloss: 0.404165\tvalid_1's auc: 0.908732\tvalid_1's binary_logloss: 0.411197\n",
      "[300]\ttraining's auc: 0.925645\ttraining's binary_logloss: 0.369704\tvalid_1's auc: 0.913271\tvalid_1's binary_logloss: 0.384112\n",
      "[400]\ttraining's auc: 0.933826\ttraining's binary_logloss: 0.347223\tvalid_1's auc: 0.915748\tvalid_1's binary_logloss: 0.371898\n",
      "[500]\ttraining's auc: 0.940235\ttraining's binary_logloss: 0.330602\tvalid_1's auc: 0.916229\tvalid_1's binary_logloss: 0.367943\n",
      "[600]\ttraining's auc: 0.945231\ttraining's binary_logloss: 0.317782\tvalid_1's auc: 0.915942\tvalid_1's binary_logloss: 0.367825\n",
      "fold  5\n",
      "****************************************\n",
      "[100]\ttraining's auc: 0.909852\ttraining's binary_logloss: 0.468283\tvalid_1's auc: 0.887484\tvalid_1's binary_logloss: 0.483001\n",
      "[200]\ttraining's auc: 0.920309\ttraining's binary_logloss: 0.395645\tvalid_1's auc: 0.888456\tvalid_1's binary_logloss: 0.432458\n",
      "OOF accuracy 0.7943172667663637\n"
     ]
    }
   ],
   "source": [
    "import lightgbm as lgb\n",
    "from sklearn.model_selection import StratifiedKFold, KFold\n",
    "from sklearn.metrics import accuracy_score\n",
    "\n",
    "oof = np.zeros(len(train))\n",
    "preds = np.zeros(len(test))\n",
    "\n",
    "skf = StratifiedKFold(n_splits = 5)\n",
    "\n",
    "for i, (idt, idv) in enumerate(skf.split(X_train, y_train, y_train)):\n",
    "    \n",
    "    x_trn, x_val = X_train.iloc[idt], X_train.iloc[idv]\n",
    "    y_trn, y_val = y_train.iloc[idt], y_train.iloc[idv]\n",
    "    \n",
    "    print('fold ', i+1)\n",
    "    print('*' * 40)\n",
    "    \n",
    "    clf = lgb.LGBMClassifier(\n",
    "    n_estimators = 1000,\n",
    "        subsample = 0.8,\n",
    "        learning_rate = 0.01,\n",
    "        colsample_bytree = 0.8,\n",
    "        reg_alpha = 1,\n",
    "       \n",
    "        \n",
    "    )\n",
    "    \n",
    "    clf.fit(x_trn, y_trn, eval_set = [(x_trn, y_trn),(x_val, y_val)], verbose = 100,\n",
    "           early_stopping_rounds=100, eval_metric = 'auc',\n",
    "           #categorical_feature = ['VIP','deck','side','Destination','HomePlanet']\n",
    "           )\n",
    "    \n",
    "    oof[idv] = clf.predict(x_val)\n",
    "    preds += clf.predict_proba(X_test)[:,1]/skf.n_splits\n",
    "\n",
    "print('OOF accuracy', accuracy_score(y_train, oof))"
   ]
  },
  {
   "cell_type": "code",
   "execution_count": 24,
   "id": "255a5ea1",
   "metadata": {
    "execution": {
     "iopub.execute_input": "2022-03-30T04:52:45.272751Z",
     "iopub.status.busy": "2022-03-30T04:52:45.272106Z",
     "iopub.status.idle": "2022-03-30T04:52:45.623393Z",
     "shell.execute_reply": "2022-03-30T04:52:45.622924Z",
     "shell.execute_reply.started": "2022-03-30T04:51:24.509774Z"
    },
    "papermill": {
     "duration": 0.40192,
     "end_time": "2022-03-30T04:52:45.623543",
     "exception": false,
     "start_time": "2022-03-30T04:52:45.221623",
     "status": "completed"
    },
    "tags": []
   },
   "outputs": [
    {
     "data": {
      "image/png": "[encoded data removed]",
      "text/plain": [
       "<Figure size 1440x720 with 1 Axes>"
      ]
     },
     "metadata": {
      "needs_background": "light"
     },
     "output_type": "display_data"
    }
   ],
   "source": [
    "cols = list(X_train.columns)\n",
    "feature_imp = pd.DataFrame(sorted(zip(clf.feature_importances_,cols)), columns=['Value','Feature'])\n",
    "plt.figure(figsize=(20, 10))\n",
    "sns.barplot(x=\"Value\", y=\"Feature\", data=feature_imp.sort_values(by=\"Value\", ascending=False).iloc[:20])\n",
    "plt.title('XGB Most Important Features')\n",
    "plt.tight_layout()\n",
    "plt.show()"
   ]
  },
  {
   "cell_type": "code",
   "execution_count": 25,
   "id": "ccdd3083",
   "metadata": {
    "execution": {
     "iopub.execute_input": "2022-03-30T04:52:45.711968Z",
     "iopub.status.busy": "2022-03-30T04:52:45.711101Z",
     "iopub.status.idle": "2022-03-30T04:52:45.715079Z",
     "shell.execute_reply": "2022-03-30T04:52:45.714508Z",
     "shell.execute_reply.started": "2022-03-30T04:51:24.856379Z"
    },
    "papermill": {
     "duration": 0.050432,
     "end_time": "2022-03-30T04:52:45.715212",
     "exception": false,
     "start_time": "2022-03-30T04:52:45.664780",
     "status": "completed"
    },
    "tags": []
   },
   "outputs": [
    {
     "data": {
      "text/plain": [
       "array([0.50855211, 0.16327576, 0.86098972, ..., 0.83610377, 0.66094319,\n",
       "       0.62032583])"
      ]
     },
     "execution_count": 25,
     "metadata": {},
     "output_type": "execute_result"
    }
   ],
   "source": [
    "preds"
   ]
  },
  {
   "cell_type": "code",
   "execution_count": 26,
   "id": "ec98f97d",
   "metadata": {
    "execution": {
     "iopub.execute_input": "2022-03-30T04:52:45.806732Z",
     "iopub.status.busy": "2022-03-30T04:52:45.805808Z",
     "iopub.status.idle": "2022-03-30T04:52:45.817013Z",
     "shell.execute_reply": "2022-03-30T04:52:45.817498Z",
     "shell.execute_reply.started": "2022-03-30T04:51:24.864762Z"
    },
    "papermill": {
     "duration": 0.060518,
     "end_time": "2022-03-30T04:52:45.817686",
     "exception": false,
     "start_time": "2022-03-30T04:52:45.757168",
     "status": "completed"
    },
    "tags": []
   },
   "outputs": [
    {
     "data": {
      "text/html": [
       "<div>\n",
       "<style scoped>\n",
       "    .dataframe tbody tr th:only-of-type {\n",
       "        vertical-align: middle;\n",
       "    }\n",
       "\n",
       "    .dataframe tbody tr th {\n",
       "        vertical-align: top;\n",
       "    }\n",
       "\n",
       "    .dataframe thead th {\n",
       "        text-align: right;\n",
       "    }\n",
       "</style>\n",
       "<table border=\"1\" class=\"dataframe\">\n",
       "  <thead>\n",
       "    <tr style=\"text-align: right;\">\n",
       "      <th></th>\n",
       "      <th>PassengerId</th>\n",
       "      <th>Transported</th>\n",
       "    </tr>\n",
       "  </thead>\n",
       "  <tbody>\n",
       "    <tr>\n",
       "      <th>0</th>\n",
       "      <td>0013_01</td>\n",
       "      <td>True</td>\n",
       "    </tr>\n",
       "    <tr>\n",
       "      <th>1</th>\n",
       "      <td>0018_01</td>\n",
       "      <td>False</td>\n",
       "    </tr>\n",
       "    <tr>\n",
       "      <th>2</th>\n",
       "      <td>0019_01</td>\n",
       "      <td>True</td>\n",
       "    </tr>\n",
       "    <tr>\n",
       "      <th>3</th>\n",
       "      <td>0021_01</td>\n",
       "      <td>True</td>\n",
       "    </tr>\n",
       "    <tr>\n",
       "      <th>4</th>\n",
       "      <td>0023_01</td>\n",
       "      <td>True</td>\n",
       "    </tr>\n",
       "    <tr>\n",
       "      <th>...</th>\n",
       "      <td>...</td>\n",
       "      <td>...</td>\n",
       "    </tr>\n",
       "    <tr>\n",
       "      <th>4272</th>\n",
       "      <td>9266_02</td>\n",
       "      <td>True</td>\n",
       "    </tr>\n",
       "    <tr>\n",
       "      <th>4273</th>\n",
       "      <td>9269_01</td>\n",
       "      <td>False</td>\n",
       "    </tr>\n",
       "    <tr>\n",
       "      <th>4274</th>\n",
       "      <td>9271_01</td>\n",
       "      <td>True</td>\n",
       "    </tr>\n",
       "    <tr>\n",
       "      <th>4275</th>\n",
       "      <td>9273_01</td>\n",
       "      <td>True</td>\n",
       "    </tr>\n",
       "    <tr>\n",
       "      <th>4276</th>\n",
       "      <td>9277_01</td>\n",
       "      <td>True</td>\n",
       "    </tr>\n",
       "  </tbody>\n",
       "</table>\n",
       "<p>4277 rows × 2 columns</p>\n",
       "</div>"
      ],
      "text/plain": [
       "     PassengerId  Transported\n",
       "0        0013_01         True\n",
       "1        0018_01        False\n",
       "2        0019_01         True\n",
       "3        0021_01         True\n",
       "4        0023_01         True\n",
       "...          ...          ...\n",
       "4272     9266_02         True\n",
       "4273     9269_01        False\n",
       "4274     9271_01         True\n",
       "4275     9273_01         True\n",
       "4276     9277_01         True\n",
       "\n",
       "[4277 rows x 2 columns]"
      ]
     },
     "execution_count": 26,
     "metadata": {},
     "output_type": "execute_result"
    }
   ],
   "source": [
    "sub['Transported'] = [True if x>0.5 else False for x in preds]\n",
    "\n",
    "sub"
   ]
  },
  {
   "cell_type": "code",
   "execution_count": 27,
   "id": "85df4f33",
   "metadata": {
    "execution": {
     "iopub.execute_input": "2022-03-30T04:52:45.908797Z",
     "iopub.status.busy": "2022-03-30T04:52:45.907853Z",
     "iopub.status.idle": "2022-03-30T04:52:45.915824Z",
     "shell.execute_reply": "2022-03-30T04:52:45.916262Z",
     "shell.execute_reply.started": "2022-03-30T04:51:24.884130Z"
    },
    "papermill": {
     "duration": 0.05655,
     "end_time": "2022-03-30T04:52:45.916432",
     "exception": false,
     "start_time": "2022-03-30T04:52:45.859882",
     "status": "completed"
    },
    "tags": []
   },
   "outputs": [
    {
     "data": {
      "text/plain": [
       "count     4277\n",
       "unique       2\n",
       "top       True\n",
       "freq      2233\n",
       "Name: Transported, dtype: object"
      ]
     },
     "execution_count": 27,
     "metadata": {},
     "output_type": "execute_result"
    }
   ],
   "source": [
    "sub['Transported'].describe()"
   ]
  },
  {
   "cell_type": "code",
   "execution_count": 28,
   "id": "7b3ee7a9",
   "metadata": {
    "execution": {
     "iopub.execute_input": "2022-03-30T04:52:46.007368Z",
     "iopub.status.busy": "2022-03-30T04:52:46.006764Z",
     "iopub.status.idle": "2022-03-30T04:52:46.018038Z",
     "shell.execute_reply": "2022-03-30T04:52:46.017483Z",
     "shell.execute_reply.started": "2022-03-30T04:51:24.893648Z"
    },
    "papermill": {
     "duration": 0.059447,
     "end_time": "2022-03-30T04:52:46.018178",
     "exception": false,
     "start_time": "2022-03-30T04:52:45.958731",
     "status": "completed"
    },
    "tags": []
   },
   "outputs": [],
   "source": [
    "sub.to_csv('sub_lgb.csv', index = False)"
   ]
  }
 ],
 "metadata": {
  "kernelspec": {
   "display_name": "Python 3",
   "language": "python",
   "name": "python3"
  },
  "language_info": {
   "codemirror_mode": {
    "name": "ipython",
    "version": 3
   },
   "file_extension": ".py",
   "mimetype": "text/x-python",
   "name": "python",
   "nbconvert_exporter": "python",
   "pygments_lexer": "ipython3",
   "version": "3.7.12"
  },
  "papermill": {
   "default_parameters": {},
   "duration": 23.409008,
   "end_time": "2022-03-30T04:52:47.076480",
   "environment_variables": {},
   "exception": null,
   "input_path": "__notebook__.ipynb",
   "output_path": "__notebook__.ipynb",
   "parameters": {},
   "start_time": "2022-03-30T04:52:23.667472",
   "version": "2.3.3"
  }
 },
 "nbformat": 4,
 "nbformat_minor": 5
}
