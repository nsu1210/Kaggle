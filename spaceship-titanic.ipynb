{
 "cells": [
  {
   "cell_type": "code",
   "execution_count": 1,
   "id": "624a145c",
   "metadata": {
    "execution": {
     "iopub.execute_input": "2022-04-04T23:51:19.986891Z",
     "iopub.status.busy": "2022-04-04T23:51:19.985346Z",
     "iopub.status.idle": "2022-04-04T23:51:21.159416Z",
     "shell.execute_reply": "2022-04-04T23:51:21.158661Z",
     "shell.execute_reply.started": "2022-04-04T23:47:43.068044Z"
    },
    "papermill": {
     "duration": 1.215136,
     "end_time": "2022-04-04T23:51:21.159626",
     "exception": false,
     "start_time": "2022-04-04T23:51:19.944490",
     "status": "completed"
    },
    "tags": []
   },
   "outputs": [],
   "source": [
    "import numpy as np\n",
    "import pandas as pd\n",
    "import os\n",
    "import gc\n",
    "import matplotlib.pyplot as plt\n",
    "import seaborn as sns\n",
    "import warnings \n",
    "warnings.filterwarnings('ignore')"
   ]
  },
  {
   "cell_type": "markdown",
   "id": "7f29482c",
   "metadata": {
    "papermill": {
     "duration": 0.033533,
     "end_time": "2022-04-04T23:51:21.230264",
     "exception": false,
     "start_time": "2022-04-04T23:51:21.196731",
     "status": "completed"
    },
    "tags": []
   },
   "source": [
    "In this competition your task is to predict whether a passenger was transported to an alternate dimension during the Spaceship Titanic's collision with the spacetime anomaly. To help you make these predictions, you're given a set of personal records recovered from the ship's damaged computer system."
   ]
  },
  {
   "cell_type": "markdown",
   "id": "226b4cc1",
   "metadata": {
    "papermill": {
     "duration": 0.036008,
     "end_time": "2022-04-04T23:51:21.301507",
     "exception": false,
     "start_time": "2022-04-04T23:51:21.265499",
     "status": "completed"
    },
    "tags": []
   },
   "source": [
    "# File and Data Field Descriptions\n",
    "* train.csv - Personal records for about two-thirds (~8700) of the passengers, to be used as training data.\n",
    "* PassengerId - A unique Id for each passenger. Each Id takes the form gggg_pp where gggg indicates a group the passenger is travelling with and pp is their number within the group. People in a group are often family members, but not always.\n",
    "* HomePlanet - The planet the passenger departed from, typically their planet of permanent residence.\n",
    "* CryoSleep - Indicates whether the passenger elected to be put into suspended animation for the duration of the voyage. Passengers in cryosleep are confined to their cabins.\n",
    "* Cabin - The cabin number where the passenger is staying. Takes the form deck/num/side, where side can be either P for Port or S for Starboard.\n",
    "* Destination - The planet the passenger will be debarking to.\n",
    "* Age - The age of the passenger.\n",
    "* VIP - Whether the passenger has paid for special VIP service during the voyage.\n",
    "* RoomService, FoodCourt, ShoppingMall, Spa, VRDeck - Amount the passenger has billed at each of the Spaceship Titanic's many luxury amenities.\n",
    "* Name - The first and last names of the passenger.\n",
    "* Transported - Whether the passenger was transported to another dimension. This is the target, the column you are trying to predict."
   ]
  },
  {
   "cell_type": "code",
   "execution_count": 2,
   "id": "30c65eb3",
   "metadata": {
    "execution": {
     "iopub.execute_input": "2022-04-04T23:51:21.376445Z",
     "iopub.status.busy": "2022-04-04T23:51:21.375726Z",
     "iopub.status.idle": "2022-04-04T23:51:21.466830Z",
     "shell.execute_reply": "2022-04-04T23:51:21.467400Z",
     "shell.execute_reply.started": "2022-04-04T23:47:43.101769Z"
    },
    "papermill": {
     "duration": 0.13202,
     "end_time": "2022-04-04T23:51:21.467607",
     "exception": false,
     "start_time": "2022-04-04T23:51:21.335587",
     "status": "completed"
    },
    "tags": []
   },
   "outputs": [
    {
     "name": "stdout",
     "output_type": "stream",
     "text": [
      "(8693, 14)\n",
      "(4277, 13)\n"
     ]
    }
   ],
   "source": [
    "train = pd.read_csv('../input/spaceship-titanic/train.csv')\n",
    "test = pd.read_csv('../input/spaceship-titanic/test.csv')\n",
    "sub = pd.read_csv('../input/spaceship-titanic/sample_submission.csv')\n",
    "print(train.shape)\n",
    "print(test.shape)"
   ]
  },
  {
   "cell_type": "code",
   "execution_count": 3,
   "id": "d16ff509",
   "metadata": {
    "execution": {
     "iopub.execute_input": "2022-04-04T23:51:21.551011Z",
     "iopub.status.busy": "2022-04-04T23:51:21.550170Z",
     "iopub.status.idle": "2022-04-04T23:51:21.576544Z",
     "shell.execute_reply": "2022-04-04T23:51:21.577159Z",
     "shell.execute_reply.started": "2022-04-04T23:47:43.169370Z"
    },
    "papermill": {
     "duration": 0.072131,
     "end_time": "2022-04-04T23:51:21.577382",
     "exception": false,
     "start_time": "2022-04-04T23:51:21.505251",
     "status": "completed"
    },
    "tags": []
   },
   "outputs": [
    {
     "data": {
      "text/html": [
       "<div>\n",
       "<style scoped>\n",
       "    .dataframe tbody tr th:only-of-type {\n",
       "        vertical-align: middle;\n",
       "    }\n",
       "\n",
       "    .dataframe tbody tr th {\n",
       "        vertical-align: top;\n",
       "    }\n",
       "\n",
       "    .dataframe thead th {\n",
       "        text-align: right;\n",
       "    }\n",
       "</style>\n",
       "<table border=\"1\" class=\"dataframe\">\n",
       "  <thead>\n",
       "    <tr style=\"text-align: right;\">\n",
       "      <th></th>\n",
       "      <th>PassengerId</th>\n",
       "      <th>HomePlanet</th>\n",
       "      <th>CryoSleep</th>\n",
       "      <th>Cabin</th>\n",
       "      <th>Destination</th>\n",
       "      <th>Age</th>\n",
       "      <th>VIP</th>\n",
       "      <th>RoomService</th>\n",
       "      <th>FoodCourt</th>\n",
       "      <th>ShoppingMall</th>\n",
       "      <th>Spa</th>\n",
       "      <th>VRDeck</th>\n",
       "      <th>Name</th>\n",
       "      <th>Transported</th>\n",
       "    </tr>\n",
       "  </thead>\n",
       "  <tbody>\n",
       "    <tr>\n",
       "      <th>0</th>\n",
       "      <td>0001_01</td>\n",
       "      <td>Europa</td>\n",
       "      <td>False</td>\n",
       "      <td>B/0/P</td>\n",
       "      <td>TRAPPIST-1e</td>\n",
       "      <td>39.0</td>\n",
       "      <td>False</td>\n",
       "      <td>0.0</td>\n",
       "      <td>0.0</td>\n",
       "      <td>0.0</td>\n",
       "      <td>0.0</td>\n",
       "      <td>0.0</td>\n",
       "      <td>Maham Ofracculy</td>\n",
       "      <td>False</td>\n",
       "    </tr>\n",
       "    <tr>\n",
       "      <th>1</th>\n",
       "      <td>0002_01</td>\n",
       "      <td>Earth</td>\n",
       "      <td>False</td>\n",
       "      <td>F/0/S</td>\n",
       "      <td>TRAPPIST-1e</td>\n",
       "      <td>24.0</td>\n",
       "      <td>False</td>\n",
       "      <td>109.0</td>\n",
       "      <td>9.0</td>\n",
       "      <td>25.0</td>\n",
       "      <td>549.0</td>\n",
       "      <td>44.0</td>\n",
       "      <td>Juanna Vines</td>\n",
       "      <td>True</td>\n",
       "    </tr>\n",
       "    <tr>\n",
       "      <th>2</th>\n",
       "      <td>0003_01</td>\n",
       "      <td>Europa</td>\n",
       "      <td>False</td>\n",
       "      <td>A/0/S</td>\n",
       "      <td>TRAPPIST-1e</td>\n",
       "      <td>58.0</td>\n",
       "      <td>True</td>\n",
       "      <td>43.0</td>\n",
       "      <td>3576.0</td>\n",
       "      <td>0.0</td>\n",
       "      <td>6715.0</td>\n",
       "      <td>49.0</td>\n",
       "      <td>Altark Susent</td>\n",
       "      <td>False</td>\n",
       "    </tr>\n",
       "    <tr>\n",
       "      <th>3</th>\n",
       "      <td>0003_02</td>\n",
       "      <td>Europa</td>\n",
       "      <td>False</td>\n",
       "      <td>A/0/S</td>\n",
       "      <td>TRAPPIST-1e</td>\n",
       "      <td>33.0</td>\n",
       "      <td>False</td>\n",
       "      <td>0.0</td>\n",
       "      <td>1283.0</td>\n",
       "      <td>371.0</td>\n",
       "      <td>3329.0</td>\n",
       "      <td>193.0</td>\n",
       "      <td>Solam Susent</td>\n",
       "      <td>False</td>\n",
       "    </tr>\n",
       "    <tr>\n",
       "      <th>4</th>\n",
       "      <td>0004_01</td>\n",
       "      <td>Earth</td>\n",
       "      <td>False</td>\n",
       "      <td>F/1/S</td>\n",
       "      <td>TRAPPIST-1e</td>\n",
       "      <td>16.0</td>\n",
       "      <td>False</td>\n",
       "      <td>303.0</td>\n",
       "      <td>70.0</td>\n",
       "      <td>151.0</td>\n",
       "      <td>565.0</td>\n",
       "      <td>2.0</td>\n",
       "      <td>Willy Santantines</td>\n",
       "      <td>True</td>\n",
       "    </tr>\n",
       "  </tbody>\n",
       "</table>\n",
       "</div>"
      ],
      "text/plain": [
       "  PassengerId HomePlanet CryoSleep  Cabin  Destination   Age    VIP  \\\n",
       "0     0001_01     Europa     False  B/0/P  TRAPPIST-1e  39.0  False   \n",
       "1     0002_01      Earth     False  F/0/S  TRAPPIST-1e  24.0  False   \n",
       "2     0003_01     Europa     False  A/0/S  TRAPPIST-1e  58.0   True   \n",
       "3     0003_02     Europa     False  A/0/S  TRAPPIST-1e  33.0  False   \n",
       "4     0004_01      Earth     False  F/1/S  TRAPPIST-1e  16.0  False   \n",
       "\n",
       "   RoomService  FoodCourt  ShoppingMall     Spa  VRDeck               Name  \\\n",
       "0          0.0        0.0           0.0     0.0     0.0    Maham Ofracculy   \n",
       "1        109.0        9.0          25.0   549.0    44.0       Juanna Vines   \n",
       "2         43.0     3576.0           0.0  6715.0    49.0      Altark Susent   \n",
       "3          0.0     1283.0         371.0  3329.0   193.0       Solam Susent   \n",
       "4        303.0       70.0         151.0   565.0     2.0  Willy Santantines   \n",
       "\n",
       "   Transported  \n",
       "0        False  \n",
       "1         True  \n",
       "2        False  \n",
       "3        False  \n",
       "4         True  "
      ]
     },
     "execution_count": 3,
     "metadata": {},
     "output_type": "execute_result"
    }
   ],
   "source": [
    "train.head()"
   ]
  },
  {
   "cell_type": "markdown",
   "id": "bc013a07",
   "metadata": {
    "papermill": {
     "duration": 0.036337,
     "end_time": "2022-04-04T23:51:21.653276",
     "exception": false,
     "start_time": "2022-04-04T23:51:21.616939",
     "status": "completed"
    },
    "tags": []
   },
   "source": [
    "# EDA"
   ]
  },
  {
   "cell_type": "code",
   "execution_count": 4,
   "id": "2e37ece7",
   "metadata": {
    "execution": {
     "iopub.execute_input": "2022-04-04T23:51:21.728553Z",
     "iopub.status.busy": "2022-04-04T23:51:21.727766Z",
     "iopub.status.idle": "2022-04-04T23:51:21.774117Z",
     "shell.execute_reply": "2022-04-04T23:51:21.774631Z",
     "shell.execute_reply.started": "2022-04-04T23:47:43.190642Z"
    },
    "papermill": {
     "duration": 0.085636,
     "end_time": "2022-04-04T23:51:21.774842",
     "exception": false,
     "start_time": "2022-04-04T23:51:21.689206",
     "status": "completed"
    },
    "tags": []
   },
   "outputs": [
    {
     "data": {
      "text/html": [
       "<div>\n",
       "<style scoped>\n",
       "    .dataframe tbody tr th:only-of-type {\n",
       "        vertical-align: middle;\n",
       "    }\n",
       "\n",
       "    .dataframe tbody tr th {\n",
       "        vertical-align: top;\n",
       "    }\n",
       "\n",
       "    .dataframe thead th {\n",
       "        text-align: right;\n",
       "    }\n",
       "</style>\n",
       "<table border=\"1\" class=\"dataframe\">\n",
       "  <thead>\n",
       "    <tr style=\"text-align: right;\">\n",
       "      <th></th>\n",
       "      <th>dtypes</th>\n",
       "      <th>missing</th>\n",
       "      <th>nlevel</th>\n",
       "    </tr>\n",
       "  </thead>\n",
       "  <tbody>\n",
       "    <tr>\n",
       "      <th>PassengerId</th>\n",
       "      <td>object</td>\n",
       "      <td>0</td>\n",
       "      <td>8693</td>\n",
       "    </tr>\n",
       "    <tr>\n",
       "      <th>HomePlanet</th>\n",
       "      <td>object</td>\n",
       "      <td>201</td>\n",
       "      <td>3</td>\n",
       "    </tr>\n",
       "    <tr>\n",
       "      <th>CryoSleep</th>\n",
       "      <td>object</td>\n",
       "      <td>217</td>\n",
       "      <td>2</td>\n",
       "    </tr>\n",
       "    <tr>\n",
       "      <th>Cabin</th>\n",
       "      <td>object</td>\n",
       "      <td>199</td>\n",
       "      <td>6560</td>\n",
       "    </tr>\n",
       "    <tr>\n",
       "      <th>Destination</th>\n",
       "      <td>object</td>\n",
       "      <td>182</td>\n",
       "      <td>3</td>\n",
       "    </tr>\n",
       "    <tr>\n",
       "      <th>Age</th>\n",
       "      <td>float64</td>\n",
       "      <td>179</td>\n",
       "      <td>80</td>\n",
       "    </tr>\n",
       "    <tr>\n",
       "      <th>VIP</th>\n",
       "      <td>object</td>\n",
       "      <td>203</td>\n",
       "      <td>2</td>\n",
       "    </tr>\n",
       "    <tr>\n",
       "      <th>RoomService</th>\n",
       "      <td>float64</td>\n",
       "      <td>181</td>\n",
       "      <td>1273</td>\n",
       "    </tr>\n",
       "    <tr>\n",
       "      <th>FoodCourt</th>\n",
       "      <td>float64</td>\n",
       "      <td>183</td>\n",
       "      <td>1507</td>\n",
       "    </tr>\n",
       "    <tr>\n",
       "      <th>ShoppingMall</th>\n",
       "      <td>float64</td>\n",
       "      <td>208</td>\n",
       "      <td>1115</td>\n",
       "    </tr>\n",
       "    <tr>\n",
       "      <th>Spa</th>\n",
       "      <td>float64</td>\n",
       "      <td>183</td>\n",
       "      <td>1327</td>\n",
       "    </tr>\n",
       "    <tr>\n",
       "      <th>VRDeck</th>\n",
       "      <td>float64</td>\n",
       "      <td>188</td>\n",
       "      <td>1306</td>\n",
       "    </tr>\n",
       "    <tr>\n",
       "      <th>Name</th>\n",
       "      <td>object</td>\n",
       "      <td>200</td>\n",
       "      <td>8473</td>\n",
       "    </tr>\n",
       "    <tr>\n",
       "      <th>Transported</th>\n",
       "      <td>bool</td>\n",
       "      <td>0</td>\n",
       "      <td>2</td>\n",
       "    </tr>\n",
       "  </tbody>\n",
       "</table>\n",
       "</div>"
      ],
      "text/plain": [
       "               dtypes  missing  nlevel\n",
       "PassengerId    object        0    8693\n",
       "HomePlanet     object      201       3\n",
       "CryoSleep      object      217       2\n",
       "Cabin          object      199    6560\n",
       "Destination    object      182       3\n",
       "Age           float64      179      80\n",
       "VIP            object      203       2\n",
       "RoomService   float64      181    1273\n",
       "FoodCourt     float64      183    1507\n",
       "ShoppingMall  float64      208    1115\n",
       "Spa           float64      183    1327\n",
       "VRDeck        float64      188    1306\n",
       "Name           object      200    8473\n",
       "Transported      bool        0       2"
      ]
     },
     "execution_count": 4,
     "metadata": {},
     "output_type": "execute_result"
    }
   ],
   "source": [
    "def eda(df):\n",
    "    summary = pd.DataFrame()\n",
    "    summary['dtypes'] = df.dtypes\n",
    "    summary['missing'] = df.isnull().sum()\n",
    "    summary['nlevel'] = df.nunique()\n",
    "    return summary\n",
    "\n",
    "eda(train)"
   ]
  },
  {
   "cell_type": "code",
   "execution_count": 5,
   "id": "cb014df9",
   "metadata": {
    "execution": {
     "iopub.execute_input": "2022-04-04T23:51:21.864052Z",
     "iopub.status.busy": "2022-04-04T23:51:21.856583Z",
     "iopub.status.idle": "2022-04-04T23:51:21.882989Z",
     "shell.execute_reply": "2022-04-04T23:51:21.883525Z",
     "shell.execute_reply.started": "2022-04-04T23:47:43.227464Z"
    },
    "papermill": {
     "duration": 0.069062,
     "end_time": "2022-04-04T23:51:21.883734",
     "exception": false,
     "start_time": "2022-04-04T23:51:21.814672",
     "status": "completed"
    },
    "tags": []
   },
   "outputs": [
    {
     "data": {
      "text/html": [
       "<div>\n",
       "<style scoped>\n",
       "    .dataframe tbody tr th:only-of-type {\n",
       "        vertical-align: middle;\n",
       "    }\n",
       "\n",
       "    .dataframe tbody tr th {\n",
       "        vertical-align: top;\n",
       "    }\n",
       "\n",
       "    .dataframe thead th {\n",
       "        text-align: right;\n",
       "    }\n",
       "</style>\n",
       "<table border=\"1\" class=\"dataframe\">\n",
       "  <thead>\n",
       "    <tr style=\"text-align: right;\">\n",
       "      <th></th>\n",
       "      <th>dtypes</th>\n",
       "      <th>missing</th>\n",
       "      <th>nlevel</th>\n",
       "    </tr>\n",
       "  </thead>\n",
       "  <tbody>\n",
       "    <tr>\n",
       "      <th>PassengerId</th>\n",
       "      <td>object</td>\n",
       "      <td>0</td>\n",
       "      <td>4277</td>\n",
       "    </tr>\n",
       "    <tr>\n",
       "      <th>HomePlanet</th>\n",
       "      <td>object</td>\n",
       "      <td>87</td>\n",
       "      <td>3</td>\n",
       "    </tr>\n",
       "    <tr>\n",
       "      <th>CryoSleep</th>\n",
       "      <td>object</td>\n",
       "      <td>93</td>\n",
       "      <td>2</td>\n",
       "    </tr>\n",
       "    <tr>\n",
       "      <th>Cabin</th>\n",
       "      <td>object</td>\n",
       "      <td>100</td>\n",
       "      <td>3265</td>\n",
       "    </tr>\n",
       "    <tr>\n",
       "      <th>Destination</th>\n",
       "      <td>object</td>\n",
       "      <td>92</td>\n",
       "      <td>3</td>\n",
       "    </tr>\n",
       "    <tr>\n",
       "      <th>Age</th>\n",
       "      <td>float64</td>\n",
       "      <td>91</td>\n",
       "      <td>79</td>\n",
       "    </tr>\n",
       "    <tr>\n",
       "      <th>VIP</th>\n",
       "      <td>object</td>\n",
       "      <td>93</td>\n",
       "      <td>2</td>\n",
       "    </tr>\n",
       "    <tr>\n",
       "      <th>RoomService</th>\n",
       "      <td>float64</td>\n",
       "      <td>82</td>\n",
       "      <td>842</td>\n",
       "    </tr>\n",
       "    <tr>\n",
       "      <th>FoodCourt</th>\n",
       "      <td>float64</td>\n",
       "      <td>106</td>\n",
       "      <td>902</td>\n",
       "    </tr>\n",
       "    <tr>\n",
       "      <th>ShoppingMall</th>\n",
       "      <td>float64</td>\n",
       "      <td>98</td>\n",
       "      <td>715</td>\n",
       "    </tr>\n",
       "    <tr>\n",
       "      <th>Spa</th>\n",
       "      <td>float64</td>\n",
       "      <td>101</td>\n",
       "      <td>833</td>\n",
       "    </tr>\n",
       "    <tr>\n",
       "      <th>VRDeck</th>\n",
       "      <td>float64</td>\n",
       "      <td>80</td>\n",
       "      <td>796</td>\n",
       "    </tr>\n",
       "    <tr>\n",
       "      <th>Name</th>\n",
       "      <td>object</td>\n",
       "      <td>94</td>\n",
       "      <td>4176</td>\n",
       "    </tr>\n",
       "  </tbody>\n",
       "</table>\n",
       "</div>"
      ],
      "text/plain": [
       "               dtypes  missing  nlevel\n",
       "PassengerId    object        0    4277\n",
       "HomePlanet     object       87       3\n",
       "CryoSleep      object       93       2\n",
       "Cabin          object      100    3265\n",
       "Destination    object       92       3\n",
       "Age           float64       91      79\n",
       "VIP            object       93       2\n",
       "RoomService   float64       82     842\n",
       "FoodCourt     float64      106     902\n",
       "ShoppingMall  float64       98     715\n",
       "Spa           float64      101     833\n",
       "VRDeck        float64       80     796\n",
       "Name           object       94    4176"
      ]
     },
     "execution_count": 5,
     "metadata": {},
     "output_type": "execute_result"
    }
   ],
   "source": [
    "eda(test)"
   ]
  },
  {
   "cell_type": "code",
   "execution_count": 6,
   "id": "0251cd31",
   "metadata": {
    "execution": {
     "iopub.execute_input": "2022-04-04T23:51:21.965637Z",
     "iopub.status.busy": "2022-04-04T23:51:21.964699Z",
     "iopub.status.idle": "2022-04-04T23:51:21.985325Z",
     "shell.execute_reply": "2022-04-04T23:51:21.984717Z",
     "shell.execute_reply.started": "2022-04-04T23:47:43.252508Z"
    },
    "papermill": {
     "duration": 0.064202,
     "end_time": "2022-04-04T23:51:21.985523",
     "exception": false,
     "start_time": "2022-04-04T23:51:21.921321",
     "status": "completed"
    },
    "tags": []
   },
   "outputs": [
    {
     "data": {
      "text/plain": [
       "0"
      ]
     },
     "execution_count": 6,
     "metadata": {},
     "output_type": "execute_result"
    }
   ],
   "source": [
    "train.duplicated().sum()"
   ]
  },
  {
   "cell_type": "markdown",
   "id": "35b2b6d3",
   "metadata": {
    "papermill": {
     "duration": 0.037319,
     "end_time": "2022-04-04T23:51:22.061167",
     "exception": false,
     "start_time": "2022-04-04T23:51:22.023848",
     "status": "completed"
    },
    "tags": []
   },
   "source": [
    "## Target"
   ]
  },
  {
   "cell_type": "code",
   "execution_count": 7,
   "id": "d17755c5",
   "metadata": {
    "execution": {
     "iopub.execute_input": "2022-04-04T23:51:22.142997Z",
     "iopub.status.busy": "2022-04-04T23:51:22.142234Z",
     "iopub.status.idle": "2022-04-04T23:51:22.148541Z",
     "shell.execute_reply": "2022-04-04T23:51:22.148003Z",
     "shell.execute_reply.started": "2022-04-04T23:47:43.272184Z"
    },
    "papermill": {
     "duration": 0.050211,
     "end_time": "2022-04-04T23:51:22.148708",
     "exception": false,
     "start_time": "2022-04-04T23:51:22.098497",
     "status": "completed"
    },
    "tags": []
   },
   "outputs": [
    {
     "data": {
      "text/plain": [
       "True     4378\n",
       "False    4315\n",
       "Name: Transported, dtype: int64"
      ]
     },
     "execution_count": 7,
     "metadata": {},
     "output_type": "execute_result"
    }
   ],
   "source": [
    "train['Transported'].value_counts()"
   ]
  },
  {
   "cell_type": "code",
   "execution_count": 8,
   "id": "f557ab80",
   "metadata": {
    "execution": {
     "iopub.execute_input": "2022-04-04T23:51:22.242160Z",
     "iopub.status.busy": "2022-04-04T23:51:22.241446Z",
     "iopub.status.idle": "2022-04-04T23:51:22.246291Z",
     "shell.execute_reply": "2022-04-04T23:51:22.245690Z",
     "shell.execute_reply.started": "2022-04-04T23:47:43.286471Z"
    },
    "papermill": {
     "duration": 0.059895,
     "end_time": "2022-04-04T23:51:22.246488",
     "exception": false,
     "start_time": "2022-04-04T23:51:22.186593",
     "status": "completed"
    },
    "tags": []
   },
   "outputs": [
    {
     "data": {
      "text/plain": [
       "Earth     4602\n",
       "Europa    2131\n",
       "Mars      1759\n",
       "Name: HomePlanet, dtype: int64"
      ]
     },
     "execution_count": 8,
     "metadata": {},
     "output_type": "execute_result"
    }
   ],
   "source": [
    "train.select_dtypes(include = 'object').columns\n",
    "\n",
    "\n",
    "train['HomePlanet'].value_counts()"
   ]
  },
  {
   "cell_type": "code",
   "execution_count": 9,
   "id": "78a3e2fc",
   "metadata": {
    "execution": {
     "iopub.execute_input": "2022-04-04T23:51:22.335442Z",
     "iopub.status.busy": "2022-04-04T23:51:22.334694Z",
     "iopub.status.idle": "2022-04-04T23:51:22.339673Z",
     "shell.execute_reply": "2022-04-04T23:51:22.339068Z",
     "shell.execute_reply.started": "2022-04-04T23:47:43.312983Z"
    },
    "papermill": {
     "duration": 0.05502,
     "end_time": "2022-04-04T23:51:22.339831",
     "exception": false,
     "start_time": "2022-04-04T23:51:22.284811",
     "status": "completed"
    },
    "tags": []
   },
   "outputs": [
    {
     "data": {
      "text/plain": [
       "False    5439\n",
       "True     3037\n",
       "Name: CryoSleep, dtype: int64"
      ]
     },
     "execution_count": 9,
     "metadata": {},
     "output_type": "execute_result"
    }
   ],
   "source": [
    "train['CryoSleep'].value_counts()"
   ]
  },
  {
   "cell_type": "code",
   "execution_count": 10,
   "id": "4aebee48",
   "metadata": {
    "execution": {
     "iopub.execute_input": "2022-04-04T23:51:22.445105Z",
     "iopub.status.busy": "2022-04-04T23:51:22.443985Z",
     "iopub.status.idle": "2022-04-04T23:51:22.449535Z",
     "shell.execute_reply": "2022-04-04T23:51:22.450449Z",
     "shell.execute_reply.started": "2022-04-04T23:47:43.345670Z"
    },
    "papermill": {
     "duration": 0.067319,
     "end_time": "2022-04-04T23:51:22.450725",
     "exception": false,
     "start_time": "2022-04-04T23:51:22.383406",
     "status": "completed"
    },
    "tags": []
   },
   "outputs": [
    {
     "data": {
      "text/plain": [
       "TRAPPIST-1e      5915\n",
       "55 Cancri e      1800\n",
       "PSO J318.5-22     796\n",
       "Name: Destination, dtype: int64"
      ]
     },
     "execution_count": 10,
     "metadata": {},
     "output_type": "execute_result"
    }
   ],
   "source": [
    "train['Destination'].value_counts()"
   ]
  },
  {
   "cell_type": "code",
   "execution_count": 11,
   "id": "794f84ff",
   "metadata": {
    "execution": {
     "iopub.execute_input": "2022-04-04T23:51:22.552774Z",
     "iopub.status.busy": "2022-04-04T23:51:22.551562Z",
     "iopub.status.idle": "2022-04-04T23:51:22.561517Z",
     "shell.execute_reply": "2022-04-04T23:51:22.560604Z",
     "shell.execute_reply.started": "2022-04-04T23:47:43.372831Z"
    },
    "papermill": {
     "duration": 0.066843,
     "end_time": "2022-04-04T23:51:22.561760",
     "exception": false,
     "start_time": "2022-04-04T23:51:22.494917",
     "status": "completed"
    },
    "tags": []
   },
   "outputs": [
    {
     "data": {
      "text/plain": [
       "False    8291\n",
       "True      199\n",
       "Name: VIP, dtype: int64"
      ]
     },
     "execution_count": 11,
     "metadata": {},
     "output_type": "execute_result"
    }
   ],
   "source": [
    "train['VIP'].value_counts()"
   ]
  },
  {
   "cell_type": "code",
   "execution_count": 12,
   "id": "f279a947",
   "metadata": {
    "execution": {
     "iopub.execute_input": "2022-04-04T23:51:22.691714Z",
     "iopub.status.busy": "2022-04-04T23:51:22.690616Z",
     "iopub.status.idle": "2022-04-04T23:51:24.014813Z",
     "shell.execute_reply": "2022-04-04T23:51:24.015394Z",
     "shell.execute_reply.started": "2022-04-04T23:47:43.419239Z"
    },
    "papermill": {
     "duration": 1.390877,
     "end_time": "2022-04-04T23:51:24.015617",
     "exception": false,
     "start_time": "2022-04-04T23:51:22.624740",
     "status": "completed"
    },
    "tags": []
   },
   "outputs": [
    {
     "data": {
      "image/png": "[encoded data removed]",
      "text/plain": [
       "<Figure size 720x576 with 6 Axes>"
      ]
     },
     "metadata": {
      "needs_background": "light"
     },
     "output_type": "display_data"
    }
   ],
   "source": [
    "train.hist(bins = 50, figsize = (10,8))\n",
    "plt.show()"
   ]
  },
  {
   "cell_type": "code",
   "execution_count": 13,
   "id": "40b3f95c",
   "metadata": {
    "execution": {
     "iopub.execute_input": "2022-04-04T23:51:24.103745Z",
     "iopub.status.busy": "2022-04-04T23:51:24.103009Z",
     "iopub.status.idle": "2022-04-04T23:51:24.137756Z",
     "shell.execute_reply": "2022-04-04T23:51:24.137162Z",
     "shell.execute_reply.started": "2022-04-04T23:47:44.753340Z"
    },
    "papermill": {
     "duration": 0.079204,
     "end_time": "2022-04-04T23:51:24.137953",
     "exception": false,
     "start_time": "2022-04-04T23:51:24.058749",
     "status": "completed"
    },
    "tags": []
   },
   "outputs": [
    {
     "data": {
      "text/html": [
       "<div>\n",
       "<style scoped>\n",
       "    .dataframe tbody tr th:only-of-type {\n",
       "        vertical-align: middle;\n",
       "    }\n",
       "\n",
       "    .dataframe tbody tr th {\n",
       "        vertical-align: top;\n",
       "    }\n",
       "\n",
       "    .dataframe thead th {\n",
       "        text-align: right;\n",
       "    }\n",
       "</style>\n",
       "<table border=\"1\" class=\"dataframe\">\n",
       "  <thead>\n",
       "    <tr style=\"text-align: right;\">\n",
       "      <th></th>\n",
       "      <th>Age</th>\n",
       "      <th>RoomService</th>\n",
       "      <th>FoodCourt</th>\n",
       "      <th>ShoppingMall</th>\n",
       "      <th>Spa</th>\n",
       "      <th>VRDeck</th>\n",
       "    </tr>\n",
       "  </thead>\n",
       "  <tbody>\n",
       "    <tr>\n",
       "      <th>count</th>\n",
       "      <td>8514.000000</td>\n",
       "      <td>8512.000000</td>\n",
       "      <td>8510.000000</td>\n",
       "      <td>8485.000000</td>\n",
       "      <td>8510.000000</td>\n",
       "      <td>8505.000000</td>\n",
       "    </tr>\n",
       "    <tr>\n",
       "      <th>mean</th>\n",
       "      <td>28.827930</td>\n",
       "      <td>224.687617</td>\n",
       "      <td>458.077203</td>\n",
       "      <td>173.729169</td>\n",
       "      <td>311.138778</td>\n",
       "      <td>304.854791</td>\n",
       "    </tr>\n",
       "    <tr>\n",
       "      <th>std</th>\n",
       "      <td>14.489021</td>\n",
       "      <td>666.717663</td>\n",
       "      <td>1611.489240</td>\n",
       "      <td>604.696458</td>\n",
       "      <td>1136.705535</td>\n",
       "      <td>1145.717189</td>\n",
       "    </tr>\n",
       "    <tr>\n",
       "      <th>min</th>\n",
       "      <td>0.000000</td>\n",
       "      <td>0.000000</td>\n",
       "      <td>0.000000</td>\n",
       "      <td>0.000000</td>\n",
       "      <td>0.000000</td>\n",
       "      <td>0.000000</td>\n",
       "    </tr>\n",
       "    <tr>\n",
       "      <th>25%</th>\n",
       "      <td>19.000000</td>\n",
       "      <td>0.000000</td>\n",
       "      <td>0.000000</td>\n",
       "      <td>0.000000</td>\n",
       "      <td>0.000000</td>\n",
       "      <td>0.000000</td>\n",
       "    </tr>\n",
       "    <tr>\n",
       "      <th>50%</th>\n",
       "      <td>27.000000</td>\n",
       "      <td>0.000000</td>\n",
       "      <td>0.000000</td>\n",
       "      <td>0.000000</td>\n",
       "      <td>0.000000</td>\n",
       "      <td>0.000000</td>\n",
       "    </tr>\n",
       "    <tr>\n",
       "      <th>75%</th>\n",
       "      <td>38.000000</td>\n",
       "      <td>47.000000</td>\n",
       "      <td>76.000000</td>\n",
       "      <td>27.000000</td>\n",
       "      <td>59.000000</td>\n",
       "      <td>46.000000</td>\n",
       "    </tr>\n",
       "    <tr>\n",
       "      <th>max</th>\n",
       "      <td>79.000000</td>\n",
       "      <td>14327.000000</td>\n",
       "      <td>29813.000000</td>\n",
       "      <td>23492.000000</td>\n",
       "      <td>22408.000000</td>\n",
       "      <td>24133.000000</td>\n",
       "    </tr>\n",
       "  </tbody>\n",
       "</table>\n",
       "</div>"
      ],
      "text/plain": [
       "               Age   RoomService     FoodCourt  ShoppingMall           Spa  \\\n",
       "count  8514.000000   8512.000000   8510.000000   8485.000000   8510.000000   \n",
       "mean     28.827930    224.687617    458.077203    173.729169    311.138778   \n",
       "std      14.489021    666.717663   1611.489240    604.696458   1136.705535   \n",
       "min       0.000000      0.000000      0.000000      0.000000      0.000000   \n",
       "25%      19.000000      0.000000      0.000000      0.000000      0.000000   \n",
       "50%      27.000000      0.000000      0.000000      0.000000      0.000000   \n",
       "75%      38.000000     47.000000     76.000000     27.000000     59.000000   \n",
       "max      79.000000  14327.000000  29813.000000  23492.000000  22408.000000   \n",
       "\n",
       "             VRDeck  \n",
       "count   8505.000000  \n",
       "mean     304.854791  \n",
       "std     1145.717189  \n",
       "min        0.000000  \n",
       "25%        0.000000  \n",
       "50%        0.000000  \n",
       "75%       46.000000  \n",
       "max    24133.000000  "
      ]
     },
     "execution_count": 13,
     "metadata": {},
     "output_type": "execute_result"
    }
   ],
   "source": [
    "train.describe()"
   ]
  },
  {
   "cell_type": "code",
   "execution_count": 14,
   "id": "17191f32",
   "metadata": {
    "execution": {
     "iopub.execute_input": "2022-04-04T23:51:24.224870Z",
     "iopub.status.busy": "2022-04-04T23:51:24.224134Z",
     "iopub.status.idle": "2022-04-04T23:51:24.227400Z",
     "shell.execute_reply": "2022-04-04T23:51:24.226856Z",
     "shell.execute_reply.started": "2022-04-04T23:47:44.789185Z"
    },
    "papermill": {
     "duration": 0.048599,
     "end_time": "2022-04-04T23:51:24.227570",
     "exception": false,
     "start_time": "2022-04-04T23:51:24.178971",
     "status": "completed"
    },
    "tags": []
   },
   "outputs": [],
   "source": [
    "#train[train.Spa > 10000]"
   ]
  },
  {
   "cell_type": "code",
   "execution_count": 15,
   "id": "f389165e",
   "metadata": {
    "execution": {
     "iopub.execute_input": "2022-04-04T23:51:24.314566Z",
     "iopub.status.busy": "2022-04-04T23:51:24.313812Z",
     "iopub.status.idle": "2022-04-04T23:51:24.619045Z",
     "shell.execute_reply": "2022-04-04T23:51:24.619524Z",
     "shell.execute_reply.started": "2022-04-04T23:47:44.795879Z"
    },
    "papermill": {
     "duration": 0.351293,
     "end_time": "2022-04-04T23:51:24.619728",
     "exception": false,
     "start_time": "2022-04-04T23:51:24.268435",
     "status": "completed"
    },
    "tags": []
   },
   "outputs": [
    {
     "data": {
      "image/png": "[encoded data removed]",
      "text/plain": [
       "<Figure size 432x288 with 2 Axes>"
      ]
     },
     "metadata": {
      "needs_background": "light"
     },
     "output_type": "display_data"
    }
   ],
   "source": [
    "sns.heatmap(train.corr(), cmap = 'coolwarm')\n",
    "plt.show()"
   ]
  },
  {
   "cell_type": "code",
   "execution_count": 16,
   "id": "43c0c222",
   "metadata": {
    "execution": {
     "iopub.execute_input": "2022-04-04T23:51:24.712352Z",
     "iopub.status.busy": "2022-04-04T23:51:24.711546Z",
     "iopub.status.idle": "2022-04-04T23:51:24.722686Z",
     "shell.execute_reply": "2022-04-04T23:51:24.723338Z",
     "shell.execute_reply.started": "2022-04-04T23:47:45.086473Z"
    },
    "papermill": {
     "duration": 0.0621,
     "end_time": "2022-04-04T23:51:24.723533",
     "exception": false,
     "start_time": "2022-04-04T23:51:24.661433",
     "status": "completed"
    },
    "tags": []
   },
   "outputs": [
    {
     "data": {
      "text/html": [
       "<div>\n",
       "<style scoped>\n",
       "    .dataframe tbody tr th:only-of-type {\n",
       "        vertical-align: middle;\n",
       "    }\n",
       "\n",
       "    .dataframe tbody tr th {\n",
       "        vertical-align: top;\n",
       "    }\n",
       "\n",
       "    .dataframe thead th {\n",
       "        text-align: right;\n",
       "    }\n",
       "</style>\n",
       "<table border=\"1\" class=\"dataframe\">\n",
       "  <thead>\n",
       "    <tr style=\"text-align: right;\">\n",
       "      <th></th>\n",
       "      <th>index</th>\n",
       "      <th>Transported</th>\n",
       "    </tr>\n",
       "  </thead>\n",
       "  <tbody>\n",
       "    <tr>\n",
       "      <th>0</th>\n",
       "      <td>RoomService</td>\n",
       "      <td>-0.244611</td>\n",
       "    </tr>\n",
       "    <tr>\n",
       "      <th>1</th>\n",
       "      <td>Spa</td>\n",
       "      <td>-0.221131</td>\n",
       "    </tr>\n",
       "    <tr>\n",
       "      <th>2</th>\n",
       "      <td>VRDeck</td>\n",
       "      <td>-0.207075</td>\n",
       "    </tr>\n",
       "    <tr>\n",
       "      <th>3</th>\n",
       "      <td>Age</td>\n",
       "      <td>-0.075026</td>\n",
       "    </tr>\n",
       "    <tr>\n",
       "      <th>4</th>\n",
       "      <td>ShoppingMall</td>\n",
       "      <td>0.010141</td>\n",
       "    </tr>\n",
       "    <tr>\n",
       "      <th>5</th>\n",
       "      <td>FoodCourt</td>\n",
       "      <td>0.046566</td>\n",
       "    </tr>\n",
       "    <tr>\n",
       "      <th>6</th>\n",
       "      <td>Transported</td>\n",
       "      <td>1.000000</td>\n",
       "    </tr>\n",
       "  </tbody>\n",
       "</table>\n",
       "</div>"
      ],
      "text/plain": [
       "          index  Transported\n",
       "0   RoomService    -0.244611\n",
       "1           Spa    -0.221131\n",
       "2        VRDeck    -0.207075\n",
       "3           Age    -0.075026\n",
       "4  ShoppingMall     0.010141\n",
       "5     FoodCourt     0.046566\n",
       "6   Transported     1.000000"
      ]
     },
     "execution_count": 16,
     "metadata": {},
     "output_type": "execute_result"
    }
   ],
   "source": [
    "train.corr()['Transported'].sort_values().reset_index()"
   ]
  },
  {
   "cell_type": "markdown",
   "id": "1853f9c8",
   "metadata": {
    "papermill": {
     "duration": 0.043117,
     "end_time": "2022-04-04T23:51:24.810078",
     "exception": false,
     "start_time": "2022-04-04T23:51:24.766961",
     "status": "completed"
    },
    "tags": []
   },
   "source": [
    "# FE"
   ]
  },
  {
   "cell_type": "code",
   "execution_count": 17,
   "id": "a8afb92b",
   "metadata": {
    "execution": {
     "iopub.execute_input": "2022-04-04T23:51:24.905536Z",
     "iopub.status.busy": "2022-04-04T23:51:24.904790Z",
     "iopub.status.idle": "2022-04-04T23:51:24.940614Z",
     "shell.execute_reply": "2022-04-04T23:51:24.941170Z",
     "shell.execute_reply.started": "2022-04-04T23:47:45.105778Z"
    },
    "papermill": {
     "duration": 0.087247,
     "end_time": "2022-04-04T23:51:24.941373",
     "exception": false,
     "start_time": "2022-04-04T23:51:24.854126",
     "status": "completed"
    },
    "tags": []
   },
   "outputs": [
    {
     "name": "stdout",
     "output_type": "stream",
     "text": [
      "(12970, 14)\n"
     ]
    }
   ],
   "source": [
    "df = pd.concat([train, test])\n",
    "\n",
    "df['Transported'] = df['Transported'].fillna(-1).astype('int')\n",
    "df['CryoSleep'] = df['CryoSleep'].fillna(-1).astype('int')\n",
    "df['VIP'] = df['VIP'].fillna(-1).astype('int')\n",
    "\n",
    "obj_cols = ['HomePlanet',   'Destination', 'Name','Cabin']\n",
    "for c in obj_cols:\n",
    "    df[c] = df[c].fillna('None')\n",
    "\n",
    "num_cols = ['Age','RoomService', 'FoodCourt', 'ShoppingMall', 'Spa', 'VRDeck']\n",
    "for c in num_cols:\n",
    "    df[c] = df[c].fillna(df[c].median())\n",
    "    \n",
    "  \n",
    "print(df.shape)"
   ]
  },
  {
   "cell_type": "code",
   "execution_count": 18,
   "id": "c19bbedc",
   "metadata": {
    "execution": {
     "iopub.execute_input": "2022-04-04T23:51:25.033074Z",
     "iopub.status.busy": "2022-04-04T23:51:25.032331Z",
     "iopub.status.idle": "2022-04-04T23:51:25.291172Z",
     "shell.execute_reply": "2022-04-04T23:51:25.291687Z",
     "shell.execute_reply.started": "2022-04-04T23:50:31.509357Z"
    },
    "papermill": {
     "duration": 0.306336,
     "end_time": "2022-04-04T23:51:25.291881",
     "exception": false,
     "start_time": "2022-04-04T23:51:24.985545",
     "status": "completed"
    },
    "tags": []
   },
   "outputs": [
    {
     "data": {
      "text/html": [
       "<div>\n",
       "<style scoped>\n",
       "    .dataframe tbody tr th:only-of-type {\n",
       "        vertical-align: middle;\n",
       "    }\n",
       "\n",
       "    .dataframe tbody tr th {\n",
       "        vertical-align: top;\n",
       "    }\n",
       "\n",
       "    .dataframe thead th {\n",
       "        text-align: right;\n",
       "    }\n",
       "</style>\n",
       "<table border=\"1\" class=\"dataframe\">\n",
       "  <thead>\n",
       "    <tr style=\"text-align: right;\">\n",
       "      <th></th>\n",
       "      <th>PassengerId</th>\n",
       "      <th>HomePlanet</th>\n",
       "      <th>CryoSleep</th>\n",
       "      <th>Cabin</th>\n",
       "      <th>Destination</th>\n",
       "      <th>Age</th>\n",
       "      <th>VIP</th>\n",
       "      <th>RoomService</th>\n",
       "      <th>FoodCourt</th>\n",
       "      <th>ShoppingMall</th>\n",
       "      <th>Spa</th>\n",
       "      <th>VRDeck</th>\n",
       "      <th>Name</th>\n",
       "      <th>Transported</th>\n",
       "      <th>deck</th>\n",
       "      <th>num</th>\n",
       "      <th>side</th>\n",
       "      <th>deck_side</th>\n",
       "      <th>num_by_deck</th>\n",
       "      <th>FoodCourt_by_deck</th>\n",
       "    </tr>\n",
       "  </thead>\n",
       "  <tbody>\n",
       "    <tr>\n",
       "      <th>0</th>\n",
       "      <td>0001_01</td>\n",
       "      <td>Europa</td>\n",
       "      <td>0</td>\n",
       "      <td>B/0/P</td>\n",
       "      <td>TRAPPIST-1e</td>\n",
       "      <td>39.0</td>\n",
       "      <td>0</td>\n",
       "      <td>0.0</td>\n",
       "      <td>0.0</td>\n",
       "      <td>0.0</td>\n",
       "      <td>0.0</td>\n",
       "      <td>0.0</td>\n",
       "      <td>Maham Ofracculy</td>\n",
       "      <td>0</td>\n",
       "      <td>B</td>\n",
       "      <td>0</td>\n",
       "      <td>P</td>\n",
       "      <td>B_P</td>\n",
       "      <td>151.554688</td>\n",
       "      <td>1208.769531</td>\n",
       "    </tr>\n",
       "    <tr>\n",
       "      <th>1</th>\n",
       "      <td>0002_01</td>\n",
       "      <td>Earth</td>\n",
       "      <td>0</td>\n",
       "      <td>F/0/S</td>\n",
       "      <td>TRAPPIST-1e</td>\n",
       "      <td>24.0</td>\n",
       "      <td>0</td>\n",
       "      <td>109.0</td>\n",
       "      <td>9.0</td>\n",
       "      <td>25.0</td>\n",
       "      <td>549.0</td>\n",
       "      <td>44.0</td>\n",
       "      <td>Juanna Vines</td>\n",
       "      <td>1</td>\n",
       "      <td>F</td>\n",
       "      <td>0</td>\n",
       "      <td>S</td>\n",
       "      <td>F_S</td>\n",
       "      <td>893.963610</td>\n",
       "      <td>138.884037</td>\n",
       "    </tr>\n",
       "    <tr>\n",
       "      <th>2</th>\n",
       "      <td>0003_01</td>\n",
       "      <td>Europa</td>\n",
       "      <td>0</td>\n",
       "      <td>A/0/S</td>\n",
       "      <td>TRAPPIST-1e</td>\n",
       "      <td>58.0</td>\n",
       "      <td>1</td>\n",
       "      <td>43.0</td>\n",
       "      <td>3576.0</td>\n",
       "      <td>0.0</td>\n",
       "      <td>6715.0</td>\n",
       "      <td>49.0</td>\n",
       "      <td>Altark Susent</td>\n",
       "      <td>0</td>\n",
       "      <td>A</td>\n",
       "      <td>0</td>\n",
       "      <td>S</td>\n",
       "      <td>A_S</td>\n",
       "      <td>52.388298</td>\n",
       "      <td>1552.015957</td>\n",
       "    </tr>\n",
       "    <tr>\n",
       "      <th>3</th>\n",
       "      <td>0003_02</td>\n",
       "      <td>Europa</td>\n",
       "      <td>0</td>\n",
       "      <td>A/0/S</td>\n",
       "      <td>TRAPPIST-1e</td>\n",
       "      <td>33.0</td>\n",
       "      <td>0</td>\n",
       "      <td>0.0</td>\n",
       "      <td>1283.0</td>\n",
       "      <td>371.0</td>\n",
       "      <td>3329.0</td>\n",
       "      <td>193.0</td>\n",
       "      <td>Solam Susent</td>\n",
       "      <td>0</td>\n",
       "      <td>A</td>\n",
       "      <td>0</td>\n",
       "      <td>S</td>\n",
       "      <td>A_S</td>\n",
       "      <td>52.388298</td>\n",
       "      <td>1552.015957</td>\n",
       "    </tr>\n",
       "    <tr>\n",
       "      <th>4</th>\n",
       "      <td>0004_01</td>\n",
       "      <td>Earth</td>\n",
       "      <td>0</td>\n",
       "      <td>F/1/S</td>\n",
       "      <td>TRAPPIST-1e</td>\n",
       "      <td>16.0</td>\n",
       "      <td>0</td>\n",
       "      <td>303.0</td>\n",
       "      <td>70.0</td>\n",
       "      <td>151.0</td>\n",
       "      <td>565.0</td>\n",
       "      <td>2.0</td>\n",
       "      <td>Willy Santantines</td>\n",
       "      <td>1</td>\n",
       "      <td>F</td>\n",
       "      <td>1</td>\n",
       "      <td>S</td>\n",
       "      <td>F_S</td>\n",
       "      <td>893.963610</td>\n",
       "      <td>138.884037</td>\n",
       "    </tr>\n",
       "  </tbody>\n",
       "</table>\n",
       "</div>"
      ],
      "text/plain": [
       "  PassengerId HomePlanet  CryoSleep  Cabin  Destination   Age  VIP  \\\n",
       "0     0001_01     Europa          0  B/0/P  TRAPPIST-1e  39.0    0   \n",
       "1     0002_01      Earth          0  F/0/S  TRAPPIST-1e  24.0    0   \n",
       "2     0003_01     Europa          0  A/0/S  TRAPPIST-1e  58.0    1   \n",
       "3     0003_02     Europa          0  A/0/S  TRAPPIST-1e  33.0    0   \n",
       "4     0004_01      Earth          0  F/1/S  TRAPPIST-1e  16.0    0   \n",
       "\n",
       "   RoomService  FoodCourt  ShoppingMall     Spa  VRDeck               Name  \\\n",
       "0          0.0        0.0           0.0     0.0     0.0    Maham Ofracculy   \n",
       "1        109.0        9.0          25.0   549.0    44.0       Juanna Vines   \n",
       "2         43.0     3576.0           0.0  6715.0    49.0      Altark Susent   \n",
       "3          0.0     1283.0         371.0  3329.0   193.0       Solam Susent   \n",
       "4        303.0       70.0         151.0   565.0     2.0  Willy Santantines   \n",
       "\n",
       "   Transported deck  num side deck_side  num_by_deck  FoodCourt_by_deck  \n",
       "0            0    B    0    P       B_P   151.554688        1208.769531  \n",
       "1            1    F    0    S       F_S   893.963610         138.884037  \n",
       "2            0    A    0    S       A_S    52.388298        1552.015957  \n",
       "3            0    A    0    S       A_S    52.388298        1552.015957  \n",
       "4            1    F    1    S       F_S   893.963610         138.884037  "
      ]
     },
     "execution_count": 18,
     "metadata": {},
     "output_type": "execute_result"
    }
   ],
   "source": [
    "df['deck'] = df['Cabin'].astype(str).apply(lambda x: x.split('/')[0])\n",
    "df['num'] = df['Cabin'].astype(str).apply(lambda x: int(x.split('/')[1]) if x != 'None' else -1)\n",
    "df['side'] = df['Cabin'].astype(str).apply(lambda x: x.split('/')[-1])\n",
    "\n",
    "#df['total_spent'] = df[['RoomService', 'FoodCourt', 'ShoppingMall', 'Spa', 'VRDeck']].sum(axis = 1)\n",
    "#df['Age'] = pd.cut(df['Age'], 8)\n",
    "\n",
    "df['deck_side'] = df['deck'].astype(str) + '_' + df['side'].astype(str)\n",
    "df['num_by_deck'] = df.groupby('deck_side')['num'].transform('mean')\n",
    "df['FoodCourt_by_deck'] = df.groupby('deck_side')['FoodCourt'].transform('mean')\n",
    "\n",
    "df.head()"
   ]
  },
  {
   "cell_type": "code",
   "execution_count": 19,
   "id": "b380b948",
   "metadata": {
    "execution": {
     "iopub.execute_input": "2022-04-04T23:51:25.390302Z",
     "iopub.status.busy": "2022-04-04T23:51:25.389498Z",
     "iopub.status.idle": "2022-04-04T23:51:25.412498Z",
     "shell.execute_reply": "2022-04-04T23:51:25.413585Z",
     "shell.execute_reply.started": "2022-04-04T23:50:31.570931Z"
    },
    "papermill": {
     "duration": 0.074768,
     "end_time": "2022-04-04T23:51:25.413810",
     "exception": false,
     "start_time": "2022-04-04T23:51:25.339042",
     "status": "completed"
    },
    "tags": []
   },
   "outputs": [
    {
     "data": {
      "text/plain": [
       "PassengerId          0\n",
       "HomePlanet           0\n",
       "CryoSleep            0\n",
       "Cabin                0\n",
       "Destination          0\n",
       "Age                  0\n",
       "VIP                  0\n",
       "RoomService          0\n",
       "FoodCourt            0\n",
       "ShoppingMall         0\n",
       "Spa                  0\n",
       "VRDeck               0\n",
       "Name                 0\n",
       "Transported          0\n",
       "deck                 0\n",
       "num                  0\n",
       "side                 0\n",
       "deck_side            0\n",
       "num_by_deck          0\n",
       "FoodCourt_by_deck    0\n",
       "dtype: int64"
      ]
     },
     "execution_count": 19,
     "metadata": {},
     "output_type": "execute_result"
    }
   ],
   "source": [
    "df.isnull().sum()"
   ]
  },
  {
   "cell_type": "markdown",
   "id": "21cfe45f",
   "metadata": {
    "papermill": {
     "duration": 0.044672,
     "end_time": "2022-04-04T23:51:25.503529",
     "exception": false,
     "start_time": "2022-04-04T23:51:25.458857",
     "status": "completed"
    },
    "tags": []
   },
   "source": [
    "# Pre-processing"
   ]
  },
  {
   "cell_type": "code",
   "execution_count": 20,
   "id": "f363e806",
   "metadata": {
    "execution": {
     "iopub.execute_input": "2022-04-04T23:51:25.598887Z",
     "iopub.status.busy": "2022-04-04T23:51:25.598196Z",
     "iopub.status.idle": "2022-04-04T23:51:25.803058Z",
     "shell.execute_reply": "2022-04-04T23:51:25.802469Z",
     "shell.execute_reply.started": "2022-04-04T23:50:31.591235Z"
    },
    "papermill": {
     "duration": 0.252795,
     "end_time": "2022-04-04T23:51:25.803228",
     "exception": false,
     "start_time": "2022-04-04T23:51:25.550433",
     "status": "completed"
    },
    "tags": []
   },
   "outputs": [
    {
     "data": {
      "text/html": [
       "<div>\n",
       "<style scoped>\n",
       "    .dataframe tbody tr th:only-of-type {\n",
       "        vertical-align: middle;\n",
       "    }\n",
       "\n",
       "    .dataframe tbody tr th {\n",
       "        vertical-align: top;\n",
       "    }\n",
       "\n",
       "    .dataframe thead th {\n",
       "        text-align: right;\n",
       "    }\n",
       "</style>\n",
       "<table border=\"1\" class=\"dataframe\">\n",
       "  <thead>\n",
       "    <tr style=\"text-align: right;\">\n",
       "      <th></th>\n",
       "      <th>PassengerId</th>\n",
       "      <th>HomePlanet</th>\n",
       "      <th>CryoSleep</th>\n",
       "      <th>Cabin</th>\n",
       "      <th>Destination</th>\n",
       "      <th>Age</th>\n",
       "      <th>VIP</th>\n",
       "      <th>RoomService</th>\n",
       "      <th>FoodCourt</th>\n",
       "      <th>ShoppingMall</th>\n",
       "      <th>Spa</th>\n",
       "      <th>VRDeck</th>\n",
       "      <th>Name</th>\n",
       "      <th>Transported</th>\n",
       "      <th>deck</th>\n",
       "      <th>num</th>\n",
       "      <th>side</th>\n",
       "      <th>deck_side</th>\n",
       "      <th>num_by_deck</th>\n",
       "      <th>FoodCourt_by_deck</th>\n",
       "    </tr>\n",
       "  </thead>\n",
       "  <tbody>\n",
       "    <tr>\n",
       "      <th>0</th>\n",
       "      <td>0001_01</td>\n",
       "      <td>1</td>\n",
       "      <td>0</td>\n",
       "      <td>B/0/P</td>\n",
       "      <td>3</td>\n",
       "      <td>39</td>\n",
       "      <td>0</td>\n",
       "      <td>0.0</td>\n",
       "      <td>0.0</td>\n",
       "      <td>0.0</td>\n",
       "      <td>0.0</td>\n",
       "      <td>0.0</td>\n",
       "      <td>Maham Ofracculy</td>\n",
       "      <td>0</td>\n",
       "      <td>1</td>\n",
       "      <td>0</td>\n",
       "      <td>1</td>\n",
       "      <td>2</td>\n",
       "      <td>151.554688</td>\n",
       "      <td>1208.769531</td>\n",
       "    </tr>\n",
       "    <tr>\n",
       "      <th>1</th>\n",
       "      <td>0002_01</td>\n",
       "      <td>0</td>\n",
       "      <td>0</td>\n",
       "      <td>F/0/S</td>\n",
       "      <td>3</td>\n",
       "      <td>24</td>\n",
       "      <td>0</td>\n",
       "      <td>109.0</td>\n",
       "      <td>9.0</td>\n",
       "      <td>25.0</td>\n",
       "      <td>549.0</td>\n",
       "      <td>44.0</td>\n",
       "      <td>Juanna Vines</td>\n",
       "      <td>1</td>\n",
       "      <td>5</td>\n",
       "      <td>0</td>\n",
       "      <td>2</td>\n",
       "      <td>11</td>\n",
       "      <td>893.963610</td>\n",
       "      <td>138.884037</td>\n",
       "    </tr>\n",
       "    <tr>\n",
       "      <th>2</th>\n",
       "      <td>0003_01</td>\n",
       "      <td>1</td>\n",
       "      <td>0</td>\n",
       "      <td>A/0/S</td>\n",
       "      <td>3</td>\n",
       "      <td>58</td>\n",
       "      <td>1</td>\n",
       "      <td>43.0</td>\n",
       "      <td>3576.0</td>\n",
       "      <td>0.0</td>\n",
       "      <td>6715.0</td>\n",
       "      <td>49.0</td>\n",
       "      <td>Altark Susent</td>\n",
       "      <td>0</td>\n",
       "      <td>0</td>\n",
       "      <td>0</td>\n",
       "      <td>2</td>\n",
       "      <td>1</td>\n",
       "      <td>52.388298</td>\n",
       "      <td>1552.015957</td>\n",
       "    </tr>\n",
       "    <tr>\n",
       "      <th>3</th>\n",
       "      <td>0003_02</td>\n",
       "      <td>1</td>\n",
       "      <td>0</td>\n",
       "      <td>A/0/S</td>\n",
       "      <td>3</td>\n",
       "      <td>33</td>\n",
       "      <td>0</td>\n",
       "      <td>0.0</td>\n",
       "      <td>1283.0</td>\n",
       "      <td>371.0</td>\n",
       "      <td>3329.0</td>\n",
       "      <td>193.0</td>\n",
       "      <td>Solam Susent</td>\n",
       "      <td>0</td>\n",
       "      <td>0</td>\n",
       "      <td>0</td>\n",
       "      <td>2</td>\n",
       "      <td>1</td>\n",
       "      <td>52.388298</td>\n",
       "      <td>1552.015957</td>\n",
       "    </tr>\n",
       "    <tr>\n",
       "      <th>4</th>\n",
       "      <td>0004_01</td>\n",
       "      <td>0</td>\n",
       "      <td>0</td>\n",
       "      <td>F/1/S</td>\n",
       "      <td>3</td>\n",
       "      <td>16</td>\n",
       "      <td>0</td>\n",
       "      <td>303.0</td>\n",
       "      <td>70.0</td>\n",
       "      <td>151.0</td>\n",
       "      <td>565.0</td>\n",
       "      <td>2.0</td>\n",
       "      <td>Willy Santantines</td>\n",
       "      <td>1</td>\n",
       "      <td>5</td>\n",
       "      <td>1</td>\n",
       "      <td>2</td>\n",
       "      <td>11</td>\n",
       "      <td>893.963610</td>\n",
       "      <td>138.884037</td>\n",
       "    </tr>\n",
       "  </tbody>\n",
       "</table>\n",
       "</div>"
      ],
      "text/plain": [
       "  PassengerId  HomePlanet  CryoSleep  Cabin  Destination  Age  VIP  \\\n",
       "0     0001_01           1          0  B/0/P            3   39    0   \n",
       "1     0002_01           0          0  F/0/S            3   24    0   \n",
       "2     0003_01           1          0  A/0/S            3   58    1   \n",
       "3     0003_02           1          0  A/0/S            3   33    0   \n",
       "4     0004_01           0          0  F/1/S            3   16    0   \n",
       "\n",
       "   RoomService  FoodCourt  ShoppingMall     Spa  VRDeck               Name  \\\n",
       "0          0.0        0.0           0.0     0.0     0.0    Maham Ofracculy   \n",
       "1        109.0        9.0          25.0   549.0    44.0       Juanna Vines   \n",
       "2         43.0     3576.0           0.0  6715.0    49.0      Altark Susent   \n",
       "3          0.0     1283.0         371.0  3329.0   193.0       Solam Susent   \n",
       "4        303.0       70.0         151.0   565.0     2.0  Willy Santantines   \n",
       "\n",
       "   Transported  deck  num  side  deck_side  num_by_deck  FoodCourt_by_deck  \n",
       "0            0     1    0     1          2   151.554688        1208.769531  \n",
       "1            1     5    0     2         11   893.963610         138.884037  \n",
       "2            0     0    0     2          1    52.388298        1552.015957  \n",
       "3            0     0    0     2          1    52.388298        1552.015957  \n",
       "4            1     5    1     2         11   893.963610         138.884037  "
      ]
     },
     "execution_count": 20,
     "metadata": {},
     "output_type": "execute_result"
    }
   ],
   "source": [
    "from sklearn.preprocessing import LabelEncoder, StandardScaler\n",
    "le = LabelEncoder()\n",
    "\n",
    "for c in ['deck','side','Destination','HomePlanet','Age', 'deck_side']:\n",
    "    df[c] = le.fit_transform(df[c])\n",
    "\n",
    "df.head()    "
   ]
  },
  {
   "cell_type": "code",
   "execution_count": 21,
   "id": "1de541f8",
   "metadata": {
    "execution": {
     "iopub.execute_input": "2022-04-04T23:51:25.904931Z",
     "iopub.status.busy": "2022-04-04T23:51:25.904178Z",
     "iopub.status.idle": "2022-04-04T23:51:25.912653Z",
     "shell.execute_reply": "2022-04-04T23:51:25.913348Z",
     "shell.execute_reply.started": "2022-04-04T23:50:31.634566Z"
    },
    "papermill": {
     "duration": 0.06193,
     "end_time": "2022-04-04T23:51:25.913557",
     "exception": false,
     "start_time": "2022-04-04T23:51:25.851627",
     "status": "completed"
    },
    "tags": []
   },
   "outputs": [
    {
     "data": {
      "text/plain": [
       "True     144\n",
       "False     34\n",
       "Name: Transported, dtype: int64"
      ]
     },
     "execution_count": 21,
     "metadata": {},
     "output_type": "execute_result"
    }
   ],
   "source": [
    "train[train.Age < 1]['Transported'].value_counts()"
   ]
  },
  {
   "cell_type": "code",
   "execution_count": 22,
   "id": "08bb08c8",
   "metadata": {
    "execution": {
     "iopub.execute_input": "2022-04-04T23:51:26.016234Z",
     "iopub.status.busy": "2022-04-04T23:51:26.015189Z",
     "iopub.status.idle": "2022-04-04T23:51:26.030132Z",
     "shell.execute_reply": "2022-04-04T23:51:26.030675Z",
     "shell.execute_reply.started": "2022-04-04T23:50:31.668629Z"
    },
    "papermill": {
     "duration": 0.067077,
     "end_time": "2022-04-04T23:51:26.030877",
     "exception": false,
     "start_time": "2022-04-04T23:51:25.963800",
     "status": "completed"
    },
    "tags": []
   },
   "outputs": [
    {
     "name": "stdout",
     "output_type": "stream",
     "text": [
      "(8693, 16)\n",
      "(4277, 16)\n"
     ]
    }
   ],
   "source": [
    "train = df[:len(train)]\n",
    "test = df[-len(test):]\n",
    "\n",
    "X_train = train.drop(['PassengerId','Cabin','Name','Transported'], axis = 1)\n",
    "y_train = train.Transported\n",
    "\n",
    "X_test = test.drop(['PassengerId','Cabin','Name','Transported'], axis = 1)\n",
    "\n",
    "print(X_train.shape)\n",
    "print(X_test.shape)"
   ]
  },
  {
   "cell_type": "code",
   "execution_count": 23,
   "id": "47cdb923",
   "metadata": {
    "execution": {
     "iopub.execute_input": "2022-04-04T23:51:26.129334Z",
     "iopub.status.busy": "2022-04-04T23:51:26.128607Z",
     "iopub.status.idle": "2022-04-04T23:51:26.147753Z",
     "shell.execute_reply": "2022-04-04T23:51:26.148437Z",
     "shell.execute_reply.started": "2022-04-04T23:50:31.696305Z"
    },
    "papermill": {
     "duration": 0.070971,
     "end_time": "2022-04-04T23:51:26.148657",
     "exception": false,
     "start_time": "2022-04-04T23:51:26.077686",
     "status": "completed"
    },
    "tags": []
   },
   "outputs": [
    {
     "data": {
      "text/html": [
       "<div>\n",
       "<style scoped>\n",
       "    .dataframe tbody tr th:only-of-type {\n",
       "        vertical-align: middle;\n",
       "    }\n",
       "\n",
       "    .dataframe tbody tr th {\n",
       "        vertical-align: top;\n",
       "    }\n",
       "\n",
       "    .dataframe thead th {\n",
       "        text-align: right;\n",
       "    }\n",
       "</style>\n",
       "<table border=\"1\" class=\"dataframe\">\n",
       "  <thead>\n",
       "    <tr style=\"text-align: right;\">\n",
       "      <th></th>\n",
       "      <th>HomePlanet</th>\n",
       "      <th>CryoSleep</th>\n",
       "      <th>Destination</th>\n",
       "      <th>Age</th>\n",
       "      <th>VIP</th>\n",
       "      <th>RoomService</th>\n",
       "      <th>FoodCourt</th>\n",
       "      <th>ShoppingMall</th>\n",
       "      <th>Spa</th>\n",
       "      <th>VRDeck</th>\n",
       "      <th>deck</th>\n",
       "      <th>num</th>\n",
       "      <th>side</th>\n",
       "      <th>deck_side</th>\n",
       "      <th>num_by_deck</th>\n",
       "      <th>FoodCourt_by_deck</th>\n",
       "    </tr>\n",
       "  </thead>\n",
       "  <tbody>\n",
       "    <tr>\n",
       "      <th>0</th>\n",
       "      <td>1</td>\n",
       "      <td>0</td>\n",
       "      <td>3</td>\n",
       "      <td>39</td>\n",
       "      <td>0</td>\n",
       "      <td>0.0</td>\n",
       "      <td>0.0</td>\n",
       "      <td>0.0</td>\n",
       "      <td>0.0</td>\n",
       "      <td>0.0</td>\n",
       "      <td>1</td>\n",
       "      <td>0</td>\n",
       "      <td>1</td>\n",
       "      <td>2</td>\n",
       "      <td>151.554688</td>\n",
       "      <td>1208.769531</td>\n",
       "    </tr>\n",
       "    <tr>\n",
       "      <th>1</th>\n",
       "      <td>0</td>\n",
       "      <td>0</td>\n",
       "      <td>3</td>\n",
       "      <td>24</td>\n",
       "      <td>0</td>\n",
       "      <td>109.0</td>\n",
       "      <td>9.0</td>\n",
       "      <td>25.0</td>\n",
       "      <td>549.0</td>\n",
       "      <td>44.0</td>\n",
       "      <td>5</td>\n",
       "      <td>0</td>\n",
       "      <td>2</td>\n",
       "      <td>11</td>\n",
       "      <td>893.963610</td>\n",
       "      <td>138.884037</td>\n",
       "    </tr>\n",
       "    <tr>\n",
       "      <th>2</th>\n",
       "      <td>1</td>\n",
       "      <td>0</td>\n",
       "      <td>3</td>\n",
       "      <td>58</td>\n",
       "      <td>1</td>\n",
       "      <td>43.0</td>\n",
       "      <td>3576.0</td>\n",
       "      <td>0.0</td>\n",
       "      <td>6715.0</td>\n",
       "      <td>49.0</td>\n",
       "      <td>0</td>\n",
       "      <td>0</td>\n",
       "      <td>2</td>\n",
       "      <td>1</td>\n",
       "      <td>52.388298</td>\n",
       "      <td>1552.015957</td>\n",
       "    </tr>\n",
       "    <tr>\n",
       "      <th>3</th>\n",
       "      <td>1</td>\n",
       "      <td>0</td>\n",
       "      <td>3</td>\n",
       "      <td>33</td>\n",
       "      <td>0</td>\n",
       "      <td>0.0</td>\n",
       "      <td>1283.0</td>\n",
       "      <td>371.0</td>\n",
       "      <td>3329.0</td>\n",
       "      <td>193.0</td>\n",
       "      <td>0</td>\n",
       "      <td>0</td>\n",
       "      <td>2</td>\n",
       "      <td>1</td>\n",
       "      <td>52.388298</td>\n",
       "      <td>1552.015957</td>\n",
       "    </tr>\n",
       "    <tr>\n",
       "      <th>4</th>\n",
       "      <td>0</td>\n",
       "      <td>0</td>\n",
       "      <td>3</td>\n",
       "      <td>16</td>\n",
       "      <td>0</td>\n",
       "      <td>303.0</td>\n",
       "      <td>70.0</td>\n",
       "      <td>151.0</td>\n",
       "      <td>565.0</td>\n",
       "      <td>2.0</td>\n",
       "      <td>5</td>\n",
       "      <td>1</td>\n",
       "      <td>2</td>\n",
       "      <td>11</td>\n",
       "      <td>893.963610</td>\n",
       "      <td>138.884037</td>\n",
       "    </tr>\n",
       "  </tbody>\n",
       "</table>\n",
       "</div>"
      ],
      "text/plain": [
       "   HomePlanet  CryoSleep  Destination  Age  VIP  RoomService  FoodCourt  \\\n",
       "0           1          0            3   39    0          0.0        0.0   \n",
       "1           0          0            3   24    0        109.0        9.0   \n",
       "2           1          0            3   58    1         43.0     3576.0   \n",
       "3           1          0            3   33    0          0.0     1283.0   \n",
       "4           0          0            3   16    0        303.0       70.0   \n",
       "\n",
       "   ShoppingMall     Spa  VRDeck  deck  num  side  deck_side  num_by_deck  \\\n",
       "0           0.0     0.0     0.0     1    0     1          2   151.554688   \n",
       "1          25.0   549.0    44.0     5    0     2         11   893.963610   \n",
       "2           0.0  6715.0    49.0     0    0     2          1    52.388298   \n",
       "3         371.0  3329.0   193.0     0    0     2          1    52.388298   \n",
       "4         151.0   565.0     2.0     5    1     2         11   893.963610   \n",
       "\n",
       "   FoodCourt_by_deck  \n",
       "0        1208.769531  \n",
       "1         138.884037  \n",
       "2        1552.015957  \n",
       "3        1552.015957  \n",
       "4         138.884037  "
      ]
     },
     "execution_count": 23,
     "metadata": {},
     "output_type": "execute_result"
    }
   ],
   "source": [
    "X_train.head()"
   ]
  },
  {
   "cell_type": "markdown",
   "id": "2ecfd919",
   "metadata": {
    "papermill": {
     "duration": 0.047485,
     "end_time": "2022-04-04T23:51:26.244253",
     "exception": false,
     "start_time": "2022-04-04T23:51:26.196768",
     "status": "completed"
    },
    "tags": []
   },
   "source": [
    "# LGBM"
   ]
  },
  {
   "cell_type": "code",
   "execution_count": 24,
   "id": "ff788efb",
   "metadata": {
    "execution": {
     "iopub.execute_input": "2022-04-04T23:51:26.352879Z",
     "iopub.status.busy": "2022-04-04T23:51:26.347957Z",
     "iopub.status.idle": "2022-04-04T23:51:40.832507Z",
     "shell.execute_reply": "2022-04-04T23:51:40.833839Z",
     "shell.execute_reply.started": "2022-04-04T23:50:31.740718Z"
    },
    "papermill": {
     "duration": 14.542983,
     "end_time": "2022-04-04T23:51:40.834112",
     "exception": false,
     "start_time": "2022-04-04T23:51:26.291129",
     "status": "completed"
    },
    "tags": []
   },
   "outputs": [
    {
     "data": {
      "text/html": [
       "<style type='text/css'>\n",
       ".datatable table.frame { margin-bottom: 0; }\n",
       ".datatable table.frame thead { border-bottom: none; }\n",
       ".datatable table.frame tr.coltypes td {  color: #FFFFFF;  line-height: 6px;  padding: 0 0.5em;}\n",
       ".datatable .bool    { background: #DDDD99; }\n",
       ".datatable .object  { background: #565656; }\n",
       ".datatable .int     { background: #5D9E5D; }\n",
       ".datatable .float   { background: #4040CC; }\n",
       ".datatable .str     { background: #CC4040; }\n",
       ".datatable .time    { background: #40CC40; }\n",
       ".datatable .row_index {  background: var(--jp-border-color3);  border-right: 1px solid var(--jp-border-color0);  color: var(--jp-ui-font-color3);  font-size: 9px;}\n",
       ".datatable .frame tbody td { text-align: left; }\n",
       ".datatable .frame tr.coltypes .row_index {  background: var(--jp-border-color0);}\n",
       ".datatable th:nth-child(2) { padding-left: 12px; }\n",
       ".datatable .hellipsis {  color: var(--jp-cell-editor-border-color);}\n",
       ".datatable .vellipsis {  background: var(--jp-layout-color0);  color: var(--jp-cell-editor-border-color);}\n",
       ".datatable .na {  color: var(--jp-cell-editor-border-color);  font-size: 80%;}\n",
       ".datatable .sp {  opacity: 0.25;}\n",
       ".datatable .footer { font-size: 9px; }\n",
       ".datatable .frame_dimensions {  background: var(--jp-border-color3);  border-top: 1px solid var(--jp-border-color0);  color: var(--jp-ui-font-color3);  display: inline-block;  opacity: 0.6;  padding: 1px 10px 1px 5px;}\n",
       "</style>\n"
      ],
      "text/plain": [
       "<IPython.core.display.HTML object>"
      ]
     },
     "metadata": {},
     "output_type": "display_data"
    },
    {
     "name": "stdout",
     "output_type": "stream",
     "text": [
      "fold  1\n",
      "****************************************\n",
      "[100]\ttraining's auc: 0.903126\ttraining's binary_logloss: 0.49878\tvalid_1's auc: 0.905815\tvalid_1's binary_logloss: 0.493526\n",
      "[200]\ttraining's auc: 0.91221\ttraining's binary_logloss: 0.425284\tvalid_1's auc: 0.911141\tvalid_1's binary_logloss: 0.420882\n",
      "[300]\ttraining's auc: 0.9206\ttraining's binary_logloss: 0.388097\tvalid_1's auc: 0.914899\tvalid_1's binary_logloss: 0.388616\n",
      "[400]\ttraining's auc: 0.927351\ttraining's binary_logloss: 0.364703\tvalid_1's auc: 0.917093\tvalid_1's binary_logloss: 0.371642\n",
      "[500]\ttraining's auc: 0.933122\ttraining's binary_logloss: 0.348192\tvalid_1's auc: 0.918155\tvalid_1's binary_logloss: 0.36316\n",
      "[600]\ttraining's auc: 0.937989\ttraining's binary_logloss: 0.335338\tvalid_1's auc: 0.919193\tvalid_1's binary_logloss: 0.357445\n",
      "[700]\ttraining's auc: 0.942217\ttraining's binary_logloss: 0.324804\tvalid_1's auc: 0.919341\tvalid_1's binary_logloss: 0.354689\n",
      "[800]\ttraining's auc: 0.946016\ttraining's binary_logloss: 0.315718\tvalid_1's auc: 0.919413\tvalid_1's binary_logloss: 0.353039\n",
      "fold  2\n",
      "****************************************\n",
      "[100]\ttraining's auc: 0.907588\ttraining's binary_logloss: 0.493518\tvalid_1's auc: 0.884207\tvalid_1's binary_logloss: 0.5111\n",
      "[200]\ttraining's auc: 0.91673\ttraining's binary_logloss: 0.417216\tvalid_1's auc: 0.890465\tvalid_1's binary_logloss: 0.44475\n",
      "[300]\ttraining's auc: 0.925466\ttraining's binary_logloss: 0.379181\tvalid_1's auc: 0.894247\tvalid_1's binary_logloss: 0.416962\n",
      "[400]\ttraining's auc: 0.931823\ttraining's binary_logloss: 0.355546\tvalid_1's auc: 0.896184\tvalid_1's binary_logloss: 0.403347\n",
      "[500]\ttraining's auc: 0.937724\ttraining's binary_logloss: 0.33833\tvalid_1's auc: 0.898102\tvalid_1's binary_logloss: 0.395994\n",
      "[600]\ttraining's auc: 0.942327\ttraining's binary_logloss: 0.3252\tvalid_1's auc: 0.899689\tvalid_1's binary_logloss: 0.391453\n",
      "[700]\ttraining's auc: 0.946317\ttraining's binary_logloss: 0.314592\tvalid_1's auc: 0.900486\tvalid_1's binary_logloss: 0.389079\n",
      "[800]\ttraining's auc: 0.949907\ttraining's binary_logloss: 0.305545\tvalid_1's auc: 0.900797\tvalid_1's binary_logloss: 0.388096\n",
      "[900]\ttraining's auc: 0.952979\ttraining's binary_logloss: 0.297825\tvalid_1's auc: 0.901088\tvalid_1's binary_logloss: 0.387649\n",
      "[1000]\ttraining's auc: 0.955783\ttraining's binary_logloss: 0.290639\tvalid_1's auc: 0.901293\tvalid_1's binary_logloss: 0.387389\n",
      "[1100]\ttraining's auc: 0.958382\ttraining's binary_logloss: 0.28395\tvalid_1's auc: 0.901041\tvalid_1's binary_logloss: 0.387832\n",
      "fold  3\n",
      "****************************************\n",
      "[100]\ttraining's auc: 0.911646\ttraining's binary_logloss: 0.489381\tvalid_1's auc: 0.867017\tvalid_1's binary_logloss: 0.51984\n",
      "[200]\ttraining's auc: 0.919315\ttraining's binary_logloss: 0.412447\tvalid_1's auc: 0.872112\tvalid_1's binary_logloss: 0.461397\n",
      "[300]\ttraining's auc: 0.926892\ttraining's binary_logloss: 0.374612\tvalid_1's auc: 0.877039\tvalid_1's binary_logloss: 0.436952\n",
      "[400]\ttraining's auc: 0.933172\ttraining's binary_logloss: 0.351001\tvalid_1's auc: 0.880279\tvalid_1's binary_logloss: 0.425233\n",
      "[500]\ttraining's auc: 0.938759\ttraining's binary_logloss: 0.334136\tvalid_1's auc: 0.882638\tvalid_1's binary_logloss: 0.419213\n",
      "[600]\ttraining's auc: 0.943361\ttraining's binary_logloss: 0.320694\tvalid_1's auc: 0.884102\tvalid_1's binary_logloss: 0.415744\n",
      "[700]\ttraining's auc: 0.947086\ttraining's binary_logloss: 0.310382\tvalid_1's auc: 0.88484\tvalid_1's binary_logloss: 0.414001\n",
      "[800]\ttraining's auc: 0.950467\ttraining's binary_logloss: 0.301517\tvalid_1's auc: 0.884901\tvalid_1's binary_logloss: 0.413707\n",
      "fold  4\n",
      "****************************************\n",
      "[100]\ttraining's auc: 0.905771\ttraining's binary_logloss: 0.494862\tvalid_1's auc: 0.885032\tvalid_1's binary_logloss: 0.506054\n",
      "[200]\ttraining's auc: 0.914648\ttraining's binary_logloss: 0.420026\tvalid_1's auc: 0.89026\tvalid_1's binary_logloss: 0.440174\n",
      "[300]\ttraining's auc: 0.922636\ttraining's binary_logloss: 0.382151\tvalid_1's auc: 0.894999\tvalid_1's binary_logloss: 0.410518\n",
      "[400]\ttraining's auc: 0.929452\ttraining's binary_logloss: 0.358908\tvalid_1's auc: 0.898337\tvalid_1's binary_logloss: 0.396214\n",
      "[500]\ttraining's auc: 0.935304\ttraining's binary_logloss: 0.341937\tvalid_1's auc: 0.900943\tvalid_1's binary_logloss: 0.388264\n",
      "[600]\ttraining's auc: 0.9401\ttraining's binary_logloss: 0.328877\tvalid_1's auc: 0.902223\tvalid_1's binary_logloss: 0.38422\n",
      "[700]\ttraining's auc: 0.94429\ttraining's binary_logloss: 0.318405\tvalid_1's auc: 0.902829\tvalid_1's binary_logloss: 0.382173\n",
      "[800]\ttraining's auc: 0.948046\ttraining's binary_logloss: 0.309258\tvalid_1's auc: 0.902978\tvalid_1's binary_logloss: 0.381692\n",
      "fold  5\n",
      "****************************************\n",
      "[100]\ttraining's auc: 0.906027\ttraining's binary_logloss: 0.496411\tvalid_1's auc: 0.895909\tvalid_1's binary_logloss: 0.503512\n",
      "[200]\ttraining's auc: 0.91485\ttraining's binary_logloss: 0.420886\tvalid_1's auc: 0.900926\tvalid_1's binary_logloss: 0.435336\n",
      "[300]\ttraining's auc: 0.922519\ttraining's binary_logloss: 0.382767\tvalid_1's auc: 0.903835\tvalid_1's binary_logloss: 0.406176\n",
      "[400]\ttraining's auc: 0.92935\ttraining's binary_logloss: 0.358959\tvalid_1's auc: 0.907081\tvalid_1's binary_logloss: 0.390798\n",
      "[500]\ttraining's auc: 0.935497\ttraining's binary_logloss: 0.341765\tvalid_1's auc: 0.908317\tvalid_1's binary_logloss: 0.383232\n",
      "[600]\ttraining's auc: 0.940748\ttraining's binary_logloss: 0.328241\tvalid_1's auc: 0.909218\tvalid_1's binary_logloss: 0.379042\n",
      "[700]\ttraining's auc: 0.94519\ttraining's binary_logloss: 0.317493\tvalid_1's auc: 0.909798\tvalid_1's binary_logloss: 0.376936\n",
      "[800]\ttraining's auc: 0.949034\ttraining's binary_logloss: 0.308286\tvalid_1's auc: 0.909814\tvalid_1's binary_logloss: 0.375958\n",
      "OOF accuracy 0.8078914068790981\n"
     ]
    }
   ],
   "source": [
    "import lightgbm as lgb\n",
    "from sklearn.model_selection import StratifiedKFold, KFold\n",
    "from sklearn.metrics import accuracy_score\n",
    "\n",
    "oof = np.zeros(len(train))\n",
    "preds = np.zeros(len(test))\n",
    "\n",
    "skf = StratifiedKFold(n_splits = 5, shuffle = True)\n",
    "\n",
    "for i, (idt, idv) in enumerate(skf.split(X_train, y_train, y_train)):\n",
    "    \n",
    "    x_trn, x_val = X_train.iloc[idt], X_train.iloc[idv]\n",
    "    y_trn, y_val = y_train.iloc[idt], y_train.iloc[idv]\n",
    "    \n",
    "    print('fold ', i+1)\n",
    "    print('*' * 40)\n",
    "    \n",
    "    clf = lgb.LGBMClassifier(\n",
    "    n_estimators = 2500,\n",
    "        subsample = 0.8,\n",
    "        #num_leaves = 32,\n",
    "        learning_rate = 0.008,\n",
    "        colsample_bytree = 0.8,\n",
    "        reg_alpha = 1,\n",
    "     \n",
    "       # bagging_frequency = 1,\n",
    "        #random_state = 42\n",
    "       \n",
    "        \n",
    "    )\n",
    "    \n",
    "    clf.fit(x_trn, y_trn, eval_set = [(x_trn, y_trn),(x_val, y_val)], verbose = 100,\n",
    "           early_stopping_rounds = 100, eval_metric = 'auc',\n",
    "           #categorical_feature = ['VIP','deck','side','Destination','HomePlanet']\n",
    "           )\n",
    "    \n",
    "    oof[idv] = clf.predict(x_val)\n",
    "    preds += clf.predict_proba(X_test)[:,1]/skf.n_splits\n",
    "\n",
    "print('OOF accuracy', accuracy_score(y_train, oof))"
   ]
  },
  {
   "cell_type": "code",
   "execution_count": 25,
   "id": "1fb78280",
   "metadata": {
    "execution": {
     "iopub.execute_input": "2022-04-04T23:51:40.976425Z",
     "iopub.status.busy": "2022-04-04T23:51:40.975687Z",
     "iopub.status.idle": "2022-04-04T23:51:41.392163Z",
     "shell.execute_reply": "2022-04-04T23:51:41.391577Z",
     "shell.execute_reply.started": "2022-04-04T23:50:46.598504Z"
    },
    "papermill": {
     "duration": 0.490565,
     "end_time": "2022-04-04T23:51:41.392345",
     "exception": false,
     "start_time": "2022-04-04T23:51:40.901780",
     "status": "completed"
    },
    "tags": []
   },
   "outputs": [
    {
     "data": {
      "image/png": "[encoded data removed]",
      "text/plain": [
       "<Figure size 1440x720 with 1 Axes>"
      ]
     },
     "metadata": {
      "needs_background": "light"
     },
     "output_type": "display_data"
    }
   ],
   "source": [
    "cols = list(X_train.columns)\n",
    "feature_imp = pd.DataFrame(sorted(zip(clf.feature_importances_,cols)), columns=['Value','Feature'])\n",
    "plt.figure(figsize=(20, 10))\n",
    "sns.barplot(x=\"Value\", y=\"Feature\", data=feature_imp.sort_values(by=\"Value\", ascending=False).iloc[:20])\n",
    "plt.title('XGB Most Important Features')\n",
    "plt.tight_layout()\n",
    "plt.show()"
   ]
  },
  {
   "cell_type": "code",
   "execution_count": 26,
   "id": "893ae1a9",
   "metadata": {
    "execution": {
     "iopub.execute_input": "2022-04-04T23:51:41.536721Z",
     "iopub.status.busy": "2022-04-04T23:51:41.535956Z",
     "iopub.status.idle": "2022-04-04T23:51:41.540331Z",
     "shell.execute_reply": "2022-04-04T23:51:41.539792Z",
     "shell.execute_reply.started": "2022-04-04T23:50:46.979776Z"
    },
    "papermill": {
     "duration": 0.079325,
     "end_time": "2022-04-04T23:51:41.540501",
     "exception": false,
     "start_time": "2022-04-04T23:51:41.461176",
     "status": "completed"
    },
    "tags": []
   },
   "outputs": [
    {
     "data": {
      "text/plain": [
       "array([0.56804858, 0.03458046, 0.98702273, ..., 0.95876227, 0.75090263,\n",
       "       0.59261175])"
      ]
     },
     "execution_count": 26,
     "metadata": {},
     "output_type": "execute_result"
    }
   ],
   "source": [
    "preds"
   ]
  },
  {
   "cell_type": "code",
   "execution_count": 27,
   "id": "b7b6e257",
   "metadata": {
    "execution": {
     "iopub.execute_input": "2022-04-04T23:51:41.696270Z",
     "iopub.status.busy": "2022-04-04T23:51:41.695496Z",
     "iopub.status.idle": "2022-04-04T23:51:41.699265Z",
     "shell.execute_reply": "2022-04-04T23:51:41.699719Z",
     "shell.execute_reply.started": "2022-04-04T23:50:46.988952Z"
    },
    "papermill": {
     "duration": 0.090704,
     "end_time": "2022-04-04T23:51:41.699936",
     "exception": false,
     "start_time": "2022-04-04T23:51:41.609232",
     "status": "completed"
    },
    "tags": []
   },
   "outputs": [
    {
     "data": {
      "text/html": [
       "<div>\n",
       "<style scoped>\n",
       "    .dataframe tbody tr th:only-of-type {\n",
       "        vertical-align: middle;\n",
       "    }\n",
       "\n",
       "    .dataframe tbody tr th {\n",
       "        vertical-align: top;\n",
       "    }\n",
       "\n",
       "    .dataframe thead th {\n",
       "        text-align: right;\n",
       "    }\n",
       "</style>\n",
       "<table border=\"1\" class=\"dataframe\">\n",
       "  <thead>\n",
       "    <tr style=\"text-align: right;\">\n",
       "      <th></th>\n",
       "      <th>PassengerId</th>\n",
       "      <th>Transported</th>\n",
       "    </tr>\n",
       "  </thead>\n",
       "  <tbody>\n",
       "    <tr>\n",
       "      <th>0</th>\n",
       "      <td>0013_01</td>\n",
       "      <td>True</td>\n",
       "    </tr>\n",
       "    <tr>\n",
       "      <th>1</th>\n",
       "      <td>0018_01</td>\n",
       "      <td>False</td>\n",
       "    </tr>\n",
       "    <tr>\n",
       "      <th>2</th>\n",
       "      <td>0019_01</td>\n",
       "      <td>True</td>\n",
       "    </tr>\n",
       "    <tr>\n",
       "      <th>3</th>\n",
       "      <td>0021_01</td>\n",
       "      <td>True</td>\n",
       "    </tr>\n",
       "    <tr>\n",
       "      <th>4</th>\n",
       "      <td>0023_01</td>\n",
       "      <td>True</td>\n",
       "    </tr>\n",
       "    <tr>\n",
       "      <th>...</th>\n",
       "      <td>...</td>\n",
       "      <td>...</td>\n",
       "    </tr>\n",
       "    <tr>\n",
       "      <th>4272</th>\n",
       "      <td>9266_02</td>\n",
       "      <td>True</td>\n",
       "    </tr>\n",
       "    <tr>\n",
       "      <th>4273</th>\n",
       "      <td>9269_01</td>\n",
       "      <td>False</td>\n",
       "    </tr>\n",
       "    <tr>\n",
       "      <th>4274</th>\n",
       "      <td>9271_01</td>\n",
       "      <td>True</td>\n",
       "    </tr>\n",
       "    <tr>\n",
       "      <th>4275</th>\n",
       "      <td>9273_01</td>\n",
       "      <td>True</td>\n",
       "    </tr>\n",
       "    <tr>\n",
       "      <th>4276</th>\n",
       "      <td>9277_01</td>\n",
       "      <td>True</td>\n",
       "    </tr>\n",
       "  </tbody>\n",
       "</table>\n",
       "<p>4277 rows × 2 columns</p>\n",
       "</div>"
      ],
      "text/plain": [
       "     PassengerId  Transported\n",
       "0        0013_01         True\n",
       "1        0018_01        False\n",
       "2        0019_01         True\n",
       "3        0021_01         True\n",
       "4        0023_01         True\n",
       "...          ...          ...\n",
       "4272     9266_02         True\n",
       "4273     9269_01        False\n",
       "4274     9271_01         True\n",
       "4275     9273_01         True\n",
       "4276     9277_01         True\n",
       "\n",
       "[4277 rows x 2 columns]"
      ]
     },
     "execution_count": 27,
     "metadata": {},
     "output_type": "execute_result"
    }
   ],
   "source": [
    "sub['Transported'] = [True if x>0.5 else False for x in preds]\n",
    "\n",
    "sub"
   ]
  },
  {
   "cell_type": "code",
   "execution_count": 28,
   "id": "5d5468d6",
   "metadata": {
    "execution": {
     "iopub.execute_input": "2022-04-04T23:51:41.850823Z",
     "iopub.status.busy": "2022-04-04T23:51:41.849962Z",
     "iopub.status.idle": "2022-04-04T23:51:41.855383Z",
     "shell.execute_reply": "2022-04-04T23:51:41.854789Z",
     "shell.execute_reply.started": "2022-04-04T23:50:47.011069Z"
    },
    "papermill": {
     "duration": 0.0865,
     "end_time": "2022-04-04T23:51:41.855575",
     "exception": false,
     "start_time": "2022-04-04T23:51:41.769075",
     "status": "completed"
    },
    "tags": []
   },
   "outputs": [
    {
     "data": {
      "text/plain": [
       "count     4277\n",
       "unique       2\n",
       "top       True\n",
       "freq      2222\n",
       "Name: Transported, dtype: object"
      ]
     },
     "execution_count": 28,
     "metadata": {},
     "output_type": "execute_result"
    }
   ],
   "source": [
    "sub['Transported'].describe()"
   ]
  },
  {
   "cell_type": "code",
   "execution_count": 29,
   "id": "a0bfed2c",
   "metadata": {
    "execution": {
     "iopub.execute_input": "2022-04-04T23:51:42.010649Z",
     "iopub.status.busy": "2022-04-04T23:51:42.009944Z",
     "iopub.status.idle": "2022-04-04T23:51:42.025551Z",
     "shell.execute_reply": "2022-04-04T23:51:42.024845Z",
     "shell.execute_reply.started": "2022-04-04T23:50:47.026877Z"
    },
    "papermill": {
     "duration": 0.096055,
     "end_time": "2022-04-04T23:51:42.025804",
     "exception": false,
     "start_time": "2022-04-04T23:51:41.929749",
     "status": "completed"
    },
    "tags": []
   },
   "outputs": [],
   "source": [
    "sub.to_csv('sub_lgb.csv', index = False)"
   ]
  }
 ],
 "metadata": {
  "kernelspec": {
   "display_name": "Python 3",
   "language": "python",
   "name": "python3"
  },
  "language_info": {
   "codemirror_mode": {
    "name": "ipython",
    "version": 3
   },
   "file_extension": ".py",
   "mimetype": "text/x-python",
   "name": "python",
   "nbconvert_exporter": "python",
   "pygments_lexer": "ipython3",
   "version": "3.7.12"
  },
  "papermill": {
   "default_parameters": {},
   "duration": 36.159667,
   "end_time": "2022-04-04T23:51:43.212977",
   "environment_variables": {},
   "exception": null,
   "input_path": "__notebook__.ipynb",
   "output_path": "__notebook__.ipynb",
   "parameters": {},
   "start_time": "2022-04-04T23:51:07.053310",
   "version": "2.3.3"
  }
 },
 "nbformat": 4,
 "nbformat_minor": 5
}
