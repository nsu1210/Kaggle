{
 "cells": [
  {
   "cell_type": "code",
   "execution_count": 1,
   "id": "e0d5cd0b",
   "metadata": {
    "execution": {
     "iopub.execute_input": "2022-03-30T04:28:18.571980Z",
     "iopub.status.busy": "2022-03-30T04:28:18.570169Z",
     "iopub.status.idle": "2022-03-30T04:28:19.608931Z",
     "shell.execute_reply": "2022-03-30T04:28:19.609484Z",
     "shell.execute_reply.started": "2022-03-30T04:25:15.001756Z"
    },
    "papermill": {
     "duration": 1.078048,
     "end_time": "2022-03-30T04:28:19.609797",
     "exception": false,
     "start_time": "2022-03-30T04:28:18.531749",
     "status": "completed"
    },
    "tags": []
   },
   "outputs": [],
   "source": [
    "import numpy as np\n",
    "import pandas as pd\n",
    "import os\n",
    "import gc\n",
    "import matplotlib.pyplot as plt\n",
    "import seaborn as sns\n",
    "import warnings \n",
    "warnings.filterwarnings('ignore')"
   ]
  },
  {
   "cell_type": "markdown",
   "id": "81e2c629",
   "metadata": {
    "papermill": {
     "duration": 0.031127,
     "end_time": "2022-03-30T04:28:19.673261",
     "exception": false,
     "start_time": "2022-03-30T04:28:19.642134",
     "status": "completed"
    },
    "tags": []
   },
   "source": [
    "In this competition your task is to predict whether a passenger was transported to an alternate dimension during the Spaceship Titanic's collision with the spacetime anomaly. To help you make these predictions, you're given a set of personal records recovered from the ship's damaged computer system."
   ]
  },
  {
   "cell_type": "markdown",
   "id": "20154e41",
   "metadata": {
    "papermill": {
     "duration": 0.031286,
     "end_time": "2022-03-30T04:28:19.737269",
     "exception": false,
     "start_time": "2022-03-30T04:28:19.705983",
     "status": "completed"
    },
    "tags": []
   },
   "source": [
    "# File and Data Field Descriptions\n",
    "* train.csv - Personal records for about two-thirds (~8700) of the passengers, to be used as training data.\n",
    "* PassengerId - A unique Id for each passenger. Each Id takes the form gggg_pp where gggg indicates a group the passenger is travelling with and pp is their number within the group. People in a group are often family members, but not always.\n",
    "* HomePlanet - The planet the passenger departed from, typically their planet of permanent residence.\n",
    "* CryoSleep - Indicates whether the passenger elected to be put into suspended animation for the duration of the voyage. Passengers in cryosleep are confined to their cabins.\n",
    "* Cabin - The cabin number where the passenger is staying. Takes the form deck/num/side, where side can be either P for Port or S for Starboard.\n",
    "* Destination - The planet the passenger will be debarking to.\n",
    "* Age - The age of the passenger.\n",
    "* VIP - Whether the passenger has paid for special VIP service during the voyage.\n",
    "* RoomService, FoodCourt, ShoppingMall, Spa, VRDeck - Amount the passenger has billed at each of the Spaceship Titanic's many luxury amenities.\n",
    "* Name - The first and last names of the passenger.\n",
    "* Transported - Whether the passenger was transported to another dimension. This is the target, the column you are trying to predict."
   ]
  },
  {
   "cell_type": "code",
   "execution_count": 2,
   "id": "63836f55",
   "metadata": {
    "execution": {
     "iopub.execute_input": "2022-03-30T04:28:19.808656Z",
     "iopub.status.busy": "2022-03-30T04:28:19.807734Z",
     "iopub.status.idle": "2022-03-30T04:28:19.894579Z",
     "shell.execute_reply": "2022-03-30T04:28:19.895294Z",
     "shell.execute_reply.started": "2022-03-30T04:25:16.005187Z"
    },
    "papermill": {
     "duration": 0.125708,
     "end_time": "2022-03-30T04:28:19.895479",
     "exception": false,
     "start_time": "2022-03-30T04:28:19.769771",
     "status": "completed"
    },
    "tags": []
   },
   "outputs": [
    {
     "name": "stdout",
     "output_type": "stream",
     "text": [
      "(8693, 14)\n",
      "(4277, 13)\n"
     ]
    }
   ],
   "source": [
    "train = pd.read_csv('../input/spaceship-titanic/train.csv')\n",
    "test = pd.read_csv('../input/spaceship-titanic/test.csv')\n",
    "sub = pd.read_csv('../input/spaceship-titanic/sample_submission.csv')\n",
    "print(train.shape)\n",
    "print(test.shape)"
   ]
  },
  {
   "cell_type": "code",
   "execution_count": 3,
   "id": "1c8d0f55",
   "metadata": {
    "execution": {
     "iopub.execute_input": "2022-03-30T04:28:19.963845Z",
     "iopub.status.busy": "2022-03-30T04:28:19.962968Z",
     "iopub.status.idle": "2022-03-30T04:28:19.992303Z",
     "shell.execute_reply": "2022-03-30T04:28:19.992811Z",
     "shell.execute_reply.started": "2022-03-30T04:25:16.087399Z"
    },
    "papermill": {
     "duration": 0.064772,
     "end_time": "2022-03-30T04:28:19.993007",
     "exception": false,
     "start_time": "2022-03-30T04:28:19.928235",
     "status": "completed"
    },
    "tags": []
   },
   "outputs": [
    {
     "data": {
      "text/html": [
       "<div>\n",
       "<style scoped>\n",
       "    .dataframe tbody tr th:only-of-type {\n",
       "        vertical-align: middle;\n",
       "    }\n",
       "\n",
       "    .dataframe tbody tr th {\n",
       "        vertical-align: top;\n",
       "    }\n",
       "\n",
       "    .dataframe thead th {\n",
       "        text-align: right;\n",
       "    }\n",
       "</style>\n",
       "<table border=\"1\" class=\"dataframe\">\n",
       "  <thead>\n",
       "    <tr style=\"text-align: right;\">\n",
       "      <th></th>\n",
       "      <th>PassengerId</th>\n",
       "      <th>HomePlanet</th>\n",
       "      <th>CryoSleep</th>\n",
       "      <th>Cabin</th>\n",
       "      <th>Destination</th>\n",
       "      <th>Age</th>\n",
       "      <th>VIP</th>\n",
       "      <th>RoomService</th>\n",
       "      <th>FoodCourt</th>\n",
       "      <th>ShoppingMall</th>\n",
       "      <th>Spa</th>\n",
       "      <th>VRDeck</th>\n",
       "      <th>Name</th>\n",
       "      <th>Transported</th>\n",
       "    </tr>\n",
       "  </thead>\n",
       "  <tbody>\n",
       "    <tr>\n",
       "      <th>0</th>\n",
       "      <td>0001_01</td>\n",
       "      <td>Europa</td>\n",
       "      <td>False</td>\n",
       "      <td>B/0/P</td>\n",
       "      <td>TRAPPIST-1e</td>\n",
       "      <td>39.0</td>\n",
       "      <td>False</td>\n",
       "      <td>0.0</td>\n",
       "      <td>0.0</td>\n",
       "      <td>0.0</td>\n",
       "      <td>0.0</td>\n",
       "      <td>0.0</td>\n",
       "      <td>Maham Ofracculy</td>\n",
       "      <td>False</td>\n",
       "    </tr>\n",
       "    <tr>\n",
       "      <th>1</th>\n",
       "      <td>0002_01</td>\n",
       "      <td>Earth</td>\n",
       "      <td>False</td>\n",
       "      <td>F/0/S</td>\n",
       "      <td>TRAPPIST-1e</td>\n",
       "      <td>24.0</td>\n",
       "      <td>False</td>\n",
       "      <td>109.0</td>\n",
       "      <td>9.0</td>\n",
       "      <td>25.0</td>\n",
       "      <td>549.0</td>\n",
       "      <td>44.0</td>\n",
       "      <td>Juanna Vines</td>\n",
       "      <td>True</td>\n",
       "    </tr>\n",
       "    <tr>\n",
       "      <th>2</th>\n",
       "      <td>0003_01</td>\n",
       "      <td>Europa</td>\n",
       "      <td>False</td>\n",
       "      <td>A/0/S</td>\n",
       "      <td>TRAPPIST-1e</td>\n",
       "      <td>58.0</td>\n",
       "      <td>True</td>\n",
       "      <td>43.0</td>\n",
       "      <td>3576.0</td>\n",
       "      <td>0.0</td>\n",
       "      <td>6715.0</td>\n",
       "      <td>49.0</td>\n",
       "      <td>Altark Susent</td>\n",
       "      <td>False</td>\n",
       "    </tr>\n",
       "    <tr>\n",
       "      <th>3</th>\n",
       "      <td>0003_02</td>\n",
       "      <td>Europa</td>\n",
       "      <td>False</td>\n",
       "      <td>A/0/S</td>\n",
       "      <td>TRAPPIST-1e</td>\n",
       "      <td>33.0</td>\n",
       "      <td>False</td>\n",
       "      <td>0.0</td>\n",
       "      <td>1283.0</td>\n",
       "      <td>371.0</td>\n",
       "      <td>3329.0</td>\n",
       "      <td>193.0</td>\n",
       "      <td>Solam Susent</td>\n",
       "      <td>False</td>\n",
       "    </tr>\n",
       "    <tr>\n",
       "      <th>4</th>\n",
       "      <td>0004_01</td>\n",
       "      <td>Earth</td>\n",
       "      <td>False</td>\n",
       "      <td>F/1/S</td>\n",
       "      <td>TRAPPIST-1e</td>\n",
       "      <td>16.0</td>\n",
       "      <td>False</td>\n",
       "      <td>303.0</td>\n",
       "      <td>70.0</td>\n",
       "      <td>151.0</td>\n",
       "      <td>565.0</td>\n",
       "      <td>2.0</td>\n",
       "      <td>Willy Santantines</td>\n",
       "      <td>True</td>\n",
       "    </tr>\n",
       "  </tbody>\n",
       "</table>\n",
       "</div>"
      ],
      "text/plain": [
       "  PassengerId HomePlanet CryoSleep  Cabin  Destination   Age    VIP  \\\n",
       "0     0001_01     Europa     False  B/0/P  TRAPPIST-1e  39.0  False   \n",
       "1     0002_01      Earth     False  F/0/S  TRAPPIST-1e  24.0  False   \n",
       "2     0003_01     Europa     False  A/0/S  TRAPPIST-1e  58.0   True   \n",
       "3     0003_02     Europa     False  A/0/S  TRAPPIST-1e  33.0  False   \n",
       "4     0004_01      Earth     False  F/1/S  TRAPPIST-1e  16.0  False   \n",
       "\n",
       "   RoomService  FoodCourt  ShoppingMall     Spa  VRDeck               Name  \\\n",
       "0          0.0        0.0           0.0     0.0     0.0    Maham Ofracculy   \n",
       "1        109.0        9.0          25.0   549.0    44.0       Juanna Vines   \n",
       "2         43.0     3576.0           0.0  6715.0    49.0      Altark Susent   \n",
       "3          0.0     1283.0         371.0  3329.0   193.0       Solam Susent   \n",
       "4        303.0       70.0         151.0   565.0     2.0  Willy Santantines   \n",
       "\n",
       "   Transported  \n",
       "0        False  \n",
       "1         True  \n",
       "2        False  \n",
       "3        False  \n",
       "4         True  "
      ]
     },
     "execution_count": 3,
     "metadata": {},
     "output_type": "execute_result"
    }
   ],
   "source": [
    "train.head()"
   ]
  },
  {
   "cell_type": "markdown",
   "id": "908be4bf",
   "metadata": {
    "papermill": {
     "duration": 0.032743,
     "end_time": "2022-03-30T04:28:20.059575",
     "exception": false,
     "start_time": "2022-03-30T04:28:20.026832",
     "status": "completed"
    },
    "tags": []
   },
   "source": [
    "# EDA"
   ]
  },
  {
   "cell_type": "code",
   "execution_count": 4,
   "id": "67484922",
   "metadata": {
    "execution": {
     "iopub.execute_input": "2022-03-30T04:28:20.140573Z",
     "iopub.status.busy": "2022-03-30T04:28:20.139820Z",
     "iopub.status.idle": "2022-03-30T04:28:20.176189Z",
     "shell.execute_reply": "2022-03-30T04:28:20.175520Z",
     "shell.execute_reply.started": "2022-03-30T04:25:16.118809Z"
    },
    "papermill": {
     "duration": 0.083297,
     "end_time": "2022-03-30T04:28:20.176564",
     "exception": false,
     "start_time": "2022-03-30T04:28:20.093267",
     "status": "completed"
    },
    "tags": []
   },
   "outputs": [
    {
     "data": {
      "text/html": [
       "<div>\n",
       "<style scoped>\n",
       "    .dataframe tbody tr th:only-of-type {\n",
       "        vertical-align: middle;\n",
       "    }\n",
       "\n",
       "    .dataframe tbody tr th {\n",
       "        vertical-align: top;\n",
       "    }\n",
       "\n",
       "    .dataframe thead th {\n",
       "        text-align: right;\n",
       "    }\n",
       "</style>\n",
       "<table border=\"1\" class=\"dataframe\">\n",
       "  <thead>\n",
       "    <tr style=\"text-align: right;\">\n",
       "      <th></th>\n",
       "      <th>dtypes</th>\n",
       "      <th>missing</th>\n",
       "      <th>nlevel</th>\n",
       "    </tr>\n",
       "  </thead>\n",
       "  <tbody>\n",
       "    <tr>\n",
       "      <th>PassengerId</th>\n",
       "      <td>object</td>\n",
       "      <td>0</td>\n",
       "      <td>8693</td>\n",
       "    </tr>\n",
       "    <tr>\n",
       "      <th>HomePlanet</th>\n",
       "      <td>object</td>\n",
       "      <td>201</td>\n",
       "      <td>3</td>\n",
       "    </tr>\n",
       "    <tr>\n",
       "      <th>CryoSleep</th>\n",
       "      <td>object</td>\n",
       "      <td>217</td>\n",
       "      <td>2</td>\n",
       "    </tr>\n",
       "    <tr>\n",
       "      <th>Cabin</th>\n",
       "      <td>object</td>\n",
       "      <td>199</td>\n",
       "      <td>6560</td>\n",
       "    </tr>\n",
       "    <tr>\n",
       "      <th>Destination</th>\n",
       "      <td>object</td>\n",
       "      <td>182</td>\n",
       "      <td>3</td>\n",
       "    </tr>\n",
       "    <tr>\n",
       "      <th>Age</th>\n",
       "      <td>float64</td>\n",
       "      <td>179</td>\n",
       "      <td>80</td>\n",
       "    </tr>\n",
       "    <tr>\n",
       "      <th>VIP</th>\n",
       "      <td>object</td>\n",
       "      <td>203</td>\n",
       "      <td>2</td>\n",
       "    </tr>\n",
       "    <tr>\n",
       "      <th>RoomService</th>\n",
       "      <td>float64</td>\n",
       "      <td>181</td>\n",
       "      <td>1273</td>\n",
       "    </tr>\n",
       "    <tr>\n",
       "      <th>FoodCourt</th>\n",
       "      <td>float64</td>\n",
       "      <td>183</td>\n",
       "      <td>1507</td>\n",
       "    </tr>\n",
       "    <tr>\n",
       "      <th>ShoppingMall</th>\n",
       "      <td>float64</td>\n",
       "      <td>208</td>\n",
       "      <td>1115</td>\n",
       "    </tr>\n",
       "    <tr>\n",
       "      <th>Spa</th>\n",
       "      <td>float64</td>\n",
       "      <td>183</td>\n",
       "      <td>1327</td>\n",
       "    </tr>\n",
       "    <tr>\n",
       "      <th>VRDeck</th>\n",
       "      <td>float64</td>\n",
       "      <td>188</td>\n",
       "      <td>1306</td>\n",
       "    </tr>\n",
       "    <tr>\n",
       "      <th>Name</th>\n",
       "      <td>object</td>\n",
       "      <td>200</td>\n",
       "      <td>8473</td>\n",
       "    </tr>\n",
       "    <tr>\n",
       "      <th>Transported</th>\n",
       "      <td>bool</td>\n",
       "      <td>0</td>\n",
       "      <td>2</td>\n",
       "    </tr>\n",
       "  </tbody>\n",
       "</table>\n",
       "</div>"
      ],
      "text/plain": [
       "               dtypes  missing  nlevel\n",
       "PassengerId    object        0    8693\n",
       "HomePlanet     object      201       3\n",
       "CryoSleep      object      217       2\n",
       "Cabin          object      199    6560\n",
       "Destination    object      182       3\n",
       "Age           float64      179      80\n",
       "VIP            object      203       2\n",
       "RoomService   float64      181    1273\n",
       "FoodCourt     float64      183    1507\n",
       "ShoppingMall  float64      208    1115\n",
       "Spa           float64      183    1327\n",
       "VRDeck        float64      188    1306\n",
       "Name           object      200    8473\n",
       "Transported      bool        0       2"
      ]
     },
     "execution_count": 4,
     "metadata": {},
     "output_type": "execute_result"
    }
   ],
   "source": [
    "def eda(df):\n",
    "    summary = pd.DataFrame()\n",
    "    summary['dtypes'] = df.dtypes\n",
    "    summary['missing'] = df.isnull().sum()\n",
    "    summary['nlevel'] = df.nunique()\n",
    "    return summary\n",
    "\n",
    "eda(train)"
   ]
  },
  {
   "cell_type": "code",
   "execution_count": 5,
   "id": "10fdc684",
   "metadata": {
    "execution": {
     "iopub.execute_input": "2022-03-30T04:28:20.256481Z",
     "iopub.status.busy": "2022-03-30T04:28:20.255746Z",
     "iopub.status.idle": "2022-03-30T04:28:20.273318Z",
     "shell.execute_reply": "2022-03-30T04:28:20.273862Z",
     "shell.execute_reply.started": "2022-03-30T04:25:16.156352Z"
    },
    "papermill": {
     "duration": 0.061095,
     "end_time": "2022-03-30T04:28:20.274051",
     "exception": false,
     "start_time": "2022-03-30T04:28:20.212956",
     "status": "completed"
    },
    "tags": []
   },
   "outputs": [
    {
     "data": {
      "text/html": [
       "<div>\n",
       "<style scoped>\n",
       "    .dataframe tbody tr th:only-of-type {\n",
       "        vertical-align: middle;\n",
       "    }\n",
       "\n",
       "    .dataframe tbody tr th {\n",
       "        vertical-align: top;\n",
       "    }\n",
       "\n",
       "    .dataframe thead th {\n",
       "        text-align: right;\n",
       "    }\n",
       "</style>\n",
       "<table border=\"1\" class=\"dataframe\">\n",
       "  <thead>\n",
       "    <tr style=\"text-align: right;\">\n",
       "      <th></th>\n",
       "      <th>dtypes</th>\n",
       "      <th>missing</th>\n",
       "      <th>nlevel</th>\n",
       "    </tr>\n",
       "  </thead>\n",
       "  <tbody>\n",
       "    <tr>\n",
       "      <th>PassengerId</th>\n",
       "      <td>object</td>\n",
       "      <td>0</td>\n",
       "      <td>4277</td>\n",
       "    </tr>\n",
       "    <tr>\n",
       "      <th>HomePlanet</th>\n",
       "      <td>object</td>\n",
       "      <td>87</td>\n",
       "      <td>3</td>\n",
       "    </tr>\n",
       "    <tr>\n",
       "      <th>CryoSleep</th>\n",
       "      <td>object</td>\n",
       "      <td>93</td>\n",
       "      <td>2</td>\n",
       "    </tr>\n",
       "    <tr>\n",
       "      <th>Cabin</th>\n",
       "      <td>object</td>\n",
       "      <td>100</td>\n",
       "      <td>3265</td>\n",
       "    </tr>\n",
       "    <tr>\n",
       "      <th>Destination</th>\n",
       "      <td>object</td>\n",
       "      <td>92</td>\n",
       "      <td>3</td>\n",
       "    </tr>\n",
       "    <tr>\n",
       "      <th>Age</th>\n",
       "      <td>float64</td>\n",
       "      <td>91</td>\n",
       "      <td>79</td>\n",
       "    </tr>\n",
       "    <tr>\n",
       "      <th>VIP</th>\n",
       "      <td>object</td>\n",
       "      <td>93</td>\n",
       "      <td>2</td>\n",
       "    </tr>\n",
       "    <tr>\n",
       "      <th>RoomService</th>\n",
       "      <td>float64</td>\n",
       "      <td>82</td>\n",
       "      <td>842</td>\n",
       "    </tr>\n",
       "    <tr>\n",
       "      <th>FoodCourt</th>\n",
       "      <td>float64</td>\n",
       "      <td>106</td>\n",
       "      <td>902</td>\n",
       "    </tr>\n",
       "    <tr>\n",
       "      <th>ShoppingMall</th>\n",
       "      <td>float64</td>\n",
       "      <td>98</td>\n",
       "      <td>715</td>\n",
       "    </tr>\n",
       "    <tr>\n",
       "      <th>Spa</th>\n",
       "      <td>float64</td>\n",
       "      <td>101</td>\n",
       "      <td>833</td>\n",
       "    </tr>\n",
       "    <tr>\n",
       "      <th>VRDeck</th>\n",
       "      <td>float64</td>\n",
       "      <td>80</td>\n",
       "      <td>796</td>\n",
       "    </tr>\n",
       "    <tr>\n",
       "      <th>Name</th>\n",
       "      <td>object</td>\n",
       "      <td>94</td>\n",
       "      <td>4176</td>\n",
       "    </tr>\n",
       "  </tbody>\n",
       "</table>\n",
       "</div>"
      ],
      "text/plain": [
       "               dtypes  missing  nlevel\n",
       "PassengerId    object        0    4277\n",
       "HomePlanet     object       87       3\n",
       "CryoSleep      object       93       2\n",
       "Cabin          object      100    3265\n",
       "Destination    object       92       3\n",
       "Age           float64       91      79\n",
       "VIP            object       93       2\n",
       "RoomService   float64       82     842\n",
       "FoodCourt     float64      106     902\n",
       "ShoppingMall  float64       98     715\n",
       "Spa           float64      101     833\n",
       "VRDeck        float64       80     796\n",
       "Name           object       94    4176"
      ]
     },
     "execution_count": 5,
     "metadata": {},
     "output_type": "execute_result"
    }
   ],
   "source": [
    "eda(test)"
   ]
  },
  {
   "cell_type": "code",
   "execution_count": 6,
   "id": "d5594af1",
   "metadata": {
    "execution": {
     "iopub.execute_input": "2022-03-30T04:28:20.349071Z",
     "iopub.status.busy": "2022-03-30T04:28:20.348118Z",
     "iopub.status.idle": "2022-03-30T04:28:20.366334Z",
     "shell.execute_reply": "2022-03-30T04:28:20.366880Z",
     "shell.execute_reply.started": "2022-03-30T04:25:16.181528Z"
    },
    "papermill": {
     "duration": 0.058609,
     "end_time": "2022-03-30T04:28:20.367072",
     "exception": false,
     "start_time": "2022-03-30T04:28:20.308463",
     "status": "completed"
    },
    "tags": []
   },
   "outputs": [
    {
     "data": {
      "text/plain": [
       "0"
      ]
     },
     "execution_count": 6,
     "metadata": {},
     "output_type": "execute_result"
    }
   ],
   "source": [
    "train.duplicated().sum()"
   ]
  },
  {
   "cell_type": "markdown",
   "id": "0fd25ad5",
   "metadata": {
    "papermill": {
     "duration": 0.034947,
     "end_time": "2022-03-30T04:28:20.436527",
     "exception": false,
     "start_time": "2022-03-30T04:28:20.401580",
     "status": "completed"
    },
    "tags": []
   },
   "source": [
    "## Target"
   ]
  },
  {
   "cell_type": "code",
   "execution_count": 7,
   "id": "035fe9c8",
   "metadata": {
    "execution": {
     "iopub.execute_input": "2022-03-30T04:28:20.508762Z",
     "iopub.status.busy": "2022-03-30T04:28:20.508100Z",
     "iopub.status.idle": "2022-03-30T04:28:20.515589Z",
     "shell.execute_reply": "2022-03-30T04:28:20.516151Z",
     "shell.execute_reply.started": "2022-03-30T04:25:16.203630Z"
    },
    "papermill": {
     "duration": 0.045203,
     "end_time": "2022-03-30T04:28:20.516326",
     "exception": false,
     "start_time": "2022-03-30T04:28:20.471123",
     "status": "completed"
    },
    "tags": []
   },
   "outputs": [
    {
     "data": {
      "text/plain": [
       "True     4378\n",
       "False    4315\n",
       "Name: Transported, dtype: int64"
      ]
     },
     "execution_count": 7,
     "metadata": {},
     "output_type": "execute_result"
    }
   ],
   "source": [
    "train['Transported'].value_counts()"
   ]
  },
  {
   "cell_type": "code",
   "execution_count": 8,
   "id": "39a9e20f",
   "metadata": {
    "execution": {
     "iopub.execute_input": "2022-03-30T04:28:20.594670Z",
     "iopub.status.busy": "2022-03-30T04:28:20.593979Z",
     "iopub.status.idle": "2022-03-30T04:28:20.602558Z",
     "shell.execute_reply": "2022-03-30T04:28:20.603082Z",
     "shell.execute_reply.started": "2022-03-30T04:25:16.212661Z"
    },
    "papermill": {
     "duration": 0.052309,
     "end_time": "2022-03-30T04:28:20.603257",
     "exception": false,
     "start_time": "2022-03-30T04:28:20.550948",
     "status": "completed"
    },
    "tags": []
   },
   "outputs": [
    {
     "data": {
      "text/plain": [
       "Earth     4602\n",
       "Europa    2131\n",
       "Mars      1759\n",
       "Name: HomePlanet, dtype: int64"
      ]
     },
     "execution_count": 8,
     "metadata": {},
     "output_type": "execute_result"
    }
   ],
   "source": [
    "train.select_dtypes(include = 'object').columns\n",
    "\n",
    "\n",
    "train['HomePlanet'].value_counts()"
   ]
  },
  {
   "cell_type": "code",
   "execution_count": 9,
   "id": "366bea6b",
   "metadata": {
    "execution": {
     "iopub.execute_input": "2022-03-30T04:28:20.683178Z",
     "iopub.status.busy": "2022-03-30T04:28:20.677583Z",
     "iopub.status.idle": "2022-03-30T04:28:20.686114Z",
     "shell.execute_reply": "2022-03-30T04:28:20.686606Z",
     "shell.execute_reply.started": "2022-03-30T04:25:16.232499Z"
    },
    "papermill": {
     "duration": 0.047762,
     "end_time": "2022-03-30T04:28:20.686775",
     "exception": false,
     "start_time": "2022-03-30T04:28:20.639013",
     "status": "completed"
    },
    "tags": []
   },
   "outputs": [
    {
     "data": {
      "text/plain": [
       "False    5439\n",
       "True     3037\n",
       "Name: CryoSleep, dtype: int64"
      ]
     },
     "execution_count": 9,
     "metadata": {},
     "output_type": "execute_result"
    }
   ],
   "source": [
    "train['CryoSleep'].value_counts()"
   ]
  },
  {
   "cell_type": "code",
   "execution_count": 10,
   "id": "a265a04a",
   "metadata": {
    "execution": {
     "iopub.execute_input": "2022-03-30T04:28:20.763766Z",
     "iopub.status.busy": "2022-03-30T04:28:20.763121Z",
     "iopub.status.idle": "2022-03-30T04:28:20.769353Z",
     "shell.execute_reply": "2022-03-30T04:28:20.769865Z",
     "shell.execute_reply.started": "2022-03-30T04:25:16.248050Z"
    },
    "papermill": {
     "duration": 0.047056,
     "end_time": "2022-03-30T04:28:20.770061",
     "exception": false,
     "start_time": "2022-03-30T04:28:20.723005",
     "status": "completed"
    },
    "tags": []
   },
   "outputs": [
    {
     "data": {
      "text/plain": [
       "TRAPPIST-1e      5915\n",
       "55 Cancri e      1800\n",
       "PSO J318.5-22     796\n",
       "Name: Destination, dtype: int64"
      ]
     },
     "execution_count": 10,
     "metadata": {},
     "output_type": "execute_result"
    }
   ],
   "source": [
    "train['Destination'].value_counts()"
   ]
  },
  {
   "cell_type": "code",
   "execution_count": 11,
   "id": "d05d2ecc",
   "metadata": {
    "execution": {
     "iopub.execute_input": "2022-03-30T04:28:20.851090Z",
     "iopub.status.busy": "2022-03-30T04:28:20.850172Z",
     "iopub.status.idle": "2022-03-30T04:28:20.853271Z",
     "shell.execute_reply": "2022-03-30T04:28:20.853789Z",
     "shell.execute_reply.started": "2022-03-30T04:25:16.257321Z"
    },
    "papermill": {
     "duration": 0.047611,
     "end_time": "2022-03-30T04:28:20.853972",
     "exception": false,
     "start_time": "2022-03-30T04:28:20.806361",
     "status": "completed"
    },
    "tags": []
   },
   "outputs": [
    {
     "data": {
      "text/plain": [
       "False    8291\n",
       "True      199\n",
       "Name: VIP, dtype: int64"
      ]
     },
     "execution_count": 11,
     "metadata": {},
     "output_type": "execute_result"
    }
   ],
   "source": [
    "train['VIP'].value_counts()"
   ]
  },
  {
   "cell_type": "code",
   "execution_count": 12,
   "id": "c7541173",
   "metadata": {
    "execution": {
     "iopub.execute_input": "2022-03-30T04:28:20.931069Z",
     "iopub.status.busy": "2022-03-30T04:28:20.930392Z",
     "iopub.status.idle": "2022-03-30T04:28:22.157148Z",
     "shell.execute_reply": "2022-03-30T04:28:22.156489Z",
     "shell.execute_reply.started": "2022-03-30T04:25:16.270609Z"
    },
    "papermill": {
     "duration": 1.266237,
     "end_time": "2022-03-30T04:28:22.157294",
     "exception": false,
     "start_time": "2022-03-30T04:28:20.891057",
     "status": "completed"
    },
    "tags": []
   },
   "outputs": [
    {
     "data": {
      "image/png": "[encoded data removed]",
      "text/plain": [
       "<Figure size 720x576 with 6 Axes>"
      ]
     },
     "metadata": {
      "needs_background": "light"
     },
     "output_type": "display_data"
    }
   ],
   "source": [
    "train.hist(bins = 50, figsize = (10,8))\n",
    "plt.show()"
   ]
  },
  {
   "cell_type": "code",
   "execution_count": 13,
   "id": "a198d71c",
   "metadata": {
    "execution": {
     "iopub.execute_input": "2022-03-30T04:28:22.239538Z",
     "iopub.status.busy": "2022-03-30T04:28:22.238803Z",
     "iopub.status.idle": "2022-03-30T04:28:22.265093Z",
     "shell.execute_reply": "2022-03-30T04:28:22.265644Z",
     "shell.execute_reply.started": "2022-03-30T04:25:17.309012Z"
    },
    "papermill": {
     "duration": 0.070783,
     "end_time": "2022-03-30T04:28:22.265813",
     "exception": false,
     "start_time": "2022-03-30T04:28:22.195030",
     "status": "completed"
    },
    "tags": []
   },
   "outputs": [
    {
     "data": {
      "text/html": [
       "<div>\n",
       "<style scoped>\n",
       "    .dataframe tbody tr th:only-of-type {\n",
       "        vertical-align: middle;\n",
       "    }\n",
       "\n",
       "    .dataframe tbody tr th {\n",
       "        vertical-align: top;\n",
       "    }\n",
       "\n",
       "    .dataframe thead th {\n",
       "        text-align: right;\n",
       "    }\n",
       "</style>\n",
       "<table border=\"1\" class=\"dataframe\">\n",
       "  <thead>\n",
       "    <tr style=\"text-align: right;\">\n",
       "      <th></th>\n",
       "      <th>Age</th>\n",
       "      <th>RoomService</th>\n",
       "      <th>FoodCourt</th>\n",
       "      <th>ShoppingMall</th>\n",
       "      <th>Spa</th>\n",
       "      <th>VRDeck</th>\n",
       "    </tr>\n",
       "  </thead>\n",
       "  <tbody>\n",
       "    <tr>\n",
       "      <th>count</th>\n",
       "      <td>8514.000000</td>\n",
       "      <td>8512.000000</td>\n",
       "      <td>8510.000000</td>\n",
       "      <td>8485.000000</td>\n",
       "      <td>8510.000000</td>\n",
       "      <td>8505.000000</td>\n",
       "    </tr>\n",
       "    <tr>\n",
       "      <th>mean</th>\n",
       "      <td>28.827930</td>\n",
       "      <td>224.687617</td>\n",
       "      <td>458.077203</td>\n",
       "      <td>173.729169</td>\n",
       "      <td>311.138778</td>\n",
       "      <td>304.854791</td>\n",
       "    </tr>\n",
       "    <tr>\n",
       "      <th>std</th>\n",
       "      <td>14.489021</td>\n",
       "      <td>666.717663</td>\n",
       "      <td>1611.489240</td>\n",
       "      <td>604.696458</td>\n",
       "      <td>1136.705535</td>\n",
       "      <td>1145.717189</td>\n",
       "    </tr>\n",
       "    <tr>\n",
       "      <th>min</th>\n",
       "      <td>0.000000</td>\n",
       "      <td>0.000000</td>\n",
       "      <td>0.000000</td>\n",
       "      <td>0.000000</td>\n",
       "      <td>0.000000</td>\n",
       "      <td>0.000000</td>\n",
       "    </tr>\n",
       "    <tr>\n",
       "      <th>25%</th>\n",
       "      <td>19.000000</td>\n",
       "      <td>0.000000</td>\n",
       "      <td>0.000000</td>\n",
       "      <td>0.000000</td>\n",
       "      <td>0.000000</td>\n",
       "      <td>0.000000</td>\n",
       "    </tr>\n",
       "    <tr>\n",
       "      <th>50%</th>\n",
       "      <td>27.000000</td>\n",
       "      <td>0.000000</td>\n",
       "      <td>0.000000</td>\n",
       "      <td>0.000000</td>\n",
       "      <td>0.000000</td>\n",
       "      <td>0.000000</td>\n",
       "    </tr>\n",
       "    <tr>\n",
       "      <th>75%</th>\n",
       "      <td>38.000000</td>\n",
       "      <td>47.000000</td>\n",
       "      <td>76.000000</td>\n",
       "      <td>27.000000</td>\n",
       "      <td>59.000000</td>\n",
       "      <td>46.000000</td>\n",
       "    </tr>\n",
       "    <tr>\n",
       "      <th>max</th>\n",
       "      <td>79.000000</td>\n",
       "      <td>14327.000000</td>\n",
       "      <td>29813.000000</td>\n",
       "      <td>23492.000000</td>\n",
       "      <td>22408.000000</td>\n",
       "      <td>24133.000000</td>\n",
       "    </tr>\n",
       "  </tbody>\n",
       "</table>\n",
       "</div>"
      ],
      "text/plain": [
       "               Age   RoomService     FoodCourt  ShoppingMall           Spa  \\\n",
       "count  8514.000000   8512.000000   8510.000000   8485.000000   8510.000000   \n",
       "mean     28.827930    224.687617    458.077203    173.729169    311.138778   \n",
       "std      14.489021    666.717663   1611.489240    604.696458   1136.705535   \n",
       "min       0.000000      0.000000      0.000000      0.000000      0.000000   \n",
       "25%      19.000000      0.000000      0.000000      0.000000      0.000000   \n",
       "50%      27.000000      0.000000      0.000000      0.000000      0.000000   \n",
       "75%      38.000000     47.000000     76.000000     27.000000     59.000000   \n",
       "max      79.000000  14327.000000  29813.000000  23492.000000  22408.000000   \n",
       "\n",
       "             VRDeck  \n",
       "count   8505.000000  \n",
       "mean     304.854791  \n",
       "std     1145.717189  \n",
       "min        0.000000  \n",
       "25%        0.000000  \n",
       "50%        0.000000  \n",
       "75%       46.000000  \n",
       "max    24133.000000  "
      ]
     },
     "execution_count": 13,
     "metadata": {},
     "output_type": "execute_result"
    }
   ],
   "source": [
    "train.describe()"
   ]
  },
  {
   "cell_type": "code",
   "execution_count": 14,
   "id": "83681bf2",
   "metadata": {
    "execution": {
     "iopub.execute_input": "2022-03-30T04:28:22.345254Z",
     "iopub.status.busy": "2022-03-30T04:28:22.344613Z",
     "iopub.status.idle": "2022-03-30T04:28:22.347632Z",
     "shell.execute_reply": "2022-03-30T04:28:22.348166Z",
     "shell.execute_reply.started": "2022-03-30T04:25:17.341601Z"
    },
    "papermill": {
     "duration": 0.044487,
     "end_time": "2022-03-30T04:28:22.348338",
     "exception": false,
     "start_time": "2022-03-30T04:28:22.303851",
     "status": "completed"
    },
    "tags": []
   },
   "outputs": [],
   "source": [
    "#train[train.Spa > 10000]"
   ]
  },
  {
   "cell_type": "code",
   "execution_count": 15,
   "id": "07dc901a",
   "metadata": {
    "execution": {
     "iopub.execute_input": "2022-03-30T04:28:22.428227Z",
     "iopub.status.busy": "2022-03-30T04:28:22.427616Z",
     "iopub.status.idle": "2022-03-30T04:28:22.714627Z",
     "shell.execute_reply": "2022-03-30T04:28:22.715175Z",
     "shell.execute_reply.started": "2022-03-30T04:25:17.348101Z"
    },
    "papermill": {
     "duration": 0.328918,
     "end_time": "2022-03-30T04:28:22.715412",
     "exception": false,
     "start_time": "2022-03-30T04:28:22.386494",
     "status": "completed"
    },
    "tags": []
   },
   "outputs": [
    {
     "data": {
      "image/png": "[encoded data removed]",
      "text/plain": [
       "<Figure size 432x288 with 2 Axes>"
      ]
     },
     "metadata": {
      "needs_background": "light"
     },
     "output_type": "display_data"
    }
   ],
   "source": [
    "sns.heatmap(train.corr(), cmap = 'coolwarm')\n",
    "plt.show()"
   ]
  },
  {
   "cell_type": "code",
   "execution_count": 16,
   "id": "6ce9ba85",
   "metadata": {
    "execution": {
     "iopub.execute_input": "2022-03-30T04:28:22.797041Z",
     "iopub.status.busy": "2022-03-30T04:28:22.796289Z",
     "iopub.status.idle": "2022-03-30T04:28:22.809432Z",
     "shell.execute_reply": "2022-03-30T04:28:22.810031Z",
     "shell.execute_reply.started": "2022-03-30T04:25:17.580454Z"
    },
    "papermill": {
     "duration": 0.05573,
     "end_time": "2022-03-30T04:28:22.810205",
     "exception": false,
     "start_time": "2022-03-30T04:28:22.754475",
     "status": "completed"
    },
    "tags": []
   },
   "outputs": [
    {
     "data": {
      "text/html": [
       "<div>\n",
       "<style scoped>\n",
       "    .dataframe tbody tr th:only-of-type {\n",
       "        vertical-align: middle;\n",
       "    }\n",
       "\n",
       "    .dataframe tbody tr th {\n",
       "        vertical-align: top;\n",
       "    }\n",
       "\n",
       "    .dataframe thead th {\n",
       "        text-align: right;\n",
       "    }\n",
       "</style>\n",
       "<table border=\"1\" class=\"dataframe\">\n",
       "  <thead>\n",
       "    <tr style=\"text-align: right;\">\n",
       "      <th></th>\n",
       "      <th>index</th>\n",
       "      <th>Transported</th>\n",
       "    </tr>\n",
       "  </thead>\n",
       "  <tbody>\n",
       "    <tr>\n",
       "      <th>0</th>\n",
       "      <td>RoomService</td>\n",
       "      <td>-0.244611</td>\n",
       "    </tr>\n",
       "    <tr>\n",
       "      <th>1</th>\n",
       "      <td>Spa</td>\n",
       "      <td>-0.221131</td>\n",
       "    </tr>\n",
       "    <tr>\n",
       "      <th>2</th>\n",
       "      <td>VRDeck</td>\n",
       "      <td>-0.207075</td>\n",
       "    </tr>\n",
       "    <tr>\n",
       "      <th>3</th>\n",
       "      <td>Age</td>\n",
       "      <td>-0.075026</td>\n",
       "    </tr>\n",
       "    <tr>\n",
       "      <th>4</th>\n",
       "      <td>ShoppingMall</td>\n",
       "      <td>0.010141</td>\n",
       "    </tr>\n",
       "    <tr>\n",
       "      <th>5</th>\n",
       "      <td>FoodCourt</td>\n",
       "      <td>0.046566</td>\n",
       "    </tr>\n",
       "    <tr>\n",
       "      <th>6</th>\n",
       "      <td>Transported</td>\n",
       "      <td>1.000000</td>\n",
       "    </tr>\n",
       "  </tbody>\n",
       "</table>\n",
       "</div>"
      ],
      "text/plain": [
       "          index  Transported\n",
       "0   RoomService    -0.244611\n",
       "1           Spa    -0.221131\n",
       "2        VRDeck    -0.207075\n",
       "3           Age    -0.075026\n",
       "4  ShoppingMall     0.010141\n",
       "5     FoodCourt     0.046566\n",
       "6   Transported     1.000000"
      ]
     },
     "execution_count": 16,
     "metadata": {},
     "output_type": "execute_result"
    }
   ],
   "source": [
    "train.corr()['Transported'].sort_values().reset_index()"
   ]
  },
  {
   "cell_type": "markdown",
   "id": "e3754804",
   "metadata": {
    "papermill": {
     "duration": 0.040102,
     "end_time": "2022-03-30T04:28:22.890690",
     "exception": false,
     "start_time": "2022-03-30T04:28:22.850588",
     "status": "completed"
    },
    "tags": []
   },
   "source": [
    "# FE"
   ]
  },
  {
   "cell_type": "code",
   "execution_count": 17,
   "id": "bcd7470d",
   "metadata": {
    "execution": {
     "iopub.execute_input": "2022-03-30T04:28:22.974516Z",
     "iopub.status.busy": "2022-03-30T04:28:22.973789Z",
     "iopub.status.idle": "2022-03-30T04:28:23.014359Z",
     "shell.execute_reply": "2022-03-30T04:28:23.014971Z",
     "shell.execute_reply.started": "2022-03-30T04:25:17.596699Z"
    },
    "papermill": {
     "duration": 0.084872,
     "end_time": "2022-03-30T04:28:23.015148",
     "exception": false,
     "start_time": "2022-03-30T04:28:22.930276",
     "status": "completed"
    },
    "tags": []
   },
   "outputs": [
    {
     "name": "stdout",
     "output_type": "stream",
     "text": [
      "(12970, 14)\n"
     ]
    }
   ],
   "source": [
    "df = pd.concat([train, test])\n",
    "\n",
    "df['Transported'] = df['Transported'].fillna(-1).astype('int')\n",
    "df['CryoSleep'] = df['CryoSleep'].fillna(-1).astype('int')\n",
    "df['VIP'] = df['VIP'].fillna(-1).astype('int')\n",
    "\n",
    "obj_cols = ['HomePlanet',   'Destination', 'Name','Cabin']\n",
    "for c in obj_cols:\n",
    "    df[c] = df[c].fillna('None')\n",
    "\n",
    "num_cols = ['Age','RoomService', 'FoodCourt', 'ShoppingMall', 'Spa', 'VRDeck']\n",
    "for c in num_cols:\n",
    "    df[c] = df[c].fillna(df[c].median())\n",
    "    \n",
    "  \n",
    "print(df.shape)"
   ]
  },
  {
   "cell_type": "code",
   "execution_count": 18,
   "id": "dd5d5c5e",
   "metadata": {
    "execution": {
     "iopub.execute_input": "2022-03-30T04:28:23.098175Z",
     "iopub.status.busy": "2022-03-30T04:28:23.097524Z",
     "iopub.status.idle": "2022-03-30T04:28:23.148237Z",
     "shell.execute_reply": "2022-03-30T04:28:23.148699Z",
     "shell.execute_reply.started": "2022-03-30T04:25:17.628134Z"
    },
    "papermill": {
     "duration": 0.093782,
     "end_time": "2022-03-30T04:28:23.148880",
     "exception": false,
     "start_time": "2022-03-30T04:28:23.055098",
     "status": "completed"
    },
    "tags": []
   },
   "outputs": [
    {
     "data": {
      "text/html": [
       "<div>\n",
       "<style scoped>\n",
       "    .dataframe tbody tr th:only-of-type {\n",
       "        vertical-align: middle;\n",
       "    }\n",
       "\n",
       "    .dataframe tbody tr th {\n",
       "        vertical-align: top;\n",
       "    }\n",
       "\n",
       "    .dataframe thead th {\n",
       "        text-align: right;\n",
       "    }\n",
       "</style>\n",
       "<table border=\"1\" class=\"dataframe\">\n",
       "  <thead>\n",
       "    <tr style=\"text-align: right;\">\n",
       "      <th></th>\n",
       "      <th>PassengerId</th>\n",
       "      <th>HomePlanet</th>\n",
       "      <th>CryoSleep</th>\n",
       "      <th>Cabin</th>\n",
       "      <th>Destination</th>\n",
       "      <th>Age</th>\n",
       "      <th>VIP</th>\n",
       "      <th>RoomService</th>\n",
       "      <th>FoodCourt</th>\n",
       "      <th>ShoppingMall</th>\n",
       "      <th>Spa</th>\n",
       "      <th>VRDeck</th>\n",
       "      <th>Name</th>\n",
       "      <th>Transported</th>\n",
       "      <th>deck</th>\n",
       "      <th>num</th>\n",
       "      <th>side</th>\n",
       "    </tr>\n",
       "  </thead>\n",
       "  <tbody>\n",
       "    <tr>\n",
       "      <th>0</th>\n",
       "      <td>0001_01</td>\n",
       "      <td>Europa</td>\n",
       "      <td>0</td>\n",
       "      <td>B/0/P</td>\n",
       "      <td>TRAPPIST-1e</td>\n",
       "      <td>39.0</td>\n",
       "      <td>0</td>\n",
       "      <td>0.0</td>\n",
       "      <td>0.0</td>\n",
       "      <td>0.0</td>\n",
       "      <td>0.0</td>\n",
       "      <td>0.0</td>\n",
       "      <td>Maham Ofracculy</td>\n",
       "      <td>0</td>\n",
       "      <td>B</td>\n",
       "      <td>0</td>\n",
       "      <td>P</td>\n",
       "    </tr>\n",
       "    <tr>\n",
       "      <th>1</th>\n",
       "      <td>0002_01</td>\n",
       "      <td>Earth</td>\n",
       "      <td>0</td>\n",
       "      <td>F/0/S</td>\n",
       "      <td>TRAPPIST-1e</td>\n",
       "      <td>24.0</td>\n",
       "      <td>0</td>\n",
       "      <td>109.0</td>\n",
       "      <td>9.0</td>\n",
       "      <td>25.0</td>\n",
       "      <td>549.0</td>\n",
       "      <td>44.0</td>\n",
       "      <td>Juanna Vines</td>\n",
       "      <td>1</td>\n",
       "      <td>F</td>\n",
       "      <td>0</td>\n",
       "      <td>S</td>\n",
       "    </tr>\n",
       "    <tr>\n",
       "      <th>2</th>\n",
       "      <td>0003_01</td>\n",
       "      <td>Europa</td>\n",
       "      <td>0</td>\n",
       "      <td>A/0/S</td>\n",
       "      <td>TRAPPIST-1e</td>\n",
       "      <td>58.0</td>\n",
       "      <td>1</td>\n",
       "      <td>43.0</td>\n",
       "      <td>3576.0</td>\n",
       "      <td>0.0</td>\n",
       "      <td>6715.0</td>\n",
       "      <td>49.0</td>\n",
       "      <td>Altark Susent</td>\n",
       "      <td>0</td>\n",
       "      <td>A</td>\n",
       "      <td>0</td>\n",
       "      <td>S</td>\n",
       "    </tr>\n",
       "    <tr>\n",
       "      <th>3</th>\n",
       "      <td>0003_02</td>\n",
       "      <td>Europa</td>\n",
       "      <td>0</td>\n",
       "      <td>A/0/S</td>\n",
       "      <td>TRAPPIST-1e</td>\n",
       "      <td>33.0</td>\n",
       "      <td>0</td>\n",
       "      <td>0.0</td>\n",
       "      <td>1283.0</td>\n",
       "      <td>371.0</td>\n",
       "      <td>3329.0</td>\n",
       "      <td>193.0</td>\n",
       "      <td>Solam Susent</td>\n",
       "      <td>0</td>\n",
       "      <td>A</td>\n",
       "      <td>0</td>\n",
       "      <td>S</td>\n",
       "    </tr>\n",
       "    <tr>\n",
       "      <th>4</th>\n",
       "      <td>0004_01</td>\n",
       "      <td>Earth</td>\n",
       "      <td>0</td>\n",
       "      <td>F/1/S</td>\n",
       "      <td>TRAPPIST-1e</td>\n",
       "      <td>16.0</td>\n",
       "      <td>0</td>\n",
       "      <td>303.0</td>\n",
       "      <td>70.0</td>\n",
       "      <td>151.0</td>\n",
       "      <td>565.0</td>\n",
       "      <td>2.0</td>\n",
       "      <td>Willy Santantines</td>\n",
       "      <td>1</td>\n",
       "      <td>F</td>\n",
       "      <td>1</td>\n",
       "      <td>S</td>\n",
       "    </tr>\n",
       "  </tbody>\n",
       "</table>\n",
       "</div>"
      ],
      "text/plain": [
       "  PassengerId HomePlanet  CryoSleep  Cabin  Destination   Age  VIP  \\\n",
       "0     0001_01     Europa          0  B/0/P  TRAPPIST-1e  39.0    0   \n",
       "1     0002_01      Earth          0  F/0/S  TRAPPIST-1e  24.0    0   \n",
       "2     0003_01     Europa          0  A/0/S  TRAPPIST-1e  58.0    1   \n",
       "3     0003_02     Europa          0  A/0/S  TRAPPIST-1e  33.0    0   \n",
       "4     0004_01      Earth          0  F/1/S  TRAPPIST-1e  16.0    0   \n",
       "\n",
       "   RoomService  FoodCourt  ShoppingMall     Spa  VRDeck               Name  \\\n",
       "0          0.0        0.0           0.0     0.0     0.0    Maham Ofracculy   \n",
       "1        109.0        9.0          25.0   549.0    44.0       Juanna Vines   \n",
       "2         43.0     3576.0           0.0  6715.0    49.0      Altark Susent   \n",
       "3          0.0     1283.0         371.0  3329.0   193.0       Solam Susent   \n",
       "4        303.0       70.0         151.0   565.0     2.0  Willy Santantines   \n",
       "\n",
       "   Transported deck  num side  \n",
       "0            0    B    0    P  \n",
       "1            1    F    0    S  \n",
       "2            0    A    0    S  \n",
       "3            0    A    0    S  \n",
       "4            1    F    1    S  "
      ]
     },
     "execution_count": 18,
     "metadata": {},
     "output_type": "execute_result"
    }
   ],
   "source": [
    "df['deck'] = df['Cabin'].astype(str).apply(lambda x: x.split('/')[0])\n",
    "df['num'] = df['Cabin'].astype(str).apply(lambda x: int(x.split('/')[1]) if x != 'None' else -1)\n",
    "df['side'] = df['Cabin'].astype(str).apply(lambda x: x.split('/')[-1])\n",
    "\n",
    "df.head()"
   ]
  },
  {
   "cell_type": "markdown",
   "id": "090dd635",
   "metadata": {
    "papermill": {
     "duration": 0.040696,
     "end_time": "2022-03-30T04:28:23.230236",
     "exception": false,
     "start_time": "2022-03-30T04:28:23.189540",
     "status": "completed"
    },
    "tags": []
   },
   "source": [
    "# Pre-processing"
   ]
  },
  {
   "cell_type": "code",
   "execution_count": 19,
   "id": "0da19acc",
   "metadata": {
    "execution": {
     "iopub.execute_input": "2022-03-30T04:28:23.314704Z",
     "iopub.status.busy": "2022-03-30T04:28:23.314066Z",
     "iopub.status.idle": "2022-03-30T04:28:23.617267Z",
     "shell.execute_reply": "2022-03-30T04:28:23.616662Z",
     "shell.execute_reply.started": "2022-03-30T04:25:17.808267Z"
    },
    "papermill": {
     "duration": 0.346534,
     "end_time": "2022-03-30T04:28:23.617417",
     "exception": false,
     "start_time": "2022-03-30T04:28:23.270883",
     "status": "completed"
    },
    "tags": []
   },
   "outputs": [
    {
     "data": {
      "text/html": [
       "<div>\n",
       "<style scoped>\n",
       "    .dataframe tbody tr th:only-of-type {\n",
       "        vertical-align: middle;\n",
       "    }\n",
       "\n",
       "    .dataframe tbody tr th {\n",
       "        vertical-align: top;\n",
       "    }\n",
       "\n",
       "    .dataframe thead th {\n",
       "        text-align: right;\n",
       "    }\n",
       "</style>\n",
       "<table border=\"1\" class=\"dataframe\">\n",
       "  <thead>\n",
       "    <tr style=\"text-align: right;\">\n",
       "      <th></th>\n",
       "      <th>PassengerId</th>\n",
       "      <th>HomePlanet</th>\n",
       "      <th>CryoSleep</th>\n",
       "      <th>Cabin</th>\n",
       "      <th>Destination</th>\n",
       "      <th>Age</th>\n",
       "      <th>VIP</th>\n",
       "      <th>RoomService</th>\n",
       "      <th>FoodCourt</th>\n",
       "      <th>ShoppingMall</th>\n",
       "      <th>Spa</th>\n",
       "      <th>VRDeck</th>\n",
       "      <th>Name</th>\n",
       "      <th>Transported</th>\n",
       "      <th>deck</th>\n",
       "      <th>num</th>\n",
       "      <th>side</th>\n",
       "    </tr>\n",
       "  </thead>\n",
       "  <tbody>\n",
       "    <tr>\n",
       "      <th>0</th>\n",
       "      <td>0001_01</td>\n",
       "      <td>1</td>\n",
       "      <td>0</td>\n",
       "      <td>B/0/P</td>\n",
       "      <td>3</td>\n",
       "      <td>39.0</td>\n",
       "      <td>0</td>\n",
       "      <td>0.0</td>\n",
       "      <td>0.0</td>\n",
       "      <td>0.0</td>\n",
       "      <td>0.0</td>\n",
       "      <td>0.0</td>\n",
       "      <td>Maham Ofracculy</td>\n",
       "      <td>0</td>\n",
       "      <td>1</td>\n",
       "      <td>0</td>\n",
       "      <td>1</td>\n",
       "    </tr>\n",
       "    <tr>\n",
       "      <th>1</th>\n",
       "      <td>0002_01</td>\n",
       "      <td>0</td>\n",
       "      <td>0</td>\n",
       "      <td>F/0/S</td>\n",
       "      <td>3</td>\n",
       "      <td>24.0</td>\n",
       "      <td>0</td>\n",
       "      <td>109.0</td>\n",
       "      <td>9.0</td>\n",
       "      <td>25.0</td>\n",
       "      <td>549.0</td>\n",
       "      <td>44.0</td>\n",
       "      <td>Juanna Vines</td>\n",
       "      <td>1</td>\n",
       "      <td>5</td>\n",
       "      <td>0</td>\n",
       "      <td>2</td>\n",
       "    </tr>\n",
       "    <tr>\n",
       "      <th>2</th>\n",
       "      <td>0003_01</td>\n",
       "      <td>1</td>\n",
       "      <td>0</td>\n",
       "      <td>A/0/S</td>\n",
       "      <td>3</td>\n",
       "      <td>58.0</td>\n",
       "      <td>1</td>\n",
       "      <td>43.0</td>\n",
       "      <td>3576.0</td>\n",
       "      <td>0.0</td>\n",
       "      <td>6715.0</td>\n",
       "      <td>49.0</td>\n",
       "      <td>Altark Susent</td>\n",
       "      <td>0</td>\n",
       "      <td>0</td>\n",
       "      <td>0</td>\n",
       "      <td>2</td>\n",
       "    </tr>\n",
       "    <tr>\n",
       "      <th>3</th>\n",
       "      <td>0003_02</td>\n",
       "      <td>1</td>\n",
       "      <td>0</td>\n",
       "      <td>A/0/S</td>\n",
       "      <td>3</td>\n",
       "      <td>33.0</td>\n",
       "      <td>0</td>\n",
       "      <td>0.0</td>\n",
       "      <td>1283.0</td>\n",
       "      <td>371.0</td>\n",
       "      <td>3329.0</td>\n",
       "      <td>193.0</td>\n",
       "      <td>Solam Susent</td>\n",
       "      <td>0</td>\n",
       "      <td>0</td>\n",
       "      <td>0</td>\n",
       "      <td>2</td>\n",
       "    </tr>\n",
       "    <tr>\n",
       "      <th>4</th>\n",
       "      <td>0004_01</td>\n",
       "      <td>0</td>\n",
       "      <td>0</td>\n",
       "      <td>F/1/S</td>\n",
       "      <td>3</td>\n",
       "      <td>16.0</td>\n",
       "      <td>0</td>\n",
       "      <td>303.0</td>\n",
       "      <td>70.0</td>\n",
       "      <td>151.0</td>\n",
       "      <td>565.0</td>\n",
       "      <td>2.0</td>\n",
       "      <td>Willy Santantines</td>\n",
       "      <td>1</td>\n",
       "      <td>5</td>\n",
       "      <td>1</td>\n",
       "      <td>2</td>\n",
       "    </tr>\n",
       "  </tbody>\n",
       "</table>\n",
       "</div>"
      ],
      "text/plain": [
       "  PassengerId  HomePlanet  CryoSleep  Cabin  Destination   Age  VIP  \\\n",
       "0     0001_01           1          0  B/0/P            3  39.0    0   \n",
       "1     0002_01           0          0  F/0/S            3  24.0    0   \n",
       "2     0003_01           1          0  A/0/S            3  58.0    1   \n",
       "3     0003_02           1          0  A/0/S            3  33.0    0   \n",
       "4     0004_01           0          0  F/1/S            3  16.0    0   \n",
       "\n",
       "   RoomService  FoodCourt  ShoppingMall     Spa  VRDeck               Name  \\\n",
       "0          0.0        0.0           0.0     0.0     0.0    Maham Ofracculy   \n",
       "1        109.0        9.0          25.0   549.0    44.0       Juanna Vines   \n",
       "2         43.0     3576.0           0.0  6715.0    49.0      Altark Susent   \n",
       "3          0.0     1283.0         371.0  3329.0   193.0       Solam Susent   \n",
       "4        303.0       70.0         151.0   565.0     2.0  Willy Santantines   \n",
       "\n",
       "   Transported  deck  num  side  \n",
       "0            0     1    0     1  \n",
       "1            1     5    0     2  \n",
       "2            0     0    0     2  \n",
       "3            0     0    0     2  \n",
       "4            1     5    1     2  "
      ]
     },
     "execution_count": 19,
     "metadata": {},
     "output_type": "execute_result"
    }
   ],
   "source": [
    "from sklearn.preprocessing import LabelEncoder, StandardScaler\n",
    "le = LabelEncoder()\n",
    "\n",
    "for c in ['deck','side','Destination','HomePlanet']:\n",
    "    df[c] = le.fit_transform(df[c])\n",
    "\n",
    "df.head()    "
   ]
  },
  {
   "cell_type": "code",
   "execution_count": 20,
   "id": "bae434cc",
   "metadata": {
    "execution": {
     "iopub.execute_input": "2022-03-30T04:28:23.712016Z",
     "iopub.status.busy": "2022-03-30T04:28:23.711199Z",
     "iopub.status.idle": "2022-03-30T04:28:23.721149Z",
     "shell.execute_reply": "2022-03-30T04:28:23.721673Z",
     "shell.execute_reply.started": "2022-03-30T04:25:17.991824Z"
    },
    "papermill": {
     "duration": 0.062261,
     "end_time": "2022-03-30T04:28:23.721874",
     "exception": false,
     "start_time": "2022-03-30T04:28:23.659613",
     "status": "completed"
    },
    "tags": []
   },
   "outputs": [
    {
     "name": "stdout",
     "output_type": "stream",
     "text": [
      "(8693, 13)\n",
      "(4277, 13)\n"
     ]
    }
   ],
   "source": [
    "train = df[:len(train)]\n",
    "test = df[-len(test):]\n",
    "\n",
    "X_train = train.drop(['PassengerId','Cabin','Name','Transported'], axis = 1)\n",
    "y_train = train.Transported\n",
    "\n",
    "X_test = test.drop(['PassengerId','Cabin','Name','Transported'], axis = 1)\n",
    "\n",
    "print(X_train.shape)\n",
    "print(X_test.shape)"
   ]
  },
  {
   "cell_type": "code",
   "execution_count": 21,
   "id": "e1413bec",
   "metadata": {
    "execution": {
     "iopub.execute_input": "2022-03-30T04:28:23.825451Z",
     "iopub.status.busy": "2022-03-30T04:28:23.824613Z",
     "iopub.status.idle": "2022-03-30T04:28:23.828606Z",
     "shell.execute_reply": "2022-03-30T04:28:23.828081Z",
     "shell.execute_reply.started": "2022-03-30T04:25:43.261697Z"
    },
    "papermill": {
     "duration": 0.064728,
     "end_time": "2022-03-30T04:28:23.828745",
     "exception": false,
     "start_time": "2022-03-30T04:28:23.764017",
     "status": "completed"
    },
    "tags": []
   },
   "outputs": [
    {
     "data": {
      "text/html": [
       "<div>\n",
       "<style scoped>\n",
       "    .dataframe tbody tr th:only-of-type {\n",
       "        vertical-align: middle;\n",
       "    }\n",
       "\n",
       "    .dataframe tbody tr th {\n",
       "        vertical-align: top;\n",
       "    }\n",
       "\n",
       "    .dataframe thead th {\n",
       "        text-align: right;\n",
       "    }\n",
       "</style>\n",
       "<table border=\"1\" class=\"dataframe\">\n",
       "  <thead>\n",
       "    <tr style=\"text-align: right;\">\n",
       "      <th></th>\n",
       "      <th>HomePlanet</th>\n",
       "      <th>CryoSleep</th>\n",
       "      <th>Destination</th>\n",
       "      <th>Age</th>\n",
       "      <th>VIP</th>\n",
       "      <th>RoomService</th>\n",
       "      <th>FoodCourt</th>\n",
       "      <th>ShoppingMall</th>\n",
       "      <th>Spa</th>\n",
       "      <th>VRDeck</th>\n",
       "      <th>deck</th>\n",
       "      <th>num</th>\n",
       "      <th>side</th>\n",
       "    </tr>\n",
       "  </thead>\n",
       "  <tbody>\n",
       "    <tr>\n",
       "      <th>0</th>\n",
       "      <td>1</td>\n",
       "      <td>0</td>\n",
       "      <td>3</td>\n",
       "      <td>39.0</td>\n",
       "      <td>0</td>\n",
       "      <td>0.0</td>\n",
       "      <td>0.0</td>\n",
       "      <td>0.0</td>\n",
       "      <td>0.0</td>\n",
       "      <td>0.0</td>\n",
       "      <td>1</td>\n",
       "      <td>0</td>\n",
       "      <td>1</td>\n",
       "    </tr>\n",
       "    <tr>\n",
       "      <th>1</th>\n",
       "      <td>0</td>\n",
       "      <td>0</td>\n",
       "      <td>3</td>\n",
       "      <td>24.0</td>\n",
       "      <td>0</td>\n",
       "      <td>109.0</td>\n",
       "      <td>9.0</td>\n",
       "      <td>25.0</td>\n",
       "      <td>549.0</td>\n",
       "      <td>44.0</td>\n",
       "      <td>5</td>\n",
       "      <td>0</td>\n",
       "      <td>2</td>\n",
       "    </tr>\n",
       "    <tr>\n",
       "      <th>2</th>\n",
       "      <td>1</td>\n",
       "      <td>0</td>\n",
       "      <td>3</td>\n",
       "      <td>58.0</td>\n",
       "      <td>1</td>\n",
       "      <td>43.0</td>\n",
       "      <td>3576.0</td>\n",
       "      <td>0.0</td>\n",
       "      <td>6715.0</td>\n",
       "      <td>49.0</td>\n",
       "      <td>0</td>\n",
       "      <td>0</td>\n",
       "      <td>2</td>\n",
       "    </tr>\n",
       "    <tr>\n",
       "      <th>3</th>\n",
       "      <td>1</td>\n",
       "      <td>0</td>\n",
       "      <td>3</td>\n",
       "      <td>33.0</td>\n",
       "      <td>0</td>\n",
       "      <td>0.0</td>\n",
       "      <td>1283.0</td>\n",
       "      <td>371.0</td>\n",
       "      <td>3329.0</td>\n",
       "      <td>193.0</td>\n",
       "      <td>0</td>\n",
       "      <td>0</td>\n",
       "      <td>2</td>\n",
       "    </tr>\n",
       "    <tr>\n",
       "      <th>4</th>\n",
       "      <td>0</td>\n",
       "      <td>0</td>\n",
       "      <td>3</td>\n",
       "      <td>16.0</td>\n",
       "      <td>0</td>\n",
       "      <td>303.0</td>\n",
       "      <td>70.0</td>\n",
       "      <td>151.0</td>\n",
       "      <td>565.0</td>\n",
       "      <td>2.0</td>\n",
       "      <td>5</td>\n",
       "      <td>1</td>\n",
       "      <td>2</td>\n",
       "    </tr>\n",
       "  </tbody>\n",
       "</table>\n",
       "</div>"
      ],
      "text/plain": [
       "   HomePlanet  CryoSleep  Destination   Age  VIP  RoomService  FoodCourt  \\\n",
       "0           1          0            3  39.0    0          0.0        0.0   \n",
       "1           0          0            3  24.0    0        109.0        9.0   \n",
       "2           1          0            3  58.0    1         43.0     3576.0   \n",
       "3           1          0            3  33.0    0          0.0     1283.0   \n",
       "4           0          0            3  16.0    0        303.0       70.0   \n",
       "\n",
       "   ShoppingMall     Spa  VRDeck  deck  num  side  \n",
       "0           0.0     0.0     0.0     1    0     1  \n",
       "1          25.0   549.0    44.0     5    0     2  \n",
       "2           0.0  6715.0    49.0     0    0     2  \n",
       "3         371.0  3329.0   193.0     0    0     2  \n",
       "4         151.0   565.0     2.0     5    1     2  "
      ]
     },
     "execution_count": 21,
     "metadata": {},
     "output_type": "execute_result"
    }
   ],
   "source": [
    "X_train.head()"
   ]
  },
  {
   "cell_type": "markdown",
   "id": "7eda0cc3",
   "metadata": {
    "papermill": {
     "duration": 0.043891,
     "end_time": "2022-03-30T04:28:23.916398",
     "exception": false,
     "start_time": "2022-03-30T04:28:23.872507",
     "status": "completed"
    },
    "tags": []
   },
   "source": [
    "# LGBM"
   ]
  },
  {
   "cell_type": "code",
   "execution_count": 22,
   "id": "775367f5",
   "metadata": {
    "execution": {
     "iopub.execute_input": "2022-03-30T04:28:24.005349Z",
     "iopub.status.busy": "2022-03-30T04:28:24.004656Z",
     "iopub.status.idle": "2022-03-30T04:28:32.748305Z",
     "shell.execute_reply": "2022-03-30T04:28:32.749214Z",
     "shell.execute_reply.started": "2022-03-30T04:27:42.648183Z"
    },
    "papermill": {
     "duration": 8.790304,
     "end_time": "2022-03-30T04:28:32.749461",
     "exception": false,
     "start_time": "2022-03-30T04:28:23.959157",
     "status": "completed"
    },
    "tags": []
   },
   "outputs": [
    {
     "data": {
      "text/html": [
       "<style type='text/css'>\n",
       ".datatable table.frame { margin-bottom: 0; }\n",
       ".datatable table.frame thead { border-bottom: none; }\n",
       ".datatable table.frame tr.coltypes td {  color: #FFFFFF;  line-height: 6px;  padding: 0 0.5em;}\n",
       ".datatable .bool    { background: #DDDD99; }\n",
       ".datatable .object  { background: #565656; }\n",
       ".datatable .int     { background: #5D9E5D; }\n",
       ".datatable .float   { background: #4040CC; }\n",
       ".datatable .str     { background: #CC4040; }\n",
       ".datatable .time    { background: #40CC40; }\n",
       ".datatable .row_index {  background: var(--jp-border-color3);  border-right: 1px solid var(--jp-border-color0);  color: var(--jp-ui-font-color3);  font-size: 9px;}\n",
       ".datatable .frame tbody td { text-align: left; }\n",
       ".datatable .frame tr.coltypes .row_index {  background: var(--jp-border-color0);}\n",
       ".datatable th:nth-child(2) { padding-left: 12px; }\n",
       ".datatable .hellipsis {  color: var(--jp-cell-editor-border-color);}\n",
       ".datatable .vellipsis {  background: var(--jp-layout-color0);  color: var(--jp-cell-editor-border-color);}\n",
       ".datatable .na {  color: var(--jp-cell-editor-border-color);  font-size: 80%;}\n",
       ".datatable .sp {  opacity: 0.25;}\n",
       ".datatable .footer { font-size: 9px; }\n",
       ".datatable .frame_dimensions {  background: var(--jp-border-color3);  border-top: 1px solid var(--jp-border-color0);  color: var(--jp-ui-font-color3);  display: inline-block;  opacity: 0.6;  padding: 1px 10px 1px 5px;}\n",
       "</style>\n"
      ],
      "text/plain": [
       "<IPython.core.display.HTML object>"
      ]
     },
     "metadata": {},
     "output_type": "display_data"
    },
    {
     "name": "stdout",
     "output_type": "stream",
     "text": [
      "fold  1\n",
      "****************************************\n",
      "[LightGBM] [Warning] Met negative value in categorical features, will convert it to NaN\n",
      "[100]\ttraining's auc: 0.914715\ttraining's binary_logloss: 0.469292\tvalid_1's auc: 0.867486\tvalid_1's binary_logloss: 0.51233\n",
      "[200]\ttraining's auc: 0.924076\ttraining's binary_logloss: 0.395112\tvalid_1's auc: 0.870452\tvalid_1's binary_logloss: 0.460384\n",
      "[300]\ttraining's auc: 0.93213\ttraining's binary_logloss: 0.358068\tvalid_1's auc: 0.870591\tvalid_1's binary_logloss: 0.448057\n",
      "[400]\ttraining's auc: 0.93917\ttraining's binary_logloss: 0.334919\tvalid_1's auc: 0.872242\tvalid_1's binary_logloss: 0.444144\n",
      "[500]\ttraining's auc: 0.944946\ttraining's binary_logloss: 0.317732\tvalid_1's auc: 0.872583\tvalid_1's binary_logloss: 0.444939\n",
      "fold  2\n",
      "****************************************\n",
      "[LightGBM] [Warning] Met negative value in categorical features, will convert it to NaN\n",
      "[100]\ttraining's auc: 0.912699\ttraining's binary_logloss: 0.471337\tvalid_1's auc: 0.863542\tvalid_1's binary_logloss: 0.507161\n",
      "[200]\ttraining's auc: 0.922918\ttraining's binary_logloss: 0.396913\tvalid_1's auc: 0.862827\tvalid_1's binary_logloss: 0.461035\n",
      "fold  3\n",
      "****************************************\n",
      "[LightGBM] [Warning] Met negative value in categorical features, will convert it to NaN\n",
      "[100]\ttraining's auc: 0.908331\ttraining's binary_logloss: 0.473675\tvalid_1's auc: 0.879054\tvalid_1's binary_logloss: 0.491426\n",
      "[200]\ttraining's auc: 0.918693\ttraining's binary_logloss: 0.402259\tvalid_1's auc: 0.887615\tvalid_1's binary_logloss: 0.438695\n",
      "[300]\ttraining's auc: 0.92737\ttraining's binary_logloss: 0.367369\tvalid_1's auc: 0.893995\tvalid_1's binary_logloss: 0.421551\n",
      "[400]\ttraining's auc: 0.934422\ttraining's binary_logloss: 0.344953\tvalid_1's auc: 0.897242\tvalid_1's binary_logloss: 0.417309\n",
      "[500]\ttraining's auc: 0.940453\ttraining's binary_logloss: 0.328419\tvalid_1's auc: 0.899473\tvalid_1's binary_logloss: 0.417737\n",
      "fold  4\n",
      "****************************************\n",
      "[LightGBM] [Warning] Met negative value in categorical features, will convert it to NaN\n",
      "[100]\ttraining's auc: 0.905893\ttraining's binary_logloss: 0.47834\tvalid_1's auc: 0.900343\tvalid_1's binary_logloss: 0.478754\n",
      "[200]\ttraining's auc: 0.915867\ttraining's binary_logloss: 0.408644\tvalid_1's auc: 0.906626\tvalid_1's binary_logloss: 0.415491\n",
      "[300]\ttraining's auc: 0.924906\ttraining's binary_logloss: 0.373372\tvalid_1's auc: 0.911724\tvalid_1's binary_logloss: 0.388505\n",
      "[400]\ttraining's auc: 0.931968\ttraining's binary_logloss: 0.351113\tvalid_1's auc: 0.913982\tvalid_1's binary_logloss: 0.376872\n",
      "[500]\ttraining's auc: 0.937579\ttraining's binary_logloss: 0.335146\tvalid_1's auc: 0.914464\tvalid_1's binary_logloss: 0.372016\n",
      "[600]\ttraining's auc: 0.942318\ttraining's binary_logloss: 0.322975\tvalid_1's auc: 0.914946\tvalid_1's binary_logloss: 0.370133\n",
      "[700]\ttraining's auc: 0.946736\ttraining's binary_logloss: 0.312445\tvalid_1's auc: 0.914632\tvalid_1's binary_logloss: 0.370266\n",
      "fold  5\n",
      "****************************************\n",
      "[LightGBM] [Warning] Met negative value in categorical features, will convert it to NaN\n",
      "[100]\ttraining's auc: 0.911409\ttraining's binary_logloss: 0.473814\tvalid_1's auc: 0.883603\tvalid_1's binary_logloss: 0.489888\n",
      "[200]\ttraining's auc: 0.920579\ttraining's binary_logloss: 0.400574\tvalid_1's auc: 0.885466\tvalid_1's binary_logloss: 0.439386\n",
      "[300]\ttraining's auc: 0.92946\ttraining's binary_logloss: 0.364197\tvalid_1's auc: 0.88854\tvalid_1's binary_logloss: 0.422731\n",
      "[400]\ttraining's auc: 0.936732\ttraining's binary_logloss: 0.341319\tvalid_1's auc: 0.890171\tvalid_1's binary_logloss: 0.417244\n",
      "OOF accuracy 0.7947774071091683\n"
     ]
    }
   ],
   "source": [
    "import lightgbm as lgb\n",
    "from sklearn.model_selection import StratifiedKFold, KFold\n",
    "from sklearn.metrics import accuracy_score\n",
    "\n",
    "oof = np.zeros(len(train))\n",
    "preds = np.zeros(len(test))\n",
    "\n",
    "skf = StratifiedKFold(n_splits = 5)\n",
    "\n",
    "for i, (idt, idv) in enumerate(skf.split(X_train, y_train, y_train)):\n",
    "    \n",
    "    x_trn, x_val = X_train.iloc[idt], X_train.iloc[idv]\n",
    "    y_trn, y_val = y_train.iloc[idt], y_train.iloc[idv]\n",
    "    \n",
    "    print('fold ', i+1)\n",
    "    print('*' * 40)\n",
    "    \n",
    "    clf = lgb.LGBMClassifier(\n",
    "    n_estimators = 1000,\n",
    "        subsample = 0.8,\n",
    "        learning_rate = 0.01,\n",
    "        colsample_bytree = 0.8,\n",
    "        reg_alpha = 1,\n",
    "       \n",
    "        \n",
    "    )\n",
    "    \n",
    "    clf.fit(x_trn, y_trn, eval_set = [(x_trn, y_trn),(x_val, y_val)], verbose = 100,\n",
    "           early_stopping_rounds=100, eval_metric = 'auc',\n",
    "           categorical_feature = ['VIP','deck','side','Destination','HomePlanet']\n",
    "           )\n",
    "    \n",
    "    oof[idv] = clf.predict(x_val)\n",
    "    preds += clf.predict_proba(X_test)[:,1]/skf.n_splits\n",
    "\n",
    "print('OOF accuracy', accuracy_score(y_train, oof))"
   ]
  },
  {
   "cell_type": "code",
   "execution_count": 23,
   "id": "217cc9b2",
   "metadata": {
    "execution": {
     "iopub.execute_input": "2022-03-30T04:28:32.894731Z",
     "iopub.status.busy": "2022-03-30T04:28:32.892409Z",
     "iopub.status.idle": "2022-03-30T04:28:33.216013Z",
     "shell.execute_reply": "2022-03-30T04:28:33.216494Z",
     "shell.execute_reply.started": "2022-03-30T04:25:25.254520Z"
    },
    "papermill": {
     "duration": 0.410691,
     "end_time": "2022-03-30T04:28:33.216671",
     "exception": false,
     "start_time": "2022-03-30T04:28:32.805980",
     "status": "completed"
    },
    "tags": []
   },
   "outputs": [
    {
     "data": {
      "image/png": "[encoded data removed]",
      "text/plain": [
       "<Figure size 1440x720 with 1 Axes>"
      ]
     },
     "metadata": {
      "needs_background": "light"
     },
     "output_type": "display_data"
    }
   ],
   "source": [
    "cols = list(X_train.columns)\n",
    "feature_imp = pd.DataFrame(sorted(zip(clf.feature_importances_,cols)), columns=['Value','Feature'])\n",
    "plt.figure(figsize=(20, 10))\n",
    "sns.barplot(x=\"Value\", y=\"Feature\", data=feature_imp.sort_values(by=\"Value\", ascending=False).iloc[:20])\n",
    "plt.title('XGB Most Important Features')\n",
    "plt.tight_layout()\n",
    "plt.show()"
   ]
  },
  {
   "cell_type": "code",
   "execution_count": 24,
   "id": "e2d56438",
   "metadata": {
    "execution": {
     "iopub.execute_input": "2022-03-30T04:28:33.333192Z",
     "iopub.status.busy": "2022-03-30T04:28:33.330436Z",
     "iopub.status.idle": "2022-03-30T04:28:33.336447Z",
     "shell.execute_reply": "2022-03-30T04:28:33.336888Z",
     "shell.execute_reply.started": "2022-03-30T04:25:25.525415Z"
    },
    "papermill": {
     "duration": 0.065066,
     "end_time": "2022-03-30T04:28:33.337098",
     "exception": false,
     "start_time": "2022-03-30T04:28:33.272032",
     "status": "completed"
    },
    "tags": []
   },
   "outputs": [
    {
     "data": {
      "text/plain": [
       "array([0.51716105, 0.09327373, 0.94688753, ..., 0.92697886, 0.66884942,\n",
       "       0.63581345])"
      ]
     },
     "execution_count": 24,
     "metadata": {},
     "output_type": "execute_result"
    }
   ],
   "source": [
    "preds"
   ]
  },
  {
   "cell_type": "code",
   "execution_count": 25,
   "id": "c5564ae3",
   "metadata": {
    "execution": {
     "iopub.execute_input": "2022-03-30T04:28:33.462960Z",
     "iopub.status.busy": "2022-03-30T04:28:33.462258Z",
     "iopub.status.idle": "2022-03-30T04:28:33.465218Z",
     "shell.execute_reply": "2022-03-30T04:28:33.465699Z",
     "shell.execute_reply.started": "2022-03-30T04:25:25.534370Z"
    },
    "papermill": {
     "duration": 0.073928,
     "end_time": "2022-03-30T04:28:33.465864",
     "exception": false,
     "start_time": "2022-03-30T04:28:33.391936",
     "status": "completed"
    },
    "tags": []
   },
   "outputs": [
    {
     "data": {
      "text/html": [
       "<div>\n",
       "<style scoped>\n",
       "    .dataframe tbody tr th:only-of-type {\n",
       "        vertical-align: middle;\n",
       "    }\n",
       "\n",
       "    .dataframe tbody tr th {\n",
       "        vertical-align: top;\n",
       "    }\n",
       "\n",
       "    .dataframe thead th {\n",
       "        text-align: right;\n",
       "    }\n",
       "</style>\n",
       "<table border=\"1\" class=\"dataframe\">\n",
       "  <thead>\n",
       "    <tr style=\"text-align: right;\">\n",
       "      <th></th>\n",
       "      <th>PassengerId</th>\n",
       "      <th>Transported</th>\n",
       "    </tr>\n",
       "  </thead>\n",
       "  <tbody>\n",
       "    <tr>\n",
       "      <th>0</th>\n",
       "      <td>0013_01</td>\n",
       "      <td>True</td>\n",
       "    </tr>\n",
       "    <tr>\n",
       "      <th>1</th>\n",
       "      <td>0018_01</td>\n",
       "      <td>False</td>\n",
       "    </tr>\n",
       "    <tr>\n",
       "      <th>2</th>\n",
       "      <td>0019_01</td>\n",
       "      <td>True</td>\n",
       "    </tr>\n",
       "    <tr>\n",
       "      <th>3</th>\n",
       "      <td>0021_01</td>\n",
       "      <td>True</td>\n",
       "    </tr>\n",
       "    <tr>\n",
       "      <th>4</th>\n",
       "      <td>0023_01</td>\n",
       "      <td>True</td>\n",
       "    </tr>\n",
       "    <tr>\n",
       "      <th>...</th>\n",
       "      <td>...</td>\n",
       "      <td>...</td>\n",
       "    </tr>\n",
       "    <tr>\n",
       "      <th>4272</th>\n",
       "      <td>9266_02</td>\n",
       "      <td>True</td>\n",
       "    </tr>\n",
       "    <tr>\n",
       "      <th>4273</th>\n",
       "      <td>9269_01</td>\n",
       "      <td>False</td>\n",
       "    </tr>\n",
       "    <tr>\n",
       "      <th>4274</th>\n",
       "      <td>9271_01</td>\n",
       "      <td>True</td>\n",
       "    </tr>\n",
       "    <tr>\n",
       "      <th>4275</th>\n",
       "      <td>9273_01</td>\n",
       "      <td>True</td>\n",
       "    </tr>\n",
       "    <tr>\n",
       "      <th>4276</th>\n",
       "      <td>9277_01</td>\n",
       "      <td>True</td>\n",
       "    </tr>\n",
       "  </tbody>\n",
       "</table>\n",
       "<p>4277 rows × 2 columns</p>\n",
       "</div>"
      ],
      "text/plain": [
       "     PassengerId  Transported\n",
       "0        0013_01         True\n",
       "1        0018_01        False\n",
       "2        0019_01         True\n",
       "3        0021_01         True\n",
       "4        0023_01         True\n",
       "...          ...          ...\n",
       "4272     9266_02         True\n",
       "4273     9269_01        False\n",
       "4274     9271_01         True\n",
       "4275     9273_01         True\n",
       "4276     9277_01         True\n",
       "\n",
       "[4277 rows x 2 columns]"
      ]
     },
     "execution_count": 25,
     "metadata": {},
     "output_type": "execute_result"
    }
   ],
   "source": [
    "sub['Transported'] = [True if x>0.5 else False for x in preds]\n",
    "sub"
   ]
  },
  {
   "cell_type": "code",
   "execution_count": 26,
   "id": "a920a8b6",
   "metadata": {
    "execution": {
     "iopub.execute_input": "2022-03-30T04:28:33.585808Z",
     "iopub.status.busy": "2022-03-30T04:28:33.585125Z",
     "iopub.status.idle": "2022-03-30T04:28:33.589360Z",
     "shell.execute_reply": "2022-03-30T04:28:33.588756Z",
     "shell.execute_reply.started": "2022-03-30T04:25:25.554094Z"
    },
    "papermill": {
     "duration": 0.06833,
     "end_time": "2022-03-30T04:28:33.589501",
     "exception": false,
     "start_time": "2022-03-30T04:28:33.521171",
     "status": "completed"
    },
    "tags": []
   },
   "outputs": [
    {
     "data": {
      "text/plain": [
       "count     4277\n",
       "unique       2\n",
       "top       True\n",
       "freq      2191\n",
       "Name: Transported, dtype: object"
      ]
     },
     "execution_count": 26,
     "metadata": {},
     "output_type": "execute_result"
    }
   ],
   "source": [
    "sub['Transported'].describe()"
   ]
  },
  {
   "cell_type": "code",
   "execution_count": 27,
   "id": "b4c56d39",
   "metadata": {
    "execution": {
     "iopub.execute_input": "2022-03-30T04:28:33.707768Z",
     "iopub.status.busy": "2022-03-30T04:28:33.707088Z",
     "iopub.status.idle": "2022-03-30T04:28:33.721063Z",
     "shell.execute_reply": "2022-03-30T04:28:33.720281Z",
     "shell.execute_reply.started": "2022-03-30T04:25:25.568508Z"
    },
    "papermill": {
     "duration": 0.074989,
     "end_time": "2022-03-30T04:28:33.721221",
     "exception": false,
     "start_time": "2022-03-30T04:28:33.646232",
     "status": "completed"
    },
    "tags": []
   },
   "outputs": [],
   "source": [
    "sub.to_csv('sub_lgb.csv', index = False)"
   ]
  }
 ],
 "metadata": {
  "kernelspec": {
   "display_name": "Python 3",
   "language": "python",
   "name": "python3"
  },
  "language_info": {
   "codemirror_mode": {
    "name": "ipython",
    "version": 3
   },
   "file_extension": ".py",
   "mimetype": "text/x-python",
   "name": "python",
   "nbconvert_exporter": "python",
   "pygments_lexer": "ipython3",
   "version": "3.7.12"
  },
  "papermill": {
   "default_parameters": {},
   "duration": 26.345621,
   "end_time": "2022-03-30T04:28:34.588615",
   "environment_variables": {},
   "exception": null,
   "input_path": "__notebook__.ipynb",
   "output_path": "__notebook__.ipynb",
   "parameters": {},
   "start_time": "2022-03-30T04:28:08.242994",
   "version": "2.3.3"
  }
 },
 "nbformat": 4,
 "nbformat_minor": 5
}
