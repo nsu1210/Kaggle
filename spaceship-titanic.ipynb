{
 "cells": [
  {
   "cell_type": "code",
   "execution_count": 1,
   "id": "972c22ce",
   "metadata": {
    "execution": {
     "iopub.execute_input": "2022-04-04T23:42:59.904434Z",
     "iopub.status.busy": "2022-04-04T23:42:59.903727Z",
     "iopub.status.idle": "2022-04-04T23:43:01.006009Z",
     "shell.execute_reply": "2022-04-04T23:43:01.005187Z",
     "shell.execute_reply.started": "2022-04-04T23:40:40.307932Z"
    },
    "papermill": {
     "duration": 1.145822,
     "end_time": "2022-04-04T23:43:01.006188",
     "exception": false,
     "start_time": "2022-04-04T23:42:59.860366",
     "status": "completed"
    },
    "tags": []
   },
   "outputs": [],
   "source": [
    "import numpy as np\n",
    "import pandas as pd\n",
    "import os\n",
    "import gc\n",
    "import matplotlib.pyplot as plt\n",
    "import seaborn as sns\n",
    "import warnings \n",
    "warnings.filterwarnings('ignore')"
   ]
  },
  {
   "cell_type": "markdown",
   "id": "62a1d515",
   "metadata": {
    "papermill": {
     "duration": 0.032226,
     "end_time": "2022-04-04T23:43:01.071873",
     "exception": false,
     "start_time": "2022-04-04T23:43:01.039647",
     "status": "completed"
    },
    "tags": []
   },
   "source": [
    "In this competition your task is to predict whether a passenger was transported to an alternate dimension during the Spaceship Titanic's collision with the spacetime anomaly. To help you make these predictions, you're given a set of personal records recovered from the ship's damaged computer system."
   ]
  },
  {
   "cell_type": "markdown",
   "id": "b04acd82",
   "metadata": {
    "papermill": {
     "duration": 0.031916,
     "end_time": "2022-04-04T23:43:01.136683",
     "exception": false,
     "start_time": "2022-04-04T23:43:01.104767",
     "status": "completed"
    },
    "tags": []
   },
   "source": [
    "# File and Data Field Descriptions\n",
    "* train.csv - Personal records for about two-thirds (~8700) of the passengers, to be used as training data.\n",
    "* PassengerId - A unique Id for each passenger. Each Id takes the form gggg_pp where gggg indicates a group the passenger is travelling with and pp is their number within the group. People in a group are often family members, but not always.\n",
    "* HomePlanet - The planet the passenger departed from, typically their planet of permanent residence.\n",
    "* CryoSleep - Indicates whether the passenger elected to be put into suspended animation for the duration of the voyage. Passengers in cryosleep are confined to their cabins.\n",
    "* Cabin - The cabin number where the passenger is staying. Takes the form deck/num/side, where side can be either P for Port or S for Starboard.\n",
    "* Destination - The planet the passenger will be debarking to.\n",
    "* Age - The age of the passenger.\n",
    "* VIP - Whether the passenger has paid for special VIP service during the voyage.\n",
    "* RoomService, FoodCourt, ShoppingMall, Spa, VRDeck - Amount the passenger has billed at each of the Spaceship Titanic's many luxury amenities.\n",
    "* Name - The first and last names of the passenger.\n",
    "* Transported - Whether the passenger was transported to another dimension. This is the target, the column you are trying to predict."
   ]
  },
  {
   "cell_type": "code",
   "execution_count": 2,
   "id": "fc15b82b",
   "metadata": {
    "execution": {
     "iopub.execute_input": "2022-04-04T23:43:01.207686Z",
     "iopub.status.busy": "2022-04-04T23:43:01.206844Z",
     "iopub.status.idle": "2022-04-04T23:43:01.323445Z",
     "shell.execute_reply": "2022-04-04T23:43:01.323951Z",
     "shell.execute_reply.started": "2022-04-04T23:40:40.320869Z"
    },
    "papermill": {
     "duration": 0.154753,
     "end_time": "2022-04-04T23:43:01.324145",
     "exception": false,
     "start_time": "2022-04-04T23:43:01.169392",
     "status": "completed"
    },
    "tags": []
   },
   "outputs": [
    {
     "name": "stdout",
     "output_type": "stream",
     "text": [
      "(8693, 14)\n",
      "(4277, 13)\n"
     ]
    }
   ],
   "source": [
    "train = pd.read_csv('../input/spaceship-titanic/train.csv')\n",
    "test = pd.read_csv('../input/spaceship-titanic/test.csv')\n",
    "sub = pd.read_csv('../input/spaceship-titanic/sample_submission.csv')\n",
    "print(train.shape)\n",
    "print(test.shape)"
   ]
  },
  {
   "cell_type": "code",
   "execution_count": 3,
   "id": "cfaf59ae",
   "metadata": {
    "execution": {
     "iopub.execute_input": "2022-04-04T23:43:01.394161Z",
     "iopub.status.busy": "2022-04-04T23:43:01.393497Z",
     "iopub.status.idle": "2022-04-04T23:43:01.421404Z",
     "shell.execute_reply": "2022-04-04T23:43:01.421906Z",
     "shell.execute_reply.started": "2022-04-04T23:40:40.393168Z"
    },
    "papermill": {
     "duration": 0.064476,
     "end_time": "2022-04-04T23:43:01.422084",
     "exception": false,
     "start_time": "2022-04-04T23:43:01.357608",
     "status": "completed"
    },
    "tags": []
   },
   "outputs": [
    {
     "data": {
      "text/html": [
       "<div>\n",
       "<style scoped>\n",
       "    .dataframe tbody tr th:only-of-type {\n",
       "        vertical-align: middle;\n",
       "    }\n",
       "\n",
       "    .dataframe tbody tr th {\n",
       "        vertical-align: top;\n",
       "    }\n",
       "\n",
       "    .dataframe thead th {\n",
       "        text-align: right;\n",
       "    }\n",
       "</style>\n",
       "<table border=\"1\" class=\"dataframe\">\n",
       "  <thead>\n",
       "    <tr style=\"text-align: right;\">\n",
       "      <th></th>\n",
       "      <th>PassengerId</th>\n",
       "      <th>HomePlanet</th>\n",
       "      <th>CryoSleep</th>\n",
       "      <th>Cabin</th>\n",
       "      <th>Destination</th>\n",
       "      <th>Age</th>\n",
       "      <th>VIP</th>\n",
       "      <th>RoomService</th>\n",
       "      <th>FoodCourt</th>\n",
       "      <th>ShoppingMall</th>\n",
       "      <th>Spa</th>\n",
       "      <th>VRDeck</th>\n",
       "      <th>Name</th>\n",
       "      <th>Transported</th>\n",
       "    </tr>\n",
       "  </thead>\n",
       "  <tbody>\n",
       "    <tr>\n",
       "      <th>0</th>\n",
       "      <td>0001_01</td>\n",
       "      <td>Europa</td>\n",
       "      <td>False</td>\n",
       "      <td>B/0/P</td>\n",
       "      <td>TRAPPIST-1e</td>\n",
       "      <td>39.0</td>\n",
       "      <td>False</td>\n",
       "      <td>0.0</td>\n",
       "      <td>0.0</td>\n",
       "      <td>0.0</td>\n",
       "      <td>0.0</td>\n",
       "      <td>0.0</td>\n",
       "      <td>Maham Ofracculy</td>\n",
       "      <td>False</td>\n",
       "    </tr>\n",
       "    <tr>\n",
       "      <th>1</th>\n",
       "      <td>0002_01</td>\n",
       "      <td>Earth</td>\n",
       "      <td>False</td>\n",
       "      <td>F/0/S</td>\n",
       "      <td>TRAPPIST-1e</td>\n",
       "      <td>24.0</td>\n",
       "      <td>False</td>\n",
       "      <td>109.0</td>\n",
       "      <td>9.0</td>\n",
       "      <td>25.0</td>\n",
       "      <td>549.0</td>\n",
       "      <td>44.0</td>\n",
       "      <td>Juanna Vines</td>\n",
       "      <td>True</td>\n",
       "    </tr>\n",
       "    <tr>\n",
       "      <th>2</th>\n",
       "      <td>0003_01</td>\n",
       "      <td>Europa</td>\n",
       "      <td>False</td>\n",
       "      <td>A/0/S</td>\n",
       "      <td>TRAPPIST-1e</td>\n",
       "      <td>58.0</td>\n",
       "      <td>True</td>\n",
       "      <td>43.0</td>\n",
       "      <td>3576.0</td>\n",
       "      <td>0.0</td>\n",
       "      <td>6715.0</td>\n",
       "      <td>49.0</td>\n",
       "      <td>Altark Susent</td>\n",
       "      <td>False</td>\n",
       "    </tr>\n",
       "    <tr>\n",
       "      <th>3</th>\n",
       "      <td>0003_02</td>\n",
       "      <td>Europa</td>\n",
       "      <td>False</td>\n",
       "      <td>A/0/S</td>\n",
       "      <td>TRAPPIST-1e</td>\n",
       "      <td>33.0</td>\n",
       "      <td>False</td>\n",
       "      <td>0.0</td>\n",
       "      <td>1283.0</td>\n",
       "      <td>371.0</td>\n",
       "      <td>3329.0</td>\n",
       "      <td>193.0</td>\n",
       "      <td>Solam Susent</td>\n",
       "      <td>False</td>\n",
       "    </tr>\n",
       "    <tr>\n",
       "      <th>4</th>\n",
       "      <td>0004_01</td>\n",
       "      <td>Earth</td>\n",
       "      <td>False</td>\n",
       "      <td>F/1/S</td>\n",
       "      <td>TRAPPIST-1e</td>\n",
       "      <td>16.0</td>\n",
       "      <td>False</td>\n",
       "      <td>303.0</td>\n",
       "      <td>70.0</td>\n",
       "      <td>151.0</td>\n",
       "      <td>565.0</td>\n",
       "      <td>2.0</td>\n",
       "      <td>Willy Santantines</td>\n",
       "      <td>True</td>\n",
       "    </tr>\n",
       "  </tbody>\n",
       "</table>\n",
       "</div>"
      ],
      "text/plain": [
       "  PassengerId HomePlanet CryoSleep  Cabin  Destination   Age    VIP  \\\n",
       "0     0001_01     Europa     False  B/0/P  TRAPPIST-1e  39.0  False   \n",
       "1     0002_01      Earth     False  F/0/S  TRAPPIST-1e  24.0  False   \n",
       "2     0003_01     Europa     False  A/0/S  TRAPPIST-1e  58.0   True   \n",
       "3     0003_02     Europa     False  A/0/S  TRAPPIST-1e  33.0  False   \n",
       "4     0004_01      Earth     False  F/1/S  TRAPPIST-1e  16.0  False   \n",
       "\n",
       "   RoomService  FoodCourt  ShoppingMall     Spa  VRDeck               Name  \\\n",
       "0          0.0        0.0           0.0     0.0     0.0    Maham Ofracculy   \n",
       "1        109.0        9.0          25.0   549.0    44.0       Juanna Vines   \n",
       "2         43.0     3576.0           0.0  6715.0    49.0      Altark Susent   \n",
       "3          0.0     1283.0         371.0  3329.0   193.0       Solam Susent   \n",
       "4        303.0       70.0         151.0   565.0     2.0  Willy Santantines   \n",
       "\n",
       "   Transported  \n",
       "0        False  \n",
       "1         True  \n",
       "2        False  \n",
       "3        False  \n",
       "4         True  "
      ]
     },
     "execution_count": 3,
     "metadata": {},
     "output_type": "execute_result"
    }
   ],
   "source": [
    "train.head()"
   ]
  },
  {
   "cell_type": "markdown",
   "id": "427b657c",
   "metadata": {
    "papermill": {
     "duration": 0.033428,
     "end_time": "2022-04-04T23:43:01.490148",
     "exception": false,
     "start_time": "2022-04-04T23:43:01.456720",
     "status": "completed"
    },
    "tags": []
   },
   "source": [
    "# EDA"
   ]
  },
  {
   "cell_type": "code",
   "execution_count": 4,
   "id": "66efd151",
   "metadata": {
    "execution": {
     "iopub.execute_input": "2022-04-04T23:43:01.579110Z",
     "iopub.status.busy": "2022-04-04T23:43:01.571701Z",
     "iopub.status.idle": "2022-04-04T23:43:01.606781Z",
     "shell.execute_reply": "2022-04-04T23:43:01.607277Z",
     "shell.execute_reply.started": "2022-04-04T23:40:40.418245Z"
    },
    "papermill": {
     "duration": 0.083822,
     "end_time": "2022-04-04T23:43:01.607440",
     "exception": false,
     "start_time": "2022-04-04T23:43:01.523618",
     "status": "completed"
    },
    "tags": []
   },
   "outputs": [
    {
     "data": {
      "text/html": [
       "<div>\n",
       "<style scoped>\n",
       "    .dataframe tbody tr th:only-of-type {\n",
       "        vertical-align: middle;\n",
       "    }\n",
       "\n",
       "    .dataframe tbody tr th {\n",
       "        vertical-align: top;\n",
       "    }\n",
       "\n",
       "    .dataframe thead th {\n",
       "        text-align: right;\n",
       "    }\n",
       "</style>\n",
       "<table border=\"1\" class=\"dataframe\">\n",
       "  <thead>\n",
       "    <tr style=\"text-align: right;\">\n",
       "      <th></th>\n",
       "      <th>dtypes</th>\n",
       "      <th>missing</th>\n",
       "      <th>nlevel</th>\n",
       "    </tr>\n",
       "  </thead>\n",
       "  <tbody>\n",
       "    <tr>\n",
       "      <th>PassengerId</th>\n",
       "      <td>object</td>\n",
       "      <td>0</td>\n",
       "      <td>8693</td>\n",
       "    </tr>\n",
       "    <tr>\n",
       "      <th>HomePlanet</th>\n",
       "      <td>object</td>\n",
       "      <td>201</td>\n",
       "      <td>3</td>\n",
       "    </tr>\n",
       "    <tr>\n",
       "      <th>CryoSleep</th>\n",
       "      <td>object</td>\n",
       "      <td>217</td>\n",
       "      <td>2</td>\n",
       "    </tr>\n",
       "    <tr>\n",
       "      <th>Cabin</th>\n",
       "      <td>object</td>\n",
       "      <td>199</td>\n",
       "      <td>6560</td>\n",
       "    </tr>\n",
       "    <tr>\n",
       "      <th>Destination</th>\n",
       "      <td>object</td>\n",
       "      <td>182</td>\n",
       "      <td>3</td>\n",
       "    </tr>\n",
       "    <tr>\n",
       "      <th>Age</th>\n",
       "      <td>float64</td>\n",
       "      <td>179</td>\n",
       "      <td>80</td>\n",
       "    </tr>\n",
       "    <tr>\n",
       "      <th>VIP</th>\n",
       "      <td>object</td>\n",
       "      <td>203</td>\n",
       "      <td>2</td>\n",
       "    </tr>\n",
       "    <tr>\n",
       "      <th>RoomService</th>\n",
       "      <td>float64</td>\n",
       "      <td>181</td>\n",
       "      <td>1273</td>\n",
       "    </tr>\n",
       "    <tr>\n",
       "      <th>FoodCourt</th>\n",
       "      <td>float64</td>\n",
       "      <td>183</td>\n",
       "      <td>1507</td>\n",
       "    </tr>\n",
       "    <tr>\n",
       "      <th>ShoppingMall</th>\n",
       "      <td>float64</td>\n",
       "      <td>208</td>\n",
       "      <td>1115</td>\n",
       "    </tr>\n",
       "    <tr>\n",
       "      <th>Spa</th>\n",
       "      <td>float64</td>\n",
       "      <td>183</td>\n",
       "      <td>1327</td>\n",
       "    </tr>\n",
       "    <tr>\n",
       "      <th>VRDeck</th>\n",
       "      <td>float64</td>\n",
       "      <td>188</td>\n",
       "      <td>1306</td>\n",
       "    </tr>\n",
       "    <tr>\n",
       "      <th>Name</th>\n",
       "      <td>object</td>\n",
       "      <td>200</td>\n",
       "      <td>8473</td>\n",
       "    </tr>\n",
       "    <tr>\n",
       "      <th>Transported</th>\n",
       "      <td>bool</td>\n",
       "      <td>0</td>\n",
       "      <td>2</td>\n",
       "    </tr>\n",
       "  </tbody>\n",
       "</table>\n",
       "</div>"
      ],
      "text/plain": [
       "               dtypes  missing  nlevel\n",
       "PassengerId    object        0    8693\n",
       "HomePlanet     object      201       3\n",
       "CryoSleep      object      217       2\n",
       "Cabin          object      199    6560\n",
       "Destination    object      182       3\n",
       "Age           float64      179      80\n",
       "VIP            object      203       2\n",
       "RoomService   float64      181    1273\n",
       "FoodCourt     float64      183    1507\n",
       "ShoppingMall  float64      208    1115\n",
       "Spa           float64      183    1327\n",
       "VRDeck        float64      188    1306\n",
       "Name           object      200    8473\n",
       "Transported      bool        0       2"
      ]
     },
     "execution_count": 4,
     "metadata": {},
     "output_type": "execute_result"
    }
   ],
   "source": [
    "def eda(df):\n",
    "    summary = pd.DataFrame()\n",
    "    summary['dtypes'] = df.dtypes\n",
    "    summary['missing'] = df.isnull().sum()\n",
    "    summary['nlevel'] = df.nunique()\n",
    "    return summary\n",
    "\n",
    "eda(train)"
   ]
  },
  {
   "cell_type": "code",
   "execution_count": 5,
   "id": "3982b964",
   "metadata": {
    "execution": {
     "iopub.execute_input": "2022-04-04T23:43:01.679038Z",
     "iopub.status.busy": "2022-04-04T23:43:01.678345Z",
     "iopub.status.idle": "2022-04-04T23:43:01.700881Z",
     "shell.execute_reply": "2022-04-04T23:43:01.701397Z",
     "shell.execute_reply.started": "2022-04-04T23:40:40.450057Z"
    },
    "papermill": {
     "duration": 0.059915,
     "end_time": "2022-04-04T23:43:01.701570",
     "exception": false,
     "start_time": "2022-04-04T23:43:01.641655",
     "status": "completed"
    },
    "tags": []
   },
   "outputs": [
    {
     "data": {
      "text/html": [
       "<div>\n",
       "<style scoped>\n",
       "    .dataframe tbody tr th:only-of-type {\n",
       "        vertical-align: middle;\n",
       "    }\n",
       "\n",
       "    .dataframe tbody tr th {\n",
       "        vertical-align: top;\n",
       "    }\n",
       "\n",
       "    .dataframe thead th {\n",
       "        text-align: right;\n",
       "    }\n",
       "</style>\n",
       "<table border=\"1\" class=\"dataframe\">\n",
       "  <thead>\n",
       "    <tr style=\"text-align: right;\">\n",
       "      <th></th>\n",
       "      <th>dtypes</th>\n",
       "      <th>missing</th>\n",
       "      <th>nlevel</th>\n",
       "    </tr>\n",
       "  </thead>\n",
       "  <tbody>\n",
       "    <tr>\n",
       "      <th>PassengerId</th>\n",
       "      <td>object</td>\n",
       "      <td>0</td>\n",
       "      <td>4277</td>\n",
       "    </tr>\n",
       "    <tr>\n",
       "      <th>HomePlanet</th>\n",
       "      <td>object</td>\n",
       "      <td>87</td>\n",
       "      <td>3</td>\n",
       "    </tr>\n",
       "    <tr>\n",
       "      <th>CryoSleep</th>\n",
       "      <td>object</td>\n",
       "      <td>93</td>\n",
       "      <td>2</td>\n",
       "    </tr>\n",
       "    <tr>\n",
       "      <th>Cabin</th>\n",
       "      <td>object</td>\n",
       "      <td>100</td>\n",
       "      <td>3265</td>\n",
       "    </tr>\n",
       "    <tr>\n",
       "      <th>Destination</th>\n",
       "      <td>object</td>\n",
       "      <td>92</td>\n",
       "      <td>3</td>\n",
       "    </tr>\n",
       "    <tr>\n",
       "      <th>Age</th>\n",
       "      <td>float64</td>\n",
       "      <td>91</td>\n",
       "      <td>79</td>\n",
       "    </tr>\n",
       "    <tr>\n",
       "      <th>VIP</th>\n",
       "      <td>object</td>\n",
       "      <td>93</td>\n",
       "      <td>2</td>\n",
       "    </tr>\n",
       "    <tr>\n",
       "      <th>RoomService</th>\n",
       "      <td>float64</td>\n",
       "      <td>82</td>\n",
       "      <td>842</td>\n",
       "    </tr>\n",
       "    <tr>\n",
       "      <th>FoodCourt</th>\n",
       "      <td>float64</td>\n",
       "      <td>106</td>\n",
       "      <td>902</td>\n",
       "    </tr>\n",
       "    <tr>\n",
       "      <th>ShoppingMall</th>\n",
       "      <td>float64</td>\n",
       "      <td>98</td>\n",
       "      <td>715</td>\n",
       "    </tr>\n",
       "    <tr>\n",
       "      <th>Spa</th>\n",
       "      <td>float64</td>\n",
       "      <td>101</td>\n",
       "      <td>833</td>\n",
       "    </tr>\n",
       "    <tr>\n",
       "      <th>VRDeck</th>\n",
       "      <td>float64</td>\n",
       "      <td>80</td>\n",
       "      <td>796</td>\n",
       "    </tr>\n",
       "    <tr>\n",
       "      <th>Name</th>\n",
       "      <td>object</td>\n",
       "      <td>94</td>\n",
       "      <td>4176</td>\n",
       "    </tr>\n",
       "  </tbody>\n",
       "</table>\n",
       "</div>"
      ],
      "text/plain": [
       "               dtypes  missing  nlevel\n",
       "PassengerId    object        0    4277\n",
       "HomePlanet     object       87       3\n",
       "CryoSleep      object       93       2\n",
       "Cabin          object      100    3265\n",
       "Destination    object       92       3\n",
       "Age           float64       91      79\n",
       "VIP            object       93       2\n",
       "RoomService   float64       82     842\n",
       "FoodCourt     float64      106     902\n",
       "ShoppingMall  float64       98     715\n",
       "Spa           float64      101     833\n",
       "VRDeck        float64       80     796\n",
       "Name           object       94    4176"
      ]
     },
     "execution_count": 5,
     "metadata": {},
     "output_type": "execute_result"
    }
   ],
   "source": [
    "eda(test)"
   ]
  },
  {
   "cell_type": "code",
   "execution_count": 6,
   "id": "ac987abe",
   "metadata": {
    "execution": {
     "iopub.execute_input": "2022-04-04T23:43:01.775525Z",
     "iopub.status.busy": "2022-04-04T23:43:01.774859Z",
     "iopub.status.idle": "2022-04-04T23:43:01.793953Z",
     "shell.execute_reply": "2022-04-04T23:43:01.794477Z",
     "shell.execute_reply.started": "2022-04-04T23:40:40.477562Z"
    },
    "papermill": {
     "duration": 0.057367,
     "end_time": "2022-04-04T23:43:01.794646",
     "exception": false,
     "start_time": "2022-04-04T23:43:01.737279",
     "status": "completed"
    },
    "tags": []
   },
   "outputs": [
    {
     "data": {
      "text/plain": [
       "0"
      ]
     },
     "execution_count": 6,
     "metadata": {},
     "output_type": "execute_result"
    }
   ],
   "source": [
    "train.duplicated().sum()"
   ]
  },
  {
   "cell_type": "markdown",
   "id": "9a081db3",
   "metadata": {
    "papermill": {
     "duration": 0.036309,
     "end_time": "2022-04-04T23:43:01.867230",
     "exception": false,
     "start_time": "2022-04-04T23:43:01.830921",
     "status": "completed"
    },
    "tags": []
   },
   "source": [
    "## Target"
   ]
  },
  {
   "cell_type": "code",
   "execution_count": 7,
   "id": "badd5bd8",
   "metadata": {
    "execution": {
     "iopub.execute_input": "2022-04-04T23:43:01.942163Z",
     "iopub.status.busy": "2022-04-04T23:43:01.941458Z",
     "iopub.status.idle": "2022-04-04T23:43:01.948414Z",
     "shell.execute_reply": "2022-04-04T23:43:01.948937Z",
     "shell.execute_reply.started": "2022-04-04T23:40:40.497938Z"
    },
    "papermill": {
     "duration": 0.045605,
     "end_time": "2022-04-04T23:43:01.949113",
     "exception": false,
     "start_time": "2022-04-04T23:43:01.903508",
     "status": "completed"
    },
    "tags": []
   },
   "outputs": [
    {
     "data": {
      "text/plain": [
       "True     4378\n",
       "False    4315\n",
       "Name: Transported, dtype: int64"
      ]
     },
     "execution_count": 7,
     "metadata": {},
     "output_type": "execute_result"
    }
   ],
   "source": [
    "train['Transported'].value_counts()"
   ]
  },
  {
   "cell_type": "code",
   "execution_count": 8,
   "id": "59c90614",
   "metadata": {
    "execution": {
     "iopub.execute_input": "2022-04-04T23:43:02.025195Z",
     "iopub.status.busy": "2022-04-04T23:43:02.024441Z",
     "iopub.status.idle": "2022-04-04T23:43:02.038254Z",
     "shell.execute_reply": "2022-04-04T23:43:02.038777Z",
     "shell.execute_reply.started": "2022-04-04T23:40:40.506706Z"
    },
    "papermill": {
     "duration": 0.05399,
     "end_time": "2022-04-04T23:43:02.038972",
     "exception": false,
     "start_time": "2022-04-04T23:43:01.984982",
     "status": "completed"
    },
    "tags": []
   },
   "outputs": [
    {
     "data": {
      "text/plain": [
       "Earth     4602\n",
       "Europa    2131\n",
       "Mars      1759\n",
       "Name: HomePlanet, dtype: int64"
      ]
     },
     "execution_count": 8,
     "metadata": {},
     "output_type": "execute_result"
    }
   ],
   "source": [
    "train.select_dtypes(include = 'object').columns\n",
    "\n",
    "\n",
    "train['HomePlanet'].value_counts()"
   ]
  },
  {
   "cell_type": "code",
   "execution_count": 9,
   "id": "d8652761",
   "metadata": {
    "execution": {
     "iopub.execute_input": "2022-04-04T23:43:02.115706Z",
     "iopub.status.busy": "2022-04-04T23:43:02.115087Z",
     "iopub.status.idle": "2022-04-04T23:43:02.122702Z",
     "shell.execute_reply": "2022-04-04T23:43:02.123207Z",
     "shell.execute_reply.started": "2022-04-04T23:40:40.527363Z"
    },
    "papermill": {
     "duration": 0.048492,
     "end_time": "2022-04-04T23:43:02.123392",
     "exception": false,
     "start_time": "2022-04-04T23:43:02.074900",
     "status": "completed"
    },
    "tags": []
   },
   "outputs": [
    {
     "data": {
      "text/plain": [
       "False    5439\n",
       "True     3037\n",
       "Name: CryoSleep, dtype: int64"
      ]
     },
     "execution_count": 9,
     "metadata": {},
     "output_type": "execute_result"
    }
   ],
   "source": [
    "train['CryoSleep'].value_counts()"
   ]
  },
  {
   "cell_type": "code",
   "execution_count": 10,
   "id": "6849da87",
   "metadata": {
    "execution": {
     "iopub.execute_input": "2022-04-04T23:43:02.202939Z",
     "iopub.status.busy": "2022-04-04T23:43:02.202121Z",
     "iopub.status.idle": "2022-04-04T23:43:02.209438Z",
     "shell.execute_reply": "2022-04-04T23:43:02.208819Z",
     "shell.execute_reply.started": "2022-04-04T23:40:40.546961Z"
    },
    "papermill": {
     "duration": 0.047379,
     "end_time": "2022-04-04T23:43:02.209574",
     "exception": false,
     "start_time": "2022-04-04T23:43:02.162195",
     "status": "completed"
    },
    "tags": []
   },
   "outputs": [
    {
     "data": {
      "text/plain": [
       "TRAPPIST-1e      5915\n",
       "55 Cancri e      1800\n",
       "PSO J318.5-22     796\n",
       "Name: Destination, dtype: int64"
      ]
     },
     "execution_count": 10,
     "metadata": {},
     "output_type": "execute_result"
    }
   ],
   "source": [
    "train['Destination'].value_counts()"
   ]
  },
  {
   "cell_type": "code",
   "execution_count": 11,
   "id": "64d5acb9",
   "metadata": {
    "execution": {
     "iopub.execute_input": "2022-04-04T23:43:02.291519Z",
     "iopub.status.busy": "2022-04-04T23:43:02.290488Z",
     "iopub.status.idle": "2022-04-04T23:43:02.293837Z",
     "shell.execute_reply": "2022-04-04T23:43:02.294316Z",
     "shell.execute_reply.started": "2022-04-04T23:40:40.564136Z"
    },
    "papermill": {
     "duration": 0.048051,
     "end_time": "2022-04-04T23:43:02.294476",
     "exception": false,
     "start_time": "2022-04-04T23:43:02.246425",
     "status": "completed"
    },
    "tags": []
   },
   "outputs": [
    {
     "data": {
      "text/plain": [
       "False    8291\n",
       "True      199\n",
       "Name: VIP, dtype: int64"
      ]
     },
     "execution_count": 11,
     "metadata": {},
     "output_type": "execute_result"
    }
   ],
   "source": [
    "train['VIP'].value_counts()"
   ]
  },
  {
   "cell_type": "code",
   "execution_count": 12,
   "id": "a141cd76",
   "metadata": {
    "execution": {
     "iopub.execute_input": "2022-04-04T23:43:02.373233Z",
     "iopub.status.busy": "2022-04-04T23:43:02.372458Z",
     "iopub.status.idle": "2022-04-04T23:43:03.595077Z",
     "shell.execute_reply": "2022-04-04T23:43:03.595570Z",
     "shell.execute_reply.started": "2022-04-04T23:40:40.585817Z"
    },
    "papermill": {
     "duration": 1.264285,
     "end_time": "2022-04-04T23:43:03.595752",
     "exception": false,
     "start_time": "2022-04-04T23:43:02.331467",
     "status": "completed"
    },
    "tags": []
   },
   "outputs": [
    {
     "data": {
      "image/png": "[encoded data removed]",
      "text/plain": [
       "<Figure size 720x576 with 6 Axes>"
      ]
     },
     "metadata": {
      "needs_background": "light"
     },
     "output_type": "display_data"
    }
   ],
   "source": [
    "train.hist(bins = 50, figsize = (10,8))\n",
    "plt.show()"
   ]
  },
  {
   "cell_type": "code",
   "execution_count": 13,
   "id": "376ba6fc",
   "metadata": {
    "execution": {
     "iopub.execute_input": "2022-04-04T23:43:03.680940Z",
     "iopub.status.busy": "2022-04-04T23:43:03.680128Z",
     "iopub.status.idle": "2022-04-04T23:43:03.707508Z",
     "shell.execute_reply": "2022-04-04T23:43:03.706872Z",
     "shell.execute_reply.started": "2022-04-04T23:40:41.789826Z"
    },
    "papermill": {
     "duration": 0.073666,
     "end_time": "2022-04-04T23:43:03.707648",
     "exception": false,
     "start_time": "2022-04-04T23:43:03.633982",
     "status": "completed"
    },
    "tags": []
   },
   "outputs": [
    {
     "data": {
      "text/html": [
       "<div>\n",
       "<style scoped>\n",
       "    .dataframe tbody tr th:only-of-type {\n",
       "        vertical-align: middle;\n",
       "    }\n",
       "\n",
       "    .dataframe tbody tr th {\n",
       "        vertical-align: top;\n",
       "    }\n",
       "\n",
       "    .dataframe thead th {\n",
       "        text-align: right;\n",
       "    }\n",
       "</style>\n",
       "<table border=\"1\" class=\"dataframe\">\n",
       "  <thead>\n",
       "    <tr style=\"text-align: right;\">\n",
       "      <th></th>\n",
       "      <th>Age</th>\n",
       "      <th>RoomService</th>\n",
       "      <th>FoodCourt</th>\n",
       "      <th>ShoppingMall</th>\n",
       "      <th>Spa</th>\n",
       "      <th>VRDeck</th>\n",
       "    </tr>\n",
       "  </thead>\n",
       "  <tbody>\n",
       "    <tr>\n",
       "      <th>count</th>\n",
       "      <td>8514.000000</td>\n",
       "      <td>8512.000000</td>\n",
       "      <td>8510.000000</td>\n",
       "      <td>8485.000000</td>\n",
       "      <td>8510.000000</td>\n",
       "      <td>8505.000000</td>\n",
       "    </tr>\n",
       "    <tr>\n",
       "      <th>mean</th>\n",
       "      <td>28.827930</td>\n",
       "      <td>224.687617</td>\n",
       "      <td>458.077203</td>\n",
       "      <td>173.729169</td>\n",
       "      <td>311.138778</td>\n",
       "      <td>304.854791</td>\n",
       "    </tr>\n",
       "    <tr>\n",
       "      <th>std</th>\n",
       "      <td>14.489021</td>\n",
       "      <td>666.717663</td>\n",
       "      <td>1611.489240</td>\n",
       "      <td>604.696458</td>\n",
       "      <td>1136.705535</td>\n",
       "      <td>1145.717189</td>\n",
       "    </tr>\n",
       "    <tr>\n",
       "      <th>min</th>\n",
       "      <td>0.000000</td>\n",
       "      <td>0.000000</td>\n",
       "      <td>0.000000</td>\n",
       "      <td>0.000000</td>\n",
       "      <td>0.000000</td>\n",
       "      <td>0.000000</td>\n",
       "    </tr>\n",
       "    <tr>\n",
       "      <th>25%</th>\n",
       "      <td>19.000000</td>\n",
       "      <td>0.000000</td>\n",
       "      <td>0.000000</td>\n",
       "      <td>0.000000</td>\n",
       "      <td>0.000000</td>\n",
       "      <td>0.000000</td>\n",
       "    </tr>\n",
       "    <tr>\n",
       "      <th>50%</th>\n",
       "      <td>27.000000</td>\n",
       "      <td>0.000000</td>\n",
       "      <td>0.000000</td>\n",
       "      <td>0.000000</td>\n",
       "      <td>0.000000</td>\n",
       "      <td>0.000000</td>\n",
       "    </tr>\n",
       "    <tr>\n",
       "      <th>75%</th>\n",
       "      <td>38.000000</td>\n",
       "      <td>47.000000</td>\n",
       "      <td>76.000000</td>\n",
       "      <td>27.000000</td>\n",
       "      <td>59.000000</td>\n",
       "      <td>46.000000</td>\n",
       "    </tr>\n",
       "    <tr>\n",
       "      <th>max</th>\n",
       "      <td>79.000000</td>\n",
       "      <td>14327.000000</td>\n",
       "      <td>29813.000000</td>\n",
       "      <td>23492.000000</td>\n",
       "      <td>22408.000000</td>\n",
       "      <td>24133.000000</td>\n",
       "    </tr>\n",
       "  </tbody>\n",
       "</table>\n",
       "</div>"
      ],
      "text/plain": [
       "               Age   RoomService     FoodCourt  ShoppingMall           Spa  \\\n",
       "count  8514.000000   8512.000000   8510.000000   8485.000000   8510.000000   \n",
       "mean     28.827930    224.687617    458.077203    173.729169    311.138778   \n",
       "std      14.489021    666.717663   1611.489240    604.696458   1136.705535   \n",
       "min       0.000000      0.000000      0.000000      0.000000      0.000000   \n",
       "25%      19.000000      0.000000      0.000000      0.000000      0.000000   \n",
       "50%      27.000000      0.000000      0.000000      0.000000      0.000000   \n",
       "75%      38.000000     47.000000     76.000000     27.000000     59.000000   \n",
       "max      79.000000  14327.000000  29813.000000  23492.000000  22408.000000   \n",
       "\n",
       "             VRDeck  \n",
       "count   8505.000000  \n",
       "mean     304.854791  \n",
       "std     1145.717189  \n",
       "min        0.000000  \n",
       "25%        0.000000  \n",
       "50%        0.000000  \n",
       "75%       46.000000  \n",
       "max    24133.000000  "
      ]
     },
     "execution_count": 13,
     "metadata": {},
     "output_type": "execute_result"
    }
   ],
   "source": [
    "train.describe()"
   ]
  },
  {
   "cell_type": "code",
   "execution_count": 14,
   "id": "3a864839",
   "metadata": {
    "execution": {
     "iopub.execute_input": "2022-04-04T23:43:03.790215Z",
     "iopub.status.busy": "2022-04-04T23:43:03.789422Z",
     "iopub.status.idle": "2022-04-04T23:43:03.792487Z",
     "shell.execute_reply": "2022-04-04T23:43:03.791936Z",
     "shell.execute_reply.started": "2022-04-04T23:40:41.822919Z"
    },
    "papermill": {
     "duration": 0.045901,
     "end_time": "2022-04-04T23:43:03.792627",
     "exception": false,
     "start_time": "2022-04-04T23:43:03.746726",
     "status": "completed"
    },
    "tags": []
   },
   "outputs": [],
   "source": [
    "#train[train.Spa > 10000]"
   ]
  },
  {
   "cell_type": "code",
   "execution_count": 15,
   "id": "e05a0d29",
   "metadata": {
    "execution": {
     "iopub.execute_input": "2022-04-04T23:43:03.876792Z",
     "iopub.status.busy": "2022-04-04T23:43:03.876094Z",
     "iopub.status.idle": "2022-04-04T23:43:04.163891Z",
     "shell.execute_reply": "2022-04-04T23:43:04.163222Z",
     "shell.execute_reply.started": "2022-04-04T23:40:41.829483Z"
    },
    "papermill": {
     "duration": 0.332645,
     "end_time": "2022-04-04T23:43:04.164032",
     "exception": false,
     "start_time": "2022-04-04T23:43:03.831387",
     "status": "completed"
    },
    "tags": []
   },
   "outputs": [
    {
     "data": {
      "image/png": "[encoded data removed]",
      "text/plain": [
       "<Figure size 432x288 with 2 Axes>"
      ]
     },
     "metadata": {
      "needs_background": "light"
     },
     "output_type": "display_data"
    }
   ],
   "source": [
    "sns.heatmap(train.corr(), cmap = 'coolwarm')\n",
    "plt.show()"
   ]
  },
  {
   "cell_type": "code",
   "execution_count": 16,
   "id": "1e9ad3e3",
   "metadata": {
    "execution": {
     "iopub.execute_input": "2022-04-04T23:43:04.249619Z",
     "iopub.status.busy": "2022-04-04T23:43:04.248949Z",
     "iopub.status.idle": "2022-04-04T23:43:04.260728Z",
     "shell.execute_reply": "2022-04-04T23:43:04.261234Z",
     "shell.execute_reply.started": "2022-04-04T23:40:42.118494Z"
    },
    "papermill": {
     "duration": 0.057775,
     "end_time": "2022-04-04T23:43:04.261409",
     "exception": false,
     "start_time": "2022-04-04T23:43:04.203634",
     "status": "completed"
    },
    "tags": []
   },
   "outputs": [
    {
     "data": {
      "text/html": [
       "<div>\n",
       "<style scoped>\n",
       "    .dataframe tbody tr th:only-of-type {\n",
       "        vertical-align: middle;\n",
       "    }\n",
       "\n",
       "    .dataframe tbody tr th {\n",
       "        vertical-align: top;\n",
       "    }\n",
       "\n",
       "    .dataframe thead th {\n",
       "        text-align: right;\n",
       "    }\n",
       "</style>\n",
       "<table border=\"1\" class=\"dataframe\">\n",
       "  <thead>\n",
       "    <tr style=\"text-align: right;\">\n",
       "      <th></th>\n",
       "      <th>index</th>\n",
       "      <th>Transported</th>\n",
       "    </tr>\n",
       "  </thead>\n",
       "  <tbody>\n",
       "    <tr>\n",
       "      <th>0</th>\n",
       "      <td>RoomService</td>\n",
       "      <td>-0.244611</td>\n",
       "    </tr>\n",
       "    <tr>\n",
       "      <th>1</th>\n",
       "      <td>Spa</td>\n",
       "      <td>-0.221131</td>\n",
       "    </tr>\n",
       "    <tr>\n",
       "      <th>2</th>\n",
       "      <td>VRDeck</td>\n",
       "      <td>-0.207075</td>\n",
       "    </tr>\n",
       "    <tr>\n",
       "      <th>3</th>\n",
       "      <td>Age</td>\n",
       "      <td>-0.075026</td>\n",
       "    </tr>\n",
       "    <tr>\n",
       "      <th>4</th>\n",
       "      <td>ShoppingMall</td>\n",
       "      <td>0.010141</td>\n",
       "    </tr>\n",
       "    <tr>\n",
       "      <th>5</th>\n",
       "      <td>FoodCourt</td>\n",
       "      <td>0.046566</td>\n",
       "    </tr>\n",
       "    <tr>\n",
       "      <th>6</th>\n",
       "      <td>Transported</td>\n",
       "      <td>1.000000</td>\n",
       "    </tr>\n",
       "  </tbody>\n",
       "</table>\n",
       "</div>"
      ],
      "text/plain": [
       "          index  Transported\n",
       "0   RoomService    -0.244611\n",
       "1           Spa    -0.221131\n",
       "2        VRDeck    -0.207075\n",
       "3           Age    -0.075026\n",
       "4  ShoppingMall     0.010141\n",
       "5     FoodCourt     0.046566\n",
       "6   Transported     1.000000"
      ]
     },
     "execution_count": 16,
     "metadata": {},
     "output_type": "execute_result"
    }
   ],
   "source": [
    "train.corr()['Transported'].sort_values().reset_index()"
   ]
  },
  {
   "cell_type": "markdown",
   "id": "fec6aefd",
   "metadata": {
    "papermill": {
     "duration": 0.039548,
     "end_time": "2022-04-04T23:43:04.341850",
     "exception": false,
     "start_time": "2022-04-04T23:43:04.302302",
     "status": "completed"
    },
    "tags": []
   },
   "source": [
    "# FE"
   ]
  },
  {
   "cell_type": "code",
   "execution_count": 17,
   "id": "1fc165ab",
   "metadata": {
    "execution": {
     "iopub.execute_input": "2022-04-04T23:43:04.427349Z",
     "iopub.status.busy": "2022-04-04T23:43:04.426656Z",
     "iopub.status.idle": "2022-04-04T23:43:04.467427Z",
     "shell.execute_reply": "2022-04-04T23:43:04.466596Z",
     "shell.execute_reply.started": "2022-04-04T23:40:42.136602Z"
    },
    "papermill": {
     "duration": 0.085037,
     "end_time": "2022-04-04T23:43:04.467621",
     "exception": false,
     "start_time": "2022-04-04T23:43:04.382584",
     "status": "completed"
    },
    "tags": []
   },
   "outputs": [
    {
     "name": "stdout",
     "output_type": "stream",
     "text": [
      "(12970, 14)\n"
     ]
    }
   ],
   "source": [
    "df = pd.concat([train, test])\n",
    "\n",
    "df['Transported'] = df['Transported'].fillna(-1).astype('int')\n",
    "df['CryoSleep'] = df['CryoSleep'].fillna(-1).astype('int')\n",
    "df['VIP'] = df['VIP'].fillna(-1).astype('int')\n",
    "\n",
    "obj_cols = ['HomePlanet',   'Destination', 'Name','Cabin']\n",
    "for c in obj_cols:\n",
    "    df[c] = df[c].fillna('None')\n",
    "\n",
    "num_cols = ['Age','RoomService', 'FoodCourt', 'ShoppingMall', 'Spa', 'VRDeck']\n",
    "for c in num_cols:\n",
    "    df[c] = df[c].fillna(df[c].median())\n",
    "    \n",
    "  \n",
    "print(df.shape)"
   ]
  },
  {
   "cell_type": "code",
   "execution_count": 18,
   "id": "2cdf2743",
   "metadata": {
    "execution": {
     "iopub.execute_input": "2022-04-04T23:43:04.554212Z",
     "iopub.status.busy": "2022-04-04T23:43:04.553241Z",
     "iopub.status.idle": "2022-04-04T23:43:04.742701Z",
     "shell.execute_reply": "2022-04-04T23:43:04.743157Z",
     "shell.execute_reply.started": "2022-04-04T23:40:42.173217Z"
    },
    "papermill": {
     "duration": 0.233446,
     "end_time": "2022-04-04T23:43:04.743342",
     "exception": false,
     "start_time": "2022-04-04T23:43:04.509896",
     "status": "completed"
    },
    "tags": []
   },
   "outputs": [
    {
     "data": {
      "text/html": [
       "<div>\n",
       "<style scoped>\n",
       "    .dataframe tbody tr th:only-of-type {\n",
       "        vertical-align: middle;\n",
       "    }\n",
       "\n",
       "    .dataframe tbody tr th {\n",
       "        vertical-align: top;\n",
       "    }\n",
       "\n",
       "    .dataframe thead th {\n",
       "        text-align: right;\n",
       "    }\n",
       "</style>\n",
       "<table border=\"1\" class=\"dataframe\">\n",
       "  <thead>\n",
       "    <tr style=\"text-align: right;\">\n",
       "      <th></th>\n",
       "      <th>PassengerId</th>\n",
       "      <th>HomePlanet</th>\n",
       "      <th>CryoSleep</th>\n",
       "      <th>Cabin</th>\n",
       "      <th>Destination</th>\n",
       "      <th>Age</th>\n",
       "      <th>VIP</th>\n",
       "      <th>RoomService</th>\n",
       "      <th>FoodCourt</th>\n",
       "      <th>ShoppingMall</th>\n",
       "      <th>Spa</th>\n",
       "      <th>VRDeck</th>\n",
       "      <th>Name</th>\n",
       "      <th>Transported</th>\n",
       "      <th>deck</th>\n",
       "      <th>num</th>\n",
       "      <th>side</th>\n",
       "      <th>deck_side</th>\n",
       "    </tr>\n",
       "  </thead>\n",
       "  <tbody>\n",
       "    <tr>\n",
       "      <th>0</th>\n",
       "      <td>0001_01</td>\n",
       "      <td>Europa</td>\n",
       "      <td>0</td>\n",
       "      <td>B/0/P</td>\n",
       "      <td>TRAPPIST-1e</td>\n",
       "      <td>39.0</td>\n",
       "      <td>0</td>\n",
       "      <td>0.0</td>\n",
       "      <td>0.0</td>\n",
       "      <td>0.0</td>\n",
       "      <td>0.0</td>\n",
       "      <td>0.0</td>\n",
       "      <td>Maham Ofracculy</td>\n",
       "      <td>0</td>\n",
       "      <td>B</td>\n",
       "      <td>0</td>\n",
       "      <td>P</td>\n",
       "      <td>B_P</td>\n",
       "    </tr>\n",
       "    <tr>\n",
       "      <th>1</th>\n",
       "      <td>0002_01</td>\n",
       "      <td>Earth</td>\n",
       "      <td>0</td>\n",
       "      <td>F/0/S</td>\n",
       "      <td>TRAPPIST-1e</td>\n",
       "      <td>24.0</td>\n",
       "      <td>0</td>\n",
       "      <td>109.0</td>\n",
       "      <td>9.0</td>\n",
       "      <td>25.0</td>\n",
       "      <td>549.0</td>\n",
       "      <td>44.0</td>\n",
       "      <td>Juanna Vines</td>\n",
       "      <td>1</td>\n",
       "      <td>F</td>\n",
       "      <td>0</td>\n",
       "      <td>S</td>\n",
       "      <td>F_S</td>\n",
       "    </tr>\n",
       "    <tr>\n",
       "      <th>2</th>\n",
       "      <td>0003_01</td>\n",
       "      <td>Europa</td>\n",
       "      <td>0</td>\n",
       "      <td>A/0/S</td>\n",
       "      <td>TRAPPIST-1e</td>\n",
       "      <td>58.0</td>\n",
       "      <td>1</td>\n",
       "      <td>43.0</td>\n",
       "      <td>3576.0</td>\n",
       "      <td>0.0</td>\n",
       "      <td>6715.0</td>\n",
       "      <td>49.0</td>\n",
       "      <td>Altark Susent</td>\n",
       "      <td>0</td>\n",
       "      <td>A</td>\n",
       "      <td>0</td>\n",
       "      <td>S</td>\n",
       "      <td>A_S</td>\n",
       "    </tr>\n",
       "    <tr>\n",
       "      <th>3</th>\n",
       "      <td>0003_02</td>\n",
       "      <td>Europa</td>\n",
       "      <td>0</td>\n",
       "      <td>A/0/S</td>\n",
       "      <td>TRAPPIST-1e</td>\n",
       "      <td>33.0</td>\n",
       "      <td>0</td>\n",
       "      <td>0.0</td>\n",
       "      <td>1283.0</td>\n",
       "      <td>371.0</td>\n",
       "      <td>3329.0</td>\n",
       "      <td>193.0</td>\n",
       "      <td>Solam Susent</td>\n",
       "      <td>0</td>\n",
       "      <td>A</td>\n",
       "      <td>0</td>\n",
       "      <td>S</td>\n",
       "      <td>A_S</td>\n",
       "    </tr>\n",
       "    <tr>\n",
       "      <th>4</th>\n",
       "      <td>0004_01</td>\n",
       "      <td>Earth</td>\n",
       "      <td>0</td>\n",
       "      <td>F/1/S</td>\n",
       "      <td>TRAPPIST-1e</td>\n",
       "      <td>16.0</td>\n",
       "      <td>0</td>\n",
       "      <td>303.0</td>\n",
       "      <td>70.0</td>\n",
       "      <td>151.0</td>\n",
       "      <td>565.0</td>\n",
       "      <td>2.0</td>\n",
       "      <td>Willy Santantines</td>\n",
       "      <td>1</td>\n",
       "      <td>F</td>\n",
       "      <td>1</td>\n",
       "      <td>S</td>\n",
       "      <td>F_S</td>\n",
       "    </tr>\n",
       "  </tbody>\n",
       "</table>\n",
       "</div>"
      ],
      "text/plain": [
       "  PassengerId HomePlanet  CryoSleep  Cabin  Destination   Age  VIP  \\\n",
       "0     0001_01     Europa          0  B/0/P  TRAPPIST-1e  39.0    0   \n",
       "1     0002_01      Earth          0  F/0/S  TRAPPIST-1e  24.0    0   \n",
       "2     0003_01     Europa          0  A/0/S  TRAPPIST-1e  58.0    1   \n",
       "3     0003_02     Europa          0  A/0/S  TRAPPIST-1e  33.0    0   \n",
       "4     0004_01      Earth          0  F/1/S  TRAPPIST-1e  16.0    0   \n",
       "\n",
       "   RoomService  FoodCourt  ShoppingMall     Spa  VRDeck               Name  \\\n",
       "0          0.0        0.0           0.0     0.0     0.0    Maham Ofracculy   \n",
       "1        109.0        9.0          25.0   549.0    44.0       Juanna Vines   \n",
       "2         43.0     3576.0           0.0  6715.0    49.0      Altark Susent   \n",
       "3          0.0     1283.0         371.0  3329.0   193.0       Solam Susent   \n",
       "4        303.0       70.0         151.0   565.0     2.0  Willy Santantines   \n",
       "\n",
       "   Transported deck  num side deck_side  \n",
       "0            0    B    0    P       B_P  \n",
       "1            1    F    0    S       F_S  \n",
       "2            0    A    0    S       A_S  \n",
       "3            0    A    0    S       A_S  \n",
       "4            1    F    1    S       F_S  "
      ]
     },
     "execution_count": 18,
     "metadata": {},
     "output_type": "execute_result"
    }
   ],
   "source": [
    "df['deck'] = df['Cabin'].astype(str).apply(lambda x: x.split('/')[0])\n",
    "df['num'] = df['Cabin'].astype(str).apply(lambda x: int(x.split('/')[1]) if x != 'None' else -1)\n",
    "df['side'] = df['Cabin'].astype(str).apply(lambda x: x.split('/')[-1])\n",
    "\n",
    "#df['total_spent'] = df[['RoomService', 'FoodCourt', 'ShoppingMall', 'Spa', 'VRDeck']].sum(axis = 1)\n",
    "#df['Age'] = pd.cut(df['Age'], 8)\n",
    "\n",
    "df['deck_side'] = df['deck'].astype(str) + '_' + df['side'].astype(str)\n",
    "df.head()"
   ]
  },
  {
   "cell_type": "markdown",
   "id": "fbf206c8",
   "metadata": {
    "papermill": {
     "duration": 0.041818,
     "end_time": "2022-04-04T23:43:04.826784",
     "exception": false,
     "start_time": "2022-04-04T23:43:04.784966",
     "status": "completed"
    },
    "tags": []
   },
   "source": [
    "# Pre-processing"
   ]
  },
  {
   "cell_type": "code",
   "execution_count": 19,
   "id": "8997565a",
   "metadata": {
    "execution": {
     "iopub.execute_input": "2022-04-04T23:43:04.915638Z",
     "iopub.status.busy": "2022-04-04T23:43:04.914806Z",
     "iopub.status.idle": "2022-04-04T23:43:05.098381Z",
     "shell.execute_reply": "2022-04-04T23:43:05.097847Z",
     "shell.execute_reply.started": "2022-04-04T23:40:42.228479Z"
    },
    "papermill": {
     "duration": 0.230376,
     "end_time": "2022-04-04T23:43:05.098527",
     "exception": false,
     "start_time": "2022-04-04T23:43:04.868151",
     "status": "completed"
    },
    "tags": []
   },
   "outputs": [
    {
     "data": {
      "text/html": [
       "<div>\n",
       "<style scoped>\n",
       "    .dataframe tbody tr th:only-of-type {\n",
       "        vertical-align: middle;\n",
       "    }\n",
       "\n",
       "    .dataframe tbody tr th {\n",
       "        vertical-align: top;\n",
       "    }\n",
       "\n",
       "    .dataframe thead th {\n",
       "        text-align: right;\n",
       "    }\n",
       "</style>\n",
       "<table border=\"1\" class=\"dataframe\">\n",
       "  <thead>\n",
       "    <tr style=\"text-align: right;\">\n",
       "      <th></th>\n",
       "      <th>PassengerId</th>\n",
       "      <th>HomePlanet</th>\n",
       "      <th>CryoSleep</th>\n",
       "      <th>Cabin</th>\n",
       "      <th>Destination</th>\n",
       "      <th>Age</th>\n",
       "      <th>VIP</th>\n",
       "      <th>RoomService</th>\n",
       "      <th>FoodCourt</th>\n",
       "      <th>ShoppingMall</th>\n",
       "      <th>Spa</th>\n",
       "      <th>VRDeck</th>\n",
       "      <th>Name</th>\n",
       "      <th>Transported</th>\n",
       "      <th>deck</th>\n",
       "      <th>num</th>\n",
       "      <th>side</th>\n",
       "      <th>deck_side</th>\n",
       "    </tr>\n",
       "  </thead>\n",
       "  <tbody>\n",
       "    <tr>\n",
       "      <th>0</th>\n",
       "      <td>0001_01</td>\n",
       "      <td>1</td>\n",
       "      <td>0</td>\n",
       "      <td>B/0/P</td>\n",
       "      <td>3</td>\n",
       "      <td>39</td>\n",
       "      <td>0</td>\n",
       "      <td>0.0</td>\n",
       "      <td>0.0</td>\n",
       "      <td>0.0</td>\n",
       "      <td>0.0</td>\n",
       "      <td>0.0</td>\n",
       "      <td>Maham Ofracculy</td>\n",
       "      <td>0</td>\n",
       "      <td>1</td>\n",
       "      <td>0</td>\n",
       "      <td>1</td>\n",
       "      <td>2</td>\n",
       "    </tr>\n",
       "    <tr>\n",
       "      <th>1</th>\n",
       "      <td>0002_01</td>\n",
       "      <td>0</td>\n",
       "      <td>0</td>\n",
       "      <td>F/0/S</td>\n",
       "      <td>3</td>\n",
       "      <td>24</td>\n",
       "      <td>0</td>\n",
       "      <td>109.0</td>\n",
       "      <td>9.0</td>\n",
       "      <td>25.0</td>\n",
       "      <td>549.0</td>\n",
       "      <td>44.0</td>\n",
       "      <td>Juanna Vines</td>\n",
       "      <td>1</td>\n",
       "      <td>5</td>\n",
       "      <td>0</td>\n",
       "      <td>2</td>\n",
       "      <td>11</td>\n",
       "    </tr>\n",
       "    <tr>\n",
       "      <th>2</th>\n",
       "      <td>0003_01</td>\n",
       "      <td>1</td>\n",
       "      <td>0</td>\n",
       "      <td>A/0/S</td>\n",
       "      <td>3</td>\n",
       "      <td>58</td>\n",
       "      <td>1</td>\n",
       "      <td>43.0</td>\n",
       "      <td>3576.0</td>\n",
       "      <td>0.0</td>\n",
       "      <td>6715.0</td>\n",
       "      <td>49.0</td>\n",
       "      <td>Altark Susent</td>\n",
       "      <td>0</td>\n",
       "      <td>0</td>\n",
       "      <td>0</td>\n",
       "      <td>2</td>\n",
       "      <td>1</td>\n",
       "    </tr>\n",
       "    <tr>\n",
       "      <th>3</th>\n",
       "      <td>0003_02</td>\n",
       "      <td>1</td>\n",
       "      <td>0</td>\n",
       "      <td>A/0/S</td>\n",
       "      <td>3</td>\n",
       "      <td>33</td>\n",
       "      <td>0</td>\n",
       "      <td>0.0</td>\n",
       "      <td>1283.0</td>\n",
       "      <td>371.0</td>\n",
       "      <td>3329.0</td>\n",
       "      <td>193.0</td>\n",
       "      <td>Solam Susent</td>\n",
       "      <td>0</td>\n",
       "      <td>0</td>\n",
       "      <td>0</td>\n",
       "      <td>2</td>\n",
       "      <td>1</td>\n",
       "    </tr>\n",
       "    <tr>\n",
       "      <th>4</th>\n",
       "      <td>0004_01</td>\n",
       "      <td>0</td>\n",
       "      <td>0</td>\n",
       "      <td>F/1/S</td>\n",
       "      <td>3</td>\n",
       "      <td>16</td>\n",
       "      <td>0</td>\n",
       "      <td>303.0</td>\n",
       "      <td>70.0</td>\n",
       "      <td>151.0</td>\n",
       "      <td>565.0</td>\n",
       "      <td>2.0</td>\n",
       "      <td>Willy Santantines</td>\n",
       "      <td>1</td>\n",
       "      <td>5</td>\n",
       "      <td>1</td>\n",
       "      <td>2</td>\n",
       "      <td>11</td>\n",
       "    </tr>\n",
       "  </tbody>\n",
       "</table>\n",
       "</div>"
      ],
      "text/plain": [
       "  PassengerId  HomePlanet  CryoSleep  Cabin  Destination  Age  VIP  \\\n",
       "0     0001_01           1          0  B/0/P            3   39    0   \n",
       "1     0002_01           0          0  F/0/S            3   24    0   \n",
       "2     0003_01           1          0  A/0/S            3   58    1   \n",
       "3     0003_02           1          0  A/0/S            3   33    0   \n",
       "4     0004_01           0          0  F/1/S            3   16    0   \n",
       "\n",
       "   RoomService  FoodCourt  ShoppingMall     Spa  VRDeck               Name  \\\n",
       "0          0.0        0.0           0.0     0.0     0.0    Maham Ofracculy   \n",
       "1        109.0        9.0          25.0   549.0    44.0       Juanna Vines   \n",
       "2         43.0     3576.0           0.0  6715.0    49.0      Altark Susent   \n",
       "3          0.0     1283.0         371.0  3329.0   193.0       Solam Susent   \n",
       "4        303.0       70.0         151.0   565.0     2.0  Willy Santantines   \n",
       "\n",
       "   Transported  deck  num  side  deck_side  \n",
       "0            0     1    0     1          2  \n",
       "1            1     5    0     2         11  \n",
       "2            0     0    0     2          1  \n",
       "3            0     0    0     2          1  \n",
       "4            1     5    1     2         11  "
      ]
     },
     "execution_count": 19,
     "metadata": {},
     "output_type": "execute_result"
    }
   ],
   "source": [
    "from sklearn.preprocessing import LabelEncoder, StandardScaler\n",
    "le = LabelEncoder()\n",
    "\n",
    "for c in ['deck','side','Destination','HomePlanet','Age', 'deck_side']:\n",
    "    df[c] = le.fit_transform(df[c])\n",
    "\n",
    "df.head()    "
   ]
  },
  {
   "cell_type": "code",
   "execution_count": 20,
   "id": "58abe9e3",
   "metadata": {
    "execution": {
     "iopub.execute_input": "2022-04-04T23:43:05.198055Z",
     "iopub.status.busy": "2022-04-04T23:43:05.197051Z",
     "iopub.status.idle": "2022-04-04T23:43:05.201307Z",
     "shell.execute_reply": "2022-04-04T23:43:05.200770Z",
     "shell.execute_reply.started": "2022-04-04T23:40:42.276213Z"
    },
    "papermill": {
     "duration": 0.058669,
     "end_time": "2022-04-04T23:43:05.201463",
     "exception": false,
     "start_time": "2022-04-04T23:43:05.142794",
     "status": "completed"
    },
    "tags": []
   },
   "outputs": [
    {
     "data": {
      "text/plain": [
       "True     144\n",
       "False     34\n",
       "Name: Transported, dtype: int64"
      ]
     },
     "execution_count": 20,
     "metadata": {},
     "output_type": "execute_result"
    }
   ],
   "source": [
    "train[train.Age < 1]['Transported'].value_counts()"
   ]
  },
  {
   "cell_type": "code",
   "execution_count": 21,
   "id": "c7d47f0a",
   "metadata": {
    "execution": {
     "iopub.execute_input": "2022-04-04T23:43:05.291063Z",
     "iopub.status.busy": "2022-04-04T23:43:05.290411Z",
     "iopub.status.idle": "2022-04-04T23:43:05.303602Z",
     "shell.execute_reply": "2022-04-04T23:43:05.304401Z",
     "shell.execute_reply.started": "2022-04-04T23:40:42.290496Z"
    },
    "papermill": {
     "duration": 0.059558,
     "end_time": "2022-04-04T23:43:05.304644",
     "exception": false,
     "start_time": "2022-04-04T23:43:05.245086",
     "status": "completed"
    },
    "tags": []
   },
   "outputs": [
    {
     "name": "stdout",
     "output_type": "stream",
     "text": [
      "(8693, 14)\n",
      "(4277, 14)\n"
     ]
    }
   ],
   "source": [
    "train = df[:len(train)]\n",
    "test = df[-len(test):]\n",
    "\n",
    "X_train = train.drop(['PassengerId','Cabin','Name','Transported'], axis = 1)\n",
    "y_train = train.Transported\n",
    "\n",
    "X_test = test.drop(['PassengerId','Cabin','Name','Transported'], axis = 1)\n",
    "\n",
    "print(X_train.shape)\n",
    "print(X_test.shape)"
   ]
  },
  {
   "cell_type": "code",
   "execution_count": 22,
   "id": "e4515e32",
   "metadata": {
    "execution": {
     "iopub.execute_input": "2022-04-04T23:43:05.406480Z",
     "iopub.status.busy": "2022-04-04T23:43:05.398265Z",
     "iopub.status.idle": "2022-04-04T23:43:05.416881Z",
     "shell.execute_reply": "2022-04-04T23:43:05.417360Z",
     "shell.execute_reply.started": "2022-04-04T23:40:42.310913Z"
    },
    "papermill": {
     "duration": 0.067821,
     "end_time": "2022-04-04T23:43:05.417546",
     "exception": false,
     "start_time": "2022-04-04T23:43:05.349725",
     "status": "completed"
    },
    "tags": []
   },
   "outputs": [
    {
     "data": {
      "text/html": [
       "<div>\n",
       "<style scoped>\n",
       "    .dataframe tbody tr th:only-of-type {\n",
       "        vertical-align: middle;\n",
       "    }\n",
       "\n",
       "    .dataframe tbody tr th {\n",
       "        vertical-align: top;\n",
       "    }\n",
       "\n",
       "    .dataframe thead th {\n",
       "        text-align: right;\n",
       "    }\n",
       "</style>\n",
       "<table border=\"1\" class=\"dataframe\">\n",
       "  <thead>\n",
       "    <tr style=\"text-align: right;\">\n",
       "      <th></th>\n",
       "      <th>HomePlanet</th>\n",
       "      <th>CryoSleep</th>\n",
       "      <th>Destination</th>\n",
       "      <th>Age</th>\n",
       "      <th>VIP</th>\n",
       "      <th>RoomService</th>\n",
       "      <th>FoodCourt</th>\n",
       "      <th>ShoppingMall</th>\n",
       "      <th>Spa</th>\n",
       "      <th>VRDeck</th>\n",
       "      <th>deck</th>\n",
       "      <th>num</th>\n",
       "      <th>side</th>\n",
       "      <th>deck_side</th>\n",
       "    </tr>\n",
       "  </thead>\n",
       "  <tbody>\n",
       "    <tr>\n",
       "      <th>0</th>\n",
       "      <td>1</td>\n",
       "      <td>0</td>\n",
       "      <td>3</td>\n",
       "      <td>39</td>\n",
       "      <td>0</td>\n",
       "      <td>0.0</td>\n",
       "      <td>0.0</td>\n",
       "      <td>0.0</td>\n",
       "      <td>0.0</td>\n",
       "      <td>0.0</td>\n",
       "      <td>1</td>\n",
       "      <td>0</td>\n",
       "      <td>1</td>\n",
       "      <td>2</td>\n",
       "    </tr>\n",
       "    <tr>\n",
       "      <th>1</th>\n",
       "      <td>0</td>\n",
       "      <td>0</td>\n",
       "      <td>3</td>\n",
       "      <td>24</td>\n",
       "      <td>0</td>\n",
       "      <td>109.0</td>\n",
       "      <td>9.0</td>\n",
       "      <td>25.0</td>\n",
       "      <td>549.0</td>\n",
       "      <td>44.0</td>\n",
       "      <td>5</td>\n",
       "      <td>0</td>\n",
       "      <td>2</td>\n",
       "      <td>11</td>\n",
       "    </tr>\n",
       "    <tr>\n",
       "      <th>2</th>\n",
       "      <td>1</td>\n",
       "      <td>0</td>\n",
       "      <td>3</td>\n",
       "      <td>58</td>\n",
       "      <td>1</td>\n",
       "      <td>43.0</td>\n",
       "      <td>3576.0</td>\n",
       "      <td>0.0</td>\n",
       "      <td>6715.0</td>\n",
       "      <td>49.0</td>\n",
       "      <td>0</td>\n",
       "      <td>0</td>\n",
       "      <td>2</td>\n",
       "      <td>1</td>\n",
       "    </tr>\n",
       "    <tr>\n",
       "      <th>3</th>\n",
       "      <td>1</td>\n",
       "      <td>0</td>\n",
       "      <td>3</td>\n",
       "      <td>33</td>\n",
       "      <td>0</td>\n",
       "      <td>0.0</td>\n",
       "      <td>1283.0</td>\n",
       "      <td>371.0</td>\n",
       "      <td>3329.0</td>\n",
       "      <td>193.0</td>\n",
       "      <td>0</td>\n",
       "      <td>0</td>\n",
       "      <td>2</td>\n",
       "      <td>1</td>\n",
       "    </tr>\n",
       "    <tr>\n",
       "      <th>4</th>\n",
       "      <td>0</td>\n",
       "      <td>0</td>\n",
       "      <td>3</td>\n",
       "      <td>16</td>\n",
       "      <td>0</td>\n",
       "      <td>303.0</td>\n",
       "      <td>70.0</td>\n",
       "      <td>151.0</td>\n",
       "      <td>565.0</td>\n",
       "      <td>2.0</td>\n",
       "      <td>5</td>\n",
       "      <td>1</td>\n",
       "      <td>2</td>\n",
       "      <td>11</td>\n",
       "    </tr>\n",
       "  </tbody>\n",
       "</table>\n",
       "</div>"
      ],
      "text/plain": [
       "   HomePlanet  CryoSleep  Destination  Age  VIP  RoomService  FoodCourt  \\\n",
       "0           1          0            3   39    0          0.0        0.0   \n",
       "1           0          0            3   24    0        109.0        9.0   \n",
       "2           1          0            3   58    1         43.0     3576.0   \n",
       "3           1          0            3   33    0          0.0     1283.0   \n",
       "4           0          0            3   16    0        303.0       70.0   \n",
       "\n",
       "   ShoppingMall     Spa  VRDeck  deck  num  side  deck_side  \n",
       "0           0.0     0.0     0.0     1    0     1          2  \n",
       "1          25.0   549.0    44.0     5    0     2         11  \n",
       "2           0.0  6715.0    49.0     0    0     2          1  \n",
       "3         371.0  3329.0   193.0     0    0     2          1  \n",
       "4         151.0   565.0     2.0     5    1     2         11  "
      ]
     },
     "execution_count": 22,
     "metadata": {},
     "output_type": "execute_result"
    }
   ],
   "source": [
    "X_train.head()"
   ]
  },
  {
   "cell_type": "markdown",
   "id": "d9944806",
   "metadata": {
    "papermill": {
     "duration": 0.043955,
     "end_time": "2022-04-04T23:43:05.508539",
     "exception": false,
     "start_time": "2022-04-04T23:43:05.464584",
     "status": "completed"
    },
    "tags": []
   },
   "source": [
    "# LGBM"
   ]
  },
  {
   "cell_type": "code",
   "execution_count": 23,
   "id": "13e44fac",
   "metadata": {
    "execution": {
     "iopub.execute_input": "2022-04-04T23:43:05.609120Z",
     "iopub.status.busy": "2022-04-04T23:43:05.608335Z",
     "iopub.status.idle": "2022-04-04T23:43:19.221160Z",
     "shell.execute_reply": "2022-04-04T23:43:19.222567Z",
     "shell.execute_reply.started": "2022-04-04T23:42:13.538196Z"
    },
    "papermill": {
     "duration": 13.669836,
     "end_time": "2022-04-04T23:43:19.222815",
     "exception": false,
     "start_time": "2022-04-04T23:43:05.552979",
     "status": "completed"
    },
    "tags": []
   },
   "outputs": [
    {
     "data": {
      "text/html": [
       "<style type='text/css'>\n",
       ".datatable table.frame { margin-bottom: 0; }\n",
       ".datatable table.frame thead { border-bottom: none; }\n",
       ".datatable table.frame tr.coltypes td {  color: #FFFFFF;  line-height: 6px;  padding: 0 0.5em;}\n",
       ".datatable .bool    { background: #DDDD99; }\n",
       ".datatable .object  { background: #565656; }\n",
       ".datatable .int     { background: #5D9E5D; }\n",
       ".datatable .float   { background: #4040CC; }\n",
       ".datatable .str     { background: #CC4040; }\n",
       ".datatable .time    { background: #40CC40; }\n",
       ".datatable .row_index {  background: var(--jp-border-color3);  border-right: 1px solid var(--jp-border-color0);  color: var(--jp-ui-font-color3);  font-size: 9px;}\n",
       ".datatable .frame tbody td { text-align: left; }\n",
       ".datatable .frame tr.coltypes .row_index {  background: var(--jp-border-color0);}\n",
       ".datatable th:nth-child(2) { padding-left: 12px; }\n",
       ".datatable .hellipsis {  color: var(--jp-cell-editor-border-color);}\n",
       ".datatable .vellipsis {  background: var(--jp-layout-color0);  color: var(--jp-cell-editor-border-color);}\n",
       ".datatable .na {  color: var(--jp-cell-editor-border-color);  font-size: 80%;}\n",
       ".datatable .sp {  opacity: 0.25;}\n",
       ".datatable .footer { font-size: 9px; }\n",
       ".datatable .frame_dimensions {  background: var(--jp-border-color3);  border-top: 1px solid var(--jp-border-color0);  color: var(--jp-ui-font-color3);  display: inline-block;  opacity: 0.6;  padding: 1px 10px 1px 5px;}\n",
       "</style>\n"
      ],
      "text/plain": [
       "<IPython.core.display.HTML object>"
      ]
     },
     "metadata": {},
     "output_type": "display_data"
    },
    {
     "name": "stdout",
     "output_type": "stream",
     "text": [
      "fold  1\n",
      "****************************************\n",
      "[100]\ttraining's auc: 0.905289\ttraining's binary_logloss: 0.49737\tvalid_1's auc: 0.89264\tvalid_1's binary_logloss: 0.504594\n",
      "[200]\ttraining's auc: 0.914182\ttraining's binary_logloss: 0.423493\tvalid_1's auc: 0.89961\tvalid_1's binary_logloss: 0.436875\n",
      "[300]\ttraining's auc: 0.921707\ttraining's binary_logloss: 0.386375\tvalid_1's auc: 0.903622\tvalid_1's binary_logloss: 0.406368\n",
      "[400]\ttraining's auc: 0.927786\ttraining's binary_logloss: 0.363168\tvalid_1's auc: 0.907419\tvalid_1's binary_logloss: 0.389912\n",
      "[500]\ttraining's auc: 0.933595\ttraining's binary_logloss: 0.346089\tvalid_1's auc: 0.909762\tvalid_1's binary_logloss: 0.380236\n",
      "[600]\ttraining's auc: 0.938647\ttraining's binary_logloss: 0.332898\tvalid_1's auc: 0.911266\tvalid_1's binary_logloss: 0.374635\n",
      "[700]\ttraining's auc: 0.942804\ttraining's binary_logloss: 0.32232\tvalid_1's auc: 0.911581\tvalid_1's binary_logloss: 0.371581\n",
      "fold  2\n",
      "****************************************\n",
      "[100]\ttraining's auc: 0.907721\ttraining's binary_logloss: 0.494568\tvalid_1's auc: 0.886627\tvalid_1's binary_logloss: 0.508608\n",
      "[200]\ttraining's auc: 0.91559\ttraining's binary_logloss: 0.419736\tvalid_1's auc: 0.891258\tvalid_1's binary_logloss: 0.444347\n",
      "[300]\ttraining's auc: 0.923371\ttraining's binary_logloss: 0.382273\tvalid_1's auc: 0.8945\tvalid_1's binary_logloss: 0.417076\n",
      "[400]\ttraining's auc: 0.9306\ttraining's binary_logloss: 0.358001\tvalid_1's auc: 0.896619\tvalid_1's binary_logloss: 0.403908\n",
      "[500]\ttraining's auc: 0.935743\ttraining's binary_logloss: 0.341168\tvalid_1's auc: 0.897641\tvalid_1's binary_logloss: 0.396845\n",
      "[600]\ttraining's auc: 0.940225\ttraining's binary_logloss: 0.328404\tvalid_1's auc: 0.898238\tvalid_1's binary_logloss: 0.392896\n",
      "[700]\ttraining's auc: 0.944206\ttraining's binary_logloss: 0.31803\tvalid_1's auc: 0.89901\tvalid_1's binary_logloss: 0.390653\n",
      "[800]\ttraining's auc: 0.947684\ttraining's binary_logloss: 0.309287\tvalid_1's auc: 0.899454\tvalid_1's binary_logloss: 0.389293\n",
      "[900]\ttraining's auc: 0.950907\ttraining's binary_logloss: 0.301305\tvalid_1's auc: 0.899752\tvalid_1's binary_logloss: 0.388689\n",
      "fold  3\n",
      "****************************************\n",
      "[100]\ttraining's auc: 0.907944\ttraining's binary_logloss: 0.494441\tvalid_1's auc: 0.882486\tvalid_1's binary_logloss: 0.513445\n",
      "[200]\ttraining's auc: 0.916413\ttraining's binary_logloss: 0.418887\tvalid_1's auc: 0.887494\tvalid_1's binary_logloss: 0.450352\n",
      "[300]\ttraining's auc: 0.924109\ttraining's binary_logloss: 0.380434\tvalid_1's auc: 0.89112\tvalid_1's binary_logloss: 0.423535\n",
      "[400]\ttraining's auc: 0.930833\ttraining's binary_logloss: 0.356851\tvalid_1's auc: 0.893998\tvalid_1's binary_logloss: 0.409869\n",
      "[500]\ttraining's auc: 0.936408\ttraining's binary_logloss: 0.339519\tvalid_1's auc: 0.895549\tvalid_1's binary_logloss: 0.402222\n",
      "[600]\ttraining's auc: 0.941249\ttraining's binary_logloss: 0.326145\tvalid_1's auc: 0.896875\tvalid_1's binary_logloss: 0.397908\n",
      "[700]\ttraining's auc: 0.945337\ttraining's binary_logloss: 0.315473\tvalid_1's auc: 0.8979\tvalid_1's binary_logloss: 0.395238\n",
      "[800]\ttraining's auc: 0.948941\ttraining's binary_logloss: 0.306364\tvalid_1's auc: 0.8985\tvalid_1's binary_logloss: 0.393757\n",
      "[900]\ttraining's auc: 0.952153\ttraining's binary_logloss: 0.298384\tvalid_1's auc: 0.898807\tvalid_1's binary_logloss: 0.392858\n",
      "fold  4\n",
      "****************************************\n",
      "[100]\ttraining's auc: 0.907188\ttraining's binary_logloss: 0.4952\tvalid_1's auc: 0.881001\tvalid_1's binary_logloss: 0.508427\n",
      "[200]\ttraining's auc: 0.91472\ttraining's binary_logloss: 0.420699\tvalid_1's auc: 0.886956\tvalid_1's binary_logloss: 0.44389\n",
      "[300]\ttraining's auc: 0.922255\ttraining's binary_logloss: 0.383164\tvalid_1's auc: 0.891732\tvalid_1's binary_logloss: 0.415232\n",
      "[400]\ttraining's auc: 0.928875\ttraining's binary_logloss: 0.360582\tvalid_1's auc: 0.895821\tvalid_1's binary_logloss: 0.400882\n",
      "[500]\ttraining's auc: 0.934682\ttraining's binary_logloss: 0.343948\tvalid_1's auc: 0.898372\tvalid_1's binary_logloss: 0.393079\n",
      "[600]\ttraining's auc: 0.939489\ttraining's binary_logloss: 0.33094\tvalid_1's auc: 0.900246\tvalid_1's binary_logloss: 0.387842\n",
      "[700]\ttraining's auc: 0.943716\ttraining's binary_logloss: 0.320235\tvalid_1's auc: 0.901523\tvalid_1's binary_logloss: 0.38477\n",
      "[800]\ttraining's auc: 0.947364\ttraining's binary_logloss: 0.311167\tvalid_1's auc: 0.901981\tvalid_1's binary_logloss: 0.383529\n",
      "[900]\ttraining's auc: 0.950548\ttraining's binary_logloss: 0.303225\tvalid_1's auc: 0.902516\tvalid_1's binary_logloss: 0.382586\n",
      "[1000]\ttraining's auc: 0.953586\ttraining's binary_logloss: 0.295779\tvalid_1's auc: 0.902659\tvalid_1's binary_logloss: 0.382472\n",
      "fold  5\n",
      "****************************************\n",
      "[100]\ttraining's auc: 0.905979\ttraining's binary_logloss: 0.497833\tvalid_1's auc: 0.897634\tvalid_1's binary_logloss: 0.500193\n",
      "[200]\ttraining's auc: 0.913918\ttraining's binary_logloss: 0.424218\tvalid_1's auc: 0.901083\tvalid_1's binary_logloss: 0.432095\n",
      "[300]\ttraining's auc: 0.921944\ttraining's binary_logloss: 0.385931\tvalid_1's auc: 0.904861\tvalid_1's binary_logloss: 0.401997\n",
      "[400]\ttraining's auc: 0.928757\ttraining's binary_logloss: 0.362331\tvalid_1's auc: 0.907881\tvalid_1's binary_logloss: 0.387484\n",
      "[500]\ttraining's auc: 0.934731\ttraining's binary_logloss: 0.344757\tvalid_1's auc: 0.9097\tvalid_1's binary_logloss: 0.379868\n",
      "[600]\ttraining's auc: 0.939723\ttraining's binary_logloss: 0.331209\tvalid_1's auc: 0.91051\tvalid_1's binary_logloss: 0.37562\n",
      "[700]\ttraining's auc: 0.943867\ttraining's binary_logloss: 0.320262\tvalid_1's auc: 0.910991\tvalid_1's binary_logloss: 0.37353\n",
      "OOF accuracy 0.8122627401357414\n"
     ]
    }
   ],
   "source": [
    "import lightgbm as lgb\n",
    "from sklearn.model_selection import StratifiedKFold, KFold\n",
    "from sklearn.metrics import accuracy_score\n",
    "\n",
    "oof = np.zeros(len(train))\n",
    "preds = np.zeros(len(test))\n",
    "\n",
    "skf = StratifiedKFold(n_splits = 5, shuffle = True)\n",
    "\n",
    "for i, (idt, idv) in enumerate(skf.split(X_train, y_train, y_train)):\n",
    "    \n",
    "    x_trn, x_val = X_train.iloc[idt], X_train.iloc[idv]\n",
    "    y_trn, y_val = y_train.iloc[idt], y_train.iloc[idv]\n",
    "    \n",
    "    print('fold ', i+1)\n",
    "    print('*' * 40)\n",
    "    \n",
    "    clf = lgb.LGBMClassifier(\n",
    "    n_estimators = 1500,\n",
    "        subsample = 0.8,\n",
    "        #num_leaves = 32,\n",
    "        learning_rate = 0.008,\n",
    "        colsample_bytree = 0.8,\n",
    "        reg_alpha = 1,\n",
    "     \n",
    "       # bagging_frequency = 1,\n",
    "        #random_state = 42\n",
    "       \n",
    "        \n",
    "    )\n",
    "    \n",
    "    clf.fit(x_trn, y_trn, eval_set = [(x_trn, y_trn),(x_val, y_val)], verbose = 100,\n",
    "           early_stopping_rounds = 50, eval_metric = 'auc',\n",
    "           #categorical_feature = ['VIP','deck','side','Destination','HomePlanet']\n",
    "           )\n",
    "    \n",
    "    oof[idv] = clf.predict(x_val)\n",
    "    preds += clf.predict_proba(X_test)[:,1]/skf.n_splits\n",
    "\n",
    "print('OOF accuracy', accuracy_score(y_train, oof))"
   ]
  },
  {
   "cell_type": "code",
   "execution_count": 24,
   "id": "3be08bd8",
   "metadata": {
    "execution": {
     "iopub.execute_input": "2022-04-04T23:43:19.354921Z",
     "iopub.status.busy": "2022-04-04T23:43:19.351174Z",
     "iopub.status.idle": "2022-04-04T23:43:19.728615Z",
     "shell.execute_reply": "2022-04-04T23:43:19.729181Z",
     "shell.execute_reply.started": "2022-04-04T23:40:48.715608Z"
    },
    "papermill": {
     "duration": 0.442579,
     "end_time": "2022-04-04T23:43:19.729359",
     "exception": false,
     "start_time": "2022-04-04T23:43:19.286780",
     "status": "completed"
    },
    "tags": []
   },
   "outputs": [
    {
     "data": {
      "image/png": "[encoded data removed]",
      "text/plain": [
       "<Figure size 1440x720 with 1 Axes>"
      ]
     },
     "metadata": {
      "needs_background": "light"
     },
     "output_type": "display_data"
    }
   ],
   "source": [
    "cols = list(X_train.columns)\n",
    "feature_imp = pd.DataFrame(sorted(zip(clf.feature_importances_,cols)), columns=['Value','Feature'])\n",
    "plt.figure(figsize=(20, 10))\n",
    "sns.barplot(x=\"Value\", y=\"Feature\", data=feature_imp.sort_values(by=\"Value\", ascending=False).iloc[:20])\n",
    "plt.title('XGB Most Important Features')\n",
    "plt.tight_layout()\n",
    "plt.show()"
   ]
  },
  {
   "cell_type": "code",
   "execution_count": 25,
   "id": "7ae14499",
   "metadata": {
    "execution": {
     "iopub.execute_input": "2022-04-04T23:43:19.864059Z",
     "iopub.status.busy": "2022-04-04T23:43:19.863134Z",
     "iopub.status.idle": "2022-04-04T23:43:19.866517Z",
     "shell.execute_reply": "2022-04-04T23:43:19.867029Z",
     "shell.execute_reply.started": "2022-04-04T23:40:49.082020Z"
    },
    "papermill": {
     "duration": 0.073582,
     "end_time": "2022-04-04T23:43:19.867199",
     "exception": false,
     "start_time": "2022-04-04T23:43:19.793617",
     "status": "completed"
    },
    "tags": []
   },
   "outputs": [
    {
     "data": {
      "text/plain": [
       "array([0.576709  , 0.04086488, 0.98655688, ..., 0.96135392, 0.78173792,\n",
       "       0.59671136])"
      ]
     },
     "execution_count": 25,
     "metadata": {},
     "output_type": "execute_result"
    }
   ],
   "source": [
    "preds"
   ]
  },
  {
   "cell_type": "code",
   "execution_count": 26,
   "id": "f8dc58a6",
   "metadata": {
    "execution": {
     "iopub.execute_input": "2022-04-04T23:43:19.999883Z",
     "iopub.status.busy": "2022-04-04T23:43:19.999198Z",
     "iopub.status.idle": "2022-04-04T23:43:20.013003Z",
     "shell.execute_reply": "2022-04-04T23:43:20.013541Z",
     "shell.execute_reply.started": "2022-04-04T23:40:49.088621Z"
    },
    "papermill": {
     "duration": 0.082294,
     "end_time": "2022-04-04T23:43:20.013718",
     "exception": false,
     "start_time": "2022-04-04T23:43:19.931424",
     "status": "completed"
    },
    "tags": []
   },
   "outputs": [
    {
     "data": {
      "text/html": [
       "<div>\n",
       "<style scoped>\n",
       "    .dataframe tbody tr th:only-of-type {\n",
       "        vertical-align: middle;\n",
       "    }\n",
       "\n",
       "    .dataframe tbody tr th {\n",
       "        vertical-align: top;\n",
       "    }\n",
       "\n",
       "    .dataframe thead th {\n",
       "        text-align: right;\n",
       "    }\n",
       "</style>\n",
       "<table border=\"1\" class=\"dataframe\">\n",
       "  <thead>\n",
       "    <tr style=\"text-align: right;\">\n",
       "      <th></th>\n",
       "      <th>PassengerId</th>\n",
       "      <th>Transported</th>\n",
       "    </tr>\n",
       "  </thead>\n",
       "  <tbody>\n",
       "    <tr>\n",
       "      <th>0</th>\n",
       "      <td>0013_01</td>\n",
       "      <td>True</td>\n",
       "    </tr>\n",
       "    <tr>\n",
       "      <th>1</th>\n",
       "      <td>0018_01</td>\n",
       "      <td>False</td>\n",
       "    </tr>\n",
       "    <tr>\n",
       "      <th>2</th>\n",
       "      <td>0019_01</td>\n",
       "      <td>True</td>\n",
       "    </tr>\n",
       "    <tr>\n",
       "      <th>3</th>\n",
       "      <td>0021_01</td>\n",
       "      <td>True</td>\n",
       "    </tr>\n",
       "    <tr>\n",
       "      <th>4</th>\n",
       "      <td>0023_01</td>\n",
       "      <td>True</td>\n",
       "    </tr>\n",
       "    <tr>\n",
       "      <th>...</th>\n",
       "      <td>...</td>\n",
       "      <td>...</td>\n",
       "    </tr>\n",
       "    <tr>\n",
       "      <th>4272</th>\n",
       "      <td>9266_02</td>\n",
       "      <td>True</td>\n",
       "    </tr>\n",
       "    <tr>\n",
       "      <th>4273</th>\n",
       "      <td>9269_01</td>\n",
       "      <td>False</td>\n",
       "    </tr>\n",
       "    <tr>\n",
       "      <th>4274</th>\n",
       "      <td>9271_01</td>\n",
       "      <td>True</td>\n",
       "    </tr>\n",
       "    <tr>\n",
       "      <th>4275</th>\n",
       "      <td>9273_01</td>\n",
       "      <td>True</td>\n",
       "    </tr>\n",
       "    <tr>\n",
       "      <th>4276</th>\n",
       "      <td>9277_01</td>\n",
       "      <td>True</td>\n",
       "    </tr>\n",
       "  </tbody>\n",
       "</table>\n",
       "<p>4277 rows × 2 columns</p>\n",
       "</div>"
      ],
      "text/plain": [
       "     PassengerId  Transported\n",
       "0        0013_01         True\n",
       "1        0018_01        False\n",
       "2        0019_01         True\n",
       "3        0021_01         True\n",
       "4        0023_01         True\n",
       "...          ...          ...\n",
       "4272     9266_02         True\n",
       "4273     9269_01        False\n",
       "4274     9271_01         True\n",
       "4275     9273_01         True\n",
       "4276     9277_01         True\n",
       "\n",
       "[4277 rows x 2 columns]"
      ]
     },
     "execution_count": 26,
     "metadata": {},
     "output_type": "execute_result"
    }
   ],
   "source": [
    "sub['Transported'] = [True if x>0.5 else False for x in preds]\n",
    "\n",
    "sub"
   ]
  },
  {
   "cell_type": "code",
   "execution_count": 27,
   "id": "d583a0cf",
   "metadata": {
    "execution": {
     "iopub.execute_input": "2022-04-04T23:43:20.145695Z",
     "iopub.status.busy": "2022-04-04T23:43:20.144768Z",
     "iopub.status.idle": "2022-04-04T23:43:20.152611Z",
     "shell.execute_reply": "2022-04-04T23:43:20.153203Z",
     "shell.execute_reply.started": "2022-04-04T23:40:49.113971Z"
    },
    "papermill": {
     "duration": 0.075437,
     "end_time": "2022-04-04T23:43:20.153398",
     "exception": false,
     "start_time": "2022-04-04T23:43:20.077961",
     "status": "completed"
    },
    "tags": []
   },
   "outputs": [
    {
     "data": {
      "text/plain": [
       "count     4277\n",
       "unique       2\n",
       "top       True\n",
       "freq      2215\n",
       "Name: Transported, dtype: object"
      ]
     },
     "execution_count": 27,
     "metadata": {},
     "output_type": "execute_result"
    }
   ],
   "source": [
    "sub['Transported'].describe()"
   ]
  },
  {
   "cell_type": "code",
   "execution_count": 28,
   "id": "6d233b02",
   "metadata": {
    "execution": {
     "iopub.execute_input": "2022-04-04T23:43:20.285084Z",
     "iopub.status.busy": "2022-04-04T23:43:20.284435Z",
     "iopub.status.idle": "2022-04-04T23:43:20.299012Z",
     "shell.execute_reply": "2022-04-04T23:43:20.299564Z",
     "shell.execute_reply.started": "2022-04-04T23:40:49.126158Z"
    },
    "papermill": {
     "duration": 0.082393,
     "end_time": "2022-04-04T23:43:20.299762",
     "exception": false,
     "start_time": "2022-04-04T23:43:20.217369",
     "status": "completed"
    },
    "tags": []
   },
   "outputs": [],
   "source": [
    "sub.to_csv('sub_lgb.csv', index = False)"
   ]
  }
 ],
 "metadata": {
  "kernelspec": {
   "display_name": "Python 3",
   "language": "python",
   "name": "python3"
  },
  "language_info": {
   "codemirror_mode": {
    "name": "ipython",
    "version": 3
   },
   "file_extension": ".py",
   "mimetype": "text/x-python",
   "name": "python",
   "nbconvert_exporter": "python",
   "pygments_lexer": "ipython3",
   "version": "3.7.12"
  },
  "papermill": {
   "default_parameters": {},
   "duration": 31.637616,
   "end_time": "2022-04-04T23:43:21.176050",
   "environment_variables": {},
   "exception": null,
   "input_path": "__notebook__.ipynb",
   "output_path": "__notebook__.ipynb",
   "parameters": {},
   "start_time": "2022-04-04T23:42:49.538434",
   "version": "2.3.3"
  }
 },
 "nbformat": 4,
 "nbformat_minor": 5
}
