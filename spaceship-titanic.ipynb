{
 "cells": [
  {
   "cell_type": "code",
   "execution_count": 1,
   "id": "adb7b9ad",
   "metadata": {
    "execution": {
     "iopub.execute_input": "2022-04-04T23:38:37.248052Z",
     "iopub.status.busy": "2022-04-04T23:38:37.247107Z",
     "iopub.status.idle": "2022-04-04T23:38:38.516250Z",
     "shell.execute_reply": "2022-04-04T23:38:38.514815Z",
     "shell.execute_reply.started": "2022-04-04T23:26:13.560759Z"
    },
    "papermill": {
     "duration": 1.314298,
     "end_time": "2022-04-04T23:38:38.516480",
     "exception": false,
     "start_time": "2022-04-04T23:38:37.202182",
     "status": "completed"
    },
    "tags": []
   },
   "outputs": [],
   "source": [
    "import numpy as np\n",
    "import pandas as pd\n",
    "import os\n",
    "import gc\n",
    "import matplotlib.pyplot as plt\n",
    "import seaborn as sns\n",
    "import warnings \n",
    "warnings.filterwarnings('ignore')"
   ]
  },
  {
   "cell_type": "markdown",
   "id": "bd86e1fb",
   "metadata": {
    "papermill": {
     "duration": 0.032302,
     "end_time": "2022-04-04T23:38:38.582677",
     "exception": false,
     "start_time": "2022-04-04T23:38:38.550375",
     "status": "completed"
    },
    "tags": []
   },
   "source": [
    "In this competition your task is to predict whether a passenger was transported to an alternate dimension during the Spaceship Titanic's collision with the spacetime anomaly. To help you make these predictions, you're given a set of personal records recovered from the ship's damaged computer system."
   ]
  },
  {
   "cell_type": "markdown",
   "id": "ca3425c1",
   "metadata": {
    "papermill": {
     "duration": 0.035007,
     "end_time": "2022-04-04T23:38:38.650264",
     "exception": false,
     "start_time": "2022-04-04T23:38:38.615257",
     "status": "completed"
    },
    "tags": []
   },
   "source": [
    "# File and Data Field Descriptions\n",
    "* train.csv - Personal records for about two-thirds (~8700) of the passengers, to be used as training data.\n",
    "* PassengerId - A unique Id for each passenger. Each Id takes the form gggg_pp where gggg indicates a group the passenger is travelling with and pp is their number within the group. People in a group are often family members, but not always.\n",
    "* HomePlanet - The planet the passenger departed from, typically their planet of permanent residence.\n",
    "* CryoSleep - Indicates whether the passenger elected to be put into suspended animation for the duration of the voyage. Passengers in cryosleep are confined to their cabins.\n",
    "* Cabin - The cabin number where the passenger is staying. Takes the form deck/num/side, where side can be either P for Port or S for Starboard.\n",
    "* Destination - The planet the passenger will be debarking to.\n",
    "* Age - The age of the passenger.\n",
    "* VIP - Whether the passenger has paid for special VIP service during the voyage.\n",
    "* RoomService, FoodCourt, ShoppingMall, Spa, VRDeck - Amount the passenger has billed at each of the Spaceship Titanic's many luxury amenities.\n",
    "* Name - The first and last names of the passenger.\n",
    "* Transported - Whether the passenger was transported to another dimension. This is the target, the column you are trying to predict."
   ]
  },
  {
   "cell_type": "code",
   "execution_count": 2,
   "id": "1bcad745",
   "metadata": {
    "execution": {
     "iopub.execute_input": "2022-04-04T23:38:38.723177Z",
     "iopub.status.busy": "2022-04-04T23:38:38.722474Z",
     "iopub.status.idle": "2022-04-04T23:38:38.827280Z",
     "shell.execute_reply": "2022-04-04T23:38:38.828045Z",
     "shell.execute_reply.started": "2022-04-04T23:26:14.731106Z"
    },
    "papermill": {
     "duration": 0.145407,
     "end_time": "2022-04-04T23:38:38.828298",
     "exception": false,
     "start_time": "2022-04-04T23:38:38.682891",
     "status": "completed"
    },
    "tags": []
   },
   "outputs": [
    {
     "name": "stdout",
     "output_type": "stream",
     "text": [
      "(8693, 14)\n",
      "(4277, 13)\n"
     ]
    }
   ],
   "source": [
    "train = pd.read_csv('../input/spaceship-titanic/train.csv')\n",
    "test = pd.read_csv('../input/spaceship-titanic/test.csv')\n",
    "sub = pd.read_csv('../input/spaceship-titanic/sample_submission.csv')\n",
    "print(train.shape)\n",
    "print(test.shape)"
   ]
  },
  {
   "cell_type": "code",
   "execution_count": 3,
   "id": "5f2d9fbb",
   "metadata": {
    "execution": {
     "iopub.execute_input": "2022-04-04T23:38:38.906219Z",
     "iopub.status.busy": "2022-04-04T23:38:38.899355Z",
     "iopub.status.idle": "2022-04-04T23:38:38.930799Z",
     "shell.execute_reply": "2022-04-04T23:38:38.931329Z",
     "shell.execute_reply.started": "2022-04-04T23:26:14.827888Z"
    },
    "papermill": {
     "duration": 0.06879,
     "end_time": "2022-04-04T23:38:38.931501",
     "exception": false,
     "start_time": "2022-04-04T23:38:38.862711",
     "status": "completed"
    },
    "tags": []
   },
   "outputs": [
    {
     "data": {
      "text/html": [
       "<div>\n",
       "<style scoped>\n",
       "    .dataframe tbody tr th:only-of-type {\n",
       "        vertical-align: middle;\n",
       "    }\n",
       "\n",
       "    .dataframe tbody tr th {\n",
       "        vertical-align: top;\n",
       "    }\n",
       "\n",
       "    .dataframe thead th {\n",
       "        text-align: right;\n",
       "    }\n",
       "</style>\n",
       "<table border=\"1\" class=\"dataframe\">\n",
       "  <thead>\n",
       "    <tr style=\"text-align: right;\">\n",
       "      <th></th>\n",
       "      <th>PassengerId</th>\n",
       "      <th>HomePlanet</th>\n",
       "      <th>CryoSleep</th>\n",
       "      <th>Cabin</th>\n",
       "      <th>Destination</th>\n",
       "      <th>Age</th>\n",
       "      <th>VIP</th>\n",
       "      <th>RoomService</th>\n",
       "      <th>FoodCourt</th>\n",
       "      <th>ShoppingMall</th>\n",
       "      <th>Spa</th>\n",
       "      <th>VRDeck</th>\n",
       "      <th>Name</th>\n",
       "      <th>Transported</th>\n",
       "    </tr>\n",
       "  </thead>\n",
       "  <tbody>\n",
       "    <tr>\n",
       "      <th>0</th>\n",
       "      <td>0001_01</td>\n",
       "      <td>Europa</td>\n",
       "      <td>False</td>\n",
       "      <td>B/0/P</td>\n",
       "      <td>TRAPPIST-1e</td>\n",
       "      <td>39.0</td>\n",
       "      <td>False</td>\n",
       "      <td>0.0</td>\n",
       "      <td>0.0</td>\n",
       "      <td>0.0</td>\n",
       "      <td>0.0</td>\n",
       "      <td>0.0</td>\n",
       "      <td>Maham Ofracculy</td>\n",
       "      <td>False</td>\n",
       "    </tr>\n",
       "    <tr>\n",
       "      <th>1</th>\n",
       "      <td>0002_01</td>\n",
       "      <td>Earth</td>\n",
       "      <td>False</td>\n",
       "      <td>F/0/S</td>\n",
       "      <td>TRAPPIST-1e</td>\n",
       "      <td>24.0</td>\n",
       "      <td>False</td>\n",
       "      <td>109.0</td>\n",
       "      <td>9.0</td>\n",
       "      <td>25.0</td>\n",
       "      <td>549.0</td>\n",
       "      <td>44.0</td>\n",
       "      <td>Juanna Vines</td>\n",
       "      <td>True</td>\n",
       "    </tr>\n",
       "    <tr>\n",
       "      <th>2</th>\n",
       "      <td>0003_01</td>\n",
       "      <td>Europa</td>\n",
       "      <td>False</td>\n",
       "      <td>A/0/S</td>\n",
       "      <td>TRAPPIST-1e</td>\n",
       "      <td>58.0</td>\n",
       "      <td>True</td>\n",
       "      <td>43.0</td>\n",
       "      <td>3576.0</td>\n",
       "      <td>0.0</td>\n",
       "      <td>6715.0</td>\n",
       "      <td>49.0</td>\n",
       "      <td>Altark Susent</td>\n",
       "      <td>False</td>\n",
       "    </tr>\n",
       "    <tr>\n",
       "      <th>3</th>\n",
       "      <td>0003_02</td>\n",
       "      <td>Europa</td>\n",
       "      <td>False</td>\n",
       "      <td>A/0/S</td>\n",
       "      <td>TRAPPIST-1e</td>\n",
       "      <td>33.0</td>\n",
       "      <td>False</td>\n",
       "      <td>0.0</td>\n",
       "      <td>1283.0</td>\n",
       "      <td>371.0</td>\n",
       "      <td>3329.0</td>\n",
       "      <td>193.0</td>\n",
       "      <td>Solam Susent</td>\n",
       "      <td>False</td>\n",
       "    </tr>\n",
       "    <tr>\n",
       "      <th>4</th>\n",
       "      <td>0004_01</td>\n",
       "      <td>Earth</td>\n",
       "      <td>False</td>\n",
       "      <td>F/1/S</td>\n",
       "      <td>TRAPPIST-1e</td>\n",
       "      <td>16.0</td>\n",
       "      <td>False</td>\n",
       "      <td>303.0</td>\n",
       "      <td>70.0</td>\n",
       "      <td>151.0</td>\n",
       "      <td>565.0</td>\n",
       "      <td>2.0</td>\n",
       "      <td>Willy Santantines</td>\n",
       "      <td>True</td>\n",
       "    </tr>\n",
       "  </tbody>\n",
       "</table>\n",
       "</div>"
      ],
      "text/plain": [
       "  PassengerId HomePlanet CryoSleep  Cabin  Destination   Age    VIP  \\\n",
       "0     0001_01     Europa     False  B/0/P  TRAPPIST-1e  39.0  False   \n",
       "1     0002_01      Earth     False  F/0/S  TRAPPIST-1e  24.0  False   \n",
       "2     0003_01     Europa     False  A/0/S  TRAPPIST-1e  58.0   True   \n",
       "3     0003_02     Europa     False  A/0/S  TRAPPIST-1e  33.0  False   \n",
       "4     0004_01      Earth     False  F/1/S  TRAPPIST-1e  16.0  False   \n",
       "\n",
       "   RoomService  FoodCourt  ShoppingMall     Spa  VRDeck               Name  \\\n",
       "0          0.0        0.0           0.0     0.0     0.0    Maham Ofracculy   \n",
       "1        109.0        9.0          25.0   549.0    44.0       Juanna Vines   \n",
       "2         43.0     3576.0           0.0  6715.0    49.0      Altark Susent   \n",
       "3          0.0     1283.0         371.0  3329.0   193.0       Solam Susent   \n",
       "4        303.0       70.0         151.0   565.0     2.0  Willy Santantines   \n",
       "\n",
       "   Transported  \n",
       "0        False  \n",
       "1         True  \n",
       "2        False  \n",
       "3        False  \n",
       "4         True  "
      ]
     },
     "execution_count": 3,
     "metadata": {},
     "output_type": "execute_result"
    }
   ],
   "source": [
    "train.head()"
   ]
  },
  {
   "cell_type": "markdown",
   "id": "3ac91471",
   "metadata": {
    "papermill": {
     "duration": 0.033794,
     "end_time": "2022-04-04T23:38:39.000850",
     "exception": false,
     "start_time": "2022-04-04T23:38:38.967056",
     "status": "completed"
    },
    "tags": []
   },
   "source": [
    "# EDA"
   ]
  },
  {
   "cell_type": "code",
   "execution_count": 4,
   "id": "21a90eb1",
   "metadata": {
    "execution": {
     "iopub.execute_input": "2022-04-04T23:38:39.084588Z",
     "iopub.status.busy": "2022-04-04T23:38:39.083896Z",
     "iopub.status.idle": "2022-04-04T23:38:39.124521Z",
     "shell.execute_reply": "2022-04-04T23:38:39.123869Z",
     "shell.execute_reply.started": "2022-04-04T23:26:14.862543Z"
    },
    "papermill": {
     "duration": 0.08952,
     "end_time": "2022-04-04T23:38:39.124737",
     "exception": false,
     "start_time": "2022-04-04T23:38:39.035217",
     "status": "completed"
    },
    "tags": []
   },
   "outputs": [
    {
     "data": {
      "text/html": [
       "<div>\n",
       "<style scoped>\n",
       "    .dataframe tbody tr th:only-of-type {\n",
       "        vertical-align: middle;\n",
       "    }\n",
       "\n",
       "    .dataframe tbody tr th {\n",
       "        vertical-align: top;\n",
       "    }\n",
       "\n",
       "    .dataframe thead th {\n",
       "        text-align: right;\n",
       "    }\n",
       "</style>\n",
       "<table border=\"1\" class=\"dataframe\">\n",
       "  <thead>\n",
       "    <tr style=\"text-align: right;\">\n",
       "      <th></th>\n",
       "      <th>dtypes</th>\n",
       "      <th>missing</th>\n",
       "      <th>nlevel</th>\n",
       "    </tr>\n",
       "  </thead>\n",
       "  <tbody>\n",
       "    <tr>\n",
       "      <th>PassengerId</th>\n",
       "      <td>object</td>\n",
       "      <td>0</td>\n",
       "      <td>8693</td>\n",
       "    </tr>\n",
       "    <tr>\n",
       "      <th>HomePlanet</th>\n",
       "      <td>object</td>\n",
       "      <td>201</td>\n",
       "      <td>3</td>\n",
       "    </tr>\n",
       "    <tr>\n",
       "      <th>CryoSleep</th>\n",
       "      <td>object</td>\n",
       "      <td>217</td>\n",
       "      <td>2</td>\n",
       "    </tr>\n",
       "    <tr>\n",
       "      <th>Cabin</th>\n",
       "      <td>object</td>\n",
       "      <td>199</td>\n",
       "      <td>6560</td>\n",
       "    </tr>\n",
       "    <tr>\n",
       "      <th>Destination</th>\n",
       "      <td>object</td>\n",
       "      <td>182</td>\n",
       "      <td>3</td>\n",
       "    </tr>\n",
       "    <tr>\n",
       "      <th>Age</th>\n",
       "      <td>float64</td>\n",
       "      <td>179</td>\n",
       "      <td>80</td>\n",
       "    </tr>\n",
       "    <tr>\n",
       "      <th>VIP</th>\n",
       "      <td>object</td>\n",
       "      <td>203</td>\n",
       "      <td>2</td>\n",
       "    </tr>\n",
       "    <tr>\n",
       "      <th>RoomService</th>\n",
       "      <td>float64</td>\n",
       "      <td>181</td>\n",
       "      <td>1273</td>\n",
       "    </tr>\n",
       "    <tr>\n",
       "      <th>FoodCourt</th>\n",
       "      <td>float64</td>\n",
       "      <td>183</td>\n",
       "      <td>1507</td>\n",
       "    </tr>\n",
       "    <tr>\n",
       "      <th>ShoppingMall</th>\n",
       "      <td>float64</td>\n",
       "      <td>208</td>\n",
       "      <td>1115</td>\n",
       "    </tr>\n",
       "    <tr>\n",
       "      <th>Spa</th>\n",
       "      <td>float64</td>\n",
       "      <td>183</td>\n",
       "      <td>1327</td>\n",
       "    </tr>\n",
       "    <tr>\n",
       "      <th>VRDeck</th>\n",
       "      <td>float64</td>\n",
       "      <td>188</td>\n",
       "      <td>1306</td>\n",
       "    </tr>\n",
       "    <tr>\n",
       "      <th>Name</th>\n",
       "      <td>object</td>\n",
       "      <td>200</td>\n",
       "      <td>8473</td>\n",
       "    </tr>\n",
       "    <tr>\n",
       "      <th>Transported</th>\n",
       "      <td>bool</td>\n",
       "      <td>0</td>\n",
       "      <td>2</td>\n",
       "    </tr>\n",
       "  </tbody>\n",
       "</table>\n",
       "</div>"
      ],
      "text/plain": [
       "               dtypes  missing  nlevel\n",
       "PassengerId    object        0    8693\n",
       "HomePlanet     object      201       3\n",
       "CryoSleep      object      217       2\n",
       "Cabin          object      199    6560\n",
       "Destination    object      182       3\n",
       "Age           float64      179      80\n",
       "VIP            object      203       2\n",
       "RoomService   float64      181    1273\n",
       "FoodCourt     float64      183    1507\n",
       "ShoppingMall  float64      208    1115\n",
       "Spa           float64      183    1327\n",
       "VRDeck        float64      188    1306\n",
       "Name           object      200    8473\n",
       "Transported      bool        0       2"
      ]
     },
     "execution_count": 4,
     "metadata": {},
     "output_type": "execute_result"
    }
   ],
   "source": [
    "def eda(df):\n",
    "    summary = pd.DataFrame()\n",
    "    summary['dtypes'] = df.dtypes\n",
    "    summary['missing'] = df.isnull().sum()\n",
    "    summary['nlevel'] = df.nunique()\n",
    "    return summary\n",
    "\n",
    "eda(train)"
   ]
  },
  {
   "cell_type": "code",
   "execution_count": 5,
   "id": "f9618301",
   "metadata": {
    "execution": {
     "iopub.execute_input": "2022-04-04T23:38:39.202966Z",
     "iopub.status.busy": "2022-04-04T23:38:39.202252Z",
     "iopub.status.idle": "2022-04-04T23:38:39.223717Z",
     "shell.execute_reply": "2022-04-04T23:38:39.224314Z",
     "shell.execute_reply.started": "2022-04-04T23:26:14.908896Z"
    },
    "papermill": {
     "duration": 0.063102,
     "end_time": "2022-04-04T23:38:39.224501",
     "exception": false,
     "start_time": "2022-04-04T23:38:39.161399",
     "status": "completed"
    },
    "tags": []
   },
   "outputs": [
    {
     "data": {
      "text/html": [
       "<div>\n",
       "<style scoped>\n",
       "    .dataframe tbody tr th:only-of-type {\n",
       "        vertical-align: middle;\n",
       "    }\n",
       "\n",
       "    .dataframe tbody tr th {\n",
       "        vertical-align: top;\n",
       "    }\n",
       "\n",
       "    .dataframe thead th {\n",
       "        text-align: right;\n",
       "    }\n",
       "</style>\n",
       "<table border=\"1\" class=\"dataframe\">\n",
       "  <thead>\n",
       "    <tr style=\"text-align: right;\">\n",
       "      <th></th>\n",
       "      <th>dtypes</th>\n",
       "      <th>missing</th>\n",
       "      <th>nlevel</th>\n",
       "    </tr>\n",
       "  </thead>\n",
       "  <tbody>\n",
       "    <tr>\n",
       "      <th>PassengerId</th>\n",
       "      <td>object</td>\n",
       "      <td>0</td>\n",
       "      <td>4277</td>\n",
       "    </tr>\n",
       "    <tr>\n",
       "      <th>HomePlanet</th>\n",
       "      <td>object</td>\n",
       "      <td>87</td>\n",
       "      <td>3</td>\n",
       "    </tr>\n",
       "    <tr>\n",
       "      <th>CryoSleep</th>\n",
       "      <td>object</td>\n",
       "      <td>93</td>\n",
       "      <td>2</td>\n",
       "    </tr>\n",
       "    <tr>\n",
       "      <th>Cabin</th>\n",
       "      <td>object</td>\n",
       "      <td>100</td>\n",
       "      <td>3265</td>\n",
       "    </tr>\n",
       "    <tr>\n",
       "      <th>Destination</th>\n",
       "      <td>object</td>\n",
       "      <td>92</td>\n",
       "      <td>3</td>\n",
       "    </tr>\n",
       "    <tr>\n",
       "      <th>Age</th>\n",
       "      <td>float64</td>\n",
       "      <td>91</td>\n",
       "      <td>79</td>\n",
       "    </tr>\n",
       "    <tr>\n",
       "      <th>VIP</th>\n",
       "      <td>object</td>\n",
       "      <td>93</td>\n",
       "      <td>2</td>\n",
       "    </tr>\n",
       "    <tr>\n",
       "      <th>RoomService</th>\n",
       "      <td>float64</td>\n",
       "      <td>82</td>\n",
       "      <td>842</td>\n",
       "    </tr>\n",
       "    <tr>\n",
       "      <th>FoodCourt</th>\n",
       "      <td>float64</td>\n",
       "      <td>106</td>\n",
       "      <td>902</td>\n",
       "    </tr>\n",
       "    <tr>\n",
       "      <th>ShoppingMall</th>\n",
       "      <td>float64</td>\n",
       "      <td>98</td>\n",
       "      <td>715</td>\n",
       "    </tr>\n",
       "    <tr>\n",
       "      <th>Spa</th>\n",
       "      <td>float64</td>\n",
       "      <td>101</td>\n",
       "      <td>833</td>\n",
       "    </tr>\n",
       "    <tr>\n",
       "      <th>VRDeck</th>\n",
       "      <td>float64</td>\n",
       "      <td>80</td>\n",
       "      <td>796</td>\n",
       "    </tr>\n",
       "    <tr>\n",
       "      <th>Name</th>\n",
       "      <td>object</td>\n",
       "      <td>94</td>\n",
       "      <td>4176</td>\n",
       "    </tr>\n",
       "  </tbody>\n",
       "</table>\n",
       "</div>"
      ],
      "text/plain": [
       "               dtypes  missing  nlevel\n",
       "PassengerId    object        0    4277\n",
       "HomePlanet     object       87       3\n",
       "CryoSleep      object       93       2\n",
       "Cabin          object      100    3265\n",
       "Destination    object       92       3\n",
       "Age           float64       91      79\n",
       "VIP            object       93       2\n",
       "RoomService   float64       82     842\n",
       "FoodCourt     float64      106     902\n",
       "ShoppingMall  float64       98     715\n",
       "Spa           float64      101     833\n",
       "VRDeck        float64       80     796\n",
       "Name           object       94    4176"
      ]
     },
     "execution_count": 5,
     "metadata": {},
     "output_type": "execute_result"
    }
   ],
   "source": [
    "eda(test)"
   ]
  },
  {
   "cell_type": "code",
   "execution_count": 6,
   "id": "585d17c2",
   "metadata": {
    "execution": {
     "iopub.execute_input": "2022-04-04T23:38:39.298148Z",
     "iopub.status.busy": "2022-04-04T23:38:39.297487Z",
     "iopub.status.idle": "2022-04-04T23:38:39.320793Z",
     "shell.execute_reply": "2022-04-04T23:38:39.321452Z",
     "shell.execute_reply.started": "2022-04-04T23:26:14.933784Z"
    },
    "papermill": {
     "duration": 0.062509,
     "end_time": "2022-04-04T23:38:39.321644",
     "exception": false,
     "start_time": "2022-04-04T23:38:39.259135",
     "status": "completed"
    },
    "tags": []
   },
   "outputs": [
    {
     "data": {
      "text/plain": [
       "0"
      ]
     },
     "execution_count": 6,
     "metadata": {},
     "output_type": "execute_result"
    }
   ],
   "source": [
    "train.duplicated().sum()"
   ]
  },
  {
   "cell_type": "markdown",
   "id": "d5d613ba",
   "metadata": {
    "papermill": {
     "duration": 0.034615,
     "end_time": "2022-04-04T23:38:39.391199",
     "exception": false,
     "start_time": "2022-04-04T23:38:39.356584",
     "status": "completed"
    },
    "tags": []
   },
   "source": [
    "## Target"
   ]
  },
  {
   "cell_type": "code",
   "execution_count": 7,
   "id": "1761665a",
   "metadata": {
    "execution": {
     "iopub.execute_input": "2022-04-04T23:38:39.464762Z",
     "iopub.status.busy": "2022-04-04T23:38:39.464096Z",
     "iopub.status.idle": "2022-04-04T23:38:39.471612Z",
     "shell.execute_reply": "2022-04-04T23:38:39.472188Z",
     "shell.execute_reply.started": "2022-04-04T23:26:14.955420Z"
    },
    "papermill": {
     "duration": 0.046345,
     "end_time": "2022-04-04T23:38:39.472361",
     "exception": false,
     "start_time": "2022-04-04T23:38:39.426016",
     "status": "completed"
    },
    "tags": []
   },
   "outputs": [
    {
     "data": {
      "text/plain": [
       "True     4378\n",
       "False    4315\n",
       "Name: Transported, dtype: int64"
      ]
     },
     "execution_count": 7,
     "metadata": {},
     "output_type": "execute_result"
    }
   ],
   "source": [
    "train['Transported'].value_counts()"
   ]
  },
  {
   "cell_type": "code",
   "execution_count": 8,
   "id": "7945cecc",
   "metadata": {
    "execution": {
     "iopub.execute_input": "2022-04-04T23:38:39.546959Z",
     "iopub.status.busy": "2022-04-04T23:38:39.546279Z",
     "iopub.status.idle": "2022-04-04T23:38:39.561858Z",
     "shell.execute_reply": "2022-04-04T23:38:39.562464Z",
     "shell.execute_reply.started": "2022-04-04T23:26:14.965723Z"
    },
    "papermill": {
     "duration": 0.055068,
     "end_time": "2022-04-04T23:38:39.562659",
     "exception": false,
     "start_time": "2022-04-04T23:38:39.507591",
     "status": "completed"
    },
    "tags": []
   },
   "outputs": [
    {
     "data": {
      "text/plain": [
       "Earth     4602\n",
       "Europa    2131\n",
       "Mars      1759\n",
       "Name: HomePlanet, dtype: int64"
      ]
     },
     "execution_count": 8,
     "metadata": {},
     "output_type": "execute_result"
    }
   ],
   "source": [
    "train.select_dtypes(include = 'object').columns\n",
    "\n",
    "\n",
    "train['HomePlanet'].value_counts()"
   ]
  },
  {
   "cell_type": "code",
   "execution_count": 9,
   "id": "d6538857",
   "metadata": {
    "execution": {
     "iopub.execute_input": "2022-04-04T23:38:39.637761Z",
     "iopub.status.busy": "2022-04-04T23:38:39.637138Z",
     "iopub.status.idle": "2022-04-04T23:38:39.645721Z",
     "shell.execute_reply": "2022-04-04T23:38:39.646316Z",
     "shell.execute_reply.started": "2022-04-04T23:26:14.990178Z"
    },
    "papermill": {
     "duration": 0.048193,
     "end_time": "2022-04-04T23:38:39.646480",
     "exception": false,
     "start_time": "2022-04-04T23:38:39.598287",
     "status": "completed"
    },
    "tags": []
   },
   "outputs": [
    {
     "data": {
      "text/plain": [
       "False    5439\n",
       "True     3037\n",
       "Name: CryoSleep, dtype: int64"
      ]
     },
     "execution_count": 9,
     "metadata": {},
     "output_type": "execute_result"
    }
   ],
   "source": [
    "train['CryoSleep'].value_counts()"
   ]
  },
  {
   "cell_type": "code",
   "execution_count": 10,
   "id": "72e0d179",
   "metadata": {
    "execution": {
     "iopub.execute_input": "2022-04-04T23:38:39.722347Z",
     "iopub.status.busy": "2022-04-04T23:38:39.721704Z",
     "iopub.status.idle": "2022-04-04T23:38:39.730385Z",
     "shell.execute_reply": "2022-04-04T23:38:39.730935Z",
     "shell.execute_reply.started": "2022-04-04T23:26:15.005487Z"
    },
    "papermill": {
     "duration": 0.048679,
     "end_time": "2022-04-04T23:38:39.731105",
     "exception": false,
     "start_time": "2022-04-04T23:38:39.682426",
     "status": "completed"
    },
    "tags": []
   },
   "outputs": [
    {
     "data": {
      "text/plain": [
       "TRAPPIST-1e      5915\n",
       "55 Cancri e      1800\n",
       "PSO J318.5-22     796\n",
       "Name: Destination, dtype: int64"
      ]
     },
     "execution_count": 10,
     "metadata": {},
     "output_type": "execute_result"
    }
   ],
   "source": [
    "train['Destination'].value_counts()"
   ]
  },
  {
   "cell_type": "code",
   "execution_count": 11,
   "id": "af7ebdaf",
   "metadata": {
    "execution": {
     "iopub.execute_input": "2022-04-04T23:38:39.807741Z",
     "iopub.status.busy": "2022-04-04T23:38:39.807076Z",
     "iopub.status.idle": "2022-04-04T23:38:39.814586Z",
     "shell.execute_reply": "2022-04-04T23:38:39.815149Z",
     "shell.execute_reply.started": "2022-04-04T23:26:15.018083Z"
    },
    "papermill": {
     "duration": 0.047634,
     "end_time": "2022-04-04T23:38:39.815315",
     "exception": false,
     "start_time": "2022-04-04T23:38:39.767681",
     "status": "completed"
    },
    "tags": []
   },
   "outputs": [
    {
     "data": {
      "text/plain": [
       "False    8291\n",
       "True      199\n",
       "Name: VIP, dtype: int64"
      ]
     },
     "execution_count": 11,
     "metadata": {},
     "output_type": "execute_result"
    }
   ],
   "source": [
    "train['VIP'].value_counts()"
   ]
  },
  {
   "cell_type": "code",
   "execution_count": 12,
   "id": "6d200b76",
   "metadata": {
    "execution": {
     "iopub.execute_input": "2022-04-04T23:38:39.892575Z",
     "iopub.status.busy": "2022-04-04T23:38:39.891890Z",
     "iopub.status.idle": "2022-04-04T23:38:41.177471Z",
     "shell.execute_reply": "2022-04-04T23:38:41.178172Z",
     "shell.execute_reply.started": "2022-04-04T23:26:15.029842Z"
    },
    "papermill": {
     "duration": 1.32627,
     "end_time": "2022-04-04T23:38:41.178362",
     "exception": false,
     "start_time": "2022-04-04T23:38:39.852092",
     "status": "completed"
    },
    "tags": []
   },
   "outputs": [
    {
     "data": {
      "image/png": "[encoded data removed]",
      "text/plain": [
       "<Figure size 720x576 with 6 Axes>"
      ]
     },
     "metadata": {
      "needs_background": "light"
     },
     "output_type": "display_data"
    }
   ],
   "source": [
    "train.hist(bins = 50, figsize = (10,8))\n",
    "plt.show()"
   ]
  },
  {
   "cell_type": "code",
   "execution_count": 13,
   "id": "adf7368d",
   "metadata": {
    "execution": {
     "iopub.execute_input": "2022-04-04T23:38:41.257892Z",
     "iopub.status.busy": "2022-04-04T23:38:41.257221Z",
     "iopub.status.idle": "2022-04-04T23:38:41.286791Z",
     "shell.execute_reply": "2022-04-04T23:38:41.287300Z",
     "shell.execute_reply.started": "2022-04-04T23:26:16.190091Z"
    },
    "papermill": {
     "duration": 0.070801,
     "end_time": "2022-04-04T23:38:41.287476",
     "exception": false,
     "start_time": "2022-04-04T23:38:41.216675",
     "status": "completed"
    },
    "tags": []
   },
   "outputs": [
    {
     "data": {
      "text/html": [
       "<div>\n",
       "<style scoped>\n",
       "    .dataframe tbody tr th:only-of-type {\n",
       "        vertical-align: middle;\n",
       "    }\n",
       "\n",
       "    .dataframe tbody tr th {\n",
       "        vertical-align: top;\n",
       "    }\n",
       "\n",
       "    .dataframe thead th {\n",
       "        text-align: right;\n",
       "    }\n",
       "</style>\n",
       "<table border=\"1\" class=\"dataframe\">\n",
       "  <thead>\n",
       "    <tr style=\"text-align: right;\">\n",
       "      <th></th>\n",
       "      <th>Age</th>\n",
       "      <th>RoomService</th>\n",
       "      <th>FoodCourt</th>\n",
       "      <th>ShoppingMall</th>\n",
       "      <th>Spa</th>\n",
       "      <th>VRDeck</th>\n",
       "    </tr>\n",
       "  </thead>\n",
       "  <tbody>\n",
       "    <tr>\n",
       "      <th>count</th>\n",
       "      <td>8514.000000</td>\n",
       "      <td>8512.000000</td>\n",
       "      <td>8510.000000</td>\n",
       "      <td>8485.000000</td>\n",
       "      <td>8510.000000</td>\n",
       "      <td>8505.000000</td>\n",
       "    </tr>\n",
       "    <tr>\n",
       "      <th>mean</th>\n",
       "      <td>28.827930</td>\n",
       "      <td>224.687617</td>\n",
       "      <td>458.077203</td>\n",
       "      <td>173.729169</td>\n",
       "      <td>311.138778</td>\n",
       "      <td>304.854791</td>\n",
       "    </tr>\n",
       "    <tr>\n",
       "      <th>std</th>\n",
       "      <td>14.489021</td>\n",
       "      <td>666.717663</td>\n",
       "      <td>1611.489240</td>\n",
       "      <td>604.696458</td>\n",
       "      <td>1136.705535</td>\n",
       "      <td>1145.717189</td>\n",
       "    </tr>\n",
       "    <tr>\n",
       "      <th>min</th>\n",
       "      <td>0.000000</td>\n",
       "      <td>0.000000</td>\n",
       "      <td>0.000000</td>\n",
       "      <td>0.000000</td>\n",
       "      <td>0.000000</td>\n",
       "      <td>0.000000</td>\n",
       "    </tr>\n",
       "    <tr>\n",
       "      <th>25%</th>\n",
       "      <td>19.000000</td>\n",
       "      <td>0.000000</td>\n",
       "      <td>0.000000</td>\n",
       "      <td>0.000000</td>\n",
       "      <td>0.000000</td>\n",
       "      <td>0.000000</td>\n",
       "    </tr>\n",
       "    <tr>\n",
       "      <th>50%</th>\n",
       "      <td>27.000000</td>\n",
       "      <td>0.000000</td>\n",
       "      <td>0.000000</td>\n",
       "      <td>0.000000</td>\n",
       "      <td>0.000000</td>\n",
       "      <td>0.000000</td>\n",
       "    </tr>\n",
       "    <tr>\n",
       "      <th>75%</th>\n",
       "      <td>38.000000</td>\n",
       "      <td>47.000000</td>\n",
       "      <td>76.000000</td>\n",
       "      <td>27.000000</td>\n",
       "      <td>59.000000</td>\n",
       "      <td>46.000000</td>\n",
       "    </tr>\n",
       "    <tr>\n",
       "      <th>max</th>\n",
       "      <td>79.000000</td>\n",
       "      <td>14327.000000</td>\n",
       "      <td>29813.000000</td>\n",
       "      <td>23492.000000</td>\n",
       "      <td>22408.000000</td>\n",
       "      <td>24133.000000</td>\n",
       "    </tr>\n",
       "  </tbody>\n",
       "</table>\n",
       "</div>"
      ],
      "text/plain": [
       "               Age   RoomService     FoodCourt  ShoppingMall           Spa  \\\n",
       "count  8514.000000   8512.000000   8510.000000   8485.000000   8510.000000   \n",
       "mean     28.827930    224.687617    458.077203    173.729169    311.138778   \n",
       "std      14.489021    666.717663   1611.489240    604.696458   1136.705535   \n",
       "min       0.000000      0.000000      0.000000      0.000000      0.000000   \n",
       "25%      19.000000      0.000000      0.000000      0.000000      0.000000   \n",
       "50%      27.000000      0.000000      0.000000      0.000000      0.000000   \n",
       "75%      38.000000     47.000000     76.000000     27.000000     59.000000   \n",
       "max      79.000000  14327.000000  29813.000000  23492.000000  22408.000000   \n",
       "\n",
       "             VRDeck  \n",
       "count   8505.000000  \n",
       "mean     304.854791  \n",
       "std     1145.717189  \n",
       "min        0.000000  \n",
       "25%        0.000000  \n",
       "50%        0.000000  \n",
       "75%       46.000000  \n",
       "max    24133.000000  "
      ]
     },
     "execution_count": 13,
     "metadata": {},
     "output_type": "execute_result"
    }
   ],
   "source": [
    "train.describe()"
   ]
  },
  {
   "cell_type": "code",
   "execution_count": 14,
   "id": "150f9323",
   "metadata": {
    "execution": {
     "iopub.execute_input": "2022-04-04T23:38:41.369201Z",
     "iopub.status.busy": "2022-04-04T23:38:41.368568Z",
     "iopub.status.idle": "2022-04-04T23:38:41.371460Z",
     "shell.execute_reply": "2022-04-04T23:38:41.371969Z",
     "shell.execute_reply.started": "2022-04-04T23:26:16.231989Z"
    },
    "papermill": {
     "duration": 0.04529,
     "end_time": "2022-04-04T23:38:41.372147",
     "exception": false,
     "start_time": "2022-04-04T23:38:41.326857",
     "status": "completed"
    },
    "tags": []
   },
   "outputs": [],
   "source": [
    "#train[train.Spa > 10000]"
   ]
  },
  {
   "cell_type": "code",
   "execution_count": 15,
   "id": "26b5bac7",
   "metadata": {
    "execution": {
     "iopub.execute_input": "2022-04-04T23:38:41.453730Z",
     "iopub.status.busy": "2022-04-04T23:38:41.453073Z",
     "iopub.status.idle": "2022-04-04T23:38:41.753962Z",
     "shell.execute_reply": "2022-04-04T23:38:41.753256Z",
     "shell.execute_reply.started": "2022-04-04T23:26:16.238163Z"
    },
    "papermill": {
     "duration": 0.342752,
     "end_time": "2022-04-04T23:38:41.754123",
     "exception": false,
     "start_time": "2022-04-04T23:38:41.411371",
     "status": "completed"
    },
    "tags": []
   },
   "outputs": [
    {
     "data": {
      "image/png": "[encoded data removed]",
      "text/plain": [
       "<Figure size 432x288 with 2 Axes>"
      ]
     },
     "metadata": {
      "needs_background": "light"
     },
     "output_type": "display_data"
    }
   ],
   "source": [
    "sns.heatmap(train.corr(), cmap = 'coolwarm')\n",
    "plt.show()"
   ]
  },
  {
   "cell_type": "code",
   "execution_count": 16,
   "id": "391271eb",
   "metadata": {
    "execution": {
     "iopub.execute_input": "2022-04-04T23:38:41.840397Z",
     "iopub.status.busy": "2022-04-04T23:38:41.839714Z",
     "iopub.status.idle": "2022-04-04T23:38:41.850347Z",
     "shell.execute_reply": "2022-04-04T23:38:41.849824Z",
     "shell.execute_reply.started": "2022-04-04T23:26:16.535448Z"
    },
    "papermill": {
     "duration": 0.056158,
     "end_time": "2022-04-04T23:38:41.850488",
     "exception": false,
     "start_time": "2022-04-04T23:38:41.794330",
     "status": "completed"
    },
    "tags": []
   },
   "outputs": [
    {
     "data": {
      "text/html": [
       "<div>\n",
       "<style scoped>\n",
       "    .dataframe tbody tr th:only-of-type {\n",
       "        vertical-align: middle;\n",
       "    }\n",
       "\n",
       "    .dataframe tbody tr th {\n",
       "        vertical-align: top;\n",
       "    }\n",
       "\n",
       "    .dataframe thead th {\n",
       "        text-align: right;\n",
       "    }\n",
       "</style>\n",
       "<table border=\"1\" class=\"dataframe\">\n",
       "  <thead>\n",
       "    <tr style=\"text-align: right;\">\n",
       "      <th></th>\n",
       "      <th>index</th>\n",
       "      <th>Transported</th>\n",
       "    </tr>\n",
       "  </thead>\n",
       "  <tbody>\n",
       "    <tr>\n",
       "      <th>0</th>\n",
       "      <td>RoomService</td>\n",
       "      <td>-0.244611</td>\n",
       "    </tr>\n",
       "    <tr>\n",
       "      <th>1</th>\n",
       "      <td>Spa</td>\n",
       "      <td>-0.221131</td>\n",
       "    </tr>\n",
       "    <tr>\n",
       "      <th>2</th>\n",
       "      <td>VRDeck</td>\n",
       "      <td>-0.207075</td>\n",
       "    </tr>\n",
       "    <tr>\n",
       "      <th>3</th>\n",
       "      <td>Age</td>\n",
       "      <td>-0.075026</td>\n",
       "    </tr>\n",
       "    <tr>\n",
       "      <th>4</th>\n",
       "      <td>ShoppingMall</td>\n",
       "      <td>0.010141</td>\n",
       "    </tr>\n",
       "    <tr>\n",
       "      <th>5</th>\n",
       "      <td>FoodCourt</td>\n",
       "      <td>0.046566</td>\n",
       "    </tr>\n",
       "    <tr>\n",
       "      <th>6</th>\n",
       "      <td>Transported</td>\n",
       "      <td>1.000000</td>\n",
       "    </tr>\n",
       "  </tbody>\n",
       "</table>\n",
       "</div>"
      ],
      "text/plain": [
       "          index  Transported\n",
       "0   RoomService    -0.244611\n",
       "1           Spa    -0.221131\n",
       "2        VRDeck    -0.207075\n",
       "3           Age    -0.075026\n",
       "4  ShoppingMall     0.010141\n",
       "5     FoodCourt     0.046566\n",
       "6   Transported     1.000000"
      ]
     },
     "execution_count": 16,
     "metadata": {},
     "output_type": "execute_result"
    }
   ],
   "source": [
    "train.corr()['Transported'].sort_values().reset_index()"
   ]
  },
  {
   "cell_type": "markdown",
   "id": "883df667",
   "metadata": {
    "papermill": {
     "duration": 0.040889,
     "end_time": "2022-04-04T23:38:41.931984",
     "exception": false,
     "start_time": "2022-04-04T23:38:41.891095",
     "status": "completed"
    },
    "tags": []
   },
   "source": [
    "# FE"
   ]
  },
  {
   "cell_type": "code",
   "execution_count": 17,
   "id": "9651d1ca",
   "metadata": {
    "execution": {
     "iopub.execute_input": "2022-04-04T23:38:42.017080Z",
     "iopub.status.busy": "2022-04-04T23:38:42.016419Z",
     "iopub.status.idle": "2022-04-04T23:38:42.058099Z",
     "shell.execute_reply": "2022-04-04T23:38:42.059077Z",
     "shell.execute_reply.started": "2022-04-04T23:26:16.553338Z"
    },
    "papermill": {
     "duration": 0.086673,
     "end_time": "2022-04-04T23:38:42.059413",
     "exception": false,
     "start_time": "2022-04-04T23:38:41.972740",
     "status": "completed"
    },
    "tags": []
   },
   "outputs": [
    {
     "name": "stdout",
     "output_type": "stream",
     "text": [
      "(12970, 14)\n"
     ]
    }
   ],
   "source": [
    "df = pd.concat([train, test])\n",
    "\n",
    "df['Transported'] = df['Transported'].fillna(-1).astype('int')\n",
    "df['CryoSleep'] = df['CryoSleep'].fillna(-1).astype('int')\n",
    "df['VIP'] = df['VIP'].fillna(-1).astype('int')\n",
    "\n",
    "obj_cols = ['HomePlanet',   'Destination', 'Name','Cabin']\n",
    "for c in obj_cols:\n",
    "    df[c] = df[c].fillna('None')\n",
    "\n",
    "num_cols = ['Age','RoomService', 'FoodCourt', 'ShoppingMall', 'Spa', 'VRDeck']\n",
    "for c in num_cols:\n",
    "    df[c] = df[c].fillna(df[c].median())\n",
    "    \n",
    "  \n",
    "print(df.shape)"
   ]
  },
  {
   "cell_type": "code",
   "execution_count": 18,
   "id": "62e91a8b",
   "metadata": {
    "execution": {
     "iopub.execute_input": "2022-04-04T23:38:42.146513Z",
     "iopub.status.busy": "2022-04-04T23:38:42.145853Z",
     "iopub.status.idle": "2022-04-04T23:38:42.358760Z",
     "shell.execute_reply": "2022-04-04T23:38:42.359246Z",
     "shell.execute_reply.started": "2022-04-04T23:26:16.588735Z"
    },
    "papermill": {
     "duration": 0.25766,
     "end_time": "2022-04-04T23:38:42.359426",
     "exception": false,
     "start_time": "2022-04-04T23:38:42.101766",
     "status": "completed"
    },
    "tags": []
   },
   "outputs": [
    {
     "data": {
      "text/html": [
       "<div>\n",
       "<style scoped>\n",
       "    .dataframe tbody tr th:only-of-type {\n",
       "        vertical-align: middle;\n",
       "    }\n",
       "\n",
       "    .dataframe tbody tr th {\n",
       "        vertical-align: top;\n",
       "    }\n",
       "\n",
       "    .dataframe thead th {\n",
       "        text-align: right;\n",
       "    }\n",
       "</style>\n",
       "<table border=\"1\" class=\"dataframe\">\n",
       "  <thead>\n",
       "    <tr style=\"text-align: right;\">\n",
       "      <th></th>\n",
       "      <th>PassengerId</th>\n",
       "      <th>HomePlanet</th>\n",
       "      <th>CryoSleep</th>\n",
       "      <th>Cabin</th>\n",
       "      <th>Destination</th>\n",
       "      <th>Age</th>\n",
       "      <th>VIP</th>\n",
       "      <th>RoomService</th>\n",
       "      <th>FoodCourt</th>\n",
       "      <th>ShoppingMall</th>\n",
       "      <th>Spa</th>\n",
       "      <th>VRDeck</th>\n",
       "      <th>Name</th>\n",
       "      <th>Transported</th>\n",
       "      <th>deck</th>\n",
       "      <th>num</th>\n",
       "      <th>side</th>\n",
       "      <th>deck_side</th>\n",
       "    </tr>\n",
       "  </thead>\n",
       "  <tbody>\n",
       "    <tr>\n",
       "      <th>0</th>\n",
       "      <td>0001_01</td>\n",
       "      <td>Europa</td>\n",
       "      <td>0</td>\n",
       "      <td>B/0/P</td>\n",
       "      <td>TRAPPIST-1e</td>\n",
       "      <td>39.0</td>\n",
       "      <td>0</td>\n",
       "      <td>0.0</td>\n",
       "      <td>0.0</td>\n",
       "      <td>0.0</td>\n",
       "      <td>0.0</td>\n",
       "      <td>0.0</td>\n",
       "      <td>Maham Ofracculy</td>\n",
       "      <td>0</td>\n",
       "      <td>B</td>\n",
       "      <td>0</td>\n",
       "      <td>P</td>\n",
       "      <td>B_P</td>\n",
       "    </tr>\n",
       "    <tr>\n",
       "      <th>1</th>\n",
       "      <td>0002_01</td>\n",
       "      <td>Earth</td>\n",
       "      <td>0</td>\n",
       "      <td>F/0/S</td>\n",
       "      <td>TRAPPIST-1e</td>\n",
       "      <td>24.0</td>\n",
       "      <td>0</td>\n",
       "      <td>109.0</td>\n",
       "      <td>9.0</td>\n",
       "      <td>25.0</td>\n",
       "      <td>549.0</td>\n",
       "      <td>44.0</td>\n",
       "      <td>Juanna Vines</td>\n",
       "      <td>1</td>\n",
       "      <td>F</td>\n",
       "      <td>0</td>\n",
       "      <td>S</td>\n",
       "      <td>F_S</td>\n",
       "    </tr>\n",
       "    <tr>\n",
       "      <th>2</th>\n",
       "      <td>0003_01</td>\n",
       "      <td>Europa</td>\n",
       "      <td>0</td>\n",
       "      <td>A/0/S</td>\n",
       "      <td>TRAPPIST-1e</td>\n",
       "      <td>58.0</td>\n",
       "      <td>1</td>\n",
       "      <td>43.0</td>\n",
       "      <td>3576.0</td>\n",
       "      <td>0.0</td>\n",
       "      <td>6715.0</td>\n",
       "      <td>49.0</td>\n",
       "      <td>Altark Susent</td>\n",
       "      <td>0</td>\n",
       "      <td>A</td>\n",
       "      <td>0</td>\n",
       "      <td>S</td>\n",
       "      <td>A_S</td>\n",
       "    </tr>\n",
       "    <tr>\n",
       "      <th>3</th>\n",
       "      <td>0003_02</td>\n",
       "      <td>Europa</td>\n",
       "      <td>0</td>\n",
       "      <td>A/0/S</td>\n",
       "      <td>TRAPPIST-1e</td>\n",
       "      <td>33.0</td>\n",
       "      <td>0</td>\n",
       "      <td>0.0</td>\n",
       "      <td>1283.0</td>\n",
       "      <td>371.0</td>\n",
       "      <td>3329.0</td>\n",
       "      <td>193.0</td>\n",
       "      <td>Solam Susent</td>\n",
       "      <td>0</td>\n",
       "      <td>A</td>\n",
       "      <td>0</td>\n",
       "      <td>S</td>\n",
       "      <td>A_S</td>\n",
       "    </tr>\n",
       "    <tr>\n",
       "      <th>4</th>\n",
       "      <td>0004_01</td>\n",
       "      <td>Earth</td>\n",
       "      <td>0</td>\n",
       "      <td>F/1/S</td>\n",
       "      <td>TRAPPIST-1e</td>\n",
       "      <td>16.0</td>\n",
       "      <td>0</td>\n",
       "      <td>303.0</td>\n",
       "      <td>70.0</td>\n",
       "      <td>151.0</td>\n",
       "      <td>565.0</td>\n",
       "      <td>2.0</td>\n",
       "      <td>Willy Santantines</td>\n",
       "      <td>1</td>\n",
       "      <td>F</td>\n",
       "      <td>1</td>\n",
       "      <td>S</td>\n",
       "      <td>F_S</td>\n",
       "    </tr>\n",
       "  </tbody>\n",
       "</table>\n",
       "</div>"
      ],
      "text/plain": [
       "  PassengerId HomePlanet  CryoSleep  Cabin  Destination   Age  VIP  \\\n",
       "0     0001_01     Europa          0  B/0/P  TRAPPIST-1e  39.0    0   \n",
       "1     0002_01      Earth          0  F/0/S  TRAPPIST-1e  24.0    0   \n",
       "2     0003_01     Europa          0  A/0/S  TRAPPIST-1e  58.0    1   \n",
       "3     0003_02     Europa          0  A/0/S  TRAPPIST-1e  33.0    0   \n",
       "4     0004_01      Earth          0  F/1/S  TRAPPIST-1e  16.0    0   \n",
       "\n",
       "   RoomService  FoodCourt  ShoppingMall     Spa  VRDeck               Name  \\\n",
       "0          0.0        0.0           0.0     0.0     0.0    Maham Ofracculy   \n",
       "1        109.0        9.0          25.0   549.0    44.0       Juanna Vines   \n",
       "2         43.0     3576.0           0.0  6715.0    49.0      Altark Susent   \n",
       "3          0.0     1283.0         371.0  3329.0   193.0       Solam Susent   \n",
       "4        303.0       70.0         151.0   565.0     2.0  Willy Santantines   \n",
       "\n",
       "   Transported deck  num side deck_side  \n",
       "0            0    B    0    P       B_P  \n",
       "1            1    F    0    S       F_S  \n",
       "2            0    A    0    S       A_S  \n",
       "3            0    A    0    S       A_S  \n",
       "4            1    F    1    S       F_S  "
      ]
     },
     "execution_count": 18,
     "metadata": {},
     "output_type": "execute_result"
    }
   ],
   "source": [
    "df['deck'] = df['Cabin'].astype(str).apply(lambda x: x.split('/')[0])\n",
    "df['num'] = df['Cabin'].astype(str).apply(lambda x: int(x.split('/')[1]) if x != 'None' else -1)\n",
    "df['side'] = df['Cabin'].astype(str).apply(lambda x: x.split('/')[-1])\n",
    "\n",
    "#df['total_spent'] = df[['RoomService', 'FoodCourt', 'ShoppingMall', 'Spa', 'VRDeck']].sum(axis = 1)\n",
    "#df['Age'] = pd.cut(df['Age'], 8)\n",
    "\n",
    "df['deck_side'] = df['deck'].astype(str) + '_' + df['side'].astype(str)\n",
    "df.head()"
   ]
  },
  {
   "cell_type": "markdown",
   "id": "1d00ab30",
   "metadata": {
    "papermill": {
     "duration": 0.041296,
     "end_time": "2022-04-04T23:38:42.442951",
     "exception": false,
     "start_time": "2022-04-04T23:38:42.401655",
     "status": "completed"
    },
    "tags": []
   },
   "source": [
    "# Pre-processing"
   ]
  },
  {
   "cell_type": "code",
   "execution_count": 19,
   "id": "8ba01895",
   "metadata": {
    "execution": {
     "iopub.execute_input": "2022-04-04T23:38:42.529883Z",
     "iopub.status.busy": "2022-04-04T23:38:42.529180Z",
     "iopub.status.idle": "2022-04-04T23:38:42.720251Z",
     "shell.execute_reply": "2022-04-04T23:38:42.720726Z",
     "shell.execute_reply.started": "2022-04-04T23:26:16.841024Z"
    },
    "papermill": {
     "duration": 0.236487,
     "end_time": "2022-04-04T23:38:42.720913",
     "exception": false,
     "start_time": "2022-04-04T23:38:42.484426",
     "status": "completed"
    },
    "tags": []
   },
   "outputs": [
    {
     "data": {
      "text/html": [
       "<div>\n",
       "<style scoped>\n",
       "    .dataframe tbody tr th:only-of-type {\n",
       "        vertical-align: middle;\n",
       "    }\n",
       "\n",
       "    .dataframe tbody tr th {\n",
       "        vertical-align: top;\n",
       "    }\n",
       "\n",
       "    .dataframe thead th {\n",
       "        text-align: right;\n",
       "    }\n",
       "</style>\n",
       "<table border=\"1\" class=\"dataframe\">\n",
       "  <thead>\n",
       "    <tr style=\"text-align: right;\">\n",
       "      <th></th>\n",
       "      <th>PassengerId</th>\n",
       "      <th>HomePlanet</th>\n",
       "      <th>CryoSleep</th>\n",
       "      <th>Cabin</th>\n",
       "      <th>Destination</th>\n",
       "      <th>Age</th>\n",
       "      <th>VIP</th>\n",
       "      <th>RoomService</th>\n",
       "      <th>FoodCourt</th>\n",
       "      <th>ShoppingMall</th>\n",
       "      <th>Spa</th>\n",
       "      <th>VRDeck</th>\n",
       "      <th>Name</th>\n",
       "      <th>Transported</th>\n",
       "      <th>deck</th>\n",
       "      <th>num</th>\n",
       "      <th>side</th>\n",
       "      <th>deck_side</th>\n",
       "    </tr>\n",
       "  </thead>\n",
       "  <tbody>\n",
       "    <tr>\n",
       "      <th>0</th>\n",
       "      <td>0001_01</td>\n",
       "      <td>1</td>\n",
       "      <td>0</td>\n",
       "      <td>B/0/P</td>\n",
       "      <td>3</td>\n",
       "      <td>39</td>\n",
       "      <td>0</td>\n",
       "      <td>0.0</td>\n",
       "      <td>0.0</td>\n",
       "      <td>0.0</td>\n",
       "      <td>0.0</td>\n",
       "      <td>0.0</td>\n",
       "      <td>Maham Ofracculy</td>\n",
       "      <td>0</td>\n",
       "      <td>1</td>\n",
       "      <td>0</td>\n",
       "      <td>1</td>\n",
       "      <td>2</td>\n",
       "    </tr>\n",
       "    <tr>\n",
       "      <th>1</th>\n",
       "      <td>0002_01</td>\n",
       "      <td>0</td>\n",
       "      <td>0</td>\n",
       "      <td>F/0/S</td>\n",
       "      <td>3</td>\n",
       "      <td>24</td>\n",
       "      <td>0</td>\n",
       "      <td>109.0</td>\n",
       "      <td>9.0</td>\n",
       "      <td>25.0</td>\n",
       "      <td>549.0</td>\n",
       "      <td>44.0</td>\n",
       "      <td>Juanna Vines</td>\n",
       "      <td>1</td>\n",
       "      <td>5</td>\n",
       "      <td>0</td>\n",
       "      <td>2</td>\n",
       "      <td>11</td>\n",
       "    </tr>\n",
       "    <tr>\n",
       "      <th>2</th>\n",
       "      <td>0003_01</td>\n",
       "      <td>1</td>\n",
       "      <td>0</td>\n",
       "      <td>A/0/S</td>\n",
       "      <td>3</td>\n",
       "      <td>58</td>\n",
       "      <td>1</td>\n",
       "      <td>43.0</td>\n",
       "      <td>3576.0</td>\n",
       "      <td>0.0</td>\n",
       "      <td>6715.0</td>\n",
       "      <td>49.0</td>\n",
       "      <td>Altark Susent</td>\n",
       "      <td>0</td>\n",
       "      <td>0</td>\n",
       "      <td>0</td>\n",
       "      <td>2</td>\n",
       "      <td>1</td>\n",
       "    </tr>\n",
       "    <tr>\n",
       "      <th>3</th>\n",
       "      <td>0003_02</td>\n",
       "      <td>1</td>\n",
       "      <td>0</td>\n",
       "      <td>A/0/S</td>\n",
       "      <td>3</td>\n",
       "      <td>33</td>\n",
       "      <td>0</td>\n",
       "      <td>0.0</td>\n",
       "      <td>1283.0</td>\n",
       "      <td>371.0</td>\n",
       "      <td>3329.0</td>\n",
       "      <td>193.0</td>\n",
       "      <td>Solam Susent</td>\n",
       "      <td>0</td>\n",
       "      <td>0</td>\n",
       "      <td>0</td>\n",
       "      <td>2</td>\n",
       "      <td>1</td>\n",
       "    </tr>\n",
       "    <tr>\n",
       "      <th>4</th>\n",
       "      <td>0004_01</td>\n",
       "      <td>0</td>\n",
       "      <td>0</td>\n",
       "      <td>F/1/S</td>\n",
       "      <td>3</td>\n",
       "      <td>16</td>\n",
       "      <td>0</td>\n",
       "      <td>303.0</td>\n",
       "      <td>70.0</td>\n",
       "      <td>151.0</td>\n",
       "      <td>565.0</td>\n",
       "      <td>2.0</td>\n",
       "      <td>Willy Santantines</td>\n",
       "      <td>1</td>\n",
       "      <td>5</td>\n",
       "      <td>1</td>\n",
       "      <td>2</td>\n",
       "      <td>11</td>\n",
       "    </tr>\n",
       "  </tbody>\n",
       "</table>\n",
       "</div>"
      ],
      "text/plain": [
       "  PassengerId  HomePlanet  CryoSleep  Cabin  Destination  Age  VIP  \\\n",
       "0     0001_01           1          0  B/0/P            3   39    0   \n",
       "1     0002_01           0          0  F/0/S            3   24    0   \n",
       "2     0003_01           1          0  A/0/S            3   58    1   \n",
       "3     0003_02           1          0  A/0/S            3   33    0   \n",
       "4     0004_01           0          0  F/1/S            3   16    0   \n",
       "\n",
       "   RoomService  FoodCourt  ShoppingMall     Spa  VRDeck               Name  \\\n",
       "0          0.0        0.0           0.0     0.0     0.0    Maham Ofracculy   \n",
       "1        109.0        9.0          25.0   549.0    44.0       Juanna Vines   \n",
       "2         43.0     3576.0           0.0  6715.0    49.0      Altark Susent   \n",
       "3          0.0     1283.0         371.0  3329.0   193.0       Solam Susent   \n",
       "4        303.0       70.0         151.0   565.0     2.0  Willy Santantines   \n",
       "\n",
       "   Transported  deck  num  side  deck_side  \n",
       "0            0     1    0     1          2  \n",
       "1            1     5    0     2         11  \n",
       "2            0     0    0     2          1  \n",
       "3            0     0    0     2          1  \n",
       "4            1     5    1     2         11  "
      ]
     },
     "execution_count": 19,
     "metadata": {},
     "output_type": "execute_result"
    }
   ],
   "source": [
    "from sklearn.preprocessing import LabelEncoder, StandardScaler\n",
    "le = LabelEncoder()\n",
    "\n",
    "for c in ['deck','side','Destination','HomePlanet','Age', 'deck_side']:\n",
    "    df[c] = le.fit_transform(df[c])\n",
    "\n",
    "df.head()    "
   ]
  },
  {
   "cell_type": "code",
   "execution_count": 20,
   "id": "70c1b94d",
   "metadata": {
    "execution": {
     "iopub.execute_input": "2022-04-04T23:38:42.810224Z",
     "iopub.status.busy": "2022-04-04T23:38:42.809242Z",
     "iopub.status.idle": "2022-04-04T23:38:42.818051Z",
     "shell.execute_reply": "2022-04-04T23:38:42.818633Z",
     "shell.execute_reply.started": "2022-04-04T23:26:17.033934Z"
    },
    "papermill": {
     "duration": 0.054851,
     "end_time": "2022-04-04T23:38:42.818804",
     "exception": false,
     "start_time": "2022-04-04T23:38:42.763953",
     "status": "completed"
    },
    "tags": []
   },
   "outputs": [
    {
     "data": {
      "text/plain": [
       "True     144\n",
       "False     34\n",
       "Name: Transported, dtype: int64"
      ]
     },
     "execution_count": 20,
     "metadata": {},
     "output_type": "execute_result"
    }
   ],
   "source": [
    "train[train.Age < 1]['Transported'].value_counts()"
   ]
  },
  {
   "cell_type": "code",
   "execution_count": 21,
   "id": "63279231",
   "metadata": {
    "execution": {
     "iopub.execute_input": "2022-04-04T23:38:42.907974Z",
     "iopub.status.busy": "2022-04-04T23:38:42.907004Z",
     "iopub.status.idle": "2022-04-04T23:38:42.922038Z",
     "shell.execute_reply": "2022-04-04T23:38:42.922611Z",
     "shell.execute_reply.started": "2022-04-04T23:26:17.047377Z"
    },
    "papermill": {
     "duration": 0.061225,
     "end_time": "2022-04-04T23:38:42.922783",
     "exception": false,
     "start_time": "2022-04-04T23:38:42.861558",
     "status": "completed"
    },
    "tags": []
   },
   "outputs": [
    {
     "name": "stdout",
     "output_type": "stream",
     "text": [
      "(8693, 14)\n",
      "(4277, 14)\n"
     ]
    }
   ],
   "source": [
    "train = df[:len(train)]\n",
    "test = df[-len(test):]\n",
    "\n",
    "X_train = train.drop(['PassengerId','Cabin','Name','Transported'], axis = 1)\n",
    "y_train = train.Transported\n",
    "\n",
    "X_test = test.drop(['PassengerId','Cabin','Name','Transported'], axis = 1)\n",
    "\n",
    "print(X_train.shape)\n",
    "print(X_test.shape)"
   ]
  },
  {
   "cell_type": "code",
   "execution_count": 22,
   "id": "0abc8916",
   "metadata": {
    "execution": {
     "iopub.execute_input": "2022-04-04T23:38:43.021448Z",
     "iopub.status.busy": "2022-04-04T23:38:43.020353Z",
     "iopub.status.idle": "2022-04-04T23:38:43.031116Z",
     "shell.execute_reply": "2022-04-04T23:38:43.031751Z",
     "shell.execute_reply.started": "2022-04-04T23:26:17.066914Z"
    },
    "papermill": {
     "duration": 0.066063,
     "end_time": "2022-04-04T23:38:43.031936",
     "exception": false,
     "start_time": "2022-04-04T23:38:42.965873",
     "status": "completed"
    },
    "tags": []
   },
   "outputs": [
    {
     "data": {
      "text/html": [
       "<div>\n",
       "<style scoped>\n",
       "    .dataframe tbody tr th:only-of-type {\n",
       "        vertical-align: middle;\n",
       "    }\n",
       "\n",
       "    .dataframe tbody tr th {\n",
       "        vertical-align: top;\n",
       "    }\n",
       "\n",
       "    .dataframe thead th {\n",
       "        text-align: right;\n",
       "    }\n",
       "</style>\n",
       "<table border=\"1\" class=\"dataframe\">\n",
       "  <thead>\n",
       "    <tr style=\"text-align: right;\">\n",
       "      <th></th>\n",
       "      <th>HomePlanet</th>\n",
       "      <th>CryoSleep</th>\n",
       "      <th>Destination</th>\n",
       "      <th>Age</th>\n",
       "      <th>VIP</th>\n",
       "      <th>RoomService</th>\n",
       "      <th>FoodCourt</th>\n",
       "      <th>ShoppingMall</th>\n",
       "      <th>Spa</th>\n",
       "      <th>VRDeck</th>\n",
       "      <th>deck</th>\n",
       "      <th>num</th>\n",
       "      <th>side</th>\n",
       "      <th>deck_side</th>\n",
       "    </tr>\n",
       "  </thead>\n",
       "  <tbody>\n",
       "    <tr>\n",
       "      <th>0</th>\n",
       "      <td>1</td>\n",
       "      <td>0</td>\n",
       "      <td>3</td>\n",
       "      <td>39</td>\n",
       "      <td>0</td>\n",
       "      <td>0.0</td>\n",
       "      <td>0.0</td>\n",
       "      <td>0.0</td>\n",
       "      <td>0.0</td>\n",
       "      <td>0.0</td>\n",
       "      <td>1</td>\n",
       "      <td>0</td>\n",
       "      <td>1</td>\n",
       "      <td>2</td>\n",
       "    </tr>\n",
       "    <tr>\n",
       "      <th>1</th>\n",
       "      <td>0</td>\n",
       "      <td>0</td>\n",
       "      <td>3</td>\n",
       "      <td>24</td>\n",
       "      <td>0</td>\n",
       "      <td>109.0</td>\n",
       "      <td>9.0</td>\n",
       "      <td>25.0</td>\n",
       "      <td>549.0</td>\n",
       "      <td>44.0</td>\n",
       "      <td>5</td>\n",
       "      <td>0</td>\n",
       "      <td>2</td>\n",
       "      <td>11</td>\n",
       "    </tr>\n",
       "    <tr>\n",
       "      <th>2</th>\n",
       "      <td>1</td>\n",
       "      <td>0</td>\n",
       "      <td>3</td>\n",
       "      <td>58</td>\n",
       "      <td>1</td>\n",
       "      <td>43.0</td>\n",
       "      <td>3576.0</td>\n",
       "      <td>0.0</td>\n",
       "      <td>6715.0</td>\n",
       "      <td>49.0</td>\n",
       "      <td>0</td>\n",
       "      <td>0</td>\n",
       "      <td>2</td>\n",
       "      <td>1</td>\n",
       "    </tr>\n",
       "    <tr>\n",
       "      <th>3</th>\n",
       "      <td>1</td>\n",
       "      <td>0</td>\n",
       "      <td>3</td>\n",
       "      <td>33</td>\n",
       "      <td>0</td>\n",
       "      <td>0.0</td>\n",
       "      <td>1283.0</td>\n",
       "      <td>371.0</td>\n",
       "      <td>3329.0</td>\n",
       "      <td>193.0</td>\n",
       "      <td>0</td>\n",
       "      <td>0</td>\n",
       "      <td>2</td>\n",
       "      <td>1</td>\n",
       "    </tr>\n",
       "    <tr>\n",
       "      <th>4</th>\n",
       "      <td>0</td>\n",
       "      <td>0</td>\n",
       "      <td>3</td>\n",
       "      <td>16</td>\n",
       "      <td>0</td>\n",
       "      <td>303.0</td>\n",
       "      <td>70.0</td>\n",
       "      <td>151.0</td>\n",
       "      <td>565.0</td>\n",
       "      <td>2.0</td>\n",
       "      <td>5</td>\n",
       "      <td>1</td>\n",
       "      <td>2</td>\n",
       "      <td>11</td>\n",
       "    </tr>\n",
       "  </tbody>\n",
       "</table>\n",
       "</div>"
      ],
      "text/plain": [
       "   HomePlanet  CryoSleep  Destination  Age  VIP  RoomService  FoodCourt  \\\n",
       "0           1          0            3   39    0          0.0        0.0   \n",
       "1           0          0            3   24    0        109.0        9.0   \n",
       "2           1          0            3   58    1         43.0     3576.0   \n",
       "3           1          0            3   33    0          0.0     1283.0   \n",
       "4           0          0            3   16    0        303.0       70.0   \n",
       "\n",
       "   ShoppingMall     Spa  VRDeck  deck  num  side  deck_side  \n",
       "0           0.0     0.0     0.0     1    0     1          2  \n",
       "1          25.0   549.0    44.0     5    0     2         11  \n",
       "2           0.0  6715.0    49.0     0    0     2          1  \n",
       "3         371.0  3329.0   193.0     0    0     2          1  \n",
       "4         151.0   565.0     2.0     5    1     2         11  "
      ]
     },
     "execution_count": 22,
     "metadata": {},
     "output_type": "execute_result"
    }
   ],
   "source": [
    "X_train.head()"
   ]
  },
  {
   "cell_type": "markdown",
   "id": "9954713b",
   "metadata": {
    "papermill": {
     "duration": 0.043695,
     "end_time": "2022-04-04T23:38:43.120207",
     "exception": false,
     "start_time": "2022-04-04T23:38:43.076512",
     "status": "completed"
    },
    "tags": []
   },
   "source": [
    "# LGBM"
   ]
  },
  {
   "cell_type": "code",
   "execution_count": 23,
   "id": "1cb0b272",
   "metadata": {
    "execution": {
     "iopub.execute_input": "2022-04-04T23:38:43.212451Z",
     "iopub.status.busy": "2022-04-04T23:38:43.211469Z",
     "iopub.status.idle": "2022-04-04T23:38:51.426592Z",
     "shell.execute_reply": "2022-04-04T23:38:51.427281Z",
     "shell.execute_reply.started": "2022-04-04T23:37:12.874461Z"
    },
    "papermill": {
     "duration": 8.262763,
     "end_time": "2022-04-04T23:38:51.427496",
     "exception": false,
     "start_time": "2022-04-04T23:38:43.164733",
     "status": "completed"
    },
    "tags": []
   },
   "outputs": [
    {
     "data": {
      "text/html": [
       "<style type='text/css'>\n",
       ".datatable table.frame { margin-bottom: 0; }\n",
       ".datatable table.frame thead { border-bottom: none; }\n",
       ".datatable table.frame tr.coltypes td {  color: #FFFFFF;  line-height: 6px;  padding: 0 0.5em;}\n",
       ".datatable .bool    { background: #DDDD99; }\n",
       ".datatable .object  { background: #565656; }\n",
       ".datatable .int     { background: #5D9E5D; }\n",
       ".datatable .float   { background: #4040CC; }\n",
       ".datatable .str     { background: #CC4040; }\n",
       ".datatable .time    { background: #40CC40; }\n",
       ".datatable .row_index {  background: var(--jp-border-color3);  border-right: 1px solid var(--jp-border-color0);  color: var(--jp-ui-font-color3);  font-size: 9px;}\n",
       ".datatable .frame tbody td { text-align: left; }\n",
       ".datatable .frame tr.coltypes .row_index {  background: var(--jp-border-color0);}\n",
       ".datatable th:nth-child(2) { padding-left: 12px; }\n",
       ".datatable .hellipsis {  color: var(--jp-cell-editor-border-color);}\n",
       ".datatable .vellipsis {  background: var(--jp-layout-color0);  color: var(--jp-cell-editor-border-color);}\n",
       ".datatable .na {  color: var(--jp-cell-editor-border-color);  font-size: 80%;}\n",
       ".datatable .sp {  opacity: 0.25;}\n",
       ".datatable .footer { font-size: 9px; }\n",
       ".datatable .frame_dimensions {  background: var(--jp-border-color3);  border-top: 1px solid var(--jp-border-color0);  color: var(--jp-ui-font-color3);  display: inline-block;  opacity: 0.6;  padding: 1px 10px 1px 5px;}\n",
       "</style>\n"
      ],
      "text/plain": [
       "<IPython.core.display.HTML object>"
      ]
     },
     "metadata": {},
     "output_type": "display_data"
    },
    {
     "name": "stdout",
     "output_type": "stream",
     "text": [
      "fold  1\n",
      "****************************************\n",
      "[100]\ttraining's auc: 0.913746\ttraining's binary_logloss: 0.465255\tvalid_1's auc: 0.868272\tvalid_1's binary_logloss: 0.504099\n",
      "[200]\ttraining's auc: 0.923173\ttraining's binary_logloss: 0.392414\tvalid_1's auc: 0.873155\tvalid_1's binary_logloss: 0.454164\n",
      "[300]\ttraining's auc: 0.931465\ttraining's binary_logloss: 0.356856\tvalid_1's auc: 0.876148\tvalid_1's binary_logloss: 0.443102\n",
      "[400]\ttraining's auc: 0.938524\ttraining's binary_logloss: 0.334397\tvalid_1's auc: 0.875896\tvalid_1's binary_logloss: 0.439939\n",
      "fold  2\n",
      "****************************************\n",
      "[100]\ttraining's auc: 0.91207\ttraining's binary_logloss: 0.467711\tvalid_1's auc: 0.861845\tvalid_1's binary_logloss: 0.50805\n",
      "fold  3\n",
      "****************************************\n",
      "[100]\ttraining's auc: 0.908547\ttraining's binary_logloss: 0.470234\tvalid_1's auc: 0.87825\tvalid_1's binary_logloss: 0.48718\n",
      "[200]\ttraining's auc: 0.917912\ttraining's binary_logloss: 0.39972\tvalid_1's auc: 0.887814\tvalid_1's binary_logloss: 0.435108\n",
      "[300]\ttraining's auc: 0.926881\ttraining's binary_logloss: 0.365982\tvalid_1's auc: 0.893576\tvalid_1's binary_logloss: 0.419785\n",
      "[400]\ttraining's auc: 0.934159\ttraining's binary_logloss: 0.344067\tvalid_1's auc: 0.897211\tvalid_1's binary_logloss: 0.41559\n",
      "[500]\ttraining's auc: 0.940645\ttraining's binary_logloss: 0.327989\tvalid_1's auc: 0.898299\tvalid_1's binary_logloss: 0.417817\n",
      "fold  4\n",
      "****************************************\n",
      "[100]\ttraining's auc: 0.904147\ttraining's binary_logloss: 0.47593\tvalid_1's auc: 0.900397\tvalid_1's binary_logloss: 0.477702\n",
      "[200]\ttraining's auc: 0.914938\ttraining's binary_logloss: 0.406483\tvalid_1's auc: 0.907212\tvalid_1's binary_logloss: 0.414132\n",
      "[300]\ttraining's auc: 0.92443\ttraining's binary_logloss: 0.372527\tvalid_1's auc: 0.911753\tvalid_1's binary_logloss: 0.386564\n",
      "[400]\ttraining's auc: 0.931639\ttraining's binary_logloss: 0.350348\tvalid_1's auc: 0.914991\tvalid_1's binary_logloss: 0.374154\n",
      "[500]\ttraining's auc: 0.937719\ttraining's binary_logloss: 0.334355\tvalid_1's auc: 0.915529\tvalid_1's binary_logloss: 0.370905\n",
      "[600]\ttraining's auc: 0.942397\ttraining's binary_logloss: 0.322333\tvalid_1's auc: 0.91596\tvalid_1's binary_logloss: 0.369832\n",
      "[700]\ttraining's auc: 0.946631\ttraining's binary_logloss: 0.312121\tvalid_1's auc: 0.91611\tvalid_1's binary_logloss: 0.370557\n",
      "fold  5\n",
      "****************************************\n",
      "[100]\ttraining's auc: 0.910925\ttraining's binary_logloss: 0.47003\tvalid_1's auc: 0.884361\tvalid_1's binary_logloss: 0.48757\n",
      "[200]\ttraining's auc: 0.920858\ttraining's binary_logloss: 0.397397\tvalid_1's auc: 0.887872\tvalid_1's binary_logloss: 0.43756\n",
      "[300]\ttraining's auc: 0.929159\ttraining's binary_logloss: 0.362738\tvalid_1's auc: 0.890913\tvalid_1's binary_logloss: 0.420488\n",
      "[400]\ttraining's auc: 0.93662\ttraining's binary_logloss: 0.340472\tvalid_1's auc: 0.893465\tvalid_1's binary_logloss: 0.412726\n",
      "[500]\ttraining's auc: 0.942661\ttraining's binary_logloss: 0.324221\tvalid_1's auc: 0.893281\tvalid_1's binary_logloss: 0.413746\n",
      "OOF accuracy 0.7953525825376739\n"
     ]
    }
   ],
   "source": [
    "import lightgbm as lgb\n",
    "from sklearn.model_selection import StratifiedKFold, KFold\n",
    "from sklearn.metrics import accuracy_score\n",
    "\n",
    "oof = np.zeros(len(train))\n",
    "preds = np.zeros(len(test))\n",
    "\n",
    "skf = StratifiedKFold(n_splits = 5)\n",
    "\n",
    "for i, (idt, idv) in enumerate(skf.split(X_train, y_train, y_train)):\n",
    "    \n",
    "    x_trn, x_val = X_train.iloc[idt], X_train.iloc[idv]\n",
    "    y_trn, y_val = y_train.iloc[idt], y_train.iloc[idv]\n",
    "    \n",
    "    print('fold ', i+1)\n",
    "    print('*' * 40)\n",
    "    \n",
    "    clf = lgb.LGBMClassifier(\n",
    "    n_estimators = 1500,\n",
    "        subsample = 0.8,\n",
    "        #num_leaves = 32,\n",
    "        learning_rate = 0.01,\n",
    "        colsample_bytree = 0.8,\n",
    "        reg_alpha = 1,\n",
    "     \n",
    "       # bagging_frequency = 1,\n",
    "        #random_state = 42\n",
    "       \n",
    "        \n",
    "    )\n",
    "    \n",
    "    clf.fit(x_trn, y_trn, eval_set = [(x_trn, y_trn),(x_val, y_val)], verbose = 100,\n",
    "           early_stopping_rounds=100, eval_metric = 'auc',\n",
    "           #categorical_feature = ['VIP','deck','side','Destination','HomePlanet']\n",
    "           )\n",
    "    \n",
    "    oof[idv] = clf.predict(x_val)\n",
    "    preds += clf.predict_proba(X_test)[:,1]/skf.n_splits\n",
    "\n",
    "print('OOF accuracy', accuracy_score(y_train, oof))"
   ]
  },
  {
   "cell_type": "code",
   "execution_count": 24,
   "id": "0128fdc1",
   "metadata": {
    "execution": {
     "iopub.execute_input": "2022-04-04T23:38:51.542779Z",
     "iopub.status.busy": "2022-04-04T23:38:51.542071Z",
     "iopub.status.idle": "2022-04-04T23:38:51.906069Z",
     "shell.execute_reply": "2022-04-04T23:38:51.905364Z",
     "shell.execute_reply.started": "2022-04-04T23:28:16.583607Z"
    },
    "papermill": {
     "duration": 0.423757,
     "end_time": "2022-04-04T23:38:51.906213",
     "exception": false,
     "start_time": "2022-04-04T23:38:51.482456",
     "status": "completed"
    },
    "tags": []
   },
   "outputs": [
    {
     "data": {
      "image/png": "[encoded data removed]",
      "text/plain": [
       "<Figure size 1440x720 with 1 Axes>"
      ]
     },
     "metadata": {
      "needs_background": "light"
     },
     "output_type": "display_data"
    }
   ],
   "source": [
    "cols = list(X_train.columns)\n",
    "feature_imp = pd.DataFrame(sorted(zip(clf.feature_importances_,cols)), columns=['Value','Feature'])\n",
    "plt.figure(figsize=(20, 10))\n",
    "sns.barplot(x=\"Value\", y=\"Feature\", data=feature_imp.sort_values(by=\"Value\", ascending=False).iloc[:20])\n",
    "plt.title('XGB Most Important Features')\n",
    "plt.tight_layout()\n",
    "plt.show()"
   ]
  },
  {
   "cell_type": "code",
   "execution_count": 25,
   "id": "3450d1b0",
   "metadata": {
    "execution": {
     "iopub.execute_input": "2022-04-04T23:38:52.022451Z",
     "iopub.status.busy": "2022-04-04T23:38:52.021734Z",
     "iopub.status.idle": "2022-04-04T23:38:52.024468Z",
     "shell.execute_reply": "2022-04-04T23:38:52.024973Z",
     "shell.execute_reply.started": "2022-04-04T23:28:16.946612Z"
    },
    "papermill": {
     "duration": 0.063442,
     "end_time": "2022-04-04T23:38:52.025143",
     "exception": false,
     "start_time": "2022-04-04T23:38:51.961701",
     "status": "completed"
    },
    "tags": []
   },
   "outputs": [
    {
     "data": {
      "text/plain": [
       "array([0.54531782, 0.14152032, 0.88810939, ..., 0.86212096, 0.68075215,\n",
       "       0.61892704])"
      ]
     },
     "execution_count": 25,
     "metadata": {},
     "output_type": "execute_result"
    }
   ],
   "source": [
    "preds"
   ]
  },
  {
   "cell_type": "code",
   "execution_count": 26,
   "id": "3fd76f55",
   "metadata": {
    "execution": {
     "iopub.execute_input": "2022-04-04T23:38:52.148865Z",
     "iopub.status.busy": "2022-04-04T23:38:52.147998Z",
     "iopub.status.idle": "2022-04-04T23:38:52.152271Z",
     "shell.execute_reply": "2022-04-04T23:38:52.151583Z",
     "shell.execute_reply.started": "2022-04-04T23:28:16.958844Z"
    },
    "papermill": {
     "duration": 0.073059,
     "end_time": "2022-04-04T23:38:52.152416",
     "exception": false,
     "start_time": "2022-04-04T23:38:52.079357",
     "status": "completed"
    },
    "tags": []
   },
   "outputs": [
    {
     "data": {
      "text/html": [
       "<div>\n",
       "<style scoped>\n",
       "    .dataframe tbody tr th:only-of-type {\n",
       "        vertical-align: middle;\n",
       "    }\n",
       "\n",
       "    .dataframe tbody tr th {\n",
       "        vertical-align: top;\n",
       "    }\n",
       "\n",
       "    .dataframe thead th {\n",
       "        text-align: right;\n",
       "    }\n",
       "</style>\n",
       "<table border=\"1\" class=\"dataframe\">\n",
       "  <thead>\n",
       "    <tr style=\"text-align: right;\">\n",
       "      <th></th>\n",
       "      <th>PassengerId</th>\n",
       "      <th>Transported</th>\n",
       "    </tr>\n",
       "  </thead>\n",
       "  <tbody>\n",
       "    <tr>\n",
       "      <th>0</th>\n",
       "      <td>0013_01</td>\n",
       "      <td>True</td>\n",
       "    </tr>\n",
       "    <tr>\n",
       "      <th>1</th>\n",
       "      <td>0018_01</td>\n",
       "      <td>False</td>\n",
       "    </tr>\n",
       "    <tr>\n",
       "      <th>2</th>\n",
       "      <td>0019_01</td>\n",
       "      <td>True</td>\n",
       "    </tr>\n",
       "    <tr>\n",
       "      <th>3</th>\n",
       "      <td>0021_01</td>\n",
       "      <td>True</td>\n",
       "    </tr>\n",
       "    <tr>\n",
       "      <th>4</th>\n",
       "      <td>0023_01</td>\n",
       "      <td>True</td>\n",
       "    </tr>\n",
       "    <tr>\n",
       "      <th>...</th>\n",
       "      <td>...</td>\n",
       "      <td>...</td>\n",
       "    </tr>\n",
       "    <tr>\n",
       "      <th>4272</th>\n",
       "      <td>9266_02</td>\n",
       "      <td>True</td>\n",
       "    </tr>\n",
       "    <tr>\n",
       "      <th>4273</th>\n",
       "      <td>9269_01</td>\n",
       "      <td>False</td>\n",
       "    </tr>\n",
       "    <tr>\n",
       "      <th>4274</th>\n",
       "      <td>9271_01</td>\n",
       "      <td>True</td>\n",
       "    </tr>\n",
       "    <tr>\n",
       "      <th>4275</th>\n",
       "      <td>9273_01</td>\n",
       "      <td>True</td>\n",
       "    </tr>\n",
       "    <tr>\n",
       "      <th>4276</th>\n",
       "      <td>9277_01</td>\n",
       "      <td>True</td>\n",
       "    </tr>\n",
       "  </tbody>\n",
       "</table>\n",
       "<p>4277 rows × 2 columns</p>\n",
       "</div>"
      ],
      "text/plain": [
       "     PassengerId  Transported\n",
       "0        0013_01         True\n",
       "1        0018_01        False\n",
       "2        0019_01         True\n",
       "3        0021_01         True\n",
       "4        0023_01         True\n",
       "...          ...          ...\n",
       "4272     9266_02         True\n",
       "4273     9269_01        False\n",
       "4274     9271_01         True\n",
       "4275     9273_01         True\n",
       "4276     9277_01         True\n",
       "\n",
       "[4277 rows x 2 columns]"
      ]
     },
     "execution_count": 26,
     "metadata": {},
     "output_type": "execute_result"
    }
   ],
   "source": [
    "sub['Transported'] = [True if x>0.5 else False for x in preds]\n",
    "\n",
    "sub"
   ]
  },
  {
   "cell_type": "code",
   "execution_count": 27,
   "id": "d98c920a",
   "metadata": {
    "execution": {
     "iopub.execute_input": "2022-04-04T23:38:52.266823Z",
     "iopub.status.busy": "2022-04-04T23:38:52.265889Z",
     "iopub.status.idle": "2022-04-04T23:38:52.273871Z",
     "shell.execute_reply": "2022-04-04T23:38:52.274361Z",
     "shell.execute_reply.started": "2022-04-04T23:28:16.979743Z"
    },
    "papermill": {
     "duration": 0.066717,
     "end_time": "2022-04-04T23:38:52.274543",
     "exception": false,
     "start_time": "2022-04-04T23:38:52.207826",
     "status": "completed"
    },
    "tags": []
   },
   "outputs": [
    {
     "data": {
      "text/plain": [
       "count     4277\n",
       "unique       2\n",
       "top       True\n",
       "freq      2189\n",
       "Name: Transported, dtype: object"
      ]
     },
     "execution_count": 27,
     "metadata": {},
     "output_type": "execute_result"
    }
   ],
   "source": [
    "sub['Transported'].describe()"
   ]
  },
  {
   "cell_type": "code",
   "execution_count": 28,
   "id": "fbf5691c",
   "metadata": {
    "execution": {
     "iopub.execute_input": "2022-04-04T23:38:52.389205Z",
     "iopub.status.busy": "2022-04-04T23:38:52.388261Z",
     "iopub.status.idle": "2022-04-04T23:38:52.403455Z",
     "shell.execute_reply": "2022-04-04T23:38:52.404000Z",
     "shell.execute_reply.started": "2022-04-04T23:28:16.993526Z"
    },
    "papermill": {
     "duration": 0.074308,
     "end_time": "2022-04-04T23:38:52.404174",
     "exception": false,
     "start_time": "2022-04-04T23:38:52.329866",
     "status": "completed"
    },
    "tags": []
   },
   "outputs": [],
   "source": [
    "sub.to_csv('sub_lgb.csv', index = False)"
   ]
  }
 ],
 "metadata": {
  "kernelspec": {
   "display_name": "Python 3",
   "language": "python",
   "name": "python3"
  },
  "language_info": {
   "codemirror_mode": {
    "name": "ipython",
    "version": 3
   },
   "file_extension": ".py",
   "mimetype": "text/x-python",
   "name": "python",
   "nbconvert_exporter": "python",
   "pygments_lexer": "ipython3",
   "version": "3.7.12"
  },
  "papermill": {
   "default_parameters": {},
   "duration": 27.041585,
   "end_time": "2022-04-04T23:38:53.371827",
   "environment_variables": {},
   "exception": null,
   "input_path": "__notebook__.ipynb",
   "output_path": "__notebook__.ipynb",
   "parameters": {},
   "start_time": "2022-04-04T23:38:26.330242",
   "version": "2.3.3"
  }
 },
 "nbformat": 4,
 "nbformat_minor": 5
}
