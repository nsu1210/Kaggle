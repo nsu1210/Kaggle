{
 "cells": [
  {
   "cell_type": "code",
   "execution_count": 1,
   "id": "ededab9c",
   "metadata": {
    "execution": {
     "iopub.execute_input": "2022-03-31T07:10:08.488857Z",
     "iopub.status.busy": "2022-03-31T07:10:08.488294Z",
     "iopub.status.idle": "2022-03-31T07:10:09.465343Z",
     "shell.execute_reply": "2022-03-31T07:10:09.464608Z",
     "shell.execute_reply.started": "2022-03-31T07:03:55.026437Z"
    },
    "papermill": {
     "duration": 1.010828,
     "end_time": "2022-03-31T07:10:09.465516",
     "exception": false,
     "start_time": "2022-03-31T07:10:08.454688",
     "status": "completed"
    },
    "tags": []
   },
   "outputs": [],
   "source": [
    "import numpy as np\n",
    "import pandas as pd\n",
    "import os\n",
    "import gc\n",
    "import matplotlib.pyplot as plt\n",
    "import seaborn as sns\n",
    "import warnings \n",
    "warnings.filterwarnings('ignore')"
   ]
  },
  {
   "cell_type": "markdown",
   "id": "51b69f5d",
   "metadata": {
    "papermill": {
     "duration": 0.023981,
     "end_time": "2022-03-31T07:10:09.514359",
     "exception": false,
     "start_time": "2022-03-31T07:10:09.490378",
     "status": "completed"
    },
    "tags": []
   },
   "source": [
    "In this competition your task is to predict whether a passenger was transported to an alternate dimension during the Spaceship Titanic's collision with the spacetime anomaly. To help you make these predictions, you're given a set of personal records recovered from the ship's damaged computer system."
   ]
  },
  {
   "cell_type": "markdown",
   "id": "a98129a6",
   "metadata": {
    "papermill": {
     "duration": 0.023531,
     "end_time": "2022-03-31T07:10:09.562352",
     "exception": false,
     "start_time": "2022-03-31T07:10:09.538821",
     "status": "completed"
    },
    "tags": []
   },
   "source": [
    "# File and Data Field Descriptions\n",
    "* train.csv - Personal records for about two-thirds (~8700) of the passengers, to be used as training data.\n",
    "* PassengerId - A unique Id for each passenger. Each Id takes the form gggg_pp where gggg indicates a group the passenger is travelling with and pp is their number within the group. People in a group are often family members, but not always.\n",
    "* HomePlanet - The planet the passenger departed from, typically their planet of permanent residence.\n",
    "* CryoSleep - Indicates whether the passenger elected to be put into suspended animation for the duration of the voyage. Passengers in cryosleep are confined to their cabins.\n",
    "* Cabin - The cabin number where the passenger is staying. Takes the form deck/num/side, where side can be either P for Port or S for Starboard.\n",
    "* Destination - The planet the passenger will be debarking to.\n",
    "* Age - The age of the passenger.\n",
    "* VIP - Whether the passenger has paid for special VIP service during the voyage.\n",
    "* RoomService, FoodCourt, ShoppingMall, Spa, VRDeck - Amount the passenger has billed at each of the Spaceship Titanic's many luxury amenities.\n",
    "* Name - The first and last names of the passenger.\n",
    "* Transported - Whether the passenger was transported to another dimension. This is the target, the column you are trying to predict."
   ]
  },
  {
   "cell_type": "code",
   "execution_count": 2,
   "id": "eb7998bd",
   "metadata": {
    "execution": {
     "iopub.execute_input": "2022-03-31T07:10:09.631410Z",
     "iopub.status.busy": "2022-03-31T07:10:09.630517Z",
     "iopub.status.idle": "2022-03-31T07:10:09.718796Z",
     "shell.execute_reply": "2022-03-31T07:10:09.719446Z",
     "shell.execute_reply.started": "2022-03-31T07:03:56.119001Z"
    },
    "papermill": {
     "duration": 0.1254,
     "end_time": "2022-03-31T07:10:09.719615",
     "exception": false,
     "start_time": "2022-03-31T07:10:09.594215",
     "status": "completed"
    },
    "tags": []
   },
   "outputs": [
    {
     "name": "stdout",
     "output_type": "stream",
     "text": [
      "(8693, 14)\n",
      "(4277, 13)\n"
     ]
    }
   ],
   "source": [
    "train = pd.read_csv('../input/spaceship-titanic/train.csv')\n",
    "test = pd.read_csv('../input/spaceship-titanic/test.csv')\n",
    "sub = pd.read_csv('../input/spaceship-titanic/sample_submission.csv')\n",
    "print(train.shape)\n",
    "print(test.shape)"
   ]
  },
  {
   "cell_type": "code",
   "execution_count": 3,
   "id": "e4787a85",
   "metadata": {
    "execution": {
     "iopub.execute_input": "2022-03-31T07:10:09.781691Z",
     "iopub.status.busy": "2022-03-31T07:10:09.781134Z",
     "iopub.status.idle": "2022-03-31T07:10:09.806584Z",
     "shell.execute_reply": "2022-03-31T07:10:09.807103Z",
     "shell.execute_reply.started": "2022-03-31T07:03:56.210839Z"
    },
    "papermill": {
     "duration": 0.060914,
     "end_time": "2022-03-31T07:10:09.807303",
     "exception": false,
     "start_time": "2022-03-31T07:10:09.746389",
     "status": "completed"
    },
    "tags": []
   },
   "outputs": [
    {
     "data": {
      "text/html": [
       "<div>\n",
       "<style scoped>\n",
       "    .dataframe tbody tr th:only-of-type {\n",
       "        vertical-align: middle;\n",
       "    }\n",
       "\n",
       "    .dataframe tbody tr th {\n",
       "        vertical-align: top;\n",
       "    }\n",
       "\n",
       "    .dataframe thead th {\n",
       "        text-align: right;\n",
       "    }\n",
       "</style>\n",
       "<table border=\"1\" class=\"dataframe\">\n",
       "  <thead>\n",
       "    <tr style=\"text-align: right;\">\n",
       "      <th></th>\n",
       "      <th>PassengerId</th>\n",
       "      <th>HomePlanet</th>\n",
       "      <th>CryoSleep</th>\n",
       "      <th>Cabin</th>\n",
       "      <th>Destination</th>\n",
       "      <th>Age</th>\n",
       "      <th>VIP</th>\n",
       "      <th>RoomService</th>\n",
       "      <th>FoodCourt</th>\n",
       "      <th>ShoppingMall</th>\n",
       "      <th>Spa</th>\n",
       "      <th>VRDeck</th>\n",
       "      <th>Name</th>\n",
       "      <th>Transported</th>\n",
       "    </tr>\n",
       "  </thead>\n",
       "  <tbody>\n",
       "    <tr>\n",
       "      <th>0</th>\n",
       "      <td>0001_01</td>\n",
       "      <td>Europa</td>\n",
       "      <td>False</td>\n",
       "      <td>B/0/P</td>\n",
       "      <td>TRAPPIST-1e</td>\n",
       "      <td>39.0</td>\n",
       "      <td>False</td>\n",
       "      <td>0.0</td>\n",
       "      <td>0.0</td>\n",
       "      <td>0.0</td>\n",
       "      <td>0.0</td>\n",
       "      <td>0.0</td>\n",
       "      <td>Maham Ofracculy</td>\n",
       "      <td>False</td>\n",
       "    </tr>\n",
       "    <tr>\n",
       "      <th>1</th>\n",
       "      <td>0002_01</td>\n",
       "      <td>Earth</td>\n",
       "      <td>False</td>\n",
       "      <td>F/0/S</td>\n",
       "      <td>TRAPPIST-1e</td>\n",
       "      <td>24.0</td>\n",
       "      <td>False</td>\n",
       "      <td>109.0</td>\n",
       "      <td>9.0</td>\n",
       "      <td>25.0</td>\n",
       "      <td>549.0</td>\n",
       "      <td>44.0</td>\n",
       "      <td>Juanna Vines</td>\n",
       "      <td>True</td>\n",
       "    </tr>\n",
       "    <tr>\n",
       "      <th>2</th>\n",
       "      <td>0003_01</td>\n",
       "      <td>Europa</td>\n",
       "      <td>False</td>\n",
       "      <td>A/0/S</td>\n",
       "      <td>TRAPPIST-1e</td>\n",
       "      <td>58.0</td>\n",
       "      <td>True</td>\n",
       "      <td>43.0</td>\n",
       "      <td>3576.0</td>\n",
       "      <td>0.0</td>\n",
       "      <td>6715.0</td>\n",
       "      <td>49.0</td>\n",
       "      <td>Altark Susent</td>\n",
       "      <td>False</td>\n",
       "    </tr>\n",
       "    <tr>\n",
       "      <th>3</th>\n",
       "      <td>0003_02</td>\n",
       "      <td>Europa</td>\n",
       "      <td>False</td>\n",
       "      <td>A/0/S</td>\n",
       "      <td>TRAPPIST-1e</td>\n",
       "      <td>33.0</td>\n",
       "      <td>False</td>\n",
       "      <td>0.0</td>\n",
       "      <td>1283.0</td>\n",
       "      <td>371.0</td>\n",
       "      <td>3329.0</td>\n",
       "      <td>193.0</td>\n",
       "      <td>Solam Susent</td>\n",
       "      <td>False</td>\n",
       "    </tr>\n",
       "    <tr>\n",
       "      <th>4</th>\n",
       "      <td>0004_01</td>\n",
       "      <td>Earth</td>\n",
       "      <td>False</td>\n",
       "      <td>F/1/S</td>\n",
       "      <td>TRAPPIST-1e</td>\n",
       "      <td>16.0</td>\n",
       "      <td>False</td>\n",
       "      <td>303.0</td>\n",
       "      <td>70.0</td>\n",
       "      <td>151.0</td>\n",
       "      <td>565.0</td>\n",
       "      <td>2.0</td>\n",
       "      <td>Willy Santantines</td>\n",
       "      <td>True</td>\n",
       "    </tr>\n",
       "  </tbody>\n",
       "</table>\n",
       "</div>"
      ],
      "text/plain": [
       "  PassengerId HomePlanet CryoSleep  Cabin  Destination   Age    VIP  \\\n",
       "0     0001_01     Europa     False  B/0/P  TRAPPIST-1e  39.0  False   \n",
       "1     0002_01      Earth     False  F/0/S  TRAPPIST-1e  24.0  False   \n",
       "2     0003_01     Europa     False  A/0/S  TRAPPIST-1e  58.0   True   \n",
       "3     0003_02     Europa     False  A/0/S  TRAPPIST-1e  33.0  False   \n",
       "4     0004_01      Earth     False  F/1/S  TRAPPIST-1e  16.0  False   \n",
       "\n",
       "   RoomService  FoodCourt  ShoppingMall     Spa  VRDeck               Name  \\\n",
       "0          0.0        0.0           0.0     0.0     0.0    Maham Ofracculy   \n",
       "1        109.0        9.0          25.0   549.0    44.0       Juanna Vines   \n",
       "2         43.0     3576.0           0.0  6715.0    49.0      Altark Susent   \n",
       "3          0.0     1283.0         371.0  3329.0   193.0       Solam Susent   \n",
       "4        303.0       70.0         151.0   565.0     2.0  Willy Santantines   \n",
       "\n",
       "   Transported  \n",
       "0        False  \n",
       "1         True  \n",
       "2        False  \n",
       "3        False  \n",
       "4         True  "
      ]
     },
     "execution_count": 3,
     "metadata": {},
     "output_type": "execute_result"
    }
   ],
   "source": [
    "train.head()"
   ]
  },
  {
   "cell_type": "markdown",
   "id": "563237f9",
   "metadata": {
    "papermill": {
     "duration": 0.027151,
     "end_time": "2022-03-31T07:10:09.860405",
     "exception": false,
     "start_time": "2022-03-31T07:10:09.833254",
     "status": "completed"
    },
    "tags": []
   },
   "source": [
    "# EDA"
   ]
  },
  {
   "cell_type": "code",
   "execution_count": 4,
   "id": "6f63b344",
   "metadata": {
    "execution": {
     "iopub.execute_input": "2022-03-31T07:10:09.915641Z",
     "iopub.status.busy": "2022-03-31T07:10:09.914632Z",
     "iopub.status.idle": "2022-03-31T07:10:09.949145Z",
     "shell.execute_reply": "2022-03-31T07:10:09.949590Z",
     "shell.execute_reply.started": "2022-03-31T07:03:56.246802Z"
    },
    "papermill": {
     "duration": 0.063628,
     "end_time": "2022-03-31T07:10:09.949751",
     "exception": false,
     "start_time": "2022-03-31T07:10:09.886123",
     "status": "completed"
    },
    "tags": []
   },
   "outputs": [
    {
     "data": {
      "text/html": [
       "<div>\n",
       "<style scoped>\n",
       "    .dataframe tbody tr th:only-of-type {\n",
       "        vertical-align: middle;\n",
       "    }\n",
       "\n",
       "    .dataframe tbody tr th {\n",
       "        vertical-align: top;\n",
       "    }\n",
       "\n",
       "    .dataframe thead th {\n",
       "        text-align: right;\n",
       "    }\n",
       "</style>\n",
       "<table border=\"1\" class=\"dataframe\">\n",
       "  <thead>\n",
       "    <tr style=\"text-align: right;\">\n",
       "      <th></th>\n",
       "      <th>dtypes</th>\n",
       "      <th>missing</th>\n",
       "      <th>nlevel</th>\n",
       "    </tr>\n",
       "  </thead>\n",
       "  <tbody>\n",
       "    <tr>\n",
       "      <th>PassengerId</th>\n",
       "      <td>object</td>\n",
       "      <td>0</td>\n",
       "      <td>8693</td>\n",
       "    </tr>\n",
       "    <tr>\n",
       "      <th>HomePlanet</th>\n",
       "      <td>object</td>\n",
       "      <td>201</td>\n",
       "      <td>3</td>\n",
       "    </tr>\n",
       "    <tr>\n",
       "      <th>CryoSleep</th>\n",
       "      <td>object</td>\n",
       "      <td>217</td>\n",
       "      <td>2</td>\n",
       "    </tr>\n",
       "    <tr>\n",
       "      <th>Cabin</th>\n",
       "      <td>object</td>\n",
       "      <td>199</td>\n",
       "      <td>6560</td>\n",
       "    </tr>\n",
       "    <tr>\n",
       "      <th>Destination</th>\n",
       "      <td>object</td>\n",
       "      <td>182</td>\n",
       "      <td>3</td>\n",
       "    </tr>\n",
       "    <tr>\n",
       "      <th>Age</th>\n",
       "      <td>float64</td>\n",
       "      <td>179</td>\n",
       "      <td>80</td>\n",
       "    </tr>\n",
       "    <tr>\n",
       "      <th>VIP</th>\n",
       "      <td>object</td>\n",
       "      <td>203</td>\n",
       "      <td>2</td>\n",
       "    </tr>\n",
       "    <tr>\n",
       "      <th>RoomService</th>\n",
       "      <td>float64</td>\n",
       "      <td>181</td>\n",
       "      <td>1273</td>\n",
       "    </tr>\n",
       "    <tr>\n",
       "      <th>FoodCourt</th>\n",
       "      <td>float64</td>\n",
       "      <td>183</td>\n",
       "      <td>1507</td>\n",
       "    </tr>\n",
       "    <tr>\n",
       "      <th>ShoppingMall</th>\n",
       "      <td>float64</td>\n",
       "      <td>208</td>\n",
       "      <td>1115</td>\n",
       "    </tr>\n",
       "    <tr>\n",
       "      <th>Spa</th>\n",
       "      <td>float64</td>\n",
       "      <td>183</td>\n",
       "      <td>1327</td>\n",
       "    </tr>\n",
       "    <tr>\n",
       "      <th>VRDeck</th>\n",
       "      <td>float64</td>\n",
       "      <td>188</td>\n",
       "      <td>1306</td>\n",
       "    </tr>\n",
       "    <tr>\n",
       "      <th>Name</th>\n",
       "      <td>object</td>\n",
       "      <td>200</td>\n",
       "      <td>8473</td>\n",
       "    </tr>\n",
       "    <tr>\n",
       "      <th>Transported</th>\n",
       "      <td>bool</td>\n",
       "      <td>0</td>\n",
       "      <td>2</td>\n",
       "    </tr>\n",
       "  </tbody>\n",
       "</table>\n",
       "</div>"
      ],
      "text/plain": [
       "               dtypes  missing  nlevel\n",
       "PassengerId    object        0    8693\n",
       "HomePlanet     object      201       3\n",
       "CryoSleep      object      217       2\n",
       "Cabin          object      199    6560\n",
       "Destination    object      182       3\n",
       "Age           float64      179      80\n",
       "VIP            object      203       2\n",
       "RoomService   float64      181    1273\n",
       "FoodCourt     float64      183    1507\n",
       "ShoppingMall  float64      208    1115\n",
       "Spa           float64      183    1327\n",
       "VRDeck        float64      188    1306\n",
       "Name           object      200    8473\n",
       "Transported      bool        0       2"
      ]
     },
     "execution_count": 4,
     "metadata": {},
     "output_type": "execute_result"
    }
   ],
   "source": [
    "def eda(df):\n",
    "    summary = pd.DataFrame()\n",
    "    summary['dtypes'] = df.dtypes\n",
    "    summary['missing'] = df.isnull().sum()\n",
    "    summary['nlevel'] = df.nunique()\n",
    "    return summary\n",
    "\n",
    "eda(train)"
   ]
  },
  {
   "cell_type": "code",
   "execution_count": 5,
   "id": "5f8a6301",
   "metadata": {
    "execution": {
     "iopub.execute_input": "2022-03-31T07:10:10.008679Z",
     "iopub.status.busy": "2022-03-31T07:10:10.007760Z",
     "iopub.status.idle": "2022-03-31T07:10:10.025080Z",
     "shell.execute_reply": "2022-03-31T07:10:10.025513Z",
     "shell.execute_reply.started": "2022-03-31T07:03:56.294644Z"
    },
    "papermill": {
     "duration": 0.049968,
     "end_time": "2022-03-31T07:10:10.025681",
     "exception": false,
     "start_time": "2022-03-31T07:10:09.975713",
     "status": "completed"
    },
    "tags": []
   },
   "outputs": [
    {
     "data": {
      "text/html": [
       "<div>\n",
       "<style scoped>\n",
       "    .dataframe tbody tr th:only-of-type {\n",
       "        vertical-align: middle;\n",
       "    }\n",
       "\n",
       "    .dataframe tbody tr th {\n",
       "        vertical-align: top;\n",
       "    }\n",
       "\n",
       "    .dataframe thead th {\n",
       "        text-align: right;\n",
       "    }\n",
       "</style>\n",
       "<table border=\"1\" class=\"dataframe\">\n",
       "  <thead>\n",
       "    <tr style=\"text-align: right;\">\n",
       "      <th></th>\n",
       "      <th>dtypes</th>\n",
       "      <th>missing</th>\n",
       "      <th>nlevel</th>\n",
       "    </tr>\n",
       "  </thead>\n",
       "  <tbody>\n",
       "    <tr>\n",
       "      <th>PassengerId</th>\n",
       "      <td>object</td>\n",
       "      <td>0</td>\n",
       "      <td>4277</td>\n",
       "    </tr>\n",
       "    <tr>\n",
       "      <th>HomePlanet</th>\n",
       "      <td>object</td>\n",
       "      <td>87</td>\n",
       "      <td>3</td>\n",
       "    </tr>\n",
       "    <tr>\n",
       "      <th>CryoSleep</th>\n",
       "      <td>object</td>\n",
       "      <td>93</td>\n",
       "      <td>2</td>\n",
       "    </tr>\n",
       "    <tr>\n",
       "      <th>Cabin</th>\n",
       "      <td>object</td>\n",
       "      <td>100</td>\n",
       "      <td>3265</td>\n",
       "    </tr>\n",
       "    <tr>\n",
       "      <th>Destination</th>\n",
       "      <td>object</td>\n",
       "      <td>92</td>\n",
       "      <td>3</td>\n",
       "    </tr>\n",
       "    <tr>\n",
       "      <th>Age</th>\n",
       "      <td>float64</td>\n",
       "      <td>91</td>\n",
       "      <td>79</td>\n",
       "    </tr>\n",
       "    <tr>\n",
       "      <th>VIP</th>\n",
       "      <td>object</td>\n",
       "      <td>93</td>\n",
       "      <td>2</td>\n",
       "    </tr>\n",
       "    <tr>\n",
       "      <th>RoomService</th>\n",
       "      <td>float64</td>\n",
       "      <td>82</td>\n",
       "      <td>842</td>\n",
       "    </tr>\n",
       "    <tr>\n",
       "      <th>FoodCourt</th>\n",
       "      <td>float64</td>\n",
       "      <td>106</td>\n",
       "      <td>902</td>\n",
       "    </tr>\n",
       "    <tr>\n",
       "      <th>ShoppingMall</th>\n",
       "      <td>float64</td>\n",
       "      <td>98</td>\n",
       "      <td>715</td>\n",
       "    </tr>\n",
       "    <tr>\n",
       "      <th>Spa</th>\n",
       "      <td>float64</td>\n",
       "      <td>101</td>\n",
       "      <td>833</td>\n",
       "    </tr>\n",
       "    <tr>\n",
       "      <th>VRDeck</th>\n",
       "      <td>float64</td>\n",
       "      <td>80</td>\n",
       "      <td>796</td>\n",
       "    </tr>\n",
       "    <tr>\n",
       "      <th>Name</th>\n",
       "      <td>object</td>\n",
       "      <td>94</td>\n",
       "      <td>4176</td>\n",
       "    </tr>\n",
       "  </tbody>\n",
       "</table>\n",
       "</div>"
      ],
      "text/plain": [
       "               dtypes  missing  nlevel\n",
       "PassengerId    object        0    4277\n",
       "HomePlanet     object       87       3\n",
       "CryoSleep      object       93       2\n",
       "Cabin          object      100    3265\n",
       "Destination    object       92       3\n",
       "Age           float64       91      79\n",
       "VIP            object       93       2\n",
       "RoomService   float64       82     842\n",
       "FoodCourt     float64      106     902\n",
       "ShoppingMall  float64       98     715\n",
       "Spa           float64      101     833\n",
       "VRDeck        float64       80     796\n",
       "Name           object       94    4176"
      ]
     },
     "execution_count": 5,
     "metadata": {},
     "output_type": "execute_result"
    }
   ],
   "source": [
    "eda(test)"
   ]
  },
  {
   "cell_type": "code",
   "execution_count": 6,
   "id": "7797c90e",
   "metadata": {
    "execution": {
     "iopub.execute_input": "2022-03-31T07:10:10.083726Z",
     "iopub.status.busy": "2022-03-31T07:10:10.082817Z",
     "iopub.status.idle": "2022-03-31T07:10:10.098415Z",
     "shell.execute_reply": "2022-03-31T07:10:10.097925Z",
     "shell.execute_reply.started": "2022-03-31T07:03:56.320467Z"
    },
    "papermill": {
     "duration": 0.046726,
     "end_time": "2022-03-31T07:10:10.098540",
     "exception": false,
     "start_time": "2022-03-31T07:10:10.051814",
     "status": "completed"
    },
    "tags": []
   },
   "outputs": [
    {
     "data": {
      "text/plain": [
       "0"
      ]
     },
     "execution_count": 6,
     "metadata": {},
     "output_type": "execute_result"
    }
   ],
   "source": [
    "train.duplicated().sum()"
   ]
  },
  {
   "cell_type": "markdown",
   "id": "7e65d109",
   "metadata": {
    "papermill": {
     "duration": 0.025815,
     "end_time": "2022-03-31T07:10:10.150792",
     "exception": false,
     "start_time": "2022-03-31T07:10:10.124977",
     "status": "completed"
    },
    "tags": []
   },
   "source": [
    "## Target"
   ]
  },
  {
   "cell_type": "code",
   "execution_count": 7,
   "id": "b60406c1",
   "metadata": {
    "execution": {
     "iopub.execute_input": "2022-03-31T07:10:10.211556Z",
     "iopub.status.busy": "2022-03-31T07:10:10.210787Z",
     "iopub.status.idle": "2022-03-31T07:10:10.214282Z",
     "shell.execute_reply": "2022-03-31T07:10:10.213785Z",
     "shell.execute_reply.started": "2022-03-31T07:03:56.346028Z"
    },
    "papermill": {
     "duration": 0.037081,
     "end_time": "2022-03-31T07:10:10.214427",
     "exception": false,
     "start_time": "2022-03-31T07:10:10.177346",
     "status": "completed"
    },
    "tags": []
   },
   "outputs": [
    {
     "data": {
      "text/plain": [
       "True     4378\n",
       "False    4315\n",
       "Name: Transported, dtype: int64"
      ]
     },
     "execution_count": 7,
     "metadata": {},
     "output_type": "execute_result"
    }
   ],
   "source": [
    "train['Transported'].value_counts()"
   ]
  },
  {
   "cell_type": "code",
   "execution_count": 8,
   "id": "f5e2462d",
   "metadata": {
    "execution": {
     "iopub.execute_input": "2022-03-31T07:10:10.271462Z",
     "iopub.status.busy": "2022-03-31T07:10:10.270843Z",
     "iopub.status.idle": "2022-03-31T07:10:10.281967Z",
     "shell.execute_reply": "2022-03-31T07:10:10.282358Z",
     "shell.execute_reply.started": "2022-03-31T07:03:56.356329Z"
    },
    "papermill": {
     "duration": 0.04125,
     "end_time": "2022-03-31T07:10:10.282518",
     "exception": false,
     "start_time": "2022-03-31T07:10:10.241268",
     "status": "completed"
    },
    "tags": []
   },
   "outputs": [
    {
     "data": {
      "text/plain": [
       "Earth     4602\n",
       "Europa    2131\n",
       "Mars      1759\n",
       "Name: HomePlanet, dtype: int64"
      ]
     },
     "execution_count": 8,
     "metadata": {},
     "output_type": "execute_result"
    }
   ],
   "source": [
    "train.select_dtypes(include = 'object').columns\n",
    "\n",
    "\n",
    "train['HomePlanet'].value_counts()"
   ]
  },
  {
   "cell_type": "code",
   "execution_count": 9,
   "id": "98b89ea3",
   "metadata": {
    "execution": {
     "iopub.execute_input": "2022-03-31T07:10:10.344495Z",
     "iopub.status.busy": "2022-03-31T07:10:10.340299Z",
     "iopub.status.idle": "2022-03-31T07:10:10.347317Z",
     "shell.execute_reply": "2022-03-31T07:10:10.347745Z",
     "shell.execute_reply.started": "2022-03-31T07:03:56.380638Z"
    },
    "papermill": {
     "duration": 0.037788,
     "end_time": "2022-03-31T07:10:10.347911",
     "exception": false,
     "start_time": "2022-03-31T07:10:10.310123",
     "status": "completed"
    },
    "tags": []
   },
   "outputs": [
    {
     "data": {
      "text/plain": [
       "False    5439\n",
       "True     3037\n",
       "Name: CryoSleep, dtype: int64"
      ]
     },
     "execution_count": 9,
     "metadata": {},
     "output_type": "execute_result"
    }
   ],
   "source": [
    "train['CryoSleep'].value_counts()"
   ]
  },
  {
   "cell_type": "code",
   "execution_count": 10,
   "id": "65d7e71f",
   "metadata": {
    "execution": {
     "iopub.execute_input": "2022-03-31T07:10:10.404974Z",
     "iopub.status.busy": "2022-03-31T07:10:10.404394Z",
     "iopub.status.idle": "2022-03-31T07:10:10.410313Z",
     "shell.execute_reply": "2022-03-31T07:10:10.410731Z",
     "shell.execute_reply.started": "2022-03-31T07:03:56.392845Z"
    },
    "papermill": {
     "duration": 0.036106,
     "end_time": "2022-03-31T07:10:10.410879",
     "exception": false,
     "start_time": "2022-03-31T07:10:10.374773",
     "status": "completed"
    },
    "tags": []
   },
   "outputs": [
    {
     "data": {
      "text/plain": [
       "TRAPPIST-1e      5915\n",
       "55 Cancri e      1800\n",
       "PSO J318.5-22     796\n",
       "Name: Destination, dtype: int64"
      ]
     },
     "execution_count": 10,
     "metadata": {},
     "output_type": "execute_result"
    }
   ],
   "source": [
    "train['Destination'].value_counts()"
   ]
  },
  {
   "cell_type": "code",
   "execution_count": 11,
   "id": "0d21e0c0",
   "metadata": {
    "execution": {
     "iopub.execute_input": "2022-03-31T07:10:10.468612Z",
     "iopub.status.busy": "2022-03-31T07:10:10.468066Z",
     "iopub.status.idle": "2022-03-31T07:10:10.474154Z",
     "shell.execute_reply": "2022-03-31T07:10:10.474569Z",
     "shell.execute_reply.started": "2022-03-31T07:03:56.408105Z"
    },
    "papermill": {
     "duration": 0.036613,
     "end_time": "2022-03-31T07:10:10.474718",
     "exception": false,
     "start_time": "2022-03-31T07:10:10.438105",
     "status": "completed"
    },
    "tags": []
   },
   "outputs": [
    {
     "data": {
      "text/plain": [
       "False    8291\n",
       "True      199\n",
       "Name: VIP, dtype: int64"
      ]
     },
     "execution_count": 11,
     "metadata": {},
     "output_type": "execute_result"
    }
   ],
   "source": [
    "train['VIP'].value_counts()"
   ]
  },
  {
   "cell_type": "code",
   "execution_count": 12,
   "id": "2b77cb56",
   "metadata": {
    "execution": {
     "iopub.execute_input": "2022-03-31T07:10:10.533114Z",
     "iopub.status.busy": "2022-03-31T07:10:10.532509Z",
     "iopub.status.idle": "2022-03-31T07:10:11.548617Z",
     "shell.execute_reply": "2022-03-31T07:10:11.549066Z",
     "shell.execute_reply.started": "2022-03-31T07:03:56.417994Z"
    },
    "papermill": {
     "duration": 1.046939,
     "end_time": "2022-03-31T07:10:11.549226",
     "exception": false,
     "start_time": "2022-03-31T07:10:10.502287",
     "status": "completed"
    },
    "tags": []
   },
   "outputs": [
    {
     "data": {
      "image/png": "[encoded data removed]",
      "text/plain": [
       "<Figure size 720x576 with 6 Axes>"
      ]
     },
     "metadata": {
      "needs_background": "light"
     },
     "output_type": "display_data"
    }
   ],
   "source": [
    "train.hist(bins = 50, figsize = (10,8))\n",
    "plt.show()"
   ]
  },
  {
   "cell_type": "code",
   "execution_count": 13,
   "id": "c8ac227b",
   "metadata": {
    "execution": {
     "iopub.execute_input": "2022-03-31T07:10:11.609421Z",
     "iopub.status.busy": "2022-03-31T07:10:11.608830Z",
     "iopub.status.idle": "2022-03-31T07:10:11.636207Z",
     "shell.execute_reply": "2022-03-31T07:10:11.636719Z",
     "shell.execute_reply.started": "2022-03-31T07:03:57.689705Z"
    },
    "papermill": {
     "duration": 0.059018,
     "end_time": "2022-03-31T07:10:11.636875",
     "exception": false,
     "start_time": "2022-03-31T07:10:11.577857",
     "status": "completed"
    },
    "tags": []
   },
   "outputs": [
    {
     "data": {
      "text/html": [
       "<div>\n",
       "<style scoped>\n",
       "    .dataframe tbody tr th:only-of-type {\n",
       "        vertical-align: middle;\n",
       "    }\n",
       "\n",
       "    .dataframe tbody tr th {\n",
       "        vertical-align: top;\n",
       "    }\n",
       "\n",
       "    .dataframe thead th {\n",
       "        text-align: right;\n",
       "    }\n",
       "</style>\n",
       "<table border=\"1\" class=\"dataframe\">\n",
       "  <thead>\n",
       "    <tr style=\"text-align: right;\">\n",
       "      <th></th>\n",
       "      <th>Age</th>\n",
       "      <th>RoomService</th>\n",
       "      <th>FoodCourt</th>\n",
       "      <th>ShoppingMall</th>\n",
       "      <th>Spa</th>\n",
       "      <th>VRDeck</th>\n",
       "    </tr>\n",
       "  </thead>\n",
       "  <tbody>\n",
       "    <tr>\n",
       "      <th>count</th>\n",
       "      <td>8514.000000</td>\n",
       "      <td>8512.000000</td>\n",
       "      <td>8510.000000</td>\n",
       "      <td>8485.000000</td>\n",
       "      <td>8510.000000</td>\n",
       "      <td>8505.000000</td>\n",
       "    </tr>\n",
       "    <tr>\n",
       "      <th>mean</th>\n",
       "      <td>28.827930</td>\n",
       "      <td>224.687617</td>\n",
       "      <td>458.077203</td>\n",
       "      <td>173.729169</td>\n",
       "      <td>311.138778</td>\n",
       "      <td>304.854791</td>\n",
       "    </tr>\n",
       "    <tr>\n",
       "      <th>std</th>\n",
       "      <td>14.489021</td>\n",
       "      <td>666.717663</td>\n",
       "      <td>1611.489240</td>\n",
       "      <td>604.696458</td>\n",
       "      <td>1136.705535</td>\n",
       "      <td>1145.717189</td>\n",
       "    </tr>\n",
       "    <tr>\n",
       "      <th>min</th>\n",
       "      <td>0.000000</td>\n",
       "      <td>0.000000</td>\n",
       "      <td>0.000000</td>\n",
       "      <td>0.000000</td>\n",
       "      <td>0.000000</td>\n",
       "      <td>0.000000</td>\n",
       "    </tr>\n",
       "    <tr>\n",
       "      <th>25%</th>\n",
       "      <td>19.000000</td>\n",
       "      <td>0.000000</td>\n",
       "      <td>0.000000</td>\n",
       "      <td>0.000000</td>\n",
       "      <td>0.000000</td>\n",
       "      <td>0.000000</td>\n",
       "    </tr>\n",
       "    <tr>\n",
       "      <th>50%</th>\n",
       "      <td>27.000000</td>\n",
       "      <td>0.000000</td>\n",
       "      <td>0.000000</td>\n",
       "      <td>0.000000</td>\n",
       "      <td>0.000000</td>\n",
       "      <td>0.000000</td>\n",
       "    </tr>\n",
       "    <tr>\n",
       "      <th>75%</th>\n",
       "      <td>38.000000</td>\n",
       "      <td>47.000000</td>\n",
       "      <td>76.000000</td>\n",
       "      <td>27.000000</td>\n",
       "      <td>59.000000</td>\n",
       "      <td>46.000000</td>\n",
       "    </tr>\n",
       "    <tr>\n",
       "      <th>max</th>\n",
       "      <td>79.000000</td>\n",
       "      <td>14327.000000</td>\n",
       "      <td>29813.000000</td>\n",
       "      <td>23492.000000</td>\n",
       "      <td>22408.000000</td>\n",
       "      <td>24133.000000</td>\n",
       "    </tr>\n",
       "  </tbody>\n",
       "</table>\n",
       "</div>"
      ],
      "text/plain": [
       "               Age   RoomService     FoodCourt  ShoppingMall           Spa  \\\n",
       "count  8514.000000   8512.000000   8510.000000   8485.000000   8510.000000   \n",
       "mean     28.827930    224.687617    458.077203    173.729169    311.138778   \n",
       "std      14.489021    666.717663   1611.489240    604.696458   1136.705535   \n",
       "min       0.000000      0.000000      0.000000      0.000000      0.000000   \n",
       "25%      19.000000      0.000000      0.000000      0.000000      0.000000   \n",
       "50%      27.000000      0.000000      0.000000      0.000000      0.000000   \n",
       "75%      38.000000     47.000000     76.000000     27.000000     59.000000   \n",
       "max      79.000000  14327.000000  29813.000000  23492.000000  22408.000000   \n",
       "\n",
       "             VRDeck  \n",
       "count   8505.000000  \n",
       "mean     304.854791  \n",
       "std     1145.717189  \n",
       "min        0.000000  \n",
       "25%        0.000000  \n",
       "50%        0.000000  \n",
       "75%       46.000000  \n",
       "max    24133.000000  "
      ]
     },
     "execution_count": 13,
     "metadata": {},
     "output_type": "execute_result"
    }
   ],
   "source": [
    "train.describe()"
   ]
  },
  {
   "cell_type": "code",
   "execution_count": 14,
   "id": "0f342e03",
   "metadata": {
    "execution": {
     "iopub.execute_input": "2022-03-31T07:10:11.697484Z",
     "iopub.status.busy": "2022-03-31T07:10:11.696944Z",
     "iopub.status.idle": "2022-03-31T07:10:11.699655Z",
     "shell.execute_reply": "2022-03-31T07:10:11.700217Z",
     "shell.execute_reply.started": "2022-03-31T07:03:57.730942Z"
    },
    "papermill": {
     "duration": 0.03464,
     "end_time": "2022-03-31T07:10:11.700367",
     "exception": false,
     "start_time": "2022-03-31T07:10:11.665727",
     "status": "completed"
    },
    "tags": []
   },
   "outputs": [],
   "source": [
    "#train[train.Spa > 10000]"
   ]
  },
  {
   "cell_type": "code",
   "execution_count": 15,
   "id": "b21d615d",
   "metadata": {
    "execution": {
     "iopub.execute_input": "2022-03-31T07:10:11.761447Z",
     "iopub.status.busy": "2022-03-31T07:10:11.760861Z",
     "iopub.status.idle": "2022-03-31T07:10:12.021640Z",
     "shell.execute_reply": "2022-03-31T07:10:12.022106Z",
     "shell.execute_reply.started": "2022-03-31T07:03:57.736049Z"
    },
    "papermill": {
     "duration": 0.292711,
     "end_time": "2022-03-31T07:10:12.022268",
     "exception": false,
     "start_time": "2022-03-31T07:10:11.729557",
     "status": "completed"
    },
    "tags": []
   },
   "outputs": [
    {
     "data": {
      "image/png": "[encoded data removed]",
      "text/plain": [
       "<Figure size 432x288 with 2 Axes>"
      ]
     },
     "metadata": {
      "needs_background": "light"
     },
     "output_type": "display_data"
    }
   ],
   "source": [
    "sns.heatmap(train.corr(), cmap = 'coolwarm')\n",
    "plt.show()"
   ]
  },
  {
   "cell_type": "code",
   "execution_count": 16,
   "id": "a56c6747",
   "metadata": {
    "execution": {
     "iopub.execute_input": "2022-03-31T07:10:12.088310Z",
     "iopub.status.busy": "2022-03-31T07:10:12.087483Z",
     "iopub.status.idle": "2022-03-31T07:10:12.097515Z",
     "shell.execute_reply": "2022-03-31T07:10:12.097954Z",
     "shell.execute_reply.started": "2022-03-31T07:03:58.048807Z"
    },
    "papermill": {
     "duration": 0.04601,
     "end_time": "2022-03-31T07:10:12.098122",
     "exception": false,
     "start_time": "2022-03-31T07:10:12.052112",
     "status": "completed"
    },
    "tags": []
   },
   "outputs": [
    {
     "data": {
      "text/html": [
       "<div>\n",
       "<style scoped>\n",
       "    .dataframe tbody tr th:only-of-type {\n",
       "        vertical-align: middle;\n",
       "    }\n",
       "\n",
       "    .dataframe tbody tr th {\n",
       "        vertical-align: top;\n",
       "    }\n",
       "\n",
       "    .dataframe thead th {\n",
       "        text-align: right;\n",
       "    }\n",
       "</style>\n",
       "<table border=\"1\" class=\"dataframe\">\n",
       "  <thead>\n",
       "    <tr style=\"text-align: right;\">\n",
       "      <th></th>\n",
       "      <th>index</th>\n",
       "      <th>Transported</th>\n",
       "    </tr>\n",
       "  </thead>\n",
       "  <tbody>\n",
       "    <tr>\n",
       "      <th>0</th>\n",
       "      <td>RoomService</td>\n",
       "      <td>-0.244611</td>\n",
       "    </tr>\n",
       "    <tr>\n",
       "      <th>1</th>\n",
       "      <td>Spa</td>\n",
       "      <td>-0.221131</td>\n",
       "    </tr>\n",
       "    <tr>\n",
       "      <th>2</th>\n",
       "      <td>VRDeck</td>\n",
       "      <td>-0.207075</td>\n",
       "    </tr>\n",
       "    <tr>\n",
       "      <th>3</th>\n",
       "      <td>Age</td>\n",
       "      <td>-0.075026</td>\n",
       "    </tr>\n",
       "    <tr>\n",
       "      <th>4</th>\n",
       "      <td>ShoppingMall</td>\n",
       "      <td>0.010141</td>\n",
       "    </tr>\n",
       "    <tr>\n",
       "      <th>5</th>\n",
       "      <td>FoodCourt</td>\n",
       "      <td>0.046566</td>\n",
       "    </tr>\n",
       "    <tr>\n",
       "      <th>6</th>\n",
       "      <td>Transported</td>\n",
       "      <td>1.000000</td>\n",
       "    </tr>\n",
       "  </tbody>\n",
       "</table>\n",
       "</div>"
      ],
      "text/plain": [
       "          index  Transported\n",
       "0   RoomService    -0.244611\n",
       "1           Spa    -0.221131\n",
       "2        VRDeck    -0.207075\n",
       "3           Age    -0.075026\n",
       "4  ShoppingMall     0.010141\n",
       "5     FoodCourt     0.046566\n",
       "6   Transported     1.000000"
      ]
     },
     "execution_count": 16,
     "metadata": {},
     "output_type": "execute_result"
    }
   ],
   "source": [
    "train.corr()['Transported'].sort_values().reset_index()"
   ]
  },
  {
   "cell_type": "markdown",
   "id": "8dea0ee5",
   "metadata": {
    "papermill": {
     "duration": 0.029668,
     "end_time": "2022-03-31T07:10:12.158007",
     "exception": false,
     "start_time": "2022-03-31T07:10:12.128339",
     "status": "completed"
    },
    "tags": []
   },
   "source": [
    "# FE"
   ]
  },
  {
   "cell_type": "code",
   "execution_count": 17,
   "id": "fff185ad",
   "metadata": {
    "execution": {
     "iopub.execute_input": "2022-03-31T07:10:12.221374Z",
     "iopub.status.busy": "2022-03-31T07:10:12.220803Z",
     "iopub.status.idle": "2022-03-31T07:10:12.248143Z",
     "shell.execute_reply": "2022-03-31T07:10:12.248676Z",
     "shell.execute_reply.started": "2022-03-31T07:03:58.063844Z"
    },
    "papermill": {
     "duration": 0.060755,
     "end_time": "2022-03-31T07:10:12.248844",
     "exception": false,
     "start_time": "2022-03-31T07:10:12.188089",
     "status": "completed"
    },
    "tags": []
   },
   "outputs": [
    {
     "name": "stdout",
     "output_type": "stream",
     "text": [
      "(12970, 14)\n"
     ]
    }
   ],
   "source": [
    "df = pd.concat([train, test])\n",
    "\n",
    "df['Transported'] = df['Transported'].fillna(-1).astype('int')\n",
    "df['CryoSleep'] = df['CryoSleep'].fillna(-1).astype('int')\n",
    "df['VIP'] = df['VIP'].fillna(-1).astype('int')\n",
    "\n",
    "obj_cols = ['HomePlanet',   'Destination', 'Name','Cabin']\n",
    "for c in obj_cols:\n",
    "    df[c] = df[c].fillna('None')\n",
    "\n",
    "num_cols = ['Age','RoomService', 'FoodCourt', 'ShoppingMall', 'Spa', 'VRDeck']\n",
    "for c in num_cols:\n",
    "    df[c] = df[c].fillna(df[c].median())\n",
    "    \n",
    "  \n",
    "print(df.shape)"
   ]
  },
  {
   "cell_type": "code",
   "execution_count": 18,
   "id": "2a2d41cb",
   "metadata": {
    "execution": {
     "iopub.execute_input": "2022-03-31T07:10:12.314794Z",
     "iopub.status.busy": "2022-03-31T07:10:12.314247Z",
     "iopub.status.idle": "2022-03-31T07:10:12.354888Z",
     "shell.execute_reply": "2022-03-31T07:10:12.354334Z",
     "shell.execute_reply.started": "2022-03-31T07:03:58.106643Z"
    },
    "papermill": {
     "duration": 0.074685,
     "end_time": "2022-03-31T07:10:12.355055",
     "exception": false,
     "start_time": "2022-03-31T07:10:12.280370",
     "status": "completed"
    },
    "tags": []
   },
   "outputs": [
    {
     "data": {
      "text/html": [
       "<div>\n",
       "<style scoped>\n",
       "    .dataframe tbody tr th:only-of-type {\n",
       "        vertical-align: middle;\n",
       "    }\n",
       "\n",
       "    .dataframe tbody tr th {\n",
       "        vertical-align: top;\n",
       "    }\n",
       "\n",
       "    .dataframe thead th {\n",
       "        text-align: right;\n",
       "    }\n",
       "</style>\n",
       "<table border=\"1\" class=\"dataframe\">\n",
       "  <thead>\n",
       "    <tr style=\"text-align: right;\">\n",
       "      <th></th>\n",
       "      <th>PassengerId</th>\n",
       "      <th>HomePlanet</th>\n",
       "      <th>CryoSleep</th>\n",
       "      <th>Cabin</th>\n",
       "      <th>Destination</th>\n",
       "      <th>Age</th>\n",
       "      <th>VIP</th>\n",
       "      <th>RoomService</th>\n",
       "      <th>FoodCourt</th>\n",
       "      <th>ShoppingMall</th>\n",
       "      <th>Spa</th>\n",
       "      <th>VRDeck</th>\n",
       "      <th>Name</th>\n",
       "      <th>Transported</th>\n",
       "      <th>deck</th>\n",
       "      <th>num</th>\n",
       "      <th>side</th>\n",
       "    </tr>\n",
       "  </thead>\n",
       "  <tbody>\n",
       "    <tr>\n",
       "      <th>0</th>\n",
       "      <td>0001_01</td>\n",
       "      <td>Europa</td>\n",
       "      <td>0</td>\n",
       "      <td>B/0/P</td>\n",
       "      <td>TRAPPIST-1e</td>\n",
       "      <td>39.0</td>\n",
       "      <td>0</td>\n",
       "      <td>0.0</td>\n",
       "      <td>0.0</td>\n",
       "      <td>0.0</td>\n",
       "      <td>0.0</td>\n",
       "      <td>0.0</td>\n",
       "      <td>Maham Ofracculy</td>\n",
       "      <td>0</td>\n",
       "      <td>B</td>\n",
       "      <td>0</td>\n",
       "      <td>P</td>\n",
       "    </tr>\n",
       "    <tr>\n",
       "      <th>1</th>\n",
       "      <td>0002_01</td>\n",
       "      <td>Earth</td>\n",
       "      <td>0</td>\n",
       "      <td>F/0/S</td>\n",
       "      <td>TRAPPIST-1e</td>\n",
       "      <td>24.0</td>\n",
       "      <td>0</td>\n",
       "      <td>109.0</td>\n",
       "      <td>9.0</td>\n",
       "      <td>25.0</td>\n",
       "      <td>549.0</td>\n",
       "      <td>44.0</td>\n",
       "      <td>Juanna Vines</td>\n",
       "      <td>1</td>\n",
       "      <td>F</td>\n",
       "      <td>0</td>\n",
       "      <td>S</td>\n",
       "    </tr>\n",
       "    <tr>\n",
       "      <th>2</th>\n",
       "      <td>0003_01</td>\n",
       "      <td>Europa</td>\n",
       "      <td>0</td>\n",
       "      <td>A/0/S</td>\n",
       "      <td>TRAPPIST-1e</td>\n",
       "      <td>58.0</td>\n",
       "      <td>1</td>\n",
       "      <td>43.0</td>\n",
       "      <td>3576.0</td>\n",
       "      <td>0.0</td>\n",
       "      <td>6715.0</td>\n",
       "      <td>49.0</td>\n",
       "      <td>Altark Susent</td>\n",
       "      <td>0</td>\n",
       "      <td>A</td>\n",
       "      <td>0</td>\n",
       "      <td>S</td>\n",
       "    </tr>\n",
       "    <tr>\n",
       "      <th>3</th>\n",
       "      <td>0003_02</td>\n",
       "      <td>Europa</td>\n",
       "      <td>0</td>\n",
       "      <td>A/0/S</td>\n",
       "      <td>TRAPPIST-1e</td>\n",
       "      <td>33.0</td>\n",
       "      <td>0</td>\n",
       "      <td>0.0</td>\n",
       "      <td>1283.0</td>\n",
       "      <td>371.0</td>\n",
       "      <td>3329.0</td>\n",
       "      <td>193.0</td>\n",
       "      <td>Solam Susent</td>\n",
       "      <td>0</td>\n",
       "      <td>A</td>\n",
       "      <td>0</td>\n",
       "      <td>S</td>\n",
       "    </tr>\n",
       "    <tr>\n",
       "      <th>4</th>\n",
       "      <td>0004_01</td>\n",
       "      <td>Earth</td>\n",
       "      <td>0</td>\n",
       "      <td>F/1/S</td>\n",
       "      <td>TRAPPIST-1e</td>\n",
       "      <td>16.0</td>\n",
       "      <td>0</td>\n",
       "      <td>303.0</td>\n",
       "      <td>70.0</td>\n",
       "      <td>151.0</td>\n",
       "      <td>565.0</td>\n",
       "      <td>2.0</td>\n",
       "      <td>Willy Santantines</td>\n",
       "      <td>1</td>\n",
       "      <td>F</td>\n",
       "      <td>1</td>\n",
       "      <td>S</td>\n",
       "    </tr>\n",
       "  </tbody>\n",
       "</table>\n",
       "</div>"
      ],
      "text/plain": [
       "  PassengerId HomePlanet  CryoSleep  Cabin  Destination   Age  VIP  \\\n",
       "0     0001_01     Europa          0  B/0/P  TRAPPIST-1e  39.0    0   \n",
       "1     0002_01      Earth          0  F/0/S  TRAPPIST-1e  24.0    0   \n",
       "2     0003_01     Europa          0  A/0/S  TRAPPIST-1e  58.0    1   \n",
       "3     0003_02     Europa          0  A/0/S  TRAPPIST-1e  33.0    0   \n",
       "4     0004_01      Earth          0  F/1/S  TRAPPIST-1e  16.0    0   \n",
       "\n",
       "   RoomService  FoodCourt  ShoppingMall     Spa  VRDeck               Name  \\\n",
       "0          0.0        0.0           0.0     0.0     0.0    Maham Ofracculy   \n",
       "1        109.0        9.0          25.0   549.0    44.0       Juanna Vines   \n",
       "2         43.0     3576.0           0.0  6715.0    49.0      Altark Susent   \n",
       "3          0.0     1283.0         371.0  3329.0   193.0       Solam Susent   \n",
       "4        303.0       70.0         151.0   565.0     2.0  Willy Santantines   \n",
       "\n",
       "   Transported deck  num side  \n",
       "0            0    B    0    P  \n",
       "1            1    F    0    S  \n",
       "2            0    A    0    S  \n",
       "3            0    A    0    S  \n",
       "4            1    F    1    S  "
      ]
     },
     "execution_count": 18,
     "metadata": {},
     "output_type": "execute_result"
    }
   ],
   "source": [
    "df['deck'] = df['Cabin'].astype(str).apply(lambda x: x.split('/')[0])\n",
    "df['num'] = df['Cabin'].astype(str).apply(lambda x: int(x.split('/')[1]) if x != 'None' else -1)\n",
    "df['side'] = df['Cabin'].astype(str).apply(lambda x: x.split('/')[-1])\n",
    "\n",
    "#df['total_spent'] = df[['RoomService', 'FoodCourt', 'ShoppingMall', 'Spa', 'VRDeck']].sum(axis = 1)\n",
    "#df['Age'] = pd.cut(df['Age'], 8)\n",
    "df.head()"
   ]
  },
  {
   "cell_type": "markdown",
   "id": "965f0ce1",
   "metadata": {
    "papermill": {
     "duration": 0.031435,
     "end_time": "2022-03-31T07:10:12.417701",
     "exception": false,
     "start_time": "2022-03-31T07:10:12.386266",
     "status": "completed"
    },
    "tags": []
   },
   "source": [
    "# Pre-processing"
   ]
  },
  {
   "cell_type": "code",
   "execution_count": 19,
   "id": "f392339d",
   "metadata": {
    "execution": {
     "iopub.execute_input": "2022-03-31T07:10:12.486873Z",
     "iopub.status.busy": "2022-03-31T07:10:12.486034Z",
     "iopub.status.idle": "2022-03-31T07:10:12.767112Z",
     "shell.execute_reply": "2022-03-31T07:10:12.766515Z",
     "shell.execute_reply.started": "2022-03-31T07:03:58.296654Z"
    },
    "papermill": {
     "duration": 0.318139,
     "end_time": "2022-03-31T07:10:12.767247",
     "exception": false,
     "start_time": "2022-03-31T07:10:12.449108",
     "status": "completed"
    },
    "tags": []
   },
   "outputs": [
    {
     "data": {
      "text/html": [
       "<div>\n",
       "<style scoped>\n",
       "    .dataframe tbody tr th:only-of-type {\n",
       "        vertical-align: middle;\n",
       "    }\n",
       "\n",
       "    .dataframe tbody tr th {\n",
       "        vertical-align: top;\n",
       "    }\n",
       "\n",
       "    .dataframe thead th {\n",
       "        text-align: right;\n",
       "    }\n",
       "</style>\n",
       "<table border=\"1\" class=\"dataframe\">\n",
       "  <thead>\n",
       "    <tr style=\"text-align: right;\">\n",
       "      <th></th>\n",
       "      <th>PassengerId</th>\n",
       "      <th>HomePlanet</th>\n",
       "      <th>CryoSleep</th>\n",
       "      <th>Cabin</th>\n",
       "      <th>Destination</th>\n",
       "      <th>Age</th>\n",
       "      <th>VIP</th>\n",
       "      <th>RoomService</th>\n",
       "      <th>FoodCourt</th>\n",
       "      <th>ShoppingMall</th>\n",
       "      <th>Spa</th>\n",
       "      <th>VRDeck</th>\n",
       "      <th>Name</th>\n",
       "      <th>Transported</th>\n",
       "      <th>deck</th>\n",
       "      <th>num</th>\n",
       "      <th>side</th>\n",
       "    </tr>\n",
       "  </thead>\n",
       "  <tbody>\n",
       "    <tr>\n",
       "      <th>0</th>\n",
       "      <td>0001_01</td>\n",
       "      <td>1</td>\n",
       "      <td>0</td>\n",
       "      <td>B/0/P</td>\n",
       "      <td>3</td>\n",
       "      <td>39</td>\n",
       "      <td>0</td>\n",
       "      <td>0.0</td>\n",
       "      <td>0.0</td>\n",
       "      <td>0.0</td>\n",
       "      <td>0.0</td>\n",
       "      <td>0.0</td>\n",
       "      <td>Maham Ofracculy</td>\n",
       "      <td>0</td>\n",
       "      <td>1</td>\n",
       "      <td>0</td>\n",
       "      <td>1</td>\n",
       "    </tr>\n",
       "    <tr>\n",
       "      <th>1</th>\n",
       "      <td>0002_01</td>\n",
       "      <td>0</td>\n",
       "      <td>0</td>\n",
       "      <td>F/0/S</td>\n",
       "      <td>3</td>\n",
       "      <td>24</td>\n",
       "      <td>0</td>\n",
       "      <td>109.0</td>\n",
       "      <td>9.0</td>\n",
       "      <td>25.0</td>\n",
       "      <td>549.0</td>\n",
       "      <td>44.0</td>\n",
       "      <td>Juanna Vines</td>\n",
       "      <td>1</td>\n",
       "      <td>5</td>\n",
       "      <td>0</td>\n",
       "      <td>2</td>\n",
       "    </tr>\n",
       "    <tr>\n",
       "      <th>2</th>\n",
       "      <td>0003_01</td>\n",
       "      <td>1</td>\n",
       "      <td>0</td>\n",
       "      <td>A/0/S</td>\n",
       "      <td>3</td>\n",
       "      <td>58</td>\n",
       "      <td>1</td>\n",
       "      <td>43.0</td>\n",
       "      <td>3576.0</td>\n",
       "      <td>0.0</td>\n",
       "      <td>6715.0</td>\n",
       "      <td>49.0</td>\n",
       "      <td>Altark Susent</td>\n",
       "      <td>0</td>\n",
       "      <td>0</td>\n",
       "      <td>0</td>\n",
       "      <td>2</td>\n",
       "    </tr>\n",
       "    <tr>\n",
       "      <th>3</th>\n",
       "      <td>0003_02</td>\n",
       "      <td>1</td>\n",
       "      <td>0</td>\n",
       "      <td>A/0/S</td>\n",
       "      <td>3</td>\n",
       "      <td>33</td>\n",
       "      <td>0</td>\n",
       "      <td>0.0</td>\n",
       "      <td>1283.0</td>\n",
       "      <td>371.0</td>\n",
       "      <td>3329.0</td>\n",
       "      <td>193.0</td>\n",
       "      <td>Solam Susent</td>\n",
       "      <td>0</td>\n",
       "      <td>0</td>\n",
       "      <td>0</td>\n",
       "      <td>2</td>\n",
       "    </tr>\n",
       "    <tr>\n",
       "      <th>4</th>\n",
       "      <td>0004_01</td>\n",
       "      <td>0</td>\n",
       "      <td>0</td>\n",
       "      <td>F/1/S</td>\n",
       "      <td>3</td>\n",
       "      <td>16</td>\n",
       "      <td>0</td>\n",
       "      <td>303.0</td>\n",
       "      <td>70.0</td>\n",
       "      <td>151.0</td>\n",
       "      <td>565.0</td>\n",
       "      <td>2.0</td>\n",
       "      <td>Willy Santantines</td>\n",
       "      <td>1</td>\n",
       "      <td>5</td>\n",
       "      <td>1</td>\n",
       "      <td>2</td>\n",
       "    </tr>\n",
       "  </tbody>\n",
       "</table>\n",
       "</div>"
      ],
      "text/plain": [
       "  PassengerId  HomePlanet  CryoSleep  Cabin  Destination  Age  VIP  \\\n",
       "0     0001_01           1          0  B/0/P            3   39    0   \n",
       "1     0002_01           0          0  F/0/S            3   24    0   \n",
       "2     0003_01           1          0  A/0/S            3   58    1   \n",
       "3     0003_02           1          0  A/0/S            3   33    0   \n",
       "4     0004_01           0          0  F/1/S            3   16    0   \n",
       "\n",
       "   RoomService  FoodCourt  ShoppingMall     Spa  VRDeck               Name  \\\n",
       "0          0.0        0.0           0.0     0.0     0.0    Maham Ofracculy   \n",
       "1        109.0        9.0          25.0   549.0    44.0       Juanna Vines   \n",
       "2         43.0     3576.0           0.0  6715.0    49.0      Altark Susent   \n",
       "3          0.0     1283.0         371.0  3329.0   193.0       Solam Susent   \n",
       "4        303.0       70.0         151.0   565.0     2.0  Willy Santantines   \n",
       "\n",
       "   Transported  deck  num  side  \n",
       "0            0     1    0     1  \n",
       "1            1     5    0     2  \n",
       "2            0     0    0     2  \n",
       "3            0     0    0     2  \n",
       "4            1     5    1     2  "
      ]
     },
     "execution_count": 19,
     "metadata": {},
     "output_type": "execute_result"
    }
   ],
   "source": [
    "from sklearn.preprocessing import LabelEncoder, StandardScaler\n",
    "le = LabelEncoder()\n",
    "\n",
    "for c in ['deck','side','Destination','HomePlanet','Age']:\n",
    "    df[c] = le.fit_transform(df[c])\n",
    "\n",
    "df.head()    "
   ]
  },
  {
   "cell_type": "code",
   "execution_count": 20,
   "id": "a59c7cd3",
   "metadata": {
    "execution": {
     "iopub.execute_input": "2022-03-31T07:10:12.834379Z",
     "iopub.status.busy": "2022-03-31T07:10:12.833772Z",
     "iopub.status.idle": "2022-03-31T07:10:12.840690Z",
     "shell.execute_reply": "2022-03-31T07:10:12.841246Z",
     "shell.execute_reply.started": "2022-03-31T07:03:58.471116Z"
    },
    "papermill": {
     "duration": 0.041739,
     "end_time": "2022-03-31T07:10:12.841402",
     "exception": false,
     "start_time": "2022-03-31T07:10:12.799663",
     "status": "completed"
    },
    "tags": []
   },
   "outputs": [
    {
     "data": {
      "text/plain": [
       "True     144\n",
       "False     34\n",
       "Name: Transported, dtype: int64"
      ]
     },
     "execution_count": 20,
     "metadata": {},
     "output_type": "execute_result"
    }
   ],
   "source": [
    "train[train.Age < 1]['Transported'].value_counts()"
   ]
  },
  {
   "cell_type": "code",
   "execution_count": 21,
   "id": "638a2639",
   "metadata": {
    "execution": {
     "iopub.execute_input": "2022-03-31T07:10:12.908101Z",
     "iopub.status.busy": "2022-03-31T07:10:12.907538Z",
     "iopub.status.idle": "2022-03-31T07:10:12.918742Z",
     "shell.execute_reply": "2022-03-31T07:10:12.918281Z",
     "shell.execute_reply.started": "2022-03-31T07:03:58.482058Z"
    },
    "papermill": {
     "duration": 0.045637,
     "end_time": "2022-03-31T07:10:12.918877",
     "exception": false,
     "start_time": "2022-03-31T07:10:12.873240",
     "status": "completed"
    },
    "tags": []
   },
   "outputs": [
    {
     "name": "stdout",
     "output_type": "stream",
     "text": [
      "(8693, 13)\n",
      "(4277, 13)\n"
     ]
    }
   ],
   "source": [
    "train = df[:len(train)]\n",
    "test = df[-len(test):]\n",
    "\n",
    "X_train = train.drop(['PassengerId','Cabin','Name','Transported'], axis = 1)\n",
    "y_train = train.Transported\n",
    "\n",
    "X_test = test.drop(['PassengerId','Cabin','Name','Transported'], axis = 1)\n",
    "\n",
    "print(X_train.shape)\n",
    "print(X_test.shape)"
   ]
  },
  {
   "cell_type": "code",
   "execution_count": 22,
   "id": "634e6894",
   "metadata": {
    "execution": {
     "iopub.execute_input": "2022-03-31T07:10:12.989070Z",
     "iopub.status.busy": "2022-03-31T07:10:12.988157Z",
     "iopub.status.idle": "2022-03-31T07:10:13.002737Z",
     "shell.execute_reply": "2022-03-31T07:10:13.003228Z",
     "shell.execute_reply.started": "2022-03-31T07:03:58.500818Z"
    },
    "papermill": {
     "duration": 0.052232,
     "end_time": "2022-03-31T07:10:13.003399",
     "exception": false,
     "start_time": "2022-03-31T07:10:12.951167",
     "status": "completed"
    },
    "tags": []
   },
   "outputs": [
    {
     "data": {
      "text/html": [
       "<div>\n",
       "<style scoped>\n",
       "    .dataframe tbody tr th:only-of-type {\n",
       "        vertical-align: middle;\n",
       "    }\n",
       "\n",
       "    .dataframe tbody tr th {\n",
       "        vertical-align: top;\n",
       "    }\n",
       "\n",
       "    .dataframe thead th {\n",
       "        text-align: right;\n",
       "    }\n",
       "</style>\n",
       "<table border=\"1\" class=\"dataframe\">\n",
       "  <thead>\n",
       "    <tr style=\"text-align: right;\">\n",
       "      <th></th>\n",
       "      <th>HomePlanet</th>\n",
       "      <th>CryoSleep</th>\n",
       "      <th>Destination</th>\n",
       "      <th>Age</th>\n",
       "      <th>VIP</th>\n",
       "      <th>RoomService</th>\n",
       "      <th>FoodCourt</th>\n",
       "      <th>ShoppingMall</th>\n",
       "      <th>Spa</th>\n",
       "      <th>VRDeck</th>\n",
       "      <th>deck</th>\n",
       "      <th>num</th>\n",
       "      <th>side</th>\n",
       "    </tr>\n",
       "  </thead>\n",
       "  <tbody>\n",
       "    <tr>\n",
       "      <th>0</th>\n",
       "      <td>1</td>\n",
       "      <td>0</td>\n",
       "      <td>3</td>\n",
       "      <td>39</td>\n",
       "      <td>0</td>\n",
       "      <td>0.0</td>\n",
       "      <td>0.0</td>\n",
       "      <td>0.0</td>\n",
       "      <td>0.0</td>\n",
       "      <td>0.0</td>\n",
       "      <td>1</td>\n",
       "      <td>0</td>\n",
       "      <td>1</td>\n",
       "    </tr>\n",
       "    <tr>\n",
       "      <th>1</th>\n",
       "      <td>0</td>\n",
       "      <td>0</td>\n",
       "      <td>3</td>\n",
       "      <td>24</td>\n",
       "      <td>0</td>\n",
       "      <td>109.0</td>\n",
       "      <td>9.0</td>\n",
       "      <td>25.0</td>\n",
       "      <td>549.0</td>\n",
       "      <td>44.0</td>\n",
       "      <td>5</td>\n",
       "      <td>0</td>\n",
       "      <td>2</td>\n",
       "    </tr>\n",
       "    <tr>\n",
       "      <th>2</th>\n",
       "      <td>1</td>\n",
       "      <td>0</td>\n",
       "      <td>3</td>\n",
       "      <td>58</td>\n",
       "      <td>1</td>\n",
       "      <td>43.0</td>\n",
       "      <td>3576.0</td>\n",
       "      <td>0.0</td>\n",
       "      <td>6715.0</td>\n",
       "      <td>49.0</td>\n",
       "      <td>0</td>\n",
       "      <td>0</td>\n",
       "      <td>2</td>\n",
       "    </tr>\n",
       "    <tr>\n",
       "      <th>3</th>\n",
       "      <td>1</td>\n",
       "      <td>0</td>\n",
       "      <td>3</td>\n",
       "      <td>33</td>\n",
       "      <td>0</td>\n",
       "      <td>0.0</td>\n",
       "      <td>1283.0</td>\n",
       "      <td>371.0</td>\n",
       "      <td>3329.0</td>\n",
       "      <td>193.0</td>\n",
       "      <td>0</td>\n",
       "      <td>0</td>\n",
       "      <td>2</td>\n",
       "    </tr>\n",
       "    <tr>\n",
       "      <th>4</th>\n",
       "      <td>0</td>\n",
       "      <td>0</td>\n",
       "      <td>3</td>\n",
       "      <td>16</td>\n",
       "      <td>0</td>\n",
       "      <td>303.0</td>\n",
       "      <td>70.0</td>\n",
       "      <td>151.0</td>\n",
       "      <td>565.0</td>\n",
       "      <td>2.0</td>\n",
       "      <td>5</td>\n",
       "      <td>1</td>\n",
       "      <td>2</td>\n",
       "    </tr>\n",
       "  </tbody>\n",
       "</table>\n",
       "</div>"
      ],
      "text/plain": [
       "   HomePlanet  CryoSleep  Destination  Age  VIP  RoomService  FoodCourt  \\\n",
       "0           1          0            3   39    0          0.0        0.0   \n",
       "1           0          0            3   24    0        109.0        9.0   \n",
       "2           1          0            3   58    1         43.0     3576.0   \n",
       "3           1          0            3   33    0          0.0     1283.0   \n",
       "4           0          0            3   16    0        303.0       70.0   \n",
       "\n",
       "   ShoppingMall     Spa  VRDeck  deck  num  side  \n",
       "0           0.0     0.0     0.0     1    0     1  \n",
       "1          25.0   549.0    44.0     5    0     2  \n",
       "2           0.0  6715.0    49.0     0    0     2  \n",
       "3         371.0  3329.0   193.0     0    0     2  \n",
       "4         151.0   565.0     2.0     5    1     2  "
      ]
     },
     "execution_count": 22,
     "metadata": {},
     "output_type": "execute_result"
    }
   ],
   "source": [
    "X_train.head()"
   ]
  },
  {
   "cell_type": "code",
   "execution_count": null,
   "id": "d9757d8b",
   "metadata": {
    "papermill": {
     "duration": 0.032665,
     "end_time": "2022-03-31T07:10:13.069261",
     "exception": false,
     "start_time": "2022-03-31T07:10:13.036596",
     "status": "completed"
    },
    "tags": []
   },
   "outputs": [],
   "source": []
  },
  {
   "cell_type": "markdown",
   "id": "f253c811",
   "metadata": {
    "papermill": {
     "duration": 0.032927,
     "end_time": "2022-03-31T07:10:13.135527",
     "exception": false,
     "start_time": "2022-03-31T07:10:13.102600",
     "status": "completed"
    },
    "tags": []
   },
   "source": [
    "# LGBM"
   ]
  },
  {
   "cell_type": "code",
   "execution_count": 23,
   "id": "e64b4a80",
   "metadata": {
    "execution": {
     "iopub.execute_input": "2022-03-31T07:10:13.205101Z",
     "iopub.status.busy": "2022-03-31T07:10:13.204513Z",
     "iopub.status.idle": "2022-03-31T07:10:21.660514Z",
     "shell.execute_reply": "2022-03-31T07:10:21.661107Z",
     "shell.execute_reply.started": "2022-03-31T07:09:36.596099Z"
    },
    "papermill": {
     "duration": 8.492431,
     "end_time": "2022-03-31T07:10:21.661278",
     "exception": false,
     "start_time": "2022-03-31T07:10:13.168847",
     "status": "completed"
    },
    "tags": []
   },
   "outputs": [
    {
     "data": {
      "text/html": [
       "<style type='text/css'>\n",
       ".datatable table.frame { margin-bottom: 0; }\n",
       ".datatable table.frame thead { border-bottom: none; }\n",
       ".datatable table.frame tr.coltypes td {  color: #FFFFFF;  line-height: 6px;  padding: 0 0.5em;}\n",
       ".datatable .bool    { background: #DDDD99; }\n",
       ".datatable .object  { background: #565656; }\n",
       ".datatable .int     { background: #5D9E5D; }\n",
       ".datatable .float   { background: #4040CC; }\n",
       ".datatable .str     { background: #CC4040; }\n",
       ".datatable .time    { background: #40CC40; }\n",
       ".datatable .row_index {  background: var(--jp-border-color3);  border-right: 1px solid var(--jp-border-color0);  color: var(--jp-ui-font-color3);  font-size: 9px;}\n",
       ".datatable .frame tbody td { text-align: left; }\n",
       ".datatable .frame tr.coltypes .row_index {  background: var(--jp-border-color0);}\n",
       ".datatable th:nth-child(2) { padding-left: 12px; }\n",
       ".datatable .hellipsis {  color: var(--jp-cell-editor-border-color);}\n",
       ".datatable .vellipsis {  background: var(--jp-layout-color0);  color: var(--jp-cell-editor-border-color);}\n",
       ".datatable .na {  color: var(--jp-cell-editor-border-color);  font-size: 80%;}\n",
       ".datatable .sp {  opacity: 0.25;}\n",
       ".datatable .footer { font-size: 9px; }\n",
       ".datatable .frame_dimensions {  background: var(--jp-border-color3);  border-top: 1px solid var(--jp-border-color0);  color: var(--jp-ui-font-color3);  display: inline-block;  opacity: 0.6;  padding: 1px 10px 1px 5px;}\n",
       "</style>\n"
      ],
      "text/plain": [
       "<IPython.core.display.HTML object>"
      ]
     },
     "metadata": {},
     "output_type": "display_data"
    },
    {
     "name": "stdout",
     "output_type": "stream",
     "text": [
      "fold  1\n",
      "****************************************\n",
      "[LightGBM] [Warning] Unknown parameter: bagging_frequency\n",
      "[100]\ttraining's auc: 0.910042\ttraining's binary_logloss: 0.542913\tvalid_1's auc: 0.870225\tvalid_1's binary_logloss: 0.565749\n",
      "[200]\ttraining's auc: 0.914462\ttraining's binary_logloss: 0.466135\tvalid_1's auc: 0.87118\tvalid_1's binary_logloss: 0.506062\n",
      "[300]\ttraining's auc: 0.919377\ttraining's binary_logloss: 0.421042\tvalid_1's auc: 0.873048\tvalid_1's binary_logloss: 0.474305\n",
      "[400]\ttraining's auc: 0.923943\ttraining's binary_logloss: 0.392174\tvalid_1's auc: 0.875873\tvalid_1's binary_logloss: 0.456776\n",
      "[500]\ttraining's auc: 0.927793\ttraining's binary_logloss: 0.372033\tvalid_1's auc: 0.876334\tvalid_1's binary_logloss: 0.448349\n",
      "[600]\ttraining's auc: 0.931835\ttraining's binary_logloss: 0.356324\tvalid_1's auc: 0.876892\tvalid_1's binary_logloss: 0.445088\n",
      "fold  2\n",
      "****************************************\n",
      "[LightGBM] [Warning] Unknown parameter: bagging_frequency\n",
      "[100]\ttraining's auc: 0.908067\ttraining's binary_logloss: 0.544666\tvalid_1's auc: 0.860109\tvalid_1's binary_logloss: 0.567376\n",
      "fold  3\n",
      "****************************************\n",
      "[LightGBM] [Warning] Unknown parameter: bagging_frequency\n",
      "[100]\ttraining's auc: 0.904142\ttraining's binary_logloss: 0.5452\tvalid_1's auc: 0.873261\tvalid_1's binary_logloss: 0.554545\n",
      "[200]\ttraining's auc: 0.908803\ttraining's binary_logloss: 0.470226\tvalid_1's auc: 0.879257\tvalid_1's binary_logloss: 0.488548\n",
      "[300]\ttraining's auc: 0.914118\ttraining's binary_logloss: 0.426759\tvalid_1's auc: 0.885036\tvalid_1's binary_logloss: 0.454005\n",
      "[400]\ttraining's auc: 0.918925\ttraining's binary_logloss: 0.399035\tvalid_1's auc: 0.889529\tvalid_1's binary_logloss: 0.434476\n",
      "[500]\ttraining's auc: 0.923375\ttraining's binary_logloss: 0.379992\tvalid_1's auc: 0.892939\tvalid_1's binary_logloss: 0.4235\n",
      "[600]\ttraining's auc: 0.927544\ttraining's binary_logloss: 0.365229\tvalid_1's auc: 0.895482\tvalid_1's binary_logloss: 0.418013\n",
      "[700]\ttraining's auc: 0.931479\ttraining's binary_logloss: 0.353173\tvalid_1's auc: 0.8968\tvalid_1's binary_logloss: 0.414658\n",
      "[800]\ttraining's auc: 0.935055\ttraining's binary_logloss: 0.343082\tvalid_1's auc: 0.897988\tvalid_1's binary_logloss: 0.413981\n",
      "fold  4\n",
      "****************************************\n",
      "[LightGBM] [Warning] Unknown parameter: bagging_frequency\n",
      "[100]\ttraining's auc: 0.898736\ttraining's binary_logloss: 0.548796\tvalid_1's auc: 0.895003\tvalid_1's binary_logloss: 0.549579\n",
      "[200]\ttraining's auc: 0.903706\ttraining's binary_logloss: 0.475907\tvalid_1's auc: 0.899311\tvalid_1's binary_logloss: 0.47745\n",
      "[300]\ttraining's auc: 0.908968\ttraining's binary_logloss: 0.433766\tvalid_1's auc: 0.903996\tvalid_1's binary_logloss: 0.436563\n",
      "[400]\ttraining's auc: 0.914838\ttraining's binary_logloss: 0.406316\tvalid_1's auc: 0.907675\tvalid_1's binary_logloss: 0.412592\n",
      "[500]\ttraining's auc: 0.920039\ttraining's binary_logloss: 0.387121\tvalid_1's auc: 0.91028\tvalid_1's binary_logloss: 0.39747\n",
      "[600]\ttraining's auc: 0.924272\ttraining's binary_logloss: 0.372371\tvalid_1's auc: 0.912062\tvalid_1's binary_logloss: 0.387692\n",
      "[700]\ttraining's auc: 0.9284\ttraining's binary_logloss: 0.359706\tvalid_1's auc: 0.914014\tvalid_1's binary_logloss: 0.379231\n",
      "[800]\ttraining's auc: 0.931938\ttraining's binary_logloss: 0.349487\tvalid_1's auc: 0.914784\tvalid_1's binary_logloss: 0.374705\n",
      "[900]\ttraining's auc: 0.935235\ttraining's binary_logloss: 0.341101\tvalid_1's auc: 0.914906\tvalid_1's binary_logloss: 0.372311\n",
      "[1000]\ttraining's auc: 0.938164\ttraining's binary_logloss: 0.333872\tvalid_1's auc: 0.914858\tvalid_1's binary_logloss: 0.371288\n",
      "fold  5\n",
      "****************************************\n",
      "[LightGBM] [Warning] Unknown parameter: bagging_frequency\n",
      "[100]\ttraining's auc: 0.905943\ttraining's binary_logloss: 0.546748\tvalid_1's auc: 0.885164\tvalid_1's binary_logloss: 0.553141\n",
      "[200]\ttraining's auc: 0.911063\ttraining's binary_logloss: 0.471003\tvalid_1's auc: 0.885281\tvalid_1's binary_logloss: 0.486391\n",
      "OOF accuracy 0.7971931439088922\n"
     ]
    }
   ],
   "source": [
    "import lightgbm as lgb\n",
    "from sklearn.model_selection import StratifiedKFold, KFold\n",
    "from sklearn.metrics import accuracy_score\n",
    "\n",
    "oof = np.zeros(len(train))\n",
    "preds = np.zeros(len(test))\n",
    "\n",
    "skf = StratifiedKFold(n_splits = 5)\n",
    "\n",
    "for i, (idt, idv) in enumerate(skf.split(X_train, y_train, y_train)):\n",
    "    \n",
    "    x_trn, x_val = X_train.iloc[idt], X_train.iloc[idv]\n",
    "    y_trn, y_val = y_train.iloc[idt], y_train.iloc[idv]\n",
    "    \n",
    "    print('fold ', i+1)\n",
    "    print('*' * 40)\n",
    "    \n",
    "    clf = lgb.LGBMClassifier(\n",
    "    n_estimators = 1500,\n",
    "        subsample = 0.8,\n",
    "        #num_leaves = 32,\n",
    "        learning_rate = 0.005,\n",
    "        colsample_bytree = 0.8,\n",
    "        reg_alpha = 0.1,\n",
    "        reg_lambda = 0.5,\n",
    "        bagging_frequency = 1,\n",
    "        random_state = 342\n",
    "       \n",
    "        \n",
    "    )\n",
    "    \n",
    "    clf.fit(x_trn, y_trn, eval_set = [(x_trn, y_trn),(x_val, y_val)], verbose = 100,\n",
    "           early_stopping_rounds=100, eval_metric = 'auc',\n",
    "           #categorical_feature = ['VIP','deck','side','Destination','HomePlanet']\n",
    "           )\n",
    "    \n",
    "    oof[idv] = clf.predict(x_val)\n",
    "    preds += clf.predict_proba(X_test)[:,1]/skf.n_splits\n",
    "\n",
    "print('OOF accuracy', accuracy_score(y_train, oof))"
   ]
  },
  {
   "cell_type": "code",
   "execution_count": 24,
   "id": "47f5e59e",
   "metadata": {
    "execution": {
     "iopub.execute_input": "2022-03-31T07:10:21.751716Z",
     "iopub.status.busy": "2022-03-31T07:10:21.751125Z",
     "iopub.status.idle": "2022-03-31T07:10:22.083443Z",
     "shell.execute_reply": "2022-03-31T07:10:22.083825Z",
     "shell.execute_reply.started": "2022-03-31T07:04:05.825896Z"
    },
    "papermill": {
     "duration": 0.380743,
     "end_time": "2022-03-31T07:10:22.084015",
     "exception": false,
     "start_time": "2022-03-31T07:10:21.703272",
     "status": "completed"
    },
    "tags": []
   },
   "outputs": [
    {
     "data": {
      "image/png": "[encoded data removed]",
      "text/plain": [
       "<Figure size 1440x720 with 1 Axes>"
      ]
     },
     "metadata": {
      "needs_background": "light"
     },
     "output_type": "display_data"
    }
   ],
   "source": [
    "cols = list(X_train.columns)\n",
    "feature_imp = pd.DataFrame(sorted(zip(clf.feature_importances_,cols)), columns=['Value','Feature'])\n",
    "plt.figure(figsize=(20, 10))\n",
    "sns.barplot(x=\"Value\", y=\"Feature\", data=feature_imp.sort_values(by=\"Value\", ascending=False).iloc[:20])\n",
    "plt.title('XGB Most Important Features')\n",
    "plt.tight_layout()\n",
    "plt.show()"
   ]
  },
  {
   "cell_type": "code",
   "execution_count": 25,
   "id": "14f738d9",
   "metadata": {
    "execution": {
     "iopub.execute_input": "2022-03-31T07:10:22.172232Z",
     "iopub.status.busy": "2022-03-31T07:10:22.171637Z",
     "iopub.status.idle": "2022-03-31T07:10:22.176829Z",
     "shell.execute_reply": "2022-03-31T07:10:22.177300Z",
     "shell.execute_reply.started": "2022-03-31T07:04:06.202912Z"
    },
    "papermill": {
     "duration": 0.050776,
     "end_time": "2022-03-31T07:10:22.177458",
     "exception": false,
     "start_time": "2022-03-31T07:10:22.126682",
     "status": "completed"
    },
    "tags": []
   },
   "outputs": [
    {
     "data": {
      "text/plain": [
       "array([0.52085576, 0.1841368 , 0.84548264, ..., 0.81919146, 0.64126325,\n",
       "       0.60312475])"
      ]
     },
     "execution_count": 25,
     "metadata": {},
     "output_type": "execute_result"
    }
   ],
   "source": [
    "preds"
   ]
  },
  {
   "cell_type": "code",
   "execution_count": 26,
   "id": "0451c313",
   "metadata": {
    "execution": {
     "iopub.execute_input": "2022-03-31T07:10:22.276440Z",
     "iopub.status.busy": "2022-03-31T07:10:22.275709Z",
     "iopub.status.idle": "2022-03-31T07:10:22.278600Z",
     "shell.execute_reply": "2022-03-31T07:10:22.279080Z",
     "shell.execute_reply.started": "2022-03-31T07:04:06.210496Z"
    },
    "papermill": {
     "duration": 0.058776,
     "end_time": "2022-03-31T07:10:22.279245",
     "exception": false,
     "start_time": "2022-03-31T07:10:22.220469",
     "status": "completed"
    },
    "tags": []
   },
   "outputs": [
    {
     "data": {
      "text/html": [
       "<div>\n",
       "<style scoped>\n",
       "    .dataframe tbody tr th:only-of-type {\n",
       "        vertical-align: middle;\n",
       "    }\n",
       "\n",
       "    .dataframe tbody tr th {\n",
       "        vertical-align: top;\n",
       "    }\n",
       "\n",
       "    .dataframe thead th {\n",
       "        text-align: right;\n",
       "    }\n",
       "</style>\n",
       "<table border=\"1\" class=\"dataframe\">\n",
       "  <thead>\n",
       "    <tr style=\"text-align: right;\">\n",
       "      <th></th>\n",
       "      <th>PassengerId</th>\n",
       "      <th>Transported</th>\n",
       "    </tr>\n",
       "  </thead>\n",
       "  <tbody>\n",
       "    <tr>\n",
       "      <th>0</th>\n",
       "      <td>0013_01</td>\n",
       "      <td>True</td>\n",
       "    </tr>\n",
       "    <tr>\n",
       "      <th>1</th>\n",
       "      <td>0018_01</td>\n",
       "      <td>False</td>\n",
       "    </tr>\n",
       "    <tr>\n",
       "      <th>2</th>\n",
       "      <td>0019_01</td>\n",
       "      <td>True</td>\n",
       "    </tr>\n",
       "    <tr>\n",
       "      <th>3</th>\n",
       "      <td>0021_01</td>\n",
       "      <td>True</td>\n",
       "    </tr>\n",
       "    <tr>\n",
       "      <th>4</th>\n",
       "      <td>0023_01</td>\n",
       "      <td>False</td>\n",
       "    </tr>\n",
       "    <tr>\n",
       "      <th>...</th>\n",
       "      <td>...</td>\n",
       "      <td>...</td>\n",
       "    </tr>\n",
       "    <tr>\n",
       "      <th>4272</th>\n",
       "      <td>9266_02</td>\n",
       "      <td>True</td>\n",
       "    </tr>\n",
       "    <tr>\n",
       "      <th>4273</th>\n",
       "      <td>9269_01</td>\n",
       "      <td>False</td>\n",
       "    </tr>\n",
       "    <tr>\n",
       "      <th>4274</th>\n",
       "      <td>9271_01</td>\n",
       "      <td>True</td>\n",
       "    </tr>\n",
       "    <tr>\n",
       "      <th>4275</th>\n",
       "      <td>9273_01</td>\n",
       "      <td>True</td>\n",
       "    </tr>\n",
       "    <tr>\n",
       "      <th>4276</th>\n",
       "      <td>9277_01</td>\n",
       "      <td>True</td>\n",
       "    </tr>\n",
       "  </tbody>\n",
       "</table>\n",
       "<p>4277 rows × 2 columns</p>\n",
       "</div>"
      ],
      "text/plain": [
       "     PassengerId  Transported\n",
       "0        0013_01         True\n",
       "1        0018_01        False\n",
       "2        0019_01         True\n",
       "3        0021_01         True\n",
       "4        0023_01        False\n",
       "...          ...          ...\n",
       "4272     9266_02         True\n",
       "4273     9269_01        False\n",
       "4274     9271_01         True\n",
       "4275     9273_01         True\n",
       "4276     9277_01         True\n",
       "\n",
       "[4277 rows x 2 columns]"
      ]
     },
     "execution_count": 26,
     "metadata": {},
     "output_type": "execute_result"
    }
   ],
   "source": [
    "sub['Transported'] = [True if x>0.5 else False for x in preds]\n",
    "\n",
    "sub"
   ]
  },
  {
   "cell_type": "code",
   "execution_count": 27,
   "id": "a4f1c3bd",
   "metadata": {
    "execution": {
     "iopub.execute_input": "2022-03-31T07:10:22.374826Z",
     "iopub.status.busy": "2022-03-31T07:10:22.373812Z",
     "iopub.status.idle": "2022-03-31T07:10:22.378004Z",
     "shell.execute_reply": "2022-03-31T07:10:22.378408Z",
     "shell.execute_reply.started": "2022-03-31T07:04:06.236279Z"
    },
    "papermill": {
     "duration": 0.055717,
     "end_time": "2022-03-31T07:10:22.378572",
     "exception": false,
     "start_time": "2022-03-31T07:10:22.322855",
     "status": "completed"
    },
    "tags": []
   },
   "outputs": [
    {
     "data": {
      "text/plain": [
       "count     4277\n",
       "unique       2\n",
       "top       True\n",
       "freq      2241\n",
       "Name: Transported, dtype: object"
      ]
     },
     "execution_count": 27,
     "metadata": {},
     "output_type": "execute_result"
    }
   ],
   "source": [
    "sub['Transported'].describe()"
   ]
  },
  {
   "cell_type": "code",
   "execution_count": 28,
   "id": "d8109e18",
   "metadata": {
    "execution": {
     "iopub.execute_input": "2022-03-31T07:10:22.471889Z",
     "iopub.status.busy": "2022-03-31T07:10:22.469888Z",
     "iopub.status.idle": "2022-03-31T07:10:22.480684Z",
     "shell.execute_reply": "2022-03-31T07:10:22.481148Z",
     "shell.execute_reply.started": "2022-03-31T07:04:06.249779Z"
    },
    "papermill": {
     "duration": 0.058341,
     "end_time": "2022-03-31T07:10:22.481336",
     "exception": false,
     "start_time": "2022-03-31T07:10:22.422995",
     "status": "completed"
    },
    "tags": []
   },
   "outputs": [],
   "source": [
    "sub.to_csv('sub_lgb.csv', index = False)"
   ]
  }
 ],
 "metadata": {
  "kernelspec": {
   "display_name": "Python 3",
   "language": "python",
   "name": "python3"
  },
  "language_info": {
   "codemirror_mode": {
    "name": "ipython",
    "version": 3
   },
   "file_extension": ".py",
   "mimetype": "text/x-python",
   "name": "python",
   "nbconvert_exporter": "python",
   "pygments_lexer": "ipython3",
   "version": "3.7.12"
  },
  "papermill": {
   "default_parameters": {},
   "duration": 23.051316,
   "end_time": "2022-03-31T07:10:23.238842",
   "environment_variables": {},
   "exception": null,
   "input_path": "__notebook__.ipynb",
   "output_path": "__notebook__.ipynb",
   "parameters": {},
   "start_time": "2022-03-31T07:10:00.187526",
   "version": "2.3.3"
  }
 },
 "nbformat": 4,
 "nbformat_minor": 5
}
