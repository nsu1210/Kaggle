{
 "cells": [
  {
   "cell_type": "code",
   "execution_count": 1,
   "id": "99f62ceb",
   "metadata": {
    "execution": {
     "iopub.execute_input": "2022-04-05T05:22:08.697480Z",
     "iopub.status.busy": "2022-04-05T05:22:08.696833Z",
     "iopub.status.idle": "2022-04-05T05:22:09.807595Z",
     "shell.execute_reply": "2022-04-05T05:22:09.808108Z",
     "shell.execute_reply.started": "2022-04-05T05:20:37.850404Z"
    },
    "papermill": {
     "duration": 1.157825,
     "end_time": "2022-04-05T05:22:09.808421",
     "exception": false,
     "start_time": "2022-04-05T05:22:08.650596",
     "status": "completed"
    },
    "tags": []
   },
   "outputs": [],
   "source": [
    "import numpy as np\n",
    "import pandas as pd\n",
    "import os\n",
    "import gc\n",
    "import matplotlib.pyplot as plt\n",
    "import seaborn as sns\n",
    "import warnings \n",
    "warnings.filterwarnings('ignore')"
   ]
  },
  {
   "cell_type": "markdown",
   "id": "fcdec7bf",
   "metadata": {
    "papermill": {
     "duration": 0.033985,
     "end_time": "2022-04-05T05:22:09.877756",
     "exception": false,
     "start_time": "2022-04-05T05:22:09.843771",
     "status": "completed"
    },
    "tags": []
   },
   "source": [
    "In this competition your task is to predict whether a passenger was transported to an alternate dimension during the Spaceship Titanic's collision with the spacetime anomaly. To help you make these predictions, you're given a set of personal records recovered from the ship's damaged computer system."
   ]
  },
  {
   "cell_type": "markdown",
   "id": "a3b6a83f",
   "metadata": {
    "papermill": {
     "duration": 0.035745,
     "end_time": "2022-04-05T05:22:09.948220",
     "exception": false,
     "start_time": "2022-04-05T05:22:09.912475",
     "status": "completed"
    },
    "tags": []
   },
   "source": [
    "# File and Data Field Descriptions\n",
    "* train.csv - Personal records for about two-thirds (~8700) of the passengers, to be used as training data.\n",
    "* PassengerId - A unique Id for each passenger. Each Id takes the form gggg_pp where gggg indicates a group the passenger is travelling with and pp is their number within the group. People in a group are often family members, but not always.\n",
    "* HomePlanet - The planet the passenger departed from, typically their planet of permanent residence.\n",
    "* CryoSleep - Indicates whether the passenger elected to be put into suspended animation for the duration of the voyage. Passengers in cryosleep are confined to their cabins.\n",
    "* Cabin - The cabin number where the passenger is staying. Takes the form deck/num/side, where side can be either P for Port or S for Starboard.\n",
    "* Destination - The planet the passenger will be debarking to.\n",
    "* Age - The age of the passenger.\n",
    "* VIP - Whether the passenger has paid for special VIP service during the voyage.\n",
    "* RoomService, FoodCourt, ShoppingMall, Spa, VRDeck - Amount the passenger has billed at each of the Spaceship Titanic's many luxury amenities.\n",
    "* Name - The first and last names of the passenger.\n",
    "* Transported - Whether the passenger was transported to another dimension. This is the target, the column you are trying to predict."
   ]
  },
  {
   "cell_type": "code",
   "execution_count": 2,
   "id": "80f39da0",
   "metadata": {
    "execution": {
     "iopub.execute_input": "2022-04-05T05:22:10.021526Z",
     "iopub.status.busy": "2022-04-05T05:22:10.020798Z",
     "iopub.status.idle": "2022-04-05T05:22:10.112578Z",
     "shell.execute_reply": "2022-04-05T05:22:10.113405Z",
     "shell.execute_reply.started": "2022-04-05T05:20:37.858761Z"
    },
    "papermill": {
     "duration": 0.130145,
     "end_time": "2022-04-05T05:22:10.113639",
     "exception": false,
     "start_time": "2022-04-05T05:22:09.983494",
     "status": "completed"
    },
    "tags": []
   },
   "outputs": [
    {
     "name": "stdout",
     "output_type": "stream",
     "text": [
      "(8693, 14)\n",
      "(4277, 13)\n"
     ]
    }
   ],
   "source": [
    "train = pd.read_csv('../input/spaceship-titanic/train.csv')\n",
    "test = pd.read_csv('../input/spaceship-titanic/test.csv')\n",
    "sub = pd.read_csv('../input/spaceship-titanic/sample_submission.csv')\n",
    "print(train.shape)\n",
    "print(test.shape)"
   ]
  },
  {
   "cell_type": "code",
   "execution_count": 3,
   "id": "944b55a1",
   "metadata": {
    "execution": {
     "iopub.execute_input": "2022-04-05T05:22:10.194289Z",
     "iopub.status.busy": "2022-04-05T05:22:10.193566Z",
     "iopub.status.idle": "2022-04-05T05:22:10.218051Z",
     "shell.execute_reply": "2022-04-05T05:22:10.218528Z",
     "shell.execute_reply.started": "2022-04-05T05:20:37.936763Z"
    },
    "papermill": {
     "duration": 0.068867,
     "end_time": "2022-04-05T05:22:10.218713",
     "exception": false,
     "start_time": "2022-04-05T05:22:10.149846",
     "status": "completed"
    },
    "tags": []
   },
   "outputs": [
    {
     "data": {
      "text/html": [
       "<div>\n",
       "<style scoped>\n",
       "    .dataframe tbody tr th:only-of-type {\n",
       "        vertical-align: middle;\n",
       "    }\n",
       "\n",
       "    .dataframe tbody tr th {\n",
       "        vertical-align: top;\n",
       "    }\n",
       "\n",
       "    .dataframe thead th {\n",
       "        text-align: right;\n",
       "    }\n",
       "</style>\n",
       "<table border=\"1\" class=\"dataframe\">\n",
       "  <thead>\n",
       "    <tr style=\"text-align: right;\">\n",
       "      <th></th>\n",
       "      <th>PassengerId</th>\n",
       "      <th>HomePlanet</th>\n",
       "      <th>CryoSleep</th>\n",
       "      <th>Cabin</th>\n",
       "      <th>Destination</th>\n",
       "      <th>Age</th>\n",
       "      <th>VIP</th>\n",
       "      <th>RoomService</th>\n",
       "      <th>FoodCourt</th>\n",
       "      <th>ShoppingMall</th>\n",
       "      <th>Spa</th>\n",
       "      <th>VRDeck</th>\n",
       "      <th>Name</th>\n",
       "      <th>Transported</th>\n",
       "    </tr>\n",
       "  </thead>\n",
       "  <tbody>\n",
       "    <tr>\n",
       "      <th>0</th>\n",
       "      <td>0001_01</td>\n",
       "      <td>Europa</td>\n",
       "      <td>False</td>\n",
       "      <td>B/0/P</td>\n",
       "      <td>TRAPPIST-1e</td>\n",
       "      <td>39.0</td>\n",
       "      <td>False</td>\n",
       "      <td>0.0</td>\n",
       "      <td>0.0</td>\n",
       "      <td>0.0</td>\n",
       "      <td>0.0</td>\n",
       "      <td>0.0</td>\n",
       "      <td>Maham Ofracculy</td>\n",
       "      <td>False</td>\n",
       "    </tr>\n",
       "    <tr>\n",
       "      <th>1</th>\n",
       "      <td>0002_01</td>\n",
       "      <td>Earth</td>\n",
       "      <td>False</td>\n",
       "      <td>F/0/S</td>\n",
       "      <td>TRAPPIST-1e</td>\n",
       "      <td>24.0</td>\n",
       "      <td>False</td>\n",
       "      <td>109.0</td>\n",
       "      <td>9.0</td>\n",
       "      <td>25.0</td>\n",
       "      <td>549.0</td>\n",
       "      <td>44.0</td>\n",
       "      <td>Juanna Vines</td>\n",
       "      <td>True</td>\n",
       "    </tr>\n",
       "    <tr>\n",
       "      <th>2</th>\n",
       "      <td>0003_01</td>\n",
       "      <td>Europa</td>\n",
       "      <td>False</td>\n",
       "      <td>A/0/S</td>\n",
       "      <td>TRAPPIST-1e</td>\n",
       "      <td>58.0</td>\n",
       "      <td>True</td>\n",
       "      <td>43.0</td>\n",
       "      <td>3576.0</td>\n",
       "      <td>0.0</td>\n",
       "      <td>6715.0</td>\n",
       "      <td>49.0</td>\n",
       "      <td>Altark Susent</td>\n",
       "      <td>False</td>\n",
       "    </tr>\n",
       "    <tr>\n",
       "      <th>3</th>\n",
       "      <td>0003_02</td>\n",
       "      <td>Europa</td>\n",
       "      <td>False</td>\n",
       "      <td>A/0/S</td>\n",
       "      <td>TRAPPIST-1e</td>\n",
       "      <td>33.0</td>\n",
       "      <td>False</td>\n",
       "      <td>0.0</td>\n",
       "      <td>1283.0</td>\n",
       "      <td>371.0</td>\n",
       "      <td>3329.0</td>\n",
       "      <td>193.0</td>\n",
       "      <td>Solam Susent</td>\n",
       "      <td>False</td>\n",
       "    </tr>\n",
       "    <tr>\n",
       "      <th>4</th>\n",
       "      <td>0004_01</td>\n",
       "      <td>Earth</td>\n",
       "      <td>False</td>\n",
       "      <td>F/1/S</td>\n",
       "      <td>TRAPPIST-1e</td>\n",
       "      <td>16.0</td>\n",
       "      <td>False</td>\n",
       "      <td>303.0</td>\n",
       "      <td>70.0</td>\n",
       "      <td>151.0</td>\n",
       "      <td>565.0</td>\n",
       "      <td>2.0</td>\n",
       "      <td>Willy Santantines</td>\n",
       "      <td>True</td>\n",
       "    </tr>\n",
       "  </tbody>\n",
       "</table>\n",
       "</div>"
      ],
      "text/plain": [
       "  PassengerId HomePlanet CryoSleep  Cabin  Destination   Age    VIP  \\\n",
       "0     0001_01     Europa     False  B/0/P  TRAPPIST-1e  39.0  False   \n",
       "1     0002_01      Earth     False  F/0/S  TRAPPIST-1e  24.0  False   \n",
       "2     0003_01     Europa     False  A/0/S  TRAPPIST-1e  58.0   True   \n",
       "3     0003_02     Europa     False  A/0/S  TRAPPIST-1e  33.0  False   \n",
       "4     0004_01      Earth     False  F/1/S  TRAPPIST-1e  16.0  False   \n",
       "\n",
       "   RoomService  FoodCourt  ShoppingMall     Spa  VRDeck               Name  \\\n",
       "0          0.0        0.0           0.0     0.0     0.0    Maham Ofracculy   \n",
       "1        109.0        9.0          25.0   549.0    44.0       Juanna Vines   \n",
       "2         43.0     3576.0           0.0  6715.0    49.0      Altark Susent   \n",
       "3          0.0     1283.0         371.0  3329.0   193.0       Solam Susent   \n",
       "4        303.0       70.0         151.0   565.0     2.0  Willy Santantines   \n",
       "\n",
       "   Transported  \n",
       "0        False  \n",
       "1         True  \n",
       "2        False  \n",
       "3        False  \n",
       "4         True  "
      ]
     },
     "execution_count": 3,
     "metadata": {},
     "output_type": "execute_result"
    }
   ],
   "source": [
    "train.head()"
   ]
  },
  {
   "cell_type": "markdown",
   "id": "a8cf12c4",
   "metadata": {
    "papermill": {
     "duration": 0.035378,
     "end_time": "2022-04-05T05:22:10.291095",
     "exception": false,
     "start_time": "2022-04-05T05:22:10.255717",
     "status": "completed"
    },
    "tags": []
   },
   "source": [
    "# EDA"
   ]
  },
  {
   "cell_type": "code",
   "execution_count": 4,
   "id": "c4970c91",
   "metadata": {
    "execution": {
     "iopub.execute_input": "2022-04-05T05:22:10.370397Z",
     "iopub.status.busy": "2022-04-05T05:22:10.369638Z",
     "iopub.status.idle": "2022-04-05T05:22:10.412665Z",
     "shell.execute_reply": "2022-04-05T05:22:10.412128Z",
     "shell.execute_reply.started": "2022-04-05T05:20:37.962014Z"
    },
    "papermill": {
     "duration": 0.085345,
     "end_time": "2022-04-05T05:22:10.412823",
     "exception": false,
     "start_time": "2022-04-05T05:22:10.327478",
     "status": "completed"
    },
    "tags": []
   },
   "outputs": [
    {
     "data": {
      "text/html": [
       "<div>\n",
       "<style scoped>\n",
       "    .dataframe tbody tr th:only-of-type {\n",
       "        vertical-align: middle;\n",
       "    }\n",
       "\n",
       "    .dataframe tbody tr th {\n",
       "        vertical-align: top;\n",
       "    }\n",
       "\n",
       "    .dataframe thead th {\n",
       "        text-align: right;\n",
       "    }\n",
       "</style>\n",
       "<table border=\"1\" class=\"dataframe\">\n",
       "  <thead>\n",
       "    <tr style=\"text-align: right;\">\n",
       "      <th></th>\n",
       "      <th>dtypes</th>\n",
       "      <th>missing</th>\n",
       "      <th>nlevel</th>\n",
       "    </tr>\n",
       "  </thead>\n",
       "  <tbody>\n",
       "    <tr>\n",
       "      <th>PassengerId</th>\n",
       "      <td>object</td>\n",
       "      <td>0</td>\n",
       "      <td>8693</td>\n",
       "    </tr>\n",
       "    <tr>\n",
       "      <th>HomePlanet</th>\n",
       "      <td>object</td>\n",
       "      <td>201</td>\n",
       "      <td>3</td>\n",
       "    </tr>\n",
       "    <tr>\n",
       "      <th>CryoSleep</th>\n",
       "      <td>object</td>\n",
       "      <td>217</td>\n",
       "      <td>2</td>\n",
       "    </tr>\n",
       "    <tr>\n",
       "      <th>Cabin</th>\n",
       "      <td>object</td>\n",
       "      <td>199</td>\n",
       "      <td>6560</td>\n",
       "    </tr>\n",
       "    <tr>\n",
       "      <th>Destination</th>\n",
       "      <td>object</td>\n",
       "      <td>182</td>\n",
       "      <td>3</td>\n",
       "    </tr>\n",
       "    <tr>\n",
       "      <th>Age</th>\n",
       "      <td>float64</td>\n",
       "      <td>179</td>\n",
       "      <td>80</td>\n",
       "    </tr>\n",
       "    <tr>\n",
       "      <th>VIP</th>\n",
       "      <td>object</td>\n",
       "      <td>203</td>\n",
       "      <td>2</td>\n",
       "    </tr>\n",
       "    <tr>\n",
       "      <th>RoomService</th>\n",
       "      <td>float64</td>\n",
       "      <td>181</td>\n",
       "      <td>1273</td>\n",
       "    </tr>\n",
       "    <tr>\n",
       "      <th>FoodCourt</th>\n",
       "      <td>float64</td>\n",
       "      <td>183</td>\n",
       "      <td>1507</td>\n",
       "    </tr>\n",
       "    <tr>\n",
       "      <th>ShoppingMall</th>\n",
       "      <td>float64</td>\n",
       "      <td>208</td>\n",
       "      <td>1115</td>\n",
       "    </tr>\n",
       "    <tr>\n",
       "      <th>Spa</th>\n",
       "      <td>float64</td>\n",
       "      <td>183</td>\n",
       "      <td>1327</td>\n",
       "    </tr>\n",
       "    <tr>\n",
       "      <th>VRDeck</th>\n",
       "      <td>float64</td>\n",
       "      <td>188</td>\n",
       "      <td>1306</td>\n",
       "    </tr>\n",
       "    <tr>\n",
       "      <th>Name</th>\n",
       "      <td>object</td>\n",
       "      <td>200</td>\n",
       "      <td>8473</td>\n",
       "    </tr>\n",
       "    <tr>\n",
       "      <th>Transported</th>\n",
       "      <td>bool</td>\n",
       "      <td>0</td>\n",
       "      <td>2</td>\n",
       "    </tr>\n",
       "  </tbody>\n",
       "</table>\n",
       "</div>"
      ],
      "text/plain": [
       "               dtypes  missing  nlevel\n",
       "PassengerId    object        0    8693\n",
       "HomePlanet     object      201       3\n",
       "CryoSleep      object      217       2\n",
       "Cabin          object      199    6560\n",
       "Destination    object      182       3\n",
       "Age           float64      179      80\n",
       "VIP            object      203       2\n",
       "RoomService   float64      181    1273\n",
       "FoodCourt     float64      183    1507\n",
       "ShoppingMall  float64      208    1115\n",
       "Spa           float64      183    1327\n",
       "VRDeck        float64      188    1306\n",
       "Name           object      200    8473\n",
       "Transported      bool        0       2"
      ]
     },
     "execution_count": 4,
     "metadata": {},
     "output_type": "execute_result"
    }
   ],
   "source": [
    "def eda(df):\n",
    "    summary = pd.DataFrame()\n",
    "    summary['dtypes'] = df.dtypes\n",
    "    summary['missing'] = df.isnull().sum()\n",
    "    summary['nlevel'] = df.nunique()\n",
    "    return summary\n",
    "\n",
    "eda(train)"
   ]
  },
  {
   "cell_type": "code",
   "execution_count": 5,
   "id": "23ab8a55",
   "metadata": {
    "execution": {
     "iopub.execute_input": "2022-04-05T05:22:10.496007Z",
     "iopub.status.busy": "2022-04-05T05:22:10.491944Z",
     "iopub.status.idle": "2022-04-05T05:22:10.512721Z",
     "shell.execute_reply": "2022-04-05T05:22:10.513332Z",
     "shell.execute_reply.started": "2022-04-05T05:20:38.007116Z"
    },
    "papermill": {
     "duration": 0.06372,
     "end_time": "2022-04-05T05:22:10.513503",
     "exception": false,
     "start_time": "2022-04-05T05:22:10.449783",
     "status": "completed"
    },
    "tags": []
   },
   "outputs": [
    {
     "data": {
      "text/html": [
       "<div>\n",
       "<style scoped>\n",
       "    .dataframe tbody tr th:only-of-type {\n",
       "        vertical-align: middle;\n",
       "    }\n",
       "\n",
       "    .dataframe tbody tr th {\n",
       "        vertical-align: top;\n",
       "    }\n",
       "\n",
       "    .dataframe thead th {\n",
       "        text-align: right;\n",
       "    }\n",
       "</style>\n",
       "<table border=\"1\" class=\"dataframe\">\n",
       "  <thead>\n",
       "    <tr style=\"text-align: right;\">\n",
       "      <th></th>\n",
       "      <th>dtypes</th>\n",
       "      <th>missing</th>\n",
       "      <th>nlevel</th>\n",
       "    </tr>\n",
       "  </thead>\n",
       "  <tbody>\n",
       "    <tr>\n",
       "      <th>PassengerId</th>\n",
       "      <td>object</td>\n",
       "      <td>0</td>\n",
       "      <td>4277</td>\n",
       "    </tr>\n",
       "    <tr>\n",
       "      <th>HomePlanet</th>\n",
       "      <td>object</td>\n",
       "      <td>87</td>\n",
       "      <td>3</td>\n",
       "    </tr>\n",
       "    <tr>\n",
       "      <th>CryoSleep</th>\n",
       "      <td>object</td>\n",
       "      <td>93</td>\n",
       "      <td>2</td>\n",
       "    </tr>\n",
       "    <tr>\n",
       "      <th>Cabin</th>\n",
       "      <td>object</td>\n",
       "      <td>100</td>\n",
       "      <td>3265</td>\n",
       "    </tr>\n",
       "    <tr>\n",
       "      <th>Destination</th>\n",
       "      <td>object</td>\n",
       "      <td>92</td>\n",
       "      <td>3</td>\n",
       "    </tr>\n",
       "    <tr>\n",
       "      <th>Age</th>\n",
       "      <td>float64</td>\n",
       "      <td>91</td>\n",
       "      <td>79</td>\n",
       "    </tr>\n",
       "    <tr>\n",
       "      <th>VIP</th>\n",
       "      <td>object</td>\n",
       "      <td>93</td>\n",
       "      <td>2</td>\n",
       "    </tr>\n",
       "    <tr>\n",
       "      <th>RoomService</th>\n",
       "      <td>float64</td>\n",
       "      <td>82</td>\n",
       "      <td>842</td>\n",
       "    </tr>\n",
       "    <tr>\n",
       "      <th>FoodCourt</th>\n",
       "      <td>float64</td>\n",
       "      <td>106</td>\n",
       "      <td>902</td>\n",
       "    </tr>\n",
       "    <tr>\n",
       "      <th>ShoppingMall</th>\n",
       "      <td>float64</td>\n",
       "      <td>98</td>\n",
       "      <td>715</td>\n",
       "    </tr>\n",
       "    <tr>\n",
       "      <th>Spa</th>\n",
       "      <td>float64</td>\n",
       "      <td>101</td>\n",
       "      <td>833</td>\n",
       "    </tr>\n",
       "    <tr>\n",
       "      <th>VRDeck</th>\n",
       "      <td>float64</td>\n",
       "      <td>80</td>\n",
       "      <td>796</td>\n",
       "    </tr>\n",
       "    <tr>\n",
       "      <th>Name</th>\n",
       "      <td>object</td>\n",
       "      <td>94</td>\n",
       "      <td>4176</td>\n",
       "    </tr>\n",
       "  </tbody>\n",
       "</table>\n",
       "</div>"
      ],
      "text/plain": [
       "               dtypes  missing  nlevel\n",
       "PassengerId    object        0    4277\n",
       "HomePlanet     object       87       3\n",
       "CryoSleep      object       93       2\n",
       "Cabin          object      100    3265\n",
       "Destination    object       92       3\n",
       "Age           float64       91      79\n",
       "VIP            object       93       2\n",
       "RoomService   float64       82     842\n",
       "FoodCourt     float64      106     902\n",
       "ShoppingMall  float64       98     715\n",
       "Spa           float64      101     833\n",
       "VRDeck        float64       80     796\n",
       "Name           object       94    4176"
      ]
     },
     "execution_count": 5,
     "metadata": {},
     "output_type": "execute_result"
    }
   ],
   "source": [
    "eda(test)"
   ]
  },
  {
   "cell_type": "code",
   "execution_count": 6,
   "id": "df13a60b",
   "metadata": {
    "execution": {
     "iopub.execute_input": "2022-04-05T05:22:10.590133Z",
     "iopub.status.busy": "2022-04-05T05:22:10.589486Z",
     "iopub.status.idle": "2022-04-05T05:22:10.610081Z",
     "shell.execute_reply": "2022-04-05T05:22:10.610549Z",
     "shell.execute_reply.started": "2022-04-05T05:20:38.037197Z"
    },
    "papermill": {
     "duration": 0.060302,
     "end_time": "2022-04-05T05:22:10.610763",
     "exception": false,
     "start_time": "2022-04-05T05:22:10.550461",
     "status": "completed"
    },
    "tags": []
   },
   "outputs": [
    {
     "data": {
      "text/plain": [
       "0"
      ]
     },
     "execution_count": 6,
     "metadata": {},
     "output_type": "execute_result"
    }
   ],
   "source": [
    "train.duplicated().sum()"
   ]
  },
  {
   "cell_type": "markdown",
   "id": "062f45fe",
   "metadata": {
    "papermill": {
     "duration": 0.037488,
     "end_time": "2022-04-05T05:22:10.685513",
     "exception": false,
     "start_time": "2022-04-05T05:22:10.648025",
     "status": "completed"
    },
    "tags": []
   },
   "source": [
    "## Target"
   ]
  },
  {
   "cell_type": "code",
   "execution_count": 7,
   "id": "2cfe1203",
   "metadata": {
    "execution": {
     "iopub.execute_input": "2022-04-05T05:22:10.768786Z",
     "iopub.status.busy": "2022-04-05T05:22:10.767965Z",
     "iopub.status.idle": "2022-04-05T05:22:10.771303Z",
     "shell.execute_reply": "2022-04-05T05:22:10.771844Z",
     "shell.execute_reply.started": "2022-04-05T05:20:38.061005Z"
    },
    "papermill": {
     "duration": 0.04877,
     "end_time": "2022-04-05T05:22:10.772080",
     "exception": false,
     "start_time": "2022-04-05T05:22:10.723310",
     "status": "completed"
    },
    "tags": []
   },
   "outputs": [
    {
     "data": {
      "text/plain": [
       "True     4378\n",
       "False    4315\n",
       "Name: Transported, dtype: int64"
      ]
     },
     "execution_count": 7,
     "metadata": {},
     "output_type": "execute_result"
    }
   ],
   "source": [
    "train['Transported'].value_counts()"
   ]
  },
  {
   "cell_type": "code",
   "execution_count": 8,
   "id": "94f2cb90",
   "metadata": {
    "execution": {
     "iopub.execute_input": "2022-04-05T05:22:10.851794Z",
     "iopub.status.busy": "2022-04-05T05:22:10.850807Z",
     "iopub.status.idle": "2022-04-05T05:22:10.864282Z",
     "shell.execute_reply": "2022-04-05T05:22:10.864869Z",
     "shell.execute_reply.started": "2022-04-05T05:20:38.071616Z"
    },
    "papermill": {
     "duration": 0.055507,
     "end_time": "2022-04-05T05:22:10.865041",
     "exception": false,
     "start_time": "2022-04-05T05:22:10.809534",
     "status": "completed"
    },
    "tags": []
   },
   "outputs": [
    {
     "data": {
      "text/plain": [
       "Earth     4602\n",
       "Europa    2131\n",
       "Mars      1759\n",
       "Name: HomePlanet, dtype: int64"
      ]
     },
     "execution_count": 8,
     "metadata": {},
     "output_type": "execute_result"
    }
   ],
   "source": [
    "train.select_dtypes(include = 'object').columns\n",
    "\n",
    "\n",
    "train['HomePlanet'].value_counts()"
   ]
  },
  {
   "cell_type": "code",
   "execution_count": 9,
   "id": "fb9afe2d",
   "metadata": {
    "execution": {
     "iopub.execute_input": "2022-04-05T05:22:10.945234Z",
     "iopub.status.busy": "2022-04-05T05:22:10.944514Z",
     "iopub.status.idle": "2022-04-05T05:22:10.951930Z",
     "shell.execute_reply": "2022-04-05T05:22:10.952434Z",
     "shell.execute_reply.started": "2022-04-05T05:20:38.090753Z"
    },
    "papermill": {
     "duration": 0.048786,
     "end_time": "2022-04-05T05:22:10.952607",
     "exception": false,
     "start_time": "2022-04-05T05:22:10.903821",
     "status": "completed"
    },
    "tags": []
   },
   "outputs": [
    {
     "data": {
      "text/plain": [
       "False    5439\n",
       "True     3037\n",
       "Name: CryoSleep, dtype: int64"
      ]
     },
     "execution_count": 9,
     "metadata": {},
     "output_type": "execute_result"
    }
   ],
   "source": [
    "train['CryoSleep'].value_counts()"
   ]
  },
  {
   "cell_type": "code",
   "execution_count": 10,
   "id": "60ccadb8",
   "metadata": {
    "execution": {
     "iopub.execute_input": "2022-04-05T05:22:11.034988Z",
     "iopub.status.busy": "2022-04-05T05:22:11.034337Z",
     "iopub.status.idle": "2022-04-05T05:22:11.041375Z",
     "shell.execute_reply": "2022-04-05T05:22:11.041892Z",
     "shell.execute_reply.started": "2022-04-05T05:20:38.110186Z"
    },
    "papermill": {
     "duration": 0.049693,
     "end_time": "2022-04-05T05:22:11.042069",
     "exception": false,
     "start_time": "2022-04-05T05:22:10.992376",
     "status": "completed"
    },
    "tags": []
   },
   "outputs": [
    {
     "data": {
      "text/plain": [
       "TRAPPIST-1e      5915\n",
       "55 Cancri e      1800\n",
       "PSO J318.5-22     796\n",
       "Name: Destination, dtype: int64"
      ]
     },
     "execution_count": 10,
     "metadata": {},
     "output_type": "execute_result"
    }
   ],
   "source": [
    "train['Destination'].value_counts()"
   ]
  },
  {
   "cell_type": "code",
   "execution_count": 11,
   "id": "4655bd21",
   "metadata": {
    "execution": {
     "iopub.execute_input": "2022-04-05T05:22:11.124110Z",
     "iopub.status.busy": "2022-04-05T05:22:11.123400Z",
     "iopub.status.idle": "2022-04-05T05:22:11.130765Z",
     "shell.execute_reply": "2022-04-05T05:22:11.131229Z",
     "shell.execute_reply.started": "2022-04-05T05:20:38.126756Z"
    },
    "papermill": {
     "duration": 0.049543,
     "end_time": "2022-04-05T05:22:11.131414",
     "exception": false,
     "start_time": "2022-04-05T05:22:11.081871",
     "status": "completed"
    },
    "tags": []
   },
   "outputs": [
    {
     "data": {
      "text/plain": [
       "False    8291\n",
       "True      199\n",
       "Name: VIP, dtype: int64"
      ]
     },
     "execution_count": 11,
     "metadata": {},
     "output_type": "execute_result"
    }
   ],
   "source": [
    "train['VIP'].value_counts()"
   ]
  },
  {
   "cell_type": "code",
   "execution_count": 12,
   "id": "7bab2863",
   "metadata": {
    "execution": {
     "iopub.execute_input": "2022-04-05T05:22:11.213165Z",
     "iopub.status.busy": "2022-04-05T05:22:11.212458Z",
     "iopub.status.idle": "2022-04-05T05:22:12.390165Z",
     "shell.execute_reply": "2022-04-05T05:22:12.390616Z",
     "shell.execute_reply.started": "2022-04-05T05:20:38.141198Z"
    },
    "papermill": {
     "duration": 1.220314,
     "end_time": "2022-04-05T05:22:12.390808",
     "exception": false,
     "start_time": "2022-04-05T05:22:11.170494",
     "status": "completed"
    },
    "tags": []
   },
   "outputs": [
    {
     "data": {
      "image/png": "[encoded data removed]",
      "text/plain": [
       "<Figure size 720x576 with 6 Axes>"
      ]
     },
     "metadata": {
      "needs_background": "light"
     },
     "output_type": "display_data"
    }
   ],
   "source": [
    "train.hist(bins = 50, figsize = (10,8))\n",
    "plt.show()"
   ]
  },
  {
   "cell_type": "code",
   "execution_count": 13,
   "id": "42452170",
   "metadata": {
    "execution": {
     "iopub.execute_input": "2022-04-05T05:22:12.474825Z",
     "iopub.status.busy": "2022-04-05T05:22:12.474183Z",
     "iopub.status.idle": "2022-04-05T05:22:12.503901Z",
     "shell.execute_reply": "2022-04-05T05:22:12.504470Z",
     "shell.execute_reply.started": "2022-04-05T05:20:39.295822Z"
    },
    "papermill": {
     "duration": 0.073425,
     "end_time": "2022-04-05T05:22:12.504641",
     "exception": false,
     "start_time": "2022-04-05T05:22:12.431216",
     "status": "completed"
    },
    "tags": []
   },
   "outputs": [
    {
     "data": {
      "text/html": [
       "<div>\n",
       "<style scoped>\n",
       "    .dataframe tbody tr th:only-of-type {\n",
       "        vertical-align: middle;\n",
       "    }\n",
       "\n",
       "    .dataframe tbody tr th {\n",
       "        vertical-align: top;\n",
       "    }\n",
       "\n",
       "    .dataframe thead th {\n",
       "        text-align: right;\n",
       "    }\n",
       "</style>\n",
       "<table border=\"1\" class=\"dataframe\">\n",
       "  <thead>\n",
       "    <tr style=\"text-align: right;\">\n",
       "      <th></th>\n",
       "      <th>Age</th>\n",
       "      <th>RoomService</th>\n",
       "      <th>FoodCourt</th>\n",
       "      <th>ShoppingMall</th>\n",
       "      <th>Spa</th>\n",
       "      <th>VRDeck</th>\n",
       "    </tr>\n",
       "  </thead>\n",
       "  <tbody>\n",
       "    <tr>\n",
       "      <th>count</th>\n",
       "      <td>8514.000000</td>\n",
       "      <td>8512.000000</td>\n",
       "      <td>8510.000000</td>\n",
       "      <td>8485.000000</td>\n",
       "      <td>8510.000000</td>\n",
       "      <td>8505.000000</td>\n",
       "    </tr>\n",
       "    <tr>\n",
       "      <th>mean</th>\n",
       "      <td>28.827930</td>\n",
       "      <td>224.687617</td>\n",
       "      <td>458.077203</td>\n",
       "      <td>173.729169</td>\n",
       "      <td>311.138778</td>\n",
       "      <td>304.854791</td>\n",
       "    </tr>\n",
       "    <tr>\n",
       "      <th>std</th>\n",
       "      <td>14.489021</td>\n",
       "      <td>666.717663</td>\n",
       "      <td>1611.489240</td>\n",
       "      <td>604.696458</td>\n",
       "      <td>1136.705535</td>\n",
       "      <td>1145.717189</td>\n",
       "    </tr>\n",
       "    <tr>\n",
       "      <th>min</th>\n",
       "      <td>0.000000</td>\n",
       "      <td>0.000000</td>\n",
       "      <td>0.000000</td>\n",
       "      <td>0.000000</td>\n",
       "      <td>0.000000</td>\n",
       "      <td>0.000000</td>\n",
       "    </tr>\n",
       "    <tr>\n",
       "      <th>25%</th>\n",
       "      <td>19.000000</td>\n",
       "      <td>0.000000</td>\n",
       "      <td>0.000000</td>\n",
       "      <td>0.000000</td>\n",
       "      <td>0.000000</td>\n",
       "      <td>0.000000</td>\n",
       "    </tr>\n",
       "    <tr>\n",
       "      <th>50%</th>\n",
       "      <td>27.000000</td>\n",
       "      <td>0.000000</td>\n",
       "      <td>0.000000</td>\n",
       "      <td>0.000000</td>\n",
       "      <td>0.000000</td>\n",
       "      <td>0.000000</td>\n",
       "    </tr>\n",
       "    <tr>\n",
       "      <th>75%</th>\n",
       "      <td>38.000000</td>\n",
       "      <td>47.000000</td>\n",
       "      <td>76.000000</td>\n",
       "      <td>27.000000</td>\n",
       "      <td>59.000000</td>\n",
       "      <td>46.000000</td>\n",
       "    </tr>\n",
       "    <tr>\n",
       "      <th>max</th>\n",
       "      <td>79.000000</td>\n",
       "      <td>14327.000000</td>\n",
       "      <td>29813.000000</td>\n",
       "      <td>23492.000000</td>\n",
       "      <td>22408.000000</td>\n",
       "      <td>24133.000000</td>\n",
       "    </tr>\n",
       "  </tbody>\n",
       "</table>\n",
       "</div>"
      ],
      "text/plain": [
       "               Age   RoomService     FoodCourt  ShoppingMall           Spa  \\\n",
       "count  8514.000000   8512.000000   8510.000000   8485.000000   8510.000000   \n",
       "mean     28.827930    224.687617    458.077203    173.729169    311.138778   \n",
       "std      14.489021    666.717663   1611.489240    604.696458   1136.705535   \n",
       "min       0.000000      0.000000      0.000000      0.000000      0.000000   \n",
       "25%      19.000000      0.000000      0.000000      0.000000      0.000000   \n",
       "50%      27.000000      0.000000      0.000000      0.000000      0.000000   \n",
       "75%      38.000000     47.000000     76.000000     27.000000     59.000000   \n",
       "max      79.000000  14327.000000  29813.000000  23492.000000  22408.000000   \n",
       "\n",
       "             VRDeck  \n",
       "count   8505.000000  \n",
       "mean     304.854791  \n",
       "std     1145.717189  \n",
       "min        0.000000  \n",
       "25%        0.000000  \n",
       "50%        0.000000  \n",
       "75%       46.000000  \n",
       "max    24133.000000  "
      ]
     },
     "execution_count": 13,
     "metadata": {},
     "output_type": "execute_result"
    }
   ],
   "source": [
    "train.describe()"
   ]
  },
  {
   "cell_type": "code",
   "execution_count": 14,
   "id": "a891dd0a",
   "metadata": {
    "execution": {
     "iopub.execute_input": "2022-04-05T05:22:12.590027Z",
     "iopub.status.busy": "2022-04-05T05:22:12.589229Z",
     "iopub.status.idle": "2022-04-05T05:22:12.592248Z",
     "shell.execute_reply": "2022-04-05T05:22:12.592822Z",
     "shell.execute_reply.started": "2022-04-05T05:20:39.334405Z"
    },
    "papermill": {
     "duration": 0.047077,
     "end_time": "2022-04-05T05:22:12.592998",
     "exception": false,
     "start_time": "2022-04-05T05:22:12.545921",
     "status": "completed"
    },
    "tags": []
   },
   "outputs": [],
   "source": [
    "#train[train.Spa > 10000]"
   ]
  },
  {
   "cell_type": "code",
   "execution_count": 15,
   "id": "054044ae",
   "metadata": {
    "execution": {
     "iopub.execute_input": "2022-04-05T05:22:12.679089Z",
     "iopub.status.busy": "2022-04-05T05:22:12.678414Z",
     "iopub.status.idle": "2022-04-05T05:22:12.966572Z",
     "shell.execute_reply": "2022-04-05T05:22:12.967115Z",
     "shell.execute_reply.started": "2022-04-05T05:20:39.339794Z"
    },
    "papermill": {
     "duration": 0.332639,
     "end_time": "2022-04-05T05:22:12.967291",
     "exception": false,
     "start_time": "2022-04-05T05:22:12.634652",
     "status": "completed"
    },
    "tags": []
   },
   "outputs": [
    {
     "data": {
      "image/png": "[encoded data removed]",
      "text/plain": [
       "<Figure size 432x288 with 2 Axes>"
      ]
     },
     "metadata": {
      "needs_background": "light"
     },
     "output_type": "display_data"
    }
   ],
   "source": [
    "sns.heatmap(train.corr(), cmap = 'coolwarm')\n",
    "plt.show()"
   ]
  },
  {
   "cell_type": "code",
   "execution_count": 16,
   "id": "003d6d02",
   "metadata": {
    "execution": {
     "iopub.execute_input": "2022-04-05T05:22:13.061478Z",
     "iopub.status.busy": "2022-04-05T05:22:13.060382Z",
     "iopub.status.idle": "2022-04-05T05:22:13.072301Z",
     "shell.execute_reply": "2022-04-05T05:22:13.072779Z",
     "shell.execute_reply.started": "2022-04-05T05:20:39.603476Z"
    },
    "papermill": {
     "duration": 0.062776,
     "end_time": "2022-04-05T05:22:13.072972",
     "exception": false,
     "start_time": "2022-04-05T05:22:13.010196",
     "status": "completed"
    },
    "tags": []
   },
   "outputs": [
    {
     "data": {
      "text/html": [
       "<div>\n",
       "<style scoped>\n",
       "    .dataframe tbody tr th:only-of-type {\n",
       "        vertical-align: middle;\n",
       "    }\n",
       "\n",
       "    .dataframe tbody tr th {\n",
       "        vertical-align: top;\n",
       "    }\n",
       "\n",
       "    .dataframe thead th {\n",
       "        text-align: right;\n",
       "    }\n",
       "</style>\n",
       "<table border=\"1\" class=\"dataframe\">\n",
       "  <thead>\n",
       "    <tr style=\"text-align: right;\">\n",
       "      <th></th>\n",
       "      <th>index</th>\n",
       "      <th>Transported</th>\n",
       "    </tr>\n",
       "  </thead>\n",
       "  <tbody>\n",
       "    <tr>\n",
       "      <th>0</th>\n",
       "      <td>RoomService</td>\n",
       "      <td>-0.244611</td>\n",
       "    </tr>\n",
       "    <tr>\n",
       "      <th>1</th>\n",
       "      <td>Spa</td>\n",
       "      <td>-0.221131</td>\n",
       "    </tr>\n",
       "    <tr>\n",
       "      <th>2</th>\n",
       "      <td>VRDeck</td>\n",
       "      <td>-0.207075</td>\n",
       "    </tr>\n",
       "    <tr>\n",
       "      <th>3</th>\n",
       "      <td>Age</td>\n",
       "      <td>-0.075026</td>\n",
       "    </tr>\n",
       "    <tr>\n",
       "      <th>4</th>\n",
       "      <td>ShoppingMall</td>\n",
       "      <td>0.010141</td>\n",
       "    </tr>\n",
       "    <tr>\n",
       "      <th>5</th>\n",
       "      <td>FoodCourt</td>\n",
       "      <td>0.046566</td>\n",
       "    </tr>\n",
       "    <tr>\n",
       "      <th>6</th>\n",
       "      <td>Transported</td>\n",
       "      <td>1.000000</td>\n",
       "    </tr>\n",
       "  </tbody>\n",
       "</table>\n",
       "</div>"
      ],
      "text/plain": [
       "          index  Transported\n",
       "0   RoomService    -0.244611\n",
       "1           Spa    -0.221131\n",
       "2        VRDeck    -0.207075\n",
       "3           Age    -0.075026\n",
       "4  ShoppingMall     0.010141\n",
       "5     FoodCourt     0.046566\n",
       "6   Transported     1.000000"
      ]
     },
     "execution_count": 16,
     "metadata": {},
     "output_type": "execute_result"
    }
   ],
   "source": [
    "train.corr()['Transported'].sort_values().reset_index()"
   ]
  },
  {
   "cell_type": "markdown",
   "id": "ea6371b6",
   "metadata": {
    "papermill": {
     "duration": 0.04183,
     "end_time": "2022-04-05T05:22:13.156897",
     "exception": false,
     "start_time": "2022-04-05T05:22:13.115067",
     "status": "completed"
    },
    "tags": []
   },
   "source": [
    "# FE"
   ]
  },
  {
   "cell_type": "code",
   "execution_count": 17,
   "id": "fa7e496b",
   "metadata": {
    "execution": {
     "iopub.execute_input": "2022-04-05T05:22:13.250811Z",
     "iopub.status.busy": "2022-04-05T05:22:13.249656Z",
     "iopub.status.idle": "2022-04-05T05:22:13.286348Z",
     "shell.execute_reply": "2022-04-05T05:22:13.286868Z",
     "shell.execute_reply.started": "2022-04-05T05:20:39.620751Z"
    },
    "papermill": {
     "duration": 0.087932,
     "end_time": "2022-04-05T05:22:13.287055",
     "exception": false,
     "start_time": "2022-04-05T05:22:13.199123",
     "status": "completed"
    },
    "tags": []
   },
   "outputs": [
    {
     "name": "stdout",
     "output_type": "stream",
     "text": [
      "(12970, 14)\n"
     ]
    }
   ],
   "source": [
    "df = pd.concat([train, test])\n",
    "\n",
    "df['Transported'] = df['Transported'].fillna(-1).astype('int')\n",
    "df['CryoSleep'] = df['CryoSleep'].fillna(-1).astype('int')\n",
    "df['VIP'] = df['VIP'].fillna(-1).astype('int')\n",
    "\n",
    "obj_cols = ['HomePlanet',   'Destination', 'Name','Cabin']\n",
    "for c in obj_cols:\n",
    "    df[c] = df[c].fillna('None')\n",
    "\n",
    "num_cols = ['Age','RoomService', 'FoodCourt', 'ShoppingMall', 'Spa', 'VRDeck']\n",
    "for c in num_cols:\n",
    "    df[c] = df[c].fillna(df[c].median())\n",
    "    \n",
    "  \n",
    "print(df.shape)"
   ]
  },
  {
   "cell_type": "code",
   "execution_count": 18,
   "id": "d51cc11c",
   "metadata": {
    "execution": {
     "iopub.execute_input": "2022-04-05T05:22:13.565927Z",
     "iopub.status.busy": "2022-04-05T05:22:13.549256Z",
     "iopub.status.idle": "2022-04-05T05:22:13.570479Z",
     "shell.execute_reply": "2022-04-05T05:22:13.569931Z",
     "shell.execute_reply.started": "2022-04-05T05:20:39.675374Z"
    },
    "papermill": {
     "duration": 0.240826,
     "end_time": "2022-04-05T05:22:13.570619",
     "exception": false,
     "start_time": "2022-04-05T05:22:13.329793",
     "status": "completed"
    },
    "tags": []
   },
   "outputs": [
    {
     "data": {
      "text/html": [
       "<div>\n",
       "<style scoped>\n",
       "    .dataframe tbody tr th:only-of-type {\n",
       "        vertical-align: middle;\n",
       "    }\n",
       "\n",
       "    .dataframe tbody tr th {\n",
       "        vertical-align: top;\n",
       "    }\n",
       "\n",
       "    .dataframe thead th {\n",
       "        text-align: right;\n",
       "    }\n",
       "</style>\n",
       "<table border=\"1\" class=\"dataframe\">\n",
       "  <thead>\n",
       "    <tr style=\"text-align: right;\">\n",
       "      <th></th>\n",
       "      <th>PassengerId</th>\n",
       "      <th>HomePlanet</th>\n",
       "      <th>CryoSleep</th>\n",
       "      <th>Cabin</th>\n",
       "      <th>Destination</th>\n",
       "      <th>Age</th>\n",
       "      <th>VIP</th>\n",
       "      <th>RoomService</th>\n",
       "      <th>FoodCourt</th>\n",
       "      <th>ShoppingMall</th>\n",
       "      <th>Spa</th>\n",
       "      <th>VRDeck</th>\n",
       "      <th>Name</th>\n",
       "      <th>Transported</th>\n",
       "      <th>deck</th>\n",
       "      <th>num</th>\n",
       "      <th>side</th>\n",
       "      <th>deck_side</th>\n",
       "    </tr>\n",
       "  </thead>\n",
       "  <tbody>\n",
       "    <tr>\n",
       "      <th>0</th>\n",
       "      <td>0001_01</td>\n",
       "      <td>Europa</td>\n",
       "      <td>0</td>\n",
       "      <td>B/0/P</td>\n",
       "      <td>TRAPPIST-1e</td>\n",
       "      <td>39.0</td>\n",
       "      <td>0</td>\n",
       "      <td>0.0</td>\n",
       "      <td>0.0</td>\n",
       "      <td>0.0</td>\n",
       "      <td>0.0</td>\n",
       "      <td>0.0</td>\n",
       "      <td>Maham Ofracculy</td>\n",
       "      <td>0</td>\n",
       "      <td>B</td>\n",
       "      <td>0</td>\n",
       "      <td>P</td>\n",
       "      <td>B_P</td>\n",
       "    </tr>\n",
       "    <tr>\n",
       "      <th>1</th>\n",
       "      <td>0002_01</td>\n",
       "      <td>Earth</td>\n",
       "      <td>0</td>\n",
       "      <td>F/0/S</td>\n",
       "      <td>TRAPPIST-1e</td>\n",
       "      <td>24.0</td>\n",
       "      <td>0</td>\n",
       "      <td>109.0</td>\n",
       "      <td>9.0</td>\n",
       "      <td>25.0</td>\n",
       "      <td>549.0</td>\n",
       "      <td>44.0</td>\n",
       "      <td>Juanna Vines</td>\n",
       "      <td>1</td>\n",
       "      <td>F</td>\n",
       "      <td>0</td>\n",
       "      <td>S</td>\n",
       "      <td>F_S</td>\n",
       "    </tr>\n",
       "    <tr>\n",
       "      <th>2</th>\n",
       "      <td>0003_01</td>\n",
       "      <td>Europa</td>\n",
       "      <td>0</td>\n",
       "      <td>A/0/S</td>\n",
       "      <td>TRAPPIST-1e</td>\n",
       "      <td>58.0</td>\n",
       "      <td>1</td>\n",
       "      <td>43.0</td>\n",
       "      <td>3576.0</td>\n",
       "      <td>0.0</td>\n",
       "      <td>6715.0</td>\n",
       "      <td>49.0</td>\n",
       "      <td>Altark Susent</td>\n",
       "      <td>0</td>\n",
       "      <td>A</td>\n",
       "      <td>0</td>\n",
       "      <td>S</td>\n",
       "      <td>A_S</td>\n",
       "    </tr>\n",
       "    <tr>\n",
       "      <th>3</th>\n",
       "      <td>0003_02</td>\n",
       "      <td>Europa</td>\n",
       "      <td>0</td>\n",
       "      <td>A/0/S</td>\n",
       "      <td>TRAPPIST-1e</td>\n",
       "      <td>33.0</td>\n",
       "      <td>0</td>\n",
       "      <td>0.0</td>\n",
       "      <td>1283.0</td>\n",
       "      <td>371.0</td>\n",
       "      <td>3329.0</td>\n",
       "      <td>193.0</td>\n",
       "      <td>Solam Susent</td>\n",
       "      <td>0</td>\n",
       "      <td>A</td>\n",
       "      <td>0</td>\n",
       "      <td>S</td>\n",
       "      <td>A_S</td>\n",
       "    </tr>\n",
       "    <tr>\n",
       "      <th>4</th>\n",
       "      <td>0004_01</td>\n",
       "      <td>Earth</td>\n",
       "      <td>0</td>\n",
       "      <td>F/1/S</td>\n",
       "      <td>TRAPPIST-1e</td>\n",
       "      <td>16.0</td>\n",
       "      <td>0</td>\n",
       "      <td>303.0</td>\n",
       "      <td>70.0</td>\n",
       "      <td>151.0</td>\n",
       "      <td>565.0</td>\n",
       "      <td>2.0</td>\n",
       "      <td>Willy Santantines</td>\n",
       "      <td>1</td>\n",
       "      <td>F</td>\n",
       "      <td>1</td>\n",
       "      <td>S</td>\n",
       "      <td>F_S</td>\n",
       "    </tr>\n",
       "  </tbody>\n",
       "</table>\n",
       "</div>"
      ],
      "text/plain": [
       "  PassengerId HomePlanet  CryoSleep  Cabin  Destination   Age  VIP  \\\n",
       "0     0001_01     Europa          0  B/0/P  TRAPPIST-1e  39.0    0   \n",
       "1     0002_01      Earth          0  F/0/S  TRAPPIST-1e  24.0    0   \n",
       "2     0003_01     Europa          0  A/0/S  TRAPPIST-1e  58.0    1   \n",
       "3     0003_02     Europa          0  A/0/S  TRAPPIST-1e  33.0    0   \n",
       "4     0004_01      Earth          0  F/1/S  TRAPPIST-1e  16.0    0   \n",
       "\n",
       "   RoomService  FoodCourt  ShoppingMall     Spa  VRDeck               Name  \\\n",
       "0          0.0        0.0           0.0     0.0     0.0    Maham Ofracculy   \n",
       "1        109.0        9.0          25.0   549.0    44.0       Juanna Vines   \n",
       "2         43.0     3576.0           0.0  6715.0    49.0      Altark Susent   \n",
       "3          0.0     1283.0         371.0  3329.0   193.0       Solam Susent   \n",
       "4        303.0       70.0         151.0   565.0     2.0  Willy Santantines   \n",
       "\n",
       "   Transported deck  num side deck_side  \n",
       "0            0    B    0    P       B_P  \n",
       "1            1    F    0    S       F_S  \n",
       "2            0    A    0    S       A_S  \n",
       "3            0    A    0    S       A_S  \n",
       "4            1    F    1    S       F_S  "
      ]
     },
     "execution_count": 18,
     "metadata": {},
     "output_type": "execute_result"
    }
   ],
   "source": [
    "df['deck'] = df['Cabin'].astype(str).apply(lambda x: x.split('/')[0])\n",
    "df['num'] = df['Cabin'].astype(str).apply(lambda x: int(x.split('/')[1]) if x != 'None' else -1)\n",
    "df['side'] = df['Cabin'].astype(str).apply(lambda x: x.split('/')[-1])\n",
    "\n",
    "#df['total_spent'] = df[['RoomService', 'FoodCourt', 'ShoppingMall', 'Spa', 'VRDeck']].sum(axis = 1)\n",
    "#df['Age'] = pd.cut(df['Age'], 8)\n",
    "\n",
    "df['deck_side'] = df['deck'].astype(str) + '_' + df['side'].astype(str)\n",
    "#df['num_by_deck'] = df.groupby('deck_side')['num'].transform('mean')\n",
    "#df['FoodCourt_by_deck'] = df.groupby('deck_side')['FoodCourt'].transform('mean')\n",
    "\n",
    "df.head()"
   ]
  },
  {
   "cell_type": "code",
   "execution_count": 19,
   "id": "3c7bc6a2",
   "metadata": {
    "execution": {
     "iopub.execute_input": "2022-04-05T05:22:13.663816Z",
     "iopub.status.busy": "2022-04-05T05:22:13.663141Z",
     "iopub.status.idle": "2022-04-05T05:22:13.665631Z",
     "shell.execute_reply": "2022-04-05T05:22:13.666155Z",
     "shell.execute_reply.started": "2022-04-05T05:20:39.743849Z"
    },
    "papermill": {
     "duration": 0.051838,
     "end_time": "2022-04-05T05:22:13.666345",
     "exception": false,
     "start_time": "2022-04-05T05:22:13.614507",
     "status": "completed"
    },
    "tags": []
   },
   "outputs": [],
   "source": [
    "# def age_group(age):\n",
    "#     if age >= 50:\n",
    "#         age_grp = '>=50'\n",
    "#     elif age< 50 and age > 20:\n",
    "#         age_grp = '20_to_50'\n",
    "#     else:\n",
    "#         age_grp = '<20'\n",
    "#     return age_grp\n",
    "\n",
    "# df['age_grp'] = df['Age'].apply(age_group)\n",
    "# df.age_grp.value_counts()"
   ]
  },
  {
   "cell_type": "code",
   "execution_count": 20,
   "id": "fe8f2463",
   "metadata": {
    "execution": {
     "iopub.execute_input": "2022-04-05T05:22:13.767855Z",
     "iopub.status.busy": "2022-04-05T05:22:13.767127Z",
     "iopub.status.idle": "2022-04-05T05:22:13.777354Z",
     "shell.execute_reply": "2022-04-05T05:22:13.777922Z",
     "shell.execute_reply.started": "2022-04-05T05:20:39.752816Z"
    },
    "papermill": {
     "duration": 0.06808,
     "end_time": "2022-04-05T05:22:13.778094",
     "exception": false,
     "start_time": "2022-04-05T05:22:13.710014",
     "status": "completed"
    },
    "tags": []
   },
   "outputs": [
    {
     "data": {
      "text/plain": [
       "PassengerId     0\n",
       "HomePlanet      0\n",
       "CryoSleep       0\n",
       "Cabin           0\n",
       "Destination     0\n",
       "Age             0\n",
       "VIP             0\n",
       "RoomService     0\n",
       "FoodCourt       0\n",
       "ShoppingMall    0\n",
       "Spa             0\n",
       "VRDeck          0\n",
       "Name            0\n",
       "Transported     0\n",
       "deck            0\n",
       "num             0\n",
       "side            0\n",
       "deck_side       0\n",
       "dtype: int64"
      ]
     },
     "execution_count": 20,
     "metadata": {},
     "output_type": "execute_result"
    }
   ],
   "source": [
    "df.isnull().sum()"
   ]
  },
  {
   "cell_type": "markdown",
   "id": "70804b53",
   "metadata": {
    "papermill": {
     "duration": 0.044474,
     "end_time": "2022-04-05T05:22:13.866481",
     "exception": false,
     "start_time": "2022-04-05T05:22:13.822007",
     "status": "completed"
    },
    "tags": []
   },
   "source": [
    "# Pre-processing"
   ]
  },
  {
   "cell_type": "code",
   "execution_count": 21,
   "id": "4e121928",
   "metadata": {
    "execution": {
     "iopub.execute_input": "2022-04-05T05:22:13.958337Z",
     "iopub.status.busy": "2022-04-05T05:22:13.957705Z",
     "iopub.status.idle": "2022-04-05T05:22:14.148492Z",
     "shell.execute_reply": "2022-04-05T05:22:14.147980Z",
     "shell.execute_reply.started": "2022-04-05T05:20:39.782762Z"
    },
    "papermill": {
     "duration": 0.237827,
     "end_time": "2022-04-05T05:22:14.148638",
     "exception": false,
     "start_time": "2022-04-05T05:22:13.910811",
     "status": "completed"
    },
    "tags": []
   },
   "outputs": [
    {
     "data": {
      "text/html": [
       "<div>\n",
       "<style scoped>\n",
       "    .dataframe tbody tr th:only-of-type {\n",
       "        vertical-align: middle;\n",
       "    }\n",
       "\n",
       "    .dataframe tbody tr th {\n",
       "        vertical-align: top;\n",
       "    }\n",
       "\n",
       "    .dataframe thead th {\n",
       "        text-align: right;\n",
       "    }\n",
       "</style>\n",
       "<table border=\"1\" class=\"dataframe\">\n",
       "  <thead>\n",
       "    <tr style=\"text-align: right;\">\n",
       "      <th></th>\n",
       "      <th>PassengerId</th>\n",
       "      <th>HomePlanet</th>\n",
       "      <th>CryoSleep</th>\n",
       "      <th>Cabin</th>\n",
       "      <th>Destination</th>\n",
       "      <th>Age</th>\n",
       "      <th>VIP</th>\n",
       "      <th>RoomService</th>\n",
       "      <th>FoodCourt</th>\n",
       "      <th>ShoppingMall</th>\n",
       "      <th>Spa</th>\n",
       "      <th>VRDeck</th>\n",
       "      <th>Name</th>\n",
       "      <th>Transported</th>\n",
       "      <th>deck</th>\n",
       "      <th>num</th>\n",
       "      <th>side</th>\n",
       "      <th>deck_side</th>\n",
       "    </tr>\n",
       "  </thead>\n",
       "  <tbody>\n",
       "    <tr>\n",
       "      <th>0</th>\n",
       "      <td>0001_01</td>\n",
       "      <td>1</td>\n",
       "      <td>0</td>\n",
       "      <td>B/0/P</td>\n",
       "      <td>3</td>\n",
       "      <td>39.0</td>\n",
       "      <td>0</td>\n",
       "      <td>0.0</td>\n",
       "      <td>0.0</td>\n",
       "      <td>0.0</td>\n",
       "      <td>0.0</td>\n",
       "      <td>0.0</td>\n",
       "      <td>Maham Ofracculy</td>\n",
       "      <td>0</td>\n",
       "      <td>1</td>\n",
       "      <td>0</td>\n",
       "      <td>1</td>\n",
       "      <td>2</td>\n",
       "    </tr>\n",
       "    <tr>\n",
       "      <th>1</th>\n",
       "      <td>0002_01</td>\n",
       "      <td>0</td>\n",
       "      <td>0</td>\n",
       "      <td>F/0/S</td>\n",
       "      <td>3</td>\n",
       "      <td>24.0</td>\n",
       "      <td>0</td>\n",
       "      <td>109.0</td>\n",
       "      <td>9.0</td>\n",
       "      <td>25.0</td>\n",
       "      <td>549.0</td>\n",
       "      <td>44.0</td>\n",
       "      <td>Juanna Vines</td>\n",
       "      <td>1</td>\n",
       "      <td>5</td>\n",
       "      <td>0</td>\n",
       "      <td>2</td>\n",
       "      <td>11</td>\n",
       "    </tr>\n",
       "    <tr>\n",
       "      <th>2</th>\n",
       "      <td>0003_01</td>\n",
       "      <td>1</td>\n",
       "      <td>0</td>\n",
       "      <td>A/0/S</td>\n",
       "      <td>3</td>\n",
       "      <td>58.0</td>\n",
       "      <td>1</td>\n",
       "      <td>43.0</td>\n",
       "      <td>3576.0</td>\n",
       "      <td>0.0</td>\n",
       "      <td>6715.0</td>\n",
       "      <td>49.0</td>\n",
       "      <td>Altark Susent</td>\n",
       "      <td>0</td>\n",
       "      <td>0</td>\n",
       "      <td>0</td>\n",
       "      <td>2</td>\n",
       "      <td>1</td>\n",
       "    </tr>\n",
       "    <tr>\n",
       "      <th>3</th>\n",
       "      <td>0003_02</td>\n",
       "      <td>1</td>\n",
       "      <td>0</td>\n",
       "      <td>A/0/S</td>\n",
       "      <td>3</td>\n",
       "      <td>33.0</td>\n",
       "      <td>0</td>\n",
       "      <td>0.0</td>\n",
       "      <td>1283.0</td>\n",
       "      <td>371.0</td>\n",
       "      <td>3329.0</td>\n",
       "      <td>193.0</td>\n",
       "      <td>Solam Susent</td>\n",
       "      <td>0</td>\n",
       "      <td>0</td>\n",
       "      <td>0</td>\n",
       "      <td>2</td>\n",
       "      <td>1</td>\n",
       "    </tr>\n",
       "    <tr>\n",
       "      <th>4</th>\n",
       "      <td>0004_01</td>\n",
       "      <td>0</td>\n",
       "      <td>0</td>\n",
       "      <td>F/1/S</td>\n",
       "      <td>3</td>\n",
       "      <td>16.0</td>\n",
       "      <td>0</td>\n",
       "      <td>303.0</td>\n",
       "      <td>70.0</td>\n",
       "      <td>151.0</td>\n",
       "      <td>565.0</td>\n",
       "      <td>2.0</td>\n",
       "      <td>Willy Santantines</td>\n",
       "      <td>1</td>\n",
       "      <td>5</td>\n",
       "      <td>1</td>\n",
       "      <td>2</td>\n",
       "      <td>11</td>\n",
       "    </tr>\n",
       "  </tbody>\n",
       "</table>\n",
       "</div>"
      ],
      "text/plain": [
       "  PassengerId  HomePlanet  CryoSleep  Cabin  Destination   Age  VIP  \\\n",
       "0     0001_01           1          0  B/0/P            3  39.0    0   \n",
       "1     0002_01           0          0  F/0/S            3  24.0    0   \n",
       "2     0003_01           1          0  A/0/S            3  58.0    1   \n",
       "3     0003_02           1          0  A/0/S            3  33.0    0   \n",
       "4     0004_01           0          0  F/1/S            3  16.0    0   \n",
       "\n",
       "   RoomService  FoodCourt  ShoppingMall     Spa  VRDeck               Name  \\\n",
       "0          0.0        0.0           0.0     0.0     0.0    Maham Ofracculy   \n",
       "1        109.0        9.0          25.0   549.0    44.0       Juanna Vines   \n",
       "2         43.0     3576.0           0.0  6715.0    49.0      Altark Susent   \n",
       "3          0.0     1283.0         371.0  3329.0   193.0       Solam Susent   \n",
       "4        303.0       70.0         151.0   565.0     2.0  Willy Santantines   \n",
       "\n",
       "   Transported  deck  num  side  deck_side  \n",
       "0            0     1    0     1          2  \n",
       "1            1     5    0     2         11  \n",
       "2            0     0    0     2          1  \n",
       "3            0     0    0     2          1  \n",
       "4            1     5    1     2         11  "
      ]
     },
     "execution_count": 21,
     "metadata": {},
     "output_type": "execute_result"
    }
   ],
   "source": [
    "from sklearn.preprocessing import LabelEncoder, StandardScaler\n",
    "le = LabelEncoder()\n",
    "\n",
    "for c in ['deck','side','Destination','HomePlanet','deck_side']:\n",
    "    df[c] = le.fit_transform(df[c])\n",
    "\n",
    "df.head()    "
   ]
  },
  {
   "cell_type": "code",
   "execution_count": 22,
   "id": "6f2731ad",
   "metadata": {
    "execution": {
     "iopub.execute_input": "2022-04-05T05:22:14.244046Z",
     "iopub.status.busy": "2022-04-05T05:22:14.243357Z",
     "iopub.status.idle": "2022-04-05T05:22:14.251281Z",
     "shell.execute_reply": "2022-04-05T05:22:14.251877Z",
     "shell.execute_reply.started": "2022-04-05T05:20:39.983019Z"
    },
    "papermill": {
     "duration": 0.056985,
     "end_time": "2022-04-05T05:22:14.252047",
     "exception": false,
     "start_time": "2022-04-05T05:22:14.195062",
     "status": "completed"
    },
    "tags": []
   },
   "outputs": [
    {
     "data": {
      "text/plain": [
       "True     144\n",
       "False     34\n",
       "Name: Transported, dtype: int64"
      ]
     },
     "execution_count": 22,
     "metadata": {},
     "output_type": "execute_result"
    }
   ],
   "source": [
    "train[train.Age < 1]['Transported'].value_counts()"
   ]
  },
  {
   "cell_type": "code",
   "execution_count": 23,
   "id": "7217c001",
   "metadata": {
    "execution": {
     "iopub.execute_input": "2022-04-05T05:22:14.352152Z",
     "iopub.status.busy": "2022-04-05T05:22:14.350987Z",
     "iopub.status.idle": "2022-04-05T05:22:14.360393Z",
     "shell.execute_reply": "2022-04-05T05:22:14.359829Z",
     "shell.execute_reply.started": "2022-04-05T05:20:39.995307Z"
    },
    "papermill": {
     "duration": 0.063387,
     "end_time": "2022-04-05T05:22:14.360538",
     "exception": false,
     "start_time": "2022-04-05T05:22:14.297151",
     "status": "completed"
    },
    "tags": []
   },
   "outputs": [
    {
     "name": "stdout",
     "output_type": "stream",
     "text": [
      "(8693, 14)\n",
      "(4277, 14)\n"
     ]
    }
   ],
   "source": [
    "train = df[:len(train)]\n",
    "test = df[-len(test):]\n",
    "\n",
    "X_train = train.drop(['PassengerId','Cabin','Name','Transported'], axis = 1)\n",
    "y_train = train.Transported\n",
    "\n",
    "X_test = test.drop(['PassengerId','Cabin','Name','Transported'], axis = 1)\n",
    "\n",
    "print(X_train.shape)\n",
    "print(X_test.shape)"
   ]
  },
  {
   "cell_type": "code",
   "execution_count": 24,
   "id": "1d23bee7",
   "metadata": {
    "execution": {
     "iopub.execute_input": "2022-04-05T05:22:14.470293Z",
     "iopub.status.busy": "2022-04-05T05:22:14.469613Z",
     "iopub.status.idle": "2022-04-05T05:22:14.472317Z",
     "shell.execute_reply": "2022-04-05T05:22:14.472829Z",
     "shell.execute_reply.started": "2022-04-05T05:20:40.021917Z"
    },
    "papermill": {
     "duration": 0.066728,
     "end_time": "2022-04-05T05:22:14.472999",
     "exception": false,
     "start_time": "2022-04-05T05:22:14.406271",
     "status": "completed"
    },
    "tags": []
   },
   "outputs": [
    {
     "data": {
      "text/html": [
       "<div>\n",
       "<style scoped>\n",
       "    .dataframe tbody tr th:only-of-type {\n",
       "        vertical-align: middle;\n",
       "    }\n",
       "\n",
       "    .dataframe tbody tr th {\n",
       "        vertical-align: top;\n",
       "    }\n",
       "\n",
       "    .dataframe thead th {\n",
       "        text-align: right;\n",
       "    }\n",
       "</style>\n",
       "<table border=\"1\" class=\"dataframe\">\n",
       "  <thead>\n",
       "    <tr style=\"text-align: right;\">\n",
       "      <th></th>\n",
       "      <th>HomePlanet</th>\n",
       "      <th>CryoSleep</th>\n",
       "      <th>Destination</th>\n",
       "      <th>Age</th>\n",
       "      <th>VIP</th>\n",
       "      <th>RoomService</th>\n",
       "      <th>FoodCourt</th>\n",
       "      <th>ShoppingMall</th>\n",
       "      <th>Spa</th>\n",
       "      <th>VRDeck</th>\n",
       "      <th>deck</th>\n",
       "      <th>num</th>\n",
       "      <th>side</th>\n",
       "      <th>deck_side</th>\n",
       "    </tr>\n",
       "  </thead>\n",
       "  <tbody>\n",
       "    <tr>\n",
       "      <th>0</th>\n",
       "      <td>1</td>\n",
       "      <td>0</td>\n",
       "      <td>3</td>\n",
       "      <td>39.0</td>\n",
       "      <td>0</td>\n",
       "      <td>0.0</td>\n",
       "      <td>0.0</td>\n",
       "      <td>0.0</td>\n",
       "      <td>0.0</td>\n",
       "      <td>0.0</td>\n",
       "      <td>1</td>\n",
       "      <td>0</td>\n",
       "      <td>1</td>\n",
       "      <td>2</td>\n",
       "    </tr>\n",
       "    <tr>\n",
       "      <th>1</th>\n",
       "      <td>0</td>\n",
       "      <td>0</td>\n",
       "      <td>3</td>\n",
       "      <td>24.0</td>\n",
       "      <td>0</td>\n",
       "      <td>109.0</td>\n",
       "      <td>9.0</td>\n",
       "      <td>25.0</td>\n",
       "      <td>549.0</td>\n",
       "      <td>44.0</td>\n",
       "      <td>5</td>\n",
       "      <td>0</td>\n",
       "      <td>2</td>\n",
       "      <td>11</td>\n",
       "    </tr>\n",
       "    <tr>\n",
       "      <th>2</th>\n",
       "      <td>1</td>\n",
       "      <td>0</td>\n",
       "      <td>3</td>\n",
       "      <td>58.0</td>\n",
       "      <td>1</td>\n",
       "      <td>43.0</td>\n",
       "      <td>3576.0</td>\n",
       "      <td>0.0</td>\n",
       "      <td>6715.0</td>\n",
       "      <td>49.0</td>\n",
       "      <td>0</td>\n",
       "      <td>0</td>\n",
       "      <td>2</td>\n",
       "      <td>1</td>\n",
       "    </tr>\n",
       "    <tr>\n",
       "      <th>3</th>\n",
       "      <td>1</td>\n",
       "      <td>0</td>\n",
       "      <td>3</td>\n",
       "      <td>33.0</td>\n",
       "      <td>0</td>\n",
       "      <td>0.0</td>\n",
       "      <td>1283.0</td>\n",
       "      <td>371.0</td>\n",
       "      <td>3329.0</td>\n",
       "      <td>193.0</td>\n",
       "      <td>0</td>\n",
       "      <td>0</td>\n",
       "      <td>2</td>\n",
       "      <td>1</td>\n",
       "    </tr>\n",
       "    <tr>\n",
       "      <th>4</th>\n",
       "      <td>0</td>\n",
       "      <td>0</td>\n",
       "      <td>3</td>\n",
       "      <td>16.0</td>\n",
       "      <td>0</td>\n",
       "      <td>303.0</td>\n",
       "      <td>70.0</td>\n",
       "      <td>151.0</td>\n",
       "      <td>565.0</td>\n",
       "      <td>2.0</td>\n",
       "      <td>5</td>\n",
       "      <td>1</td>\n",
       "      <td>2</td>\n",
       "      <td>11</td>\n",
       "    </tr>\n",
       "  </tbody>\n",
       "</table>\n",
       "</div>"
      ],
      "text/plain": [
       "   HomePlanet  CryoSleep  Destination   Age  VIP  RoomService  FoodCourt  \\\n",
       "0           1          0            3  39.0    0          0.0        0.0   \n",
       "1           0          0            3  24.0    0        109.0        9.0   \n",
       "2           1          0            3  58.0    1         43.0     3576.0   \n",
       "3           1          0            3  33.0    0          0.0     1283.0   \n",
       "4           0          0            3  16.0    0        303.0       70.0   \n",
       "\n",
       "   ShoppingMall     Spa  VRDeck  deck  num  side  deck_side  \n",
       "0           0.0     0.0     0.0     1    0     1          2  \n",
       "1          25.0   549.0    44.0     5    0     2         11  \n",
       "2           0.0  6715.0    49.0     0    0     2          1  \n",
       "3         371.0  3329.0   193.0     0    0     2          1  \n",
       "4         151.0   565.0     2.0     5    1     2         11  "
      ]
     },
     "execution_count": 24,
     "metadata": {},
     "output_type": "execute_result"
    }
   ],
   "source": [
    "X_train.head()"
   ]
  },
  {
   "cell_type": "markdown",
   "id": "b049b9e0",
   "metadata": {
    "papermill": {
     "duration": 0.045983,
     "end_time": "2022-04-05T05:22:14.565243",
     "exception": false,
     "start_time": "2022-04-05T05:22:14.519260",
     "status": "completed"
    },
    "tags": []
   },
   "source": [
    "# LGBM"
   ]
  },
  {
   "cell_type": "code",
   "execution_count": 25,
   "id": "4fc80170",
   "metadata": {
    "execution": {
     "iopub.execute_input": "2022-04-05T05:22:14.666561Z",
     "iopub.status.busy": "2022-04-05T05:22:14.665916Z",
     "iopub.status.idle": "2022-04-05T05:22:29.154071Z",
     "shell.execute_reply": "2022-04-05T05:22:29.155306Z",
     "shell.execute_reply.started": "2022-04-05T05:20:40.050332Z"
    },
    "papermill": {
     "duration": 14.543459,
     "end_time": "2022-04-05T05:22:29.155537",
     "exception": false,
     "start_time": "2022-04-05T05:22:14.612078",
     "status": "completed"
    },
    "tags": []
   },
   "outputs": [
    {
     "data": {
      "text/html": [
       "<style type='text/css'>\n",
       ".datatable table.frame { margin-bottom: 0; }\n",
       ".datatable table.frame thead { border-bottom: none; }\n",
       ".datatable table.frame tr.coltypes td {  color: #FFFFFF;  line-height: 6px;  padding: 0 0.5em;}\n",
       ".datatable .bool    { background: #DDDD99; }\n",
       ".datatable .object  { background: #565656; }\n",
       ".datatable .int     { background: #5D9E5D; }\n",
       ".datatable .float   { background: #4040CC; }\n",
       ".datatable .str     { background: #CC4040; }\n",
       ".datatable .time    { background: #40CC40; }\n",
       ".datatable .row_index {  background: var(--jp-border-color3);  border-right: 1px solid var(--jp-border-color0);  color: var(--jp-ui-font-color3);  font-size: 9px;}\n",
       ".datatable .frame tbody td { text-align: left; }\n",
       ".datatable .frame tr.coltypes .row_index {  background: var(--jp-border-color0);}\n",
       ".datatable th:nth-child(2) { padding-left: 12px; }\n",
       ".datatable .hellipsis {  color: var(--jp-cell-editor-border-color);}\n",
       ".datatable .vellipsis {  background: var(--jp-layout-color0);  color: var(--jp-cell-editor-border-color);}\n",
       ".datatable .na {  color: var(--jp-cell-editor-border-color);  font-size: 80%;}\n",
       ".datatable .sp {  opacity: 0.25;}\n",
       ".datatable .footer { font-size: 9px; }\n",
       ".datatable .frame_dimensions {  background: var(--jp-border-color3);  border-top: 1px solid var(--jp-border-color0);  color: var(--jp-ui-font-color3);  display: inline-block;  opacity: 0.6;  padding: 1px 10px 1px 5px;}\n",
       "</style>\n"
      ],
      "text/plain": [
       "<IPython.core.display.HTML object>"
      ]
     },
     "metadata": {},
     "output_type": "display_data"
    },
    {
     "name": "stdout",
     "output_type": "stream",
     "text": [
      "fold  1\n",
      "****************************************\n",
      "[100]\ttraining's auc: 0.90657\ttraining's binary_logloss: 0.496364\tvalid_1's auc: 0.889169\tvalid_1's binary_logloss: 0.504403\n",
      "[200]\ttraining's auc: 0.915424\ttraining's binary_logloss: 0.4218\tvalid_1's auc: 0.893752\tvalid_1's binary_logloss: 0.438994\n",
      "[300]\ttraining's auc: 0.923156\ttraining's binary_logloss: 0.384001\tvalid_1's auc: 0.897022\tvalid_1's binary_logloss: 0.411496\n",
      "[400]\ttraining's auc: 0.929572\ttraining's binary_logloss: 0.360435\tvalid_1's auc: 0.899766\tvalid_1's binary_logloss: 0.397732\n",
      "[500]\ttraining's auc: 0.935353\ttraining's binary_logloss: 0.343038\tvalid_1's auc: 0.901362\tvalid_1's binary_logloss: 0.390876\n",
      "[600]\ttraining's auc: 0.940348\ttraining's binary_logloss: 0.329652\tvalid_1's auc: 0.902411\tvalid_1's binary_logloss: 0.386785\n",
      "[700]\ttraining's auc: 0.944251\ttraining's binary_logloss: 0.319349\tvalid_1's auc: 0.903153\tvalid_1's binary_logloss: 0.384563\n",
      "[800]\ttraining's auc: 0.947884\ttraining's binary_logloss: 0.310265\tvalid_1's auc: 0.904021\tvalid_1's binary_logloss: 0.383042\n",
      "[900]\ttraining's auc: 0.951284\ttraining's binary_logloss: 0.302084\tvalid_1's auc: 0.904041\tvalid_1's binary_logloss: 0.382879\n",
      "fold  2\n",
      "****************************************\n",
      "[100]\ttraining's auc: 0.903464\ttraining's binary_logloss: 0.498661\tvalid_1's auc: 0.897841\tvalid_1's binary_logloss: 0.503138\n",
      "[200]\ttraining's auc: 0.912335\ttraining's binary_logloss: 0.424675\tvalid_1's auc: 0.903928\tvalid_1's binary_logloss: 0.43153\n",
      "[300]\ttraining's auc: 0.91989\ttraining's binary_logloss: 0.387602\tvalid_1's auc: 0.908758\tvalid_1's binary_logloss: 0.399395\n",
      "[400]\ttraining's auc: 0.926702\ttraining's binary_logloss: 0.364682\tvalid_1's auc: 0.911721\tvalid_1's binary_logloss: 0.383155\n",
      "[500]\ttraining's auc: 0.9326\ttraining's binary_logloss: 0.347819\tvalid_1's auc: 0.913448\tvalid_1's binary_logloss: 0.373775\n",
      "[600]\ttraining's auc: 0.937854\ttraining's binary_logloss: 0.334628\tvalid_1's auc: 0.91457\tvalid_1's binary_logloss: 0.368601\n",
      "[700]\ttraining's auc: 0.942167\ttraining's binary_logloss: 0.323832\tvalid_1's auc: 0.915364\tvalid_1's binary_logloss: 0.365168\n",
      "[800]\ttraining's auc: 0.945787\ttraining's binary_logloss: 0.314951\tvalid_1's auc: 0.915829\tvalid_1's binary_logloss: 0.362821\n",
      "[900]\ttraining's auc: 0.949038\ttraining's binary_logloss: 0.307007\tvalid_1's auc: 0.916207\tvalid_1's binary_logloss: 0.361055\n",
      "[1000]\ttraining's auc: 0.952098\ttraining's binary_logloss: 0.299597\tvalid_1's auc: 0.916058\tvalid_1's binary_logloss: 0.36072\n",
      "fold  3\n",
      "****************************************\n",
      "[100]\ttraining's auc: 0.906848\ttraining's binary_logloss: 0.496207\tvalid_1's auc: 0.891803\tvalid_1's binary_logloss: 0.505204\n",
      "[200]\ttraining's auc: 0.915559\ttraining's binary_logloss: 0.421976\tvalid_1's auc: 0.895535\tvalid_1's binary_logloss: 0.438899\n",
      "[300]\ttraining's auc: 0.922555\ttraining's binary_logloss: 0.384615\tvalid_1's auc: 0.898891\tvalid_1's binary_logloss: 0.409822\n",
      "[400]\ttraining's auc: 0.929072\ttraining's binary_logloss: 0.361126\tvalid_1's auc: 0.901682\tvalid_1's binary_logloss: 0.395243\n",
      "[500]\ttraining's auc: 0.934609\ttraining's binary_logloss: 0.344293\tvalid_1's auc: 0.903511\tvalid_1's binary_logloss: 0.387285\n",
      "[600]\ttraining's auc: 0.939613\ttraining's binary_logloss: 0.331013\tvalid_1's auc: 0.904682\tvalid_1's binary_logloss: 0.38263\n",
      "[700]\ttraining's auc: 0.943646\ttraining's binary_logloss: 0.320365\tvalid_1's auc: 0.905213\tvalid_1's binary_logloss: 0.380194\n",
      "[800]\ttraining's auc: 0.947228\ttraining's binary_logloss: 0.311289\tvalid_1's auc: 0.905528\tvalid_1's binary_logloss: 0.378839\n",
      "fold  4\n",
      "****************************************\n",
      "[100]\ttraining's auc: 0.909304\ttraining's binary_logloss: 0.493706\tvalid_1's auc: 0.878566\tvalid_1's binary_logloss: 0.512055\n",
      "[200]\ttraining's auc: 0.917571\ttraining's binary_logloss: 0.418063\tvalid_1's auc: 0.881293\tvalid_1's binary_logloss: 0.451768\n",
      "[300]\ttraining's auc: 0.925137\ttraining's binary_logloss: 0.379539\tvalid_1's auc: 0.88436\tvalid_1's binary_logloss: 0.426903\n",
      "[400]\ttraining's auc: 0.931139\ttraining's binary_logloss: 0.355895\tvalid_1's auc: 0.887297\tvalid_1's binary_logloss: 0.4143\n",
      "[500]\ttraining's auc: 0.936714\ttraining's binary_logloss: 0.338618\tvalid_1's auc: 0.889813\tvalid_1's binary_logloss: 0.407584\n",
      "[600]\ttraining's auc: 0.941709\ttraining's binary_logloss: 0.325166\tvalid_1's auc: 0.891546\tvalid_1's binary_logloss: 0.403712\n",
      "[700]\ttraining's auc: 0.945849\ttraining's binary_logloss: 0.314594\tvalid_1's auc: 0.892239\tvalid_1's binary_logloss: 0.402521\n",
      "[800]\ttraining's auc: 0.949428\ttraining's binary_logloss: 0.305598\tvalid_1's auc: 0.892689\tvalid_1's binary_logloss: 0.401891\n",
      "[900]\ttraining's auc: 0.952607\ttraining's binary_logloss: 0.297641\tvalid_1's auc: 0.892949\tvalid_1's binary_logloss: 0.401938\n",
      "fold  5\n",
      "****************************************\n",
      "[100]\ttraining's auc: 0.907555\ttraining's binary_logloss: 0.494631\tvalid_1's auc: 0.878816\tvalid_1's binary_logloss: 0.513674\n",
      "[200]\ttraining's auc: 0.916187\ttraining's binary_logloss: 0.419593\tvalid_1's auc: 0.884726\tvalid_1's binary_logloss: 0.450564\n",
      "[300]\ttraining's auc: 0.923986\ttraining's binary_logloss: 0.381487\tvalid_1's auc: 0.889534\tvalid_1's binary_logloss: 0.421716\n",
      "[400]\ttraining's auc: 0.930461\ttraining's binary_logloss: 0.358099\tvalid_1's auc: 0.892957\tvalid_1's binary_logloss: 0.407198\n",
      "[500]\ttraining's auc: 0.936113\ttraining's binary_logloss: 0.341322\tvalid_1's auc: 0.894302\tvalid_1's binary_logloss: 0.399774\n",
      "[600]\ttraining's auc: 0.940794\ttraining's binary_logloss: 0.328301\tvalid_1's auc: 0.895499\tvalid_1's binary_logloss: 0.395287\n",
      "[700]\ttraining's auc: 0.945042\ttraining's binary_logloss: 0.317419\tvalid_1's auc: 0.896527\tvalid_1's binary_logloss: 0.392181\n",
      "[800]\ttraining's auc: 0.948729\ttraining's binary_logloss: 0.308366\tvalid_1's auc: 0.897034\tvalid_1's binary_logloss: 0.390774\n",
      "[900]\ttraining's auc: 0.951841\ttraining's binary_logloss: 0.300564\tvalid_1's auc: 0.897524\tvalid_1's binary_logloss: 0.389574\n",
      "[1000]\ttraining's auc: 0.954646\ttraining's binary_logloss: 0.293601\tvalid_1's auc: 0.897814\tvalid_1's binary_logloss: 0.38907\n",
      "[1100]\ttraining's auc: 0.957335\ttraining's binary_logloss: 0.286814\tvalid_1's auc: 0.898077\tvalid_1's binary_logloss: 0.38876\n",
      "[1200]\ttraining's auc: 0.959611\ttraining's binary_logloss: 0.280791\tvalid_1's auc: 0.898007\tvalid_1's binary_logloss: 0.389008\n",
      "OOF accuracy 0.8130679857356494\n"
     ]
    }
   ],
   "source": [
    "import lightgbm as lgb\n",
    "from sklearn.model_selection import StratifiedKFold, KFold\n",
    "from sklearn.metrics import accuracy_score\n",
    "\n",
    "oof = np.zeros(len(train))\n",
    "preds = np.zeros(len(test))\n",
    "\n",
    "skf = StratifiedKFold(n_splits = 5, shuffle = True)\n",
    "\n",
    "for i, (idt, idv) in enumerate(skf.split(X_train, y_train, y_train)):\n",
    "    \n",
    "    x_trn, x_val = X_train.iloc[idt], X_train.iloc[idv]\n",
    "    y_trn, y_val = y_train.iloc[idt], y_train.iloc[idv]\n",
    "    \n",
    "    print('fold ', i+1)\n",
    "    print('*' * 40)\n",
    "    \n",
    "    clf = lgb.LGBMClassifier(\n",
    "    n_estimators = 2500,\n",
    "        subsample = 0.8,\n",
    "        #num_leaves = 32,\n",
    "        learning_rate = 0.008,\n",
    "        colsample_bytree = 0.8,\n",
    "        reg_alpha = 1,\n",
    "     \n",
    "       # bagging_frequency = 1,\n",
    "        #random_state = 42\n",
    "       \n",
    "        \n",
    "    )\n",
    "    \n",
    "    clf.fit(x_trn, y_trn, eval_set = [(x_trn, y_trn),(x_val, y_val)], verbose = 100,\n",
    "           early_stopping_rounds = 100, eval_metric = 'auc',\n",
    "           #categorical_feature = ['VIP','deck','side','Destination','HomePlanet']\n",
    "           )\n",
    "    \n",
    "    oof[idv] = clf.predict(x_val)\n",
    "    preds += clf.predict_proba(X_test)[:,1]/skf.n_splits\n",
    "\n",
    "print('OOF accuracy', accuracy_score(y_train, oof))"
   ]
  },
  {
   "cell_type": "code",
   "execution_count": 26,
   "id": "ba79e29b",
   "metadata": {
    "execution": {
     "iopub.execute_input": "2022-04-05T05:22:29.304388Z",
     "iopub.status.busy": "2022-04-05T05:22:29.303351Z",
     "iopub.status.idle": "2022-04-05T05:22:29.679502Z",
     "shell.execute_reply": "2022-04-05T05:22:29.678876Z",
     "shell.execute_reply.started": "2022-04-05T05:20:55.203601Z"
    },
    "papermill": {
     "duration": 0.456271,
     "end_time": "2022-04-05T05:22:29.679642",
     "exception": false,
     "start_time": "2022-04-05T05:22:29.223371",
     "status": "completed"
    },
    "tags": []
   },
   "outputs": [
    {
     "data": {
      "image/png": "[encoded data removed]",
      "text/plain": [
       "<Figure size 1440x720 with 1 Axes>"
      ]
     },
     "metadata": {
      "needs_background": "light"
     },
     "output_type": "display_data"
    }
   ],
   "source": [
    "cols = list(X_train.columns)\n",
    "feature_imp = pd.DataFrame(sorted(zip(clf.feature_importances_,cols)), columns=['Value','Feature'])\n",
    "plt.figure(figsize=(20, 10))\n",
    "sns.barplot(x=\"Value\", y=\"Feature\", data=feature_imp.sort_values(by=\"Value\", ascending=False).iloc[:20])\n",
    "plt.title('XGB Most Important Features')\n",
    "plt.tight_layout()\n",
    "plt.show()"
   ]
  },
  {
   "cell_type": "code",
   "execution_count": 27,
   "id": "7b2f931f",
   "metadata": {
    "execution": {
     "iopub.execute_input": "2022-04-05T05:22:29.829380Z",
     "iopub.status.busy": "2022-04-05T05:22:29.828732Z",
     "iopub.status.idle": "2022-04-05T05:22:29.833753Z",
     "shell.execute_reply": "2022-04-05T05:22:29.834345Z",
     "shell.execute_reply.started": "2022-04-05T05:20:55.522131Z"
    },
    "papermill": {
     "duration": 0.078673,
     "end_time": "2022-04-05T05:22:29.834533",
     "exception": false,
     "start_time": "2022-04-05T05:22:29.755860",
     "status": "completed"
    },
    "tags": []
   },
   "outputs": [
    {
     "data": {
      "text/plain": [
       "array([0.57463993, 0.0326418 , 0.98673486, ..., 0.95722579, 0.77666357,\n",
       "       0.58590285])"
      ]
     },
     "execution_count": 27,
     "metadata": {},
     "output_type": "execute_result"
    }
   ],
   "source": [
    "preds"
   ]
  },
  {
   "cell_type": "code",
   "execution_count": 28,
   "id": "4594675c",
   "metadata": {
    "execution": {
     "iopub.execute_input": "2022-04-05T05:22:29.978315Z",
     "iopub.status.busy": "2022-04-05T05:22:29.977700Z",
     "iopub.status.idle": "2022-04-05T05:22:29.992007Z",
     "shell.execute_reply": "2022-04-05T05:22:29.992539Z",
     "shell.execute_reply.started": "2022-04-05T05:20:55.529929Z"
    },
    "papermill": {
     "duration": 0.087188,
     "end_time": "2022-04-05T05:22:29.992747",
     "exception": false,
     "start_time": "2022-04-05T05:22:29.905559",
     "status": "completed"
    },
    "tags": []
   },
   "outputs": [
    {
     "data": {
      "text/html": [
       "<div>\n",
       "<style scoped>\n",
       "    .dataframe tbody tr th:only-of-type {\n",
       "        vertical-align: middle;\n",
       "    }\n",
       "\n",
       "    .dataframe tbody tr th {\n",
       "        vertical-align: top;\n",
       "    }\n",
       "\n",
       "    .dataframe thead th {\n",
       "        text-align: right;\n",
       "    }\n",
       "</style>\n",
       "<table border=\"1\" class=\"dataframe\">\n",
       "  <thead>\n",
       "    <tr style=\"text-align: right;\">\n",
       "      <th></th>\n",
       "      <th>PassengerId</th>\n",
       "      <th>Transported</th>\n",
       "    </tr>\n",
       "  </thead>\n",
       "  <tbody>\n",
       "    <tr>\n",
       "      <th>0</th>\n",
       "      <td>0013_01</td>\n",
       "      <td>True</td>\n",
       "    </tr>\n",
       "    <tr>\n",
       "      <th>1</th>\n",
       "      <td>0018_01</td>\n",
       "      <td>False</td>\n",
       "    </tr>\n",
       "    <tr>\n",
       "      <th>2</th>\n",
       "      <td>0019_01</td>\n",
       "      <td>True</td>\n",
       "    </tr>\n",
       "    <tr>\n",
       "      <th>3</th>\n",
       "      <td>0021_01</td>\n",
       "      <td>True</td>\n",
       "    </tr>\n",
       "    <tr>\n",
       "      <th>4</th>\n",
       "      <td>0023_01</td>\n",
       "      <td>True</td>\n",
       "    </tr>\n",
       "    <tr>\n",
       "      <th>...</th>\n",
       "      <td>...</td>\n",
       "      <td>...</td>\n",
       "    </tr>\n",
       "    <tr>\n",
       "      <th>4272</th>\n",
       "      <td>9266_02</td>\n",
       "      <td>True</td>\n",
       "    </tr>\n",
       "    <tr>\n",
       "      <th>4273</th>\n",
       "      <td>9269_01</td>\n",
       "      <td>False</td>\n",
       "    </tr>\n",
       "    <tr>\n",
       "      <th>4274</th>\n",
       "      <td>9271_01</td>\n",
       "      <td>True</td>\n",
       "    </tr>\n",
       "    <tr>\n",
       "      <th>4275</th>\n",
       "      <td>9273_01</td>\n",
       "      <td>True</td>\n",
       "    </tr>\n",
       "    <tr>\n",
       "      <th>4276</th>\n",
       "      <td>9277_01</td>\n",
       "      <td>True</td>\n",
       "    </tr>\n",
       "  </tbody>\n",
       "</table>\n",
       "<p>4277 rows × 2 columns</p>\n",
       "</div>"
      ],
      "text/plain": [
       "     PassengerId  Transported\n",
       "0        0013_01         True\n",
       "1        0018_01        False\n",
       "2        0019_01         True\n",
       "3        0021_01         True\n",
       "4        0023_01         True\n",
       "...          ...          ...\n",
       "4272     9266_02         True\n",
       "4273     9269_01        False\n",
       "4274     9271_01         True\n",
       "4275     9273_01         True\n",
       "4276     9277_01         True\n",
       "\n",
       "[4277 rows x 2 columns]"
      ]
     },
     "execution_count": 28,
     "metadata": {},
     "output_type": "execute_result"
    }
   ],
   "source": [
    "sub['Transported'] = [True if x>0.5 else False for x in preds]\n",
    "\n",
    "sub"
   ]
  },
  {
   "cell_type": "code",
   "execution_count": 29,
   "id": "8591568d",
   "metadata": {
    "execution": {
     "iopub.execute_input": "2022-04-05T05:22:30.136353Z",
     "iopub.status.busy": "2022-04-05T05:22:30.135730Z",
     "iopub.status.idle": "2022-04-05T05:22:30.144511Z",
     "shell.execute_reply": "2022-04-05T05:22:30.143942Z",
     "shell.execute_reply.started": "2022-04-05T05:20:55.553686Z"
    },
    "papermill": {
     "duration": 0.080785,
     "end_time": "2022-04-05T05:22:30.144668",
     "exception": false,
     "start_time": "2022-04-05T05:22:30.063883",
     "status": "completed"
    },
    "tags": []
   },
   "outputs": [
    {
     "data": {
      "text/plain": [
       "count     4277\n",
       "unique       2\n",
       "top       True\n",
       "freq      2207\n",
       "Name: Transported, dtype: object"
      ]
     },
     "execution_count": 29,
     "metadata": {},
     "output_type": "execute_result"
    }
   ],
   "source": [
    "sub['Transported'].describe()"
   ]
  },
  {
   "cell_type": "code",
   "execution_count": 30,
   "id": "1c23bb95",
   "metadata": {
    "execution": {
     "iopub.execute_input": "2022-04-05T05:22:30.290818Z",
     "iopub.status.busy": "2022-04-05T05:22:30.289807Z",
     "iopub.status.idle": "2022-04-05T05:22:30.303859Z",
     "shell.execute_reply": "2022-04-05T05:22:30.304458Z",
     "shell.execute_reply.started": "2022-04-05T05:20:55.572774Z"
    },
    "papermill": {
     "duration": 0.089086,
     "end_time": "2022-04-05T05:22:30.304659",
     "exception": false,
     "start_time": "2022-04-05T05:22:30.215573",
     "status": "completed"
    },
    "tags": []
   },
   "outputs": [],
   "source": [
    "sub.to_csv('sub_lgb.csv', index = False)"
   ]
  }
 ],
 "metadata": {
  "kernelspec": {
   "display_name": "Python 3",
   "language": "python",
   "name": "python3"
  },
  "language_info": {
   "codemirror_mode": {
    "name": "ipython",
    "version": 3
   },
   "file_extension": ".py",
   "mimetype": "text/x-python",
   "name": "python",
   "nbconvert_exporter": "python",
   "pygments_lexer": "ipython3",
   "version": "3.7.12"
  },
  "papermill": {
   "default_parameters": {},
   "duration": 32.940099,
   "end_time": "2022-04-05T05:22:31.186644",
   "environment_variables": {},
   "exception": null,
   "input_path": "__notebook__.ipynb",
   "output_path": "__notebook__.ipynb",
   "parameters": {},
   "start_time": "2022-04-05T05:21:58.246545",
   "version": "2.3.3"
  }
 },
 "nbformat": 4,
 "nbformat_minor": 5
}
