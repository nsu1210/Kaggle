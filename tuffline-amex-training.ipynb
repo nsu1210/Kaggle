{
 "cells": [
  {
   "cell_type": "markdown",
   "id": "b3850d3d",
   "metadata": {
    "papermill": {
     "duration": 0.009573,
     "end_time": "2022-08-21T17:58:34.720893",
     "exception": false,
     "start_time": "2022-08-21T17:58:34.711320",
     "status": "completed"
    },
    "tags": []
   },
   "source": [
    "# If it is useful, please vote"
   ]
  },
  {
   "cell_type": "markdown",
   "id": "ceb8ac0b",
   "metadata": {
    "papermill": {
     "duration": 0.008033,
     "end_time": "2022-08-21T17:58:34.737266",
     "exception": false,
     "start_time": "2022-08-21T17:58:34.729233",
     "status": "completed"
    },
    "tags": []
   },
   "source": [
    "Add features referring to the following\n",
    "https://www.kaggle.com/code/manavtrivedi/tuffline-plotly-amex?scriptVersionId=102868130"
   ]
  },
  {
   "cell_type": "markdown",
   "id": "9f0d4102",
   "metadata": {
    "papermill": {
     "duration": 0.007714,
     "end_time": "2022-08-21T17:58:34.753134",
     "exception": false,
     "start_time": "2022-08-21T17:58:34.745420",
     "status": "completed"
    },
    "tags": []
   },
   "source": [
    "# **Import**"
   ]
  },
  {
   "cell_type": "code",
   "execution_count": 1,
   "id": "ad5dd3d0",
   "metadata": {
    "execution": {
     "iopub.execute_input": "2022-08-21T17:58:34.772481Z",
     "iopub.status.busy": "2022-08-21T17:58:34.771557Z",
     "iopub.status.idle": "2022-08-21T17:58:36.100925Z",
     "shell.execute_reply": "2022-08-21T17:58:36.099488Z"
    },
    "papermill": {
     "duration": 1.342926,
     "end_time": "2022-08-21T17:58:36.104735",
     "exception": false,
     "start_time": "2022-08-21T17:58:34.761809",
     "status": "completed"
    },
    "tags": []
   },
   "outputs": [],
   "source": [
    "import numpy as np\n",
    "import pandas as pd\n",
    "import seaborn as sns\n",
    "import matplotlib.pyplot as plt\n",
    "\n",
    "%matplotlib inline\n",
    "import random\n",
    "\n",
    "import warnings \n",
    "warnings.filterwarnings('ignore')"
   ]
  },
  {
   "cell_type": "code",
   "execution_count": 2,
   "id": "7a96931f",
   "metadata": {
    "execution": {
     "iopub.execute_input": "2022-08-21T17:58:36.124090Z",
     "iopub.status.busy": "2022-08-21T17:58:36.122955Z",
     "iopub.status.idle": "2022-08-21T17:59:00.877964Z",
     "shell.execute_reply": "2022-08-21T17:59:00.876683Z"
    },
    "papermill": {
     "duration": 24.768235,
     "end_time": "2022-08-21T17:59:00.881353",
     "exception": false,
     "start_time": "2022-08-21T17:58:36.113118",
     "status": "completed"
    },
    "tags": []
   },
   "outputs": [],
   "source": [
    "df_train = pd.read_feather('../input/amexfeather/train_data.ftr')\n",
    "df_train = df_train.groupby('customer_ID').tail(1).set_index('customer_ID')"
   ]
  },
  {
   "cell_type": "code",
   "execution_count": 3,
   "id": "0c49a053",
   "metadata": {
    "execution": {
     "iopub.execute_input": "2022-08-21T17:59:00.901112Z",
     "iopub.status.busy": "2022-08-21T17:59:00.899712Z",
     "iopub.status.idle": "2022-08-21T17:59:00.909960Z",
     "shell.execute_reply": "2022-08-21T17:59:00.908792Z"
    },
    "papermill": {
     "duration": 0.027057,
     "end_time": "2022-08-21T17:59:00.916702",
     "exception": false,
     "start_time": "2022-08-21T17:59:00.889645",
     "status": "completed"
    },
    "tags": []
   },
   "outputs": [
    {
     "data": {
      "text/plain": [
       "(458913, 190)"
      ]
     },
     "execution_count": 3,
     "metadata": {},
     "output_type": "execute_result"
    }
   ],
   "source": [
    "df_train.shape"
   ]
  },
  {
   "cell_type": "code",
   "execution_count": 4,
   "id": "b03e1afa",
   "metadata": {
    "execution": {
     "iopub.execute_input": "2022-08-21T17:59:00.940543Z",
     "iopub.status.busy": "2022-08-21T17:59:00.939393Z",
     "iopub.status.idle": "2022-08-21T17:59:02.135808Z",
     "shell.execute_reply": "2022-08-21T17:59:02.134396Z"
    },
    "papermill": {
     "duration": 1.210441,
     "end_time": "2022-08-21T17:59:02.138993",
     "exception": false,
     "start_time": "2022-08-21T17:59:00.928552",
     "status": "completed"
    },
    "tags": []
   },
   "outputs": [
    {
     "data": {
      "text/plain": [
       "(458913, 156)"
      ]
     },
     "execution_count": 4,
     "metadata": {},
     "output_type": "execute_result"
    }
   ],
   "source": [
    "df_train = df_train.dropna(axis=1, thresh=int(0.80 * len(df_train)))\n",
    "df_train.shape"
   ]
  },
  {
   "cell_type": "markdown",
   "id": "f39095e9",
   "metadata": {
    "papermill": {
     "duration": 0.008348,
     "end_time": "2022-08-21T17:59:02.156131",
     "exception": false,
     "start_time": "2022-08-21T17:59:02.147783",
     "status": "completed"
    },
    "tags": []
   },
   "source": [
    "# **Feature**"
   ]
  },
  {
   "cell_type": "code",
   "execution_count": 5,
   "id": "1a5b70db",
   "metadata": {
    "execution": {
     "iopub.execute_input": "2022-08-21T17:59:02.175859Z",
     "iopub.status.busy": "2022-08-21T17:59:02.175369Z",
     "iopub.status.idle": "2022-08-21T17:59:02.517328Z",
     "shell.execute_reply": "2022-08-21T17:59:02.516235Z"
    },
    "papermill": {
     "duration": 0.355292,
     "end_time": "2022-08-21T17:59:02.520131",
     "exception": false,
     "start_time": "2022-08-21T17:59:02.164839",
     "status": "completed"
    },
    "tags": []
   },
   "outputs": [],
   "source": [
    "df_train[\"c_PD_239\"]=df_train[\"D_39\"]/(df_train[\"P_2\"]*(-1)+0.0001)\n",
    "df_train[\"c_PB_29\"]=df_train[\"P_2\"]*(-1)/(df_train[\"B_9\"]*(1)+0.0001)\n",
    "df_train[\"c_PR_21\"]=df_train[\"P_2\"]*(-1)/(df_train[\"R_1\"]+0.0001)\n",
    "\n",
    "df_train[\"c_BBBB\"]=(df_train[\"B_9\"]+0.001)/(df_train[\"B_23\"]+df_train[\"B_3\"]+0.0001)\n",
    "df_train[\"c_BBBB1\"]=(df_train[\"B_33\"]*(-1))+(df_train[\"B_18\"]*(-1)+df_train[\"S_25\"]*(1)+0.0001)\n",
    "df_train[\"c_BBBB2\"]=(df_train[\"B_19\"]+df_train[\"B_20\"]+df_train[\"B_4\"]+0.0001)\n",
    "\n",
    "df_train[\"c_RRR0\"]=(df_train[\"R_3\"]+0.001)/(df_train[\"R_2\"]+df_train[\"R_4\"]+0.0001)\n",
    "df_train[\"c_RRR1\"]=(df_train[\"D_62\"]+0.001)/(df_train[\"D_112\"]+df_train[\"R_27\"]+0.0001)\n",
    "\n",
    "df_train[\"c_PD_348\"]=df_train[\"D_48\"]/(df_train[\"P_3\"]+0.0001)\n",
    "df_train[\"c_PD_355\"]=df_train[\"D_55\"]/(df_train[\"P_3\"]+0.0001)\n",
    "\n",
    "df_train[\"c_PD_439\"]=df_train[\"D_39\"]/(df_train[\"P_4\"]+0.0001)\n",
    "df_train[\"c_PB_49\"]=df_train[\"B_9\"]/(df_train[\"P_4\"]+0.0001)\n",
    "df_train[\"c_PR_41\"]=df_train[\"R_1\"]/(df_train[\"P_4\"]+0.0001)\n"
   ]
  },
  {
   "cell_type": "markdown",
   "id": "0194c7cb",
   "metadata": {
    "papermill": {
     "duration": 0.008077,
     "end_time": "2022-08-21T17:59:02.536911",
     "exception": false,
     "start_time": "2022-08-21T17:59:02.528834",
     "status": "completed"
    },
    "tags": []
   },
   "source": [
    "# **Model&Predict**"
   ]
  },
  {
   "cell_type": "code",
   "execution_count": 6,
   "id": "86b35ea9",
   "metadata": {
    "execution": {
     "iopub.execute_input": "2022-08-21T17:59:02.557446Z",
     "iopub.status.busy": "2022-08-21T17:59:02.556810Z",
     "iopub.status.idle": "2022-08-21T17:59:05.555550Z",
     "shell.execute_reply": "2022-08-21T17:59:05.554146Z"
    },
    "papermill": {
     "duration": 3.013258,
     "end_time": "2022-08-21T17:59:05.558754",
     "exception": false,
     "start_time": "2022-08-21T17:59:02.545496",
     "status": "completed"
    },
    "tags": []
   },
   "outputs": [
    {
     "name": "stdout",
     "output_type": "stream",
     "text": [
      "X_train Training Data Size : 371719\n",
      "X_test Testing Data Size   : 87194\n"
     ]
    }
   ],
   "source": [
    "y = df_train['target']\n",
    "X = df_train.drop(['target'],axis=1).drop(\"S_2\", axis=1)\n",
    "from sklearn.model_selection import train_test_split\n",
    "X_train, X_test, y_train, y_test = train_test_split(X, y, test_size=0.19, random_state=26,stratify=y)\n",
    "\n",
    "print(\"X_train Training Data Size :\",X_train.shape[0])\n",
    "print(\"X_test Testing Data Size   :\",X_test.shape[0])"
   ]
  },
  {
   "cell_type": "code",
   "execution_count": 7,
   "id": "8de72026",
   "metadata": {
    "execution": {
     "iopub.execute_input": "2022-08-21T17:59:05.578941Z",
     "iopub.status.busy": "2022-08-21T17:59:05.578432Z",
     "iopub.status.idle": "2022-08-21T17:59:05.583932Z",
     "shell.execute_reply": "2022-08-21T17:59:05.582598Z"
    },
    "papermill": {
     "duration": 0.018252,
     "end_time": "2022-08-21T17:59:05.586279",
     "exception": false,
     "start_time": "2022-08-21T17:59:05.568027",
     "status": "completed"
    },
    "tags": []
   },
   "outputs": [],
   "source": [
    "Xname = X.columns"
   ]
  },
  {
   "cell_type": "code",
   "execution_count": 8,
   "id": "b83d843a",
   "metadata": {
    "execution": {
     "iopub.execute_input": "2022-08-21T17:59:05.606611Z",
     "iopub.status.busy": "2022-08-21T17:59:05.605467Z",
     "iopub.status.idle": "2022-08-21T17:59:07.585904Z",
     "shell.execute_reply": "2022-08-21T17:59:07.583653Z"
    },
    "papermill": {
     "duration": 1.995093,
     "end_time": "2022-08-21T17:59:07.590151",
     "exception": false,
     "start_time": "2022-08-21T17:59:05.595058",
     "status": "completed"
    },
    "tags": []
   },
   "outputs": [
    {
     "data": {
      "text/html": [
       "<style type='text/css'>\n",
       ".datatable table.frame { margin-bottom: 0; }\n",
       ".datatable table.frame thead { border-bottom: none; }\n",
       ".datatable table.frame tr.coltypes td {  color: #FFFFFF;  line-height: 6px;  padding: 0 0.5em;}\n",
       ".datatable .bool    { background: #DDDD99; }\n",
       ".datatable .object  { background: #565656; }\n",
       ".datatable .int     { background: #5D9E5D; }\n",
       ".datatable .float   { background: #4040CC; }\n",
       ".datatable .str     { background: #CC4040; }\n",
       ".datatable .time    { background: #40CC40; }\n",
       ".datatable .row_index {  background: var(--jp-border-color3);  border-right: 1px solid var(--jp-border-color0);  color: var(--jp-ui-font-color3);  font-size: 9px;}\n",
       ".datatable .frame tbody td { text-align: left; }\n",
       ".datatable .frame tr.coltypes .row_index {  background: var(--jp-border-color0);}\n",
       ".datatable th:nth-child(2) { padding-left: 12px; }\n",
       ".datatable .hellipsis {  color: var(--jp-cell-editor-border-color);}\n",
       ".datatable .vellipsis {  background: var(--jp-layout-color0);  color: var(--jp-cell-editor-border-color);}\n",
       ".datatable .na {  color: var(--jp-cell-editor-border-color);  font-size: 80%;}\n",
       ".datatable .sp {  opacity: 0.25;}\n",
       ".datatable .footer { font-size: 9px; }\n",
       ".datatable .frame_dimensions {  background: var(--jp-border-color3);  border-top: 1px solid var(--jp-border-color0);  color: var(--jp-ui-font-color3);  display: inline-block;  opacity: 0.6;  padding: 1px 10px 1px 5px;}\n",
       "</style>\n"
      ],
      "text/plain": [
       "<IPython.core.display.HTML object>"
      ]
     },
     "metadata": {},
     "output_type": "display_data"
    }
   ],
   "source": [
    "import optuna.integration.lightgbm as lgb"
   ]
  },
  {
   "cell_type": "code",
   "execution_count": 9,
   "id": "78760432",
   "metadata": {
    "execution": {
     "iopub.execute_input": "2022-08-21T17:59:07.614908Z",
     "iopub.status.busy": "2022-08-21T17:59:07.613964Z",
     "iopub.status.idle": "2022-08-21T17:59:09.089039Z",
     "shell.execute_reply": "2022-08-21T17:59:09.087681Z"
    },
    "papermill": {
     "duration": 1.490653,
     "end_time": "2022-08-21T17:59:09.092753",
     "exception": false,
     "start_time": "2022-08-21T17:59:07.602100",
     "status": "completed"
    },
    "tags": []
   },
   "outputs": [],
   "source": [
    "TEST_SIZE = 0.3\n",
    "RANDOM_STATE = 42\n",
    "# trainのデータセットの3割をモデル学習時のバリデーションデータとして利用する\n",
    "X_train, X_valid, y_train, y_valid = train_test_split(X_train,\n",
    "                                                    y_train,\n",
    "                                                    test_size=TEST_SIZE,\n",
    "                                                    random_state=RANDOM_STATE)\n",
    "\n",
    "# LightGBMを利用するのに必要なフォーマットに変換\n",
    "lgb_train = lgb.Dataset(X_train, y_train)\n",
    "lgb_eval = lgb.Dataset(X_valid, y_valid, reference=lgb_train)"
   ]
  },
  {
   "cell_type": "code",
   "execution_count": 10,
   "id": "b8aad2e9",
   "metadata": {
    "execution": {
     "iopub.execute_input": "2022-08-21T17:59:09.116171Z",
     "iopub.status.busy": "2022-08-21T17:59:09.114360Z",
     "iopub.status.idle": "2022-08-21T17:59:09.121405Z",
     "shell.execute_reply": "2022-08-21T17:59:09.119868Z"
    },
    "papermill": {
     "duration": 0.02127,
     "end_time": "2022-08-21T17:59:09.124167",
     "exception": false,
     "start_time": "2022-08-21T17:59:09.102897",
     "status": "completed"
    },
    "tags": []
   },
   "outputs": [],
   "source": [
    "from sklearn.metrics import accuracy_score"
   ]
  },
  {
   "cell_type": "code",
   "execution_count": 11,
   "id": "2e5dd068",
   "metadata": {
    "execution": {
     "iopub.execute_input": "2022-08-21T17:59:09.145430Z",
     "iopub.status.busy": "2022-08-21T17:59:09.144932Z",
     "iopub.status.idle": "2022-08-21T17:59:09.150382Z",
     "shell.execute_reply": "2022-08-21T17:59:09.149083Z"
    },
    "papermill": {
     "duration": 0.018973,
     "end_time": "2022-08-21T17:59:09.152778",
     "exception": false,
     "start_time": "2022-08-21T17:59:09.133805",
     "status": "completed"
    },
    "tags": []
   },
   "outputs": [],
   "source": [
    "# import lightgbm as lgb\n",
    "# import optuna.integration.lightgbm as lgb\n",
    "# model = lgb.LGBMClassifier(boosting_type='goss', max_depth=5, random_state=0)"
   ]
  },
  {
   "cell_type": "code",
   "execution_count": 12,
   "id": "6d30cb04",
   "metadata": {
    "execution": {
     "iopub.execute_input": "2022-08-21T17:59:09.172794Z",
     "iopub.status.busy": "2022-08-21T17:59:09.172206Z",
     "iopub.status.idle": "2022-08-21T18:55:02.189484Z",
     "shell.execute_reply": "2022-08-21T18:55:02.187903Z"
    },
    "papermill": {
     "duration": 3353.050934,
     "end_time": "2022-08-21T18:55:02.212409",
     "exception": false,
     "start_time": "2022-08-21T17:59:09.161475",
     "status": "completed"
    },
    "tags": []
   },
   "outputs": [
    {
     "name": "stderr",
     "output_type": "stream",
     "text": [
      "\u001b[32m[I 2022-08-21 17:59:09,176]\u001b[0m A new study created in memory with name: no-name-6790e2a0-c4b4-4e76-b7fa-3580d09cf747\u001b[0m\n",
      "feature_fraction, val_score: inf:   0%|          | 0/7 [00:00<?, ?it/s]"
     ]
    },
    {
     "name": "stdout",
     "output_type": "stream",
     "text": [
      "[LightGBM] [Warning] Unknown parameter: verbose_eval\n"
     ]
    },
    {
     "name": "stderr",
     "output_type": "stream",
     "text": [
      "feature_fraction, val_score: 0.151080:  14%|#4        | 1/7 [00:26<02:38, 26.39s/it]\u001b[32m[I 2022-08-21 17:59:35,578]\u001b[0m Trial 0 finished with value: 0.1510800467912347 and parameters: {'feature_fraction': 0.6}. Best is trial 0 with value: 0.1510800467912347.\u001b[0m\n",
      "feature_fraction, val_score: 0.150551:  29%|##8       | 2/7 [00:58<02:28, 29.75s/it]\u001b[32m[I 2022-08-21 18:00:07,706]\u001b[0m Trial 1 finished with value: 0.15055138462536952 and parameters: {'feature_fraction': 0.8999999999999999}. Best is trial 1 with value: 0.15055138462536952.\u001b[0m\n",
      "feature_fraction, val_score: 0.150551:  43%|####2     | 3/7 [01:29<02:01, 30.43s/it]\u001b[32m[I 2022-08-21 18:00:38,946]\u001b[0m Trial 2 finished with value: 0.150646942199104 and parameters: {'feature_fraction': 0.8}. Best is trial 1 with value: 0.15055138462536952.\u001b[0m\n",
      "feature_fraction, val_score: 0.150551:  57%|#####7    | 4/7 [01:51<01:21, 27.06s/it]\u001b[32m[I 2022-08-21 18:01:00,813]\u001b[0m Trial 3 finished with value: 0.15190146604445512 and parameters: {'feature_fraction': 0.4}. Best is trial 1 with value: 0.15055138462536952.\u001b[0m\n",
      "feature_fraction, val_score: 0.150551:  71%|#######1  | 5/7 [02:20<00:55, 27.57s/it]\u001b[32m[I 2022-08-21 18:01:29,298]\u001b[0m Trial 4 finished with value: 0.1512082044776738 and parameters: {'feature_fraction': 0.7}. Best is trial 1 with value: 0.15055138462536952.\u001b[0m\n",
      "feature_fraction, val_score: 0.150551:  86%|########5 | 6/7 [02:43<00:26, 26.17s/it]\u001b[32m[I 2022-08-21 18:01:52,753]\u001b[0m Trial 5 finished with value: 0.15136803344438582 and parameters: {'feature_fraction': 0.5}. Best is trial 1 with value: 0.15055138462536952.\u001b[0m\n",
      "feature_fraction, val_score: 0.150502: 100%|##########| 7/7 [03:18<00:00, 29.14s/it]\u001b[32m[I 2022-08-21 18:02:28,000]\u001b[0m Trial 6 finished with value: 0.15050154035421284 and parameters: {'feature_fraction': 1.0}. Best is trial 6 with value: 0.15050154035421284.\u001b[0m\n",
      "feature_fraction, val_score: 0.150502: 100%|##########| 7/7 [03:18<00:00, 28.40s/it]\n",
      "num_leaves, val_score: 0.147611:   5%|5         | 1/20 [00:47<14:54, 47.10s/it]\u001b[32m[I 2022-08-21 18:03:15,112]\u001b[0m Trial 7 finished with value: 0.14761108202154136 and parameters: {'num_leaves': 133}. Best is trial 7 with value: 0.14761108202154136.\u001b[0m\n",
      "num_leaves, val_score: 0.147611:  10%|#         | 2/20 [01:05<09:02, 30.15s/it]\u001b[32m[I 2022-08-21 18:03:33,399]\u001b[0m Trial 8 finished with value: 0.17805436992469062 and parameters: {'num_leaves': 2}. Best is trial 7 with value: 0.14761108202154136.\u001b[0m\n",
      "num_leaves, val_score: 0.147611:  15%|#5        | 3/20 [01:35<08:35, 30.32s/it]\u001b[32m[I 2022-08-21 18:04:03,911]\u001b[0m Trial 9 finished with value: 0.15532226754819087 and parameters: {'num_leaves': 12}. Best is trial 7 with value: 0.14761108202154136.\u001b[0m\n",
      "num_leaves, val_score: 0.147392:  20%|##        | 4/20 [02:24<10:00, 37.53s/it]\u001b[32m[I 2022-08-21 18:04:52,505]\u001b[0m Trial 10 finished with value: 0.1473921549313965 and parameters: {'num_leaves': 176}. Best is trial 10 with value: 0.1473921549313965.\u001b[0m\n",
      "num_leaves, val_score: 0.147392:  25%|##5       | 5/20 [03:03<09:33, 38.21s/it]\u001b[32m[I 2022-08-21 18:05:31,919]\u001b[0m Trial 11 finished with value: 0.14913719751368176 and parameters: {'num_leaves': 56}. Best is trial 10 with value: 0.1473921549313965.\u001b[0m\n",
      "num_leaves, val_score: 0.147392:  30%|###       | 6/20 [03:55<09:57, 42.69s/it]\u001b[32m[I 2022-08-21 18:06:23,313]\u001b[0m Trial 12 finished with value: 0.14772445420835842 and parameters: {'num_leaves': 216}. Best is trial 10 with value: 0.1473921549313965.\u001b[0m\n",
      "num_leaves, val_score: 0.147392:  35%|###5      | 7/20 [04:41<09:28, 43.70s/it]\u001b[32m[I 2022-08-21 18:07:09,087]\u001b[0m Trial 13 finished with value: 0.1479268612102819 and parameters: {'num_leaves': 96}. Best is trial 10 with value: 0.1473921549313965.\u001b[0m\n",
      "num_leaves, val_score: 0.147199:  40%|####      | 8/20 [05:32<09:12, 46.08s/it]\u001b[32m[I 2022-08-21 18:08:00,247]\u001b[0m Trial 14 finished with value: 0.1471990759314762 and parameters: {'num_leaves': 219}. Best is trial 14 with value: 0.1471990759314762.\u001b[0m\n",
      "num_leaves, val_score: 0.147199:  45%|####5     | 9/20 [06:12<08:06, 44.25s/it]\u001b[32m[I 2022-08-21 18:08:40,490]\u001b[0m Trial 15 finished with value: 0.1488903259275296 and parameters: {'num_leaves': 55}. Best is trial 14 with value: 0.1471990759314762.\u001b[0m\n",
      "num_leaves, val_score: 0.147199:  50%|#####     | 10/20 [06:57<07:25, 44.58s/it]\u001b[32m[I 2022-08-21 18:09:25,814]\u001b[0m Trial 16 finished with value: 0.1475207142622695 and parameters: {'num_leaves': 174}. Best is trial 14 with value: 0.1471990759314762.\u001b[0m\n",
      "num_leaves, val_score: 0.147199:  55%|#####5    | 11/20 [07:51<07:05, 47.33s/it]\u001b[32m[I 2022-08-21 18:10:19,362]\u001b[0m Trial 17 finished with value: 0.14735720887525453 and parameters: {'num_leaves': 249}. Best is trial 14 with value: 0.1471990759314762.\u001b[0m\n",
      "num_leaves, val_score: 0.147199:  60%|######    | 12/20 [08:45<06:35, 49.42s/it]\u001b[32m[I 2022-08-21 18:11:13,563]\u001b[0m Trial 18 finished with value: 0.1473078090057978 and parameters: {'num_leaves': 251}. Best is trial 14 with value: 0.1471990759314762.\u001b[0m\n",
      "num_leaves, val_score: 0.147096:  65%|######5   | 13/20 [09:43<06:03, 51.94s/it]\u001b[32m[I 2022-08-21 18:12:11,288]\u001b[0m Trial 19 finished with value: 0.14709578243527066 and parameters: {'num_leaves': 256}. Best is trial 19 with value: 0.14709578243527066.\u001b[0m\n",
      "num_leaves, val_score: 0.147096:  70%|#######   | 14/20 [10:30<05:03, 50.51s/it]\u001b[32m[I 2022-08-21 18:12:58,496]\u001b[0m Trial 20 finished with value: 0.1473003503885721 and parameters: {'num_leaves': 197}. Best is trial 19 with value: 0.14709578243527066.\u001b[0m\n",
      "num_leaves, val_score: 0.147096:  75%|#######5  | 15/20 [11:26<04:20, 52.08s/it]\u001b[32m[I 2022-08-21 18:13:54,204]\u001b[0m Trial 21 finished with value: 0.14721491998847935 and parameters: {'num_leaves': 225}. Best is trial 19 with value: 0.14709578243527066.\u001b[0m\n",
      "num_leaves, val_score: 0.147096:  80%|########  | 16/20 [12:09<03:17, 49.38s/it]\u001b[32m[I 2022-08-21 18:14:37,315]\u001b[0m Trial 22 finished with value: 0.1478770998842042 and parameters: {'num_leaves': 138}. Best is trial 19 with value: 0.14709578243527066.\u001b[0m\n",
      "num_leaves, val_score: 0.147096:  85%|########5 | 17/20 [13:07<02:35, 51.94s/it]\u001b[32m[I 2022-08-21 18:15:35,210]\u001b[0m Trial 23 finished with value: 0.14709578243527066 and parameters: {'num_leaves': 256}. Best is trial 19 with value: 0.14709578243527066.\u001b[0m\n",
      "num_leaves, val_score: 0.147096:  90%|######### | 18/20 [14:04<01:46, 53.42s/it]\u001b[32m[I 2022-08-21 18:16:32,076]\u001b[0m Trial 24 finished with value: 0.14709578243527066 and parameters: {'num_leaves': 256}. Best is trial 19 with value: 0.14709578243527066.\u001b[0m\n",
      "num_leaves, val_score: 0.147096:  95%|#########5| 19/20 [14:48<00:50, 50.66s/it]\u001b[32m[I 2022-08-21 18:17:16,308]\u001b[0m Trial 25 finished with value: 0.14741024079156204 and parameters: {'num_leaves': 169}. Best is trial 19 with value: 0.14709578243527066.\u001b[0m\n",
      "num_leaves, val_score: 0.147096: 100%|##########| 20/20 [15:25<00:00, 46.56s/it]\u001b[32m[I 2022-08-21 18:17:53,311]\u001b[0m Trial 26 finished with value: 0.1481818196771473 and parameters: {'num_leaves': 100}. Best is trial 19 with value: 0.14709578243527066.\u001b[0m\n",
      "num_leaves, val_score: 0.147096: 100%|##########| 20/20 [15:25<00:00, 46.27s/it]\n",
      "bagging, val_score: 0.147096:  10%|#         | 1/10 [00:43<06:27, 43.07s/it]\u001b[32m[I 2022-08-21 18:18:36,395]\u001b[0m Trial 27 finished with value: 0.14836510704727593 and parameters: {'bagging_fraction': 0.5347917759189508, 'bagging_freq': 6}. Best is trial 27 with value: 0.14836510704727593.\u001b[0m\n",
      "bagging, val_score: 0.147096:  20%|##        | 2/10 [01:25<05:43, 42.95s/it]\u001b[32m[I 2022-08-21 18:19:19,266]\u001b[0m Trial 28 finished with value: 0.14825772321111563 and parameters: {'bagging_fraction': 0.46864156827044373, 'bagging_freq': 2}. Best is trial 28 with value: 0.14825772321111563.\u001b[0m\n",
      "bagging, val_score: 0.147096:  30%|###       | 3/10 [02:20<05:36, 48.08s/it]\u001b[32m[I 2022-08-21 18:20:13,453]\u001b[0m Trial 29 finished with value: 0.1476814748709339 and parameters: {'bagging_fraction': 0.9658560800913599, 'bagging_freq': 4}. Best is trial 29 with value: 0.1476814748709339.\u001b[0m\n",
      "bagging, val_score: 0.147096:  40%|####      | 4/10 [03:12<04:58, 49.78s/it]\u001b[32m[I 2022-08-21 18:21:05,842]\u001b[0m Trial 30 finished with value: 0.14749290201912318 and parameters: {'bagging_fraction': 0.9129005098737317, 'bagging_freq': 6}. Best is trial 30 with value: 0.14749290201912318.\u001b[0m\n",
      "bagging, val_score: 0.147096:  50%|#####     | 5/10 [03:55<03:56, 47.27s/it]\u001b[32m[I 2022-08-21 18:21:48,645]\u001b[0m Trial 31 finished with value: 0.1479244888972243 and parameters: {'bagging_fraction': 0.5139425003356953, 'bagging_freq': 3}. Best is trial 30 with value: 0.14749290201912318.\u001b[0m\n",
      "bagging, val_score: 0.147096:  60%|######    | 6/10 [04:45<03:12, 48.14s/it]\u001b[32m[I 2022-08-21 18:22:38,488]\u001b[0m Trial 32 finished with value: 0.14723246963461667 and parameters: {'bagging_fraction': 0.8305844367302186, 'bagging_freq': 6}. Best is trial 32 with value: 0.14723246963461667.\u001b[0m\n",
      "bagging, val_score: 0.147096:  70%|#######   | 7/10 [05:30<02:21, 47.07s/it]\u001b[32m[I 2022-08-21 18:23:23,349]\u001b[0m Trial 33 finished with value: 0.147748046153063 and parameters: {'bagging_fraction': 0.6726487161508814, 'bagging_freq': 4}. Best is trial 32 with value: 0.14723246963461667.\u001b[0m\n",
      "bagging, val_score: 0.147096:  80%|########  | 8/10 [06:17<01:34, 47.24s/it]\u001b[32m[I 2022-08-21 18:24:10,958]\u001b[0m Trial 34 finished with value: 0.147970523587121 and parameters: {'bagging_fraction': 0.6485947312516174, 'bagging_freq': 3}. Best is trial 32 with value: 0.14723246963461667.\u001b[0m\n",
      "bagging, val_score: 0.147096:  90%|######### | 9/10 [07:00<00:45, 45.86s/it]\u001b[32m[I 2022-08-21 18:24:53,775]\u001b[0m Trial 35 finished with value: 0.14825949471158784 and parameters: {'bagging_fraction': 0.5130272953853519, 'bagging_freq': 2}. Best is trial 32 with value: 0.14723246963461667.\u001b[0m\n",
      "bagging, val_score: 0.147096: 100%|##########| 10/10 [07:50<00:00, 47.27s/it]\u001b[32m[I 2022-08-21 18:25:44,211]\u001b[0m Trial 36 finished with value: 0.1475160233835316 and parameters: {'bagging_fraction': 0.7833304038134179, 'bagging_freq': 1}. Best is trial 32 with value: 0.14723246963461667.\u001b[0m\n",
      "bagging, val_score: 0.147096: 100%|##########| 10/10 [07:50<00:00, 47.09s/it]\n",
      "feature_fraction_stage2, val_score: 0.147096:  33%|###3      | 1/3 [00:49<01:39, 49.66s/it]\u001b[32m[I 2022-08-21 18:26:33,877]\u001b[0m Trial 37 finished with value: 0.14734017651278036 and parameters: {'feature_fraction': 0.92}. Best is trial 37 with value: 0.14734017651278036.\u001b[0m\n",
      "feature_fraction_stage2, val_score: 0.146987:  67%|######6   | 2/3 [01:41<00:51, 51.08s/it]\u001b[32m[I 2022-08-21 18:27:25,947]\u001b[0m Trial 38 finished with value: 0.146986913270177 and parameters: {'feature_fraction': 0.9840000000000001}. Best is trial 38 with value: 0.146986913270177.\u001b[0m\n",
      "feature_fraction_stage2, val_score: 0.146987: 100%|##########| 3/3 [02:33<00:00, 51.28s/it]\u001b[32m[I 2022-08-21 18:28:17,460]\u001b[0m Trial 39 finished with value: 0.1472323992300062 and parameters: {'feature_fraction': 0.9520000000000001}. Best is trial 38 with value: 0.146986913270177.\u001b[0m\n",
      "feature_fraction_stage2, val_score: 0.146987: 100%|##########| 3/3 [02:33<00:00, 51.08s/it]\n",
      "regularization_factors, val_score: 0.146987:   5%|5         | 1/20 [00:59<18:54, 59.72s/it]\u001b[32m[I 2022-08-21 18:29:17,196]\u001b[0m Trial 40 finished with value: 0.1472674033498001 and parameters: {'lambda_l1': 0.008223178478847046, 'lambda_l2': 6.441734138969759}. Best is trial 40 with value: 0.1472674033498001.\u001b[0m\n",
      "regularization_factors, val_score: 0.146987:  10%|#         | 2/20 [02:00<18:10, 60.59s/it]\u001b[32m[I 2022-08-21 18:30:18,397]\u001b[0m Trial 41 finished with value: 0.14715442980073057 and parameters: {'lambda_l1': 0.008145216530580205, 'lambda_l2': 0.3634618054968688}. Best is trial 41 with value: 0.14715442980073057.\u001b[0m\n",
      "regularization_factors, val_score: 0.146987:  15%|#5        | 3/20 [03:04<17:30, 61.78s/it]\u001b[32m[I 2022-08-21 18:31:21,590]\u001b[0m Trial 42 finished with value: 0.1472764831140127 and parameters: {'lambda_l1': 0.003982141382898066, 'lambda_l2': 4.657054837280139e-06}. Best is trial 41 with value: 0.14715442980073057.\u001b[0m\n",
      "regularization_factors, val_score: 0.146987:  20%|##        | 4/20 [04:04<16:17, 61.08s/it]\u001b[32m[I 2022-08-21 18:32:21,599]\u001b[0m Trial 43 finished with value: 0.1471231413002953 and parameters: {'lambda_l1': 0.00033406647783422883, 'lambda_l2': 7.456451060444703e-05}. Best is trial 43 with value: 0.1471231413002953.\u001b[0m\n",
      "regularization_factors, val_score: 0.146987:  25%|##5       | 5/20 [05:02<15:02, 60.15s/it]\u001b[32m[I 2022-08-21 18:33:20,097]\u001b[0m Trial 44 finished with value: 0.1473293733871925 and parameters: {'lambda_l1': 3.634197938931891e-05, 'lambda_l2': 0.30819575985133413}. Best is trial 43 with value: 0.1471231413002953.\u001b[0m\n",
      "regularization_factors, val_score: 0.146814:  30%|###       | 6/20 [06:02<14:01, 60.13s/it]\u001b[32m[I 2022-08-21 18:34:20,194]\u001b[0m Trial 45 finished with value: 0.14681408769040433 and parameters: {'lambda_l1': 1.198733231807337, 'lambda_l2': 0.002044982103318229}. Best is trial 45 with value: 0.14681408769040433.\u001b[0m\n",
      "regularization_factors, val_score: 0.146814:  35%|###5      | 7/20 [07:02<13:01, 60.12s/it]\u001b[32m[I 2022-08-21 18:35:20,301]\u001b[0m Trial 46 finished with value: 0.14722408590687974 and parameters: {'lambda_l1': 0.15166132686913936, 'lambda_l2': 0.0116649412453693}. Best is trial 45 with value: 0.14681408769040433.\u001b[0m\n",
      "regularization_factors, val_score: 0.146814:  40%|####      | 8/20 [08:00<11:52, 59.37s/it]\u001b[32m[I 2022-08-21 18:36:18,070]\u001b[0m Trial 47 finished with value: 0.14698632175600293 and parameters: {'lambda_l1': 1.997454883279618e-07, 'lambda_l2': 8.406492505019888e-08}. Best is trial 45 with value: 0.14681408769040433.\u001b[0m\n",
      "regularization_factors, val_score: 0.146814:  45%|####5     | 9/20 [08:57<10:43, 58.46s/it]\u001b[32m[I 2022-08-21 18:37:14,512]\u001b[0m Trial 48 finished with value: 0.14740638608705967 and parameters: {'lambda_l1': 0.08787644270360039, 'lambda_l2': 0.00023855020127935259}. Best is trial 45 with value: 0.14681408769040433.\u001b[0m\n",
      "regularization_factors, val_score: 0.146814:  50%|#####     | 10/20 [09:56<09:48, 58.83s/it]\u001b[32m[I 2022-08-21 18:38:14,166]\u001b[0m Trial 49 finished with value: 0.14726097810918068 and parameters: {'lambda_l1': 0.024367719655631746, 'lambda_l2': 0.036799819991922784}. Best is trial 45 with value: 0.14681408769040433.\u001b[0m\n",
      "regularization_factors, val_score: 0.146814:  55%|#####5    | 11/20 [11:06<09:20, 62.27s/it]\u001b[32m[I 2022-08-21 18:39:24,255]\u001b[0m Trial 50 finished with value: 0.14687741037521476 and parameters: {'lambda_l1': 7.614095283818497, 'lambda_l2': 3.6627258695600586e-08}. Best is trial 45 with value: 0.14681408769040433.\u001b[0m\n",
      "regularization_factors, val_score: 0.146409:  60%|######    | 12/20 [12:18<08:40, 65.05s/it]\u001b[32m[I 2022-08-21 18:40:35,647]\u001b[0m Trial 51 finished with value: 0.14640927438008894 and parameters: {'lambda_l1': 8.515135269018623, 'lambda_l2': 4.76079180533113e-08}. Best is trial 51 with value: 0.14640927438008894.\u001b[0m\n",
      "regularization_factors, val_score: 0.146409:  65%|######5   | 13/20 [13:23<07:35, 65.06s/it]\u001b[32m[I 2022-08-21 18:41:40,744]\u001b[0m Trial 52 finished with value: 0.14654412336538253 and parameters: {'lambda_l1': 6.741612161585, 'lambda_l2': 2.865072339851342e-06}. Best is trial 51 with value: 0.14640927438008894.\u001b[0m\n",
      "regularization_factors, val_score: 0.146409:  70%|#######   | 14/20 [14:37<06:47, 67.94s/it]\u001b[32m[I 2022-08-21 18:42:55,339]\u001b[0m Trial 53 finished with value: 0.14646163611725327 and parameters: {'lambda_l1': 8.951091118052464, 'lambda_l2': 1.7840860322785065e-06}. Best is trial 51 with value: 0.14640927438008894.\u001b[0m\n",
      "regularization_factors, val_score: 0.146409:  75%|#######5  | 15/20 [15:34<05:23, 64.65s/it]\u001b[32m[I 2022-08-21 18:43:52,376]\u001b[0m Trial 54 finished with value: 0.14698656132433796 and parameters: {'lambda_l1': 1.5615557276980515e-08, 'lambda_l2': 6.101250159983113e-07}. Best is trial 51 with value: 0.14640927438008894.\u001b[0m\n",
      "regularization_factors, val_score: 0.146409:  80%|########  | 16/20 [16:34<04:12, 63.24s/it]\u001b[32m[I 2022-08-21 18:44:52,335]\u001b[0m Trial 55 finished with value: 0.1469643954361193 and parameters: {'lambda_l1': 0.828706356869266, 'lambda_l2': 1.529398518238363e-08}. Best is trial 51 with value: 0.14640927438008894.\u001b[0m\n",
      "regularization_factors, val_score: 0.146409:  85%|########5 | 17/20 [17:31<03:04, 61.36s/it]\u001b[32m[I 2022-08-21 18:45:49,333]\u001b[0m Trial 56 finished with value: 0.14698743496063998 and parameters: {'lambda_l1': 1.975716329757571e-05, 'lambda_l2': 1.2165654596829512e-05}. Best is trial 51 with value: 0.14640927438008894.\u001b[0m\n",
      "regularization_factors, val_score: 0.146409:  90%|######### | 18/20 [18:33<02:02, 61.49s/it]\u001b[32m[I 2022-08-21 18:46:51,104]\u001b[0m Trial 57 finished with value: 0.1471751622607113 and parameters: {'lambda_l1': 0.7655971686691837, 'lambda_l2': 2.4775987455246735e-07}. Best is trial 51 with value: 0.14640927438008894.\u001b[0m\n",
      "regularization_factors, val_score: 0.146409:  95%|#########5| 19/20 [19:30<01:00, 60.08s/it]\u001b[32m[I 2022-08-21 18:47:47,916]\u001b[0m Trial 58 finished with value: 0.1475368024981905 and parameters: {'lambda_l1': 0.0010660838180145654, 'lambda_l2': 2.7462393048051475e-05}. Best is trial 51 with value: 0.14640927438008894.\u001b[0m\n",
      "regularization_factors, val_score: 0.146409: 100%|##########| 20/20 [20:28<00:00, 59.46s/it]\u001b[32m[I 2022-08-21 18:48:45,913]\u001b[0m Trial 59 finished with value: 0.14698622806502823 and parameters: {'lambda_l1': 7.286266084646606e-06, 'lambda_l2': 7.352346487824521e-07}. Best is trial 51 with value: 0.14640927438008894.\u001b[0m\n",
      "regularization_factors, val_score: 0.146409: 100%|##########| 20/20 [20:28<00:00, 61.42s/it]\n",
      "min_data_in_leaf, val_score: 0.146409:  20%|##        | 1/5 [01:15<05:03, 75.95s/it]\u001b[32m[I 2022-08-21 18:50:01,879]\u001b[0m Trial 60 finished with value: 0.14668895316580988 and parameters: {'min_child_samples': 5}. Best is trial 60 with value: 0.14668895316580988.\u001b[0m\n",
      "min_data_in_leaf, val_score: 0.146409:  40%|####      | 2/5 [02:31<03:46, 75.44s/it]\u001b[32m[I 2022-08-21 18:51:16,956]\u001b[0m Trial 61 finished with value: 0.14678296865586768 and parameters: {'min_child_samples': 100}. Best is trial 60 with value: 0.14668895316580988.\u001b[0m\n",
      "min_data_in_leaf, val_score: 0.146409:  60%|######    | 3/5 [03:50<02:34, 77.10s/it]\u001b[32m[I 2022-08-21 18:52:36,034]\u001b[0m Trial 62 finished with value: 0.14641655415292837 and parameters: {'min_child_samples': 10}. Best is trial 62 with value: 0.14641655415292837.\u001b[0m\n",
      "min_data_in_leaf, val_score: 0.146363:  80%|########  | 4/5 [05:06<01:16, 76.63s/it]\u001b[32m[I 2022-08-21 18:53:51,931]\u001b[0m Trial 63 finished with value: 0.14636300125015297 and parameters: {'min_child_samples': 25}. Best is trial 63 with value: 0.14636300125015297.\u001b[0m\n",
      "min_data_in_leaf, val_score: 0.146363: 100%|##########| 5/5 [06:16<00:00, 74.32s/it]\u001b[32m[I 2022-08-21 18:55:02,172]\u001b[0m Trial 64 finished with value: 0.1466412594617827 and parameters: {'min_child_samples': 50}. Best is trial 63 with value: 0.14636300125015297.\u001b[0m\n",
      "min_data_in_leaf, val_score: 0.146363: 100%|##########| 5/5 [06:16<00:00, 75.25s/it]\n"
     ]
    },
    {
     "data": {
      "text/plain": [
       "{'objective': 'mean_squared_error',\n",
       " 'metric': 'l1',\n",
       " 'verbose': -1,\n",
       " 'verbose_eval': -1,\n",
       " 'boosting_type': 'gbdt',\n",
       " 'feature_pre_filter': False,\n",
       " 'lambda_l1': 8.515135269018623,\n",
       " 'lambda_l2': 4.76079180533113e-08,\n",
       " 'num_leaves': 256,\n",
       " 'feature_fraction': 0.9840000000000001,\n",
       " 'bagging_fraction': 1.0,\n",
       " 'bagging_freq': 0,\n",
       " 'min_child_samples': 25,\n",
       " 'num_iterations': 200,\n",
       " 'early_stopping_round': 50,\n",
       " 'categorical_column': [43, 44, 50, 87, 122, 127, 129, 130, 133, 139]}"
      ]
     },
     "execution_count": 12,
     "metadata": {},
     "output_type": "execute_result"
    }
   ],
   "source": [
    "params = {\n",
    "    'objective': 'mean_squared_error',\n",
    "    'metric': 'mae',\n",
    "    \"verbose\": -1,#verbosity\n",
    "    \"verbose_eval\":-1,\n",
    "    \"boosting_type\": \"gbdt\",\n",
    "}\n",
    "\n",
    "best_params, history = {}, []\n",
    "\n",
    "# LightGBM学習\n",
    "gbm = lgb.train(params,\n",
    "                lgb_train,\n",
    "                num_boost_round=200,\n",
    "                valid_sets=[lgb_train, lgb_eval],\n",
    "                early_stopping_rounds=50,\n",
    "                verbose_eval = False\n",
    "               )\n",
    "\n",
    "best_params = gbm.params\n",
    "best_params"
   ]
  },
  {
   "cell_type": "code",
   "execution_count": 13,
   "id": "87c861a6",
   "metadata": {
    "execution": {
     "iopub.execute_input": "2022-08-21T18:55:02.268555Z",
     "iopub.status.busy": "2022-08-21T18:55:02.268056Z",
     "iopub.status.idle": "2022-08-21T18:55:02.949301Z",
     "shell.execute_reply": "2022-08-21T18:55:02.947977Z"
    },
    "papermill": {
     "duration": 0.713728,
     "end_time": "2022-08-21T18:55:02.952432",
     "exception": false,
     "start_time": "2022-08-21T18:55:02.238704",
     "status": "completed"
    },
    "tags": []
   },
   "outputs": [
    {
     "data": {
      "image/png": "[encoded data removed]",
      "text/plain": [
       "<Figure size 720x720 with 1 Axes>"
      ]
     },
     "metadata": {
      "needs_background": "light"
     },
     "output_type": "display_data"
    }
   ],
   "source": [
    "lgb.plot_importance(gbm, max_num_features = 35, figsize = (10,10))\n",
    "plt.show()"
   ]
  },
  {
   "cell_type": "code",
   "execution_count": 14,
   "id": "151a6f99",
   "metadata": {
    "execution": {
     "iopub.execute_input": "2022-08-21T18:55:03.011647Z",
     "iopub.status.busy": "2022-08-21T18:55:03.010848Z",
     "iopub.status.idle": "2022-08-21T18:55:03.016294Z",
     "shell.execute_reply": "2022-08-21T18:55:03.015371Z"
    },
    "papermill": {
     "duration": 0.038411,
     "end_time": "2022-08-21T18:55:03.018841",
     "exception": false,
     "start_time": "2022-08-21T18:55:02.980430",
     "status": "completed"
    },
    "tags": []
   },
   "outputs": [],
   "source": [
    "# model = model.fit(X_train, y_train)"
   ]
  },
  {
   "cell_type": "markdown",
   "id": "62e86242",
   "metadata": {
    "papermill": {
     "duration": 0.027677,
     "end_time": "2022-08-21T18:55:03.073385",
     "exception": false,
     "start_time": "2022-08-21T18:55:03.045708",
     "status": "completed"
    },
    "tags": []
   },
   "source": [
    "# Submissions"
   ]
  },
  {
   "cell_type": "code",
   "execution_count": 15,
   "id": "9677a1da",
   "metadata": {
    "execution": {
     "iopub.execute_input": "2022-08-21T18:55:03.130521Z",
     "iopub.status.busy": "2022-08-21T18:55:03.129738Z",
     "iopub.status.idle": "2022-08-21T18:55:11.846290Z",
     "shell.execute_reply": "2022-08-21T18:55:11.844844Z"
    },
    "papermill": {
     "duration": 8.749,
     "end_time": "2022-08-21T18:55:11.849670",
     "exception": false,
     "start_time": "2022-08-21T18:55:03.100670",
     "status": "completed"
    },
    "tags": []
   },
   "outputs": [],
   "source": [
    "import numpy as np \n",
    "import pandas as pd \n",
    "import glob\n",
    "from scipy.stats import rankdata\n",
    "\n",
    "paths = [x for x in glob.glob('../input/*/*.csv') if 'amex-default-prediction' not in x]\n",
    "dfs = [pd.read_csv(x) for x in paths]\n",
    "dfs = [x.sort_values(by='customer_ID') for x in dfs]\n",
    "\n",
    "paths = [x for x in glob.glob('../input/*/*.csv') if 'amex-default-prediction' not in x]\n",
    "paths\n",
    "\n",
    "for df in dfs:\n",
    "    df['prediction'] = np.clip(df['prediction'], 0, 1)"
   ]
  },
  {
   "cell_type": "code",
   "execution_count": 16,
   "id": "a316ee82",
   "metadata": {
    "execution": {
     "iopub.execute_input": "2022-08-21T18:55:11.908833Z",
     "iopub.status.busy": "2022-08-21T18:55:11.908294Z",
     "iopub.status.idle": "2022-08-21T18:55:18.314421Z",
     "shell.execute_reply": "2022-08-21T18:55:18.313082Z"
    },
    "papermill": {
     "duration": 6.438871,
     "end_time": "2022-08-21T18:55:18.317548",
     "exception": false,
     "start_time": "2022-08-21T18:55:11.878677",
     "status": "completed"
    },
    "tags": []
   },
   "outputs": [],
   "source": [
    "paths = [x for x in glob.glob('../input/*/*.csv') if 'amex-default-prediction' not in x]\n",
    "dfs = [pd.read_csv(x) for x in paths]\n",
    "dfs = [x.sort_values(by='customer_ID') for x in dfs]"
   ]
  },
  {
   "cell_type": "code",
   "execution_count": 17,
   "id": "61c4a1ea",
   "metadata": {
    "execution": {
     "iopub.execute_input": "2022-08-21T18:55:18.375512Z",
     "iopub.status.busy": "2022-08-21T18:55:18.374995Z",
     "iopub.status.idle": "2022-08-21T18:55:18.381704Z",
     "shell.execute_reply": "2022-08-21T18:55:18.380313Z"
    },
    "papermill": {
     "duration": 0.039078,
     "end_time": "2022-08-21T18:55:18.384247",
     "exception": false,
     "start_time": "2022-08-21T18:55:18.345169",
     "status": "completed"
    },
    "tags": []
   },
   "outputs": [],
   "source": [
    "weights = [0.52, 0.85, 0.97, 0.57, 1.02, 0.8]# [0.52, 0.87, 0.95, 0.57, 1, 0.8]"
   ]
  },
  {
   "cell_type": "code",
   "execution_count": 18,
   "id": "30953e6f",
   "metadata": {
    "execution": {
     "iopub.execute_input": "2022-08-21T18:55:18.441598Z",
     "iopub.status.busy": "2022-08-21T18:55:18.441064Z",
     "iopub.status.idle": "2022-08-21T18:55:26.036513Z",
     "shell.execute_reply": "2022-08-21T18:55:26.034982Z"
    },
    "papermill": {
     "duration": 7.628216,
     "end_time": "2022-08-21T18:55:26.039773",
     "exception": false,
     "start_time": "2022-08-21T18:55:18.411557",
     "status": "completed"
    },
    "tags": []
   },
   "outputs": [],
   "source": [
    "submit = pd.read_csv('../input/amex-default-prediction/sample_submission.csv')\n",
    "submit['prediction'] = 0\n",
    "\n",
    "for df, weight in zip(dfs, weights):\n",
    "    submit['prediction'] += (df['prediction'] * weight)\n",
    "    \n",
    "submit['prediction'] /= np.sum(weights)\n",
    "\n",
    "submit.to_csv('mean_submission.csv', index=None)\n",
    "\n",
    " \n",
    "submit = pd.read_csv('../input/amex-default-prediction/sample_submission.csv')\n",
    "submit['prediction'] = 0\n",
    "\n",
    "for df, weight in zip(dfs, weights):\n",
    "    submit['prediction'] += (rankdata(df['prediction'])/df.shape[0]) * weight\n",
    "    \n",
    "submit['prediction'] /= 4"
   ]
  },
  {
   "cell_type": "code",
   "execution_count": 19,
   "id": "9e3b91d6",
   "metadata": {
    "execution": {
     "iopub.execute_input": "2022-08-21T18:55:26.224772Z",
     "iopub.status.busy": "2022-08-21T18:55:26.224037Z",
     "iopub.status.idle": "2022-08-21T18:56:17.067168Z",
     "shell.execute_reply": "2022-08-21T18:56:17.065669Z"
    },
    "papermill": {
     "duration": 51.002516,
     "end_time": "2022-08-21T18:56:17.070853",
     "exception": false,
     "start_time": "2022-08-21T18:55:26.068337",
     "status": "completed"
    },
    "tags": []
   },
   "outputs": [],
   "source": [
    "test = pd.read_feather('../input/amexfeather/test_data.ftr')\n",
    "df_train = test.groupby('customer_ID').tail(1).set_index('customer_ID')"
   ]
  },
  {
   "cell_type": "code",
   "execution_count": 20,
   "id": "a109fb41",
   "metadata": {
    "execution": {
     "iopub.execute_input": "2022-08-21T18:56:17.128352Z",
     "iopub.status.busy": "2022-08-21T18:56:17.127808Z",
     "iopub.status.idle": "2022-08-21T18:56:17.136562Z",
     "shell.execute_reply": "2022-08-21T18:56:17.135473Z"
    },
    "papermill": {
     "duration": 0.039825,
     "end_time": "2022-08-21T18:56:17.138807",
     "exception": false,
     "start_time": "2022-08-21T18:56:17.098982",
     "status": "completed"
    },
    "tags": []
   },
   "outputs": [
    {
     "data": {
      "text/plain": [
       "Index(['S_2', 'P_2', 'D_39', 'B_1', 'B_2', 'R_1', 'S_3', 'D_41', 'B_3', 'D_42',\n",
       "       ...\n",
       "       'D_136', 'D_137', 'D_138', 'D_139', 'D_140', 'D_141', 'D_142', 'D_143',\n",
       "       'D_144', 'D_145'],\n",
       "      dtype='object', length=189)"
      ]
     },
     "execution_count": 20,
     "metadata": {},
     "output_type": "execute_result"
    }
   ],
   "source": [
    "df_train.columns"
   ]
  },
  {
   "cell_type": "code",
   "execution_count": 21,
   "id": "2b5da216",
   "metadata": {
    "execution": {
     "iopub.execute_input": "2022-08-21T18:56:17.195975Z",
     "iopub.status.busy": "2022-08-21T18:56:17.195211Z",
     "iopub.status.idle": "2022-08-21T18:56:19.753129Z",
     "shell.execute_reply": "2022-08-21T18:56:19.752058Z"
    },
    "papermill": {
     "duration": 2.589929,
     "end_time": "2022-08-21T18:56:19.756127",
     "exception": false,
     "start_time": "2022-08-21T18:56:17.166198",
     "status": "completed"
    },
    "tags": []
   },
   "outputs": [],
   "source": [
    "df_train = df_train.dropna(axis=1, thresh=int(0.80 * len(df_train)))\n",
    "\n",
    "df_train[\"c_PD_239\"]=df_train[\"D_39\"]/(df_train[\"P_2\"]*(-1)+0.0001)\n",
    "df_train[\"c_PB_29\"]=df_train[\"P_2\"]*(-1)/(df_train[\"B_9\"]*(1)+0.0001)\n",
    "df_train[\"c_PR_21\"]=df_train[\"P_2\"]*(-1)/(df_train[\"R_1\"]+0.0001)\n",
    "\n",
    "df_train[\"c_BBBB\"]=(df_train[\"B_9\"]+0.001)/(df_train[\"B_23\"]+df_train[\"B_3\"]+0.0001)\n",
    "df_train[\"c_BBBB1\"]=(df_train[\"B_33\"]*(-1))+(df_train[\"B_18\"]*(-1)+df_train[\"S_25\"]*(1)+0.0001)\n",
    "df_train[\"c_BBBB2\"]=(df_train[\"B_19\"]+df_train[\"B_20\"]+df_train[\"B_4\"]+0.0001)\n",
    "\n",
    "df_train[\"c_RRR0\"]=(df_train[\"R_3\"]+0.001)/(df_train[\"R_2\"]+df_train[\"R_4\"]+0.0001)\n",
    "df_train[\"c_RRR1\"]=(df_train[\"D_62\"]+0.001)/(df_train[\"D_112\"]+df_train[\"R_27\"]+0.0001)\n",
    "\n",
    "df_train[\"c_PD_348\"]=df_train[\"D_48\"]/(df_train[\"P_3\"]+0.0001)\n",
    "df_train[\"c_PD_355\"]=df_train[\"D_55\"]/(df_train[\"P_3\"]+0.0001)\n",
    "\n",
    "df_train[\"c_PD_439\"]=df_train[\"D_39\"]/(df_train[\"P_4\"]+0.0001)\n",
    "df_train[\"c_PB_49\"]=df_train[\"B_9\"]/(df_train[\"P_4\"]+0.0001)\n",
    "df_train[\"c_PR_41\"]=df_train[\"R_1\"]/(df_train[\"P_4\"]+0.0001)\n"
   ]
  },
  {
   "cell_type": "code",
   "execution_count": 22,
   "id": "8ae872d2",
   "metadata": {
    "execution": {
     "iopub.execute_input": "2022-08-21T18:56:19.813706Z",
     "iopub.status.busy": "2022-08-21T18:56:19.812818Z",
     "iopub.status.idle": "2022-08-21T18:56:21.289884Z",
     "shell.execute_reply": "2022-08-21T18:56:21.288824Z"
    },
    "papermill": {
     "duration": 1.509003,
     "end_time": "2022-08-21T18:56:21.292852",
     "exception": false,
     "start_time": "2022-08-21T18:56:19.783849",
     "status": "completed"
    },
    "tags": []
   },
   "outputs": [],
   "source": [
    "X = df_train.drop(\"S_2\", axis=1)\n",
    "X = X[Xname]"
   ]
  },
  {
   "cell_type": "code",
   "execution_count": 23,
   "id": "f2c48e1c",
   "metadata": {
    "execution": {
     "iopub.execute_input": "2022-08-21T18:56:21.350593Z",
     "iopub.status.busy": "2022-08-21T18:56:21.349846Z",
     "iopub.status.idle": "2022-08-21T18:56:21.354919Z",
     "shell.execute_reply": "2022-08-21T18:56:21.353643Z"
    },
    "papermill": {
     "duration": 0.037753,
     "end_time": "2022-08-21T18:56:21.357668",
     "exception": false,
     "start_time": "2022-08-21T18:56:21.319915",
     "status": "completed"
    },
    "tags": []
   },
   "outputs": [],
   "source": [
    "# Y_pred = model.predict_proba(X)"
   ]
  },
  {
   "cell_type": "code",
   "execution_count": 24,
   "id": "ff251bc2",
   "metadata": {
    "execution": {
     "iopub.execute_input": "2022-08-21T18:56:21.414519Z",
     "iopub.status.busy": "2022-08-21T18:56:21.413967Z",
     "iopub.status.idle": "2022-08-21T18:56:30.538470Z",
     "shell.execute_reply": "2022-08-21T18:56:30.533431Z"
    },
    "papermill": {
     "duration": 9.156666,
     "end_time": "2022-08-21T18:56:30.541693",
     "exception": false,
     "start_time": "2022-08-21T18:56:21.385027",
     "status": "completed"
    },
    "tags": []
   },
   "outputs": [],
   "source": [
    "Y_pred = gbm.predict(X, num_iteration=gbm.best_iteration)"
   ]
  },
  {
   "cell_type": "code",
   "execution_count": 25,
   "id": "02cc3bd7",
   "metadata": {
    "execution": {
     "iopub.execute_input": "2022-08-21T18:56:30.615744Z",
     "iopub.status.busy": "2022-08-21T18:56:30.614865Z",
     "iopub.status.idle": "2022-08-21T18:56:30.621678Z",
     "shell.execute_reply": "2022-08-21T18:56:30.620842Z"
    },
    "papermill": {
     "duration": 0.046854,
     "end_time": "2022-08-21T18:56:30.623913",
     "exception": false,
     "start_time": "2022-08-21T18:56:30.577059",
     "status": "completed"
    },
    "tags": []
   },
   "outputs": [
    {
     "data": {
      "text/plain": [
       "array([-0.04305291, -0.00119861,  0.05329925, ...,  0.56848432,\n",
       "        0.19189391,  0.03631712])"
      ]
     },
     "execution_count": 25,
     "metadata": {},
     "output_type": "execute_result"
    }
   ],
   "source": [
    "Y_pred"
   ]
  },
  {
   "cell_type": "code",
   "execution_count": 26,
   "id": "38f30b3e",
   "metadata": {
    "execution": {
     "iopub.execute_input": "2022-08-21T18:56:30.680709Z",
     "iopub.status.busy": "2022-08-21T18:56:30.679855Z",
     "iopub.status.idle": "2022-08-21T18:56:30.698402Z",
     "shell.execute_reply": "2022-08-21T18:56:30.697352Z"
    },
    "papermill": {
     "duration": 0.049759,
     "end_time": "2022-08-21T18:56:30.701143",
     "exception": false,
     "start_time": "2022-08-21T18:56:30.651384",
     "status": "completed"
    },
    "tags": []
   },
   "outputs": [],
   "source": [
    "submit['prediction'] = (submit['prediction'])*(0.995)+(Y_pred)*(0.005)"
   ]
  },
  {
   "cell_type": "code",
   "execution_count": 27,
   "id": "0f85b0dc",
   "metadata": {
    "execution": {
     "iopub.execute_input": "2022-08-21T18:56:30.757885Z",
     "iopub.status.busy": "2022-08-21T18:56:30.757040Z",
     "iopub.status.idle": "2022-08-21T18:56:33.954266Z",
     "shell.execute_reply": "2022-08-21T18:56:33.952957Z"
    },
    "papermill": {
     "duration": 3.228841,
     "end_time": "2022-08-21T18:56:33.957183",
     "exception": false,
     "start_time": "2022-08-21T18:56:30.728342",
     "status": "completed"
    },
    "tags": []
   },
   "outputs": [],
   "source": [
    "submit.to_csv('submission.csv', index=None)    "
   ]
  },
  {
   "cell_type": "code",
   "execution_count": 28,
   "id": "3e966719",
   "metadata": {
    "execution": {
     "iopub.execute_input": "2022-08-21T18:56:34.017087Z",
     "iopub.status.busy": "2022-08-21T18:56:34.016183Z",
     "iopub.status.idle": "2022-08-21T18:56:34.034131Z",
     "shell.execute_reply": "2022-08-21T18:56:34.032771Z"
    },
    "papermill": {
     "duration": 0.051859,
     "end_time": "2022-08-21T18:56:34.036913",
     "exception": false,
     "start_time": "2022-08-21T18:56:33.985054",
     "status": "completed"
    },
    "tags": []
   },
   "outputs": [
    {
     "data": {
      "text/html": [
       "<div>\n",
       "<style scoped>\n",
       "    .dataframe tbody tr th:only-of-type {\n",
       "        vertical-align: middle;\n",
       "    }\n",
       "\n",
       "    .dataframe tbody tr th {\n",
       "        vertical-align: top;\n",
       "    }\n",
       "\n",
       "    .dataframe thead th {\n",
       "        text-align: right;\n",
       "    }\n",
       "</style>\n",
       "<table border=\"1\" class=\"dataframe\">\n",
       "  <thead>\n",
       "    <tr style=\"text-align: right;\">\n",
       "      <th></th>\n",
       "      <th>customer_ID</th>\n",
       "      <th>prediction</th>\n",
       "    </tr>\n",
       "  </thead>\n",
       "  <tbody>\n",
       "    <tr>\n",
       "      <th>0</th>\n",
       "      <td>00000469ba478561f23a92a868bd366de6f6527a684c9a...</td>\n",
       "      <td>0.296674</td>\n",
       "    </tr>\n",
       "    <tr>\n",
       "      <th>1</th>\n",
       "      <td>00001bf2e77ff879fab36aa4fac689b9ba411dae63ae39...</td>\n",
       "      <td>0.042404</td>\n",
       "    </tr>\n",
       "    <tr>\n",
       "      <th>2</th>\n",
       "      <td>0000210045da4f81e5f122c6bde5c2a617d03eef67f82c...</td>\n",
       "      <td>0.301839</td>\n",
       "    </tr>\n",
       "    <tr>\n",
       "      <th>3</th>\n",
       "      <td>00003b41e58ede33b8daf61ab56d9952f17c9ad1c3976c...</td>\n",
       "      <td>0.379795</td>\n",
       "    </tr>\n",
       "    <tr>\n",
       "      <th>4</th>\n",
       "      <td>00004b22eaeeeb0ec976890c1d9bfc14fd9427e98c4ee9...</td>\n",
       "      <td>0.521729</td>\n",
       "    </tr>\n",
       "  </tbody>\n",
       "</table>\n",
       "</div>"
      ],
      "text/plain": [
       "                                         customer_ID  prediction\n",
       "0  00000469ba478561f23a92a868bd366de6f6527a684c9a...    0.296674\n",
       "1  00001bf2e77ff879fab36aa4fac689b9ba411dae63ae39...    0.042404\n",
       "2  0000210045da4f81e5f122c6bde5c2a617d03eef67f82c...    0.301839\n",
       "3  00003b41e58ede33b8daf61ab56d9952f17c9ad1c3976c...    0.379795\n",
       "4  00004b22eaeeeb0ec976890c1d9bfc14fd9427e98c4ee9...    0.521729"
      ]
     },
     "execution_count": 28,
     "metadata": {},
     "output_type": "execute_result"
    }
   ],
   "source": [
    "submit.head()"
   ]
  },
  {
   "cell_type": "code",
   "execution_count": null,
   "id": "b0783214",
   "metadata": {
    "papermill": {
     "duration": 0.027304,
     "end_time": "2022-08-21T18:56:34.093349",
     "exception": false,
     "start_time": "2022-08-21T18:56:34.066045",
     "status": "completed"
    },
    "tags": []
   },
   "outputs": [],
   "source": []
  }
 ],
 "metadata": {
  "kernelspec": {
   "display_name": "Python 3",
   "language": "python",
   "name": "python3"
  },
  "language_info": {
   "codemirror_mode": {
    "name": "ipython",
    "version": 3
   },
   "file_extension": ".py",
   "mimetype": "text/x-python",
   "name": "python",
   "nbconvert_exporter": "python",
   "pygments_lexer": "ipython3",
   "version": "3.7.12"
  },
  "papermill": {
   "default_parameters": {},
   "duration": 3493.39761,
   "end_time": "2022-08-21T18:56:37.354502",
   "environment_variables": {},
   "exception": null,
   "input_path": "__notebook__.ipynb",
   "output_path": "__notebook__.ipynb",
   "parameters": {},
   "start_time": "2022-08-21T17:58:23.956892",
   "version": "2.3.4"
  }
 },
 "nbformat": 4,
 "nbformat_minor": 5
}
