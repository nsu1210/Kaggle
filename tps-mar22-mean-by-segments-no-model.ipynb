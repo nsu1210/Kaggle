{
 "cells": [
  {
   "cell_type": "markdown",
   "id": "e95f72f4",
   "metadata": {
    "_cell_guid": "b1076dfc-b9ad-4769-8c92-a6c4dae69d19",
    "_uuid": "8f2839f25d086af736a60e9eeb907d3b93b6e0e5",
    "papermill": {
     "duration": 0.009852,
     "end_time": "2022-03-19T22:01:41.415601",
     "exception": false,
     "start_time": "2022-03-19T22:01:41.405749",
     "status": "completed"
    },
    "tags": []
   },
   "source": [
    "# Solving the March TPS Without Machine Learning\n",
    "\n",
    "We don't need machine learning to predict congestions for September 30. It suffices to determine the median congestion for every place and time of day and submit these medians."
   ]
  },
  {
   "cell_type": "code",
   "execution_count": 1,
   "id": "dd5f36c3",
   "metadata": {
    "_kg_hide-input": true,
    "execution": {
     "iopub.execute_input": "2022-03-19T22:01:41.440030Z",
     "iopub.status.busy": "2022-03-19T22:01:41.438235Z",
     "iopub.status.idle": "2022-03-19T22:01:41.451220Z",
     "shell.execute_reply": "2022-03-19T22:01:41.451698Z",
     "shell.execute_reply.started": "2022-03-02T07:11:23.788055Z"
    },
    "papermill": {
     "duration": 0.026901,
     "end_time": "2022-03-19T22:01:41.452040",
     "exception": false,
     "start_time": "2022-03-19T22:01:41.425139",
     "status": "completed"
    },
    "tags": []
   },
   "outputs": [],
   "source": [
    "import numpy as np\n",
    "import pandas as pd\n",
    "import matplotlib.pyplot as plt\n",
    "from matplotlib.ticker import MaxNLocator, PercentFormatter\n",
    "from cycler import cycler\n",
    "from IPython import display\n",
    "\n",
    "oldcycler = plt.rcParams['axes.prop_cycle']\n",
    "plt.rcParams['axes.facecolor'] = '#0057b8' # blue\n",
    "plt.rcParams['axes.prop_cycle'] = cycler(color=['#ffd700'] +\n",
    "                                         oldcycler.by_key()['color'][1:])"
   ]
  },
  {
   "cell_type": "code",
   "execution_count": 2,
   "id": "e78cb3ae",
   "metadata": {
    "execution": {
     "iopub.execute_input": "2022-03-19T22:01:41.473281Z",
     "iopub.status.busy": "2022-03-19T22:01:41.472313Z",
     "iopub.status.idle": "2022-03-19T22:01:42.589062Z",
     "shell.execute_reply": "2022-03-19T22:01:42.589598Z",
     "shell.execute_reply.started": "2022-03-02T07:11:23.818346Z"
    },
    "papermill": {
     "duration": 1.128984,
     "end_time": "2022-03-19T22:01:42.589769",
     "exception": false,
     "start_time": "2022-03-19T22:01:41.460785",
     "status": "completed"
    },
    "tags": []
   },
   "outputs": [],
   "source": [
    "# Read the data\n",
    "train = pd.read_csv('../input/tabular-playground-series-mar-2022/train.csv', index_col='row_id', parse_dates=['time'])\n",
    "test = pd.read_csv('../input/tabular-playground-series-mar-2022/test.csv', index_col='row_id', parse_dates=['time'])"
   ]
  },
  {
   "cell_type": "code",
   "execution_count": 3,
   "id": "7e767405",
   "metadata": {
    "execution": {
     "iopub.execute_input": "2022-03-19T22:01:42.611450Z",
     "iopub.status.busy": "2022-03-19T22:01:42.610447Z",
     "iopub.status.idle": "2022-03-19T22:01:42.870907Z",
     "shell.execute_reply": "2022-03-19T22:01:42.871422Z",
     "shell.execute_reply.started": "2022-03-02T07:11:24.933885Z"
    },
    "papermill": {
     "duration": 0.272858,
     "end_time": "2022-03-19T22:01:42.871613",
     "exception": false,
     "start_time": "2022-03-19T22:01:42.598755",
     "status": "completed"
    },
    "tags": []
   },
   "outputs": [],
   "source": [
    "# Feature Engineering\n",
    "for df in [train, test]:\n",
    "    df['weekday'] = df.time.dt.weekday\n",
    "    df['hour'] = df.time.dt.hour\n",
    "    df['minute'] = df.time.dt.minute\n",
    "    "
   ]
  },
  {
   "cell_type": "code",
   "execution_count": 4,
   "id": "25254374",
   "metadata": {
    "execution": {
     "iopub.execute_input": "2022-03-19T22:01:42.893202Z",
     "iopub.status.busy": "2022-03-19T22:01:42.892541Z",
     "iopub.status.idle": "2022-03-19T22:01:43.133689Z",
     "shell.execute_reply": "2022-03-19T22:01:43.134201Z",
     "shell.execute_reply.started": "2022-03-02T07:11:25.194805Z"
    },
    "papermill": {
     "duration": 0.253395,
     "end_time": "2022-03-19T22:01:43.134370",
     "exception": false,
     "start_time": "2022-03-19T22:01:42.880975",
     "status": "completed"
    },
    "tags": []
   },
   "outputs": [
    {
     "data": {
      "text/plain": [
       "x  y  direction  weekday  hour  minute\n",
       "0  0  EB         0        0     0         35\n",
       "                                20        35\n",
       "                                40        35\n",
       "                          1     0         35\n",
       "                                20        35\n",
       "                                          ..\n",
       "2  3  WB         6        22    20        40\n",
       "                                40        44\n",
       "                          23    0         41\n",
       "                                20        38\n",
       "                                40        39\n",
       "Name: congestion, Length: 32760, dtype: int64"
      ]
     },
     "execution_count": 4,
     "metadata": {},
     "output_type": "execute_result"
    }
   ],
   "source": [
    "# Compute the median congestion for every place and time of week\n",
    "medians = train.groupby(['x', 'y', 'direction', 'weekday', 'hour', 'minute']).congestion.median().astype(int)\n",
    "medians"
   ]
  },
  {
   "cell_type": "code",
   "execution_count": 5,
   "id": "5bbc2008",
   "metadata": {
    "execution": {
     "iopub.execute_input": "2022-03-19T22:01:43.160735Z",
     "iopub.status.busy": "2022-03-19T22:01:43.159780Z",
     "iopub.status.idle": "2022-03-19T22:01:43.197634Z",
     "shell.execute_reply": "2022-03-19T22:01:43.197078Z",
     "shell.execute_reply.started": "2022-03-02T07:11:25.440416Z"
    },
    "papermill": {
     "duration": 0.053913,
     "end_time": "2022-03-19T22:01:43.197769",
     "exception": false,
     "start_time": "2022-03-19T22:01:43.143856",
     "status": "completed"
    },
    "tags": []
   },
   "outputs": [
    {
     "data": {
      "text/html": [
       "<div>\n",
       "<style scoped>\n",
       "    .dataframe tbody tr th:only-of-type {\n",
       "        vertical-align: middle;\n",
       "    }\n",
       "\n",
       "    .dataframe tbody tr th {\n",
       "        vertical-align: top;\n",
       "    }\n",
       "\n",
       "    .dataframe thead th {\n",
       "        text-align: right;\n",
       "    }\n",
       "</style>\n",
       "<table border=\"1\" class=\"dataframe\">\n",
       "  <thead>\n",
       "    <tr style=\"text-align: right;\">\n",
       "      <th></th>\n",
       "      <th>row_id</th>\n",
       "      <th>congestion</th>\n",
       "    </tr>\n",
       "  </thead>\n",
       "  <tbody>\n",
       "    <tr>\n",
       "      <th>0</th>\n",
       "      <td>848835</td>\n",
       "      <td>47</td>\n",
       "    </tr>\n",
       "    <tr>\n",
       "      <th>1</th>\n",
       "      <td>848836</td>\n",
       "      <td>35</td>\n",
       "    </tr>\n",
       "    <tr>\n",
       "      <th>2</th>\n",
       "      <td>848837</td>\n",
       "      <td>56</td>\n",
       "    </tr>\n",
       "    <tr>\n",
       "      <th>3</th>\n",
       "      <td>848838</td>\n",
       "      <td>22</td>\n",
       "    </tr>\n",
       "    <tr>\n",
       "      <th>4</th>\n",
       "      <td>848839</td>\n",
       "      <td>72</td>\n",
       "    </tr>\n",
       "    <tr>\n",
       "      <th>...</th>\n",
       "      <td>...</td>\n",
       "      <td>...</td>\n",
       "    </tr>\n",
       "    <tr>\n",
       "      <th>2335</th>\n",
       "      <td>851170</td>\n",
       "      <td>68</td>\n",
       "    </tr>\n",
       "    <tr>\n",
       "      <th>2336</th>\n",
       "      <td>851171</td>\n",
       "      <td>25</td>\n",
       "    </tr>\n",
       "    <tr>\n",
       "      <th>2337</th>\n",
       "      <td>851172</td>\n",
       "      <td>71</td>\n",
       "    </tr>\n",
       "    <tr>\n",
       "      <th>2338</th>\n",
       "      <td>851173</td>\n",
       "      <td>11</td>\n",
       "    </tr>\n",
       "    <tr>\n",
       "      <th>2339</th>\n",
       "      <td>851174</td>\n",
       "      <td>40</td>\n",
       "    </tr>\n",
       "  </tbody>\n",
       "</table>\n",
       "<p>2340 rows × 2 columns</p>\n",
       "</div>"
      ],
      "text/plain": [
       "      row_id  congestion\n",
       "0     848835          47\n",
       "1     848836          35\n",
       "2     848837          56\n",
       "3     848838          22\n",
       "4     848839          72\n",
       "...      ...         ...\n",
       "2335  851170          68\n",
       "2336  851171          25\n",
       "2337  851172          71\n",
       "2338  851173          11\n",
       "2339  851174          40\n",
       "\n",
       "[2340 rows x 2 columns]"
      ]
     },
     "execution_count": 5,
     "metadata": {},
     "output_type": "execute_result"
    }
   ],
   "source": [
    "# Write the submission file\n",
    "sub = test.merge(medians, \n",
    "                 left_on=['x', 'y', 'direction', 'weekday', 'hour', 'minute'],\n",
    "                 right_index=True)[['congestion']]\n",
    "sub.reset_index(inplace=True)\n",
    "sub.to_csv('submission_no_machine_learning.csv', index=False)\n",
    "sub"
   ]
  },
  {
   "cell_type": "code",
   "execution_count": 6,
   "id": "1cc0a558",
   "metadata": {
    "execution": {
     "iopub.execute_input": "2022-03-19T22:01:43.227333Z",
     "iopub.status.busy": "2022-03-19T22:01:43.226650Z",
     "iopub.status.idle": "2022-03-19T22:01:44.136380Z",
     "shell.execute_reply": "2022-03-19T22:01:44.135817Z",
     "shell.execute_reply.started": "2022-03-02T07:11:25.48271Z"
    },
    "papermill": {
     "duration": 0.929082,
     "end_time": "2022-03-19T22:01:44.136543",
     "exception": false,
     "start_time": "2022-03-19T22:01:43.207461",
     "status": "completed"
    },
    "tags": []
   },
   "outputs": [
    {
     "data": {
      "image/png": "[encoded data removed]",
      "text/plain": [
       "<Figure size 1152x216 with 1 Axes>"
      ]
     },
     "metadata": {
      "needs_background": "light"
     },
     "output_type": "display_data"
    }
   ],
   "source": [
    "# Plot the distribution of the test predictions\n",
    "# compared to the other Monday afternoons\n",
    "plt.figure(figsize=(16,3))\n",
    "plt.hist(train.congestion[((train.time.dt.weekday == 0) &\n",
    "                           (train.time.dt.hour >= 12)).values],\n",
    "         bins=np.linspace(-0.5, 100.5, 102),\n",
    "         density=True, label='Train',\n",
    "         color='#ffd700')\n",
    "plt.hist(sub['congestion'], np.linspace(-0.5, 100.5, 102),\n",
    "         density=True, rwidth=0.5, label='Test predictions',\n",
    "         color='r')\n",
    "plt.xlabel('Congestion')\n",
    "plt.ylabel('Frequency')\n",
    "plt.title('Congestion on Monday afternoons')\n",
    "plt.gca().yaxis.set_major_formatter(PercentFormatter(xmax=1, decimals=1))\n",
    "plt.legend()\n",
    "plt.show()"
   ]
  },
  {
   "cell_type": "code",
   "execution_count": null,
   "id": "73186bb1",
   "metadata": {
    "papermill": {
     "duration": 0.010619,
     "end_time": "2022-03-19T22:01:44.158126",
     "exception": false,
     "start_time": "2022-03-19T22:01:44.147507",
     "status": "completed"
    },
    "tags": []
   },
   "outputs": [],
   "source": []
  }
 ],
 "metadata": {
  "kernelspec": {
   "display_name": "Python 3",
   "language": "python",
   "name": "python3"
  },
  "language_info": {
   "codemirror_mode": {
    "name": "ipython",
    "version": 3
   },
   "file_extension": ".py",
   "mimetype": "text/x-python",
   "name": "python",
   "nbconvert_exporter": "python",
   "pygments_lexer": "ipython3",
   "version": "3.7.12"
  },
  "papermill": {
   "default_parameters": {},
   "duration": 13.289525,
   "end_time": "2022-03-19T22:01:44.778720",
   "environment_variables": {},
   "exception": null,
   "input_path": "__notebook__.ipynb",
   "output_path": "__notebook__.ipynb",
   "parameters": {},
   "start_time": "2022-03-19T22:01:31.489195",
   "version": "2.3.3"
  }
 },
 "nbformat": 4,
 "nbformat_minor": 5
}
