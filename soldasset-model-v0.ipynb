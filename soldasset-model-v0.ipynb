{
 "cells": [
  {
   "cell_type": "code",
   "execution_count": 1,
   "id": "ff4d3823",
   "metadata": {
    "_cell_guid": "b1076dfc-b9ad-4769-8c92-a6c4dae69d19",
    "_uuid": "8f2839f25d086af736a60e9eeb907d3b93b6e0e5",
    "execution": {
     "iopub.execute_input": "2024-01-05T05:50:48.817704Z",
     "iopub.status.busy": "2024-01-05T05:50:48.817425Z",
     "iopub.status.idle": "2024-01-05T05:50:48.832869Z",
     "shell.execute_reply": "2024-01-05T05:50:48.831787Z"
    },
    "papermill": {
     "duration": 0.026256,
     "end_time": "2024-01-05T05:50:48.834785",
     "exception": false,
     "start_time": "2024-01-05T05:50:48.808529",
     "status": "completed"
    },
    "tags": []
   },
   "outputs": [
    {
     "name": "stdout",
     "output_type": "stream",
     "text": [
      "/kaggle/input/catalog-subset/attr_subset.csv\n"
     ]
    }
   ],
   "source": [
    "\n",
    "import os\n",
    "for dirname, _, filenames in os.walk('/kaggle/input'):\n",
    "    for filename in filenames:\n",
    "        print(os.path.join(dirname, filename))\n",
    "\n",
    "# You can write up to 20GB to the current directory (/kaggle/working/) that gets preserved as output when you create a version using \"Save & Run All\" \n",
    "# You can also write temporary files to /kaggle/temp/, but they won't be saved outside of the current session"
   ]
  },
  {
   "cell_type": "code",
   "execution_count": 2,
   "id": "cff92af0",
   "metadata": {
    "execution": {
     "iopub.execute_input": "2024-01-05T05:50:48.850311Z",
     "iopub.status.busy": "2024-01-05T05:50:48.850022Z",
     "iopub.status.idle": "2024-01-05T05:51:19.155324Z",
     "shell.execute_reply": "2024-01-05T05:51:19.154389Z"
    },
    "papermill": {
     "duration": 30.315663,
     "end_time": "2024-01-05T05:51:19.157694",
     "exception": false,
     "start_time": "2024-01-05T05:50:48.842031",
     "status": "completed"
    },
    "tags": []
   },
   "outputs": [
    {
     "name": "stderr",
     "output_type": "stream",
     "text": [
      "/opt/conda/lib/python3.10/site-packages/scipy/__init__.py:146: UserWarning: A NumPy version >=1.16.5 and <1.23.0 is required for this version of SciPy (detected version 1.24.3\n",
      "  warnings.warn(f\"A NumPy version >={np_minversion} and <{np_maxversion}\"\n"
     ]
    },
    {
     "name": "stdout",
     "output_type": "stream",
     "text": [
      "Collecting tf_keras\r\n",
      "  Obtaining dependency information for tf_keras from https://files.pythonhosted.org/packages/19/26/ca8a6cca61f2a44f1e7ee71ebdb9c8dfbc4371f418db811cdca4641f6daa/tf_keras-2.15.0-py3-none-any.whl.metadata\r\n",
      "  Downloading tf_keras-2.15.0-py3-none-any.whl.metadata (1.6 kB)\r\n",
      "Downloading tf_keras-2.15.0-py3-none-any.whl (1.7 MB)\r\n",
      "\u001b[2K   \u001b[90m━━━━━━━━━━━━━━━━━━━━━━━━━━━━━━━━━━━━━━━━\u001b[0m \u001b[32m1.7/1.7 MB\u001b[0m \u001b[31m7.2 MB/s\u001b[0m eta \u001b[36m0:00:00\u001b[0m\r\n",
      "\u001b[?25hInstalling collected packages: tf_keras\r\n",
      "Successfully installed tf_keras-2.15.0\r\n"
     ]
    }
   ],
   "source": [
    "import pandas as pd\n",
    "import numpy as np\n",
    "import warnings\n",
    "\n",
    "\n",
    "import matplotlib.pyplot as plt\n",
    "import io\n",
    "import keras\n",
    "\n",
    "warnings.filterwarnings(\"ignore\")\n",
    "pd.set_option('display.max_columns',100)\n",
    "pd.set_option('display.max_colwidth',200)\n",
    "\n",
    "!pip install tf_keras\n",
    "\n",
    "!wget --quiet  https://raw.githubusercontent.com/tensorflow/models/master/official/nlp/tools/tokenization.py   \n",
    "import numpy as np # linear algebra\n",
    "import pandas as pd # data processing, CSV file I/O (e.g. pd.read_csv)\n",
    "\n",
    "\n",
    "import warnings\n",
    "\n",
    "import tensorflow as tf\n",
    "from tensorflow.keras.layers import Dense, Input\n",
    "from tensorflow.keras.optimizers import Adam\n",
    "from tensorflow.keras.models import Model\n",
    "from tensorflow.keras.callbacks import ModelCheckpoint\n",
    "import tensorflow_hub as hub \n",
    "import tokenization\n",
    "\n",
    "from sklearn.metrics import accuracy_score, roc_curve, auc, classification_report, roc_auc_score, precision_recall_curve,confusion_matrix\n",
    "from sklearn.model_selection import train_test_split"
   ]
  },
  {
   "cell_type": "code",
   "execution_count": 3,
   "id": "b28563a6",
   "metadata": {
    "execution": {
     "iopub.execute_input": "2024-01-05T05:51:19.176125Z",
     "iopub.status.busy": "2024-01-05T05:51:19.175167Z",
     "iopub.status.idle": "2024-01-05T05:51:21.151756Z",
     "shell.execute_reply": "2024-01-05T05:51:21.150824Z"
    },
    "papermill": {
     "duration": 1.987754,
     "end_time": "2024-01-05T05:51:21.153932",
     "exception": false,
     "start_time": "2024-01-05T05:51:19.166178",
     "status": "completed"
    },
    "tags": []
   },
   "outputs": [
    {
     "name": "stdout",
     "output_type": "stream",
     "text": [
      "(506287, 8)\n"
     ]
    },
    {
     "data": {
      "text/html": [
       "<div>\n",
       "<style scoped>\n",
       "    .dataframe tbody tr th:only-of-type {\n",
       "        vertical-align: middle;\n",
       "    }\n",
       "\n",
       "    .dataframe tbody tr th {\n",
       "        vertical-align: top;\n",
       "    }\n",
       "\n",
       "    .dataframe thead th {\n",
       "        text-align: right;\n",
       "    }\n",
       "</style>\n",
       "<table border=\"1\" class=\"dataframe\">\n",
       "  <thead>\n",
       "    <tr style=\"text-align: right;\">\n",
       "      <th></th>\n",
       "      <th>asin</th>\n",
       "      <th>item_name</th>\n",
       "      <th>prep_type</th>\n",
       "      <th>is_set</th>\n",
       "      <th>certified_level</th>\n",
       "      <th>pack_ind</th>\n",
       "      <th>number_items_in_set</th>\n",
       "      <th>set_target</th>\n",
       "    </tr>\n",
       "  </thead>\n",
       "  <tbody>\n",
       "    <tr>\n",
       "      <th>0</th>\n",
       "      <td>B01IBY1PI2</td>\n",
       "      <td>Vertx Mens Tactical Pants Cargo Utility with Pockets, Lightweight Casual Outdoor Work-Wear, Relaxed-Fit, Phantom LT 2.0, Smoke Grey, 31x30</td>\n",
       "      <td>bagging</td>\n",
       "      <td>Y</td>\n",
       "      <td>1.0</td>\n",
       "      <td>0</td>\n",
       "      <td>1.0</td>\n",
       "      <td>0</td>\n",
       "    </tr>\n",
       "    <tr>\n",
       "      <th>1</th>\n",
       "      <td>B07TCTNF96</td>\n",
       "      <td>Reebok Workout Ready Knit Pant, Black, XX-Large</td>\n",
       "      <td>bagging</td>\n",
       "      <td>N</td>\n",
       "      <td>1.0</td>\n",
       "      <td>0</td>\n",
       "      <td>NaN</td>\n",
       "      <td>0</td>\n",
       "    </tr>\n",
       "    <tr>\n",
       "      <th>2</th>\n",
       "      <td>B07Z86K31S</td>\n",
       "      <td>Doctor's Choice Compression Low Calf Crew Socks, Plantar Fasciitis, Achilles Tendonitis &amp; Arch Support for Men &amp; Women, 1 Pair, Tan/Large</td>\n",
       "      <td>bagging</td>\n",
       "      <td>N</td>\n",
       "      <td>1.0</td>\n",
       "      <td>0</td>\n",
       "      <td>NaN</td>\n",
       "      <td>0</td>\n",
       "    </tr>\n",
       "    <tr>\n",
       "      <th>3</th>\n",
       "      <td>B08SBGY2TC</td>\n",
       "      <td>Softball Drawstring Bag for Girls, Eat Sleep Softball Repeat Backpack, Softball Player Gift, Teen Sport Pack Cinch Sack Tote Bag</td>\n",
       "      <td>bagging</td>\n",
       "      <td>N</td>\n",
       "      <td>1.0</td>\n",
       "      <td>1</td>\n",
       "      <td>NaN</td>\n",
       "      <td>0</td>\n",
       "    </tr>\n",
       "    <tr>\n",
       "      <th>4</th>\n",
       "      <td>B08DP4R7WX</td>\n",
       "      <td>BioSteel Sports Drink, Great Tasting Hydration with 5 Essential Electrolytes, Blue Raspberry Flavor, 16.7 Fluid Ounces, 12-Pack</td>\n",
       "      <td>asinstk</td>\n",
       "      <td>N</td>\n",
       "      <td>1.0</td>\n",
       "      <td>1</td>\n",
       "      <td>12.0</td>\n",
       "      <td>0</td>\n",
       "    </tr>\n",
       "  </tbody>\n",
       "</table>\n",
       "</div>"
      ],
      "text/plain": [
       "         asin  \\\n",
       "0  B01IBY1PI2   \n",
       "1  B07TCTNF96   \n",
       "2  B07Z86K31S   \n",
       "3  B08SBGY2TC   \n",
       "4  B08DP4R7WX   \n",
       "\n",
       "                                                                                                                                    item_name  \\\n",
       "0  Vertx Mens Tactical Pants Cargo Utility with Pockets, Lightweight Casual Outdoor Work-Wear, Relaxed-Fit, Phantom LT 2.0, Smoke Grey, 31x30   \n",
       "1                                                                                             Reebok Workout Ready Knit Pant, Black, XX-Large   \n",
       "2   Doctor's Choice Compression Low Calf Crew Socks, Plantar Fasciitis, Achilles Tendonitis & Arch Support for Men & Women, 1 Pair, Tan/Large   \n",
       "3            Softball Drawstring Bag for Girls, Eat Sleep Softball Repeat Backpack, Softball Player Gift, Teen Sport Pack Cinch Sack Tote Bag   \n",
       "4             BioSteel Sports Drink, Great Tasting Hydration with 5 Essential Electrolytes, Blue Raspberry Flavor, 16.7 Fluid Ounces, 12-Pack   \n",
       "\n",
       "  prep_type is_set certified_level  pack_ind  number_items_in_set  set_target  \n",
       "0   bagging      Y             1.0         0                  1.0           0  \n",
       "1   bagging      N             1.0         0                  NaN           0  \n",
       "2   bagging      N             1.0         0                  NaN           0  \n",
       "3   bagging      N             1.0         1                  NaN           0  \n",
       "4   asinstk      N             1.0         1                 12.0           0  "
      ]
     },
     "execution_count": 3,
     "metadata": {},
     "output_type": "execute_result"
    }
   ],
   "source": [
    "data = pd.read_csv('/kaggle/input/catalog-subset/attr_subset.csv')\n",
    "print(data.shape)\n",
    "data.head()"
   ]
  },
  {
   "cell_type": "code",
   "execution_count": 4,
   "id": "83aff6f3",
   "metadata": {
    "execution": {
     "iopub.execute_input": "2024-01-05T05:51:21.171905Z",
     "iopub.status.busy": "2024-01-05T05:51:21.171591Z",
     "iopub.status.idle": "2024-01-05T05:51:21.482010Z",
     "shell.execute_reply": "2024-01-05T05:51:21.480965Z"
    },
    "papermill": {
     "duration": 0.321764,
     "end_time": "2024-01-05T05:51:21.484095",
     "exception": false,
     "start_time": "2024-01-05T05:51:21.162331",
     "status": "completed"
    },
    "tags": []
   },
   "outputs": [
    {
     "data": {
      "text/plain": [
       "asin                        0\n",
       "item_name                   0\n",
       "prep_type                   0\n",
       "is_set                      0\n",
       "certified_level             1\n",
       "pack_ind                    0\n",
       "number_items_in_set    262700\n",
       "set_target                  0\n",
       "dtype: int64"
      ]
     },
     "execution_count": 4,
     "metadata": {},
     "output_type": "execute_result"
    }
   ],
   "source": [
    "data['item_name'] = data['item_name'].fillna('unknown')\n",
    "data.isnull().sum()"
   ]
  },
  {
   "cell_type": "code",
   "execution_count": 5,
   "id": "b48b39e0",
   "metadata": {
    "execution": {
     "iopub.execute_input": "2024-01-05T05:51:21.503037Z",
     "iopub.status.busy": "2024-01-05T05:51:21.502490Z",
     "iopub.status.idle": "2024-01-05T05:51:21.509664Z",
     "shell.execute_reply": "2024-01-05T05:51:21.508738Z"
    },
    "papermill": {
     "duration": 0.018729,
     "end_time": "2024-01-05T05:51:21.511592",
     "exception": false,
     "start_time": "2024-01-05T05:51:21.492863",
     "status": "completed"
    },
    "tags": []
   },
   "outputs": [],
   "source": [
    "def bert_encode(texts, tokenizer, max_len = 160):\n",
    "    all_tokens = []\n",
    "    all_masks = []\n",
    "    all_segments = []\n",
    "    \n",
    "    for text in texts:\n",
    "        text = tokenizer.tokenize(text)\n",
    "        \n",
    "        text = text[:max_len-2]\n",
    "        input_sequence = ['[CLS]'] + text + ['[SEP]']\n",
    "        pad_len = max_len - len(input_sequence)\n",
    "        \n",
    "        tokens = tokenizer.convert_tokens_to_ids(input_sequence)\n",
    "        tokens += [0] * pad_len\n",
    "        pad_masks = [1] * len(input_sequence) + [0] * pad_len\n",
    "        segment_ids = [0] * max_len\n",
    "        \n",
    "        all_tokens.append(tokens)\n",
    "        all_masks.append(pad_masks)\n",
    "        all_segments.append(segment_ids)\n",
    "        \n",
    "    return np.array(all_tokens), np.array(all_masks), np.array(all_segments)"
   ]
  },
  {
   "cell_type": "code",
   "execution_count": 6,
   "id": "c54c9e6b",
   "metadata": {
    "execution": {
     "iopub.execute_input": "2024-01-05T05:51:21.529294Z",
     "iopub.status.busy": "2024-01-05T05:51:21.528991Z",
     "iopub.status.idle": "2024-01-05T05:51:21.535508Z",
     "shell.execute_reply": "2024-01-05T05:51:21.534745Z"
    },
    "papermill": {
     "duration": 0.017487,
     "end_time": "2024-01-05T05:51:21.537409",
     "exception": false,
     "start_time": "2024-01-05T05:51:21.519922",
     "status": "completed"
    },
    "tags": []
   },
   "outputs": [],
   "source": [
    "def build_model(bert_layer, max_len = 160):\n",
    "    \n",
    "    input_word_ids = Input(shape = (max_len,), dtype = tf.int32, name = 'input_word_ids')\n",
    "    input_mask = Input(shape = (max_len, ), dtype = tf.int32, name = 'input_mask')\n",
    "    segments_ids = Input(shape = (max_len,), dtype = tf.int32, name = 'segment_ids')\n",
    "    \n",
    "    _, sequence_output = bert_layer([input_word_ids, input_mask, segments_ids])\n",
    "    clf_output = sequence_output[:, 0, :]\n",
    "    out = Dense(1, activation = 'sigmoid')(clf_output)\n",
    "    \n",
    "    model = Model(inputs = [input_word_ids, input_mask, segments_ids], outputs = out)\n",
    "    model.compile(Adam(lr = 2e-6), loss = 'binary_crossentropy', metrics = ['accuracy'])\n",
    "    \n",
    "    return model"
   ]
  },
  {
   "cell_type": "markdown",
   "id": "51310ebc",
   "metadata": {
    "papermill": {
     "duration": 0.008117,
     "end_time": "2024-01-05T05:51:21.553724",
     "exception": false,
     "start_time": "2024-01-05T05:51:21.545607",
     "status": "completed"
    },
    "tags": []
   },
   "source": [
    "# Load and pre-processing"
   ]
  },
  {
   "cell_type": "code",
   "execution_count": 7,
   "id": "04f2ac2a",
   "metadata": {
    "execution": {
     "iopub.execute_input": "2024-01-05T05:51:21.571523Z",
     "iopub.status.busy": "2024-01-05T05:51:21.571273Z",
     "iopub.status.idle": "2024-01-05T05:51:48.133553Z",
     "shell.execute_reply": "2024-01-05T05:51:48.132522Z"
    },
    "papermill": {
     "duration": 26.573493,
     "end_time": "2024-01-05T05:51:48.135792",
     "exception": false,
     "start_time": "2024-01-05T05:51:21.562299",
     "status": "completed"
    },
    "tags": []
   },
   "outputs": [
    {
     "name": "stdout",
     "output_type": "stream",
     "text": [
      "CPU times: user 21 s, sys: 4.83 s, total: 25.8 s\n",
      "Wall time: 26.6 s\n"
     ]
    }
   ],
   "source": [
    "%%time\n",
    "module_url = \"https://tfhub.dev/tensorflow/bert_en_uncased_L-24_H-1024_A-16/1\"\n",
    "bert_layer = hub.KerasLayer(module_url, trainable=True)"
   ]
  },
  {
   "cell_type": "code",
   "execution_count": 8,
   "id": "9e7418f0",
   "metadata": {
    "execution": {
     "iopub.execute_input": "2024-01-05T05:51:48.155202Z",
     "iopub.status.busy": "2024-01-05T05:51:48.154901Z",
     "iopub.status.idle": "2024-01-05T05:51:48.292127Z",
     "shell.execute_reply": "2024-01-05T05:51:48.291376Z"
    },
    "papermill": {
     "duration": 0.148629,
     "end_time": "2024-01-05T05:51:48.294029",
     "exception": false,
     "start_time": "2024-01-05T05:51:48.145400",
     "status": "completed"
    },
    "tags": []
   },
   "outputs": [],
   "source": [
    "vocab_file = bert_layer.resolved_object.vocab_file.asset_path.numpy()\n",
    "do_lower_case = bert_layer.resolved_object.do_lower_case.numpy()\n",
    "tokenizer = tokenization.FullTokenizer(vocab_file, do_lower_case)"
   ]
  },
  {
   "cell_type": "markdown",
   "id": "ea8ebcf6",
   "metadata": {
    "papermill": {
     "duration": 0.008423,
     "end_time": "2024-01-05T05:51:48.311594",
     "exception": false,
     "start_time": "2024-01-05T05:51:48.303171",
     "status": "completed"
    },
    "tags": []
   },
   "source": [
    "# Train/test split"
   ]
  },
  {
   "cell_type": "code",
   "execution_count": 9,
   "id": "c4c1651c",
   "metadata": {
    "execution": {
     "iopub.execute_input": "2024-01-05T05:51:48.330444Z",
     "iopub.status.busy": "2024-01-05T05:51:48.329940Z",
     "iopub.status.idle": "2024-01-05T05:51:48.346474Z",
     "shell.execute_reply": "2024-01-05T05:51:48.345670Z"
    },
    "papermill": {
     "duration": 0.028177,
     "end_time": "2024-01-05T05:51:48.348419",
     "exception": false,
     "start_time": "2024-01-05T05:51:48.320242",
     "status": "completed"
    },
    "tags": []
   },
   "outputs": [
    {
     "data": {
      "text/plain": [
       "set_target\n",
       "0    487817\n",
       "1     18470\n",
       "Name: count, dtype: int64"
      ]
     },
     "execution_count": 9,
     "metadata": {},
     "output_type": "execute_result"
    }
   ],
   "source": [
    "data.set_target.value_counts()"
   ]
  },
  {
   "cell_type": "markdown",
   "id": "9d7e49e3",
   "metadata": {
    "papermill": {
     "duration": 0.008342,
     "end_time": "2024-01-05T05:51:48.365304",
     "exception": false,
     "start_time": "2024-01-05T05:51:48.356962",
     "status": "completed"
    },
    "tags": []
   },
   "source": [
    "# Downsample"
   ]
  },
  {
   "cell_type": "code",
   "execution_count": 10,
   "id": "d1163968",
   "metadata": {
    "execution": {
     "iopub.execute_input": "2024-01-05T05:51:48.383565Z",
     "iopub.status.busy": "2024-01-05T05:51:48.383310Z",
     "iopub.status.idle": "2024-01-05T05:51:48.459281Z",
     "shell.execute_reply": "2024-01-05T05:51:48.457950Z"
    },
    "papermill": {
     "duration": 0.087689,
     "end_time": "2024-01-05T05:51:48.461613",
     "exception": false,
     "start_time": "2024-01-05T05:51:48.373924",
     "status": "completed"
    },
    "tags": []
   },
   "outputs": [
    {
     "name": "stdout",
     "output_type": "stream",
     "text": [
      "(18470, 8)\n",
      "(487817, 8)\n"
     ]
    }
   ],
   "source": [
    "set_dt = data[data[\"set_target\"] == 1]\n",
    "nonset_dt  = data[data[\"set_target\"] == 0]\n",
    "print(set_dt.shape)\n",
    "print(nonset_dt.shape)"
   ]
  },
  {
   "cell_type": "code",
   "execution_count": 11,
   "id": "4447e30f",
   "metadata": {
    "execution": {
     "iopub.execute_input": "2024-01-05T05:51:48.486437Z",
     "iopub.status.busy": "2024-01-05T05:51:48.485981Z",
     "iopub.status.idle": "2024-01-05T05:51:48.505676Z",
     "shell.execute_reply": "2024-01-05T05:51:48.504516Z"
    },
    "papermill": {
     "duration": 0.034995,
     "end_time": "2024-01-05T05:51:48.507843",
     "exception": false,
     "start_time": "2024-01-05T05:51:48.472848",
     "status": "completed"
    },
    "tags": []
   },
   "outputs": [
    {
     "name": "stdout",
     "output_type": "stream",
     "text": [
      "(18470, 8)\n"
     ]
    }
   ],
   "source": [
    "from sklearn.utils import resample\n",
    "nonset_ds = resample(nonset_dt,\n",
    "             replace=True,\n",
    "             n_samples=len(set_dt),\n",
    "             random_state=42)\n",
    "\n",
    "print(nonset_ds.shape)"
   ]
  },
  {
   "cell_type": "code",
   "execution_count": 12,
   "id": "6c55c68a",
   "metadata": {
    "execution": {
     "iopub.execute_input": "2024-01-05T05:51:48.530572Z",
     "iopub.status.busy": "2024-01-05T05:51:48.529927Z",
     "iopub.status.idle": "2024-01-05T05:51:48.549298Z",
     "shell.execute_reply": "2024-01-05T05:51:48.548345Z"
    },
    "papermill": {
     "duration": 0.033622,
     "end_time": "2024-01-05T05:51:48.552016",
     "exception": false,
     "start_time": "2024-01-05T05:51:48.518394",
     "status": "completed"
    },
    "tags": []
   },
   "outputs": [
    {
     "name": "stdout",
     "output_type": "stream",
     "text": [
      "(36940, 8)\n"
     ]
    },
    {
     "data": {
      "text/plain": [
       "set_target\n",
       "1    18470\n",
       "0    18470\n",
       "Name: count, dtype: int64"
      ]
     },
     "execution_count": 12,
     "metadata": {},
     "output_type": "execute_result"
    }
   ],
   "source": [
    "data_sub = pd.concat([set_dt, nonset_ds])\n",
    "print(data_sub.shape)\n",
    "data_sub.set_target.value_counts()"
   ]
  },
  {
   "cell_type": "code",
   "execution_count": 13,
   "id": "84311faf",
   "metadata": {
    "execution": {
     "iopub.execute_input": "2024-01-05T05:51:48.574703Z",
     "iopub.status.busy": "2024-01-05T05:51:48.574422Z",
     "iopub.status.idle": "2024-01-05T05:51:48.597504Z",
     "shell.execute_reply": "2024-01-05T05:51:48.596363Z"
    },
    "papermill": {
     "duration": 0.036755,
     "end_time": "2024-01-05T05:51:48.599627",
     "exception": false,
     "start_time": "2024-01-05T05:51:48.562872",
     "status": "completed"
    },
    "tags": []
   },
   "outputs": [
    {
     "data": {
      "text/plain": [
       "set_target\n",
       "0    1009\n",
       "1     991\n",
       "Name: count, dtype: int64"
      ]
     },
     "execution_count": 13,
     "metadata": {},
     "output_type": "execute_result"
    }
   ],
   "source": [
    "data_smp = data_sub.sample(2000, random_state = 42)\n",
    "data_smp.set_target.value_counts()"
   ]
  },
  {
   "cell_type": "code",
   "execution_count": 14,
   "id": "a13b87a5",
   "metadata": {
    "execution": {
     "iopub.execute_input": "2024-01-05T05:51:48.620875Z",
     "iopub.status.busy": "2024-01-05T05:51:48.619998Z",
     "iopub.status.idle": "2024-01-05T05:51:48.632000Z",
     "shell.execute_reply": "2024-01-05T05:51:48.631028Z"
    },
    "papermill": {
     "duration": 0.024609,
     "end_time": "2024-01-05T05:51:48.634190",
     "exception": false,
     "start_time": "2024-01-05T05:51:48.609581",
     "status": "completed"
    },
    "tags": []
   },
   "outputs": [
    {
     "name": "stdout",
     "output_type": "stream",
     "text": [
      "X_train shape: (1600,)\n",
      "X_test shape: (400,)\n",
      "y_train shape: (1600,)\n",
      "y_test shape: (400,)\n"
     ]
    }
   ],
   "source": [
    "X = data_smp.item_name\n",
    "y = data_smp.set_target\n",
    "\n",
    "X_train, X_test, y_train, y_test = train_test_split(X, y, test_size = 0.2, random_state = 2023)\n",
    "\n",
    "print('X_train shape:', X_train.shape)\n",
    "print('X_test shape:', X_test.shape)\n",
    "print('y_train shape:',y_train.shape)\n",
    "print('y_test shape:',y_test.shape)"
   ]
  },
  {
   "cell_type": "code",
   "execution_count": 15,
   "id": "fc168a2f",
   "metadata": {
    "execution": {
     "iopub.execute_input": "2024-01-05T05:51:48.658958Z",
     "iopub.status.busy": "2024-01-05T05:51:48.658657Z",
     "iopub.status.idle": "2024-01-05T05:51:49.893394Z",
     "shell.execute_reply": "2024-01-05T05:51:49.892369Z"
    },
    "papermill": {
     "duration": 1.251379,
     "end_time": "2024-01-05T05:51:49.896636",
     "exception": false,
     "start_time": "2024-01-05T05:51:48.645257",
     "status": "completed"
    },
    "tags": []
   },
   "outputs": [
    {
     "name": "stdout",
     "output_type": "stream",
     "text": [
      "CPU times: user 1.23 s, sys: 0 ns, total: 1.23 s\n",
      "Wall time: 1.23 s\n"
     ]
    }
   ],
   "source": [
    "%%time\n",
    "\n",
    "train_input = bert_encode(X_train.values, tokenizer, max_len = 160)\n",
    "test_input = bert_encode(X_test.values, tokenizer, max_len = 160)\n",
    "train_labels = y_train.values"
   ]
  },
  {
   "cell_type": "markdown",
   "id": "d865ceeb",
   "metadata": {
    "papermill": {
     "duration": 0.012043,
     "end_time": "2024-01-05T05:51:49.926374",
     "exception": false,
     "start_time": "2024-01-05T05:51:49.914331",
     "status": "completed"
    },
    "tags": []
   },
   "source": [
    "# Modeling"
   ]
  },
  {
   "cell_type": "code",
   "execution_count": 16,
   "id": "5211038a",
   "metadata": {
    "execution": {
     "iopub.execute_input": "2024-01-05T05:51:49.946806Z",
     "iopub.status.busy": "2024-01-05T05:51:49.946430Z",
     "iopub.status.idle": "2024-01-05T05:51:51.682638Z",
     "shell.execute_reply": "2024-01-05T05:51:51.681740Z"
    },
    "papermill": {
     "duration": 1.748673,
     "end_time": "2024-01-05T05:51:51.684630",
     "exception": false,
     "start_time": "2024-01-05T05:51:49.935957",
     "status": "completed"
    },
    "tags": []
   },
   "outputs": [
    {
     "name": "stdout",
     "output_type": "stream",
     "text": [
      "Model: \"model\"\n",
      "__________________________________________________________________________________________________\n",
      " Layer (type)                Output Shape                 Param #   Connected to                  \n",
      "==================================================================================================\n",
      " input_word_ids (InputLayer  [(None, 160)]                0         []                            \n",
      " )                                                                                                \n",
      "                                                                                                  \n",
      " input_mask (InputLayer)     [(None, 160)]                0         []                            \n",
      "                                                                                                  \n",
      " segment_ids (InputLayer)    [(None, 160)]                0         []                            \n",
      "                                                                                                  \n",
      " keras_layer (KerasLayer)    [(None, 1024),               3351418   ['input_word_ids[0][0]',      \n",
      "                              (None, 160, 1024)]          89         'input_mask[0][0]',          \n",
      "                                                                     'segment_ids[0][0]']         \n",
      "                                                                                                  \n",
      " tf.__operators__.getitem (  (None, 1024)                 0         ['keras_layer[0][1]']         \n",
      " SlicingOpLambda)                                                                                 \n",
      "                                                                                                  \n",
      " dense (Dense)               (None, 1)                    1025      ['tf.__operators__.getitem[0][\n",
      "                                                                    0]']                          \n",
      "                                                                                                  \n",
      "==================================================================================================\n",
      "Total params: 335142914 (1.25 GB)\n",
      "Trainable params: 335142913 (1.25 GB)\n",
      "Non-trainable params: 1 (1.00 Byte)\n",
      "__________________________________________________________________________________________________\n"
     ]
    }
   ],
   "source": [
    "model = build_model(bert_layer, max_len = 160)\n",
    "model.summary()"
   ]
  },
  {
   "cell_type": "code",
   "execution_count": 17,
   "id": "4dbea01f",
   "metadata": {
    "execution": {
     "iopub.execute_input": "2024-01-05T05:51:51.708671Z",
     "iopub.status.busy": "2024-01-05T05:51:51.708397Z",
     "iopub.status.idle": "2024-01-05T06:14:56.747991Z",
     "shell.execute_reply": "2024-01-05T06:14:56.747044Z"
    },
    "papermill": {
     "duration": 1385.054221,
     "end_time": "2024-01-05T06:14:56.750459",
     "exception": false,
     "start_time": "2024-01-05T05:51:51.696238",
     "status": "completed"
    },
    "tags": []
   },
   "outputs": [
    {
     "name": "stdout",
     "output_type": "stream",
     "text": [
      "Epoch 1/10\n",
      "80/80 [==============================] - 218s 2s/step - loss: 0.9733 - accuracy: 0.4688 - val_loss: 0.7591 - val_accuracy: 0.5063\n",
      "Epoch 2/10\n",
      "80/80 [==============================] - 129s 2s/step - loss: 0.7345 - accuracy: 0.4930 - val_loss: 0.6941 - val_accuracy: 0.5063\n",
      "Epoch 3/10\n",
      "80/80 [==============================] - 129s 2s/step - loss: 0.7079 - accuracy: 0.4930 - val_loss: 0.7132 - val_accuracy: 0.4938\n",
      "Epoch 4/10\n",
      "80/80 [==============================] - 129s 2s/step - loss: 0.6980 - accuracy: 0.5289 - val_loss: 0.6950 - val_accuracy: 0.4938\n",
      "Epoch 5/10\n",
      "80/80 [==============================] - 129s 2s/step - loss: 0.7135 - accuracy: 0.4883 - val_loss: 0.7480 - val_accuracy: 0.5063\n",
      "Epoch 6/10\n",
      "80/80 [==============================] - 129s 2s/step - loss: 0.7222 - accuracy: 0.4961 - val_loss: 0.7000 - val_accuracy: 0.5063\n",
      "Epoch 7/10\n",
      "80/80 [==============================] - 129s 2s/step - loss: 0.7191 - accuracy: 0.5008 - val_loss: 0.7127 - val_accuracy: 0.5063\n",
      "Epoch 8/10\n",
      "80/80 [==============================] - 129s 2s/step - loss: 0.7009 - accuracy: 0.4711 - val_loss: 0.6965 - val_accuracy: 0.4938\n",
      "Epoch 9/10\n",
      "80/80 [==============================] - 129s 2s/step - loss: 0.7005 - accuracy: 0.4945 - val_loss: 0.7161 - val_accuracy: 0.5063\n",
      "Epoch 10/10\n",
      "80/80 [==============================] - 129s 2s/step - loss: 0.7042 - accuracy: 0.5008 - val_loss: 0.6953 - val_accuracy: 0.4938\n",
      "CPU times: user 16min 14s, sys: 6min 55s, total: 23min 10s\n",
      "Wall time: 23min 5s\n"
     ]
    }
   ],
   "source": [
    "%%time\n",
    "\n",
    "train_history = model.fit(train_input, train_labels, validation_split = 0.2, epochs = 10, batch_size = 16)\n",
    "model.save('model.h5')"
   ]
  },
  {
   "cell_type": "code",
   "execution_count": 18,
   "id": "fc9cfe2e",
   "metadata": {
    "execution": {
     "iopub.execute_input": "2024-01-05T06:14:56.944086Z",
     "iopub.status.busy": "2024-01-05T06:14:56.943605Z",
     "iopub.status.idle": "2024-01-05T06:15:54.658789Z",
     "shell.execute_reply": "2024-01-05T06:15:54.657857Z"
    },
    "papermill": {
     "duration": 57.809549,
     "end_time": "2024-01-05T06:15:54.661131",
     "exception": false,
     "start_time": "2024-01-05T06:14:56.851582",
     "status": "completed"
    },
    "tags": []
   },
   "outputs": [
    {
     "name": "stdout",
     "output_type": "stream",
     "text": [
      "50/50 [==============================] - 57s 1s/step\n",
      "CPU times: user 50.1 s, sys: 7.25 s, total: 57.3 s\n",
      "Wall time: 57.7 s\n"
     ]
    }
   ],
   "source": [
    "%%time\n",
    "train_pred = model.predict(train_input)"
   ]
  },
  {
   "cell_type": "code",
   "execution_count": 19,
   "id": "9c50876c",
   "metadata": {
    "execution": {
     "iopub.execute_input": "2024-01-05T06:15:54.825345Z",
     "iopub.status.busy": "2024-01-05T06:15:54.824520Z",
     "iopub.status.idle": "2024-01-05T06:15:54.842547Z",
     "shell.execute_reply": "2024-01-05T06:15:54.841647Z"
    },
    "papermill": {
     "duration": 0.100828,
     "end_time": "2024-01-05T06:15:54.844666",
     "exception": false,
     "start_time": "2024-01-05T06:15:54.743838",
     "status": "completed"
    },
    "tags": []
   },
   "outputs": [
    {
     "name": "stdout",
     "output_type": "stream",
     "text": [
      "train roc: 0.5020414349576791\n"
     ]
    }
   ],
   "source": [
    "auc_train = roc_auc_score(y_train, train_pred)\n",
    "print('train roc:', auc_train )"
   ]
  },
  {
   "cell_type": "code",
   "execution_count": 20,
   "id": "40886cdb",
   "metadata": {
    "execution": {
     "iopub.execute_input": "2024-01-05T06:15:55.009627Z",
     "iopub.status.busy": "2024-01-05T06:15:55.008799Z",
     "iopub.status.idle": "2024-01-05T06:15:55.032874Z",
     "shell.execute_reply": "2024-01-05T06:15:55.031833Z"
    },
    "papermill": {
     "duration": 0.109599,
     "end_time": "2024-01-05T06:15:55.034902",
     "exception": false,
     "start_time": "2024-01-05T06:15:54.925303",
     "status": "completed"
    },
    "tags": []
   },
   "outputs": [
    {
     "name": "stdout",
     "output_type": "stream",
     "text": [
      "accuracy score: \n",
      " 0.498125 \n",
      "\n",
      "classification report \n",
      "               precision    recall  f1-score   support\n",
      "\n",
      "           0       0.00      0.00      0.00       803\n",
      "           1       0.50      1.00      0.66       797\n",
      "\n",
      "    accuracy                           0.50      1600\n",
      "   macro avg       0.25      0.50      0.33      1600\n",
      "weighted avg       0.25      0.50      0.33      1600\n",
      " \n",
      "\n",
      "confusion matrix \n",
      " [[  0 803]\n",
      " [  0 797]] \n",
      "\n"
     ]
    }
   ],
   "source": [
    "print('accuracy score: \\n', accuracy_score(y_train, np.round(train_pred)), '\\n')\n",
    "\n",
    "print('classification report \\n', classification_report(y_train, np.round(train_pred)), '\\n')\n",
    "\n",
    "print('confusion matrix \\n', confusion_matrix(y_train, np.round(train_pred)), '\\n')"
   ]
  },
  {
   "cell_type": "code",
   "execution_count": 21,
   "id": "68f1ed09",
   "metadata": {
    "execution": {
     "iopub.execute_input": "2024-01-05T06:15:55.199603Z",
     "iopub.status.busy": "2024-01-05T06:15:55.199015Z",
     "iopub.status.idle": "2024-01-05T06:16:11.288830Z",
     "shell.execute_reply": "2024-01-05T06:16:11.287650Z"
    },
    "papermill": {
     "duration": 16.173433,
     "end_time": "2024-01-05T06:16:11.291045",
     "exception": false,
     "start_time": "2024-01-05T06:15:55.117612",
     "status": "completed"
    },
    "tags": []
   },
   "outputs": [
    {
     "name": "stdout",
     "output_type": "stream",
     "text": [
      "13/13 [==============================] - 16s 1s/step\n",
      "CPU times: user 14 s, sys: 1.77 s, total: 15.8 s\n",
      "Wall time: 16.1 s\n"
     ]
    }
   ],
   "source": [
    "%%time\n",
    "test_pred = model.predict(test_input)"
   ]
  },
  {
   "cell_type": "code",
   "execution_count": 22,
   "id": "2fc428a4",
   "metadata": {
    "execution": {
     "iopub.execute_input": "2024-01-05T06:16:11.457310Z",
     "iopub.status.busy": "2024-01-05T06:16:11.456819Z",
     "iopub.status.idle": "2024-01-05T06:16:11.471469Z",
     "shell.execute_reply": "2024-01-05T06:16:11.470562Z"
    },
    "papermill": {
     "duration": 0.100225,
     "end_time": "2024-01-05T06:16:11.473438",
     "exception": false,
     "start_time": "2024-01-05T06:16:11.373213",
     "status": "completed"
    },
    "tags": []
   },
   "outputs": [
    {
     "data": {
      "text/plain": [
       "array([[0.52702355],\n",
       "       [0.52702355],\n",
       "       [0.52702355],\n",
       "       [0.5270237 ],\n",
       "       [0.52702355],\n",
       "       [0.52702355],\n",
       "       [0.52702355],\n",
       "       [0.52702355],\n",
       "       [0.52702355],\n",
       "       [0.52702355],\n",
       "       [0.52702355],\n",
       "       [0.52702355],\n",
       "       [0.52702355],\n",
       "       [0.52702355],\n",
       "       [0.52702355],\n",
       "       [0.52702355],\n",
       "       [0.52702355],\n",
       "       [0.52702355],\n",
       "       [0.52702355],\n",
       "       [0.52702355],\n",
       "       [0.52702355],\n",
       "       [0.52702355],\n",
       "       [0.52702355],\n",
       "       [0.52702355],\n",
       "       [0.52702355],\n",
       "       [0.52702355],\n",
       "       [0.52702355],\n",
       "       [0.52702355],\n",
       "       [0.52702355],\n",
       "       [0.52702355],\n",
       "       [0.52702355],\n",
       "       [0.52702355],\n",
       "       [0.52702355],\n",
       "       [0.52702355],\n",
       "       [0.5270237 ],\n",
       "       [0.52702355],\n",
       "       [0.5270237 ],\n",
       "       [0.52702355],\n",
       "       [0.52702355],\n",
       "       [0.52702355],\n",
       "       [0.52702355],\n",
       "       [0.52702355],\n",
       "       [0.52702355],\n",
       "       [0.52702355],\n",
       "       [0.52702355],\n",
       "       [0.52702355],\n",
       "       [0.52702355],\n",
       "       [0.52702355],\n",
       "       [0.52702355],\n",
       "       [0.52702355],\n",
       "       [0.5270235 ],\n",
       "       [0.52702355],\n",
       "       [0.52702355],\n",
       "       [0.5270235 ],\n",
       "       [0.52702355],\n",
       "       [0.52702355],\n",
       "       [0.52702355],\n",
       "       [0.52702355],\n",
       "       [0.52702355],\n",
       "       [0.52702355],\n",
       "       [0.52702355],\n",
       "       [0.52702355],\n",
       "       [0.52702355],\n",
       "       [0.52702355],\n",
       "       [0.52702355],\n",
       "       [0.5270235 ],\n",
       "       [0.52702355],\n",
       "       [0.52702355],\n",
       "       [0.52702355],\n",
       "       [0.52702355],\n",
       "       [0.52702355],\n",
       "       [0.52702355],\n",
       "       [0.52702355],\n",
       "       [0.52702355],\n",
       "       [0.52702355],\n",
       "       [0.52702355],\n",
       "       [0.52702355],\n",
       "       [0.52702355],\n",
       "       [0.52702355],\n",
       "       [0.52702355],\n",
       "       [0.52702355],\n",
       "       [0.52702355],\n",
       "       [0.52702355],\n",
       "       [0.52702355],\n",
       "       [0.52702355],\n",
       "       [0.52702355],\n",
       "       [0.52702355],\n",
       "       [0.52702355],\n",
       "       [0.5270237 ],\n",
       "       [0.52702355],\n",
       "       [0.52702355],\n",
       "       [0.52702355],\n",
       "       [0.52702355],\n",
       "       [0.52702355],\n",
       "       [0.52702355],\n",
       "       [0.52702355],\n",
       "       [0.52702355],\n",
       "       [0.52702355],\n",
       "       [0.52702355],\n",
       "       [0.52702355],\n",
       "       [0.52702355],\n",
       "       [0.52702355],\n",
       "       [0.52702355],\n",
       "       [0.52702355],\n",
       "       [0.52702355],\n",
       "       [0.52702355],\n",
       "       [0.52702355],\n",
       "       [0.52702355],\n",
       "       [0.5270237 ],\n",
       "       [0.52702355],\n",
       "       [0.52702355],\n",
       "       [0.52702355],\n",
       "       [0.52702355],\n",
       "       [0.52702355],\n",
       "       [0.52702355],\n",
       "       [0.52702355],\n",
       "       [0.5270237 ],\n",
       "       [0.52702355],\n",
       "       [0.52702355],\n",
       "       [0.52702355],\n",
       "       [0.52702355],\n",
       "       [0.52702355],\n",
       "       [0.52702355],\n",
       "       [0.52702355],\n",
       "       [0.52702355],\n",
       "       [0.5270237 ],\n",
       "       [0.52702355],\n",
       "       [0.52702355],\n",
       "       [0.52702355],\n",
       "       [0.52702355],\n",
       "       [0.52702355],\n",
       "       [0.52702355],\n",
       "       [0.52702355],\n",
       "       [0.52702355],\n",
       "       [0.52702355],\n",
       "       [0.52702355],\n",
       "       [0.52702355],\n",
       "       [0.52702355],\n",
       "       [0.52702355],\n",
       "       [0.52702355],\n",
       "       [0.52702355],\n",
       "       [0.52702355],\n",
       "       [0.52702355],\n",
       "       [0.52702355],\n",
       "       [0.52702355],\n",
       "       [0.52702355],\n",
       "       [0.52702355],\n",
       "       [0.52702355],\n",
       "       [0.52702355],\n",
       "       [0.52702355],\n",
       "       [0.52702355],\n",
       "       [0.5270235 ],\n",
       "       [0.52702355],\n",
       "       [0.5270237 ],\n",
       "       [0.52702355],\n",
       "       [0.52702355],\n",
       "       [0.52702355],\n",
       "       [0.5270237 ],\n",
       "       [0.52702355],\n",
       "       [0.52702355],\n",
       "       [0.52702355],\n",
       "       [0.5270237 ],\n",
       "       [0.52702355],\n",
       "       [0.52702355],\n",
       "       [0.52702355],\n",
       "       [0.52702355],\n",
       "       [0.52702355],\n",
       "       [0.52702355],\n",
       "       [0.5270237 ],\n",
       "       [0.52702355],\n",
       "       [0.52702355],\n",
       "       [0.52702355],\n",
       "       [0.52702355],\n",
       "       [0.52702355],\n",
       "       [0.52702355],\n",
       "       [0.52702355],\n",
       "       [0.52702355],\n",
       "       [0.52702355],\n",
       "       [0.5270237 ],\n",
       "       [0.52702355],\n",
       "       [0.52702355],\n",
       "       [0.52702355],\n",
       "       [0.5270237 ],\n",
       "       [0.52702355],\n",
       "       [0.52702355],\n",
       "       [0.52702355],\n",
       "       [0.52702355],\n",
       "       [0.52702355],\n",
       "       [0.52702355],\n",
       "       [0.52702355],\n",
       "       [0.52702355],\n",
       "       [0.52702355],\n",
       "       [0.52702355],\n",
       "       [0.5270237 ],\n",
       "       [0.52702355],\n",
       "       [0.52702355],\n",
       "       [0.52702355],\n",
       "       [0.52702355],\n",
       "       [0.52702355],\n",
       "       [0.52702355],\n",
       "       [0.52702355],\n",
       "       [0.52702355],\n",
       "       [0.52702355],\n",
       "       [0.52702355],\n",
       "       [0.52702355],\n",
       "       [0.52702355],\n",
       "       [0.52702355],\n",
       "       [0.52702355],\n",
       "       [0.52702355],\n",
       "       [0.52702355],\n",
       "       [0.52702355],\n",
       "       [0.52702355],\n",
       "       [0.5270237 ],\n",
       "       [0.52702355],\n",
       "       [0.52702355],\n",
       "       [0.52702355],\n",
       "       [0.52702355],\n",
       "       [0.52702355],\n",
       "       [0.52702355],\n",
       "       [0.52702355],\n",
       "       [0.52702355],\n",
       "       [0.52702355],\n",
       "       [0.52702355],\n",
       "       [0.52702355],\n",
       "       [0.52702355],\n",
       "       [0.52702355],\n",
       "       [0.52702355],\n",
       "       [0.52702355],\n",
       "       [0.52702355],\n",
       "       [0.52702355],\n",
       "       [0.52702355],\n",
       "       [0.52702355],\n",
       "       [0.52702355],\n",
       "       [0.52702355],\n",
       "       [0.52702355],\n",
       "       [0.52702355],\n",
       "       [0.52702355],\n",
       "       [0.52702355],\n",
       "       [0.52702355],\n",
       "       [0.52702355],\n",
       "       [0.52702355],\n",
       "       [0.52702355],\n",
       "       [0.52702355],\n",
       "       [0.52702355],\n",
       "       [0.5270235 ],\n",
       "       [0.52702355],\n",
       "       [0.52702355],\n",
       "       [0.52702355],\n",
       "       [0.52702355],\n",
       "       [0.52702355],\n",
       "       [0.52702355],\n",
       "       [0.52702355],\n",
       "       [0.52702355],\n",
       "       [0.52702355],\n",
       "       [0.52702355],\n",
       "       [0.52702355],\n",
       "       [0.52702355],\n",
       "       [0.52702355],\n",
       "       [0.52702355],\n",
       "       [0.52702355],\n",
       "       [0.52702355],\n",
       "       [0.52702355],\n",
       "       [0.52702355],\n",
       "       [0.52702355],\n",
       "       [0.52702355],\n",
       "       [0.5270237 ],\n",
       "       [0.52702355],\n",
       "       [0.5270237 ],\n",
       "       [0.52702355],\n",
       "       [0.52702355],\n",
       "       [0.52702355],\n",
       "       [0.5270237 ],\n",
       "       [0.52702355],\n",
       "       [0.52702355],\n",
       "       [0.52702355],\n",
       "       [0.52702355],\n",
       "       [0.52702355],\n",
       "       [0.5270235 ],\n",
       "       [0.52702355],\n",
       "       [0.5270235 ],\n",
       "       [0.52702355],\n",
       "       [0.52702355],\n",
       "       [0.52702355],\n",
       "       [0.52702355],\n",
       "       [0.52702355],\n",
       "       [0.52702355],\n",
       "       [0.52702355],\n",
       "       [0.52702355],\n",
       "       [0.52702355],\n",
       "       [0.52702355],\n",
       "       [0.52702355],\n",
       "       [0.52702355],\n",
       "       [0.52702355],\n",
       "       [0.52702355],\n",
       "       [0.52702355],\n",
       "       [0.52702355],\n",
       "       [0.52702355],\n",
       "       [0.52702355],\n",
       "       [0.52702355],\n",
       "       [0.52702355],\n",
       "       [0.52702355],\n",
       "       [0.52702355],\n",
       "       [0.52702355],\n",
       "       [0.52702355],\n",
       "       [0.52702355],\n",
       "       [0.52702355],\n",
       "       [0.52702355],\n",
       "       [0.52702355],\n",
       "       [0.52702355],\n",
       "       [0.52702355],\n",
       "       [0.52702355],\n",
       "       [0.52702355],\n",
       "       [0.52702355],\n",
       "       [0.5270235 ],\n",
       "       [0.52702355],\n",
       "       [0.52702355],\n",
       "       [0.52702355],\n",
       "       [0.52702355],\n",
       "       [0.52702355],\n",
       "       [0.52702355],\n",
       "       [0.52702355],\n",
       "       [0.52702355],\n",
       "       [0.52702355],\n",
       "       [0.5270237 ],\n",
       "       [0.52702355],\n",
       "       [0.52702355],\n",
       "       [0.52702355],\n",
       "       [0.52702355],\n",
       "       [0.52702355],\n",
       "       [0.52702355],\n",
       "       [0.52702355],\n",
       "       [0.52702355],\n",
       "       [0.52702355],\n",
       "       [0.52702355],\n",
       "       [0.52702355],\n",
       "       [0.52702355],\n",
       "       [0.52702355],\n",
       "       [0.52702355],\n",
       "       [0.52702355],\n",
       "       [0.52702355],\n",
       "       [0.5270237 ],\n",
       "       [0.52702355],\n",
       "       [0.52702355],\n",
       "       [0.52702355],\n",
       "       [0.52702355],\n",
       "       [0.52702355],\n",
       "       [0.52702355],\n",
       "       [0.52702355],\n",
       "       [0.52702355],\n",
       "       [0.52702355],\n",
       "       [0.52702355],\n",
       "       [0.52702355],\n",
       "       [0.52702355],\n",
       "       [0.52702355],\n",
       "       [0.52702355],\n",
       "       [0.52702355],\n",
       "       [0.52702355],\n",
       "       [0.52702355],\n",
       "       [0.52702355],\n",
       "       [0.52702355],\n",
       "       [0.52702355],\n",
       "       [0.52702355],\n",
       "       [0.52702355],\n",
       "       [0.52702355],\n",
       "       [0.52702355],\n",
       "       [0.52702355],\n",
       "       [0.52702355],\n",
       "       [0.52702355],\n",
       "       [0.52702355],\n",
       "       [0.52702355],\n",
       "       [0.52702355],\n",
       "       [0.52702355],\n",
       "       [0.52702355],\n",
       "       [0.5270237 ],\n",
       "       [0.52702355],\n",
       "       [0.52702355],\n",
       "       [0.52702355],\n",
       "       [0.52702355],\n",
       "       [0.52702355],\n",
       "       [0.5270235 ],\n",
       "       [0.52702355],\n",
       "       [0.52702355],\n",
       "       [0.52702355],\n",
       "       [0.52702355],\n",
       "       [0.5270234 ],\n",
       "       [0.5270234 ],\n",
       "       [0.5270234 ],\n",
       "       [0.5270234 ],\n",
       "       [0.5270234 ],\n",
       "       [0.5270234 ],\n",
       "       [0.5270233 ],\n",
       "       [0.5270234 ],\n",
       "       [0.5270233 ],\n",
       "       [0.5270234 ],\n",
       "       [0.5270234 ],\n",
       "       [0.5270233 ],\n",
       "       [0.5270233 ],\n",
       "       [0.5270234 ],\n",
       "       [0.5270234 ],\n",
       "       [0.5270233 ]], dtype=float32)"
      ]
     },
     "execution_count": 22,
     "metadata": {},
     "output_type": "execute_result"
    }
   ],
   "source": [
    "test_pred"
   ]
  },
  {
   "cell_type": "code",
   "execution_count": 23,
   "id": "e8781c16",
   "metadata": {
    "execution": {
     "iopub.execute_input": "2024-01-05T06:16:11.641775Z",
     "iopub.status.busy": "2024-01-05T06:16:11.641408Z",
     "iopub.status.idle": "2024-01-05T06:16:11.650818Z",
     "shell.execute_reply": "2024-01-05T06:16:11.649613Z"
    },
    "papermill": {
     "duration": 0.095336,
     "end_time": "2024-01-05T06:16:11.652887",
     "exception": false,
     "start_time": "2024-01-05T06:16:11.557551",
     "status": "completed"
    },
    "tags": []
   },
   "outputs": [
    {
     "name": "stdout",
     "output_type": "stream",
     "text": [
      "test roc: 0.5057676909218296\n"
     ]
    }
   ],
   "source": [
    "auc = roc_auc_score(y_test, test_pred)\n",
    "print('test roc:', auc)"
   ]
  },
  {
   "cell_type": "code",
   "execution_count": 24,
   "id": "418f72ad",
   "metadata": {
    "execution": {
     "iopub.execute_input": "2024-01-05T06:16:11.819496Z",
     "iopub.status.busy": "2024-01-05T06:16:11.819123Z",
     "iopub.status.idle": "2024-01-05T06:16:11.839113Z",
     "shell.execute_reply": "2024-01-05T06:16:11.837865Z"
    },
    "papermill": {
     "duration": 0.105865,
     "end_time": "2024-01-05T06:16:11.841289",
     "exception": false,
     "start_time": "2024-01-05T06:16:11.735424",
     "status": "completed"
    },
    "tags": []
   },
   "outputs": [
    {
     "name": "stdout",
     "output_type": "stream",
     "text": [
      "accuracy score: \n",
      " 0.485 \n",
      "\n",
      "classification report \n",
      "               precision    recall  f1-score   support\n",
      "\n",
      "           0       0.00      0.00      0.00       206\n",
      "           1       0.48      1.00      0.65       194\n",
      "\n",
      "    accuracy                           0.48       400\n",
      "   macro avg       0.24      0.50      0.33       400\n",
      "weighted avg       0.24      0.48      0.32       400\n",
      " \n",
      "\n",
      "confusion matrix \n",
      " [[  0 206]\n",
      " [  0 194]] \n",
      "\n"
     ]
    }
   ],
   "source": [
    "print('accuracy score: \\n', accuracy_score(y_test, np.round(test_pred)), '\\n')\n",
    "\n",
    "print('classification report \\n', classification_report(y_test, np.round(test_pred)), '\\n')\n",
    "\n",
    "print('confusion matrix \\n', confusion_matrix(y_test, np.round(test_pred)), '\\n')"
   ]
  },
  {
   "cell_type": "code",
   "execution_count": null,
   "id": "454da946",
   "metadata": {
    "papermill": {
     "duration": 0.085846,
     "end_time": "2024-01-05T06:16:12.012233",
     "exception": false,
     "start_time": "2024-01-05T06:16:11.926387",
     "status": "completed"
    },
    "tags": []
   },
   "outputs": [],
   "source": []
  }
 ],
 "metadata": {
  "kaggle": {
   "accelerator": "nvidiaTeslaT4",
   "dataSources": [
    {
     "datasetId": 4262162,
     "sourceId": 7340929,
     "sourceType": "datasetVersion"
    }
   ],
   "dockerImageVersionId": 30627,
   "isGpuEnabled": true,
   "isInternetEnabled": true,
   "language": "python",
   "sourceType": "notebook"
  },
  "kernelspec": {
   "display_name": "Python 3",
   "language": "python",
   "name": "python3"
  },
  "language_info": {
   "codemirror_mode": {
    "name": "ipython",
    "version": 3
   },
   "file_extension": ".py",
   "mimetype": "text/x-python",
   "name": "python",
   "nbconvert_exporter": "python",
   "pygments_lexer": "ipython3",
   "version": "3.10.12"
  },
  "papermill": {
   "default_parameters": {},
   "duration": 1530.335584,
   "end_time": "2024-01-05T06:16:15.603972",
   "environment_variables": {},
   "exception": null,
   "input_path": "__notebook__.ipynb",
   "output_path": "__notebook__.ipynb",
   "parameters": {},
   "start_time": "2024-01-05T05:50:45.268388",
   "version": "2.4.0"
  }
 },
 "nbformat": 4,
 "nbformat_minor": 5
}
