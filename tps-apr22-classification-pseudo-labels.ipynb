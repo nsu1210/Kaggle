{
 "cells": [
  {
   "cell_type": "markdown",
   "id": "454facfe",
   "metadata": {
    "papermill": {
     "duration": 0.021084,
     "end_time": "2022-04-20T05:59:14.317147",
     "exception": false,
     "start_time": "2022-04-20T05:59:14.296063",
     "status": "completed"
    },
    "tags": []
   },
   "source": [
    "# Introduction\n",
    "Hey, thanks for viewing my Kernel!\n",
    "\n",
    "If you like my work, please, leave an upvote: it will be really appreciated and it will motivate me in offering more content to the Kaggle community ! :)\n",
    "\n",
    "EDA was done in this [notebook](https://www.kaggle.com/code/hasanbasriakcay/tpsapr22-eda-fe-baseline)"
   ]
  },
  {
   "cell_type": "code",
   "execution_count": 1,
   "id": "d44ff0fd",
   "metadata": {
    "execution": {
     "iopub.execute_input": "2022-04-20T05:59:14.368052Z",
     "iopub.status.busy": "2022-04-20T05:59:14.362383Z",
     "iopub.status.idle": "2022-04-20T05:59:29.593048Z",
     "shell.execute_reply": "2022-04-20T05:59:29.593568Z",
     "shell.execute_reply.started": "2022-04-05T12:18:18.061281Z"
    },
    "papermill": {
     "duration": 15.256947,
     "end_time": "2022-04-20T05:59:29.593886",
     "exception": false,
     "start_time": "2022-04-20T05:59:14.336939",
     "status": "completed"
    },
    "tags": []
   },
   "outputs": [
    {
     "data": {
      "text/html": [
       "<style type='text/css'>\n",
       ".datatable table.frame { margin-bottom: 0; }\n",
       ".datatable table.frame thead { border-bottom: none; }\n",
       ".datatable table.frame tr.coltypes td {  color: #FFFFFF;  line-height: 6px;  padding: 0 0.5em;}\n",
       ".datatable .bool    { background: #DDDD99; }\n",
       ".datatable .object  { background: #565656; }\n",
       ".datatable .int     { background: #5D9E5D; }\n",
       ".datatable .float   { background: #4040CC; }\n",
       ".datatable .str     { background: #CC4040; }\n",
       ".datatable .time    { background: #40CC40; }\n",
       ".datatable .row_index {  background: var(--jp-border-color3);  border-right: 1px solid var(--jp-border-color0);  color: var(--jp-ui-font-color3);  font-size: 9px;}\n",
       ".datatable .frame tbody td { text-align: left; }\n",
       ".datatable .frame tr.coltypes .row_index {  background: var(--jp-border-color0);}\n",
       ".datatable th:nth-child(2) { padding-left: 12px; }\n",
       ".datatable .hellipsis {  color: var(--jp-cell-editor-border-color);}\n",
       ".datatable .vellipsis {  background: var(--jp-layout-color0);  color: var(--jp-cell-editor-border-color);}\n",
       ".datatable .na {  color: var(--jp-cell-editor-border-color);  font-size: 80%;}\n",
       ".datatable .sp {  opacity: 0.25;}\n",
       ".datatable .footer { font-size: 9px; }\n",
       ".datatable .frame_dimensions {  background: var(--jp-border-color3);  border-top: 1px solid var(--jp-border-color0);  color: var(--jp-ui-font-color3);  display: inline-block;  opacity: 0.6;  padding: 1px 10px 1px 5px;}\n",
       "</style>\n"
      ],
      "text/plain": [
       "<IPython.core.display.HTML object>"
      ]
     },
     "metadata": {},
     "output_type": "display_data"
    },
    {
     "data": {
      "text/html": [
       "<div>\n",
       "<style scoped>\n",
       "    .dataframe tbody tr th:only-of-type {\n",
       "        vertical-align: middle;\n",
       "    }\n",
       "\n",
       "    .dataframe tbody tr th {\n",
       "        vertical-align: top;\n",
       "    }\n",
       "\n",
       "    .dataframe thead th {\n",
       "        text-align: right;\n",
       "    }\n",
       "</style>\n",
       "<table border=\"1\" class=\"dataframe\">\n",
       "  <thead>\n",
       "    <tr style=\"text-align: right;\">\n",
       "      <th></th>\n",
       "      <th>sequence</th>\n",
       "      <th>subject</th>\n",
       "      <th>step</th>\n",
       "      <th>sensor_00</th>\n",
       "      <th>sensor_01</th>\n",
       "      <th>sensor_02</th>\n",
       "      <th>sensor_03</th>\n",
       "      <th>sensor_04</th>\n",
       "      <th>sensor_05</th>\n",
       "      <th>sensor_06</th>\n",
       "      <th>sensor_07</th>\n",
       "      <th>sensor_08</th>\n",
       "      <th>sensor_09</th>\n",
       "      <th>sensor_10</th>\n",
       "      <th>sensor_11</th>\n",
       "      <th>sensor_12</th>\n",
       "    </tr>\n",
       "  </thead>\n",
       "  <tbody>\n",
       "    <tr>\n",
       "      <th>0</th>\n",
       "      <td>0</td>\n",
       "      <td>47</td>\n",
       "      <td>0</td>\n",
       "      <td>-0.196291</td>\n",
       "      <td>0.112395</td>\n",
       "      <td>1.0</td>\n",
       "      <td>0.329204</td>\n",
       "      <td>-1.004660</td>\n",
       "      <td>-0.131638</td>\n",
       "      <td>-0.127505</td>\n",
       "      <td>0.368702</td>\n",
       "      <td>-0.1</td>\n",
       "      <td>-0.963873</td>\n",
       "      <td>-0.985069</td>\n",
       "      <td>0.531893</td>\n",
       "      <td>4.751492</td>\n",
       "    </tr>\n",
       "    <tr>\n",
       "      <th>1</th>\n",
       "      <td>0</td>\n",
       "      <td>47</td>\n",
       "      <td>1</td>\n",
       "      <td>-0.447450</td>\n",
       "      <td>0.134454</td>\n",
       "      <td>1.0</td>\n",
       "      <td>-0.658407</td>\n",
       "      <td>0.162495</td>\n",
       "      <td>0.340314</td>\n",
       "      <td>-0.209472</td>\n",
       "      <td>-0.867176</td>\n",
       "      <td>0.2</td>\n",
       "      <td>-0.301301</td>\n",
       "      <td>0.082733</td>\n",
       "      <td>-0.231481</td>\n",
       "      <td>0.454390</td>\n",
       "    </tr>\n",
       "    <tr>\n",
       "      <th>2</th>\n",
       "      <td>0</td>\n",
       "      <td>47</td>\n",
       "      <td>2</td>\n",
       "      <td>0.326893</td>\n",
       "      <td>-0.694328</td>\n",
       "      <td>1.0</td>\n",
       "      <td>0.330088</td>\n",
       "      <td>0.473678</td>\n",
       "      <td>1.280479</td>\n",
       "      <td>-0.094718</td>\n",
       "      <td>0.535878</td>\n",
       "      <td>1.4</td>\n",
       "      <td>1.002168</td>\n",
       "      <td>0.449221</td>\n",
       "      <td>-0.586420</td>\n",
       "      <td>-4.736147</td>\n",
       "    </tr>\n",
       "    <tr>\n",
       "      <th>3</th>\n",
       "      <td>0</td>\n",
       "      <td>47</td>\n",
       "      <td>3</td>\n",
       "      <td>0.523184</td>\n",
       "      <td>0.751050</td>\n",
       "      <td>1.0</td>\n",
       "      <td>0.976991</td>\n",
       "      <td>-0.563287</td>\n",
       "      <td>-0.720269</td>\n",
       "      <td>0.793260</td>\n",
       "      <td>0.951145</td>\n",
       "      <td>-0.3</td>\n",
       "      <td>-0.995665</td>\n",
       "      <td>-0.434290</td>\n",
       "      <td>1.344650</td>\n",
       "      <td>0.429241</td>\n",
       "    </tr>\n",
       "    <tr>\n",
       "      <th>4</th>\n",
       "      <td>0</td>\n",
       "      <td>47</td>\n",
       "      <td>4</td>\n",
       "      <td>0.272025</td>\n",
       "      <td>1.074580</td>\n",
       "      <td>1.0</td>\n",
       "      <td>-0.136283</td>\n",
       "      <td>0.398579</td>\n",
       "      <td>0.044877</td>\n",
       "      <td>0.560109</td>\n",
       "      <td>-0.541985</td>\n",
       "      <td>-0.9</td>\n",
       "      <td>1.055636</td>\n",
       "      <td>0.812631</td>\n",
       "      <td>0.123457</td>\n",
       "      <td>-0.223359</td>\n",
       "    </tr>\n",
       "  </tbody>\n",
       "</table>\n",
       "</div>"
      ],
      "text/plain": [
       "   sequence  subject  step  sensor_00  sensor_01  sensor_02  sensor_03  \\\n",
       "0         0       47     0  -0.196291   0.112395        1.0   0.329204   \n",
       "1         0       47     1  -0.447450   0.134454        1.0  -0.658407   \n",
       "2         0       47     2   0.326893  -0.694328        1.0   0.330088   \n",
       "3         0       47     3   0.523184   0.751050        1.0   0.976991   \n",
       "4         0       47     4   0.272025   1.074580        1.0  -0.136283   \n",
       "\n",
       "   sensor_04  sensor_05  sensor_06  sensor_07  sensor_08  sensor_09  \\\n",
       "0  -1.004660  -0.131638  -0.127505   0.368702       -0.1  -0.963873   \n",
       "1   0.162495   0.340314  -0.209472  -0.867176        0.2  -0.301301   \n",
       "2   0.473678   1.280479  -0.094718   0.535878        1.4   1.002168   \n",
       "3  -0.563287  -0.720269   0.793260   0.951145       -0.3  -0.995665   \n",
       "4   0.398579   0.044877   0.560109  -0.541985       -0.9   1.055636   \n",
       "\n",
       "   sensor_10  sensor_11  sensor_12  \n",
       "0  -0.985069   0.531893   4.751492  \n",
       "1   0.082733  -0.231481   0.454390  \n",
       "2   0.449221  -0.586420  -4.736147  \n",
       "3  -0.434290   1.344650   0.429241  \n",
       "4   0.812631   0.123457  -0.223359  "
      ]
     },
     "metadata": {},
     "output_type": "display_data"
    },
    {
     "data": {
      "text/html": [
       "<div>\n",
       "<style scoped>\n",
       "    .dataframe tbody tr th:only-of-type {\n",
       "        vertical-align: middle;\n",
       "    }\n",
       "\n",
       "    .dataframe tbody tr th {\n",
       "        vertical-align: top;\n",
       "    }\n",
       "\n",
       "    .dataframe thead th {\n",
       "        text-align: right;\n",
       "    }\n",
       "</style>\n",
       "<table border=\"1\" class=\"dataframe\">\n",
       "  <thead>\n",
       "    <tr style=\"text-align: right;\">\n",
       "      <th></th>\n",
       "      <th>sequence</th>\n",
       "      <th>subject</th>\n",
       "      <th>step</th>\n",
       "      <th>sensor_00</th>\n",
       "      <th>sensor_01</th>\n",
       "      <th>sensor_02</th>\n",
       "      <th>sensor_03</th>\n",
       "      <th>sensor_04</th>\n",
       "      <th>sensor_05</th>\n",
       "      <th>sensor_06</th>\n",
       "      <th>sensor_07</th>\n",
       "      <th>sensor_08</th>\n",
       "      <th>sensor_09</th>\n",
       "      <th>sensor_10</th>\n",
       "      <th>sensor_11</th>\n",
       "      <th>sensor_12</th>\n",
       "    </tr>\n",
       "  </thead>\n",
       "  <tbody>\n",
       "    <tr>\n",
       "      <th>0</th>\n",
       "      <td>25968</td>\n",
       "      <td>684</td>\n",
       "      <td>0</td>\n",
       "      <td>2.427357</td>\n",
       "      <td>19.639706</td>\n",
       "      <td>1.0</td>\n",
       "      <td>-1.466372</td>\n",
       "      <td>-1.289973</td>\n",
       "      <td>-4.207928</td>\n",
       "      <td>2.486339</td>\n",
       "      <td>-2.493893</td>\n",
       "      <td>8.0</td>\n",
       "      <td>-1.123555</td>\n",
       "      <td>-1.673048</td>\n",
       "      <td>10.980453</td>\n",
       "      <td>0.419011</td>\n",
       "    </tr>\n",
       "    <tr>\n",
       "      <th>1</th>\n",
       "      <td>25968</td>\n",
       "      <td>684</td>\n",
       "      <td>1</td>\n",
       "      <td>-4.950541</td>\n",
       "      <td>-21.747899</td>\n",
       "      <td>1.0</td>\n",
       "      <td>0.983186</td>\n",
       "      <td>-0.569053</td>\n",
       "      <td>1.845924</td>\n",
       "      <td>-3.887978</td>\n",
       "      <td>1.727481</td>\n",
       "      <td>-2.9</td>\n",
       "      <td>0.395231</td>\n",
       "      <td>-0.882233</td>\n",
       "      <td>-1.871399</td>\n",
       "      <td>-0.008525</td>\n",
       "    </tr>\n",
       "    <tr>\n",
       "      <th>2</th>\n",
       "      <td>25968</td>\n",
       "      <td>684</td>\n",
       "      <td>2</td>\n",
       "      <td>1.136012</td>\n",
       "      <td>-10.756303</td>\n",
       "      <td>1.0</td>\n",
       "      <td>1.016814</td>\n",
       "      <td>0.964157</td>\n",
       "      <td>2.454749</td>\n",
       "      <td>0.312386</td>\n",
       "      <td>1.154198</td>\n",
       "      <td>-5.6</td>\n",
       "      <td>1.114162</td>\n",
       "      <td>1.525273</td>\n",
       "      <td>-11.584362</td>\n",
       "      <td>0.139812</td>\n",
       "    </tr>\n",
       "    <tr>\n",
       "      <th>3</th>\n",
       "      <td>25968</td>\n",
       "      <td>684</td>\n",
       "      <td>3</td>\n",
       "      <td>0.806028</td>\n",
       "      <td>6.504202</td>\n",
       "      <td>1.0</td>\n",
       "      <td>-0.179646</td>\n",
       "      <td>0.969221</td>\n",
       "      <td>-1.035153</td>\n",
       "      <td>-0.457195</td>\n",
       "      <td>0.254962</td>\n",
       "      <td>-2.7</td>\n",
       "      <td>-0.588873</td>\n",
       "      <td>0.608761</td>\n",
       "      <td>-4.241770</td>\n",
       "      <td>-0.462916</td>\n",
       "    </tr>\n",
       "    <tr>\n",
       "      <th>4</th>\n",
       "      <td>25968</td>\n",
       "      <td>684</td>\n",
       "      <td>4</td>\n",
       "      <td>1.288253</td>\n",
       "      <td>5.552521</td>\n",
       "      <td>1.0</td>\n",
       "      <td>-0.493805</td>\n",
       "      <td>-1.036124</td>\n",
       "      <td>-1.126402</td>\n",
       "      <td>2.008197</td>\n",
       "      <td>-0.730534</td>\n",
       "      <td>0.0</td>\n",
       "      <td>0.899566</td>\n",
       "      <td>-1.259615</td>\n",
       "      <td>-0.472222</td>\n",
       "      <td>-0.121483</td>\n",
       "    </tr>\n",
       "  </tbody>\n",
       "</table>\n",
       "</div>"
      ],
      "text/plain": [
       "   sequence  subject  step  sensor_00  sensor_01  sensor_02  sensor_03  \\\n",
       "0     25968      684     0   2.427357  19.639706        1.0  -1.466372   \n",
       "1     25968      684     1  -4.950541 -21.747899        1.0   0.983186   \n",
       "2     25968      684     2   1.136012 -10.756303        1.0   1.016814   \n",
       "3     25968      684     3   0.806028   6.504202        1.0  -0.179646   \n",
       "4     25968      684     4   1.288253   5.552521        1.0  -0.493805   \n",
       "\n",
       "   sensor_04  sensor_05  sensor_06  sensor_07  sensor_08  sensor_09  \\\n",
       "0  -1.289973  -4.207928   2.486339  -2.493893        8.0  -1.123555   \n",
       "1  -0.569053   1.845924  -3.887978   1.727481       -2.9   0.395231   \n",
       "2   0.964157   2.454749   0.312386   1.154198       -5.6   1.114162   \n",
       "3   0.969221  -1.035153  -0.457195   0.254962       -2.7  -0.588873   \n",
       "4  -1.036124  -1.126402   2.008197  -0.730534        0.0   0.899566   \n",
       "\n",
       "   sensor_10  sensor_11  sensor_12  \n",
       "0  -1.673048  10.980453   0.419011  \n",
       "1  -0.882233  -1.871399  -0.008525  \n",
       "2   1.525273 -11.584362   0.139812  \n",
       "3   0.608761  -4.241770  -0.462916  \n",
       "4  -1.259615  -0.472222  -0.121483  "
      ]
     },
     "metadata": {},
     "output_type": "display_data"
    },
    {
     "data": {
      "text/html": [
       "<div>\n",
       "<style scoped>\n",
       "    .dataframe tbody tr th:only-of-type {\n",
       "        vertical-align: middle;\n",
       "    }\n",
       "\n",
       "    .dataframe tbody tr th {\n",
       "        vertical-align: top;\n",
       "    }\n",
       "\n",
       "    .dataframe thead th {\n",
       "        text-align: right;\n",
       "    }\n",
       "</style>\n",
       "<table border=\"1\" class=\"dataframe\">\n",
       "  <thead>\n",
       "    <tr style=\"text-align: right;\">\n",
       "      <th></th>\n",
       "      <th>sequence</th>\n",
       "      <th>state</th>\n",
       "    </tr>\n",
       "  </thead>\n",
       "  <tbody>\n",
       "    <tr>\n",
       "      <th>0</th>\n",
       "      <td>0</td>\n",
       "      <td>0</td>\n",
       "    </tr>\n",
       "    <tr>\n",
       "      <th>1</th>\n",
       "      <td>1</td>\n",
       "      <td>1</td>\n",
       "    </tr>\n",
       "    <tr>\n",
       "      <th>2</th>\n",
       "      <td>2</td>\n",
       "      <td>1</td>\n",
       "    </tr>\n",
       "    <tr>\n",
       "      <th>3</th>\n",
       "      <td>3</td>\n",
       "      <td>1</td>\n",
       "    </tr>\n",
       "    <tr>\n",
       "      <th>4</th>\n",
       "      <td>4</td>\n",
       "      <td>1</td>\n",
       "    </tr>\n",
       "  </tbody>\n",
       "</table>\n",
       "</div>"
      ],
      "text/plain": [
       "   sequence  state\n",
       "0         0      0\n",
       "1         1      1\n",
       "2         2      1\n",
       "3         3      1\n",
       "4         4      1"
      ]
     },
     "metadata": {},
     "output_type": "display_data"
    },
    {
     "data": {
      "text/html": [
       "<div>\n",
       "<style scoped>\n",
       "    .dataframe tbody tr th:only-of-type {\n",
       "        vertical-align: middle;\n",
       "    }\n",
       "\n",
       "    .dataframe tbody tr th {\n",
       "        vertical-align: top;\n",
       "    }\n",
       "\n",
       "    .dataframe thead th {\n",
       "        text-align: right;\n",
       "    }\n",
       "</style>\n",
       "<table border=\"1\" class=\"dataframe\">\n",
       "  <thead>\n",
       "    <tr style=\"text-align: right;\">\n",
       "      <th></th>\n",
       "      <th>sequence</th>\n",
       "      <th>state</th>\n",
       "    </tr>\n",
       "  </thead>\n",
       "  <tbody>\n",
       "    <tr>\n",
       "      <th>0</th>\n",
       "      <td>25968</td>\n",
       "      <td>0</td>\n",
       "    </tr>\n",
       "    <tr>\n",
       "      <th>1</th>\n",
       "      <td>25969</td>\n",
       "      <td>0</td>\n",
       "    </tr>\n",
       "    <tr>\n",
       "      <th>2</th>\n",
       "      <td>25970</td>\n",
       "      <td>0</td>\n",
       "    </tr>\n",
       "    <tr>\n",
       "      <th>3</th>\n",
       "      <td>25971</td>\n",
       "      <td>0</td>\n",
       "    </tr>\n",
       "    <tr>\n",
       "      <th>4</th>\n",
       "      <td>25972</td>\n",
       "      <td>0</td>\n",
       "    </tr>\n",
       "  </tbody>\n",
       "</table>\n",
       "</div>"
      ],
      "text/plain": [
       "   sequence  state\n",
       "0     25968      0\n",
       "1     25969      0\n",
       "2     25970      0\n",
       "3     25971      0\n",
       "4     25972      0"
      ]
     },
     "metadata": {},
     "output_type": "display_data"
    }
   ],
   "source": [
    "import pandas as pd\n",
    "import numpy as np\n",
    "import warnings \n",
    "\n",
    "from lightgbm import LGBMClassifier\n",
    "from sklearn.model_selection import StratifiedKFold\n",
    "from sklearn.metrics import roc_auc_score\n",
    "\n",
    "warnings.simplefilter(\"ignore\")\n",
    "train_ = pd.read_csv(\"../input/tabular-playground-series-apr-2022/train.csv\")\n",
    "test = pd.read_csv(\"../input/tabular-playground-series-apr-2022/test.csv\")\n",
    "train_labels = pd.read_csv(\"../input/tabular-playground-series-apr-2022/train_labels.csv\")\n",
    "sub = pd.read_csv(\"../input/tabular-playground-series-apr-2022/sample_submission.csv\")\n",
    "\n",
    "display(train_.head())\n",
    "display(test.head())\n",
    "display(train_labels.head())\n",
    "display(sub.head())"
   ]
  },
  {
   "cell_type": "code",
   "execution_count": 2,
   "id": "fb64deda",
   "metadata": {
    "execution": {
     "iopub.execute_input": "2022-04-20T05:59:29.653869Z",
     "iopub.status.busy": "2022-04-20T05:59:29.652936Z",
     "iopub.status.idle": "2022-04-20T05:59:29.935668Z",
     "shell.execute_reply": "2022-04-20T05:59:29.936207Z",
     "shell.execute_reply.started": "2022-04-05T12:18:41.294095Z"
    },
    "papermill": {
     "duration": 0.317447,
     "end_time": "2022-04-20T05:59:29.936389",
     "exception": false,
     "start_time": "2022-04-20T05:59:29.618942",
     "status": "completed"
    },
    "tags": []
   },
   "outputs": [
    {
     "data": {
      "text/plain": [
       "(1558080, 17)"
      ]
     },
     "execution_count": 2,
     "metadata": {},
     "output_type": "execute_result"
    }
   ],
   "source": [
    "train = train_.merge(train_labels, on='sequence', how='left')\n",
    "train.shape"
   ]
  },
  {
   "cell_type": "markdown",
   "id": "7c0b3d89",
   "metadata": {
    "papermill": {
     "duration": 0.023678,
     "end_time": "2022-04-20T05:59:29.984330",
     "exception": false,
     "start_time": "2022-04-20T05:59:29.960652",
     "status": "completed"
    },
    "tags": []
   },
   "source": [
    "# Feature Engineering"
   ]
  },
  {
   "cell_type": "code",
   "execution_count": 3,
   "id": "317e5ca3",
   "metadata": {
    "_kg_hide-input": true,
    "execution": {
     "iopub.execute_input": "2022-04-20T05:59:30.053590Z",
     "iopub.status.busy": "2022-04-20T05:59:30.052836Z",
     "iopub.status.idle": "2022-04-20T05:59:30.055837Z",
     "shell.execute_reply": "2022-04-20T05:59:30.056298Z",
     "shell.execute_reply.started": "2022-04-05T12:18:43.495738Z"
    },
    "papermill": {
     "duration": 0.046859,
     "end_time": "2022-04-20T05:59:30.056481",
     "exception": false,
     "start_time": "2022-04-20T05:59:30.009622",
     "status": "completed"
    },
    "tags": []
   },
   "outputs": [],
   "source": [
    "def create_new_features(df, aggregation_cols=['sequence'], prefix=''):\n",
    "    df['sensor_02_num'] = df['sensor_02'] > -15\n",
    "    df['sensor_02_num'] = df['sensor_02_num'].astype(int)\n",
    "    df['sensor_sum1'] = (df['sensor_00'] + df['sensor_09'] + df['sensor_06'] + df['sensor_01'])\n",
    "    df['sensor_sum2'] = (df['sensor_01'] + df['sensor_11'] + df['sensor_09'] + df['sensor_06'] + df['sensor_00'])\n",
    "    df['sensor_sum3'] = (df['sensor_03'] + df['sensor_11'] + df['sensor_07'])\n",
    "    df['sensor_sum4'] = (df['sensor_04'] + df['sensor_10'])\n",
    "    \n",
    "    agg_strategy = {\n",
    "                    'sensor_00': ['mean', 'max', 'min', 'var', 'mad', 'sum', 'median'],\n",
    "                    'sensor_01': ['mean', 'max', 'min', 'var', 'mad', 'sum', 'median'],\n",
    "                    'sensor_02': ['mean', 'max', 'min', 'var', 'mad', 'sum', 'median'],\n",
    "                    'sensor_03': ['mean', 'max', 'min', 'var', 'mad', 'sum', 'median'],\n",
    "                    'sensor_04': ['mean', 'max', 'min', 'var', 'mad', 'sum', 'median'],\n",
    "                    'sensor_05': ['mean', 'max', 'min', 'var', 'mad', 'sum', 'median'],\n",
    "                    'sensor_06': ['mean', 'max', 'min', 'var', 'mad', 'sum', 'median'],\n",
    "                    'sensor_07': ['mean', 'max', 'min', 'var', 'mad', 'sum', 'median'],\n",
    "                    'sensor_08': ['mean', 'max', 'min', 'var', 'mad', 'sum', 'median'],\n",
    "                    'sensor_09': ['mean', 'max', 'min', 'var', 'mad', 'sum', 'median'],\n",
    "                    'sensor_10': ['mean', 'max', 'min', 'var', 'mad', 'sum', 'median'],\n",
    "                    'sensor_11': ['mean', 'max', 'min', 'var', 'mad', 'sum', 'median'],\n",
    "                    'sensor_12': ['mean', 'max', 'min', 'var', 'mad', 'sum', 'median'],\n",
    "                    'sensor_02_num': ['mean', 'max', 'min', 'var', 'mad', 'sum', 'median'],\n",
    "                    'sensor_sum1': ['mean', 'max', 'min', 'var', 'mad', 'sum', 'median'],\n",
    "                    'sensor_sum2': ['mean', 'max', 'min', 'var', 'mad', 'sum', 'median'],\n",
    "                    'sensor_sum3': ['mean', 'max', 'min', 'var', 'mad', 'sum', 'median'],\n",
    "                    'sensor_sum4': ['mean', 'max', 'min', 'var', 'mad', 'sum', 'median'],\n",
    "                   }\n",
    "    \n",
    "    group = df.groupby(aggregation_cols).aggregate(agg_strategy)\n",
    "    group.columns = ['_'.join(col).strip() for col in group.columns]\n",
    "    group.columns = [str(prefix) + str(col) for col in group.columns]\n",
    "    group.reset_index(inplace = True)\n",
    "    \n",
    "    temp = (df.groupby(aggregation_cols).size().reset_index(name = str(prefix) + 'size'))\n",
    "    group = pd.merge(temp, group, how = 'left', on = aggregation_cols,)\n",
    "    return group"
   ]
  },
  {
   "cell_type": "code",
   "execution_count": 4,
   "id": "ada7d16d",
   "metadata": {
    "execution": {
     "iopub.execute_input": "2022-04-20T05:59:30.112911Z",
     "iopub.status.busy": "2022-04-20T05:59:30.112217Z",
     "iopub.status.idle": "2022-04-20T06:04:41.432478Z",
     "shell.execute_reply": "2022-04-20T06:04:41.433088Z",
     "shell.execute_reply.started": "2022-04-05T12:18:45.968508Z"
    },
    "papermill": {
     "duration": 311.349049,
     "end_time": "2022-04-20T06:04:41.433295",
     "exception": false,
     "start_time": "2022-04-20T05:59:30.084246",
     "status": "completed"
    },
    "tags": []
   },
   "outputs": [],
   "source": [
    "train_fe = create_new_features(train, aggregation_cols=['sequence', 'subject'])\n",
    "test_fe = create_new_features(test, aggregation_cols=['sequence', 'subject'])"
   ]
  },
  {
   "cell_type": "code",
   "execution_count": 5,
   "id": "385a359d",
   "metadata": {
    "execution": {
     "iopub.execute_input": "2022-04-20T06:04:41.491894Z",
     "iopub.status.busy": "2022-04-20T06:04:41.491106Z",
     "iopub.status.idle": "2022-04-20T06:04:54.466428Z",
     "shell.execute_reply": "2022-04-20T06:04:54.466994Z",
     "shell.execute_reply.started": "2022-04-05T12:23:58.215385Z"
    },
    "papermill": {
     "duration": 13.006851,
     "end_time": "2022-04-20T06:04:54.467173",
     "exception": false,
     "start_time": "2022-04-20T06:04:41.460322",
     "status": "completed"
    },
    "tags": []
   },
   "outputs": [],
   "source": [
    "train_fe_subjects = create_new_features(train, aggregation_cols = ['subject'], prefix = 'subject_')\n",
    "test_fe_subjects = create_new_features(test, aggregation_cols = ['subject'], prefix = 'subject_')"
   ]
  },
  {
   "cell_type": "code",
   "execution_count": 6,
   "id": "cb5d7be0",
   "metadata": {
    "execution": {
     "iopub.execute_input": "2022-04-20T06:04:54.518271Z",
     "iopub.status.busy": "2022-04-20T06:04:54.517553Z",
     "iopub.status.idle": "2022-04-20T06:04:54.600517Z",
     "shell.execute_reply": "2022-04-20T06:04:54.601032Z",
     "shell.execute_reply.started": "2022-04-05T12:24:11.137151Z"
    },
    "papermill": {
     "duration": 0.110515,
     "end_time": "2022-04-20T06:04:54.601229",
     "exception": false,
     "start_time": "2022-04-20T06:04:54.490714",
     "status": "completed"
    },
    "tags": []
   },
   "outputs": [],
   "source": [
    "train_fe = train_fe.merge(train_fe_subjects, on='subject', how='left')\n",
    "train_fe = train_fe.merge(train_labels, on='sequence', how='left')\n",
    "test_fe = test_fe.merge(test_fe_subjects, on='subject', how='left')"
   ]
  },
  {
   "cell_type": "code",
   "execution_count": 7,
   "id": "09522934",
   "metadata": {
    "execution": {
     "iopub.execute_input": "2022-04-20T06:04:54.651958Z",
     "iopub.status.busy": "2022-04-20T06:04:54.651228Z",
     "iopub.status.idle": "2022-04-20T06:04:54.656158Z",
     "shell.execute_reply": "2022-04-20T06:04:54.656833Z",
     "shell.execute_reply.started": "2022-04-05T12:24:11.230468Z"
    },
    "papermill": {
     "duration": 0.032242,
     "end_time": "2022-04-20T06:04:54.657029",
     "exception": false,
     "start_time": "2022-04-20T06:04:54.624787",
     "status": "completed"
    },
    "tags": []
   },
   "outputs": [
    {
     "name": "stdout",
     "output_type": "stream",
     "text": [
      "(25968, 257) (12218, 256)\n"
     ]
    }
   ],
   "source": [
    "print(train_fe.shape, test_fe.shape)"
   ]
  },
  {
   "cell_type": "markdown",
   "id": "91859972",
   "metadata": {
    "papermill": {
     "duration": 0.023639,
     "end_time": "2022-04-20T06:04:54.705373",
     "exception": false,
     "start_time": "2022-04-20T06:04:54.681734",
     "status": "completed"
    },
    "tags": []
   },
   "source": [
    "# Adding Pseudo Labels"
   ]
  },
  {
   "cell_type": "code",
   "execution_count": 8,
   "id": "df0f8044",
   "metadata": {
    "execution": {
     "iopub.execute_input": "2022-04-20T06:04:54.765663Z",
     "iopub.status.busy": "2022-04-20T06:04:54.757348Z",
     "iopub.status.idle": "2022-04-20T06:04:54.767850Z",
     "shell.execute_reply": "2022-04-20T06:04:54.768420Z",
     "shell.execute_reply.started": "2022-04-05T12:31:49.280321Z"
    },
    "papermill": {
     "duration": 0.038713,
     "end_time": "2022-04-20T06:04:54.768637",
     "exception": false,
     "start_time": "2022-04-20T06:04:54.729924",
     "status": "completed"
    },
    "tags": []
   },
   "outputs": [],
   "source": [
    "def pseudo_labeling(df_train, df_test, target, features, fold=10):\n",
    "\n",
    "    \n",
    "    X_train = df_train[features]\n",
    "    X_test = df_test[features]\n",
    "    y_train = df_train[[target]]\n",
    "    \n",
    "    oof = np.zeros(len(X_train))\n",
    "    preds = np.zeros(len(df_test))\n",
    "    \n",
    "    idx1 = X_train.index; idx2 = X_test.index\n",
    "    \n",
    "    skf = StratifiedKFold(n_splits=fold, random_state=42, shuffle=True)\n",
    "    for train_index, test_index in skf.split(X_train, y_train):\n",
    "        clf = LGBMClassifier(verbose=0, force_col_wise=True)\n",
    "        clf.fit(X_train.loc[train_index,:], y_train.loc[train_index, target], \n",
    "                eval_set = [(X_train.loc[test_index,:], y_train.loc[test_index, target])], verbose=0)\n",
    "        oof[idx1[test_index]] = clf.predict_proba(X_train.loc[test_index,:])[:,1]\n",
    "        preds[idx2] += clf.predict_proba(X_test)[:,1] / skf.n_splits\n",
    "    \n",
    "    pseudo_labeled_test = df_test.copy()\n",
    "    pseudo_labeled_test[target + \"_proba\"] = preds\n",
    "    \n",
    "    auc = roc_auc_score(df_train[target], oof)\n",
    "    print('LGBM scores CV =',round(auc,5))\n",
    "    \n",
    "    return pseudo_labeled_test"
   ]
  },
  {
   "cell_type": "code",
   "execution_count": 9,
   "id": "44a81176",
   "metadata": {
    "execution": {
     "iopub.execute_input": "2022-04-20T06:04:54.820352Z",
     "iopub.status.busy": "2022-04-20T06:04:54.819627Z",
     "iopub.status.idle": "2022-04-20T06:04:54.824475Z",
     "shell.execute_reply": "2022-04-20T06:04:54.825159Z",
     "shell.execute_reply.started": "2022-04-05T12:24:57.482418Z"
    },
    "papermill": {
     "duration": 0.032481,
     "end_time": "2022-04-20T06:04:54.825352",
     "exception": false,
     "start_time": "2022-04-20T06:04:54.792871",
     "status": "completed"
    },
    "tags": []
   },
   "outputs": [],
   "source": [
    "features = list(test_fe.columns)\n",
    "features.remove(\"sequence\")\n",
    "features.remove(\"subject\")"
   ]
  },
  {
   "cell_type": "code",
   "execution_count": 10,
   "id": "870fd66b",
   "metadata": {
    "execution": {
     "iopub.execute_input": "2022-04-20T06:04:54.880237Z",
     "iopub.status.busy": "2022-04-20T06:04:54.879517Z",
     "iopub.status.idle": "2022-04-20T06:05:36.953941Z",
     "shell.execute_reply": "2022-04-20T06:05:36.953338Z",
     "shell.execute_reply.started": "2022-04-05T12:31:52.534094Z"
    },
    "papermill": {
     "duration": 42.104518,
     "end_time": "2022-04-20T06:05:36.954088",
     "exception": false,
     "start_time": "2022-04-20T06:04:54.849570",
     "status": "completed"
    },
    "tags": []
   },
   "outputs": [
    {
     "name": "stdout",
     "output_type": "stream",
     "text": [
      "LGBM scores CV = 0.9297\n"
     ]
    },
    {
     "data": {
      "text/html": [
       "<div>\n",
       "<style scoped>\n",
       "    .dataframe tbody tr th:only-of-type {\n",
       "        vertical-align: middle;\n",
       "    }\n",
       "\n",
       "    .dataframe tbody tr th {\n",
       "        vertical-align: top;\n",
       "    }\n",
       "\n",
       "    .dataframe thead th {\n",
       "        text-align: right;\n",
       "    }\n",
       "</style>\n",
       "<table border=\"1\" class=\"dataframe\">\n",
       "  <thead>\n",
       "    <tr style=\"text-align: right;\">\n",
       "      <th></th>\n",
       "      <th>sequence</th>\n",
       "      <th>subject</th>\n",
       "      <th>size</th>\n",
       "      <th>sensor_00_mean</th>\n",
       "      <th>sensor_00_max</th>\n",
       "      <th>sensor_00_min</th>\n",
       "      <th>sensor_00_var</th>\n",
       "      <th>sensor_00_mad</th>\n",
       "      <th>sensor_00_sum</th>\n",
       "      <th>sensor_00_median</th>\n",
       "      <th>...</th>\n",
       "      <th>subject_sensor_sum3_sum</th>\n",
       "      <th>subject_sensor_sum3_median</th>\n",
       "      <th>subject_sensor_sum4_mean</th>\n",
       "      <th>subject_sensor_sum4_max</th>\n",
       "      <th>subject_sensor_sum4_min</th>\n",
       "      <th>subject_sensor_sum4_var</th>\n",
       "      <th>subject_sensor_sum4_mad</th>\n",
       "      <th>subject_sensor_sum4_sum</th>\n",
       "      <th>subject_sensor_sum4_median</th>\n",
       "      <th>state_proba</th>\n",
       "    </tr>\n",
       "  </thead>\n",
       "  <tbody>\n",
       "    <tr>\n",
       "      <th>0</th>\n",
       "      <td>25968</td>\n",
       "      <td>684</td>\n",
       "      <td>60</td>\n",
       "      <td>-0.002602</td>\n",
       "      <td>3.146832</td>\n",
       "      <td>-4.950541</td>\n",
       "      <td>1.191898</td>\n",
       "      <td>0.732741</td>\n",
       "      <td>-0.156105</td>\n",
       "      <td>-0.002318</td>\n",
       "      <td>...</td>\n",
       "      <td>-58.861388</td>\n",
       "      <td>-0.049399</td>\n",
       "      <td>-0.001315</td>\n",
       "      <td>11.277613</td>\n",
       "      <td>-4.747551</td>\n",
       "      <td>1.949199</td>\n",
       "      <td>1.110229</td>\n",
       "      <td>-5.521340</td>\n",
       "      <td>0.059418</td>\n",
       "      <td>0.930236</td>\n",
       "    </tr>\n",
       "    <tr>\n",
       "      <th>1</th>\n",
       "      <td>25969</td>\n",
       "      <td>935</td>\n",
       "      <td>60</td>\n",
       "      <td>0.028516</td>\n",
       "      <td>5.816074</td>\n",
       "      <td>-3.675425</td>\n",
       "      <td>2.102617</td>\n",
       "      <td>0.848916</td>\n",
       "      <td>1.710974</td>\n",
       "      <td>-0.015842</td>\n",
       "      <td>...</td>\n",
       "      <td>-24.434919</td>\n",
       "      <td>-0.016942</td>\n",
       "      <td>0.000114</td>\n",
       "      <td>12.963398</td>\n",
       "      <td>-6.006014</td>\n",
       "      <td>1.365958</td>\n",
       "      <td>0.937648</td>\n",
       "      <td>0.405085</td>\n",
       "      <td>-0.045479</td>\n",
       "      <td>0.936835</td>\n",
       "    </tr>\n",
       "    <tr>\n",
       "      <th>2</th>\n",
       "      <td>25970</td>\n",
       "      <td>924</td>\n",
       "      <td>60</td>\n",
       "      <td>0.057664</td>\n",
       "      <td>12.306028</td>\n",
       "      <td>-15.005410</td>\n",
       "      <td>25.843168</td>\n",
       "      <td>4.023308</td>\n",
       "      <td>3.459815</td>\n",
       "      <td>1.079212</td>\n",
       "      <td>...</td>\n",
       "      <td>-78.450531</td>\n",
       "      <td>0.041885</td>\n",
       "      <td>0.004729</td>\n",
       "      <td>24.743910</td>\n",
       "      <td>-20.067045</td>\n",
       "      <td>12.770127</td>\n",
       "      <td>2.357230</td>\n",
       "      <td>10.781376</td>\n",
       "      <td>0.024400</td>\n",
       "      <td>0.062141</td>\n",
       "    </tr>\n",
       "    <tr>\n",
       "      <th>3</th>\n",
       "      <td>25971</td>\n",
       "      <td>769</td>\n",
       "      <td>60</td>\n",
       "      <td>-0.004791</td>\n",
       "      <td>2.876352</td>\n",
       "      <td>-2.465997</td>\n",
       "      <td>0.837073</td>\n",
       "      <td>0.687991</td>\n",
       "      <td>-0.287481</td>\n",
       "      <td>-0.033617</td>\n",
       "      <td>...</td>\n",
       "      <td>-0.930441</td>\n",
       "      <td>-0.006338</td>\n",
       "      <td>-0.005626</td>\n",
       "      <td>8.421322</td>\n",
       "      <td>-4.650984</td>\n",
       "      <td>0.484002</td>\n",
       "      <td>0.500457</td>\n",
       "      <td>-23.628549</td>\n",
       "      <td>-0.012683</td>\n",
       "      <td>0.713835</td>\n",
       "    </tr>\n",
       "    <tr>\n",
       "      <th>4</th>\n",
       "      <td>25972</td>\n",
       "      <td>764</td>\n",
       "      <td>60</td>\n",
       "      <td>-0.001443</td>\n",
       "      <td>17.295209</td>\n",
       "      <td>-9.974498</td>\n",
       "      <td>7.748900</td>\n",
       "      <td>1.083572</td>\n",
       "      <td>-0.086553</td>\n",
       "      <td>-0.171947</td>\n",
       "      <td>...</td>\n",
       "      <td>-276.436438</td>\n",
       "      <td>-0.017050</td>\n",
       "      <td>0.019176</td>\n",
       "      <td>14.010415</td>\n",
       "      <td>-21.911869</td>\n",
       "      <td>5.720601</td>\n",
       "      <td>1.755170</td>\n",
       "      <td>56.376032</td>\n",
       "      <td>-0.005695</td>\n",
       "      <td>0.478250</td>\n",
       "    </tr>\n",
       "  </tbody>\n",
       "</table>\n",
       "<p>5 rows × 257 columns</p>\n",
       "</div>"
      ],
      "text/plain": [
       "   sequence  subject  size  sensor_00_mean  sensor_00_max  sensor_00_min  \\\n",
       "0     25968      684    60       -0.002602       3.146832      -4.950541   \n",
       "1     25969      935    60        0.028516       5.816074      -3.675425   \n",
       "2     25970      924    60        0.057664      12.306028     -15.005410   \n",
       "3     25971      769    60       -0.004791       2.876352      -2.465997   \n",
       "4     25972      764    60       -0.001443      17.295209      -9.974498   \n",
       "\n",
       "   sensor_00_var  sensor_00_mad  sensor_00_sum  sensor_00_median  ...  \\\n",
       "0       1.191898       0.732741      -0.156105         -0.002318  ...   \n",
       "1       2.102617       0.848916       1.710974         -0.015842  ...   \n",
       "2      25.843168       4.023308       3.459815          1.079212  ...   \n",
       "3       0.837073       0.687991      -0.287481         -0.033617  ...   \n",
       "4       7.748900       1.083572      -0.086553         -0.171947  ...   \n",
       "\n",
       "   subject_sensor_sum3_sum  subject_sensor_sum3_median  \\\n",
       "0               -58.861388                   -0.049399   \n",
       "1               -24.434919                   -0.016942   \n",
       "2               -78.450531                    0.041885   \n",
       "3                -0.930441                   -0.006338   \n",
       "4              -276.436438                   -0.017050   \n",
       "\n",
       "   subject_sensor_sum4_mean  subject_sensor_sum4_max  subject_sensor_sum4_min  \\\n",
       "0                 -0.001315                11.277613                -4.747551   \n",
       "1                  0.000114                12.963398                -6.006014   \n",
       "2                  0.004729                24.743910               -20.067045   \n",
       "3                 -0.005626                 8.421322                -4.650984   \n",
       "4                  0.019176                14.010415               -21.911869   \n",
       "\n",
       "   subject_sensor_sum4_var  subject_sensor_sum4_mad  subject_sensor_sum4_sum  \\\n",
       "0                 1.949199                 1.110229                -5.521340   \n",
       "1                 1.365958                 0.937648                 0.405085   \n",
       "2                12.770127                 2.357230                10.781376   \n",
       "3                 0.484002                 0.500457               -23.628549   \n",
       "4                 5.720601                 1.755170                56.376032   \n",
       "\n",
       "   subject_sensor_sum4_median  state_proba  \n",
       "0                    0.059418     0.930236  \n",
       "1                   -0.045479     0.936835  \n",
       "2                    0.024400     0.062141  \n",
       "3                   -0.012683     0.713835  \n",
       "4                   -0.005695     0.478250  \n",
       "\n",
       "[5 rows x 257 columns]"
      ]
     },
     "execution_count": 10,
     "metadata": {},
     "output_type": "execute_result"
    }
   ],
   "source": [
    "pseudo_labeled_test = pseudo_labeling(train_fe, test_fe, \"state\", features)\n",
    "pseudo_labeled_test.head()"
   ]
  },
  {
   "cell_type": "code",
   "execution_count": 11,
   "id": "9c95b0e7",
   "metadata": {
    "_kg_hide-input": true,
    "execution": {
     "iopub.execute_input": "2022-04-20T06:05:37.013045Z",
     "iopub.status.busy": "2022-04-20T06:05:37.008984Z",
     "iopub.status.idle": "2022-04-20T06:05:37.016452Z",
     "shell.execute_reply": "2022-04-20T06:05:37.016985Z",
     "shell.execute_reply.started": "2022-04-05T12:41:44.395721Z"
    },
    "papermill": {
     "duration": 0.037456,
     "end_time": "2022-04-20T06:05:37.017178",
     "exception": false,
     "start_time": "2022-04-20T06:05:36.979722",
     "status": "completed"
    },
    "tags": []
   },
   "outputs": [],
   "source": [
    "def print_pseudo_label_th(df, th_list=[]):\n",
    "    for th in th_list:\n",
    "        temp_df = df.loc[((df['state_proba']>=th) | (df['state_proba']<=(1 - th))), :]\n",
    "        print(th, '-', temp_df.shape[0])"
   ]
  },
  {
   "cell_type": "code",
   "execution_count": 12,
   "id": "22d9bef8",
   "metadata": {
    "execution": {
     "iopub.execute_input": "2022-04-20T06:05:37.079304Z",
     "iopub.status.busy": "2022-04-20T06:05:37.074581Z",
     "iopub.status.idle": "2022-04-20T06:05:37.156162Z",
     "shell.execute_reply": "2022-04-20T06:05:37.157254Z",
     "shell.execute_reply.started": "2022-04-05T13:07:11.099773Z"
    },
    "papermill": {
     "duration": 0.115138,
     "end_time": "2022-04-20T06:05:37.157537",
     "exception": false,
     "start_time": "2022-04-20T06:05:37.042399",
     "status": "completed"
    },
    "tags": []
   },
   "outputs": [
    {
     "name": "stdout",
     "output_type": "stream",
     "text": [
      "0.99 - 286\n",
      "0.98 - 935\n",
      "0.97 - 1512\n",
      "0.96 - 2032\n",
      "0.95 - 2532\n",
      "0.94 - 2998\n",
      "0.93 - 3429\n",
      "0.92 - 3845\n",
      "0.91 - 4228\n",
      "0.9 - 4592\n"
     ]
    }
   ],
   "source": [
    "print_pseudo_label_th(pseudo_labeled_test, th_list=[0.99, 0.98, 0.97, 0.96, 0.95, 0.94, 0.93, 0.92, 0.91, 0.9])"
   ]
  },
  {
   "cell_type": "code",
   "execution_count": 13,
   "id": "64264990",
   "metadata": {
    "execution": {
     "iopub.execute_input": "2022-04-20T06:05:37.220293Z",
     "iopub.status.busy": "2022-04-20T06:05:37.219420Z",
     "iopub.status.idle": "2022-04-20T06:05:43.305003Z",
     "shell.execute_reply": "2022-04-20T06:05:43.304322Z"
    },
    "papermill": {
     "duration": 6.117337,
     "end_time": "2022-04-20T06:05:43.305177",
     "exception": false,
     "start_time": "2022-04-20T06:05:37.187840",
     "status": "completed"
    },
    "tags": []
   },
   "outputs": [],
   "source": [
    "pseudo_labeled_test.to_csv('pseudo_labeled_test.csv', index=False)"
   ]
  },
  {
   "cell_type": "markdown",
   "id": "0fc0a155",
   "metadata": {
    "papermill": {
     "duration": 0.025882,
     "end_time": "2022-04-20T06:05:43.358832",
     "exception": false,
     "start_time": "2022-04-20T06:05:43.332950",
     "status": "completed"
    },
    "tags": []
   },
   "source": [
    "# Modeling"
   ]
  },
  {
   "cell_type": "code",
   "execution_count": 14,
   "id": "691ecf57",
   "metadata": {
    "_kg_hide-input": true,
    "execution": {
     "iopub.execute_input": "2022-04-20T06:05:43.420362Z",
     "iopub.status.busy": "2022-04-20T06:05:43.419667Z",
     "iopub.status.idle": "2022-04-20T06:05:43.422971Z",
     "shell.execute_reply": "2022-04-20T06:05:43.422278Z",
     "shell.execute_reply.started": "2022-04-05T12:48:12.684426Z"
    },
    "papermill": {
     "duration": 0.035892,
     "end_time": "2022-04-20T06:05:43.423129",
     "exception": false,
     "start_time": "2022-04-20T06:05:43.387237",
     "status": "completed"
    },
    "tags": []
   },
   "outputs": [],
   "source": [
    "def select_pseudo_labeled_test(df_train, df, th=0.99):\n",
    "    temp_df = df.loc[((df['state_proba']>=th) | (df['state_proba']<=(1 - th))), :]\n",
    "    temp_df['state_proba'] = temp_df['state_proba'].round()\n",
    "    temp_df = temp_df.rename(columns={'state_proba':'state'})\n",
    "    new_df = pd.concat([df_train, temp_df])\n",
    "    return new_df"
   ]
  },
  {
   "cell_type": "code",
   "execution_count": 15,
   "id": "58b951ec",
   "metadata": {
    "execution": {
     "iopub.execute_input": "2022-04-20T06:05:43.484074Z",
     "iopub.status.busy": "2022-04-20T06:05:43.483371Z",
     "iopub.status.idle": "2022-04-20T06:05:43.485874Z",
     "shell.execute_reply": "2022-04-20T06:05:43.486330Z",
     "shell.execute_reply.started": "2022-04-05T12:57:10.776936Z"
    },
    "papermill": {
     "duration": 0.037445,
     "end_time": "2022-04-20T06:05:43.486525",
     "exception": false,
     "start_time": "2022-04-20T06:05:43.449080",
     "status": "completed"
    },
    "tags": []
   },
   "outputs": [],
   "source": [
    "def submission_with_pseudo_labels(df_train, df_test, df_pseudo, th_list=[]):\n",
    "    from lightgbm import LGBMClassifier\n",
    "    \n",
    "    for th in th_list:\n",
    "        new_df = select_pseudo_labeled_test(df_train, df_pseudo, th=th)\n",
    "        X_test = df_test.drop(['sequence', 'subject'], 1)\n",
    "        X_train = new_df[X_test.columns]\n",
    "        y_train = new_df[['state']]\n",
    "\n",
    "        model = LGBMClassifier()\n",
    "        model.fit(X_train, y_train)\n",
    "        sub['state'] = model.predict_proba(X_test)[:, 1]\n",
    "        sub.to_csv(f'submission_{th}.csv', index=False)"
   ]
  },
  {
   "cell_type": "code",
   "execution_count": 16,
   "id": "000db2f8",
   "metadata": {
    "execution": {
     "iopub.execute_input": "2022-04-20T06:05:43.549959Z",
     "iopub.status.busy": "2022-04-20T06:05:43.547767Z",
     "iopub.status.idle": "2022-04-20T06:06:33.079316Z",
     "shell.execute_reply": "2022-04-20T06:06:33.078674Z",
     "shell.execute_reply.started": "2022-04-05T12:57:17.657922Z"
    },
    "papermill": {
     "duration": 49.566738,
     "end_time": "2022-04-20T06:06:33.079468",
     "exception": false,
     "start_time": "2022-04-20T06:05:43.512730",
     "status": "completed"
    },
    "tags": []
   },
   "outputs": [],
   "source": [
    "submission_with_pseudo_labels(train_fe, test_fe, pseudo_labeled_test, \n",
    "                              th_list=[0.99, 0.98, 0.97, 0.96, 0.95, 0.94, 0.93, 0.92, 0.91, 0.9])"
   ]
  }
 ],
 "metadata": {
  "kernelspec": {
   "display_name": "Python 3",
   "language": "python",
   "name": "python3"
  },
  "language_info": {
   "codemirror_mode": {
    "name": "ipython",
    "version": 3
   },
   "file_extension": ".py",
   "mimetype": "text/x-python",
   "name": "python",
   "nbconvert_exporter": "python",
   "pygments_lexer": "ipython3",
   "version": "3.7.12"
  },
  "papermill": {
   "default_parameters": {},
   "duration": 451.776712,
   "end_time": "2022-04-20T06:06:33.918667",
   "environment_variables": {},
   "exception": null,
   "input_path": "__notebook__.ipynb",
   "output_path": "__notebook__.ipynb",
   "parameters": {},
   "start_time": "2022-04-20T05:59:02.141955",
   "version": "2.3.3"
  }
 },
 "nbformat": 4,
 "nbformat_minor": 5
}
