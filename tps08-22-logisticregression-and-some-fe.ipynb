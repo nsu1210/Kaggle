{
 "cells": [
  {
   "cell_type": "markdown",
   "id": "e01c160e",
   "metadata": {
    "papermill": {
     "duration": 0.009781,
     "end_time": "2022-08-28T20:35:05.436045",
     "exception": false,
     "start_time": "2022-08-28T20:35:05.426264",
     "status": "completed"
    },
    "tags": []
   },
   "source": [
    "<blockquote style=\"margin-right:auto; margin-left:auto; color:white; background-color: lightseagreen; padding: 1em; margin:24px;\">\n",
    "\n",
    "<font color=\"white\" size=+3.0><b>Summary</b></font>  \n",
    "        \n",
    "<ul>\n",
    "<li> Tried several classifiers (such as LogisticRegression, ExtraTrees and kNN, VotingClassifiers, etc..) and blended submission at older versions of the NB. However, the current best model is found to be a single Logistic regression model.\n",
    "<li> Also tried feature engineering by creating new features.\n",
    "<li> Only used 12 features (6 original and 6 derived). Going forward <strong> this might change with further experiments</strong>.                                                                                                                \n",
    "    \n",
    "</ul>        \n",
    "</blockquote>\n",
    "\n",
    "#### Import Libararies"
   ]
  },
  {
   "cell_type": "code",
   "execution_count": 1,
   "id": "21e27c6d",
   "metadata": {
    "_kg_hide-input": true,
    "_kg_hide-output": true,
    "execution": {
     "iopub.execute_input": "2022-08-28T20:35:05.455089Z",
     "iopub.status.busy": "2022-08-28T20:35:05.454349Z",
     "iopub.status.idle": "2022-08-28T20:35:07.430832Z",
     "shell.execute_reply": "2022-08-28T20:35:07.429697Z"
    },
    "papermill": {
     "duration": 1.989464,
     "end_time": "2022-08-28T20:35:07.433967",
     "exception": false,
     "start_time": "2022-08-28T20:35:05.444503",
     "status": "completed"
    },
    "tags": []
   },
   "outputs": [
    {
     "name": "stdout",
     "output_type": "stream",
     "text": [
      "/kaggle/input/tabular-playground-series-aug-2022/sample_submission.csv\n",
      "/kaggle/input/tabular-playground-series-aug-2022/train.csv\n",
      "/kaggle/input/tabular-playground-series-aug-2022/test.csv\n"
     ]
    }
   ],
   "source": [
    "# all may not be needed\n",
    "\n",
    "import os\n",
    "import sys\n",
    "import numpy as np \n",
    "import pandas as pd \n",
    "import seaborn as sns\n",
    "import matplotlib.pylab as plt\n",
    "from colorama import Fore, Back, Style\n",
    "\n",
    "\n",
    "from scipy.stats import uniform\n",
    "from sklearn.linear_model import LogisticRegression,HuberRegressor\n",
    "from sklearn.ensemble import RandomForestClassifier,ExtraTreesClassifier\n",
    "from sklearn.neighbors import KNeighborsClassifier\n",
    "from sklearn.naive_bayes import GaussianNB\n",
    "from sklearn.discriminant_analysis import LinearDiscriminantAnalysis\n",
    "from sklearn.ensemble import StackingClassifier,VotingClassifier,StackingClassifier\n",
    "\n",
    "from catboost import CatBoostClassifier\n",
    "\n",
    "from sklearn.model_selection import cross_validate, StratifiedKFold, RepeatedStratifiedKFold, RandomizedSearchCV, GridSearchCV\n",
    "from sklearn.metrics import confusion_matrix, plot_confusion_matrix, classification_report, roc_auc_score, accuracy_score\n",
    "from sklearn import metrics\n",
    "\n",
    "from sklearn.preprocessing import LabelEncoder\n",
    "from sklearn.experimental import enable_iterative_imputer\n",
    "from sklearn.impute import SimpleImputer, KNNImputer, IterativeImputer\n",
    "from sklearn import preprocessing\n",
    "from sklearn.preprocessing import OneHotEncoder, RobustScaler, PowerTransformer, LabelEncoder, StandardScaler, MinMaxScaler\n",
    "\n",
    "for dirname, _, filenames in os.walk('/kaggle/input'):\n",
    "    for filename in filenames:\n",
    "        print(os.path.join(dirname, filename))\n",
    "        \n",
    "import warnings\n",
    "warnings.filterwarnings('ignore')"
   ]
  },
  {
   "cell_type": "code",
   "execution_count": 2,
   "id": "6542041d",
   "metadata": {
    "execution": {
     "iopub.execute_input": "2022-08-28T20:35:07.451793Z",
     "iopub.status.busy": "2022-08-28T20:35:07.451376Z",
     "iopub.status.idle": "2022-08-28T20:35:07.727515Z",
     "shell.execute_reply": "2022-08-28T20:35:07.726416Z"
    },
    "papermill": {
     "duration": 0.288021,
     "end_time": "2022-08-28T20:35:07.730326",
     "exception": false,
     "start_time": "2022-08-28T20:35:07.442305",
     "status": "completed"
    },
    "tags": []
   },
   "outputs": [],
   "source": [
    "train = pd.read_csv('../input/tabular-playground-series-aug-2022/train.csv')\n",
    "test = pd.read_csv('../input/tabular-playground-series-aug-2022/test.csv')\n",
    "submission = pd.read_csv('../input/tabular-playground-series-aug-2022/sample_submission.csv')"
   ]
  },
  {
   "cell_type": "markdown",
   "id": "e4c7b9fe",
   "metadata": {
    "papermill": {
     "duration": 0.007607,
     "end_time": "2022-08-28T20:35:07.746240",
     "exception": false,
     "start_time": "2022-08-28T20:35:07.738633",
     "status": "completed"
    },
    "tags": []
   },
   "source": [
    "### 1. Dataset Overview"
   ]
  },
  {
   "cell_type": "code",
   "execution_count": 3,
   "id": "6900e7ea",
   "metadata": {
    "execution": {
     "iopub.execute_input": "2022-08-28T20:35:07.765333Z",
     "iopub.status.busy": "2022-08-28T20:35:07.764513Z",
     "iopub.status.idle": "2022-08-28T20:35:07.800945Z",
     "shell.execute_reply": "2022-08-28T20:35:07.799740Z"
    },
    "papermill": {
     "duration": 0.048796,
     "end_time": "2022-08-28T20:35:07.803427",
     "exception": false,
     "start_time": "2022-08-28T20:35:07.754631",
     "status": "completed"
    },
    "tags": []
   },
   "outputs": [
    {
     "data": {
      "text/html": [
       "<div>\n",
       "<style scoped>\n",
       "    .dataframe tbody tr th:only-of-type {\n",
       "        vertical-align: middle;\n",
       "    }\n",
       "\n",
       "    .dataframe tbody tr th {\n",
       "        vertical-align: top;\n",
       "    }\n",
       "\n",
       "    .dataframe thead th {\n",
       "        text-align: right;\n",
       "    }\n",
       "</style>\n",
       "<table border=\"1\" class=\"dataframe\">\n",
       "  <thead>\n",
       "    <tr style=\"text-align: right;\">\n",
       "      <th></th>\n",
       "      <th>id</th>\n",
       "      <th>product_code</th>\n",
       "      <th>loading</th>\n",
       "      <th>attribute_0</th>\n",
       "      <th>attribute_1</th>\n",
       "      <th>attribute_2</th>\n",
       "      <th>attribute_3</th>\n",
       "      <th>measurement_0</th>\n",
       "      <th>measurement_1</th>\n",
       "      <th>measurement_2</th>\n",
       "      <th>...</th>\n",
       "      <th>measurement_9</th>\n",
       "      <th>measurement_10</th>\n",
       "      <th>measurement_11</th>\n",
       "      <th>measurement_12</th>\n",
       "      <th>measurement_13</th>\n",
       "      <th>measurement_14</th>\n",
       "      <th>measurement_15</th>\n",
       "      <th>measurement_16</th>\n",
       "      <th>measurement_17</th>\n",
       "      <th>failure</th>\n",
       "    </tr>\n",
       "  </thead>\n",
       "  <tbody>\n",
       "    <tr>\n",
       "      <th>0</th>\n",
       "      <td>0</td>\n",
       "      <td>A</td>\n",
       "      <td>80.10</td>\n",
       "      <td>material_7</td>\n",
       "      <td>material_8</td>\n",
       "      <td>9</td>\n",
       "      <td>5</td>\n",
       "      <td>7</td>\n",
       "      <td>8</td>\n",
       "      <td>4</td>\n",
       "      <td>...</td>\n",
       "      <td>10.672</td>\n",
       "      <td>15.859</td>\n",
       "      <td>17.594</td>\n",
       "      <td>15.193</td>\n",
       "      <td>15.029</td>\n",
       "      <td>NaN</td>\n",
       "      <td>13.034</td>\n",
       "      <td>14.684</td>\n",
       "      <td>764.100</td>\n",
       "      <td>0</td>\n",
       "    </tr>\n",
       "    <tr>\n",
       "      <th>1</th>\n",
       "      <td>1</td>\n",
       "      <td>A</td>\n",
       "      <td>84.89</td>\n",
       "      <td>material_7</td>\n",
       "      <td>material_8</td>\n",
       "      <td>9</td>\n",
       "      <td>5</td>\n",
       "      <td>14</td>\n",
       "      <td>3</td>\n",
       "      <td>3</td>\n",
       "      <td>...</td>\n",
       "      <td>12.448</td>\n",
       "      <td>17.947</td>\n",
       "      <td>17.915</td>\n",
       "      <td>11.755</td>\n",
       "      <td>14.732</td>\n",
       "      <td>15.425</td>\n",
       "      <td>14.395</td>\n",
       "      <td>15.631</td>\n",
       "      <td>682.057</td>\n",
       "      <td>0</td>\n",
       "    </tr>\n",
       "    <tr>\n",
       "      <th>2</th>\n",
       "      <td>2</td>\n",
       "      <td>A</td>\n",
       "      <td>82.43</td>\n",
       "      <td>material_7</td>\n",
       "      <td>material_8</td>\n",
       "      <td>9</td>\n",
       "      <td>5</td>\n",
       "      <td>12</td>\n",
       "      <td>1</td>\n",
       "      <td>5</td>\n",
       "      <td>...</td>\n",
       "      <td>12.715</td>\n",
       "      <td>15.607</td>\n",
       "      <td>NaN</td>\n",
       "      <td>13.798</td>\n",
       "      <td>16.711</td>\n",
       "      <td>18.631</td>\n",
       "      <td>14.094</td>\n",
       "      <td>17.946</td>\n",
       "      <td>663.376</td>\n",
       "      <td>0</td>\n",
       "    </tr>\n",
       "  </tbody>\n",
       "</table>\n",
       "<p>3 rows × 26 columns</p>\n",
       "</div>"
      ],
      "text/plain": [
       "   id product_code  loading attribute_0 attribute_1  attribute_2  attribute_3  \\\n",
       "0   0            A    80.10  material_7  material_8            9            5   \n",
       "1   1            A    84.89  material_7  material_8            9            5   \n",
       "2   2            A    82.43  material_7  material_8            9            5   \n",
       "\n",
       "   measurement_0  measurement_1  measurement_2  ...  measurement_9  \\\n",
       "0              7              8              4  ...         10.672   \n",
       "1             14              3              3  ...         12.448   \n",
       "2             12              1              5  ...         12.715   \n",
       "\n",
       "   measurement_10  measurement_11  measurement_12  measurement_13  \\\n",
       "0          15.859          17.594          15.193          15.029   \n",
       "1          17.947          17.915          11.755          14.732   \n",
       "2          15.607             NaN          13.798          16.711   \n",
       "\n",
       "   measurement_14  measurement_15  measurement_16  measurement_17  failure  \n",
       "0             NaN          13.034          14.684         764.100        0  \n",
       "1          15.425          14.395          15.631         682.057        0  \n",
       "2          18.631          14.094          17.946         663.376        0  \n",
       "\n",
       "[3 rows x 26 columns]"
      ]
     },
     "execution_count": 3,
     "metadata": {},
     "output_type": "execute_result"
    }
   ],
   "source": [
    "train.head(3)"
   ]
  },
  {
   "cell_type": "code",
   "execution_count": 4,
   "id": "b51801a1",
   "metadata": {
    "execution": {
     "iopub.execute_input": "2022-08-28T20:35:07.822803Z",
     "iopub.status.busy": "2022-08-28T20:35:07.821785Z",
     "iopub.status.idle": "2022-08-28T20:35:07.848278Z",
     "shell.execute_reply": "2022-08-28T20:35:07.847154Z"
    },
    "papermill": {
     "duration": 0.039319,
     "end_time": "2022-08-28T20:35:07.851074",
     "exception": false,
     "start_time": "2022-08-28T20:35:07.811755",
     "status": "completed"
    },
    "tags": []
   },
   "outputs": [
    {
     "data": {
      "text/html": [
       "<div>\n",
       "<style scoped>\n",
       "    .dataframe tbody tr th:only-of-type {\n",
       "        vertical-align: middle;\n",
       "    }\n",
       "\n",
       "    .dataframe tbody tr th {\n",
       "        vertical-align: top;\n",
       "    }\n",
       "\n",
       "    .dataframe thead th {\n",
       "        text-align: right;\n",
       "    }\n",
       "</style>\n",
       "<table border=\"1\" class=\"dataframe\">\n",
       "  <thead>\n",
       "    <tr style=\"text-align: right;\">\n",
       "      <th></th>\n",
       "      <th>id</th>\n",
       "      <th>product_code</th>\n",
       "      <th>loading</th>\n",
       "      <th>attribute_0</th>\n",
       "      <th>attribute_1</th>\n",
       "      <th>attribute_2</th>\n",
       "      <th>attribute_3</th>\n",
       "      <th>measurement_0</th>\n",
       "      <th>measurement_1</th>\n",
       "      <th>measurement_2</th>\n",
       "      <th>...</th>\n",
       "      <th>measurement_8</th>\n",
       "      <th>measurement_9</th>\n",
       "      <th>measurement_10</th>\n",
       "      <th>measurement_11</th>\n",
       "      <th>measurement_12</th>\n",
       "      <th>measurement_13</th>\n",
       "      <th>measurement_14</th>\n",
       "      <th>measurement_15</th>\n",
       "      <th>measurement_16</th>\n",
       "      <th>measurement_17</th>\n",
       "    </tr>\n",
       "  </thead>\n",
       "  <tbody>\n",
       "    <tr>\n",
       "      <th>0</th>\n",
       "      <td>26570</td>\n",
       "      <td>F</td>\n",
       "      <td>119.57</td>\n",
       "      <td>material_5</td>\n",
       "      <td>material_6</td>\n",
       "      <td>6</td>\n",
       "      <td>4</td>\n",
       "      <td>6</td>\n",
       "      <td>9</td>\n",
       "      <td>6</td>\n",
       "      <td>...</td>\n",
       "      <td>18.654</td>\n",
       "      <td>10.802</td>\n",
       "      <td>15.909</td>\n",
       "      <td>18.070</td>\n",
       "      <td>13.772</td>\n",
       "      <td>13.659</td>\n",
       "      <td>16.825</td>\n",
       "      <td>13.742</td>\n",
       "      <td>17.710</td>\n",
       "      <td>634.612</td>\n",
       "    </tr>\n",
       "    <tr>\n",
       "      <th>1</th>\n",
       "      <td>26571</td>\n",
       "      <td>F</td>\n",
       "      <td>113.51</td>\n",
       "      <td>material_5</td>\n",
       "      <td>material_6</td>\n",
       "      <td>6</td>\n",
       "      <td>4</td>\n",
       "      <td>11</td>\n",
       "      <td>8</td>\n",
       "      <td>0</td>\n",
       "      <td>...</td>\n",
       "      <td>19.368</td>\n",
       "      <td>12.032</td>\n",
       "      <td>13.998</td>\n",
       "      <td>NaN</td>\n",
       "      <td>12.473</td>\n",
       "      <td>17.468</td>\n",
       "      <td>16.708</td>\n",
       "      <td>14.776</td>\n",
       "      <td>14.102</td>\n",
       "      <td>537.037</td>\n",
       "    </tr>\n",
       "    <tr>\n",
       "      <th>2</th>\n",
       "      <td>26572</td>\n",
       "      <td>F</td>\n",
       "      <td>112.16</td>\n",
       "      <td>material_5</td>\n",
       "      <td>material_6</td>\n",
       "      <td>6</td>\n",
       "      <td>4</td>\n",
       "      <td>8</td>\n",
       "      <td>12</td>\n",
       "      <td>4</td>\n",
       "      <td>...</td>\n",
       "      <td>17.774</td>\n",
       "      <td>11.743</td>\n",
       "      <td>17.046</td>\n",
       "      <td>18.086</td>\n",
       "      <td>10.907</td>\n",
       "      <td>13.363</td>\n",
       "      <td>15.737</td>\n",
       "      <td>17.065</td>\n",
       "      <td>16.021</td>\n",
       "      <td>658.995</td>\n",
       "    </tr>\n",
       "  </tbody>\n",
       "</table>\n",
       "<p>3 rows × 25 columns</p>\n",
       "</div>"
      ],
      "text/plain": [
       "      id product_code  loading attribute_0 attribute_1  attribute_2  \\\n",
       "0  26570            F   119.57  material_5  material_6            6   \n",
       "1  26571            F   113.51  material_5  material_6            6   \n",
       "2  26572            F   112.16  material_5  material_6            6   \n",
       "\n",
       "   attribute_3  measurement_0  measurement_1  measurement_2  ...  \\\n",
       "0            4              6              9              6  ...   \n",
       "1            4             11              8              0  ...   \n",
       "2            4              8             12              4  ...   \n",
       "\n",
       "   measurement_8  measurement_9  measurement_10  measurement_11  \\\n",
       "0         18.654         10.802          15.909          18.070   \n",
       "1         19.368         12.032          13.998             NaN   \n",
       "2         17.774         11.743          17.046          18.086   \n",
       "\n",
       "   measurement_12  measurement_13  measurement_14  measurement_15  \\\n",
       "0          13.772          13.659          16.825          13.742   \n",
       "1          12.473          17.468          16.708          14.776   \n",
       "2          10.907          13.363          15.737          17.065   \n",
       "\n",
       "   measurement_16  measurement_17  \n",
       "0          17.710         634.612  \n",
       "1          14.102         537.037  \n",
       "2          16.021         658.995  \n",
       "\n",
       "[3 rows x 25 columns]"
      ]
     },
     "execution_count": 4,
     "metadata": {},
     "output_type": "execute_result"
    }
   ],
   "source": [
    "test.head(3)"
   ]
  },
  {
   "cell_type": "markdown",
   "id": "d3f6f311",
   "metadata": {
    "papermill": {
     "duration": 0.00824,
     "end_time": "2022-08-28T20:35:07.868023",
     "exception": false,
     "start_time": "2022-08-28T20:35:07.859783",
     "status": "completed"
    },
    "tags": []
   },
   "source": [
    "#### Data size\n",
    "- Train dataset  has 26570 rows and 25 columns including the target column (failure).\n",
    "- Test dataset has 20775 rows and 24 columsn."
   ]
  },
  {
   "cell_type": "code",
   "execution_count": 5,
   "id": "415a3a3d",
   "metadata": {
    "execution": {
     "iopub.execute_input": "2022-08-28T20:35:07.888437Z",
     "iopub.status.busy": "2022-08-28T20:35:07.887675Z",
     "iopub.status.idle": "2022-08-28T20:35:07.896743Z",
     "shell.execute_reply": "2022-08-28T20:35:07.895795Z"
    },
    "papermill": {
     "duration": 0.021076,
     "end_time": "2022-08-28T20:35:07.898814",
     "exception": false,
     "start_time": "2022-08-28T20:35:07.877738",
     "status": "completed"
    },
    "tags": []
   },
   "outputs": [
    {
     "data": {
      "text/plain": [
       "(26570, 26)"
      ]
     },
     "metadata": {},
     "output_type": "display_data"
    },
    {
     "data": {
      "text/plain": [
       "(20775, 25)"
      ]
     },
     "metadata": {},
     "output_type": "display_data"
    }
   ],
   "source": [
    "display(train.shape)\n",
    "display(test.shape)"
   ]
  },
  {
   "cell_type": "markdown",
   "id": "aece10cb",
   "metadata": {
    "papermill": {
     "duration": 0.00855,
     "end_time": "2022-08-28T20:35:07.916250",
     "exception": false,
     "start_time": "2022-08-28T20:35:07.907700",
     "status": "completed"
    },
    "tags": []
   },
   "source": [
    "#### Null values\n",
    "- Around 3% of the data (cells) is missing in both train and test datset.\n",
    "- We will need to impute."
   ]
  },
  {
   "cell_type": "code",
   "execution_count": 6,
   "id": "4bcb2934",
   "metadata": {
    "execution": {
     "iopub.execute_input": "2022-08-28T20:35:07.936861Z",
     "iopub.status.busy": "2022-08-28T20:35:07.936153Z",
     "iopub.status.idle": "2022-08-28T20:35:07.953672Z",
     "shell.execute_reply": "2022-08-28T20:35:07.952654Z"
    },
    "papermill": {
     "duration": 0.030114,
     "end_time": "2022-08-28T20:35:07.955898",
     "exception": false,
     "start_time": "2022-08-28T20:35:07.925784",
     "status": "completed"
    },
    "tags": []
   },
   "outputs": [
    {
     "name": "stdout",
     "output_type": "stream",
     "text": [
      "Train data missing value is = 3.052013549115544 %\n",
      "Test data missing value is  = 3.0245968712394706 %\n"
     ]
    }
   ],
   "source": [
    "print('Train data missing value is = {} %'.format(100* train.isna().sum().sum()/(len(train)*25)))\n",
    "print('Test data missing value is  = {} %'.format(100* test.isna().sum().sum()/(len(test)*25)))"
   ]
  },
  {
   "cell_type": "code",
   "execution_count": 7,
   "id": "630516b4",
   "metadata": {
    "_kg_hide-input": true,
    "execution": {
     "iopub.execute_input": "2022-08-28T20:35:07.975691Z",
     "iopub.status.busy": "2022-08-28T20:35:07.974986Z",
     "iopub.status.idle": "2022-08-28T20:35:08.004301Z",
     "shell.execute_reply": "2022-08-28T20:35:08.003538Z"
    },
    "papermill": {
     "duration": 0.041688,
     "end_time": "2022-08-28T20:35:08.006535",
     "exception": false,
     "start_time": "2022-08-28T20:35:07.964847",
     "status": "completed"
    },
    "tags": []
   },
   "outputs": [
    {
     "name": "stdout",
     "output_type": "stream",
     "text": [
      "Train data cols with missing values ares: \n",
      " ['loading', 'measurement_3', 'measurement_4', 'measurement_5', 'measurement_6', 'measurement_7', 'measurement_8', 'measurement_9', 'measurement_10', 'measurement_11', 'measurement_12', 'measurement_13', 'measurement_14', 'measurement_15', 'measurement_16', 'measurement_17']\n",
      "\n",
      "\n",
      "Train data cols with missing values ares: \n",
      " ['loading', 'measurement_3', 'measurement_4', 'measurement_5', 'measurement_6', 'measurement_7', 'measurement_8', 'measurement_9', 'measurement_10', 'measurement_11', 'measurement_12', 'measurement_13', 'measurement_14', 'measurement_15', 'measurement_16', 'measurement_17']\n"
     ]
    }
   ],
   "source": [
    "train_na_cols = [col for col in train.columns if train[col].isnull().sum()!=0]\n",
    "print('Train data cols with missing values ares: \\n', train_na_cols)\n",
    "\n",
    "print('\\n')\n",
    "\n",
    "test_na_cols = [col for col in test.columns if test[col].isnull().sum()!=0]\n",
    "print('Train data cols with missing values ares: \\n', test_na_cols)"
   ]
  },
  {
   "cell_type": "code",
   "execution_count": 8,
   "id": "f5eb5af6",
   "metadata": {
    "_kg_hide-input": true,
    "_kg_hide-output": true,
    "execution": {
     "iopub.execute_input": "2022-08-28T20:35:08.026435Z",
     "iopub.status.busy": "2022-08-28T20:35:08.025780Z",
     "iopub.status.idle": "2022-08-28T20:35:20.665417Z",
     "shell.execute_reply": "2022-08-28T20:35:20.664221Z"
    },
    "papermill": {
     "duration": 12.652637,
     "end_time": "2022-08-28T20:35:20.668173",
     "exception": false,
     "start_time": "2022-08-28T20:35:08.015536",
     "status": "completed"
    },
    "tags": []
   },
   "outputs": [
    {
     "name": "stdout",
     "output_type": "stream",
     "text": [
      "Requirement already satisfied: missingno in /opt/conda/lib/python3.7/site-packages (0.4.2)\r\n",
      "Requirement already satisfied: seaborn in /opt/conda/lib/python3.7/site-packages (from missingno) (0.11.2)\r\n",
      "Requirement already satisfied: scipy in /opt/conda/lib/python3.7/site-packages (from missingno) (1.7.3)\r\n",
      "Requirement already satisfied: matplotlib in /opt/conda/lib/python3.7/site-packages (from missingno) (3.5.2)\r\n",
      "Requirement already satisfied: numpy in /opt/conda/lib/python3.7/site-packages (from missingno) (1.21.6)\r\n",
      "Requirement already satisfied: fonttools>=4.22.0 in /opt/conda/lib/python3.7/site-packages (from matplotlib->missingno) (4.33.3)\r\n",
      "Requirement already satisfied: pillow>=6.2.0 in /opt/conda/lib/python3.7/site-packages (from matplotlib->missingno) (9.1.1)\r\n",
      "Requirement already satisfied: python-dateutil>=2.7 in /opt/conda/lib/python3.7/site-packages (from matplotlib->missingno) (2.8.2)\r\n",
      "Requirement already satisfied: pyparsing>=2.2.1 in /opt/conda/lib/python3.7/site-packages (from matplotlib->missingno) (3.0.9)\r\n",
      "Requirement already satisfied: cycler>=0.10 in /opt/conda/lib/python3.7/site-packages (from matplotlib->missingno) (0.11.0)\r\n",
      "Requirement already satisfied: kiwisolver>=1.0.1 in /opt/conda/lib/python3.7/site-packages (from matplotlib->missingno) (1.4.3)\r\n",
      "Requirement already satisfied: packaging>=20.0 in /opt/conda/lib/python3.7/site-packages (from matplotlib->missingno) (21.3)\r\n",
      "Requirement already satisfied: pandas>=0.23 in /opt/conda/lib/python3.7/site-packages (from seaborn->missingno) (1.3.5)\r\n",
      "Requirement already satisfied: typing-extensions in /opt/conda/lib/python3.7/site-packages (from kiwisolver>=1.0.1->matplotlib->missingno) (4.1.1)\r\n",
      "Requirement already satisfied: pytz>=2017.3 in /opt/conda/lib/python3.7/site-packages (from pandas>=0.23->seaborn->missingno) (2022.1)\r\n",
      "Requirement already satisfied: six>=1.5 in /opt/conda/lib/python3.7/site-packages (from python-dateutil>=2.7->matplotlib->missingno) (1.16.0)\r\n",
      "\u001b[33mWARNING: Running pip as the 'root' user can result in broken permissions and conflicting behaviour with the system package manager. It is recommended to use a virtual environment instead: https://pip.pypa.io/warnings/venv\u001b[0m\u001b[33m\r\n",
      "\u001b[0m"
     ]
    }
   ],
   "source": [
    "!pip install missingno"
   ]
  },
  {
   "cell_type": "code",
   "execution_count": 9,
   "id": "fd3141c1",
   "metadata": {
    "execution": {
     "iopub.execute_input": "2022-08-28T20:35:20.689594Z",
     "iopub.status.busy": "2022-08-28T20:35:20.688767Z",
     "iopub.status.idle": "2022-08-28T20:35:21.497938Z",
     "shell.execute_reply": "2022-08-28T20:35:21.496849Z"
    },
    "papermill": {
     "duration": 0.822902,
     "end_time": "2022-08-28T20:35:21.500313",
     "exception": false,
     "start_time": "2022-08-28T20:35:20.677411",
     "status": "completed"
    },
    "tags": []
   },
   "outputs": [
    {
     "data": {
      "text/plain": [
       "<AxesSubplot:>"
      ]
     },
     "execution_count": 9,
     "metadata": {},
     "output_type": "execute_result"
    },
    {
     "data": {
      "image/png": "[encoded data removed]",
      "text/plain": [
       "<Figure size 1152x576 with 2 Axes>"
      ]
     },
     "metadata": {
      "needs_background": "light"
     },
     "output_type": "display_data"
    }
   ],
   "source": [
    "import missingno as msno\n",
    "msno.matrix(train.drop('id', axis=1), color=(0.55, 0.75, 0.85), figsize=(16, 8))"
   ]
  },
  {
   "cell_type": "markdown",
   "id": "5fca7909",
   "metadata": {
    "papermill": {
     "duration": 0.009939,
     "end_time": "2022-08-28T20:35:21.520348",
     "exception": false,
     "start_time": "2022-08-28T20:35:21.510409",
     "status": "completed"
    },
    "tags": []
   },
   "source": [
    "#### Correlation plots\n",
    "- Plotted the correlation heatmap to get a global idea of what features might be related to each other and may lead us to some feature engineering.\n",
    "- We see two groups where feature-to-feature correlation might exist: \n",
    "\n",
    "> `measurement_17` seems to be correlated with `measurements_5 and 8`\n",
    "\n",
    "> There seem to be also some sort of correlation between `attributes_2, 3` and `measurements_0, 1`\n",
    "\n",
    "- There could be an opportunity for a new feature to be derived from these.\n"
   ]
  },
  {
   "cell_type": "code",
   "execution_count": 10,
   "id": "58f020e1",
   "metadata": {
    "execution": {
     "iopub.execute_input": "2022-08-28T20:35:21.542775Z",
     "iopub.status.busy": "2022-08-28T20:35:21.542067Z",
     "iopub.status.idle": "2022-08-28T20:35:22.284204Z",
     "shell.execute_reply": "2022-08-28T20:35:22.283364Z"
    },
    "papermill": {
     "duration": 0.755524,
     "end_time": "2022-08-28T20:35:22.286303",
     "exception": false,
     "start_time": "2022-08-28T20:35:21.530779",
     "status": "completed"
    },
    "tags": []
   },
   "outputs": [
    {
     "data": {
      "image/png": "[encoded data removed]",
      "text/plain": [
       "<Figure size 864x864 with 2 Axes>"
      ]
     },
     "metadata": {},
     "output_type": "display_data"
    }
   ],
   "source": [
    "corr = train.drop('id', axis=1).corr()\n",
    "mask = np.triu(np.ones_like(corr, dtype=bool))\n",
    "f, ax = plt.subplots(figsize=(12, 12), facecolor='#EAECEE')\n",
    "cmap = sns.color_palette(\"rainbow\", as_cmap=True)\n",
    "sns.heatmap(corr, mask=mask, cmap=cmap, vmax=1, vmin=-1., center=0, annot=False,\n",
    "            square=True, linewidths=.5, cbar_kws={\"shrink\": 0.75})\n",
    "\n",
    "ax.set_title('Correlation heatmap', fontsize=24, y= 1.05)\n",
    "colorbar = ax.collections[0].colorbar"
   ]
  },
  {
   "cell_type": "code",
   "execution_count": 11,
   "id": "3556b05e",
   "metadata": {
    "execution": {
     "iopub.execute_input": "2022-08-28T20:35:22.310864Z",
     "iopub.status.busy": "2022-08-28T20:35:22.310168Z",
     "iopub.status.idle": "2022-08-28T20:35:22.327063Z",
     "shell.execute_reply": "2022-08-28T20:35:22.325852Z"
    },
    "papermill": {
     "duration": 0.031976,
     "end_time": "2022-08-28T20:35:22.329690",
     "exception": false,
     "start_time": "2022-08-28T20:35:22.297714",
     "status": "completed"
    },
    "tags": []
   },
   "outputs": [
    {
     "data": {
      "text/plain": [
       "((26570, 25), (20775, 25))"
      ]
     },
     "execution_count": 11,
     "metadata": {},
     "output_type": "execute_result"
    }
   ],
   "source": [
    "target = train.pop('failure')\n",
    "data = pd.concat([train, test])\n",
    "train.shape,test.shape"
   ]
  },
  {
   "cell_type": "markdown",
   "id": "8e4e92b4",
   "metadata": {
    "papermill": {
     "duration": 0.011003,
     "end_time": "2022-08-28T20:35:22.352005",
     "exception": false,
     "start_time": "2022-08-28T20:35:22.341002",
     "status": "completed"
    },
    "tags": []
   },
   "source": [
    "### 2. Pre-processing/FE\n",
    "- Credits to the awosem notebook of Sawaimilert https://www.kaggle.com/code/takanashihumbert/tps-aug22-lb-0-59013\n",
    "\n",
    "**Notes:**\n",
    "- Tried different values of `n_neighbors` for the KNNImpute and found `n_neighbors=3` to be the best \n",
    "- I also tries other function such as `IterativeImputer` and `LGBMImputer` but `KNNImputer` was better than the rest.\n",
    "- A new feature called `area` is created by multiplying `attribute_3` and `attrinute_3`.\n",
    "- Measuerements 3 to 17 look very similar and are averaged to one new features, `measurement_avg`.\n",
    "- Two other features are derived from [Ambros' notebook](https://www.kaggle.com/code/ambrosm/tpsaug22-eda-which-makes-sense).  (`m3_missing` and `m5_missing`)"
   ]
  },
  {
   "cell_type": "code",
   "execution_count": 12,
   "id": "e89cff66",
   "metadata": {
    "_kg_hide-input": true,
    "_kg_hide-output": true,
    "execution": {
     "iopub.execute_input": "2022-08-28T20:35:22.377352Z",
     "iopub.status.busy": "2022-08-28T20:35:22.376596Z",
     "iopub.status.idle": "2022-08-28T20:35:43.775016Z",
     "shell.execute_reply": "2022-08-28T20:35:43.773572Z"
    },
    "papermill": {
     "duration": 21.414023,
     "end_time": "2022-08-28T20:35:43.777541",
     "exception": false,
     "start_time": "2022-08-28T20:35:22.363518",
     "status": "completed"
    },
    "tags": []
   },
   "outputs": [
    {
     "name": "stdout",
     "output_type": "stream",
     "text": [
      "Columns selected by correlation sum of the 3 first rows : \n"
     ]
    },
    {
     "data": {
      "text/html": [
       "<div>\n",
       "<style scoped>\n",
       "    .dataframe tbody tr th:only-of-type {\n",
       "        vertical-align: middle;\n",
       "    }\n",
       "\n",
       "    .dataframe tbody tr th {\n",
       "        vertical-align: top;\n",
       "    }\n",
       "\n",
       "    .dataframe thead th {\n",
       "        text-align: right;\n",
       "    }\n",
       "</style>\n",
       "<table border=\"1\" class=\"dataframe\">\n",
       "  <thead>\n",
       "    <tr style=\"text-align: right;\">\n",
       "      <th></th>\n",
       "      <th>Selected columns</th>\n",
       "      <th>correlation total</th>\n",
       "    </tr>\n",
       "  </thead>\n",
       "  <tbody>\n",
       "    <tr>\n",
       "      <th>0</th>\n",
       "      <td>measurement_8</td>\n",
       "      <td>0.448</td>\n",
       "    </tr>\n",
       "    <tr>\n",
       "      <th>1</th>\n",
       "      <td>measurement_11</td>\n",
       "      <td>0.395</td>\n",
       "    </tr>\n",
       "    <tr>\n",
       "      <th>2</th>\n",
       "      <td>measurement_5</td>\n",
       "      <td>0.376</td>\n",
       "    </tr>\n",
       "    <tr>\n",
       "      <th>3</th>\n",
       "      <td>measurement_6</td>\n",
       "      <td>0.359</td>\n",
       "    </tr>\n",
       "    <tr>\n",
       "      <th>4</th>\n",
       "      <td>measurement_7</td>\n",
       "      <td>0.330</td>\n",
       "    </tr>\n",
       "    <tr>\n",
       "      <th>5</th>\n",
       "      <td>measurement_4</td>\n",
       "      <td>0.328</td>\n",
       "    </tr>\n",
       "    <tr>\n",
       "      <th>6</th>\n",
       "      <td>measurement_15</td>\n",
       "      <td>0.301</td>\n",
       "    </tr>\n",
       "    <tr>\n",
       "      <th>7</th>\n",
       "      <td>measurement_10</td>\n",
       "      <td>0.300</td>\n",
       "    </tr>\n",
       "    <tr>\n",
       "      <th>8</th>\n",
       "      <td>measurement_16</td>\n",
       "      <td>0.252</td>\n",
       "    </tr>\n",
       "    <tr>\n",
       "      <th>9</th>\n",
       "      <td>measurement_14</td>\n",
       "      <td>0.225</td>\n",
       "    </tr>\n",
       "  </tbody>\n",
       "</table>\n",
       "</div>"
      ],
      "text/plain": [
       "  Selected columns  correlation total\n",
       "0    measurement_8              0.448\n",
       "1   measurement_11              0.395\n",
       "2    measurement_5              0.376\n",
       "3    measurement_6              0.359\n",
       "4    measurement_7              0.330\n",
       "5    measurement_4              0.328\n",
       "6   measurement_15              0.301\n",
       "7   measurement_10              0.300\n",
       "8   measurement_16              0.252\n",
       "9   measurement_14              0.225"
      ]
     },
     "metadata": {},
     "output_type": "display_data"
    },
    {
     "name": "stdout",
     "output_type": "stream",
     "text": [
      "\n",
      "-------- Product code A ----------\n",
      "\n",
      "filled by linear model :\n",
      "measurement_17 : 386\n",
      "measurement_8 : 167\n",
      "measurement_11 : 225\n",
      "measurement_5 : 113\n",
      "measurement_6 : 146\n",
      "measurement_7 : 153\n",
      "measurement_4 : 79\n",
      "measurement_15 : 273\n",
      "measurement_10 : 209\n",
      "measurement_16 : 293\n",
      "measurement_14 : 237\n",
      "\n",
      "2281 filled by linear model \n",
      "1568 filled by KNN \n",
      "\n",
      "-------- Product code B ----------\n",
      "\n",
      "filled by linear model :\n",
      "measurement_17 : 418\n",
      "measurement_8 : 165\n",
      "measurement_11 : 220\n",
      "measurement_5 : 83\n",
      "measurement_6 : 106\n",
      "measurement_7 : 174\n",
      "measurement_4 : 80\n",
      "measurement_15 : 294\n",
      "measurement_10 : 197\n",
      "measurement_16 : 358\n",
      "measurement_14 : 330\n",
      "\n",
      "2425 filled by linear model \n",
      "1550 filled by KNN \n",
      "\n",
      "-------- Product code C ----------\n",
      "\n",
      "filled by linear model :\n",
      "measurement_17 : 391\n",
      "measurement_8 : 189\n",
      "measurement_11 : 231\n",
      "measurement_5 : 141\n",
      "measurement_6 : 150\n",
      "measurement_7 : 140\n",
      "measurement_4 : 108\n",
      "measurement_15 : 319\n",
      "measurement_10 : 262\n",
      "measurement_16 : 343\n",
      "measurement_14 : 330\n",
      "\n",
      "2604 filled by linear model \n",
      "1740 filled by KNN \n",
      "\n",
      "-------- Product code D ----------\n",
      "\n",
      "filled by linear model :\n",
      "measurement_17 : 398\n",
      "measurement_8 : 134\n",
      "measurement_11 : 265\n",
      "measurement_5 : 87\n",
      "measurement_6 : 118\n",
      "measurement_7 : 146\n",
      "measurement_4 : 88\n",
      "measurement_15 : 313\n",
      "measurement_10 : 174\n",
      "measurement_16 : 322\n",
      "measurement_14 : 293\n",
      "\n",
      "2338 filled by linear model \n",
      "1635 filled by KNN \n",
      "\n",
      "-------- Product code E ----------\n",
      "\n",
      "filled by linear model :\n",
      "measurement_17 : 429\n",
      "measurement_8 : 171\n",
      "measurement_11 : 244\n",
      "measurement_5 : 113\n",
      "measurement_6 : 118\n",
      "measurement_7 : 185\n",
      "measurement_4 : 105\n",
      "measurement_15 : 315\n",
      "measurement_10 : 193\n",
      "measurement_16 : 316\n",
      "measurement_14 : 297\n",
      "\n",
      "2486 filled by linear model \n",
      "1646 filled by KNN \n",
      "\n",
      "-------- Product code F ----------\n",
      "\n",
      "filled by linear model :\n",
      "measurement_17 : 420\n",
      "measurement_8 : 194\n",
      "measurement_11 : 226\n",
      "measurement_5 : 90\n",
      "measurement_6 : 137\n",
      "measurement_7 : 147\n",
      "measurement_4 : 91\n",
      "measurement_15 : 333\n",
      "measurement_10 : 186\n",
      "measurement_16 : 356\n",
      "measurement_14 : 348\n",
      "\n",
      "2528 filled by linear model \n",
      "1545 filled by KNN \n",
      "\n",
      "-------- Product code G ----------\n",
      "\n",
      "filled by linear model :\n",
      "measurement_17 : 373\n",
      "measurement_8 : 188\n",
      "measurement_11 : 221\n",
      "measurement_5 : 104\n",
      "measurement_6 : 146\n",
      "measurement_7 : 145\n",
      "measurement_4 : 93\n",
      "measurement_15 : 299\n",
      "measurement_10 : 226\n",
      "measurement_16 : 343\n",
      "measurement_14 : 268\n",
      "\n",
      "2406 filled by linear model \n",
      "1518 filled by KNN \n",
      "\n",
      "-------- Product code H ----------\n",
      "\n",
      "filled by linear model :\n",
      "measurement_17 : 361\n",
      "measurement_8 : 147\n",
      "measurement_11 : 205\n",
      "measurement_5 : 112\n",
      "measurement_6 : 121\n",
      "measurement_7 : 158\n",
      "measurement_4 : 75\n",
      "measurement_15 : 299\n",
      "measurement_10 : 217\n",
      "measurement_16 : 340\n",
      "measurement_14 : 283\n",
      "\n",
      "2318 filled by linear model \n",
      "1565 filled by KNN \n",
      "\n",
      "-------- Product code I ----------\n",
      "\n",
      "filled by linear model :\n",
      "measurement_17 : 377\n",
      "measurement_8 : 192\n",
      "measurement_11 : 209\n",
      "measurement_5 : 119\n",
      "measurement_6 : 132\n",
      "measurement_7 : 136\n",
      "measurement_4 : 89\n",
      "measurement_15 : 350\n",
      "measurement_10 : 246\n",
      "measurement_16 : 294\n",
      "measurement_14 : 283\n",
      "\n",
      "2427 filled by linear model \n",
      "1402 filled by KNN \n"
     ]
    }
   ],
   "source": [
    "data['m3_missing'] = data['measurement_3'].isnull().astype(np.int8)\n",
    "data['m5_missing'] = data['measurement_5'].isnull().astype(np.int8)\n",
    "data['area'] = data['attribute_2'] * data['attribute_3']\n",
    "\n",
    "feature = [f for f in test.columns if f.startswith('measurement') or f=='loading']\n",
    "\n",
    "# dictionary of dictionaries (for the 11 best correlated measurement columns), \n",
    "# we will use the dictionaries below to select the best correlated columns according to the product code)\n",
    "# Only for 'measurement_17' we make a 'manual' selection :\n",
    "\n",
    "full_fill_dict ={}\n",
    "full_fill_dict['measurement_17'] = {\n",
    "    'A': ['measurement_5','measurement_6','measurement_8'],\n",
    "    'B': ['measurement_4','measurement_5','measurement_7'],\n",
    "    'C': ['measurement_5','measurement_7','measurement_8','measurement_9'],\n",
    "    'D': ['measurement_5','measurement_6','measurement_7','measurement_8'],\n",
    "    'E': ['measurement_4','measurement_5','measurement_6','measurement_8'],\n",
    "    'F': ['measurement_4','measurement_5','measurement_6','measurement_7'],\n",
    "    'G': ['measurement_4','measurement_6','measurement_8','measurement_9'],\n",
    "    'H': ['measurement_4','measurement_5','measurement_7','measurement_8','measurement_9'],\n",
    "    'I': ['measurement_3','measurement_7','measurement_8']\n",
    "}\n",
    "\n",
    "\n",
    "# collect the name of the next 10 best measurement columns sorted by correlation (except 17 already done above):\n",
    "col = [col for col in test.columns if 'measurement' not in col]+ ['loading','m3_missing','m5_missing']\n",
    "a = []\n",
    "b =[]\n",
    "for x in range(3,17):\n",
    "    corr = np.absolute(data.drop(col, axis=1).corr()[f'measurement_{x}']).sort_values(ascending=False)\n",
    "    a.append(np.round(np.sum(corr[1:4]),3)) # we add the 3 first lines of the correlation values to get the \"most correlated\"\n",
    "    b.append(f'measurement_{x}')\n",
    "c = pd.DataFrame()\n",
    "c['Selected columns'] = b\n",
    "c['correlation total'] = a\n",
    "c = c.sort_values(by = 'correlation total',ascending=False).reset_index(drop = True)\n",
    "print(f'Columns selected by correlation sum of the 3 first rows : ')\n",
    "display(c.head(10))\n",
    "\n",
    "for i in range(10):\n",
    "    measurement_col = 'measurement_' + c.iloc[i,0][12:] # we select the next best correlated column \n",
    "    fill_dict ={}\n",
    "    for x in data.product_code.unique() : \n",
    "        corr = np.absolute(data[data.product_code == x].drop(col, axis=1).corr()[measurement_col]).sort_values(ascending=False)\n",
    "        measurement_col_dic = {}\n",
    "        measurement_col_dic[measurement_col] = corr[1:5].index.tolist()\n",
    "        fill_dict[x] = measurement_col_dic[measurement_col]\n",
    "    full_fill_dict[measurement_col] =fill_dict\n",
    "    \n",
    "feature = [f for f in data.columns if f.startswith('measurement') or f=='loading']\n",
    "nullValue_cols = [col for col in train.columns if train[col].isnull().sum()!=0]\n",
    "    \n",
    "for code in data.product_code.unique():\n",
    "    total_na_filled_by_linear_model = 0\n",
    "    print(f'\\n-------- Product code {code} ----------\\n')\n",
    "    print(f'filled by linear model :')\n",
    "    for measurement_col in list(full_fill_dict.keys()):\n",
    "        tmp = data[data.product_code==code]\n",
    "        column = full_fill_dict[measurement_col][code]\n",
    "        tmp_train = tmp[column+[measurement_col]].dropna(how='any')\n",
    "        tmp_test = tmp[(tmp[column].isnull().sum(axis=1)==0)&(tmp[measurement_col].isnull())]\n",
    "\n",
    "        model = HuberRegressor(epsilon=1.9)\n",
    "        model.fit(tmp_train[column], tmp_train[measurement_col])\n",
    "        data.loc[(data.product_code==code)&(data[column].isnull().sum(axis=1)==0)&(data[measurement_col].isnull()),measurement_col] = model.predict(tmp_test[column])\n",
    "        print(f'{measurement_col} : {len(tmp_test)}')\n",
    "        total_na_filled_by_linear_model += len(tmp_test)\n",
    "        \n",
    "    # others NA columns:\n",
    "    NA = data.loc[data[\"product_code\"] == code,nullValue_cols ].isnull().sum().sum()\n",
    "    model1 = KNNImputer(n_neighbors=3)\n",
    "    #model1 = LGBMImputer(n_iter=50)\n",
    "    #model1 = IterativeImputer(random_state=0) \n",
    "    data.loc[data.product_code==code, feature] = model1.fit_transform(data.loc[data.product_code==code, feature])\n",
    "    print(f'\\n{total_na_filled_by_linear_model} filled by linear model ') \n",
    "    print(f'{NA} filled by KNN ')\n",
    "    \n",
    "data['measurement_avg'] = data[[f'measurement_{i}' for i in range(3, 17)]].mean(axis=1)"
   ]
  },
  {
   "cell_type": "code",
   "execution_count": 13,
   "id": "2a9b0f08",
   "metadata": {
    "execution": {
     "iopub.execute_input": "2022-08-28T20:35:43.808981Z",
     "iopub.status.busy": "2022-08-28T20:35:43.808297Z",
     "iopub.status.idle": "2022-08-28T20:35:43.825021Z",
     "shell.execute_reply": "2022-08-28T20:35:43.823867Z"
    },
    "papermill": {
     "duration": 0.034662,
     "end_time": "2022-08-28T20:35:43.827221",
     "exception": false,
     "start_time": "2022-08-28T20:35:43.792559",
     "status": "completed"
    },
    "tags": []
   },
   "outputs": [
    {
     "name": "stdout",
     "output_type": "stream",
     "text": [
      "Missing values in the combined dataset after pre-peocessing is:  0\n"
     ]
    }
   ],
   "source": [
    "print(\"Missing values in the combined dataset after pre-peocessing is: \", format(data.isna().sum().sum()))"
   ]
  },
  {
   "cell_type": "markdown",
   "id": "861832ff",
   "metadata": {
    "papermill": {
     "duration": 0.014229,
     "end_time": "2022-08-28T20:35:43.856155",
     "exception": false,
     "start_time": "2022-08-28T20:35:43.841926",
     "status": "completed"
    },
    "tags": []
   },
   "source": [
    "#### Helper function for scaling\n",
    "\n",
    "- Standard scaler:  source code https://www.kaggle.com/code/takanashihumbert/tps-aug22-lb-0-59013"
   ]
  },
  {
   "cell_type": "code",
   "execution_count": 14,
   "id": "118d40ad",
   "metadata": {
    "_kg_hide-input": true,
    "execution": {
     "iopub.execute_input": "2022-08-28T20:35:43.888422Z",
     "iopub.status.busy": "2022-08-28T20:35:43.888006Z",
     "iopub.status.idle": "2022-08-28T20:35:43.895888Z",
     "shell.execute_reply": "2022-08-28T20:35:43.894927Z"
    },
    "papermill": {
     "duration": 0.026138,
     "end_time": "2022-08-28T20:35:43.898114",
     "exception": false,
     "start_time": "2022-08-28T20:35:43.871976",
     "status": "completed"
    },
    "tags": []
   },
   "outputs": [],
   "source": [
    "def _scale(train_data, val_data, test_data, feats):\n",
    "    scaler = StandardScaler()\n",
    "       \n",
    "    scaled_train = scaler.fit_transform(train_data[feats])\n",
    "    scaled_val = scaler.transform(val_data[feats])\n",
    "    scaled_test = scaler.transform(test_data[feats])\n",
    "    \n",
    "    #back to dataframe\n",
    "    new_train = train_data.copy()\n",
    "    new_val = val_data.copy()\n",
    "    new_test = test_data.copy()\n",
    "    \n",
    "    new_train[feats] = scaled_train\n",
    "    new_val[feats] = scaled_val\n",
    "    new_test[feats] = scaled_test\n",
    "    \n",
    "    assert len(train_data) == len(new_train)\n",
    "    assert len(val_data) == len(new_val)\n",
    "    assert len(test_data) == len(new_test)\n",
    "    \n",
    "    return new_train, new_val, new_test"
   ]
  },
  {
   "cell_type": "markdown",
   "id": "1c9bb1c5",
   "metadata": {
    "papermill": {
     "duration": 0.014507,
     "end_time": "2022-08-28T20:35:43.927731",
     "exception": false,
     "start_time": "2022-08-28T20:35:43.913224",
     "status": "completed"
    },
    "tags": []
   },
   "source": [
    "- Separate the train and test dataset"
   ]
  },
  {
   "cell_type": "code",
   "execution_count": 15,
   "id": "01e4000e",
   "metadata": {
    "execution": {
     "iopub.execute_input": "2022-08-28T20:35:43.959200Z",
     "iopub.status.busy": "2022-08-28T20:35:43.958441Z",
     "iopub.status.idle": "2022-08-28T20:35:43.965652Z",
     "shell.execute_reply": "2022-08-28T20:35:43.964475Z"
    },
    "papermill": {
     "duration": 0.026721,
     "end_time": "2022-08-28T20:35:43.969126",
     "exception": false,
     "start_time": "2022-08-28T20:35:43.942405",
     "status": "completed"
    },
    "tags": []
   },
   "outputs": [
    {
     "name": "stdout",
     "output_type": "stream",
     "text": [
      "(26570, 29) (20775, 29)\n"
     ]
    }
   ],
   "source": [
    "train = data.iloc[:train.shape[0],:]\n",
    "test = data.iloc[train.shape[0]:,:]\n",
    "print(train.shape, test.shape)\n",
    "\n",
    "groups = train.product_code\n",
    "X = train\n",
    "y = target"
   ]
  },
  {
   "cell_type": "code",
   "execution_count": 16,
   "id": "5a7d9969",
   "metadata": {
    "_kg_hide-output": true,
    "execution": {
     "iopub.execute_input": "2022-08-28T20:35:44.001656Z",
     "iopub.status.busy": "2022-08-28T20:35:44.000691Z",
     "iopub.status.idle": "2022-08-28T20:35:55.824909Z",
     "shell.execute_reply": "2022-08-28T20:35:55.823661Z"
    },
    "papermill": {
     "duration": 11.843094,
     "end_time": "2022-08-28T20:35:55.827711",
     "exception": false,
     "start_time": "2022-08-28T20:35:43.984617",
     "status": "completed"
    },
    "tags": []
   },
   "outputs": [
    {
     "name": "stdout",
     "output_type": "stream",
     "text": [
      "Collecting feature_engine\r\n",
      "  Downloading feature_engine-1.4.0-py2.py3-none-any.whl (276 kB)\r\n",
      "\u001b[2K     \u001b[90m━━━━━━━━━━━━━━━━━━━━━━━━━━━━━━━━━━━━━━━\u001b[0m \u001b[32m276.4/276.4 kB\u001b[0m \u001b[31m1.3 MB/s\u001b[0m eta \u001b[36m0:00:00\u001b[0m\r\n",
      "\u001b[?25hRequirement already satisfied: scikit-learn>=1.0.0 in /opt/conda/lib/python3.7/site-packages (from feature_engine) (1.0.2)\r\n",
      "Requirement already satisfied: statsmodels>=0.11.1 in /opt/conda/lib/python3.7/site-packages (from feature_engine) (0.13.2)\r\n",
      "Requirement already satisfied: numpy>=1.18.2 in /opt/conda/lib/python3.7/site-packages (from feature_engine) (1.21.6)\r\n",
      "Requirement already satisfied: scipy>=1.4.1 in /opt/conda/lib/python3.7/site-packages (from feature_engine) (1.7.3)\r\n",
      "Requirement already satisfied: pandas>=1.0.3 in /opt/conda/lib/python3.7/site-packages (from feature_engine) (1.3.5)\r\n",
      "Requirement already satisfied: python-dateutil>=2.7.3 in /opt/conda/lib/python3.7/site-packages (from pandas>=1.0.3->feature_engine) (2.8.2)\r\n",
      "Requirement already satisfied: pytz>=2017.3 in /opt/conda/lib/python3.7/site-packages (from pandas>=1.0.3->feature_engine) (2022.1)\r\n",
      "Requirement already satisfied: threadpoolctl>=2.0.0 in /opt/conda/lib/python3.7/site-packages (from scikit-learn>=1.0.0->feature_engine) (3.1.0)\r\n",
      "Requirement already satisfied: joblib>=0.11 in /opt/conda/lib/python3.7/site-packages (from scikit-learn>=1.0.0->feature_engine) (1.0.1)\r\n",
      "Requirement already satisfied: packaging>=21.3 in /opt/conda/lib/python3.7/site-packages (from statsmodels>=0.11.1->feature_engine) (21.3)\r\n",
      "Requirement already satisfied: patsy>=0.5.2 in /opt/conda/lib/python3.7/site-packages (from statsmodels>=0.11.1->feature_engine) (0.5.2)\r\n",
      "Requirement already satisfied: pyparsing!=3.0.5,>=2.0.2 in /opt/conda/lib/python3.7/site-packages (from packaging>=21.3->statsmodels>=0.11.1->feature_engine) (3.0.9)\r\n",
      "Requirement already satisfied: six in /opt/conda/lib/python3.7/site-packages (from patsy>=0.5.2->statsmodels>=0.11.1->feature_engine) (1.16.0)\r\n",
      "Installing collected packages: feature_engine\r\n",
      "Successfully installed feature_engine-1.4.0\r\n",
      "\u001b[33mWARNING: Running pip as the 'root' user can result in broken permissions and conflicting behaviour with the system package manager. It is recommended to use a virtual environment instead: https://pip.pypa.io/warnings/venv\u001b[0m\u001b[33m\r\n",
      "\u001b[0m"
     ]
    }
   ],
   "source": [
    "# library for coding string values #Thanks to @MAXSARMENTO:\n",
    "! pip install feature_engine\n",
    "from feature_engine.encoding import WoEEncoder"
   ]
  },
  {
   "cell_type": "code",
   "execution_count": 17,
   "id": "d18fdf35",
   "metadata": {
    "execution": {
     "iopub.execute_input": "2022-08-28T20:35:55.861760Z",
     "iopub.status.busy": "2022-08-28T20:35:55.861313Z",
     "iopub.status.idle": "2022-08-28T20:35:55.934169Z",
     "shell.execute_reply": "2022-08-28T20:35:55.933222Z"
    },
    "papermill": {
     "duration": 0.093121,
     "end_time": "2022-08-28T20:35:55.936863",
     "exception": false,
     "start_time": "2022-08-28T20:35:55.843742",
     "status": "completed"
    },
    "tags": []
   },
   "outputs": [],
   "source": [
    "woe_encoder = WoEEncoder(variables=['attribute_0'])\n",
    "woe_encoder.fit(train, y)\n",
    "X = woe_encoder.transform(train)\n",
    "test = woe_encoder.transform(test)"
   ]
  },
  {
   "cell_type": "markdown",
   "id": "26d73046",
   "metadata": {
    "papermill": {
     "duration": 0.015341,
     "end_time": "2022-08-28T20:35:55.968192",
     "exception": false,
     "start_time": "2022-08-28T20:35:55.952851",
     "status": "completed"
    },
    "tags": []
   },
   "source": [
    "#### Additional features\n",
    "- These two new feaures came from [this discusion post.](https://www.kaggle.com/competitions/tabular-playground-series-aug-2022/discussion/343368)"
   ]
  },
  {
   "cell_type": "code",
   "execution_count": 18,
   "id": "3bc0a572",
   "metadata": {
    "execution": {
     "iopub.execute_input": "2022-08-28T20:35:56.002457Z",
     "iopub.status.busy": "2022-08-28T20:35:56.001799Z",
     "iopub.status.idle": "2022-08-28T20:35:56.011750Z",
     "shell.execute_reply": "2022-08-28T20:35:56.010850Z"
    },
    "papermill": {
     "duration": 0.029977,
     "end_time": "2022-08-28T20:35:56.013921",
     "exception": false,
     "start_time": "2022-08-28T20:35:55.983944",
     "status": "completed"
    },
    "tags": []
   },
   "outputs": [],
   "source": [
    "X['measurement(3*5)'] = X['measurement_3'] * X['measurement_5']\n",
    "test['measurement(3*5)'] = test['measurement_3'] * test['measurement_5']\n",
    "\n",
    "X['missing(3*5)'] = X['m5_missing'] * (X['m3_missing'])\n",
    "test['missing(3*5)'] = test['m5_missing'] * (test['m3_missing'])"
   ]
  },
  {
   "cell_type": "code",
   "execution_count": 19,
   "id": "10030340",
   "metadata": {
    "execution": {
     "iopub.execute_input": "2022-08-28T20:35:56.047262Z",
     "iopub.status.busy": "2022-08-28T20:35:56.046557Z",
     "iopub.status.idle": "2022-08-28T20:35:56.051150Z",
     "shell.execute_reply": "2022-08-28T20:35:56.050406Z"
    },
    "papermill": {
     "duration": 0.02352,
     "end_time": "2022-08-28T20:35:56.053090",
     "exception": false,
     "start_time": "2022-08-28T20:35:56.029570",
     "status": "completed"
    },
    "tags": []
   },
   "outputs": [],
   "source": [
    "select_feature = [\n",
    "    'loading',\n",
    "    'attribute_0',\n",
    "    'measurement_17',\n",
    "    'measurement_0',\n",
    "    'measurement_1',\n",
    "    'measurement_2',\n",
    "    'area',\n",
    "    'm3_missing', \n",
    "    'm5_missing',\n",
    "    'measurement_avg',\n",
    "    'measurement(3*5)',\n",
    "    'missing(3*5)',      \n",
    "]"
   ]
  },
  {
   "cell_type": "markdown",
   "id": "8fd2f705",
   "metadata": {
    "papermill": {
     "duration": 0.015098,
     "end_time": "2022-08-28T20:35:56.083752",
     "exception": false,
     "start_time": "2022-08-28T20:35:56.068654",
     "status": "completed"
    },
    "tags": []
   },
   "source": [
    "- Rounding the floating number columns to two decimal places. "
   ]
  },
  {
   "cell_type": "code",
   "execution_count": 20,
   "id": "ed43084c",
   "metadata": {
    "execution": {
     "iopub.execute_input": "2022-08-28T20:35:56.116414Z",
     "iopub.status.busy": "2022-08-28T20:35:56.115821Z",
     "iopub.status.idle": "2022-08-28T20:35:56.152361Z",
     "shell.execute_reply": "2022-08-28T20:35:56.151534Z"
    },
    "papermill": {
     "duration": 0.055769,
     "end_time": "2022-08-28T20:35:56.154748",
     "exception": false,
     "start_time": "2022-08-28T20:35:56.098979",
     "status": "completed"
    },
    "tags": []
   },
   "outputs": [],
   "source": [
    "X = X.round(decimals=2)\n",
    "test = test.round(decimals=2)"
   ]
  },
  {
   "cell_type": "markdown",
   "id": "70496e86",
   "metadata": {
    "papermill": {
     "duration": 0.020665,
     "end_time": "2022-08-28T20:35:56.191314",
     "exception": false,
     "start_time": "2022-08-28T20:35:56.170649",
     "status": "completed"
    },
    "tags": []
   },
   "source": [
    "### 3. Model/LogisticRegression\n",
    "- 5 fold CV model using a linear model (LR)\n",
    "- We see that `loading` and `measurement_17` are the top two important features for our model. \n",
    "- Note also that the newly created features i.e, `m3_missing`, `m5_missing`, and `missing(3*5)` are among the top 10 important features."
   ]
  },
  {
   "cell_type": "code",
   "execution_count": 21,
   "id": "287543df",
   "metadata": {
    "execution": {
     "iopub.execute_input": "2022-08-28T20:35:56.223950Z",
     "iopub.status.busy": "2022-08-28T20:35:56.223353Z",
     "iopub.status.idle": "2022-08-28T20:35:57.440626Z",
     "shell.execute_reply": "2022-08-28T20:35:57.439460Z"
    },
    "papermill": {
     "duration": 1.236288,
     "end_time": "2022-08-28T20:35:57.442861",
     "exception": false,
     "start_time": "2022-08-28T20:35:56.206573",
     "status": "completed"
    },
    "tags": []
   },
   "outputs": [
    {
     "name": "stdout",
     "output_type": "stream",
     "text": [
      "Fold: 1\n",
      "FOLD:  1  ROC-AUC: 0.59812\n",
      "Fold: 2\n",
      "FOLD:  2  ROC-AUC: 0.5924\n",
      "Fold: 3\n",
      "FOLD:  3  ROC-AUC: 0.58123\n",
      "Fold: 4\n",
      "FOLD:  4  ROC-AUC: 0.5928\n",
      "Fold: 5\n",
      "FOLD:  5  ROC-AUC: 0.58649\n",
      "\u001b[32m\u001b[1mAverage auc = 0.59021\u001b[0m\n",
      "\u001b[34m\u001b[1mOOF auc = 0.59007\u001b[0m\n"
     ]
    },
    {
     "data": {
      "image/png": "[encoded data removed]",
      "text/plain": [
       "<Figure size 864x576 with 1 Axes>"
      ]
     },
     "metadata": {},
     "output_type": "display_data"
    }
   ],
   "source": [
    "lr_oof = np.zeros(len(train))\n",
    "lr_test = np.zeros(len(test))\n",
    "lr_auc = 0\n",
    "importance_list = []\n",
    "\n",
    "kf = StratifiedKFold(n_splits=5, shuffle=True, random_state=0)\n",
    "for fold_idx, (train_idx, val_idx) in enumerate(kf.split(X, y)):\n",
    "    print(\"Fold:\", fold_idx+1)\n",
    "    x_train, x_val = X.iloc[train_idx], X.iloc[val_idx]\n",
    "    y_train, y_val = y.iloc[train_idx], y.iloc[val_idx]\n",
    "    x_train, x_val, x_test = _scale(x_train, x_val, test, select_feature)\n",
    "    \n",
    "    model = LogisticRegression(max_iter=200, C=0.0001, penalty='l2', solver='newton-cg')\n",
    "    model.fit(x_train[select_feature], y_train)\n",
    "    importance_list.append(model.coef_.ravel())\n",
    "\n",
    "    val_preds = model.predict_proba(x_val[select_feature])[:, 1]\n",
    "    print(\"FOLD: \", fold_idx+1, \" ROC-AUC:\", round(roc_auc_score(y_val, val_preds), 5))\n",
    "    lr_auc += roc_auc_score(y_val, val_preds) / 5\n",
    "    lr_test += model.predict_proba(x_test[select_feature])[:, 1] / 5\n",
    "    lr_oof[val_idx] = val_preds\n",
    "\n",
    "print(f\"{Fore.GREEN}{Style.BRIGHT}Average auc = {round(lr_auc, 5)}{Style.RESET_ALL}\")\n",
    "print(f\"{Fore.BLUE}{Style.BRIGHT}OOF auc = {round(roc_auc_score(y, lr_oof), 5)}{Style.RESET_ALL}\")\n",
    "\n",
    "importance_list.append(model.coef_.ravel())\n",
    "importance_df = pd.DataFrame(np.array(importance_list).T, index=x_train[select_feature].columns)\n",
    "importance_df['mean'] = importance_df.mean(axis=1).abs()\n",
    "importance_df['feature'] = x_train[select_feature].columns\n",
    "importance_df = importance_df.sort_values('mean', ascending=True).reset_index()\n",
    "\n",
    "fig, ax = plt.subplots(figsize=(12, 8), facecolor='#EAECEE')\n",
    "plt.barh(importance_df.index, importance_df['mean'], color='lightseagreen')\n",
    "\n",
    "plt.yticks(ticks=importance_df.index, labels=importance_df['feature'])\n",
    "plt.title('LogisticRegression feature importances', fontsize=20, y= 1.05)\n",
    "plt.show()"
   ]
  },
  {
   "cell_type": "markdown",
   "id": "2b55819f",
   "metadata": {
    "papermill": {
     "duration": 0.016138,
     "end_time": "2022-08-28T20:35:57.475643",
     "exception": false,
     "start_time": "2022-08-28T20:35:57.459505",
     "status": "completed"
    },
    "tags": []
   },
   "source": [
    "### 4. Submission\n"
   ]
  },
  {
   "cell_type": "code",
   "execution_count": 22,
   "id": "9717e65e",
   "metadata": {
    "execution": {
     "iopub.execute_input": "2022-08-28T20:35:57.510573Z",
     "iopub.status.busy": "2022-08-28T20:35:57.510148Z",
     "iopub.status.idle": "2022-08-28T20:35:57.566259Z",
     "shell.execute_reply": "2022-08-28T20:35:57.565402Z"
    },
    "papermill": {
     "duration": 0.076717,
     "end_time": "2022-08-28T20:35:57.568673",
     "exception": false,
     "start_time": "2022-08-28T20:35:57.491956",
     "status": "completed"
    },
    "tags": []
   },
   "outputs": [],
   "source": [
    "sub = pd.DataFrame({'id': submission.id, 'failure': lr_test})\n",
    "sub.to_csv(\"submission.csv\", index=False)"
   ]
  },
  {
   "cell_type": "code",
   "execution_count": 23,
   "id": "a80bc937",
   "metadata": {
    "execution": {
     "iopub.execute_input": "2022-08-28T20:35:57.603566Z",
     "iopub.status.busy": "2022-08-28T20:35:57.602876Z",
     "iopub.status.idle": "2022-08-28T20:35:57.612258Z",
     "shell.execute_reply": "2022-08-28T20:35:57.611196Z"
    },
    "papermill": {
     "duration": 0.029368,
     "end_time": "2022-08-28T20:35:57.614451",
     "exception": false,
     "start_time": "2022-08-28T20:35:57.585083",
     "status": "completed"
    },
    "tags": []
   },
   "outputs": [
    {
     "data": {
      "text/html": [
       "<div>\n",
       "<style scoped>\n",
       "    .dataframe tbody tr th:only-of-type {\n",
       "        vertical-align: middle;\n",
       "    }\n",
       "\n",
       "    .dataframe tbody tr th {\n",
       "        vertical-align: top;\n",
       "    }\n",
       "\n",
       "    .dataframe thead th {\n",
       "        text-align: right;\n",
       "    }\n",
       "</style>\n",
       "<table border=\"1\" class=\"dataframe\">\n",
       "  <thead>\n",
       "    <tr style=\"text-align: right;\">\n",
       "      <th></th>\n",
       "      <th>id</th>\n",
       "      <th>failure</th>\n",
       "    </tr>\n",
       "  </thead>\n",
       "  <tbody>\n",
       "    <tr>\n",
       "      <th>0</th>\n",
       "      <td>26570</td>\n",
       "      <td>0.208919</td>\n",
       "    </tr>\n",
       "    <tr>\n",
       "      <th>1</th>\n",
       "      <td>26571</td>\n",
       "      <td>0.200283</td>\n",
       "    </tr>\n",
       "    <tr>\n",
       "      <th>2</th>\n",
       "      <td>26572</td>\n",
       "      <td>0.203517</td>\n",
       "    </tr>\n",
       "    <tr>\n",
       "      <th>3</th>\n",
       "      <td>26573</td>\n",
       "      <td>0.201749</td>\n",
       "    </tr>\n",
       "    <tr>\n",
       "      <th>4</th>\n",
       "      <td>26574</td>\n",
       "      <td>0.245839</td>\n",
       "    </tr>\n",
       "  </tbody>\n",
       "</table>\n",
       "</div>"
      ],
      "text/plain": [
       "      id   failure\n",
       "0  26570  0.208919\n",
       "1  26571  0.200283\n",
       "2  26572  0.203517\n",
       "3  26573  0.201749\n",
       "4  26574  0.245839"
      ]
     },
     "execution_count": 23,
     "metadata": {},
     "output_type": "execute_result"
    }
   ],
   "source": [
    "sub.head()"
   ]
  },
  {
   "cell_type": "code",
   "execution_count": null,
   "id": "5e8f8bb1",
   "metadata": {
    "papermill": {
     "duration": 0.016326,
     "end_time": "2022-08-28T20:35:57.647234",
     "exception": false,
     "start_time": "2022-08-28T20:35:57.630908",
     "status": "completed"
    },
    "tags": []
   },
   "outputs": [],
   "source": []
  }
 ],
 "metadata": {
  "kernelspec": {
   "display_name": "Python 3",
   "language": "python",
   "name": "python3"
  },
  "language_info": {
   "codemirror_mode": {
    "name": "ipython",
    "version": 3
   },
   "file_extension": ".py",
   "mimetype": "text/x-python",
   "name": "python",
   "nbconvert_exporter": "python",
   "pygments_lexer": "ipython3",
   "version": "3.7.12"
  },
  "papermill": {
   "default_parameters": {},
   "duration": 62.261968,
   "end_time": "2022-08-28T20:35:58.485990",
   "environment_variables": {},
   "exception": null,
   "input_path": "__notebook__.ipynb",
   "output_path": "__notebook__.ipynb",
   "parameters": {},
   "start_time": "2022-08-28T20:34:56.224022",
   "version": "2.3.4"
  }
 },
 "nbformat": 4,
 "nbformat_minor": 5
}
