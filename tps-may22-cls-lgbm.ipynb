{
 "cells": [
  {
   "cell_type": "code",
   "execution_count": 1,
   "id": "9fe62453",
   "metadata": {
    "execution": {
     "iopub.execute_input": "2022-05-02T05:05:36.099913Z",
     "iopub.status.busy": "2022-05-02T05:05:36.099596Z",
     "iopub.status.idle": "2022-05-02T05:05:37.221490Z",
     "shell.execute_reply": "2022-05-02T05:05:37.220524Z"
    },
    "papermill": {
     "duration": 1.156272,
     "end_time": "2022-05-02T05:05:37.224382",
     "exception": false,
     "start_time": "2022-05-02T05:05:36.068110",
     "status": "completed"
    },
    "tags": []
   },
   "outputs": [],
   "source": [
    "import numpy as np\n",
    "import pandas as pd\n",
    "import gc\n",
    "import matplotlib.pyplot as plt\n",
    "import seaborn as sns\n",
    "\n",
    "from tqdm import tqdm\n",
    "\n",
    "pd.set_option('display.max_columns', None)\n",
    "\n",
    "import warnings\n",
    "warnings.filterwarnings('ignore')"
   ]
  },
  {
   "cell_type": "markdown",
   "id": "aa447fba",
   "metadata": {
    "papermill": {
     "duration": 0.022197,
     "end_time": "2022-05-02T05:05:37.269773",
     "exception": false,
     "start_time": "2022-05-02T05:05:37.247576",
     "status": "completed"
    },
    "tags": []
   },
   "source": [
    "# Goal\n",
    "The May edition of the 2022 Tabular Playground series binary classification problem that includes a number of different feature interactions. This competition is an opportunity to explore various methods for identifying and exploiting these feature interactions."
   ]
  },
  {
   "cell_type": "code",
   "execution_count": 2,
   "id": "8fb2369e",
   "metadata": {
    "execution": {
     "iopub.execute_input": "2022-05-02T05:05:37.315794Z",
     "iopub.status.busy": "2022-05-02T05:05:37.315516Z",
     "iopub.status.idle": "2022-05-02T05:05:51.897132Z",
     "shell.execute_reply": "2022-05-02T05:05:51.896222Z"
    },
    "papermill": {
     "duration": 14.607366,
     "end_time": "2022-05-02T05:05:51.899424",
     "exception": false,
     "start_time": "2022-05-02T05:05:37.292058",
     "status": "completed"
    },
    "tags": []
   },
   "outputs": [
    {
     "name": "stdout",
     "output_type": "stream",
     "text": [
      "(900000, 33)\n",
      "(700000, 32)\n",
      "(700000, 2)\n"
     ]
    }
   ],
   "source": [
    "train = pd.read_csv('../input/tabular-playground-series-may-2022/train.csv')\n",
    "test = pd.read_csv('../input/tabular-playground-series-may-2022/test.csv')\n",
    "sub = pd.read_csv('../input/tabular-playground-series-may-2022/sample_submission.csv')\n",
    "\n",
    "print(train.shape)\n",
    "print(test.shape)\n",
    "print(sub.shape)"
   ]
  },
  {
   "cell_type": "code",
   "execution_count": 3,
   "id": "754cc759",
   "metadata": {
    "execution": {
     "iopub.execute_input": "2022-05-02T05:05:51.948319Z",
     "iopub.status.busy": "2022-05-02T05:05:51.948030Z",
     "iopub.status.idle": "2022-05-02T05:05:51.980022Z",
     "shell.execute_reply": "2022-05-02T05:05:51.979083Z"
    },
    "papermill": {
     "duration": 0.058928,
     "end_time": "2022-05-02T05:05:51.982421",
     "exception": false,
     "start_time": "2022-05-02T05:05:51.923493",
     "status": "completed"
    },
    "tags": []
   },
   "outputs": [
    {
     "data": {
      "text/html": [
       "<div>\n",
       "<style scoped>\n",
       "    .dataframe tbody tr th:only-of-type {\n",
       "        vertical-align: middle;\n",
       "    }\n",
       "\n",
       "    .dataframe tbody tr th {\n",
       "        vertical-align: top;\n",
       "    }\n",
       "\n",
       "    .dataframe thead th {\n",
       "        text-align: right;\n",
       "    }\n",
       "</style>\n",
       "<table border=\"1\" class=\"dataframe\">\n",
       "  <thead>\n",
       "    <tr style=\"text-align: right;\">\n",
       "      <th></th>\n",
       "      <th>id</th>\n",
       "      <th>f_00</th>\n",
       "      <th>f_01</th>\n",
       "      <th>f_02</th>\n",
       "      <th>f_03</th>\n",
       "      <th>f_04</th>\n",
       "      <th>f_05</th>\n",
       "      <th>f_06</th>\n",
       "      <th>f_07</th>\n",
       "      <th>f_08</th>\n",
       "      <th>f_09</th>\n",
       "      <th>f_10</th>\n",
       "      <th>f_11</th>\n",
       "      <th>f_12</th>\n",
       "      <th>f_13</th>\n",
       "      <th>f_14</th>\n",
       "      <th>f_15</th>\n",
       "      <th>f_16</th>\n",
       "      <th>f_17</th>\n",
       "      <th>f_18</th>\n",
       "      <th>f_19</th>\n",
       "      <th>f_20</th>\n",
       "      <th>f_21</th>\n",
       "      <th>f_22</th>\n",
       "      <th>f_23</th>\n",
       "      <th>f_24</th>\n",
       "      <th>f_25</th>\n",
       "      <th>f_26</th>\n",
       "      <th>f_27</th>\n",
       "      <th>f_28</th>\n",
       "      <th>f_29</th>\n",
       "      <th>f_30</th>\n",
       "      <th>target</th>\n",
       "    </tr>\n",
       "  </thead>\n",
       "  <tbody>\n",
       "    <tr>\n",
       "      <th>0</th>\n",
       "      <td>0</td>\n",
       "      <td>-1.373246</td>\n",
       "      <td>0.238887</td>\n",
       "      <td>-0.243376</td>\n",
       "      <td>0.567405</td>\n",
       "      <td>-0.647715</td>\n",
       "      <td>0.839326</td>\n",
       "      <td>0.113133</td>\n",
       "      <td>1</td>\n",
       "      <td>5</td>\n",
       "      <td>1</td>\n",
       "      <td>3</td>\n",
       "      <td>3</td>\n",
       "      <td>3</td>\n",
       "      <td>1</td>\n",
       "      <td>6</td>\n",
       "      <td>1</td>\n",
       "      <td>0</td>\n",
       "      <td>7</td>\n",
       "      <td>4</td>\n",
       "      <td>0.298218</td>\n",
       "      <td>-0.919717</td>\n",
       "      <td>3.058541</td>\n",
       "      <td>-2.540739</td>\n",
       "      <td>0.766952</td>\n",
       "      <td>-2.730628</td>\n",
       "      <td>-0.208177</td>\n",
       "      <td>1.363402</td>\n",
       "      <td>ABABDADBAB</td>\n",
       "      <td>67.609153</td>\n",
       "      <td>0</td>\n",
       "      <td>0</td>\n",
       "      <td>0</td>\n",
       "    </tr>\n",
       "    <tr>\n",
       "      <th>1</th>\n",
       "      <td>1</td>\n",
       "      <td>1.697021</td>\n",
       "      <td>-1.710322</td>\n",
       "      <td>-2.230332</td>\n",
       "      <td>-0.545661</td>\n",
       "      <td>1.113173</td>\n",
       "      <td>-1.552175</td>\n",
       "      <td>0.447825</td>\n",
       "      <td>1</td>\n",
       "      <td>3</td>\n",
       "      <td>4</td>\n",
       "      <td>0</td>\n",
       "      <td>2</td>\n",
       "      <td>3</td>\n",
       "      <td>0</td>\n",
       "      <td>1</td>\n",
       "      <td>0</td>\n",
       "      <td>4</td>\n",
       "      <td>6</td>\n",
       "      <td>0</td>\n",
       "      <td>-3.147667</td>\n",
       "      <td>-1.075434</td>\n",
       "      <td>2.179050</td>\n",
       "      <td>2.278315</td>\n",
       "      <td>-0.633658</td>\n",
       "      <td>-1.217077</td>\n",
       "      <td>-3.782194</td>\n",
       "      <td>-0.058316</td>\n",
       "      <td>ACACCADCEB</td>\n",
       "      <td>377.096415</td>\n",
       "      <td>0</td>\n",
       "      <td>0</td>\n",
       "      <td>1</td>\n",
       "    </tr>\n",
       "    <tr>\n",
       "      <th>2</th>\n",
       "      <td>2</td>\n",
       "      <td>1.681726</td>\n",
       "      <td>0.616746</td>\n",
       "      <td>-1.027689</td>\n",
       "      <td>0.810492</td>\n",
       "      <td>-0.609086</td>\n",
       "      <td>0.113965</td>\n",
       "      <td>-0.708660</td>\n",
       "      <td>1</td>\n",
       "      <td>0</td>\n",
       "      <td>2</td>\n",
       "      <td>6</td>\n",
       "      <td>6</td>\n",
       "      <td>4</td>\n",
       "      <td>3</td>\n",
       "      <td>1</td>\n",
       "      <td>2</td>\n",
       "      <td>2</td>\n",
       "      <td>1</td>\n",
       "      <td>4</td>\n",
       "      <td>2.820733</td>\n",
       "      <td>-3.485342</td>\n",
       "      <td>-0.784235</td>\n",
       "      <td>-1.385775</td>\n",
       "      <td>-0.520558</td>\n",
       "      <td>-0.009121</td>\n",
       "      <td>2.788536</td>\n",
       "      <td>-3.703488</td>\n",
       "      <td>AAAEABCKAD</td>\n",
       "      <td>-195.599702</td>\n",
       "      <td>0</td>\n",
       "      <td>2</td>\n",
       "      <td>1</td>\n",
       "    </tr>\n",
       "    <tr>\n",
       "      <th>3</th>\n",
       "      <td>3</td>\n",
       "      <td>-0.118172</td>\n",
       "      <td>-0.587835</td>\n",
       "      <td>-0.804638</td>\n",
       "      <td>2.086822</td>\n",
       "      <td>0.371005</td>\n",
       "      <td>-0.128831</td>\n",
       "      <td>-0.282575</td>\n",
       "      <td>3</td>\n",
       "      <td>2</td>\n",
       "      <td>1</td>\n",
       "      <td>0</td>\n",
       "      <td>1</td>\n",
       "      <td>6</td>\n",
       "      <td>4</td>\n",
       "      <td>2</td>\n",
       "      <td>3</td>\n",
       "      <td>3</td>\n",
       "      <td>0</td>\n",
       "      <td>3</td>\n",
       "      <td>1.081084</td>\n",
       "      <td>-2.100177</td>\n",
       "      <td>-2.343819</td>\n",
       "      <td>0.572594</td>\n",
       "      <td>-1.653213</td>\n",
       "      <td>1.686035</td>\n",
       "      <td>-2.533098</td>\n",
       "      <td>-0.608601</td>\n",
       "      <td>BDBBAACBCB</td>\n",
       "      <td>210.826205</td>\n",
       "      <td>0</td>\n",
       "      <td>0</td>\n",
       "      <td>1</td>\n",
       "    </tr>\n",
       "    <tr>\n",
       "      <th>4</th>\n",
       "      <td>4</td>\n",
       "      <td>1.148481</td>\n",
       "      <td>-0.176567</td>\n",
       "      <td>-0.664871</td>\n",
       "      <td>-1.101343</td>\n",
       "      <td>0.467875</td>\n",
       "      <td>0.500117</td>\n",
       "      <td>0.407515</td>\n",
       "      <td>3</td>\n",
       "      <td>3</td>\n",
       "      <td>0</td>\n",
       "      <td>4</td>\n",
       "      <td>3</td>\n",
       "      <td>0</td>\n",
       "      <td>6</td>\n",
       "      <td>0</td>\n",
       "      <td>3</td>\n",
       "      <td>3</td>\n",
       "      <td>1</td>\n",
       "      <td>0</td>\n",
       "      <td>-0.126179</td>\n",
       "      <td>0.605033</td>\n",
       "      <td>1.133665</td>\n",
       "      <td>-3.912929</td>\n",
       "      <td>-1.430366</td>\n",
       "      <td>2.127649</td>\n",
       "      <td>-3.306784</td>\n",
       "      <td>4.371371</td>\n",
       "      <td>BDBCBBCHFE</td>\n",
       "      <td>-217.211798</td>\n",
       "      <td>0</td>\n",
       "      <td>1</td>\n",
       "      <td>1</td>\n",
       "    </tr>\n",
       "  </tbody>\n",
       "</table>\n",
       "</div>"
      ],
      "text/plain": [
       "   id      f_00      f_01      f_02      f_03      f_04      f_05      f_06  \\\n",
       "0   0 -1.373246  0.238887 -0.243376  0.567405 -0.647715  0.839326  0.113133   \n",
       "1   1  1.697021 -1.710322 -2.230332 -0.545661  1.113173 -1.552175  0.447825   \n",
       "2   2  1.681726  0.616746 -1.027689  0.810492 -0.609086  0.113965 -0.708660   \n",
       "3   3 -0.118172 -0.587835 -0.804638  2.086822  0.371005 -0.128831 -0.282575   \n",
       "4   4  1.148481 -0.176567 -0.664871 -1.101343  0.467875  0.500117  0.407515   \n",
       "\n",
       "   f_07  f_08  f_09  f_10  f_11  f_12  f_13  f_14  f_15  f_16  f_17  f_18  \\\n",
       "0     1     5     1     3     3     3     1     6     1     0     7     4   \n",
       "1     1     3     4     0     2     3     0     1     0     4     6     0   \n",
       "2     1     0     2     6     6     4     3     1     2     2     1     4   \n",
       "3     3     2     1     0     1     6     4     2     3     3     0     3   \n",
       "4     3     3     0     4     3     0     6     0     3     3     1     0   \n",
       "\n",
       "       f_19      f_20      f_21      f_22      f_23      f_24      f_25  \\\n",
       "0  0.298218 -0.919717  3.058541 -2.540739  0.766952 -2.730628 -0.208177   \n",
       "1 -3.147667 -1.075434  2.179050  2.278315 -0.633658 -1.217077 -3.782194   \n",
       "2  2.820733 -3.485342 -0.784235 -1.385775 -0.520558 -0.009121  2.788536   \n",
       "3  1.081084 -2.100177 -2.343819  0.572594 -1.653213  1.686035 -2.533098   \n",
       "4 -0.126179  0.605033  1.133665 -3.912929 -1.430366  2.127649 -3.306784   \n",
       "\n",
       "       f_26        f_27        f_28  f_29  f_30  target  \n",
       "0  1.363402  ABABDADBAB   67.609153     0     0       0  \n",
       "1 -0.058316  ACACCADCEB  377.096415     0     0       1  \n",
       "2 -3.703488  AAAEABCKAD -195.599702     0     2       1  \n",
       "3 -0.608601  BDBBAACBCB  210.826205     0     0       1  \n",
       "4  4.371371  BDBCBBCHFE -217.211798     0     1       1  "
      ]
     },
     "execution_count": 3,
     "metadata": {},
     "output_type": "execute_result"
    }
   ],
   "source": [
    "train.head()"
   ]
  },
  {
   "cell_type": "markdown",
   "id": "2603edde",
   "metadata": {
    "papermill": {
     "duration": 0.022993,
     "end_time": "2022-05-02T05:05:52.028669",
     "exception": false,
     "start_time": "2022-05-02T05:05:52.005676",
     "status": "completed"
    },
    "tags": []
   },
   "source": [
    "# EDA"
   ]
  },
  {
   "cell_type": "code",
   "execution_count": 4,
   "id": "59d68c72",
   "metadata": {
    "execution": {
     "iopub.execute_input": "2022-05-02T05:05:52.078966Z",
     "iopub.status.busy": "2022-05-02T05:05:52.078705Z",
     "iopub.status.idle": "2022-05-02T05:05:53.499763Z",
     "shell.execute_reply": "2022-05-02T05:05:53.498950Z"
    },
    "papermill": {
     "duration": 1.448508,
     "end_time": "2022-05-02T05:05:53.502012",
     "exception": false,
     "start_time": "2022-05-02T05:05:52.053504",
     "status": "completed"
    },
    "tags": []
   },
   "outputs": [
    {
     "data": {
      "text/html": [
       "<div>\n",
       "<style scoped>\n",
       "    .dataframe tbody tr th:only-of-type {\n",
       "        vertical-align: middle;\n",
       "    }\n",
       "\n",
       "    .dataframe tbody tr th {\n",
       "        vertical-align: top;\n",
       "    }\n",
       "\n",
       "    .dataframe thead th {\n",
       "        text-align: right;\n",
       "    }\n",
       "</style>\n",
       "<table border=\"1\" class=\"dataframe\">\n",
       "  <thead>\n",
       "    <tr style=\"text-align: right;\">\n",
       "      <th></th>\n",
       "      <th>id</th>\n",
       "      <th>f_00</th>\n",
       "      <th>f_01</th>\n",
       "      <th>f_02</th>\n",
       "      <th>f_03</th>\n",
       "      <th>f_04</th>\n",
       "      <th>f_05</th>\n",
       "      <th>f_06</th>\n",
       "      <th>f_07</th>\n",
       "      <th>f_08</th>\n",
       "      <th>f_09</th>\n",
       "      <th>f_10</th>\n",
       "      <th>f_11</th>\n",
       "      <th>f_12</th>\n",
       "      <th>f_13</th>\n",
       "      <th>f_14</th>\n",
       "      <th>f_15</th>\n",
       "      <th>f_16</th>\n",
       "      <th>f_17</th>\n",
       "      <th>f_18</th>\n",
       "      <th>f_19</th>\n",
       "      <th>f_20</th>\n",
       "      <th>f_21</th>\n",
       "      <th>f_22</th>\n",
       "      <th>f_23</th>\n",
       "      <th>f_24</th>\n",
       "      <th>f_25</th>\n",
       "      <th>f_26</th>\n",
       "      <th>f_27</th>\n",
       "      <th>f_28</th>\n",
       "      <th>f_29</th>\n",
       "      <th>f_30</th>\n",
       "      <th>target</th>\n",
       "    </tr>\n",
       "  </thead>\n",
       "  <tbody>\n",
       "    <tr>\n",
       "      <th>miss</th>\n",
       "      <td>0</td>\n",
       "      <td>0</td>\n",
       "      <td>0</td>\n",
       "      <td>0</td>\n",
       "      <td>0</td>\n",
       "      <td>0</td>\n",
       "      <td>0</td>\n",
       "      <td>0</td>\n",
       "      <td>0</td>\n",
       "      <td>0</td>\n",
       "      <td>0</td>\n",
       "      <td>0</td>\n",
       "      <td>0</td>\n",
       "      <td>0</td>\n",
       "      <td>0</td>\n",
       "      <td>0</td>\n",
       "      <td>0</td>\n",
       "      <td>0</td>\n",
       "      <td>0</td>\n",
       "      <td>0</td>\n",
       "      <td>0</td>\n",
       "      <td>0</td>\n",
       "      <td>0</td>\n",
       "      <td>0</td>\n",
       "      <td>0</td>\n",
       "      <td>0</td>\n",
       "      <td>0</td>\n",
       "      <td>0</td>\n",
       "      <td>0</td>\n",
       "      <td>0</td>\n",
       "      <td>0</td>\n",
       "      <td>0</td>\n",
       "      <td>0</td>\n",
       "    </tr>\n",
       "    <tr>\n",
       "      <th>level</th>\n",
       "      <td>900000</td>\n",
       "      <td>900000</td>\n",
       "      <td>900000</td>\n",
       "      <td>900000</td>\n",
       "      <td>900000</td>\n",
       "      <td>900000</td>\n",
       "      <td>900000</td>\n",
       "      <td>900000</td>\n",
       "      <td>16</td>\n",
       "      <td>16</td>\n",
       "      <td>15</td>\n",
       "      <td>15</td>\n",
       "      <td>14</td>\n",
       "      <td>16</td>\n",
       "      <td>13</td>\n",
       "      <td>14</td>\n",
       "      <td>15</td>\n",
       "      <td>16</td>\n",
       "      <td>14</td>\n",
       "      <td>14</td>\n",
       "      <td>900000</td>\n",
       "      <td>900000</td>\n",
       "      <td>900000</td>\n",
       "      <td>900000</td>\n",
       "      <td>900000</td>\n",
       "      <td>900000</td>\n",
       "      <td>900000</td>\n",
       "      <td>900000</td>\n",
       "      <td>741354</td>\n",
       "      <td>900000</td>\n",
       "      <td>2</td>\n",
       "      <td>3</td>\n",
       "      <td>2</td>\n",
       "    </tr>\n",
       "    <tr>\n",
       "      <th>dtype</th>\n",
       "      <td>int64</td>\n",
       "      <td>float64</td>\n",
       "      <td>float64</td>\n",
       "      <td>float64</td>\n",
       "      <td>float64</td>\n",
       "      <td>float64</td>\n",
       "      <td>float64</td>\n",
       "      <td>float64</td>\n",
       "      <td>int64</td>\n",
       "      <td>int64</td>\n",
       "      <td>int64</td>\n",
       "      <td>int64</td>\n",
       "      <td>int64</td>\n",
       "      <td>int64</td>\n",
       "      <td>int64</td>\n",
       "      <td>int64</td>\n",
       "      <td>int64</td>\n",
       "      <td>int64</td>\n",
       "      <td>int64</td>\n",
       "      <td>int64</td>\n",
       "      <td>float64</td>\n",
       "      <td>float64</td>\n",
       "      <td>float64</td>\n",
       "      <td>float64</td>\n",
       "      <td>float64</td>\n",
       "      <td>float64</td>\n",
       "      <td>float64</td>\n",
       "      <td>float64</td>\n",
       "      <td>object</td>\n",
       "      <td>float64</td>\n",
       "      <td>int64</td>\n",
       "      <td>int64</td>\n",
       "      <td>int64</td>\n",
       "    </tr>\n",
       "  </tbody>\n",
       "</table>\n",
       "</div>"
      ],
      "text/plain": [
       "           id     f_00     f_01     f_02     f_03     f_04     f_05     f_06  \\\n",
       "miss        0        0        0        0        0        0        0        0   \n",
       "level  900000   900000   900000   900000   900000   900000   900000   900000   \n",
       "dtype   int64  float64  float64  float64  float64  float64  float64  float64   \n",
       "\n",
       "        f_07   f_08   f_09   f_10   f_11   f_12   f_13   f_14   f_15   f_16  \\\n",
       "miss       0      0      0      0      0      0      0      0      0      0   \n",
       "level     16     16     15     15     14     16     13     14     15     16   \n",
       "dtype  int64  int64  int64  int64  int64  int64  int64  int64  int64  int64   \n",
       "\n",
       "        f_17   f_18     f_19     f_20     f_21     f_22     f_23     f_24  \\\n",
       "miss       0      0        0        0        0        0        0        0   \n",
       "level     14     14   900000   900000   900000   900000   900000   900000   \n",
       "dtype  int64  int64  float64  float64  float64  float64  float64  float64   \n",
       "\n",
       "          f_25     f_26    f_27     f_28   f_29   f_30 target  \n",
       "miss         0        0       0        0      0      0      0  \n",
       "level   900000   900000  741354   900000      2      3      2  \n",
       "dtype  float64  float64  object  float64  int64  int64  int64  "
      ]
     },
     "execution_count": 4,
     "metadata": {},
     "output_type": "execute_result"
    }
   ],
   "source": [
    "def eda(df):\n",
    "    summary = pd.DataFrame()\n",
    "    summary['miss'] = df.isnull().sum()\n",
    "    summary['level'] = df.nunique()\n",
    "    summary['dtype'] = df.dtypes\n",
    "    return summary\n",
    "\n",
    "edatrain = eda(train)\n",
    "edatrain.T"
   ]
  },
  {
   "cell_type": "code",
   "execution_count": 5,
   "id": "ef28ad9c",
   "metadata": {
    "execution": {
     "iopub.execute_input": "2022-05-02T05:05:53.553342Z",
     "iopub.status.busy": "2022-05-02T05:05:53.553062Z",
     "iopub.status.idle": "2022-05-02T05:05:54.788118Z",
     "shell.execute_reply": "2022-05-02T05:05:54.787081Z"
    },
    "papermill": {
     "duration": 1.262986,
     "end_time": "2022-05-02T05:05:54.791039",
     "exception": false,
     "start_time": "2022-05-02T05:05:53.528053",
     "status": "completed"
    },
    "tags": []
   },
   "outputs": [
    {
     "data": {
      "text/html": [
       "<div>\n",
       "<style scoped>\n",
       "    .dataframe tbody tr th:only-of-type {\n",
       "        vertical-align: middle;\n",
       "    }\n",
       "\n",
       "    .dataframe tbody tr th {\n",
       "        vertical-align: top;\n",
       "    }\n",
       "\n",
       "    .dataframe thead th {\n",
       "        text-align: right;\n",
       "    }\n",
       "</style>\n",
       "<table border=\"1\" class=\"dataframe\">\n",
       "  <thead>\n",
       "    <tr style=\"text-align: right;\">\n",
       "      <th></th>\n",
       "      <th>id</th>\n",
       "      <th>f_00</th>\n",
       "      <th>f_01</th>\n",
       "      <th>f_02</th>\n",
       "      <th>f_03</th>\n",
       "      <th>f_04</th>\n",
       "      <th>f_05</th>\n",
       "      <th>f_06</th>\n",
       "      <th>f_07</th>\n",
       "      <th>f_08</th>\n",
       "      <th>f_09</th>\n",
       "      <th>f_10</th>\n",
       "      <th>f_11</th>\n",
       "      <th>f_12</th>\n",
       "      <th>f_13</th>\n",
       "      <th>f_14</th>\n",
       "      <th>f_15</th>\n",
       "      <th>f_16</th>\n",
       "      <th>f_17</th>\n",
       "      <th>f_18</th>\n",
       "      <th>f_19</th>\n",
       "      <th>f_20</th>\n",
       "      <th>f_21</th>\n",
       "      <th>f_22</th>\n",
       "      <th>f_23</th>\n",
       "      <th>f_24</th>\n",
       "      <th>f_25</th>\n",
       "      <th>f_26</th>\n",
       "      <th>f_27</th>\n",
       "      <th>f_28</th>\n",
       "      <th>f_29</th>\n",
       "      <th>f_30</th>\n",
       "    </tr>\n",
       "  </thead>\n",
       "  <tbody>\n",
       "    <tr>\n",
       "      <th>miss</th>\n",
       "      <td>0</td>\n",
       "      <td>0</td>\n",
       "      <td>0</td>\n",
       "      <td>0</td>\n",
       "      <td>0</td>\n",
       "      <td>0</td>\n",
       "      <td>0</td>\n",
       "      <td>0</td>\n",
       "      <td>0</td>\n",
       "      <td>0</td>\n",
       "      <td>0</td>\n",
       "      <td>0</td>\n",
       "      <td>0</td>\n",
       "      <td>0</td>\n",
       "      <td>0</td>\n",
       "      <td>0</td>\n",
       "      <td>0</td>\n",
       "      <td>0</td>\n",
       "      <td>0</td>\n",
       "      <td>0</td>\n",
       "      <td>0</td>\n",
       "      <td>0</td>\n",
       "      <td>0</td>\n",
       "      <td>0</td>\n",
       "      <td>0</td>\n",
       "      <td>0</td>\n",
       "      <td>0</td>\n",
       "      <td>0</td>\n",
       "      <td>0</td>\n",
       "      <td>0</td>\n",
       "      <td>0</td>\n",
       "      <td>0</td>\n",
       "    </tr>\n",
       "    <tr>\n",
       "      <th>level</th>\n",
       "      <td>700000</td>\n",
       "      <td>700000</td>\n",
       "      <td>700000</td>\n",
       "      <td>700000</td>\n",
       "      <td>700000</td>\n",
       "      <td>700000</td>\n",
       "      <td>700000</td>\n",
       "      <td>700000</td>\n",
       "      <td>16</td>\n",
       "      <td>14</td>\n",
       "      <td>16</td>\n",
       "      <td>16</td>\n",
       "      <td>15</td>\n",
       "      <td>16</td>\n",
       "      <td>14</td>\n",
       "      <td>13</td>\n",
       "      <td>14</td>\n",
       "      <td>14</td>\n",
       "      <td>14</td>\n",
       "      <td>14</td>\n",
       "      <td>700000</td>\n",
       "      <td>700000</td>\n",
       "      <td>700000</td>\n",
       "      <td>700000</td>\n",
       "      <td>700000</td>\n",
       "      <td>700000</td>\n",
       "      <td>700000</td>\n",
       "      <td>700000</td>\n",
       "      <td>598482</td>\n",
       "      <td>700000</td>\n",
       "      <td>2</td>\n",
       "      <td>3</td>\n",
       "    </tr>\n",
       "    <tr>\n",
       "      <th>dtype</th>\n",
       "      <td>int64</td>\n",
       "      <td>float64</td>\n",
       "      <td>float64</td>\n",
       "      <td>float64</td>\n",
       "      <td>float64</td>\n",
       "      <td>float64</td>\n",
       "      <td>float64</td>\n",
       "      <td>float64</td>\n",
       "      <td>int64</td>\n",
       "      <td>int64</td>\n",
       "      <td>int64</td>\n",
       "      <td>int64</td>\n",
       "      <td>int64</td>\n",
       "      <td>int64</td>\n",
       "      <td>int64</td>\n",
       "      <td>int64</td>\n",
       "      <td>int64</td>\n",
       "      <td>int64</td>\n",
       "      <td>int64</td>\n",
       "      <td>int64</td>\n",
       "      <td>float64</td>\n",
       "      <td>float64</td>\n",
       "      <td>float64</td>\n",
       "      <td>float64</td>\n",
       "      <td>float64</td>\n",
       "      <td>float64</td>\n",
       "      <td>float64</td>\n",
       "      <td>float64</td>\n",
       "      <td>object</td>\n",
       "      <td>float64</td>\n",
       "      <td>int64</td>\n",
       "      <td>int64</td>\n",
       "    </tr>\n",
       "  </tbody>\n",
       "</table>\n",
       "</div>"
      ],
      "text/plain": [
       "           id     f_00     f_01     f_02     f_03     f_04     f_05     f_06  \\\n",
       "miss        0        0        0        0        0        0        0        0   \n",
       "level  700000   700000   700000   700000   700000   700000   700000   700000   \n",
       "dtype   int64  float64  float64  float64  float64  float64  float64  float64   \n",
       "\n",
       "        f_07   f_08   f_09   f_10   f_11   f_12   f_13   f_14   f_15   f_16  \\\n",
       "miss       0      0      0      0      0      0      0      0      0      0   \n",
       "level     16     14     16     16     15     16     14     13     14     14   \n",
       "dtype  int64  int64  int64  int64  int64  int64  int64  int64  int64  int64   \n",
       "\n",
       "        f_17   f_18     f_19     f_20     f_21     f_22     f_23     f_24  \\\n",
       "miss       0      0        0        0        0        0        0        0   \n",
       "level     14     14   700000   700000   700000   700000   700000   700000   \n",
       "dtype  int64  int64  float64  float64  float64  float64  float64  float64   \n",
       "\n",
       "          f_25     f_26    f_27     f_28   f_29   f_30  \n",
       "miss         0        0       0        0      0      0  \n",
       "level   700000   700000  598482   700000      2      3  \n",
       "dtype  float64  float64  object  float64  int64  int64  "
      ]
     },
     "execution_count": 5,
     "metadata": {},
     "output_type": "execute_result"
    }
   ],
   "source": [
    "eda(test).T"
   ]
  },
  {
   "cell_type": "markdown",
   "id": "0c8d87e0",
   "metadata": {
    "papermill": {
     "duration": 0.02459,
     "end_time": "2022-05-02T05:05:54.841195",
     "exception": false,
     "start_time": "2022-05-02T05:05:54.816605",
     "status": "completed"
    },
    "tags": []
   },
   "source": [
    "### New Levels?"
   ]
  },
  {
   "cell_type": "code",
   "execution_count": 6,
   "id": "fc2cfa12",
   "metadata": {
    "execution": {
     "iopub.execute_input": "2022-05-02T05:05:54.890488Z",
     "iopub.status.busy": "2022-05-02T05:05:54.890202Z",
     "iopub.status.idle": "2022-05-02T05:05:54.904949Z",
     "shell.execute_reply": "2022-05-02T05:05:54.904080Z"
    },
    "papermill": {
     "duration": 0.041606,
     "end_time": "2022-05-02T05:05:54.906772",
     "exception": false,
     "start_time": "2022-05-02T05:05:54.865166",
     "status": "completed"
    },
    "tags": []
   },
   "outputs": [
    {
     "data": {
      "text/plain": [
       "2     233926\n",
       "1     215260\n",
       "3     174680\n",
       "0     102521\n",
       "4      99712\n",
       "5      46471\n",
       "6      18316\n",
       "7       6378\n",
       "8       1934\n",
       "9        626\n",
       "10       145\n",
       "11        25\n",
       "12         6\n",
       "Name: f_13, dtype: int64"
      ]
     },
     "execution_count": 6,
     "metadata": {},
     "output_type": "execute_result"
    }
   ],
   "source": [
    "train.f_13.value_counts()"
   ]
  },
  {
   "cell_type": "code",
   "execution_count": 7,
   "id": "d81bfb44",
   "metadata": {
    "execution": {
     "iopub.execute_input": "2022-05-02T05:05:54.958175Z",
     "iopub.status.busy": "2022-05-02T05:05:54.957500Z",
     "iopub.status.idle": "2022-05-02T05:05:54.969490Z",
     "shell.execute_reply": "2022-05-02T05:05:54.968728Z"
    },
    "papermill": {
     "duration": 0.040551,
     "end_time": "2022-05-02T05:05:54.971488",
     "exception": false,
     "start_time": "2022-05-02T05:05:54.930937",
     "status": "completed"
    },
    "tags": []
   },
   "outputs": [
    {
     "data": {
      "text/plain": [
       "2     182018\n",
       "1     167469\n",
       "3     135820\n",
       "0      79807\n",
       "4      77447\n",
       "5      36200\n",
       "6      14228\n",
       "7       4970\n",
       "8       1493\n",
       "9        403\n",
       "10       116\n",
       "11        23\n",
       "12         4\n",
       "13         2\n",
       "Name: f_13, dtype: int64"
      ]
     },
     "execution_count": 7,
     "metadata": {},
     "output_type": "execute_result"
    }
   ],
   "source": [
    "test.f_13.value_counts()"
   ]
  },
  {
   "cell_type": "code",
   "execution_count": 8,
   "id": "682f0898",
   "metadata": {
    "execution": {
     "iopub.execute_input": "2022-05-02T05:05:55.022694Z",
     "iopub.status.busy": "2022-05-02T05:05:55.021900Z",
     "iopub.status.idle": "2022-05-02T05:05:55.048979Z",
     "shell.execute_reply": "2022-05-02T05:05:55.048168Z"
    },
    "papermill": {
     "duration": 0.054822,
     "end_time": "2022-05-02T05:05:55.051027",
     "exception": false,
     "start_time": "2022-05-02T05:05:54.996205",
     "status": "completed"
    },
    "tags": []
   },
   "outputs": [
    {
     "data": {
      "text/plain": [
       "f_30\n",
       "0    0.476652\n",
       "1    0.480685\n",
       "2    0.501921\n",
       "Name: target, dtype: float64"
      ]
     },
     "execution_count": 8,
     "metadata": {},
     "output_type": "execute_result"
    }
   ],
   "source": [
    "train.groupby('f_30')['target'].mean()"
   ]
  },
  {
   "cell_type": "code",
   "execution_count": 9,
   "id": "b0d93abd",
   "metadata": {
    "execution": {
     "iopub.execute_input": "2022-05-02T05:05:55.106668Z",
     "iopub.status.busy": "2022-05-02T05:05:55.106225Z",
     "iopub.status.idle": "2022-05-02T05:05:57.785926Z",
     "shell.execute_reply": "2022-05-02T05:05:57.785077Z"
    },
    "papermill": {
     "duration": 2.711577,
     "end_time": "2022-05-02T05:05:57.787873",
     "exception": false,
     "start_time": "2022-05-02T05:05:55.076296",
     "status": "completed"
    },
    "tags": []
   },
   "outputs": [
    {
     "data": {
      "text/plain": [
       "0"
      ]
     },
     "execution_count": 9,
     "metadata": {},
     "output_type": "execute_result"
    }
   ],
   "source": [
    "train.duplicated().sum()"
   ]
  },
  {
   "cell_type": "code",
   "execution_count": 10,
   "id": "0985dc0e",
   "metadata": {
    "execution": {
     "iopub.execute_input": "2022-05-02T05:05:57.840250Z",
     "iopub.status.busy": "2022-05-02T05:05:57.839507Z",
     "iopub.status.idle": "2022-05-02T05:06:03.754129Z",
     "shell.execute_reply": "2022-05-02T05:06:03.753055Z"
    },
    "papermill": {
     "duration": 5.9433,
     "end_time": "2022-05-02T05:06:03.756513",
     "exception": false,
     "start_time": "2022-05-02T05:05:57.813213",
     "status": "completed"
    },
    "tags": []
   },
   "outputs": [
    {
     "data": {
      "image/png": "[encoded data removed]",
      "text/plain": [
       "<Figure size 1296x1296 with 36 Axes>"
      ]
     },
     "metadata": {
      "needs_background": "light"
     },
     "output_type": "display_data"
    }
   ],
   "source": [
    "train.hist(figsize = (18,18), bins = 50)\n",
    "plt.show()"
   ]
  },
  {
   "cell_type": "code",
   "execution_count": 11,
   "id": "2a40bea4",
   "metadata": {
    "execution": {
     "iopub.execute_input": "2022-05-02T05:06:03.814690Z",
     "iopub.status.busy": "2022-05-02T05:06:03.814241Z",
     "iopub.status.idle": "2022-05-02T05:06:03.826279Z",
     "shell.execute_reply": "2022-05-02T05:06:03.825286Z"
    },
    "papermill": {
     "duration": 0.043041,
     "end_time": "2022-05-02T05:06:03.828414",
     "exception": false,
     "start_time": "2022-05-02T05:06:03.785373",
     "status": "completed"
    },
    "tags": []
   },
   "outputs": [
    {
     "data": {
      "text/plain": [
       "0    0.513512\n",
       "1    0.486488\n",
       "Name: target, dtype: float64"
      ]
     },
     "execution_count": 11,
     "metadata": {},
     "output_type": "execute_result"
    }
   ],
   "source": [
    "train.target.value_counts()/len(train)"
   ]
  },
  {
   "cell_type": "code",
   "execution_count": 12,
   "id": "0b6686e9",
   "metadata": {
    "execution": {
     "iopub.execute_input": "2022-05-02T05:06:03.886489Z",
     "iopub.status.busy": "2022-05-02T05:06:03.886198Z",
     "iopub.status.idle": "2022-05-02T05:06:10.223151Z",
     "shell.execute_reply": "2022-05-02T05:06:10.222534Z"
    },
    "papermill": {
     "duration": 6.369862,
     "end_time": "2022-05-02T05:06:10.226056",
     "exception": false,
     "start_time": "2022-05-02T05:06:03.856194",
     "status": "completed"
    },
    "tags": []
   },
   "outputs": [
    {
     "data": {
      "image/png": "[encoded data removed]",
      "text/plain": [
       "<Figure size 1080x864 with 2 Axes>"
      ]
     },
     "metadata": {
      "needs_background": "light"
     },
     "output_type": "display_data"
    }
   ],
   "source": [
    "plt.figure(figsize = (15,12))\n",
    "sns.heatmap(train.corr(), cmap = 'coolwarm',center=0, annot=True, fmt='.1f')\n",
    "plt.show()"
   ]
  },
  {
   "cell_type": "code",
   "execution_count": 13,
   "id": "8406e2ee",
   "metadata": {
    "execution": {
     "iopub.execute_input": "2022-05-02T05:06:10.291885Z",
     "iopub.status.busy": "2022-05-02T05:06:10.290846Z",
     "iopub.status.idle": "2022-05-02T05:06:10.298082Z",
     "shell.execute_reply": "2022-05-02T05:06:10.297176Z"
    },
    "papermill": {
     "duration": 0.042449,
     "end_time": "2022-05-02T05:06:10.300149",
     "exception": false,
     "start_time": "2022-05-02T05:06:10.257700",
     "status": "completed"
    },
    "tags": []
   },
   "outputs": [
    {
     "data": {
      "text/plain": [
       "['f_00',\n",
       " 'f_01',\n",
       " 'f_02',\n",
       " 'f_03',\n",
       " 'f_04',\n",
       " 'f_05',\n",
       " 'f_06',\n",
       " 'f_19',\n",
       " 'f_20',\n",
       " 'f_21',\n",
       " 'f_22',\n",
       " 'f_23',\n",
       " 'f_24',\n",
       " 'f_25',\n",
       " 'f_26',\n",
       " 'f_28']"
      ]
     },
     "execution_count": 13,
     "metadata": {},
     "output_type": "execute_result"
    }
   ],
   "source": [
    "float_fea = [f for f in train.columns if train[f].dtype == 'float64']\n",
    "float_fea"
   ]
  },
  {
   "cell_type": "markdown",
   "id": "d9daa316",
   "metadata": {
    "papermill": {
     "duration": 0.032576,
     "end_time": "2022-05-02T05:06:10.365401",
     "exception": false,
     "start_time": "2022-05-02T05:06:10.332825",
     "status": "completed"
    },
    "tags": []
   },
   "source": [
    "# Numeric features"
   ]
  },
  {
   "cell_type": "code",
   "execution_count": 14,
   "id": "1e626ce3",
   "metadata": {
    "execution": {
     "iopub.execute_input": "2022-05-02T05:06:10.431673Z",
     "iopub.status.busy": "2022-05-02T05:06:10.431095Z",
     "iopub.status.idle": "2022-05-02T05:06:40.803631Z",
     "shell.execute_reply": "2022-05-02T05:06:40.802697Z"
    },
    "papermill": {
     "duration": 30.451853,
     "end_time": "2022-05-02T05:06:40.849221",
     "exception": false,
     "start_time": "2022-05-02T05:06:10.397368",
     "status": "completed"
    },
    "tags": []
   },
   "outputs": [
    {
     "name": "stderr",
     "output_type": "stream",
     "text": [
      "16it [00:04,  3.67it/s]\n"
     ]
    },
    {
     "data": {
      "image/png": "[encoded data removed]",
      "text/plain": [
       "<Figure size 1152x1152 with 16 Axes>"
      ]
     },
     "metadata": {
      "needs_background": "light"
     },
     "output_type": "display_data"
    },
    {
     "name": "stdout",
     "output_type": "stream",
     "text": [
      "CPU times: user 30.4 s, sys: 243 ms, total: 30.7 s\n",
      "Wall time: 30.4 s\n"
     ]
    }
   ],
   "source": [
    "%%time\n",
    "\n",
    "fig, axs = plt.subplots(4, 4, figsize=(16, 16))\n",
    "for f, ax in tqdm(zip(float_fea, axs.ravel())):\n",
    "    tmp = train[[f, 'target']].sort_values(by = f)\n",
    "    ax.scatter(tmp[f], tmp.target.rolling(1500, center = True).mean())\n",
    "    ax.set_xlabel(f'{f}')\n",
    "plt.suptitle('How the target probability depends on single features')\n",
    "plt.show()"
   ]
  },
  {
   "cell_type": "markdown",
   "id": "9644b959",
   "metadata": {
    "papermill": {
     "duration": 0.039739,
     "end_time": "2022-05-02T05:06:40.930753",
     "exception": false,
     "start_time": "2022-05-02T05:06:40.891014",
     "status": "completed"
    },
    "tags": []
   },
   "source": [
    "# F_27"
   ]
  },
  {
   "cell_type": "code",
   "execution_count": 15,
   "id": "e933e38d",
   "metadata": {
    "execution": {
     "iopub.execute_input": "2022-05-02T05:06:41.014332Z",
     "iopub.status.busy": "2022-05-02T05:06:41.013684Z",
     "iopub.status.idle": "2022-05-02T05:06:45.677984Z",
     "shell.execute_reply": "2022-05-02T05:06:45.676671Z"
    },
    "papermill": {
     "duration": 4.708938,
     "end_time": "2022-05-02T05:06:45.680270",
     "exception": false,
     "start_time": "2022-05-02T05:06:40.971332",
     "status": "completed"
    },
    "tags": []
   },
   "outputs": [
    {
     "name": "stdout",
     "output_type": "stream",
     "text": [
      "Position 0 in f_27\n",
      "        size  probability\n",
      "f_27                     \n",
      "A     451207         0.54\n",
      "B     448793         0.44\n",
      "\n",
      "Position 1 in f_27\n",
      "        size  probability\n",
      "f_27                     \n",
      "A     144762         0.58\n",
      "B     245160         0.48\n",
      "C     225931         0.49\n",
      "D     149579         0.45\n",
      "E      78807         0.43\n",
      "F      35487         0.42\n",
      "G      13713         0.41\n",
      "H       4647         0.40\n",
      "I       1361         0.40\n",
      "J        410         0.38\n",
      "K        113         0.39\n",
      "L         25         0.28\n",
      "M          3         0.67\n",
      "N          2         1.00\n",
      "\n",
      "Position 2 in f_27\n",
      "        size  probability\n",
      "f_27                     \n",
      "A     297840         0.53\n",
      "B     602160         0.46\n",
      "\n",
      "Position 3 in f_27\n",
      "        size  probability\n",
      "f_27                     \n",
      "A     160839         0.57\n",
      "B     237218         0.48\n",
      "C     210015         0.48\n",
      "D     143633         0.45\n",
      "E      81662         0.43\n",
      "F      39504         0.44\n",
      "G      17121         0.45\n",
      "H       6473         0.47\n",
      "I       2379         0.48\n",
      "J        772         0.51\n",
      "K        254         0.57\n",
      "L         87         0.66\n",
      "M         32         0.62\n",
      "N          8         0.75\n",
      "O          3         1.00\n",
      "\n",
      "Position 4 in f_27\n",
      "        size  probability\n",
      "f_27                     \n",
      "A     259608         0.48\n",
      "B     284565         0.45\n",
      "C     196631         0.49\n",
      "D      98838         0.53\n",
      "E      38895         0.57\n",
      "F      14101         0.64\n",
      "G       5018         0.72\n",
      "H       1666         0.76\n",
      "I        484         0.77\n",
      "J        151         0.82\n",
      "K         29         0.86\n",
      "L         10         1.00\n",
      "M          3         1.00\n",
      "O          1         1.00\n",
      "\n",
      "Position 5 in f_27\n",
      "        size  probability\n",
      "f_27                     \n",
      "A     479108         0.47\n",
      "B     420892         0.51\n",
      "\n",
      "Position 6 in f_27\n",
      "        size  probability\n",
      "f_27                     \n",
      "A     101624         0.58\n",
      "B     200124         0.49\n",
      "C     220127         0.49\n",
      "D     173343         0.46\n",
      "E     107769         0.45\n",
      "F      56428         0.46\n",
      "G      25318         0.47\n",
      "H       9972         0.48\n",
      "I       3678         0.49\n",
      "J       1135         0.50\n",
      "K        328         0.52\n",
      "L        118         0.53\n",
      "M         24         0.67\n",
      "N         11         0.18\n",
      "O          1         1.00\n",
      "\n",
      "Position 7 in f_27\n",
      "       size  probability\n",
      "f_27                    \n",
      "A     45103         0.48\n",
      "B     45834         0.41\n",
      "C     45780         0.42\n",
      "D     45568         0.42\n",
      "E     45871         0.42\n",
      "F     45894         0.43\n",
      "G     45539         0.44\n",
      "H     45769         0.45\n",
      "I     45783         0.46\n",
      "J     45653         0.47\n",
      "K     45700         0.48\n",
      "L     45707         0.49\n",
      "M     45988         0.50\n",
      "N     45910         0.51\n",
      "O     45435         0.53\n",
      "P     45277         0.54\n",
      "Q     44641         0.53\n",
      "R     43438         0.55\n",
      "S     41835         0.59\n",
      "T     39275         0.64\n",
      "\n",
      "Position 8 in f_27\n",
      "        size  probability\n",
      "f_27                     \n",
      "A     159749         0.40\n",
      "B     224875         0.45\n",
      "C     213449         0.49\n",
      "D     149312         0.52\n",
      "E      84428         0.56\n",
      "F      40704         0.59\n",
      "G      17533         0.62\n",
      "H       6530         0.65\n",
      "I       2378         0.64\n",
      "J        742         0.69\n",
      "K        216         0.66\n",
      "L         59         0.75\n",
      "M         19         0.68\n",
      "N          5         0.80\n",
      "O          1         1.00\n",
      "\n",
      "Position 9 in f_27\n",
      "        size  probability\n",
      "f_27                     \n",
      "A     114978         0.36\n",
      "B     210131         0.43\n",
      "C     219155         0.49\n",
      "D     165802         0.51\n",
      "E     100344         0.57\n",
      "F      51653         0.62\n",
      "G      23242         0.65\n",
      "H       9596         0.68\n",
      "I       3415         0.72\n",
      "J       1180         0.74\n",
      "K        368         0.76\n",
      "L         93         0.84\n",
      "M         35         0.80\n",
      "N          7         0.86\n",
      "O          1         1.00\n",
      "\n"
     ]
    }
   ],
   "source": [
    "for i in range(10):\n",
    "    print(f'Position {i} in f_27')\n",
    "    tg = train.groupby(train.f_27.str.get(i))\n",
    "    temp = pd.DataFrame({'size': tg.size(), 'probability': tg.target.mean().round(2)})\n",
    "    print(temp)\n",
    "    print()"
   ]
  },
  {
   "cell_type": "markdown",
   "id": "6c9a0d8c",
   "metadata": {
    "papermill": {
     "duration": 0.042989,
     "end_time": "2022-05-02T05:06:45.767854",
     "exception": false,
     "start_time": "2022-05-02T05:06:45.724865",
     "status": "completed"
    },
    "tags": []
   },
   "source": [
    "# Correlation Analysis"
   ]
  },
  {
   "cell_type": "code",
   "execution_count": 16,
   "id": "20c9fb75",
   "metadata": {
    "execution": {
     "iopub.execute_input": "2022-05-02T05:06:45.857743Z",
     "iopub.status.busy": "2022-05-02T05:06:45.857182Z",
     "iopub.status.idle": "2022-05-02T05:06:48.577175Z",
     "shell.execute_reply": "2022-05-02T05:06:48.576501Z"
    },
    "papermill": {
     "duration": 2.767268,
     "end_time": "2022-05-02T05:06:48.578978",
     "exception": false,
     "start_time": "2022-05-02T05:06:45.811710",
     "status": "completed"
    },
    "tags": []
   },
   "outputs": [
    {
     "data": {
      "text/plain": [
       "target    1.000000\n",
       "f_21      0.130887\n",
       "f_19      0.087698\n",
       "f_24      0.086350\n",
       "f_23      0.081206\n",
       "f_11      0.078525\n",
       "f_09      0.067909\n",
       "f_22      0.065554\n",
       "f_26      0.058915\n",
       "f_00      0.055274\n",
       "f_01      0.055011\n",
       "f_29      0.051306\n",
       "f_15      0.043297\n",
       "f_16      0.037303\n",
       "f_20      0.036599\n",
       "f_08      0.035829\n",
       "f_28      0.035824\n",
       "f_10      0.035420\n",
       "f_13      0.034092\n",
       "f_05      0.033048\n",
       "f_25      0.032836\n",
       "f_02      0.031814\n",
       "f_30      0.020721\n",
       "f_14      0.017588\n",
       "f_18      0.010781\n",
       "f_07      0.005257\n",
       "f_17      0.001832\n",
       "f_06      0.000965\n",
       "f_12      0.000962\n",
       "f_03      0.000192\n",
       "id        0.000184\n",
       "f_04      0.000159\n",
       "Name: target, dtype: float64"
      ]
     },
     "execution_count": 16,
     "metadata": {},
     "output_type": "execute_result"
    }
   ],
   "source": [
    "train.corr()['target'].abs().sort_values(ascending = False)"
   ]
  },
  {
   "cell_type": "markdown",
   "id": "412e49e3",
   "metadata": {
    "papermill": {
     "duration": 0.043477,
     "end_time": "2022-05-02T05:06:48.666336",
     "exception": false,
     "start_time": "2022-05-02T05:06:48.622859",
     "status": "completed"
    },
    "tags": []
   },
   "source": [
    "# Pre-processing"
   ]
  },
  {
   "cell_type": "code",
   "execution_count": 17,
   "id": "debbb692",
   "metadata": {
    "execution": {
     "iopub.execute_input": "2022-05-02T05:06:48.755499Z",
     "iopub.status.busy": "2022-05-02T05:06:48.754923Z",
     "iopub.status.idle": "2022-05-02T05:06:48.761098Z",
     "shell.execute_reply": "2022-05-02T05:06:48.760241Z"
    },
    "papermill": {
     "duration": 0.052849,
     "end_time": "2022-05-02T05:06:48.763102",
     "exception": false,
     "start_time": "2022-05-02T05:06:48.710253",
     "status": "completed"
    },
    "tags": []
   },
   "outputs": [
    {
     "data": {
      "text/plain": [
       "['f_10',\n",
       " 'f_11',\n",
       " 'f_12',\n",
       " 'f_13',\n",
       " 'f_14',\n",
       " 'f_15',\n",
       " 'f_16',\n",
       " 'f_17',\n",
       " 'f_18',\n",
       " 'f_07',\n",
       " 'f_08',\n",
       " 'f_09',\n",
       " 'f_29']"
      ]
     },
     "execution_count": 17,
     "metadata": {},
     "output_type": "execute_result"
    }
   ],
   "source": [
    "cat_cols = ['f_'+str(i) for i in range(10,19)] + ['f_07','f_08','f_09','f_29']\n",
    "cat_cols"
   ]
  },
  {
   "cell_type": "code",
   "execution_count": 18,
   "id": "37522ce5",
   "metadata": {
    "execution": {
     "iopub.execute_input": "2022-05-02T05:06:48.853662Z",
     "iopub.status.busy": "2022-05-02T05:06:48.853379Z",
     "iopub.status.idle": "2022-05-02T05:07:05.867178Z",
     "shell.execute_reply": "2022-05-02T05:07:05.866071Z"
    },
    "papermill": {
     "duration": 17.06162,
     "end_time": "2022-05-02T05:07:05.869392",
     "exception": false,
     "start_time": "2022-05-02T05:06:48.807772",
     "status": "completed"
    },
    "tags": []
   },
   "outputs": [
    {
     "name": "stdout",
     "output_type": "stream",
     "text": [
      "(1600000, 33)\n"
     ]
    }
   ],
   "source": [
    "from sklearn.preprocessing import LabelEncoder, StandardScaler\n",
    "\n",
    "df = pd.concat([train, test])\n",
    "\n",
    "le = LabelEncoder()\n",
    "for c in cat_cols:\n",
    "    df[c] = le.fit_transform(df[c].astype('str'))\n",
    "    \n",
    "print(df.shape)"
   ]
  },
  {
   "cell_type": "markdown",
   "id": "0270f520",
   "metadata": {
    "papermill": {
     "duration": 0.044349,
     "end_time": "2022-05-02T05:07:05.957982",
     "exception": false,
     "start_time": "2022-05-02T05:07:05.913633",
     "status": "completed"
    },
    "tags": []
   },
   "source": [
    "# FE"
   ]
  },
  {
   "cell_type": "code",
   "execution_count": 19,
   "id": "6e1b814f",
   "metadata": {
    "execution": {
     "iopub.execute_input": "2022-05-02T05:07:06.048120Z",
     "iopub.status.busy": "2022-05-02T05:07:06.047528Z",
     "iopub.status.idle": "2022-05-02T05:07:18.212270Z",
     "shell.execute_reply": "2022-05-02T05:07:18.211528Z"
    },
    "papermill": {
     "duration": 12.212684,
     "end_time": "2022-05-02T05:07:18.214963",
     "exception": false,
     "start_time": "2022-05-02T05:07:06.002279",
     "status": "completed"
    },
    "tags": []
   },
   "outputs": [
    {
     "name": "stderr",
     "output_type": "stream",
     "text": [
      "100%|██████████| 10/10 [00:10<00:00,  1.09s/it]\n"
     ]
    },
    {
     "name": "stdout",
     "output_type": "stream",
     "text": [
      "(1600000, 44)\n"
     ]
    },
    {
     "data": {
      "text/html": [
       "<div>\n",
       "<style scoped>\n",
       "    .dataframe tbody tr th:only-of-type {\n",
       "        vertical-align: middle;\n",
       "    }\n",
       "\n",
       "    .dataframe tbody tr th {\n",
       "        vertical-align: top;\n",
       "    }\n",
       "\n",
       "    .dataframe thead th {\n",
       "        text-align: right;\n",
       "    }\n",
       "</style>\n",
       "<table border=\"1\" class=\"dataframe\">\n",
       "  <thead>\n",
       "    <tr style=\"text-align: right;\">\n",
       "      <th></th>\n",
       "      <th>id</th>\n",
       "      <th>f_00</th>\n",
       "      <th>f_01</th>\n",
       "      <th>f_02</th>\n",
       "      <th>f_03</th>\n",
       "      <th>f_04</th>\n",
       "      <th>f_05</th>\n",
       "      <th>f_06</th>\n",
       "      <th>f_07</th>\n",
       "      <th>f_08</th>\n",
       "      <th>f_09</th>\n",
       "      <th>f_10</th>\n",
       "      <th>f_11</th>\n",
       "      <th>f_12</th>\n",
       "      <th>f_13</th>\n",
       "      <th>f_14</th>\n",
       "      <th>f_15</th>\n",
       "      <th>f_16</th>\n",
       "      <th>f_17</th>\n",
       "      <th>f_18</th>\n",
       "      <th>f_19</th>\n",
       "      <th>f_20</th>\n",
       "      <th>f_21</th>\n",
       "      <th>f_22</th>\n",
       "      <th>f_23</th>\n",
       "      <th>f_24</th>\n",
       "      <th>f_25</th>\n",
       "      <th>f_26</th>\n",
       "      <th>f_27</th>\n",
       "      <th>f_28</th>\n",
       "      <th>f_29</th>\n",
       "      <th>f_30</th>\n",
       "      <th>target</th>\n",
       "      <th>ch0</th>\n",
       "      <th>ch1</th>\n",
       "      <th>ch2</th>\n",
       "      <th>ch3</th>\n",
       "      <th>ch4</th>\n",
       "      <th>ch5</th>\n",
       "      <th>ch6</th>\n",
       "      <th>ch7</th>\n",
       "      <th>ch8</th>\n",
       "      <th>ch9</th>\n",
       "      <th>unique_characters</th>\n",
       "    </tr>\n",
       "  </thead>\n",
       "  <tbody>\n",
       "    <tr>\n",
       "      <th>0</th>\n",
       "      <td>0</td>\n",
       "      <td>-1.373246</td>\n",
       "      <td>0.238887</td>\n",
       "      <td>-0.243376</td>\n",
       "      <td>0.567405</td>\n",
       "      <td>-0.647715</td>\n",
       "      <td>0.839326</td>\n",
       "      <td>0.113133</td>\n",
       "      <td>1</td>\n",
       "      <td>11</td>\n",
       "      <td>1</td>\n",
       "      <td>9</td>\n",
       "      <td>8</td>\n",
       "      <td>10</td>\n",
       "      <td>1</td>\n",
       "      <td>10</td>\n",
       "      <td>1</td>\n",
       "      <td>0</td>\n",
       "      <td>12</td>\n",
       "      <td>8</td>\n",
       "      <td>0.298218</td>\n",
       "      <td>-0.919717</td>\n",
       "      <td>3.058541</td>\n",
       "      <td>-2.540739</td>\n",
       "      <td>0.766952</td>\n",
       "      <td>-2.730628</td>\n",
       "      <td>-0.208177</td>\n",
       "      <td>1.363402</td>\n",
       "      <td>ABABDADBAB</td>\n",
       "      <td>67.609153</td>\n",
       "      <td>0</td>\n",
       "      <td>0</td>\n",
       "      <td>0.0</td>\n",
       "      <td>0</td>\n",
       "      <td>1</td>\n",
       "      <td>0</td>\n",
       "      <td>1</td>\n",
       "      <td>3</td>\n",
       "      <td>0</td>\n",
       "      <td>3</td>\n",
       "      <td>1</td>\n",
       "      <td>0</td>\n",
       "      <td>1</td>\n",
       "      <td>3</td>\n",
       "    </tr>\n",
       "    <tr>\n",
       "      <th>1</th>\n",
       "      <td>1</td>\n",
       "      <td>1.697021</td>\n",
       "      <td>-1.710322</td>\n",
       "      <td>-2.230332</td>\n",
       "      <td>-0.545661</td>\n",
       "      <td>1.113173</td>\n",
       "      <td>-1.552175</td>\n",
       "      <td>0.447825</td>\n",
       "      <td>1</td>\n",
       "      <td>9</td>\n",
       "      <td>10</td>\n",
       "      <td>0</td>\n",
       "      <td>7</td>\n",
       "      <td>10</td>\n",
       "      <td>0</td>\n",
       "      <td>1</td>\n",
       "      <td>0</td>\n",
       "      <td>10</td>\n",
       "      <td>11</td>\n",
       "      <td>0</td>\n",
       "      <td>-3.147667</td>\n",
       "      <td>-1.075434</td>\n",
       "      <td>2.179050</td>\n",
       "      <td>2.278315</td>\n",
       "      <td>-0.633658</td>\n",
       "      <td>-1.217077</td>\n",
       "      <td>-3.782194</td>\n",
       "      <td>-0.058316</td>\n",
       "      <td>ACACCADCEB</td>\n",
       "      <td>377.096415</td>\n",
       "      <td>0</td>\n",
       "      <td>0</td>\n",
       "      <td>1.0</td>\n",
       "      <td>0</td>\n",
       "      <td>2</td>\n",
       "      <td>0</td>\n",
       "      <td>2</td>\n",
       "      <td>2</td>\n",
       "      <td>0</td>\n",
       "      <td>3</td>\n",
       "      <td>2</td>\n",
       "      <td>4</td>\n",
       "      <td>1</td>\n",
       "      <td>5</td>\n",
       "    </tr>\n",
       "    <tr>\n",
       "      <th>2</th>\n",
       "      <td>2</td>\n",
       "      <td>1.681726</td>\n",
       "      <td>0.616746</td>\n",
       "      <td>-1.027689</td>\n",
       "      <td>0.810492</td>\n",
       "      <td>-0.609086</td>\n",
       "      <td>0.113965</td>\n",
       "      <td>-0.708660</td>\n",
       "      <td>1</td>\n",
       "      <td>0</td>\n",
       "      <td>8</td>\n",
       "      <td>12</td>\n",
       "      <td>11</td>\n",
       "      <td>11</td>\n",
       "      <td>7</td>\n",
       "      <td>1</td>\n",
       "      <td>7</td>\n",
       "      <td>8</td>\n",
       "      <td>1</td>\n",
       "      <td>8</td>\n",
       "      <td>2.820733</td>\n",
       "      <td>-3.485342</td>\n",
       "      <td>-0.784235</td>\n",
       "      <td>-1.385775</td>\n",
       "      <td>-0.520558</td>\n",
       "      <td>-0.009121</td>\n",
       "      <td>2.788536</td>\n",
       "      <td>-3.703488</td>\n",
       "      <td>AAAEABCKAD</td>\n",
       "      <td>-195.599702</td>\n",
       "      <td>0</td>\n",
       "      <td>2</td>\n",
       "      <td>1.0</td>\n",
       "      <td>0</td>\n",
       "      <td>0</td>\n",
       "      <td>0</td>\n",
       "      <td>4</td>\n",
       "      <td>0</td>\n",
       "      <td>1</td>\n",
       "      <td>2</td>\n",
       "      <td>10</td>\n",
       "      <td>0</td>\n",
       "      <td>3</td>\n",
       "      <td>6</td>\n",
       "    </tr>\n",
       "    <tr>\n",
       "      <th>3</th>\n",
       "      <td>3</td>\n",
       "      <td>-0.118172</td>\n",
       "      <td>-0.587835</td>\n",
       "      <td>-0.804638</td>\n",
       "      <td>2.086822</td>\n",
       "      <td>0.371005</td>\n",
       "      <td>-0.128831</td>\n",
       "      <td>-0.282575</td>\n",
       "      <td>10</td>\n",
       "      <td>8</td>\n",
       "      <td>1</td>\n",
       "      <td>0</td>\n",
       "      <td>1</td>\n",
       "      <td>13</td>\n",
       "      <td>8</td>\n",
       "      <td>6</td>\n",
       "      <td>8</td>\n",
       "      <td>9</td>\n",
       "      <td>0</td>\n",
       "      <td>7</td>\n",
       "      <td>1.081084</td>\n",
       "      <td>-2.100177</td>\n",
       "      <td>-2.343819</td>\n",
       "      <td>0.572594</td>\n",
       "      <td>-1.653213</td>\n",
       "      <td>1.686035</td>\n",
       "      <td>-2.533098</td>\n",
       "      <td>-0.608601</td>\n",
       "      <td>BDBBAACBCB</td>\n",
       "      <td>210.826205</td>\n",
       "      <td>0</td>\n",
       "      <td>0</td>\n",
       "      <td>1.0</td>\n",
       "      <td>1</td>\n",
       "      <td>3</td>\n",
       "      <td>1</td>\n",
       "      <td>1</td>\n",
       "      <td>0</td>\n",
       "      <td>0</td>\n",
       "      <td>2</td>\n",
       "      <td>1</td>\n",
       "      <td>2</td>\n",
       "      <td>1</td>\n",
       "      <td>4</td>\n",
       "    </tr>\n",
       "    <tr>\n",
       "      <th>4</th>\n",
       "      <td>4</td>\n",
       "      <td>1.148481</td>\n",
       "      <td>-0.176567</td>\n",
       "      <td>-0.664871</td>\n",
       "      <td>-1.101343</td>\n",
       "      <td>0.467875</td>\n",
       "      <td>0.500117</td>\n",
       "      <td>0.407515</td>\n",
       "      <td>10</td>\n",
       "      <td>9</td>\n",
       "      <td>0</td>\n",
       "      <td>10</td>\n",
       "      <td>8</td>\n",
       "      <td>0</td>\n",
       "      <td>10</td>\n",
       "      <td>0</td>\n",
       "      <td>8</td>\n",
       "      <td>9</td>\n",
       "      <td>1</td>\n",
       "      <td>0</td>\n",
       "      <td>-0.126179</td>\n",
       "      <td>0.605033</td>\n",
       "      <td>1.133665</td>\n",
       "      <td>-3.912929</td>\n",
       "      <td>-1.430366</td>\n",
       "      <td>2.127649</td>\n",
       "      <td>-3.306784</td>\n",
       "      <td>4.371371</td>\n",
       "      <td>BDBCBBCHFE</td>\n",
       "      <td>-217.211798</td>\n",
       "      <td>0</td>\n",
       "      <td>1</td>\n",
       "      <td>1.0</td>\n",
       "      <td>1</td>\n",
       "      <td>3</td>\n",
       "      <td>1</td>\n",
       "      <td>2</td>\n",
       "      <td>1</td>\n",
       "      <td>1</td>\n",
       "      <td>2</td>\n",
       "      <td>7</td>\n",
       "      <td>5</td>\n",
       "      <td>4</td>\n",
       "      <td>6</td>\n",
       "    </tr>\n",
       "  </tbody>\n",
       "</table>\n",
       "</div>"
      ],
      "text/plain": [
       "   id      f_00      f_01      f_02      f_03      f_04      f_05      f_06  \\\n",
       "0   0 -1.373246  0.238887 -0.243376  0.567405 -0.647715  0.839326  0.113133   \n",
       "1   1  1.697021 -1.710322 -2.230332 -0.545661  1.113173 -1.552175  0.447825   \n",
       "2   2  1.681726  0.616746 -1.027689  0.810492 -0.609086  0.113965 -0.708660   \n",
       "3   3 -0.118172 -0.587835 -0.804638  2.086822  0.371005 -0.128831 -0.282575   \n",
       "4   4  1.148481 -0.176567 -0.664871 -1.101343  0.467875  0.500117  0.407515   \n",
       "\n",
       "   f_07  f_08  f_09  f_10  f_11  f_12  f_13  f_14  f_15  f_16  f_17  f_18  \\\n",
       "0     1    11     1     9     8    10     1    10     1     0    12     8   \n",
       "1     1     9    10     0     7    10     0     1     0    10    11     0   \n",
       "2     1     0     8    12    11    11     7     1     7     8     1     8   \n",
       "3    10     8     1     0     1    13     8     6     8     9     0     7   \n",
       "4    10     9     0    10     8     0    10     0     8     9     1     0   \n",
       "\n",
       "       f_19      f_20      f_21      f_22      f_23      f_24      f_25  \\\n",
       "0  0.298218 -0.919717  3.058541 -2.540739  0.766952 -2.730628 -0.208177   \n",
       "1 -3.147667 -1.075434  2.179050  2.278315 -0.633658 -1.217077 -3.782194   \n",
       "2  2.820733 -3.485342 -0.784235 -1.385775 -0.520558 -0.009121  2.788536   \n",
       "3  1.081084 -2.100177 -2.343819  0.572594 -1.653213  1.686035 -2.533098   \n",
       "4 -0.126179  0.605033  1.133665 -3.912929 -1.430366  2.127649 -3.306784   \n",
       "\n",
       "       f_26        f_27        f_28  f_29  f_30  target  ch0  ch1  ch2  ch3  \\\n",
       "0  1.363402  ABABDADBAB   67.609153     0     0     0.0    0    1    0    1   \n",
       "1 -0.058316  ACACCADCEB  377.096415     0     0     1.0    0    2    0    2   \n",
       "2 -3.703488  AAAEABCKAD -195.599702     0     2     1.0    0    0    0    4   \n",
       "3 -0.608601  BDBBAACBCB  210.826205     0     0     1.0    1    3    1    1   \n",
       "4  4.371371  BDBCBBCHFE -217.211798     0     1     1.0    1    3    1    2   \n",
       "\n",
       "   ch4  ch5  ch6  ch7  ch8  ch9  unique_characters  \n",
       "0    3    0    3    1    0    1                  3  \n",
       "1    2    0    3    2    4    1                  5  \n",
       "2    0    1    2   10    0    3                  6  \n",
       "3    0    0    2    1    2    1                  4  \n",
       "4    1    1    2    7    5    4                  6  "
      ]
     },
     "execution_count": 19,
     "metadata": {},
     "output_type": "execute_result"
    }
   ],
   "source": [
    "for i in tqdm(range(10)):\n",
    "    df[f'ch{i}'] = df.f_27.str.get(i).apply(ord) - ord('A')\n",
    "    \n",
    "df[\"unique_characters\"] = df['f_27'].apply(lambda s: len(set(s))) \n",
    "\n",
    "print(df.shape)\n",
    "df.head()"
   ]
  },
  {
   "cell_type": "code",
   "execution_count": 20,
   "id": "6b2778bc",
   "metadata": {
    "execution": {
     "iopub.execute_input": "2022-05-02T05:07:18.318690Z",
     "iopub.status.busy": "2022-05-02T05:07:18.317760Z",
     "iopub.status.idle": "2022-05-02T05:07:18.941332Z",
     "shell.execute_reply": "2022-05-02T05:07:18.940529Z"
    },
    "papermill": {
     "duration": 0.677023,
     "end_time": "2022-05-02T05:07:18.943633",
     "exception": false,
     "start_time": "2022-05-02T05:07:18.266610",
     "status": "completed"
    },
    "tags": []
   },
   "outputs": [
    {
     "name": "stdout",
     "output_type": "stream",
     "text": [
      "(900000, 41)\n",
      "(700000, 41)\n"
     ]
    }
   ],
   "source": [
    "train = df[:len(train)]\n",
    "test = df[-len(test):]\n",
    "\n",
    "\n",
    "X_train = train.drop(['id','target','f_27'], axis = 1)\n",
    "y_train = train.target\n",
    "\n",
    "X_test = test.drop(['id','target','f_27'], axis = 1)\n",
    "\n",
    "print(X_train.shape)\n",
    "print(X_test.shape)"
   ]
  },
  {
   "cell_type": "markdown",
   "id": "8843e971",
   "metadata": {
    "papermill": {
     "duration": 0.053689,
     "end_time": "2022-05-02T05:07:19.048433",
     "exception": false,
     "start_time": "2022-05-02T05:07:18.994744",
     "status": "completed"
    },
    "tags": []
   },
   "source": [
    "# Lightgbm Model"
   ]
  },
  {
   "cell_type": "code",
   "execution_count": 21,
   "id": "a60bc1c0",
   "metadata": {
    "execution": {
     "iopub.execute_input": "2022-05-02T05:07:19.153153Z",
     "iopub.status.busy": "2022-05-02T05:07:19.152539Z",
     "iopub.status.idle": "2022-05-02T05:28:22.415772Z",
     "shell.execute_reply": "2022-05-02T05:28:22.414385Z"
    },
    "papermill": {
     "duration": 1263.375012,
     "end_time": "2022-05-02T05:28:22.474073",
     "exception": false,
     "start_time": "2022-05-02T05:07:19.099061",
     "status": "completed"
    },
    "tags": []
   },
   "outputs": [
    {
     "data": {
      "text/html": [
       "<style type='text/css'>\n",
       ".datatable table.frame { margin-bottom: 0; }\n",
       ".datatable table.frame thead { border-bottom: none; }\n",
       ".datatable table.frame tr.coltypes td {  color: #FFFFFF;  line-height: 6px;  padding: 0 0.5em;}\n",
       ".datatable .bool    { background: #DDDD99; }\n",
       ".datatable .object  { background: #565656; }\n",
       ".datatable .int     { background: #5D9E5D; }\n",
       ".datatable .float   { background: #4040CC; }\n",
       ".datatable .str     { background: #CC4040; }\n",
       ".datatable .time    { background: #40CC40; }\n",
       ".datatable .row_index {  background: var(--jp-border-color3);  border-right: 1px solid var(--jp-border-color0);  color: var(--jp-ui-font-color3);  font-size: 9px;}\n",
       ".datatable .frame tbody td { text-align: left; }\n",
       ".datatable .frame tr.coltypes .row_index {  background: var(--jp-border-color0);}\n",
       ".datatable th:nth-child(2) { padding-left: 12px; }\n",
       ".datatable .hellipsis {  color: var(--jp-cell-editor-border-color);}\n",
       ".datatable .vellipsis {  background: var(--jp-layout-color0);  color: var(--jp-cell-editor-border-color);}\n",
       ".datatable .na {  color: var(--jp-cell-editor-border-color);  font-size: 80%;}\n",
       ".datatable .sp {  opacity: 0.25;}\n",
       ".datatable .footer { font-size: 9px; }\n",
       ".datatable .frame_dimensions {  background: var(--jp-border-color3);  border-top: 1px solid var(--jp-border-color0);  color: var(--jp-ui-font-color3);  display: inline-block;  opacity: 0.6;  padding: 1px 10px 1px 5px;}\n",
       "</style>\n"
      ],
      "text/plain": [
       "<IPython.core.display.HTML object>"
      ]
     },
     "metadata": {},
     "output_type": "display_data"
    },
    {
     "name": "stdout",
     "output_type": "stream",
     "text": [
      "Fold  1\n",
      "************************************************************\n",
      "[400]\ttraining's auc: 0.986686\ttraining's binary_logloss: 0.169366\tvalid_1's auc: 0.982172\tvalid_1's binary_logloss: 0.184944\n",
      "[800]\ttraining's auc: 0.992854\ttraining's binary_logloss: 0.12893\tvalid_1's auc: 0.98671\tvalid_1's binary_logloss: 0.155692\n",
      "[1200]\ttraining's auc: 0.995427\ttraining's binary_logloss: 0.105656\tvalid_1's auc: 0.988396\tvalid_1's binary_logloss: 0.141816\n",
      "[1600]\ttraining's auc: 0.996853\ttraining's binary_logloss: 0.0908437\tvalid_1's auc: 0.989174\tvalid_1's binary_logloss: 0.135005\n",
      "Fold  2\n",
      "************************************************************\n",
      "[400]\ttraining's auc: 0.986978\ttraining's binary_logloss: 0.167063\tvalid_1's auc: 0.982955\tvalid_1's binary_logloss: 0.18143\n",
      "[800]\ttraining's auc: 0.992764\ttraining's binary_logloss: 0.129013\tvalid_1's auc: 0.986939\tvalid_1's binary_logloss: 0.154749\n",
      "[1200]\ttraining's auc: 0.995355\ttraining's binary_logloss: 0.107113\tvalid_1's auc: 0.988491\tvalid_1's binary_logloss: 0.142242\n",
      "[1600]\ttraining's auc: 0.996903\ttraining's binary_logloss: 0.0901608\tvalid_1's auc: 0.989527\tvalid_1's binary_logloss: 0.133236\n",
      "Fold  3\n",
      "************************************************************\n",
      "[400]\ttraining's auc: 0.986887\ttraining's binary_logloss: 0.167903\tvalid_1's auc: 0.982888\tvalid_1's binary_logloss: 0.181646\n",
      "[800]\ttraining's auc: 0.992872\ttraining's binary_logloss: 0.127778\tvalid_1's auc: 0.987198\tvalid_1's binary_logloss: 0.152696\n",
      "[1200]\ttraining's auc: 0.995366\ttraining's binary_logloss: 0.106864\tvalid_1's auc: 0.988591\tvalid_1's binary_logloss: 0.141396\n",
      "[1600]\ttraining's auc: 0.996881\ttraining's binary_logloss: 0.0901537\tvalid_1's auc: 0.989526\tvalid_1's binary_logloss: 0.132872\n",
      "Fold  4\n",
      "************************************************************\n",
      "[400]\ttraining's auc: 0.987236\ttraining's binary_logloss: 0.167064\tvalid_1's auc: 0.983383\tvalid_1's binary_logloss: 0.180284\n",
      "[800]\ttraining's auc: 0.992833\ttraining's binary_logloss: 0.128749\tvalid_1's auc: 0.987359\tvalid_1's binary_logloss: 0.15274\n",
      "[1200]\ttraining's auc: 0.995361\ttraining's binary_logloss: 0.106845\tvalid_1's auc: 0.988903\tvalid_1's binary_logloss: 0.139968\n",
      "[1600]\ttraining's auc: 0.99684\ttraining's binary_logloss: 0.0911442\tvalid_1's auc: 0.989692\tvalid_1's binary_logloss: 0.132514\n",
      "Fold  5\n",
      "************************************************************\n",
      "[400]\ttraining's auc: 0.986889\ttraining's binary_logloss: 0.168574\tvalid_1's auc: 0.982801\tvalid_1's binary_logloss: 0.182842\n",
      "[800]\ttraining's auc: 0.992926\ttraining's binary_logloss: 0.127891\tvalid_1's auc: 0.987215\tvalid_1's binary_logloss: 0.15315\n",
      "[1200]\ttraining's auc: 0.995371\ttraining's binary_logloss: 0.106223\tvalid_1's auc: 0.988692\tvalid_1's binary_logloss: 0.140673\n",
      "[1600]\ttraining's auc: 0.996855\ttraining's binary_logloss: 0.0908257\tvalid_1's auc: 0.989439\tvalid_1's binary_logloss: 0.133712\n",
      "oof auc:  0.9894712892236792\n"
     ]
    }
   ],
   "source": [
    "import lightgbm as lgb\n",
    "\n",
    "from sklearn.model_selection import KFold, StratifiedKFold, GroupKFold\n",
    "from sklearn.metrics import roc_auc_score\n",
    "\n",
    "oof = np.zeros(len(train))\n",
    "pred = np.zeros(len(test))\n",
    "\n",
    "skf = StratifiedKFold(n_splits=5)\n",
    "\n",
    "for i, (tidx, vidx) in enumerate(skf.split(X_train, y_train)):\n",
    "    x_tr, x_val = X_train.iloc[tidx], X_train.iloc[vidx]\n",
    "    y_tr, y_val = y_train.iloc[tidx], y_train.iloc[vidx]\n",
    "    \n",
    "    print('Fold ', i+1)\n",
    "    print('*' * 60)\n",
    "    \n",
    "    clf = lgb.LGBMClassifier(\n",
    "        n_estimators = 1600,\n",
    "        learning_rate = 0.2,\n",
    "        #max_depth = 9,\n",
    "        subsample = 0.8,\n",
    "        colsample_bytree = 0.8,\n",
    "        reg_alpha = 0.5,\n",
    "        reg_lambda = 0.5,\n",
    "        random_state = 2022,\n",
    "        importance_type = 'gain',\n",
    "    \n",
    "    )\n",
    "    \n",
    "    clf.fit(x_tr, y_tr, eval_set = [(x_tr, y_tr),(x_val, y_val)], verbose = 400, \n",
    "           early_stopping_rounds=50, eval_metric= 'auc')\n",
    "    \n",
    "    oof[vidx] = clf.predict_proba(x_val)[:,1]\n",
    "    pred += clf.predict_proba(X_test)[:,1]/skf.n_splits\n",
    "    \n",
    "print('oof auc: ', roc_auc_score(y_train, oof))   "
   ]
  },
  {
   "cell_type": "code",
   "execution_count": 22,
   "id": "797f52c9",
   "metadata": {
    "execution": {
     "iopub.execute_input": "2022-05-02T05:28:22.592123Z",
     "iopub.status.busy": "2022-05-02T05:28:22.591774Z",
     "iopub.status.idle": "2022-05-02T05:28:23.044064Z",
     "shell.execute_reply": "2022-05-02T05:28:23.043074Z"
    },
    "papermill": {
     "duration": 0.514992,
     "end_time": "2022-05-02T05:28:23.046394",
     "exception": false,
     "start_time": "2022-05-02T05:28:22.531402",
     "status": "completed"
    },
    "tags": []
   },
   "outputs": [
    {
     "data": {
      "image/png": "[encoded data removed]",
      "text/plain": [
       "<Figure size 720x720 with 1 Axes>"
      ]
     },
     "metadata": {
      "needs_background": "light"
     },
     "output_type": "display_data"
    }
   ],
   "source": [
    "lgb.plot_importance(clf, max_num_features = 25, figsize = (10,10))\n",
    "plt.show()"
   ]
  },
  {
   "cell_type": "markdown",
   "id": "98e0f6ab",
   "metadata": {
    "papermill": {
     "duration": 0.060475,
     "end_time": "2022-05-02T05:28:23.168872",
     "exception": false,
     "start_time": "2022-05-02T05:28:23.108397",
     "status": "completed"
    },
    "tags": []
   },
   "source": [
    "# Submission"
   ]
  },
  {
   "cell_type": "code",
   "execution_count": 23,
   "id": "3b57ab64",
   "metadata": {
    "execution": {
     "iopub.execute_input": "2022-05-02T05:28:23.294170Z",
     "iopub.status.busy": "2022-05-02T05:28:23.293574Z",
     "iopub.status.idle": "2022-05-02T05:28:24.972414Z",
     "shell.execute_reply": "2022-05-02T05:28:24.971477Z"
    },
    "papermill": {
     "duration": 1.744329,
     "end_time": "2022-05-02T05:28:24.974602",
     "exception": false,
     "start_time": "2022-05-02T05:28:23.230273",
     "status": "completed"
    },
    "tags": []
   },
   "outputs": [
    {
     "data": {
      "text/html": [
       "<div>\n",
       "<style scoped>\n",
       "    .dataframe tbody tr th:only-of-type {\n",
       "        vertical-align: middle;\n",
       "    }\n",
       "\n",
       "    .dataframe tbody tr th {\n",
       "        vertical-align: top;\n",
       "    }\n",
       "\n",
       "    .dataframe thead th {\n",
       "        text-align: right;\n",
       "    }\n",
       "</style>\n",
       "<table border=\"1\" class=\"dataframe\">\n",
       "  <thead>\n",
       "    <tr style=\"text-align: right;\">\n",
       "      <th></th>\n",
       "      <th>id</th>\n",
       "      <th>target</th>\n",
       "    </tr>\n",
       "  </thead>\n",
       "  <tbody>\n",
       "    <tr>\n",
       "      <th>count</th>\n",
       "      <td>7.000000e+05</td>\n",
       "      <td>7.000000e+05</td>\n",
       "    </tr>\n",
       "    <tr>\n",
       "      <th>mean</th>\n",
       "      <td>1.250000e+06</td>\n",
       "      <td>4.862423e-01</td>\n",
       "    </tr>\n",
       "    <tr>\n",
       "      <th>std</th>\n",
       "      <td>2.020727e+05</td>\n",
       "      <td>4.449297e-01</td>\n",
       "    </tr>\n",
       "    <tr>\n",
       "      <th>min</th>\n",
       "      <td>9.000000e+05</td>\n",
       "      <td>7.354644e-11</td>\n",
       "    </tr>\n",
       "    <tr>\n",
       "      <th>25%</th>\n",
       "      <td>1.075000e+06</td>\n",
       "      <td>1.507539e-02</td>\n",
       "    </tr>\n",
       "    <tr>\n",
       "      <th>50%</th>\n",
       "      <td>1.250000e+06</td>\n",
       "      <td>4.046951e-01</td>\n",
       "    </tr>\n",
       "    <tr>\n",
       "      <th>75%</th>\n",
       "      <td>1.424999e+06</td>\n",
       "      <td>9.840784e-01</td>\n",
       "    </tr>\n",
       "    <tr>\n",
       "      <th>max</th>\n",
       "      <td>1.599999e+06</td>\n",
       "      <td>1.000000e+00</td>\n",
       "    </tr>\n",
       "  </tbody>\n",
       "</table>\n",
       "</div>"
      ],
      "text/plain": [
       "                 id        target\n",
       "count  7.000000e+05  7.000000e+05\n",
       "mean   1.250000e+06  4.862423e-01\n",
       "std    2.020727e+05  4.449297e-01\n",
       "min    9.000000e+05  7.354644e-11\n",
       "25%    1.075000e+06  1.507539e-02\n",
       "50%    1.250000e+06  4.046951e-01\n",
       "75%    1.424999e+06  9.840784e-01\n",
       "max    1.599999e+06  1.000000e+00"
      ]
     },
     "execution_count": 23,
     "metadata": {},
     "output_type": "execute_result"
    }
   ],
   "source": [
    "sub['target'] = pred\n",
    "\n",
    "sub.to_csv('sub_lgbm.csv', index = False)\n",
    "\n",
    "sub.describe()\n"
   ]
  },
  {
   "cell_type": "code",
   "execution_count": 24,
   "id": "01506715",
   "metadata": {
    "execution": {
     "iopub.execute_input": "2022-05-02T05:28:25.100090Z",
     "iopub.status.busy": "2022-05-02T05:28:25.099453Z",
     "iopub.status.idle": "2022-05-02T05:28:25.111024Z",
     "shell.execute_reply": "2022-05-02T05:28:25.110439Z"
    },
    "papermill": {
     "duration": 0.076989,
     "end_time": "2022-05-02T05:28:25.112976",
     "exception": false,
     "start_time": "2022-05-02T05:28:25.035987",
     "status": "completed"
    },
    "tags": []
   },
   "outputs": [
    {
     "data": {
      "text/html": [
       "<div>\n",
       "<style scoped>\n",
       "    .dataframe tbody tr th:only-of-type {\n",
       "        vertical-align: middle;\n",
       "    }\n",
       "\n",
       "    .dataframe tbody tr th {\n",
       "        vertical-align: top;\n",
       "    }\n",
       "\n",
       "    .dataframe thead th {\n",
       "        text-align: right;\n",
       "    }\n",
       "</style>\n",
       "<table border=\"1\" class=\"dataframe\">\n",
       "  <thead>\n",
       "    <tr style=\"text-align: right;\">\n",
       "      <th></th>\n",
       "      <th>id</th>\n",
       "      <th>target</th>\n",
       "    </tr>\n",
       "  </thead>\n",
       "  <tbody>\n",
       "    <tr>\n",
       "      <th>0</th>\n",
       "      <td>900000</td>\n",
       "      <td>9.986559e-01</td>\n",
       "    </tr>\n",
       "    <tr>\n",
       "      <th>1</th>\n",
       "      <td>900001</td>\n",
       "      <td>9.888423e-01</td>\n",
       "    </tr>\n",
       "    <tr>\n",
       "      <th>2</th>\n",
       "      <td>900002</td>\n",
       "      <td>8.078882e-06</td>\n",
       "    </tr>\n",
       "    <tr>\n",
       "      <th>3</th>\n",
       "      <td>900003</td>\n",
       "      <td>1.044097e-02</td>\n",
       "    </tr>\n",
       "    <tr>\n",
       "      <th>4</th>\n",
       "      <td>900004</td>\n",
       "      <td>9.945533e-01</td>\n",
       "    </tr>\n",
       "    <tr>\n",
       "      <th>...</th>\n",
       "      <td>...</td>\n",
       "      <td>...</td>\n",
       "    </tr>\n",
       "    <tr>\n",
       "      <th>699995</th>\n",
       "      <td>1599995</td>\n",
       "      <td>6.168557e-01</td>\n",
       "    </tr>\n",
       "    <tr>\n",
       "      <th>699996</th>\n",
       "      <td>1599996</td>\n",
       "      <td>9.973558e-01</td>\n",
       "    </tr>\n",
       "    <tr>\n",
       "      <th>699997</th>\n",
       "      <td>1599997</td>\n",
       "      <td>1.496460e-01</td>\n",
       "    </tr>\n",
       "    <tr>\n",
       "      <th>699998</th>\n",
       "      <td>1599998</td>\n",
       "      <td>9.900114e-03</td>\n",
       "    </tr>\n",
       "    <tr>\n",
       "      <th>699999</th>\n",
       "      <td>1599999</td>\n",
       "      <td>2.121376e-07</td>\n",
       "    </tr>\n",
       "  </tbody>\n",
       "</table>\n",
       "<p>700000 rows × 2 columns</p>\n",
       "</div>"
      ],
      "text/plain": [
       "             id        target\n",
       "0        900000  9.986559e-01\n",
       "1        900001  9.888423e-01\n",
       "2        900002  8.078882e-06\n",
       "3        900003  1.044097e-02\n",
       "4        900004  9.945533e-01\n",
       "...         ...           ...\n",
       "699995  1599995  6.168557e-01\n",
       "699996  1599996  9.973558e-01\n",
       "699997  1599997  1.496460e-01\n",
       "699998  1599998  9.900114e-03\n",
       "699999  1599999  2.121376e-07\n",
       "\n",
       "[700000 rows x 2 columns]"
      ]
     },
     "execution_count": 24,
     "metadata": {},
     "output_type": "execute_result"
    }
   ],
   "source": [
    "sub"
   ]
  },
  {
   "cell_type": "code",
   "execution_count": null,
   "id": "4acc46bd",
   "metadata": {
    "papermill": {
     "duration": 0.060537,
     "end_time": "2022-05-02T05:28:25.234564",
     "exception": false,
     "start_time": "2022-05-02T05:28:25.174027",
     "status": "completed"
    },
    "tags": []
   },
   "outputs": [],
   "source": []
  }
 ],
 "metadata": {
  "kernelspec": {
   "display_name": "Python 3",
   "language": "python",
   "name": "python3"
  },
  "language_info": {
   "codemirror_mode": {
    "name": "ipython",
    "version": 3
   },
   "file_extension": ".py",
   "mimetype": "text/x-python",
   "name": "python",
   "nbconvert_exporter": "python",
   "pygments_lexer": "ipython3",
   "version": "3.7.12"
  },
  "papermill": {
   "default_parameters": {},
   "duration": 1379.158669,
   "end_time": "2022-05-02T05:28:26.421528",
   "environment_variables": {},
   "exception": null,
   "input_path": "__notebook__.ipynb",
   "output_path": "__notebook__.ipynb",
   "parameters": {},
   "start_time": "2022-05-02T05:05:27.262859",
   "version": "2.3.4"
  }
 },
 "nbformat": 4,
 "nbformat_minor": 5
}
