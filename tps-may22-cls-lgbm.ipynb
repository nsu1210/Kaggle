{
 "cells": [
  {
   "cell_type": "code",
   "execution_count": 1,
   "id": "9e112928",
   "metadata": {
    "execution": {
     "iopub.execute_input": "2022-05-02T02:07:28.327285Z",
     "iopub.status.busy": "2022-05-02T02:07:28.326697Z",
     "iopub.status.idle": "2022-05-02T02:07:29.413665Z",
     "shell.execute_reply": "2022-05-02T02:07:29.412717Z"
    },
    "papermill": {
     "duration": 1.118055,
     "end_time": "2022-05-02T02:07:29.416201",
     "exception": false,
     "start_time": "2022-05-02T02:07:28.298146",
     "status": "completed"
    },
    "tags": []
   },
   "outputs": [],
   "source": [
    "import numpy as np\n",
    "import pandas as pd\n",
    "import gc\n",
    "import matplotlib.pyplot as plt\n",
    "import seaborn as sns\n",
    "\n",
    "from tqdm import tqdm\n",
    "\n",
    "pd.set_option('display.max_columns', None)\n",
    "\n",
    "import warnings\n",
    "warnings.filterwarnings('ignore')"
   ]
  },
  {
   "cell_type": "markdown",
   "id": "fac10c67",
   "metadata": {
    "papermill": {
     "duration": 0.025313,
     "end_time": "2022-05-02T02:07:29.467125",
     "exception": false,
     "start_time": "2022-05-02T02:07:29.441812",
     "status": "completed"
    },
    "tags": []
   },
   "source": [
    "# Goal\n",
    "The May edition of the 2022 Tabular Playground series binary classification problem that includes a number of different feature interactions. This competition is an opportunity to explore various methods for identifying and exploiting these feature interactions."
   ]
  },
  {
   "cell_type": "code",
   "execution_count": 2,
   "id": "8adc968f",
   "metadata": {
    "execution": {
     "iopub.execute_input": "2022-05-02T02:07:29.520186Z",
     "iopub.status.busy": "2022-05-02T02:07:29.519826Z",
     "iopub.status.idle": "2022-05-02T02:07:45.189761Z",
     "shell.execute_reply": "2022-05-02T02:07:45.189154Z"
    },
    "papermill": {
     "duration": 15.699165,
     "end_time": "2022-05-02T02:07:45.191998",
     "exception": false,
     "start_time": "2022-05-02T02:07:29.492833",
     "status": "completed"
    },
    "tags": []
   },
   "outputs": [
    {
     "name": "stdout",
     "output_type": "stream",
     "text": [
      "(900000, 33)\n",
      "(700000, 32)\n",
      "(700000, 2)\n"
     ]
    }
   ],
   "source": [
    "train = pd.read_csv('../input/tabular-playground-series-may-2022/train.csv')\n",
    "test = pd.read_csv('../input/tabular-playground-series-may-2022/test.csv')\n",
    "sub = pd.read_csv('../input/tabular-playground-series-may-2022/sample_submission.csv')\n",
    "\n",
    "print(train.shape)\n",
    "print(test.shape)\n",
    "print(sub.shape)"
   ]
  },
  {
   "cell_type": "code",
   "execution_count": 3,
   "id": "40cc5bec",
   "metadata": {
    "execution": {
     "iopub.execute_input": "2022-05-02T02:07:45.247377Z",
     "iopub.status.busy": "2022-05-02T02:07:45.246442Z",
     "iopub.status.idle": "2022-05-02T02:07:45.281979Z",
     "shell.execute_reply": "2022-05-02T02:07:45.281137Z"
    },
    "papermill": {
     "duration": 0.064835,
     "end_time": "2022-05-02T02:07:45.284147",
     "exception": false,
     "start_time": "2022-05-02T02:07:45.219312",
     "status": "completed"
    },
    "tags": []
   },
   "outputs": [
    {
     "data": {
      "text/html": [
       "<div>\n",
       "<style scoped>\n",
       "    .dataframe tbody tr th:only-of-type {\n",
       "        vertical-align: middle;\n",
       "    }\n",
       "\n",
       "    .dataframe tbody tr th {\n",
       "        vertical-align: top;\n",
       "    }\n",
       "\n",
       "    .dataframe thead th {\n",
       "        text-align: right;\n",
       "    }\n",
       "</style>\n",
       "<table border=\"1\" class=\"dataframe\">\n",
       "  <thead>\n",
       "    <tr style=\"text-align: right;\">\n",
       "      <th></th>\n",
       "      <th>id</th>\n",
       "      <th>f_00</th>\n",
       "      <th>f_01</th>\n",
       "      <th>f_02</th>\n",
       "      <th>f_03</th>\n",
       "      <th>f_04</th>\n",
       "      <th>f_05</th>\n",
       "      <th>f_06</th>\n",
       "      <th>f_07</th>\n",
       "      <th>f_08</th>\n",
       "      <th>f_09</th>\n",
       "      <th>f_10</th>\n",
       "      <th>f_11</th>\n",
       "      <th>f_12</th>\n",
       "      <th>f_13</th>\n",
       "      <th>f_14</th>\n",
       "      <th>f_15</th>\n",
       "      <th>f_16</th>\n",
       "      <th>f_17</th>\n",
       "      <th>f_18</th>\n",
       "      <th>f_19</th>\n",
       "      <th>f_20</th>\n",
       "      <th>f_21</th>\n",
       "      <th>f_22</th>\n",
       "      <th>f_23</th>\n",
       "      <th>f_24</th>\n",
       "      <th>f_25</th>\n",
       "      <th>f_26</th>\n",
       "      <th>f_27</th>\n",
       "      <th>f_28</th>\n",
       "      <th>f_29</th>\n",
       "      <th>f_30</th>\n",
       "      <th>target</th>\n",
       "    </tr>\n",
       "  </thead>\n",
       "  <tbody>\n",
       "    <tr>\n",
       "      <th>0</th>\n",
       "      <td>0</td>\n",
       "      <td>-1.373246</td>\n",
       "      <td>0.238887</td>\n",
       "      <td>-0.243376</td>\n",
       "      <td>0.567405</td>\n",
       "      <td>-0.647715</td>\n",
       "      <td>0.839326</td>\n",
       "      <td>0.113133</td>\n",
       "      <td>1</td>\n",
       "      <td>5</td>\n",
       "      <td>1</td>\n",
       "      <td>3</td>\n",
       "      <td>3</td>\n",
       "      <td>3</td>\n",
       "      <td>1</td>\n",
       "      <td>6</td>\n",
       "      <td>1</td>\n",
       "      <td>0</td>\n",
       "      <td>7</td>\n",
       "      <td>4</td>\n",
       "      <td>0.298218</td>\n",
       "      <td>-0.919717</td>\n",
       "      <td>3.058541</td>\n",
       "      <td>-2.540739</td>\n",
       "      <td>0.766952</td>\n",
       "      <td>-2.730628</td>\n",
       "      <td>-0.208177</td>\n",
       "      <td>1.363402</td>\n",
       "      <td>ABABDADBAB</td>\n",
       "      <td>67.609153</td>\n",
       "      <td>0</td>\n",
       "      <td>0</td>\n",
       "      <td>0</td>\n",
       "    </tr>\n",
       "    <tr>\n",
       "      <th>1</th>\n",
       "      <td>1</td>\n",
       "      <td>1.697021</td>\n",
       "      <td>-1.710322</td>\n",
       "      <td>-2.230332</td>\n",
       "      <td>-0.545661</td>\n",
       "      <td>1.113173</td>\n",
       "      <td>-1.552175</td>\n",
       "      <td>0.447825</td>\n",
       "      <td>1</td>\n",
       "      <td>3</td>\n",
       "      <td>4</td>\n",
       "      <td>0</td>\n",
       "      <td>2</td>\n",
       "      <td>3</td>\n",
       "      <td>0</td>\n",
       "      <td>1</td>\n",
       "      <td>0</td>\n",
       "      <td>4</td>\n",
       "      <td>6</td>\n",
       "      <td>0</td>\n",
       "      <td>-3.147667</td>\n",
       "      <td>-1.075434</td>\n",
       "      <td>2.179050</td>\n",
       "      <td>2.278315</td>\n",
       "      <td>-0.633658</td>\n",
       "      <td>-1.217077</td>\n",
       "      <td>-3.782194</td>\n",
       "      <td>-0.058316</td>\n",
       "      <td>ACACCADCEB</td>\n",
       "      <td>377.096415</td>\n",
       "      <td>0</td>\n",
       "      <td>0</td>\n",
       "      <td>1</td>\n",
       "    </tr>\n",
       "    <tr>\n",
       "      <th>2</th>\n",
       "      <td>2</td>\n",
       "      <td>1.681726</td>\n",
       "      <td>0.616746</td>\n",
       "      <td>-1.027689</td>\n",
       "      <td>0.810492</td>\n",
       "      <td>-0.609086</td>\n",
       "      <td>0.113965</td>\n",
       "      <td>-0.708660</td>\n",
       "      <td>1</td>\n",
       "      <td>0</td>\n",
       "      <td>2</td>\n",
       "      <td>6</td>\n",
       "      <td>6</td>\n",
       "      <td>4</td>\n",
       "      <td>3</td>\n",
       "      <td>1</td>\n",
       "      <td>2</td>\n",
       "      <td>2</td>\n",
       "      <td>1</td>\n",
       "      <td>4</td>\n",
       "      <td>2.820733</td>\n",
       "      <td>-3.485342</td>\n",
       "      <td>-0.784235</td>\n",
       "      <td>-1.385775</td>\n",
       "      <td>-0.520558</td>\n",
       "      <td>-0.009121</td>\n",
       "      <td>2.788536</td>\n",
       "      <td>-3.703488</td>\n",
       "      <td>AAAEABCKAD</td>\n",
       "      <td>-195.599702</td>\n",
       "      <td>0</td>\n",
       "      <td>2</td>\n",
       "      <td>1</td>\n",
       "    </tr>\n",
       "    <tr>\n",
       "      <th>3</th>\n",
       "      <td>3</td>\n",
       "      <td>-0.118172</td>\n",
       "      <td>-0.587835</td>\n",
       "      <td>-0.804638</td>\n",
       "      <td>2.086822</td>\n",
       "      <td>0.371005</td>\n",
       "      <td>-0.128831</td>\n",
       "      <td>-0.282575</td>\n",
       "      <td>3</td>\n",
       "      <td>2</td>\n",
       "      <td>1</td>\n",
       "      <td>0</td>\n",
       "      <td>1</td>\n",
       "      <td>6</td>\n",
       "      <td>4</td>\n",
       "      <td>2</td>\n",
       "      <td>3</td>\n",
       "      <td>3</td>\n",
       "      <td>0</td>\n",
       "      <td>3</td>\n",
       "      <td>1.081084</td>\n",
       "      <td>-2.100177</td>\n",
       "      <td>-2.343819</td>\n",
       "      <td>0.572594</td>\n",
       "      <td>-1.653213</td>\n",
       "      <td>1.686035</td>\n",
       "      <td>-2.533098</td>\n",
       "      <td>-0.608601</td>\n",
       "      <td>BDBBAACBCB</td>\n",
       "      <td>210.826205</td>\n",
       "      <td>0</td>\n",
       "      <td>0</td>\n",
       "      <td>1</td>\n",
       "    </tr>\n",
       "    <tr>\n",
       "      <th>4</th>\n",
       "      <td>4</td>\n",
       "      <td>1.148481</td>\n",
       "      <td>-0.176567</td>\n",
       "      <td>-0.664871</td>\n",
       "      <td>-1.101343</td>\n",
       "      <td>0.467875</td>\n",
       "      <td>0.500117</td>\n",
       "      <td>0.407515</td>\n",
       "      <td>3</td>\n",
       "      <td>3</td>\n",
       "      <td>0</td>\n",
       "      <td>4</td>\n",
       "      <td>3</td>\n",
       "      <td>0</td>\n",
       "      <td>6</td>\n",
       "      <td>0</td>\n",
       "      <td>3</td>\n",
       "      <td>3</td>\n",
       "      <td>1</td>\n",
       "      <td>0</td>\n",
       "      <td>-0.126179</td>\n",
       "      <td>0.605033</td>\n",
       "      <td>1.133665</td>\n",
       "      <td>-3.912929</td>\n",
       "      <td>-1.430366</td>\n",
       "      <td>2.127649</td>\n",
       "      <td>-3.306784</td>\n",
       "      <td>4.371371</td>\n",
       "      <td>BDBCBBCHFE</td>\n",
       "      <td>-217.211798</td>\n",
       "      <td>0</td>\n",
       "      <td>1</td>\n",
       "      <td>1</td>\n",
       "    </tr>\n",
       "  </tbody>\n",
       "</table>\n",
       "</div>"
      ],
      "text/plain": [
       "   id      f_00      f_01      f_02      f_03      f_04      f_05      f_06  \\\n",
       "0   0 -1.373246  0.238887 -0.243376  0.567405 -0.647715  0.839326  0.113133   \n",
       "1   1  1.697021 -1.710322 -2.230332 -0.545661  1.113173 -1.552175  0.447825   \n",
       "2   2  1.681726  0.616746 -1.027689  0.810492 -0.609086  0.113965 -0.708660   \n",
       "3   3 -0.118172 -0.587835 -0.804638  2.086822  0.371005 -0.128831 -0.282575   \n",
       "4   4  1.148481 -0.176567 -0.664871 -1.101343  0.467875  0.500117  0.407515   \n",
       "\n",
       "   f_07  f_08  f_09  f_10  f_11  f_12  f_13  f_14  f_15  f_16  f_17  f_18  \\\n",
       "0     1     5     1     3     3     3     1     6     1     0     7     4   \n",
       "1     1     3     4     0     2     3     0     1     0     4     6     0   \n",
       "2     1     0     2     6     6     4     3     1     2     2     1     4   \n",
       "3     3     2     1     0     1     6     4     2     3     3     0     3   \n",
       "4     3     3     0     4     3     0     6     0     3     3     1     0   \n",
       "\n",
       "       f_19      f_20      f_21      f_22      f_23      f_24      f_25  \\\n",
       "0  0.298218 -0.919717  3.058541 -2.540739  0.766952 -2.730628 -0.208177   \n",
       "1 -3.147667 -1.075434  2.179050  2.278315 -0.633658 -1.217077 -3.782194   \n",
       "2  2.820733 -3.485342 -0.784235 -1.385775 -0.520558 -0.009121  2.788536   \n",
       "3  1.081084 -2.100177 -2.343819  0.572594 -1.653213  1.686035 -2.533098   \n",
       "4 -0.126179  0.605033  1.133665 -3.912929 -1.430366  2.127649 -3.306784   \n",
       "\n",
       "       f_26        f_27        f_28  f_29  f_30  target  \n",
       "0  1.363402  ABABDADBAB   67.609153     0     0       0  \n",
       "1 -0.058316  ACACCADCEB  377.096415     0     0       1  \n",
       "2 -3.703488  AAAEABCKAD -195.599702     0     2       1  \n",
       "3 -0.608601  BDBBAACBCB  210.826205     0     0       1  \n",
       "4  4.371371  BDBCBBCHFE -217.211798     0     1       1  "
      ]
     },
     "execution_count": 3,
     "metadata": {},
     "output_type": "execute_result"
    }
   ],
   "source": [
    "train.head()"
   ]
  },
  {
   "cell_type": "markdown",
   "id": "a4a74091",
   "metadata": {
    "papermill": {
     "duration": 0.026297,
     "end_time": "2022-05-02T02:07:45.337281",
     "exception": false,
     "start_time": "2022-05-02T02:07:45.310984",
     "status": "completed"
    },
    "tags": []
   },
   "source": [
    "# EDA"
   ]
  },
  {
   "cell_type": "code",
   "execution_count": 4,
   "id": "a98d2bde",
   "metadata": {
    "execution": {
     "iopub.execute_input": "2022-05-02T02:07:45.393400Z",
     "iopub.status.busy": "2022-05-02T02:07:45.393091Z",
     "iopub.status.idle": "2022-05-02T02:07:46.929332Z",
     "shell.execute_reply": "2022-05-02T02:07:46.928443Z"
    },
    "papermill": {
     "duration": 1.567405,
     "end_time": "2022-05-02T02:07:46.931490",
     "exception": false,
     "start_time": "2022-05-02T02:07:45.364085",
     "status": "completed"
    },
    "tags": []
   },
   "outputs": [
    {
     "data": {
      "text/html": [
       "<div>\n",
       "<style scoped>\n",
       "    .dataframe tbody tr th:only-of-type {\n",
       "        vertical-align: middle;\n",
       "    }\n",
       "\n",
       "    .dataframe tbody tr th {\n",
       "        vertical-align: top;\n",
       "    }\n",
       "\n",
       "    .dataframe thead th {\n",
       "        text-align: right;\n",
       "    }\n",
       "</style>\n",
       "<table border=\"1\" class=\"dataframe\">\n",
       "  <thead>\n",
       "    <tr style=\"text-align: right;\">\n",
       "      <th></th>\n",
       "      <th>id</th>\n",
       "      <th>f_00</th>\n",
       "      <th>f_01</th>\n",
       "      <th>f_02</th>\n",
       "      <th>f_03</th>\n",
       "      <th>f_04</th>\n",
       "      <th>f_05</th>\n",
       "      <th>f_06</th>\n",
       "      <th>f_07</th>\n",
       "      <th>f_08</th>\n",
       "      <th>f_09</th>\n",
       "      <th>f_10</th>\n",
       "      <th>f_11</th>\n",
       "      <th>f_12</th>\n",
       "      <th>f_13</th>\n",
       "      <th>f_14</th>\n",
       "      <th>f_15</th>\n",
       "      <th>f_16</th>\n",
       "      <th>f_17</th>\n",
       "      <th>f_18</th>\n",
       "      <th>f_19</th>\n",
       "      <th>f_20</th>\n",
       "      <th>f_21</th>\n",
       "      <th>f_22</th>\n",
       "      <th>f_23</th>\n",
       "      <th>f_24</th>\n",
       "      <th>f_25</th>\n",
       "      <th>f_26</th>\n",
       "      <th>f_27</th>\n",
       "      <th>f_28</th>\n",
       "      <th>f_29</th>\n",
       "      <th>f_30</th>\n",
       "      <th>target</th>\n",
       "    </tr>\n",
       "  </thead>\n",
       "  <tbody>\n",
       "    <tr>\n",
       "      <th>miss</th>\n",
       "      <td>0</td>\n",
       "      <td>0</td>\n",
       "      <td>0</td>\n",
       "      <td>0</td>\n",
       "      <td>0</td>\n",
       "      <td>0</td>\n",
       "      <td>0</td>\n",
       "      <td>0</td>\n",
       "      <td>0</td>\n",
       "      <td>0</td>\n",
       "      <td>0</td>\n",
       "      <td>0</td>\n",
       "      <td>0</td>\n",
       "      <td>0</td>\n",
       "      <td>0</td>\n",
       "      <td>0</td>\n",
       "      <td>0</td>\n",
       "      <td>0</td>\n",
       "      <td>0</td>\n",
       "      <td>0</td>\n",
       "      <td>0</td>\n",
       "      <td>0</td>\n",
       "      <td>0</td>\n",
       "      <td>0</td>\n",
       "      <td>0</td>\n",
       "      <td>0</td>\n",
       "      <td>0</td>\n",
       "      <td>0</td>\n",
       "      <td>0</td>\n",
       "      <td>0</td>\n",
       "      <td>0</td>\n",
       "      <td>0</td>\n",
       "      <td>0</td>\n",
       "    </tr>\n",
       "    <tr>\n",
       "      <th>level</th>\n",
       "      <td>900000</td>\n",
       "      <td>900000</td>\n",
       "      <td>900000</td>\n",
       "      <td>900000</td>\n",
       "      <td>900000</td>\n",
       "      <td>900000</td>\n",
       "      <td>900000</td>\n",
       "      <td>900000</td>\n",
       "      <td>16</td>\n",
       "      <td>16</td>\n",
       "      <td>15</td>\n",
       "      <td>15</td>\n",
       "      <td>14</td>\n",
       "      <td>16</td>\n",
       "      <td>13</td>\n",
       "      <td>14</td>\n",
       "      <td>15</td>\n",
       "      <td>16</td>\n",
       "      <td>14</td>\n",
       "      <td>14</td>\n",
       "      <td>900000</td>\n",
       "      <td>900000</td>\n",
       "      <td>900000</td>\n",
       "      <td>900000</td>\n",
       "      <td>900000</td>\n",
       "      <td>900000</td>\n",
       "      <td>900000</td>\n",
       "      <td>900000</td>\n",
       "      <td>741354</td>\n",
       "      <td>900000</td>\n",
       "      <td>2</td>\n",
       "      <td>3</td>\n",
       "      <td>2</td>\n",
       "    </tr>\n",
       "    <tr>\n",
       "      <th>dtype</th>\n",
       "      <td>int64</td>\n",
       "      <td>float64</td>\n",
       "      <td>float64</td>\n",
       "      <td>float64</td>\n",
       "      <td>float64</td>\n",
       "      <td>float64</td>\n",
       "      <td>float64</td>\n",
       "      <td>float64</td>\n",
       "      <td>int64</td>\n",
       "      <td>int64</td>\n",
       "      <td>int64</td>\n",
       "      <td>int64</td>\n",
       "      <td>int64</td>\n",
       "      <td>int64</td>\n",
       "      <td>int64</td>\n",
       "      <td>int64</td>\n",
       "      <td>int64</td>\n",
       "      <td>int64</td>\n",
       "      <td>int64</td>\n",
       "      <td>int64</td>\n",
       "      <td>float64</td>\n",
       "      <td>float64</td>\n",
       "      <td>float64</td>\n",
       "      <td>float64</td>\n",
       "      <td>float64</td>\n",
       "      <td>float64</td>\n",
       "      <td>float64</td>\n",
       "      <td>float64</td>\n",
       "      <td>object</td>\n",
       "      <td>float64</td>\n",
       "      <td>int64</td>\n",
       "      <td>int64</td>\n",
       "      <td>int64</td>\n",
       "    </tr>\n",
       "  </tbody>\n",
       "</table>\n",
       "</div>"
      ],
      "text/plain": [
       "           id     f_00     f_01     f_02     f_03     f_04     f_05     f_06  \\\n",
       "miss        0        0        0        0        0        0        0        0   \n",
       "level  900000   900000   900000   900000   900000   900000   900000   900000   \n",
       "dtype   int64  float64  float64  float64  float64  float64  float64  float64   \n",
       "\n",
       "        f_07   f_08   f_09   f_10   f_11   f_12   f_13   f_14   f_15   f_16  \\\n",
       "miss       0      0      0      0      0      0      0      0      0      0   \n",
       "level     16     16     15     15     14     16     13     14     15     16   \n",
       "dtype  int64  int64  int64  int64  int64  int64  int64  int64  int64  int64   \n",
       "\n",
       "        f_17   f_18     f_19     f_20     f_21     f_22     f_23     f_24  \\\n",
       "miss       0      0        0        0        0        0        0        0   \n",
       "level     14     14   900000   900000   900000   900000   900000   900000   \n",
       "dtype  int64  int64  float64  float64  float64  float64  float64  float64   \n",
       "\n",
       "          f_25     f_26    f_27     f_28   f_29   f_30 target  \n",
       "miss         0        0       0        0      0      0      0  \n",
       "level   900000   900000  741354   900000      2      3      2  \n",
       "dtype  float64  float64  object  float64  int64  int64  int64  "
      ]
     },
     "execution_count": 4,
     "metadata": {},
     "output_type": "execute_result"
    }
   ],
   "source": [
    "def eda(df):\n",
    "    summary = pd.DataFrame()\n",
    "    summary['miss'] = df.isnull().sum()\n",
    "    summary['level'] = df.nunique()\n",
    "    summary['dtype'] = df.dtypes\n",
    "    return summary\n",
    "\n",
    "edatrain = eda(train)\n",
    "edatrain.T"
   ]
  },
  {
   "cell_type": "code",
   "execution_count": 5,
   "id": "cbcc01e3",
   "metadata": {
    "execution": {
     "iopub.execute_input": "2022-05-02T02:07:46.990200Z",
     "iopub.status.busy": "2022-05-02T02:07:46.989929Z",
     "iopub.status.idle": "2022-05-02T02:07:48.257554Z",
     "shell.execute_reply": "2022-05-02T02:07:48.256647Z"
    },
    "papermill": {
     "duration": 1.298385,
     "end_time": "2022-05-02T02:07:48.259556",
     "exception": false,
     "start_time": "2022-05-02T02:07:46.961171",
     "status": "completed"
    },
    "tags": []
   },
   "outputs": [
    {
     "data": {
      "text/html": [
       "<div>\n",
       "<style scoped>\n",
       "    .dataframe tbody tr th:only-of-type {\n",
       "        vertical-align: middle;\n",
       "    }\n",
       "\n",
       "    .dataframe tbody tr th {\n",
       "        vertical-align: top;\n",
       "    }\n",
       "\n",
       "    .dataframe thead th {\n",
       "        text-align: right;\n",
       "    }\n",
       "</style>\n",
       "<table border=\"1\" class=\"dataframe\">\n",
       "  <thead>\n",
       "    <tr style=\"text-align: right;\">\n",
       "      <th></th>\n",
       "      <th>id</th>\n",
       "      <th>f_00</th>\n",
       "      <th>f_01</th>\n",
       "      <th>f_02</th>\n",
       "      <th>f_03</th>\n",
       "      <th>f_04</th>\n",
       "      <th>f_05</th>\n",
       "      <th>f_06</th>\n",
       "      <th>f_07</th>\n",
       "      <th>f_08</th>\n",
       "      <th>f_09</th>\n",
       "      <th>f_10</th>\n",
       "      <th>f_11</th>\n",
       "      <th>f_12</th>\n",
       "      <th>f_13</th>\n",
       "      <th>f_14</th>\n",
       "      <th>f_15</th>\n",
       "      <th>f_16</th>\n",
       "      <th>f_17</th>\n",
       "      <th>f_18</th>\n",
       "      <th>f_19</th>\n",
       "      <th>f_20</th>\n",
       "      <th>f_21</th>\n",
       "      <th>f_22</th>\n",
       "      <th>f_23</th>\n",
       "      <th>f_24</th>\n",
       "      <th>f_25</th>\n",
       "      <th>f_26</th>\n",
       "      <th>f_27</th>\n",
       "      <th>f_28</th>\n",
       "      <th>f_29</th>\n",
       "      <th>f_30</th>\n",
       "    </tr>\n",
       "  </thead>\n",
       "  <tbody>\n",
       "    <tr>\n",
       "      <th>miss</th>\n",
       "      <td>0</td>\n",
       "      <td>0</td>\n",
       "      <td>0</td>\n",
       "      <td>0</td>\n",
       "      <td>0</td>\n",
       "      <td>0</td>\n",
       "      <td>0</td>\n",
       "      <td>0</td>\n",
       "      <td>0</td>\n",
       "      <td>0</td>\n",
       "      <td>0</td>\n",
       "      <td>0</td>\n",
       "      <td>0</td>\n",
       "      <td>0</td>\n",
       "      <td>0</td>\n",
       "      <td>0</td>\n",
       "      <td>0</td>\n",
       "      <td>0</td>\n",
       "      <td>0</td>\n",
       "      <td>0</td>\n",
       "      <td>0</td>\n",
       "      <td>0</td>\n",
       "      <td>0</td>\n",
       "      <td>0</td>\n",
       "      <td>0</td>\n",
       "      <td>0</td>\n",
       "      <td>0</td>\n",
       "      <td>0</td>\n",
       "      <td>0</td>\n",
       "      <td>0</td>\n",
       "      <td>0</td>\n",
       "      <td>0</td>\n",
       "    </tr>\n",
       "    <tr>\n",
       "      <th>level</th>\n",
       "      <td>700000</td>\n",
       "      <td>700000</td>\n",
       "      <td>700000</td>\n",
       "      <td>700000</td>\n",
       "      <td>700000</td>\n",
       "      <td>700000</td>\n",
       "      <td>700000</td>\n",
       "      <td>700000</td>\n",
       "      <td>16</td>\n",
       "      <td>14</td>\n",
       "      <td>16</td>\n",
       "      <td>16</td>\n",
       "      <td>15</td>\n",
       "      <td>16</td>\n",
       "      <td>14</td>\n",
       "      <td>13</td>\n",
       "      <td>14</td>\n",
       "      <td>14</td>\n",
       "      <td>14</td>\n",
       "      <td>14</td>\n",
       "      <td>700000</td>\n",
       "      <td>700000</td>\n",
       "      <td>700000</td>\n",
       "      <td>700000</td>\n",
       "      <td>700000</td>\n",
       "      <td>700000</td>\n",
       "      <td>700000</td>\n",
       "      <td>700000</td>\n",
       "      <td>598482</td>\n",
       "      <td>700000</td>\n",
       "      <td>2</td>\n",
       "      <td>3</td>\n",
       "    </tr>\n",
       "    <tr>\n",
       "      <th>dtype</th>\n",
       "      <td>int64</td>\n",
       "      <td>float64</td>\n",
       "      <td>float64</td>\n",
       "      <td>float64</td>\n",
       "      <td>float64</td>\n",
       "      <td>float64</td>\n",
       "      <td>float64</td>\n",
       "      <td>float64</td>\n",
       "      <td>int64</td>\n",
       "      <td>int64</td>\n",
       "      <td>int64</td>\n",
       "      <td>int64</td>\n",
       "      <td>int64</td>\n",
       "      <td>int64</td>\n",
       "      <td>int64</td>\n",
       "      <td>int64</td>\n",
       "      <td>int64</td>\n",
       "      <td>int64</td>\n",
       "      <td>int64</td>\n",
       "      <td>int64</td>\n",
       "      <td>float64</td>\n",
       "      <td>float64</td>\n",
       "      <td>float64</td>\n",
       "      <td>float64</td>\n",
       "      <td>float64</td>\n",
       "      <td>float64</td>\n",
       "      <td>float64</td>\n",
       "      <td>float64</td>\n",
       "      <td>object</td>\n",
       "      <td>float64</td>\n",
       "      <td>int64</td>\n",
       "      <td>int64</td>\n",
       "    </tr>\n",
       "  </tbody>\n",
       "</table>\n",
       "</div>"
      ],
      "text/plain": [
       "           id     f_00     f_01     f_02     f_03     f_04     f_05     f_06  \\\n",
       "miss        0        0        0        0        0        0        0        0   \n",
       "level  700000   700000   700000   700000   700000   700000   700000   700000   \n",
       "dtype   int64  float64  float64  float64  float64  float64  float64  float64   \n",
       "\n",
       "        f_07   f_08   f_09   f_10   f_11   f_12   f_13   f_14   f_15   f_16  \\\n",
       "miss       0      0      0      0      0      0      0      0      0      0   \n",
       "level     16     14     16     16     15     16     14     13     14     14   \n",
       "dtype  int64  int64  int64  int64  int64  int64  int64  int64  int64  int64   \n",
       "\n",
       "        f_17   f_18     f_19     f_20     f_21     f_22     f_23     f_24  \\\n",
       "miss       0      0        0        0        0        0        0        0   \n",
       "level     14     14   700000   700000   700000   700000   700000   700000   \n",
       "dtype  int64  int64  float64  float64  float64  float64  float64  float64   \n",
       "\n",
       "          f_25     f_26    f_27     f_28   f_29   f_30  \n",
       "miss         0        0       0        0      0      0  \n",
       "level   700000   700000  598482   700000      2      3  \n",
       "dtype  float64  float64  object  float64  int64  int64  "
      ]
     },
     "execution_count": 5,
     "metadata": {},
     "output_type": "execute_result"
    }
   ],
   "source": [
    "eda(test).T"
   ]
  },
  {
   "cell_type": "markdown",
   "id": "6264e61b",
   "metadata": {
    "papermill": {
     "duration": 0.028369,
     "end_time": "2022-05-02T02:07:48.316192",
     "exception": false,
     "start_time": "2022-05-02T02:07:48.287823",
     "status": "completed"
    },
    "tags": []
   },
   "source": [
    "### New Levels?"
   ]
  },
  {
   "cell_type": "code",
   "execution_count": 6,
   "id": "feda6a6a",
   "metadata": {
    "execution": {
     "iopub.execute_input": "2022-05-02T02:07:48.375302Z",
     "iopub.status.busy": "2022-05-02T02:07:48.375043Z",
     "iopub.status.idle": "2022-05-02T02:07:48.388188Z",
     "shell.execute_reply": "2022-05-02T02:07:48.387523Z"
    },
    "papermill": {
     "duration": 0.044404,
     "end_time": "2022-05-02T02:07:48.389812",
     "exception": false,
     "start_time": "2022-05-02T02:07:48.345408",
     "status": "completed"
    },
    "tags": []
   },
   "outputs": [
    {
     "data": {
      "text/plain": [
       "2     233926\n",
       "1     215260\n",
       "3     174680\n",
       "0     102521\n",
       "4      99712\n",
       "5      46471\n",
       "6      18316\n",
       "7       6378\n",
       "8       1934\n",
       "9        626\n",
       "10       145\n",
       "11        25\n",
       "12         6\n",
       "Name: f_13, dtype: int64"
      ]
     },
     "execution_count": 6,
     "metadata": {},
     "output_type": "execute_result"
    }
   ],
   "source": [
    "train.f_13.value_counts()"
   ]
  },
  {
   "cell_type": "code",
   "execution_count": 7,
   "id": "e3f6d966",
   "metadata": {
    "execution": {
     "iopub.execute_input": "2022-05-02T02:07:48.448351Z",
     "iopub.status.busy": "2022-05-02T02:07:48.447496Z",
     "iopub.status.idle": "2022-05-02T02:07:48.457899Z",
     "shell.execute_reply": "2022-05-02T02:07:48.457161Z"
    },
    "papermill": {
     "duration": 0.041612,
     "end_time": "2022-05-02T02:07:48.459720",
     "exception": false,
     "start_time": "2022-05-02T02:07:48.418108",
     "status": "completed"
    },
    "tags": []
   },
   "outputs": [
    {
     "data": {
      "text/plain": [
       "2     182018\n",
       "1     167469\n",
       "3     135820\n",
       "0      79807\n",
       "4      77447\n",
       "5      36200\n",
       "6      14228\n",
       "7       4970\n",
       "8       1493\n",
       "9        403\n",
       "10       116\n",
       "11        23\n",
       "12         4\n",
       "13         2\n",
       "Name: f_13, dtype: int64"
      ]
     },
     "execution_count": 7,
     "metadata": {},
     "output_type": "execute_result"
    }
   ],
   "source": [
    "test.f_13.value_counts()"
   ]
  },
  {
   "cell_type": "code",
   "execution_count": 8,
   "id": "07d904cf",
   "metadata": {
    "execution": {
     "iopub.execute_input": "2022-05-02T02:07:48.518801Z",
     "iopub.status.busy": "2022-05-02T02:07:48.518169Z",
     "iopub.status.idle": "2022-05-02T02:07:48.544601Z",
     "shell.execute_reply": "2022-05-02T02:07:48.543800Z"
    },
    "papermill": {
     "duration": 0.058249,
     "end_time": "2022-05-02T02:07:48.546706",
     "exception": false,
     "start_time": "2022-05-02T02:07:48.488457",
     "status": "completed"
    },
    "tags": []
   },
   "outputs": [
    {
     "data": {
      "text/plain": [
       "f_30\n",
       "0    0.476652\n",
       "1    0.480685\n",
       "2    0.501921\n",
       "Name: target, dtype: float64"
      ]
     },
     "execution_count": 8,
     "metadata": {},
     "output_type": "execute_result"
    }
   ],
   "source": [
    "train.groupby('f_30')['target'].mean()"
   ]
  },
  {
   "cell_type": "code",
   "execution_count": 9,
   "id": "0bc371ee",
   "metadata": {
    "execution": {
     "iopub.execute_input": "2022-05-02T02:07:48.607263Z",
     "iopub.status.busy": "2022-05-02T02:07:48.606542Z",
     "iopub.status.idle": "2022-05-02T02:07:51.284072Z",
     "shell.execute_reply": "2022-05-02T02:07:51.283235Z"
    },
    "papermill": {
     "duration": 2.709838,
     "end_time": "2022-05-02T02:07:51.286103",
     "exception": false,
     "start_time": "2022-05-02T02:07:48.576265",
     "status": "completed"
    },
    "tags": []
   },
   "outputs": [
    {
     "data": {
      "text/plain": [
       "0"
      ]
     },
     "execution_count": 9,
     "metadata": {},
     "output_type": "execute_result"
    }
   ],
   "source": [
    "train.duplicated().sum()"
   ]
  },
  {
   "cell_type": "code",
   "execution_count": 10,
   "id": "5b97ee16",
   "metadata": {
    "execution": {
     "iopub.execute_input": "2022-05-02T02:07:51.347625Z",
     "iopub.status.busy": "2022-05-02T02:07:51.347103Z",
     "iopub.status.idle": "2022-05-02T02:07:57.903567Z",
     "shell.execute_reply": "2022-05-02T02:07:57.902415Z"
    },
    "papermill": {
     "duration": 6.589814,
     "end_time": "2022-05-02T02:07:57.905891",
     "exception": false,
     "start_time": "2022-05-02T02:07:51.316077",
     "status": "completed"
    },
    "tags": []
   },
   "outputs": [
    {
     "data": {
      "image/png": "[encoded data removed]",
      "text/plain": [
       "<Figure size 1296x1296 with 36 Axes>"
      ]
     },
     "metadata": {
      "needs_background": "light"
     },
     "output_type": "display_data"
    }
   ],
   "source": [
    "train.hist(figsize = (18,18), bins = 50)\n",
    "plt.show()"
   ]
  },
  {
   "cell_type": "code",
   "execution_count": 11,
   "id": "e37b19c5",
   "metadata": {
    "execution": {
     "iopub.execute_input": "2022-05-02T02:07:57.973229Z",
     "iopub.status.busy": "2022-05-02T02:07:57.972497Z",
     "iopub.status.idle": "2022-05-02T02:07:57.985664Z",
     "shell.execute_reply": "2022-05-02T02:07:57.984908Z"
    },
    "papermill": {
     "duration": 0.049044,
     "end_time": "2022-05-02T02:07:57.987670",
     "exception": false,
     "start_time": "2022-05-02T02:07:57.938626",
     "status": "completed"
    },
    "tags": []
   },
   "outputs": [
    {
     "data": {
      "text/plain": [
       "0    0.513512\n",
       "1    0.486488\n",
       "Name: target, dtype: float64"
      ]
     },
     "execution_count": 11,
     "metadata": {},
     "output_type": "execute_result"
    }
   ],
   "source": [
    "train.target.value_counts()/len(train)"
   ]
  },
  {
   "cell_type": "code",
   "execution_count": 12,
   "id": "3279fd45",
   "metadata": {
    "execution": {
     "iopub.execute_input": "2022-05-02T02:07:58.054761Z",
     "iopub.status.busy": "2022-05-02T02:07:58.054241Z",
     "iopub.status.idle": "2022-05-02T02:08:01.412064Z",
     "shell.execute_reply": "2022-05-02T02:08:01.411284Z"
    },
    "papermill": {
     "duration": 3.393876,
     "end_time": "2022-05-02T02:08:01.414530",
     "exception": false,
     "start_time": "2022-05-02T02:07:58.020654",
     "status": "completed"
    },
    "tags": []
   },
   "outputs": [
    {
     "data": {
      "image/png": "[encoded data removed]",
      "text/plain": [
       "<Figure size 864x720 with 2 Axes>"
      ]
     },
     "metadata": {
      "needs_background": "light"
     },
     "output_type": "display_data"
    }
   ],
   "source": [
    "plt.figure(figsize = (12,10))\n",
    "sns.heatmap(train.corr(), cmap = 'coolwarm')\n",
    "plt.show()"
   ]
  },
  {
   "cell_type": "markdown",
   "id": "0bf3721c",
   "metadata": {
    "papermill": {
     "duration": 0.033956,
     "end_time": "2022-05-02T02:08:01.488729",
     "exception": false,
     "start_time": "2022-05-02T02:08:01.454773",
     "status": "completed"
    },
    "tags": []
   },
   "source": [
    "# Correlation Analysis"
   ]
  },
  {
   "cell_type": "code",
   "execution_count": 13,
   "id": "94402145",
   "metadata": {
    "execution": {
     "iopub.execute_input": "2022-05-02T02:08:01.562637Z",
     "iopub.status.busy": "2022-05-02T02:08:01.562044Z",
     "iopub.status.idle": "2022-05-02T02:08:04.214144Z",
     "shell.execute_reply": "2022-05-02T02:08:04.213250Z"
    },
    "papermill": {
     "duration": 2.693431,
     "end_time": "2022-05-02T02:08:04.216508",
     "exception": false,
     "start_time": "2022-05-02T02:08:01.523077",
     "status": "completed"
    },
    "tags": []
   },
   "outputs": [
    {
     "data": {
      "text/plain": [
       "target    1.000000\n",
       "f_21      0.130887\n",
       "f_19      0.087698\n",
       "f_24      0.086350\n",
       "f_23      0.081206\n",
       "f_11      0.078525\n",
       "f_09      0.067909\n",
       "f_22      0.065554\n",
       "f_26      0.058915\n",
       "f_00      0.055274\n",
       "f_01      0.055011\n",
       "f_29      0.051306\n",
       "f_15      0.043297\n",
       "f_16      0.037303\n",
       "f_20      0.036599\n",
       "f_08      0.035829\n",
       "f_28      0.035824\n",
       "f_10      0.035420\n",
       "f_13      0.034092\n",
       "f_05      0.033048\n",
       "f_25      0.032836\n",
       "f_02      0.031814\n",
       "f_30      0.020721\n",
       "f_14      0.017588\n",
       "f_18      0.010781\n",
       "f_07      0.005257\n",
       "f_17      0.001832\n",
       "f_06      0.000965\n",
       "f_12      0.000962\n",
       "f_03      0.000192\n",
       "id        0.000184\n",
       "f_04      0.000159\n",
       "Name: target, dtype: float64"
      ]
     },
     "execution_count": 13,
     "metadata": {},
     "output_type": "execute_result"
    }
   ],
   "source": [
    "train.corr()['target'].abs().sort_values(ascending = False)"
   ]
  },
  {
   "cell_type": "markdown",
   "id": "862760e3",
   "metadata": {
    "papermill": {
     "duration": 0.035322,
     "end_time": "2022-05-02T02:08:04.286113",
     "exception": false,
     "start_time": "2022-05-02T02:08:04.250791",
     "status": "completed"
    },
    "tags": []
   },
   "source": [
    "# Pre-processing"
   ]
  },
  {
   "cell_type": "code",
   "execution_count": 14,
   "id": "767c78b4",
   "metadata": {
    "execution": {
     "iopub.execute_input": "2022-05-02T02:08:04.357722Z",
     "iopub.status.busy": "2022-05-02T02:08:04.357307Z",
     "iopub.status.idle": "2022-05-02T02:08:04.364091Z",
     "shell.execute_reply": "2022-05-02T02:08:04.363235Z"
    },
    "papermill": {
     "duration": 0.044692,
     "end_time": "2022-05-02T02:08:04.365960",
     "exception": false,
     "start_time": "2022-05-02T02:08:04.321268",
     "status": "completed"
    },
    "tags": []
   },
   "outputs": [
    {
     "data": {
      "text/plain": [
       "['f_10',\n",
       " 'f_11',\n",
       " 'f_12',\n",
       " 'f_13',\n",
       " 'f_14',\n",
       " 'f_15',\n",
       " 'f_16',\n",
       " 'f_17',\n",
       " 'f_18',\n",
       " 'f_07',\n",
       " 'f_08',\n",
       " 'f_09',\n",
       " 'f_27',\n",
       " 'f_29']"
      ]
     },
     "execution_count": 14,
     "metadata": {},
     "output_type": "execute_result"
    }
   ],
   "source": [
    "cat_cols = ['f_'+str(i) for i in range(10,19)] + ['f_07','f_08','f_09','f_27','f_29']\n",
    "cat_cols"
   ]
  },
  {
   "cell_type": "code",
   "execution_count": 15,
   "id": "81fdaf8a",
   "metadata": {
    "execution": {
     "iopub.execute_input": "2022-05-02T02:08:04.436638Z",
     "iopub.status.busy": "2022-05-02T02:08:04.436227Z",
     "iopub.status.idle": "2022-05-02T02:08:40.774106Z",
     "shell.execute_reply": "2022-05-02T02:08:40.773028Z"
    },
    "papermill": {
     "duration": 36.408289,
     "end_time": "2022-05-02T02:08:40.808681",
     "exception": false,
     "start_time": "2022-05-02T02:08:04.400392",
     "status": "completed"
    },
    "tags": []
   },
   "outputs": [
    {
     "name": "stdout",
     "output_type": "stream",
     "text": [
      "(1600000, 33)\n"
     ]
    }
   ],
   "source": [
    "from sklearn.preprocessing import LabelEncoder, StandardScaler\n",
    "\n",
    "df = pd.concat([train, test])\n",
    "\n",
    "le = LabelEncoder()\n",
    "for c in cat_cols:\n",
    "    df[c] = le.fit_transform(df[c].astype('str'))\n",
    "    \n",
    "print(df.shape)"
   ]
  },
  {
   "cell_type": "code",
   "execution_count": 16,
   "id": "87577409",
   "metadata": {
    "execution": {
     "iopub.execute_input": "2022-05-02T02:08:40.880267Z",
     "iopub.status.busy": "2022-05-02T02:08:40.879462Z",
     "iopub.status.idle": "2022-05-02T02:08:41.349560Z",
     "shell.execute_reply": "2022-05-02T02:08:41.348360Z"
    },
    "papermill": {
     "duration": 0.509696,
     "end_time": "2022-05-02T02:08:41.353031",
     "exception": false,
     "start_time": "2022-05-02T02:08:40.843335",
     "status": "completed"
    },
    "tags": []
   },
   "outputs": [
    {
     "name": "stdout",
     "output_type": "stream",
     "text": [
      "(900000, 31)\n",
      "(700000, 31)\n"
     ]
    }
   ],
   "source": [
    "train = df[:len(train)]\n",
    "test = df[-len(test):]\n",
    "\n",
    "\n",
    "X_train = train.drop(['id','target'], axis = 1)\n",
    "y_train = train.target\n",
    "\n",
    "X_test = test.drop(['id','target'], axis = 1)\n",
    "\n",
    "print(X_train.shape)\n",
    "print(X_test.shape)"
   ]
  },
  {
   "cell_type": "markdown",
   "id": "1c34f190",
   "metadata": {
    "papermill": {
     "duration": 0.034736,
     "end_time": "2022-05-02T02:08:41.423633",
     "exception": false,
     "start_time": "2022-05-02T02:08:41.388897",
     "status": "completed"
    },
    "tags": []
   },
   "source": [
    "# Lightgbm Model"
   ]
  },
  {
   "cell_type": "code",
   "execution_count": 17,
   "id": "3d348985",
   "metadata": {
    "execution": {
     "iopub.execute_input": "2022-05-02T02:08:41.496207Z",
     "iopub.status.busy": "2022-05-02T02:08:41.495343Z",
     "iopub.status.idle": "2022-05-02T02:22:07.986749Z",
     "shell.execute_reply": "2022-05-02T02:22:07.985648Z"
    },
    "papermill": {
     "duration": 806.585341,
     "end_time": "2022-05-02T02:22:08.044665",
     "exception": false,
     "start_time": "2022-05-02T02:08:41.459324",
     "status": "completed"
    },
    "tags": []
   },
   "outputs": [
    {
     "data": {
      "text/html": [
       "<style type='text/css'>\n",
       ".datatable table.frame { margin-bottom: 0; }\n",
       ".datatable table.frame thead { border-bottom: none; }\n",
       ".datatable table.frame tr.coltypes td {  color: #FFFFFF;  line-height: 6px;  padding: 0 0.5em;}\n",
       ".datatable .bool    { background: #DDDD99; }\n",
       ".datatable .object  { background: #565656; }\n",
       ".datatable .int     { background: #5D9E5D; }\n",
       ".datatable .float   { background: #4040CC; }\n",
       ".datatable .str     { background: #CC4040; }\n",
       ".datatable .time    { background: #40CC40; }\n",
       ".datatable .row_index {  background: var(--jp-border-color3);  border-right: 1px solid var(--jp-border-color0);  color: var(--jp-ui-font-color3);  font-size: 9px;}\n",
       ".datatable .frame tbody td { text-align: left; }\n",
       ".datatable .frame tr.coltypes .row_index {  background: var(--jp-border-color0);}\n",
       ".datatable th:nth-child(2) { padding-left: 12px; }\n",
       ".datatable .hellipsis {  color: var(--jp-cell-editor-border-color);}\n",
       ".datatable .vellipsis {  background: var(--jp-layout-color0);  color: var(--jp-cell-editor-border-color);}\n",
       ".datatable .na {  color: var(--jp-cell-editor-border-color);  font-size: 80%;}\n",
       ".datatable .sp {  opacity: 0.25;}\n",
       ".datatable .footer { font-size: 9px; }\n",
       ".datatable .frame_dimensions {  background: var(--jp-border-color3);  border-top: 1px solid var(--jp-border-color0);  color: var(--jp-ui-font-color3);  display: inline-block;  opacity: 0.6;  padding: 1px 10px 1px 5px;}\n",
       "</style>\n"
      ],
      "text/plain": [
       "<IPython.core.display.HTML object>"
      ]
     },
     "metadata": {},
     "output_type": "display_data"
    },
    {
     "name": "stdout",
     "output_type": "stream",
     "text": [
      "Fold  1\n",
      "************************************************************\n",
      "[100]\ttraining's auc: 0.891035\ttraining's binary_logloss: 0.459694\tvalid_1's auc: 0.889184\tvalid_1's binary_logloss: 0.461615\n",
      "[200]\ttraining's auc: 0.912103\ttraining's binary_logloss: 0.406234\tvalid_1's auc: 0.909729\tvalid_1's binary_logloss: 0.409545\n",
      "[300]\ttraining's auc: 0.921627\ttraining's binary_logloss: 0.381667\tvalid_1's auc: 0.918774\tvalid_1's binary_logloss: 0.386186\n",
      "[400]\ttraining's auc: 0.926882\ttraining's binary_logloss: 0.366834\tvalid_1's auc: 0.923523\tvalid_1's binary_logloss: 0.37252\n",
      "[500]\ttraining's auc: 0.930642\ttraining's binary_logloss: 0.356527\tvalid_1's auc: 0.926643\tvalid_1's binary_logloss: 0.363585\n",
      "[600]\ttraining's auc: 0.933886\ttraining's binary_logloss: 0.347307\tvalid_1's auc: 0.929234\tvalid_1's binary_logloss: 0.355823\n",
      "[700]\ttraining's auc: 0.93607\ttraining's binary_logloss: 0.341107\tvalid_1's auc: 0.930728\tvalid_1's binary_logloss: 0.351088\n",
      "[800]\ttraining's auc: 0.937967\ttraining's binary_logloss: 0.335843\tvalid_1's auc: 0.931953\tvalid_1's binary_logloss: 0.347299\n",
      "[900]\ttraining's auc: 0.939724\ttraining's binary_logloss: 0.33074\tvalid_1's auc: 0.933082\tvalid_1's binary_logloss: 0.343624\n",
      "[1000]\ttraining's auc: 0.941426\ttraining's binary_logloss: 0.32592\tvalid_1's auc: 0.934209\tvalid_1's binary_logloss: 0.34013\n",
      "Fold  2\n",
      "************************************************************\n",
      "[100]\ttraining's auc: 0.892549\ttraining's binary_logloss: 0.457279\tvalid_1's auc: 0.888682\tvalid_1's binary_logloss: 0.461689\n",
      "[200]\ttraining's auc: 0.912876\ttraining's binary_logloss: 0.405013\tvalid_1's auc: 0.90833\tvalid_1's binary_logloss: 0.411529\n",
      "[300]\ttraining's auc: 0.922041\ttraining's binary_logloss: 0.380751\tvalid_1's auc: 0.917095\tvalid_1's binary_logloss: 0.388618\n",
      "[400]\ttraining's auc: 0.927928\ttraining's binary_logloss: 0.364832\tvalid_1's auc: 0.922401\tvalid_1's binary_logloss: 0.374136\n",
      "[500]\ttraining's auc: 0.931483\ttraining's binary_logloss: 0.354767\tvalid_1's auc: 0.92544\tvalid_1's binary_logloss: 0.365328\n",
      "[600]\ttraining's auc: 0.934443\ttraining's binary_logloss: 0.346169\tvalid_1's auc: 0.927756\tvalid_1's binary_logloss: 0.358264\n",
      "[700]\ttraining's auc: 0.936841\ttraining's binary_logloss: 0.339645\tvalid_1's auc: 0.929689\tvalid_1's binary_logloss: 0.352934\n",
      "[800]\ttraining's auc: 0.938814\ttraining's binary_logloss: 0.333963\tvalid_1's auc: 0.931032\tvalid_1's binary_logloss: 0.348738\n",
      "[900]\ttraining's auc: 0.94054\ttraining's binary_logloss: 0.328704\tvalid_1's auc: 0.932214\tvalid_1's binary_logloss: 0.344842\n",
      "[1000]\ttraining's auc: 0.942054\ttraining's binary_logloss: 0.324299\tvalid_1's auc: 0.93314\tvalid_1's binary_logloss: 0.341851\n",
      "Fold  3\n",
      "************************************************************\n",
      "[100]\ttraining's auc: 0.891637\ttraining's binary_logloss: 0.459687\tvalid_1's auc: 0.88953\tvalid_1's binary_logloss: 0.46195\n",
      "[200]\ttraining's auc: 0.911822\ttraining's binary_logloss: 0.406703\tvalid_1's auc: 0.909227\tvalid_1's binary_logloss: 0.410298\n",
      "[300]\ttraining's auc: 0.921291\ttraining's binary_logloss: 0.382432\tvalid_1's auc: 0.918126\tvalid_1's binary_logloss: 0.387299\n",
      "[400]\ttraining's auc: 0.926537\ttraining's binary_logloss: 0.368176\tvalid_1's auc: 0.922803\tvalid_1's binary_logloss: 0.3743\n",
      "[500]\ttraining's auc: 0.930492\ttraining's binary_logloss: 0.357212\tvalid_1's auc: 0.926147\tvalid_1's binary_logloss: 0.364694\n",
      "[600]\ttraining's auc: 0.933443\ttraining's binary_logloss: 0.348843\tvalid_1's auc: 0.928458\tvalid_1's binary_logloss: 0.357727\n",
      "[700]\ttraining's auc: 0.93596\ttraining's binary_logloss: 0.341872\tvalid_1's auc: 0.930351\tvalid_1's binary_logloss: 0.3521\n",
      "[800]\ttraining's auc: 0.937938\ttraining's binary_logloss: 0.336435\tvalid_1's auc: 0.931628\tvalid_1's binary_logloss: 0.348163\n",
      "[900]\ttraining's auc: 0.939489\ttraining's binary_logloss: 0.331726\tvalid_1's auc: 0.932583\tvalid_1's binary_logloss: 0.344815\n",
      "[1000]\ttraining's auc: 0.941323\ttraining's binary_logloss: 0.326436\tvalid_1's auc: 0.933844\tvalid_1's binary_logloss: 0.340879\n",
      "Fold  4\n",
      "************************************************************\n",
      "[100]\ttraining's auc: 0.892024\ttraining's binary_logloss: 0.458583\tvalid_1's auc: 0.890184\tvalid_1's binary_logloss: 0.460356\n",
      "[200]\ttraining's auc: 0.911734\ttraining's binary_logloss: 0.407918\tvalid_1's auc: 0.908949\tvalid_1's binary_logloss: 0.41155\n",
      "[300]\ttraining's auc: 0.920517\ttraining's binary_logloss: 0.385428\tvalid_1's auc: 0.917048\tvalid_1's binary_logloss: 0.390526\n",
      "[400]\ttraining's auc: 0.926218\ttraining's binary_logloss: 0.369948\tvalid_1's auc: 0.922263\tvalid_1's binary_logloss: 0.376259\n",
      "[500]\ttraining's auc: 0.930503\ttraining's binary_logloss: 0.357768\tvalid_1's auc: 0.925947\tvalid_1's binary_logloss: 0.365465\n",
      "[600]\ttraining's auc: 0.933399\ttraining's binary_logloss: 0.34941\tvalid_1's auc: 0.928262\tvalid_1's binary_logloss: 0.358446\n",
      "[700]\ttraining's auc: 0.935729\ttraining's binary_logloss: 0.342835\tvalid_1's auc: 0.929914\tvalid_1's binary_logloss: 0.353347\n",
      "[800]\ttraining's auc: 0.937804\ttraining's binary_logloss: 0.336672\tvalid_1's auc: 0.931418\tvalid_1's binary_logloss: 0.348538\n",
      "[900]\ttraining's auc: 0.939573\ttraining's binary_logloss: 0.331648\tvalid_1's auc: 0.932567\tvalid_1's binary_logloss: 0.34494\n",
      "[1000]\ttraining's auc: 0.941413\ttraining's binary_logloss: 0.326191\tvalid_1's auc: 0.933844\tvalid_1's binary_logloss: 0.340877\n",
      "Fold  5\n",
      "************************************************************\n",
      "[100]\ttraining's auc: 0.891656\ttraining's binary_logloss: 0.458634\tvalid_1's auc: 0.88961\tvalid_1's binary_logloss: 0.460523\n",
      "[200]\ttraining's auc: 0.91248\ttraining's binary_logloss: 0.405689\tvalid_1's auc: 0.90963\tvalid_1's binary_logloss: 0.409309\n",
      "[300]\ttraining's auc: 0.921457\ttraining's binary_logloss: 0.381708\tvalid_1's auc: 0.917921\tvalid_1's binary_logloss: 0.386833\n",
      "[400]\ttraining's auc: 0.926813\ttraining's binary_logloss: 0.367569\tvalid_1's auc: 0.922698\tvalid_1's binary_logloss: 0.373973\n",
      "[500]\ttraining's auc: 0.930337\ttraining's binary_logloss: 0.357822\tvalid_1's auc: 0.925577\tvalid_1's binary_logloss: 0.36565\n",
      "[600]\ttraining's auc: 0.933301\ttraining's binary_logloss: 0.349348\tvalid_1's auc: 0.927897\tvalid_1's binary_logloss: 0.358641\n",
      "[700]\ttraining's auc: 0.935886\ttraining's binary_logloss: 0.34187\tvalid_1's auc: 0.92986\tvalid_1's binary_logloss: 0.352609\n",
      "[800]\ttraining's auc: 0.937758\ttraining's binary_logloss: 0.336436\tvalid_1's auc: 0.9311\tvalid_1's binary_logloss: 0.348595\n",
      "[900]\ttraining's auc: 0.939669\ttraining's binary_logloss: 0.330492\tvalid_1's auc: 0.932426\tvalid_1's binary_logloss: 0.344106\n",
      "[1000]\ttraining's auc: 0.941133\ttraining's binary_logloss: 0.326576\tvalid_1's auc: 0.933203\tvalid_1's binary_logloss: 0.341682\n",
      "oof auc:  0.9336480105853199\n"
     ]
    }
   ],
   "source": [
    "import lightgbm as lgb\n",
    "\n",
    "from sklearn.model_selection import KFold, StratifiedKFold, GroupKFold\n",
    "from sklearn.metrics import roc_auc_score\n",
    "\n",
    "oof = np.zeros(len(train))\n",
    "pred = np.zeros(len(test))\n",
    "\n",
    "skf = StratifiedKFold(n_splits=5)\n",
    "\n",
    "for i, (tidx, vidx) in enumerate(skf.split(X_train, y_train, y_train)):\n",
    "    x_tr, x_val = X_train.iloc[tidx], X_train.iloc[vidx]\n",
    "    y_tr, y_val = y_train.iloc[tidx], y_train.iloc[vidx]\n",
    "    \n",
    "    print('Fold ', i+1)\n",
    "    print('*' * 60)\n",
    "    \n",
    "    clf = lgb.LGBMClassifier(\n",
    "        n_estimators = 1000,\n",
    "        learning_rate = 0.07,\n",
    "        max_depth = 9,\n",
    "        subsample = 0.8,\n",
    "        colsample_bytree = 0.8,\n",
    "        reg_alpha = 0.5,\n",
    "        reg_lambda = 0.5,\n",
    "        random_state = 2022,\n",
    "        importance_type = 'gain',\n",
    "    \n",
    "    )\n",
    "    \n",
    "    clf.fit(x_tr, y_tr, eval_set = [(x_tr, y_tr),(x_val, y_val)], verbose = 100, \n",
    "           early_stopping_rounds=50, eval_metric= 'auc')\n",
    "    \n",
    "    oof[vidx] = clf.predict_proba(x_val)[:,1]\n",
    "    pred += clf.predict_proba(X_test)[:,1]/skf.n_splits\n",
    "    \n",
    "print('oof auc: ', roc_auc_score(y_train, oof))   "
   ]
  },
  {
   "cell_type": "code",
   "execution_count": 18,
   "id": "9c6b0945",
   "metadata": {
    "execution": {
     "iopub.execute_input": "2022-05-02T02:22:08.159386Z",
     "iopub.status.busy": "2022-05-02T02:22:08.158376Z",
     "iopub.status.idle": "2022-05-02T02:22:08.551721Z",
     "shell.execute_reply": "2022-05-02T02:22:08.551149Z"
    },
    "papermill": {
     "duration": 0.453051,
     "end_time": "2022-05-02T02:22:08.553748",
     "exception": false,
     "start_time": "2022-05-02T02:22:08.100697",
     "status": "completed"
    },
    "tags": []
   },
   "outputs": [
    {
     "data": {
      "image/png": "[encoded data removed]",
      "text/plain": [
       "<Figure size 720x720 with 1 Axes>"
      ]
     },
     "metadata": {
      "needs_background": "light"
     },
     "output_type": "display_data"
    }
   ],
   "source": [
    "lgb.plot_importance(clf, max_num_features = 20, figsize = (10,10))\n",
    "plt.show()"
   ]
  },
  {
   "cell_type": "markdown",
   "id": "4e9d140c",
   "metadata": {
    "papermill": {
     "duration": 0.05861,
     "end_time": "2022-05-02T02:22:08.670297",
     "exception": false,
     "start_time": "2022-05-02T02:22:08.611687",
     "status": "completed"
    },
    "tags": []
   },
   "source": [
    "# Submission"
   ]
  },
  {
   "cell_type": "code",
   "execution_count": 19,
   "id": "3b7d9e4c",
   "metadata": {
    "execution": {
     "iopub.execute_input": "2022-05-02T02:22:08.789233Z",
     "iopub.status.busy": "2022-05-02T02:22:08.788436Z",
     "iopub.status.idle": "2022-05-02T02:22:11.235469Z",
     "shell.execute_reply": "2022-05-02T02:22:11.234635Z"
    },
    "papermill": {
     "duration": 2.508668,
     "end_time": "2022-05-02T02:22:11.237798",
     "exception": false,
     "start_time": "2022-05-02T02:22:08.729130",
     "status": "completed"
    },
    "tags": []
   },
   "outputs": [
    {
     "data": {
      "text/html": [
       "<div>\n",
       "<style scoped>\n",
       "    .dataframe tbody tr th:only-of-type {\n",
       "        vertical-align: middle;\n",
       "    }\n",
       "\n",
       "    .dataframe tbody tr th {\n",
       "        vertical-align: top;\n",
       "    }\n",
       "\n",
       "    .dataframe thead th {\n",
       "        text-align: right;\n",
       "    }\n",
       "</style>\n",
       "<table border=\"1\" class=\"dataframe\">\n",
       "  <thead>\n",
       "    <tr style=\"text-align: right;\">\n",
       "      <th></th>\n",
       "      <th>id</th>\n",
       "      <th>target</th>\n",
       "    </tr>\n",
       "  </thead>\n",
       "  <tbody>\n",
       "    <tr>\n",
       "      <th>count</th>\n",
       "      <td>7.000000e+05</td>\n",
       "      <td>700000.000000</td>\n",
       "    </tr>\n",
       "    <tr>\n",
       "      <th>mean</th>\n",
       "      <td>1.250000e+06</td>\n",
       "      <td>0.486009</td>\n",
       "    </tr>\n",
       "    <tr>\n",
       "      <th>std</th>\n",
       "      <td>2.020727e+05</td>\n",
       "      <td>0.340959</td>\n",
       "    </tr>\n",
       "    <tr>\n",
       "      <th>min</th>\n",
       "      <td>9.000000e+05</td>\n",
       "      <td>0.000088</td>\n",
       "    </tr>\n",
       "    <tr>\n",
       "      <th>25%</th>\n",
       "      <td>1.075000e+06</td>\n",
       "      <td>0.148848</td>\n",
       "    </tr>\n",
       "    <tr>\n",
       "      <th>50%</th>\n",
       "      <td>1.250000e+06</td>\n",
       "      <td>0.454186</td>\n",
       "    </tr>\n",
       "    <tr>\n",
       "      <th>75%</th>\n",
       "      <td>1.424999e+06</td>\n",
       "      <td>0.835869</td>\n",
       "    </tr>\n",
       "    <tr>\n",
       "      <th>max</th>\n",
       "      <td>1.599999e+06</td>\n",
       "      <td>0.999953</td>\n",
       "    </tr>\n",
       "  </tbody>\n",
       "</table>\n",
       "</div>"
      ],
      "text/plain": [
       "                 id         target\n",
       "count  7.000000e+05  700000.000000\n",
       "mean   1.250000e+06       0.486009\n",
       "std    2.020727e+05       0.340959\n",
       "min    9.000000e+05       0.000088\n",
       "25%    1.075000e+06       0.148848\n",
       "50%    1.250000e+06       0.454186\n",
       "75%    1.424999e+06       0.835869\n",
       "max    1.599999e+06       0.999953"
      ]
     },
     "execution_count": 19,
     "metadata": {},
     "output_type": "execute_result"
    }
   ],
   "source": [
    "sub['target'] = pred\n",
    "\n",
    "sub.to_csv('sub_lgbm.csv', index = False)\n",
    "\n",
    "sub.describe()\n"
   ]
  },
  {
   "cell_type": "code",
   "execution_count": 20,
   "id": "8b39d451",
   "metadata": {
    "execution": {
     "iopub.execute_input": "2022-05-02T02:22:11.357199Z",
     "iopub.status.busy": "2022-05-02T02:22:11.356346Z",
     "iopub.status.idle": "2022-05-02T02:22:11.369090Z",
     "shell.execute_reply": "2022-05-02T02:22:11.368072Z"
    },
    "papermill": {
     "duration": 0.074594,
     "end_time": "2022-05-02T02:22:11.371181",
     "exception": false,
     "start_time": "2022-05-02T02:22:11.296587",
     "status": "completed"
    },
    "tags": []
   },
   "outputs": [
    {
     "data": {
      "text/html": [
       "<div>\n",
       "<style scoped>\n",
       "    .dataframe tbody tr th:only-of-type {\n",
       "        vertical-align: middle;\n",
       "    }\n",
       "\n",
       "    .dataframe tbody tr th {\n",
       "        vertical-align: top;\n",
       "    }\n",
       "\n",
       "    .dataframe thead th {\n",
       "        text-align: right;\n",
       "    }\n",
       "</style>\n",
       "<table border=\"1\" class=\"dataframe\">\n",
       "  <thead>\n",
       "    <tr style=\"text-align: right;\">\n",
       "      <th></th>\n",
       "      <th>id</th>\n",
       "      <th>target</th>\n",
       "    </tr>\n",
       "  </thead>\n",
       "  <tbody>\n",
       "    <tr>\n",
       "      <th>0</th>\n",
       "      <td>900000</td>\n",
       "      <td>0.908611</td>\n",
       "    </tr>\n",
       "    <tr>\n",
       "      <th>1</th>\n",
       "      <td>900001</td>\n",
       "      <td>0.888985</td>\n",
       "    </tr>\n",
       "    <tr>\n",
       "      <th>2</th>\n",
       "      <td>900002</td>\n",
       "      <td>0.013239</td>\n",
       "    </tr>\n",
       "    <tr>\n",
       "      <th>3</th>\n",
       "      <td>900003</td>\n",
       "      <td>0.095414</td>\n",
       "    </tr>\n",
       "    <tr>\n",
       "      <th>4</th>\n",
       "      <td>900004</td>\n",
       "      <td>0.864000</td>\n",
       "    </tr>\n",
       "    <tr>\n",
       "      <th>...</th>\n",
       "      <td>...</td>\n",
       "      <td>...</td>\n",
       "    </tr>\n",
       "    <tr>\n",
       "      <th>699995</th>\n",
       "      <td>1599995</td>\n",
       "      <td>0.407241</td>\n",
       "    </tr>\n",
       "    <tr>\n",
       "      <th>699996</th>\n",
       "      <td>1599996</td>\n",
       "      <td>0.881166</td>\n",
       "    </tr>\n",
       "    <tr>\n",
       "      <th>699997</th>\n",
       "      <td>1599997</td>\n",
       "      <td>0.633282</td>\n",
       "    </tr>\n",
       "    <tr>\n",
       "      <th>699998</th>\n",
       "      <td>1599998</td>\n",
       "      <td>0.381620</td>\n",
       "    </tr>\n",
       "    <tr>\n",
       "      <th>699999</th>\n",
       "      <td>1599999</td>\n",
       "      <td>0.005260</td>\n",
       "    </tr>\n",
       "  </tbody>\n",
       "</table>\n",
       "<p>700000 rows × 2 columns</p>\n",
       "</div>"
      ],
      "text/plain": [
       "             id    target\n",
       "0        900000  0.908611\n",
       "1        900001  0.888985\n",
       "2        900002  0.013239\n",
       "3        900003  0.095414\n",
       "4        900004  0.864000\n",
       "...         ...       ...\n",
       "699995  1599995  0.407241\n",
       "699996  1599996  0.881166\n",
       "699997  1599997  0.633282\n",
       "699998  1599998  0.381620\n",
       "699999  1599999  0.005260\n",
       "\n",
       "[700000 rows x 2 columns]"
      ]
     },
     "execution_count": 20,
     "metadata": {},
     "output_type": "execute_result"
    }
   ],
   "source": [
    "sub"
   ]
  },
  {
   "cell_type": "code",
   "execution_count": null,
   "id": "f33f0aa4",
   "metadata": {
    "papermill": {
     "duration": 0.060133,
     "end_time": "2022-05-02T02:22:11.490565",
     "exception": false,
     "start_time": "2022-05-02T02:22:11.430432",
     "status": "completed"
    },
    "tags": []
   },
   "outputs": [],
   "source": []
  }
 ],
 "metadata": {
  "kernelspec": {
   "display_name": "Python 3",
   "language": "python",
   "name": "python3"
  },
  "language_info": {
   "codemirror_mode": {
    "name": "ipython",
    "version": 3
   },
   "file_extension": ".py",
   "mimetype": "text/x-python",
   "name": "python",
   "nbconvert_exporter": "python",
   "pygments_lexer": "ipython3",
   "version": "3.7.12"
  },
  "papermill": {
   "default_parameters": {},
   "duration": 894.213207,
   "end_time": "2022-05-02T02:22:12.676033",
   "environment_variables": {},
   "exception": null,
   "input_path": "__notebook__.ipynb",
   "output_path": "__notebook__.ipynb",
   "parameters": {},
   "start_time": "2022-05-02T02:07:18.462826",
   "version": "2.3.4"
  }
 },
 "nbformat": 4,
 "nbformat_minor": 5
}
