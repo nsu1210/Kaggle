{
 "cells": [
  {
   "cell_type": "code",
   "execution_count": 1,
   "id": "bdfb2553",
   "metadata": {
    "execution": {
     "iopub.execute_input": "2022-05-02T02:31:40.799821Z",
     "iopub.status.busy": "2022-05-02T02:31:40.799425Z",
     "iopub.status.idle": "2022-05-02T02:31:41.897640Z",
     "shell.execute_reply": "2022-05-02T02:31:41.896731Z"
    },
    "papermill": {
     "duration": 1.131398,
     "end_time": "2022-05-02T02:31:41.900485",
     "exception": false,
     "start_time": "2022-05-02T02:31:40.769087",
     "status": "completed"
    },
    "tags": []
   },
   "outputs": [],
   "source": [
    "import numpy as np\n",
    "import pandas as pd\n",
    "import gc\n",
    "import matplotlib.pyplot as plt\n",
    "import seaborn as sns\n",
    "\n",
    "from tqdm import tqdm\n",
    "\n",
    "pd.set_option('display.max_columns', None)\n",
    "\n",
    "import warnings\n",
    "warnings.filterwarnings('ignore')"
   ]
  },
  {
   "cell_type": "markdown",
   "id": "2c9e3039",
   "metadata": {
    "papermill": {
     "duration": 0.027107,
     "end_time": "2022-05-02T02:31:41.955387",
     "exception": false,
     "start_time": "2022-05-02T02:31:41.928280",
     "status": "completed"
    },
    "tags": []
   },
   "source": [
    "# Goal\n",
    "The May edition of the 2022 Tabular Playground series binary classification problem that includes a number of different feature interactions. This competition is an opportunity to explore various methods for identifying and exploiting these feature interactions."
   ]
  },
  {
   "cell_type": "code",
   "execution_count": 2,
   "id": "9e46efd2",
   "metadata": {
    "execution": {
     "iopub.execute_input": "2022-05-02T02:31:42.012977Z",
     "iopub.status.busy": "2022-05-02T02:31:42.012371Z",
     "iopub.status.idle": "2022-05-02T02:31:57.365720Z",
     "shell.execute_reply": "2022-05-02T02:31:57.364547Z"
    },
    "papermill": {
     "duration": 15.384643,
     "end_time": "2022-05-02T02:31:57.368417",
     "exception": false,
     "start_time": "2022-05-02T02:31:41.983774",
     "status": "completed"
    },
    "tags": []
   },
   "outputs": [
    {
     "name": "stdout",
     "output_type": "stream",
     "text": [
      "(900000, 33)\n",
      "(700000, 32)\n",
      "(700000, 2)\n"
     ]
    }
   ],
   "source": [
    "train = pd.read_csv('../input/tabular-playground-series-may-2022/train.csv')\n",
    "test = pd.read_csv('../input/tabular-playground-series-may-2022/test.csv')\n",
    "sub = pd.read_csv('../input/tabular-playground-series-may-2022/sample_submission.csv')\n",
    "\n",
    "print(train.shape)\n",
    "print(test.shape)\n",
    "print(sub.shape)"
   ]
  },
  {
   "cell_type": "code",
   "execution_count": 3,
   "id": "7bdaeb25",
   "metadata": {
    "execution": {
     "iopub.execute_input": "2022-05-02T02:31:57.426812Z",
     "iopub.status.busy": "2022-05-02T02:31:57.426537Z",
     "iopub.status.idle": "2022-05-02T02:31:57.462459Z",
     "shell.execute_reply": "2022-05-02T02:31:57.461498Z"
    },
    "papermill": {
     "duration": 0.066576,
     "end_time": "2022-05-02T02:31:57.464917",
     "exception": false,
     "start_time": "2022-05-02T02:31:57.398341",
     "status": "completed"
    },
    "tags": []
   },
   "outputs": [
    {
     "data": {
      "text/html": [
       "<div>\n",
       "<style scoped>\n",
       "    .dataframe tbody tr th:only-of-type {\n",
       "        vertical-align: middle;\n",
       "    }\n",
       "\n",
       "    .dataframe tbody tr th {\n",
       "        vertical-align: top;\n",
       "    }\n",
       "\n",
       "    .dataframe thead th {\n",
       "        text-align: right;\n",
       "    }\n",
       "</style>\n",
       "<table border=\"1\" class=\"dataframe\">\n",
       "  <thead>\n",
       "    <tr style=\"text-align: right;\">\n",
       "      <th></th>\n",
       "      <th>id</th>\n",
       "      <th>f_00</th>\n",
       "      <th>f_01</th>\n",
       "      <th>f_02</th>\n",
       "      <th>f_03</th>\n",
       "      <th>f_04</th>\n",
       "      <th>f_05</th>\n",
       "      <th>f_06</th>\n",
       "      <th>f_07</th>\n",
       "      <th>f_08</th>\n",
       "      <th>f_09</th>\n",
       "      <th>f_10</th>\n",
       "      <th>f_11</th>\n",
       "      <th>f_12</th>\n",
       "      <th>f_13</th>\n",
       "      <th>f_14</th>\n",
       "      <th>f_15</th>\n",
       "      <th>f_16</th>\n",
       "      <th>f_17</th>\n",
       "      <th>f_18</th>\n",
       "      <th>f_19</th>\n",
       "      <th>f_20</th>\n",
       "      <th>f_21</th>\n",
       "      <th>f_22</th>\n",
       "      <th>f_23</th>\n",
       "      <th>f_24</th>\n",
       "      <th>f_25</th>\n",
       "      <th>f_26</th>\n",
       "      <th>f_27</th>\n",
       "      <th>f_28</th>\n",
       "      <th>f_29</th>\n",
       "      <th>f_30</th>\n",
       "      <th>target</th>\n",
       "    </tr>\n",
       "  </thead>\n",
       "  <tbody>\n",
       "    <tr>\n",
       "      <th>0</th>\n",
       "      <td>0</td>\n",
       "      <td>-1.373246</td>\n",
       "      <td>0.238887</td>\n",
       "      <td>-0.243376</td>\n",
       "      <td>0.567405</td>\n",
       "      <td>-0.647715</td>\n",
       "      <td>0.839326</td>\n",
       "      <td>0.113133</td>\n",
       "      <td>1</td>\n",
       "      <td>5</td>\n",
       "      <td>1</td>\n",
       "      <td>3</td>\n",
       "      <td>3</td>\n",
       "      <td>3</td>\n",
       "      <td>1</td>\n",
       "      <td>6</td>\n",
       "      <td>1</td>\n",
       "      <td>0</td>\n",
       "      <td>7</td>\n",
       "      <td>4</td>\n",
       "      <td>0.298218</td>\n",
       "      <td>-0.919717</td>\n",
       "      <td>3.058541</td>\n",
       "      <td>-2.540739</td>\n",
       "      <td>0.766952</td>\n",
       "      <td>-2.730628</td>\n",
       "      <td>-0.208177</td>\n",
       "      <td>1.363402</td>\n",
       "      <td>ABABDADBAB</td>\n",
       "      <td>67.609153</td>\n",
       "      <td>0</td>\n",
       "      <td>0</td>\n",
       "      <td>0</td>\n",
       "    </tr>\n",
       "    <tr>\n",
       "      <th>1</th>\n",
       "      <td>1</td>\n",
       "      <td>1.697021</td>\n",
       "      <td>-1.710322</td>\n",
       "      <td>-2.230332</td>\n",
       "      <td>-0.545661</td>\n",
       "      <td>1.113173</td>\n",
       "      <td>-1.552175</td>\n",
       "      <td>0.447825</td>\n",
       "      <td>1</td>\n",
       "      <td>3</td>\n",
       "      <td>4</td>\n",
       "      <td>0</td>\n",
       "      <td>2</td>\n",
       "      <td>3</td>\n",
       "      <td>0</td>\n",
       "      <td>1</td>\n",
       "      <td>0</td>\n",
       "      <td>4</td>\n",
       "      <td>6</td>\n",
       "      <td>0</td>\n",
       "      <td>-3.147667</td>\n",
       "      <td>-1.075434</td>\n",
       "      <td>2.179050</td>\n",
       "      <td>2.278315</td>\n",
       "      <td>-0.633658</td>\n",
       "      <td>-1.217077</td>\n",
       "      <td>-3.782194</td>\n",
       "      <td>-0.058316</td>\n",
       "      <td>ACACCADCEB</td>\n",
       "      <td>377.096415</td>\n",
       "      <td>0</td>\n",
       "      <td>0</td>\n",
       "      <td>1</td>\n",
       "    </tr>\n",
       "    <tr>\n",
       "      <th>2</th>\n",
       "      <td>2</td>\n",
       "      <td>1.681726</td>\n",
       "      <td>0.616746</td>\n",
       "      <td>-1.027689</td>\n",
       "      <td>0.810492</td>\n",
       "      <td>-0.609086</td>\n",
       "      <td>0.113965</td>\n",
       "      <td>-0.708660</td>\n",
       "      <td>1</td>\n",
       "      <td>0</td>\n",
       "      <td>2</td>\n",
       "      <td>6</td>\n",
       "      <td>6</td>\n",
       "      <td>4</td>\n",
       "      <td>3</td>\n",
       "      <td>1</td>\n",
       "      <td>2</td>\n",
       "      <td>2</td>\n",
       "      <td>1</td>\n",
       "      <td>4</td>\n",
       "      <td>2.820733</td>\n",
       "      <td>-3.485342</td>\n",
       "      <td>-0.784235</td>\n",
       "      <td>-1.385775</td>\n",
       "      <td>-0.520558</td>\n",
       "      <td>-0.009121</td>\n",
       "      <td>2.788536</td>\n",
       "      <td>-3.703488</td>\n",
       "      <td>AAAEABCKAD</td>\n",
       "      <td>-195.599702</td>\n",
       "      <td>0</td>\n",
       "      <td>2</td>\n",
       "      <td>1</td>\n",
       "    </tr>\n",
       "    <tr>\n",
       "      <th>3</th>\n",
       "      <td>3</td>\n",
       "      <td>-0.118172</td>\n",
       "      <td>-0.587835</td>\n",
       "      <td>-0.804638</td>\n",
       "      <td>2.086822</td>\n",
       "      <td>0.371005</td>\n",
       "      <td>-0.128831</td>\n",
       "      <td>-0.282575</td>\n",
       "      <td>3</td>\n",
       "      <td>2</td>\n",
       "      <td>1</td>\n",
       "      <td>0</td>\n",
       "      <td>1</td>\n",
       "      <td>6</td>\n",
       "      <td>4</td>\n",
       "      <td>2</td>\n",
       "      <td>3</td>\n",
       "      <td>3</td>\n",
       "      <td>0</td>\n",
       "      <td>3</td>\n",
       "      <td>1.081084</td>\n",
       "      <td>-2.100177</td>\n",
       "      <td>-2.343819</td>\n",
       "      <td>0.572594</td>\n",
       "      <td>-1.653213</td>\n",
       "      <td>1.686035</td>\n",
       "      <td>-2.533098</td>\n",
       "      <td>-0.608601</td>\n",
       "      <td>BDBBAACBCB</td>\n",
       "      <td>210.826205</td>\n",
       "      <td>0</td>\n",
       "      <td>0</td>\n",
       "      <td>1</td>\n",
       "    </tr>\n",
       "    <tr>\n",
       "      <th>4</th>\n",
       "      <td>4</td>\n",
       "      <td>1.148481</td>\n",
       "      <td>-0.176567</td>\n",
       "      <td>-0.664871</td>\n",
       "      <td>-1.101343</td>\n",
       "      <td>0.467875</td>\n",
       "      <td>0.500117</td>\n",
       "      <td>0.407515</td>\n",
       "      <td>3</td>\n",
       "      <td>3</td>\n",
       "      <td>0</td>\n",
       "      <td>4</td>\n",
       "      <td>3</td>\n",
       "      <td>0</td>\n",
       "      <td>6</td>\n",
       "      <td>0</td>\n",
       "      <td>3</td>\n",
       "      <td>3</td>\n",
       "      <td>1</td>\n",
       "      <td>0</td>\n",
       "      <td>-0.126179</td>\n",
       "      <td>0.605033</td>\n",
       "      <td>1.133665</td>\n",
       "      <td>-3.912929</td>\n",
       "      <td>-1.430366</td>\n",
       "      <td>2.127649</td>\n",
       "      <td>-3.306784</td>\n",
       "      <td>4.371371</td>\n",
       "      <td>BDBCBBCHFE</td>\n",
       "      <td>-217.211798</td>\n",
       "      <td>0</td>\n",
       "      <td>1</td>\n",
       "      <td>1</td>\n",
       "    </tr>\n",
       "  </tbody>\n",
       "</table>\n",
       "</div>"
      ],
      "text/plain": [
       "   id      f_00      f_01      f_02      f_03      f_04      f_05      f_06  \\\n",
       "0   0 -1.373246  0.238887 -0.243376  0.567405 -0.647715  0.839326  0.113133   \n",
       "1   1  1.697021 -1.710322 -2.230332 -0.545661  1.113173 -1.552175  0.447825   \n",
       "2   2  1.681726  0.616746 -1.027689  0.810492 -0.609086  0.113965 -0.708660   \n",
       "3   3 -0.118172 -0.587835 -0.804638  2.086822  0.371005 -0.128831 -0.282575   \n",
       "4   4  1.148481 -0.176567 -0.664871 -1.101343  0.467875  0.500117  0.407515   \n",
       "\n",
       "   f_07  f_08  f_09  f_10  f_11  f_12  f_13  f_14  f_15  f_16  f_17  f_18  \\\n",
       "0     1     5     1     3     3     3     1     6     1     0     7     4   \n",
       "1     1     3     4     0     2     3     0     1     0     4     6     0   \n",
       "2     1     0     2     6     6     4     3     1     2     2     1     4   \n",
       "3     3     2     1     0     1     6     4     2     3     3     0     3   \n",
       "4     3     3     0     4     3     0     6     0     3     3     1     0   \n",
       "\n",
       "       f_19      f_20      f_21      f_22      f_23      f_24      f_25  \\\n",
       "0  0.298218 -0.919717  3.058541 -2.540739  0.766952 -2.730628 -0.208177   \n",
       "1 -3.147667 -1.075434  2.179050  2.278315 -0.633658 -1.217077 -3.782194   \n",
       "2  2.820733 -3.485342 -0.784235 -1.385775 -0.520558 -0.009121  2.788536   \n",
       "3  1.081084 -2.100177 -2.343819  0.572594 -1.653213  1.686035 -2.533098   \n",
       "4 -0.126179  0.605033  1.133665 -3.912929 -1.430366  2.127649 -3.306784   \n",
       "\n",
       "       f_26        f_27        f_28  f_29  f_30  target  \n",
       "0  1.363402  ABABDADBAB   67.609153     0     0       0  \n",
       "1 -0.058316  ACACCADCEB  377.096415     0     0       1  \n",
       "2 -3.703488  AAAEABCKAD -195.599702     0     2       1  \n",
       "3 -0.608601  BDBBAACBCB  210.826205     0     0       1  \n",
       "4  4.371371  BDBCBBCHFE -217.211798     0     1       1  "
      ]
     },
     "execution_count": 3,
     "metadata": {},
     "output_type": "execute_result"
    }
   ],
   "source": [
    "train.head()"
   ]
  },
  {
   "cell_type": "markdown",
   "id": "4bc7763e",
   "metadata": {
    "papermill": {
     "duration": 0.02743,
     "end_time": "2022-05-02T02:31:57.520047",
     "exception": false,
     "start_time": "2022-05-02T02:31:57.492617",
     "status": "completed"
    },
    "tags": []
   },
   "source": [
    "# EDA"
   ]
  },
  {
   "cell_type": "code",
   "execution_count": 4,
   "id": "a06f2571",
   "metadata": {
    "execution": {
     "iopub.execute_input": "2022-05-02T02:31:57.578132Z",
     "iopub.status.busy": "2022-05-02T02:31:57.577397Z",
     "iopub.status.idle": "2022-05-02T02:31:59.171669Z",
     "shell.execute_reply": "2022-05-02T02:31:59.170727Z"
    },
    "papermill": {
     "duration": 1.626005,
     "end_time": "2022-05-02T02:31:59.173875",
     "exception": false,
     "start_time": "2022-05-02T02:31:57.547870",
     "status": "completed"
    },
    "tags": []
   },
   "outputs": [
    {
     "data": {
      "text/html": [
       "<div>\n",
       "<style scoped>\n",
       "    .dataframe tbody tr th:only-of-type {\n",
       "        vertical-align: middle;\n",
       "    }\n",
       "\n",
       "    .dataframe tbody tr th {\n",
       "        vertical-align: top;\n",
       "    }\n",
       "\n",
       "    .dataframe thead th {\n",
       "        text-align: right;\n",
       "    }\n",
       "</style>\n",
       "<table border=\"1\" class=\"dataframe\">\n",
       "  <thead>\n",
       "    <tr style=\"text-align: right;\">\n",
       "      <th></th>\n",
       "      <th>id</th>\n",
       "      <th>f_00</th>\n",
       "      <th>f_01</th>\n",
       "      <th>f_02</th>\n",
       "      <th>f_03</th>\n",
       "      <th>f_04</th>\n",
       "      <th>f_05</th>\n",
       "      <th>f_06</th>\n",
       "      <th>f_07</th>\n",
       "      <th>f_08</th>\n",
       "      <th>f_09</th>\n",
       "      <th>f_10</th>\n",
       "      <th>f_11</th>\n",
       "      <th>f_12</th>\n",
       "      <th>f_13</th>\n",
       "      <th>f_14</th>\n",
       "      <th>f_15</th>\n",
       "      <th>f_16</th>\n",
       "      <th>f_17</th>\n",
       "      <th>f_18</th>\n",
       "      <th>f_19</th>\n",
       "      <th>f_20</th>\n",
       "      <th>f_21</th>\n",
       "      <th>f_22</th>\n",
       "      <th>f_23</th>\n",
       "      <th>f_24</th>\n",
       "      <th>f_25</th>\n",
       "      <th>f_26</th>\n",
       "      <th>f_27</th>\n",
       "      <th>f_28</th>\n",
       "      <th>f_29</th>\n",
       "      <th>f_30</th>\n",
       "      <th>target</th>\n",
       "    </tr>\n",
       "  </thead>\n",
       "  <tbody>\n",
       "    <tr>\n",
       "      <th>miss</th>\n",
       "      <td>0</td>\n",
       "      <td>0</td>\n",
       "      <td>0</td>\n",
       "      <td>0</td>\n",
       "      <td>0</td>\n",
       "      <td>0</td>\n",
       "      <td>0</td>\n",
       "      <td>0</td>\n",
       "      <td>0</td>\n",
       "      <td>0</td>\n",
       "      <td>0</td>\n",
       "      <td>0</td>\n",
       "      <td>0</td>\n",
       "      <td>0</td>\n",
       "      <td>0</td>\n",
       "      <td>0</td>\n",
       "      <td>0</td>\n",
       "      <td>0</td>\n",
       "      <td>0</td>\n",
       "      <td>0</td>\n",
       "      <td>0</td>\n",
       "      <td>0</td>\n",
       "      <td>0</td>\n",
       "      <td>0</td>\n",
       "      <td>0</td>\n",
       "      <td>0</td>\n",
       "      <td>0</td>\n",
       "      <td>0</td>\n",
       "      <td>0</td>\n",
       "      <td>0</td>\n",
       "      <td>0</td>\n",
       "      <td>0</td>\n",
       "      <td>0</td>\n",
       "    </tr>\n",
       "    <tr>\n",
       "      <th>level</th>\n",
       "      <td>900000</td>\n",
       "      <td>900000</td>\n",
       "      <td>900000</td>\n",
       "      <td>900000</td>\n",
       "      <td>900000</td>\n",
       "      <td>900000</td>\n",
       "      <td>900000</td>\n",
       "      <td>900000</td>\n",
       "      <td>16</td>\n",
       "      <td>16</td>\n",
       "      <td>15</td>\n",
       "      <td>15</td>\n",
       "      <td>14</td>\n",
       "      <td>16</td>\n",
       "      <td>13</td>\n",
       "      <td>14</td>\n",
       "      <td>15</td>\n",
       "      <td>16</td>\n",
       "      <td>14</td>\n",
       "      <td>14</td>\n",
       "      <td>900000</td>\n",
       "      <td>900000</td>\n",
       "      <td>900000</td>\n",
       "      <td>900000</td>\n",
       "      <td>900000</td>\n",
       "      <td>900000</td>\n",
       "      <td>900000</td>\n",
       "      <td>900000</td>\n",
       "      <td>741354</td>\n",
       "      <td>900000</td>\n",
       "      <td>2</td>\n",
       "      <td>3</td>\n",
       "      <td>2</td>\n",
       "    </tr>\n",
       "    <tr>\n",
       "      <th>dtype</th>\n",
       "      <td>int64</td>\n",
       "      <td>float64</td>\n",
       "      <td>float64</td>\n",
       "      <td>float64</td>\n",
       "      <td>float64</td>\n",
       "      <td>float64</td>\n",
       "      <td>float64</td>\n",
       "      <td>float64</td>\n",
       "      <td>int64</td>\n",
       "      <td>int64</td>\n",
       "      <td>int64</td>\n",
       "      <td>int64</td>\n",
       "      <td>int64</td>\n",
       "      <td>int64</td>\n",
       "      <td>int64</td>\n",
       "      <td>int64</td>\n",
       "      <td>int64</td>\n",
       "      <td>int64</td>\n",
       "      <td>int64</td>\n",
       "      <td>int64</td>\n",
       "      <td>float64</td>\n",
       "      <td>float64</td>\n",
       "      <td>float64</td>\n",
       "      <td>float64</td>\n",
       "      <td>float64</td>\n",
       "      <td>float64</td>\n",
       "      <td>float64</td>\n",
       "      <td>float64</td>\n",
       "      <td>object</td>\n",
       "      <td>float64</td>\n",
       "      <td>int64</td>\n",
       "      <td>int64</td>\n",
       "      <td>int64</td>\n",
       "    </tr>\n",
       "  </tbody>\n",
       "</table>\n",
       "</div>"
      ],
      "text/plain": [
       "           id     f_00     f_01     f_02     f_03     f_04     f_05     f_06  \\\n",
       "miss        0        0        0        0        0        0        0        0   \n",
       "level  900000   900000   900000   900000   900000   900000   900000   900000   \n",
       "dtype   int64  float64  float64  float64  float64  float64  float64  float64   \n",
       "\n",
       "        f_07   f_08   f_09   f_10   f_11   f_12   f_13   f_14   f_15   f_16  \\\n",
       "miss       0      0      0      0      0      0      0      0      0      0   \n",
       "level     16     16     15     15     14     16     13     14     15     16   \n",
       "dtype  int64  int64  int64  int64  int64  int64  int64  int64  int64  int64   \n",
       "\n",
       "        f_17   f_18     f_19     f_20     f_21     f_22     f_23     f_24  \\\n",
       "miss       0      0        0        0        0        0        0        0   \n",
       "level     14     14   900000   900000   900000   900000   900000   900000   \n",
       "dtype  int64  int64  float64  float64  float64  float64  float64  float64   \n",
       "\n",
       "          f_25     f_26    f_27     f_28   f_29   f_30 target  \n",
       "miss         0        0       0        0      0      0      0  \n",
       "level   900000   900000  741354   900000      2      3      2  \n",
       "dtype  float64  float64  object  float64  int64  int64  int64  "
      ]
     },
     "execution_count": 4,
     "metadata": {},
     "output_type": "execute_result"
    }
   ],
   "source": [
    "def eda(df):\n",
    "    summary = pd.DataFrame()\n",
    "    summary['miss'] = df.isnull().sum()\n",
    "    summary['level'] = df.nunique()\n",
    "    summary['dtype'] = df.dtypes\n",
    "    return summary\n",
    "\n",
    "edatrain = eda(train)\n",
    "edatrain.T"
   ]
  },
  {
   "cell_type": "code",
   "execution_count": 5,
   "id": "be96f431",
   "metadata": {
    "execution": {
     "iopub.execute_input": "2022-05-02T02:31:59.236655Z",
     "iopub.status.busy": "2022-05-02T02:31:59.236336Z",
     "iopub.status.idle": "2022-05-02T02:32:00.611592Z",
     "shell.execute_reply": "2022-05-02T02:32:00.610611Z"
    },
    "papermill": {
     "duration": 1.409672,
     "end_time": "2022-05-02T02:32:00.614009",
     "exception": false,
     "start_time": "2022-05-02T02:31:59.204337",
     "status": "completed"
    },
    "tags": []
   },
   "outputs": [
    {
     "data": {
      "text/html": [
       "<div>\n",
       "<style scoped>\n",
       "    .dataframe tbody tr th:only-of-type {\n",
       "        vertical-align: middle;\n",
       "    }\n",
       "\n",
       "    .dataframe tbody tr th {\n",
       "        vertical-align: top;\n",
       "    }\n",
       "\n",
       "    .dataframe thead th {\n",
       "        text-align: right;\n",
       "    }\n",
       "</style>\n",
       "<table border=\"1\" class=\"dataframe\">\n",
       "  <thead>\n",
       "    <tr style=\"text-align: right;\">\n",
       "      <th></th>\n",
       "      <th>id</th>\n",
       "      <th>f_00</th>\n",
       "      <th>f_01</th>\n",
       "      <th>f_02</th>\n",
       "      <th>f_03</th>\n",
       "      <th>f_04</th>\n",
       "      <th>f_05</th>\n",
       "      <th>f_06</th>\n",
       "      <th>f_07</th>\n",
       "      <th>f_08</th>\n",
       "      <th>f_09</th>\n",
       "      <th>f_10</th>\n",
       "      <th>f_11</th>\n",
       "      <th>f_12</th>\n",
       "      <th>f_13</th>\n",
       "      <th>f_14</th>\n",
       "      <th>f_15</th>\n",
       "      <th>f_16</th>\n",
       "      <th>f_17</th>\n",
       "      <th>f_18</th>\n",
       "      <th>f_19</th>\n",
       "      <th>f_20</th>\n",
       "      <th>f_21</th>\n",
       "      <th>f_22</th>\n",
       "      <th>f_23</th>\n",
       "      <th>f_24</th>\n",
       "      <th>f_25</th>\n",
       "      <th>f_26</th>\n",
       "      <th>f_27</th>\n",
       "      <th>f_28</th>\n",
       "      <th>f_29</th>\n",
       "      <th>f_30</th>\n",
       "    </tr>\n",
       "  </thead>\n",
       "  <tbody>\n",
       "    <tr>\n",
       "      <th>miss</th>\n",
       "      <td>0</td>\n",
       "      <td>0</td>\n",
       "      <td>0</td>\n",
       "      <td>0</td>\n",
       "      <td>0</td>\n",
       "      <td>0</td>\n",
       "      <td>0</td>\n",
       "      <td>0</td>\n",
       "      <td>0</td>\n",
       "      <td>0</td>\n",
       "      <td>0</td>\n",
       "      <td>0</td>\n",
       "      <td>0</td>\n",
       "      <td>0</td>\n",
       "      <td>0</td>\n",
       "      <td>0</td>\n",
       "      <td>0</td>\n",
       "      <td>0</td>\n",
       "      <td>0</td>\n",
       "      <td>0</td>\n",
       "      <td>0</td>\n",
       "      <td>0</td>\n",
       "      <td>0</td>\n",
       "      <td>0</td>\n",
       "      <td>0</td>\n",
       "      <td>0</td>\n",
       "      <td>0</td>\n",
       "      <td>0</td>\n",
       "      <td>0</td>\n",
       "      <td>0</td>\n",
       "      <td>0</td>\n",
       "      <td>0</td>\n",
       "    </tr>\n",
       "    <tr>\n",
       "      <th>level</th>\n",
       "      <td>700000</td>\n",
       "      <td>700000</td>\n",
       "      <td>700000</td>\n",
       "      <td>700000</td>\n",
       "      <td>700000</td>\n",
       "      <td>700000</td>\n",
       "      <td>700000</td>\n",
       "      <td>700000</td>\n",
       "      <td>16</td>\n",
       "      <td>14</td>\n",
       "      <td>16</td>\n",
       "      <td>16</td>\n",
       "      <td>15</td>\n",
       "      <td>16</td>\n",
       "      <td>14</td>\n",
       "      <td>13</td>\n",
       "      <td>14</td>\n",
       "      <td>14</td>\n",
       "      <td>14</td>\n",
       "      <td>14</td>\n",
       "      <td>700000</td>\n",
       "      <td>700000</td>\n",
       "      <td>700000</td>\n",
       "      <td>700000</td>\n",
       "      <td>700000</td>\n",
       "      <td>700000</td>\n",
       "      <td>700000</td>\n",
       "      <td>700000</td>\n",
       "      <td>598482</td>\n",
       "      <td>700000</td>\n",
       "      <td>2</td>\n",
       "      <td>3</td>\n",
       "    </tr>\n",
       "    <tr>\n",
       "      <th>dtype</th>\n",
       "      <td>int64</td>\n",
       "      <td>float64</td>\n",
       "      <td>float64</td>\n",
       "      <td>float64</td>\n",
       "      <td>float64</td>\n",
       "      <td>float64</td>\n",
       "      <td>float64</td>\n",
       "      <td>float64</td>\n",
       "      <td>int64</td>\n",
       "      <td>int64</td>\n",
       "      <td>int64</td>\n",
       "      <td>int64</td>\n",
       "      <td>int64</td>\n",
       "      <td>int64</td>\n",
       "      <td>int64</td>\n",
       "      <td>int64</td>\n",
       "      <td>int64</td>\n",
       "      <td>int64</td>\n",
       "      <td>int64</td>\n",
       "      <td>int64</td>\n",
       "      <td>float64</td>\n",
       "      <td>float64</td>\n",
       "      <td>float64</td>\n",
       "      <td>float64</td>\n",
       "      <td>float64</td>\n",
       "      <td>float64</td>\n",
       "      <td>float64</td>\n",
       "      <td>float64</td>\n",
       "      <td>object</td>\n",
       "      <td>float64</td>\n",
       "      <td>int64</td>\n",
       "      <td>int64</td>\n",
       "    </tr>\n",
       "  </tbody>\n",
       "</table>\n",
       "</div>"
      ],
      "text/plain": [
       "           id     f_00     f_01     f_02     f_03     f_04     f_05     f_06  \\\n",
       "miss        0        0        0        0        0        0        0        0   \n",
       "level  700000   700000   700000   700000   700000   700000   700000   700000   \n",
       "dtype   int64  float64  float64  float64  float64  float64  float64  float64   \n",
       "\n",
       "        f_07   f_08   f_09   f_10   f_11   f_12   f_13   f_14   f_15   f_16  \\\n",
       "miss       0      0      0      0      0      0      0      0      0      0   \n",
       "level     16     14     16     16     15     16     14     13     14     14   \n",
       "dtype  int64  int64  int64  int64  int64  int64  int64  int64  int64  int64   \n",
       "\n",
       "        f_17   f_18     f_19     f_20     f_21     f_22     f_23     f_24  \\\n",
       "miss       0      0        0        0        0        0        0        0   \n",
       "level     14     14   700000   700000   700000   700000   700000   700000   \n",
       "dtype  int64  int64  float64  float64  float64  float64  float64  float64   \n",
       "\n",
       "          f_25     f_26    f_27     f_28   f_29   f_30  \n",
       "miss         0        0       0        0      0      0  \n",
       "level   700000   700000  598482   700000      2      3  \n",
       "dtype  float64  float64  object  float64  int64  int64  "
      ]
     },
     "execution_count": 5,
     "metadata": {},
     "output_type": "execute_result"
    }
   ],
   "source": [
    "eda(test).T"
   ]
  },
  {
   "cell_type": "markdown",
   "id": "0f611aed",
   "metadata": {
    "papermill": {
     "duration": 0.028983,
     "end_time": "2022-05-02T02:32:00.672352",
     "exception": false,
     "start_time": "2022-05-02T02:32:00.643369",
     "status": "completed"
    },
    "tags": []
   },
   "source": [
    "### New Levels?"
   ]
  },
  {
   "cell_type": "code",
   "execution_count": 6,
   "id": "73444920",
   "metadata": {
    "execution": {
     "iopub.execute_input": "2022-05-02T02:32:00.734266Z",
     "iopub.status.busy": "2022-05-02T02:32:00.733576Z",
     "iopub.status.idle": "2022-05-02T02:32:00.749003Z",
     "shell.execute_reply": "2022-05-02T02:32:00.748050Z"
    },
    "papermill": {
     "duration": 0.048847,
     "end_time": "2022-05-02T02:32:00.751359",
     "exception": false,
     "start_time": "2022-05-02T02:32:00.702512",
     "status": "completed"
    },
    "tags": []
   },
   "outputs": [
    {
     "data": {
      "text/plain": [
       "2     233926\n",
       "1     215260\n",
       "3     174680\n",
       "0     102521\n",
       "4      99712\n",
       "5      46471\n",
       "6      18316\n",
       "7       6378\n",
       "8       1934\n",
       "9        626\n",
       "10       145\n",
       "11        25\n",
       "12         6\n",
       "Name: f_13, dtype: int64"
      ]
     },
     "execution_count": 6,
     "metadata": {},
     "output_type": "execute_result"
    }
   ],
   "source": [
    "train.f_13.value_counts()"
   ]
  },
  {
   "cell_type": "code",
   "execution_count": 7,
   "id": "cc9e9589",
   "metadata": {
    "execution": {
     "iopub.execute_input": "2022-05-02T02:32:00.812888Z",
     "iopub.status.busy": "2022-05-02T02:32:00.812577Z",
     "iopub.status.idle": "2022-05-02T02:32:00.823650Z",
     "shell.execute_reply": "2022-05-02T02:32:00.823068Z"
    },
    "papermill": {
     "duration": 0.043965,
     "end_time": "2022-05-02T02:32:00.825325",
     "exception": false,
     "start_time": "2022-05-02T02:32:00.781360",
     "status": "completed"
    },
    "tags": []
   },
   "outputs": [
    {
     "data": {
      "text/plain": [
       "2     182018\n",
       "1     167469\n",
       "3     135820\n",
       "0      79807\n",
       "4      77447\n",
       "5      36200\n",
       "6      14228\n",
       "7       4970\n",
       "8       1493\n",
       "9        403\n",
       "10       116\n",
       "11        23\n",
       "12         4\n",
       "13         2\n",
       "Name: f_13, dtype: int64"
      ]
     },
     "execution_count": 7,
     "metadata": {},
     "output_type": "execute_result"
    }
   ],
   "source": [
    "test.f_13.value_counts()"
   ]
  },
  {
   "cell_type": "code",
   "execution_count": 8,
   "id": "f4775029",
   "metadata": {
    "execution": {
     "iopub.execute_input": "2022-05-02T02:32:00.887608Z",
     "iopub.status.busy": "2022-05-02T02:32:00.886641Z",
     "iopub.status.idle": "2022-05-02T02:32:00.913692Z",
     "shell.execute_reply": "2022-05-02T02:32:00.913143Z"
    },
    "papermill": {
     "duration": 0.060291,
     "end_time": "2022-05-02T02:32:00.915783",
     "exception": false,
     "start_time": "2022-05-02T02:32:00.855492",
     "status": "completed"
    },
    "tags": []
   },
   "outputs": [
    {
     "data": {
      "text/plain": [
       "f_30\n",
       "0    0.476652\n",
       "1    0.480685\n",
       "2    0.501921\n",
       "Name: target, dtype: float64"
      ]
     },
     "execution_count": 8,
     "metadata": {},
     "output_type": "execute_result"
    }
   ],
   "source": [
    "train.groupby('f_30')['target'].mean()"
   ]
  },
  {
   "cell_type": "code",
   "execution_count": 9,
   "id": "ad788ce2",
   "metadata": {
    "execution": {
     "iopub.execute_input": "2022-05-02T02:32:00.978596Z",
     "iopub.status.busy": "2022-05-02T02:32:00.978070Z",
     "iopub.status.idle": "2022-05-02T02:32:03.720919Z",
     "shell.execute_reply": "2022-05-02T02:32:03.720039Z"
    },
    "papermill": {
     "duration": 2.777184,
     "end_time": "2022-05-02T02:32:03.723270",
     "exception": false,
     "start_time": "2022-05-02T02:32:00.946086",
     "status": "completed"
    },
    "tags": []
   },
   "outputs": [
    {
     "data": {
      "text/plain": [
       "0"
      ]
     },
     "execution_count": 9,
     "metadata": {},
     "output_type": "execute_result"
    }
   ],
   "source": [
    "train.duplicated().sum()"
   ]
  },
  {
   "cell_type": "code",
   "execution_count": 10,
   "id": "393a20ca",
   "metadata": {
    "execution": {
     "iopub.execute_input": "2022-05-02T02:32:03.788774Z",
     "iopub.status.busy": "2022-05-02T02:32:03.788189Z",
     "iopub.status.idle": "2022-05-02T02:32:10.504204Z",
     "shell.execute_reply": "2022-05-02T02:32:10.503221Z"
    },
    "papermill": {
     "duration": 6.752404,
     "end_time": "2022-05-02T02:32:10.506952",
     "exception": false,
     "start_time": "2022-05-02T02:32:03.754548",
     "status": "completed"
    },
    "tags": []
   },
   "outputs": [
    {
     "data": {
      "image/png": "[encoded data removed]",
      "text/plain": [
       "<Figure size 1296x1296 with 36 Axes>"
      ]
     },
     "metadata": {
      "needs_background": "light"
     },
     "output_type": "display_data"
    }
   ],
   "source": [
    "train.hist(figsize = (18,18), bins = 50)\n",
    "plt.show()"
   ]
  },
  {
   "cell_type": "code",
   "execution_count": 11,
   "id": "c8fffa40",
   "metadata": {
    "execution": {
     "iopub.execute_input": "2022-05-02T02:32:10.575148Z",
     "iopub.status.busy": "2022-05-02T02:32:10.574408Z",
     "iopub.status.idle": "2022-05-02T02:32:10.588076Z",
     "shell.execute_reply": "2022-05-02T02:32:10.587245Z"
    },
    "papermill": {
     "duration": 0.050332,
     "end_time": "2022-05-02T02:32:10.590349",
     "exception": false,
     "start_time": "2022-05-02T02:32:10.540017",
     "status": "completed"
    },
    "tags": []
   },
   "outputs": [
    {
     "data": {
      "text/plain": [
       "0    0.513512\n",
       "1    0.486488\n",
       "Name: target, dtype: float64"
      ]
     },
     "execution_count": 11,
     "metadata": {},
     "output_type": "execute_result"
    }
   ],
   "source": [
    "train.target.value_counts()/len(train)"
   ]
  },
  {
   "cell_type": "code",
   "execution_count": 12,
   "id": "b4069148",
   "metadata": {
    "execution": {
     "iopub.execute_input": "2022-05-02T02:32:10.659729Z",
     "iopub.status.busy": "2022-05-02T02:32:10.659116Z",
     "iopub.status.idle": "2022-05-02T02:32:14.034030Z",
     "shell.execute_reply": "2022-05-02T02:32:14.033130Z"
    },
    "papermill": {
     "duration": 3.412659,
     "end_time": "2022-05-02T02:32:14.036261",
     "exception": false,
     "start_time": "2022-05-02T02:32:10.623602",
     "status": "completed"
    },
    "tags": []
   },
   "outputs": [
    {
     "data": {
      "image/png": "[encoded data removed]",
      "text/plain": [
       "<Figure size 864x720 with 2 Axes>"
      ]
     },
     "metadata": {
      "needs_background": "light"
     },
     "output_type": "display_data"
    }
   ],
   "source": [
    "plt.figure(figsize = (12,10))\n",
    "sns.heatmap(train.corr(), cmap = 'coolwarm')\n",
    "plt.show()"
   ]
  },
  {
   "cell_type": "markdown",
   "id": "c1e8006c",
   "metadata": {
    "papermill": {
     "duration": 0.036521,
     "end_time": "2022-05-02T02:32:14.107471",
     "exception": false,
     "start_time": "2022-05-02T02:32:14.070950",
     "status": "completed"
    },
    "tags": []
   },
   "source": [
    "# Correlation Analysis"
   ]
  },
  {
   "cell_type": "code",
   "execution_count": 13,
   "id": "acebb524",
   "metadata": {
    "execution": {
     "iopub.execute_input": "2022-05-02T02:32:14.178514Z",
     "iopub.status.busy": "2022-05-02T02:32:14.178211Z",
     "iopub.status.idle": "2022-05-02T02:32:16.845530Z",
     "shell.execute_reply": "2022-05-02T02:32:16.844493Z"
    },
    "papermill": {
     "duration": 2.705743,
     "end_time": "2022-05-02T02:32:16.847873",
     "exception": false,
     "start_time": "2022-05-02T02:32:14.142130",
     "status": "completed"
    },
    "tags": []
   },
   "outputs": [
    {
     "data": {
      "text/plain": [
       "target    1.000000\n",
       "f_21      0.130887\n",
       "f_19      0.087698\n",
       "f_24      0.086350\n",
       "f_23      0.081206\n",
       "f_11      0.078525\n",
       "f_09      0.067909\n",
       "f_22      0.065554\n",
       "f_26      0.058915\n",
       "f_00      0.055274\n",
       "f_01      0.055011\n",
       "f_29      0.051306\n",
       "f_15      0.043297\n",
       "f_16      0.037303\n",
       "f_20      0.036599\n",
       "f_08      0.035829\n",
       "f_28      0.035824\n",
       "f_10      0.035420\n",
       "f_13      0.034092\n",
       "f_05      0.033048\n",
       "f_25      0.032836\n",
       "f_02      0.031814\n",
       "f_30      0.020721\n",
       "f_14      0.017588\n",
       "f_18      0.010781\n",
       "f_07      0.005257\n",
       "f_17      0.001832\n",
       "f_06      0.000965\n",
       "f_12      0.000962\n",
       "f_03      0.000192\n",
       "id        0.000184\n",
       "f_04      0.000159\n",
       "Name: target, dtype: float64"
      ]
     },
     "execution_count": 13,
     "metadata": {},
     "output_type": "execute_result"
    }
   ],
   "source": [
    "train.corr()['target'].abs().sort_values(ascending = False)"
   ]
  },
  {
   "cell_type": "markdown",
   "id": "7237a2e3",
   "metadata": {
    "papermill": {
     "duration": 0.03592,
     "end_time": "2022-05-02T02:32:16.920208",
     "exception": false,
     "start_time": "2022-05-02T02:32:16.884288",
     "status": "completed"
    },
    "tags": []
   },
   "source": [
    "# Pre-processing"
   ]
  },
  {
   "cell_type": "code",
   "execution_count": 14,
   "id": "0ef501ec",
   "metadata": {
    "execution": {
     "iopub.execute_input": "2022-05-02T02:32:16.993971Z",
     "iopub.status.busy": "2022-05-02T02:32:16.993693Z",
     "iopub.status.idle": "2022-05-02T02:32:17.000134Z",
     "shell.execute_reply": "2022-05-02T02:32:16.999329Z"
    },
    "papermill": {
     "duration": 0.045633,
     "end_time": "2022-05-02T02:32:17.002276",
     "exception": false,
     "start_time": "2022-05-02T02:32:16.956643",
     "status": "completed"
    },
    "tags": []
   },
   "outputs": [
    {
     "data": {
      "text/plain": [
       "['f_10',\n",
       " 'f_11',\n",
       " 'f_12',\n",
       " 'f_13',\n",
       " 'f_14',\n",
       " 'f_15',\n",
       " 'f_16',\n",
       " 'f_17',\n",
       " 'f_18',\n",
       " 'f_07',\n",
       " 'f_08',\n",
       " 'f_09',\n",
       " 'f_27',\n",
       " 'f_29']"
      ]
     },
     "execution_count": 14,
     "metadata": {},
     "output_type": "execute_result"
    }
   ],
   "source": [
    "cat_cols = ['f_'+str(i) for i in range(10,19)] + ['f_07','f_08','f_09','f_27','f_29']\n",
    "cat_cols"
   ]
  },
  {
   "cell_type": "code",
   "execution_count": 15,
   "id": "1b412211",
   "metadata": {
    "execution": {
     "iopub.execute_input": "2022-05-02T02:32:17.075376Z",
     "iopub.status.busy": "2022-05-02T02:32:17.075059Z",
     "iopub.status.idle": "2022-05-02T02:32:52.546679Z",
     "shell.execute_reply": "2022-05-02T02:32:52.546023Z"
    },
    "papermill": {
     "duration": 35.547665,
     "end_time": "2022-05-02T02:32:52.585912",
     "exception": false,
     "start_time": "2022-05-02T02:32:17.038247",
     "status": "completed"
    },
    "tags": []
   },
   "outputs": [
    {
     "name": "stdout",
     "output_type": "stream",
     "text": [
      "(1600000, 33)\n"
     ]
    }
   ],
   "source": [
    "from sklearn.preprocessing import LabelEncoder, StandardScaler\n",
    "\n",
    "df = pd.concat([train, test])\n",
    "\n",
    "le = LabelEncoder()\n",
    "for c in cat_cols:\n",
    "    df[c] = le.fit_transform(df[c].astype('str'))\n",
    "    \n",
    "print(df.shape)"
   ]
  },
  {
   "cell_type": "markdown",
   "id": "7e170624",
   "metadata": {
    "papermill": {
     "duration": 0.035822,
     "end_time": "2022-05-02T02:32:52.658086",
     "exception": false,
     "start_time": "2022-05-02T02:32:52.622264",
     "status": "completed"
    },
    "tags": []
   },
   "source": [
    "# FE"
   ]
  },
  {
   "cell_type": "code",
   "execution_count": 16,
   "id": "346da95d",
   "metadata": {
    "execution": {
     "iopub.execute_input": "2022-05-02T02:32:52.732538Z",
     "iopub.status.busy": "2022-05-02T02:32:52.731632Z",
     "iopub.status.idle": "2022-05-02T02:32:52.836628Z",
     "shell.execute_reply": "2022-05-02T02:32:52.835893Z"
    },
    "papermill": {
     "duration": 0.144511,
     "end_time": "2022-05-02T02:32:52.838766",
     "exception": false,
     "start_time": "2022-05-02T02:32:52.694255",
     "status": "completed"
    },
    "tags": []
   },
   "outputs": [
    {
     "data": {
      "text/html": [
       "<div>\n",
       "<style scoped>\n",
       "    .dataframe tbody tr th:only-of-type {\n",
       "        vertical-align: middle;\n",
       "    }\n",
       "\n",
       "    .dataframe tbody tr th {\n",
       "        vertical-align: top;\n",
       "    }\n",
       "\n",
       "    .dataframe thead th {\n",
       "        text-align: right;\n",
       "    }\n",
       "</style>\n",
       "<table border=\"1\" class=\"dataframe\">\n",
       "  <thead>\n",
       "    <tr style=\"text-align: right;\">\n",
       "      <th></th>\n",
       "      <th>id</th>\n",
       "      <th>f_00</th>\n",
       "      <th>f_01</th>\n",
       "      <th>f_02</th>\n",
       "      <th>f_03</th>\n",
       "      <th>f_04</th>\n",
       "      <th>f_05</th>\n",
       "      <th>f_06</th>\n",
       "      <th>f_07</th>\n",
       "      <th>f_08</th>\n",
       "      <th>f_09</th>\n",
       "      <th>f_10</th>\n",
       "      <th>f_11</th>\n",
       "      <th>f_12</th>\n",
       "      <th>f_13</th>\n",
       "      <th>f_14</th>\n",
       "      <th>f_15</th>\n",
       "      <th>f_16</th>\n",
       "      <th>f_17</th>\n",
       "      <th>f_18</th>\n",
       "      <th>f_19</th>\n",
       "      <th>f_20</th>\n",
       "      <th>f_21</th>\n",
       "      <th>f_22</th>\n",
       "      <th>f_23</th>\n",
       "      <th>f_24</th>\n",
       "      <th>f_25</th>\n",
       "      <th>f_26</th>\n",
       "      <th>f_27</th>\n",
       "      <th>f_28</th>\n",
       "      <th>f_29</th>\n",
       "      <th>f_30</th>\n",
       "      <th>target</th>\n",
       "      <th>f_30_27_mean</th>\n",
       "      <th>f_30_27_std</th>\n",
       "    </tr>\n",
       "  </thead>\n",
       "  <tbody>\n",
       "    <tr>\n",
       "      <th>0</th>\n",
       "      <td>0</td>\n",
       "      <td>-1.373246</td>\n",
       "      <td>0.238887</td>\n",
       "      <td>-0.243376</td>\n",
       "      <td>0.567405</td>\n",
       "      <td>-0.647715</td>\n",
       "      <td>0.839326</td>\n",
       "      <td>0.113133</td>\n",
       "      <td>1</td>\n",
       "      <td>11</td>\n",
       "      <td>1</td>\n",
       "      <td>9</td>\n",
       "      <td>8</td>\n",
       "      <td>10</td>\n",
       "      <td>1</td>\n",
       "      <td>10</td>\n",
       "      <td>1</td>\n",
       "      <td>0</td>\n",
       "      <td>12</td>\n",
       "      <td>8</td>\n",
       "      <td>0.298218</td>\n",
       "      <td>-0.919717</td>\n",
       "      <td>3.058541</td>\n",
       "      <td>-2.540739</td>\n",
       "      <td>0.766952</td>\n",
       "      <td>-2.730628</td>\n",
       "      <td>-0.208177</td>\n",
       "      <td>1.363402</td>\n",
       "      <td>94968</td>\n",
       "      <td>67.609153</td>\n",
       "      <td>0</td>\n",
       "      <td>0</td>\n",
       "      <td>0.0</td>\n",
       "      <td>592710.790103</td>\n",
       "      <td>337198.672332</td>\n",
       "    </tr>\n",
       "    <tr>\n",
       "      <th>1</th>\n",
       "      <td>1</td>\n",
       "      <td>1.697021</td>\n",
       "      <td>-1.710322</td>\n",
       "      <td>-2.230332</td>\n",
       "      <td>-0.545661</td>\n",
       "      <td>1.113173</td>\n",
       "      <td>-1.552175</td>\n",
       "      <td>0.447825</td>\n",
       "      <td>1</td>\n",
       "      <td>9</td>\n",
       "      <td>10</td>\n",
       "      <td>0</td>\n",
       "      <td>7</td>\n",
       "      <td>10</td>\n",
       "      <td>0</td>\n",
       "      <td>1</td>\n",
       "      <td>0</td>\n",
       "      <td>10</td>\n",
       "      <td>11</td>\n",
       "      <td>0</td>\n",
       "      <td>-3.147667</td>\n",
       "      <td>-1.075434</td>\n",
       "      <td>2.179050</td>\n",
       "      <td>2.278315</td>\n",
       "      <td>-0.633658</td>\n",
       "      <td>-1.217077</td>\n",
       "      <td>-3.782194</td>\n",
       "      <td>-0.058316</td>\n",
       "      <td>247553</td>\n",
       "      <td>377.096415</td>\n",
       "      <td>0</td>\n",
       "      <td>0</td>\n",
       "      <td>1.0</td>\n",
       "      <td>592710.790103</td>\n",
       "      <td>337198.672332</td>\n",
       "    </tr>\n",
       "    <tr>\n",
       "      <th>2</th>\n",
       "      <td>2</td>\n",
       "      <td>1.681726</td>\n",
       "      <td>0.616746</td>\n",
       "      <td>-1.027689</td>\n",
       "      <td>0.810492</td>\n",
       "      <td>-0.609086</td>\n",
       "      <td>0.113965</td>\n",
       "      <td>-0.708660</td>\n",
       "      <td>1</td>\n",
       "      <td>0</td>\n",
       "      <td>8</td>\n",
       "      <td>12</td>\n",
       "      <td>11</td>\n",
       "      <td>11</td>\n",
       "      <td>7</td>\n",
       "      <td>1</td>\n",
       "      <td>7</td>\n",
       "      <td>8</td>\n",
       "      <td>1</td>\n",
       "      <td>8</td>\n",
       "      <td>2.820733</td>\n",
       "      <td>-3.485342</td>\n",
       "      <td>-0.784235</td>\n",
       "      <td>-1.385775</td>\n",
       "      <td>-0.520558</td>\n",
       "      <td>-0.009121</td>\n",
       "      <td>2.788536</td>\n",
       "      <td>-3.703488</td>\n",
       "      <td>24984</td>\n",
       "      <td>-195.599702</td>\n",
       "      <td>0</td>\n",
       "      <td>2</td>\n",
       "      <td>1.0</td>\n",
       "      <td>589740.376376</td>\n",
       "      <td>336847.488954</td>\n",
       "    </tr>\n",
       "    <tr>\n",
       "      <th>3</th>\n",
       "      <td>3</td>\n",
       "      <td>-0.118172</td>\n",
       "      <td>-0.587835</td>\n",
       "      <td>-0.804638</td>\n",
       "      <td>2.086822</td>\n",
       "      <td>0.371005</td>\n",
       "      <td>-0.128831</td>\n",
       "      <td>-0.282575</td>\n",
       "      <td>10</td>\n",
       "      <td>8</td>\n",
       "      <td>1</td>\n",
       "      <td>0</td>\n",
       "      <td>1</td>\n",
       "      <td>13</td>\n",
       "      <td>8</td>\n",
       "      <td>6</td>\n",
       "      <td>8</td>\n",
       "      <td>9</td>\n",
       "      <td>0</td>\n",
       "      <td>7</td>\n",
       "      <td>1.081084</td>\n",
       "      <td>-2.100177</td>\n",
       "      <td>-2.343819</td>\n",
       "      <td>0.572594</td>\n",
       "      <td>-1.653213</td>\n",
       "      <td>1.686035</td>\n",
       "      <td>-2.533098</td>\n",
       "      <td>-0.608601</td>\n",
       "      <td>1045174</td>\n",
       "      <td>210.826205</td>\n",
       "      <td>0</td>\n",
       "      <td>0</td>\n",
       "      <td>1.0</td>\n",
       "      <td>592710.790103</td>\n",
       "      <td>337198.672332</td>\n",
       "    </tr>\n",
       "    <tr>\n",
       "      <th>4</th>\n",
       "      <td>4</td>\n",
       "      <td>1.148481</td>\n",
       "      <td>-0.176567</td>\n",
       "      <td>-0.664871</td>\n",
       "      <td>-1.101343</td>\n",
       "      <td>0.467875</td>\n",
       "      <td>0.500117</td>\n",
       "      <td>0.407515</td>\n",
       "      <td>10</td>\n",
       "      <td>9</td>\n",
       "      <td>0</td>\n",
       "      <td>10</td>\n",
       "      <td>8</td>\n",
       "      <td>0</td>\n",
       "      <td>10</td>\n",
       "      <td>0</td>\n",
       "      <td>8</td>\n",
       "      <td>9</td>\n",
       "      <td>1</td>\n",
       "      <td>0</td>\n",
       "      <td>-0.126179</td>\n",
       "      <td>0.605033</td>\n",
       "      <td>1.133665</td>\n",
       "      <td>-3.912929</td>\n",
       "      <td>-1.430366</td>\n",
       "      <td>2.127649</td>\n",
       "      <td>-3.306784</td>\n",
       "      <td>4.371371</td>\n",
       "      <td>1068351</td>\n",
       "      <td>-217.211798</td>\n",
       "      <td>0</td>\n",
       "      <td>1</td>\n",
       "      <td>1.0</td>\n",
       "      <td>587729.708234</td>\n",
       "      <td>335884.007748</td>\n",
       "    </tr>\n",
       "  </tbody>\n",
       "</table>\n",
       "</div>"
      ],
      "text/plain": [
       "   id      f_00      f_01      f_02      f_03      f_04      f_05      f_06  \\\n",
       "0   0 -1.373246  0.238887 -0.243376  0.567405 -0.647715  0.839326  0.113133   \n",
       "1   1  1.697021 -1.710322 -2.230332 -0.545661  1.113173 -1.552175  0.447825   \n",
       "2   2  1.681726  0.616746 -1.027689  0.810492 -0.609086  0.113965 -0.708660   \n",
       "3   3 -0.118172 -0.587835 -0.804638  2.086822  0.371005 -0.128831 -0.282575   \n",
       "4   4  1.148481 -0.176567 -0.664871 -1.101343  0.467875  0.500117  0.407515   \n",
       "\n",
       "   f_07  f_08  f_09  f_10  f_11  f_12  f_13  f_14  f_15  f_16  f_17  f_18  \\\n",
       "0     1    11     1     9     8    10     1    10     1     0    12     8   \n",
       "1     1     9    10     0     7    10     0     1     0    10    11     0   \n",
       "2     1     0     8    12    11    11     7     1     7     8     1     8   \n",
       "3    10     8     1     0     1    13     8     6     8     9     0     7   \n",
       "4    10     9     0    10     8     0    10     0     8     9     1     0   \n",
       "\n",
       "       f_19      f_20      f_21      f_22      f_23      f_24      f_25  \\\n",
       "0  0.298218 -0.919717  3.058541 -2.540739  0.766952 -2.730628 -0.208177   \n",
       "1 -3.147667 -1.075434  2.179050  2.278315 -0.633658 -1.217077 -3.782194   \n",
       "2  2.820733 -3.485342 -0.784235 -1.385775 -0.520558 -0.009121  2.788536   \n",
       "3  1.081084 -2.100177 -2.343819  0.572594 -1.653213  1.686035 -2.533098   \n",
       "4 -0.126179  0.605033  1.133665 -3.912929 -1.430366  2.127649 -3.306784   \n",
       "\n",
       "       f_26     f_27        f_28  f_29  f_30  target   f_30_27_mean  \\\n",
       "0  1.363402    94968   67.609153     0     0     0.0  592710.790103   \n",
       "1 -0.058316   247553  377.096415     0     0     1.0  592710.790103   \n",
       "2 -3.703488    24984 -195.599702     0     2     1.0  589740.376376   \n",
       "3 -0.608601  1045174  210.826205     0     0     1.0  592710.790103   \n",
       "4  4.371371  1068351 -217.211798     0     1     1.0  587729.708234   \n",
       "\n",
       "     f_30_27_std  \n",
       "0  337198.672332  \n",
       "1  337198.672332  \n",
       "2  336847.488954  \n",
       "3  337198.672332  \n",
       "4  335884.007748  "
      ]
     },
     "execution_count": 16,
     "metadata": {},
     "output_type": "execute_result"
    }
   ],
   "source": [
    "df['f_30_27_mean'] = df.groupby('f_30')['f_27'].transform('mean')\n",
    "df['f_30_27_std'] = df.groupby('f_30')['f_27'].transform('std')\n",
    "df.head()"
   ]
  },
  {
   "cell_type": "code",
   "execution_count": 17,
   "id": "ec06626b",
   "metadata": {
    "execution": {
     "iopub.execute_input": "2022-05-02T02:32:52.916625Z",
     "iopub.status.busy": "2022-05-02T02:32:52.916034Z",
     "iopub.status.idle": "2022-05-02T02:32:53.438203Z",
     "shell.execute_reply": "2022-05-02T02:32:53.436854Z"
    },
    "papermill": {
     "duration": 0.563072,
     "end_time": "2022-05-02T02:32:53.440793",
     "exception": false,
     "start_time": "2022-05-02T02:32:52.877721",
     "status": "completed"
    },
    "tags": []
   },
   "outputs": [
    {
     "name": "stdout",
     "output_type": "stream",
     "text": [
      "(900000, 33)\n",
      "(700000, 33)\n"
     ]
    }
   ],
   "source": [
    "train = df[:len(train)]\n",
    "test = df[-len(test):]\n",
    "\n",
    "\n",
    "X_train = train.drop(['id','target'], axis = 1)\n",
    "y_train = train.target\n",
    "\n",
    "X_test = test.drop(['id','target'], axis = 1)\n",
    "\n",
    "print(X_train.shape)\n",
    "print(X_test.shape)"
   ]
  },
  {
   "cell_type": "markdown",
   "id": "d2ba07fe",
   "metadata": {
    "papermill": {
     "duration": 0.037649,
     "end_time": "2022-05-02T02:32:53.515585",
     "exception": false,
     "start_time": "2022-05-02T02:32:53.477936",
     "status": "completed"
    },
    "tags": []
   },
   "source": [
    "# Lightgbm Model"
   ]
  },
  {
   "cell_type": "code",
   "execution_count": 18,
   "id": "62bc0d07",
   "metadata": {
    "execution": {
     "iopub.execute_input": "2022-05-02T02:32:53.592510Z",
     "iopub.status.busy": "2022-05-02T02:32:53.591889Z",
     "iopub.status.idle": "2022-05-02T02:46:18.965805Z",
     "shell.execute_reply": "2022-05-02T02:46:18.963833Z"
    },
    "papermill": {
     "duration": 805.458192,
     "end_time": "2022-05-02T02:46:19.011336",
     "exception": false,
     "start_time": "2022-05-02T02:32:53.553144",
     "status": "completed"
    },
    "tags": []
   },
   "outputs": [
    {
     "data": {
      "text/html": [
       "<style type='text/css'>\n",
       ".datatable table.frame { margin-bottom: 0; }\n",
       ".datatable table.frame thead { border-bottom: none; }\n",
       ".datatable table.frame tr.coltypes td {  color: #FFFFFF;  line-height: 6px;  padding: 0 0.5em;}\n",
       ".datatable .bool    { background: #DDDD99; }\n",
       ".datatable .object  { background: #565656; }\n",
       ".datatable .int     { background: #5D9E5D; }\n",
       ".datatable .float   { background: #4040CC; }\n",
       ".datatable .str     { background: #CC4040; }\n",
       ".datatable .time    { background: #40CC40; }\n",
       ".datatable .row_index {  background: var(--jp-border-color3);  border-right: 1px solid var(--jp-border-color0);  color: var(--jp-ui-font-color3);  font-size: 9px;}\n",
       ".datatable .frame tbody td { text-align: left; }\n",
       ".datatable .frame tr.coltypes .row_index {  background: var(--jp-border-color0);}\n",
       ".datatable th:nth-child(2) { padding-left: 12px; }\n",
       ".datatable .hellipsis {  color: var(--jp-cell-editor-border-color);}\n",
       ".datatable .vellipsis {  background: var(--jp-layout-color0);  color: var(--jp-cell-editor-border-color);}\n",
       ".datatable .na {  color: var(--jp-cell-editor-border-color);  font-size: 80%;}\n",
       ".datatable .sp {  opacity: 0.25;}\n",
       ".datatable .footer { font-size: 9px; }\n",
       ".datatable .frame_dimensions {  background: var(--jp-border-color3);  border-top: 1px solid var(--jp-border-color0);  color: var(--jp-ui-font-color3);  display: inline-block;  opacity: 0.6;  padding: 1px 10px 1px 5px;}\n",
       "</style>\n"
      ],
      "text/plain": [
       "<IPython.core.display.HTML object>"
      ]
     },
     "metadata": {},
     "output_type": "display_data"
    },
    {
     "name": "stdout",
     "output_type": "stream",
     "text": [
      "Fold  1\n",
      "************************************************************\n",
      "[400]\ttraining's auc: 0.939253\ttraining's binary_logloss: 0.328489\tvalid_1's auc: 0.933091\tvalid_1's binary_logloss: 0.340913\n",
      "[800]\ttraining's auc: 0.950626\ttraining's binary_logloss: 0.294683\tvalid_1's auc: 0.939743\tvalid_1's binary_logloss: 0.319303\n",
      "Fold  2\n",
      "************************************************************\n",
      "[400]\ttraining's auc: 0.939761\ttraining's binary_logloss: 0.327105\tvalid_1's auc: 0.931909\tvalid_1's binary_logloss: 0.34264\n",
      "[800]\ttraining's auc: 0.950929\ttraining's binary_logloss: 0.293975\tvalid_1's auc: 0.938341\tvalid_1's binary_logloss: 0.322092\n",
      "Fold  3\n",
      "************************************************************\n",
      "[400]\ttraining's auc: 0.939556\ttraining's binary_logloss: 0.327947\tvalid_1's auc: 0.933066\tvalid_1's binary_logloss: 0.340673\n",
      "[800]\ttraining's auc: 0.950674\ttraining's binary_logloss: 0.294997\tvalid_1's auc: 0.939316\tvalid_1's binary_logloss: 0.320242\n",
      "Fold  4\n",
      "************************************************************\n",
      "[400]\ttraining's auc: 0.939227\ttraining's binary_logloss: 0.329169\tvalid_1's auc: 0.932253\tvalid_1's binary_logloss: 0.342804\n",
      "[800]\ttraining's auc: 0.950597\ttraining's binary_logloss: 0.295251\tvalid_1's auc: 0.93893\tvalid_1's binary_logloss: 0.321255\n",
      "Fold  5\n",
      "************************************************************\n",
      "[400]\ttraining's auc: 0.939082\ttraining's binary_logloss: 0.330079\tvalid_1's auc: 0.931973\tvalid_1's binary_logloss: 0.343801\n",
      "[800]\ttraining's auc: 0.950409\ttraining's binary_logloss: 0.296056\tvalid_1's auc: 0.938504\tvalid_1's binary_logloss: 0.322198\n",
      "oof auc:  0.9407779753503857\n"
     ]
    }
   ],
   "source": [
    "import lightgbm as lgb\n",
    "\n",
    "from sklearn.model_selection import KFold, StratifiedKFold, GroupKFold\n",
    "from sklearn.metrics import roc_auc_score\n",
    "\n",
    "oof = np.zeros(len(train))\n",
    "pred = np.zeros(len(test))\n",
    "\n",
    "skf = StratifiedKFold(n_splits=5)\n",
    "\n",
    "for i, (tidx, vidx) in enumerate(skf.split(X_train, y_train, y_train)):\n",
    "    x_tr, x_val = X_train.iloc[tidx], X_train.iloc[vidx]\n",
    "    y_tr, y_val = y_train.iloc[tidx], y_train.iloc[vidx]\n",
    "    \n",
    "    print('Fold ', i+1)\n",
    "    print('*' * 60)\n",
    "    \n",
    "    clf = lgb.LGBMClassifier(\n",
    "        n_estimators = 1000,\n",
    "        learning_rate = 0.15,\n",
    "        max_depth = 9,\n",
    "        subsample = 0.8,\n",
    "        colsample_bytree = 0.8,\n",
    "        reg_alpha = 0.5,\n",
    "        reg_lambda = 0.5,\n",
    "        random_state = 2022,\n",
    "        importance_type = 'gain',\n",
    "    \n",
    "    )\n",
    "    \n",
    "    clf.fit(x_tr, y_tr, eval_set = [(x_tr, y_tr),(x_val, y_val)], verbose = 400, \n",
    "           early_stopping_rounds=50, eval_metric= 'auc')\n",
    "    \n",
    "    oof[vidx] = clf.predict_proba(x_val)[:,1]\n",
    "    pred += clf.predict_proba(X_test)[:,1]/skf.n_splits\n",
    "    \n",
    "print('oof auc: ', roc_auc_score(y_train, oof))   "
   ]
  },
  {
   "cell_type": "code",
   "execution_count": 19,
   "id": "108ac5b7",
   "metadata": {
    "execution": {
     "iopub.execute_input": "2022-05-02T02:46:19.103989Z",
     "iopub.status.busy": "2022-05-02T02:46:19.103619Z",
     "iopub.status.idle": "2022-05-02T02:46:19.535171Z",
     "shell.execute_reply": "2022-05-02T02:46:19.533959Z"
    },
    "papermill": {
     "duration": 0.482182,
     "end_time": "2022-05-02T02:46:19.537703",
     "exception": false,
     "start_time": "2022-05-02T02:46:19.055521",
     "status": "completed"
    },
    "tags": []
   },
   "outputs": [
    {
     "data": {
      "image/png": "[encoded data removed]",
      "text/plain": [
       "<Figure size 720x720 with 1 Axes>"
      ]
     },
     "metadata": {
      "needs_background": "light"
     },
     "output_type": "display_data"
    }
   ],
   "source": [
    "lgb.plot_importance(clf, max_num_features = 20, figsize = (10,10))\n",
    "plt.show()"
   ]
  },
  {
   "cell_type": "markdown",
   "id": "747a4559",
   "metadata": {
    "papermill": {
     "duration": 0.047731,
     "end_time": "2022-05-02T02:46:19.633414",
     "exception": false,
     "start_time": "2022-05-02T02:46:19.585683",
     "status": "completed"
    },
    "tags": []
   },
   "source": [
    "# Submission"
   ]
  },
  {
   "cell_type": "code",
   "execution_count": 20,
   "id": "87d196b7",
   "metadata": {
    "execution": {
     "iopub.execute_input": "2022-05-02T02:46:19.736954Z",
     "iopub.status.busy": "2022-05-02T02:46:19.736645Z",
     "iopub.status.idle": "2022-05-02T02:46:22.207020Z",
     "shell.execute_reply": "2022-05-02T02:46:22.205738Z"
    },
    "papermill": {
     "duration": 2.529675,
     "end_time": "2022-05-02T02:46:22.209548",
     "exception": false,
     "start_time": "2022-05-02T02:46:19.679873",
     "status": "completed"
    },
    "tags": []
   },
   "outputs": [
    {
     "data": {
      "text/html": [
       "<div>\n",
       "<style scoped>\n",
       "    .dataframe tbody tr th:only-of-type {\n",
       "        vertical-align: middle;\n",
       "    }\n",
       "\n",
       "    .dataframe tbody tr th {\n",
       "        vertical-align: top;\n",
       "    }\n",
       "\n",
       "    .dataframe thead th {\n",
       "        text-align: right;\n",
       "    }\n",
       "</style>\n",
       "<table border=\"1\" class=\"dataframe\">\n",
       "  <thead>\n",
       "    <tr style=\"text-align: right;\">\n",
       "      <th></th>\n",
       "      <th>id</th>\n",
       "      <th>target</th>\n",
       "    </tr>\n",
       "  </thead>\n",
       "  <tbody>\n",
       "    <tr>\n",
       "      <th>count</th>\n",
       "      <td>7.000000e+05</td>\n",
       "      <td>700000.000000</td>\n",
       "    </tr>\n",
       "    <tr>\n",
       "      <th>mean</th>\n",
       "      <td>1.250000e+06</td>\n",
       "      <td>0.485994</td>\n",
       "    </tr>\n",
       "    <tr>\n",
       "      <th>std</th>\n",
       "      <td>2.020727e+05</td>\n",
       "      <td>0.366983</td>\n",
       "    </tr>\n",
       "    <tr>\n",
       "      <th>min</th>\n",
       "      <td>9.000000e+05</td>\n",
       "      <td>0.000014</td>\n",
       "    </tr>\n",
       "    <tr>\n",
       "      <th>25%</th>\n",
       "      <td>1.075000e+06</td>\n",
       "      <td>0.111813</td>\n",
       "    </tr>\n",
       "    <tr>\n",
       "      <th>50%</th>\n",
       "      <td>1.250000e+06</td>\n",
       "      <td>0.447253</td>\n",
       "    </tr>\n",
       "    <tr>\n",
       "      <th>75%</th>\n",
       "      <td>1.424999e+06</td>\n",
       "      <td>0.877727</td>\n",
       "    </tr>\n",
       "    <tr>\n",
       "      <th>max</th>\n",
       "      <td>1.599999e+06</td>\n",
       "      <td>0.999994</td>\n",
       "    </tr>\n",
       "  </tbody>\n",
       "</table>\n",
       "</div>"
      ],
      "text/plain": [
       "                 id         target\n",
       "count  7.000000e+05  700000.000000\n",
       "mean   1.250000e+06       0.485994\n",
       "std    2.020727e+05       0.366983\n",
       "min    9.000000e+05       0.000014\n",
       "25%    1.075000e+06       0.111813\n",
       "50%    1.250000e+06       0.447253\n",
       "75%    1.424999e+06       0.877727\n",
       "max    1.599999e+06       0.999994"
      ]
     },
     "execution_count": 20,
     "metadata": {},
     "output_type": "execute_result"
    }
   ],
   "source": [
    "sub['target'] = pred\n",
    "\n",
    "sub.to_csv('sub_lgbm.csv', index = False)\n",
    "\n",
    "sub.describe()\n"
   ]
  },
  {
   "cell_type": "code",
   "execution_count": 21,
   "id": "a66f420a",
   "metadata": {
    "execution": {
     "iopub.execute_input": "2022-05-02T02:46:22.306044Z",
     "iopub.status.busy": "2022-05-02T02:46:22.305710Z",
     "iopub.status.idle": "2022-05-02T02:46:22.322454Z",
     "shell.execute_reply": "2022-05-02T02:46:22.321477Z"
    },
    "papermill": {
     "duration": 0.068045,
     "end_time": "2022-05-02T02:46:22.324819",
     "exception": false,
     "start_time": "2022-05-02T02:46:22.256774",
     "status": "completed"
    },
    "tags": []
   },
   "outputs": [
    {
     "data": {
      "text/html": [
       "<div>\n",
       "<style scoped>\n",
       "    .dataframe tbody tr th:only-of-type {\n",
       "        vertical-align: middle;\n",
       "    }\n",
       "\n",
       "    .dataframe tbody tr th {\n",
       "        vertical-align: top;\n",
       "    }\n",
       "\n",
       "    .dataframe thead th {\n",
       "        text-align: right;\n",
       "    }\n",
       "</style>\n",
       "<table border=\"1\" class=\"dataframe\">\n",
       "  <thead>\n",
       "    <tr style=\"text-align: right;\">\n",
       "      <th></th>\n",
       "      <th>id</th>\n",
       "      <th>target</th>\n",
       "    </tr>\n",
       "  </thead>\n",
       "  <tbody>\n",
       "    <tr>\n",
       "      <th>0</th>\n",
       "      <td>900000</td>\n",
       "      <td>0.943504</td>\n",
       "    </tr>\n",
       "    <tr>\n",
       "      <th>1</th>\n",
       "      <td>900001</td>\n",
       "      <td>0.911060</td>\n",
       "    </tr>\n",
       "    <tr>\n",
       "      <th>2</th>\n",
       "      <td>900002</td>\n",
       "      <td>0.001894</td>\n",
       "    </tr>\n",
       "    <tr>\n",
       "      <th>3</th>\n",
       "      <td>900003</td>\n",
       "      <td>0.109217</td>\n",
       "    </tr>\n",
       "    <tr>\n",
       "      <th>4</th>\n",
       "      <td>900004</td>\n",
       "      <td>0.875499</td>\n",
       "    </tr>\n",
       "    <tr>\n",
       "      <th>...</th>\n",
       "      <td>...</td>\n",
       "      <td>...</td>\n",
       "    </tr>\n",
       "    <tr>\n",
       "      <th>699995</th>\n",
       "      <td>1599995</td>\n",
       "      <td>0.482350</td>\n",
       "    </tr>\n",
       "    <tr>\n",
       "      <th>699996</th>\n",
       "      <td>1599996</td>\n",
       "      <td>0.891413</td>\n",
       "    </tr>\n",
       "    <tr>\n",
       "      <th>699997</th>\n",
       "      <td>1599997</td>\n",
       "      <td>0.654307</td>\n",
       "    </tr>\n",
       "    <tr>\n",
       "      <th>699998</th>\n",
       "      <td>1599998</td>\n",
       "      <td>0.130424</td>\n",
       "    </tr>\n",
       "    <tr>\n",
       "      <th>699999</th>\n",
       "      <td>1599999</td>\n",
       "      <td>0.000616</td>\n",
       "    </tr>\n",
       "  </tbody>\n",
       "</table>\n",
       "<p>700000 rows × 2 columns</p>\n",
       "</div>"
      ],
      "text/plain": [
       "             id    target\n",
       "0        900000  0.943504\n",
       "1        900001  0.911060\n",
       "2        900002  0.001894\n",
       "3        900003  0.109217\n",
       "4        900004  0.875499\n",
       "...         ...       ...\n",
       "699995  1599995  0.482350\n",
       "699996  1599996  0.891413\n",
       "699997  1599997  0.654307\n",
       "699998  1599998  0.130424\n",
       "699999  1599999  0.000616\n",
       "\n",
       "[700000 rows x 2 columns]"
      ]
     },
     "execution_count": 21,
     "metadata": {},
     "output_type": "execute_result"
    }
   ],
   "source": [
    "sub"
   ]
  },
  {
   "cell_type": "code",
   "execution_count": null,
   "id": "3ee2ad7b",
   "metadata": {
    "papermill": {
     "duration": 0.048213,
     "end_time": "2022-05-02T02:46:22.421736",
     "exception": false,
     "start_time": "2022-05-02T02:46:22.373523",
     "status": "completed"
    },
    "tags": []
   },
   "outputs": [],
   "source": []
  }
 ],
 "metadata": {
  "kernelspec": {
   "display_name": "Python 3",
   "language": "python",
   "name": "python3"
  },
  "language_info": {
   "codemirror_mode": {
    "name": "ipython",
    "version": 3
   },
   "file_extension": ".py",
   "mimetype": "text/x-python",
   "name": "python",
   "nbconvert_exporter": "python",
   "pygments_lexer": "ipython3",
   "version": "3.7.12"
  },
  "papermill": {
   "default_parameters": {},
   "duration": 893.093533,
   "end_time": "2022-05-02T02:46:23.798466",
   "environment_variables": {},
   "exception": null,
   "input_path": "__notebook__.ipynb",
   "output_path": "__notebook__.ipynb",
   "parameters": {},
   "start_time": "2022-05-02T02:31:30.704933",
   "version": "2.3.4"
  }
 },
 "nbformat": 4,
 "nbformat_minor": 5
}
