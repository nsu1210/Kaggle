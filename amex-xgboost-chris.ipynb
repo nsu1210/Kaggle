{
 "cells": [
  {
   "cell_type": "markdown",
   "id": "11d1b501",
   "metadata": {
    "papermill": {
     "duration": 0.008274,
     "end_time": "2022-07-14T06:13:07.296306",
     "exception": false,
     "start_time": "2022-07-14T06:13:07.288032",
     "status": "completed"
    },
    "tags": []
   },
   "source": [
    "# XGBoost Starter - LB 0.793\n",
    "In this notebook we build and train an XGBoost model using @raddar Kaggle dataset from [here][1] with discussion [here][2]. Then we engineer features suggested by @huseyincot in his notebooks [here][3] and [here][4]. This XGB model achieves CV 0.792 LB 0.793! When training with XGB, we use a special XGB dataloader called `DeviceQuantileDMatrix` which uses a small GPU memory footprint. This allows us to engineer more additional columns and train with more rows of data. Our feature engineering is performed using [RAPIDS][5] on the GPU to create new features quickly.\n",
    "\n",
    "[1]: https://www.kaggle.com/datasets/raddar/amex-data-integer-dtypes-parquet-format\n",
    "[2]: https://www.kaggle.com/competitions/amex-default-prediction/discussion/328514\n",
    "[3]: https://www.kaggle.com/code/huseyincot/amex-catboost-0-793\n",
    "[4]: https://www.kaggle.com/code/huseyincot/amex-agg-data-how-it-created\n",
    "[5]: https://rapids.ai/"
   ]
  },
  {
   "cell_type": "markdown",
   "id": "9eb58290",
   "metadata": {
    "papermill": {
     "duration": 0.006093,
     "end_time": "2022-07-14T06:13:07.308246",
     "exception": false,
     "start_time": "2022-07-14T06:13:07.302153",
     "status": "completed"
    },
    "tags": []
   },
   "source": [
    "# Load Libraries"
   ]
  },
  {
   "cell_type": "code",
   "execution_count": 1,
   "id": "74e5f223",
   "metadata": {
    "execution": {
     "iopub.execute_input": "2022-07-14T06:13:07.321848Z",
     "iopub.status.busy": "2022-07-14T06:13:07.321083Z",
     "iopub.status.idle": "2022-07-14T06:13:11.488565Z",
     "shell.execute_reply": "2022-07-14T06:13:11.485616Z"
    },
    "papermill": {
     "duration": 4.177525,
     "end_time": "2022-07-14T06:13:11.491436",
     "exception": false,
     "start_time": "2022-07-14T06:13:07.313911",
     "status": "completed"
    },
    "tags": []
   },
   "outputs": [
    {
     "name": "stdout",
     "output_type": "stream",
     "text": [
      "RAPIDS version 21.10.01\n"
     ]
    }
   ],
   "source": [
    "# LOAD LIBRARIES\n",
    "import pandas as pd, numpy as np # CPU libraries\n",
    "import cupy, cudf # GPU libraries\n",
    "import matplotlib.pyplot as plt, gc, os\n",
    "\n",
    "print('RAPIDS version',cudf.__version__)"
   ]
  },
  {
   "cell_type": "code",
   "execution_count": 2,
   "id": "d7cbf3e6",
   "metadata": {
    "execution": {
     "iopub.execute_input": "2022-07-14T06:13:11.505762Z",
     "iopub.status.busy": "2022-07-14T06:13:11.505461Z",
     "iopub.status.idle": "2022-07-14T06:13:11.509557Z",
     "shell.execute_reply": "2022-07-14T06:13:11.508802Z"
    },
    "papermill": {
     "duration": 0.012583,
     "end_time": "2022-07-14T06:13:11.511241",
     "exception": false,
     "start_time": "2022-07-14T06:13:11.498658",
     "status": "completed"
    },
    "tags": []
   },
   "outputs": [],
   "source": [
    "# VERSION NAME FOR SAVED MODEL FILES\n",
    "VER = 1\n",
    "\n",
    "# TRAIN RANDOM SEED\n",
    "SEED = 42\n",
    "\n",
    "# FILL NAN VALUE\n",
    "NAN_VALUE = -127 # will fit in int8\n",
    "\n",
    "# FOLDS PER MODEL\n",
    "FOLDS = 5"
   ]
  },
  {
   "cell_type": "markdown",
   "id": "b03b4cda",
   "metadata": {
    "papermill": {
     "duration": 0.005674,
     "end_time": "2022-07-14T06:13:11.522891",
     "exception": false,
     "start_time": "2022-07-14T06:13:11.517217",
     "status": "completed"
    },
    "tags": []
   },
   "source": [
    "# Process and Feature Engineer Train Data\n",
    "We will load @raddar Kaggle dataset from [here][1] with discussion [here][2]. Then we will engineer features suggested by @huseyincot in his notebooks [here][3] and [here][4]. We will use [RAPIDS][5] and the GPU to create new features quickly.\n",
    "\n",
    "[1]: https://www.kaggle.com/datasets/raddar/amex-data-integer-dtypes-parquet-format\n",
    "[2]: https://www.kaggle.com/competitions/amex-default-prediction/discussion/328514\n",
    "[3]: https://www.kaggle.com/code/huseyincot/amex-catboost-0-793\n",
    "[4]: https://www.kaggle.com/code/huseyincot/amex-agg-data-how-it-created\n",
    "[5]: https://rapids.ai/"
   ]
  },
  {
   "cell_type": "code",
   "execution_count": 3,
   "id": "4929deb0",
   "metadata": {
    "execution": {
     "iopub.execute_input": "2022-07-14T06:13:11.535791Z",
     "iopub.status.busy": "2022-07-14T06:13:11.535192Z",
     "iopub.status.idle": "2022-07-14T06:13:35.045803Z",
     "shell.execute_reply": "2022-07-14T06:13:35.044284Z"
    },
    "papermill": {
     "duration": 23.519123,
     "end_time": "2022-07-14T06:13:35.047813",
     "exception": false,
     "start_time": "2022-07-14T06:13:11.528690",
     "status": "completed"
    },
    "tags": []
   },
   "outputs": [
    {
     "name": "stdout",
     "output_type": "stream",
     "text": [
      "Reading train data...\n",
      "shape of data: (5531451, 190)\n"
     ]
    }
   ],
   "source": [
    "def read_file(path = '', usecols = None):\n",
    "    # LOAD DATAFRAME\n",
    "    if usecols is not None: df = cudf.read_parquet(path, columns=usecols)\n",
    "    else: df = cudf.read_parquet(path)\n",
    "    # REDUCE DTYPE FOR CUSTOMER AND DATE\n",
    "    df['customer_ID'] = df['customer_ID'].str[-16:].str.hex_to_int().astype('int64')\n",
    "    df.S_2 = cudf.to_datetime( df.S_2 )\n",
    "    # SORT BY CUSTOMER AND DATE (so agg('last') works correctly)\n",
    "    #df = df.sort_values(['customer_ID','S_2'])\n",
    "    #df = df.reset_index(drop=True)\n",
    "    # FILL NAN\n",
    "    df = df.fillna(NAN_VALUE) \n",
    "    print('shape of data:', df.shape)\n",
    "    \n",
    "    return df\n",
    "\n",
    "print('Reading train data...')\n",
    "TRAIN_PATH = '../input/amex-data-integer-dtypes-parquet-format/train.parquet'\n",
    "train = read_file(path = TRAIN_PATH)"
   ]
  },
  {
   "cell_type": "code",
   "execution_count": 4,
   "id": "c66b7d9b",
   "metadata": {
    "execution": {
     "iopub.execute_input": "2022-07-14T06:13:35.061669Z",
     "iopub.status.busy": "2022-07-14T06:13:35.061302Z",
     "iopub.status.idle": "2022-07-14T06:13:35.303689Z",
     "shell.execute_reply": "2022-07-14T06:13:35.302722Z"
    },
    "papermill": {
     "duration": 0.252071,
     "end_time": "2022-07-14T06:13:35.306181",
     "exception": false,
     "start_time": "2022-07-14T06:13:35.054110",
     "status": "completed"
    },
    "tags": []
   },
   "outputs": [
    {
     "data": {
      "text/html": [
       "<div>\n",
       "<style scoped>\n",
       "    .dataframe tbody tr th:only-of-type {\n",
       "        vertical-align: middle;\n",
       "    }\n",
       "\n",
       "    .dataframe tbody tr th {\n",
       "        vertical-align: top;\n",
       "    }\n",
       "\n",
       "    .dataframe thead th {\n",
       "        text-align: right;\n",
       "    }\n",
       "</style>\n",
       "<table border=\"1\" class=\"dataframe\">\n",
       "  <thead>\n",
       "    <tr style=\"text-align: right;\">\n",
       "      <th></th>\n",
       "      <th>customer_ID</th>\n",
       "      <th>S_2</th>\n",
       "      <th>P_2</th>\n",
       "      <th>D_39</th>\n",
       "      <th>B_1</th>\n",
       "      <th>B_2</th>\n",
       "      <th>R_1</th>\n",
       "      <th>S_3</th>\n",
       "      <th>D_41</th>\n",
       "      <th>B_3</th>\n",
       "      <th>...</th>\n",
       "      <th>D_136</th>\n",
       "      <th>D_137</th>\n",
       "      <th>D_138</th>\n",
       "      <th>D_139</th>\n",
       "      <th>D_140</th>\n",
       "      <th>D_141</th>\n",
       "      <th>D_142</th>\n",
       "      <th>D_143</th>\n",
       "      <th>D_144</th>\n",
       "      <th>D_145</th>\n",
       "    </tr>\n",
       "  </thead>\n",
       "  <tbody>\n",
       "    <tr>\n",
       "      <th>0</th>\n",
       "      <td>-4532153018459703766</td>\n",
       "      <td>2017-03-09</td>\n",
       "      <td>0.938469</td>\n",
       "      <td>0</td>\n",
       "      <td>0.008724</td>\n",
       "      <td>1.006838</td>\n",
       "      <td>0.009228</td>\n",
       "      <td>0.124035</td>\n",
       "      <td>0.0</td>\n",
       "      <td>0.004709</td>\n",
       "      <td>...</td>\n",
       "      <td>-1</td>\n",
       "      <td>-1</td>\n",
       "      <td>-1</td>\n",
       "      <td>0</td>\n",
       "      <td>0</td>\n",
       "      <td>0.0</td>\n",
       "      <td>-127.0</td>\n",
       "      <td>0</td>\n",
       "      <td>0.000610</td>\n",
       "      <td>0</td>\n",
       "    </tr>\n",
       "    <tr>\n",
       "      <th>1</th>\n",
       "      <td>-4532153018459703766</td>\n",
       "      <td>2017-04-07</td>\n",
       "      <td>0.936665</td>\n",
       "      <td>0</td>\n",
       "      <td>0.004923</td>\n",
       "      <td>1.000653</td>\n",
       "      <td>0.006151</td>\n",
       "      <td>0.126750</td>\n",
       "      <td>0.0</td>\n",
       "      <td>0.002714</td>\n",
       "      <td>...</td>\n",
       "      <td>-1</td>\n",
       "      <td>-1</td>\n",
       "      <td>-1</td>\n",
       "      <td>0</td>\n",
       "      <td>0</td>\n",
       "      <td>0.0</td>\n",
       "      <td>-127.0</td>\n",
       "      <td>0</td>\n",
       "      <td>0.005492</td>\n",
       "      <td>0</td>\n",
       "    </tr>\n",
       "    <tr>\n",
       "      <th>2</th>\n",
       "      <td>-4532153018459703766</td>\n",
       "      <td>2017-05-28</td>\n",
       "      <td>0.954180</td>\n",
       "      <td>3</td>\n",
       "      <td>0.021655</td>\n",
       "      <td>1.009672</td>\n",
       "      <td>0.006815</td>\n",
       "      <td>0.123977</td>\n",
       "      <td>0.0</td>\n",
       "      <td>0.009423</td>\n",
       "      <td>...</td>\n",
       "      <td>-1</td>\n",
       "      <td>-1</td>\n",
       "      <td>-1</td>\n",
       "      <td>0</td>\n",
       "      <td>0</td>\n",
       "      <td>0.0</td>\n",
       "      <td>-127.0</td>\n",
       "      <td>0</td>\n",
       "      <td>0.006986</td>\n",
       "      <td>0</td>\n",
       "    </tr>\n",
       "    <tr>\n",
       "      <th>3</th>\n",
       "      <td>-4532153018459703766</td>\n",
       "      <td>2017-06-13</td>\n",
       "      <td>0.960384</td>\n",
       "      <td>0</td>\n",
       "      <td>0.013683</td>\n",
       "      <td>1.002700</td>\n",
       "      <td>0.001373</td>\n",
       "      <td>0.117169</td>\n",
       "      <td>0.0</td>\n",
       "      <td>0.005531</td>\n",
       "      <td>...</td>\n",
       "      <td>-1</td>\n",
       "      <td>-1</td>\n",
       "      <td>-1</td>\n",
       "      <td>0</td>\n",
       "      <td>0</td>\n",
       "      <td>0.0</td>\n",
       "      <td>-127.0</td>\n",
       "      <td>0</td>\n",
       "      <td>0.006527</td>\n",
       "      <td>0</td>\n",
       "    </tr>\n",
       "    <tr>\n",
       "      <th>4</th>\n",
       "      <td>-4532153018459703766</td>\n",
       "      <td>2017-07-16</td>\n",
       "      <td>0.947248</td>\n",
       "      <td>0</td>\n",
       "      <td>0.015193</td>\n",
       "      <td>1.000727</td>\n",
       "      <td>0.007605</td>\n",
       "      <td>0.117325</td>\n",
       "      <td>0.0</td>\n",
       "      <td>0.009312</td>\n",
       "      <td>...</td>\n",
       "      <td>-1</td>\n",
       "      <td>-1</td>\n",
       "      <td>-1</td>\n",
       "      <td>0</td>\n",
       "      <td>0</td>\n",
       "      <td>0.0</td>\n",
       "      <td>-127.0</td>\n",
       "      <td>0</td>\n",
       "      <td>0.008126</td>\n",
       "      <td>0</td>\n",
       "    </tr>\n",
       "  </tbody>\n",
       "</table>\n",
       "<p>5 rows × 190 columns</p>\n",
       "</div>"
      ],
      "text/plain": [
       "           customer_ID        S_2       P_2  D_39       B_1       B_2  \\\n",
       "0 -4532153018459703766 2017-03-09  0.938469     0  0.008724  1.006838   \n",
       "1 -4532153018459703766 2017-04-07  0.936665     0  0.004923  1.000653   \n",
       "2 -4532153018459703766 2017-05-28  0.954180     3  0.021655  1.009672   \n",
       "3 -4532153018459703766 2017-06-13  0.960384     0  0.013683  1.002700   \n",
       "4 -4532153018459703766 2017-07-16  0.947248     0  0.015193  1.000727   \n",
       "\n",
       "        R_1       S_3  D_41       B_3  ...  D_136  D_137  D_138  D_139  D_140  \\\n",
       "0  0.009228  0.124035   0.0  0.004709  ...     -1     -1     -1      0      0   \n",
       "1  0.006151  0.126750   0.0  0.002714  ...     -1     -1     -1      0      0   \n",
       "2  0.006815  0.123977   0.0  0.009423  ...     -1     -1     -1      0      0   \n",
       "3  0.001373  0.117169   0.0  0.005531  ...     -1     -1     -1      0      0   \n",
       "4  0.007605  0.117325   0.0  0.009312  ...     -1     -1     -1      0      0   \n",
       "\n",
       "   D_141  D_142  D_143     D_144  D_145  \n",
       "0    0.0 -127.0      0  0.000610      0  \n",
       "1    0.0 -127.0      0  0.005492      0  \n",
       "2    0.0 -127.0      0  0.006986      0  \n",
       "3    0.0 -127.0      0  0.006527      0  \n",
       "4    0.0 -127.0      0  0.008126      0  \n",
       "\n",
       "[5 rows x 190 columns]"
      ]
     },
     "execution_count": 4,
     "metadata": {},
     "output_type": "execute_result"
    }
   ],
   "source": [
    "train.head()"
   ]
  },
  {
   "cell_type": "code",
   "execution_count": 5,
   "id": "89417dd2",
   "metadata": {
    "execution": {
     "iopub.execute_input": "2022-07-14T06:13:35.321346Z",
     "iopub.status.busy": "2022-07-14T06:13:35.320994Z",
     "iopub.status.idle": "2022-07-14T06:13:36.486414Z",
     "shell.execute_reply": "2022-07-14T06:13:36.485574Z"
    },
    "papermill": {
     "duration": 1.175026,
     "end_time": "2022-07-14T06:13:36.488402",
     "exception": false,
     "start_time": "2022-07-14T06:13:35.313376",
     "status": "completed"
    },
    "tags": []
   },
   "outputs": [
    {
     "name": "stdout",
     "output_type": "stream",
     "text": [
      "shape after engineering (458913, 918)\n"
     ]
    }
   ],
   "source": [
    "def process_and_feature_engineer(df):\n",
    "    # FEATURE ENGINEERING FROM \n",
    "    # https://www.kaggle.com/code/huseyincot/amex-agg-data-how-it-created\n",
    "    all_cols = [c for c in list(df.columns) if c not in ['customer_ID','S_2']]\n",
    "    cat_features = [\"B_30\",\"B_38\",\"D_114\",\"D_116\",\"D_117\",\"D_120\",\"D_126\",\"D_63\",\"D_64\",\"D_66\",\"D_68\"]\n",
    "    num_features = [col for col in all_cols if col not in cat_features]\n",
    "\n",
    "    test_num_agg = df.groupby(\"customer_ID\")[num_features].agg(['mean', 'std', 'min', 'max', 'last'])\n",
    "    test_num_agg.columns = ['_'.join(x) for x in test_num_agg.columns]\n",
    "\n",
    "    test_cat_agg = df.groupby(\"customer_ID\")[cat_features].agg(['count', 'last', 'nunique'])\n",
    "    test_cat_agg.columns = ['_'.join(x) for x in test_cat_agg.columns]\n",
    "\n",
    "    df = cudf.concat([test_num_agg, test_cat_agg], axis=1)\n",
    "    del test_num_agg, test_cat_agg\n",
    "    print('shape after engineering', df.shape )\n",
    "    \n",
    "    return df\n",
    "\n",
    "train = process_and_feature_engineer(train)"
   ]
  },
  {
   "cell_type": "code",
   "execution_count": 6,
   "id": "02d23bf4",
   "metadata": {
    "execution": {
     "iopub.execute_input": "2022-07-14T06:13:36.502703Z",
     "iopub.status.busy": "2022-07-14T06:13:36.502007Z",
     "iopub.status.idle": "2022-07-14T06:13:37.809522Z",
     "shell.execute_reply": "2022-07-14T06:13:37.807654Z"
    },
    "papermill": {
     "duration": 1.316483,
     "end_time": "2022-07-14T06:13:37.811288",
     "exception": false,
     "start_time": "2022-07-14T06:13:36.494805",
     "status": "completed"
    },
    "tags": []
   },
   "outputs": [
    {
     "name": "stdout",
     "output_type": "stream",
     "text": [
      "There are 918 features!\n"
     ]
    }
   ],
   "source": [
    "# ADD TARGETS\n",
    "targets = cudf.read_csv('../input/amex-default-prediction/train_labels.csv')\n",
    "targets['customer_ID'] = targets['customer_ID'].str[-16:].str.hex_to_int().astype('int64')\n",
    "targets = targets.set_index('customer_ID')\n",
    "train = train.merge(targets, left_index=True, right_index=True, how='left')\n",
    "train.target = train.target.astype('int8')\n",
    "del targets\n",
    "\n",
    "# NEEDED TO MAKE CV DETERMINISTIC (cudf merge above randomly shuffles rows)\n",
    "train = train.sort_index().reset_index()\n",
    "\n",
    "# FEATURES\n",
    "FEATURES = train.columns[1:-1]\n",
    "print(f'There are {len(FEATURES)} features!')"
   ]
  },
  {
   "cell_type": "markdown",
   "id": "9d41449c",
   "metadata": {
    "papermill": {
     "duration": 0.006514,
     "end_time": "2022-07-14T06:13:37.825187",
     "exception": false,
     "start_time": "2022-07-14T06:13:37.818673",
     "status": "completed"
    },
    "tags": []
   },
   "source": [
    "# Train XGB\n",
    "We will train using `DeviceQuantileDMatrix`. This has a very small GPU memory footprint."
   ]
  },
  {
   "cell_type": "code",
   "execution_count": 7,
   "id": "a5503488",
   "metadata": {
    "execution": {
     "iopub.execute_input": "2022-07-14T06:13:37.840125Z",
     "iopub.status.busy": "2022-07-14T06:13:37.839242Z",
     "iopub.status.idle": "2022-07-14T06:13:37.938476Z",
     "shell.execute_reply": "2022-07-14T06:13:37.937437Z"
    },
    "papermill": {
     "duration": 0.109456,
     "end_time": "2022-07-14T06:13:37.941045",
     "exception": false,
     "start_time": "2022-07-14T06:13:37.831589",
     "status": "completed"
    },
    "tags": []
   },
   "outputs": [
    {
     "name": "stdout",
     "output_type": "stream",
     "text": [
      "XGB Version 1.6.1\n"
     ]
    }
   ],
   "source": [
    "# LOAD XGB LIBRARY\n",
    "from sklearn.model_selection import KFold, StratifiedKFold\n",
    "import xgboost as xgb\n",
    "print('XGB Version',xgb.__version__)\n",
    "\n",
    "# XGB MODEL PARAMETERS\n",
    "xgb_parms = { \n",
    "    'max_depth':4, \n",
    "    'learning_rate':0.05, \n",
    "    'subsample':0.8,\n",
    "    'colsample_bytree':0.6, \n",
    "    'eval_metric':'logloss',\n",
    "    'objective':'binary:logistic',\n",
    "    'tree_method':'gpu_hist',\n",
    "    'predictor':'gpu_predictor',\n",
    "    'random_state':SEED\n",
    "}"
   ]
  },
  {
   "cell_type": "code",
   "execution_count": 8,
   "id": "6c1a17f2",
   "metadata": {
    "execution": {
     "iopub.execute_input": "2022-07-14T06:13:37.956836Z",
     "iopub.status.busy": "2022-07-14T06:13:37.956066Z",
     "iopub.status.idle": "2022-07-14T06:13:37.965427Z",
     "shell.execute_reply": "2022-07-14T06:13:37.964577Z"
    },
    "papermill": {
     "duration": 0.018996,
     "end_time": "2022-07-14T06:13:37.967167",
     "exception": false,
     "start_time": "2022-07-14T06:13:37.948171",
     "status": "completed"
    },
    "tags": []
   },
   "outputs": [],
   "source": [
    "# NEEDED WITH DeviceQuantileDMatrix BELOW\n",
    "class IterLoadForDMatrix(xgb.core.DataIter):\n",
    "    def __init__(self, df=None, features=None, target=None, batch_size=256*1024):\n",
    "        self.features = features\n",
    "        self.target = target\n",
    "        self.df = df\n",
    "        self.it = 0 # set iterator to 0\n",
    "        self.batch_size = batch_size\n",
    "        self.batches = int( np.ceil( len(df) / self.batch_size ) )\n",
    "        super().__init__()\n",
    "\n",
    "    def reset(self):\n",
    "        '''Reset the iterator'''\n",
    "        self.it = 0\n",
    "\n",
    "    def next(self, input_data):\n",
    "        '''Yield next batch of data.'''\n",
    "        if self.it == self.batches:\n",
    "            return 0 # Return 0 when there's no more batch.\n",
    "        \n",
    "        a = self.it * self.batch_size\n",
    "        b = min( (self.it + 1) * self.batch_size, len(self.df) )\n",
    "        dt = cudf.DataFrame(self.df.iloc[a:b])\n",
    "        input_data(data=dt[self.features], label=dt[self.target]) #, weight=dt['weight'])\n",
    "        self.it += 1\n",
    "        return 1"
   ]
  },
  {
   "cell_type": "code",
   "execution_count": 9,
   "id": "47227a7b",
   "metadata": {
    "execution": {
     "iopub.execute_input": "2022-07-14T06:13:37.982263Z",
     "iopub.status.busy": "2022-07-14T06:13:37.981910Z",
     "iopub.status.idle": "2022-07-14T06:13:37.991078Z",
     "shell.execute_reply": "2022-07-14T06:13:37.990307Z"
    },
    "papermill": {
     "duration": 0.018564,
     "end_time": "2022-07-14T06:13:37.992796",
     "exception": false,
     "start_time": "2022-07-14T06:13:37.974232",
     "status": "completed"
    },
    "tags": []
   },
   "outputs": [],
   "source": [
    "# https://www.kaggle.com/kyakovlev\n",
    "# https://www.kaggle.com/competitions/amex-default-prediction/discussion/327534\n",
    "def amex_metric_mod(y_true, y_pred):\n",
    "\n",
    "    labels     = np.transpose(np.array([y_true, y_pred]))\n",
    "    labels     = labels[labels[:, 1].argsort()[::-1]]\n",
    "    weights    = np.where(labels[:,0]==0, 20, 1)\n",
    "    cut_vals   = labels[np.cumsum(weights) <= int(0.04 * np.sum(weights))]\n",
    "    top_four   = np.sum(cut_vals[:,0]) / np.sum(labels[:,0])\n",
    "\n",
    "    gini = [0,0]\n",
    "    for i in [1,0]:\n",
    "        labels         = np.transpose(np.array([y_true, y_pred]))\n",
    "        labels         = labels[labels[:, i].argsort()[::-1]]\n",
    "        weight         = np.where(labels[:,0]==0, 20, 1)\n",
    "        weight_random  = np.cumsum(weight / np.sum(weight))\n",
    "        total_pos      = np.sum(labels[:, 0] *  weight)\n",
    "        cum_pos_found  = np.cumsum(labels[:, 0] * weight)\n",
    "        lorentz        = cum_pos_found / total_pos\n",
    "        gini[i]        = np.sum((lorentz - weight_random) * weight)\n",
    "\n",
    "    return 0.5 * (gini[1]/gini[0] + top_four)"
   ]
  },
  {
   "cell_type": "code",
   "execution_count": 10,
   "id": "9201f906",
   "metadata": {
    "execution": {
     "iopub.execute_input": "2022-07-14T06:13:38.007569Z",
     "iopub.status.busy": "2022-07-14T06:13:38.007234Z",
     "iopub.status.idle": "2022-07-14T06:23:26.264828Z",
     "shell.execute_reply": "2022-07-14T06:23:26.263983Z"
    },
    "papermill": {
     "duration": 588.267969,
     "end_time": "2022-07-14T06:23:26.267454",
     "exception": false,
     "start_time": "2022-07-14T06:13:37.999485",
     "status": "completed"
    },
    "scrolled": true,
    "tags": []
   },
   "outputs": [
    {
     "name": "stdout",
     "output_type": "stream",
     "text": [
      "#########################\n",
      "### Fold 1\n",
      "### Train size 367130 Valid size 91783\n",
      "### Training with 100% fold data...\n",
      "#########################\n",
      "[0]\ttrain-logloss:0.66289\tvalid-logloss:0.66296\n",
      "[100]\ttrain-logloss:0.23679\tvalid-logloss:0.23964\n",
      "[200]\ttrain-logloss:0.22249\tvalid-logloss:0.22767\n",
      "[300]\ttrain-logloss:0.21650\tvalid-logloss:0.22376\n",
      "[400]\ttrain-logloss:0.21239\tvalid-logloss:0.22173\n",
      "[500]\ttrain-logloss:0.20922\tvalid-logloss:0.22061\n",
      "[600]\ttrain-logloss:0.20644\tvalid-logloss:0.21974\n",
      "[700]\ttrain-logloss:0.20398\tvalid-logloss:0.21930\n",
      "[800]\ttrain-logloss:0.20158\tvalid-logloss:0.21892\n",
      "[900]\ttrain-logloss:0.19946\tvalid-logloss:0.21860\n",
      "[1000]\ttrain-logloss:0.19737\tvalid-logloss:0.21829\n",
      "[1100]\ttrain-logloss:0.19535\tvalid-logloss:0.21808\n",
      "[1200]\ttrain-logloss:0.19351\tvalid-logloss:0.21803\n",
      "[1300]\ttrain-logloss:0.19160\tvalid-logloss:0.21793\n",
      "[1400]\ttrain-logloss:0.18975\tvalid-logloss:0.21777\n",
      "[1500]\ttrain-logloss:0.18798\tvalid-logloss:0.21772\n",
      "[1600]\ttrain-logloss:0.18627\tvalid-logloss:0.21765\n",
      "[1700]\ttrain-logloss:0.18454\tvalid-logloss:0.21754\n",
      "[1800]\ttrain-logloss:0.18282\tvalid-logloss:0.21747\n",
      "[1900]\ttrain-logloss:0.18112\tvalid-logloss:0.21745\n",
      "[1973]\ttrain-logloss:0.17984\tvalid-logloss:0.21746\n",
      "Kaggle Metric = 0.7894658118945879 \n",
      "\n",
      "#########################\n",
      "### Fold 2\n",
      "### Train size 367130 Valid size 91783\n",
      "### Training with 100% fold data...\n",
      "#########################\n",
      "[0]\ttrain-logloss:0.66287\tvalid-logloss:0.66287\n",
      "[100]\ttrain-logloss:0.23677\tvalid-logloss:0.23961\n",
      "[200]\ttrain-logloss:0.22249\tvalid-logloss:0.22766\n",
      "[300]\ttrain-logloss:0.21633\tvalid-logloss:0.22370\n",
      "[400]\ttrain-logloss:0.21231\tvalid-logloss:0.22165\n",
      "[500]\ttrain-logloss:0.20910\tvalid-logloss:0.22048\n",
      "[600]\ttrain-logloss:0.20631\tvalid-logloss:0.21976\n",
      "[700]\ttrain-logloss:0.20378\tvalid-logloss:0.21921\n",
      "[800]\ttrain-logloss:0.20145\tvalid-logloss:0.21880\n",
      "[900]\ttrain-logloss:0.19926\tvalid-logloss:0.21853\n",
      "[1000]\ttrain-logloss:0.19718\tvalid-logloss:0.21836\n",
      "[1100]\ttrain-logloss:0.19515\tvalid-logloss:0.21820\n",
      "[1200]\ttrain-logloss:0.19318\tvalid-logloss:0.21807\n",
      "[1300]\ttrain-logloss:0.19126\tvalid-logloss:0.21799\n",
      "[1400]\ttrain-logloss:0.18949\tvalid-logloss:0.21788\n",
      "[1500]\ttrain-logloss:0.18765\tvalid-logloss:0.21782\n",
      "[1600]\ttrain-logloss:0.18588\tvalid-logloss:0.21783\n",
      "[1700]\ttrain-logloss:0.18416\tvalid-logloss:0.21773\n",
      "[1800]\ttrain-logloss:0.18244\tvalid-logloss:0.21772\n",
      "[1900]\ttrain-logloss:0.18077\tvalid-logloss:0.21769\n",
      "[1975]\ttrain-logloss:0.17953\tvalid-logloss:0.21770\n",
      "Kaggle Metric = 0.7920926770822468 \n",
      "\n",
      "#########################\n",
      "### Fold 3\n",
      "### Train size 367130 Valid size 91783\n",
      "### Training with 100% fold data...\n",
      "#########################\n",
      "[0]\ttrain-logloss:0.66281\tvalid-logloss:0.66287\n",
      "[100]\ttrain-logloss:0.23684\tvalid-logloss:0.23965\n",
      "[200]\ttrain-logloss:0.22260\tvalid-logloss:0.22746\n",
      "[300]\ttrain-logloss:0.21640\tvalid-logloss:0.22337\n",
      "[400]\ttrain-logloss:0.21239\tvalid-logloss:0.22136\n",
      "[500]\ttrain-logloss:0.20917\tvalid-logloss:0.22017\n",
      "[600]\ttrain-logloss:0.20637\tvalid-logloss:0.21936\n",
      "[700]\ttrain-logloss:0.20392\tvalid-logloss:0.21893\n",
      "[800]\ttrain-logloss:0.20161\tvalid-logloss:0.21856\n",
      "[900]\ttrain-logloss:0.19940\tvalid-logloss:0.21825\n",
      "[1000]\ttrain-logloss:0.19732\tvalid-logloss:0.21803\n",
      "[1100]\ttrain-logloss:0.19532\tvalid-logloss:0.21790\n",
      "[1200]\ttrain-logloss:0.19339\tvalid-logloss:0.21784\n",
      "[1300]\ttrain-logloss:0.19143\tvalid-logloss:0.21775\n",
      "[1400]\ttrain-logloss:0.18950\tvalid-logloss:0.21766\n",
      "[1500]\ttrain-logloss:0.18773\tvalid-logloss:0.21757\n",
      "[1600]\ttrain-logloss:0.18597\tvalid-logloss:0.21753\n",
      "[1700]\ttrain-logloss:0.18424\tvalid-logloss:0.21758\n",
      "[1724]\ttrain-logloss:0.18381\tvalid-logloss:0.21753\n",
      "Kaggle Metric = 0.7934093626226306 \n",
      "\n",
      "#########################\n",
      "### Fold 4\n",
      "### Train size 367131 Valid size 91782\n",
      "### Training with 100% fold data...\n",
      "#########################\n",
      "[0]\ttrain-logloss:0.66285\tvalid-logloss:0.66295\n",
      "[100]\ttrain-logloss:0.23656\tvalid-logloss:0.24031\n",
      "[200]\ttrain-logloss:0.22219\tvalid-logloss:0.22836\n",
      "[300]\ttrain-logloss:0.21607\tvalid-logloss:0.22447\n",
      "[400]\ttrain-logloss:0.21202\tvalid-logloss:0.22254\n",
      "[500]\ttrain-logloss:0.20888\tvalid-logloss:0.22127\n",
      "[600]\ttrain-logloss:0.20621\tvalid-logloss:0.22051\n",
      "[700]\ttrain-logloss:0.20375\tvalid-logloss:0.21991\n",
      "[800]\ttrain-logloss:0.20146\tvalid-logloss:0.21942\n",
      "[900]\ttrain-logloss:0.19935\tvalid-logloss:0.21908\n",
      "[1000]\ttrain-logloss:0.19724\tvalid-logloss:0.21885\n",
      "[1100]\ttrain-logloss:0.19527\tvalid-logloss:0.21864\n",
      "[1200]\ttrain-logloss:0.19332\tvalid-logloss:0.21845\n",
      "[1300]\ttrain-logloss:0.19145\tvalid-logloss:0.21828\n",
      "[1400]\ttrain-logloss:0.18965\tvalid-logloss:0.21821\n",
      "[1500]\ttrain-logloss:0.18780\tvalid-logloss:0.21809\n",
      "[1600]\ttrain-logloss:0.18603\tvalid-logloss:0.21804\n",
      "[1700]\ttrain-logloss:0.18431\tvalid-logloss:0.21805\n",
      "[1800]\ttrain-logloss:0.18259\tvalid-logloss:0.21794\n",
      "[1900]\ttrain-logloss:0.18099\tvalid-logloss:0.21789\n",
      "[2000]\ttrain-logloss:0.17933\tvalid-logloss:0.21789\n",
      "[2013]\ttrain-logloss:0.17911\tvalid-logloss:0.21789\n",
      "Kaggle Metric = 0.7937961126337297 \n",
      "\n",
      "#########################\n",
      "### Fold 5\n",
      "### Train size 367131 Valid size 91782\n",
      "### Training with 100% fold data...\n",
      "#########################\n",
      "[0]\ttrain-logloss:0.66291\tvalid-logloss:0.66274\n",
      "[100]\ttrain-logloss:0.23745\tvalid-logloss:0.23733\n",
      "[200]\ttrain-logloss:0.22293\tvalid-logloss:0.22519\n",
      "[300]\ttrain-logloss:0.21679\tvalid-logloss:0.22143\n",
      "[400]\ttrain-logloss:0.21259\tvalid-logloss:0.21949\n",
      "[500]\ttrain-logloss:0.20954\tvalid-logloss:0.21841\n",
      "[600]\ttrain-logloss:0.20680\tvalid-logloss:0.21775\n",
      "[700]\ttrain-logloss:0.20428\tvalid-logloss:0.21729\n",
      "[800]\ttrain-logloss:0.20200\tvalid-logloss:0.21696\n",
      "[900]\ttrain-logloss:0.19982\tvalid-logloss:0.21667\n",
      "[1000]\ttrain-logloss:0.19766\tvalid-logloss:0.21643\n",
      "[1100]\ttrain-logloss:0.19570\tvalid-logloss:0.21626\n",
      "[1200]\ttrain-logloss:0.19372\tvalid-logloss:0.21613\n",
      "[1300]\ttrain-logloss:0.19175\tvalid-logloss:0.21600\n",
      "[1400]\ttrain-logloss:0.18989\tvalid-logloss:0.21589\n",
      "[1500]\ttrain-logloss:0.18805\tvalid-logloss:0.21580\n",
      "[1600]\ttrain-logloss:0.18631\tvalid-logloss:0.21578\n",
      "[1700]\ttrain-logloss:0.18455\tvalid-logloss:0.21579\n",
      "[1739]\ttrain-logloss:0.18387\tvalid-logloss:0.21580\n",
      "Kaggle Metric = 0.7946022495771141 \n",
      "\n",
      "#########################\n",
      "OVERALL CV Kaggle Metric = 0.7927506329219565\n"
     ]
    }
   ],
   "source": [
    "importances = []\n",
    "oof = []\n",
    "train = train.to_pandas() # free GPU memory\n",
    "TRAIN_SUBSAMPLE = 1.0\n",
    "gc.collect()\n",
    "\n",
    "#skf = KFold(n_splits=FOLDS, shuffle=True, random_state=SEED)\n",
    "skf = StratifiedKFold(n_splits=5,random_state=SEED,shuffle=True)\n",
    "for fold,(train_idx, valid_idx) in enumerate(skf.split(\n",
    "            train, train.target )):\n",
    "    \n",
    "    # TRAIN WITH SUBSAMPLE OF TRAIN FOLD DATA\n",
    "    if TRAIN_SUBSAMPLE<1.0:\n",
    "        np.random.seed(SEED)\n",
    "        train_idx = np.random.choice(train_idx, \n",
    "                       int(len(train_idx)*TRAIN_SUBSAMPLE), replace=False)\n",
    "        np.random.seed(None)\n",
    "    \n",
    "    print('#'*25)\n",
    "    print('### Fold',fold+1)\n",
    "    print('### Train size',len(train_idx),'Valid size',len(valid_idx))\n",
    "    print(f'### Training with {int(TRAIN_SUBSAMPLE*100)}% fold data...')\n",
    "    print('#'*25)\n",
    "    \n",
    "    # TRAIN, VALID, TEST FOR FOLD K\n",
    "    Xy_train = IterLoadForDMatrix(train.loc[train_idx], FEATURES, 'target')\n",
    "    X_valid = train.loc[valid_idx, FEATURES]\n",
    "    y_valid = train.loc[valid_idx, 'target']\n",
    "    \n",
    "    dtrain = xgb.DeviceQuantileDMatrix(Xy_train, max_bin=256)\n",
    "    dvalid = xgb.DMatrix(data=X_valid, label=y_valid)\n",
    "    \n",
    "    # TRAIN MODEL FOLD K\n",
    "    model = xgb.train(xgb_parms, \n",
    "                dtrain=dtrain,\n",
    "                evals=[(dtrain,'train'),(dvalid,'valid')],\n",
    "                num_boost_round=9999,\n",
    "                early_stopping_rounds=100,\n",
    "                verbose_eval=100) \n",
    "    model.save_model(f'XGB_v{VER}_fold{fold}.xgb')\n",
    "    \n",
    "    # GET FEATURE IMPORTANCE FOR FOLD K\n",
    "    dd = model.get_score(importance_type='weight')\n",
    "    df = pd.DataFrame({'feature':dd.keys(),f'importance_{fold}':dd.values()})\n",
    "    importances.append(df)\n",
    "            \n",
    "    # INFER OOF FOLD K\n",
    "    oof_preds = model.predict(dvalid)\n",
    "    acc = amex_metric_mod(y_valid.values, oof_preds)\n",
    "    print('Kaggle Metric =',acc,'\\n')\n",
    "    \n",
    "    # SAVE OOF\n",
    "    df = train.loc[valid_idx, ['customer_ID','target'] ].copy()\n",
    "    df['oof_pred'] = oof_preds\n",
    "    oof.append( df )\n",
    "    \n",
    "    del dtrain, Xy_train, dd, df\n",
    "    del X_valid, y_valid, dvalid, model\n",
    "    _ = gc.collect()\n",
    "    \n",
    "print('#'*25)\n",
    "oof = pd.concat(oof,axis=0,ignore_index=True).set_index('customer_ID')\n",
    "acc = amex_metric_mod(oof.target.values, oof.oof_pred.values)\n",
    "print('OVERALL CV Kaggle Metric =',acc)"
   ]
  },
  {
   "cell_type": "code",
   "execution_count": 11,
   "id": "036ff978",
   "metadata": {
    "execution": {
     "iopub.execute_input": "2022-07-14T06:23:26.295528Z",
     "iopub.status.busy": "2022-07-14T06:23:26.294746Z",
     "iopub.status.idle": "2022-07-14T06:23:26.434927Z",
     "shell.execute_reply": "2022-07-14T06:23:26.434130Z"
    },
    "papermill": {
     "duration": 0.155695,
     "end_time": "2022-07-14T06:23:26.436805",
     "exception": false,
     "start_time": "2022-07-14T06:23:26.281110",
     "status": "completed"
    },
    "tags": []
   },
   "outputs": [],
   "source": [
    "# CLEAN RAM\n",
    "del train\n",
    "_ = gc.collect()"
   ]
  },
  {
   "cell_type": "markdown",
   "id": "0a64f07b",
   "metadata": {
    "papermill": {
     "duration": 0.012728,
     "end_time": "2022-07-14T06:23:26.462647",
     "exception": false,
     "start_time": "2022-07-14T06:23:26.449919",
     "status": "completed"
    },
    "tags": []
   },
   "source": [
    "# Save OOF Preds"
   ]
  },
  {
   "cell_type": "code",
   "execution_count": 12,
   "id": "7fe30241",
   "metadata": {
    "execution": {
     "iopub.execute_input": "2022-07-14T06:23:26.489280Z",
     "iopub.status.busy": "2022-07-14T06:23:26.488966Z",
     "iopub.status.idle": "2022-07-14T06:23:31.207886Z",
     "shell.execute_reply": "2022-07-14T06:23:31.207080Z"
    },
    "papermill": {
     "duration": 4.733967,
     "end_time": "2022-07-14T06:23:31.209672",
     "exception": false,
     "start_time": "2022-07-14T06:23:26.475705",
     "status": "completed"
    },
    "tags": []
   },
   "outputs": [
    {
     "data": {
      "text/html": [
       "<div>\n",
       "<style scoped>\n",
       "    .dataframe tbody tr th:only-of-type {\n",
       "        vertical-align: middle;\n",
       "    }\n",
       "\n",
       "    .dataframe tbody tr th {\n",
       "        vertical-align: top;\n",
       "    }\n",
       "\n",
       "    .dataframe thead th {\n",
       "        text-align: right;\n",
       "    }\n",
       "</style>\n",
       "<table border=\"1\" class=\"dataframe\">\n",
       "  <thead>\n",
       "    <tr style=\"text-align: right;\">\n",
       "      <th></th>\n",
       "      <th>customer_ID</th>\n",
       "      <th>target</th>\n",
       "      <th>oof_pred</th>\n",
       "    </tr>\n",
       "  </thead>\n",
       "  <tbody>\n",
       "    <tr>\n",
       "      <th>0</th>\n",
       "      <td>20eac26171c3d251c55fc78204e59fab1c15fc2bc96d0c...</td>\n",
       "      <td>1</td>\n",
       "      <td>0.768196</td>\n",
       "    </tr>\n",
       "    <tr>\n",
       "      <th>1</th>\n",
       "      <td>aea50fdf9b974ccec95fa177c3225a0f913483b457de6e...</td>\n",
       "      <td>0</td>\n",
       "      <td>0.000246</td>\n",
       "    </tr>\n",
       "    <tr>\n",
       "      <th>2</th>\n",
       "      <td>32cd2d41aef737b69089882754395925c96eaee1f4a859...</td>\n",
       "      <td>0</td>\n",
       "      <td>0.001670</td>\n",
       "    </tr>\n",
       "    <tr>\n",
       "      <th>3</th>\n",
       "      <td>8daa6d5dc2655a8a437531e6b8b96829113cdfe9bf6cae...</td>\n",
       "      <td>0</td>\n",
       "      <td>0.019364</td>\n",
       "    </tr>\n",
       "    <tr>\n",
       "      <th>4</th>\n",
       "      <td>0ceba351a3851202542feb49d7385bcef32f6037fc57c7...</td>\n",
       "      <td>1</td>\n",
       "      <td>0.879866</td>\n",
       "    </tr>\n",
       "  </tbody>\n",
       "</table>\n",
       "</div>"
      ],
      "text/plain": [
       "                                         customer_ID  target  oof_pred\n",
       "0  20eac26171c3d251c55fc78204e59fab1c15fc2bc96d0c...       1  0.768196\n",
       "1  aea50fdf9b974ccec95fa177c3225a0f913483b457de6e...       0  0.000246\n",
       "2  32cd2d41aef737b69089882754395925c96eaee1f4a859...       0  0.001670\n",
       "3  8daa6d5dc2655a8a437531e6b8b96829113cdfe9bf6cae...       0  0.019364\n",
       "4  0ceba351a3851202542feb49d7385bcef32f6037fc57c7...       1  0.879866"
      ]
     },
     "execution_count": 12,
     "metadata": {},
     "output_type": "execute_result"
    }
   ],
   "source": [
    "oof_xgb = pd.read_parquet(TRAIN_PATH, columns=['customer_ID']).drop_duplicates()\n",
    "oof_xgb['customer_ID_hash'] = oof_xgb['customer_ID'].apply(lambda x: int(x[-16:],16) ).astype('int64')\n",
    "oof_xgb = oof_xgb.set_index('customer_ID_hash')\n",
    "oof_xgb = oof_xgb.merge(oof, left_index=True, right_index=True)\n",
    "oof_xgb = oof_xgb.sort_index().reset_index(drop=True)\n",
    "oof_xgb.to_csv(f'oof_xgb_v{VER}.csv',index=False)\n",
    "oof_xgb.head()"
   ]
  },
  {
   "cell_type": "code",
   "execution_count": 13,
   "id": "24acfa60",
   "metadata": {
    "execution": {
     "iopub.execute_input": "2022-07-14T06:23:31.237969Z",
     "iopub.status.busy": "2022-07-14T06:23:31.237644Z",
     "iopub.status.idle": "2022-07-14T06:23:31.586421Z",
     "shell.execute_reply": "2022-07-14T06:23:31.585687Z"
    },
    "papermill": {
     "duration": 0.365426,
     "end_time": "2022-07-14T06:23:31.588615",
     "exception": false,
     "start_time": "2022-07-14T06:23:31.223189",
     "status": "completed"
    },
    "tags": []
   },
   "outputs": [
    {
     "data": {
      "image/png": "[encoded data removed]",
      "text/plain": [
       "<Figure size 432x288 with 1 Axes>"
      ]
     },
     "metadata": {
      "needs_background": "light"
     },
     "output_type": "display_data"
    }
   ],
   "source": [
    "# PLOT OOF PREDICTIONS\n",
    "plt.hist(oof_xgb.oof_pred.values, bins=100)\n",
    "plt.title('OOF Predictions')\n",
    "plt.show()"
   ]
  },
  {
   "cell_type": "code",
   "execution_count": 14,
   "id": "61de5766",
   "metadata": {
    "execution": {
     "iopub.execute_input": "2022-07-14T06:23:31.616958Z",
     "iopub.status.busy": "2022-07-14T06:23:31.616671Z",
     "iopub.status.idle": "2022-07-14T06:23:31.755967Z",
     "shell.execute_reply": "2022-07-14T06:23:31.755217Z"
    },
    "papermill": {
     "duration": 0.155498,
     "end_time": "2022-07-14T06:23:31.757954",
     "exception": false,
     "start_time": "2022-07-14T06:23:31.602456",
     "status": "completed"
    },
    "tags": []
   },
   "outputs": [],
   "source": [
    "# CLEAR VRAM, RAM FOR INFERENCE BELOW\n",
    "del oof_xgb, oof\n",
    "_ = gc.collect()"
   ]
  },
  {
   "cell_type": "markdown",
   "id": "4c8a4778",
   "metadata": {
    "papermill": {
     "duration": 0.013147,
     "end_time": "2022-07-14T06:23:31.784609",
     "exception": false,
     "start_time": "2022-07-14T06:23:31.771462",
     "status": "completed"
    },
    "tags": []
   },
   "source": [
    "# Feature Importance"
   ]
  },
  {
   "cell_type": "code",
   "execution_count": 15,
   "id": "af6fa829",
   "metadata": {
    "execution": {
     "iopub.execute_input": "2022-07-14T06:23:31.812783Z",
     "iopub.status.busy": "2022-07-14T06:23:31.812475Z",
     "iopub.status.idle": "2022-07-14T06:23:31.840015Z",
     "shell.execute_reply": "2022-07-14T06:23:31.839257Z"
    },
    "papermill": {
     "duration": 0.043383,
     "end_time": "2022-07-14T06:23:31.841950",
     "exception": false,
     "start_time": "2022-07-14T06:23:31.798567",
     "status": "completed"
    },
    "tags": []
   },
   "outputs": [],
   "source": [
    "import matplotlib.pyplot as plt\n",
    "\n",
    "df = importances[0].copy()\n",
    "for k in range(1,FOLDS): df = df.merge(importances[k], on='feature', how='left')\n",
    "df['importance'] = df.iloc[:,1:].mean(axis=1)\n",
    "df = df.sort_values('importance',ascending=False)\n",
    "df.to_csv(f'xgb_feature_importance_v{VER}.csv',index=False)"
   ]
  },
  {
   "cell_type": "code",
   "execution_count": 16,
   "id": "405ef7e0",
   "metadata": {
    "execution": {
     "iopub.execute_input": "2022-07-14T06:23:31.871315Z",
     "iopub.status.busy": "2022-07-14T06:23:31.869927Z",
     "iopub.status.idle": "2022-07-14T06:23:32.116493Z",
     "shell.execute_reply": "2022-07-14T06:23:32.115708Z"
    },
    "papermill": {
     "duration": 0.262719,
     "end_time": "2022-07-14T06:23:32.118338",
     "exception": false,
     "start_time": "2022-07-14T06:23:31.855619",
     "status": "completed"
    },
    "tags": []
   },
   "outputs": [
    {
     "data": {
      "image/png": "[encoded data removed]",
      "text/plain": [
       "<Figure size 720x720 with 1 Axes>"
      ]
     },
     "metadata": {
      "needs_background": "light"
     },
     "output_type": "display_data"
    }
   ],
   "source": [
    "NUM_FEATURES = 20\n",
    "plt.figure(figsize=(10,5*NUM_FEATURES//10))\n",
    "plt.barh(np.arange(NUM_FEATURES,0,-1), df.importance.values[:NUM_FEATURES])\n",
    "plt.yticks(np.arange(NUM_FEATURES,0,-1), df.feature.values[:NUM_FEATURES])\n",
    "plt.title(f'XGB Feature Importance - Top {NUM_FEATURES}')\n",
    "plt.show()"
   ]
  },
  {
   "cell_type": "markdown",
   "id": "c5642460",
   "metadata": {
    "papermill": {
     "duration": 0.013384,
     "end_time": "2022-07-14T06:23:32.145923",
     "exception": false,
     "start_time": "2022-07-14T06:23:32.132539",
     "status": "completed"
    },
    "tags": []
   },
   "source": [
    "# Process and Feature Engineer Test Data\n",
    "We will load @raddar Kaggle dataset from [here][1] with discussion [here][2]. Then we will engineer features suggested by @huseyincot in his notebooks [here][1] and [here][4]. We will use [RAPIDS][5] and the GPU to create new features quickly.\n",
    "\n",
    "[1]: https://www.kaggle.com/datasets/raddar/amex-data-integer-dtypes-parquet-format\n",
    "[2]: https://www.kaggle.com/competitions/amex-default-prediction/discussion/328514\n",
    "[3]: https://www.kaggle.com/code/huseyincot/amex-catboost-0-793\n",
    "[4]: https://www.kaggle.com/code/huseyincot/amex-agg-data-how-it-created\n",
    "[5]: https://rapids.ai/"
   ]
  },
  {
   "cell_type": "code",
   "execution_count": 17,
   "id": "d8c5edf5",
   "metadata": {
    "execution": {
     "iopub.execute_input": "2022-07-14T06:23:32.175223Z",
     "iopub.status.busy": "2022-07-14T06:23:32.174456Z",
     "iopub.status.idle": "2022-07-14T06:23:35.323740Z",
     "shell.execute_reply": "2022-07-14T06:23:35.322657Z"
    },
    "papermill": {
     "duration": 3.166322,
     "end_time": "2022-07-14T06:23:35.325969",
     "exception": false,
     "start_time": "2022-07-14T06:23:32.159647",
     "status": "completed"
    },
    "tags": []
   },
   "outputs": [
    {
     "name": "stdout",
     "output_type": "stream",
     "text": [
      "Reading test data...\n",
      "shape of data: (11363762, 2)\n",
      "We will process test data as 4 separate parts.\n",
      "There will be 231155 customers in each part (except the last part).\n",
      "Below are number of rows in each part:\n",
      "[2841209, 2839857, 2842105, 2840591]\n"
     ]
    }
   ],
   "source": [
    "# CALCULATE SIZE OF EACH SEPARATE TEST PART\n",
    "def get_rows(customers, test, NUM_PARTS = 4, verbose = ''):\n",
    "    chunk = len(customers)//NUM_PARTS\n",
    "    if verbose != '':\n",
    "        print(f'We will process {verbose} data as {NUM_PARTS} separate parts.')\n",
    "        print(f'There will be {chunk} customers in each part (except the last part).')\n",
    "        print('Below are number of rows in each part:')\n",
    "    rows = []\n",
    "\n",
    "    for k in range(NUM_PARTS):\n",
    "        if k==NUM_PARTS-1: cc = customers[k*chunk:]\n",
    "        else: cc = customers[k*chunk:(k+1)*chunk]\n",
    "        s = test.loc[test.customer_ID.isin(cc)].shape[0]\n",
    "        rows.append(s)\n",
    "    if verbose != '': print( rows )\n",
    "    return rows,chunk\n",
    "\n",
    "# COMPUTE SIZE OF 4 PARTS FOR TEST DATA\n",
    "NUM_PARTS = 4\n",
    "TEST_PATH = '../input/amex-data-integer-dtypes-parquet-format/test.parquet'\n",
    "\n",
    "print(f'Reading test data...')\n",
    "test = read_file(path = TEST_PATH, usecols = ['customer_ID','S_2'])\n",
    "customers = test[['customer_ID']].drop_duplicates().sort_index().values.flatten()\n",
    "rows,num_cust = get_rows(customers, test[['customer_ID']], NUM_PARTS = NUM_PARTS, verbose = 'test')"
   ]
  },
  {
   "cell_type": "markdown",
   "id": "dd5d7416",
   "metadata": {
    "papermill": {
     "duration": 0.013719,
     "end_time": "2022-07-14T06:23:35.355458",
     "exception": false,
     "start_time": "2022-07-14T06:23:35.341739",
     "status": "completed"
    },
    "tags": []
   },
   "source": [
    "# Infer Test"
   ]
  },
  {
   "cell_type": "code",
   "execution_count": 18,
   "id": "db599739",
   "metadata": {
    "execution": {
     "iopub.execute_input": "2022-07-14T06:23:35.384188Z",
     "iopub.status.busy": "2022-07-14T06:23:35.383888Z",
     "iopub.status.idle": "2022-07-14T06:26:03.483882Z",
     "shell.execute_reply": "2022-07-14T06:26:03.483090Z"
    },
    "papermill": {
     "duration": 148.117115,
     "end_time": "2022-07-14T06:26:03.486325",
     "exception": false,
     "start_time": "2022-07-14T06:23:35.369210",
     "status": "completed"
    },
    "tags": []
   },
   "outputs": [
    {
     "name": "stdout",
     "output_type": "stream",
     "text": [
      "\n",
      "Reading test data...\n",
      "shape of data: (11363762, 190)\n",
      "=> Test part 1 has shape (2841209, 190)\n",
      "shape after engineering (231155, 918)\n",
      "\n",
      "Reading test data...\n",
      "shape of data: (11363762, 190)\n",
      "=> Test part 2 has shape (2839857, 190)\n",
      "shape after engineering (231155, 918)\n",
      "\n",
      "Reading test data...\n",
      "shape of data: (11363762, 190)\n",
      "=> Test part 3 has shape (2842105, 190)\n",
      "shape after engineering (231155, 918)\n",
      "\n",
      "Reading test data...\n",
      "shape of data: (11363762, 190)\n",
      "=> Test part 4 has shape (2840591, 190)\n",
      "shape after engineering (231156, 918)\n"
     ]
    }
   ],
   "source": [
    "# INFER TEST DATA IN PARTS\n",
    "skip_rows = 0\n",
    "skip_cust = 0\n",
    "test_preds = []\n",
    "\n",
    "for k in range(NUM_PARTS):\n",
    "    \n",
    "    # READ PART OF TEST DATA\n",
    "    print(f'\\nReading test data...')\n",
    "    test = read_file(path = TEST_PATH)\n",
    "    test = test.iloc[skip_rows:skip_rows+rows[k]]\n",
    "    skip_rows += rows[k]\n",
    "    print(f'=> Test part {k+1} has shape', test.shape )\n",
    "    \n",
    "    # PROCESS AND FEATURE ENGINEER PART OF TEST DATA\n",
    "    test = process_and_feature_engineer(test)\n",
    "    if k==NUM_PARTS-1: test = test.loc[customers[skip_cust:]]\n",
    "    else: test = test.loc[customers[skip_cust:skip_cust+num_cust]]\n",
    "    skip_cust += num_cust\n",
    "    \n",
    "    # TEST DATA FOR XGB\n",
    "    X_test = test[FEATURES]\n",
    "    dtest = xgb.DMatrix(data=X_test)\n",
    "    test = test[['P_2_mean']] # reduce memory\n",
    "    del X_test\n",
    "    gc.collect()\n",
    "\n",
    "    # INFER XGB MODELS ON TEST DATA\n",
    "    model = xgb.Booster()\n",
    "    model.load_model(f'XGB_v{VER}_fold0.xgb')\n",
    "    preds = model.predict(dtest)\n",
    "    for f in range(1,FOLDS):\n",
    "        model.load_model(f'XGB_v{VER}_fold{f}.xgb')\n",
    "        preds += model.predict(dtest)\n",
    "    preds /= FOLDS\n",
    "    test_preds.append(preds)\n",
    "\n",
    "    # CLEAN MEMORY\n",
    "    del dtest, model\n",
    "    _ = gc.collect()"
   ]
  },
  {
   "cell_type": "markdown",
   "id": "0eb85069",
   "metadata": {
    "papermill": {
     "duration": 0.014671,
     "end_time": "2022-07-14T06:26:03.516509",
     "exception": false,
     "start_time": "2022-07-14T06:26:03.501838",
     "status": "completed"
    },
    "tags": []
   },
   "source": [
    "# Create Submission CSV"
   ]
  },
  {
   "cell_type": "code",
   "execution_count": 19,
   "id": "edd41cbf",
   "metadata": {
    "execution": {
     "iopub.execute_input": "2022-07-14T06:26:03.546940Z",
     "iopub.status.busy": "2022-07-14T06:26:03.546585Z",
     "iopub.status.idle": "2022-07-14T06:26:04.730299Z",
     "shell.execute_reply": "2022-07-14T06:26:04.729509Z"
    },
    "papermill": {
     "duration": 1.201122,
     "end_time": "2022-07-14T06:26:04.732132",
     "exception": false,
     "start_time": "2022-07-14T06:26:03.531010",
     "status": "completed"
    },
    "tags": []
   },
   "outputs": [
    {
     "name": "stdout",
     "output_type": "stream",
     "text": [
      "Submission file shape is (924621, 2)\n"
     ]
    },
    {
     "data": {
      "text/html": [
       "<div>\n",
       "<style scoped>\n",
       "    .dataframe tbody tr th:only-of-type {\n",
       "        vertical-align: middle;\n",
       "    }\n",
       "\n",
       "    .dataframe tbody tr th {\n",
       "        vertical-align: top;\n",
       "    }\n",
       "\n",
       "    .dataframe thead th {\n",
       "        text-align: right;\n",
       "    }\n",
       "</style>\n",
       "<table border=\"1\" class=\"dataframe\">\n",
       "  <thead>\n",
       "    <tr style=\"text-align: right;\">\n",
       "      <th></th>\n",
       "      <th>customer_ID</th>\n",
       "      <th>prediction</th>\n",
       "    </tr>\n",
       "  </thead>\n",
       "  <tbody>\n",
       "    <tr>\n",
       "      <th>0</th>\n",
       "      <td>03999d5e3bd61a69504cc6e7025c260c1ed2e5b449dba5...</td>\n",
       "      <td>0.115960</td>\n",
       "    </tr>\n",
       "    <tr>\n",
       "      <th>1</th>\n",
       "      <td>039b4f21aa584fb0c3c7055beabc098af55013f9f25515...</td>\n",
       "      <td>0.007502</td>\n",
       "    </tr>\n",
       "    <tr>\n",
       "      <th>2</th>\n",
       "      <td>039a6aea85575ebd33eec75e5c45bc7973481b81a99b62...</td>\n",
       "      <td>0.078852</td>\n",
       "    </tr>\n",
       "    <tr>\n",
       "      <th>3</th>\n",
       "      <td>039bd96164c6567580b24ba13c2b85b60f4554eb43d55b...</td>\n",
       "      <td>0.618029</td>\n",
       "    </tr>\n",
       "    <tr>\n",
       "      <th>4</th>\n",
       "      <td>0399a5a95461ced4134cd9693712fb012351cca1bde04d...</td>\n",
       "      <td>0.000508</td>\n",
       "    </tr>\n",
       "  </tbody>\n",
       "</table>\n",
       "</div>"
      ],
      "text/plain": [
       "                                         customer_ID  prediction\n",
       "0  03999d5e3bd61a69504cc6e7025c260c1ed2e5b449dba5...    0.115960\n",
       "1  039b4f21aa584fb0c3c7055beabc098af55013f9f25515...    0.007502\n",
       "2  039a6aea85575ebd33eec75e5c45bc7973481b81a99b62...    0.078852\n",
       "3  039bd96164c6567580b24ba13c2b85b60f4554eb43d55b...    0.618029\n",
       "4  0399a5a95461ced4134cd9693712fb012351cca1bde04d...    0.000508"
      ]
     },
     "execution_count": 19,
     "metadata": {},
     "output_type": "execute_result"
    }
   ],
   "source": [
    "# WRITE SUBMISSION FILE\n",
    "test_preds = np.concatenate(test_preds)\n",
    "test = cudf.DataFrame(index=customers,data={'prediction':test_preds})\n",
    "sub = cudf.read_csv('../input/amex-default-prediction/sample_submission.csv')[['customer_ID']]\n",
    "sub['customer_ID_hash'] = sub['customer_ID'].str[-16:].str.hex_to_int().astype('int64')\n",
    "sub = sub.set_index('customer_ID_hash')\n",
    "sub = sub.merge(test[['prediction']], left_index=True, right_index=True, how='left')\n",
    "sub = sub.reset_index(drop=True)\n",
    "\n",
    "# DISPLAY PREDICTIONS\n",
    "sub.to_csv(f'submission_xgb_v{VER}.csv',index=False)\n",
    "print('Submission file shape is', sub.shape )\n",
    "sub.head()"
   ]
  },
  {
   "cell_type": "code",
   "execution_count": 20,
   "id": "1e0d9052",
   "metadata": {
    "execution": {
     "iopub.execute_input": "2022-07-14T06:26:04.764207Z",
     "iopub.status.busy": "2022-07-14T06:26:04.763502Z",
     "iopub.status.idle": "2022-07-14T06:26:05.470895Z",
     "shell.execute_reply": "2022-07-14T06:26:05.470148Z"
    },
    "papermill": {
     "duration": 0.725578,
     "end_time": "2022-07-14T06:26:05.472924",
     "exception": false,
     "start_time": "2022-07-14T06:26:04.747346",
     "status": "completed"
    },
    "tags": []
   },
   "outputs": [
    {
     "data": {
      "image/png": "[encoded data removed]",
      "text/plain": [
       "<Figure size 432x288 with 1 Axes>"
      ]
     },
     "metadata": {
      "needs_background": "light"
     },
     "output_type": "display_data"
    }
   ],
   "source": [
    "# PLOT PREDICTIONS\n",
    "plt.hist(sub.to_pandas().prediction, bins=100)\n",
    "plt.title('Test Predictions')\n",
    "plt.show()"
   ]
  }
 ],
 "metadata": {
  "kernelspec": {
   "display_name": "Python 3",
   "language": "python",
   "name": "python3"
  },
  "language_info": {
   "codemirror_mode": {
    "name": "ipython",
    "version": 3
   },
   "file_extension": ".py",
   "mimetype": "text/x-python",
   "name": "python",
   "nbconvert_exporter": "python",
   "pygments_lexer": "ipython3",
   "version": "3.7.12"
  },
  "papermill": {
   "default_parameters": {},
   "duration": 788.400693,
   "end_time": "2022-07-14T06:26:06.912249",
   "environment_variables": {},
   "exception": null,
   "input_path": "__notebook__.ipynb",
   "output_path": "__notebook__.ipynb",
   "parameters": {},
   "start_time": "2022-07-14T06:12:58.511556",
   "version": "2.3.4"
  }
 },
 "nbformat": 4,
 "nbformat_minor": 5
}
