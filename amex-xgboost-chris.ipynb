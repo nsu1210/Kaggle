{
 "cells": [
  {
   "cell_type": "markdown",
   "id": "65d1b263",
   "metadata": {
    "papermill": {
     "duration": 0.006906,
     "end_time": "2022-07-14T16:49:39.725752",
     "exception": false,
     "start_time": "2022-07-14T16:49:39.718846",
     "status": "completed"
    },
    "tags": []
   },
   "source": [
    "# XGBoost Starter - LB 0.793\n",
    "In this notebook we build and train an XGBoost model using @raddar Kaggle dataset from [here][1] with discussion [here][2]. Then we engineer features suggested by @huseyincot in his notebooks [here][3] and [here][4]. This XGB model achieves CV 0.792 LB 0.793! When training with XGB, we use a special XGB dataloader called `DeviceQuantileDMatrix` which uses a small GPU memory footprint. This allows us to engineer more additional columns and train with more rows of data. Our feature engineering is performed using [RAPIDS][5] on the GPU to create new features quickly.\n",
    "\n",
    "[1]: https://www.kaggle.com/datasets/raddar/amex-data-integer-dtypes-parquet-format\n",
    "[2]: https://www.kaggle.com/competitions/amex-default-prediction/discussion/328514\n",
    "[3]: https://www.kaggle.com/code/huseyincot/amex-catboost-0-793\n",
    "[4]: https://www.kaggle.com/code/huseyincot/amex-agg-data-how-it-created\n",
    "[5]: https://rapids.ai/"
   ]
  },
  {
   "cell_type": "markdown",
   "id": "e809fb58",
   "metadata": {
    "papermill": {
     "duration": 0.005497,
     "end_time": "2022-07-14T16:49:39.737318",
     "exception": false,
     "start_time": "2022-07-14T16:49:39.731821",
     "status": "completed"
    },
    "tags": []
   },
   "source": [
    "# Load Libraries"
   ]
  },
  {
   "cell_type": "code",
   "execution_count": 1,
   "id": "89ed69d7",
   "metadata": {
    "execution": {
     "iopub.execute_input": "2022-07-14T16:49:39.750942Z",
     "iopub.status.busy": "2022-07-14T16:49:39.750418Z",
     "iopub.status.idle": "2022-07-14T16:49:44.295050Z",
     "shell.execute_reply": "2022-07-14T16:49:44.294248Z"
    },
    "papermill": {
     "duration": 4.554007,
     "end_time": "2022-07-14T16:49:44.297007",
     "exception": false,
     "start_time": "2022-07-14T16:49:39.743000",
     "status": "completed"
    },
    "tags": []
   },
   "outputs": [
    {
     "name": "stdout",
     "output_type": "stream",
     "text": [
      "RAPIDS version 21.10.01\n"
     ]
    }
   ],
   "source": [
    "# LOAD LIBRARIES\n",
    "import pandas as pd, numpy as np # CPU libraries\n",
    "import cupy, cudf # GPU libraries\n",
    "import matplotlib.pyplot as plt, gc, os\n",
    "\n",
    "print('RAPIDS version',cudf.__version__)\n",
    "\n",
    "pd.set_option('display.max_columns', None)"
   ]
  },
  {
   "cell_type": "code",
   "execution_count": 2,
   "id": "0ffef101",
   "metadata": {
    "execution": {
     "iopub.execute_input": "2022-07-14T16:49:44.310521Z",
     "iopub.status.busy": "2022-07-14T16:49:44.310231Z",
     "iopub.status.idle": "2022-07-14T16:49:44.314979Z",
     "shell.execute_reply": "2022-07-14T16:49:44.314312Z"
    },
    "papermill": {
     "duration": 0.013181,
     "end_time": "2022-07-14T16:49:44.316561",
     "exception": false,
     "start_time": "2022-07-14T16:49:44.303380",
     "status": "completed"
    },
    "tags": []
   },
   "outputs": [],
   "source": [
    "# VERSION NAME FOR SAVED MODEL FILES\n",
    "VER = 1\n",
    "\n",
    "# TRAIN RANDOM SEED\n",
    "SEED = 42\n",
    "\n",
    "# FILL NAN VALUE\n",
    "NAN_VALUE = -127 # will fit in int8\n",
    "\n",
    "# FOLDS PER MODEL\n",
    "FOLDS = 5"
   ]
  },
  {
   "cell_type": "markdown",
   "id": "a72cf414",
   "metadata": {
    "papermill": {
     "duration": 0.005909,
     "end_time": "2022-07-14T16:49:44.328621",
     "exception": false,
     "start_time": "2022-07-14T16:49:44.322712",
     "status": "completed"
    },
    "tags": []
   },
   "source": [
    "# Process and Feature Engineer Train Data\n",
    "We will load @raddar Kaggle dataset from [here][1] with discussion [here][2]. Then we will engineer features suggested by @huseyincot in his notebooks [here][3] and [here][4]. We will use [RAPIDS][5] and the GPU to create new features quickly.\n",
    "\n",
    "[1]: https://www.kaggle.com/datasets/raddar/amex-data-integer-dtypes-parquet-format\n",
    "[2]: https://www.kaggle.com/competitions/amex-default-prediction/discussion/328514\n",
    "[3]: https://www.kaggle.com/code/huseyincot/amex-catboost-0-793\n",
    "[4]: https://www.kaggle.com/code/huseyincot/amex-agg-data-how-it-created\n",
    "[5]: https://rapids.ai/"
   ]
  },
  {
   "cell_type": "code",
   "execution_count": 3,
   "id": "3d86635d",
   "metadata": {
    "execution": {
     "iopub.execute_input": "2022-07-14T16:49:44.342155Z",
     "iopub.status.busy": "2022-07-14T16:49:44.341563Z",
     "iopub.status.idle": "2022-07-14T16:50:07.786430Z",
     "shell.execute_reply": "2022-07-14T16:50:07.785627Z"
    },
    "papermill": {
     "duration": 23.453487,
     "end_time": "2022-07-14T16:50:07.788366",
     "exception": false,
     "start_time": "2022-07-14T16:49:44.334879",
     "status": "completed"
    },
    "tags": []
   },
   "outputs": [
    {
     "name": "stdout",
     "output_type": "stream",
     "text": [
      "Reading train data...\n",
      "shape of data: (5531451, 190)\n"
     ]
    }
   ],
   "source": [
    "def read_file(path = '', usecols = None):\n",
    "    # LOAD DATAFRAME\n",
    "    if usecols is not None: df = cudf.read_parquet(path, columns=usecols)\n",
    "    else: df = cudf.read_parquet(path)\n",
    "    # REDUCE DTYPE FOR CUSTOMER AND DATE\n",
    "    df['customer_ID'] = df['customer_ID'].str[-16:].str.hex_to_int().astype('int64')\n",
    "    df.S_2 = cudf.to_datetime( df.S_2 )\n",
    "    # SORT BY CUSTOMER AND DATE (so agg('last') works correctly)\n",
    "    #df = df.sort_values(['customer_ID','S_2'])\n",
    "    #df = df.reset_index(drop=True)\n",
    "    # FILL NAN\n",
    "    df = df.fillna(NAN_VALUE) \n",
    "    print('shape of data:', df.shape)\n",
    "    \n",
    "    return df\n",
    "\n",
    "print('Reading train data...')\n",
    "TRAIN_PATH = '../input/amex-data-integer-dtypes-parquet-format/train.parquet'\n",
    "train = read_file(path = TRAIN_PATH)"
   ]
  },
  {
   "cell_type": "code",
   "execution_count": 4,
   "id": "8b860762",
   "metadata": {
    "execution": {
     "iopub.execute_input": "2022-07-14T16:50:07.801962Z",
     "iopub.status.busy": "2022-07-14T16:50:07.801320Z",
     "iopub.status.idle": "2022-07-14T16:50:09.097862Z",
     "shell.execute_reply": "2022-07-14T16:50:09.097087Z"
    },
    "papermill": {
     "duration": 1.305121,
     "end_time": "2022-07-14T16:50:09.099767",
     "exception": false,
     "start_time": "2022-07-14T16:50:07.794646",
     "status": "completed"
    },
    "tags": []
   },
   "outputs": [
    {
     "name": "stdout",
     "output_type": "stream",
     "text": [
      "shape after engineering (458913, 918)\n"
     ]
    }
   ],
   "source": [
    "def process_and_feature_engineer(df):\n",
    "    # FEATURE ENGINEERING FROM \n",
    "    # https://www.kaggle.com/code/huseyincot/amex-agg-data-how-it-created\n",
    "    all_cols = [c for c in list(df.columns) if c not in ['customer_ID','S_2']]\n",
    "    cat_features = [\"B_30\",\"B_38\",\"D_114\",\"D_116\",\"D_117\",\"D_120\",\"D_126\",\"D_63\",\"D_64\",\"D_66\",\"D_68\"]\n",
    "    num_features = [col for col in all_cols if col not in cat_features]\n",
    "\n",
    "    test_num_agg = df.groupby(\"customer_ID\")[num_features].agg(['mean', 'std', 'min', 'max', 'last'])\n",
    "    test_num_agg.columns = ['_'.join(x) for x in test_num_agg.columns]\n",
    "\n",
    "    test_cat_agg = df.groupby(\"customer_ID\")[cat_features].agg(['count', 'last', 'nunique'])\n",
    "    test_cat_agg.columns = ['_'.join(x) for x in test_cat_agg.columns]\n",
    "\n",
    "    df = cudf.concat([test_num_agg, test_cat_agg], axis=1)\n",
    "    del test_num_agg, test_cat_agg\n",
    "    print('shape after engineering', df.shape )\n",
    "    \n",
    "    return df\n",
    "\n",
    "train = process_and_feature_engineer(train)"
   ]
  },
  {
   "cell_type": "code",
   "execution_count": 5,
   "id": "ebb28e55",
   "metadata": {
    "execution": {
     "iopub.execute_input": "2022-07-14T16:50:09.113034Z",
     "iopub.status.busy": "2022-07-14T16:50:09.112772Z",
     "iopub.status.idle": "2022-07-14T16:50:10.407844Z",
     "shell.execute_reply": "2022-07-14T16:50:10.406350Z"
    },
    "papermill": {
     "duration": 1.303896,
     "end_time": "2022-07-14T16:50:10.409806",
     "exception": false,
     "start_time": "2022-07-14T16:50:09.105910",
     "status": "completed"
    },
    "tags": []
   },
   "outputs": [
    {
     "name": "stdout",
     "output_type": "stream",
     "text": [
      "There are 918 features!\n"
     ]
    }
   ],
   "source": [
    "# ADD TARGETS\n",
    "targets = cudf.read_csv('../input/amex-default-prediction/train_labels.csv')\n",
    "targets['customer_ID'] = targets['customer_ID'].str[-16:].str.hex_to_int().astype('int64')\n",
    "targets = targets.set_index('customer_ID')\n",
    "train = train.merge(targets, left_index=True, right_index=True, how='left')\n",
    "train.target = train.target.astype('int8')\n",
    "del targets\n",
    "\n",
    "# NEEDED TO MAKE CV DETERMINISTIC (cudf merge above randomly shuffles rows)\n",
    "train = train.sort_index().reset_index()\n",
    "\n",
    "# FEATURES\n",
    "FEATURES = train.columns[1:-1]\n",
    "print(f'There are {len(FEATURES)} features!')"
   ]
  },
  {
   "cell_type": "code",
   "execution_count": 6,
   "id": "42b32298",
   "metadata": {
    "execution": {
     "iopub.execute_input": "2022-07-14T16:50:10.423906Z",
     "iopub.status.busy": "2022-07-14T16:50:10.423614Z",
     "iopub.status.idle": "2022-07-14T16:50:11.356999Z",
     "shell.execute_reply": "2022-07-14T16:50:11.356249Z"
    },
    "papermill": {
     "duration": 0.942276,
     "end_time": "2022-07-14T16:50:11.358775",
     "exception": false,
     "start_time": "2022-07-14T16:50:10.416499",
     "status": "completed"
    },
    "tags": []
   },
   "outputs": [
    {
     "data": {
      "text/html": [
       "<div>\n",
       "<style scoped>\n",
       "    .dataframe tbody tr th:only-of-type {\n",
       "        vertical-align: middle;\n",
       "    }\n",
       "\n",
       "    .dataframe tbody tr th {\n",
       "        vertical-align: top;\n",
       "    }\n",
       "\n",
       "    .dataframe thead th {\n",
       "        text-align: right;\n",
       "    }\n",
       "</style>\n",
       "<table border=\"1\" class=\"dataframe\">\n",
       "  <thead>\n",
       "    <tr style=\"text-align: right;\">\n",
       "      <th></th>\n",
       "      <th>customer_ID</th>\n",
       "      <th>P_2_mean</th>\n",
       "      <th>P_2_std</th>\n",
       "      <th>P_2_min</th>\n",
       "      <th>P_2_max</th>\n",
       "      <th>P_2_last</th>\n",
       "      <th>D_39_mean</th>\n",
       "      <th>D_39_std</th>\n",
       "      <th>D_39_min</th>\n",
       "      <th>D_39_max</th>\n",
       "      <th>D_39_last</th>\n",
       "      <th>B_1_mean</th>\n",
       "      <th>B_1_std</th>\n",
       "      <th>B_1_min</th>\n",
       "      <th>B_1_max</th>\n",
       "      <th>B_1_last</th>\n",
       "      <th>B_2_mean</th>\n",
       "      <th>B_2_std</th>\n",
       "      <th>B_2_min</th>\n",
       "      <th>B_2_max</th>\n",
       "      <th>B_2_last</th>\n",
       "      <th>D_117_nunique</th>\n",
       "      <th>D_120_count</th>\n",
       "      <th>D_120_last</th>\n",
       "      <th>D_120_nunique</th>\n",
       "      <th>D_126_count</th>\n",
       "      <th>D_126_last</th>\n",
       "      <th>D_126_nunique</th>\n",
       "      <th>D_63_count</th>\n",
       "      <th>D_63_last</th>\n",
       "      <th>D_63_nunique</th>\n",
       "      <th>D_64_count</th>\n",
       "      <th>D_64_last</th>\n",
       "      <th>D_64_nunique</th>\n",
       "      <th>D_66_count</th>\n",
       "      <th>D_66_last</th>\n",
       "      <th>D_66_nunique</th>\n",
       "      <th>D_68_count</th>\n",
       "      <th>D_68_last</th>\n",
       "      <th>D_68_nunique</th>\n",
       "      <th>target</th>\n",
       "    </tr>\n",
       "  </thead>\n",
       "  <tbody>\n",
       "    <tr>\n",
       "      <th>0</th>\n",
       "      <td>-9223358381327749917</td>\n",
       "      <td>0.415868</td>\n",
       "      <td>0.057145</td>\n",
       "      <td>0.340178</td>\n",
       "      <td>0.498727</td>\n",
       "      <td>0.387708</td>\n",
       "      <td>2.615385</td>\n",
       "      <td>4.628507</td>\n",
       "      <td>0</td>\n",
       "      <td>16</td>\n",
       "      <td>0</td>\n",
       "      <td>0.431062</td>\n",
       "      <td>0.048472</td>\n",
       "      <td>0.298571</td>\n",
       "      <td>0.463824</td>\n",
       "      <td>0.460779</td>\n",
       "      <td>0.030230</td>\n",
       "      <td>0.013641</td>\n",
       "      <td>0.021921</td>\n",
       "      <td>0.073879</td>\n",
       "      <td>0.073879</td>\n",
       "      <td>2</td>\n",
       "      <td>13</td>\n",
       "      <td>0</td>\n",
       "      <td>2</td>\n",
       "      <td>13</td>\n",
       "      <td>2</td>\n",
       "      <td>1</td>\n",
       "      <td>13</td>\n",
       "      <td>3</td>\n",
       "      <td>1</td>\n",
       "      <td>13</td>\n",
       "      <td>2</td>\n",
       "      <td>1</td>\n",
       "      <td>13</td>\n",
       "      <td>-1</td>\n",
       "      <td>1</td>\n",
       "      <td>13</td>\n",
       "      <td>3</td>\n",
       "      <td>2</td>\n",
       "      <td>1</td>\n",
       "    </tr>\n",
       "    <tr>\n",
       "      <th>1</th>\n",
       "      <td>-9223193039457028513</td>\n",
       "      <td>0.974068</td>\n",
       "      <td>0.013094</td>\n",
       "      <td>0.964483</td>\n",
       "      <td>1.002478</td>\n",
       "      <td>1.001372</td>\n",
       "      <td>0.000000</td>\n",
       "      <td>0.000000</td>\n",
       "      <td>0</td>\n",
       "      <td>0</td>\n",
       "      <td>0</td>\n",
       "      <td>0.004292</td>\n",
       "      <td>0.001941</td>\n",
       "      <td>0.001238</td>\n",
       "      <td>0.007949</td>\n",
       "      <td>0.006264</td>\n",
       "      <td>0.815612</td>\n",
       "      <td>0.002701</td>\n",
       "      <td>0.811171</td>\n",
       "      <td>0.819547</td>\n",
       "      <td>0.815078</td>\n",
       "      <td>3</td>\n",
       "      <td>13</td>\n",
       "      <td>0</td>\n",
       "      <td>1</td>\n",
       "      <td>13</td>\n",
       "      <td>2</td>\n",
       "      <td>1</td>\n",
       "      <td>13</td>\n",
       "      <td>3</td>\n",
       "      <td>2</td>\n",
       "      <td>13</td>\n",
       "      <td>0</td>\n",
       "      <td>1</td>\n",
       "      <td>13</td>\n",
       "      <td>-1</td>\n",
       "      <td>1</td>\n",
       "      <td>13</td>\n",
       "      <td>6</td>\n",
       "      <td>1</td>\n",
       "      <td>0</td>\n",
       "    </tr>\n",
       "    <tr>\n",
       "      <th>2</th>\n",
       "      <td>-9223189665817919541</td>\n",
       "      <td>0.802447</td>\n",
       "      <td>0.038025</td>\n",
       "      <td>0.694073</td>\n",
       "      <td>0.828761</td>\n",
       "      <td>0.694073</td>\n",
       "      <td>0.000000</td>\n",
       "      <td>0.000000</td>\n",
       "      <td>0</td>\n",
       "      <td>0</td>\n",
       "      <td>0</td>\n",
       "      <td>0.006611</td>\n",
       "      <td>0.002724</td>\n",
       "      <td>0.001909</td>\n",
       "      <td>0.010064</td>\n",
       "      <td>0.010064</td>\n",
       "      <td>0.814609</td>\n",
       "      <td>0.002658</td>\n",
       "      <td>0.810628</td>\n",
       "      <td>0.819408</td>\n",
       "      <td>0.810628</td>\n",
       "      <td>1</td>\n",
       "      <td>13</td>\n",
       "      <td>0</td>\n",
       "      <td>1</td>\n",
       "      <td>13</td>\n",
       "      <td>2</td>\n",
       "      <td>1</td>\n",
       "      <td>13</td>\n",
       "      <td>3</td>\n",
       "      <td>1</td>\n",
       "      <td>13</td>\n",
       "      <td>0</td>\n",
       "      <td>1</td>\n",
       "      <td>13</td>\n",
       "      <td>-1</td>\n",
       "      <td>1</td>\n",
       "      <td>13</td>\n",
       "      <td>6</td>\n",
       "      <td>1</td>\n",
       "      <td>0</td>\n",
       "    </tr>\n",
       "    <tr>\n",
       "      <th>3</th>\n",
       "      <td>-9223188534444851899</td>\n",
       "      <td>0.791203</td>\n",
       "      <td>0.002688</td>\n",
       "      <td>0.786647</td>\n",
       "      <td>0.794826</td>\n",
       "      <td>0.787945</td>\n",
       "      <td>0.000000</td>\n",
       "      <td>0.000000</td>\n",
       "      <td>0</td>\n",
       "      <td>0</td>\n",
       "      <td>0</td>\n",
       "      <td>0.004780</td>\n",
       "      <td>0.002570</td>\n",
       "      <td>0.000845</td>\n",
       "      <td>0.008317</td>\n",
       "      <td>0.002275</td>\n",
       "      <td>0.815331</td>\n",
       "      <td>0.002593</td>\n",
       "      <td>0.811170</td>\n",
       "      <td>0.819601</td>\n",
       "      <td>0.819601</td>\n",
       "      <td>2</td>\n",
       "      <td>13</td>\n",
       "      <td>0</td>\n",
       "      <td>1</td>\n",
       "      <td>13</td>\n",
       "      <td>1</td>\n",
       "      <td>1</td>\n",
       "      <td>13</td>\n",
       "      <td>3</td>\n",
       "      <td>1</td>\n",
       "      <td>13</td>\n",
       "      <td>3</td>\n",
       "      <td>2</td>\n",
       "      <td>13</td>\n",
       "      <td>-1</td>\n",
       "      <td>1</td>\n",
       "      <td>13</td>\n",
       "      <td>5</td>\n",
       "      <td>1</td>\n",
       "      <td>0</td>\n",
       "    </tr>\n",
       "    <tr>\n",
       "      <th>4</th>\n",
       "      <td>-9223173911659837606</td>\n",
       "      <td>0.115666</td>\n",
       "      <td>0.078554</td>\n",
       "      <td>0.038207</td>\n",
       "      <td>0.252421</td>\n",
       "      <td>0.040486</td>\n",
       "      <td>4.384615</td>\n",
       "      <td>6.144625</td>\n",
       "      <td>0</td>\n",
       "      <td>17</td>\n",
       "      <td>13</td>\n",
       "      <td>0.111619</td>\n",
       "      <td>0.005226</td>\n",
       "      <td>0.105406</td>\n",
       "      <td>0.120974</td>\n",
       "      <td>0.113040</td>\n",
       "      <td>0.036697</td>\n",
       "      <td>0.003661</td>\n",
       "      <td>0.030467</td>\n",
       "      <td>0.043961</td>\n",
       "      <td>0.037854</td>\n",
       "      <td>1</td>\n",
       "      <td>13</td>\n",
       "      <td>0</td>\n",
       "      <td>1</td>\n",
       "      <td>13</td>\n",
       "      <td>2</td>\n",
       "      <td>1</td>\n",
       "      <td>13</td>\n",
       "      <td>3</td>\n",
       "      <td>1</td>\n",
       "      <td>13</td>\n",
       "      <td>0</td>\n",
       "      <td>2</td>\n",
       "      <td>13</td>\n",
       "      <td>-1</td>\n",
       "      <td>1</td>\n",
       "      <td>13</td>\n",
       "      <td>6</td>\n",
       "      <td>2</td>\n",
       "      <td>1</td>\n",
       "    </tr>\n",
       "  </tbody>\n",
       "</table>\n",
       "</div>"
      ],
      "text/plain": [
       "           customer_ID  P_2_mean   P_2_std   P_2_min   P_2_max  P_2_last  \\\n",
       "0 -9223358381327749917  0.415868  0.057145  0.340178  0.498727  0.387708   \n",
       "1 -9223193039457028513  0.974068  0.013094  0.964483  1.002478  1.001372   \n",
       "2 -9223189665817919541  0.802447  0.038025  0.694073  0.828761  0.694073   \n",
       "3 -9223188534444851899  0.791203  0.002688  0.786647  0.794826  0.787945   \n",
       "4 -9223173911659837606  0.115666  0.078554  0.038207  0.252421  0.040486   \n",
       "\n",
       "   D_39_mean  D_39_std  D_39_min  D_39_max  D_39_last  B_1_mean   B_1_std  \\\n",
       "0   2.615385  4.628507         0        16          0  0.431062  0.048472   \n",
       "1   0.000000  0.000000         0         0          0  0.004292  0.001941   \n",
       "2   0.000000  0.000000         0         0          0  0.006611  0.002724   \n",
       "3   0.000000  0.000000         0         0          0  0.004780  0.002570   \n",
       "4   4.384615  6.144625         0        17         13  0.111619  0.005226   \n",
       "\n",
       "    B_1_min   B_1_max  B_1_last  B_2_mean   B_2_std   B_2_min   B_2_max  \\\n",
       "0  0.298571  0.463824  0.460779  0.030230  0.013641  0.021921  0.073879   \n",
       "1  0.001238  0.007949  0.006264  0.815612  0.002701  0.811171  0.819547   \n",
       "2  0.001909  0.010064  0.010064  0.814609  0.002658  0.810628  0.819408   \n",
       "3  0.000845  0.008317  0.002275  0.815331  0.002593  0.811170  0.819601   \n",
       "4  0.105406  0.120974  0.113040  0.036697  0.003661  0.030467  0.043961   \n",
       "\n",
       "   B_2_last  D_117_nunique  D_120_count  D_120_last  D_120_nunique  \\\n",
       "0  0.073879              2           13           0              2   \n",
       "1  0.815078              3           13           0              1   \n",
       "2  0.810628              1           13           0              1   \n",
       "3  0.819601              2           13           0              1   \n",
       "4  0.037854              1           13           0              1   \n",
       "\n",
       "   D_126_count  D_126_last  D_126_nunique  D_63_count  D_63_last  \\\n",
       "0           13           2              1          13          3   \n",
       "1           13           2              1          13          3   \n",
       "2           13           2              1          13          3   \n",
       "3           13           1              1          13          3   \n",
       "4           13           2              1          13          3   \n",
       "\n",
       "   D_63_nunique  D_64_count  D_64_last  D_64_nunique  D_66_count  D_66_last  \\\n",
       "0             1          13          2             1          13         -1   \n",
       "1             2          13          0             1          13         -1   \n",
       "2             1          13          0             1          13         -1   \n",
       "3             1          13          3             2          13         -1   \n",
       "4             1          13          0             2          13         -1   \n",
       "\n",
       "   D_66_nunique  D_68_count  D_68_last  D_68_nunique  target  \n",
       "0             1          13          3             2       1  \n",
       "1             1          13          6             1       0  \n",
       "2             1          13          6             1       0  \n",
       "3             1          13          5             1       0  \n",
       "4             1          13          6             2       1  "
      ]
     },
     "execution_count": 6,
     "metadata": {},
     "output_type": "execute_result"
    }
   ],
   "source": [
    "train.head()"
   ]
  },
  {
   "cell_type": "markdown",
   "id": "978113d3",
   "metadata": {
    "papermill": {
     "duration": 0.006712,
     "end_time": "2022-07-14T16:50:11.372475",
     "exception": false,
     "start_time": "2022-07-14T16:50:11.365763",
     "status": "completed"
    },
    "tags": []
   },
   "source": [
    "# Train XGB\n",
    "We will train using `DeviceQuantileDMatrix`. This has a very small GPU memory footprint."
   ]
  },
  {
   "cell_type": "code",
   "execution_count": 7,
   "id": "d469cfc2",
   "metadata": {
    "execution": {
     "iopub.execute_input": "2022-07-14T16:50:11.386368Z",
     "iopub.status.busy": "2022-07-14T16:50:11.386002Z",
     "iopub.status.idle": "2022-07-14T16:50:11.490725Z",
     "shell.execute_reply": "2022-07-14T16:50:11.489578Z"
    },
    "papermill": {
     "duration": 0.113512,
     "end_time": "2022-07-14T16:50:11.492362",
     "exception": false,
     "start_time": "2022-07-14T16:50:11.378850",
     "status": "completed"
    },
    "tags": []
   },
   "outputs": [
    {
     "name": "stdout",
     "output_type": "stream",
     "text": [
      "XGB Version 1.6.1\n"
     ]
    }
   ],
   "source": [
    "# LOAD XGB LIBRARY\n",
    "from sklearn.model_selection import KFold, StratifiedKFold\n",
    "import xgboost as xgb\n",
    "print('XGB Version',xgb.__version__)\n",
    "\n",
    "# XGB MODEL PARAMETERS\n",
    "xgb_parms = { \n",
    "    'max_depth':5, \n",
    "    'learning_rate':0.05, \n",
    "    'subsample':0.8,\n",
    "    'colsample_bytree':0.6, \n",
    "    'eval_metric':'logloss',\n",
    "    'objective':'binary:logistic',\n",
    "    'tree_method':'gpu_hist',\n",
    "    'predictor':'gpu_predictor',\n",
    "    'random_state':SEED\n",
    "}"
   ]
  },
  {
   "cell_type": "code",
   "execution_count": 8,
   "id": "32a66dfb",
   "metadata": {
    "execution": {
     "iopub.execute_input": "2022-07-14T16:50:11.506894Z",
     "iopub.status.busy": "2022-07-14T16:50:11.506167Z",
     "iopub.status.idle": "2022-07-14T16:50:11.514914Z",
     "shell.execute_reply": "2022-07-14T16:50:11.514240Z"
    },
    "papermill": {
     "duration": 0.017521,
     "end_time": "2022-07-14T16:50:11.516484",
     "exception": false,
     "start_time": "2022-07-14T16:50:11.498963",
     "status": "completed"
    },
    "tags": []
   },
   "outputs": [],
   "source": [
    "# NEEDED WITH DeviceQuantileDMatrix BELOW\n",
    "class IterLoadForDMatrix(xgb.core.DataIter):\n",
    "    def __init__(self, df=None, features=None, target=None, batch_size=256*1024):\n",
    "        self.features = features\n",
    "        self.target = target\n",
    "        self.df = df\n",
    "        self.it = 0 # set iterator to 0\n",
    "        self.batch_size = batch_size\n",
    "        self.batches = int( np.ceil( len(df) / self.batch_size ) )\n",
    "        super().__init__()\n",
    "\n",
    "    def reset(self):\n",
    "        '''Reset the iterator'''\n",
    "        self.it = 0\n",
    "\n",
    "    def next(self, input_data):\n",
    "        '''Yield next batch of data.'''\n",
    "        if self.it == self.batches:\n",
    "            return 0 # Return 0 when there's no more batch.\n",
    "        \n",
    "        a = self.it * self.batch_size\n",
    "        b = min( (self.it + 1) * self.batch_size, len(self.df) )\n",
    "        dt = cudf.DataFrame(self.df.iloc[a:b])\n",
    "        input_data(data=dt[self.features], label=dt[self.target]) #, weight=dt['weight'])\n",
    "        self.it += 1\n",
    "        return 1"
   ]
  },
  {
   "cell_type": "code",
   "execution_count": 9,
   "id": "7adc5f62",
   "metadata": {
    "execution": {
     "iopub.execute_input": "2022-07-14T16:50:11.530125Z",
     "iopub.status.busy": "2022-07-14T16:50:11.529883Z",
     "iopub.status.idle": "2022-07-14T16:50:11.538920Z",
     "shell.execute_reply": "2022-07-14T16:50:11.538099Z"
    },
    "papermill": {
     "duration": 0.01794,
     "end_time": "2022-07-14T16:50:11.540753",
     "exception": false,
     "start_time": "2022-07-14T16:50:11.522813",
     "status": "completed"
    },
    "tags": []
   },
   "outputs": [],
   "source": [
    "# https://www.kaggle.com/kyakovlev\n",
    "# https://www.kaggle.com/competitions/amex-default-prediction/discussion/327534\n",
    "def amex_metric_mod(y_true, y_pred):\n",
    "\n",
    "    labels     = np.transpose(np.array([y_true, y_pred]))\n",
    "    labels     = labels[labels[:, 1].argsort()[::-1]]\n",
    "    weights    = np.where(labels[:,0]==0, 20, 1)\n",
    "    cut_vals   = labels[np.cumsum(weights) <= int(0.04 * np.sum(weights))]\n",
    "    top_four   = np.sum(cut_vals[:,0]) / np.sum(labels[:,0])\n",
    "\n",
    "    gini = [0,0]\n",
    "    for i in [1,0]:\n",
    "        labels         = np.transpose(np.array([y_true, y_pred]))\n",
    "        labels         = labels[labels[:, i].argsort()[::-1]]\n",
    "        weight         = np.where(labels[:,0]==0, 20, 1)\n",
    "        weight_random  = np.cumsum(weight / np.sum(weight))\n",
    "        total_pos      = np.sum(labels[:, 0] *  weight)\n",
    "        cum_pos_found  = np.cumsum(labels[:, 0] * weight)\n",
    "        lorentz        = cum_pos_found / total_pos\n",
    "        gini[i]        = np.sum((lorentz - weight_random) * weight)\n",
    "\n",
    "    return 0.5 * (gini[1]/gini[0] + top_four)"
   ]
  },
  {
   "cell_type": "code",
   "execution_count": 10,
   "id": "297051cf",
   "metadata": {
    "execution": {
     "iopub.execute_input": "2022-07-14T16:50:11.554709Z",
     "iopub.status.busy": "2022-07-14T16:50:11.554468Z",
     "iopub.status.idle": "2022-07-14T16:58:18.577453Z",
     "shell.execute_reply": "2022-07-14T16:58:18.575863Z"
    },
    "papermill": {
     "duration": 487.03218,
     "end_time": "2022-07-14T16:58:18.579333",
     "exception": false,
     "start_time": "2022-07-14T16:50:11.547153",
     "status": "completed"
    },
    "scrolled": true,
    "tags": []
   },
   "outputs": [
    {
     "name": "stdout",
     "output_type": "stream",
     "text": [
      "#########################\n",
      "### Fold 1\n",
      "### Train size 367130 Valid size 91783\n",
      "### Training with 100% fold data...\n",
      "#########################\n",
      "[0]\ttrain-logloss:0.66221\tvalid-logloss:0.66233\n",
      "[100]\ttrain-logloss:0.23039\tvalid-logloss:0.23522\n",
      "[200]\ttrain-logloss:0.21557\tvalid-logloss:0.22482\n",
      "[300]\ttrain-logloss:0.20815\tvalid-logloss:0.22148\n",
      "[400]\ttrain-logloss:0.20262\tvalid-logloss:0.21998\n",
      "[500]\ttrain-logloss:0.19782\tvalid-logloss:0.21916\n",
      "[600]\ttrain-logloss:0.19362\tvalid-logloss:0.21867\n",
      "[700]\ttrain-logloss:0.18978\tvalid-logloss:0.21840\n",
      "[800]\ttrain-logloss:0.18612\tvalid-logloss:0.21818\n",
      "[900]\ttrain-logloss:0.18257\tvalid-logloss:0.21806\n",
      "[1000]\ttrain-logloss:0.17917\tvalid-logloss:0.21789\n",
      "[1100]\ttrain-logloss:0.17584\tvalid-logloss:0.21783\n",
      "[1200]\ttrain-logloss:0.17276\tvalid-logloss:0.21778\n",
      "[1300]\ttrain-logloss:0.16960\tvalid-logloss:0.21775\n",
      "[1400]\ttrain-logloss:0.16653\tvalid-logloss:0.21770\n",
      "[1500]\ttrain-logloss:0.16358\tvalid-logloss:0.21784\n",
      "[1510]\ttrain-logloss:0.16327\tvalid-logloss:0.21784\n",
      "Kaggle Metric = 0.7881653763992738 \n",
      "\n",
      "#########################\n",
      "### Fold 2\n",
      "### Train size 367130 Valid size 91783\n",
      "### Training with 100% fold data...\n",
      "#########################\n",
      "[0]\ttrain-logloss:0.66212\tvalid-logloss:0.66213\n",
      "[100]\ttrain-logloss:0.23006\tvalid-logloss:0.23503\n",
      "[200]\ttrain-logloss:0.21520\tvalid-logloss:0.22462\n",
      "[300]\ttrain-logloss:0.20786\tvalid-logloss:0.22156\n",
      "[400]\ttrain-logloss:0.20251\tvalid-logloss:0.22009\n",
      "[500]\ttrain-logloss:0.19783\tvalid-logloss:0.21932\n",
      "[600]\ttrain-logloss:0.19355\tvalid-logloss:0.21879\n",
      "[700]\ttrain-logloss:0.18957\tvalid-logloss:0.21854\n",
      "[800]\ttrain-logloss:0.18585\tvalid-logloss:0.21826\n",
      "[900]\ttrain-logloss:0.18226\tvalid-logloss:0.21816\n",
      "[1000]\ttrain-logloss:0.17884\tvalid-logloss:0.21804\n",
      "[1100]\ttrain-logloss:0.17536\tvalid-logloss:0.21803\n",
      "[1200]\ttrain-logloss:0.17217\tvalid-logloss:0.21801\n",
      "[1275]\ttrain-logloss:0.16979\tvalid-logloss:0.21799\n",
      "Kaggle Metric = 0.7923687526553735 \n",
      "\n",
      "#########################\n",
      "### Fold 3\n",
      "### Train size 367130 Valid size 91783\n",
      "### Training with 100% fold data...\n",
      "#########################\n",
      "[0]\ttrain-logloss:0.66205\tvalid-logloss:0.66215\n",
      "[100]\ttrain-logloss:0.23029\tvalid-logloss:0.23507\n",
      "[200]\ttrain-logloss:0.21539\tvalid-logloss:0.22436\n",
      "[300]\ttrain-logloss:0.20794\tvalid-logloss:0.22114\n",
      "[400]\ttrain-logloss:0.20258\tvalid-logloss:0.21963\n",
      "[500]\ttrain-logloss:0.19784\tvalid-logloss:0.21880\n",
      "[600]\ttrain-logloss:0.19364\tvalid-logloss:0.21823\n",
      "[700]\ttrain-logloss:0.18967\tvalid-logloss:0.21802\n",
      "[800]\ttrain-logloss:0.18582\tvalid-logloss:0.21779\n",
      "[900]\ttrain-logloss:0.18233\tvalid-logloss:0.21766\n",
      "[1000]\ttrain-logloss:0.17895\tvalid-logloss:0.21759\n",
      "[1100]\ttrain-logloss:0.17563\tvalid-logloss:0.21754\n",
      "[1200]\ttrain-logloss:0.17239\tvalid-logloss:0.21755\n",
      "[1300]\ttrain-logloss:0.16915\tvalid-logloss:0.21759\n",
      "[1307]\ttrain-logloss:0.16892\tvalid-logloss:0.21759\n",
      "Kaggle Metric = 0.7925384438566552 \n",
      "\n",
      "#########################\n",
      "### Fold 4\n",
      "### Train size 367131 Valid size 91782\n",
      "### Training with 100% fold data...\n",
      "#########################\n",
      "[0]\ttrain-logloss:0.66211\tvalid-logloss:0.66221\n",
      "[100]\ttrain-logloss:0.23001\tvalid-logloss:0.23591\n",
      "[200]\ttrain-logloss:0.21514\tvalid-logloss:0.22568\n",
      "[300]\ttrain-logloss:0.20762\tvalid-logloss:0.22238\n",
      "[400]\ttrain-logloss:0.20225\tvalid-logloss:0.22089\n",
      "[500]\ttrain-logloss:0.19764\tvalid-logloss:0.22000\n",
      "[600]\ttrain-logloss:0.19349\tvalid-logloss:0.21934\n",
      "[700]\ttrain-logloss:0.18958\tvalid-logloss:0.21903\n",
      "[800]\ttrain-logloss:0.18588\tvalid-logloss:0.21879\n",
      "[900]\ttrain-logloss:0.18236\tvalid-logloss:0.21865\n",
      "[1000]\ttrain-logloss:0.17891\tvalid-logloss:0.21852\n",
      "[1100]\ttrain-logloss:0.17567\tvalid-logloss:0.21847\n",
      "[1200]\ttrain-logloss:0.17243\tvalid-logloss:0.21847\n",
      "[1266]\ttrain-logloss:0.17035\tvalid-logloss:0.21846\n",
      "Kaggle Metric = 0.7921198989653302 \n",
      "\n",
      "#########################\n",
      "### Fold 5\n",
      "### Train size 367131 Valid size 91782\n",
      "### Training with 100% fold data...\n",
      "#########################\n",
      "[0]\ttrain-logloss:0.66225\tvalid-logloss:0.66213\n",
      "[100]\ttrain-logloss:0.23059\tvalid-logloss:0.23287\n",
      "[200]\ttrain-logloss:0.21563\tvalid-logloss:0.22263\n",
      "[300]\ttrain-logloss:0.20821\tvalid-logloss:0.21946\n",
      "[400]\ttrain-logloss:0.20273\tvalid-logloss:0.21813\n",
      "[500]\ttrain-logloss:0.19821\tvalid-logloss:0.21739\n",
      "[600]\ttrain-logloss:0.19395\tvalid-logloss:0.21681\n",
      "[700]\ttrain-logloss:0.19012\tvalid-logloss:0.21646\n",
      "[800]\ttrain-logloss:0.18642\tvalid-logloss:0.21625\n",
      "[900]\ttrain-logloss:0.18280\tvalid-logloss:0.21607\n",
      "[1000]\ttrain-logloss:0.17926\tvalid-logloss:0.21596\n",
      "[1100]\ttrain-logloss:0.17605\tvalid-logloss:0.21586\n",
      "[1200]\ttrain-logloss:0.17284\tvalid-logloss:0.21588\n",
      "[1256]\ttrain-logloss:0.17110\tvalid-logloss:0.21586\n",
      "Kaggle Metric = 0.7943228867027412 \n",
      "\n",
      "#########################\n",
      "OVERALL CV Kaggle Metric = 0.7919501913688106\n"
     ]
    }
   ],
   "source": [
    "importances = []\n",
    "oof = []\n",
    "train = train.to_pandas() # free GPU memory\n",
    "TRAIN_SUBSAMPLE = 1.0\n",
    "gc.collect()\n",
    "\n",
    "#skf = KFold(n_splits=FOLDS, shuffle=True, random_state=SEED)\n",
    "skf = StratifiedKFold(n_splits=5,random_state=SEED,shuffle=True)\n",
    "for fold,(train_idx, valid_idx) in enumerate(skf.split(\n",
    "            train, train.target )):\n",
    "    \n",
    "    # TRAIN WITH SUBSAMPLE OF TRAIN FOLD DATA\n",
    "    if TRAIN_SUBSAMPLE<1.0:\n",
    "        np.random.seed(SEED)\n",
    "        train_idx = np.random.choice(train_idx, \n",
    "                       int(len(train_idx)*TRAIN_SUBSAMPLE), replace=False)\n",
    "        np.random.seed(None)\n",
    "    \n",
    "    print('#'*25)\n",
    "    print('### Fold',fold+1)\n",
    "    print('### Train size',len(train_idx),'Valid size',len(valid_idx))\n",
    "    print(f'### Training with {int(TRAIN_SUBSAMPLE*100)}% fold data...')\n",
    "    print('#'*25)\n",
    "    \n",
    "    # TRAIN, VALID, TEST FOR FOLD K\n",
    "    Xy_train = IterLoadForDMatrix(train.loc[train_idx], FEATURES, 'target')\n",
    "    X_valid = train.loc[valid_idx, FEATURES]\n",
    "    y_valid = train.loc[valid_idx, 'target']\n",
    "    \n",
    "    dtrain = xgb.DeviceQuantileDMatrix(Xy_train, max_bin=256)\n",
    "    dvalid = xgb.DMatrix(data=X_valid, label=y_valid)\n",
    "    \n",
    "    # TRAIN MODEL FOLD K\n",
    "    model = xgb.train(xgb_parms, \n",
    "                dtrain=dtrain,\n",
    "                evals=[(dtrain,'train'),(dvalid,'valid')],\n",
    "                num_boost_round=9999,\n",
    "                early_stopping_rounds=100,\n",
    "                verbose_eval=100) \n",
    "    model.save_model(f'XGB_v{VER}_fold{fold}.xgb')\n",
    "    \n",
    "    # GET FEATURE IMPORTANCE FOR FOLD K\n",
    "    dd = model.get_score(importance_type='weight')\n",
    "    df = pd.DataFrame({'feature':dd.keys(),f'importance_{fold}':dd.values()})\n",
    "    importances.append(df)\n",
    "            \n",
    "    # INFER OOF FOLD K\n",
    "    oof_preds = model.predict(dvalid)\n",
    "    acc = amex_metric_mod(y_valid.values, oof_preds)\n",
    "    print('Kaggle Metric =',acc,'\\n')\n",
    "    \n",
    "    # SAVE OOF\n",
    "    df = train.loc[valid_idx, ['customer_ID','target'] ].copy()\n",
    "    df['oof_pred'] = oof_preds\n",
    "    oof.append( df )\n",
    "    \n",
    "    del dtrain, Xy_train, dd, df\n",
    "    del X_valid, y_valid, dvalid, model\n",
    "    _ = gc.collect()\n",
    "    \n",
    "print('#'*25)\n",
    "oof = pd.concat(oof,axis=0,ignore_index=True).set_index('customer_ID')\n",
    "acc = amex_metric_mod(oof.target.values, oof.oof_pred.values)\n",
    "print('OVERALL CV Kaggle Metric =',acc)"
   ]
  },
  {
   "cell_type": "code",
   "execution_count": 11,
   "id": "c7fa8963",
   "metadata": {
    "execution": {
     "iopub.execute_input": "2022-07-14T16:58:18.603934Z",
     "iopub.status.busy": "2022-07-14T16:58:18.603573Z",
     "iopub.status.idle": "2022-07-14T16:58:18.749298Z",
     "shell.execute_reply": "2022-07-14T16:58:18.748285Z"
    },
    "papermill": {
     "duration": 0.16045,
     "end_time": "2022-07-14T16:58:18.751270",
     "exception": false,
     "start_time": "2022-07-14T16:58:18.590820",
     "status": "completed"
    },
    "tags": []
   },
   "outputs": [],
   "source": [
    "# CLEAN RAM\n",
    "del train\n",
    "_ = gc.collect()"
   ]
  },
  {
   "cell_type": "markdown",
   "id": "be954637",
   "metadata": {
    "papermill": {
     "duration": 0.011363,
     "end_time": "2022-07-14T16:58:18.774775",
     "exception": false,
     "start_time": "2022-07-14T16:58:18.763412",
     "status": "completed"
    },
    "tags": []
   },
   "source": [
    "# Save OOF Preds"
   ]
  },
  {
   "cell_type": "code",
   "execution_count": 12,
   "id": "8f44d6f9",
   "metadata": {
    "execution": {
     "iopub.execute_input": "2022-07-14T16:58:18.799886Z",
     "iopub.status.busy": "2022-07-14T16:58:18.799246Z",
     "iopub.status.idle": "2022-07-14T16:58:23.523866Z",
     "shell.execute_reply": "2022-07-14T16:58:23.523081Z"
    },
    "papermill": {
     "duration": 4.73943,
     "end_time": "2022-07-14T16:58:23.525684",
     "exception": false,
     "start_time": "2022-07-14T16:58:18.786254",
     "status": "completed"
    },
    "tags": []
   },
   "outputs": [
    {
     "data": {
      "text/html": [
       "<div>\n",
       "<style scoped>\n",
       "    .dataframe tbody tr th:only-of-type {\n",
       "        vertical-align: middle;\n",
       "    }\n",
       "\n",
       "    .dataframe tbody tr th {\n",
       "        vertical-align: top;\n",
       "    }\n",
       "\n",
       "    .dataframe thead th {\n",
       "        text-align: right;\n",
       "    }\n",
       "</style>\n",
       "<table border=\"1\" class=\"dataframe\">\n",
       "  <thead>\n",
       "    <tr style=\"text-align: right;\">\n",
       "      <th></th>\n",
       "      <th>customer_ID</th>\n",
       "      <th>target</th>\n",
       "      <th>oof_pred</th>\n",
       "    </tr>\n",
       "  </thead>\n",
       "  <tbody>\n",
       "    <tr>\n",
       "      <th>0</th>\n",
       "      <td>20eac26171c3d251c55fc78204e59fab1c15fc2bc96d0c...</td>\n",
       "      <td>1</td>\n",
       "      <td>0.585648</td>\n",
       "    </tr>\n",
       "    <tr>\n",
       "      <th>1</th>\n",
       "      <td>aea50fdf9b974ccec95fa177c3225a0f913483b457de6e...</td>\n",
       "      <td>0</td>\n",
       "      <td>0.000257</td>\n",
       "    </tr>\n",
       "    <tr>\n",
       "      <th>2</th>\n",
       "      <td>32cd2d41aef737b69089882754395925c96eaee1f4a859...</td>\n",
       "      <td>0</td>\n",
       "      <td>0.001054</td>\n",
       "    </tr>\n",
       "    <tr>\n",
       "      <th>3</th>\n",
       "      <td>8daa6d5dc2655a8a437531e6b8b96829113cdfe9bf6cae...</td>\n",
       "      <td>0</td>\n",
       "      <td>0.024849</td>\n",
       "    </tr>\n",
       "    <tr>\n",
       "      <th>4</th>\n",
       "      <td>0ceba351a3851202542feb49d7385bcef32f6037fc57c7...</td>\n",
       "      <td>1</td>\n",
       "      <td>0.889616</td>\n",
       "    </tr>\n",
       "  </tbody>\n",
       "</table>\n",
       "</div>"
      ],
      "text/plain": [
       "                                         customer_ID  target  oof_pred\n",
       "0  20eac26171c3d251c55fc78204e59fab1c15fc2bc96d0c...       1  0.585648\n",
       "1  aea50fdf9b974ccec95fa177c3225a0f913483b457de6e...       0  0.000257\n",
       "2  32cd2d41aef737b69089882754395925c96eaee1f4a859...       0  0.001054\n",
       "3  8daa6d5dc2655a8a437531e6b8b96829113cdfe9bf6cae...       0  0.024849\n",
       "4  0ceba351a3851202542feb49d7385bcef32f6037fc57c7...       1  0.889616"
      ]
     },
     "execution_count": 12,
     "metadata": {},
     "output_type": "execute_result"
    }
   ],
   "source": [
    "oof_xgb = pd.read_parquet(TRAIN_PATH, columns=['customer_ID']).drop_duplicates()\n",
    "oof_xgb['customer_ID_hash'] = oof_xgb['customer_ID'].apply(lambda x: int(x[-16:],16) ).astype('int64')\n",
    "oof_xgb = oof_xgb.set_index('customer_ID_hash')\n",
    "oof_xgb = oof_xgb.merge(oof, left_index=True, right_index=True)\n",
    "oof_xgb = oof_xgb.sort_index().reset_index(drop=True)\n",
    "oof_xgb.to_csv(f'oof_xgb_v{VER}.csv',index=False)\n",
    "oof_xgb.head()"
   ]
  },
  {
   "cell_type": "code",
   "execution_count": 13,
   "id": "6a00b027",
   "metadata": {
    "execution": {
     "iopub.execute_input": "2022-07-14T16:58:23.550524Z",
     "iopub.status.busy": "2022-07-14T16:58:23.550129Z",
     "iopub.status.idle": "2022-07-14T16:58:23.893676Z",
     "shell.execute_reply": "2022-07-14T16:58:23.892867Z"
    },
    "papermill": {
     "duration": 0.357978,
     "end_time": "2022-07-14T16:58:23.895601",
     "exception": false,
     "start_time": "2022-07-14T16:58:23.537623",
     "status": "completed"
    },
    "tags": []
   },
   "outputs": [
    {
     "data": {
      "image/png": "[encoded data removed]",
      "text/plain": [
       "<Figure size 432x288 with 1 Axes>"
      ]
     },
     "metadata": {
      "needs_background": "light"
     },
     "output_type": "display_data"
    }
   ],
   "source": [
    "# PLOT OOF PREDICTIONS\n",
    "plt.hist(oof_xgb.oof_pred.values, bins=100)\n",
    "plt.title('OOF Predictions')\n",
    "plt.show()"
   ]
  },
  {
   "cell_type": "code",
   "execution_count": 14,
   "id": "c9a2b066",
   "metadata": {
    "execution": {
     "iopub.execute_input": "2022-07-14T16:58:23.921242Z",
     "iopub.status.busy": "2022-07-14T16:58:23.920937Z",
     "iopub.status.idle": "2022-07-14T16:58:24.058099Z",
     "shell.execute_reply": "2022-07-14T16:58:24.057325Z"
    },
    "papermill": {
     "duration": 0.151881,
     "end_time": "2022-07-14T16:58:24.060197",
     "exception": false,
     "start_time": "2022-07-14T16:58:23.908316",
     "status": "completed"
    },
    "tags": []
   },
   "outputs": [],
   "source": [
    "# CLEAR VRAM, RAM FOR INFERENCE BELOW\n",
    "del oof_xgb, oof\n",
    "_ = gc.collect()"
   ]
  },
  {
   "cell_type": "markdown",
   "id": "7c80edcf",
   "metadata": {
    "papermill": {
     "duration": 0.011465,
     "end_time": "2022-07-14T16:58:24.084272",
     "exception": false,
     "start_time": "2022-07-14T16:58:24.072807",
     "status": "completed"
    },
    "tags": []
   },
   "source": [
    "# Feature Importance"
   ]
  },
  {
   "cell_type": "code",
   "execution_count": 15,
   "id": "d9845ef9",
   "metadata": {
    "execution": {
     "iopub.execute_input": "2022-07-14T16:58:24.108526Z",
     "iopub.status.busy": "2022-07-14T16:58:24.108236Z",
     "iopub.status.idle": "2022-07-14T16:58:24.138747Z",
     "shell.execute_reply": "2022-07-14T16:58:24.138027Z"
    },
    "papermill": {
     "duration": 0.044643,
     "end_time": "2022-07-14T16:58:24.140566",
     "exception": false,
     "start_time": "2022-07-14T16:58:24.095923",
     "status": "completed"
    },
    "tags": []
   },
   "outputs": [],
   "source": [
    "import matplotlib.pyplot as plt\n",
    "\n",
    "df = importances[0].copy()\n",
    "for k in range(1,FOLDS): df = df.merge(importances[k], on='feature', how='left')\n",
    "df['importance'] = df.iloc[:,1:].mean(axis=1)\n",
    "df = df.sort_values('importance',ascending=False)\n",
    "df.to_csv(f'xgb_feature_importance_v{VER}.csv',index=False)"
   ]
  },
  {
   "cell_type": "code",
   "execution_count": 16,
   "id": "2ec6aac1",
   "metadata": {
    "execution": {
     "iopub.execute_input": "2022-07-14T16:58:24.165482Z",
     "iopub.status.busy": "2022-07-14T16:58:24.165179Z",
     "iopub.status.idle": "2022-07-14T16:58:24.414956Z",
     "shell.execute_reply": "2022-07-14T16:58:24.414215Z"
    },
    "papermill": {
     "duration": 0.26477,
     "end_time": "2022-07-14T16:58:24.417061",
     "exception": false,
     "start_time": "2022-07-14T16:58:24.152291",
     "status": "completed"
    },
    "tags": []
   },
   "outputs": [
    {
     "data": {
      "image/png": "[encoded data removed]",
      "text/plain": [
       "<Figure size 720x720 with 1 Axes>"
      ]
     },
     "metadata": {
      "needs_background": "light"
     },
     "output_type": "display_data"
    }
   ],
   "source": [
    "NUM_FEATURES = 20\n",
    "plt.figure(figsize=(10,5*NUM_FEATURES//10))\n",
    "plt.barh(np.arange(NUM_FEATURES,0,-1), df.importance.values[:NUM_FEATURES])\n",
    "plt.yticks(np.arange(NUM_FEATURES,0,-1), df.feature.values[:NUM_FEATURES])\n",
    "plt.title(f'XGB Feature Importance - Top {NUM_FEATURES}')\n",
    "plt.show()"
   ]
  },
  {
   "cell_type": "markdown",
   "id": "eae649f0",
   "metadata": {
    "papermill": {
     "duration": 0.011947,
     "end_time": "2022-07-14T16:58:24.442088",
     "exception": false,
     "start_time": "2022-07-14T16:58:24.430141",
     "status": "completed"
    },
    "tags": []
   },
   "source": [
    "# Process and Feature Engineer Test Data\n",
    "We will load @raddar Kaggle dataset from [here][1] with discussion [here][2]. Then we will engineer features suggested by @huseyincot in his notebooks [here][1] and [here][4]. We will use [RAPIDS][5] and the GPU to create new features quickly.\n",
    "\n",
    "[1]: https://www.kaggle.com/datasets/raddar/amex-data-integer-dtypes-parquet-format\n",
    "[2]: https://www.kaggle.com/competitions/amex-default-prediction/discussion/328514\n",
    "[3]: https://www.kaggle.com/code/huseyincot/amex-catboost-0-793\n",
    "[4]: https://www.kaggle.com/code/huseyincot/amex-agg-data-how-it-created\n",
    "[5]: https://rapids.ai/"
   ]
  },
  {
   "cell_type": "code",
   "execution_count": 17,
   "id": "6f0426eb",
   "metadata": {
    "execution": {
     "iopub.execute_input": "2022-07-14T16:58:24.468296Z",
     "iopub.status.busy": "2022-07-14T16:58:24.467985Z",
     "iopub.status.idle": "2022-07-14T16:58:27.260493Z",
     "shell.execute_reply": "2022-07-14T16:58:27.259666Z"
    },
    "papermill": {
     "duration": 2.808102,
     "end_time": "2022-07-14T16:58:27.262569",
     "exception": false,
     "start_time": "2022-07-14T16:58:24.454467",
     "status": "completed"
    },
    "tags": []
   },
   "outputs": [
    {
     "name": "stdout",
     "output_type": "stream",
     "text": [
      "Reading test data...\n",
      "shape of data: (11363762, 2)\n",
      "We will process test data as 4 separate parts.\n",
      "There will be 231155 customers in each part (except the last part).\n",
      "Below are number of rows in each part:\n",
      "[2841209, 2839857, 2842105, 2840591]\n"
     ]
    }
   ],
   "source": [
    "# CALCULATE SIZE OF EACH SEPARATE TEST PART\n",
    "def get_rows(customers, test, NUM_PARTS = 4, verbose = ''):\n",
    "    chunk = len(customers)//NUM_PARTS\n",
    "    if verbose != '':\n",
    "        print(f'We will process {verbose} data as {NUM_PARTS} separate parts.')\n",
    "        print(f'There will be {chunk} customers in each part (except the last part).')\n",
    "        print('Below are number of rows in each part:')\n",
    "    rows = []\n",
    "\n",
    "    for k in range(NUM_PARTS):\n",
    "        if k==NUM_PARTS-1: cc = customers[k*chunk:]\n",
    "        else: cc = customers[k*chunk:(k+1)*chunk]\n",
    "        s = test.loc[test.customer_ID.isin(cc)].shape[0]\n",
    "        rows.append(s)\n",
    "    if verbose != '': print( rows )\n",
    "    return rows,chunk\n",
    "\n",
    "# COMPUTE SIZE OF 4 PARTS FOR TEST DATA\n",
    "NUM_PARTS = 4\n",
    "TEST_PATH = '../input/amex-data-integer-dtypes-parquet-format/test.parquet'\n",
    "\n",
    "print(f'Reading test data...')\n",
    "test = read_file(path = TEST_PATH, usecols = ['customer_ID','S_2'])\n",
    "customers = test[['customer_ID']].drop_duplicates().sort_index().values.flatten()\n",
    "rows,num_cust = get_rows(customers, test[['customer_ID']], NUM_PARTS = NUM_PARTS, verbose = 'test')"
   ]
  },
  {
   "cell_type": "markdown",
   "id": "7b521d98",
   "metadata": {
    "papermill": {
     "duration": 0.012285,
     "end_time": "2022-07-14T16:58:27.290575",
     "exception": false,
     "start_time": "2022-07-14T16:58:27.278290",
     "status": "completed"
    },
    "tags": []
   },
   "source": [
    "# Infer Test"
   ]
  },
  {
   "cell_type": "code",
   "execution_count": 18,
   "id": "576a9ffe",
   "metadata": {
    "execution": {
     "iopub.execute_input": "2022-07-14T16:58:27.317892Z",
     "iopub.status.busy": "2022-07-14T16:58:27.317544Z",
     "iopub.status.idle": "2022-07-14T17:01:12.982258Z",
     "shell.execute_reply": "2022-07-14T17:01:12.981419Z"
    },
    "papermill": {
     "duration": 165.68089,
     "end_time": "2022-07-14T17:01:12.984679",
     "exception": false,
     "start_time": "2022-07-14T16:58:27.303789",
     "status": "completed"
    },
    "tags": []
   },
   "outputs": [
    {
     "name": "stdout",
     "output_type": "stream",
     "text": [
      "\n",
      "Reading test data...\n",
      "shape of data: (11363762, 190)\n",
      "=> Test part 1 has shape (2841209, 190)\n",
      "shape after engineering (231155, 918)\n",
      "\n",
      "Reading test data...\n",
      "shape of data: (11363762, 190)\n",
      "=> Test part 2 has shape (2839857, 190)\n",
      "shape after engineering (231155, 918)\n",
      "\n",
      "Reading test data...\n",
      "shape of data: (11363762, 190)\n",
      "=> Test part 3 has shape (2842105, 190)\n",
      "shape after engineering (231155, 918)\n",
      "\n",
      "Reading test data...\n",
      "shape of data: (11363762, 190)\n",
      "=> Test part 4 has shape (2840591, 190)\n",
      "shape after engineering (231156, 918)\n"
     ]
    }
   ],
   "source": [
    "# INFER TEST DATA IN PARTS\n",
    "skip_rows = 0\n",
    "skip_cust = 0\n",
    "test_preds = []\n",
    "\n",
    "for k in range(NUM_PARTS):\n",
    "    \n",
    "    # READ PART OF TEST DATA\n",
    "    print(f'\\nReading test data...')\n",
    "    test = read_file(path = TEST_PATH)\n",
    "    test = test.iloc[skip_rows:skip_rows+rows[k]]\n",
    "    skip_rows += rows[k]\n",
    "    print(f'=> Test part {k+1} has shape', test.shape )\n",
    "    \n",
    "    # PROCESS AND FEATURE ENGINEER PART OF TEST DATA\n",
    "    test = process_and_feature_engineer(test)\n",
    "    if k==NUM_PARTS-1: test = test.loc[customers[skip_cust:]]\n",
    "    else: test = test.loc[customers[skip_cust:skip_cust+num_cust]]\n",
    "    skip_cust += num_cust\n",
    "    \n",
    "    # TEST DATA FOR XGB\n",
    "    X_test = test[FEATURES]\n",
    "    dtest = xgb.DMatrix(data=X_test)\n",
    "    test = test[['P_2_mean']] # reduce memory\n",
    "    del X_test\n",
    "    gc.collect()\n",
    "\n",
    "    # INFER XGB MODELS ON TEST DATA\n",
    "    model = xgb.Booster()\n",
    "    model.load_model(f'XGB_v{VER}_fold0.xgb')\n",
    "    preds = model.predict(dtest)\n",
    "    for f in range(1,FOLDS):\n",
    "        model.load_model(f'XGB_v{VER}_fold{f}.xgb')\n",
    "        preds += model.predict(dtest)\n",
    "    preds /= FOLDS\n",
    "    test_preds.append(preds)\n",
    "\n",
    "    # CLEAN MEMORY\n",
    "    del dtest, model\n",
    "    _ = gc.collect()"
   ]
  },
  {
   "cell_type": "markdown",
   "id": "0ec45731",
   "metadata": {
    "papermill": {
     "duration": 0.013577,
     "end_time": "2022-07-14T17:01:13.012937",
     "exception": false,
     "start_time": "2022-07-14T17:01:12.999360",
     "status": "completed"
    },
    "tags": []
   },
   "source": [
    "# Create Submission CSV"
   ]
  },
  {
   "cell_type": "code",
   "execution_count": 19,
   "id": "fdd10080",
   "metadata": {
    "execution": {
     "iopub.execute_input": "2022-07-14T17:01:13.040962Z",
     "iopub.status.busy": "2022-07-14T17:01:13.040660Z",
     "iopub.status.idle": "2022-07-14T17:01:14.099600Z",
     "shell.execute_reply": "2022-07-14T17:01:14.098586Z"
    },
    "papermill": {
     "duration": 1.075875,
     "end_time": "2022-07-14T17:01:14.102108",
     "exception": false,
     "start_time": "2022-07-14T17:01:13.026233",
     "status": "completed"
    },
    "tags": []
   },
   "outputs": [
    {
     "name": "stdout",
     "output_type": "stream",
     "text": [
      "Submission file shape is (924621, 2)\n"
     ]
    },
    {
     "data": {
      "text/html": [
       "<div>\n",
       "<style scoped>\n",
       "    .dataframe tbody tr th:only-of-type {\n",
       "        vertical-align: middle;\n",
       "    }\n",
       "\n",
       "    .dataframe tbody tr th {\n",
       "        vertical-align: top;\n",
       "    }\n",
       "\n",
       "    .dataframe thead th {\n",
       "        text-align: right;\n",
       "    }\n",
       "</style>\n",
       "<table border=\"1\" class=\"dataframe\">\n",
       "  <thead>\n",
       "    <tr style=\"text-align: right;\">\n",
       "      <th></th>\n",
       "      <th>customer_ID</th>\n",
       "      <th>prediction</th>\n",
       "    </tr>\n",
       "  </thead>\n",
       "  <tbody>\n",
       "    <tr>\n",
       "      <th>0</th>\n",
       "      <td>0f7f94e1247f12d2a38fb2b014d6be7175f51b3b4efe9b...</td>\n",
       "      <td>0.025170</td>\n",
       "    </tr>\n",
       "    <tr>\n",
       "      <th>1</th>\n",
       "      <td>0f8086f7297593825bba8c654ea9d35f661089ce25ed79...</td>\n",
       "      <td>0.089938</td>\n",
       "    </tr>\n",
       "    <tr>\n",
       "      <th>2</th>\n",
       "      <td>0f7fe57b8ce23fdd299b99cbcf7fac47e0cdf6459bb616...</td>\n",
       "      <td>0.089237</td>\n",
       "    </tr>\n",
       "    <tr>\n",
       "      <th>3</th>\n",
       "      <td>0f81168c4911b484975ff222f75321396c546b700fa329...</td>\n",
       "      <td>0.042399</td>\n",
       "    </tr>\n",
       "    <tr>\n",
       "      <th>4</th>\n",
       "      <td>0f7f94e3f0e63573b61dccc9fb3c4091ccc8d283d7b58a...</td>\n",
       "      <td>0.015005</td>\n",
       "    </tr>\n",
       "  </tbody>\n",
       "</table>\n",
       "</div>"
      ],
      "text/plain": [
       "                                         customer_ID  prediction\n",
       "0  0f7f94e1247f12d2a38fb2b014d6be7175f51b3b4efe9b...    0.025170\n",
       "1  0f8086f7297593825bba8c654ea9d35f661089ce25ed79...    0.089938\n",
       "2  0f7fe57b8ce23fdd299b99cbcf7fac47e0cdf6459bb616...    0.089237\n",
       "3  0f81168c4911b484975ff222f75321396c546b700fa329...    0.042399\n",
       "4  0f7f94e3f0e63573b61dccc9fb3c4091ccc8d283d7b58a...    0.015005"
      ]
     },
     "execution_count": 19,
     "metadata": {},
     "output_type": "execute_result"
    }
   ],
   "source": [
    "# WRITE SUBMISSION FILE\n",
    "test_preds = np.concatenate(test_preds)\n",
    "test = cudf.DataFrame(index=customers,data={'prediction':test_preds})\n",
    "sub = cudf.read_csv('../input/amex-default-prediction/sample_submission.csv')[['customer_ID']]\n",
    "sub['customer_ID_hash'] = sub['customer_ID'].str[-16:].str.hex_to_int().astype('int64')\n",
    "sub = sub.set_index('customer_ID_hash')\n",
    "sub = sub.merge(test[['prediction']], left_index=True, right_index=True, how='left')\n",
    "sub = sub.reset_index(drop=True)\n",
    "\n",
    "# DISPLAY PREDICTIONS\n",
    "sub.to_csv(f'submission_xgb_v{VER}.csv',index=False)\n",
    "print('Submission file shape is', sub.shape )\n",
    "sub.head()"
   ]
  },
  {
   "cell_type": "code",
   "execution_count": 20,
   "id": "89bae985",
   "metadata": {
    "execution": {
     "iopub.execute_input": "2022-07-14T17:01:14.130696Z",
     "iopub.status.busy": "2022-07-14T17:01:14.130425Z",
     "iopub.status.idle": "2022-07-14T17:01:14.821032Z",
     "shell.execute_reply": "2022-07-14T17:01:14.820316Z"
    },
    "papermill": {
     "duration": 0.706807,
     "end_time": "2022-07-14T17:01:14.822914",
     "exception": false,
     "start_time": "2022-07-14T17:01:14.116107",
     "status": "completed"
    },
    "tags": []
   },
   "outputs": [
    {
     "data": {
      "image/png": "[encoded data removed]",
      "text/plain": [
       "<Figure size 432x288 with 1 Axes>"
      ]
     },
     "metadata": {
      "needs_background": "light"
     },
     "output_type": "display_data"
    }
   ],
   "source": [
    "# PLOT PREDICTIONS\n",
    "plt.hist(sub.to_pandas().prediction, bins=100)\n",
    "plt.title('Test Predictions')\n",
    "plt.show()"
   ]
  }
 ],
 "metadata": {
  "kernelspec": {
   "display_name": "Python 3",
   "language": "python",
   "name": "python3"
  },
  "language_info": {
   "codemirror_mode": {
    "name": "ipython",
    "version": 3
   },
   "file_extension": ".py",
   "mimetype": "text/x-python",
   "name": "python",
   "nbconvert_exporter": "python",
   "pygments_lexer": "ipython3",
   "version": "3.7.12"
  },
  "papermill": {
   "default_parameters": {},
   "duration": 705.068347,
   "end_time": "2022-07-14T17:01:16.260370",
   "environment_variables": {},
   "exception": null,
   "input_path": "__notebook__.ipynb",
   "output_path": "__notebook__.ipynb",
   "parameters": {},
   "start_time": "2022-07-14T16:49:31.192023",
   "version": "2.3.4"
  }
 },
 "nbformat": 4,
 "nbformat_minor": 5
}
