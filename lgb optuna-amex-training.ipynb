{
 "cells": [
  {
   "cell_type": "markdown",
   "id": "f20196be",
   "metadata": {
    "papermill": {
     "duration": 0.011462,
     "end_time": "2022-08-21T22:09:27.891863",
     "exception": false,
     "start_time": "2022-08-21T22:09:27.880401",
     "status": "completed"
    },
    "tags": []
   },
   "source": [
    "Add features referring to the following\n",
    "https://www.kaggle.com/code/manavtrivedi/tuffline-plotly-amex?scriptVersionId=102868130"
   ]
  },
  {
   "cell_type": "markdown",
   "id": "0ab96e3b",
   "metadata": {
    "papermill": {
     "duration": 0.008503,
     "end_time": "2022-08-21T22:09:27.909924",
     "exception": false,
     "start_time": "2022-08-21T22:09:27.901421",
     "status": "completed"
    },
    "tags": []
   },
   "source": [
    "# **Import**"
   ]
  },
  {
   "cell_type": "code",
   "execution_count": 1,
   "id": "395dbb42",
   "metadata": {
    "execution": {
     "iopub.execute_input": "2022-08-21T22:09:27.930687Z",
     "iopub.status.busy": "2022-08-21T22:09:27.930163Z",
     "iopub.status.idle": "2022-08-21T22:09:29.093211Z",
     "shell.execute_reply": "2022-08-21T22:09:29.091692Z"
    },
    "papermill": {
     "duration": 1.178445,
     "end_time": "2022-08-21T22:09:29.096738",
     "exception": false,
     "start_time": "2022-08-21T22:09:27.918293",
     "status": "completed"
    },
    "tags": []
   },
   "outputs": [],
   "source": [
    "import numpy as np\n",
    "import pandas as pd\n",
    "import seaborn as sns\n",
    "import matplotlib.pyplot as plt\n",
    "\n",
    "%matplotlib inline\n",
    "import random\n",
    "\n",
    "import warnings \n",
    "warnings.filterwarnings('ignore')"
   ]
  },
  {
   "cell_type": "code",
   "execution_count": 2,
   "id": "b78ebd0e",
   "metadata": {
    "execution": {
     "iopub.execute_input": "2022-08-21T22:09:29.115493Z",
     "iopub.status.busy": "2022-08-21T22:09:29.115066Z",
     "iopub.status.idle": "2022-08-21T22:09:56.424167Z",
     "shell.execute_reply": "2022-08-21T22:09:56.422962Z"
    },
    "papermill": {
     "duration": 27.322313,
     "end_time": "2022-08-21T22:09:56.427700",
     "exception": false,
     "start_time": "2022-08-21T22:09:29.105387",
     "status": "completed"
    },
    "tags": []
   },
   "outputs": [],
   "source": [
    "df_train = pd.read_feather('../input/amexfeather/train_data.ftr')\n",
    "df_train = df_train.groupby('customer_ID').tail(1).set_index('customer_ID')"
   ]
  },
  {
   "cell_type": "code",
   "execution_count": 3,
   "id": "94724dff",
   "metadata": {
    "execution": {
     "iopub.execute_input": "2022-08-21T22:09:56.446287Z",
     "iopub.status.busy": "2022-08-21T22:09:56.445883Z",
     "iopub.status.idle": "2022-08-21T22:09:56.454808Z",
     "shell.execute_reply": "2022-08-21T22:09:56.453650Z"
    },
    "papermill": {
     "duration": 0.022366,
     "end_time": "2022-08-21T22:09:56.458374",
     "exception": false,
     "start_time": "2022-08-21T22:09:56.436008",
     "status": "completed"
    },
    "tags": []
   },
   "outputs": [
    {
     "data": {
      "text/plain": [
       "(458913, 190)"
      ]
     },
     "execution_count": 3,
     "metadata": {},
     "output_type": "execute_result"
    }
   ],
   "source": [
    "df_train.shape"
   ]
  },
  {
   "cell_type": "code",
   "execution_count": 4,
   "id": "f0bcd07d",
   "metadata": {
    "execution": {
     "iopub.execute_input": "2022-08-21T22:09:56.476866Z",
     "iopub.status.busy": "2022-08-21T22:09:56.476447Z",
     "iopub.status.idle": "2022-08-21T22:09:57.744021Z",
     "shell.execute_reply": "2022-08-21T22:09:57.742817Z"
    },
    "papermill": {
     "duration": 1.279807,
     "end_time": "2022-08-21T22:09:57.746538",
     "exception": false,
     "start_time": "2022-08-21T22:09:56.466731",
     "status": "completed"
    },
    "tags": []
   },
   "outputs": [
    {
     "data": {
      "text/plain": [
       "(458913, 156)"
      ]
     },
     "execution_count": 4,
     "metadata": {},
     "output_type": "execute_result"
    }
   ],
   "source": [
    "df_train = df_train.dropna(axis=1, thresh=int(0.80 * len(df_train)))\n",
    "df_train.shape"
   ]
  },
  {
   "cell_type": "markdown",
   "id": "ed2eb2c0",
   "metadata": {
    "papermill": {
     "duration": 0.008046,
     "end_time": "2022-08-21T22:09:57.762941",
     "exception": false,
     "start_time": "2022-08-21T22:09:57.754895",
     "status": "completed"
    },
    "tags": []
   },
   "source": [
    "# **Feature**"
   ]
  },
  {
   "cell_type": "code",
   "execution_count": 5,
   "id": "ba001b1f",
   "metadata": {
    "execution": {
     "iopub.execute_input": "2022-08-21T22:09:57.783011Z",
     "iopub.status.busy": "2022-08-21T22:09:57.782359Z",
     "iopub.status.idle": "2022-08-21T22:09:58.115827Z",
     "shell.execute_reply": "2022-08-21T22:09:58.114493Z"
    },
    "papermill": {
     "duration": 0.346425,
     "end_time": "2022-08-21T22:09:58.118884",
     "exception": false,
     "start_time": "2022-08-21T22:09:57.772459",
     "status": "completed"
    },
    "tags": []
   },
   "outputs": [
    {
     "name": "stdout",
     "output_type": "stream",
     "text": [
      "(458913, 169)\n"
     ]
    }
   ],
   "source": [
    "df_train[\"c_PD_239\"]=df_train[\"D_39\"]/(df_train[\"P_2\"]*(-1)+0.0001)\n",
    "df_train[\"c_PB_29\"]=df_train[\"P_2\"]*(-1)/(df_train[\"B_9\"]*(1)+0.0001)\n",
    "df_train[\"c_PR_21\"]=df_train[\"P_2\"]*(-1)/(df_train[\"R_1\"]+0.0001)\n",
    "\n",
    "df_train[\"c_BBBB\"]=(df_train[\"B_9\"]+0.001)/(df_train[\"B_23\"]+df_train[\"B_3\"]+0.0001)\n",
    "df_train[\"c_BBBB1\"]=(df_train[\"B_33\"]*(-1))+(df_train[\"B_18\"]*(-1)+df_train[\"S_25\"]*(1)+0.0001)\n",
    "df_train[\"c_BBBB2\"]=(df_train[\"B_19\"]+df_train[\"B_20\"]+df_train[\"B_4\"]+0.0001)\n",
    "\n",
    "df_train[\"c_RRR0\"]=(df_train[\"R_3\"]+0.001)/(df_train[\"R_2\"]+df_train[\"R_4\"]+0.0001)\n",
    "df_train[\"c_RRR1\"]=(df_train[\"D_62\"]+0.001)/(df_train[\"D_112\"]+df_train[\"R_27\"]+0.0001)\n",
    "\n",
    "df_train[\"c_PD_348\"]=df_train[\"D_48\"]/(df_train[\"P_3\"]+0.0001)\n",
    "df_train[\"c_PD_355\"]=df_train[\"D_55\"]/(df_train[\"P_3\"]+0.0001)\n",
    "\n",
    "df_train[\"c_PD_439\"]=df_train[\"D_39\"]/(df_train[\"P_4\"]+0.0001)\n",
    "df_train[\"c_PB_49\"]=df_train[\"B_9\"]/(df_train[\"P_4\"]+0.0001)\n",
    "df_train[\"c_PR_41\"]=df_train[\"R_1\"]/(df_train[\"P_4\"]+0.0001)\n",
    "print(df_train.shape)"
   ]
  },
  {
   "cell_type": "code",
   "execution_count": 6,
   "id": "54423211",
   "metadata": {
    "execution": {
     "iopub.execute_input": "2022-08-21T22:09:58.140174Z",
     "iopub.status.busy": "2022-08-21T22:09:58.139491Z",
     "iopub.status.idle": "2022-08-21T22:09:58.448482Z",
     "shell.execute_reply": "2022-08-21T22:09:58.447343Z"
    },
    "papermill": {
     "duration": 0.321756,
     "end_time": "2022-08-21T22:09:58.451180",
     "exception": false,
     "start_time": "2022-08-21T22:09:58.129424",
     "status": "completed"
    },
    "tags": []
   },
   "outputs": [
    {
     "data": {
      "text/html": [
       "<div>\n",
       "<style scoped>\n",
       "    .dataframe tbody tr th:only-of-type {\n",
       "        vertical-align: middle;\n",
       "    }\n",
       "\n",
       "    .dataframe tbody tr th {\n",
       "        vertical-align: top;\n",
       "    }\n",
       "\n",
       "    .dataframe thead th {\n",
       "        text-align: right;\n",
       "    }\n",
       "</style>\n",
       "<table border=\"1\" class=\"dataframe\">\n",
       "  <thead>\n",
       "    <tr style=\"text-align: right;\">\n",
       "      <th></th>\n",
       "      <th>S_2</th>\n",
       "      <th>P_2</th>\n",
       "      <th>D_39</th>\n",
       "      <th>B_1</th>\n",
       "      <th>B_2</th>\n",
       "      <th>R_1</th>\n",
       "      <th>S_3</th>\n",
       "      <th>D_41</th>\n",
       "      <th>B_3</th>\n",
       "      <th>D_44</th>\n",
       "      <th>...</th>\n",
       "      <th>c_BBBB</th>\n",
       "      <th>c_BBBB1</th>\n",
       "      <th>c_BBBB2</th>\n",
       "      <th>c_RRR0</th>\n",
       "      <th>c_RRR1</th>\n",
       "      <th>c_PD_348</th>\n",
       "      <th>c_PD_355</th>\n",
       "      <th>c_PD_439</th>\n",
       "      <th>c_PB_49</th>\n",
       "      <th>c_PR_41</th>\n",
       "    </tr>\n",
       "    <tr>\n",
       "      <th>customer_ID</th>\n",
       "      <th></th>\n",
       "      <th></th>\n",
       "      <th></th>\n",
       "      <th></th>\n",
       "      <th></th>\n",
       "      <th></th>\n",
       "      <th></th>\n",
       "      <th></th>\n",
       "      <th></th>\n",
       "      <th></th>\n",
       "      <th></th>\n",
       "      <th></th>\n",
       "      <th></th>\n",
       "      <th></th>\n",
       "      <th></th>\n",
       "      <th></th>\n",
       "      <th></th>\n",
       "      <th></th>\n",
       "      <th></th>\n",
       "      <th></th>\n",
       "      <th></th>\n",
       "    </tr>\n",
       "  </thead>\n",
       "  <tbody>\n",
       "    <tr>\n",
       "      <th>0000099d6bd597052cdcda90ffabf56573fe9d7c79be5fbac11a8ed792feb62a</th>\n",
       "      <td>2018-03-13</td>\n",
       "      <td>0.934570</td>\n",
       "      <td>0.009117</td>\n",
       "      <td>0.009384</td>\n",
       "      <td>1.007812</td>\n",
       "      <td>0.006104</td>\n",
       "      <td>0.135010</td>\n",
       "      <td>0.001604</td>\n",
       "      <td>0.007175</td>\n",
       "      <td>0.003258</td>\n",
       "      <td>...</td>\n",
       "      <td>0.221191</td>\n",
       "      <td>-1.042969</td>\n",
       "      <td>0.083862</td>\n",
       "      <td>0.064148</td>\n",
       "      <td>0.222046</td>\n",
       "      <td>0.305664</td>\n",
       "      <td>0.297607</td>\n",
       "      <td>1.368164</td>\n",
       "      <td>1.430664</td>\n",
       "      <td>0.916016</td>\n",
       "    </tr>\n",
       "    <tr>\n",
       "      <th>00000fd6641609c6ece5454664794f0340ad84dddce9a267a310b5ae68e9d8e5</th>\n",
       "      <td>2018-03-25</td>\n",
       "      <td>0.880371</td>\n",
       "      <td>0.178101</td>\n",
       "      <td>0.034698</td>\n",
       "      <td>1.003906</td>\n",
       "      <td>0.006912</td>\n",
       "      <td>0.165527</td>\n",
       "      <td>0.005550</td>\n",
       "      <td>0.005070</td>\n",
       "      <td>0.008781</td>\n",
       "      <td>...</td>\n",
       "      <td>0.700195</td>\n",
       "      <td>-1.027344</td>\n",
       "      <td>0.033081</td>\n",
       "      <td>12.320312</td>\n",
       "      <td>0.116577</td>\n",
       "      <td>0.025742</td>\n",
       "      <td>0.063232</td>\n",
       "      <td>37.437500</td>\n",
       "      <td>2.716797</td>\n",
       "      <td>1.453125</td>\n",
       "    </tr>\n",
       "    <tr>\n",
       "      <th>00001b22f846c82c51f6e3958ccd81970162bae8b007e80662ef27519fcc18c1</th>\n",
       "      <td>2018-03-12</td>\n",
       "      <td>0.880859</td>\n",
       "      <td>0.009705</td>\n",
       "      <td>0.004284</td>\n",
       "      <td>0.812500</td>\n",
       "      <td>0.006451</td>\n",
       "      <td>NaN</td>\n",
       "      <td>0.003796</td>\n",
       "      <td>0.007195</td>\n",
       "      <td>0.000628</td>\n",
       "      <td>...</td>\n",
       "      <td>0.377197</td>\n",
       "      <td>-1.032227</td>\n",
       "      <td>0.039948</td>\n",
       "      <td>1.926758</td>\n",
       "      <td>0.218750</td>\n",
       "      <td>0.127808</td>\n",
       "      <td>0.157349</td>\n",
       "      <td>3.468750</td>\n",
       "      <td>3.357422</td>\n",
       "      <td>2.304688</td>\n",
       "    </tr>\n",
       "    <tr>\n",
       "      <th>000041bdba6ecadd89a52d11886e8eaaec9325906c9723355abb5ca523658edc</th>\n",
       "      <td>2018-03-29</td>\n",
       "      <td>0.621582</td>\n",
       "      <td>0.001082</td>\n",
       "      <td>0.012566</td>\n",
       "      <td>1.005859</td>\n",
       "      <td>0.007828</td>\n",
       "      <td>0.287842</td>\n",
       "      <td>0.004532</td>\n",
       "      <td>0.009941</td>\n",
       "      <td>0.007793</td>\n",
       "      <td>...</td>\n",
       "      <td>1.425781</td>\n",
       "      <td>-1.041992</td>\n",
       "      <td>0.023605</td>\n",
       "      <td>15.953125</td>\n",
       "      <td>0.216919</td>\n",
       "      <td>NaN</td>\n",
       "      <td>0.031830</td>\n",
       "      <td>0.135254</td>\n",
       "      <td>2.564453</td>\n",
       "      <td>0.978027</td>\n",
       "    </tr>\n",
       "    <tr>\n",
       "      <th>00007889e4fcd2614b6cbe7f8f3d2e5c728eca32d9eb8ad51ca8b8c4a24cefed</th>\n",
       "      <td>2018-03-30</td>\n",
       "      <td>0.872070</td>\n",
       "      <td>0.005573</td>\n",
       "      <td>0.007679</td>\n",
       "      <td>0.815918</td>\n",
       "      <td>0.001247</td>\n",
       "      <td>NaN</td>\n",
       "      <td>0.000231</td>\n",
       "      <td>0.005527</td>\n",
       "      <td>0.002436</td>\n",
       "      <td>...</td>\n",
       "      <td>0.033325</td>\n",
       "      <td>-0.567383</td>\n",
       "      <td>0.284912</td>\n",
       "      <td>0.266113</td>\n",
       "      <td>0.210327</td>\n",
       "      <td>0.570312</td>\n",
       "      <td>0.445557</td>\n",
       "      <td>0.599121</td>\n",
       "      <td>0.433105</td>\n",
       "      <td>0.134155</td>\n",
       "    </tr>\n",
       "    <tr>\n",
       "      <th>...</th>\n",
       "      <td>...</td>\n",
       "      <td>...</td>\n",
       "      <td>...</td>\n",
       "      <td>...</td>\n",
       "      <td>...</td>\n",
       "      <td>...</td>\n",
       "      <td>...</td>\n",
       "      <td>...</td>\n",
       "      <td>...</td>\n",
       "      <td>...</td>\n",
       "      <td>...</td>\n",
       "      <td>...</td>\n",
       "      <td>...</td>\n",
       "      <td>...</td>\n",
       "      <td>...</td>\n",
       "      <td>...</td>\n",
       "      <td>...</td>\n",
       "      <td>...</td>\n",
       "      <td>...</td>\n",
       "      <td>...</td>\n",
       "      <td>...</td>\n",
       "    </tr>\n",
       "    <tr>\n",
       "      <th>ffff41c8a52833b56430603969b9ca48d208e7c192c6a4081a6acc28cf4f8af7</th>\n",
       "      <td>2018-03-31</td>\n",
       "      <td>0.844238</td>\n",
       "      <td>0.447510</td>\n",
       "      <td>0.028519</td>\n",
       "      <td>1.009766</td>\n",
       "      <td>0.001928</td>\n",
       "      <td>0.128662</td>\n",
       "      <td>0.003483</td>\n",
       "      <td>0.005894</td>\n",
       "      <td>0.002281</td>\n",
       "      <td>...</td>\n",
       "      <td>5.476562</td>\n",
       "      <td>-1.033203</td>\n",
       "      <td>0.061218</td>\n",
       "      <td>59.000000</td>\n",
       "      <td>0.228638</td>\n",
       "      <td>0.110352</td>\n",
       "      <td>0.066528</td>\n",
       "      <td>73.625000</td>\n",
       "      <td>28.000000</td>\n",
       "      <td>0.317139</td>\n",
       "    </tr>\n",
       "    <tr>\n",
       "      <th>ffff518bb2075e4816ee3fe9f3b152c57fc0e6f01bf7fdd3e5b57cfcbee30286</th>\n",
       "      <td>2018-03-22</td>\n",
       "      <td>0.831055</td>\n",
       "      <td>0.033661</td>\n",
       "      <td>0.292480</td>\n",
       "      <td>0.055664</td>\n",
       "      <td>0.006954</td>\n",
       "      <td>NaN</td>\n",
       "      <td>0.005791</td>\n",
       "      <td>0.233032</td>\n",
       "      <td>0.132202</td>\n",
       "      <td>...</td>\n",
       "      <td>0.290527</td>\n",
       "      <td>0.877441</td>\n",
       "      <td>2.000000</td>\n",
       "      <td>7.410156</td>\n",
       "      <td>0.047241</td>\n",
       "      <td>0.304688</td>\n",
       "      <td>0.259277</td>\n",
       "      <td>13.007812</td>\n",
       "      <td>55.312500</td>\n",
       "      <td>2.687500</td>\n",
       "    </tr>\n",
       "    <tr>\n",
       "      <th>ffff9984b999fccb2b6127635ed0736dda94e544e67e026eee4d20f680639ff6</th>\n",
       "      <td>2018-03-07</td>\n",
       "      <td>0.800293</td>\n",
       "      <td>0.267090</td>\n",
       "      <td>0.020569</td>\n",
       "      <td>1.006836</td>\n",
       "      <td>0.000957</td>\n",
       "      <td>0.066650</td>\n",
       "      <td>0.007423</td>\n",
       "      <td>0.006313</td>\n",
       "      <td>0.001022</td>\n",
       "      <td>...</td>\n",
       "      <td>1.083008</td>\n",
       "      <td>-1.031250</td>\n",
       "      <td>0.088318</td>\n",
       "      <td>0.613281</td>\n",
       "      <td>0.111572</td>\n",
       "      <td>0.185669</td>\n",
       "      <td>0.173950</td>\n",
       "      <td>38.562500</td>\n",
       "      <td>6.703125</td>\n",
       "      <td>0.138184</td>\n",
       "    </tr>\n",
       "    <tr>\n",
       "      <th>ffffa5c46bc8de74f5a4554e74e239c8dee6b9baf388145b2c3d01967fcce461</th>\n",
       "      <td>2018-03-23</td>\n",
       "      <td>0.753906</td>\n",
       "      <td>0.008621</td>\n",
       "      <td>0.015839</td>\n",
       "      <td>0.714355</td>\n",
       "      <td>0.000993</td>\n",
       "      <td>0.408936</td>\n",
       "      <td>0.003391</td>\n",
       "      <td>0.050049</td>\n",
       "      <td>0.133057</td>\n",
       "      <td>...</td>\n",
       "      <td>0.055756</td>\n",
       "      <td>0.504883</td>\n",
       "      <td>0.426758</td>\n",
       "      <td>0.144165</td>\n",
       "      <td>0.156250</td>\n",
       "      <td>0.718262</td>\n",
       "      <td>0.611816</td>\n",
       "      <td>3.857422</td>\n",
       "      <td>7.378906</td>\n",
       "      <td>0.444092</td>\n",
       "    </tr>\n",
       "    <tr>\n",
       "      <th>fffff1d38b785cef84adeace64f8f83db3a0c31e8d92eaba8b115f71cab04681</th>\n",
       "      <td>2018-03-14</td>\n",
       "      <td>0.981934</td>\n",
       "      <td>0.002474</td>\n",
       "      <td>0.000077</td>\n",
       "      <td>0.992676</td>\n",
       "      <td>0.000809</td>\n",
       "      <td>0.119141</td>\n",
       "      <td>0.003286</td>\n",
       "      <td>0.014091</td>\n",
       "      <td>0.006794</td>\n",
       "      <td>...</td>\n",
       "      <td>0.092651</td>\n",
       "      <td>-0.719727</td>\n",
       "      <td>0.033356</td>\n",
       "      <td>3.203125</td>\n",
       "      <td>0.039612</td>\n",
       "      <td>0.030350</td>\n",
       "      <td>0.041870</td>\n",
       "      <td>0.318115</td>\n",
       "      <td>0.254150</td>\n",
       "      <td>0.104065</td>\n",
       "    </tr>\n",
       "  </tbody>\n",
       "</table>\n",
       "<p>458913 rows × 169 columns</p>\n",
       "</div>"
      ],
      "text/plain": [
       "                                                          S_2       P_2  \\\n",
       "customer_ID                                                               \n",
       "0000099d6bd597052cdcda90ffabf56573fe9d7c79be5fb... 2018-03-13  0.934570   \n",
       "00000fd6641609c6ece5454664794f0340ad84dddce9a26... 2018-03-25  0.880371   \n",
       "00001b22f846c82c51f6e3958ccd81970162bae8b007e80... 2018-03-12  0.880859   \n",
       "000041bdba6ecadd89a52d11886e8eaaec9325906c97233... 2018-03-29  0.621582   \n",
       "00007889e4fcd2614b6cbe7f8f3d2e5c728eca32d9eb8ad... 2018-03-30  0.872070   \n",
       "...                                                       ...       ...   \n",
       "ffff41c8a52833b56430603969b9ca48d208e7c192c6a40... 2018-03-31  0.844238   \n",
       "ffff518bb2075e4816ee3fe9f3b152c57fc0e6f01bf7fdd... 2018-03-22  0.831055   \n",
       "ffff9984b999fccb2b6127635ed0736dda94e544e67e026... 2018-03-07  0.800293   \n",
       "ffffa5c46bc8de74f5a4554e74e239c8dee6b9baf388145... 2018-03-23  0.753906   \n",
       "fffff1d38b785cef84adeace64f8f83db3a0c31e8d92eab... 2018-03-14  0.981934   \n",
       "\n",
       "                                                        D_39       B_1  \\\n",
       "customer_ID                                                              \n",
       "0000099d6bd597052cdcda90ffabf56573fe9d7c79be5fb...  0.009117  0.009384   \n",
       "00000fd6641609c6ece5454664794f0340ad84dddce9a26...  0.178101  0.034698   \n",
       "00001b22f846c82c51f6e3958ccd81970162bae8b007e80...  0.009705  0.004284   \n",
       "000041bdba6ecadd89a52d11886e8eaaec9325906c97233...  0.001082  0.012566   \n",
       "00007889e4fcd2614b6cbe7f8f3d2e5c728eca32d9eb8ad...  0.005573  0.007679   \n",
       "...                                                      ...       ...   \n",
       "ffff41c8a52833b56430603969b9ca48d208e7c192c6a40...  0.447510  0.028519   \n",
       "ffff518bb2075e4816ee3fe9f3b152c57fc0e6f01bf7fdd...  0.033661  0.292480   \n",
       "ffff9984b999fccb2b6127635ed0736dda94e544e67e026...  0.267090  0.020569   \n",
       "ffffa5c46bc8de74f5a4554e74e239c8dee6b9baf388145...  0.008621  0.015839   \n",
       "fffff1d38b785cef84adeace64f8f83db3a0c31e8d92eab...  0.002474  0.000077   \n",
       "\n",
       "                                                         B_2       R_1  \\\n",
       "customer_ID                                                              \n",
       "0000099d6bd597052cdcda90ffabf56573fe9d7c79be5fb...  1.007812  0.006104   \n",
       "00000fd6641609c6ece5454664794f0340ad84dddce9a26...  1.003906  0.006912   \n",
       "00001b22f846c82c51f6e3958ccd81970162bae8b007e80...  0.812500  0.006451   \n",
       "000041bdba6ecadd89a52d11886e8eaaec9325906c97233...  1.005859  0.007828   \n",
       "00007889e4fcd2614b6cbe7f8f3d2e5c728eca32d9eb8ad...  0.815918  0.001247   \n",
       "...                                                      ...       ...   \n",
       "ffff41c8a52833b56430603969b9ca48d208e7c192c6a40...  1.009766  0.001928   \n",
       "ffff518bb2075e4816ee3fe9f3b152c57fc0e6f01bf7fdd...  0.055664  0.006954   \n",
       "ffff9984b999fccb2b6127635ed0736dda94e544e67e026...  1.006836  0.000957   \n",
       "ffffa5c46bc8de74f5a4554e74e239c8dee6b9baf388145...  0.714355  0.000993   \n",
       "fffff1d38b785cef84adeace64f8f83db3a0c31e8d92eab...  0.992676  0.000809   \n",
       "\n",
       "                                                         S_3      D_41  \\\n",
       "customer_ID                                                              \n",
       "0000099d6bd597052cdcda90ffabf56573fe9d7c79be5fb...  0.135010  0.001604   \n",
       "00000fd6641609c6ece5454664794f0340ad84dddce9a26...  0.165527  0.005550   \n",
       "00001b22f846c82c51f6e3958ccd81970162bae8b007e80...       NaN  0.003796   \n",
       "000041bdba6ecadd89a52d11886e8eaaec9325906c97233...  0.287842  0.004532   \n",
       "00007889e4fcd2614b6cbe7f8f3d2e5c728eca32d9eb8ad...       NaN  0.000231   \n",
       "...                                                      ...       ...   \n",
       "ffff41c8a52833b56430603969b9ca48d208e7c192c6a40...  0.128662  0.003483   \n",
       "ffff518bb2075e4816ee3fe9f3b152c57fc0e6f01bf7fdd...       NaN  0.005791   \n",
       "ffff9984b999fccb2b6127635ed0736dda94e544e67e026...  0.066650  0.007423   \n",
       "ffffa5c46bc8de74f5a4554e74e239c8dee6b9baf388145...  0.408936  0.003391   \n",
       "fffff1d38b785cef84adeace64f8f83db3a0c31e8d92eab...  0.119141  0.003286   \n",
       "\n",
       "                                                         B_3      D_44  ...  \\\n",
       "customer_ID                                                             ...   \n",
       "0000099d6bd597052cdcda90ffabf56573fe9d7c79be5fb...  0.007175  0.003258  ...   \n",
       "00000fd6641609c6ece5454664794f0340ad84dddce9a26...  0.005070  0.008781  ...   \n",
       "00001b22f846c82c51f6e3958ccd81970162bae8b007e80...  0.007195  0.000628  ...   \n",
       "000041bdba6ecadd89a52d11886e8eaaec9325906c97233...  0.009941  0.007793  ...   \n",
       "00007889e4fcd2614b6cbe7f8f3d2e5c728eca32d9eb8ad...  0.005527  0.002436  ...   \n",
       "...                                                      ...       ...  ...   \n",
       "ffff41c8a52833b56430603969b9ca48d208e7c192c6a40...  0.005894  0.002281  ...   \n",
       "ffff518bb2075e4816ee3fe9f3b152c57fc0e6f01bf7fdd...  0.233032  0.132202  ...   \n",
       "ffff9984b999fccb2b6127635ed0736dda94e544e67e026...  0.006313  0.001022  ...   \n",
       "ffffa5c46bc8de74f5a4554e74e239c8dee6b9baf388145...  0.050049  0.133057  ...   \n",
       "fffff1d38b785cef84adeace64f8f83db3a0c31e8d92eab...  0.014091  0.006794  ...   \n",
       "\n",
       "                                                      c_BBBB   c_BBBB1  \\\n",
       "customer_ID                                                              \n",
       "0000099d6bd597052cdcda90ffabf56573fe9d7c79be5fb...  0.221191 -1.042969   \n",
       "00000fd6641609c6ece5454664794f0340ad84dddce9a26...  0.700195 -1.027344   \n",
       "00001b22f846c82c51f6e3958ccd81970162bae8b007e80...  0.377197 -1.032227   \n",
       "000041bdba6ecadd89a52d11886e8eaaec9325906c97233...  1.425781 -1.041992   \n",
       "00007889e4fcd2614b6cbe7f8f3d2e5c728eca32d9eb8ad...  0.033325 -0.567383   \n",
       "...                                                      ...       ...   \n",
       "ffff41c8a52833b56430603969b9ca48d208e7c192c6a40...  5.476562 -1.033203   \n",
       "ffff518bb2075e4816ee3fe9f3b152c57fc0e6f01bf7fdd...  0.290527  0.877441   \n",
       "ffff9984b999fccb2b6127635ed0736dda94e544e67e026...  1.083008 -1.031250   \n",
       "ffffa5c46bc8de74f5a4554e74e239c8dee6b9baf388145...  0.055756  0.504883   \n",
       "fffff1d38b785cef84adeace64f8f83db3a0c31e8d92eab...  0.092651 -0.719727   \n",
       "\n",
       "                                                     c_BBBB2     c_RRR0  \\\n",
       "customer_ID                                                               \n",
       "0000099d6bd597052cdcda90ffabf56573fe9d7c79be5fb...  0.083862   0.064148   \n",
       "00000fd6641609c6ece5454664794f0340ad84dddce9a26...  0.033081  12.320312   \n",
       "00001b22f846c82c51f6e3958ccd81970162bae8b007e80...  0.039948   1.926758   \n",
       "000041bdba6ecadd89a52d11886e8eaaec9325906c97233...  0.023605  15.953125   \n",
       "00007889e4fcd2614b6cbe7f8f3d2e5c728eca32d9eb8ad...  0.284912   0.266113   \n",
       "...                                                      ...        ...   \n",
       "ffff41c8a52833b56430603969b9ca48d208e7c192c6a40...  0.061218  59.000000   \n",
       "ffff518bb2075e4816ee3fe9f3b152c57fc0e6f01bf7fdd...  2.000000   7.410156   \n",
       "ffff9984b999fccb2b6127635ed0736dda94e544e67e026...  0.088318   0.613281   \n",
       "ffffa5c46bc8de74f5a4554e74e239c8dee6b9baf388145...  0.426758   0.144165   \n",
       "fffff1d38b785cef84adeace64f8f83db3a0c31e8d92eab...  0.033356   3.203125   \n",
       "\n",
       "                                                      c_RRR1  c_PD_348  \\\n",
       "customer_ID                                                              \n",
       "0000099d6bd597052cdcda90ffabf56573fe9d7c79be5fb...  0.222046  0.305664   \n",
       "00000fd6641609c6ece5454664794f0340ad84dddce9a26...  0.116577  0.025742   \n",
       "00001b22f846c82c51f6e3958ccd81970162bae8b007e80...  0.218750  0.127808   \n",
       "000041bdba6ecadd89a52d11886e8eaaec9325906c97233...  0.216919       NaN   \n",
       "00007889e4fcd2614b6cbe7f8f3d2e5c728eca32d9eb8ad...  0.210327  0.570312   \n",
       "...                                                      ...       ...   \n",
       "ffff41c8a52833b56430603969b9ca48d208e7c192c6a40...  0.228638  0.110352   \n",
       "ffff518bb2075e4816ee3fe9f3b152c57fc0e6f01bf7fdd...  0.047241  0.304688   \n",
       "ffff9984b999fccb2b6127635ed0736dda94e544e67e026...  0.111572  0.185669   \n",
       "ffffa5c46bc8de74f5a4554e74e239c8dee6b9baf388145...  0.156250  0.718262   \n",
       "fffff1d38b785cef84adeace64f8f83db3a0c31e8d92eab...  0.039612  0.030350   \n",
       "\n",
       "                                                    c_PD_355   c_PD_439  \\\n",
       "customer_ID                                                               \n",
       "0000099d6bd597052cdcda90ffabf56573fe9d7c79be5fb...  0.297607   1.368164   \n",
       "00000fd6641609c6ece5454664794f0340ad84dddce9a26...  0.063232  37.437500   \n",
       "00001b22f846c82c51f6e3958ccd81970162bae8b007e80...  0.157349   3.468750   \n",
       "000041bdba6ecadd89a52d11886e8eaaec9325906c97233...  0.031830   0.135254   \n",
       "00007889e4fcd2614b6cbe7f8f3d2e5c728eca32d9eb8ad...  0.445557   0.599121   \n",
       "...                                                      ...        ...   \n",
       "ffff41c8a52833b56430603969b9ca48d208e7c192c6a40...  0.066528  73.625000   \n",
       "ffff518bb2075e4816ee3fe9f3b152c57fc0e6f01bf7fdd...  0.259277  13.007812   \n",
       "ffff9984b999fccb2b6127635ed0736dda94e544e67e026...  0.173950  38.562500   \n",
       "ffffa5c46bc8de74f5a4554e74e239c8dee6b9baf388145...  0.611816   3.857422   \n",
       "fffff1d38b785cef84adeace64f8f83db3a0c31e8d92eab...  0.041870   0.318115   \n",
       "\n",
       "                                                      c_PB_49   c_PR_41  \n",
       "customer_ID                                                              \n",
       "0000099d6bd597052cdcda90ffabf56573fe9d7c79be5fb...   1.430664  0.916016  \n",
       "00000fd6641609c6ece5454664794f0340ad84dddce9a26...   2.716797  1.453125  \n",
       "00001b22f846c82c51f6e3958ccd81970162bae8b007e80...   3.357422  2.304688  \n",
       "000041bdba6ecadd89a52d11886e8eaaec9325906c97233...   2.564453  0.978027  \n",
       "00007889e4fcd2614b6cbe7f8f3d2e5c728eca32d9eb8ad...   0.433105  0.134155  \n",
       "...                                                       ...       ...  \n",
       "ffff41c8a52833b56430603969b9ca48d208e7c192c6a40...  28.000000  0.317139  \n",
       "ffff518bb2075e4816ee3fe9f3b152c57fc0e6f01bf7fdd...  55.312500  2.687500  \n",
       "ffff9984b999fccb2b6127635ed0736dda94e544e67e026...   6.703125  0.138184  \n",
       "ffffa5c46bc8de74f5a4554e74e239c8dee6b9baf388145...   7.378906  0.444092  \n",
       "fffff1d38b785cef84adeace64f8f83db3a0c31e8d92eab...   0.254150  0.104065  \n",
       "\n",
       "[458913 rows x 169 columns]"
      ]
     },
     "execution_count": 6,
     "metadata": {},
     "output_type": "execute_result"
    }
   ],
   "source": [
    "df_train"
   ]
  },
  {
   "cell_type": "markdown",
   "id": "82a37564",
   "metadata": {
    "papermill": {
     "duration": 0.009241,
     "end_time": "2022-08-21T22:09:58.469964",
     "exception": false,
     "start_time": "2022-08-21T22:09:58.460723",
     "status": "completed"
    },
    "tags": []
   },
   "source": [
    "# **Model&Predict**"
   ]
  },
  {
   "cell_type": "code",
   "execution_count": 7,
   "id": "8ba2e072",
   "metadata": {
    "execution": {
     "iopub.execute_input": "2022-08-21T22:09:58.491234Z",
     "iopub.status.busy": "2022-08-21T22:09:58.490798Z",
     "iopub.status.idle": "2022-08-21T22:10:01.234312Z",
     "shell.execute_reply": "2022-08-21T22:10:01.232623Z"
    },
    "papermill": {
     "duration": 2.757323,
     "end_time": "2022-08-21T22:10:01.237387",
     "exception": false,
     "start_time": "2022-08-21T22:09:58.480064",
     "status": "completed"
    },
    "tags": []
   },
   "outputs": [
    {
     "name": "stdout",
     "output_type": "stream",
     "text": [
      "X_train Training Data Size : 454323\n",
      "X_test Testing Data Size   : 4590\n"
     ]
    }
   ],
   "source": [
    "y = df_train['target']\n",
    "X = df_train.drop(['target'],axis=1).drop(\"S_2\", axis=1)\n",
    "from sklearn.model_selection import train_test_split\n",
    "X_train, X_test, y_train, y_test = train_test_split(X, y, test_size=0.01, random_state=26,stratify=y)\n",
    "\n",
    "print(\"X_train Training Data Size :\",X_train.shape[0])\n",
    "print(\"X_test Testing Data Size   :\",X_test.shape[0])"
   ]
  },
  {
   "cell_type": "code",
   "execution_count": 8,
   "id": "6a4b6620",
   "metadata": {
    "execution": {
     "iopub.execute_input": "2022-08-21T22:10:01.258229Z",
     "iopub.status.busy": "2022-08-21T22:10:01.257804Z",
     "iopub.status.idle": "2022-08-21T22:10:01.263364Z",
     "shell.execute_reply": "2022-08-21T22:10:01.261992Z"
    },
    "papermill": {
     "duration": 0.018669,
     "end_time": "2022-08-21T22:10:01.265798",
     "exception": false,
     "start_time": "2022-08-21T22:10:01.247129",
     "status": "completed"
    },
    "tags": []
   },
   "outputs": [],
   "source": [
    "Xname = X.columns"
   ]
  },
  {
   "cell_type": "code",
   "execution_count": 9,
   "id": "23b55b53",
   "metadata": {
    "execution": {
     "iopub.execute_input": "2022-08-21T22:10:01.286654Z",
     "iopub.status.busy": "2022-08-21T22:10:01.286140Z",
     "iopub.status.idle": "2022-08-21T22:10:03.041994Z",
     "shell.execute_reply": "2022-08-21T22:10:03.040864Z"
    },
    "papermill": {
     "duration": 1.769739,
     "end_time": "2022-08-21T22:10:03.045068",
     "exception": false,
     "start_time": "2022-08-21T22:10:01.275329",
     "status": "completed"
    },
    "tags": []
   },
   "outputs": [
    {
     "data": {
      "text/html": [
       "<style type='text/css'>\n",
       ".datatable table.frame { margin-bottom: 0; }\n",
       ".datatable table.frame thead { border-bottom: none; }\n",
       ".datatable table.frame tr.coltypes td {  color: #FFFFFF;  line-height: 6px;  padding: 0 0.5em;}\n",
       ".datatable .bool    { background: #DDDD99; }\n",
       ".datatable .object  { background: #565656; }\n",
       ".datatable .int     { background: #5D9E5D; }\n",
       ".datatable .float   { background: #4040CC; }\n",
       ".datatable .str     { background: #CC4040; }\n",
       ".datatable .time    { background: #40CC40; }\n",
       ".datatable .row_index {  background: var(--jp-border-color3);  border-right: 1px solid var(--jp-border-color0);  color: var(--jp-ui-font-color3);  font-size: 9px;}\n",
       ".datatable .frame tbody td { text-align: left; }\n",
       ".datatable .frame tr.coltypes .row_index {  background: var(--jp-border-color0);}\n",
       ".datatable th:nth-child(2) { padding-left: 12px; }\n",
       ".datatable .hellipsis {  color: var(--jp-cell-editor-border-color);}\n",
       ".datatable .vellipsis {  background: var(--jp-layout-color0);  color: var(--jp-cell-editor-border-color);}\n",
       ".datatable .na {  color: var(--jp-cell-editor-border-color);  font-size: 80%;}\n",
       ".datatable .sp {  opacity: 0.25;}\n",
       ".datatable .footer { font-size: 9px; }\n",
       ".datatable .frame_dimensions {  background: var(--jp-border-color3);  border-top: 1px solid var(--jp-border-color0);  color: var(--jp-ui-font-color3);  display: inline-block;  opacity: 0.6;  padding: 1px 10px 1px 5px;}\n",
       "</style>\n"
      ],
      "text/plain": [
       "<IPython.core.display.HTML object>"
      ]
     },
     "metadata": {},
     "output_type": "display_data"
    }
   ],
   "source": [
    "import optuna.integration.lightgbm as lgb"
   ]
  },
  {
   "cell_type": "code",
   "execution_count": 10,
   "id": "aac9e347",
   "metadata": {
    "execution": {
     "iopub.execute_input": "2022-08-21T22:10:03.067694Z",
     "iopub.status.busy": "2022-08-21T22:10:03.066843Z",
     "iopub.status.idle": "2022-08-21T22:10:04.737754Z",
     "shell.execute_reply": "2022-08-21T22:10:04.736590Z"
    },
    "papermill": {
     "duration": 1.68556,
     "end_time": "2022-08-21T22:10:04.740670",
     "exception": false,
     "start_time": "2022-08-21T22:10:03.055110",
     "status": "completed"
    },
    "tags": []
   },
   "outputs": [],
   "source": [
    "TEST_SIZE = 0.2\n",
    "RANDOM_STATE = 42\n",
    "# trainのデータセットの3割をモデル学習時のバリデーションデータとして利用する\n",
    "X_train, X_valid, y_train, y_valid = train_test_split(X_train,\n",
    "                                                    y_train,\n",
    "                                                    test_size=TEST_SIZE,\n",
    "                                                    random_state=RANDOM_STATE)\n",
    "\n",
    "# LightGBMを利用するのに必要なフォーマットに変換\n",
    "lgb_train = lgb.Dataset(X_train, y_train)\n",
    "lgb_eval = lgb.Dataset(X_valid, y_valid, reference=lgb_train)"
   ]
  },
  {
   "cell_type": "code",
   "execution_count": 11,
   "id": "837b1cc5",
   "metadata": {
    "execution": {
     "iopub.execute_input": "2022-08-21T22:10:04.761667Z",
     "iopub.status.busy": "2022-08-21T22:10:04.761225Z",
     "iopub.status.idle": "2022-08-21T22:10:04.766407Z",
     "shell.execute_reply": "2022-08-21T22:10:04.765346Z"
    },
    "papermill": {
     "duration": 0.01841,
     "end_time": "2022-08-21T22:10:04.768768",
     "exception": false,
     "start_time": "2022-08-21T22:10:04.750358",
     "status": "completed"
    },
    "tags": []
   },
   "outputs": [],
   "source": [
    "from sklearn.metrics import accuracy_score"
   ]
  },
  {
   "cell_type": "code",
   "execution_count": 12,
   "id": "18b29be9",
   "metadata": {
    "execution": {
     "iopub.execute_input": "2022-08-21T22:10:04.790291Z",
     "iopub.status.busy": "2022-08-21T22:10:04.789298Z",
     "iopub.status.idle": "2022-08-21T22:10:04.793340Z",
     "shell.execute_reply": "2022-08-21T22:10:04.792609Z"
    },
    "papermill": {
     "duration": 0.018685,
     "end_time": "2022-08-21T22:10:04.797188",
     "exception": false,
     "start_time": "2022-08-21T22:10:04.778503",
     "status": "completed"
    },
    "tags": []
   },
   "outputs": [],
   "source": [
    "# import lightgbm as lgb\n",
    "# import optuna.integration.lightgbm as lgb\n",
    "# model = lgb.LGBMClassifier(boosting_type='goss', max_depth=5, random_state=0)"
   ]
  },
  {
   "cell_type": "code",
   "execution_count": 13,
   "id": "4dad1af6",
   "metadata": {
    "execution": {
     "iopub.execute_input": "2022-08-21T22:10:04.819613Z",
     "iopub.status.busy": "2022-08-21T22:10:04.818459Z",
     "iopub.status.idle": "2022-08-21T23:12:41.215389Z",
     "shell.execute_reply": "2022-08-21T23:12:41.213695Z"
    },
    "papermill": {
     "duration": 3756.433763,
     "end_time": "2022-08-21T23:12:41.241460",
     "exception": false,
     "start_time": "2022-08-21T22:10:04.807697",
     "status": "completed"
    },
    "tags": []
   },
   "outputs": [
    {
     "name": "stderr",
     "output_type": "stream",
     "text": [
      "\u001b[32m[I 2022-08-21 22:10:04,822]\u001b[0m A new study created in memory with name: no-name-65d0cdca-9693-4fa6-a6dd-c85a7eea2ea5\u001b[0m\n",
      "feature_fraction, val_score: inf:   0%|          | 0/7 [00:00<?, ?it/s]"
     ]
    },
    {
     "name": "stdout",
     "output_type": "stream",
     "text": [
      "[LightGBM] [Warning] Unknown parameter: verbose_eval\n"
     ]
    },
    {
     "name": "stderr",
     "output_type": "stream",
     "text": [
      "feature_fraction, val_score: 0.149410:  14%|#4        | 1/7 [00:40<04:02, 40.36s/it]\u001b[32m[I 2022-08-21 22:10:45,223]\u001b[0m Trial 0 finished with value: 0.14940984381744948 and parameters: {'feature_fraction': 0.8}. Best is trial 0 with value: 0.14940984381744948.\u001b[0m\n",
      "feature_fraction, val_score: 0.149410:  29%|##8       | 2/7 [01:23<03:30, 42.10s/it]\u001b[32m[I 2022-08-21 22:11:28,530]\u001b[0m Trial 1 finished with value: 0.14967430082710137 and parameters: {'feature_fraction': 0.8999999999999999}. Best is trial 0 with value: 0.14940984381744948.\u001b[0m\n",
      "feature_fraction, val_score: 0.149410:  43%|####2     | 3/7 [02:03<02:44, 41.22s/it]\u001b[32m[I 2022-08-21 22:12:08,701]\u001b[0m Trial 2 finished with value: 0.14990667784402767 and parameters: {'feature_fraction': 0.7}. Best is trial 0 with value: 0.14940984381744948.\u001b[0m\n",
      "feature_fraction, val_score: 0.149410:  57%|#####7    | 4/7 [02:34<01:51, 37.17s/it]\u001b[32m[I 2022-08-21 22:12:39,678]\u001b[0m Trial 3 finished with value: 0.1503324968529552 and parameters: {'feature_fraction': 0.5}. Best is trial 0 with value: 0.14940984381744948.\u001b[0m\n",
      "feature_fraction, val_score: 0.149410:  71%|#######1  | 5/7 [03:20<01:20, 40.33s/it]\u001b[32m[I 2022-08-21 22:13:25,602]\u001b[0m Trial 4 finished with value: 0.1495384317705675 and parameters: {'feature_fraction': 1.0}. Best is trial 0 with value: 0.14940984381744948.\u001b[0m\n",
      "feature_fraction, val_score: 0.149410:  86%|########5 | 6/7 [03:47<00:35, 35.88s/it]\u001b[32m[I 2022-08-21 22:13:52,841]\u001b[0m Trial 5 finished with value: 0.15079369703436152 and parameters: {'feature_fraction': 0.4}. Best is trial 0 with value: 0.14940984381744948.\u001b[0m\n",
      "feature_fraction, val_score: 0.149410: 100%|##########| 7/7 [04:21<00:00, 35.03s/it]\u001b[32m[I 2022-08-21 22:14:26,131]\u001b[0m Trial 6 finished with value: 0.14991391935633797 and parameters: {'feature_fraction': 0.6}. Best is trial 0 with value: 0.14940984381744948.\u001b[0m\n",
      "feature_fraction, val_score: 0.149410: 100%|##########| 7/7 [04:21<00:00, 37.33s/it]\n",
      "num_leaves, val_score: 0.146438:   5%|5         | 1/20 [00:52<16:46, 52.99s/it]\u001b[32m[I 2022-08-21 22:15:19,161]\u001b[0m Trial 7 finished with value: 0.14643818816171583 and parameters: {'num_leaves': 162}. Best is trial 7 with value: 0.14643818816171583.\u001b[0m\n",
      "num_leaves, val_score: 0.146438:  10%|#         | 2/20 [01:41<15:05, 50.33s/it]\u001b[32m[I 2022-08-21 22:16:07,633]\u001b[0m Trial 8 finished with value: 0.14731874454712035 and parameters: {'num_leaves': 78}. Best is trial 7 with value: 0.14643818816171583.\u001b[0m\n",
      "num_leaves, val_score: 0.146241:  15%|#5        | 3/20 [02:39<15:13, 53.73s/it]\u001b[32m[I 2022-08-21 22:17:05,404]\u001b[0m Trial 9 finished with value: 0.146240939201416 and parameters: {'num_leaves': 215}. Best is trial 9 with value: 0.146240939201416.\u001b[0m\n",
      "num_leaves, val_score: 0.146241:  20%|##        | 4/20 [03:30<14:01, 52.61s/it]\u001b[32m[I 2022-08-21 22:17:56,315]\u001b[0m Trial 10 finished with value: 0.14666262618167153 and parameters: {'num_leaves': 119}. Best is trial 9 with value: 0.146240939201416.\u001b[0m\n",
      "num_leaves, val_score: 0.146241:  25%|##5       | 5/20 [04:25<13:24, 53.64s/it]\u001b[32m[I 2022-08-21 22:18:51,757]\u001b[0m Trial 11 finished with value: 0.14629251155763137 and parameters: {'num_leaves': 175}. Best is trial 9 with value: 0.146240939201416.\u001b[0m\n",
      "num_leaves, val_score: 0.146241:  30%|###       | 6/20 [04:51<10:18, 44.18s/it]\u001b[32m[I 2022-08-21 22:19:17,595]\u001b[0m Trial 12 finished with value: 0.16858676496194452 and parameters: {'num_leaves': 4}. Best is trial 9 with value: 0.146240939201416.\u001b[0m\n",
      "num_leaves, val_score: 0.146210:  35%|###5      | 7/20 [05:49<10:33, 48.76s/it]\u001b[32m[I 2022-08-21 22:20:15,782]\u001b[0m Trial 13 finished with value: 0.14621029361857288 and parameters: {'num_leaves': 238}. Best is trial 13 with value: 0.14621029361857288.\u001b[0m\n",
      "num_leaves, val_score: 0.146210:  40%|####      | 8/20 [06:18<08:28, 42.34s/it]\u001b[32m[I 2022-08-21 22:20:44,359]\u001b[0m Trial 14 finished with value: 0.16123106309168878 and parameters: {'num_leaves': 6}. Best is trial 13 with value: 0.14621029361857288.\u001b[0m\n",
      "num_leaves, val_score: 0.146210:  45%|####5     | 9/20 [06:57<07:34, 41.28s/it]\u001b[32m[I 2022-08-21 22:21:23,295]\u001b[0m Trial 15 finished with value: 0.14940984381744948 and parameters: {'num_leaves': 31}. Best is trial 13 with value: 0.14621029361857288.\u001b[0m\n",
      "num_leaves, val_score: 0.146210:  50%|#####     | 10/20 [07:47<07:21, 44.14s/it]\u001b[32m[I 2022-08-21 22:22:13,815]\u001b[0m Trial 16 finished with value: 0.15109962923824904 and parameters: {'num_leaves': 22}. Best is trial 13 with value: 0.14621029361857288.\u001b[0m\n",
      "num_leaves, val_score: 0.145946:  55%|#####5    | 11/20 [08:45<07:15, 48.39s/it]\u001b[32m[I 2022-08-21 22:23:11,848]\u001b[0m Trial 17 finished with value: 0.1459460760875099 and parameters: {'num_leaves': 249}. Best is trial 17 with value: 0.1459460760875099.\u001b[0m\n",
      "num_leaves, val_score: 0.145946:  60%|######    | 12/20 [09:43<06:50, 51.32s/it]\u001b[32m[I 2022-08-21 22:24:09,867]\u001b[0m Trial 18 finished with value: 0.14633868703736752 and parameters: {'num_leaves': 256}. Best is trial 17 with value: 0.1459460760875099.\u001b[0m\n",
      "num_leaves, val_score: 0.145941:  65%|######5   | 13/20 [10:42<06:15, 53.61s/it]\u001b[32m[I 2022-08-21 22:25:08,758]\u001b[0m Trial 19 finished with value: 0.14594068420998232 and parameters: {'num_leaves': 253}. Best is trial 19 with value: 0.14594068420998232.\u001b[0m\n",
      "num_leaves, val_score: 0.145941:  70%|#######   | 14/20 [11:37<05:24, 54.00s/it]\u001b[32m[I 2022-08-21 22:26:03,655]\u001b[0m Trial 20 finished with value: 0.14626050682650962 and parameters: {'num_leaves': 203}. Best is trial 19 with value: 0.14594068420998232.\u001b[0m\n",
      "num_leaves, val_score: 0.145930:  75%|#######5  | 15/20 [12:29<04:26, 53.28s/it]\u001b[32m[I 2022-08-21 22:26:55,259]\u001b[0m Trial 21 finished with value: 0.14593012611786896 and parameters: {'num_leaves': 217}. Best is trial 21 with value: 0.14593012611786896.\u001b[0m\n",
      "num_leaves, val_score: 0.145930:  80%|########  | 16/20 [13:22<03:33, 53.39s/it]\u001b[32m[I 2022-08-21 22:27:48,895]\u001b[0m Trial 22 finished with value: 0.146213139007174 and parameters: {'num_leaves': 198}. Best is trial 21 with value: 0.14593012611786896.\u001b[0m\n",
      "num_leaves, val_score: 0.145930:  85%|########5 | 17/20 [14:15<02:39, 53.11s/it]\u001b[32m[I 2022-08-21 22:28:41,378]\u001b[0m Trial 23 finished with value: 0.14617839228716656 and parameters: {'num_leaves': 139}. Best is trial 21 with value: 0.14593012611786896.\u001b[0m\n",
      "num_leaves, val_score: 0.145930:  90%|######### | 18/20 [15:17<01:51, 55.75s/it]\u001b[32m[I 2022-08-21 22:29:43,253]\u001b[0m Trial 24 finished with value: 0.14609937570136122 and parameters: {'num_leaves': 226}. Best is trial 21 with value: 0.14593012611786896.\u001b[0m\n",
      "num_leaves, val_score: 0.145930:  95%|#########5| 19/20 [16:15<00:56, 56.40s/it]\u001b[32m[I 2022-08-21 22:30:41,176]\u001b[0m Trial 25 finished with value: 0.14635835140136216 and parameters: {'num_leaves': 180}. Best is trial 21 with value: 0.14593012611786896.\u001b[0m\n",
      "num_leaves, val_score: 0.145930: 100%|##########| 20/20 [17:06<00:00, 54.90s/it]\u001b[32m[I 2022-08-21 22:31:32,576]\u001b[0m Trial 26 finished with value: 0.14680802740540688 and parameters: {'num_leaves': 103}. Best is trial 21 with value: 0.14593012611786896.\u001b[0m\n",
      "num_leaves, val_score: 0.145930: 100%|##########| 20/20 [17:06<00:00, 51.32s/it]\n",
      "bagging, val_score: 0.145930:  10%|#         | 1/10 [00:51<07:43, 51.53s/it]\u001b[32m[I 2022-08-21 22:32:24,122]\u001b[0m Trial 27 finished with value: 0.14620289552033303 and parameters: {'bagging_fraction': 0.7396309500704779, 'bagging_freq': 1}. Best is trial 27 with value: 0.14620289552033303.\u001b[0m\n",
      "bagging, val_score: 0.145930:  20%|##        | 2/10 [01:38<06:30, 48.80s/it]\u001b[32m[I 2022-08-21 22:33:11,013]\u001b[0m Trial 28 finished with value: 0.1464777628535447 and parameters: {'bagging_fraction': 0.6140771037079881, 'bagging_freq': 6}. Best is trial 27 with value: 0.14620289552033303.\u001b[0m\n",
      "bagging, val_score: 0.145930:  30%|###       | 3/10 [02:26<05:38, 48.40s/it]\u001b[32m[I 2022-08-21 22:33:58,924]\u001b[0m Trial 29 finished with value: 0.1463106947472587 and parameters: {'bagging_fraction': 0.7115735421267086, 'bagging_freq': 5}. Best is trial 27 with value: 0.14620289552033303.\u001b[0m\n",
      "bagging, val_score: 0.145930:  40%|####      | 4/10 [03:15<04:52, 48.81s/it]\u001b[32m[I 2022-08-21 22:34:48,379]\u001b[0m Trial 30 finished with value: 0.14621379850850091 and parameters: {'bagging_fraction': 0.821172998161354, 'bagging_freq': 5}. Best is trial 27 with value: 0.14620289552033303.\u001b[0m\n",
      "bagging, val_score: 0.145930:  50%|#####     | 5/10 [03:55<03:47, 45.50s/it]\u001b[32m[I 2022-08-21 22:35:28,003]\u001b[0m Trial 31 finished with value: 0.1470144683475927 and parameters: {'bagging_fraction': 0.44208092903852664, 'bagging_freq': 5}. Best is trial 27 with value: 0.14620289552033303.\u001b[0m\n",
      "bagging, val_score: 0.145930:  60%|######    | 6/10 [04:35<02:54, 43.60s/it]\u001b[32m[I 2022-08-21 22:36:07,903]\u001b[0m Trial 32 finished with value: 0.1471333619227522 and parameters: {'bagging_fraction': 0.45703793270117804, 'bagging_freq': 4}. Best is trial 27 with value: 0.14620289552033303.\u001b[0m\n",
      "bagging, val_score: 0.145930:  70%|#######   | 7/10 [05:36<02:27, 49.30s/it]\u001b[32m[I 2022-08-21 22:37:08,937]\u001b[0m Trial 33 finished with value: 0.14630526726895363 and parameters: {'bagging_fraction': 0.9419159408032106, 'bagging_freq': 5}. Best is trial 27 with value: 0.14620289552033303.\u001b[0m\n",
      "bagging, val_score: 0.145930:  80%|########  | 8/10 [06:28<01:40, 50.35s/it]\u001b[32m[I 2022-08-21 22:38:01,528]\u001b[0m Trial 34 finished with value: 0.1463962432432768 and parameters: {'bagging_fraction': 0.6901462309017873, 'bagging_freq': 2}. Best is trial 27 with value: 0.14620289552033303.\u001b[0m\n",
      "bagging, val_score: 0.145930:  90%|######### | 9/10 [07:16<00:49, 49.61s/it]\u001b[32m[I 2022-08-21 22:38:49,510]\u001b[0m Trial 35 finished with value: 0.14672952910333362 and parameters: {'bagging_fraction': 0.5490822950831294, 'bagging_freq': 4}. Best is trial 27 with value: 0.14620289552033303.\u001b[0m\n",
      "bagging, val_score: 0.145930: 100%|##########| 10/10 [08:07<00:00, 49.91s/it]\u001b[32m[I 2022-08-21 22:39:40,086]\u001b[0m Trial 36 finished with value: 0.14661005242797898 and parameters: {'bagging_fraction': 0.5987281849253864, 'bagging_freq': 7}. Best is trial 27 with value: 0.14620289552033303.\u001b[0m\n",
      "bagging, val_score: 0.145930: 100%|##########| 10/10 [08:07<00:00, 48.75s/it]\n",
      "feature_fraction_stage2, val_score: 0.145930:  17%|#6        | 1/6 [00:56<04:44, 56.84s/it]\u001b[32m[I 2022-08-21 22:40:36,941]\u001b[0m Trial 37 finished with value: 0.14634174092587043 and parameters: {'feature_fraction': 0.88}. Best is trial 37 with value: 0.14634174092587043.\u001b[0m\n",
      "feature_fraction_stage2, val_score: 0.145930:  33%|###3      | 2/6 [02:01<04:05, 61.34s/it]\u001b[32m[I 2022-08-21 22:41:41,429]\u001b[0m Trial 38 finished with value: 0.14627094472131139 and parameters: {'feature_fraction': 0.8480000000000001}. Best is trial 38 with value: 0.14627094472131139.\u001b[0m\n",
      "feature_fraction_stage2, val_score: 0.145930:  50%|#####     | 3/6 [02:51<02:48, 56.04s/it]\u001b[32m[I 2022-08-21 22:42:31,163]\u001b[0m Trial 39 finished with value: 0.14615415532619563 and parameters: {'feature_fraction': 0.7520000000000001}. Best is trial 39 with value: 0.14615415532619563.\u001b[0m\n",
      "feature_fraction_stage2, val_score: 0.145930:  67%|######6   | 4/6 [03:48<01:53, 56.76s/it]\u001b[32m[I 2022-08-21 22:43:29,014]\u001b[0m Trial 40 finished with value: 0.14633227519914802 and parameters: {'feature_fraction': 0.8160000000000001}. Best is trial 39 with value: 0.14615415532619563.\u001b[0m\n",
      "feature_fraction_stage2, val_score: 0.145930:  83%|########3 | 5/6 [04:45<00:56, 56.87s/it]\u001b[32m[I 2022-08-21 22:44:26,080]\u001b[0m Trial 41 finished with value: 0.1461144865030192 and parameters: {'feature_fraction': 0.7200000000000001}. Best is trial 41 with value: 0.1461144865030192.\u001b[0m\n",
      "feature_fraction_stage2, val_score: 0.145930: 100%|##########| 6/6 [05:48<00:00, 58.63s/it]\u001b[32m[I 2022-08-21 22:45:28,136]\u001b[0m Trial 42 finished with value: 0.14625103648292348 and parameters: {'feature_fraction': 0.784}. Best is trial 41 with value: 0.1461144865030192.\u001b[0m\n",
      "feature_fraction_stage2, val_score: 0.145930: 100%|##########| 6/6 [05:48<00:00, 58.01s/it]\n",
      "regularization_factors, val_score: 0.145930:   5%|5         | 1/20 [00:58<18:31, 58.49s/it]\u001b[32m[I 2022-08-21 22:46:26,640]\u001b[0m Trial 43 finished with value: 0.1461720962488433 and parameters: {'lambda_l1': 1.1062589339014115e-05, 'lambda_l2': 1.9688575006749713}. Best is trial 43 with value: 0.1461720962488433.\u001b[0m\n",
      "regularization_factors, val_score: 0.145930:  10%|#         | 2/20 [01:54<17:05, 56.97s/it]\u001b[32m[I 2022-08-21 22:47:22,540]\u001b[0m Trial 44 finished with value: 0.1459298826976619 and parameters: {'lambda_l1': 8.398272997716531e-05, 'lambda_l2': 7.977608708548664e-05}. Best is trial 44 with value: 0.1459298826976619.\u001b[0m\n",
      "regularization_factors, val_score: 0.145694:  15%|#5        | 3/20 [03:02<17:33, 61.99s/it]\u001b[32m[I 2022-08-21 22:48:30,501]\u001b[0m Trial 45 finished with value: 0.1456942355725534 and parameters: {'lambda_l1': 0.8083054352399881, 'lambda_l2': 0.0007489494232408235}. Best is trial 45 with value: 0.1456942355725534.\u001b[0m\n",
      "regularization_factors, val_score: 0.145694:  20%|##        | 4/20 [04:11<17:14, 64.64s/it]\u001b[32m[I 2022-08-21 22:49:39,208]\u001b[0m Trial 46 finished with value: 0.14613671538286388 and parameters: {'lambda_l1': 1.6330857742621885e-05, 'lambda_l2': 0.3164280060969945}. Best is trial 45 with value: 0.1456942355725534.\u001b[0m\n",
      "regularization_factors, val_score: 0.145694:  25%|##5       | 5/20 [05:09<15:38, 62.57s/it]\u001b[32m[I 2022-08-21 22:50:38,111]\u001b[0m Trial 47 finished with value: 0.1462946689085062 and parameters: {'lambda_l1': 6.304792860614953e-07, 'lambda_l2': 0.011133392396295695}. Best is trial 45 with value: 0.1456942355725534.\u001b[0m\n",
      "regularization_factors, val_score: 0.145694:  30%|###       | 6/20 [06:10<14:27, 61.97s/it]\u001b[32m[I 2022-08-21 22:51:38,904]\u001b[0m Trial 48 finished with value: 0.14601270703746586 and parameters: {'lambda_l1': 0.0005715397888609226, 'lambda_l2': 0.140958952765674}. Best is trial 45 with value: 0.1456942355725534.\u001b[0m\n",
      "regularization_factors, val_score: 0.145694:  35%|###5      | 7/20 [07:06<12:58, 59.87s/it]\u001b[32m[I 2022-08-21 22:52:34,463]\u001b[0m Trial 49 finished with value: 0.14593001134110745 and parameters: {'lambda_l1': 3.920609393797484e-08, 'lambda_l2': 9.483237225498017e-07}. Best is trial 45 with value: 0.1456942355725534.\u001b[0m\n",
      "regularization_factors, val_score: 0.145694:  40%|####      | 8/20 [08:04<11:53, 59.42s/it]\u001b[32m[I 2022-08-21 22:53:32,922]\u001b[0m Trial 50 finished with value: 0.14619959766720975 and parameters: {'lambda_l1': 0.0007160119956487205, 'lambda_l2': 0.06180289364255172}. Best is trial 45 with value: 0.1456942355725534.\u001b[0m\n",
      "regularization_factors, val_score: 0.145694:  45%|####5     | 9/20 [09:08<11:06, 60.63s/it]\u001b[32m[I 2022-08-21 22:54:36,193]\u001b[0m Trial 51 finished with value: 0.1460758595327589 and parameters: {'lambda_l1': 0.5718189612020429, 'lambda_l2': 0.40514701046536095}. Best is trial 45 with value: 0.1456942355725534.\u001b[0m\n",
      "regularization_factors, val_score: 0.145694:  50%|#####     | 10/20 [10:02<09:47, 58.74s/it]\u001b[32m[I 2022-08-21 22:55:30,710]\u001b[0m Trial 52 finished with value: 0.14592988484043373 and parameters: {'lambda_l1': 1.5145722541588047e-06, 'lambda_l2': 1.776040385530047e-06}. Best is trial 45 with value: 0.1456942355725534.\u001b[0m\n",
      "regularization_factors, val_score: 0.145396:  55%|#####5    | 11/20 [11:21<09:44, 64.95s/it]\u001b[32m[I 2022-08-21 22:56:49,736]\u001b[0m Trial 53 finished with value: 0.145396230195555 and parameters: {'lambda_l1': 9.56661087338162, 'lambda_l2': 1.3082568383393686e-08}. Best is trial 53 with value: 0.145396230195555.\u001b[0m\n",
      "regularization_factors, val_score: 0.144965:  60%|######    | 12/20 [12:36<09:03, 67.92s/it]\u001b[32m[I 2022-08-21 22:58:04,447]\u001b[0m Trial 54 finished with value: 0.14496491647079265 and parameters: {'lambda_l1': 7.061770074494446, 'lambda_l2': 1.7558356989839256e-08}. Best is trial 54 with value: 0.14496491647079265.\u001b[0m\n",
      "regularization_factors, val_score: 0.144965:  65%|######5   | 13/20 [13:45<07:57, 68.16s/it]\u001b[32m[I 2022-08-21 22:59:13,159]\u001b[0m Trial 55 finished with value: 0.14526765786668117 and parameters: {'lambda_l1': 3.4988626891692003, 'lambda_l2': 1.4475136050216774e-08}. Best is trial 54 with value: 0.14496491647079265.\u001b[0m\n",
      "regularization_factors, val_score: 0.144965:  70%|#######   | 14/20 [14:46<06:37, 66.28s/it]\u001b[32m[I 2022-08-21 23:00:15,114]\u001b[0m Trial 56 finished with value: 0.14622861213120328 and parameters: {'lambda_l1': 0.09301865292599645, 'lambda_l2': 1.923958129158624e-08}. Best is trial 54 with value: 0.14496491647079265.\u001b[0m\n",
      "regularization_factors, val_score: 0.144965:  75%|#######5  | 15/20 [15:47<05:23, 64.61s/it]\u001b[32m[I 2022-08-21 23:01:15,839]\u001b[0m Trial 57 finished with value: 0.1461247532327262 and parameters: {'lambda_l1': 0.0104949780871368, 'lambda_l2': 4.7131742096021743e-07}. Best is trial 54 with value: 0.14496491647079265.\u001b[0m\n",
      "regularization_factors, val_score: 0.144965:  80%|########  | 16/20 [17:06<04:35, 68.91s/it]\u001b[32m[I 2022-08-21 23:02:34,738]\u001b[0m Trial 58 finished with value: 0.14526293317131483 and parameters: {'lambda_l1': 8.438757630071821, 'lambda_l2': 1.7255368279809155e-05}. Best is trial 54 with value: 0.14496491647079265.\u001b[0m\n",
      "regularization_factors, val_score: 0.144965:  85%|########5 | 17/20 [18:12<03:24, 68.10s/it]\u001b[32m[I 2022-08-21 23:03:40,947]\u001b[0m Trial 59 finished with value: 0.14620830992387673 and parameters: {'lambda_l1': 0.056771818053346065, 'lambda_l2': 7.848240956614304e-05}. Best is trial 54 with value: 0.14496491647079265.\u001b[0m\n",
      "regularization_factors, val_score: 0.144965:  90%|######### | 18/20 [19:16<02:13, 66.64s/it]\u001b[32m[I 2022-08-21 23:04:44,188]\u001b[0m Trial 60 finished with value: 0.14596410904562984 and parameters: {'lambda_l1': 0.005194543577857883, 'lambda_l2': 7.404584756260795e-06}. Best is trial 54 with value: 0.14496491647079265.\u001b[0m\n",
      "regularization_factors, val_score: 0.144965:  95%|#########5| 19/20 [20:16<01:04, 64.72s/it]\u001b[32m[I 2022-08-21 23:05:44,432]\u001b[0m Trial 61 finished with value: 0.1460429255607275 and parameters: {'lambda_l1': 0.5470647966352541, 'lambda_l2': 0.0016202528037840662}. Best is trial 54 with value: 0.14496491647079265.\u001b[0m\n",
      "regularization_factors, val_score: 0.144965: 100%|##########| 20/20 [21:15<00:00, 62.98s/it]\u001b[32m[I 2022-08-21 23:06:43,372]\u001b[0m Trial 62 finished with value: 0.1459377576916878 and parameters: {'lambda_l1': 0.057484693508770286, 'lambda_l2': 1.5231671489668662e-07}. Best is trial 54 with value: 0.14496491647079265.\u001b[0m\n",
      "regularization_factors, val_score: 0.144965: 100%|##########| 20/20 [21:15<00:00, 63.76s/it]\n",
      "min_data_in_leaf, val_score: 0.144965:  20%|##        | 1/5 [01:14<04:56, 74.05s/it]\u001b[32m[I 2022-08-21 23:07:57,436]\u001b[0m Trial 63 finished with value: 0.1454036518730001 and parameters: {'min_child_samples': 25}. Best is trial 63 with value: 0.1454036518730001.\u001b[0m\n",
      "min_data_in_leaf, val_score: 0.144965:  40%|####      | 2/5 [02:22<03:32, 70.90s/it]\u001b[32m[I 2022-08-21 23:09:06,127]\u001b[0m Trial 64 finished with value: 0.1450825257149146 and parameters: {'min_child_samples': 50}. Best is trial 64 with value: 0.1450825257149146.\u001b[0m\n",
      "min_data_in_leaf, val_score: 0.144965:  60%|######    | 3/5 [03:29<02:18, 69.08s/it]\u001b[32m[I 2022-08-21 23:10:13,046]\u001b[0m Trial 65 finished with value: 0.14514272248368967 and parameters: {'min_child_samples': 100}. Best is trial 64 with value: 0.1450825257149146.\u001b[0m\n",
      "min_data_in_leaf, val_score: 0.144965:  80%|########  | 4/5 [04:42<01:10, 70.73s/it]\u001b[32m[I 2022-08-21 23:11:26,308]\u001b[0m Trial 66 finished with value: 0.14534940596516202 and parameters: {'min_child_samples': 5}. Best is trial 64 with value: 0.1450825257149146.\u001b[0m\n",
      "min_data_in_leaf, val_score: 0.144965: 100%|##########| 5/5 [05:57<00:00, 72.23s/it]\u001b[32m[I 2022-08-21 23:12:41,199]\u001b[0m Trial 67 finished with value: 0.14519862297222666 and parameters: {'min_child_samples': 10}. Best is trial 64 with value: 0.1450825257149146.\u001b[0m\n",
      "min_data_in_leaf, val_score: 0.144965: 100%|##########| 5/5 [05:57<00:00, 71.56s/it]\n"
     ]
    },
    {
     "data": {
      "text/plain": [
       "{'objective': 'mean_squared_error',\n",
       " 'metric': 'l1',\n",
       " 'verbose': -1,\n",
       " 'verbose_eval': -1,\n",
       " 'boosting_type': 'gbdt',\n",
       " 'feature_pre_filter': False,\n",
       " 'lambda_l1': 7.061770074494446,\n",
       " 'lambda_l2': 1.7558356989839256e-08,\n",
       " 'num_leaves': 217,\n",
       " 'feature_fraction': 0.8,\n",
       " 'bagging_fraction': 1.0,\n",
       " 'bagging_freq': 0,\n",
       " 'min_child_samples': 20,\n",
       " 'num_iterations': 200,\n",
       " 'early_stopping_round': 50,\n",
       " 'categorical_column': [43, 44, 50, 87, 122, 127, 129, 130, 133, 139]}"
      ]
     },
     "execution_count": 13,
     "metadata": {},
     "output_type": "execute_result"
    }
   ],
   "source": [
    "params = {\n",
    "    'objective': 'mean_squared_error',\n",
    "    'metric': 'mae',\n",
    "    \"verbose\": -1,#verbosity\n",
    "    \"verbose_eval\":-1,\n",
    "    \"boosting_type\": \"gbdt\",\n",
    "}\n",
    "\n",
    "best_params, history = {}, []\n",
    "\n",
    "# LightGBM学習\n",
    "gbm = lgb.train(params,\n",
    "                lgb_train,\n",
    "                num_boost_round = 200,\n",
    "                valid_sets=[lgb_train, lgb_eval],\n",
    "                early_stopping_rounds=50,\n",
    "                verbose_eval = False\n",
    "               )\n",
    "\n",
    "best_params = gbm.params\n",
    "best_params"
   ]
  },
  {
   "cell_type": "code",
   "execution_count": 14,
   "id": "a46b9215",
   "metadata": {
    "execution": {
     "iopub.execute_input": "2022-08-21T23:12:41.304036Z",
     "iopub.status.busy": "2022-08-21T23:12:41.303434Z",
     "iopub.status.idle": "2022-08-21T23:12:41.956580Z",
     "shell.execute_reply": "2022-08-21T23:12:41.955275Z"
    },
    "papermill": {
     "duration": 0.687221,
     "end_time": "2022-08-21T23:12:41.959326",
     "exception": false,
     "start_time": "2022-08-21T23:12:41.272105",
     "status": "completed"
    },
    "tags": []
   },
   "outputs": [
    {
     "data": {
      "image/png": "[encoded data removed]",
      "text/plain": [
       "<Figure size 720x720 with 1 Axes>"
      ]
     },
     "metadata": {
      "needs_background": "light"
     },
     "output_type": "display_data"
    }
   ],
   "source": [
    "lgb.plot_importance(gbm, max_num_features = 35, figsize = (10,10))\n",
    "plt.show()"
   ]
  },
  {
   "cell_type": "code",
   "execution_count": 15,
   "id": "5698f241",
   "metadata": {
    "execution": {
     "iopub.execute_input": "2022-08-21T23:12:42.020868Z",
     "iopub.status.busy": "2022-08-21T23:12:42.019961Z",
     "iopub.status.idle": "2022-08-21T23:12:42.024882Z",
     "shell.execute_reply": "2022-08-21T23:12:42.023939Z"
    },
    "papermill": {
     "duration": 0.037467,
     "end_time": "2022-08-21T23:12:42.027298",
     "exception": false,
     "start_time": "2022-08-21T23:12:41.989831",
     "status": "completed"
    },
    "tags": []
   },
   "outputs": [],
   "source": [
    "# model = model.fit(X_train, y_train)"
   ]
  },
  {
   "cell_type": "markdown",
   "id": "dd96ce58",
   "metadata": {
    "papermill": {
     "duration": 0.031472,
     "end_time": "2022-08-21T23:12:42.212915",
     "exception": false,
     "start_time": "2022-08-21T23:12:42.181443",
     "status": "completed"
    },
    "tags": []
   },
   "source": [
    "# Submissions"
   ]
  },
  {
   "cell_type": "code",
   "execution_count": 16,
   "id": "c4f933e1",
   "metadata": {
    "execution": {
     "iopub.execute_input": "2022-08-21T23:12:42.276552Z",
     "iopub.status.busy": "2022-08-21T23:12:42.275455Z",
     "iopub.status.idle": "2022-08-21T23:12:50.589283Z",
     "shell.execute_reply": "2022-08-21T23:12:50.587980Z"
    },
    "papermill": {
     "duration": 8.347847,
     "end_time": "2022-08-21T23:12:50.592277",
     "exception": false,
     "start_time": "2022-08-21T23:12:42.244430",
     "status": "completed"
    },
    "tags": []
   },
   "outputs": [],
   "source": [
    "import numpy as np \n",
    "import pandas as pd \n",
    "import glob\n",
    "from scipy.stats import rankdata\n",
    "\n",
    "paths = [x for x in glob.glob('../input/*/*.csv') if 'amex-default-prediction' not in x]\n",
    "dfs = [pd.read_csv(x) for x in paths]\n",
    "dfs = [x.sort_values(by='customer_ID') for x in dfs]\n",
    "\n",
    "paths = [x for x in glob.glob('../input/*/*.csv') if 'amex-default-prediction' not in x]\n",
    "paths\n",
    "\n",
    "for df in dfs:\n",
    "    df['prediction'] = np.clip(df['prediction'], 0, 1)"
   ]
  },
  {
   "cell_type": "code",
   "execution_count": 17,
   "id": "ee1d6763",
   "metadata": {
    "execution": {
     "iopub.execute_input": "2022-08-21T23:12:50.654245Z",
     "iopub.status.busy": "2022-08-21T23:12:50.653390Z",
     "iopub.status.idle": "2022-08-21T23:12:56.562678Z",
     "shell.execute_reply": "2022-08-21T23:12:56.561648Z"
    },
    "papermill": {
     "duration": 5.944224,
     "end_time": "2022-08-21T23:12:56.565519",
     "exception": false,
     "start_time": "2022-08-21T23:12:50.621295",
     "status": "completed"
    },
    "tags": []
   },
   "outputs": [],
   "source": [
    "paths = [x for x in glob.glob('../input/*/*.csv') if 'amex-default-prediction' not in x]\n",
    "dfs = [pd.read_csv(x) for x in paths]\n",
    "dfs = [x.sort_values(by='customer_ID') for x in dfs]"
   ]
  },
  {
   "cell_type": "code",
   "execution_count": 18,
   "id": "9ad947dc",
   "metadata": {
    "execution": {
     "iopub.execute_input": "2022-08-21T23:12:56.624809Z",
     "iopub.status.busy": "2022-08-21T23:12:56.624107Z",
     "iopub.status.idle": "2022-08-21T23:12:56.629402Z",
     "shell.execute_reply": "2022-08-21T23:12:56.628329Z"
    },
    "papermill": {
     "duration": 0.037347,
     "end_time": "2022-08-21T23:12:56.631677",
     "exception": false,
     "start_time": "2022-08-21T23:12:56.594330",
     "status": "completed"
    },
    "tags": []
   },
   "outputs": [],
   "source": [
    "weights = [0.52, 0.85, 0.97, 0.57, 1.02, 0.8]# [0.52, 0.87, 0.95, 0.57, 1, 0.8]"
   ]
  },
  {
   "cell_type": "code",
   "execution_count": 19,
   "id": "5f6e065b",
   "metadata": {
    "execution": {
     "iopub.execute_input": "2022-08-21T23:12:56.690140Z",
     "iopub.status.busy": "2022-08-21T23:12:56.689757Z",
     "iopub.status.idle": "2022-08-21T23:13:04.733590Z",
     "shell.execute_reply": "2022-08-21T23:13:04.732659Z"
    },
    "papermill": {
     "duration": 8.076709,
     "end_time": "2022-08-21T23:13:04.736811",
     "exception": false,
     "start_time": "2022-08-21T23:12:56.660102",
     "status": "completed"
    },
    "tags": []
   },
   "outputs": [],
   "source": [
    "submit = pd.read_csv('../input/amex-default-prediction/sample_submission.csv')\n",
    "submit['prediction'] = 0\n",
    "\n",
    "for df, weight in zip(dfs, weights):\n",
    "    submit['prediction'] += (df['prediction'] * weight)\n",
    "    \n",
    "submit['prediction'] /= np.sum(weights)\n",
    "\n",
    "submit.to_csv('mean_submission.csv', index=None)\n",
    "\n",
    " \n",
    "submit = pd.read_csv('../input/amex-default-prediction/sample_submission.csv')\n",
    "submit['prediction'] = 0\n",
    "\n",
    "for df, weight in zip(dfs, weights):\n",
    "    submit['prediction'] += (rankdata(df['prediction'])/df.shape[0]) * weight\n",
    "    \n",
    "submit['prediction'] /= 4"
   ]
  },
  {
   "cell_type": "code",
   "execution_count": 20,
   "id": "a4bbbb1d",
   "metadata": {
    "execution": {
     "iopub.execute_input": "2022-08-21T23:13:04.797807Z",
     "iopub.status.busy": "2022-08-21T23:13:04.797073Z",
     "iopub.status.idle": "2022-08-21T23:13:59.462110Z",
     "shell.execute_reply": "2022-08-21T23:13:59.460873Z"
    },
    "papermill": {
     "duration": 54.698189,
     "end_time": "2022-08-21T23:13:59.465310",
     "exception": false,
     "start_time": "2022-08-21T23:13:04.767121",
     "status": "completed"
    },
    "tags": []
   },
   "outputs": [],
   "source": [
    "test = pd.read_feather('../input/amexfeather/test_data.ftr')\n",
    "df_train = test.groupby('customer_ID').tail(1).set_index('customer_ID')"
   ]
  },
  {
   "cell_type": "code",
   "execution_count": 21,
   "id": "9d2de906",
   "metadata": {
    "execution": {
     "iopub.execute_input": "2022-08-21T23:13:59.528751Z",
     "iopub.status.busy": "2022-08-21T23:13:59.527905Z",
     "iopub.status.idle": "2022-08-21T23:13:59.536122Z",
     "shell.execute_reply": "2022-08-21T23:13:59.534527Z"
    },
    "papermill": {
     "duration": 0.041905,
     "end_time": "2022-08-21T23:13:59.538401",
     "exception": false,
     "start_time": "2022-08-21T23:13:59.496496",
     "status": "completed"
    },
    "tags": []
   },
   "outputs": [
    {
     "data": {
      "text/plain": [
       "Index(['S_2', 'P_2', 'D_39', 'B_1', 'B_2', 'R_1', 'S_3', 'D_41', 'B_3', 'D_42',\n",
       "       ...\n",
       "       'D_136', 'D_137', 'D_138', 'D_139', 'D_140', 'D_141', 'D_142', 'D_143',\n",
       "       'D_144', 'D_145'],\n",
       "      dtype='object', length=189)"
      ]
     },
     "execution_count": 21,
     "metadata": {},
     "output_type": "execute_result"
    }
   ],
   "source": [
    "df_train.columns"
   ]
  },
  {
   "cell_type": "code",
   "execution_count": 22,
   "id": "cd785f82",
   "metadata": {
    "execution": {
     "iopub.execute_input": "2022-08-21T23:13:59.600512Z",
     "iopub.status.busy": "2022-08-21T23:13:59.599701Z",
     "iopub.status.idle": "2022-08-21T23:14:02.260189Z",
     "shell.execute_reply": "2022-08-21T23:14:02.258990Z"
    },
    "papermill": {
     "duration": 2.695166,
     "end_time": "2022-08-21T23:14:02.263133",
     "exception": false,
     "start_time": "2022-08-21T23:13:59.567967",
     "status": "completed"
    },
    "tags": []
   },
   "outputs": [],
   "source": [
    "df_train = df_train.dropna(axis=1, thresh=int(0.80 * len(df_train)))\n",
    "\n",
    "df_train[\"c_PD_239\"]=df_train[\"D_39\"]/(df_train[\"P_2\"]*(-1)+0.0001)\n",
    "df_train[\"c_PB_29\"]=df_train[\"P_2\"]*(-1)/(df_train[\"B_9\"]*(1)+0.0001)\n",
    "df_train[\"c_PR_21\"]=df_train[\"P_2\"]*(-1)/(df_train[\"R_1\"]+0.0001)\n",
    "\n",
    "df_train[\"c_BBBB\"]=(df_train[\"B_9\"]+0.001)/(df_train[\"B_23\"]+df_train[\"B_3\"]+0.0001)\n",
    "df_train[\"c_BBBB1\"]=(df_train[\"B_33\"]*(-1))+(df_train[\"B_18\"]*(-1)+df_train[\"S_25\"]*(1)+0.0001)\n",
    "df_train[\"c_BBBB2\"]=(df_train[\"B_19\"]+df_train[\"B_20\"]+df_train[\"B_4\"]+0.0001)\n",
    "\n",
    "df_train[\"c_RRR0\"]=(df_train[\"R_3\"]+0.001)/(df_train[\"R_2\"]+df_train[\"R_4\"]+0.0001)\n",
    "df_train[\"c_RRR1\"]=(df_train[\"D_62\"]+0.001)/(df_train[\"D_112\"]+df_train[\"R_27\"]+0.0001)\n",
    "\n",
    "df_train[\"c_PD_348\"]=df_train[\"D_48\"]/(df_train[\"P_3\"]+0.0001)\n",
    "df_train[\"c_PD_355\"]=df_train[\"D_55\"]/(df_train[\"P_3\"]+0.0001)\n",
    "\n",
    "df_train[\"c_PD_439\"]=df_train[\"D_39\"]/(df_train[\"P_4\"]+0.0001)\n",
    "df_train[\"c_PB_49\"]=df_train[\"B_9\"]/(df_train[\"P_4\"]+0.0001)\n",
    "df_train[\"c_PR_41\"]=df_train[\"R_1\"]/(df_train[\"P_4\"]+0.0001)\n"
   ]
  },
  {
   "cell_type": "code",
   "execution_count": 23,
   "id": "c44621b3",
   "metadata": {
    "execution": {
     "iopub.execute_input": "2022-08-21T23:14:02.323546Z",
     "iopub.status.busy": "2022-08-21T23:14:02.322856Z",
     "iopub.status.idle": "2022-08-21T23:14:03.766574Z",
     "shell.execute_reply": "2022-08-21T23:14:03.765079Z"
    },
    "papermill": {
     "duration": 1.47752,
     "end_time": "2022-08-21T23:14:03.769538",
     "exception": false,
     "start_time": "2022-08-21T23:14:02.292018",
     "status": "completed"
    },
    "tags": []
   },
   "outputs": [],
   "source": [
    "X = df_train.drop(\"S_2\", axis=1)\n",
    "X = X[Xname]"
   ]
  },
  {
   "cell_type": "code",
   "execution_count": 24,
   "id": "3567cf58",
   "metadata": {
    "execution": {
     "iopub.execute_input": "2022-08-21T23:14:03.829190Z",
     "iopub.status.busy": "2022-08-21T23:14:03.828798Z",
     "iopub.status.idle": "2022-08-21T23:14:03.833573Z",
     "shell.execute_reply": "2022-08-21T23:14:03.832688Z"
    },
    "papermill": {
     "duration": 0.036846,
     "end_time": "2022-08-21T23:14:03.835570",
     "exception": false,
     "start_time": "2022-08-21T23:14:03.798724",
     "status": "completed"
    },
    "tags": []
   },
   "outputs": [],
   "source": [
    "# Y_pred = model.predict_proba(X)"
   ]
  },
  {
   "cell_type": "code",
   "execution_count": 25,
   "id": "e9734690",
   "metadata": {
    "execution": {
     "iopub.execute_input": "2022-08-21T23:14:03.896814Z",
     "iopub.status.busy": "2022-08-21T23:14:03.896027Z",
     "iopub.status.idle": "2022-08-21T23:14:12.263659Z",
     "shell.execute_reply": "2022-08-21T23:14:12.262623Z"
    },
    "papermill": {
     "duration": 8.402331,
     "end_time": "2022-08-21T23:14:12.266726",
     "exception": false,
     "start_time": "2022-08-21T23:14:03.864395",
     "status": "completed"
    },
    "tags": []
   },
   "outputs": [],
   "source": [
    "Y_pred = gbm.predict(X, num_iteration=gbm.best_iteration)"
   ]
  },
  {
   "cell_type": "code",
   "execution_count": 26,
   "id": "ce27489b",
   "metadata": {
    "execution": {
     "iopub.execute_input": "2022-08-21T23:14:12.328406Z",
     "iopub.status.busy": "2022-08-21T23:14:12.327902Z",
     "iopub.status.idle": "2022-08-21T23:14:12.334775Z",
     "shell.execute_reply": "2022-08-21T23:14:12.333949Z"
    },
    "papermill": {
     "duration": 0.040462,
     "end_time": "2022-08-21T23:14:12.336890",
     "exception": false,
     "start_time": "2022-08-21T23:14:12.296428",
     "status": "completed"
    },
    "tags": []
   },
   "outputs": [
    {
     "data": {
      "text/plain": [
       "array([-2.91418791e-02,  3.52223766e-04,  6.34636693e-02, ...,\n",
       "        6.16710305e-01,  2.28271897e-01,  4.40065104e-03])"
      ]
     },
     "execution_count": 26,
     "metadata": {},
     "output_type": "execute_result"
    }
   ],
   "source": [
    "Y_pred"
   ]
  },
  {
   "cell_type": "code",
   "execution_count": 27,
   "id": "a3c9b466",
   "metadata": {
    "execution": {
     "iopub.execute_input": "2022-08-21T23:14:12.396929Z",
     "iopub.status.busy": "2022-08-21T23:14:12.396093Z",
     "iopub.status.idle": "2022-08-21T23:14:12.410660Z",
     "shell.execute_reply": "2022-08-21T23:14:12.409747Z"
    },
    "papermill": {
     "duration": 0.047588,
     "end_time": "2022-08-21T23:14:12.413234",
     "exception": false,
     "start_time": "2022-08-21T23:14:12.365646",
     "status": "completed"
    },
    "tags": []
   },
   "outputs": [],
   "source": [
    "submit['prediction'] = (submit['prediction'])*(0.995)+(Y_pred)*(0.005)"
   ]
  },
  {
   "cell_type": "code",
   "execution_count": 28,
   "id": "f01d6620",
   "metadata": {
    "execution": {
     "iopub.execute_input": "2022-08-21T23:14:12.473232Z",
     "iopub.status.busy": "2022-08-21T23:14:12.472824Z",
     "iopub.status.idle": "2022-08-21T23:14:15.744201Z",
     "shell.execute_reply": "2022-08-21T23:14:15.742971Z"
    },
    "papermill": {
     "duration": 3.304864,
     "end_time": "2022-08-21T23:14:15.747325",
     "exception": false,
     "start_time": "2022-08-21T23:14:12.442461",
     "status": "completed"
    },
    "tags": []
   },
   "outputs": [],
   "source": [
    "submit.to_csv('submission.csv', index=None)    "
   ]
  },
  {
   "cell_type": "code",
   "execution_count": 29,
   "id": "1e039e6f",
   "metadata": {
    "execution": {
     "iopub.execute_input": "2022-08-21T23:14:15.808579Z",
     "iopub.status.busy": "2022-08-21T23:14:15.807792Z",
     "iopub.status.idle": "2022-08-21T23:14:15.819888Z",
     "shell.execute_reply": "2022-08-21T23:14:15.818445Z"
    },
    "papermill": {
     "duration": 0.045885,
     "end_time": "2022-08-21T23:14:15.822766",
     "exception": false,
     "start_time": "2022-08-21T23:14:15.776881",
     "status": "completed"
    },
    "tags": []
   },
   "outputs": [
    {
     "data": {
      "text/html": [
       "<div>\n",
       "<style scoped>\n",
       "    .dataframe tbody tr th:only-of-type {\n",
       "        vertical-align: middle;\n",
       "    }\n",
       "\n",
       "    .dataframe tbody tr th {\n",
       "        vertical-align: top;\n",
       "    }\n",
       "\n",
       "    .dataframe thead th {\n",
       "        text-align: right;\n",
       "    }\n",
       "</style>\n",
       "<table border=\"1\" class=\"dataframe\">\n",
       "  <thead>\n",
       "    <tr style=\"text-align: right;\">\n",
       "      <th></th>\n",
       "      <th>customer_ID</th>\n",
       "      <th>prediction</th>\n",
       "    </tr>\n",
       "  </thead>\n",
       "  <tbody>\n",
       "    <tr>\n",
       "      <th>0</th>\n",
       "      <td>00000469ba478561f23a92a868bd366de6f6527a684c9a...</td>\n",
       "      <td>0.297184</td>\n",
       "    </tr>\n",
       "    <tr>\n",
       "      <th>1</th>\n",
       "      <td>00001bf2e77ff879fab36aa4fac689b9ba411dae63ae39...</td>\n",
       "      <td>0.042994</td>\n",
       "    </tr>\n",
       "    <tr>\n",
       "      <th>2</th>\n",
       "      <td>0000210045da4f81e5f122c6bde5c2a617d03eef67f82c...</td>\n",
       "      <td>0.301411</td>\n",
       "    </tr>\n",
       "    <tr>\n",
       "      <th>3</th>\n",
       "      <td>00003b41e58ede33b8daf61ab56d9952f17c9ad1c3976c...</td>\n",
       "      <td>0.379567</td>\n",
       "    </tr>\n",
       "    <tr>\n",
       "      <th>4</th>\n",
       "      <td>00004b22eaeeeb0ec976890c1d9bfc14fd9427e98c4ee9...</td>\n",
       "      <td>0.521937</td>\n",
       "    </tr>\n",
       "  </tbody>\n",
       "</table>\n",
       "</div>"
      ],
      "text/plain": [
       "                                         customer_ID  prediction\n",
       "0  00000469ba478561f23a92a868bd366de6f6527a684c9a...    0.297184\n",
       "1  00001bf2e77ff879fab36aa4fac689b9ba411dae63ae39...    0.042994\n",
       "2  0000210045da4f81e5f122c6bde5c2a617d03eef67f82c...    0.301411\n",
       "3  00003b41e58ede33b8daf61ab56d9952f17c9ad1c3976c...    0.379567\n",
       "4  00004b22eaeeeb0ec976890c1d9bfc14fd9427e98c4ee9...    0.521937"
      ]
     },
     "execution_count": 29,
     "metadata": {},
     "output_type": "execute_result"
    }
   ],
   "source": [
    "submit.head()"
   ]
  },
  {
   "cell_type": "code",
   "execution_count": null,
   "id": "8de9549d",
   "metadata": {
    "papermill": {
     "duration": 0.028819,
     "end_time": "2022-08-21T23:14:15.880975",
     "exception": false,
     "start_time": "2022-08-21T23:14:15.852156",
     "status": "completed"
    },
    "tags": []
   },
   "outputs": [],
   "source": []
  }
 ],
 "metadata": {
  "kernelspec": {
   "display_name": "Python 3",
   "language": "python",
   "name": "python3"
  },
  "language_info": {
   "codemirror_mode": {
    "name": "ipython",
    "version": 3
   },
   "file_extension": ".py",
   "mimetype": "text/x-python",
   "name": "python",
   "nbconvert_exporter": "python",
   "pygments_lexer": "ipython3",
   "version": "3.7.12"
  },
  "papermill": {
   "default_parameters": {},
   "duration": 3899.18204,
   "end_time": "2022-08-21T23:14:17.951004",
   "environment_variables": {},
   "exception": null,
   "input_path": "__notebook__.ipynb",
   "output_path": "__notebook__.ipynb",
   "parameters": {},
   "start_time": "2022-08-21T22:09:18.768964",
   "version": "2.3.4"
  }
 },
 "nbformat": 4,
 "nbformat_minor": 5
}
