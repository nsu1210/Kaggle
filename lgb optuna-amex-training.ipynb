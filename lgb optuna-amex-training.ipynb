{
 "cells": [
  {
   "cell_type": "markdown",
   "id": "36299a51",
   "metadata": {
    "papermill": {
     "duration": 0.008932,
     "end_time": "2022-08-21T18:13:21.110593",
     "exception": false,
     "start_time": "2022-08-21T18:13:21.101661",
     "status": "completed"
    },
    "tags": []
   },
   "source": [
    "Add features referring to the following\n",
    "https://www.kaggle.com/code/manavtrivedi/tuffline-plotly-amex?scriptVersionId=102868130"
   ]
  },
  {
   "cell_type": "markdown",
   "id": "5c83af58",
   "metadata": {
    "papermill": {
     "duration": 0.0071,
     "end_time": "2022-08-21T18:13:21.125193",
     "exception": false,
     "start_time": "2022-08-21T18:13:21.118093",
     "status": "completed"
    },
    "tags": []
   },
   "source": [
    "# **Import**"
   ]
  },
  {
   "cell_type": "code",
   "execution_count": 1,
   "id": "911f3f02",
   "metadata": {
    "execution": {
     "iopub.execute_input": "2022-08-21T18:13:21.142523Z",
     "iopub.status.busy": "2022-08-21T18:13:21.141675Z",
     "iopub.status.idle": "2022-08-21T18:13:22.165818Z",
     "shell.execute_reply": "2022-08-21T18:13:22.164688Z"
    },
    "papermill": {
     "duration": 1.036416,
     "end_time": "2022-08-21T18:13:22.168856",
     "exception": false,
     "start_time": "2022-08-21T18:13:21.132440",
     "status": "completed"
    },
    "tags": []
   },
   "outputs": [],
   "source": [
    "import numpy as np\n",
    "import pandas as pd\n",
    "import seaborn as sns\n",
    "import matplotlib.pyplot as plt\n",
    "\n",
    "%matplotlib inline\n",
    "import random\n",
    "\n",
    "import warnings \n",
    "warnings.filterwarnings('ignore')"
   ]
  },
  {
   "cell_type": "code",
   "execution_count": 2,
   "id": "4b088c5c",
   "metadata": {
    "execution": {
     "iopub.execute_input": "2022-08-21T18:13:22.186820Z",
     "iopub.status.busy": "2022-08-21T18:13:22.185655Z",
     "iopub.status.idle": "2022-08-21T18:13:46.722772Z",
     "shell.execute_reply": "2022-08-21T18:13:46.721202Z"
    },
    "papermill": {
     "duration": 24.549112,
     "end_time": "2022-08-21T18:13:46.725866",
     "exception": false,
     "start_time": "2022-08-21T18:13:22.176754",
     "status": "completed"
    },
    "tags": []
   },
   "outputs": [],
   "source": [
    "df_train = pd.read_feather('../input/amexfeather/train_data.ftr')\n",
    "df_train = df_train.groupby('customer_ID').tail(1).set_index('customer_ID')"
   ]
  },
  {
   "cell_type": "code",
   "execution_count": 3,
   "id": "6afa2625",
   "metadata": {
    "execution": {
     "iopub.execute_input": "2022-08-21T18:13:46.744581Z",
     "iopub.status.busy": "2022-08-21T18:13:46.743301Z",
     "iopub.status.idle": "2022-08-21T18:13:46.753081Z",
     "shell.execute_reply": "2022-08-21T18:13:46.751983Z"
    },
    "papermill": {
     "duration": 0.024096,
     "end_time": "2022-08-21T18:13:46.757800",
     "exception": false,
     "start_time": "2022-08-21T18:13:46.733704",
     "status": "completed"
    },
    "tags": []
   },
   "outputs": [
    {
     "data": {
      "text/plain": [
       "(458913, 190)"
      ]
     },
     "execution_count": 3,
     "metadata": {},
     "output_type": "execute_result"
    }
   ],
   "source": [
    "df_train.shape"
   ]
  },
  {
   "cell_type": "code",
   "execution_count": 4,
   "id": "60cf55f1",
   "metadata": {
    "execution": {
     "iopub.execute_input": "2022-08-21T18:13:46.827672Z",
     "iopub.status.busy": "2022-08-21T18:13:46.825009Z",
     "iopub.status.idle": "2022-08-21T18:13:48.917369Z",
     "shell.execute_reply": "2022-08-21T18:13:48.910302Z"
    },
    "papermill": {
     "duration": 2.135291,
     "end_time": "2022-08-21T18:13:48.928115",
     "exception": false,
     "start_time": "2022-08-21T18:13:46.792824",
     "status": "completed"
    },
    "tags": []
   },
   "outputs": [
    {
     "data": {
      "text/plain": [
       "(458913, 156)"
      ]
     },
     "execution_count": 4,
     "metadata": {},
     "output_type": "execute_result"
    }
   ],
   "source": [
    "df_train = df_train.dropna(axis=1, thresh=int(0.80 * len(df_train)))\n",
    "df_train.shape"
   ]
  },
  {
   "cell_type": "markdown",
   "id": "8d21ecbb",
   "metadata": {
    "papermill": {
     "duration": 0.026,
     "end_time": "2022-08-21T18:13:48.983963",
     "exception": false,
     "start_time": "2022-08-21T18:13:48.957963",
     "status": "completed"
    },
    "tags": []
   },
   "source": [
    "# **Feature**"
   ]
  },
  {
   "cell_type": "code",
   "execution_count": 5,
   "id": "bd5dd243",
   "metadata": {
    "execution": {
     "iopub.execute_input": "2022-08-21T18:13:49.057233Z",
     "iopub.status.busy": "2022-08-21T18:13:49.055852Z",
     "iopub.status.idle": "2022-08-21T18:13:49.781522Z",
     "shell.execute_reply": "2022-08-21T18:13:49.779999Z"
    },
    "papermill": {
     "duration": 0.770052,
     "end_time": "2022-08-21T18:13:49.785634",
     "exception": false,
     "start_time": "2022-08-21T18:13:49.015582",
     "status": "completed"
    },
    "tags": []
   },
   "outputs": [
    {
     "name": "stdout",
     "output_type": "stream",
     "text": [
      "(458913, 169)\n"
     ]
    }
   ],
   "source": [
    "df_train[\"c_PD_239\"]=df_train[\"D_39\"]/(df_train[\"P_2\"]*(-1)+0.0001)\n",
    "df_train[\"c_PB_29\"]=df_train[\"P_2\"]*(-1)/(df_train[\"B_9\"]*(1)+0.0001)\n",
    "df_train[\"c_PR_21\"]=df_train[\"P_2\"]*(-1)/(df_train[\"R_1\"]+0.0001)\n",
    "\n",
    "df_train[\"c_BBBB\"]=(df_train[\"B_9\"]+0.001)/(df_train[\"B_23\"]+df_train[\"B_3\"]+0.0001)\n",
    "df_train[\"c_BBBB1\"]=(df_train[\"B_33\"]*(-1))+(df_train[\"B_18\"]*(-1)+df_train[\"S_25\"]*(1)+0.0001)\n",
    "df_train[\"c_BBBB2\"]=(df_train[\"B_19\"]+df_train[\"B_20\"]+df_train[\"B_4\"]+0.0001)\n",
    "\n",
    "df_train[\"c_RRR0\"]=(df_train[\"R_3\"]+0.001)/(df_train[\"R_2\"]+df_train[\"R_4\"]+0.0001)\n",
    "df_train[\"c_RRR1\"]=(df_train[\"D_62\"]+0.001)/(df_train[\"D_112\"]+df_train[\"R_27\"]+0.0001)\n",
    "\n",
    "df_train[\"c_PD_348\"]=df_train[\"D_48\"]/(df_train[\"P_3\"]+0.0001)\n",
    "df_train[\"c_PD_355\"]=df_train[\"D_55\"]/(df_train[\"P_3\"]+0.0001)\n",
    "\n",
    "df_train[\"c_PD_439\"]=df_train[\"D_39\"]/(df_train[\"P_4\"]+0.0001)\n",
    "df_train[\"c_PB_49\"]=df_train[\"B_9\"]/(df_train[\"P_4\"]+0.0001)\n",
    "df_train[\"c_PR_41\"]=df_train[\"R_1\"]/(df_train[\"P_4\"]+0.0001)\n",
    "print(df_train.shape)"
   ]
  },
  {
   "cell_type": "code",
   "execution_count": 6,
   "id": "d0286896",
   "metadata": {
    "execution": {
     "iopub.execute_input": "2022-08-21T18:13:49.805502Z",
     "iopub.status.busy": "2022-08-21T18:13:49.805055Z",
     "iopub.status.idle": "2022-08-21T18:13:50.352684Z",
     "shell.execute_reply": "2022-08-21T18:13:50.351190Z"
    },
    "papermill": {
     "duration": 0.561047,
     "end_time": "2022-08-21T18:13:50.355568",
     "exception": false,
     "start_time": "2022-08-21T18:13:49.794521",
     "status": "completed"
    },
    "tags": []
   },
   "outputs": [
    {
     "data": {
      "text/html": [
       "<div>\n",
       "<style scoped>\n",
       "    .dataframe tbody tr th:only-of-type {\n",
       "        vertical-align: middle;\n",
       "    }\n",
       "\n",
       "    .dataframe tbody tr th {\n",
       "        vertical-align: top;\n",
       "    }\n",
       "\n",
       "    .dataframe thead th {\n",
       "        text-align: right;\n",
       "    }\n",
       "</style>\n",
       "<table border=\"1\" class=\"dataframe\">\n",
       "  <thead>\n",
       "    <tr style=\"text-align: right;\">\n",
       "      <th></th>\n",
       "      <th>S_2</th>\n",
       "      <th>P_2</th>\n",
       "      <th>D_39</th>\n",
       "      <th>B_1</th>\n",
       "      <th>B_2</th>\n",
       "      <th>R_1</th>\n",
       "      <th>S_3</th>\n",
       "      <th>D_41</th>\n",
       "      <th>B_3</th>\n",
       "      <th>D_44</th>\n",
       "      <th>...</th>\n",
       "      <th>c_BBBB</th>\n",
       "      <th>c_BBBB1</th>\n",
       "      <th>c_BBBB2</th>\n",
       "      <th>c_RRR0</th>\n",
       "      <th>c_RRR1</th>\n",
       "      <th>c_PD_348</th>\n",
       "      <th>c_PD_355</th>\n",
       "      <th>c_PD_439</th>\n",
       "      <th>c_PB_49</th>\n",
       "      <th>c_PR_41</th>\n",
       "    </tr>\n",
       "    <tr>\n",
       "      <th>customer_ID</th>\n",
       "      <th></th>\n",
       "      <th></th>\n",
       "      <th></th>\n",
       "      <th></th>\n",
       "      <th></th>\n",
       "      <th></th>\n",
       "      <th></th>\n",
       "      <th></th>\n",
       "      <th></th>\n",
       "      <th></th>\n",
       "      <th></th>\n",
       "      <th></th>\n",
       "      <th></th>\n",
       "      <th></th>\n",
       "      <th></th>\n",
       "      <th></th>\n",
       "      <th></th>\n",
       "      <th></th>\n",
       "      <th></th>\n",
       "      <th></th>\n",
       "      <th></th>\n",
       "    </tr>\n",
       "  </thead>\n",
       "  <tbody>\n",
       "    <tr>\n",
       "      <th>0000099d6bd597052cdcda90ffabf56573fe9d7c79be5fbac11a8ed792feb62a</th>\n",
       "      <td>2018-03-13</td>\n",
       "      <td>0.934570</td>\n",
       "      <td>0.009117</td>\n",
       "      <td>0.009384</td>\n",
       "      <td>1.007812</td>\n",
       "      <td>0.006104</td>\n",
       "      <td>0.135010</td>\n",
       "      <td>0.001604</td>\n",
       "      <td>0.007175</td>\n",
       "      <td>0.003258</td>\n",
       "      <td>...</td>\n",
       "      <td>0.221191</td>\n",
       "      <td>-1.042969</td>\n",
       "      <td>0.083862</td>\n",
       "      <td>0.064148</td>\n",
       "      <td>0.222046</td>\n",
       "      <td>0.305664</td>\n",
       "      <td>0.297607</td>\n",
       "      <td>1.368164</td>\n",
       "      <td>1.430664</td>\n",
       "      <td>0.916016</td>\n",
       "    </tr>\n",
       "    <tr>\n",
       "      <th>00000fd6641609c6ece5454664794f0340ad84dddce9a267a310b5ae68e9d8e5</th>\n",
       "      <td>2018-03-25</td>\n",
       "      <td>0.880371</td>\n",
       "      <td>0.178101</td>\n",
       "      <td>0.034698</td>\n",
       "      <td>1.003906</td>\n",
       "      <td>0.006912</td>\n",
       "      <td>0.165527</td>\n",
       "      <td>0.005550</td>\n",
       "      <td>0.005070</td>\n",
       "      <td>0.008781</td>\n",
       "      <td>...</td>\n",
       "      <td>0.700195</td>\n",
       "      <td>-1.027344</td>\n",
       "      <td>0.033081</td>\n",
       "      <td>12.320312</td>\n",
       "      <td>0.116577</td>\n",
       "      <td>0.025742</td>\n",
       "      <td>0.063232</td>\n",
       "      <td>37.437500</td>\n",
       "      <td>2.716797</td>\n",
       "      <td>1.453125</td>\n",
       "    </tr>\n",
       "    <tr>\n",
       "      <th>00001b22f846c82c51f6e3958ccd81970162bae8b007e80662ef27519fcc18c1</th>\n",
       "      <td>2018-03-12</td>\n",
       "      <td>0.880859</td>\n",
       "      <td>0.009705</td>\n",
       "      <td>0.004284</td>\n",
       "      <td>0.812500</td>\n",
       "      <td>0.006451</td>\n",
       "      <td>NaN</td>\n",
       "      <td>0.003796</td>\n",
       "      <td>0.007195</td>\n",
       "      <td>0.000628</td>\n",
       "      <td>...</td>\n",
       "      <td>0.377197</td>\n",
       "      <td>-1.032227</td>\n",
       "      <td>0.039948</td>\n",
       "      <td>1.926758</td>\n",
       "      <td>0.218750</td>\n",
       "      <td>0.127808</td>\n",
       "      <td>0.157349</td>\n",
       "      <td>3.468750</td>\n",
       "      <td>3.357422</td>\n",
       "      <td>2.304688</td>\n",
       "    </tr>\n",
       "    <tr>\n",
       "      <th>000041bdba6ecadd89a52d11886e8eaaec9325906c9723355abb5ca523658edc</th>\n",
       "      <td>2018-03-29</td>\n",
       "      <td>0.621582</td>\n",
       "      <td>0.001082</td>\n",
       "      <td>0.012566</td>\n",
       "      <td>1.005859</td>\n",
       "      <td>0.007828</td>\n",
       "      <td>0.287842</td>\n",
       "      <td>0.004532</td>\n",
       "      <td>0.009941</td>\n",
       "      <td>0.007793</td>\n",
       "      <td>...</td>\n",
       "      <td>1.425781</td>\n",
       "      <td>-1.041992</td>\n",
       "      <td>0.023605</td>\n",
       "      <td>15.953125</td>\n",
       "      <td>0.216919</td>\n",
       "      <td>NaN</td>\n",
       "      <td>0.031830</td>\n",
       "      <td>0.135254</td>\n",
       "      <td>2.564453</td>\n",
       "      <td>0.978027</td>\n",
       "    </tr>\n",
       "    <tr>\n",
       "      <th>00007889e4fcd2614b6cbe7f8f3d2e5c728eca32d9eb8ad51ca8b8c4a24cefed</th>\n",
       "      <td>2018-03-30</td>\n",
       "      <td>0.872070</td>\n",
       "      <td>0.005573</td>\n",
       "      <td>0.007679</td>\n",
       "      <td>0.815918</td>\n",
       "      <td>0.001247</td>\n",
       "      <td>NaN</td>\n",
       "      <td>0.000231</td>\n",
       "      <td>0.005527</td>\n",
       "      <td>0.002436</td>\n",
       "      <td>...</td>\n",
       "      <td>0.033325</td>\n",
       "      <td>-0.567383</td>\n",
       "      <td>0.284912</td>\n",
       "      <td>0.266113</td>\n",
       "      <td>0.210327</td>\n",
       "      <td>0.570312</td>\n",
       "      <td>0.445557</td>\n",
       "      <td>0.599121</td>\n",
       "      <td>0.433105</td>\n",
       "      <td>0.134155</td>\n",
       "    </tr>\n",
       "    <tr>\n",
       "      <th>...</th>\n",
       "      <td>...</td>\n",
       "      <td>...</td>\n",
       "      <td>...</td>\n",
       "      <td>...</td>\n",
       "      <td>...</td>\n",
       "      <td>...</td>\n",
       "      <td>...</td>\n",
       "      <td>...</td>\n",
       "      <td>...</td>\n",
       "      <td>...</td>\n",
       "      <td>...</td>\n",
       "      <td>...</td>\n",
       "      <td>...</td>\n",
       "      <td>...</td>\n",
       "      <td>...</td>\n",
       "      <td>...</td>\n",
       "      <td>...</td>\n",
       "      <td>...</td>\n",
       "      <td>...</td>\n",
       "      <td>...</td>\n",
       "      <td>...</td>\n",
       "    </tr>\n",
       "    <tr>\n",
       "      <th>ffff41c8a52833b56430603969b9ca48d208e7c192c6a4081a6acc28cf4f8af7</th>\n",
       "      <td>2018-03-31</td>\n",
       "      <td>0.844238</td>\n",
       "      <td>0.447510</td>\n",
       "      <td>0.028519</td>\n",
       "      <td>1.009766</td>\n",
       "      <td>0.001928</td>\n",
       "      <td>0.128662</td>\n",
       "      <td>0.003483</td>\n",
       "      <td>0.005894</td>\n",
       "      <td>0.002281</td>\n",
       "      <td>...</td>\n",
       "      <td>5.476562</td>\n",
       "      <td>-1.033203</td>\n",
       "      <td>0.061218</td>\n",
       "      <td>59.000000</td>\n",
       "      <td>0.228638</td>\n",
       "      <td>0.110352</td>\n",
       "      <td>0.066528</td>\n",
       "      <td>73.625000</td>\n",
       "      <td>28.000000</td>\n",
       "      <td>0.317139</td>\n",
       "    </tr>\n",
       "    <tr>\n",
       "      <th>ffff518bb2075e4816ee3fe9f3b152c57fc0e6f01bf7fdd3e5b57cfcbee30286</th>\n",
       "      <td>2018-03-22</td>\n",
       "      <td>0.831055</td>\n",
       "      <td>0.033661</td>\n",
       "      <td>0.292480</td>\n",
       "      <td>0.055664</td>\n",
       "      <td>0.006954</td>\n",
       "      <td>NaN</td>\n",
       "      <td>0.005791</td>\n",
       "      <td>0.233032</td>\n",
       "      <td>0.132202</td>\n",
       "      <td>...</td>\n",
       "      <td>0.290527</td>\n",
       "      <td>0.877441</td>\n",
       "      <td>2.000000</td>\n",
       "      <td>7.410156</td>\n",
       "      <td>0.047241</td>\n",
       "      <td>0.304688</td>\n",
       "      <td>0.259277</td>\n",
       "      <td>13.007812</td>\n",
       "      <td>55.312500</td>\n",
       "      <td>2.687500</td>\n",
       "    </tr>\n",
       "    <tr>\n",
       "      <th>ffff9984b999fccb2b6127635ed0736dda94e544e67e026eee4d20f680639ff6</th>\n",
       "      <td>2018-03-07</td>\n",
       "      <td>0.800293</td>\n",
       "      <td>0.267090</td>\n",
       "      <td>0.020569</td>\n",
       "      <td>1.006836</td>\n",
       "      <td>0.000957</td>\n",
       "      <td>0.066650</td>\n",
       "      <td>0.007423</td>\n",
       "      <td>0.006313</td>\n",
       "      <td>0.001022</td>\n",
       "      <td>...</td>\n",
       "      <td>1.083008</td>\n",
       "      <td>-1.031250</td>\n",
       "      <td>0.088318</td>\n",
       "      <td>0.613281</td>\n",
       "      <td>0.111572</td>\n",
       "      <td>0.185669</td>\n",
       "      <td>0.173950</td>\n",
       "      <td>38.562500</td>\n",
       "      <td>6.703125</td>\n",
       "      <td>0.138184</td>\n",
       "    </tr>\n",
       "    <tr>\n",
       "      <th>ffffa5c46bc8de74f5a4554e74e239c8dee6b9baf388145b2c3d01967fcce461</th>\n",
       "      <td>2018-03-23</td>\n",
       "      <td>0.753906</td>\n",
       "      <td>0.008621</td>\n",
       "      <td>0.015839</td>\n",
       "      <td>0.714355</td>\n",
       "      <td>0.000993</td>\n",
       "      <td>0.408936</td>\n",
       "      <td>0.003391</td>\n",
       "      <td>0.050049</td>\n",
       "      <td>0.133057</td>\n",
       "      <td>...</td>\n",
       "      <td>0.055756</td>\n",
       "      <td>0.504883</td>\n",
       "      <td>0.426758</td>\n",
       "      <td>0.144165</td>\n",
       "      <td>0.156250</td>\n",
       "      <td>0.718262</td>\n",
       "      <td>0.611816</td>\n",
       "      <td>3.857422</td>\n",
       "      <td>7.378906</td>\n",
       "      <td>0.444092</td>\n",
       "    </tr>\n",
       "    <tr>\n",
       "      <th>fffff1d38b785cef84adeace64f8f83db3a0c31e8d92eaba8b115f71cab04681</th>\n",
       "      <td>2018-03-14</td>\n",
       "      <td>0.981934</td>\n",
       "      <td>0.002474</td>\n",
       "      <td>0.000077</td>\n",
       "      <td>0.992676</td>\n",
       "      <td>0.000809</td>\n",
       "      <td>0.119141</td>\n",
       "      <td>0.003286</td>\n",
       "      <td>0.014091</td>\n",
       "      <td>0.006794</td>\n",
       "      <td>...</td>\n",
       "      <td>0.092651</td>\n",
       "      <td>-0.719727</td>\n",
       "      <td>0.033356</td>\n",
       "      <td>3.203125</td>\n",
       "      <td>0.039612</td>\n",
       "      <td>0.030350</td>\n",
       "      <td>0.041870</td>\n",
       "      <td>0.318115</td>\n",
       "      <td>0.254150</td>\n",
       "      <td>0.104065</td>\n",
       "    </tr>\n",
       "  </tbody>\n",
       "</table>\n",
       "<p>458913 rows × 169 columns</p>\n",
       "</div>"
      ],
      "text/plain": [
       "                                                          S_2       P_2  \\\n",
       "customer_ID                                                               \n",
       "0000099d6bd597052cdcda90ffabf56573fe9d7c79be5fb... 2018-03-13  0.934570   \n",
       "00000fd6641609c6ece5454664794f0340ad84dddce9a26... 2018-03-25  0.880371   \n",
       "00001b22f846c82c51f6e3958ccd81970162bae8b007e80... 2018-03-12  0.880859   \n",
       "000041bdba6ecadd89a52d11886e8eaaec9325906c97233... 2018-03-29  0.621582   \n",
       "00007889e4fcd2614b6cbe7f8f3d2e5c728eca32d9eb8ad... 2018-03-30  0.872070   \n",
       "...                                                       ...       ...   \n",
       "ffff41c8a52833b56430603969b9ca48d208e7c192c6a40... 2018-03-31  0.844238   \n",
       "ffff518bb2075e4816ee3fe9f3b152c57fc0e6f01bf7fdd... 2018-03-22  0.831055   \n",
       "ffff9984b999fccb2b6127635ed0736dda94e544e67e026... 2018-03-07  0.800293   \n",
       "ffffa5c46bc8de74f5a4554e74e239c8dee6b9baf388145... 2018-03-23  0.753906   \n",
       "fffff1d38b785cef84adeace64f8f83db3a0c31e8d92eab... 2018-03-14  0.981934   \n",
       "\n",
       "                                                        D_39       B_1  \\\n",
       "customer_ID                                                              \n",
       "0000099d6bd597052cdcda90ffabf56573fe9d7c79be5fb...  0.009117  0.009384   \n",
       "00000fd6641609c6ece5454664794f0340ad84dddce9a26...  0.178101  0.034698   \n",
       "00001b22f846c82c51f6e3958ccd81970162bae8b007e80...  0.009705  0.004284   \n",
       "000041bdba6ecadd89a52d11886e8eaaec9325906c97233...  0.001082  0.012566   \n",
       "00007889e4fcd2614b6cbe7f8f3d2e5c728eca32d9eb8ad...  0.005573  0.007679   \n",
       "...                                                      ...       ...   \n",
       "ffff41c8a52833b56430603969b9ca48d208e7c192c6a40...  0.447510  0.028519   \n",
       "ffff518bb2075e4816ee3fe9f3b152c57fc0e6f01bf7fdd...  0.033661  0.292480   \n",
       "ffff9984b999fccb2b6127635ed0736dda94e544e67e026...  0.267090  0.020569   \n",
       "ffffa5c46bc8de74f5a4554e74e239c8dee6b9baf388145...  0.008621  0.015839   \n",
       "fffff1d38b785cef84adeace64f8f83db3a0c31e8d92eab...  0.002474  0.000077   \n",
       "\n",
       "                                                         B_2       R_1  \\\n",
       "customer_ID                                                              \n",
       "0000099d6bd597052cdcda90ffabf56573fe9d7c79be5fb...  1.007812  0.006104   \n",
       "00000fd6641609c6ece5454664794f0340ad84dddce9a26...  1.003906  0.006912   \n",
       "00001b22f846c82c51f6e3958ccd81970162bae8b007e80...  0.812500  0.006451   \n",
       "000041bdba6ecadd89a52d11886e8eaaec9325906c97233...  1.005859  0.007828   \n",
       "00007889e4fcd2614b6cbe7f8f3d2e5c728eca32d9eb8ad...  0.815918  0.001247   \n",
       "...                                                      ...       ...   \n",
       "ffff41c8a52833b56430603969b9ca48d208e7c192c6a40...  1.009766  0.001928   \n",
       "ffff518bb2075e4816ee3fe9f3b152c57fc0e6f01bf7fdd...  0.055664  0.006954   \n",
       "ffff9984b999fccb2b6127635ed0736dda94e544e67e026...  1.006836  0.000957   \n",
       "ffffa5c46bc8de74f5a4554e74e239c8dee6b9baf388145...  0.714355  0.000993   \n",
       "fffff1d38b785cef84adeace64f8f83db3a0c31e8d92eab...  0.992676  0.000809   \n",
       "\n",
       "                                                         S_3      D_41  \\\n",
       "customer_ID                                                              \n",
       "0000099d6bd597052cdcda90ffabf56573fe9d7c79be5fb...  0.135010  0.001604   \n",
       "00000fd6641609c6ece5454664794f0340ad84dddce9a26...  0.165527  0.005550   \n",
       "00001b22f846c82c51f6e3958ccd81970162bae8b007e80...       NaN  0.003796   \n",
       "000041bdba6ecadd89a52d11886e8eaaec9325906c97233...  0.287842  0.004532   \n",
       "00007889e4fcd2614b6cbe7f8f3d2e5c728eca32d9eb8ad...       NaN  0.000231   \n",
       "...                                                      ...       ...   \n",
       "ffff41c8a52833b56430603969b9ca48d208e7c192c6a40...  0.128662  0.003483   \n",
       "ffff518bb2075e4816ee3fe9f3b152c57fc0e6f01bf7fdd...       NaN  0.005791   \n",
       "ffff9984b999fccb2b6127635ed0736dda94e544e67e026...  0.066650  0.007423   \n",
       "ffffa5c46bc8de74f5a4554e74e239c8dee6b9baf388145...  0.408936  0.003391   \n",
       "fffff1d38b785cef84adeace64f8f83db3a0c31e8d92eab...  0.119141  0.003286   \n",
       "\n",
       "                                                         B_3      D_44  ...  \\\n",
       "customer_ID                                                             ...   \n",
       "0000099d6bd597052cdcda90ffabf56573fe9d7c79be5fb...  0.007175  0.003258  ...   \n",
       "00000fd6641609c6ece5454664794f0340ad84dddce9a26...  0.005070  0.008781  ...   \n",
       "00001b22f846c82c51f6e3958ccd81970162bae8b007e80...  0.007195  0.000628  ...   \n",
       "000041bdba6ecadd89a52d11886e8eaaec9325906c97233...  0.009941  0.007793  ...   \n",
       "00007889e4fcd2614b6cbe7f8f3d2e5c728eca32d9eb8ad...  0.005527  0.002436  ...   \n",
       "...                                                      ...       ...  ...   \n",
       "ffff41c8a52833b56430603969b9ca48d208e7c192c6a40...  0.005894  0.002281  ...   \n",
       "ffff518bb2075e4816ee3fe9f3b152c57fc0e6f01bf7fdd...  0.233032  0.132202  ...   \n",
       "ffff9984b999fccb2b6127635ed0736dda94e544e67e026...  0.006313  0.001022  ...   \n",
       "ffffa5c46bc8de74f5a4554e74e239c8dee6b9baf388145...  0.050049  0.133057  ...   \n",
       "fffff1d38b785cef84adeace64f8f83db3a0c31e8d92eab...  0.014091  0.006794  ...   \n",
       "\n",
       "                                                      c_BBBB   c_BBBB1  \\\n",
       "customer_ID                                                              \n",
       "0000099d6bd597052cdcda90ffabf56573fe9d7c79be5fb...  0.221191 -1.042969   \n",
       "00000fd6641609c6ece5454664794f0340ad84dddce9a26...  0.700195 -1.027344   \n",
       "00001b22f846c82c51f6e3958ccd81970162bae8b007e80...  0.377197 -1.032227   \n",
       "000041bdba6ecadd89a52d11886e8eaaec9325906c97233...  1.425781 -1.041992   \n",
       "00007889e4fcd2614b6cbe7f8f3d2e5c728eca32d9eb8ad...  0.033325 -0.567383   \n",
       "...                                                      ...       ...   \n",
       "ffff41c8a52833b56430603969b9ca48d208e7c192c6a40...  5.476562 -1.033203   \n",
       "ffff518bb2075e4816ee3fe9f3b152c57fc0e6f01bf7fdd...  0.290527  0.877441   \n",
       "ffff9984b999fccb2b6127635ed0736dda94e544e67e026...  1.083008 -1.031250   \n",
       "ffffa5c46bc8de74f5a4554e74e239c8dee6b9baf388145...  0.055756  0.504883   \n",
       "fffff1d38b785cef84adeace64f8f83db3a0c31e8d92eab...  0.092651 -0.719727   \n",
       "\n",
       "                                                     c_BBBB2     c_RRR0  \\\n",
       "customer_ID                                                               \n",
       "0000099d6bd597052cdcda90ffabf56573fe9d7c79be5fb...  0.083862   0.064148   \n",
       "00000fd6641609c6ece5454664794f0340ad84dddce9a26...  0.033081  12.320312   \n",
       "00001b22f846c82c51f6e3958ccd81970162bae8b007e80...  0.039948   1.926758   \n",
       "000041bdba6ecadd89a52d11886e8eaaec9325906c97233...  0.023605  15.953125   \n",
       "00007889e4fcd2614b6cbe7f8f3d2e5c728eca32d9eb8ad...  0.284912   0.266113   \n",
       "...                                                      ...        ...   \n",
       "ffff41c8a52833b56430603969b9ca48d208e7c192c6a40...  0.061218  59.000000   \n",
       "ffff518bb2075e4816ee3fe9f3b152c57fc0e6f01bf7fdd...  2.000000   7.410156   \n",
       "ffff9984b999fccb2b6127635ed0736dda94e544e67e026...  0.088318   0.613281   \n",
       "ffffa5c46bc8de74f5a4554e74e239c8dee6b9baf388145...  0.426758   0.144165   \n",
       "fffff1d38b785cef84adeace64f8f83db3a0c31e8d92eab...  0.033356   3.203125   \n",
       "\n",
       "                                                      c_RRR1  c_PD_348  \\\n",
       "customer_ID                                                              \n",
       "0000099d6bd597052cdcda90ffabf56573fe9d7c79be5fb...  0.222046  0.305664   \n",
       "00000fd6641609c6ece5454664794f0340ad84dddce9a26...  0.116577  0.025742   \n",
       "00001b22f846c82c51f6e3958ccd81970162bae8b007e80...  0.218750  0.127808   \n",
       "000041bdba6ecadd89a52d11886e8eaaec9325906c97233...  0.216919       NaN   \n",
       "00007889e4fcd2614b6cbe7f8f3d2e5c728eca32d9eb8ad...  0.210327  0.570312   \n",
       "...                                                      ...       ...   \n",
       "ffff41c8a52833b56430603969b9ca48d208e7c192c6a40...  0.228638  0.110352   \n",
       "ffff518bb2075e4816ee3fe9f3b152c57fc0e6f01bf7fdd...  0.047241  0.304688   \n",
       "ffff9984b999fccb2b6127635ed0736dda94e544e67e026...  0.111572  0.185669   \n",
       "ffffa5c46bc8de74f5a4554e74e239c8dee6b9baf388145...  0.156250  0.718262   \n",
       "fffff1d38b785cef84adeace64f8f83db3a0c31e8d92eab...  0.039612  0.030350   \n",
       "\n",
       "                                                    c_PD_355   c_PD_439  \\\n",
       "customer_ID                                                               \n",
       "0000099d6bd597052cdcda90ffabf56573fe9d7c79be5fb...  0.297607   1.368164   \n",
       "00000fd6641609c6ece5454664794f0340ad84dddce9a26...  0.063232  37.437500   \n",
       "00001b22f846c82c51f6e3958ccd81970162bae8b007e80...  0.157349   3.468750   \n",
       "000041bdba6ecadd89a52d11886e8eaaec9325906c97233...  0.031830   0.135254   \n",
       "00007889e4fcd2614b6cbe7f8f3d2e5c728eca32d9eb8ad...  0.445557   0.599121   \n",
       "...                                                      ...        ...   \n",
       "ffff41c8a52833b56430603969b9ca48d208e7c192c6a40...  0.066528  73.625000   \n",
       "ffff518bb2075e4816ee3fe9f3b152c57fc0e6f01bf7fdd...  0.259277  13.007812   \n",
       "ffff9984b999fccb2b6127635ed0736dda94e544e67e026...  0.173950  38.562500   \n",
       "ffffa5c46bc8de74f5a4554e74e239c8dee6b9baf388145...  0.611816   3.857422   \n",
       "fffff1d38b785cef84adeace64f8f83db3a0c31e8d92eab...  0.041870   0.318115   \n",
       "\n",
       "                                                      c_PB_49   c_PR_41  \n",
       "customer_ID                                                              \n",
       "0000099d6bd597052cdcda90ffabf56573fe9d7c79be5fb...   1.430664  0.916016  \n",
       "00000fd6641609c6ece5454664794f0340ad84dddce9a26...   2.716797  1.453125  \n",
       "00001b22f846c82c51f6e3958ccd81970162bae8b007e80...   3.357422  2.304688  \n",
       "000041bdba6ecadd89a52d11886e8eaaec9325906c97233...   2.564453  0.978027  \n",
       "00007889e4fcd2614b6cbe7f8f3d2e5c728eca32d9eb8ad...   0.433105  0.134155  \n",
       "...                                                       ...       ...  \n",
       "ffff41c8a52833b56430603969b9ca48d208e7c192c6a40...  28.000000  0.317139  \n",
       "ffff518bb2075e4816ee3fe9f3b152c57fc0e6f01bf7fdd...  55.312500  2.687500  \n",
       "ffff9984b999fccb2b6127635ed0736dda94e544e67e026...   6.703125  0.138184  \n",
       "ffffa5c46bc8de74f5a4554e74e239c8dee6b9baf388145...   7.378906  0.444092  \n",
       "fffff1d38b785cef84adeace64f8f83db3a0c31e8d92eab...   0.254150  0.104065  \n",
       "\n",
       "[458913 rows x 169 columns]"
      ]
     },
     "execution_count": 6,
     "metadata": {},
     "output_type": "execute_result"
    }
   ],
   "source": [
    "df_train"
   ]
  },
  {
   "cell_type": "markdown",
   "id": "fd65a94c",
   "metadata": {
    "papermill": {
     "duration": 0.008865,
     "end_time": "2022-08-21T18:13:50.374672",
     "exception": false,
     "start_time": "2022-08-21T18:13:50.365807",
     "status": "completed"
    },
    "tags": []
   },
   "source": [
    "# **Model&Predict**"
   ]
  },
  {
   "cell_type": "code",
   "execution_count": 7,
   "id": "2cec58ed",
   "metadata": {
    "execution": {
     "iopub.execute_input": "2022-08-21T18:13:50.395385Z",
     "iopub.status.busy": "2022-08-21T18:13:50.394894Z",
     "iopub.status.idle": "2022-08-21T18:13:53.965911Z",
     "shell.execute_reply": "2022-08-21T18:13:53.964502Z"
    },
    "papermill": {
     "duration": 3.584833,
     "end_time": "2022-08-21T18:13:53.968755",
     "exception": false,
     "start_time": "2022-08-21T18:13:50.383922",
     "status": "completed"
    },
    "tags": []
   },
   "outputs": [
    {
     "name": "stdout",
     "output_type": "stream",
     "text": [
      "X_train Training Data Size : 367130\n",
      "X_test Testing Data Size   : 91783\n"
     ]
    }
   ],
   "source": [
    "y = df_train['target']\n",
    "X = df_train.drop(['target'],axis=1).drop(\"S_2\", axis=1)\n",
    "from sklearn.model_selection import train_test_split\n",
    "X_train, X_test, y_train, y_test = train_test_split(X, y, test_size=0.2, random_state=26,stratify=y)\n",
    "\n",
    "print(\"X_train Training Data Size :\",X_train.shape[0])\n",
    "print(\"X_test Testing Data Size   :\",X_test.shape[0])"
   ]
  },
  {
   "cell_type": "code",
   "execution_count": 8,
   "id": "260ee057",
   "metadata": {
    "execution": {
     "iopub.execute_input": "2022-08-21T18:13:53.988109Z",
     "iopub.status.busy": "2022-08-21T18:13:53.987641Z",
     "iopub.status.idle": "2022-08-21T18:13:53.993455Z",
     "shell.execute_reply": "2022-08-21T18:13:53.992100Z"
    },
    "papermill": {
     "duration": 0.018886,
     "end_time": "2022-08-21T18:13:53.996304",
     "exception": false,
     "start_time": "2022-08-21T18:13:53.977418",
     "status": "completed"
    },
    "tags": []
   },
   "outputs": [],
   "source": [
    "Xname = X.columns"
   ]
  },
  {
   "cell_type": "code",
   "execution_count": 9,
   "id": "6c972dca",
   "metadata": {
    "execution": {
     "iopub.execute_input": "2022-08-21T18:13:54.014674Z",
     "iopub.status.busy": "2022-08-21T18:13:54.014243Z",
     "iopub.status.idle": "2022-08-21T18:13:55.813986Z",
     "shell.execute_reply": "2022-08-21T18:13:55.813001Z"
    },
    "papermill": {
     "duration": 1.812178,
     "end_time": "2022-08-21T18:13:55.817021",
     "exception": false,
     "start_time": "2022-08-21T18:13:54.004843",
     "status": "completed"
    },
    "tags": []
   },
   "outputs": [
    {
     "data": {
      "text/html": [
       "<style type='text/css'>\n",
       ".datatable table.frame { margin-bottom: 0; }\n",
       ".datatable table.frame thead { border-bottom: none; }\n",
       ".datatable table.frame tr.coltypes td {  color: #FFFFFF;  line-height: 6px;  padding: 0 0.5em;}\n",
       ".datatable .bool    { background: #DDDD99; }\n",
       ".datatable .object  { background: #565656; }\n",
       ".datatable .int     { background: #5D9E5D; }\n",
       ".datatable .float   { background: #4040CC; }\n",
       ".datatable .str     { background: #CC4040; }\n",
       ".datatable .time    { background: #40CC40; }\n",
       ".datatable .row_index {  background: var(--jp-border-color3);  border-right: 1px solid var(--jp-border-color0);  color: var(--jp-ui-font-color3);  font-size: 9px;}\n",
       ".datatable .frame tbody td { text-align: left; }\n",
       ".datatable .frame tr.coltypes .row_index {  background: var(--jp-border-color0);}\n",
       ".datatable th:nth-child(2) { padding-left: 12px; }\n",
       ".datatable .hellipsis {  color: var(--jp-cell-editor-border-color);}\n",
       ".datatable .vellipsis {  background: var(--jp-layout-color0);  color: var(--jp-cell-editor-border-color);}\n",
       ".datatable .na {  color: var(--jp-cell-editor-border-color);  font-size: 80%;}\n",
       ".datatable .sp {  opacity: 0.25;}\n",
       ".datatable .footer { font-size: 9px; }\n",
       ".datatable .frame_dimensions {  background: var(--jp-border-color3);  border-top: 1px solid var(--jp-border-color0);  color: var(--jp-ui-font-color3);  display: inline-block;  opacity: 0.6;  padding: 1px 10px 1px 5px;}\n",
       "</style>\n"
      ],
      "text/plain": [
       "<IPython.core.display.HTML object>"
      ]
     },
     "metadata": {},
     "output_type": "display_data"
    }
   ],
   "source": [
    "import optuna.integration.lightgbm as lgb"
   ]
  },
  {
   "cell_type": "code",
   "execution_count": 10,
   "id": "91c76e4a",
   "metadata": {
    "execution": {
     "iopub.execute_input": "2022-08-21T18:13:55.837121Z",
     "iopub.status.busy": "2022-08-21T18:13:55.836209Z",
     "iopub.status.idle": "2022-08-21T18:13:56.908021Z",
     "shell.execute_reply": "2022-08-21T18:13:56.906946Z"
    },
    "papermill": {
     "duration": 1.08513,
     "end_time": "2022-08-21T18:13:56.911136",
     "exception": false,
     "start_time": "2022-08-21T18:13:55.826006",
     "status": "completed"
    },
    "tags": []
   },
   "outputs": [],
   "source": [
    "TEST_SIZE = 0.2\n",
    "RANDOM_STATE = 42\n",
    "# trainのデータセットの3割をモデル学習時のバリデーションデータとして利用する\n",
    "X_train, X_valid, y_train, y_valid = train_test_split(X_train,\n",
    "                                                    y_train,\n",
    "                                                    test_size=TEST_SIZE,\n",
    "                                                    random_state=RANDOM_STATE)\n",
    "\n",
    "# LightGBMを利用するのに必要なフォーマットに変換\n",
    "lgb_train = lgb.Dataset(X_train, y_train)\n",
    "lgb_eval = lgb.Dataset(X_valid, y_valid, reference=lgb_train)"
   ]
  },
  {
   "cell_type": "code",
   "execution_count": 11,
   "id": "2614a734",
   "metadata": {
    "execution": {
     "iopub.execute_input": "2022-08-21T18:13:56.930163Z",
     "iopub.status.busy": "2022-08-21T18:13:56.929456Z",
     "iopub.status.idle": "2022-08-21T18:13:56.934589Z",
     "shell.execute_reply": "2022-08-21T18:13:56.933430Z"
    },
    "papermill": {
     "duration": 0.017328,
     "end_time": "2022-08-21T18:13:56.937154",
     "exception": false,
     "start_time": "2022-08-21T18:13:56.919826",
     "status": "completed"
    },
    "tags": []
   },
   "outputs": [],
   "source": [
    "from sklearn.metrics import accuracy_score"
   ]
  },
  {
   "cell_type": "code",
   "execution_count": 12,
   "id": "f4767b53",
   "metadata": {
    "execution": {
     "iopub.execute_input": "2022-08-21T18:13:56.955509Z",
     "iopub.status.busy": "2022-08-21T18:13:56.955133Z",
     "iopub.status.idle": "2022-08-21T18:13:56.959800Z",
     "shell.execute_reply": "2022-08-21T18:13:56.958681Z"
    },
    "papermill": {
     "duration": 0.016459,
     "end_time": "2022-08-21T18:13:56.962164",
     "exception": false,
     "start_time": "2022-08-21T18:13:56.945705",
     "status": "completed"
    },
    "tags": []
   },
   "outputs": [],
   "source": [
    "# import lightgbm as lgb\n",
    "# import optuna.integration.lightgbm as lgb\n",
    "# model = lgb.LGBMClassifier(boosting_type='goss', max_depth=5, random_state=0)"
   ]
  },
  {
   "cell_type": "code",
   "execution_count": 13,
   "id": "81fdea98",
   "metadata": {
    "execution": {
     "iopub.execute_input": "2022-08-21T18:13:56.981207Z",
     "iopub.status.busy": "2022-08-21T18:13:56.980695Z",
     "iopub.status.idle": "2022-08-21T19:04:58.666317Z",
     "shell.execute_reply": "2022-08-21T19:04:58.664988Z"
    },
    "papermill": {
     "duration": 3061.713774,
     "end_time": "2022-08-21T19:04:58.684144",
     "exception": false,
     "start_time": "2022-08-21T18:13:56.970370",
     "status": "completed"
    },
    "tags": []
   },
   "outputs": [
    {
     "name": "stderr",
     "output_type": "stream",
     "text": [
      "\u001b[32m[I 2022-08-21 18:13:56,984]\u001b[0m A new study created in memory with name: no-name-8d475a30-342d-44c0-bcba-a691816d34ef\u001b[0m\n",
      "feature_fraction, val_score: inf:   0%|          | 0/7 [00:00<?, ?it/s]"
     ]
    },
    {
     "name": "stdout",
     "output_type": "stream",
     "text": [
      "[LightGBM] [Warning] Unknown parameter: verbose_eval\n"
     ]
    },
    {
     "name": "stderr",
     "output_type": "stream",
     "text": [
      "feature_fraction, val_score: 0.149719:  14%|#4        | 1/7 [00:32<03:12, 32.03s/it]\u001b[32m[I 2022-08-21 18:14:29,065]\u001b[0m Trial 0 finished with value: 0.14971858296540178 and parameters: {'feature_fraction': 0.8}. Best is trial 0 with value: 0.14971858296540178.\u001b[0m\n",
      "feature_fraction, val_score: 0.149719:  29%|##8       | 2/7 [01:01<02:31, 30.35s/it]\u001b[32m[I 2022-08-21 18:14:58,240]\u001b[0m Trial 1 finished with value: 0.15007890468478052 and parameters: {'feature_fraction': 0.7}. Best is trial 0 with value: 0.14971858296540178.\u001b[0m\n",
      "feature_fraction, val_score: 0.149719:  43%|####2     | 3/7 [01:26<01:53, 28.26s/it]\u001b[32m[I 2022-08-21 18:15:24,000]\u001b[0m Trial 2 finished with value: 0.15033373091640995 and parameters: {'feature_fraction': 0.6}. Best is trial 0 with value: 0.14971858296540178.\u001b[0m\n",
      "feature_fraction, val_score: 0.149719:  57%|#####7    | 4/7 [01:48<01:16, 25.60s/it]\u001b[32m[I 2022-08-21 18:15:45,520]\u001b[0m Trial 3 finished with value: 0.15113392828438224 and parameters: {'feature_fraction': 0.4}. Best is trial 0 with value: 0.14971858296540178.\u001b[0m\n",
      "feature_fraction, val_score: 0.149701:  71%|#######1  | 5/7 [02:24<00:58, 29.47s/it]\u001b[32m[I 2022-08-21 18:16:21,865]\u001b[0m Trial 4 finished with value: 0.1497010557691406 and parameters: {'feature_fraction': 1.0}. Best is trial 4 with value: 0.1497010557691406.\u001b[0m\n",
      "feature_fraction, val_score: 0.149701:  86%|########5 | 6/7 [02:48<00:27, 27.41s/it]\u001b[32m[I 2022-08-21 18:16:45,262]\u001b[0m Trial 5 finished with value: 0.15079537595217757 and parameters: {'feature_fraction': 0.5}. Best is trial 4 with value: 0.1497010557691406.\u001b[0m\n",
      "feature_fraction, val_score: 0.149701: 100%|##########| 7/7 [03:22<00:00, 29.58s/it]\u001b[32m[I 2022-08-21 18:17:19,331]\u001b[0m Trial 6 finished with value: 0.15002395820452258 and parameters: {'feature_fraction': 0.8999999999999999}. Best is trial 4 with value: 0.1497010557691406.\u001b[0m\n",
      "feature_fraction, val_score: 0.149701: 100%|##########| 7/7 [03:22<00:00, 28.91s/it]\n",
      "num_leaves, val_score: 0.147544:   5%|5         | 1/20 [00:46<14:42, 46.47s/it]\u001b[32m[I 2022-08-21 18:18:05,807]\u001b[0m Trial 7 finished with value: 0.14754379371585627 and parameters: {'num_leaves': 87}. Best is trial 7 with value: 0.14754379371585627.\u001b[0m\n",
      "num_leaves, val_score: 0.146162:  10%|#         | 2/20 [01:40<15:11, 50.66s/it]\u001b[32m[I 2022-08-21 18:18:59,398]\u001b[0m Trial 8 finished with value: 0.14616181939368744 and parameters: {'num_leaves': 158}. Best is trial 8 with value: 0.14616181939368744.\u001b[0m\n",
      "num_leaves, val_score: 0.146162:  15%|#5        | 3/20 [02:30<14:18, 50.47s/it]\u001b[32m[I 2022-08-21 18:19:49,653]\u001b[0m Trial 9 finished with value: 0.14701333777801723 and parameters: {'num_leaves': 115}. Best is trial 8 with value: 0.14616181939368744.\u001b[0m\n",
      "num_leaves, val_score: 0.146162:  20%|##        | 4/20 [03:14<12:49, 48.10s/it]\u001b[32m[I 2022-08-21 18:20:34,107]\u001b[0m Trial 10 finished with value: 0.14765716843978252 and parameters: {'num_leaves': 76}. Best is trial 8 with value: 0.14616181939368744.\u001b[0m\n",
      "num_leaves, val_score: 0.146162:  25%|##5       | 5/20 [03:52<11:04, 44.28s/it]\u001b[32m[I 2022-08-21 18:21:11,633]\u001b[0m Trial 11 finished with value: 0.1492956670663657 and parameters: {'num_leaves': 34}. Best is trial 8 with value: 0.14616181939368744.\u001b[0m\n",
      "num_leaves, val_score: 0.146162:  30%|###       | 6/20 [04:47<11:11, 47.98s/it]\u001b[32m[I 2022-08-21 18:22:06,787]\u001b[0m Trial 12 finished with value: 0.14639237999040883 and parameters: {'num_leaves': 253}. Best is trial 8 with value: 0.14616181939368744.\u001b[0m\n",
      "num_leaves, val_score: 0.146162:  35%|###5      | 7/20 [05:27<09:52, 45.54s/it]\u001b[32m[I 2022-08-21 18:22:47,307]\u001b[0m Trial 13 finished with value: 0.14701013318297718 and parameters: {'num_leaves': 120}. Best is trial 8 with value: 0.14616181939368744.\u001b[0m\n",
      "num_leaves, val_score: 0.146162:  40%|####      | 8/20 [06:17<09:23, 46.95s/it]\u001b[32m[I 2022-08-21 18:23:37,262]\u001b[0m Trial 14 finished with value: 0.14654380232831635 and parameters: {'num_leaves': 213}. Best is trial 8 with value: 0.14616181939368744.\u001b[0m\n",
      "num_leaves, val_score: 0.146162:  45%|####5     | 9/20 [07:17<09:19, 50.83s/it]\u001b[32m[I 2022-08-21 18:24:36,646]\u001b[0m Trial 15 finished with value: 0.14670227003650543 and parameters: {'num_leaves': 237}. Best is trial 8 with value: 0.14616181939368744.\u001b[0m\n",
      "num_leaves, val_score: 0.146162:  50%|#####     | 10/20 [08:07<08:26, 50.62s/it]\u001b[32m[I 2022-08-21 18:25:26,791]\u001b[0m Trial 16 finished with value: 0.146755001565886 and parameters: {'num_leaves': 187}. Best is trial 8 with value: 0.14616181939368744.\u001b[0m\n",
      "num_leaves, val_score: 0.146162:  55%|#####5    | 11/20 [09:04<07:52, 52.55s/it]\u001b[32m[I 2022-08-21 18:26:23,706]\u001b[0m Trial 17 finished with value: 0.14629077052661993 and parameters: {'num_leaves': 168}. Best is trial 8 with value: 0.14616181939368744.\u001b[0m\n",
      "num_leaves, val_score: 0.146162:  60%|######    | 12/20 [09:55<06:56, 52.06s/it]\u001b[32m[I 2022-08-21 18:27:14,639]\u001b[0m Trial 18 finished with value: 0.14663493888739323 and parameters: {'num_leaves': 172}. Best is trial 8 with value: 0.14616181939368744.\u001b[0m\n",
      "num_leaves, val_score: 0.146162:  65%|######5   | 13/20 [10:41<05:53, 50.43s/it]\u001b[32m[I 2022-08-21 18:28:01,329]\u001b[0m Trial 19 finished with value: 0.14682769826374586 and parameters: {'num_leaves': 160}. Best is trial 8 with value: 0.14616181939368744.\u001b[0m\n",
      "num_leaves, val_score: 0.146162:  70%|#######   | 14/20 [11:30<04:58, 49.79s/it]\u001b[32m[I 2022-08-21 18:28:49,649]\u001b[0m Trial 20 finished with value: 0.14659443539043343 and parameters: {'num_leaves': 154}. Best is trial 8 with value: 0.14616181939368744.\u001b[0m\n",
      "num_leaves, val_score: 0.146162:  75%|#######5  | 15/20 [12:19<04:07, 49.52s/it]\u001b[32m[I 2022-08-21 18:29:38,538]\u001b[0m Trial 21 finished with value: 0.14666644185735692 and parameters: {'num_leaves': 203}. Best is trial 8 with value: 0.14616181939368744.\u001b[0m\n",
      "num_leaves, val_score: 0.146162:  80%|########  | 16/20 [13:05<03:14, 48.51s/it]\u001b[32m[I 2022-08-21 18:30:24,716]\u001b[0m Trial 22 finished with value: 0.14720481083432393 and parameters: {'num_leaves': 137}. Best is trial 8 with value: 0.14616181939368744.\u001b[0m\n",
      "num_leaves, val_score: 0.146162:  85%|########5 | 17/20 [13:52<02:24, 48.20s/it]\u001b[32m[I 2022-08-21 18:31:12,186]\u001b[0m Trial 23 finished with value: 0.14727894916356765 and parameters: {'num_leaves': 91}. Best is trial 8 with value: 0.14616181939368744.\u001b[0m\n",
      "num_leaves, val_score: 0.146162:  90%|######### | 18/20 [14:09<01:17, 38.75s/it]\u001b[32m[I 2022-08-21 18:31:28,923]\u001b[0m Trial 24 finished with value: 0.17685367007258382 and parameters: {'num_leaves': 2}. Best is trial 8 with value: 0.14616181939368744.\u001b[0m\n",
      "num_leaves, val_score: 0.146162:  95%|#########5| 19/20 [15:02<00:43, 43.11s/it]\u001b[32m[I 2022-08-21 18:32:22,209]\u001b[0m Trial 25 finished with value: 0.1463885638569925 and parameters: {'num_leaves': 218}. Best is trial 8 with value: 0.14616181939368744.\u001b[0m\n",
      "num_leaves, val_score: 0.146162: 100%|##########| 20/20 [15:54<00:00, 45.68s/it]\u001b[32m[I 2022-08-21 18:33:13,870]\u001b[0m Trial 26 finished with value: 0.14670354106325045 and parameters: {'num_leaves': 182}. Best is trial 8 with value: 0.14616181939368744.\u001b[0m\n",
      "num_leaves, val_score: 0.146162: 100%|##########| 20/20 [15:54<00:00, 47.73s/it]\n",
      "bagging, val_score: 0.146162:  10%|#         | 1/10 [00:33<05:00, 33.34s/it]\u001b[32m[I 2022-08-21 18:33:47,225]\u001b[0m Trial 27 finished with value: 0.14809158438359635 and parameters: {'bagging_fraction': 0.4039808034101712, 'bagging_freq': 1}. Best is trial 27 with value: 0.14809158438359635.\u001b[0m\n",
      "bagging, val_score: 0.146162:  20%|##        | 2/10 [01:10<04:43, 35.44s/it]\u001b[32m[I 2022-08-21 18:34:24,141]\u001b[0m Trial 28 finished with value: 0.14770389170740897 and parameters: {'bagging_fraction': 0.5521529352837546, 'bagging_freq': 5}. Best is trial 28 with value: 0.14770389170740897.\u001b[0m\n",
      "bagging, val_score: 0.146162:  30%|###       | 3/10 [01:50<04:21, 37.42s/it]\u001b[32m[I 2022-08-21 18:35:03,911]\u001b[0m Trial 29 finished with value: 0.1469939732131484 and parameters: {'bagging_fraction': 0.656249840704137, 'bagging_freq': 4}. Best is trial 29 with value: 0.1469939732131484.\u001b[0m\n",
      "bagging, val_score: 0.146162:  40%|####      | 4/10 [02:28<03:47, 37.84s/it]\u001b[32m[I 2022-08-21 18:35:42,406]\u001b[0m Trial 30 finished with value: 0.14728356359943626 and parameters: {'bagging_fraction': 0.5890248329972911, 'bagging_freq': 4}. Best is trial 29 with value: 0.1469939732131484.\u001b[0m\n",
      "bagging, val_score: 0.146162:  50%|#####     | 5/10 [03:11<03:18, 39.78s/it]\u001b[32m[I 2022-08-21 18:36:25,631]\u001b[0m Trial 31 finished with value: 0.14721790668312015 and parameters: {'bagging_fraction': 0.7922724565891904, 'bagging_freq': 5}. Best is trial 29 with value: 0.1469939732131484.\u001b[0m\n",
      "bagging, val_score: 0.146162:  60%|######    | 6/10 [03:48<02:35, 38.89s/it]\u001b[32m[I 2022-08-21 18:37:02,785]\u001b[0m Trial 32 finished with value: 0.1474730684145768 and parameters: {'bagging_fraction': 0.48397589134117547, 'bagging_freq': 2}. Best is trial 29 with value: 0.1469939732131484.\u001b[0m\n",
      "bagging, val_score: 0.146162:  70%|#######   | 7/10 [04:38<02:06, 42.29s/it]\u001b[32m[I 2022-08-21 18:37:52,067]\u001b[0m Trial 33 finished with value: 0.14673563330874778 and parameters: {'bagging_fraction': 0.9080580322396478, 'bagging_freq': 5}. Best is trial 33 with value: 0.14673563330874778.\u001b[0m\n",
      "bagging, val_score: 0.146162:  80%|########  | 8/10 [05:10<01:18, 39.26s/it]\u001b[32m[I 2022-08-21 18:38:24,845]\u001b[0m Trial 34 finished with value: 0.14784101347820763 and parameters: {'bagging_fraction': 0.4538038151831458, 'bagging_freq': 6}. Best is trial 33 with value: 0.14673563330874778.\u001b[0m\n",
      "bagging, val_score: 0.146162:  90%|######### | 9/10 [05:47<00:38, 38.30s/it]\u001b[32m[I 2022-08-21 18:39:01,024]\u001b[0m Trial 35 finished with value: 0.14765737025886513 and parameters: {'bagging_fraction': 0.5186847998486565, 'bagging_freq': 3}. Best is trial 33 with value: 0.14673563330874778.\u001b[0m\n",
      "bagging, val_score: 0.146162: 100%|##########| 10/10 [06:26<00:00, 38.51s/it]\u001b[32m[I 2022-08-21 18:39:40,017]\u001b[0m Trial 36 finished with value: 0.14748267745705462 and parameters: {'bagging_fraction': 0.5710521626543142, 'bagging_freq': 4}. Best is trial 33 with value: 0.14673563330874778.\u001b[0m\n",
      "bagging, val_score: 0.146162: 100%|##########| 10/10 [06:26<00:00, 38.61s/it]\n",
      "feature_fraction_stage2, val_score: 0.146162:  33%|###3      | 1/3 [00:46<01:32, 46.07s/it]\u001b[32m[I 2022-08-21 18:40:26,101]\u001b[0m Trial 37 finished with value: 0.14702736211245576 and parameters: {'feature_fraction': 0.92}. Best is trial 37 with value: 0.14702736211245576.\u001b[0m\n",
      "feature_fraction_stage2, val_score: 0.146162:  67%|######6   | 2/3 [01:32<00:46, 46.45s/it]\u001b[32m[I 2022-08-21 18:41:12,815]\u001b[0m Trial 38 finished with value: 0.14682116343487506 and parameters: {'feature_fraction': 0.9840000000000001}. Best is trial 38 with value: 0.14682116343487506.\u001b[0m\n",
      "feature_fraction_stage2, val_score: 0.146162: 100%|##########| 3/3 [02:19<00:00, 46.80s/it]\u001b[32m[I 2022-08-21 18:42:00,026]\u001b[0m Trial 39 finished with value: 0.14678690852258977 and parameters: {'feature_fraction': 0.9520000000000001}. Best is trial 39 with value: 0.14678690852258977.\u001b[0m\n",
      "feature_fraction_stage2, val_score: 0.146162: 100%|##########| 3/3 [02:20<00:00, 46.67s/it]\n",
      "regularization_factors, val_score: 0.146162:   5%|5         | 1/20 [01:04<20:16, 64.01s/it]\u001b[32m[I 2022-08-21 18:43:04,047]\u001b[0m Trial 40 finished with value: 0.14651072043762026 and parameters: {'lambda_l1': 0.6006168732823025, 'lambda_l2': 0.0010249165450343445}. Best is trial 40 with value: 0.14651072043762026.\u001b[0m\n",
      "regularization_factors, val_score: 0.146162:  10%|#         | 2/20 [01:55<17:03, 56.88s/it]\u001b[32m[I 2022-08-21 18:43:55,934]\u001b[0m Trial 41 finished with value: 0.14668545049806134 and parameters: {'lambda_l1': 0.06889718803311456, 'lambda_l2': 0.23378955857869882}. Best is trial 40 with value: 0.14651072043762026.\u001b[0m\n",
      "regularization_factors, val_score: 0.146162:  15%|#5        | 3/20 [02:45<15:09, 53.51s/it]\u001b[32m[I 2022-08-21 18:44:45,425]\u001b[0m Trial 42 finished with value: 0.14687482302790839 and parameters: {'lambda_l1': 5.0693337766398303e-08, 'lambda_l2': 0.15800838034412812}. Best is trial 40 with value: 0.14651072043762026.\u001b[0m\n",
      "regularization_factors, val_score: 0.146162:  20%|##        | 4/20 [03:38<14:15, 53.46s/it]\u001b[32m[I 2022-08-21 18:45:38,808]\u001b[0m Trial 43 finished with value: 0.14663685649771377 and parameters: {'lambda_l1': 0.21495253106263082, 'lambda_l2': 2.649500799723229}. Best is trial 40 with value: 0.14651072043762026.\u001b[0m\n",
      "regularization_factors, val_score: 0.146162:  25%|##5       | 5/20 [04:38<13:55, 55.67s/it]\u001b[32m[I 2022-08-21 18:46:38,412]\u001b[0m Trial 44 finished with value: 0.14675240799303027 and parameters: {'lambda_l1': 0.019594372066333028, 'lambda_l2': 0.0015789441552323039}. Best is trial 40 with value: 0.14651072043762026.\u001b[0m\n",
      "regularization_factors, val_score: 0.146162:  30%|###       | 6/20 [05:37<13:14, 56.73s/it]\u001b[32m[I 2022-08-21 18:47:37,189]\u001b[0m Trial 45 finished with value: 0.1468607346576476 and parameters: {'lambda_l1': 6.548286392845639e-06, 'lambda_l2': 0.18581886335969244}. Best is trial 40 with value: 0.14651072043762026.\u001b[0m\n",
      "regularization_factors, val_score: 0.146162:  35%|###5      | 7/20 [06:33<12:17, 56.72s/it]\u001b[32m[I 2022-08-21 18:48:33,878]\u001b[0m Trial 46 finished with value: 0.14658187279393572 and parameters: {'lambda_l1': 0.0003621642638264729, 'lambda_l2': 0.19509466492741823}. Best is trial 40 with value: 0.14651072043762026.\u001b[0m\n",
      "regularization_factors, val_score: 0.146162:  40%|####      | 8/20 [07:26<11:04, 55.41s/it]\u001b[32m[I 2022-08-21 18:49:26,495]\u001b[0m Trial 47 finished with value: 0.14667817979353157 and parameters: {'lambda_l1': 0.7276816422360587, 'lambda_l2': 0.5686051925911043}. Best is trial 40 with value: 0.14651072043762026.\u001b[0m\n",
      "regularization_factors, val_score: 0.146162:  45%|####5     | 9/20 [08:19<10:01, 54.64s/it]\u001b[32m[I 2022-08-21 18:50:19,436]\u001b[0m Trial 48 finished with value: 0.14656466216656672 and parameters: {'lambda_l1': 0.0010153895279623986, 'lambda_l2': 1.3284442058052571e-05}. Best is trial 40 with value: 0.14651072043762026.\u001b[0m\n",
      "regularization_factors, val_score: 0.146162:  50%|#####     | 10/20 [09:17<09:15, 55.60s/it]\u001b[32m[I 2022-08-21 18:51:17,173]\u001b[0m Trial 49 finished with value: 0.14616232289657904 and parameters: {'lambda_l1': 3.921228246718394e-08, 'lambda_l2': 3.1070060382602855e-08}. Best is trial 49 with value: 0.14616232289657904.\u001b[0m\n",
      "regularization_factors, val_score: 0.146162:  55%|#####5    | 11/20 [10:15<08:27, 56.36s/it]\u001b[32m[I 2022-08-21 18:52:15,256]\u001b[0m Trial 50 finished with value: 0.14616387909291303 and parameters: {'lambda_l1': 2.4828542307128396e-08, 'lambda_l2': 1.354580898785921e-08}. Best is trial 49 with value: 0.14616232289657904.\u001b[0m\n",
      "regularization_factors, val_score: 0.146162:  60%|######    | 12/20 [11:13<07:34, 56.82s/it]\u001b[32m[I 2022-08-21 18:53:13,130]\u001b[0m Trial 51 finished with value: 0.14616381035568013 and parameters: {'lambda_l1': 1.2626061117715474e-08, 'lambda_l2': 1.053918245757988e-08}. Best is trial 49 with value: 0.14616232289657904.\u001b[0m\n",
      "regularization_factors, val_score: 0.146162:  65%|######5   | 13/20 [12:10<06:38, 56.99s/it]\u001b[32m[I 2022-08-21 18:54:10,513]\u001b[0m Trial 52 finished with value: 0.146164017334736 and parameters: {'lambda_l1': 2.8458874639301435e-06, 'lambda_l2': 2.2552897196304958e-08}. Best is trial 49 with value: 0.14616232289657904.\u001b[0m\n",
      "regularization_factors, val_score: 0.146162:  70%|#######   | 14/20 [13:09<05:45, 57.51s/it]\u001b[32m[I 2022-08-21 18:55:09,228]\u001b[0m Trial 53 finished with value: 0.14616279263470905 and parameters: {'lambda_l1': 1.1294179056855349e-06, 'lambda_l2': 1.5370482377937832e-06}. Best is trial 49 with value: 0.14616232289657904.\u001b[0m\n",
      "regularization_factors, val_score: 0.146162:  75%|#######5  | 15/20 [14:07<04:48, 57.64s/it]\u001b[32m[I 2022-08-21 18:56:07,154]\u001b[0m Trial 54 finished with value: 0.14616447691858478 and parameters: {'lambda_l1': 2.4467272255609037e-06, 'lambda_l2': 1.3051998373474158e-06}. Best is trial 49 with value: 0.14616232289657904.\u001b[0m\n",
      "regularization_factors, val_score: 0.146162:  80%|########  | 16/20 [15:06<03:52, 58.02s/it]\u001b[32m[I 2022-08-21 18:57:06,067]\u001b[0m Trial 55 finished with value: 0.1461631919608636 and parameters: {'lambda_l1': 2.7483782567928044e-07, 'lambda_l2': 2.1189547494846346e-06}. Best is trial 49 with value: 0.14616232289657904.\u001b[0m\n",
      "regularization_factors, val_score: 0.146162:  85%|########5 | 17/20 [16:03<02:54, 58.00s/it]\u001b[32m[I 2022-08-21 18:58:04,028]\u001b[0m Trial 56 finished with value: 0.1461629507773797 and parameters: {'lambda_l1': 2.8714149631307023e-05, 'lambda_l2': 3.534761107315983e-07}. Best is trial 49 with value: 0.14616232289657904.\u001b[0m\n",
      "regularization_factors, val_score: 0.146162:  90%|######### | 18/20 [17:01<01:55, 57.71s/it]\u001b[32m[I 2022-08-21 18:59:01,059]\u001b[0m Trial 57 finished with value: 0.14616463576089064 and parameters: {'lambda_l1': 2.234714963523307e-07, 'lambda_l2': 7.971581347821218e-05}. Best is trial 49 with value: 0.14616232289657904.\u001b[0m\n",
      "regularization_factors, val_score: 0.146162:  95%|#########5| 19/20 [17:52<00:55, 55.89s/it]\u001b[32m[I 2022-08-21 18:59:52,699]\u001b[0m Trial 58 finished with value: 0.14634435854223585 and parameters: {'lambda_l1': 4.5347211326549994e-05, 'lambda_l2': 1.4217233621951689e-07}. Best is trial 49 with value: 0.14616232289657904.\u001b[0m\n",
      "regularization_factors, val_score: 0.146162: 100%|##########| 20/20 [18:51<00:00, 56.63s/it]\u001b[32m[I 2022-08-21 19:00:51,054]\u001b[0m Trial 59 finished with value: 0.14616253699553125 and parameters: {'lambda_l1': 6.721623085299046e-07, 'lambda_l2': 2.7912970589354818e-05}. Best is trial 49 with value: 0.14616232289657904.\u001b[0m\n",
      "regularization_factors, val_score: 0.146162: 100%|##########| 20/20 [18:51<00:00, 56.55s/it]\n",
      "min_data_in_leaf, val_score: 0.146162:  20%|##        | 1/5 [00:49<03:16, 49.07s/it]\u001b[32m[I 2022-08-21 19:01:40,135]\u001b[0m Trial 60 finished with value: 0.14665847351758238 and parameters: {'min_child_samples': 10}. Best is trial 60 with value: 0.14665847351758238.\u001b[0m\n",
      "min_data_in_leaf, val_score: 0.146162:  40%|####      | 2/5 [01:39<02:29, 49.87s/it]\u001b[32m[I 2022-08-21 19:02:30,564]\u001b[0m Trial 61 finished with value: 0.14657897014759222 and parameters: {'min_child_samples': 25}. Best is trial 61 with value: 0.14657897014759222.\u001b[0m\n",
      "min_data_in_leaf, val_score: 0.146162:  60%|######    | 3/5 [02:34<01:44, 52.26s/it]\u001b[32m[I 2022-08-21 19:03:25,659]\u001b[0m Trial 62 finished with value: 0.14635160946084905 and parameters: {'min_child_samples': 50}. Best is trial 62 with value: 0.14635160946084905.\u001b[0m\n",
      "min_data_in_leaf, val_score: 0.146162:  80%|########  | 4/5 [03:19<00:49, 49.34s/it]\u001b[32m[I 2022-08-21 19:04:10,518]\u001b[0m Trial 63 finished with value: 0.14668865464727662 and parameters: {'min_child_samples': 5}. Best is trial 62 with value: 0.14635160946084905.\u001b[0m\n",
      "min_data_in_leaf, val_score: 0.146162: 100%|##########| 5/5 [04:07<00:00, 48.90s/it]\u001b[32m[I 2022-08-21 19:04:58,654]\u001b[0m Trial 64 finished with value: 0.14626452580198515 and parameters: {'min_child_samples': 100}. Best is trial 64 with value: 0.14626452580198515.\u001b[0m\n",
      "min_data_in_leaf, val_score: 0.146162: 100%|##########| 5/5 [04:07<00:00, 49.52s/it]\n"
     ]
    },
    {
     "data": {
      "text/plain": [
       "{'objective': 'mean_squared_error',\n",
       " 'metric': 'l1',\n",
       " 'verbose': -1,\n",
       " 'verbose_eval': -1,\n",
       " 'boosting_type': 'gbdt',\n",
       " 'feature_pre_filter': False,\n",
       " 'lambda_l1': 0.0,\n",
       " 'lambda_l2': 0.0,\n",
       " 'num_leaves': 158,\n",
       " 'feature_fraction': 1.0,\n",
       " 'bagging_fraction': 1.0,\n",
       " 'bagging_freq': 0,\n",
       " 'min_child_samples': 20,\n",
       " 'num_iterations': 200,\n",
       " 'early_stopping_round': 50,\n",
       " 'categorical_column': [43, 44, 50, 87, 122, 127, 129, 130, 133, 139]}"
      ]
     },
     "execution_count": 13,
     "metadata": {},
     "output_type": "execute_result"
    }
   ],
   "source": [
    "params = {\n",
    "    'objective': 'mean_squared_error',\n",
    "    'metric': 'mae',\n",
    "    \"verbose\": -1,#verbosity\n",
    "    \"verbose_eval\":-1,\n",
    "    \"boosting_type\": \"gbdt\",\n",
    "}\n",
    "\n",
    "best_params, history = {}, []\n",
    "\n",
    "# LightGBM学習\n",
    "gbm = lgb.train(params,\n",
    "                lgb_train,\n",
    "                num_boost_round = 200,\n",
    "                valid_sets=[lgb_train, lgb_eval],\n",
    "                early_stopping_rounds=50,\n",
    "                verbose_eval = False\n",
    "               )\n",
    "\n",
    "best_params = gbm.params\n",
    "best_params"
   ]
  },
  {
   "cell_type": "code",
   "execution_count": 14,
   "id": "b9f6f28f",
   "metadata": {
    "execution": {
     "iopub.execute_input": "2022-08-21T19:04:58.737524Z",
     "iopub.status.busy": "2022-08-21T19:04:58.737089Z",
     "iopub.status.idle": "2022-08-21T19:04:59.323233Z",
     "shell.execute_reply": "2022-08-21T19:04:59.321972Z"
    },
    "papermill": {
     "duration": 0.616071,
     "end_time": "2022-08-21T19:04:59.325824",
     "exception": false,
     "start_time": "2022-08-21T19:04:58.709753",
     "status": "completed"
    },
    "tags": []
   },
   "outputs": [
    {
     "data": {
      "image/png": "[encoded data removed]",
      "text/plain": [
       "<Figure size 720x720 with 1 Axes>"
      ]
     },
     "metadata": {
      "needs_background": "light"
     },
     "output_type": "display_data"
    }
   ],
   "source": [
    "lgb.plot_importance(gbm, max_num_features = 35, figsize = (10,10))\n",
    "plt.show()"
   ]
  },
  {
   "cell_type": "code",
   "execution_count": 15,
   "id": "044d4aca",
   "metadata": {
    "execution": {
     "iopub.execute_input": "2022-08-21T19:04:59.383030Z",
     "iopub.status.busy": "2022-08-21T19:04:59.382197Z",
     "iopub.status.idle": "2022-08-21T19:04:59.386865Z",
     "shell.execute_reply": "2022-08-21T19:04:59.385923Z"
    },
    "papermill": {
     "duration": 0.036024,
     "end_time": "2022-08-21T19:04:59.389164",
     "exception": false,
     "start_time": "2022-08-21T19:04:59.353140",
     "status": "completed"
    },
    "tags": []
   },
   "outputs": [],
   "source": [
    "# model = model.fit(X_train, y_train)"
   ]
  },
  {
   "cell_type": "markdown",
   "id": "a27a3839",
   "metadata": {
    "papermill": {
     "duration": 0.027523,
     "end_time": "2022-08-21T19:04:59.443644",
     "exception": false,
     "start_time": "2022-08-21T19:04:59.416121",
     "status": "completed"
    },
    "tags": []
   },
   "source": [
    "# Submissions"
   ]
  },
  {
   "cell_type": "code",
   "execution_count": 16,
   "id": "59bf3239",
   "metadata": {
    "execution": {
     "iopub.execute_input": "2022-08-21T19:04:59.499673Z",
     "iopub.status.busy": "2022-08-21T19:04:59.498840Z",
     "iopub.status.idle": "2022-08-21T19:05:08.224190Z",
     "shell.execute_reply": "2022-08-21T19:05:08.222859Z"
    },
    "papermill": {
     "duration": 8.756985,
     "end_time": "2022-08-21T19:05:08.227270",
     "exception": false,
     "start_time": "2022-08-21T19:04:59.470285",
     "status": "completed"
    },
    "tags": []
   },
   "outputs": [],
   "source": [
    "import numpy as np \n",
    "import pandas as pd \n",
    "import glob\n",
    "from scipy.stats import rankdata\n",
    "\n",
    "paths = [x for x in glob.glob('../input/*/*.csv') if 'amex-default-prediction' not in x]\n",
    "dfs = [pd.read_csv(x) for x in paths]\n",
    "dfs = [x.sort_values(by='customer_ID') for x in dfs]\n",
    "\n",
    "paths = [x for x in glob.glob('../input/*/*.csv') if 'amex-default-prediction' not in x]\n",
    "paths\n",
    "\n",
    "for df in dfs:\n",
    "    df['prediction'] = np.clip(df['prediction'], 0, 1)"
   ]
  },
  {
   "cell_type": "code",
   "execution_count": 17,
   "id": "3b2797f5",
   "metadata": {
    "execution": {
     "iopub.execute_input": "2022-08-21T19:05:08.290064Z",
     "iopub.status.busy": "2022-08-21T19:05:08.289202Z",
     "iopub.status.idle": "2022-08-21T19:05:14.804060Z",
     "shell.execute_reply": "2022-08-21T19:05:14.802646Z"
    },
    "papermill": {
     "duration": 6.549789,
     "end_time": "2022-08-21T19:05:14.807140",
     "exception": false,
     "start_time": "2022-08-21T19:05:08.257351",
     "status": "completed"
    },
    "tags": []
   },
   "outputs": [],
   "source": [
    "paths = [x for x in glob.glob('../input/*/*.csv') if 'amex-default-prediction' not in x]\n",
    "dfs = [pd.read_csv(x) for x in paths]\n",
    "dfs = [x.sort_values(by='customer_ID') for x in dfs]"
   ]
  },
  {
   "cell_type": "code",
   "execution_count": 18,
   "id": "c9b6b0b9",
   "metadata": {
    "execution": {
     "iopub.execute_input": "2022-08-21T19:05:14.863844Z",
     "iopub.status.busy": "2022-08-21T19:05:14.863037Z",
     "iopub.status.idle": "2022-08-21T19:05:14.869422Z",
     "shell.execute_reply": "2022-08-21T19:05:14.867873Z"
    },
    "papermill": {
     "duration": 0.03751,
     "end_time": "2022-08-21T19:05:14.871962",
     "exception": false,
     "start_time": "2022-08-21T19:05:14.834452",
     "status": "completed"
    },
    "tags": []
   },
   "outputs": [],
   "source": [
    "weights = [0.52, 0.85, 0.97, 0.57, 1.02, 0.8]# [0.52, 0.87, 0.95, 0.57, 1, 0.8]"
   ]
  },
  {
   "cell_type": "code",
   "execution_count": 19,
   "id": "6f9a000f",
   "metadata": {
    "execution": {
     "iopub.execute_input": "2022-08-21T19:05:14.928647Z",
     "iopub.status.busy": "2022-08-21T19:05:14.927605Z",
     "iopub.status.idle": "2022-08-21T19:05:23.560121Z",
     "shell.execute_reply": "2022-08-21T19:05:23.559241Z"
    },
    "papermill": {
     "duration": 8.664082,
     "end_time": "2022-08-21T19:05:23.563667",
     "exception": false,
     "start_time": "2022-08-21T19:05:14.899585",
     "status": "completed"
    },
    "tags": []
   },
   "outputs": [],
   "source": [
    "submit = pd.read_csv('../input/amex-default-prediction/sample_submission.csv')\n",
    "submit['prediction'] = 0\n",
    "\n",
    "for df, weight in zip(dfs, weights):\n",
    "    submit['prediction'] += (df['prediction'] * weight)\n",
    "    \n",
    "submit['prediction'] /= np.sum(weights)\n",
    "\n",
    "submit.to_csv('mean_submission.csv', index=None)\n",
    "\n",
    " \n",
    "submit = pd.read_csv('../input/amex-default-prediction/sample_submission.csv')\n",
    "submit['prediction'] = 0\n",
    "\n",
    "for df, weight in zip(dfs, weights):\n",
    "    submit['prediction'] += (rankdata(df['prediction'])/df.shape[0]) * weight\n",
    "    \n",
    "submit['prediction'] /= 4"
   ]
  },
  {
   "cell_type": "code",
   "execution_count": 20,
   "id": "7733590e",
   "metadata": {
    "execution": {
     "iopub.execute_input": "2022-08-21T19:05:23.648451Z",
     "iopub.status.busy": "2022-08-21T19:05:23.647582Z",
     "iopub.status.idle": "2022-08-21T19:06:11.820158Z",
     "shell.execute_reply": "2022-08-21T19:06:11.819182Z"
    },
    "papermill": {
     "duration": 48.217725,
     "end_time": "2022-08-21T19:06:11.823212",
     "exception": false,
     "start_time": "2022-08-21T19:05:23.605487",
     "status": "completed"
    },
    "tags": []
   },
   "outputs": [],
   "source": [
    "test = pd.read_feather('../input/amexfeather/test_data.ftr')\n",
    "df_train = test.groupby('customer_ID').tail(1).set_index('customer_ID')"
   ]
  },
  {
   "cell_type": "code",
   "execution_count": 21,
   "id": "2d650dd5",
   "metadata": {
    "execution": {
     "iopub.execute_input": "2022-08-21T19:06:12.021093Z",
     "iopub.status.busy": "2022-08-21T19:06:12.020474Z",
     "iopub.status.idle": "2022-08-21T19:06:12.027163Z",
     "shell.execute_reply": "2022-08-21T19:06:12.025962Z"
    },
    "papermill": {
     "duration": 0.038338,
     "end_time": "2022-08-21T19:06:12.029570",
     "exception": false,
     "start_time": "2022-08-21T19:06:11.991232",
     "status": "completed"
    },
    "tags": []
   },
   "outputs": [
    {
     "data": {
      "text/plain": [
       "Index(['S_2', 'P_2', 'D_39', 'B_1', 'B_2', 'R_1', 'S_3', 'D_41', 'B_3', 'D_42',\n",
       "       ...\n",
       "       'D_136', 'D_137', 'D_138', 'D_139', 'D_140', 'D_141', 'D_142', 'D_143',\n",
       "       'D_144', 'D_145'],\n",
       "      dtype='object', length=189)"
      ]
     },
     "execution_count": 21,
     "metadata": {},
     "output_type": "execute_result"
    }
   ],
   "source": [
    "df_train.columns"
   ]
  },
  {
   "cell_type": "code",
   "execution_count": 22,
   "id": "7278577c",
   "metadata": {
    "execution": {
     "iopub.execute_input": "2022-08-21T19:06:12.088193Z",
     "iopub.status.busy": "2022-08-21T19:06:12.087581Z",
     "iopub.status.idle": "2022-08-21T19:06:14.912872Z",
     "shell.execute_reply": "2022-08-21T19:06:14.911791Z"
    },
    "papermill": {
     "duration": 2.858268,
     "end_time": "2022-08-21T19:06:14.916251",
     "exception": false,
     "start_time": "2022-08-21T19:06:12.057983",
     "status": "completed"
    },
    "tags": []
   },
   "outputs": [],
   "source": [
    "df_train = df_train.dropna(axis=1, thresh=int(0.80 * len(df_train)))\n",
    "\n",
    "df_train[\"c_PD_239\"]=df_train[\"D_39\"]/(df_train[\"P_2\"]*(-1)+0.0001)\n",
    "df_train[\"c_PB_29\"]=df_train[\"P_2\"]*(-1)/(df_train[\"B_9\"]*(1)+0.0001)\n",
    "df_train[\"c_PR_21\"]=df_train[\"P_2\"]*(-1)/(df_train[\"R_1\"]+0.0001)\n",
    "\n",
    "df_train[\"c_BBBB\"]=(df_train[\"B_9\"]+0.001)/(df_train[\"B_23\"]+df_train[\"B_3\"]+0.0001)\n",
    "df_train[\"c_BBBB1\"]=(df_train[\"B_33\"]*(-1))+(df_train[\"B_18\"]*(-1)+df_train[\"S_25\"]*(1)+0.0001)\n",
    "df_train[\"c_BBBB2\"]=(df_train[\"B_19\"]+df_train[\"B_20\"]+df_train[\"B_4\"]+0.0001)\n",
    "\n",
    "df_train[\"c_RRR0\"]=(df_train[\"R_3\"]+0.001)/(df_train[\"R_2\"]+df_train[\"R_4\"]+0.0001)\n",
    "df_train[\"c_RRR1\"]=(df_train[\"D_62\"]+0.001)/(df_train[\"D_112\"]+df_train[\"R_27\"]+0.0001)\n",
    "\n",
    "df_train[\"c_PD_348\"]=df_train[\"D_48\"]/(df_train[\"P_3\"]+0.0001)\n",
    "df_train[\"c_PD_355\"]=df_train[\"D_55\"]/(df_train[\"P_3\"]+0.0001)\n",
    "\n",
    "df_train[\"c_PD_439\"]=df_train[\"D_39\"]/(df_train[\"P_4\"]+0.0001)\n",
    "df_train[\"c_PB_49\"]=df_train[\"B_9\"]/(df_train[\"P_4\"]+0.0001)\n",
    "df_train[\"c_PR_41\"]=df_train[\"R_1\"]/(df_train[\"P_4\"]+0.0001)\n"
   ]
  },
  {
   "cell_type": "code",
   "execution_count": 23,
   "id": "e1b42a8d",
   "metadata": {
    "execution": {
     "iopub.execute_input": "2022-08-21T19:06:14.975973Z",
     "iopub.status.busy": "2022-08-21T19:06:14.975553Z",
     "iopub.status.idle": "2022-08-21T19:06:16.559907Z",
     "shell.execute_reply": "2022-08-21T19:06:16.558769Z"
    },
    "papermill": {
     "duration": 1.618138,
     "end_time": "2022-08-21T19:06:16.562922",
     "exception": false,
     "start_time": "2022-08-21T19:06:14.944784",
     "status": "completed"
    },
    "tags": []
   },
   "outputs": [],
   "source": [
    "X = df_train.drop(\"S_2\", axis=1)\n",
    "X = X[Xname]"
   ]
  },
  {
   "cell_type": "code",
   "execution_count": 24,
   "id": "4a081436",
   "metadata": {
    "execution": {
     "iopub.execute_input": "2022-08-21T19:06:16.621399Z",
     "iopub.status.busy": "2022-08-21T19:06:16.620982Z",
     "iopub.status.idle": "2022-08-21T19:06:16.625791Z",
     "shell.execute_reply": "2022-08-21T19:06:16.624679Z"
    },
    "papermill": {
     "duration": 0.037537,
     "end_time": "2022-08-21T19:06:16.628772",
     "exception": false,
     "start_time": "2022-08-21T19:06:16.591235",
     "status": "completed"
    },
    "tags": []
   },
   "outputs": [],
   "source": [
    "# Y_pred = model.predict_proba(X)"
   ]
  },
  {
   "cell_type": "code",
   "execution_count": 25,
   "id": "4a690e00",
   "metadata": {
    "execution": {
     "iopub.execute_input": "2022-08-21T19:06:16.686005Z",
     "iopub.status.busy": "2022-08-21T19:06:16.685236Z",
     "iopub.status.idle": "2022-08-21T19:06:23.138890Z",
     "shell.execute_reply": "2022-08-21T19:06:23.137666Z"
    },
    "papermill": {
     "duration": 6.48573,
     "end_time": "2022-08-21T19:06:23.142250",
     "exception": false,
     "start_time": "2022-08-21T19:06:16.656520",
     "status": "completed"
    },
    "tags": []
   },
   "outputs": [],
   "source": [
    "Y_pred = gbm.predict(X, num_iteration=gbm.best_iteration)"
   ]
  },
  {
   "cell_type": "code",
   "execution_count": 26,
   "id": "74cbcf51",
   "metadata": {
    "execution": {
     "iopub.execute_input": "2022-08-21T19:06:23.207221Z",
     "iopub.status.busy": "2022-08-21T19:06:23.206642Z",
     "iopub.status.idle": "2022-08-21T19:06:23.216520Z",
     "shell.execute_reply": "2022-08-21T19:06:23.214837Z"
    },
    "papermill": {
     "duration": 0.04898,
     "end_time": "2022-08-21T19:06:23.219994",
     "exception": false,
     "start_time": "2022-08-21T19:06:23.171014",
     "status": "completed"
    },
    "tags": []
   },
   "outputs": [
    {
     "data": {
      "text/plain": [
       "array([ 0.01436124, -0.0046519 ,  0.06060411, ...,  0.65862108,\n",
       "        0.30642061,  0.03926589])"
      ]
     },
     "execution_count": 26,
     "metadata": {},
     "output_type": "execute_result"
    }
   ],
   "source": [
    "Y_pred"
   ]
  },
  {
   "cell_type": "code",
   "execution_count": 27,
   "id": "8942944b",
   "metadata": {
    "execution": {
     "iopub.execute_input": "2022-08-21T19:06:23.296492Z",
     "iopub.status.busy": "2022-08-21T19:06:23.295293Z",
     "iopub.status.idle": "2022-08-21T19:06:23.315663Z",
     "shell.execute_reply": "2022-08-21T19:06:23.314594Z"
    },
    "papermill": {
     "duration": 0.058434,
     "end_time": "2022-08-21T19:06:23.318704",
     "exception": false,
     "start_time": "2022-08-21T19:06:23.260270",
     "status": "completed"
    },
    "tags": []
   },
   "outputs": [],
   "source": [
    "submit['prediction'] = (submit['prediction'])*(0.995)+(Y_pred)*(0.005)"
   ]
  },
  {
   "cell_type": "code",
   "execution_count": 28,
   "id": "b73b3535",
   "metadata": {
    "execution": {
     "iopub.execute_input": "2022-08-21T19:06:23.380597Z",
     "iopub.status.busy": "2022-08-21T19:06:23.379302Z",
     "iopub.status.idle": "2022-08-21T19:06:26.497917Z",
     "shell.execute_reply": "2022-08-21T19:06:26.496964Z"
    },
    "papermill": {
     "duration": 3.152689,
     "end_time": "2022-08-21T19:06:26.500814",
     "exception": false,
     "start_time": "2022-08-21T19:06:23.348125",
     "status": "completed"
    },
    "tags": []
   },
   "outputs": [],
   "source": [
    "submit.to_csv('submission.csv', index=None)    "
   ]
  },
  {
   "cell_type": "code",
   "execution_count": 29,
   "id": "cdc63ce6",
   "metadata": {
    "execution": {
     "iopub.execute_input": "2022-08-21T19:06:26.558256Z",
     "iopub.status.busy": "2022-08-21T19:06:26.557593Z",
     "iopub.status.idle": "2022-08-21T19:06:26.568895Z",
     "shell.execute_reply": "2022-08-21T19:06:26.567800Z"
    },
    "papermill": {
     "duration": 0.042547,
     "end_time": "2022-08-21T19:06:26.571052",
     "exception": false,
     "start_time": "2022-08-21T19:06:26.528505",
     "status": "completed"
    },
    "tags": []
   },
   "outputs": [
    {
     "data": {
      "text/html": [
       "<div>\n",
       "<style scoped>\n",
       "    .dataframe tbody tr th:only-of-type {\n",
       "        vertical-align: middle;\n",
       "    }\n",
       "\n",
       "    .dataframe tbody tr th {\n",
       "        vertical-align: top;\n",
       "    }\n",
       "\n",
       "    .dataframe thead th {\n",
       "        text-align: right;\n",
       "    }\n",
       "</style>\n",
       "<table border=\"1\" class=\"dataframe\">\n",
       "  <thead>\n",
       "    <tr style=\"text-align: right;\">\n",
       "      <th></th>\n",
       "      <th>customer_ID</th>\n",
       "      <th>prediction</th>\n",
       "    </tr>\n",
       "  </thead>\n",
       "  <tbody>\n",
       "    <tr>\n",
       "      <th>0</th>\n",
       "      <td>00000469ba478561f23a92a868bd366de6f6527a684c9a...</td>\n",
       "      <td>0.297401</td>\n",
       "    </tr>\n",
       "    <tr>\n",
       "      <th>1</th>\n",
       "      <td>00001bf2e77ff879fab36aa4fac689b9ba411dae63ae39...</td>\n",
       "      <td>0.042969</td>\n",
       "    </tr>\n",
       "    <tr>\n",
       "      <th>2</th>\n",
       "      <td>0000210045da4f81e5f122c6bde5c2a617d03eef67f82c...</td>\n",
       "      <td>0.301397</td>\n",
       "    </tr>\n",
       "    <tr>\n",
       "      <th>3</th>\n",
       "      <td>00003b41e58ede33b8daf61ab56d9952f17c9ad1c3976c...</td>\n",
       "      <td>0.379906</td>\n",
       "    </tr>\n",
       "    <tr>\n",
       "      <th>4</th>\n",
       "      <td>00004b22eaeeeb0ec976890c1d9bfc14fd9427e98c4ee9...</td>\n",
       "      <td>0.522110</td>\n",
       "    </tr>\n",
       "  </tbody>\n",
       "</table>\n",
       "</div>"
      ],
      "text/plain": [
       "                                         customer_ID  prediction\n",
       "0  00000469ba478561f23a92a868bd366de6f6527a684c9a...    0.297401\n",
       "1  00001bf2e77ff879fab36aa4fac689b9ba411dae63ae39...    0.042969\n",
       "2  0000210045da4f81e5f122c6bde5c2a617d03eef67f82c...    0.301397\n",
       "3  00003b41e58ede33b8daf61ab56d9952f17c9ad1c3976c...    0.379906\n",
       "4  00004b22eaeeeb0ec976890c1d9bfc14fd9427e98c4ee9...    0.522110"
      ]
     },
     "execution_count": 29,
     "metadata": {},
     "output_type": "execute_result"
    }
   ],
   "source": [
    "submit.head()"
   ]
  },
  {
   "cell_type": "code",
   "execution_count": null,
   "id": "db2a4ffc",
   "metadata": {
    "papermill": {
     "duration": 0.026983,
     "end_time": "2022-08-21T19:06:26.625670",
     "exception": false,
     "start_time": "2022-08-21T19:06:26.598687",
     "status": "completed"
    },
    "tags": []
   },
   "outputs": [],
   "source": []
  }
 ],
 "metadata": {
  "kernelspec": {
   "display_name": "Python 3",
   "language": "python",
   "name": "python3"
  },
  "language_info": {
   "codemirror_mode": {
    "name": "ipython",
    "version": 3
   },
   "file_extension": ".py",
   "mimetype": "text/x-python",
   "name": "python",
   "nbconvert_exporter": "python",
   "pygments_lexer": "ipython3",
   "version": "3.7.12"
  },
  "papermill": {
   "default_parameters": {},
   "duration": 3196.008946,
   "end_time": "2022-08-21T19:06:28.284072",
   "environment_variables": {},
   "exception": null,
   "input_path": "__notebook__.ipynb",
   "output_path": "__notebook__.ipynb",
   "parameters": {},
   "start_time": "2022-08-21T18:13:12.275126",
   "version": "2.3.4"
  }
 },
 "nbformat": 4,
 "nbformat_minor": 5
}
