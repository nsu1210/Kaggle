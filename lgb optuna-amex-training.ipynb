{
 "cells": [
  {
   "cell_type": "markdown",
   "id": "b30b7904",
   "metadata": {
    "papermill": {
     "duration": 0.009794,
     "end_time": "2022-08-21T22:07:40.132831",
     "exception": false,
     "start_time": "2022-08-21T22:07:40.123037",
     "status": "completed"
    },
    "tags": []
   },
   "source": [
    "Add features referring to the following\n",
    "https://www.kaggle.com/code/manavtrivedi/tuffline-plotly-amex?scriptVersionId=102868130"
   ]
  },
  {
   "cell_type": "markdown",
   "id": "fb37f23d",
   "metadata": {
    "papermill": {
     "duration": 0.007683,
     "end_time": "2022-08-21T22:07:40.148844",
     "exception": false,
     "start_time": "2022-08-21T22:07:40.141161",
     "status": "completed"
    },
    "tags": []
   },
   "source": [
    "# **Import**"
   ]
  },
  {
   "cell_type": "code",
   "execution_count": 1,
   "id": "d034257d",
   "metadata": {
    "execution": {
     "iopub.execute_input": "2022-08-21T22:07:40.166760Z",
     "iopub.status.busy": "2022-08-21T22:07:40.166280Z",
     "iopub.status.idle": "2022-08-21T22:07:41.238329Z",
     "shell.execute_reply": "2022-08-21T22:07:41.236822Z"
    },
    "papermill": {
     "duration": 1.084516,
     "end_time": "2022-08-21T22:07:41.241458",
     "exception": false,
     "start_time": "2022-08-21T22:07:40.156942",
     "status": "completed"
    },
    "tags": []
   },
   "outputs": [],
   "source": [
    "import numpy as np\n",
    "import pandas as pd\n",
    "import seaborn as sns\n",
    "import matplotlib.pyplot as plt\n",
    "\n",
    "%matplotlib inline\n",
    "import random\n",
    "\n",
    "import warnings \n",
    "warnings.filterwarnings('ignore')"
   ]
  },
  {
   "cell_type": "code",
   "execution_count": 2,
   "id": "d9dc6db3",
   "metadata": {
    "execution": {
     "iopub.execute_input": "2022-08-21T22:07:41.262473Z",
     "iopub.status.busy": "2022-08-21T22:07:41.261631Z",
     "iopub.status.idle": "2022-08-21T22:08:03.759196Z",
     "shell.execute_reply": "2022-08-21T22:08:03.757817Z"
    },
    "papermill": {
     "duration": 22.512094,
     "end_time": "2022-08-21T22:08:03.762343",
     "exception": false,
     "start_time": "2022-08-21T22:07:41.250249",
     "status": "completed"
    },
    "tags": []
   },
   "outputs": [],
   "source": [
    "df_train = pd.read_feather('../input/amexfeather/train_data.ftr')\n",
    "df_train = df_train.groupby('customer_ID').tail(1).set_index('customer_ID')"
   ]
  },
  {
   "cell_type": "code",
   "execution_count": 3,
   "id": "dc1f36ff",
   "metadata": {
    "execution": {
     "iopub.execute_input": "2022-08-21T22:08:03.781809Z",
     "iopub.status.busy": "2022-08-21T22:08:03.781393Z",
     "iopub.status.idle": "2022-08-21T22:08:03.789737Z",
     "shell.execute_reply": "2022-08-21T22:08:03.788906Z"
    },
    "papermill": {
     "duration": 0.022153,
     "end_time": "2022-08-21T22:08:03.793226",
     "exception": false,
     "start_time": "2022-08-21T22:08:03.771073",
     "status": "completed"
    },
    "tags": []
   },
   "outputs": [
    {
     "data": {
      "text/plain": [
       "(458913, 190)"
      ]
     },
     "execution_count": 3,
     "metadata": {},
     "output_type": "execute_result"
    }
   ],
   "source": [
    "df_train.shape"
   ]
  },
  {
   "cell_type": "code",
   "execution_count": 4,
   "id": "af69039f",
   "metadata": {
    "execution": {
     "iopub.execute_input": "2022-08-21T22:08:03.838713Z",
     "iopub.status.busy": "2022-08-21T22:08:03.836944Z",
     "iopub.status.idle": "2022-08-21T22:08:05.243767Z",
     "shell.execute_reply": "2022-08-21T22:08:05.242555Z"
    },
    "papermill": {
     "duration": 1.443162,
     "end_time": "2022-08-21T22:08:05.246482",
     "exception": false,
     "start_time": "2022-08-21T22:08:03.803320",
     "status": "completed"
    },
    "tags": []
   },
   "outputs": [
    {
     "data": {
      "text/plain": [
       "(458913, 156)"
      ]
     },
     "execution_count": 4,
     "metadata": {},
     "output_type": "execute_result"
    }
   ],
   "source": [
    "df_train = df_train.dropna(axis=1, thresh=int(0.80 * len(df_train)))\n",
    "df_train.shape"
   ]
  },
  {
   "cell_type": "markdown",
   "id": "45640d14",
   "metadata": {
    "papermill": {
     "duration": 0.008756,
     "end_time": "2022-08-21T22:08:05.263949",
     "exception": false,
     "start_time": "2022-08-21T22:08:05.255193",
     "status": "completed"
    },
    "tags": []
   },
   "source": [
    "# **Feature**"
   ]
  },
  {
   "cell_type": "code",
   "execution_count": 5,
   "id": "1da3a286",
   "metadata": {
    "execution": {
     "iopub.execute_input": "2022-08-21T22:08:05.285350Z",
     "iopub.status.busy": "2022-08-21T22:08:05.284582Z",
     "iopub.status.idle": "2022-08-21T22:08:05.686072Z",
     "shell.execute_reply": "2022-08-21T22:08:05.684646Z"
    },
    "papermill": {
     "duration": 0.415477,
     "end_time": "2022-08-21T22:08:05.688976",
     "exception": false,
     "start_time": "2022-08-21T22:08:05.273499",
     "status": "completed"
    },
    "tags": []
   },
   "outputs": [
    {
     "name": "stdout",
     "output_type": "stream",
     "text": [
      "(458913, 169)\n"
     ]
    }
   ],
   "source": [
    "df_train[\"c_PD_239\"]=df_train[\"D_39\"]/(df_train[\"P_2\"]*(-1)+0.0001)\n",
    "df_train[\"c_PB_29\"]=df_train[\"P_2\"]*(-1)/(df_train[\"B_9\"]*(1)+0.0001)\n",
    "df_train[\"c_PR_21\"]=df_train[\"P_2\"]*(-1)/(df_train[\"R_1\"]+0.0001)\n",
    "\n",
    "df_train[\"c_BBBB\"]=(df_train[\"B_9\"]+0.001)/(df_train[\"B_23\"]+df_train[\"B_3\"]+0.0001)\n",
    "df_train[\"c_BBBB1\"]=(df_train[\"B_33\"]*(-1))+(df_train[\"B_18\"]*(-1)+df_train[\"S_25\"]*(1)+0.0001)\n",
    "df_train[\"c_BBBB2\"]=(df_train[\"B_19\"]+df_train[\"B_20\"]+df_train[\"B_4\"]+0.0001)\n",
    "\n",
    "df_train[\"c_RRR0\"]=(df_train[\"R_3\"]+0.001)/(df_train[\"R_2\"]+df_train[\"R_4\"]+0.0001)\n",
    "df_train[\"c_RRR1\"]=(df_train[\"D_62\"]+0.001)/(df_train[\"D_112\"]+df_train[\"R_27\"]+0.0001)\n",
    "\n",
    "df_train[\"c_PD_348\"]=df_train[\"D_48\"]/(df_train[\"P_3\"]+0.0001)\n",
    "df_train[\"c_PD_355\"]=df_train[\"D_55\"]/(df_train[\"P_3\"]+0.0001)\n",
    "\n",
    "df_train[\"c_PD_439\"]=df_train[\"D_39\"]/(df_train[\"P_4\"]+0.0001)\n",
    "df_train[\"c_PB_49\"]=df_train[\"B_9\"]/(df_train[\"P_4\"]+0.0001)\n",
    "df_train[\"c_PR_41\"]=df_train[\"R_1\"]/(df_train[\"P_4\"]+0.0001)\n",
    "print(df_train.shape)"
   ]
  },
  {
   "cell_type": "code",
   "execution_count": 6,
   "id": "124b1b7f",
   "metadata": {
    "execution": {
     "iopub.execute_input": "2022-08-21T22:08:05.710366Z",
     "iopub.status.busy": "2022-08-21T22:08:05.709792Z",
     "iopub.status.idle": "2022-08-21T22:08:06.152104Z",
     "shell.execute_reply": "2022-08-21T22:08:06.150944Z"
    },
    "papermill": {
     "duration": 0.455492,
     "end_time": "2022-08-21T22:08:06.154609",
     "exception": false,
     "start_time": "2022-08-21T22:08:05.699117",
     "status": "completed"
    },
    "tags": []
   },
   "outputs": [
    {
     "data": {
      "text/html": [
       "<div>\n",
       "<style scoped>\n",
       "    .dataframe tbody tr th:only-of-type {\n",
       "        vertical-align: middle;\n",
       "    }\n",
       "\n",
       "    .dataframe tbody tr th {\n",
       "        vertical-align: top;\n",
       "    }\n",
       "\n",
       "    .dataframe thead th {\n",
       "        text-align: right;\n",
       "    }\n",
       "</style>\n",
       "<table border=\"1\" class=\"dataframe\">\n",
       "  <thead>\n",
       "    <tr style=\"text-align: right;\">\n",
       "      <th></th>\n",
       "      <th>S_2</th>\n",
       "      <th>P_2</th>\n",
       "      <th>D_39</th>\n",
       "      <th>B_1</th>\n",
       "      <th>B_2</th>\n",
       "      <th>R_1</th>\n",
       "      <th>S_3</th>\n",
       "      <th>D_41</th>\n",
       "      <th>B_3</th>\n",
       "      <th>D_44</th>\n",
       "      <th>...</th>\n",
       "      <th>c_BBBB</th>\n",
       "      <th>c_BBBB1</th>\n",
       "      <th>c_BBBB2</th>\n",
       "      <th>c_RRR0</th>\n",
       "      <th>c_RRR1</th>\n",
       "      <th>c_PD_348</th>\n",
       "      <th>c_PD_355</th>\n",
       "      <th>c_PD_439</th>\n",
       "      <th>c_PB_49</th>\n",
       "      <th>c_PR_41</th>\n",
       "    </tr>\n",
       "    <tr>\n",
       "      <th>customer_ID</th>\n",
       "      <th></th>\n",
       "      <th></th>\n",
       "      <th></th>\n",
       "      <th></th>\n",
       "      <th></th>\n",
       "      <th></th>\n",
       "      <th></th>\n",
       "      <th></th>\n",
       "      <th></th>\n",
       "      <th></th>\n",
       "      <th></th>\n",
       "      <th></th>\n",
       "      <th></th>\n",
       "      <th></th>\n",
       "      <th></th>\n",
       "      <th></th>\n",
       "      <th></th>\n",
       "      <th></th>\n",
       "      <th></th>\n",
       "      <th></th>\n",
       "      <th></th>\n",
       "    </tr>\n",
       "  </thead>\n",
       "  <tbody>\n",
       "    <tr>\n",
       "      <th>0000099d6bd597052cdcda90ffabf56573fe9d7c79be5fbac11a8ed792feb62a</th>\n",
       "      <td>2018-03-13</td>\n",
       "      <td>0.934570</td>\n",
       "      <td>0.009117</td>\n",
       "      <td>0.009384</td>\n",
       "      <td>1.007812</td>\n",
       "      <td>0.006104</td>\n",
       "      <td>0.135010</td>\n",
       "      <td>0.001604</td>\n",
       "      <td>0.007175</td>\n",
       "      <td>0.003258</td>\n",
       "      <td>...</td>\n",
       "      <td>0.221191</td>\n",
       "      <td>-1.042969</td>\n",
       "      <td>0.083862</td>\n",
       "      <td>0.064148</td>\n",
       "      <td>0.222046</td>\n",
       "      <td>0.305664</td>\n",
       "      <td>0.297607</td>\n",
       "      <td>1.368164</td>\n",
       "      <td>1.430664</td>\n",
       "      <td>0.916016</td>\n",
       "    </tr>\n",
       "    <tr>\n",
       "      <th>00000fd6641609c6ece5454664794f0340ad84dddce9a267a310b5ae68e9d8e5</th>\n",
       "      <td>2018-03-25</td>\n",
       "      <td>0.880371</td>\n",
       "      <td>0.178101</td>\n",
       "      <td>0.034698</td>\n",
       "      <td>1.003906</td>\n",
       "      <td>0.006912</td>\n",
       "      <td>0.165527</td>\n",
       "      <td>0.005550</td>\n",
       "      <td>0.005070</td>\n",
       "      <td>0.008781</td>\n",
       "      <td>...</td>\n",
       "      <td>0.700195</td>\n",
       "      <td>-1.027344</td>\n",
       "      <td>0.033081</td>\n",
       "      <td>12.320312</td>\n",
       "      <td>0.116577</td>\n",
       "      <td>0.025742</td>\n",
       "      <td>0.063232</td>\n",
       "      <td>37.437500</td>\n",
       "      <td>2.716797</td>\n",
       "      <td>1.453125</td>\n",
       "    </tr>\n",
       "    <tr>\n",
       "      <th>00001b22f846c82c51f6e3958ccd81970162bae8b007e80662ef27519fcc18c1</th>\n",
       "      <td>2018-03-12</td>\n",
       "      <td>0.880859</td>\n",
       "      <td>0.009705</td>\n",
       "      <td>0.004284</td>\n",
       "      <td>0.812500</td>\n",
       "      <td>0.006451</td>\n",
       "      <td>NaN</td>\n",
       "      <td>0.003796</td>\n",
       "      <td>0.007195</td>\n",
       "      <td>0.000628</td>\n",
       "      <td>...</td>\n",
       "      <td>0.377197</td>\n",
       "      <td>-1.032227</td>\n",
       "      <td>0.039948</td>\n",
       "      <td>1.926758</td>\n",
       "      <td>0.218750</td>\n",
       "      <td>0.127808</td>\n",
       "      <td>0.157349</td>\n",
       "      <td>3.468750</td>\n",
       "      <td>3.357422</td>\n",
       "      <td>2.304688</td>\n",
       "    </tr>\n",
       "    <tr>\n",
       "      <th>000041bdba6ecadd89a52d11886e8eaaec9325906c9723355abb5ca523658edc</th>\n",
       "      <td>2018-03-29</td>\n",
       "      <td>0.621582</td>\n",
       "      <td>0.001082</td>\n",
       "      <td>0.012566</td>\n",
       "      <td>1.005859</td>\n",
       "      <td>0.007828</td>\n",
       "      <td>0.287842</td>\n",
       "      <td>0.004532</td>\n",
       "      <td>0.009941</td>\n",
       "      <td>0.007793</td>\n",
       "      <td>...</td>\n",
       "      <td>1.425781</td>\n",
       "      <td>-1.041992</td>\n",
       "      <td>0.023605</td>\n",
       "      <td>15.953125</td>\n",
       "      <td>0.216919</td>\n",
       "      <td>NaN</td>\n",
       "      <td>0.031830</td>\n",
       "      <td>0.135254</td>\n",
       "      <td>2.564453</td>\n",
       "      <td>0.978027</td>\n",
       "    </tr>\n",
       "    <tr>\n",
       "      <th>00007889e4fcd2614b6cbe7f8f3d2e5c728eca32d9eb8ad51ca8b8c4a24cefed</th>\n",
       "      <td>2018-03-30</td>\n",
       "      <td>0.872070</td>\n",
       "      <td>0.005573</td>\n",
       "      <td>0.007679</td>\n",
       "      <td>0.815918</td>\n",
       "      <td>0.001247</td>\n",
       "      <td>NaN</td>\n",
       "      <td>0.000231</td>\n",
       "      <td>0.005527</td>\n",
       "      <td>0.002436</td>\n",
       "      <td>...</td>\n",
       "      <td>0.033325</td>\n",
       "      <td>-0.567383</td>\n",
       "      <td>0.284912</td>\n",
       "      <td>0.266113</td>\n",
       "      <td>0.210327</td>\n",
       "      <td>0.570312</td>\n",
       "      <td>0.445557</td>\n",
       "      <td>0.599121</td>\n",
       "      <td>0.433105</td>\n",
       "      <td>0.134155</td>\n",
       "    </tr>\n",
       "    <tr>\n",
       "      <th>...</th>\n",
       "      <td>...</td>\n",
       "      <td>...</td>\n",
       "      <td>...</td>\n",
       "      <td>...</td>\n",
       "      <td>...</td>\n",
       "      <td>...</td>\n",
       "      <td>...</td>\n",
       "      <td>...</td>\n",
       "      <td>...</td>\n",
       "      <td>...</td>\n",
       "      <td>...</td>\n",
       "      <td>...</td>\n",
       "      <td>...</td>\n",
       "      <td>...</td>\n",
       "      <td>...</td>\n",
       "      <td>...</td>\n",
       "      <td>...</td>\n",
       "      <td>...</td>\n",
       "      <td>...</td>\n",
       "      <td>...</td>\n",
       "      <td>...</td>\n",
       "    </tr>\n",
       "    <tr>\n",
       "      <th>ffff41c8a52833b56430603969b9ca48d208e7c192c6a4081a6acc28cf4f8af7</th>\n",
       "      <td>2018-03-31</td>\n",
       "      <td>0.844238</td>\n",
       "      <td>0.447510</td>\n",
       "      <td>0.028519</td>\n",
       "      <td>1.009766</td>\n",
       "      <td>0.001928</td>\n",
       "      <td>0.128662</td>\n",
       "      <td>0.003483</td>\n",
       "      <td>0.005894</td>\n",
       "      <td>0.002281</td>\n",
       "      <td>...</td>\n",
       "      <td>5.476562</td>\n",
       "      <td>-1.033203</td>\n",
       "      <td>0.061218</td>\n",
       "      <td>59.000000</td>\n",
       "      <td>0.228638</td>\n",
       "      <td>0.110352</td>\n",
       "      <td>0.066528</td>\n",
       "      <td>73.625000</td>\n",
       "      <td>28.000000</td>\n",
       "      <td>0.317139</td>\n",
       "    </tr>\n",
       "    <tr>\n",
       "      <th>ffff518bb2075e4816ee3fe9f3b152c57fc0e6f01bf7fdd3e5b57cfcbee30286</th>\n",
       "      <td>2018-03-22</td>\n",
       "      <td>0.831055</td>\n",
       "      <td>0.033661</td>\n",
       "      <td>0.292480</td>\n",
       "      <td>0.055664</td>\n",
       "      <td>0.006954</td>\n",
       "      <td>NaN</td>\n",
       "      <td>0.005791</td>\n",
       "      <td>0.233032</td>\n",
       "      <td>0.132202</td>\n",
       "      <td>...</td>\n",
       "      <td>0.290527</td>\n",
       "      <td>0.877441</td>\n",
       "      <td>2.000000</td>\n",
       "      <td>7.410156</td>\n",
       "      <td>0.047241</td>\n",
       "      <td>0.304688</td>\n",
       "      <td>0.259277</td>\n",
       "      <td>13.007812</td>\n",
       "      <td>55.312500</td>\n",
       "      <td>2.687500</td>\n",
       "    </tr>\n",
       "    <tr>\n",
       "      <th>ffff9984b999fccb2b6127635ed0736dda94e544e67e026eee4d20f680639ff6</th>\n",
       "      <td>2018-03-07</td>\n",
       "      <td>0.800293</td>\n",
       "      <td>0.267090</td>\n",
       "      <td>0.020569</td>\n",
       "      <td>1.006836</td>\n",
       "      <td>0.000957</td>\n",
       "      <td>0.066650</td>\n",
       "      <td>0.007423</td>\n",
       "      <td>0.006313</td>\n",
       "      <td>0.001022</td>\n",
       "      <td>...</td>\n",
       "      <td>1.083008</td>\n",
       "      <td>-1.031250</td>\n",
       "      <td>0.088318</td>\n",
       "      <td>0.613281</td>\n",
       "      <td>0.111572</td>\n",
       "      <td>0.185669</td>\n",
       "      <td>0.173950</td>\n",
       "      <td>38.562500</td>\n",
       "      <td>6.703125</td>\n",
       "      <td>0.138184</td>\n",
       "    </tr>\n",
       "    <tr>\n",
       "      <th>ffffa5c46bc8de74f5a4554e74e239c8dee6b9baf388145b2c3d01967fcce461</th>\n",
       "      <td>2018-03-23</td>\n",
       "      <td>0.753906</td>\n",
       "      <td>0.008621</td>\n",
       "      <td>0.015839</td>\n",
       "      <td>0.714355</td>\n",
       "      <td>0.000993</td>\n",
       "      <td>0.408936</td>\n",
       "      <td>0.003391</td>\n",
       "      <td>0.050049</td>\n",
       "      <td>0.133057</td>\n",
       "      <td>...</td>\n",
       "      <td>0.055756</td>\n",
       "      <td>0.504883</td>\n",
       "      <td>0.426758</td>\n",
       "      <td>0.144165</td>\n",
       "      <td>0.156250</td>\n",
       "      <td>0.718262</td>\n",
       "      <td>0.611816</td>\n",
       "      <td>3.857422</td>\n",
       "      <td>7.378906</td>\n",
       "      <td>0.444092</td>\n",
       "    </tr>\n",
       "    <tr>\n",
       "      <th>fffff1d38b785cef84adeace64f8f83db3a0c31e8d92eaba8b115f71cab04681</th>\n",
       "      <td>2018-03-14</td>\n",
       "      <td>0.981934</td>\n",
       "      <td>0.002474</td>\n",
       "      <td>0.000077</td>\n",
       "      <td>0.992676</td>\n",
       "      <td>0.000809</td>\n",
       "      <td>0.119141</td>\n",
       "      <td>0.003286</td>\n",
       "      <td>0.014091</td>\n",
       "      <td>0.006794</td>\n",
       "      <td>...</td>\n",
       "      <td>0.092651</td>\n",
       "      <td>-0.719727</td>\n",
       "      <td>0.033356</td>\n",
       "      <td>3.203125</td>\n",
       "      <td>0.039612</td>\n",
       "      <td>0.030350</td>\n",
       "      <td>0.041870</td>\n",
       "      <td>0.318115</td>\n",
       "      <td>0.254150</td>\n",
       "      <td>0.104065</td>\n",
       "    </tr>\n",
       "  </tbody>\n",
       "</table>\n",
       "<p>458913 rows × 169 columns</p>\n",
       "</div>"
      ],
      "text/plain": [
       "                                                          S_2       P_2  \\\n",
       "customer_ID                                                               \n",
       "0000099d6bd597052cdcda90ffabf56573fe9d7c79be5fb... 2018-03-13  0.934570   \n",
       "00000fd6641609c6ece5454664794f0340ad84dddce9a26... 2018-03-25  0.880371   \n",
       "00001b22f846c82c51f6e3958ccd81970162bae8b007e80... 2018-03-12  0.880859   \n",
       "000041bdba6ecadd89a52d11886e8eaaec9325906c97233... 2018-03-29  0.621582   \n",
       "00007889e4fcd2614b6cbe7f8f3d2e5c728eca32d9eb8ad... 2018-03-30  0.872070   \n",
       "...                                                       ...       ...   \n",
       "ffff41c8a52833b56430603969b9ca48d208e7c192c6a40... 2018-03-31  0.844238   \n",
       "ffff518bb2075e4816ee3fe9f3b152c57fc0e6f01bf7fdd... 2018-03-22  0.831055   \n",
       "ffff9984b999fccb2b6127635ed0736dda94e544e67e026... 2018-03-07  0.800293   \n",
       "ffffa5c46bc8de74f5a4554e74e239c8dee6b9baf388145... 2018-03-23  0.753906   \n",
       "fffff1d38b785cef84adeace64f8f83db3a0c31e8d92eab... 2018-03-14  0.981934   \n",
       "\n",
       "                                                        D_39       B_1  \\\n",
       "customer_ID                                                              \n",
       "0000099d6bd597052cdcda90ffabf56573fe9d7c79be5fb...  0.009117  0.009384   \n",
       "00000fd6641609c6ece5454664794f0340ad84dddce9a26...  0.178101  0.034698   \n",
       "00001b22f846c82c51f6e3958ccd81970162bae8b007e80...  0.009705  0.004284   \n",
       "000041bdba6ecadd89a52d11886e8eaaec9325906c97233...  0.001082  0.012566   \n",
       "00007889e4fcd2614b6cbe7f8f3d2e5c728eca32d9eb8ad...  0.005573  0.007679   \n",
       "...                                                      ...       ...   \n",
       "ffff41c8a52833b56430603969b9ca48d208e7c192c6a40...  0.447510  0.028519   \n",
       "ffff518bb2075e4816ee3fe9f3b152c57fc0e6f01bf7fdd...  0.033661  0.292480   \n",
       "ffff9984b999fccb2b6127635ed0736dda94e544e67e026...  0.267090  0.020569   \n",
       "ffffa5c46bc8de74f5a4554e74e239c8dee6b9baf388145...  0.008621  0.015839   \n",
       "fffff1d38b785cef84adeace64f8f83db3a0c31e8d92eab...  0.002474  0.000077   \n",
       "\n",
       "                                                         B_2       R_1  \\\n",
       "customer_ID                                                              \n",
       "0000099d6bd597052cdcda90ffabf56573fe9d7c79be5fb...  1.007812  0.006104   \n",
       "00000fd6641609c6ece5454664794f0340ad84dddce9a26...  1.003906  0.006912   \n",
       "00001b22f846c82c51f6e3958ccd81970162bae8b007e80...  0.812500  0.006451   \n",
       "000041bdba6ecadd89a52d11886e8eaaec9325906c97233...  1.005859  0.007828   \n",
       "00007889e4fcd2614b6cbe7f8f3d2e5c728eca32d9eb8ad...  0.815918  0.001247   \n",
       "...                                                      ...       ...   \n",
       "ffff41c8a52833b56430603969b9ca48d208e7c192c6a40...  1.009766  0.001928   \n",
       "ffff518bb2075e4816ee3fe9f3b152c57fc0e6f01bf7fdd...  0.055664  0.006954   \n",
       "ffff9984b999fccb2b6127635ed0736dda94e544e67e026...  1.006836  0.000957   \n",
       "ffffa5c46bc8de74f5a4554e74e239c8dee6b9baf388145...  0.714355  0.000993   \n",
       "fffff1d38b785cef84adeace64f8f83db3a0c31e8d92eab...  0.992676  0.000809   \n",
       "\n",
       "                                                         S_3      D_41  \\\n",
       "customer_ID                                                              \n",
       "0000099d6bd597052cdcda90ffabf56573fe9d7c79be5fb...  0.135010  0.001604   \n",
       "00000fd6641609c6ece5454664794f0340ad84dddce9a26...  0.165527  0.005550   \n",
       "00001b22f846c82c51f6e3958ccd81970162bae8b007e80...       NaN  0.003796   \n",
       "000041bdba6ecadd89a52d11886e8eaaec9325906c97233...  0.287842  0.004532   \n",
       "00007889e4fcd2614b6cbe7f8f3d2e5c728eca32d9eb8ad...       NaN  0.000231   \n",
       "...                                                      ...       ...   \n",
       "ffff41c8a52833b56430603969b9ca48d208e7c192c6a40...  0.128662  0.003483   \n",
       "ffff518bb2075e4816ee3fe9f3b152c57fc0e6f01bf7fdd...       NaN  0.005791   \n",
       "ffff9984b999fccb2b6127635ed0736dda94e544e67e026...  0.066650  0.007423   \n",
       "ffffa5c46bc8de74f5a4554e74e239c8dee6b9baf388145...  0.408936  0.003391   \n",
       "fffff1d38b785cef84adeace64f8f83db3a0c31e8d92eab...  0.119141  0.003286   \n",
       "\n",
       "                                                         B_3      D_44  ...  \\\n",
       "customer_ID                                                             ...   \n",
       "0000099d6bd597052cdcda90ffabf56573fe9d7c79be5fb...  0.007175  0.003258  ...   \n",
       "00000fd6641609c6ece5454664794f0340ad84dddce9a26...  0.005070  0.008781  ...   \n",
       "00001b22f846c82c51f6e3958ccd81970162bae8b007e80...  0.007195  0.000628  ...   \n",
       "000041bdba6ecadd89a52d11886e8eaaec9325906c97233...  0.009941  0.007793  ...   \n",
       "00007889e4fcd2614b6cbe7f8f3d2e5c728eca32d9eb8ad...  0.005527  0.002436  ...   \n",
       "...                                                      ...       ...  ...   \n",
       "ffff41c8a52833b56430603969b9ca48d208e7c192c6a40...  0.005894  0.002281  ...   \n",
       "ffff518bb2075e4816ee3fe9f3b152c57fc0e6f01bf7fdd...  0.233032  0.132202  ...   \n",
       "ffff9984b999fccb2b6127635ed0736dda94e544e67e026...  0.006313  0.001022  ...   \n",
       "ffffa5c46bc8de74f5a4554e74e239c8dee6b9baf388145...  0.050049  0.133057  ...   \n",
       "fffff1d38b785cef84adeace64f8f83db3a0c31e8d92eab...  0.014091  0.006794  ...   \n",
       "\n",
       "                                                      c_BBBB   c_BBBB1  \\\n",
       "customer_ID                                                              \n",
       "0000099d6bd597052cdcda90ffabf56573fe9d7c79be5fb...  0.221191 -1.042969   \n",
       "00000fd6641609c6ece5454664794f0340ad84dddce9a26...  0.700195 -1.027344   \n",
       "00001b22f846c82c51f6e3958ccd81970162bae8b007e80...  0.377197 -1.032227   \n",
       "000041bdba6ecadd89a52d11886e8eaaec9325906c97233...  1.425781 -1.041992   \n",
       "00007889e4fcd2614b6cbe7f8f3d2e5c728eca32d9eb8ad...  0.033325 -0.567383   \n",
       "...                                                      ...       ...   \n",
       "ffff41c8a52833b56430603969b9ca48d208e7c192c6a40...  5.476562 -1.033203   \n",
       "ffff518bb2075e4816ee3fe9f3b152c57fc0e6f01bf7fdd...  0.290527  0.877441   \n",
       "ffff9984b999fccb2b6127635ed0736dda94e544e67e026...  1.083008 -1.031250   \n",
       "ffffa5c46bc8de74f5a4554e74e239c8dee6b9baf388145...  0.055756  0.504883   \n",
       "fffff1d38b785cef84adeace64f8f83db3a0c31e8d92eab...  0.092651 -0.719727   \n",
       "\n",
       "                                                     c_BBBB2     c_RRR0  \\\n",
       "customer_ID                                                               \n",
       "0000099d6bd597052cdcda90ffabf56573fe9d7c79be5fb...  0.083862   0.064148   \n",
       "00000fd6641609c6ece5454664794f0340ad84dddce9a26...  0.033081  12.320312   \n",
       "00001b22f846c82c51f6e3958ccd81970162bae8b007e80...  0.039948   1.926758   \n",
       "000041bdba6ecadd89a52d11886e8eaaec9325906c97233...  0.023605  15.953125   \n",
       "00007889e4fcd2614b6cbe7f8f3d2e5c728eca32d9eb8ad...  0.284912   0.266113   \n",
       "...                                                      ...        ...   \n",
       "ffff41c8a52833b56430603969b9ca48d208e7c192c6a40...  0.061218  59.000000   \n",
       "ffff518bb2075e4816ee3fe9f3b152c57fc0e6f01bf7fdd...  2.000000   7.410156   \n",
       "ffff9984b999fccb2b6127635ed0736dda94e544e67e026...  0.088318   0.613281   \n",
       "ffffa5c46bc8de74f5a4554e74e239c8dee6b9baf388145...  0.426758   0.144165   \n",
       "fffff1d38b785cef84adeace64f8f83db3a0c31e8d92eab...  0.033356   3.203125   \n",
       "\n",
       "                                                      c_RRR1  c_PD_348  \\\n",
       "customer_ID                                                              \n",
       "0000099d6bd597052cdcda90ffabf56573fe9d7c79be5fb...  0.222046  0.305664   \n",
       "00000fd6641609c6ece5454664794f0340ad84dddce9a26...  0.116577  0.025742   \n",
       "00001b22f846c82c51f6e3958ccd81970162bae8b007e80...  0.218750  0.127808   \n",
       "000041bdba6ecadd89a52d11886e8eaaec9325906c97233...  0.216919       NaN   \n",
       "00007889e4fcd2614b6cbe7f8f3d2e5c728eca32d9eb8ad...  0.210327  0.570312   \n",
       "...                                                      ...       ...   \n",
       "ffff41c8a52833b56430603969b9ca48d208e7c192c6a40...  0.228638  0.110352   \n",
       "ffff518bb2075e4816ee3fe9f3b152c57fc0e6f01bf7fdd...  0.047241  0.304688   \n",
       "ffff9984b999fccb2b6127635ed0736dda94e544e67e026...  0.111572  0.185669   \n",
       "ffffa5c46bc8de74f5a4554e74e239c8dee6b9baf388145...  0.156250  0.718262   \n",
       "fffff1d38b785cef84adeace64f8f83db3a0c31e8d92eab...  0.039612  0.030350   \n",
       "\n",
       "                                                    c_PD_355   c_PD_439  \\\n",
       "customer_ID                                                               \n",
       "0000099d6bd597052cdcda90ffabf56573fe9d7c79be5fb...  0.297607   1.368164   \n",
       "00000fd6641609c6ece5454664794f0340ad84dddce9a26...  0.063232  37.437500   \n",
       "00001b22f846c82c51f6e3958ccd81970162bae8b007e80...  0.157349   3.468750   \n",
       "000041bdba6ecadd89a52d11886e8eaaec9325906c97233...  0.031830   0.135254   \n",
       "00007889e4fcd2614b6cbe7f8f3d2e5c728eca32d9eb8ad...  0.445557   0.599121   \n",
       "...                                                      ...        ...   \n",
       "ffff41c8a52833b56430603969b9ca48d208e7c192c6a40...  0.066528  73.625000   \n",
       "ffff518bb2075e4816ee3fe9f3b152c57fc0e6f01bf7fdd...  0.259277  13.007812   \n",
       "ffff9984b999fccb2b6127635ed0736dda94e544e67e026...  0.173950  38.562500   \n",
       "ffffa5c46bc8de74f5a4554e74e239c8dee6b9baf388145...  0.611816   3.857422   \n",
       "fffff1d38b785cef84adeace64f8f83db3a0c31e8d92eab...  0.041870   0.318115   \n",
       "\n",
       "                                                      c_PB_49   c_PR_41  \n",
       "customer_ID                                                              \n",
       "0000099d6bd597052cdcda90ffabf56573fe9d7c79be5fb...   1.430664  0.916016  \n",
       "00000fd6641609c6ece5454664794f0340ad84dddce9a26...   2.716797  1.453125  \n",
       "00001b22f846c82c51f6e3958ccd81970162bae8b007e80...   3.357422  2.304688  \n",
       "000041bdba6ecadd89a52d11886e8eaaec9325906c97233...   2.564453  0.978027  \n",
       "00007889e4fcd2614b6cbe7f8f3d2e5c728eca32d9eb8ad...   0.433105  0.134155  \n",
       "...                                                       ...       ...  \n",
       "ffff41c8a52833b56430603969b9ca48d208e7c192c6a40...  28.000000  0.317139  \n",
       "ffff518bb2075e4816ee3fe9f3b152c57fc0e6f01bf7fdd...  55.312500  2.687500  \n",
       "ffff9984b999fccb2b6127635ed0736dda94e544e67e026...   6.703125  0.138184  \n",
       "ffffa5c46bc8de74f5a4554e74e239c8dee6b9baf388145...   7.378906  0.444092  \n",
       "fffff1d38b785cef84adeace64f8f83db3a0c31e8d92eab...   0.254150  0.104065  \n",
       "\n",
       "[458913 rows x 169 columns]"
      ]
     },
     "execution_count": 6,
     "metadata": {},
     "output_type": "execute_result"
    }
   ],
   "source": [
    "df_train"
   ]
  },
  {
   "cell_type": "markdown",
   "id": "ad3ee5c4",
   "metadata": {
    "papermill": {
     "duration": 0.008853,
     "end_time": "2022-08-21T22:08:06.173023",
     "exception": false,
     "start_time": "2022-08-21T22:08:06.164170",
     "status": "completed"
    },
    "tags": []
   },
   "source": [
    "# **Model&Predict**"
   ]
  },
  {
   "cell_type": "code",
   "execution_count": 7,
   "id": "a3071cf7",
   "metadata": {
    "execution": {
     "iopub.execute_input": "2022-08-21T22:08:06.193167Z",
     "iopub.status.busy": "2022-08-21T22:08:06.192739Z",
     "iopub.status.idle": "2022-08-21T22:08:09.839325Z",
     "shell.execute_reply": "2022-08-21T22:08:09.838096Z"
    },
    "papermill": {
     "duration": 3.660142,
     "end_time": "2022-08-21T22:08:09.842355",
     "exception": false,
     "start_time": "2022-08-21T22:08:06.182213",
     "status": "completed"
    },
    "tags": []
   },
   "outputs": [
    {
     "name": "stdout",
     "output_type": "stream",
     "text": [
      "X_train Training Data Size : 454323\n",
      "X_test Testing Data Size   : 4590\n"
     ]
    }
   ],
   "source": [
    "y = df_train['target']\n",
    "X = df_train.drop(['target'],axis=1).drop(\"S_2\", axis=1)\n",
    "from sklearn.model_selection import train_test_split\n",
    "X_train, X_test, y_train, y_test = train_test_split(X, y, test_size=0.01, random_state=26,stratify=y)\n",
    "\n",
    "print(\"X_train Training Data Size :\",X_train.shape[0])\n",
    "print(\"X_test Testing Data Size   :\",X_test.shape[0])"
   ]
  },
  {
   "cell_type": "code",
   "execution_count": 8,
   "id": "f702c212",
   "metadata": {
    "execution": {
     "iopub.execute_input": "2022-08-21T22:08:09.864163Z",
     "iopub.status.busy": "2022-08-21T22:08:09.863725Z",
     "iopub.status.idle": "2022-08-21T22:08:09.868496Z",
     "shell.execute_reply": "2022-08-21T22:08:09.867369Z"
    },
    "papermill": {
     "duration": 0.018083,
     "end_time": "2022-08-21T22:08:09.870854",
     "exception": false,
     "start_time": "2022-08-21T22:08:09.852771",
     "status": "completed"
    },
    "tags": []
   },
   "outputs": [],
   "source": [
    "Xname = X.columns"
   ]
  },
  {
   "cell_type": "code",
   "execution_count": 9,
   "id": "c40952b0",
   "metadata": {
    "execution": {
     "iopub.execute_input": "2022-08-21T22:08:09.891758Z",
     "iopub.status.busy": "2022-08-21T22:08:09.891046Z",
     "iopub.status.idle": "2022-08-21T22:08:11.688694Z",
     "shell.execute_reply": "2022-08-21T22:08:11.687534Z"
    },
    "papermill": {
     "duration": 1.811051,
     "end_time": "2022-08-21T22:08:11.691374",
     "exception": false,
     "start_time": "2022-08-21T22:08:09.880323",
     "status": "completed"
    },
    "tags": []
   },
   "outputs": [
    {
     "data": {
      "text/html": [
       "<style type='text/css'>\n",
       ".datatable table.frame { margin-bottom: 0; }\n",
       ".datatable table.frame thead { border-bottom: none; }\n",
       ".datatable table.frame tr.coltypes td {  color: #FFFFFF;  line-height: 6px;  padding: 0 0.5em;}\n",
       ".datatable .bool    { background: #DDDD99; }\n",
       ".datatable .object  { background: #565656; }\n",
       ".datatable .int     { background: #5D9E5D; }\n",
       ".datatable .float   { background: #4040CC; }\n",
       ".datatable .str     { background: #CC4040; }\n",
       ".datatable .time    { background: #40CC40; }\n",
       ".datatable .row_index {  background: var(--jp-border-color3);  border-right: 1px solid var(--jp-border-color0);  color: var(--jp-ui-font-color3);  font-size: 9px;}\n",
       ".datatable .frame tbody td { text-align: left; }\n",
       ".datatable .frame tr.coltypes .row_index {  background: var(--jp-border-color0);}\n",
       ".datatable th:nth-child(2) { padding-left: 12px; }\n",
       ".datatable .hellipsis {  color: var(--jp-cell-editor-border-color);}\n",
       ".datatable .vellipsis {  background: var(--jp-layout-color0);  color: var(--jp-cell-editor-border-color);}\n",
       ".datatable .na {  color: var(--jp-cell-editor-border-color);  font-size: 80%;}\n",
       ".datatable .sp {  opacity: 0.25;}\n",
       ".datatable .footer { font-size: 9px; }\n",
       ".datatable .frame_dimensions {  background: var(--jp-border-color3);  border-top: 1px solid var(--jp-border-color0);  color: var(--jp-ui-font-color3);  display: inline-block;  opacity: 0.6;  padding: 1px 10px 1px 5px;}\n",
       "</style>\n"
      ],
      "text/plain": [
       "<IPython.core.display.HTML object>"
      ]
     },
     "metadata": {},
     "output_type": "display_data"
    }
   ],
   "source": [
    "import optuna.integration.lightgbm as lgb"
   ]
  },
  {
   "cell_type": "code",
   "execution_count": 10,
   "id": "c98ea1d4",
   "metadata": {
    "execution": {
     "iopub.execute_input": "2022-08-21T22:08:11.712586Z",
     "iopub.status.busy": "2022-08-21T22:08:11.712179Z",
     "iopub.status.idle": "2022-08-21T22:08:13.175136Z",
     "shell.execute_reply": "2022-08-21T22:08:13.173746Z"
    },
    "papermill": {
     "duration": 1.476993,
     "end_time": "2022-08-21T22:08:13.177980",
     "exception": false,
     "start_time": "2022-08-21T22:08:11.700987",
     "status": "completed"
    },
    "tags": []
   },
   "outputs": [],
   "source": [
    "TEST_SIZE = 0.2\n",
    "RANDOM_STATE = 42\n",
    "# trainのデータセットの3割をモデル学習時のバリデーションデータとして利用する\n",
    "X_train, X_valid, y_train, y_valid = train_test_split(X_train,\n",
    "                                                    y_train,\n",
    "                                                    test_size=TEST_SIZE,\n",
    "                                                    random_state=RANDOM_STATE)\n",
    "\n",
    "# LightGBMを利用するのに必要なフォーマットに変換\n",
    "lgb_train = lgb.Dataset(X_train, y_train)\n",
    "lgb_eval = lgb.Dataset(X_valid, y_valid, reference=lgb_train)"
   ]
  },
  {
   "cell_type": "code",
   "execution_count": 11,
   "id": "cf10cdeb",
   "metadata": {
    "execution": {
     "iopub.execute_input": "2022-08-21T22:08:13.198741Z",
     "iopub.status.busy": "2022-08-21T22:08:13.198306Z",
     "iopub.status.idle": "2022-08-21T22:08:13.203837Z",
     "shell.execute_reply": "2022-08-21T22:08:13.202900Z"
    },
    "papermill": {
     "duration": 0.018417,
     "end_time": "2022-08-21T22:08:13.206031",
     "exception": false,
     "start_time": "2022-08-21T22:08:13.187614",
     "status": "completed"
    },
    "tags": []
   },
   "outputs": [],
   "source": [
    "from sklearn.metrics import accuracy_score"
   ]
  },
  {
   "cell_type": "code",
   "execution_count": 12,
   "id": "0479e742",
   "metadata": {
    "execution": {
     "iopub.execute_input": "2022-08-21T22:08:13.226170Z",
     "iopub.status.busy": "2022-08-21T22:08:13.225762Z",
     "iopub.status.idle": "2022-08-21T22:08:13.230707Z",
     "shell.execute_reply": "2022-08-21T22:08:13.229845Z"
    },
    "papermill": {
     "duration": 0.017688,
     "end_time": "2022-08-21T22:08:13.232927",
     "exception": false,
     "start_time": "2022-08-21T22:08:13.215239",
     "status": "completed"
    },
    "tags": []
   },
   "outputs": [],
   "source": [
    "# import lightgbm as lgb\n",
    "# import optuna.integration.lightgbm as lgb\n",
    "# model = lgb.LGBMClassifier(boosting_type='goss', max_depth=5, random_state=0)"
   ]
  },
  {
   "cell_type": "code",
   "execution_count": 13,
   "id": "0503cdb6",
   "metadata": {
    "execution": {
     "iopub.execute_input": "2022-08-21T22:08:13.253618Z",
     "iopub.status.busy": "2022-08-21T22:08:13.252771Z",
     "iopub.status.idle": "2022-08-21T23:05:17.115453Z",
     "shell.execute_reply": "2022-08-21T23:05:17.113959Z"
    },
    "papermill": {
     "duration": 3423.898031,
     "end_time": "2022-08-21T23:05:17.140194",
     "exception": false,
     "start_time": "2022-08-21T22:08:13.242163",
     "status": "completed"
    },
    "tags": []
   },
   "outputs": [
    {
     "name": "stderr",
     "output_type": "stream",
     "text": [
      "\u001b[32m[I 2022-08-21 22:08:13,257]\u001b[0m A new study created in memory with name: no-name-20daffea-1ebd-4158-81ee-e24a0489438b\u001b[0m\n",
      "feature_fraction, val_score: inf:   0%|          | 0/7 [00:00<?, ?it/s]"
     ]
    },
    {
     "name": "stdout",
     "output_type": "stream",
     "text": [
      "[LightGBM] [Warning] Unknown parameter: verbose_eval\n"
     ]
    },
    {
     "name": "stderr",
     "output_type": "stream",
     "text": [
      "feature_fraction, val_score: 0.149299:  14%|#4        | 1/7 [00:49<04:59, 49.96s/it]\u001b[32m[I 2022-08-21 22:09:03,254]\u001b[0m Trial 0 finished with value: 0.14929923518857285 and parameters: {'feature_fraction': 0.8999999999999999}. Best is trial 0 with value: 0.14929923518857285.\u001b[0m\n",
      "feature_fraction, val_score: 0.149265:  29%|##8       | 2/7 [01:48<04:36, 55.23s/it]\u001b[32m[I 2022-08-21 22:10:02,174]\u001b[0m Trial 1 finished with value: 0.14926480873314674 and parameters: {'feature_fraction': 1.0}. Best is trial 1 with value: 0.14926480873314674.\u001b[0m\n",
      "feature_fraction, val_score: 0.149265:  43%|####2     | 3/7 [02:27<03:10, 47.69s/it]\u001b[32m[I 2022-08-21 22:10:40,899]\u001b[0m Trial 2 finished with value: 0.14965760928093969 and parameters: {'feature_fraction': 0.6}. Best is trial 1 with value: 0.14926480873314674.\u001b[0m\n",
      "feature_fraction, val_score: 0.149265:  57%|#####7    | 4/7 [03:01<02:06, 42.23s/it]\u001b[32m[I 2022-08-21 22:11:14,754]\u001b[0m Trial 3 finished with value: 0.15001860320062022 and parameters: {'feature_fraction': 0.5}. Best is trial 1 with value: 0.14926480873314674.\u001b[0m\n",
      "feature_fraction, val_score: 0.149265:  71%|#######1  | 5/7 [03:44<01:25, 42.56s/it]\u001b[32m[I 2022-08-21 22:11:57,888]\u001b[0m Trial 4 finished with value: 0.14957826132190338 and parameters: {'feature_fraction': 0.7}. Best is trial 1 with value: 0.14926480873314674.\u001b[0m\n",
      "feature_fraction, val_score: 0.149072:  86%|########5 | 6/7 [04:31<00:43, 43.98s/it]\u001b[32m[I 2022-08-21 22:12:44,635]\u001b[0m Trial 5 finished with value: 0.14907245143939285 and parameters: {'feature_fraction': 0.8}. Best is trial 5 with value: 0.14907245143939285.\u001b[0m\n",
      "feature_fraction, val_score: 0.149072: 100%|##########| 7/7 [05:03<00:00, 40.06s/it]\u001b[32m[I 2022-08-21 22:13:16,632]\u001b[0m Trial 6 finished with value: 0.15036795361573727 and parameters: {'feature_fraction': 0.4}. Best is trial 5 with value: 0.14907245143939285.\u001b[0m\n",
      "feature_fraction, val_score: 0.149072: 100%|##########| 7/7 [05:03<00:00, 43.34s/it]\n",
      "num_leaves, val_score: 0.146273:   5%|5         | 1/20 [00:47<15:03, 47.57s/it]\u001b[32m[I 2022-08-21 22:14:04,241]\u001b[0m Trial 7 finished with value: 0.1462731277738694 and parameters: {'num_leaves': 193}. Best is trial 7 with value: 0.1462731277738694.\u001b[0m\n",
      "num_leaves, val_score: 0.146273:  10%|#         | 2/20 [01:33<13:59, 46.66s/it]\u001b[32m[I 2022-08-21 22:14:50,257]\u001b[0m Trial 8 finished with value: 0.14661211862821083 and parameters: {'num_leaves': 142}. Best is trial 7 with value: 0.1462731277738694.\u001b[0m\n",
      "num_leaves, val_score: 0.146273:  15%|#5        | 3/20 [02:21<13:26, 47.42s/it]\u001b[32m[I 2022-08-21 22:15:38,579]\u001b[0m Trial 9 finished with value: 0.1463825161816369 and parameters: {'num_leaves': 135}. Best is trial 7 with value: 0.1462731277738694.\u001b[0m\n",
      "num_leaves, val_score: 0.146101:  20%|##        | 4/20 [03:10<12:47, 47.99s/it]\u001b[32m[I 2022-08-21 22:16:27,429]\u001b[0m Trial 10 finished with value: 0.14610082503821487 and parameters: {'num_leaves': 206}. Best is trial 10 with value: 0.14610082503821487.\u001b[0m\n",
      "num_leaves, val_score: 0.146101:  25%|##5       | 5/20 [04:01<12:15, 49.00s/it]\u001b[32m[I 2022-08-21 22:17:18,223]\u001b[0m Trial 11 finished with value: 0.14645832528698474 and parameters: {'num_leaves': 222}. Best is trial 10 with value: 0.14610082503821487.\u001b[0m\n",
      "num_leaves, val_score: 0.146101:  30%|###       | 6/20 [04:49<11:22, 48.74s/it]\u001b[32m[I 2022-08-21 22:18:06,449]\u001b[0m Trial 12 finished with value: 0.1479108006327657 and parameters: {'num_leaves': 57}. Best is trial 10 with value: 0.14610082503821487.\u001b[0m\n",
      "num_leaves, val_score: 0.146101:  35%|###5      | 7/20 [05:39<10:38, 49.13s/it]\u001b[32m[I 2022-08-21 22:18:56,394]\u001b[0m Trial 13 finished with value: 0.14693709126315482 and parameters: {'num_leaves': 94}. Best is trial 10 with value: 0.14610082503821487.\u001b[0m\n",
      "num_leaves, val_score: 0.146101:  40%|####      | 8/20 [06:30<09:54, 49.57s/it]\u001b[32m[I 2022-08-21 22:19:46,890]\u001b[0m Trial 14 finished with value: 0.14636357101804337 and parameters: {'num_leaves': 170}. Best is trial 10 with value: 0.14610082503821487.\u001b[0m\n",
      "num_leaves, val_score: 0.146101:  45%|####5     | 9/20 [07:19<09:02, 49.32s/it]\u001b[32m[I 2022-08-21 22:20:35,682]\u001b[0m Trial 15 finished with value: 0.1463421081614518 and parameters: {'num_leaves': 176}. Best is trial 10 with value: 0.14610082503821487.\u001b[0m\n",
      "num_leaves, val_score: 0.146101:  50%|#####     | 10/20 [08:03<07:59, 47.92s/it]\u001b[32m[I 2022-08-21 22:21:20,454]\u001b[0m Trial 16 finished with value: 0.14645441225981068 and parameters: {'num_leaves': 124}. Best is trial 10 with value: 0.14610082503821487.\u001b[0m\n",
      "num_leaves, val_score: 0.146010:  55%|#####5    | 11/20 [09:00<07:36, 50.74s/it]\u001b[32m[I 2022-08-21 22:22:17,597]\u001b[0m Trial 17 finished with value: 0.14601040397334694 and parameters: {'num_leaves': 254}. Best is trial 17 with value: 0.14601040397334694.\u001b[0m\n",
      "num_leaves, val_score: 0.146010:  60%|######    | 12/20 [09:53<06:49, 51.21s/it]\u001b[32m[I 2022-08-21 22:23:09,890]\u001b[0m Trial 18 finished with value: 0.14633868703736755 and parameters: {'num_leaves': 256}. Best is trial 17 with value: 0.14601040397334694.\u001b[0m\n",
      "num_leaves, val_score: 0.146010:  65%|######5   | 13/20 [10:45<05:59, 51.40s/it]\u001b[32m[I 2022-08-21 22:24:01,717]\u001b[0m Trial 19 finished with value: 0.14633868703736755 and parameters: {'num_leaves': 256}. Best is trial 17 with value: 0.14601040397334694.\u001b[0m\n",
      "num_leaves, val_score: 0.146010:  70%|#######   | 14/20 [11:32<05:01, 50.28s/it]\u001b[32m[I 2022-08-21 22:24:49,421]\u001b[0m Trial 20 finished with value: 0.14603928725405574 and parameters: {'num_leaves': 216}. Best is trial 17 with value: 0.14601040397334694.\u001b[0m\n",
      "num_leaves, val_score: 0.146010:  75%|#######5  | 15/20 [11:51<03:23, 40.79s/it]\u001b[32m[I 2022-08-21 22:25:08,203]\u001b[0m Trial 21 finished with value: 0.17664161861475475 and parameters: {'num_leaves': 2}. Best is trial 17 with value: 0.14601040397334694.\u001b[0m\n",
      "num_leaves, val_score: 0.145877:  80%|########  | 16/20 [12:43<02:57, 44.27s/it]\u001b[32m[I 2022-08-21 22:26:00,558]\u001b[0m Trial 22 finished with value: 0.14587715448446895 and parameters: {'num_leaves': 228}. Best is trial 22 with value: 0.14587715448446895.\u001b[0m\n",
      "num_leaves, val_score: 0.145716:  85%|########5 | 17/20 [13:34<02:18, 46.23s/it]\u001b[32m[I 2022-08-21 22:26:51,355]\u001b[0m Trial 23 finished with value: 0.14571570908711506 and parameters: {'num_leaves': 235}. Best is trial 23 with value: 0.14571570908711506.\u001b[0m\n",
      "num_leaves, val_score: 0.145716:  90%|######### | 18/20 [14:24<01:34, 47.20s/it]\u001b[32m[I 2022-08-21 22:27:40,808]\u001b[0m Trial 24 finished with value: 0.14605764386707867 and parameters: {'num_leaves': 227}. Best is trial 23 with value: 0.14571570908711506.\u001b[0m\n",
      "num_leaves, val_score: 0.145716:  95%|#########5| 19/20 [15:18<00:49, 49.45s/it]\u001b[32m[I 2022-08-21 22:28:35,505]\u001b[0m Trial 25 finished with value: 0.14599880330985324 and parameters: {'num_leaves': 164}. Best is trial 23 with value: 0.14571570908711506.\u001b[0m\n",
      "num_leaves, val_score: 0.145716: 100%|##########| 20/20 [16:11<00:00, 50.54s/it]\u001b[32m[I 2022-08-21 22:29:28,589]\u001b[0m Trial 26 finished with value: 0.14778279137297815 and parameters: {'num_leaves': 56}. Best is trial 23 with value: 0.14571570908711506.\u001b[0m\n",
      "num_leaves, val_score: 0.145716: 100%|##########| 20/20 [16:11<00:00, 48.60s/it]\n",
      "bagging, val_score: 0.145716:  10%|#         | 1/10 [00:51<07:46, 51.84s/it]\u001b[32m[I 2022-08-21 22:30:20,442]\u001b[0m Trial 27 finished with value: 0.14623226184241364 and parameters: {'bagging_fraction': 0.8646211163230524, 'bagging_freq': 7}. Best is trial 27 with value: 0.14623226184241364.\u001b[0m\n",
      "bagging, val_score: 0.145716:  20%|##        | 2/10 [01:37<06:24, 48.12s/it]\u001b[32m[I 2022-08-21 22:31:05,959]\u001b[0m Trial 28 finished with value: 0.14671866133582465 and parameters: {'bagging_fraction': 0.6573435171855451, 'bagging_freq': 5}. Best is trial 27 with value: 0.14623226184241364.\u001b[0m\n",
      "bagging, val_score: 0.145716:  30%|###       | 3/10 [02:21<05:23, 46.15s/it]\u001b[32m[I 2022-08-21 22:31:49,757]\u001b[0m Trial 29 finished with value: 0.1464184995189769 and parameters: {'bagging_fraction': 0.6459751068364703, 'bagging_freq': 2}. Best is trial 27 with value: 0.14623226184241364.\u001b[0m\n",
      "bagging, val_score: 0.145716:  40%|####      | 4/10 [03:04<04:30, 45.14s/it]\u001b[32m[I 2022-08-21 22:32:33,362]\u001b[0m Trial 30 finished with value: 0.14644146776687658 and parameters: {'bagging_fraction': 0.60938996258463, 'bagging_freq': 6}. Best is trial 27 with value: 0.14623226184241364.\u001b[0m\n",
      "bagging, val_score: 0.145716:  50%|#####     | 5/10 [03:42<03:32, 42.51s/it]\u001b[32m[I 2022-08-21 22:33:11,215]\u001b[0m Trial 31 finished with value: 0.14708362637989586 and parameters: {'bagging_fraction': 0.44622653245712707, 'bagging_freq': 3}. Best is trial 27 with value: 0.14623226184241364.\u001b[0m\n",
      "bagging, val_score: 0.145716:  60%|######    | 6/10 [04:20<02:43, 40.98s/it]\u001b[32m[I 2022-08-21 22:33:49,220]\u001b[0m Trial 32 finished with value: 0.14757901131802986 and parameters: {'bagging_fraction': 0.42216208282891327, 'bagging_freq': 3}. Best is trial 27 with value: 0.14623226184241364.\u001b[0m\n",
      "bagging, val_score: 0.145716:  70%|#######   | 7/10 [05:09<02:10, 43.61s/it]\u001b[32m[I 2022-08-21 22:34:38,236]\u001b[0m Trial 33 finished with value: 0.1464408896707132 and parameters: {'bagging_fraction': 0.7124315901168389, 'bagging_freq': 1}. Best is trial 27 with value: 0.14623226184241364.\u001b[0m\n",
      "bagging, val_score: 0.145716:  80%|########  | 8/10 [05:58<01:30, 45.35s/it]\u001b[32m[I 2022-08-21 22:35:27,312]\u001b[0m Trial 34 finished with value: 0.14637978738130217 and parameters: {'bagging_fraction': 0.8312230576249137, 'bagging_freq': 6}. Best is trial 27 with value: 0.14623226184241364.\u001b[0m\n",
      "bagging, val_score: 0.145716:  90%|######### | 9/10 [06:40<00:44, 44.21s/it]\u001b[32m[I 2022-08-21 22:36:09,013]\u001b[0m Trial 35 finished with value: 0.1463408450671247 and parameters: {'bagging_fraction': 0.623271118769259, 'bagging_freq': 7}. Best is trial 27 with value: 0.14623226184241364.\u001b[0m\n",
      "bagging, val_score: 0.145716: 100%|##########| 10/10 [07:28<00:00, 45.40s/it]\u001b[32m[I 2022-08-21 22:36:57,092]\u001b[0m Trial 36 finished with value: 0.1461370053905488 and parameters: {'bagging_fraction': 0.7381574617659704, 'bagging_freq': 2}. Best is trial 36 with value: 0.1461370053905488.\u001b[0m\n",
      "bagging, val_score: 0.145716: 100%|##########| 10/10 [07:28<00:00, 44.85s/it]\n",
      "feature_fraction_stage2, val_score: 0.145716:  17%|#6        | 1/6 [00:48<04:03, 48.74s/it]\u001b[32m[I 2022-08-21 22:37:45,844]\u001b[0m Trial 37 finished with value: 0.14613285447002358 and parameters: {'feature_fraction': 0.8160000000000001}. Best is trial 37 with value: 0.14613285447002358.\u001b[0m\n",
      "feature_fraction_stage2, val_score: 0.145716:  33%|###3      | 2/6 [01:40<03:21, 50.29s/it]\u001b[32m[I 2022-08-21 22:38:37,218]\u001b[0m Trial 38 finished with value: 0.14633229076624846 and parameters: {'feature_fraction': 0.88}. Best is trial 37 with value: 0.14613285447002358.\u001b[0m\n",
      "feature_fraction_stage2, val_score: 0.145716:  50%|#####     | 3/6 [02:26<02:25, 48.61s/it]\u001b[32m[I 2022-08-21 22:39:23,820]\u001b[0m Trial 39 finished with value: 0.14598431277861526 and parameters: {'feature_fraction': 0.7520000000000001}. Best is trial 39 with value: 0.14598431277861526.\u001b[0m\n",
      "feature_fraction_stage2, val_score: 0.145716:  67%|######6   | 4/6 [03:19<01:40, 50.45s/it]\u001b[32m[I 2022-08-21 22:40:17,084]\u001b[0m Trial 40 finished with value: 0.1460735443800089 and parameters: {'feature_fraction': 0.784}. Best is trial 39 with value: 0.14598431277861526.\u001b[0m\n",
      "feature_fraction_stage2, val_score: 0.145716:  83%|########3 | 5/6 [04:14<00:51, 51.80s/it]\u001b[32m[I 2022-08-21 22:41:11,288]\u001b[0m Trial 41 finished with value: 0.14588936503515904 and parameters: {'feature_fraction': 0.8480000000000001}. Best is trial 41 with value: 0.14588936503515904.\u001b[0m\n",
      "feature_fraction_stage2, val_score: 0.145716: 100%|##########| 6/6 [05:01<00:00, 50.12s/it]\u001b[32m[I 2022-08-21 22:41:58,160]\u001b[0m Trial 42 finished with value: 0.14627369454250377 and parameters: {'feature_fraction': 0.7200000000000001}. Best is trial 41 with value: 0.14588936503515904.\u001b[0m\n",
      "feature_fraction_stage2, val_score: 0.145716: 100%|##########| 6/6 [05:01<00:00, 50.18s/it]\n",
      "regularization_factors, val_score: 0.145716:   5%|5         | 1/20 [00:55<17:33, 55.46s/it]\u001b[32m[I 2022-08-21 22:42:53,630]\u001b[0m Trial 43 finished with value: 0.14571725891025952 and parameters: {'lambda_l1': 5.676069582236551e-07, 'lambda_l2': 4.258172071990888e-05}. Best is trial 43 with value: 0.14571725891025952.\u001b[0m\n",
      "regularization_factors, val_score: 0.145716:  10%|#         | 2/20 [01:51<16:46, 55.93s/it]\u001b[32m[I 2022-08-21 22:43:49,894]\u001b[0m Trial 44 finished with value: 0.14601019535557783 and parameters: {'lambda_l1': 0.3886778461150747, 'lambda_l2': 0.0025818526990114125}. Best is trial 43 with value: 0.14571725891025952.\u001b[0m\n",
      "regularization_factors, val_score: 0.145716:  15%|#5        | 3/20 [02:46<15:43, 55.47s/it]\u001b[32m[I 2022-08-21 22:44:44,817]\u001b[0m Trial 45 finished with value: 0.14580712690081085 and parameters: {'lambda_l1': 3.2114193637971236e-05, 'lambda_l2': 9.937990158655391e-08}. Best is trial 43 with value: 0.14571725891025952.\u001b[0m\n",
      "regularization_factors, val_score: 0.145716:  20%|##        | 4/20 [03:42<14:48, 55.54s/it]\u001b[32m[I 2022-08-21 22:45:40,470]\u001b[0m Trial 46 finished with value: 0.14580580882642322 and parameters: {'lambda_l1': 1.3436991922291769e-07, 'lambda_l2': 0.0003480983570462808}. Best is trial 43 with value: 0.14571725891025952.\u001b[0m\n",
      "regularization_factors, val_score: 0.145716:  25%|##5       | 5/20 [04:42<14:15, 57.06s/it]\u001b[32m[I 2022-08-21 22:46:40,221]\u001b[0m Trial 47 finished with value: 0.14578003882192458 and parameters: {'lambda_l1': 0.005642371547529173, 'lambda_l2': 3.5356330103285245}. Best is trial 43 with value: 0.14571725891025952.\u001b[0m\n",
      "regularization_factors, val_score: 0.145716:  30%|###       | 6/20 [05:41<13:27, 57.70s/it]\u001b[32m[I 2022-08-21 22:47:39,170]\u001b[0m Trial 48 finished with value: 0.1459386143854955 and parameters: {'lambda_l1': 0.0004296568415050788, 'lambda_l2': 0.0005159708206086891}. Best is trial 43 with value: 0.14571725891025952.\u001b[0m\n",
      "regularization_factors, val_score: 0.145716:  35%|###5      | 7/20 [06:34<12:12, 56.34s/it]\u001b[32m[I 2022-08-21 22:48:32,701]\u001b[0m Trial 49 finished with value: 0.14585715521256484 and parameters: {'lambda_l1': 1.6902190709212414e-05, 'lambda_l2': 0.004162477530439406}. Best is trial 43 with value: 0.14571725891025952.\u001b[0m\n",
      "regularization_factors, val_score: 0.145716:  40%|####      | 8/20 [07:29<11:12, 56.04s/it]\u001b[32m[I 2022-08-21 22:49:28,115]\u001b[0m Trial 50 finished with value: 0.14571824261232633 and parameters: {'lambda_l1': 1.2861381934929886e-06, 'lambda_l2': 7.795662927520141e-08}. Best is trial 43 with value: 0.14571725891025952.\u001b[0m\n",
      "regularization_factors, val_score: 0.145716:  45%|####5     | 9/20 [08:26<10:19, 56.31s/it]\u001b[32m[I 2022-08-21 22:50:25,012]\u001b[0m Trial 51 finished with value: 0.14584272672061746 and parameters: {'lambda_l1': 0.0074033483002189605, 'lambda_l2': 0.0004546234536536134}. Best is trial 43 with value: 0.14571725891025952.\u001b[0m\n",
      "regularization_factors, val_score: 0.145716:  50%|#####     | 10/20 [09:22<09:20, 56.03s/it]\u001b[32m[I 2022-08-21 22:51:20,421]\u001b[0m Trial 52 finished with value: 0.14580617500642037 and parameters: {'lambda_l1': 0.0001265806144197746, 'lambda_l2': 2.8093648297826372e-06}. Best is trial 43 with value: 0.14571725891025952.\u001b[0m\n",
      "regularization_factors, val_score: 0.145716:  55%|#####5    | 11/20 [10:16<08:19, 55.46s/it]\u001b[32m[I 2022-08-21 22:52:14,591]\u001b[0m Trial 53 finished with value: 0.14627807038711949 and parameters: {'lambda_l1': 2.409178040199572e-08, 'lambda_l2': 0.3788919854935951}. Best is trial 43 with value: 0.14571725891025952.\u001b[0m\n",
      "regularization_factors, val_score: 0.145716:  60%|######    | 12/20 [11:11<07:23, 55.46s/it]\u001b[32m[I 2022-08-21 22:53:10,053]\u001b[0m Trial 54 finished with value: 0.145716451755539 and parameters: {'lambda_l1': 4.4974944852832613e-07, 'lambda_l2': 2.0784503408958853e-08}. Best is trial 54 with value: 0.145716451755539.\u001b[0m\n",
      "regularization_factors, val_score: 0.145715:  65%|######5   | 13/20 [12:07<06:29, 55.62s/it]\u001b[32m[I 2022-08-21 22:54:06,023]\u001b[0m Trial 55 finished with value: 0.14571513302273728 and parameters: {'lambda_l1': 6.564367053607624e-07, 'lambda_l2': 7.960637882509942e-06}. Best is trial 55 with value: 0.14571513302273728.\u001b[0m\n",
      "regularization_factors, val_score: 0.145715:  70%|#######   | 14/20 [13:03<05:33, 55.58s/it]\u001b[32m[I 2022-08-21 22:55:01,534]\u001b[0m Trial 56 finished with value: 0.1457156637222895 and parameters: {'lambda_l1': 1.0194259042921787e-08, 'lambda_l2': 2.2026520190251507e-06}. Best is trial 55 with value: 0.14571513302273728.\u001b[0m\n",
      "regularization_factors, val_score: 0.145715:  75%|#######5  | 15/20 [13:58<04:37, 55.49s/it]\u001b[32m[I 2022-08-21 22:55:56,792]\u001b[0m Trial 57 finished with value: 0.1457163648501505 and parameters: {'lambda_l1': 1.1837613525282819e-08, 'lambda_l2': 3.7925670470466676e-06}. Best is trial 55 with value: 0.14571513302273728.\u001b[0m\n",
      "regularization_factors, val_score: 0.145715:  80%|########  | 16/20 [14:54<03:42, 55.72s/it]\u001b[32m[I 2022-08-21 22:56:53,040]\u001b[0m Trial 58 finished with value: 0.1457175588279143 and parameters: {'lambda_l1': 5.037026212663881e-06, 'lambda_l2': 3.5898867871157244e-06}. Best is trial 55 with value: 0.14571513302273728.\u001b[0m\n",
      "regularization_factors, val_score: 0.145715:  85%|########5 | 17/20 [15:51<02:47, 55.92s/it]\u001b[32m[I 2022-08-21 22:57:49,439]\u001b[0m Trial 59 finished with value: 0.14571665860159816 and parameters: {'lambda_l1': 6.223223571353143e-08, 'lambda_l2': 4.521647614388795e-07}. Best is trial 55 with value: 0.14571513302273728.\u001b[0m\n",
      "regularization_factors, val_score: 0.145715:  90%|######### | 18/20 [16:46<01:51, 55.83s/it]\u001b[32m[I 2022-08-21 22:58:45,046]\u001b[0m Trial 60 finished with value: 0.1457175082045841 and parameters: {'lambda_l1': 1.0739654700751907e-08, 'lambda_l2': 2.8271830873512645e-05}. Best is trial 55 with value: 0.14571513302273728.\u001b[0m\n",
      "regularization_factors, val_score: 0.145715:  95%|#########5| 19/20 [17:39<00:54, 54.81s/it]\u001b[32m[I 2022-08-21 22:59:37,492]\u001b[0m Trial 61 finished with value: 0.14609282239161586 and parameters: {'lambda_l1': 2.558098199215709e-06, 'lambda_l2': 0.029554166147973127}. Best is trial 55 with value: 0.14571513302273728.\u001b[0m\n",
      "regularization_factors, val_score: 0.145715: 100%|##########| 20/20 [18:41<00:00, 56.94s/it]\u001b[32m[I 2022-08-21 23:00:39,378]\u001b[0m Trial 62 finished with value: 0.14579408776842848 and parameters: {'lambda_l1': 1.4318534222988404, 'lambda_l2': 3.1342609876323806e-05}. Best is trial 55 with value: 0.14571513302273728.\u001b[0m\n",
      "regularization_factors, val_score: 0.145715: 100%|##########| 20/20 [18:41<00:00, 56.06s/it]\n",
      "min_data_in_leaf, val_score: 0.145715:  20%|##        | 1/5 [00:56<03:46, 56.53s/it]\u001b[32m[I 2022-08-21 23:01:35,923]\u001b[0m Trial 63 finished with value: 0.14605575232943233 and parameters: {'min_child_samples': 10}. Best is trial 63 with value: 0.14605575232943233.\u001b[0m\n",
      "min_data_in_leaf, val_score: 0.145715:  40%|####      | 2/5 [01:52<02:47, 55.99s/it]\u001b[32m[I 2022-08-21 23:02:31,536]\u001b[0m Trial 64 finished with value: 0.1462922618190446 and parameters: {'min_child_samples': 5}. Best is trial 63 with value: 0.14605575232943233.\u001b[0m\n",
      "min_data_in_leaf, val_score: 0.145715:  60%|######    | 3/5 [02:46<01:50, 55.27s/it]\u001b[32m[I 2022-08-21 23:03:25,955]\u001b[0m Trial 65 finished with value: 0.1457799857303583 and parameters: {'min_child_samples': 25}. Best is trial 65 with value: 0.1457799857303583.\u001b[0m\n",
      "min_data_in_leaf, val_score: 0.145715:  80%|########  | 4/5 [03:38<00:54, 54.04s/it]\u001b[32m[I 2022-08-21 23:04:18,113]\u001b[0m Trial 66 finished with value: 0.14588303039678177 and parameters: {'min_child_samples': 100}. Best is trial 65 with value: 0.1457799857303583.\u001b[0m\n",
      "min_data_in_leaf, val_score: 0.145715: 100%|##########| 5/5 [04:37<00:00, 55.83s/it]\u001b[32m[I 2022-08-21 23:05:17,101]\u001b[0m Trial 67 finished with value: 0.14610761184556786 and parameters: {'min_child_samples': 50}. Best is trial 65 with value: 0.1457799857303583.\u001b[0m\n",
      "min_data_in_leaf, val_score: 0.145715: 100%|##########| 5/5 [04:37<00:00, 55.54s/it]\n"
     ]
    },
    {
     "data": {
      "text/plain": [
       "{'objective': 'mean_squared_error',\n",
       " 'metric': 'l1',\n",
       " 'verbose': -1,\n",
       " 'verbose_eval': -1,\n",
       " 'boosting_type': 'gbdt',\n",
       " 'feature_pre_filter': False,\n",
       " 'lambda_l1': 6.564367053607624e-07,\n",
       " 'lambda_l2': 7.960637882509942e-06,\n",
       " 'num_leaves': 235,\n",
       " 'feature_fraction': 0.8,\n",
       " 'bagging_fraction': 1.0,\n",
       " 'bagging_freq': 0,\n",
       " 'min_child_samples': 20,\n",
       " 'num_iterations': 300,\n",
       " 'early_stopping_round': 50,\n",
       " 'categorical_column': [43, 44, 50, 87, 122, 127, 129, 130, 133, 139]}"
      ]
     },
     "execution_count": 13,
     "metadata": {},
     "output_type": "execute_result"
    }
   ],
   "source": [
    "params = {\n",
    "    'objective': 'mean_squared_error',\n",
    "    'metric': 'mae',\n",
    "    \"verbose\": -1,#verbosity\n",
    "    \"verbose_eval\":-1,\n",
    "    \"boosting_type\": \"gbdt\",\n",
    "}\n",
    "\n",
    "best_params, history = {}, []\n",
    "\n",
    "# LightGBM学習\n",
    "gbm = lgb.train(params,\n",
    "                lgb_train,\n",
    "                num_boost_round = 300,\n",
    "                valid_sets=[lgb_train, lgb_eval],\n",
    "                early_stopping_rounds=50,\n",
    "                verbose_eval = False\n",
    "               )\n",
    "\n",
    "best_params = gbm.params\n",
    "best_params"
   ]
  },
  {
   "cell_type": "code",
   "execution_count": 14,
   "id": "b088e6f8",
   "metadata": {
    "execution": {
     "iopub.execute_input": "2022-08-21T23:05:17.197908Z",
     "iopub.status.busy": "2022-08-21T23:05:17.197195Z",
     "iopub.status.idle": "2022-08-21T23:05:17.802180Z",
     "shell.execute_reply": "2022-08-21T23:05:17.800941Z"
    },
    "papermill": {
     "duration": 0.637277,
     "end_time": "2022-08-21T23:05:17.804731",
     "exception": false,
     "start_time": "2022-08-21T23:05:17.167454",
     "status": "completed"
    },
    "tags": []
   },
   "outputs": [
    {
     "data": {
      "image/png": "[encoded data removed]",
      "text/plain": [
       "<Figure size 720x720 with 1 Axes>"
      ]
     },
     "metadata": {
      "needs_background": "light"
     },
     "output_type": "display_data"
    }
   ],
   "source": [
    "lgb.plot_importance(gbm, max_num_features = 35, figsize = (10,10))\n",
    "plt.show()"
   ]
  },
  {
   "cell_type": "code",
   "execution_count": 15,
   "id": "e0be399c",
   "metadata": {
    "execution": {
     "iopub.execute_input": "2022-08-21T23:05:17.863305Z",
     "iopub.status.busy": "2022-08-21T23:05:17.862906Z",
     "iopub.status.idle": "2022-08-21T23:05:17.867516Z",
     "shell.execute_reply": "2022-08-21T23:05:17.866327Z"
    },
    "papermill": {
     "duration": 0.036708,
     "end_time": "2022-08-21T23:05:17.869727",
     "exception": false,
     "start_time": "2022-08-21T23:05:17.833019",
     "status": "completed"
    },
    "tags": []
   },
   "outputs": [],
   "source": [
    "# model = model.fit(X_train, y_train)"
   ]
  },
  {
   "cell_type": "markdown",
   "id": "3108eae3",
   "metadata": {
    "papermill": {
     "duration": 0.027658,
     "end_time": "2022-08-21T23:05:18.037138",
     "exception": false,
     "start_time": "2022-08-21T23:05:18.009480",
     "status": "completed"
    },
    "tags": []
   },
   "source": [
    "# Submissions"
   ]
  },
  {
   "cell_type": "code",
   "execution_count": 16,
   "id": "bdcae717",
   "metadata": {
    "execution": {
     "iopub.execute_input": "2022-08-21T23:05:18.096094Z",
     "iopub.status.busy": "2022-08-21T23:05:18.095661Z",
     "iopub.status.idle": "2022-08-21T23:05:26.139609Z",
     "shell.execute_reply": "2022-08-21T23:05:26.138619Z"
    },
    "papermill": {
     "duration": 8.076484,
     "end_time": "2022-08-21T23:05:26.142213",
     "exception": false,
     "start_time": "2022-08-21T23:05:18.065729",
     "status": "completed"
    },
    "tags": []
   },
   "outputs": [],
   "source": [
    "import numpy as np \n",
    "import pandas as pd \n",
    "import glob\n",
    "from scipy.stats import rankdata\n",
    "\n",
    "paths = [x for x in glob.glob('../input/*/*.csv') if 'amex-default-prediction' not in x]\n",
    "dfs = [pd.read_csv(x) for x in paths]\n",
    "dfs = [x.sort_values(by='customer_ID') for x in dfs]\n",
    "\n",
    "paths = [x for x in glob.glob('../input/*/*.csv') if 'amex-default-prediction' not in x]\n",
    "paths\n",
    "\n",
    "for df in dfs:\n",
    "    df['prediction'] = np.clip(df['prediction'], 0, 1)"
   ]
  },
  {
   "cell_type": "code",
   "execution_count": 17,
   "id": "152c2710",
   "metadata": {
    "execution": {
     "iopub.execute_input": "2022-08-21T23:05:26.199694Z",
     "iopub.status.busy": "2022-08-21T23:05:26.199256Z",
     "iopub.status.idle": "2022-08-21T23:05:31.992024Z",
     "shell.execute_reply": "2022-08-21T23:05:31.990852Z"
    },
    "papermill": {
     "duration": 5.824803,
     "end_time": "2022-08-21T23:05:31.994905",
     "exception": false,
     "start_time": "2022-08-21T23:05:26.170102",
     "status": "completed"
    },
    "tags": []
   },
   "outputs": [],
   "source": [
    "paths = [x for x in glob.glob('../input/*/*.csv') if 'amex-default-prediction' not in x]\n",
    "dfs = [pd.read_csv(x) for x in paths]\n",
    "dfs = [x.sort_values(by='customer_ID') for x in dfs]"
   ]
  },
  {
   "cell_type": "code",
   "execution_count": 18,
   "id": "69aed3f2",
   "metadata": {
    "execution": {
     "iopub.execute_input": "2022-08-21T23:05:32.052933Z",
     "iopub.status.busy": "2022-08-21T23:05:32.052489Z",
     "iopub.status.idle": "2022-08-21T23:05:32.057647Z",
     "shell.execute_reply": "2022-08-21T23:05:32.056431Z"
    },
    "papermill": {
     "duration": 0.036609,
     "end_time": "2022-08-21T23:05:32.059801",
     "exception": false,
     "start_time": "2022-08-21T23:05:32.023192",
     "status": "completed"
    },
    "tags": []
   },
   "outputs": [],
   "source": [
    "weights = [0.52, 0.85, 0.97, 0.57, 1.02, 0.8]# [0.52, 0.87, 0.95, 0.57, 1, 0.8]"
   ]
  },
  {
   "cell_type": "code",
   "execution_count": 19,
   "id": "b2ac0c3a",
   "metadata": {
    "execution": {
     "iopub.execute_input": "2022-08-21T23:05:32.118071Z",
     "iopub.status.busy": "2022-08-21T23:05:32.117638Z",
     "iopub.status.idle": "2022-08-21T23:05:40.806867Z",
     "shell.execute_reply": "2022-08-21T23:05:40.805711Z"
    },
    "papermill": {
     "duration": 8.721775,
     "end_time": "2022-08-21T23:05:40.810101",
     "exception": false,
     "start_time": "2022-08-21T23:05:32.088326",
     "status": "completed"
    },
    "tags": []
   },
   "outputs": [],
   "source": [
    "submit = pd.read_csv('../input/amex-default-prediction/sample_submission.csv')\n",
    "submit['prediction'] = 0\n",
    "\n",
    "for df, weight in zip(dfs, weights):\n",
    "    submit['prediction'] += (df['prediction'] * weight)\n",
    "    \n",
    "submit['prediction'] /= np.sum(weights)\n",
    "\n",
    "submit.to_csv('mean_submission.csv', index=None)\n",
    "\n",
    " \n",
    "submit = pd.read_csv('../input/amex-default-prediction/sample_submission.csv')\n",
    "submit['prediction'] = 0\n",
    "\n",
    "for df, weight in zip(dfs, weights):\n",
    "    submit['prediction'] += (rankdata(df['prediction'])/df.shape[0]) * weight\n",
    "    \n",
    "submit['prediction'] /= 4"
   ]
  },
  {
   "cell_type": "code",
   "execution_count": 20,
   "id": "c9087ab8",
   "metadata": {
    "execution": {
     "iopub.execute_input": "2022-08-21T23:05:40.892227Z",
     "iopub.status.busy": "2022-08-21T23:05:40.891526Z",
     "iopub.status.idle": "2022-08-21T23:06:27.255829Z",
     "shell.execute_reply": "2022-08-21T23:06:27.254611Z"
    },
    "papermill": {
     "duration": 46.408645,
     "end_time": "2022-08-21T23:06:27.258752",
     "exception": false,
     "start_time": "2022-08-21T23:05:40.850107",
     "status": "completed"
    },
    "tags": []
   },
   "outputs": [],
   "source": [
    "test = pd.read_feather('../input/amexfeather/test_data.ftr')\n",
    "df_train = test.groupby('customer_ID').tail(1).set_index('customer_ID')"
   ]
  },
  {
   "cell_type": "code",
   "execution_count": 21,
   "id": "144a8fc5",
   "metadata": {
    "execution": {
     "iopub.execute_input": "2022-08-21T23:06:27.316565Z",
     "iopub.status.busy": "2022-08-21T23:06:27.316148Z",
     "iopub.status.idle": "2022-08-21T23:06:27.324526Z",
     "shell.execute_reply": "2022-08-21T23:06:27.323603Z"
    },
    "papermill": {
     "duration": 0.039823,
     "end_time": "2022-08-21T23:06:27.326722",
     "exception": false,
     "start_time": "2022-08-21T23:06:27.286899",
     "status": "completed"
    },
    "tags": []
   },
   "outputs": [
    {
     "data": {
      "text/plain": [
       "Index(['S_2', 'P_2', 'D_39', 'B_1', 'B_2', 'R_1', 'S_3', 'D_41', 'B_3', 'D_42',\n",
       "       ...\n",
       "       'D_136', 'D_137', 'D_138', 'D_139', 'D_140', 'D_141', 'D_142', 'D_143',\n",
       "       'D_144', 'D_145'],\n",
       "      dtype='object', length=189)"
      ]
     },
     "execution_count": 21,
     "metadata": {},
     "output_type": "execute_result"
    }
   ],
   "source": [
    "df_train.columns"
   ]
  },
  {
   "cell_type": "code",
   "execution_count": 22,
   "id": "1a9b0df0",
   "metadata": {
    "execution": {
     "iopub.execute_input": "2022-08-21T23:06:27.384456Z",
     "iopub.status.busy": "2022-08-21T23:06:27.383999Z",
     "iopub.status.idle": "2022-08-21T23:06:29.882278Z",
     "shell.execute_reply": "2022-08-21T23:06:29.881078Z"
    },
    "papermill": {
     "duration": 2.530444,
     "end_time": "2022-08-21T23:06:29.885133",
     "exception": false,
     "start_time": "2022-08-21T23:06:27.354689",
     "status": "completed"
    },
    "tags": []
   },
   "outputs": [],
   "source": [
    "df_train = df_train.dropna(axis=1, thresh=int(0.80 * len(df_train)))\n",
    "\n",
    "df_train[\"c_PD_239\"]=df_train[\"D_39\"]/(df_train[\"P_2\"]*(-1)+0.0001)\n",
    "df_train[\"c_PB_29\"]=df_train[\"P_2\"]*(-1)/(df_train[\"B_9\"]*(1)+0.0001)\n",
    "df_train[\"c_PR_21\"]=df_train[\"P_2\"]*(-1)/(df_train[\"R_1\"]+0.0001)\n",
    "\n",
    "df_train[\"c_BBBB\"]=(df_train[\"B_9\"]+0.001)/(df_train[\"B_23\"]+df_train[\"B_3\"]+0.0001)\n",
    "df_train[\"c_BBBB1\"]=(df_train[\"B_33\"]*(-1))+(df_train[\"B_18\"]*(-1)+df_train[\"S_25\"]*(1)+0.0001)\n",
    "df_train[\"c_BBBB2\"]=(df_train[\"B_19\"]+df_train[\"B_20\"]+df_train[\"B_4\"]+0.0001)\n",
    "\n",
    "df_train[\"c_RRR0\"]=(df_train[\"R_3\"]+0.001)/(df_train[\"R_2\"]+df_train[\"R_4\"]+0.0001)\n",
    "df_train[\"c_RRR1\"]=(df_train[\"D_62\"]+0.001)/(df_train[\"D_112\"]+df_train[\"R_27\"]+0.0001)\n",
    "\n",
    "df_train[\"c_PD_348\"]=df_train[\"D_48\"]/(df_train[\"P_3\"]+0.0001)\n",
    "df_train[\"c_PD_355\"]=df_train[\"D_55\"]/(df_train[\"P_3\"]+0.0001)\n",
    "\n",
    "df_train[\"c_PD_439\"]=df_train[\"D_39\"]/(df_train[\"P_4\"]+0.0001)\n",
    "df_train[\"c_PB_49\"]=df_train[\"B_9\"]/(df_train[\"P_4\"]+0.0001)\n",
    "df_train[\"c_PR_41\"]=df_train[\"R_1\"]/(df_train[\"P_4\"]+0.0001)\n"
   ]
  },
  {
   "cell_type": "code",
   "execution_count": 23,
   "id": "8006725a",
   "metadata": {
    "execution": {
     "iopub.execute_input": "2022-08-21T23:06:29.944130Z",
     "iopub.status.busy": "2022-08-21T23:06:29.943322Z",
     "iopub.status.idle": "2022-08-21T23:06:31.269618Z",
     "shell.execute_reply": "2022-08-21T23:06:31.268377Z"
    },
    "papermill": {
     "duration": 1.358878,
     "end_time": "2022-08-21T23:06:31.272396",
     "exception": false,
     "start_time": "2022-08-21T23:06:29.913518",
     "status": "completed"
    },
    "tags": []
   },
   "outputs": [],
   "source": [
    "X = df_train.drop(\"S_2\", axis=1)\n",
    "X = X[Xname]"
   ]
  },
  {
   "cell_type": "code",
   "execution_count": 24,
   "id": "92b55d37",
   "metadata": {
    "execution": {
     "iopub.execute_input": "2022-08-21T23:06:31.332266Z",
     "iopub.status.busy": "2022-08-21T23:06:31.331498Z",
     "iopub.status.idle": "2022-08-21T23:06:31.335589Z",
     "shell.execute_reply": "2022-08-21T23:06:31.334730Z"
    },
    "papermill": {
     "duration": 0.03673,
     "end_time": "2022-08-21T23:06:31.337772",
     "exception": false,
     "start_time": "2022-08-21T23:06:31.301042",
     "status": "completed"
    },
    "tags": []
   },
   "outputs": [],
   "source": [
    "# Y_pred = model.predict_proba(X)"
   ]
  },
  {
   "cell_type": "code",
   "execution_count": 25,
   "id": "883f5f00",
   "metadata": {
    "execution": {
     "iopub.execute_input": "2022-08-21T23:06:31.396889Z",
     "iopub.status.busy": "2022-08-21T23:06:31.396142Z",
     "iopub.status.idle": "2022-08-21T23:06:37.747014Z",
     "shell.execute_reply": "2022-08-21T23:06:37.745962Z"
    },
    "papermill": {
     "duration": 6.383753,
     "end_time": "2022-08-21T23:06:37.749818",
     "exception": false,
     "start_time": "2022-08-21T23:06:31.366065",
     "status": "completed"
    },
    "tags": []
   },
   "outputs": [],
   "source": [
    "Y_pred = gbm.predict(X, num_iteration=gbm.best_iteration)"
   ]
  },
  {
   "cell_type": "code",
   "execution_count": 26,
   "id": "2ab34216",
   "metadata": {
    "execution": {
     "iopub.execute_input": "2022-08-21T23:06:37.811709Z",
     "iopub.status.busy": "2022-08-21T23:06:37.810921Z",
     "iopub.status.idle": "2022-08-21T23:06:37.819789Z",
     "shell.execute_reply": "2022-08-21T23:06:37.818680Z"
    },
    "papermill": {
     "duration": 0.043333,
     "end_time": "2022-08-21T23:06:37.822481",
     "exception": false,
     "start_time": "2022-08-21T23:06:37.779148",
     "status": "completed"
    },
    "tags": []
   },
   "outputs": [
    {
     "data": {
      "text/plain": [
       "array([ 4.94500498e-02, -4.34600422e-04,  6.76934464e-02, ...,\n",
       "        6.22389875e-01,  3.22041546e-01,  3.92775591e-02])"
      ]
     },
     "execution_count": 26,
     "metadata": {},
     "output_type": "execute_result"
    }
   ],
   "source": [
    "Y_pred"
   ]
  },
  {
   "cell_type": "code",
   "execution_count": 27,
   "id": "0b37da57",
   "metadata": {
    "execution": {
     "iopub.execute_input": "2022-08-21T23:06:37.882299Z",
     "iopub.status.busy": "2022-08-21T23:06:37.881845Z",
     "iopub.status.idle": "2022-08-21T23:06:37.896221Z",
     "shell.execute_reply": "2022-08-21T23:06:37.894977Z"
    },
    "papermill": {
     "duration": 0.047474,
     "end_time": "2022-08-21T23:06:37.899130",
     "exception": false,
     "start_time": "2022-08-21T23:06:37.851656",
     "status": "completed"
    },
    "tags": []
   },
   "outputs": [],
   "source": [
    "submit['prediction'] = (submit['prediction'])*(0.995)+(Y_pred)*(0.005)"
   ]
  },
  {
   "cell_type": "code",
   "execution_count": 28,
   "id": "13a4ba66",
   "metadata": {
    "execution": {
     "iopub.execute_input": "2022-08-21T23:06:37.957747Z",
     "iopub.status.busy": "2022-08-21T23:06:37.957336Z",
     "iopub.status.idle": "2022-08-21T23:06:41.082417Z",
     "shell.execute_reply": "2022-08-21T23:06:41.081169Z"
    },
    "papermill": {
     "duration": 3.157466,
     "end_time": "2022-08-21T23:06:41.085213",
     "exception": false,
     "start_time": "2022-08-21T23:06:37.927747",
     "status": "completed"
    },
    "tags": []
   },
   "outputs": [],
   "source": [
    "submit.to_csv('submission.csv', index=None)    "
   ]
  },
  {
   "cell_type": "code",
   "execution_count": 29,
   "id": "85ec921e",
   "metadata": {
    "execution": {
     "iopub.execute_input": "2022-08-21T23:06:41.145339Z",
     "iopub.status.busy": "2022-08-21T23:06:41.144350Z",
     "iopub.status.idle": "2022-08-21T23:06:41.155680Z",
     "shell.execute_reply": "2022-08-21T23:06:41.154576Z"
    },
    "papermill": {
     "duration": 0.043998,
     "end_time": "2022-08-21T23:06:41.157846",
     "exception": false,
     "start_time": "2022-08-21T23:06:41.113848",
     "status": "completed"
    },
    "tags": []
   },
   "outputs": [
    {
     "data": {
      "text/html": [
       "<div>\n",
       "<style scoped>\n",
       "    .dataframe tbody tr th:only-of-type {\n",
       "        vertical-align: middle;\n",
       "    }\n",
       "\n",
       "    .dataframe tbody tr th {\n",
       "        vertical-align: top;\n",
       "    }\n",
       "\n",
       "    .dataframe thead th {\n",
       "        text-align: right;\n",
       "    }\n",
       "</style>\n",
       "<table border=\"1\" class=\"dataframe\">\n",
       "  <thead>\n",
       "    <tr style=\"text-align: right;\">\n",
       "      <th></th>\n",
       "      <th>customer_ID</th>\n",
       "      <th>prediction</th>\n",
       "    </tr>\n",
       "  </thead>\n",
       "  <tbody>\n",
       "    <tr>\n",
       "      <th>0</th>\n",
       "      <td>00000469ba478561f23a92a868bd366de6f6527a684c9a...</td>\n",
       "      <td>0.297577</td>\n",
       "    </tr>\n",
       "    <tr>\n",
       "      <th>1</th>\n",
       "      <td>00001bf2e77ff879fab36aa4fac689b9ba411dae63ae39...</td>\n",
       "      <td>0.042990</td>\n",
       "    </tr>\n",
       "    <tr>\n",
       "      <th>2</th>\n",
       "      <td>0000210045da4f81e5f122c6bde5c2a617d03eef67f82c...</td>\n",
       "      <td>0.301432</td>\n",
       "    </tr>\n",
       "    <tr>\n",
       "      <th>3</th>\n",
       "      <td>00003b41e58ede33b8daf61ab56d9952f17c9ad1c3976c...</td>\n",
       "      <td>0.379628</td>\n",
       "    </tr>\n",
       "    <tr>\n",
       "      <th>4</th>\n",
       "      <td>00004b22eaeeeb0ec976890c1d9bfc14fd9427e98c4ee9...</td>\n",
       "      <td>0.522306</td>\n",
       "    </tr>\n",
       "  </tbody>\n",
       "</table>\n",
       "</div>"
      ],
      "text/plain": [
       "                                         customer_ID  prediction\n",
       "0  00000469ba478561f23a92a868bd366de6f6527a684c9a...    0.297577\n",
       "1  00001bf2e77ff879fab36aa4fac689b9ba411dae63ae39...    0.042990\n",
       "2  0000210045da4f81e5f122c6bde5c2a617d03eef67f82c...    0.301432\n",
       "3  00003b41e58ede33b8daf61ab56d9952f17c9ad1c3976c...    0.379628\n",
       "4  00004b22eaeeeb0ec976890c1d9bfc14fd9427e98c4ee9...    0.522306"
      ]
     },
     "execution_count": 29,
     "metadata": {},
     "output_type": "execute_result"
    }
   ],
   "source": [
    "submit.head()"
   ]
  },
  {
   "cell_type": "code",
   "execution_count": null,
   "id": "3c089908",
   "metadata": {
    "papermill": {
     "duration": 0.028735,
     "end_time": "2022-08-21T23:06:41.215254",
     "exception": false,
     "start_time": "2022-08-21T23:06:41.186519",
     "status": "completed"
    },
    "tags": []
   },
   "outputs": [],
   "source": []
  }
 ],
 "metadata": {
  "kernelspec": {
   "display_name": "Python 3",
   "language": "python",
   "name": "python3"
  },
  "language_info": {
   "codemirror_mode": {
    "name": "ipython",
    "version": 3
   },
   "file_extension": ".py",
   "mimetype": "text/x-python",
   "name": "python",
   "nbconvert_exporter": "python",
   "pygments_lexer": "ipython3",
   "version": "3.7.12"
  },
  "papermill": {
   "default_parameters": {},
   "duration": 3551.522986,
   "end_time": "2022-08-21T23:06:42.783488",
   "environment_variables": {},
   "exception": null,
   "input_path": "__notebook__.ipynb",
   "output_path": "__notebook__.ipynb",
   "parameters": {},
   "start_time": "2022-08-21T22:07:31.260502",
   "version": "2.3.4"
  }
 },
 "nbformat": 4,
 "nbformat_minor": 5
}
