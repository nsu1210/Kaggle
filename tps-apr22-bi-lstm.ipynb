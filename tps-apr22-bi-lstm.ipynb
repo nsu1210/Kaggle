{
 "cells": [
  {
   "cell_type": "code",
   "execution_count": 1,
   "id": "d8aaae13",
   "metadata": {
    "execution": {
     "iopub.execute_input": "2022-04-08T07:15:39.990772Z",
     "iopub.status.busy": "2022-04-08T07:15:39.987336Z",
     "iopub.status.idle": "2022-04-08T07:15:41.095283Z",
     "shell.execute_reply": "2022-04-08T07:15:41.094459Z",
     "shell.execute_reply.started": "2022-04-08T00:18:10.53755Z"
    },
    "papermill": {
     "duration": 1.133781,
     "end_time": "2022-04-08T07:15:41.095460",
     "exception": false,
     "start_time": "2022-04-08T07:15:39.961679",
     "status": "completed"
    },
    "tags": []
   },
   "outputs": [],
   "source": [
    "import numpy as np\n",
    "import pandas as pd\n",
    "import matplotlib.pyplot as plt\n",
    "import seaborn as sns\n",
    "\n",
    "import warnings\n",
    "warnings.filterwarnings('ignore')\n",
    "import os\n",
    "import gc\n",
    "\n",
    "from sklearn.metrics import roc_auc_score"
   ]
  },
  {
   "cell_type": "code",
   "execution_count": 2,
   "id": "b943321c",
   "metadata": {
    "execution": {
     "iopub.execute_input": "2022-04-08T07:15:41.131798Z",
     "iopub.status.busy": "2022-04-08T07:15:41.131101Z",
     "iopub.status.idle": "2022-04-08T07:15:54.618290Z",
     "shell.execute_reply": "2022-04-08T07:15:54.617632Z",
     "shell.execute_reply.started": "2022-04-08T00:18:11.534554Z"
    },
    "papermill": {
     "duration": 13.507787,
     "end_time": "2022-04-08T07:15:54.618441",
     "exception": false,
     "start_time": "2022-04-08T07:15:41.110654",
     "status": "completed"
    },
    "tags": []
   },
   "outputs": [
    {
     "name": "stdout",
     "output_type": "stream",
     "text": [
      "(1558080, 16)\n",
      "(733080, 16)\n",
      "(12218, 2)\n",
      "label (25968, 2)\n"
     ]
    }
   ],
   "source": [
    "train = pd.read_csv('../input/tabular-playground-series-apr-2022/train.csv')\n",
    "test = pd.read_csv('../input/tabular-playground-series-apr-2022/test.csv')\n",
    "print(train.shape)\n",
    "print(test.shape)\n",
    "\n",
    "sub = pd.read_csv(\"../input/tabular-playground-series-apr-2022/sample_submission.csv\")\n",
    "print(sub.shape)\n",
    "labels = pd.read_csv('../input/tabular-playground-series-apr-2022/train_labels.csv')\n",
    "print('label', labels.shape)"
   ]
  },
  {
   "cell_type": "code",
   "execution_count": 3,
   "id": "ec26cda1",
   "metadata": {
    "execution": {
     "iopub.execute_input": "2022-04-08T07:15:54.665630Z",
     "iopub.status.busy": "2022-04-08T07:15:54.660308Z",
     "iopub.status.idle": "2022-04-08T07:15:54.957208Z",
     "shell.execute_reply": "2022-04-08T07:15:54.957874Z",
     "shell.execute_reply.started": "2022-04-08T00:18:22.589059Z"
    },
    "papermill": {
     "duration": 0.323542,
     "end_time": "2022-04-08T07:15:54.958056",
     "exception": false,
     "start_time": "2022-04-08T07:15:54.634514",
     "status": "completed"
    },
    "tags": []
   },
   "outputs": [
    {
     "data": {
      "text/html": [
       "<div>\n",
       "<style scoped>\n",
       "    .dataframe tbody tr th:only-of-type {\n",
       "        vertical-align: middle;\n",
       "    }\n",
       "\n",
       "    .dataframe tbody tr th {\n",
       "        vertical-align: top;\n",
       "    }\n",
       "\n",
       "    .dataframe thead th {\n",
       "        text-align: right;\n",
       "    }\n",
       "</style>\n",
       "<table border=\"1\" class=\"dataframe\">\n",
       "  <thead>\n",
       "    <tr style=\"text-align: right;\">\n",
       "      <th></th>\n",
       "      <th>sequence</th>\n",
       "      <th>subject</th>\n",
       "      <th>step</th>\n",
       "      <th>sensor_00</th>\n",
       "      <th>sensor_01</th>\n",
       "      <th>sensor_02</th>\n",
       "      <th>sensor_03</th>\n",
       "      <th>sensor_04</th>\n",
       "      <th>sensor_05</th>\n",
       "      <th>sensor_06</th>\n",
       "      <th>sensor_07</th>\n",
       "      <th>sensor_08</th>\n",
       "      <th>sensor_09</th>\n",
       "      <th>sensor_10</th>\n",
       "      <th>sensor_11</th>\n",
       "      <th>sensor_12</th>\n",
       "      <th>state</th>\n",
       "    </tr>\n",
       "  </thead>\n",
       "  <tbody>\n",
       "    <tr>\n",
       "      <th>0</th>\n",
       "      <td>0</td>\n",
       "      <td>47</td>\n",
       "      <td>0</td>\n",
       "      <td>-0.196291</td>\n",
       "      <td>0.112395</td>\n",
       "      <td>1.0</td>\n",
       "      <td>0.329204</td>\n",
       "      <td>-1.004660</td>\n",
       "      <td>-0.131638</td>\n",
       "      <td>-0.127505</td>\n",
       "      <td>0.368702</td>\n",
       "      <td>-0.1</td>\n",
       "      <td>-0.963873</td>\n",
       "      <td>-0.985069</td>\n",
       "      <td>0.531893</td>\n",
       "      <td>4.751492</td>\n",
       "      <td>0</td>\n",
       "    </tr>\n",
       "    <tr>\n",
       "      <th>1</th>\n",
       "      <td>0</td>\n",
       "      <td>47</td>\n",
       "      <td>1</td>\n",
       "      <td>-0.447450</td>\n",
       "      <td>0.134454</td>\n",
       "      <td>1.0</td>\n",
       "      <td>-0.658407</td>\n",
       "      <td>0.162495</td>\n",
       "      <td>0.340314</td>\n",
       "      <td>-0.209472</td>\n",
       "      <td>-0.867176</td>\n",
       "      <td>0.2</td>\n",
       "      <td>-0.301301</td>\n",
       "      <td>0.082733</td>\n",
       "      <td>-0.231481</td>\n",
       "      <td>0.454390</td>\n",
       "      <td>0</td>\n",
       "    </tr>\n",
       "    <tr>\n",
       "      <th>2</th>\n",
       "      <td>0</td>\n",
       "      <td>47</td>\n",
       "      <td>2</td>\n",
       "      <td>0.326893</td>\n",
       "      <td>-0.694328</td>\n",
       "      <td>1.0</td>\n",
       "      <td>0.330088</td>\n",
       "      <td>0.473678</td>\n",
       "      <td>1.280479</td>\n",
       "      <td>-0.094718</td>\n",
       "      <td>0.535878</td>\n",
       "      <td>1.4</td>\n",
       "      <td>1.002168</td>\n",
       "      <td>0.449221</td>\n",
       "      <td>-0.586420</td>\n",
       "      <td>-4.736147</td>\n",
       "      <td>0</td>\n",
       "    </tr>\n",
       "    <tr>\n",
       "      <th>3</th>\n",
       "      <td>0</td>\n",
       "      <td>47</td>\n",
       "      <td>3</td>\n",
       "      <td>0.523184</td>\n",
       "      <td>0.751050</td>\n",
       "      <td>1.0</td>\n",
       "      <td>0.976991</td>\n",
       "      <td>-0.563287</td>\n",
       "      <td>-0.720269</td>\n",
       "      <td>0.793260</td>\n",
       "      <td>0.951145</td>\n",
       "      <td>-0.3</td>\n",
       "      <td>-0.995665</td>\n",
       "      <td>-0.434290</td>\n",
       "      <td>1.344650</td>\n",
       "      <td>0.429241</td>\n",
       "      <td>0</td>\n",
       "    </tr>\n",
       "    <tr>\n",
       "      <th>4</th>\n",
       "      <td>0</td>\n",
       "      <td>47</td>\n",
       "      <td>4</td>\n",
       "      <td>0.272025</td>\n",
       "      <td>1.074580</td>\n",
       "      <td>1.0</td>\n",
       "      <td>-0.136283</td>\n",
       "      <td>0.398579</td>\n",
       "      <td>0.044877</td>\n",
       "      <td>0.560109</td>\n",
       "      <td>-0.541985</td>\n",
       "      <td>-0.9</td>\n",
       "      <td>1.055636</td>\n",
       "      <td>0.812631</td>\n",
       "      <td>0.123457</td>\n",
       "      <td>-0.223359</td>\n",
       "      <td>0</td>\n",
       "    </tr>\n",
       "  </tbody>\n",
       "</table>\n",
       "</div>"
      ],
      "text/plain": [
       "   sequence  subject  step  sensor_00  sensor_01  sensor_02  sensor_03  \\\n",
       "0         0       47     0  -0.196291   0.112395        1.0   0.329204   \n",
       "1         0       47     1  -0.447450   0.134454        1.0  -0.658407   \n",
       "2         0       47     2   0.326893  -0.694328        1.0   0.330088   \n",
       "3         0       47     3   0.523184   0.751050        1.0   0.976991   \n",
       "4         0       47     4   0.272025   1.074580        1.0  -0.136283   \n",
       "\n",
       "   sensor_04  sensor_05  sensor_06  sensor_07  sensor_08  sensor_09  \\\n",
       "0  -1.004660  -0.131638  -0.127505   0.368702       -0.1  -0.963873   \n",
       "1   0.162495   0.340314  -0.209472  -0.867176        0.2  -0.301301   \n",
       "2   0.473678   1.280479  -0.094718   0.535878        1.4   1.002168   \n",
       "3  -0.563287  -0.720269   0.793260   0.951145       -0.3  -0.995665   \n",
       "4   0.398579   0.044877   0.560109  -0.541985       -0.9   1.055636   \n",
       "\n",
       "   sensor_10  sensor_11  sensor_12  state  \n",
       "0  -0.985069   0.531893   4.751492      0  \n",
       "1   0.082733  -0.231481   0.454390      0  \n",
       "2   0.449221  -0.586420  -4.736147      0  \n",
       "3  -0.434290   1.344650   0.429241      0  \n",
       "4   0.812631   0.123457  -0.223359      0  "
      ]
     },
     "execution_count": 3,
     "metadata": {},
     "output_type": "execute_result"
    }
   ],
   "source": [
    "features = [c for c in train.columns if 'sensor' in c]\n",
    "\n",
    "# adding labels to train data\n",
    "train = pd.merge(train, labels,how='left', on=\"sequence\")\n",
    "train.head()"
   ]
  },
  {
   "cell_type": "markdown",
   "id": "5d71dcd8",
   "metadata": {
    "papermill": {
     "duration": 0.015666,
     "end_time": "2022-04-08T07:15:54.989917",
     "exception": false,
     "start_time": "2022-04-08T07:15:54.974251",
     "status": "completed"
    },
    "tags": []
   },
   "source": [
    "# FE"
   ]
  },
  {
   "cell_type": "code",
   "execution_count": 4,
   "id": "0708b2c2",
   "metadata": {
    "execution": {
     "iopub.execute_input": "2022-04-08T07:15:55.030645Z",
     "iopub.status.busy": "2022-04-08T07:15:55.029503Z",
     "iopub.status.idle": "2022-04-08T07:15:56.656846Z",
     "shell.execute_reply": "2022-04-08T07:15:56.657355Z",
     "shell.execute_reply.started": "2022-04-08T00:18:22.804335Z"
    },
    "papermill": {
     "duration": 1.651782,
     "end_time": "2022-04-08T07:15:56.657545",
     "exception": false,
     "start_time": "2022-04-08T07:15:55.005763",
     "status": "completed"
    },
    "tags": []
   },
   "outputs": [
    {
     "name": "stdout",
     "output_type": "stream",
     "text": [
      "(1558080, 43)\n",
      "(733080, 42)\n"
     ]
    },
    {
     "data": {
      "text/html": [
       "<div>\n",
       "<style scoped>\n",
       "    .dataframe tbody tr th:only-of-type {\n",
       "        vertical-align: middle;\n",
       "    }\n",
       "\n",
       "    .dataframe tbody tr th {\n",
       "        vertical-align: top;\n",
       "    }\n",
       "\n",
       "    .dataframe thead th {\n",
       "        text-align: right;\n",
       "    }\n",
       "</style>\n",
       "<table border=\"1\" class=\"dataframe\">\n",
       "  <thead>\n",
       "    <tr style=\"text-align: right;\">\n",
       "      <th></th>\n",
       "      <th>sequence</th>\n",
       "      <th>subject</th>\n",
       "      <th>step</th>\n",
       "      <th>sensor_00</th>\n",
       "      <th>sensor_01</th>\n",
       "      <th>sensor_02</th>\n",
       "      <th>sensor_03</th>\n",
       "      <th>sensor_04</th>\n",
       "      <th>sensor_05</th>\n",
       "      <th>sensor_06</th>\n",
       "      <th>...</th>\n",
       "      <th>sensor_08_lag1</th>\n",
       "      <th>sensor_08_diff1</th>\n",
       "      <th>sensor_09_lag1</th>\n",
       "      <th>sensor_09_diff1</th>\n",
       "      <th>sensor_10_lag1</th>\n",
       "      <th>sensor_10_diff1</th>\n",
       "      <th>sensor_11_lag1</th>\n",
       "      <th>sensor_11_diff1</th>\n",
       "      <th>sensor_12_lag1</th>\n",
       "      <th>sensor_12_diff1</th>\n",
       "    </tr>\n",
       "  </thead>\n",
       "  <tbody>\n",
       "    <tr>\n",
       "      <th>0</th>\n",
       "      <td>0</td>\n",
       "      <td>47</td>\n",
       "      <td>0</td>\n",
       "      <td>-0.196291</td>\n",
       "      <td>0.112395</td>\n",
       "      <td>1.0</td>\n",
       "      <td>0.329204</td>\n",
       "      <td>-1.004660</td>\n",
       "      <td>-0.131638</td>\n",
       "      <td>-0.127505</td>\n",
       "      <td>...</td>\n",
       "      <td>0.0</td>\n",
       "      <td>-0.1</td>\n",
       "      <td>0.000000</td>\n",
       "      <td>-0.963873</td>\n",
       "      <td>0.000000</td>\n",
       "      <td>-0.985069</td>\n",
       "      <td>0.000000</td>\n",
       "      <td>0.531893</td>\n",
       "      <td>0.000000</td>\n",
       "      <td>4.751492</td>\n",
       "    </tr>\n",
       "    <tr>\n",
       "      <th>1</th>\n",
       "      <td>0</td>\n",
       "      <td>47</td>\n",
       "      <td>1</td>\n",
       "      <td>-0.447450</td>\n",
       "      <td>0.134454</td>\n",
       "      <td>1.0</td>\n",
       "      <td>-0.658407</td>\n",
       "      <td>0.162495</td>\n",
       "      <td>0.340314</td>\n",
       "      <td>-0.209472</td>\n",
       "      <td>...</td>\n",
       "      <td>-0.1</td>\n",
       "      <td>0.3</td>\n",
       "      <td>-0.963873</td>\n",
       "      <td>0.662572</td>\n",
       "      <td>-0.985069</td>\n",
       "      <td>1.067802</td>\n",
       "      <td>0.531893</td>\n",
       "      <td>-0.763375</td>\n",
       "      <td>4.751492</td>\n",
       "      <td>-4.297101</td>\n",
       "    </tr>\n",
       "    <tr>\n",
       "      <th>2</th>\n",
       "      <td>0</td>\n",
       "      <td>47</td>\n",
       "      <td>2</td>\n",
       "      <td>0.326893</td>\n",
       "      <td>-0.694328</td>\n",
       "      <td>1.0</td>\n",
       "      <td>0.330088</td>\n",
       "      <td>0.473678</td>\n",
       "      <td>1.280479</td>\n",
       "      <td>-0.094718</td>\n",
       "      <td>...</td>\n",
       "      <td>0.2</td>\n",
       "      <td>1.2</td>\n",
       "      <td>-0.301301</td>\n",
       "      <td>1.303468</td>\n",
       "      <td>0.082733</td>\n",
       "      <td>0.366488</td>\n",
       "      <td>-0.231481</td>\n",
       "      <td>-0.354938</td>\n",
       "      <td>0.454390</td>\n",
       "      <td>-5.190537</td>\n",
       "    </tr>\n",
       "    <tr>\n",
       "      <th>3</th>\n",
       "      <td>0</td>\n",
       "      <td>47</td>\n",
       "      <td>3</td>\n",
       "      <td>0.523184</td>\n",
       "      <td>0.751050</td>\n",
       "      <td>1.0</td>\n",
       "      <td>0.976991</td>\n",
       "      <td>-0.563287</td>\n",
       "      <td>-0.720269</td>\n",
       "      <td>0.793260</td>\n",
       "      <td>...</td>\n",
       "      <td>1.4</td>\n",
       "      <td>-1.7</td>\n",
       "      <td>1.002168</td>\n",
       "      <td>-1.997832</td>\n",
       "      <td>0.449221</td>\n",
       "      <td>-0.883511</td>\n",
       "      <td>-0.586420</td>\n",
       "      <td>1.931070</td>\n",
       "      <td>-4.736146</td>\n",
       "      <td>5.165388</td>\n",
       "    </tr>\n",
       "    <tr>\n",
       "      <th>4</th>\n",
       "      <td>0</td>\n",
       "      <td>47</td>\n",
       "      <td>4</td>\n",
       "      <td>0.272025</td>\n",
       "      <td>1.074580</td>\n",
       "      <td>1.0</td>\n",
       "      <td>-0.136283</td>\n",
       "      <td>0.398579</td>\n",
       "      <td>0.044877</td>\n",
       "      <td>0.560109</td>\n",
       "      <td>...</td>\n",
       "      <td>-0.3</td>\n",
       "      <td>-0.6</td>\n",
       "      <td>-0.995665</td>\n",
       "      <td>2.051301</td>\n",
       "      <td>-0.434290</td>\n",
       "      <td>1.246921</td>\n",
       "      <td>1.344650</td>\n",
       "      <td>-1.221193</td>\n",
       "      <td>0.429241</td>\n",
       "      <td>-0.652600</td>\n",
       "    </tr>\n",
       "  </tbody>\n",
       "</table>\n",
       "<p>5 rows × 43 columns</p>\n",
       "</div>"
      ],
      "text/plain": [
       "   sequence  subject  step  sensor_00  sensor_01  sensor_02  sensor_03  \\\n",
       "0         0       47     0  -0.196291   0.112395        1.0   0.329204   \n",
       "1         0       47     1  -0.447450   0.134454        1.0  -0.658407   \n",
       "2         0       47     2   0.326893  -0.694328        1.0   0.330088   \n",
       "3         0       47     3   0.523184   0.751050        1.0   0.976991   \n",
       "4         0       47     4   0.272025   1.074580        1.0  -0.136283   \n",
       "\n",
       "   sensor_04  sensor_05  sensor_06  ...  sensor_08_lag1  sensor_08_diff1  \\\n",
       "0  -1.004660  -0.131638  -0.127505  ...             0.0             -0.1   \n",
       "1   0.162495   0.340314  -0.209472  ...            -0.1              0.3   \n",
       "2   0.473678   1.280479  -0.094718  ...             0.2              1.2   \n",
       "3  -0.563287  -0.720269   0.793260  ...             1.4             -1.7   \n",
       "4   0.398579   0.044877   0.560109  ...            -0.3             -0.6   \n",
       "\n",
       "   sensor_09_lag1  sensor_09_diff1  sensor_10_lag1  sensor_10_diff1  \\\n",
       "0        0.000000        -0.963873        0.000000        -0.985069   \n",
       "1       -0.963873         0.662572       -0.985069         1.067802   \n",
       "2       -0.301301         1.303468        0.082733         0.366488   \n",
       "3        1.002168        -1.997832        0.449221        -0.883511   \n",
       "4       -0.995665         2.051301       -0.434290         1.246921   \n",
       "\n",
       "   sensor_11_lag1  sensor_11_diff1  sensor_12_lag1  sensor_12_diff1  \n",
       "0        0.000000         0.531893        0.000000         4.751492  \n",
       "1        0.531893        -0.763375        4.751492        -4.297101  \n",
       "2       -0.231481        -0.354938        0.454390        -5.190537  \n",
       "3       -0.586420         1.931070       -4.736146         5.165388  \n",
       "4        1.344650        -1.221193        0.429241        -0.652600  \n",
       "\n",
       "[5 rows x 43 columns]"
      ]
     },
     "execution_count": 4,
     "metadata": {},
     "output_type": "execute_result"
    }
   ],
   "source": [
    "def addFeatures(df):  \n",
    "    \n",
    "    for f in features:\n",
    "        df[f + '_lag1'] = df.groupby('sequence')[f].shift(1).fillna(0).astype('float32')\n",
    "        \n",
    "        #df[f + '_lag_back1'] = df.groupby('sequence')[f].shift(-1).fillna(0).astype('float32')\n",
    "        #df[f + '_cumsum'] = df.groupby('sequence')[f].cumsum().astype('float32')\n",
    "        df[f + '_diff1'] = (df[f] - df[f + '_lag1']).astype('float32')\n",
    "    return df\n",
    "\n",
    "train = addFeatures(train)\n",
    "test = addFeatures(test)\n",
    "\n",
    "print(train.shape)\n",
    "print(test.shape)\n",
    "train.head()"
   ]
  },
  {
   "cell_type": "code",
   "execution_count": 5,
   "id": "e6f02a83",
   "metadata": {
    "execution": {
     "iopub.execute_input": "2022-04-08T07:15:56.699437Z",
     "iopub.status.busy": "2022-04-08T07:15:56.698577Z",
     "iopub.status.idle": "2022-04-08T07:15:57.192224Z",
     "shell.execute_reply": "2022-04-08T07:15:57.191581Z",
     "shell.execute_reply.started": "2022-04-08T00:18:23.925909Z"
    },
    "papermill": {
     "duration": 0.517583,
     "end_time": "2022-04-08T07:15:57.192387",
     "exception": false,
     "start_time": "2022-04-08T07:15:56.674804",
     "status": "completed"
    },
    "tags": []
   },
   "outputs": [
    {
     "data": {
      "text/plain": [
       "array([[0, 0, 0, ..., 0, 0, 0],\n",
       "       [1, 1, 1, ..., 1, 1, 1],\n",
       "       [1, 1, 1, ..., 1, 1, 1],\n",
       "       ...,\n",
       "       [1, 1, 1, ..., 1, 1, 1],\n",
       "       [1, 1, 1, ..., 1, 1, 1],\n",
       "       [0, 0, 0, ..., 0, 0, 0]])"
      ]
     },
     "execution_count": 5,
     "metadata": {},
     "output_type": "execute_result"
    }
   ],
   "source": [
    "Window = 60\n",
    "\n",
    "groups = train[\"sequence\"]\n",
    "#labels = labels[\"state\"]\n",
    "\n",
    "y = train['state'].to_numpy().reshape(-1, Window)\n",
    "train.drop([\"sequence\",\"step\",\"subject\",\"state\"], axis=1, inplace=True)\n",
    "test.drop([\"sequence\",\"step\",\"subject\"], axis=1, inplace=True)\n",
    "y"
   ]
  },
  {
   "cell_type": "code",
   "execution_count": 6,
   "id": "aa22294f",
   "metadata": {
    "execution": {
     "iopub.execute_input": "2022-04-08T07:15:57.235636Z",
     "iopub.status.busy": "2022-04-08T07:15:57.234667Z",
     "iopub.status.idle": "2022-04-08T07:15:57.251284Z",
     "shell.execute_reply": "2022-04-08T07:15:57.251942Z",
     "shell.execute_reply.started": "2022-04-08T00:18:24.280074Z"
    },
    "papermill": {
     "duration": 0.041404,
     "end_time": "2022-04-08T07:15:57.252135",
     "exception": false,
     "start_time": "2022-04-08T07:15:57.210731",
     "status": "completed"
    },
    "tags": []
   },
   "outputs": [
    {
     "data": {
      "text/plain": [
       "array([    0,     1,     2, ..., 25965, 25966, 25967])"
      ]
     },
     "execution_count": 6,
     "metadata": {},
     "output_type": "execute_result"
    }
   ],
   "source": [
    "groups.unique()"
   ]
  },
  {
   "cell_type": "code",
   "execution_count": 7,
   "id": "62e76bd8",
   "metadata": {
    "execution": {
     "iopub.execute_input": "2022-04-08T07:15:57.297378Z",
     "iopub.status.busy": "2022-04-08T07:15:57.296596Z",
     "iopub.status.idle": "2022-04-08T07:16:00.054573Z",
     "shell.execute_reply": "2022-04-08T07:16:00.053892Z",
     "shell.execute_reply.started": "2022-04-08T00:18:24.299194Z"
    },
    "papermill": {
     "duration": 2.78374,
     "end_time": "2022-04-08T07:16:00.054715",
     "exception": false,
     "start_time": "2022-04-08T07:15:57.270975",
     "status": "completed"
    },
    "tags": []
   },
   "outputs": [],
   "source": [
    "from sklearn.preprocessing import StandardScaler, RobustScaler\n",
    "sc = StandardScaler()\n",
    "\n",
    "train = sc.fit_transform(train)\n",
    "test = sc.transform(test)"
   ]
  },
  {
   "cell_type": "code",
   "execution_count": 8,
   "id": "69345fd4",
   "metadata": {
    "execution": {
     "iopub.execute_input": "2022-04-08T07:16:00.097768Z",
     "iopub.status.busy": "2022-04-08T07:16:00.097105Z",
     "iopub.status.idle": "2022-04-08T07:16:00.100209Z",
     "shell.execute_reply": "2022-04-08T07:16:00.100730Z",
     "shell.execute_reply.started": "2022-04-08T00:18:25.644926Z"
    },
    "papermill": {
     "duration": 0.026853,
     "end_time": "2022-04-08T07:16:00.100924",
     "exception": false,
     "start_time": "2022-04-08T07:16:00.074071",
     "status": "completed"
    },
    "tags": []
   },
   "outputs": [
    {
     "name": "stdout",
     "output_type": "stream",
     "text": [
      "(25968, 60, 39)\n"
     ]
    }
   ],
   "source": [
    "train = train.reshape(-1, Window, train.shape[-1])\n",
    "test = test.reshape(-1, Window, train.shape[-1])\n",
    "print(train.shape)"
   ]
  },
  {
   "cell_type": "code",
   "execution_count": 9,
   "id": "824d3cac",
   "metadata": {
    "execution": {
     "iopub.execute_input": "2022-04-08T07:16:00.139409Z",
     "iopub.status.busy": "2022-04-08T07:16:00.138713Z",
     "iopub.status.idle": "2022-04-08T07:16:06.093437Z",
     "shell.execute_reply": "2022-04-08T07:16:06.093948Z",
     "shell.execute_reply.started": "2022-04-08T00:18:25.65324Z"
    },
    "papermill": {
     "duration": 5.97569,
     "end_time": "2022-04-08T07:16:06.094248",
     "exception": false,
     "start_time": "2022-04-08T07:16:00.118558",
     "status": "completed"
    },
    "tags": []
   },
   "outputs": [
    {
     "name": "stderr",
     "output_type": "stream",
     "text": [
      "2022-04-08 07:16:00.865824: W tensorflow/stream_executor/platform/default/dso_loader.cc:60] Could not load dynamic library 'libcudart.so.11.0'; dlerror: libcudart.so.11.0: cannot open shared object file: No such file or directory; LD_LIBRARY_PATH: /opt/conda/lib\n",
      "2022-04-08 07:16:00.866001: I tensorflow/stream_executor/cuda/cudart_stub.cc:29] Ignore above cudart dlerror if you do not have a GPU set up on your machine.\n"
     ]
    }
   ],
   "source": [
    "import tensorflow as tf\n",
    "import logging\n",
    "from tensorflow.keras import *"
   ]
  },
  {
   "cell_type": "code",
   "execution_count": 10,
   "id": "51c653c3",
   "metadata": {
    "execution": {
     "iopub.execute_input": "2022-04-08T07:16:06.134087Z",
     "iopub.status.busy": "2022-04-08T07:16:06.133368Z",
     "iopub.status.idle": "2022-04-08T07:16:12.006132Z",
     "shell.execute_reply": "2022-04-08T07:16:12.005129Z",
     "shell.execute_reply.started": "2022-04-08T00:18:30.174112Z"
    },
    "papermill": {
     "duration": 5.893914,
     "end_time": "2022-04-08T07:16:12.006295",
     "exception": false,
     "start_time": "2022-04-08T07:16:06.112381",
     "status": "completed"
    },
    "tags": []
   },
   "outputs": [
    {
     "name": "stdout",
     "output_type": "stream",
     "text": [
      "2.4.1\n"
     ]
    },
    {
     "name": "stderr",
     "output_type": "stream",
     "text": [
      "2022-04-08 07:16:06.142190: I tensorflow/compiler/jit/xla_cpu_device.cc:41] Not creating XLA devices, tf_xla_enable_xla_devices not set\n",
      "2022-04-08 07:16:06.145627: W tensorflow/stream_executor/platform/default/dso_loader.cc:60] Could not load dynamic library 'libcuda.so.1'; dlerror: libcuda.so.1: cannot open shared object file: No such file or directory; LD_LIBRARY_PATH: /opt/conda/lib\n",
      "2022-04-08 07:16:06.145668: W tensorflow/stream_executor/cuda/cuda_driver.cc:326] failed call to cuInit: UNKNOWN ERROR (303)\n",
      "2022-04-08 07:16:06.145695: I tensorflow/stream_executor/cuda/cuda_diagnostics.cc:156] kernel driver does not appear to be running on this host (b18605040e95): /proc/driver/nvidia/version does not exist\n",
      "2022-04-08 07:16:06.148529: I tensorflow/core/platform/cpu_feature_guard.cc:142] This TensorFlow binary is optimized with oneAPI Deep Neural Network Library (oneDNN) to use the following CPU instructions in performance-critical operations:  AVX2 FMA\n",
      "To enable them in other operations, rebuild TensorFlow with the appropriate compiler flags.\n",
      "2022-04-08 07:16:06.150081: I tensorflow/compiler/jit/xla_gpu_device.cc:99] Not creating XLA devices, tf_xla_enable_xla_devices not set\n",
      "2022-04-08 07:16:06.180695: I tensorflow/core/distributed_runtime/rpc/grpc_channel.cc:301] Initialize GrpcChannelCache for job worker -> {0 -> 10.0.0.2:8470}\n",
      "2022-04-08 07:16:06.180807: I tensorflow/core/distributed_runtime/rpc/grpc_channel.cc:301] Initialize GrpcChannelCache for job localhost -> {0 -> localhost:30020}\n",
      "2022-04-08 07:16:06.207622: I tensorflow/core/distributed_runtime/rpc/grpc_channel.cc:301] Initialize GrpcChannelCache for job worker -> {0 -> 10.0.0.2:8470}\n",
      "2022-04-08 07:16:06.207679: I tensorflow/core/distributed_runtime/rpc/grpc_channel.cc:301] Initialize GrpcChannelCache for job localhost -> {0 -> localhost:30020}\n",
      "2022-04-08 07:16:06.209172: I tensorflow/core/distributed_runtime/rpc/grpc_server_lib.cc:411] Started server with target: grpc://localhost:30020\n"
     ]
    },
    {
     "name": "stdout",
     "output_type": "stream",
     "text": [
      "REPLICAS:  8\n"
     ]
    }
   ],
   "source": [
    "# Detect hardware, return appropriate distribution strategy\n",
    "print(tf.version.VERSION)\n",
    "tf.get_logger().setLevel(logging.ERROR)\n",
    "try: # detect TPU\n",
    "    tpu = None\n",
    "    tpu = tf.distribute.cluster_resolver.TPUClusterResolver()  # TPU detection\n",
    "    tf.config.experimental_connect_to_cluster(tpu)\n",
    "    tf.tpu.experimental.initialize_tpu_system(tpu)\n",
    "    strategy = tf.distribute.experimental.TPUStrategy(tpu)\n",
    "except ValueError: # detect GPU(s) and enable mixed precision\n",
    "    strategy = tf.distribute.MirroredStrategy() # works on GPU and multi-GPU\n",
    "    policy = tf.keras.mixed_precision.experimental.Policy('mixed_float16')\n",
    "    tf.config.optimizer.set_jit(True) # XLA compilation\n",
    "    tf.keras.mixed_precision.experimental.set_policy(policy)\n",
    "    print('Mixed precision enabled')\n",
    "print(\"REPLICAS: \", strategy.num_replicas_in_sync)"
   ]
  },
  {
   "cell_type": "markdown",
   "id": "65284c4d",
   "metadata": {
    "papermill": {
     "duration": 0.020028,
     "end_time": "2022-04-08T07:16:12.046347",
     "exception": false,
     "start_time": "2022-04-08T07:16:12.026319",
     "status": "completed"
    },
    "tags": []
   },
   "source": [
    "# LSTM"
   ]
  },
  {
   "cell_type": "code",
   "execution_count": 11,
   "id": "2ad3dc37",
   "metadata": {
    "execution": {
     "iopub.execute_input": "2022-04-08T07:16:12.090516Z",
     "iopub.status.busy": "2022-04-08T07:16:12.089728Z",
     "iopub.status.idle": "2022-04-08T07:16:12.092948Z",
     "shell.execute_reply": "2022-04-08T07:16:12.092315Z",
     "shell.execute_reply.started": "2022-04-08T00:18:32.38255Z"
    },
    "papermill": {
     "duration": 0.027926,
     "end_time": "2022-04-08T07:16:12.093111",
     "exception": false,
     "start_time": "2022-04-08T07:16:12.065185",
     "status": "completed"
    },
    "tags": []
   },
   "outputs": [],
   "source": [
    "def plotHist(hist):\n",
    "    plt.plot(hist.history[\"auc\"])\n",
    "    plt.plot(hist.history[\"val_auc\"])\n",
    "    plt.title(\"model performance\")\n",
    "    plt.ylabel(\"area_under_curve\")\n",
    "    plt.xlabel(\"epoch\")\n",
    "    plt.legend([\"train\", \"validation\"], loc=\"upper left\")\n",
    "    plt.show()"
   ]
  },
  {
   "cell_type": "code",
   "execution_count": 12,
   "id": "dcc0d533",
   "metadata": {
    "execution": {
     "iopub.execute_input": "2022-04-08T07:16:12.141986Z",
     "iopub.status.busy": "2022-04-08T07:16:12.141269Z",
     "iopub.status.idle": "2022-04-08T07:16:12.144040Z",
     "shell.execute_reply": "2022-04-08T07:16:12.143397Z",
     "shell.execute_reply.started": "2022-04-08T00:18:32.392699Z"
    },
    "papermill": {
     "duration": 0.031607,
     "end_time": "2022-04-08T07:16:12.144180",
     "exception": false,
     "start_time": "2022-04-08T07:16:12.112573",
     "status": "completed"
    },
    "tags": []
   },
   "outputs": [],
   "source": [
    "from tensorflow.keras.metrics import AUC\n",
    "\n",
    "def createModel():\n",
    "    with strategy.scope():\n",
    "        model = Sequential(\n",
    "        [\n",
    "            Input(shape = (Window, train.shape[-1])),\n",
    "            Bidirectional(LSTM(768, return_sequences = True)),\n",
    "            Bidirectional(LSTM(512, return_sequences = True)), \n",
    "            Bidirectional(LSTM(256, return_sequences = True)),\n",
    "            Bidirectional(LSTM(128, return_sequences = True)),\n",
    "            Bidirectional(LSTM(128, return_sequences = True)),\n",
    "            Dense(128, activation = 'selu'),\n",
    "            Dense(1, activation = 'sigmoid')\n",
    "        ]\n",
    "        )\n",
    "        model.compile(optimizer = 'adam', loss = 'binary_crossentropy', metrics = [AUC(name = 'auc')]\n",
    "                     )\n",
    "    return (model)"
   ]
  },
  {
   "cell_type": "code",
   "execution_count": 13,
   "id": "036f8e48",
   "metadata": {
    "execution": {
     "iopub.execute_input": "2022-04-08T07:16:12.192658Z",
     "iopub.status.busy": "2022-04-08T07:16:12.191932Z",
     "iopub.status.idle": "2022-04-08T07:30:55.004127Z",
     "shell.execute_reply": "2022-04-08T07:30:55.004689Z",
     "shell.execute_reply.started": "2022-04-08T00:18:32.403639Z"
    },
    "papermill": {
     "duration": 882.84086,
     "end_time": "2022-04-08T07:30:55.004970",
     "exception": false,
     "start_time": "2022-04-08T07:16:12.164110",
     "status": "completed"
    },
    "tags": []
   },
   "outputs": [
    {
     "name": "stdout",
     "output_type": "stream",
     "text": [
      "fold 1\n",
      "************************************************************\n",
      "Epoch 1/50\n",
      "82/82 [==============================] - 50s 287ms/step - loss: 0.6749 - auc: 0.6078 - val_loss: 0.5570 - val_auc: 0.7881\n",
      "Epoch 2/50\n",
      "82/82 [==============================] - 7s 81ms/step - loss: 0.5393 - auc: 0.8001 - val_loss: 0.4284 - val_auc: 0.8909\n",
      "Epoch 3/50\n",
      "82/82 [==============================] - 7s 81ms/step - loss: 0.4246 - auc: 0.8848 - val_loss: 0.4350 - val_auc: 0.9010\n",
      "Epoch 4/50\n",
      "82/82 [==============================] - 7s 86ms/step - loss: 0.3747 - auc: 0.9126 - val_loss: 0.3349 - val_auc: 0.9358\n",
      "Epoch 5/50\n",
      "82/82 [==============================] - 7s 80ms/step - loss: 0.3211 - auc: 0.9369 - val_loss: 0.3124 - val_auc: 0.9419\n",
      "\n",
      "Epoch 00005: ReduceLROnPlateau reducing learning rate to 0.000800000037997961.\n",
      "Epoch 6/50\n",
      "82/82 [==============================] - 7s 80ms/step - loss: 0.2713 - auc: 0.9549 - val_loss: 0.3003 - val_auc: 0.9491\n",
      "Epoch 7/50\n",
      "82/82 [==============================] - 7s 81ms/step - loss: 0.2436 - auc: 0.9640 - val_loss: 0.3100 - val_auc: 0.9540\n",
      "Epoch 8/50\n",
      "82/82 [==============================] - 7s 80ms/step - loss: 0.2169 - auc: 0.9715 - val_loss: 0.2751 - val_auc: 0.9558\n",
      "Epoch 9/50\n",
      "82/82 [==============================] - 7s 80ms/step - loss: 0.1914 - auc: 0.9776 - val_loss: 0.2824 - val_auc: 0.9588\n",
      "\n",
      "Epoch 00009: ReduceLROnPlateau reducing learning rate to 0.0006400000303983689.\n",
      "Epoch 10/50\n",
      "82/82 [==============================] - 7s 80ms/step - loss: 0.1647 - auc: 0.9834 - val_loss: 0.2648 - val_auc: 0.9622\n",
      "Epoch 11/50\n",
      "82/82 [==============================] - 7s 80ms/step - loss: 0.1461 - auc: 0.9866 - val_loss: 0.2895 - val_auc: 0.9596\n",
      "Epoch 12/50\n",
      "82/82 [==============================] - 7s 80ms/step - loss: 0.1325 - auc: 0.9892 - val_loss: 0.3142 - val_auc: 0.9591\n",
      "Epoch 13/50\n",
      "82/82 [==============================] - 7s 81ms/step - loss: 0.1080 - auc: 0.9925 - val_loss: 0.2938 - val_auc: 0.9606\n",
      "\n",
      "Epoch 00013: ReduceLROnPlateau reducing learning rate to 0.0005120000336319208.\n",
      "Epoch 14/50\n",
      "82/82 [==============================] - 7s 81ms/step - loss: 0.0895 - auc: 0.9949 - val_loss: 0.3179 - val_auc: 0.9571\n",
      "Epoch 15/50\n",
      "82/82 [==============================] - 7s 80ms/step - loss: 0.0655 - auc: 0.9969 - val_loss: 0.3271 - val_auc: 0.9565\n",
      "Restoring model weights from the end of the best epoch.\n",
      "Epoch 00015: early stopping\n",
      "##############################\n",
      "Fold-1 | OOF Score: 0.9627571510183639\n"
     ]
    },
    {
     "data": {
      "image/png": "[encoded data removed]",
      "text/plain": [
       "<Figure size 432x288 with 1 Axes>"
      ]
     },
     "metadata": {
      "needs_background": "light"
     },
     "output_type": "display_data"
    },
    {
     "name": "stdout",
     "output_type": "stream",
     "text": [
      "fold 2\n",
      "************************************************************\n",
      "Epoch 1/50\n",
      "82/82 [==============================] - 51s 294ms/step - loss: 0.6597 - auc: 0.6352 - val_loss: 0.5634 - val_auc: 0.7883\n",
      "Epoch 2/50\n",
      "82/82 [==============================] - 7s 80ms/step - loss: 0.5102 - auc: 0.8239 - val_loss: 0.4536 - val_auc: 0.8763\n",
      "Epoch 3/50\n",
      "82/82 [==============================] - 7s 80ms/step - loss: 0.4147 - auc: 0.8915 - val_loss: 0.3817 - val_auc: 0.9218\n",
      "Epoch 4/50\n",
      "82/82 [==============================] - 7s 80ms/step - loss: 0.3501 - auc: 0.9245 - val_loss: 0.3384 - val_auc: 0.9318\n",
      "Epoch 5/50\n",
      "82/82 [==============================] - 7s 80ms/step - loss: 0.3074 - auc: 0.9422 - val_loss: 0.3224 - val_auc: 0.9426\n",
      "\n",
      "Epoch 00005: ReduceLROnPlateau reducing learning rate to 0.000800000037997961.\n",
      "Epoch 6/50\n",
      "82/82 [==============================] - 7s 80ms/step - loss: 0.2705 - auc: 0.9553 - val_loss: 0.2833 - val_auc: 0.9517\n",
      "Epoch 7/50\n",
      "82/82 [==============================] - 7s 79ms/step - loss: 0.2341 - auc: 0.9665 - val_loss: 0.2682 - val_auc: 0.9583\n",
      "Epoch 8/50\n",
      "82/82 [==============================] - 7s 80ms/step - loss: 0.2009 - auc: 0.9751 - val_loss: 0.3001 - val_auc: 0.9554\n",
      "Epoch 9/50\n",
      "82/82 [==============================] - 7s 80ms/step - loss: 0.2186 - auc: 0.9713 - val_loss: 0.2902 - val_auc: 0.9551\n",
      "\n",
      "Epoch 00009: ReduceLROnPlateau reducing learning rate to 0.0006400000303983689.\n",
      "Epoch 10/50\n",
      "82/82 [==============================] - 7s 80ms/step - loss: 0.1680 - auc: 0.9825 - val_loss: 0.2502 - val_auc: 0.9627\n",
      "Epoch 11/50\n",
      "82/82 [==============================] - 7s 80ms/step - loss: 0.1344 - auc: 0.9886 - val_loss: 0.2662 - val_auc: 0.9611\n",
      "Epoch 12/50\n",
      "82/82 [==============================] - 7s 80ms/step - loss: 0.1238 - auc: 0.9902 - val_loss: 0.2839 - val_auc: 0.9611\n",
      "Epoch 13/50\n",
      "82/82 [==============================] - 7s 80ms/step - loss: 0.0988 - auc: 0.9935 - val_loss: 0.3013 - val_auc: 0.9560\n",
      "\n",
      "Epoch 00013: ReduceLROnPlateau reducing learning rate to 0.0005120000336319208.\n",
      "Epoch 14/50\n",
      "82/82 [==============================] - 7s 80ms/step - loss: 0.0854 - auc: 0.9950 - val_loss: 0.3126 - val_auc: 0.9575\n",
      "Epoch 15/50\n",
      "82/82 [==============================] - 7s 80ms/step - loss: 0.0770 - auc: 0.9958 - val_loss: 0.3228 - val_auc: 0.9591\n",
      "Restoring model weights from the end of the best epoch.\n",
      "Epoch 00015: early stopping\n",
      "##############################\n",
      "Fold-2 | OOF Score: 0.9629572807795714\n"
     ]
    },
    {
     "data": {
      "image/png": "[encoded data removed]",
      "text/plain": [
       "<Figure size 432x288 with 1 Axes>"
      ]
     },
     "metadata": {
      "needs_background": "light"
     },
     "output_type": "display_data"
    },
    {
     "name": "stdout",
     "output_type": "stream",
     "text": [
      "fold 3\n",
      "************************************************************\n",
      "Epoch 1/50\n",
      "82/82 [==============================] - 54s 299ms/step - loss: 0.6690 - auc: 0.6243 - val_loss: 0.5656 - val_auc: 0.8120\n",
      "Epoch 2/50\n",
      "82/82 [==============================] - 7s 80ms/step - loss: 0.5157 - auc: 0.8235 - val_loss: 0.4073 - val_auc: 0.8974\n",
      "Epoch 3/50\n",
      "82/82 [==============================] - 7s 81ms/step - loss: 0.4056 - auc: 0.8968 - val_loss: 0.3570 - val_auc: 0.9231\n",
      "Epoch 4/50\n",
      "82/82 [==============================] - 7s 81ms/step - loss: 0.3475 - auc: 0.9257 - val_loss: 0.3613 - val_auc: 0.9344\n",
      "Epoch 5/50\n",
      "82/82 [==============================] - 7s 81ms/step - loss: 0.3238 - auc: 0.9357 - val_loss: 0.3342 - val_auc: 0.9371\n",
      "\n",
      "Epoch 00005: ReduceLROnPlateau reducing learning rate to 0.000800000037997961.\n",
      "Epoch 6/50\n",
      "82/82 [==============================] - 7s 81ms/step - loss: 0.2773 - auc: 0.9536 - val_loss: 0.2834 - val_auc: 0.9524\n",
      "Epoch 7/50\n",
      "82/82 [==============================] - 7s 81ms/step - loss: 0.2423 - auc: 0.9644 - val_loss: 0.3149 - val_auc: 0.9559\n",
      "Epoch 8/50\n",
      "82/82 [==============================] - 7s 80ms/step - loss: 0.2250 - auc: 0.9692 - val_loss: 0.2722 - val_auc: 0.9591\n",
      "Epoch 9/50\n",
      "82/82 [==============================] - 7s 80ms/step - loss: 0.1989 - auc: 0.9759 - val_loss: 0.2857 - val_auc: 0.9599\n",
      "\n",
      "Epoch 00009: ReduceLROnPlateau reducing learning rate to 0.0006400000303983689.\n",
      "Epoch 10/50\n",
      "82/82 [==============================] - 7s 80ms/step - loss: 0.1721 - auc: 0.9817 - val_loss: 0.2550 - val_auc: 0.9632\n",
      "Epoch 11/50\n",
      "82/82 [==============================] - 7s 81ms/step - loss: 0.1453 - auc: 0.9866 - val_loss: 0.2734 - val_auc: 0.9621\n",
      "Epoch 12/50\n",
      "82/82 [==============================] - 7s 80ms/step - loss: 0.1410 - auc: 0.9874 - val_loss: 0.3006 - val_auc: 0.9606\n",
      "Epoch 13/50\n",
      "82/82 [==============================] - 7s 80ms/step - loss: 0.1141 - auc: 0.9913 - val_loss: 0.3190 - val_auc: 0.9619\n",
      "\n",
      "Epoch 00013: ReduceLROnPlateau reducing learning rate to 0.0005120000336319208.\n",
      "Epoch 14/50\n",
      "82/82 [==============================] - 7s 80ms/step - loss: 0.1180 - auc: 0.9912 - val_loss: 0.2910 - val_auc: 0.9634\n",
      "Epoch 15/50\n",
      "82/82 [==============================] - 7s 80ms/step - loss: 0.0684 - auc: 0.9965 - val_loss: 0.3326 - val_auc: 0.9579\n",
      "Epoch 16/50\n",
      "82/82 [==============================] - 7s 80ms/step - loss: 0.0561 - auc: 0.9976 - val_loss: 0.3235 - val_auc: 0.9592\n",
      "Epoch 17/50\n",
      "82/82 [==============================] - 7s 80ms/step - loss: 0.0613 - auc: 0.9967 - val_loss: 0.3079 - val_auc: 0.9619\n",
      "\n",
      "Epoch 00017: ReduceLROnPlateau reducing learning rate to 0.00040960004553198815.\n",
      "Epoch 18/50\n",
      "82/82 [==============================] - 7s 80ms/step - loss: 0.0504 - auc: 0.9980 - val_loss: 0.3565 - val_auc: 0.9572\n",
      "Epoch 19/50\n",
      "82/82 [==============================] - 7s 80ms/step - loss: 0.0338 - auc: 0.9989 - val_loss: 0.4216 - val_auc: 0.9477\n",
      "Restoring model weights from the end of the best epoch.\n",
      "Epoch 00019: early stopping\n",
      "##############################\n",
      "Fold-3 | OOF Score: 0.9657150536489157\n"
     ]
    },
    {
     "data": {
      "image/png": "[encoded data removed]",
      "text/plain": [
       "<Figure size 432x288 with 1 Axes>"
      ]
     },
     "metadata": {
      "needs_background": "light"
     },
     "output_type": "display_data"
    },
    {
     "name": "stdout",
     "output_type": "stream",
     "text": [
      "fold 4\n",
      "************************************************************\n",
      "Epoch 1/50\n",
      "82/82 [==============================] - 52s 291ms/step - loss: 0.6723 - auc: 0.6228 - val_loss: 0.7694 - val_auc: 0.7960\n",
      "Epoch 2/50\n",
      "82/82 [==============================] - 7s 80ms/step - loss: 0.5404 - auc: 0.8076 - val_loss: 0.4767 - val_auc: 0.8724\n",
      "Epoch 3/50\n",
      "82/82 [==============================] - 7s 81ms/step - loss: 0.4466 - auc: 0.8728 - val_loss: 0.4838 - val_auc: 0.8936\n",
      "Epoch 4/50\n",
      "82/82 [==============================] - 7s 80ms/step - loss: 0.3714 - auc: 0.9143 - val_loss: 0.3529 - val_auc: 0.9282\n",
      "Epoch 5/50\n",
      "82/82 [==============================] - 7s 81ms/step - loss: 0.3174 - auc: 0.9382 - val_loss: 0.3057 - val_auc: 0.9435\n",
      "\n",
      "Epoch 00005: ReduceLROnPlateau reducing learning rate to 0.000800000037997961.\n",
      "Epoch 6/50\n",
      "82/82 [==============================] - 7s 80ms/step - loss: 0.2646 - auc: 0.9575 - val_loss: 0.2891 - val_auc: 0.9501\n",
      "Epoch 7/50\n",
      "82/82 [==============================] - 7s 80ms/step - loss: 0.2378 - auc: 0.9654 - val_loss: 0.2717 - val_auc: 0.9552\n",
      "Epoch 8/50\n",
      "82/82 [==============================] - 7s 81ms/step - loss: 0.2021 - auc: 0.9751 - val_loss: 0.2637 - val_auc: 0.9591\n",
      "Epoch 9/50\n",
      "82/82 [==============================] - 7s 80ms/step - loss: 0.1826 - auc: 0.9797 - val_loss: 0.2892 - val_auc: 0.9557\n",
      "\n",
      "Epoch 00009: ReduceLROnPlateau reducing learning rate to 0.0006400000303983689.\n",
      "Epoch 10/50\n",
      "82/82 [==============================] - 7s 80ms/step - loss: 0.1577 - auc: 0.9847 - val_loss: 0.2727 - val_auc: 0.9607\n",
      "Epoch 11/50\n",
      "82/82 [==============================] - 7s 81ms/step - loss: 0.1364 - auc: 0.9882 - val_loss: 0.3033 - val_auc: 0.9555\n",
      "Epoch 12/50\n",
      "82/82 [==============================] - 7s 80ms/step - loss: 0.1155 - auc: 0.9912 - val_loss: 0.3196 - val_auc: 0.9544\n",
      "Epoch 13/50\n",
      "82/82 [==============================] - 7s 80ms/step - loss: 0.1021 - auc: 0.9932 - val_loss: 0.3123 - val_auc: 0.9570\n",
      "\n",
      "Epoch 00013: ReduceLROnPlateau reducing learning rate to 0.0005120000336319208.\n",
      "Epoch 14/50\n",
      "82/82 [==============================] - 7s 80ms/step - loss: 0.0951 - auc: 0.9942 - val_loss: 0.3802 - val_auc: 0.9498\n",
      "Epoch 15/50\n",
      "82/82 [==============================] - 7s 80ms/step - loss: 0.0747 - auc: 0.9962 - val_loss: 0.3913 - val_auc: 0.9507\n",
      "Restoring model weights from the end of the best epoch.\n",
      "Epoch 00015: early stopping\n",
      "##############################\n",
      "Fold-4 | OOF Score: 0.9611303469556798\n"
     ]
    },
    {
     "data": {
      "image/png": "[encoded data removed]",
      "text/plain": [
       "<Figure size 432x288 with 1 Axes>"
      ]
     },
     "metadata": {
      "needs_background": "light"
     },
     "output_type": "display_data"
    },
    {
     "name": "stdout",
     "output_type": "stream",
     "text": [
      "fold 5\n",
      "************************************************************\n",
      "Epoch 1/50\n",
      "82/82 [==============================] - 52s 298ms/step - loss: 0.6833 - auc: 0.6098 - val_loss: 0.5769 - val_auc: 0.7778\n",
      "Epoch 2/50\n",
      "82/82 [==============================] - 7s 80ms/step - loss: 0.5166 - auc: 0.8181 - val_loss: 0.4668 - val_auc: 0.8665\n",
      "Epoch 3/50\n",
      "82/82 [==============================] - 7s 81ms/step - loss: 0.4245 - auc: 0.8851 - val_loss: 0.4690 - val_auc: 0.9020\n",
      "Epoch 4/50\n",
      "82/82 [==============================] - 7s 80ms/step - loss: 0.3950 - auc: 0.9033 - val_loss: 0.3484 - val_auc: 0.9259\n",
      "Epoch 5/50\n",
      "82/82 [==============================] - 7s 80ms/step - loss: 0.3078 - auc: 0.9418 - val_loss: 0.3312 - val_auc: 0.9409\n",
      "\n",
      "Epoch 00005: ReduceLROnPlateau reducing learning rate to 0.000800000037997961.\n",
      "Epoch 6/50\n",
      "82/82 [==============================] - 7s 81ms/step - loss: 0.2668 - auc: 0.9568 - val_loss: 0.2951 - val_auc: 0.9492\n",
      "Epoch 7/50\n",
      "82/82 [==============================] - 7s 81ms/step - loss: 0.2465 - auc: 0.9629 - val_loss: 0.2840 - val_auc: 0.9526\n",
      "Epoch 8/50\n",
      "82/82 [==============================] - 7s 80ms/step - loss: 0.2180 - auc: 0.9706 - val_loss: 0.2935 - val_auc: 0.9560\n",
      "Epoch 9/50\n",
      "82/82 [==============================] - 7s 80ms/step - loss: 0.1914 - auc: 0.9776 - val_loss: 0.3953 - val_auc: 0.9431\n",
      "\n",
      "Epoch 00009: ReduceLROnPlateau reducing learning rate to 0.0006400000303983689.\n",
      "Epoch 10/50\n",
      "82/82 [==============================] - 7s 80ms/step - loss: 0.1872 - auc: 0.9786 - val_loss: 0.2884 - val_auc: 0.9577\n",
      "Epoch 11/50\n",
      "82/82 [==============================] - 7s 80ms/step - loss: 0.1405 - auc: 0.9876 - val_loss: 0.2889 - val_auc: 0.9555\n",
      "Epoch 12/50\n",
      "82/82 [==============================] - 7s 80ms/step - loss: 0.1362 - auc: 0.9884 - val_loss: 0.2981 - val_auc: 0.9581\n",
      "Epoch 13/50\n",
      "82/82 [==============================] - 7s 80ms/step - loss: 0.1015 - auc: 0.9932 - val_loss: 0.3546 - val_auc: 0.9537\n",
      "\n",
      "Epoch 00013: ReduceLROnPlateau reducing learning rate to 0.0005120000336319208.\n",
      "Epoch 14/50\n",
      "82/82 [==============================] - 7s 82ms/step - loss: 0.0951 - auc: 0.9939 - val_loss: 0.3236 - val_auc: 0.9568\n",
      "Epoch 15/50\n",
      "82/82 [==============================] - 7s 81ms/step - loss: 0.0799 - auc: 0.9957 - val_loss: 0.3342 - val_auc: 0.9559\n",
      "Epoch 16/50\n",
      "82/82 [==============================] - 7s 81ms/step - loss: 0.0652 - auc: 0.9969 - val_loss: 0.3710 - val_auc: 0.9535\n",
      "Epoch 17/50\n",
      "82/82 [==============================] - 7s 80ms/step - loss: 0.0547 - auc: 0.9977 - val_loss: 0.3727 - val_auc: 0.9509\n",
      "Restoring model weights from the end of the best epoch.\n",
      "\n",
      "Epoch 00017: ReduceLROnPlateau reducing learning rate to 0.00040960004553198815.\n",
      "Epoch 00017: early stopping\n",
      "##############################\n",
      "Fold-5 | OOF Score: 0.959667111231133\n"
     ]
    },
    {
     "data": {
      "image/png": "[encoded data removed]",
      "text/plain": [
       "<Figure size 432x288 with 1 Axes>"
      ]
     },
     "metadata": {
      "needs_background": "light"
     },
     "output_type": "display_data"
    },
    {
     "name": "stdout",
     "output_type": "stream",
     "text": [
      "CPU times: user 4min 15s, sys: 33 s, total: 4min 48s\n",
      "Wall time: 14min 42s\n"
     ]
    }
   ],
   "source": [
    "%%time\n",
    "\n",
    "\n",
    "from sklearn.model_selection import KFold, StratifiedKFold, GroupKFold\n",
    "from tensorflow.keras.layers import *\n",
    "from tensorflow.keras import *\n",
    "from tensorflow.keras.callbacks import *\n",
    "\n",
    "skf = KFold(n_splits = 5, shuffle = True, random_state = 2022)\n",
    "gkf = GroupKFold(n_splits = 5)\n",
    "preds = []\n",
    "\n",
    "BATCH_SIZE = 256\n",
    "\n",
    "for fold, (train_idx, val_idx) in enumerate(gkf.split(train, y, groups.unique())):\n",
    "    print('fold', fold+1)\n",
    "    print('*'*60)\n",
    "    groups.unique()\n",
    "    X_train, X_valid = train[train_idx], train[val_idx]\n",
    "    y_train, y_valid = y[train_idx], y[val_idx]\n",
    "    \n",
    "    es = EarlyStopping(monitor = 'val_auc', mode = 'max', patience = 5, verbose = 1, restore_best_weights = True)\n",
    "    lr = ReduceLROnPlateau(monitor=\"val_auc\", factor=0.8, \n",
    "                               patience=4, verbose = 1)\n",
    "    model = createModel()\n",
    "    \n",
    "    history = model.fit(X_train, y_train, validation_data = (X_valid, y_valid),\n",
    "                       epochs = 50, batch_size = 256, callbacks = [es, lr])\n",
    "    \n",
    "    y_true = y_valid.squeeze().reshape(-1, 1)\n",
    "    y_pred = model.predict(X_valid, batch_size=BATCH_SIZE).squeeze().reshape(-1, 1)\n",
    "    score = roc_auc_score(y_true, y_pred)\n",
    "    \n",
    "    print('#'*30)\n",
    "    print(f\"Fold-{fold+1} | OOF Score: {score}\")\n",
    "    \n",
    "    preds.append(model.predict(test).squeeze())\n",
    "    plotHist(history)\n",
    "    \n",
    "    del X_train, X_valid, y_train, y_valid, model, history\n",
    "    gc.collect()\n",
    "    "
   ]
  },
  {
   "cell_type": "markdown",
   "id": "8b76ed34",
   "metadata": {
    "papermill": {
     "duration": 2.088743,
     "end_time": "2022-04-08T07:30:59.180505",
     "exception": false,
     "start_time": "2022-04-08T07:30:57.091762",
     "status": "completed"
    },
    "tags": []
   },
   "source": [
    "# Submission"
   ]
  },
  {
   "cell_type": "code",
   "execution_count": 14,
   "id": "cf56eb73",
   "metadata": {
    "execution": {
     "iopub.execute_input": "2022-04-08T07:31:03.431586Z",
     "iopub.status.busy": "2022-04-08T07:31:03.430311Z",
     "iopub.status.idle": "2022-04-08T07:31:03.495043Z",
     "shell.execute_reply": "2022-04-08T07:31:03.494362Z",
     "shell.execute_reply.started": "2022-04-08T00:22:19.638163Z"
    },
    "papermill": {
     "duration": 2.164835,
     "end_time": "2022-04-08T07:31:03.495195",
     "exception": false,
     "start_time": "2022-04-08T07:31:01.330360",
     "status": "completed"
    },
    "tags": []
   },
   "outputs": [
    {
     "data": {
      "text/html": [
       "<div>\n",
       "<style scoped>\n",
       "    .dataframe tbody tr th:only-of-type {\n",
       "        vertical-align: middle;\n",
       "    }\n",
       "\n",
       "    .dataframe tbody tr th {\n",
       "        vertical-align: top;\n",
       "    }\n",
       "\n",
       "    .dataframe thead th {\n",
       "        text-align: right;\n",
       "    }\n",
       "</style>\n",
       "<table border=\"1\" class=\"dataframe\">\n",
       "  <thead>\n",
       "    <tr style=\"text-align: right;\">\n",
       "      <th></th>\n",
       "      <th>sequence</th>\n",
       "      <th>state</th>\n",
       "    </tr>\n",
       "  </thead>\n",
       "  <tbody>\n",
       "    <tr>\n",
       "      <th>0</th>\n",
       "      <td>25968</td>\n",
       "      <td>0.991500</td>\n",
       "    </tr>\n",
       "    <tr>\n",
       "      <th>1</th>\n",
       "      <td>25969</td>\n",
       "      <td>0.992268</td>\n",
       "    </tr>\n",
       "    <tr>\n",
       "      <th>2</th>\n",
       "      <td>25970</td>\n",
       "      <td>0.007880</td>\n",
       "    </tr>\n",
       "    <tr>\n",
       "      <th>3</th>\n",
       "      <td>25971</td>\n",
       "      <td>0.931835</td>\n",
       "    </tr>\n",
       "    <tr>\n",
       "      <th>4</th>\n",
       "      <td>25972</td>\n",
       "      <td>0.176072</td>\n",
       "    </tr>\n",
       "    <tr>\n",
       "      <th>...</th>\n",
       "      <td>...</td>\n",
       "      <td>...</td>\n",
       "    </tr>\n",
       "    <tr>\n",
       "      <th>12213</th>\n",
       "      <td>38181</td>\n",
       "      <td>0.266839</td>\n",
       "    </tr>\n",
       "    <tr>\n",
       "      <th>12214</th>\n",
       "      <td>38182</td>\n",
       "      <td>0.743151</td>\n",
       "    </tr>\n",
       "    <tr>\n",
       "      <th>12215</th>\n",
       "      <td>38183</td>\n",
       "      <td>0.134239</td>\n",
       "    </tr>\n",
       "    <tr>\n",
       "      <th>12216</th>\n",
       "      <td>38184</td>\n",
       "      <td>0.038535</td>\n",
       "    </tr>\n",
       "    <tr>\n",
       "      <th>12217</th>\n",
       "      <td>38185</td>\n",
       "      <td>0.024638</td>\n",
       "    </tr>\n",
       "  </tbody>\n",
       "</table>\n",
       "<p>12218 rows × 2 columns</p>\n",
       "</div>"
      ],
      "text/plain": [
       "       sequence     state\n",
       "0         25968  0.991500\n",
       "1         25969  0.992268\n",
       "2         25970  0.007880\n",
       "3         25971  0.931835\n",
       "4         25972  0.176072\n",
       "...         ...       ...\n",
       "12213     38181  0.266839\n",
       "12214     38182  0.743151\n",
       "12215     38183  0.134239\n",
       "12216     38184  0.038535\n",
       "12217     38185  0.024638\n",
       "\n",
       "[12218 rows x 2 columns]"
      ]
     },
     "execution_count": 14,
     "metadata": {},
     "output_type": "execute_result"
    }
   ],
   "source": [
    "sub[\"state\"] = sum(preds)/skf.n_splits \n",
    "sub.to_csv('submission.csv', index=False)\n",
    "sub"
   ]
  },
  {
   "cell_type": "code",
   "execution_count": null,
   "id": "7709868f",
   "metadata": {
    "papermill": {
     "duration": 2.099025,
     "end_time": "2022-04-08T07:31:07.720489",
     "exception": false,
     "start_time": "2022-04-08T07:31:05.621464",
     "status": "completed"
    },
    "tags": []
   },
   "outputs": [],
   "source": []
  }
 ],
 "metadata": {
  "kernelspec": {
   "display_name": "Python 3",
   "language": "python",
   "name": "python3"
  },
  "language_info": {
   "codemirror_mode": {
    "name": "ipython",
    "version": 3
   },
   "file_extension": ".py",
   "mimetype": "text/x-python",
   "name": "python",
   "nbconvert_exporter": "python",
   "pygments_lexer": "ipython3",
   "version": "3.7.10"
  },
  "papermill": {
   "default_parameters": {},
   "duration": 941.497588,
   "end_time": "2022-04-08T07:31:12.688207",
   "environment_variables": {},
   "exception": null,
   "input_path": "__notebook__.ipynb",
   "output_path": "__notebook__.ipynb",
   "parameters": {},
   "start_time": "2022-04-08T07:15:31.190619",
   "version": "2.3.3"
  }
 },
 "nbformat": 4,
 "nbformat_minor": 5
}
