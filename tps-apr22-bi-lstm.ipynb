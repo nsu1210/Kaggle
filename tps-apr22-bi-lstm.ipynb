{
 "cells": [
  {
   "cell_type": "code",
   "execution_count": 1,
   "id": "0ed1424e",
   "metadata": {
    "execution": {
     "iopub.execute_input": "2022-04-05T00:05:57.254613Z",
     "iopub.status.busy": "2022-04-05T00:05:57.252659Z",
     "iopub.status.idle": "2022-04-05T00:05:58.244796Z",
     "shell.execute_reply": "2022-04-05T00:05:58.244026Z",
     "shell.execute_reply.started": "2022-04-05T00:05:32.585513Z"
    },
    "papermill": {
     "duration": 1.010696,
     "end_time": "2022-04-05T00:05:58.244989",
     "exception": false,
     "start_time": "2022-04-05T00:05:57.234293",
     "status": "completed"
    },
    "tags": []
   },
   "outputs": [],
   "source": [
    "import numpy as np\n",
    "import pandas as pd\n",
    "import matplotlib.pyplot as plt\n",
    "import seaborn as sns\n",
    "\n",
    "import warnings\n",
    "warnings.filterwarnings('ignore')\n",
    "import os\n",
    "import gc\n",
    "\n"
   ]
  },
  {
   "cell_type": "code",
   "execution_count": 2,
   "id": "a6eca809",
   "metadata": {
    "execution": {
     "iopub.execute_input": "2022-04-05T00:05:58.279973Z",
     "iopub.status.busy": "2022-04-05T00:05:58.279225Z",
     "iopub.status.idle": "2022-04-05T00:06:11.589508Z",
     "shell.execute_reply": "2022-04-05T00:06:11.588798Z"
    },
    "papermill": {
     "duration": 13.329878,
     "end_time": "2022-04-05T00:06:11.589660",
     "exception": false,
     "start_time": "2022-04-05T00:05:58.259782",
     "status": "completed"
    },
    "tags": []
   },
   "outputs": [
    {
     "name": "stdout",
     "output_type": "stream",
     "text": [
      "(1558080, 16)\n",
      "(733080, 16)\n",
      "(12218, 2)\n",
      "label (25968, 2)\n"
     ]
    }
   ],
   "source": [
    "train = pd.read_csv('../input/tabular-playground-series-apr-2022/train.csv')\n",
    "test = pd.read_csv('../input/tabular-playground-series-apr-2022/test.csv')\n",
    "print(train.shape)\n",
    "print(test.shape)\n",
    "\n",
    "sub = pd.read_csv(\"../input/tabular-playground-series-apr-2022/sample_submission.csv\")\n",
    "print(sub.shape)\n",
    "labels = pd.read_csv('../input/tabular-playground-series-apr-2022/train_labels.csv')\n",
    "print('label', labels.shape)"
   ]
  },
  {
   "cell_type": "code",
   "execution_count": 3,
   "id": "34e954ee",
   "metadata": {
    "execution": {
     "iopub.execute_input": "2022-04-05T00:06:11.634266Z",
     "iopub.status.busy": "2022-04-05T00:06:11.633611Z",
     "iopub.status.idle": "2022-04-05T00:06:11.918361Z",
     "shell.execute_reply": "2022-04-05T00:06:11.918933Z"
    },
    "papermill": {
     "duration": 0.315856,
     "end_time": "2022-04-05T00:06:11.919137",
     "exception": false,
     "start_time": "2022-04-05T00:06:11.603281",
     "status": "completed"
    },
    "tags": []
   },
   "outputs": [
    {
     "data": {
      "text/html": [
       "<div>\n",
       "<style scoped>\n",
       "    .dataframe tbody tr th:only-of-type {\n",
       "        vertical-align: middle;\n",
       "    }\n",
       "\n",
       "    .dataframe tbody tr th {\n",
       "        vertical-align: top;\n",
       "    }\n",
       "\n",
       "    .dataframe thead th {\n",
       "        text-align: right;\n",
       "    }\n",
       "</style>\n",
       "<table border=\"1\" class=\"dataframe\">\n",
       "  <thead>\n",
       "    <tr style=\"text-align: right;\">\n",
       "      <th></th>\n",
       "      <th>sequence</th>\n",
       "      <th>subject</th>\n",
       "      <th>step</th>\n",
       "      <th>sensor_00</th>\n",
       "      <th>sensor_01</th>\n",
       "      <th>sensor_02</th>\n",
       "      <th>sensor_03</th>\n",
       "      <th>sensor_04</th>\n",
       "      <th>sensor_05</th>\n",
       "      <th>sensor_06</th>\n",
       "      <th>sensor_07</th>\n",
       "      <th>sensor_08</th>\n",
       "      <th>sensor_09</th>\n",
       "      <th>sensor_10</th>\n",
       "      <th>sensor_11</th>\n",
       "      <th>sensor_12</th>\n",
       "      <th>state</th>\n",
       "    </tr>\n",
       "  </thead>\n",
       "  <tbody>\n",
       "    <tr>\n",
       "      <th>0</th>\n",
       "      <td>0</td>\n",
       "      <td>47</td>\n",
       "      <td>0</td>\n",
       "      <td>-0.196291</td>\n",
       "      <td>0.112395</td>\n",
       "      <td>1.0</td>\n",
       "      <td>0.329204</td>\n",
       "      <td>-1.004660</td>\n",
       "      <td>-0.131638</td>\n",
       "      <td>-0.127505</td>\n",
       "      <td>0.368702</td>\n",
       "      <td>-0.1</td>\n",
       "      <td>-0.963873</td>\n",
       "      <td>-0.985069</td>\n",
       "      <td>0.531893</td>\n",
       "      <td>4.751492</td>\n",
       "      <td>0</td>\n",
       "    </tr>\n",
       "    <tr>\n",
       "      <th>1</th>\n",
       "      <td>0</td>\n",
       "      <td>47</td>\n",
       "      <td>1</td>\n",
       "      <td>-0.447450</td>\n",
       "      <td>0.134454</td>\n",
       "      <td>1.0</td>\n",
       "      <td>-0.658407</td>\n",
       "      <td>0.162495</td>\n",
       "      <td>0.340314</td>\n",
       "      <td>-0.209472</td>\n",
       "      <td>-0.867176</td>\n",
       "      <td>0.2</td>\n",
       "      <td>-0.301301</td>\n",
       "      <td>0.082733</td>\n",
       "      <td>-0.231481</td>\n",
       "      <td>0.454390</td>\n",
       "      <td>0</td>\n",
       "    </tr>\n",
       "    <tr>\n",
       "      <th>2</th>\n",
       "      <td>0</td>\n",
       "      <td>47</td>\n",
       "      <td>2</td>\n",
       "      <td>0.326893</td>\n",
       "      <td>-0.694328</td>\n",
       "      <td>1.0</td>\n",
       "      <td>0.330088</td>\n",
       "      <td>0.473678</td>\n",
       "      <td>1.280479</td>\n",
       "      <td>-0.094718</td>\n",
       "      <td>0.535878</td>\n",
       "      <td>1.4</td>\n",
       "      <td>1.002168</td>\n",
       "      <td>0.449221</td>\n",
       "      <td>-0.586420</td>\n",
       "      <td>-4.736147</td>\n",
       "      <td>0</td>\n",
       "    </tr>\n",
       "    <tr>\n",
       "      <th>3</th>\n",
       "      <td>0</td>\n",
       "      <td>47</td>\n",
       "      <td>3</td>\n",
       "      <td>0.523184</td>\n",
       "      <td>0.751050</td>\n",
       "      <td>1.0</td>\n",
       "      <td>0.976991</td>\n",
       "      <td>-0.563287</td>\n",
       "      <td>-0.720269</td>\n",
       "      <td>0.793260</td>\n",
       "      <td>0.951145</td>\n",
       "      <td>-0.3</td>\n",
       "      <td>-0.995665</td>\n",
       "      <td>-0.434290</td>\n",
       "      <td>1.344650</td>\n",
       "      <td>0.429241</td>\n",
       "      <td>0</td>\n",
       "    </tr>\n",
       "    <tr>\n",
       "      <th>4</th>\n",
       "      <td>0</td>\n",
       "      <td>47</td>\n",
       "      <td>4</td>\n",
       "      <td>0.272025</td>\n",
       "      <td>1.074580</td>\n",
       "      <td>1.0</td>\n",
       "      <td>-0.136283</td>\n",
       "      <td>0.398579</td>\n",
       "      <td>0.044877</td>\n",
       "      <td>0.560109</td>\n",
       "      <td>-0.541985</td>\n",
       "      <td>-0.9</td>\n",
       "      <td>1.055636</td>\n",
       "      <td>0.812631</td>\n",
       "      <td>0.123457</td>\n",
       "      <td>-0.223359</td>\n",
       "      <td>0</td>\n",
       "    </tr>\n",
       "  </tbody>\n",
       "</table>\n",
       "</div>"
      ],
      "text/plain": [
       "   sequence  subject  step  sensor_00  sensor_01  sensor_02  sensor_03  \\\n",
       "0         0       47     0  -0.196291   0.112395        1.0   0.329204   \n",
       "1         0       47     1  -0.447450   0.134454        1.0  -0.658407   \n",
       "2         0       47     2   0.326893  -0.694328        1.0   0.330088   \n",
       "3         0       47     3   0.523184   0.751050        1.0   0.976991   \n",
       "4         0       47     4   0.272025   1.074580        1.0  -0.136283   \n",
       "\n",
       "   sensor_04  sensor_05  sensor_06  sensor_07  sensor_08  sensor_09  \\\n",
       "0  -1.004660  -0.131638  -0.127505   0.368702       -0.1  -0.963873   \n",
       "1   0.162495   0.340314  -0.209472  -0.867176        0.2  -0.301301   \n",
       "2   0.473678   1.280479  -0.094718   0.535878        1.4   1.002168   \n",
       "3  -0.563287  -0.720269   0.793260   0.951145       -0.3  -0.995665   \n",
       "4   0.398579   0.044877   0.560109  -0.541985       -0.9   1.055636   \n",
       "\n",
       "   sensor_10  sensor_11  sensor_12  state  \n",
       "0  -0.985069   0.531893   4.751492      0  \n",
       "1   0.082733  -0.231481   0.454390      0  \n",
       "2   0.449221  -0.586420  -4.736147      0  \n",
       "3  -0.434290   1.344650   0.429241      0  \n",
       "4   0.812631   0.123457  -0.223359      0  "
      ]
     },
     "execution_count": 3,
     "metadata": {},
     "output_type": "execute_result"
    }
   ],
   "source": [
    "features = [c for c in train.columns if 'sensor' in c]\n",
    "\n",
    "# adding labels to train data\n",
    "train = pd.merge(train, labels,how='left', on=\"sequence\")\n",
    "train.head()"
   ]
  },
  {
   "cell_type": "markdown",
   "id": "67d72d0c",
   "metadata": {
    "papermill": {
     "duration": 0.012992,
     "end_time": "2022-04-05T00:06:11.945883",
     "exception": false,
     "start_time": "2022-04-05T00:06:11.932891",
     "status": "completed"
    },
    "tags": []
   },
   "source": [
    "# FE"
   ]
  },
  {
   "cell_type": "code",
   "execution_count": 4,
   "id": "69997c9e",
   "metadata": {
    "execution": {
     "iopub.execute_input": "2022-04-05T00:06:11.981513Z",
     "iopub.status.busy": "2022-04-05T00:06:11.980772Z",
     "iopub.status.idle": "2022-04-05T00:06:13.557817Z",
     "shell.execute_reply": "2022-04-05T00:06:13.557126Z"
    },
    "papermill": {
     "duration": 1.598487,
     "end_time": "2022-04-05T00:06:13.557980",
     "exception": false,
     "start_time": "2022-04-05T00:06:11.959493",
     "status": "completed"
    },
    "tags": []
   },
   "outputs": [
    {
     "name": "stdout",
     "output_type": "stream",
     "text": [
      "(1558080, 43)\n",
      "(733080, 42)\n"
     ]
    },
    {
     "data": {
      "text/html": [
       "<div>\n",
       "<style scoped>\n",
       "    .dataframe tbody tr th:only-of-type {\n",
       "        vertical-align: middle;\n",
       "    }\n",
       "\n",
       "    .dataframe tbody tr th {\n",
       "        vertical-align: top;\n",
       "    }\n",
       "\n",
       "    .dataframe thead th {\n",
       "        text-align: right;\n",
       "    }\n",
       "</style>\n",
       "<table border=\"1\" class=\"dataframe\">\n",
       "  <thead>\n",
       "    <tr style=\"text-align: right;\">\n",
       "      <th></th>\n",
       "      <th>sequence</th>\n",
       "      <th>subject</th>\n",
       "      <th>step</th>\n",
       "      <th>sensor_00</th>\n",
       "      <th>sensor_01</th>\n",
       "      <th>sensor_02</th>\n",
       "      <th>sensor_03</th>\n",
       "      <th>sensor_04</th>\n",
       "      <th>sensor_05</th>\n",
       "      <th>sensor_06</th>\n",
       "      <th>...</th>\n",
       "      <th>sensor_08_lag1</th>\n",
       "      <th>sensor_08_diff1</th>\n",
       "      <th>sensor_09_lag1</th>\n",
       "      <th>sensor_09_diff1</th>\n",
       "      <th>sensor_10_lag1</th>\n",
       "      <th>sensor_10_diff1</th>\n",
       "      <th>sensor_11_lag1</th>\n",
       "      <th>sensor_11_diff1</th>\n",
       "      <th>sensor_12_lag1</th>\n",
       "      <th>sensor_12_diff1</th>\n",
       "    </tr>\n",
       "  </thead>\n",
       "  <tbody>\n",
       "    <tr>\n",
       "      <th>0</th>\n",
       "      <td>0</td>\n",
       "      <td>47</td>\n",
       "      <td>0</td>\n",
       "      <td>-0.196291</td>\n",
       "      <td>0.112395</td>\n",
       "      <td>1.0</td>\n",
       "      <td>0.329204</td>\n",
       "      <td>-1.004660</td>\n",
       "      <td>-0.131638</td>\n",
       "      <td>-0.127505</td>\n",
       "      <td>...</td>\n",
       "      <td>0.0</td>\n",
       "      <td>-0.1</td>\n",
       "      <td>0.000000</td>\n",
       "      <td>-0.963873</td>\n",
       "      <td>0.000000</td>\n",
       "      <td>-0.985069</td>\n",
       "      <td>0.000000</td>\n",
       "      <td>0.531893</td>\n",
       "      <td>0.000000</td>\n",
       "      <td>4.751492</td>\n",
       "    </tr>\n",
       "    <tr>\n",
       "      <th>1</th>\n",
       "      <td>0</td>\n",
       "      <td>47</td>\n",
       "      <td>1</td>\n",
       "      <td>-0.447450</td>\n",
       "      <td>0.134454</td>\n",
       "      <td>1.0</td>\n",
       "      <td>-0.658407</td>\n",
       "      <td>0.162495</td>\n",
       "      <td>0.340314</td>\n",
       "      <td>-0.209472</td>\n",
       "      <td>...</td>\n",
       "      <td>-0.1</td>\n",
       "      <td>0.3</td>\n",
       "      <td>-0.963873</td>\n",
       "      <td>0.662572</td>\n",
       "      <td>-0.985069</td>\n",
       "      <td>1.067802</td>\n",
       "      <td>0.531893</td>\n",
       "      <td>-0.763375</td>\n",
       "      <td>4.751492</td>\n",
       "      <td>-4.297101</td>\n",
       "    </tr>\n",
       "    <tr>\n",
       "      <th>2</th>\n",
       "      <td>0</td>\n",
       "      <td>47</td>\n",
       "      <td>2</td>\n",
       "      <td>0.326893</td>\n",
       "      <td>-0.694328</td>\n",
       "      <td>1.0</td>\n",
       "      <td>0.330088</td>\n",
       "      <td>0.473678</td>\n",
       "      <td>1.280479</td>\n",
       "      <td>-0.094718</td>\n",
       "      <td>...</td>\n",
       "      <td>0.2</td>\n",
       "      <td>1.2</td>\n",
       "      <td>-0.301301</td>\n",
       "      <td>1.303468</td>\n",
       "      <td>0.082733</td>\n",
       "      <td>0.366488</td>\n",
       "      <td>-0.231481</td>\n",
       "      <td>-0.354938</td>\n",
       "      <td>0.454390</td>\n",
       "      <td>-5.190537</td>\n",
       "    </tr>\n",
       "    <tr>\n",
       "      <th>3</th>\n",
       "      <td>0</td>\n",
       "      <td>47</td>\n",
       "      <td>3</td>\n",
       "      <td>0.523184</td>\n",
       "      <td>0.751050</td>\n",
       "      <td>1.0</td>\n",
       "      <td>0.976991</td>\n",
       "      <td>-0.563287</td>\n",
       "      <td>-0.720269</td>\n",
       "      <td>0.793260</td>\n",
       "      <td>...</td>\n",
       "      <td>1.4</td>\n",
       "      <td>-1.7</td>\n",
       "      <td>1.002168</td>\n",
       "      <td>-1.997832</td>\n",
       "      <td>0.449221</td>\n",
       "      <td>-0.883511</td>\n",
       "      <td>-0.586420</td>\n",
       "      <td>1.931070</td>\n",
       "      <td>-4.736146</td>\n",
       "      <td>5.165388</td>\n",
       "    </tr>\n",
       "    <tr>\n",
       "      <th>4</th>\n",
       "      <td>0</td>\n",
       "      <td>47</td>\n",
       "      <td>4</td>\n",
       "      <td>0.272025</td>\n",
       "      <td>1.074580</td>\n",
       "      <td>1.0</td>\n",
       "      <td>-0.136283</td>\n",
       "      <td>0.398579</td>\n",
       "      <td>0.044877</td>\n",
       "      <td>0.560109</td>\n",
       "      <td>...</td>\n",
       "      <td>-0.3</td>\n",
       "      <td>-0.6</td>\n",
       "      <td>-0.995665</td>\n",
       "      <td>2.051301</td>\n",
       "      <td>-0.434290</td>\n",
       "      <td>1.246921</td>\n",
       "      <td>1.344650</td>\n",
       "      <td>-1.221193</td>\n",
       "      <td>0.429241</td>\n",
       "      <td>-0.652600</td>\n",
       "    </tr>\n",
       "  </tbody>\n",
       "</table>\n",
       "<p>5 rows × 43 columns</p>\n",
       "</div>"
      ],
      "text/plain": [
       "   sequence  subject  step  sensor_00  sensor_01  sensor_02  sensor_03  \\\n",
       "0         0       47     0  -0.196291   0.112395        1.0   0.329204   \n",
       "1         0       47     1  -0.447450   0.134454        1.0  -0.658407   \n",
       "2         0       47     2   0.326893  -0.694328        1.0   0.330088   \n",
       "3         0       47     3   0.523184   0.751050        1.0   0.976991   \n",
       "4         0       47     4   0.272025   1.074580        1.0  -0.136283   \n",
       "\n",
       "   sensor_04  sensor_05  sensor_06  ...  sensor_08_lag1  sensor_08_diff1  \\\n",
       "0  -1.004660  -0.131638  -0.127505  ...             0.0             -0.1   \n",
       "1   0.162495   0.340314  -0.209472  ...            -0.1              0.3   \n",
       "2   0.473678   1.280479  -0.094718  ...             0.2              1.2   \n",
       "3  -0.563287  -0.720269   0.793260  ...             1.4             -1.7   \n",
       "4   0.398579   0.044877   0.560109  ...            -0.3             -0.6   \n",
       "\n",
       "   sensor_09_lag1  sensor_09_diff1  sensor_10_lag1  sensor_10_diff1  \\\n",
       "0        0.000000        -0.963873        0.000000        -0.985069   \n",
       "1       -0.963873         0.662572       -0.985069         1.067802   \n",
       "2       -0.301301         1.303468        0.082733         0.366488   \n",
       "3        1.002168        -1.997832        0.449221        -0.883511   \n",
       "4       -0.995665         2.051301       -0.434290         1.246921   \n",
       "\n",
       "   sensor_11_lag1  sensor_11_diff1  sensor_12_lag1  sensor_12_diff1  \n",
       "0        0.000000         0.531893        0.000000         4.751492  \n",
       "1        0.531893        -0.763375        4.751492        -4.297101  \n",
       "2       -0.231481        -0.354938        0.454390        -5.190537  \n",
       "3       -0.586420         1.931070       -4.736146         5.165388  \n",
       "4        1.344650        -1.221193        0.429241        -0.652600  \n",
       "\n",
       "[5 rows x 43 columns]"
      ]
     },
     "execution_count": 4,
     "metadata": {},
     "output_type": "execute_result"
    }
   ],
   "source": [
    "def addFeatures(df):  \n",
    "    \n",
    "    for f in features:\n",
    "        df[f + '_lag1'] = df.groupby('sequence')[f].shift(1).fillna(0).astype('float32')\n",
    "        \n",
    "        #df[f + '_lag_back1'] = df.groupby('sequence')[f].shift(-1).fillna(0).astype('float32')\n",
    "        #df[f + '_cumsum'] = df.groupby('sequence')[f].cumsum().astype('float32')\n",
    "        df[f + '_diff1'] = (df[f] - df[f + '_lag1']).astype('float32')\n",
    "    return df\n",
    "\n",
    "train = addFeatures(train)\n",
    "test = addFeatures(test)\n",
    "\n",
    "print(train.shape)\n",
    "print(test.shape)\n",
    "train.head()"
   ]
  },
  {
   "cell_type": "code",
   "execution_count": 5,
   "id": "adc2bf32",
   "metadata": {
    "execution": {
     "iopub.execute_input": "2022-04-05T00:06:13.591521Z",
     "iopub.status.busy": "2022-04-05T00:06:13.590796Z",
     "iopub.status.idle": "2022-04-05T00:06:14.093473Z",
     "shell.execute_reply": "2022-04-05T00:06:14.093972Z"
    },
    "papermill": {
     "duration": 0.520809,
     "end_time": "2022-04-05T00:06:14.094158",
     "exception": false,
     "start_time": "2022-04-05T00:06:13.573349",
     "status": "completed"
    },
    "tags": []
   },
   "outputs": [
    {
     "data": {
      "text/plain": [
       "array([[0, 0, 0, ..., 0, 0, 0],\n",
       "       [1, 1, 1, ..., 1, 1, 1],\n",
       "       [1, 1, 1, ..., 1, 1, 1],\n",
       "       ...,\n",
       "       [1, 1, 1, ..., 1, 1, 1],\n",
       "       [1, 1, 1, ..., 1, 1, 1],\n",
       "       [0, 0, 0, ..., 0, 0, 0]])"
      ]
     },
     "execution_count": 5,
     "metadata": {},
     "output_type": "execute_result"
    }
   ],
   "source": [
    "Window = 60\n",
    "\n",
    "target = train.state.values\n",
    "\n",
    "y = train['state'].to_numpy().reshape(-1, Window)\n",
    "train.drop([\"sequence\",\"step\",\"subject\",\"state\"], axis=1, inplace=True)\n",
    "test.drop([\"sequence\",\"step\",\"subject\"], axis=1, inplace=True)\n",
    "y"
   ]
  },
  {
   "cell_type": "code",
   "execution_count": 6,
   "id": "4af33c8a",
   "metadata": {
    "execution": {
     "iopub.execute_input": "2022-04-05T00:06:14.128277Z",
     "iopub.status.busy": "2022-04-05T00:06:14.127580Z",
     "iopub.status.idle": "2022-04-05T00:06:16.268657Z",
     "shell.execute_reply": "2022-04-05T00:06:16.268095Z"
    },
    "papermill": {
     "duration": 2.159481,
     "end_time": "2022-04-05T00:06:16.268818",
     "exception": false,
     "start_time": "2022-04-05T00:06:14.109337",
     "status": "completed"
    },
    "tags": []
   },
   "outputs": [],
   "source": [
    "from sklearn.preprocessing import StandardScaler, RobustScaler\n",
    "sc = StandardScaler()\n",
    "\n",
    "train = sc.fit_transform(train)\n",
    "test = sc.transform(test)"
   ]
  },
  {
   "cell_type": "code",
   "execution_count": 7,
   "id": "a669c996",
   "metadata": {
    "execution": {
     "iopub.execute_input": "2022-04-05T00:06:16.305726Z",
     "iopub.status.busy": "2022-04-05T00:06:16.304672Z",
     "iopub.status.idle": "2022-04-05T00:06:16.307935Z",
     "shell.execute_reply": "2022-04-05T00:06:16.308438Z"
    },
    "papermill": {
     "duration": 0.0248,
     "end_time": "2022-04-05T00:06:16.308663",
     "exception": false,
     "start_time": "2022-04-05T00:06:16.283863",
     "status": "completed"
    },
    "tags": []
   },
   "outputs": [
    {
     "name": "stdout",
     "output_type": "stream",
     "text": [
      "(25968, 60, 39)\n"
     ]
    }
   ],
   "source": [
    "train = train.reshape(-1, Window, train.shape[-1])\n",
    "test = test.reshape(-1, Window, train.shape[-1])\n",
    "print(train.shape)"
   ]
  },
  {
   "cell_type": "code",
   "execution_count": 8,
   "id": "5cb7558e",
   "metadata": {
    "execution": {
     "iopub.execute_input": "2022-04-05T00:06:16.344512Z",
     "iopub.status.busy": "2022-04-05T00:06:16.343619Z",
     "iopub.status.idle": "2022-04-05T00:06:23.158833Z",
     "shell.execute_reply": "2022-04-05T00:06:23.157904Z"
    },
    "papermill": {
     "duration": 6.834914,
     "end_time": "2022-04-05T00:06:23.159000",
     "exception": false,
     "start_time": "2022-04-05T00:06:16.324086",
     "status": "completed"
    },
    "tags": []
   },
   "outputs": [
    {
     "name": "stderr",
     "output_type": "stream",
     "text": [
      "2022-04-05 00:06:17.153992: W tensorflow/stream_executor/platform/default/dso_loader.cc:60] Could not load dynamic library 'libcudart.so.11.0'; dlerror: libcudart.so.11.0: cannot open shared object file: No such file or directory; LD_LIBRARY_PATH: /opt/conda/lib\n",
      "2022-04-05 00:06:17.154115: I tensorflow/stream_executor/cuda/cudart_stub.cc:29] Ignore above cudart dlerror if you do not have a GPU set up on your machine.\n"
     ]
    }
   ],
   "source": [
    "import tensorflow as tf\n",
    "import logging\n",
    "from tensorflow.keras import *"
   ]
  },
  {
   "cell_type": "code",
   "execution_count": 9,
   "id": "be1b04e7",
   "metadata": {
    "execution": {
     "iopub.execute_input": "2022-04-05T00:06:23.197007Z",
     "iopub.status.busy": "2022-04-05T00:06:23.196260Z",
     "iopub.status.idle": "2022-04-05T00:06:29.404796Z",
     "shell.execute_reply": "2022-04-05T00:06:29.405359Z"
    },
    "papermill": {
     "duration": 6.228834,
     "end_time": "2022-04-05T00:06:29.405604",
     "exception": false,
     "start_time": "2022-04-05T00:06:23.176770",
     "status": "completed"
    },
    "tags": []
   },
   "outputs": [
    {
     "name": "stdout",
     "output_type": "stream",
     "text": [
      "2.4.1\n"
     ]
    },
    {
     "name": "stderr",
     "output_type": "stream",
     "text": [
      "2022-04-05 00:06:23.210327: I tensorflow/compiler/jit/xla_cpu_device.cc:41] Not creating XLA devices, tf_xla_enable_xla_devices not set\n",
      "2022-04-05 00:06:23.213964: W tensorflow/stream_executor/platform/default/dso_loader.cc:60] Could not load dynamic library 'libcuda.so.1'; dlerror: libcuda.so.1: cannot open shared object file: No such file or directory; LD_LIBRARY_PATH: /opt/conda/lib\n",
      "2022-04-05 00:06:23.214009: W tensorflow/stream_executor/cuda/cuda_driver.cc:326] failed call to cuInit: UNKNOWN ERROR (303)\n",
      "2022-04-05 00:06:23.214037: I tensorflow/stream_executor/cuda/cuda_diagnostics.cc:156] kernel driver does not appear to be running on this host (b0319a000ab5): /proc/driver/nvidia/version does not exist\n",
      "2022-04-05 00:06:23.218241: I tensorflow/core/platform/cpu_feature_guard.cc:142] This TensorFlow binary is optimized with oneAPI Deep Neural Network Library (oneDNN) to use the following CPU instructions in performance-critical operations:  AVX2 FMA\n",
      "To enable them in other operations, rebuild TensorFlow with the appropriate compiler flags.\n",
      "2022-04-05 00:06:23.219907: I tensorflow/compiler/jit/xla_gpu_device.cc:99] Not creating XLA devices, tf_xla_enable_xla_devices not set\n",
      "2022-04-05 00:06:23.227225: I tensorflow/compiler/jit/xla_gpu_device.cc:99] Not creating XLA devices, tf_xla_enable_xla_devices not set\n",
      "2022-04-05 00:06:23.272301: I tensorflow/core/distributed_runtime/rpc/grpc_channel.cc:301] Initialize GrpcChannelCache for job worker -> {0 -> 10.0.0.2:8470}\n",
      "2022-04-05 00:06:23.272372: I tensorflow/core/distributed_runtime/rpc/grpc_channel.cc:301] Initialize GrpcChannelCache for job localhost -> {0 -> localhost:30020}\n",
      "2022-04-05 00:06:23.306424: I tensorflow/core/distributed_runtime/rpc/grpc_channel.cc:301] Initialize GrpcChannelCache for job worker -> {0 -> 10.0.0.2:8470}\n",
      "2022-04-05 00:06:23.306533: I tensorflow/core/distributed_runtime/rpc/grpc_channel.cc:301] Initialize GrpcChannelCache for job localhost -> {0 -> localhost:30020}\n",
      "2022-04-05 00:06:23.309598: I tensorflow/core/distributed_runtime/rpc/grpc_server_lib.cc:411] Started server with target: grpc://localhost:30020\n"
     ]
    },
    {
     "name": "stdout",
     "output_type": "stream",
     "text": [
      "REPLICAS:  8\n"
     ]
    }
   ],
   "source": [
    "# Detect hardware, return appropriate distribution strategy\n",
    "print(tf.version.VERSION)\n",
    "tf.get_logger().setLevel(logging.ERROR)\n",
    "try: # detect TPU\n",
    "    tpu = None\n",
    "    tpu = tf.distribute.cluster_resolver.TPUClusterResolver()  # TPU detection\n",
    "    tf.config.experimental_connect_to_cluster(tpu)\n",
    "    tf.tpu.experimental.initialize_tpu_system(tpu)\n",
    "    strategy = tf.distribute.experimental.TPUStrategy(tpu)\n",
    "except ValueError: # detect GPU(s) and enable mixed precision\n",
    "    strategy = tf.distribute.MirroredStrategy() # works on GPU and multi-GPU\n",
    "    policy = tf.keras.mixed_precision.experimental.Policy('mixed_float16')\n",
    "    tf.config.optimizer.set_jit(True) # XLA compilation\n",
    "    tf.keras.mixed_precision.experimental.set_policy(policy)\n",
    "    print('Mixed precision enabled')\n",
    "print(\"REPLICAS: \", strategy.num_replicas_in_sync)"
   ]
  },
  {
   "cell_type": "markdown",
   "id": "dc7e4124",
   "metadata": {
    "papermill": {
     "duration": 0.017795,
     "end_time": "2022-04-05T00:06:29.441536",
     "exception": false,
     "start_time": "2022-04-05T00:06:29.423741",
     "status": "completed"
    },
    "tags": []
   },
   "source": [
    "# LSTM"
   ]
  },
  {
   "cell_type": "code",
   "execution_count": 10,
   "id": "7d5c77be",
   "metadata": {
    "execution": {
     "iopub.execute_input": "2022-04-05T00:06:29.483130Z",
     "iopub.status.busy": "2022-04-05T00:06:29.482400Z",
     "iopub.status.idle": "2022-04-05T00:06:29.487786Z",
     "shell.execute_reply": "2022-04-05T00:06:29.488247Z"
    },
    "papermill": {
     "duration": 0.028117,
     "end_time": "2022-04-05T00:06:29.488462",
     "exception": false,
     "start_time": "2022-04-05T00:06:29.460345",
     "status": "completed"
    },
    "tags": []
   },
   "outputs": [],
   "source": [
    "def plotHist(hist):\n",
    "    plt.plot(hist.history[\"auc\"])\n",
    "    plt.plot(hist.history[\"val_auc\"])\n",
    "    plt.title(\"model performance\")\n",
    "    plt.ylabel(\"area_under_curve\")\n",
    "    plt.xlabel(\"epoch\")\n",
    "    plt.legend([\"train\", \"validation\"], loc=\"upper left\")\n",
    "    plt.show()"
   ]
  },
  {
   "cell_type": "code",
   "execution_count": 11,
   "id": "d6e75e5d",
   "metadata": {
    "execution": {
     "iopub.execute_input": "2022-04-05T00:06:29.536756Z",
     "iopub.status.busy": "2022-04-05T00:06:29.535963Z",
     "iopub.status.idle": "2022-04-05T00:06:29.538971Z",
     "shell.execute_reply": "2022-04-05T00:06:29.539593Z"
    },
    "papermill": {
     "duration": 0.032112,
     "end_time": "2022-04-05T00:06:29.539824",
     "exception": false,
     "start_time": "2022-04-05T00:06:29.507712",
     "status": "completed"
    },
    "tags": []
   },
   "outputs": [],
   "source": [
    "from tensorflow.keras.metrics import AUC\n",
    "\n",
    "def createModel():\n",
    "    with strategy.scope():\n",
    "        model = Sequential(\n",
    "        [\n",
    "            Input(shape = (Window, train.shape[-1])),\n",
    "            Bidirectional(LSTM(768, return_sequences = True)),\n",
    "            Bidirectional(LSTM(512, return_sequences = True)), \n",
    "            Bidirectional(LSTM(256, return_sequences = True)),\n",
    "            Bidirectional(LSTM(128, return_sequences = True)),\n",
    "            Dense(128, activation = 'selu'),\n",
    "            Dense(1, activation = 'sigmoid')\n",
    "        ]\n",
    "        )\n",
    "        model.compile(optimizer = 'adam', loss = 'binary_crossentropy', metrics = [AUC(name = 'auc')]\n",
    "                     )\n",
    "    return (model)"
   ]
  },
  {
   "cell_type": "code",
   "execution_count": 12,
   "id": "d8b4f9e1",
   "metadata": {
    "execution": {
     "iopub.execute_input": "2022-04-05T00:06:29.584686Z",
     "iopub.status.busy": "2022-04-05T00:06:29.578488Z",
     "iopub.status.idle": "2022-04-05T00:19:22.852335Z",
     "shell.execute_reply": "2022-04-05T00:19:22.851682Z"
    },
    "papermill": {
     "duration": 773.294873,
     "end_time": "2022-04-05T00:19:22.852515",
     "exception": false,
     "start_time": "2022-04-05T00:06:29.557642",
     "status": "completed"
    },
    "tags": []
   },
   "outputs": [
    {
     "name": "stdout",
     "output_type": "stream",
     "text": [
      "fold 1\n",
      "****************************************\n"
     ]
    },
    {
     "name": "stderr",
     "output_type": "stream",
     "text": [
      "2022-04-05 00:06:47.462247: W tensorflow/core/framework/cpu_allocator_impl.cc:80] Allocation of 194444640 exceeds 10% of free system memory.\n"
     ]
    },
    {
     "name": "stdout",
     "output_type": "stream",
     "text": [
      "Epoch 1/50\n",
      "82/82 [==============================] - ETA: 0s - loss: 0.6758 - auc: 0.6231"
     ]
    },
    {
     "name": "stderr",
     "output_type": "stream",
     "text": [
      "2022-04-05 00:07:27.574180: W tensorflow/core/framework/cpu_allocator_impl.cc:80] Allocation of 48615840 exceeds 10% of free system memory.\n"
     ]
    },
    {
     "name": "stdout",
     "output_type": "stream",
     "text": [
      "82/82 [==============================] - 44s 264ms/step - loss: 0.6753 - auc: 0.6240 - val_loss: 0.5536 - val_auc: 0.8129\n",
      "Epoch 2/50\n",
      "82/82 [==============================] - 6s 76ms/step - loss: 0.5094 - auc: 0.8268 - val_loss: 0.4299 - val_auc: 0.8835\n",
      "Epoch 3/50\n",
      "82/82 [==============================] - 6s 77ms/step - loss: 0.4021 - auc: 0.8982 - val_loss: 0.3784 - val_auc: 0.9141\n",
      "Epoch 4/50\n",
      "82/82 [==============================] - 6s 77ms/step - loss: 0.3568 - auc: 0.9215 - val_loss: 0.3368 - val_auc: 0.9325\n",
      "Epoch 5/50\n",
      "82/82 [==============================] - 6s 77ms/step - loss: 0.2972 - auc: 0.9461 - val_loss: 0.3601 - val_auc: 0.9309\n",
      "\n",
      "Epoch 00005: ReduceLROnPlateau reducing learning rate to 0.000800000037997961.\n",
      "Epoch 6/50\n",
      "82/82 [==============================] - 6s 77ms/step - loss: 0.2621 - auc: 0.9580 - val_loss: 0.2946 - val_auc: 0.9509\n",
      "Epoch 7/50\n",
      "82/82 [==============================] - 6s 77ms/step - loss: 0.2360 - auc: 0.9659 - val_loss: 0.2766 - val_auc: 0.9541\n",
      "Epoch 8/50\n",
      "82/82 [==============================] - 6s 77ms/step - loss: 0.2232 - auc: 0.9698 - val_loss: 0.2669 - val_auc: 0.9591\n",
      "Epoch 9/50\n",
      "82/82 [==============================] - 6s 77ms/step - loss: 0.1813 - auc: 0.9797 - val_loss: 0.2717 - val_auc: 0.9592\n",
      "\n",
      "Epoch 00009: ReduceLROnPlateau reducing learning rate to 0.0006400000303983689.\n",
      "Epoch 10/50\n",
      "82/82 [==============================] - 6s 77ms/step - loss: 0.1594 - auc: 0.9841 - val_loss: 0.2893 - val_auc: 0.9568\n",
      "Epoch 11/50\n",
      "82/82 [==============================] - 6s 77ms/step - loss: 0.1401 - auc: 0.9878 - val_loss: 0.3198 - val_auc: 0.9595\n",
      "Epoch 12/50\n",
      "82/82 [==============================] - 6s 77ms/step - loss: 0.1189 - auc: 0.9912 - val_loss: 0.2801 - val_auc: 0.9580\n",
      "Epoch 13/50\n",
      "82/82 [==============================] - 6s 77ms/step - loss: 0.1163 - auc: 0.9914 - val_loss: 0.2929 - val_auc: 0.9563\n",
      "\n",
      "Epoch 00013: ReduceLROnPlateau reducing learning rate to 0.0005120000336319208.\n",
      "Epoch 14/50\n",
      "82/82 [==============================] - 6s 77ms/step - loss: 0.0828 - auc: 0.9955 - val_loss: 0.3547 - val_auc: 0.9538\n",
      "Epoch 15/50\n",
      "82/82 [==============================] - 6s 77ms/step - loss: 0.0668 - auc: 0.9968 - val_loss: 0.3254 - val_auc: 0.9561\n",
      "Epoch 16/50\n",
      "82/82 [==============================] - 7s 82ms/step - loss: 0.0819 - auc: 0.9956 - val_loss: 0.3259 - val_auc: 0.9585\n",
      "Restoring model weights from the end of the best epoch.\n",
      "Epoch 00016: early stopping\n"
     ]
    },
    {
     "name": "stderr",
     "output_type": "stream",
     "text": [
      "2022-04-05 00:09:11.961067: W tensorflow/core/framework/cpu_allocator_impl.cc:80] Allocation of 114360480 exceeds 10% of free system memory.\n"
     ]
    },
    {
     "data": {
      "image/png": "[encoded data removed]",
      "text/plain": [
       "<Figure size 432x288 with 1 Axes>"
      ]
     },
     "metadata": {
      "needs_background": "light"
     },
     "output_type": "display_data"
    },
    {
     "name": "stdout",
     "output_type": "stream",
     "text": [
      "fold 2\n",
      "****************************************\n"
     ]
    },
    {
     "name": "stderr",
     "output_type": "stream",
     "text": [
      "2022-04-05 00:09:24.915969: W tensorflow/core/framework/cpu_allocator_impl.cc:80] Allocation of 194444640 exceeds 10% of free system memory.\n"
     ]
    },
    {
     "name": "stdout",
     "output_type": "stream",
     "text": [
      "Epoch 1/50\n",
      "82/82 [==============================] - ETA: 0s - loss: 0.6735 - auc: 0.6113"
     ]
    },
    {
     "name": "stderr",
     "output_type": "stream",
     "text": [
      "2022-04-05 00:10:04.912460: W tensorflow/core/framework/cpu_allocator_impl.cc:80] Allocation of 48615840 exceeds 10% of free system memory.\n"
     ]
    },
    {
     "name": "stdout",
     "output_type": "stream",
     "text": [
      "82/82 [==============================] - 44s 256ms/step - loss: 0.6730 - auc: 0.6123 - val_loss: 0.5879 - val_auc: 0.8048\n",
      "Epoch 2/50\n",
      "82/82 [==============================] - 6s 77ms/step - loss: 0.5434 - auc: 0.8002 - val_loss: 0.4284 - val_auc: 0.8874\n",
      "Epoch 3/50\n",
      "82/82 [==============================] - 6s 77ms/step - loss: 0.4231 - auc: 0.8864 - val_loss: 0.3985 - val_auc: 0.9108\n",
      "Epoch 4/50\n",
      "82/82 [==============================] - 6s 77ms/step - loss: 0.3515 - auc: 0.9243 - val_loss: 0.3481 - val_auc: 0.9290\n",
      "Epoch 5/50\n",
      "82/82 [==============================] - 6s 77ms/step - loss: 0.3144 - auc: 0.9394 - val_loss: 0.3099 - val_auc: 0.9432\n",
      "\n",
      "Epoch 00005: ReduceLROnPlateau reducing learning rate to 0.000800000037997961.\n",
      "Epoch 6/50\n",
      "82/82 [==============================] - 6s 77ms/step - loss: 0.2581 - auc: 0.9595 - val_loss: 0.2685 - val_auc: 0.9571\n",
      "Epoch 7/50\n",
      "82/82 [==============================] - 6s 76ms/step - loss: 0.2206 - auc: 0.9702 - val_loss: 0.2730 - val_auc: 0.9568\n",
      "Epoch 8/50\n",
      "82/82 [==============================] - 7s 81ms/step - loss: 0.2160 - auc: 0.9715 - val_loss: 0.3000 - val_auc: 0.9518\n",
      "Epoch 9/50\n",
      "82/82 [==============================] - 6s 77ms/step - loss: 0.1945 - auc: 0.9770 - val_loss: 0.2721 - val_auc: 0.9585\n",
      "\n",
      "Epoch 00009: ReduceLROnPlateau reducing learning rate to 0.0006400000303983689.\n",
      "Epoch 10/50\n",
      "82/82 [==============================] - 6s 76ms/step - loss: 0.1637 - auc: 0.9836 - val_loss: 0.2717 - val_auc: 0.9613\n",
      "Epoch 11/50\n",
      "82/82 [==============================] - 6s 78ms/step - loss: 0.1365 - auc: 0.9882 - val_loss: 0.2713 - val_auc: 0.9620\n",
      "Epoch 12/50\n",
      "82/82 [==============================] - 6s 76ms/step - loss: 0.1189 - auc: 0.9905 - val_loss: 0.2840 - val_auc: 0.9593\n",
      "Epoch 13/50\n",
      "82/82 [==============================] - 6s 76ms/step - loss: 0.1110 - auc: 0.9918 - val_loss: 0.3267 - val_auc: 0.9567\n",
      "\n",
      "Epoch 00013: ReduceLROnPlateau reducing learning rate to 0.0005120000336319208.\n",
      "Epoch 14/50\n",
      "82/82 [==============================] - 6s 76ms/step - loss: 0.1002 - auc: 0.9937 - val_loss: 0.3087 - val_auc: 0.9577\n",
      "Epoch 15/50\n",
      "82/82 [==============================] - 6s 76ms/step - loss: 0.0685 - auc: 0.9964 - val_loss: 0.3554 - val_auc: 0.9547\n",
      "Epoch 16/50\n",
      "82/82 [==============================] - 6s 76ms/step - loss: 0.0683 - auc: 0.9972 - val_loss: 0.4061 - val_auc: 0.9472\n",
      "Restoring model weights from the end of the best epoch.\n",
      "Epoch 00016: early stopping\n"
     ]
    },
    {
     "data": {
      "image/png": "[encoded data removed]",
      "text/plain": [
       "<Figure size 432x288 with 1 Axes>"
      ]
     },
     "metadata": {
      "needs_background": "light"
     },
     "output_type": "display_data"
    },
    {
     "name": "stdout",
     "output_type": "stream",
     "text": [
      "fold 3\n",
      "****************************************\n",
      "Epoch 1/50\n",
      "82/82 [==============================] - 44s 254ms/step - loss: 0.6677 - auc: 0.6275 - val_loss: 0.5772 - val_auc: 0.7959\n",
      "Epoch 2/50\n",
      "82/82 [==============================] - 6s 76ms/step - loss: 0.5242 - auc: 0.8151 - val_loss: 0.4510 - val_auc: 0.8738\n",
      "Epoch 3/50\n",
      "82/82 [==============================] - 6s 76ms/step - loss: 0.4230 - auc: 0.8867 - val_loss: 0.4068 - val_auc: 0.9107\n",
      "Epoch 4/50\n",
      "82/82 [==============================] - 6s 76ms/step - loss: 0.3693 - auc: 0.9159 - val_loss: 0.3533 - val_auc: 0.9260\n",
      "Epoch 5/50\n",
      "82/82 [==============================] - 6s 77ms/step - loss: 0.3104 - auc: 0.9411 - val_loss: 0.3269 - val_auc: 0.9410\n",
      "\n",
      "Epoch 00005: ReduceLROnPlateau reducing learning rate to 0.000800000037997961.\n",
      "Epoch 6/50\n",
      "82/82 [==============================] - 6s 77ms/step - loss: 0.2568 - auc: 0.9600 - val_loss: 0.2955 - val_auc: 0.9545\n",
      "Epoch 7/50\n",
      "82/82 [==============================] - 6s 76ms/step - loss: 0.2255 - auc: 0.9693 - val_loss: 0.2646 - val_auc: 0.9583\n",
      "Epoch 8/50\n",
      "82/82 [==============================] - 7s 81ms/step - loss: 0.1929 - auc: 0.9773 - val_loss: 0.2796 - val_auc: 0.9533\n",
      "Epoch 9/50\n",
      "82/82 [==============================] - 6s 77ms/step - loss: 0.1845 - auc: 0.9792 - val_loss: 0.2744 - val_auc: 0.9576\n",
      "\n",
      "Epoch 00009: ReduceLROnPlateau reducing learning rate to 0.0006400000303983689.\n",
      "Epoch 10/50\n",
      "82/82 [==============================] - 6s 77ms/step - loss: 0.1591 - auc: 0.9841 - val_loss: 0.2739 - val_auc: 0.9600\n",
      "Epoch 11/50\n",
      "82/82 [==============================] - 6s 76ms/step - loss: 0.1325 - auc: 0.9890 - val_loss: 0.2783 - val_auc: 0.9585\n",
      "Epoch 12/50\n",
      "82/82 [==============================] - 6s 77ms/step - loss: 0.1135 - auc: 0.9917 - val_loss: 0.2858 - val_auc: 0.9571\n",
      "Epoch 13/50\n",
      "82/82 [==============================] - 6s 77ms/step - loss: 0.1123 - auc: 0.9917 - val_loss: 0.3142 - val_auc: 0.9554\n",
      "\n",
      "Epoch 00013: ReduceLROnPlateau reducing learning rate to 0.0005120000336319208.\n",
      "Epoch 14/50\n",
      "82/82 [==============================] - 6s 76ms/step - loss: 0.1087 - auc: 0.9926 - val_loss: 0.3375 - val_auc: 0.9554\n",
      "Epoch 15/50\n",
      "82/82 [==============================] - 6s 77ms/step - loss: 0.0685 - auc: 0.9966 - val_loss: 0.3376 - val_auc: 0.9569\n",
      "Restoring model weights from the end of the best epoch.\n",
      "Epoch 00015: early stopping\n"
     ]
    },
    {
     "data": {
      "image/png": "[encoded data removed]",
      "text/plain": [
       "<Figure size 432x288 with 1 Axes>"
      ]
     },
     "metadata": {
      "needs_background": "light"
     },
     "output_type": "display_data"
    },
    {
     "name": "stdout",
     "output_type": "stream",
     "text": [
      "fold 4\n",
      "****************************************\n",
      "Epoch 1/50\n",
      "82/82 [==============================] - 44s 259ms/step - loss: 0.6731 - auc: 0.6250 - val_loss: 0.5366 - val_auc: 0.8161\n",
      "Epoch 2/50\n",
      "82/82 [==============================] - 6s 76ms/step - loss: 0.5007 - auc: 0.8323 - val_loss: 0.4273 - val_auc: 0.8974\n",
      "Epoch 3/50\n",
      "82/82 [==============================] - 6s 77ms/step - loss: 0.3963 - auc: 0.9014 - val_loss: 0.3695 - val_auc: 0.9191\n",
      "Epoch 4/50\n",
      "82/82 [==============================] - 6s 77ms/step - loss: 0.3608 - auc: 0.9191 - val_loss: 0.3431 - val_auc: 0.9342\n",
      "Epoch 5/50\n",
      "82/82 [==============================] - 6s 76ms/step - loss: 0.3095 - auc: 0.9415 - val_loss: 0.2835 - val_auc: 0.9514\n",
      "\n",
      "Epoch 00005: ReduceLROnPlateau reducing learning rate to 0.000800000037997961.\n",
      "Epoch 6/50\n",
      "82/82 [==============================] - 6s 76ms/step - loss: 0.2591 - auc: 0.9591 - val_loss: 0.3327 - val_auc: 0.9548\n",
      "Epoch 7/50\n",
      "82/82 [==============================] - 6s 76ms/step - loss: 0.2244 - auc: 0.9694 - val_loss: 0.2582 - val_auc: 0.9595\n",
      "Epoch 8/50\n",
      "82/82 [==============================] - 7s 82ms/step - loss: 0.2127 - auc: 0.9726 - val_loss: 0.2437 - val_auc: 0.9645\n",
      "Epoch 9/50\n",
      "82/82 [==============================] - 6s 76ms/step - loss: 0.1907 - auc: 0.9778 - val_loss: 0.2886 - val_auc: 0.9627\n",
      "\n",
      "Epoch 00009: ReduceLROnPlateau reducing learning rate to 0.0006400000303983689.\n",
      "Epoch 10/50\n",
      "82/82 [==============================] - 6s 76ms/step - loss: 0.1732 - auc: 0.9819 - val_loss: 0.2658 - val_auc: 0.9643\n",
      "Epoch 11/50\n",
      "82/82 [==============================] - 6s 76ms/step - loss: 0.1209 - auc: 0.9904 - val_loss: 0.2806 - val_auc: 0.9615\n",
      "Epoch 12/50\n",
      "82/82 [==============================] - 6s 77ms/step - loss: 0.1131 - auc: 0.9917 - val_loss: 0.2649 - val_auc: 0.9637\n",
      "Epoch 13/50\n",
      "82/82 [==============================] - 6s 76ms/step - loss: 0.1028 - auc: 0.9930 - val_loss: 0.2692 - val_auc: 0.9615\n",
      "Restoring model weights from the end of the best epoch.\n",
      "\n",
      "Epoch 00013: ReduceLROnPlateau reducing learning rate to 0.0005120000336319208.\n",
      "Epoch 00013: early stopping\n"
     ]
    },
    {
     "data": {
      "image/png": "[encoded data removed]",
      "text/plain": [
       "<Figure size 432x288 with 1 Axes>"
      ]
     },
     "metadata": {
      "needs_background": "light"
     },
     "output_type": "display_data"
    },
    {
     "name": "stdout",
     "output_type": "stream",
     "text": [
      "fold 5\n",
      "****************************************\n",
      "Epoch 1/50\n",
      "82/82 [==============================] - 45s 264ms/step - loss: 0.6705 - auc: 0.6177 - val_loss: 0.5216 - val_auc: 0.8151\n",
      "Epoch 2/50\n",
      "82/82 [==============================] - 6s 77ms/step - loss: 0.4907 - auc: 0.8381 - val_loss: 0.4959 - val_auc: 0.8755\n",
      "Epoch 3/50\n",
      "82/82 [==============================] - 6s 77ms/step - loss: 0.4188 - auc: 0.8886 - val_loss: 0.4214 - val_auc: 0.9064\n",
      "Epoch 4/50\n",
      "82/82 [==============================] - 6s 76ms/step - loss: 0.3526 - auc: 0.9239 - val_loss: 0.3479 - val_auc: 0.9345\n",
      "Epoch 5/50\n",
      "82/82 [==============================] - 6s 76ms/step - loss: 0.3033 - auc: 0.9440 - val_loss: 0.3276 - val_auc: 0.9386\n",
      "\n",
      "Epoch 00005: ReduceLROnPlateau reducing learning rate to 0.000800000037997961.\n",
      "Epoch 6/50\n",
      "82/82 [==============================] - 6s 77ms/step - loss: 0.2504 - auc: 0.9619 - val_loss: 0.2827 - val_auc: 0.9515\n",
      "Epoch 7/50\n",
      "82/82 [==============================] - 6s 76ms/step - loss: 0.2204 - auc: 0.9704 - val_loss: 0.3294 - val_auc: 0.9418\n",
      "Epoch 8/50\n",
      "82/82 [==============================] - 7s 81ms/step - loss: 0.2489 - auc: 0.9620 - val_loss: 0.2822 - val_auc: 0.9548\n",
      "Epoch 9/50\n",
      "82/82 [==============================] - 6s 76ms/step - loss: 0.1924 - auc: 0.9773 - val_loss: 0.2818 - val_auc: 0.9564\n",
      "\n",
      "Epoch 00009: ReduceLROnPlateau reducing learning rate to 0.0006400000303983689.\n",
      "Epoch 10/50\n",
      "82/82 [==============================] - 6s 77ms/step - loss: 0.1603 - auc: 0.9842 - val_loss: 0.3075 - val_auc: 0.9582\n",
      "Epoch 11/50\n",
      "82/82 [==============================] - 6s 76ms/step - loss: 0.1333 - auc: 0.9887 - val_loss: 0.2793 - val_auc: 0.9592\n",
      "Epoch 12/50\n",
      "82/82 [==============================] - 6s 76ms/step - loss: 0.1170 - auc: 0.9913 - val_loss: 0.2872 - val_auc: 0.9574\n",
      "Epoch 13/50\n",
      "82/82 [==============================] - 6s 76ms/step - loss: 0.1123 - auc: 0.9918 - val_loss: 0.3039 - val_auc: 0.9583\n",
      "\n",
      "Epoch 00013: ReduceLROnPlateau reducing learning rate to 0.0005120000336319208.\n",
      "Epoch 14/50\n",
      "82/82 [==============================] - 6s 76ms/step - loss: 0.0928 - auc: 0.9942 - val_loss: 0.3396 - val_auc: 0.9545\n",
      "Epoch 15/50\n",
      "82/82 [==============================] - 6s 76ms/step - loss: 0.0726 - auc: 0.9961 - val_loss: 0.3316 - val_auc: 0.9561\n",
      "Epoch 16/50\n",
      "82/82 [==============================] - 6s 76ms/step - loss: 0.0588 - auc: 0.9974 - val_loss: 0.3658 - val_auc: 0.9527\n",
      "Restoring model weights from the end of the best epoch.\n",
      "Epoch 00016: early stopping\n"
     ]
    },
    {
     "data": {
      "image/png": "[encoded data removed]",
      "text/plain": [
       "<Figure size 432x288 with 1 Axes>"
      ]
     },
     "metadata": {
      "needs_background": "light"
     },
     "output_type": "display_data"
    },
    {
     "name": "stdout",
     "output_type": "stream",
     "text": [
      "CPU times: user 3min 36s, sys: 32.4 s, total: 4min 8s\n",
      "Wall time: 12min 51s\n"
     ]
    }
   ],
   "source": [
    "%%time\n",
    "\n",
    "from sklearn.model_selection import KFold, StratifiedKFold\n",
    "from tensorflow.keras.layers import *\n",
    "from tensorflow.keras import *\n",
    "from tensorflow.keras.callbacks import *\n",
    "\n",
    "skf = KFold(n_splits = 5, shuffle = True, random_state = 2022)\n",
    "preds = []\n",
    "\n",
    "for fold, (train_idx, val_idx) in enumerate(skf.split(train, y)):\n",
    "    print('fold', fold+1)\n",
    "    print('*'*40)\n",
    "    \n",
    "    X_train, X_valid = train[train_idx], train[val_idx]\n",
    "    y_train, y_valid = y[train_idx], y[val_idx]\n",
    "    \n",
    "    es = EarlyStopping(monitor = 'val_auc', mode = 'max', patience = 5, verbose = 1, restore_best_weights = True)\n",
    "    lr = ReduceLROnPlateau(monitor=\"val_auc\", factor=0.8, \n",
    "                               patience=4, verbose = 1)\n",
    "    model = createModel()\n",
    "    \n",
    "    history = model.fit(X_train, y_train, validation_data = (X_valid, y_valid),\n",
    "                       epochs = 50, batch_size = 256, callbacks = [es, lr])\n",
    "    \n",
    "    preds.append(model.predict(test).squeeze())\n",
    "    plotHist(history)\n",
    "    \n",
    "    del X_train, X_valid, y_train, y_valid, model, history\n",
    "    gc.collect()\n",
    "    "
   ]
  },
  {
   "cell_type": "markdown",
   "id": "323ea474",
   "metadata": {
    "papermill": {
     "duration": 2.103496,
     "end_time": "2022-04-05T00:19:26.927145",
     "exception": false,
     "start_time": "2022-04-05T00:19:24.823649",
     "status": "completed"
    },
    "tags": []
   },
   "source": [
    "# Submission"
   ]
  },
  {
   "cell_type": "code",
   "execution_count": 13,
   "id": "29620e70",
   "metadata": {
    "execution": {
     "iopub.execute_input": "2022-04-05T00:19:30.927030Z",
     "iopub.status.busy": "2022-04-05T00:19:30.926259Z",
     "iopub.status.idle": "2022-04-05T00:19:30.986897Z",
     "shell.execute_reply": "2022-04-05T00:19:30.986364Z"
    },
    "papermill": {
     "duration": 2.055896,
     "end_time": "2022-04-05T00:19:30.987035",
     "exception": false,
     "start_time": "2022-04-05T00:19:28.931139",
     "status": "completed"
    },
    "tags": []
   },
   "outputs": [
    {
     "data": {
      "text/html": [
       "<div>\n",
       "<style scoped>\n",
       "    .dataframe tbody tr th:only-of-type {\n",
       "        vertical-align: middle;\n",
       "    }\n",
       "\n",
       "    .dataframe tbody tr th {\n",
       "        vertical-align: top;\n",
       "    }\n",
       "\n",
       "    .dataframe thead th {\n",
       "        text-align: right;\n",
       "    }\n",
       "</style>\n",
       "<table border=\"1\" class=\"dataframe\">\n",
       "  <thead>\n",
       "    <tr style=\"text-align: right;\">\n",
       "      <th></th>\n",
       "      <th>sequence</th>\n",
       "      <th>state</th>\n",
       "    </tr>\n",
       "  </thead>\n",
       "  <tbody>\n",
       "    <tr>\n",
       "      <th>0</th>\n",
       "      <td>25968</td>\n",
       "      <td>0.993004</td>\n",
       "    </tr>\n",
       "    <tr>\n",
       "      <th>1</th>\n",
       "      <td>25969</td>\n",
       "      <td>0.989543</td>\n",
       "    </tr>\n",
       "    <tr>\n",
       "      <th>2</th>\n",
       "      <td>25970</td>\n",
       "      <td>0.017511</td>\n",
       "    </tr>\n",
       "    <tr>\n",
       "      <th>3</th>\n",
       "      <td>25971</td>\n",
       "      <td>0.743935</td>\n",
       "    </tr>\n",
       "    <tr>\n",
       "      <th>4</th>\n",
       "      <td>25972</td>\n",
       "      <td>0.599216</td>\n",
       "    </tr>\n",
       "    <tr>\n",
       "      <th>...</th>\n",
       "      <td>...</td>\n",
       "      <td>...</td>\n",
       "    </tr>\n",
       "    <tr>\n",
       "      <th>12213</th>\n",
       "      <td>38181</td>\n",
       "      <td>0.444352</td>\n",
       "    </tr>\n",
       "    <tr>\n",
       "      <th>12214</th>\n",
       "      <td>38182</td>\n",
       "      <td>0.828131</td>\n",
       "    </tr>\n",
       "    <tr>\n",
       "      <th>12215</th>\n",
       "      <td>38183</td>\n",
       "      <td>0.296169</td>\n",
       "    </tr>\n",
       "    <tr>\n",
       "      <th>12216</th>\n",
       "      <td>38184</td>\n",
       "      <td>0.061713</td>\n",
       "    </tr>\n",
       "    <tr>\n",
       "      <th>12217</th>\n",
       "      <td>38185</td>\n",
       "      <td>0.021247</td>\n",
       "    </tr>\n",
       "  </tbody>\n",
       "</table>\n",
       "<p>12218 rows × 2 columns</p>\n",
       "</div>"
      ],
      "text/plain": [
       "       sequence     state\n",
       "0         25968  0.993004\n",
       "1         25969  0.989543\n",
       "2         25970  0.017511\n",
       "3         25971  0.743935\n",
       "4         25972  0.599216\n",
       "...         ...       ...\n",
       "12213     38181  0.444352\n",
       "12214     38182  0.828131\n",
       "12215     38183  0.296169\n",
       "12216     38184  0.061713\n",
       "12217     38185  0.021247\n",
       "\n",
       "[12218 rows x 2 columns]"
      ]
     },
     "execution_count": 13,
     "metadata": {},
     "output_type": "execute_result"
    }
   ],
   "source": [
    "sub[\"state\"] = sum(preds)/skf.n_splits \n",
    "sub.to_csv('submission.csv', index=False)\n",
    "sub"
   ]
  },
  {
   "cell_type": "code",
   "execution_count": null,
   "id": "149012ce",
   "metadata": {
    "papermill": {
     "duration": 2.070793,
     "end_time": "2022-04-05T00:19:35.017543",
     "exception": false,
     "start_time": "2022-04-05T00:19:32.946750",
     "status": "completed"
    },
    "tags": []
   },
   "outputs": [],
   "source": []
  }
 ],
 "metadata": {
  "kernelspec": {
   "display_name": "Python 3",
   "language": "python",
   "name": "python3"
  },
  "language_info": {
   "codemirror_mode": {
    "name": "ipython",
    "version": 3
   },
   "file_extension": ".py",
   "mimetype": "text/x-python",
   "name": "python",
   "nbconvert_exporter": "python",
   "pygments_lexer": "ipython3",
   "version": "3.7.10"
  },
  "papermill": {
   "default_parameters": {},
   "duration": 832.599733,
   "end_time": "2022-04-05T00:19:40.258217",
   "environment_variables": {},
   "exception": null,
   "input_path": "__notebook__.ipynb",
   "output_path": "__notebook__.ipynb",
   "parameters": {},
   "start_time": "2022-04-05T00:05:47.658484",
   "version": "2.3.3"
  }
 },
 "nbformat": 4,
 "nbformat_minor": 5
}
