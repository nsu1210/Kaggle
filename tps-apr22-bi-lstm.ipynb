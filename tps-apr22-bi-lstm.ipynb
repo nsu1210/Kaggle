{
 "cells": [
  {
   "cell_type": "code",
   "execution_count": 1,
   "id": "a4cfbda3",
   "metadata": {
    "execution": {
     "iopub.execute_input": "2022-04-05T00:23:32.431359Z",
     "iopub.status.busy": "2022-04-05T00:23:32.430177Z",
     "iopub.status.idle": "2022-04-05T00:23:33.375524Z",
     "shell.execute_reply": "2022-04-05T00:23:33.374774Z",
     "shell.execute_reply.started": "2022-04-05T00:15:19.579637Z"
    },
    "papermill": {
     "duration": 0.964329,
     "end_time": "2022-04-05T00:23:33.375698",
     "exception": false,
     "start_time": "2022-04-05T00:23:32.411369",
     "status": "completed"
    },
    "tags": []
   },
   "outputs": [],
   "source": [
    "import numpy as np\n",
    "import pandas as pd\n",
    "import matplotlib.pyplot as plt\n",
    "import seaborn as sns\n",
    "\n",
    "import warnings\n",
    "warnings.filterwarnings('ignore')\n",
    "import os\n",
    "import gc\n",
    "\n"
   ]
  },
  {
   "cell_type": "code",
   "execution_count": 2,
   "id": "70f6166b",
   "metadata": {
    "execution": {
     "iopub.execute_input": "2022-04-05T00:23:33.410990Z",
     "iopub.status.busy": "2022-04-05T00:23:33.410274Z",
     "iopub.status.idle": "2022-04-05T00:23:46.662558Z",
     "shell.execute_reply": "2022-04-05T00:23:46.661563Z",
     "shell.execute_reply.started": "2022-04-05T00:15:19.602126Z"
    },
    "papermill": {
     "duration": 13.272496,
     "end_time": "2022-04-05T00:23:46.662780",
     "exception": false,
     "start_time": "2022-04-05T00:23:33.390284",
     "status": "completed"
    },
    "tags": []
   },
   "outputs": [
    {
     "name": "stdout",
     "output_type": "stream",
     "text": [
      "(1558080, 16)\n",
      "(733080, 16)\n",
      "(12218, 2)\n",
      "label (25968, 2)\n"
     ]
    }
   ],
   "source": [
    "train = pd.read_csv('../input/tabular-playground-series-apr-2022/train.csv')\n",
    "test = pd.read_csv('../input/tabular-playground-series-apr-2022/test.csv')\n",
    "print(train.shape)\n",
    "print(test.shape)\n",
    "\n",
    "sub = pd.read_csv(\"../input/tabular-playground-series-apr-2022/sample_submission.csv\")\n",
    "print(sub.shape)\n",
    "labels = pd.read_csv('../input/tabular-playground-series-apr-2022/train_labels.csv')\n",
    "print('label', labels.shape)"
   ]
  },
  {
   "cell_type": "code",
   "execution_count": 3,
   "id": "04ded0a7",
   "metadata": {
    "execution": {
     "iopub.execute_input": "2022-04-05T00:23:46.710861Z",
     "iopub.status.busy": "2022-04-05T00:23:46.705376Z",
     "iopub.status.idle": "2022-04-05T00:23:46.978521Z",
     "shell.execute_reply": "2022-04-05T00:23:46.979051Z",
     "shell.execute_reply.started": "2022-04-05T00:15:27.101596Z"
    },
    "papermill": {
     "duration": 0.30031,
     "end_time": "2022-04-05T00:23:46.979246",
     "exception": false,
     "start_time": "2022-04-05T00:23:46.678936",
     "status": "completed"
    },
    "tags": []
   },
   "outputs": [
    {
     "data": {
      "text/html": [
       "<div>\n",
       "<style scoped>\n",
       "    .dataframe tbody tr th:only-of-type {\n",
       "        vertical-align: middle;\n",
       "    }\n",
       "\n",
       "    .dataframe tbody tr th {\n",
       "        vertical-align: top;\n",
       "    }\n",
       "\n",
       "    .dataframe thead th {\n",
       "        text-align: right;\n",
       "    }\n",
       "</style>\n",
       "<table border=\"1\" class=\"dataframe\">\n",
       "  <thead>\n",
       "    <tr style=\"text-align: right;\">\n",
       "      <th></th>\n",
       "      <th>sequence</th>\n",
       "      <th>subject</th>\n",
       "      <th>step</th>\n",
       "      <th>sensor_00</th>\n",
       "      <th>sensor_01</th>\n",
       "      <th>sensor_02</th>\n",
       "      <th>sensor_03</th>\n",
       "      <th>sensor_04</th>\n",
       "      <th>sensor_05</th>\n",
       "      <th>sensor_06</th>\n",
       "      <th>sensor_07</th>\n",
       "      <th>sensor_08</th>\n",
       "      <th>sensor_09</th>\n",
       "      <th>sensor_10</th>\n",
       "      <th>sensor_11</th>\n",
       "      <th>sensor_12</th>\n",
       "      <th>state</th>\n",
       "    </tr>\n",
       "  </thead>\n",
       "  <tbody>\n",
       "    <tr>\n",
       "      <th>0</th>\n",
       "      <td>0</td>\n",
       "      <td>47</td>\n",
       "      <td>0</td>\n",
       "      <td>-0.196291</td>\n",
       "      <td>0.112395</td>\n",
       "      <td>1.0</td>\n",
       "      <td>0.329204</td>\n",
       "      <td>-1.004660</td>\n",
       "      <td>-0.131638</td>\n",
       "      <td>-0.127505</td>\n",
       "      <td>0.368702</td>\n",
       "      <td>-0.1</td>\n",
       "      <td>-0.963873</td>\n",
       "      <td>-0.985069</td>\n",
       "      <td>0.531893</td>\n",
       "      <td>4.751492</td>\n",
       "      <td>0</td>\n",
       "    </tr>\n",
       "    <tr>\n",
       "      <th>1</th>\n",
       "      <td>0</td>\n",
       "      <td>47</td>\n",
       "      <td>1</td>\n",
       "      <td>-0.447450</td>\n",
       "      <td>0.134454</td>\n",
       "      <td>1.0</td>\n",
       "      <td>-0.658407</td>\n",
       "      <td>0.162495</td>\n",
       "      <td>0.340314</td>\n",
       "      <td>-0.209472</td>\n",
       "      <td>-0.867176</td>\n",
       "      <td>0.2</td>\n",
       "      <td>-0.301301</td>\n",
       "      <td>0.082733</td>\n",
       "      <td>-0.231481</td>\n",
       "      <td>0.454390</td>\n",
       "      <td>0</td>\n",
       "    </tr>\n",
       "    <tr>\n",
       "      <th>2</th>\n",
       "      <td>0</td>\n",
       "      <td>47</td>\n",
       "      <td>2</td>\n",
       "      <td>0.326893</td>\n",
       "      <td>-0.694328</td>\n",
       "      <td>1.0</td>\n",
       "      <td>0.330088</td>\n",
       "      <td>0.473678</td>\n",
       "      <td>1.280479</td>\n",
       "      <td>-0.094718</td>\n",
       "      <td>0.535878</td>\n",
       "      <td>1.4</td>\n",
       "      <td>1.002168</td>\n",
       "      <td>0.449221</td>\n",
       "      <td>-0.586420</td>\n",
       "      <td>-4.736147</td>\n",
       "      <td>0</td>\n",
       "    </tr>\n",
       "    <tr>\n",
       "      <th>3</th>\n",
       "      <td>0</td>\n",
       "      <td>47</td>\n",
       "      <td>3</td>\n",
       "      <td>0.523184</td>\n",
       "      <td>0.751050</td>\n",
       "      <td>1.0</td>\n",
       "      <td>0.976991</td>\n",
       "      <td>-0.563287</td>\n",
       "      <td>-0.720269</td>\n",
       "      <td>0.793260</td>\n",
       "      <td>0.951145</td>\n",
       "      <td>-0.3</td>\n",
       "      <td>-0.995665</td>\n",
       "      <td>-0.434290</td>\n",
       "      <td>1.344650</td>\n",
       "      <td>0.429241</td>\n",
       "      <td>0</td>\n",
       "    </tr>\n",
       "    <tr>\n",
       "      <th>4</th>\n",
       "      <td>0</td>\n",
       "      <td>47</td>\n",
       "      <td>4</td>\n",
       "      <td>0.272025</td>\n",
       "      <td>1.074580</td>\n",
       "      <td>1.0</td>\n",
       "      <td>-0.136283</td>\n",
       "      <td>0.398579</td>\n",
       "      <td>0.044877</td>\n",
       "      <td>0.560109</td>\n",
       "      <td>-0.541985</td>\n",
       "      <td>-0.9</td>\n",
       "      <td>1.055636</td>\n",
       "      <td>0.812631</td>\n",
       "      <td>0.123457</td>\n",
       "      <td>-0.223359</td>\n",
       "      <td>0</td>\n",
       "    </tr>\n",
       "  </tbody>\n",
       "</table>\n",
       "</div>"
      ],
      "text/plain": [
       "   sequence  subject  step  sensor_00  sensor_01  sensor_02  sensor_03  \\\n",
       "0         0       47     0  -0.196291   0.112395        1.0   0.329204   \n",
       "1         0       47     1  -0.447450   0.134454        1.0  -0.658407   \n",
       "2         0       47     2   0.326893  -0.694328        1.0   0.330088   \n",
       "3         0       47     3   0.523184   0.751050        1.0   0.976991   \n",
       "4         0       47     4   0.272025   1.074580        1.0  -0.136283   \n",
       "\n",
       "   sensor_04  sensor_05  sensor_06  sensor_07  sensor_08  sensor_09  \\\n",
       "0  -1.004660  -0.131638  -0.127505   0.368702       -0.1  -0.963873   \n",
       "1   0.162495   0.340314  -0.209472  -0.867176        0.2  -0.301301   \n",
       "2   0.473678   1.280479  -0.094718   0.535878        1.4   1.002168   \n",
       "3  -0.563287  -0.720269   0.793260   0.951145       -0.3  -0.995665   \n",
       "4   0.398579   0.044877   0.560109  -0.541985       -0.9   1.055636   \n",
       "\n",
       "   sensor_10  sensor_11  sensor_12  state  \n",
       "0  -0.985069   0.531893   4.751492      0  \n",
       "1   0.082733  -0.231481   0.454390      0  \n",
       "2   0.449221  -0.586420  -4.736147      0  \n",
       "3  -0.434290   1.344650   0.429241      0  \n",
       "4   0.812631   0.123457  -0.223359      0  "
      ]
     },
     "execution_count": 3,
     "metadata": {},
     "output_type": "execute_result"
    }
   ],
   "source": [
    "features = [c for c in train.columns if 'sensor' in c]\n",
    "\n",
    "# adding labels to train data\n",
    "train = pd.merge(train, labels,how='left', on=\"sequence\")\n",
    "train.head()"
   ]
  },
  {
   "cell_type": "markdown",
   "id": "bcafdd5b",
   "metadata": {
    "papermill": {
     "duration": 0.015095,
     "end_time": "2022-04-05T00:23:47.010371",
     "exception": false,
     "start_time": "2022-04-05T00:23:46.995276",
     "status": "completed"
    },
    "tags": []
   },
   "source": [
    "# FE"
   ]
  },
  {
   "cell_type": "code",
   "execution_count": 4,
   "id": "c9644d83",
   "metadata": {
    "execution": {
     "iopub.execute_input": "2022-04-05T00:23:47.049302Z",
     "iopub.status.busy": "2022-04-05T00:23:47.048580Z",
     "iopub.status.idle": "2022-04-05T00:23:48.572776Z",
     "shell.execute_reply": "2022-04-05T00:23:48.573332Z",
     "shell.execute_reply.started": "2022-04-05T00:15:27.349922Z"
    },
    "papermill": {
     "duration": 1.547829,
     "end_time": "2022-04-05T00:23:48.573513",
     "exception": false,
     "start_time": "2022-04-05T00:23:47.025684",
     "status": "completed"
    },
    "tags": []
   },
   "outputs": [
    {
     "name": "stdout",
     "output_type": "stream",
     "text": [
      "(1558080, 43)\n",
      "(733080, 42)\n"
     ]
    },
    {
     "data": {
      "text/html": [
       "<div>\n",
       "<style scoped>\n",
       "    .dataframe tbody tr th:only-of-type {\n",
       "        vertical-align: middle;\n",
       "    }\n",
       "\n",
       "    .dataframe tbody tr th {\n",
       "        vertical-align: top;\n",
       "    }\n",
       "\n",
       "    .dataframe thead th {\n",
       "        text-align: right;\n",
       "    }\n",
       "</style>\n",
       "<table border=\"1\" class=\"dataframe\">\n",
       "  <thead>\n",
       "    <tr style=\"text-align: right;\">\n",
       "      <th></th>\n",
       "      <th>sequence</th>\n",
       "      <th>subject</th>\n",
       "      <th>step</th>\n",
       "      <th>sensor_00</th>\n",
       "      <th>sensor_01</th>\n",
       "      <th>sensor_02</th>\n",
       "      <th>sensor_03</th>\n",
       "      <th>sensor_04</th>\n",
       "      <th>sensor_05</th>\n",
       "      <th>sensor_06</th>\n",
       "      <th>...</th>\n",
       "      <th>sensor_08_lag1</th>\n",
       "      <th>sensor_08_diff1</th>\n",
       "      <th>sensor_09_lag1</th>\n",
       "      <th>sensor_09_diff1</th>\n",
       "      <th>sensor_10_lag1</th>\n",
       "      <th>sensor_10_diff1</th>\n",
       "      <th>sensor_11_lag1</th>\n",
       "      <th>sensor_11_diff1</th>\n",
       "      <th>sensor_12_lag1</th>\n",
       "      <th>sensor_12_diff1</th>\n",
       "    </tr>\n",
       "  </thead>\n",
       "  <tbody>\n",
       "    <tr>\n",
       "      <th>0</th>\n",
       "      <td>0</td>\n",
       "      <td>47</td>\n",
       "      <td>0</td>\n",
       "      <td>-0.196291</td>\n",
       "      <td>0.112395</td>\n",
       "      <td>1.0</td>\n",
       "      <td>0.329204</td>\n",
       "      <td>-1.004660</td>\n",
       "      <td>-0.131638</td>\n",
       "      <td>-0.127505</td>\n",
       "      <td>...</td>\n",
       "      <td>0.0</td>\n",
       "      <td>-0.1</td>\n",
       "      <td>0.000000</td>\n",
       "      <td>-0.963873</td>\n",
       "      <td>0.000000</td>\n",
       "      <td>-0.985069</td>\n",
       "      <td>0.000000</td>\n",
       "      <td>0.531893</td>\n",
       "      <td>0.000000</td>\n",
       "      <td>4.751492</td>\n",
       "    </tr>\n",
       "    <tr>\n",
       "      <th>1</th>\n",
       "      <td>0</td>\n",
       "      <td>47</td>\n",
       "      <td>1</td>\n",
       "      <td>-0.447450</td>\n",
       "      <td>0.134454</td>\n",
       "      <td>1.0</td>\n",
       "      <td>-0.658407</td>\n",
       "      <td>0.162495</td>\n",
       "      <td>0.340314</td>\n",
       "      <td>-0.209472</td>\n",
       "      <td>...</td>\n",
       "      <td>-0.1</td>\n",
       "      <td>0.3</td>\n",
       "      <td>-0.963873</td>\n",
       "      <td>0.662572</td>\n",
       "      <td>-0.985069</td>\n",
       "      <td>1.067802</td>\n",
       "      <td>0.531893</td>\n",
       "      <td>-0.763375</td>\n",
       "      <td>4.751492</td>\n",
       "      <td>-4.297101</td>\n",
       "    </tr>\n",
       "    <tr>\n",
       "      <th>2</th>\n",
       "      <td>0</td>\n",
       "      <td>47</td>\n",
       "      <td>2</td>\n",
       "      <td>0.326893</td>\n",
       "      <td>-0.694328</td>\n",
       "      <td>1.0</td>\n",
       "      <td>0.330088</td>\n",
       "      <td>0.473678</td>\n",
       "      <td>1.280479</td>\n",
       "      <td>-0.094718</td>\n",
       "      <td>...</td>\n",
       "      <td>0.2</td>\n",
       "      <td>1.2</td>\n",
       "      <td>-0.301301</td>\n",
       "      <td>1.303468</td>\n",
       "      <td>0.082733</td>\n",
       "      <td>0.366488</td>\n",
       "      <td>-0.231481</td>\n",
       "      <td>-0.354938</td>\n",
       "      <td>0.454390</td>\n",
       "      <td>-5.190537</td>\n",
       "    </tr>\n",
       "    <tr>\n",
       "      <th>3</th>\n",
       "      <td>0</td>\n",
       "      <td>47</td>\n",
       "      <td>3</td>\n",
       "      <td>0.523184</td>\n",
       "      <td>0.751050</td>\n",
       "      <td>1.0</td>\n",
       "      <td>0.976991</td>\n",
       "      <td>-0.563287</td>\n",
       "      <td>-0.720269</td>\n",
       "      <td>0.793260</td>\n",
       "      <td>...</td>\n",
       "      <td>1.4</td>\n",
       "      <td>-1.7</td>\n",
       "      <td>1.002168</td>\n",
       "      <td>-1.997832</td>\n",
       "      <td>0.449221</td>\n",
       "      <td>-0.883511</td>\n",
       "      <td>-0.586420</td>\n",
       "      <td>1.931070</td>\n",
       "      <td>-4.736146</td>\n",
       "      <td>5.165388</td>\n",
       "    </tr>\n",
       "    <tr>\n",
       "      <th>4</th>\n",
       "      <td>0</td>\n",
       "      <td>47</td>\n",
       "      <td>4</td>\n",
       "      <td>0.272025</td>\n",
       "      <td>1.074580</td>\n",
       "      <td>1.0</td>\n",
       "      <td>-0.136283</td>\n",
       "      <td>0.398579</td>\n",
       "      <td>0.044877</td>\n",
       "      <td>0.560109</td>\n",
       "      <td>...</td>\n",
       "      <td>-0.3</td>\n",
       "      <td>-0.6</td>\n",
       "      <td>-0.995665</td>\n",
       "      <td>2.051301</td>\n",
       "      <td>-0.434290</td>\n",
       "      <td>1.246921</td>\n",
       "      <td>1.344650</td>\n",
       "      <td>-1.221193</td>\n",
       "      <td>0.429241</td>\n",
       "      <td>-0.652600</td>\n",
       "    </tr>\n",
       "  </tbody>\n",
       "</table>\n",
       "<p>5 rows × 43 columns</p>\n",
       "</div>"
      ],
      "text/plain": [
       "   sequence  subject  step  sensor_00  sensor_01  sensor_02  sensor_03  \\\n",
       "0         0       47     0  -0.196291   0.112395        1.0   0.329204   \n",
       "1         0       47     1  -0.447450   0.134454        1.0  -0.658407   \n",
       "2         0       47     2   0.326893  -0.694328        1.0   0.330088   \n",
       "3         0       47     3   0.523184   0.751050        1.0   0.976991   \n",
       "4         0       47     4   0.272025   1.074580        1.0  -0.136283   \n",
       "\n",
       "   sensor_04  sensor_05  sensor_06  ...  sensor_08_lag1  sensor_08_diff1  \\\n",
       "0  -1.004660  -0.131638  -0.127505  ...             0.0             -0.1   \n",
       "1   0.162495   0.340314  -0.209472  ...            -0.1              0.3   \n",
       "2   0.473678   1.280479  -0.094718  ...             0.2              1.2   \n",
       "3  -0.563287  -0.720269   0.793260  ...             1.4             -1.7   \n",
       "4   0.398579   0.044877   0.560109  ...            -0.3             -0.6   \n",
       "\n",
       "   sensor_09_lag1  sensor_09_diff1  sensor_10_lag1  sensor_10_diff1  \\\n",
       "0        0.000000        -0.963873        0.000000        -0.985069   \n",
       "1       -0.963873         0.662572       -0.985069         1.067802   \n",
       "2       -0.301301         1.303468        0.082733         0.366488   \n",
       "3        1.002168        -1.997832        0.449221        -0.883511   \n",
       "4       -0.995665         2.051301       -0.434290         1.246921   \n",
       "\n",
       "   sensor_11_lag1  sensor_11_diff1  sensor_12_lag1  sensor_12_diff1  \n",
       "0        0.000000         0.531893        0.000000         4.751492  \n",
       "1        0.531893        -0.763375        4.751492        -4.297101  \n",
       "2       -0.231481        -0.354938        0.454390        -5.190537  \n",
       "3       -0.586420         1.931070       -4.736146         5.165388  \n",
       "4        1.344650        -1.221193        0.429241        -0.652600  \n",
       "\n",
       "[5 rows x 43 columns]"
      ]
     },
     "execution_count": 4,
     "metadata": {},
     "output_type": "execute_result"
    }
   ],
   "source": [
    "def addFeatures(df):  \n",
    "    \n",
    "    for f in features:\n",
    "        df[f + '_lag1'] = df.groupby('sequence')[f].shift(1).fillna(0).astype('float32')\n",
    "        \n",
    "        #df[f + '_lag_back1'] = df.groupby('sequence')[f].shift(-1).fillna(0).astype('float32')\n",
    "        #df[f + '_cumsum'] = df.groupby('sequence')[f].cumsum().astype('float32')\n",
    "        df[f + '_diff1'] = (df[f] - df[f + '_lag1']).astype('float32')\n",
    "    return df\n",
    "\n",
    "train = addFeatures(train)\n",
    "test = addFeatures(test)\n",
    "\n",
    "print(train.shape)\n",
    "print(test.shape)\n",
    "train.head()"
   ]
  },
  {
   "cell_type": "code",
   "execution_count": 5,
   "id": "443fef55",
   "metadata": {
    "execution": {
     "iopub.execute_input": "2022-04-05T00:23:48.616770Z",
     "iopub.status.busy": "2022-04-05T00:23:48.609918Z",
     "iopub.status.idle": "2022-04-05T00:23:49.076283Z",
     "shell.execute_reply": "2022-04-05T00:23:49.076802Z",
     "shell.execute_reply.started": "2022-04-05T00:15:28.867509Z"
    },
    "papermill": {
     "duration": 0.487492,
     "end_time": "2022-04-05T00:23:49.076989",
     "exception": false,
     "start_time": "2022-04-05T00:23:48.589497",
     "status": "completed"
    },
    "tags": []
   },
   "outputs": [
    {
     "data": {
      "text/plain": [
       "array([[0, 0, 0, ..., 0, 0, 0],\n",
       "       [1, 1, 1, ..., 1, 1, 1],\n",
       "       [1, 1, 1, ..., 1, 1, 1],\n",
       "       ...,\n",
       "       [1, 1, 1, ..., 1, 1, 1],\n",
       "       [1, 1, 1, ..., 1, 1, 1],\n",
       "       [0, 0, 0, ..., 0, 0, 0]])"
      ]
     },
     "execution_count": 5,
     "metadata": {},
     "output_type": "execute_result"
    }
   ],
   "source": [
    "Window = 60\n",
    "\n",
    "groups = train[\"sequence\"]\n",
    "#labels = labels[\"state\"]\n",
    "\n",
    "y = train['state'].to_numpy().reshape(-1, Window)\n",
    "train.drop([\"sequence\",\"step\",\"subject\",\"state\"], axis=1, inplace=True)\n",
    "test.drop([\"sequence\",\"step\",\"subject\"], axis=1, inplace=True)\n",
    "y"
   ]
  },
  {
   "cell_type": "code",
   "execution_count": 6,
   "id": "755e54ee",
   "metadata": {
    "execution": {
     "iopub.execute_input": "2022-04-05T00:23:49.113951Z",
     "iopub.status.busy": "2022-04-05T00:23:49.112980Z",
     "iopub.status.idle": "2022-04-05T00:23:49.130292Z",
     "shell.execute_reply": "2022-04-05T00:23:49.130784Z"
    },
    "papermill": {
     "duration": 0.037592,
     "end_time": "2022-04-05T00:23:49.130988",
     "exception": false,
     "start_time": "2022-04-05T00:23:49.093396",
     "status": "completed"
    },
    "tags": []
   },
   "outputs": [
    {
     "data": {
      "text/plain": [
       "array([    0,     1,     2, ..., 25965, 25966, 25967])"
      ]
     },
     "execution_count": 6,
     "metadata": {},
     "output_type": "execute_result"
    }
   ],
   "source": [
    "groups.unique()"
   ]
  },
  {
   "cell_type": "code",
   "execution_count": 7,
   "id": "8f98a62c",
   "metadata": {
    "execution": {
     "iopub.execute_input": "2022-04-05T00:23:49.170244Z",
     "iopub.status.busy": "2022-04-05T00:23:49.169537Z",
     "iopub.status.idle": "2022-04-05T00:23:51.236849Z",
     "shell.execute_reply": "2022-04-05T00:23:51.237480Z",
     "shell.execute_reply.started": "2022-04-05T00:15:29.322651Z"
    },
    "papermill": {
     "duration": 2.089686,
     "end_time": "2022-04-05T00:23:51.237670",
     "exception": false,
     "start_time": "2022-04-05T00:23:49.147984",
     "status": "completed"
    },
    "tags": []
   },
   "outputs": [],
   "source": [
    "from sklearn.preprocessing import StandardScaler, RobustScaler\n",
    "sc = StandardScaler()\n",
    "\n",
    "train = sc.fit_transform(train)\n",
    "test = sc.transform(test)"
   ]
  },
  {
   "cell_type": "code",
   "execution_count": 8,
   "id": "1240dec7",
   "metadata": {
    "execution": {
     "iopub.execute_input": "2022-04-05T00:23:51.276981Z",
     "iopub.status.busy": "2022-04-05T00:23:51.276171Z",
     "iopub.status.idle": "2022-04-05T00:23:51.281622Z",
     "shell.execute_reply": "2022-04-05T00:23:51.282182Z",
     "shell.execute_reply.started": "2022-04-05T00:15:31.238197Z"
    },
    "papermill": {
     "duration": 0.027113,
     "end_time": "2022-04-05T00:23:51.282404",
     "exception": false,
     "start_time": "2022-04-05T00:23:51.255291",
     "status": "completed"
    },
    "tags": []
   },
   "outputs": [
    {
     "name": "stdout",
     "output_type": "stream",
     "text": [
      "(25968, 60, 39)\n"
     ]
    }
   ],
   "source": [
    "train = train.reshape(-1, Window, train.shape[-1])\n",
    "test = test.reshape(-1, Window, train.shape[-1])\n",
    "print(train.shape)"
   ]
  },
  {
   "cell_type": "code",
   "execution_count": 9,
   "id": "87e2a631",
   "metadata": {
    "execution": {
     "iopub.execute_input": "2022-04-05T00:23:51.321681Z",
     "iopub.status.busy": "2022-04-05T00:23:51.321008Z",
     "iopub.status.idle": "2022-04-05T00:23:57.471521Z",
     "shell.execute_reply": "2022-04-05T00:23:57.470831Z",
     "shell.execute_reply.started": "2022-04-05T00:15:31.246869Z"
    },
    "papermill": {
     "duration": 6.172151,
     "end_time": "2022-04-05T00:23:57.471689",
     "exception": false,
     "start_time": "2022-04-05T00:23:51.299538",
     "status": "completed"
    },
    "tags": []
   },
   "outputs": [
    {
     "name": "stderr",
     "output_type": "stream",
     "text": [
      "2022-04-05 00:23:52.100045: W tensorflow/stream_executor/platform/default/dso_loader.cc:60] Could not load dynamic library 'libcudart.so.11.0'; dlerror: libcudart.so.11.0: cannot open shared object file: No such file or directory; LD_LIBRARY_PATH: /opt/conda/lib\n",
      "2022-04-05 00:23:52.100164: I tensorflow/stream_executor/cuda/cudart_stub.cc:29] Ignore above cudart dlerror if you do not have a GPU set up on your machine.\n"
     ]
    }
   ],
   "source": [
    "import tensorflow as tf\n",
    "import logging\n",
    "from tensorflow.keras import *"
   ]
  },
  {
   "cell_type": "code",
   "execution_count": 10,
   "id": "a331830a",
   "metadata": {
    "execution": {
     "iopub.execute_input": "2022-04-05T00:23:57.518316Z",
     "iopub.status.busy": "2022-04-05T00:23:57.517177Z",
     "iopub.status.idle": "2022-04-05T00:24:03.402340Z",
     "shell.execute_reply": "2022-04-05T00:24:03.401791Z",
     "shell.execute_reply.started": "2022-04-05T00:15:31.258620Z"
    },
    "papermill": {
     "duration": 5.912716,
     "end_time": "2022-04-05T00:24:03.402497",
     "exception": false,
     "start_time": "2022-04-05T00:23:57.489781",
     "status": "completed"
    },
    "tags": []
   },
   "outputs": [
    {
     "name": "stdout",
     "output_type": "stream",
     "text": [
      "2.4.1\n"
     ]
    },
    {
     "name": "stderr",
     "output_type": "stream",
     "text": [
      "2022-04-05 00:23:57.523447: I tensorflow/compiler/jit/xla_cpu_device.cc:41] Not creating XLA devices, tf_xla_enable_xla_devices not set\n",
      "2022-04-05 00:23:57.527281: W tensorflow/stream_executor/platform/default/dso_loader.cc:60] Could not load dynamic library 'libcuda.so.1'; dlerror: libcuda.so.1: cannot open shared object file: No such file or directory; LD_LIBRARY_PATH: /opt/conda/lib\n",
      "2022-04-05 00:23:57.527325: W tensorflow/stream_executor/cuda/cuda_driver.cc:326] failed call to cuInit: UNKNOWN ERROR (303)\n",
      "2022-04-05 00:23:57.527354: I tensorflow/stream_executor/cuda/cuda_diagnostics.cc:156] kernel driver does not appear to be running on this host (2b18569aff7e): /proc/driver/nvidia/version does not exist\n",
      "2022-04-05 00:23:57.531507: I tensorflow/core/platform/cpu_feature_guard.cc:142] This TensorFlow binary is optimized with oneAPI Deep Neural Network Library (oneDNN) to use the following CPU instructions in performance-critical operations:  AVX2 FMA\n",
      "To enable them in other operations, rebuild TensorFlow with the appropriate compiler flags.\n",
      "2022-04-05 00:23:57.532964: I tensorflow/compiler/jit/xla_gpu_device.cc:99] Not creating XLA devices, tf_xla_enable_xla_devices not set\n",
      "2022-04-05 00:23:57.568582: I tensorflow/core/distributed_runtime/rpc/grpc_channel.cc:301] Initialize GrpcChannelCache for job worker -> {0 -> 10.0.0.2:8470}\n",
      "2022-04-05 00:23:57.568665: I tensorflow/core/distributed_runtime/rpc/grpc_channel.cc:301] Initialize GrpcChannelCache for job localhost -> {0 -> localhost:30019}\n",
      "2022-04-05 00:23:57.594557: I tensorflow/core/distributed_runtime/rpc/grpc_channel.cc:301] Initialize GrpcChannelCache for job worker -> {0 -> 10.0.0.2:8470}\n",
      "2022-04-05 00:23:57.594624: I tensorflow/core/distributed_runtime/rpc/grpc_channel.cc:301] Initialize GrpcChannelCache for job localhost -> {0 -> localhost:30019}\n",
      "2022-04-05 00:23:57.596802: I tensorflow/core/distributed_runtime/rpc/grpc_server_lib.cc:411] Started server with target: grpc://localhost:30019\n"
     ]
    },
    {
     "name": "stdout",
     "output_type": "stream",
     "text": [
      "REPLICAS:  8\n"
     ]
    }
   ],
   "source": [
    "# Detect hardware, return appropriate distribution strategy\n",
    "print(tf.version.VERSION)\n",
    "tf.get_logger().setLevel(logging.ERROR)\n",
    "try: # detect TPU\n",
    "    tpu = None\n",
    "    tpu = tf.distribute.cluster_resolver.TPUClusterResolver()  # TPU detection\n",
    "    tf.config.experimental_connect_to_cluster(tpu)\n",
    "    tf.tpu.experimental.initialize_tpu_system(tpu)\n",
    "    strategy = tf.distribute.experimental.TPUStrategy(tpu)\n",
    "except ValueError: # detect GPU(s) and enable mixed precision\n",
    "    strategy = tf.distribute.MirroredStrategy() # works on GPU and multi-GPU\n",
    "    policy = tf.keras.mixed_precision.experimental.Policy('mixed_float16')\n",
    "    tf.config.optimizer.set_jit(True) # XLA compilation\n",
    "    tf.keras.mixed_precision.experimental.set_policy(policy)\n",
    "    print('Mixed precision enabled')\n",
    "print(\"REPLICAS: \", strategy.num_replicas_in_sync)"
   ]
  },
  {
   "cell_type": "markdown",
   "id": "2400c7d9",
   "metadata": {
    "papermill": {
     "duration": 0.018255,
     "end_time": "2022-04-05T00:24:03.439382",
     "exception": false,
     "start_time": "2022-04-05T00:24:03.421127",
     "status": "completed"
    },
    "tags": []
   },
   "source": [
    "# LSTM"
   ]
  },
  {
   "cell_type": "code",
   "execution_count": 11,
   "id": "6ba453c9",
   "metadata": {
    "execution": {
     "iopub.execute_input": "2022-04-05T00:24:03.484502Z",
     "iopub.status.busy": "2022-04-05T00:24:03.483551Z",
     "iopub.status.idle": "2022-04-05T00:24:03.486419Z",
     "shell.execute_reply": "2022-04-05T00:24:03.485908Z",
     "shell.execute_reply.started": "2022-04-05T00:15:36.914010Z"
    },
    "papermill": {
     "duration": 0.02778,
     "end_time": "2022-04-05T00:24:03.486564",
     "exception": false,
     "start_time": "2022-04-05T00:24:03.458784",
     "status": "completed"
    },
    "tags": []
   },
   "outputs": [],
   "source": [
    "def plotHist(hist):\n",
    "    plt.plot(hist.history[\"auc\"])\n",
    "    plt.plot(hist.history[\"val_auc\"])\n",
    "    plt.title(\"model performance\")\n",
    "    plt.ylabel(\"area_under_curve\")\n",
    "    plt.xlabel(\"epoch\")\n",
    "    plt.legend([\"train\", \"validation\"], loc=\"upper left\")\n",
    "    plt.show()"
   ]
  },
  {
   "cell_type": "code",
   "execution_count": 12,
   "id": "6c891d32",
   "metadata": {
    "execution": {
     "iopub.execute_input": "2022-04-05T00:24:03.532959Z",
     "iopub.status.busy": "2022-04-05T00:24:03.531992Z",
     "iopub.status.idle": "2022-04-05T00:24:03.535193Z",
     "shell.execute_reply": "2022-04-05T00:24:03.534617Z",
     "shell.execute_reply.started": "2022-04-05T00:15:36.922604Z"
    },
    "papermill": {
     "duration": 0.029922,
     "end_time": "2022-04-05T00:24:03.535347",
     "exception": false,
     "start_time": "2022-04-05T00:24:03.505425",
     "status": "completed"
    },
    "tags": []
   },
   "outputs": [],
   "source": [
    "from tensorflow.keras.metrics import AUC\n",
    "\n",
    "def createModel():\n",
    "    with strategy.scope():\n",
    "        model = Sequential(\n",
    "        [\n",
    "            Input(shape = (Window, train.shape[-1])),\n",
    "            Bidirectional(LSTM(768, return_sequences = True)),\n",
    "            Bidirectional(LSTM(512, return_sequences = True)), \n",
    "            Bidirectional(LSTM(256, return_sequences = True)),\n",
    "            Bidirectional(LSTM(128, return_sequences = True)),\n",
    "            Dense(128, activation = 'selu'),\n",
    "            Dense(1, activation = 'sigmoid')\n",
    "        ]\n",
    "        )\n",
    "        model.compile(optimizer = 'adam', loss = 'binary_crossentropy', metrics = [AUC(name = 'auc')]\n",
    "                     )\n",
    "    return (model)"
   ]
  },
  {
   "cell_type": "code",
   "execution_count": 13,
   "id": "ec2b9153",
   "metadata": {
    "execution": {
     "iopub.execute_input": "2022-04-05T00:24:03.581646Z",
     "iopub.status.busy": "2022-04-05T00:24:03.575379Z",
     "iopub.status.idle": "2022-04-05T00:37:35.989681Z",
     "shell.execute_reply": "2022-04-05T00:37:35.990319Z"
    },
    "papermill": {
     "duration": 812.436546,
     "end_time": "2022-04-05T00:37:35.990523",
     "exception": false,
     "start_time": "2022-04-05T00:24:03.553977",
     "status": "completed"
    },
    "tags": []
   },
   "outputs": [
    {
     "name": "stdout",
     "output_type": "stream",
     "text": [
      "fold 1\n",
      "****************************************\n",
      "Epoch 1/50\n",
      "82/82 [==============================] - 43s 254ms/step - loss: 0.6799 - auc: 0.6054 - val_loss: 0.6237 - val_auc: 0.7381\n",
      "Epoch 2/50\n",
      "82/82 [==============================] - 6s 76ms/step - loss: 0.5669 - auc: 0.7767 - val_loss: 0.4654 - val_auc: 0.8680\n",
      "Epoch 3/50\n",
      "82/82 [==============================] - 6s 76ms/step - loss: 0.4624 - auc: 0.8601 - val_loss: 0.4521 - val_auc: 0.8902\n",
      "Epoch 4/50\n",
      "82/82 [==============================] - 6s 77ms/step - loss: 0.3915 - auc: 0.9040 - val_loss: 0.3584 - val_auc: 0.9253\n",
      "Epoch 5/50\n",
      "82/82 [==============================] - 6s 76ms/step - loss: 0.3221 - auc: 0.9361 - val_loss: 0.4094 - val_auc: 0.9132\n",
      "\n",
      "Epoch 00005: ReduceLROnPlateau reducing learning rate to 0.000800000037997961.\n",
      "Epoch 6/50\n",
      "82/82 [==============================] - 6s 77ms/step - loss: 0.2857 - auc: 0.9500 - val_loss: 0.2996 - val_auc: 0.9490\n",
      "Epoch 7/50\n",
      "82/82 [==============================] - 6s 76ms/step - loss: 0.2527 - auc: 0.9612 - val_loss: 0.2736 - val_auc: 0.9552\n",
      "Epoch 8/50\n",
      "82/82 [==============================] - 6s 76ms/step - loss: 0.2214 - auc: 0.9699 - val_loss: 0.2822 - val_auc: 0.9557\n",
      "Epoch 9/50\n",
      "82/82 [==============================] - 6s 75ms/step - loss: 0.2037 - auc: 0.9745 - val_loss: 0.3014 - val_auc: 0.9496\n",
      "\n",
      "Epoch 00009: ReduceLROnPlateau reducing learning rate to 0.0006400000303983689.\n",
      "Epoch 10/50\n",
      "82/82 [==============================] - 6s 76ms/step - loss: 0.1715 - auc: 0.9820 - val_loss: 0.2878 - val_auc: 0.9588\n",
      "Epoch 11/50\n",
      "82/82 [==============================] - 6s 76ms/step - loss: 0.1357 - auc: 0.9884 - val_loss: 0.3144 - val_auc: 0.9564\n",
      "Epoch 12/50\n",
      "82/82 [==============================] - 6s 76ms/step - loss: 0.1431 - auc: 0.9874 - val_loss: 0.2791 - val_auc: 0.9600\n",
      "Epoch 13/50\n",
      "82/82 [==============================] - 6s 77ms/step - loss: 0.1197 - auc: 0.9908 - val_loss: 0.2954 - val_auc: 0.9575\n",
      "\n",
      "Epoch 00013: ReduceLROnPlateau reducing learning rate to 0.0005120000336319208.\n",
      "Epoch 14/50\n",
      "82/82 [==============================] - 6s 76ms/step - loss: 0.0880 - auc: 0.9949 - val_loss: 0.3301 - val_auc: 0.9547\n",
      "Epoch 15/50\n",
      "82/82 [==============================] - 6s 76ms/step - loss: 0.0758 - auc: 0.9960 - val_loss: 0.3349 - val_auc: 0.9534\n",
      "Epoch 16/50\n",
      "82/82 [==============================] - 7s 81ms/step - loss: 0.0692 - auc: 0.9966 - val_loss: 0.3698 - val_auc: 0.9532\n",
      "Epoch 17/50\n",
      "82/82 [==============================] - 6s 76ms/step - loss: 0.0589 - auc: 0.9973 - val_loss: 0.3834 - val_auc: 0.9514\n",
      "Restoring model weights from the end of the best epoch.\n",
      "\n",
      "Epoch 00017: ReduceLROnPlateau reducing learning rate to 0.00040960004553198815.\n",
      "Epoch 00017: early stopping\n"
     ]
    },
    {
     "data": {
      "image/png": "[encoded data removed]",
      "text/plain": [
       "<Figure size 432x288 with 1 Axes>"
      ]
     },
     "metadata": {
      "needs_background": "light"
     },
     "output_type": "display_data"
    },
    {
     "name": "stdout",
     "output_type": "stream",
     "text": [
      "fold 2\n",
      "****************************************\n",
      "Epoch 1/50\n",
      "82/82 [==============================] - 44s 254ms/step - loss: 0.6808 - auc: 0.6047 - val_loss: 0.5993 - val_auc: 0.7518\n",
      "Epoch 2/50\n",
      "82/82 [==============================] - 6s 75ms/step - loss: 0.5294 - auc: 0.8078 - val_loss: 0.4663 - val_auc: 0.8760\n",
      "Epoch 3/50\n",
      "82/82 [==============================] - 6s 76ms/step - loss: 0.4331 - auc: 0.8789 - val_loss: 0.4565 - val_auc: 0.8935\n",
      "Epoch 4/50\n",
      "82/82 [==============================] - 6s 76ms/step - loss: 0.3885 - auc: 0.9057 - val_loss: 0.3854 - val_auc: 0.9217\n",
      "Epoch 5/50\n",
      "82/82 [==============================] - 6s 77ms/step - loss: 0.3150 - auc: 0.9390 - val_loss: 0.3242 - val_auc: 0.9379\n",
      "\n",
      "Epoch 00005: ReduceLROnPlateau reducing learning rate to 0.000800000037997961.\n",
      "Epoch 6/50\n",
      "82/82 [==============================] - 6s 76ms/step - loss: 0.2798 - auc: 0.9522 - val_loss: 0.3027 - val_auc: 0.9500\n",
      "Epoch 7/50\n",
      "82/82 [==============================] - 6s 75ms/step - loss: 0.2436 - auc: 0.9640 - val_loss: 0.2748 - val_auc: 0.9555\n",
      "Epoch 8/50\n",
      "82/82 [==============================] - 7s 80ms/step - loss: 0.2157 - auc: 0.9715 - val_loss: 0.2822 - val_auc: 0.9563\n",
      "Epoch 9/50\n",
      "82/82 [==============================] - 6s 76ms/step - loss: 0.2085 - auc: 0.9734 - val_loss: 0.2657 - val_auc: 0.9587\n",
      "\n",
      "Epoch 00009: ReduceLROnPlateau reducing learning rate to 0.0006400000303983689.\n",
      "Epoch 10/50\n",
      "82/82 [==============================] - 6s 76ms/step - loss: 0.1686 - auc: 0.9823 - val_loss: 0.2972 - val_auc: 0.9584\n",
      "Epoch 11/50\n",
      "82/82 [==============================] - 6s 77ms/step - loss: 0.1550 - auc: 0.9850 - val_loss: 0.2929 - val_auc: 0.9590\n",
      "Epoch 12/50\n",
      "82/82 [==============================] - 6s 76ms/step - loss: 0.1231 - auc: 0.9901 - val_loss: 0.2811 - val_auc: 0.9592\n",
      "Epoch 13/50\n",
      "82/82 [==============================] - 6s 77ms/step - loss: 0.1151 - auc: 0.9914 - val_loss: 0.2847 - val_auc: 0.9596\n",
      "\n",
      "Epoch 00013: ReduceLROnPlateau reducing learning rate to 0.0005120000336319208.\n",
      "Epoch 14/50\n",
      "82/82 [==============================] - 6s 76ms/step - loss: 0.0948 - auc: 0.9939 - val_loss: 0.3092 - val_auc: 0.9590\n",
      "Epoch 15/50\n",
      "82/82 [==============================] - 6s 76ms/step - loss: 0.0750 - auc: 0.9960 - val_loss: 0.3219 - val_auc: 0.9563\n",
      "Epoch 16/50\n",
      "82/82 [==============================] - 6s 77ms/step - loss: 0.0690 - auc: 0.9965 - val_loss: 0.3750 - val_auc: 0.9534\n",
      "Epoch 17/50\n",
      "82/82 [==============================] - 6s 76ms/step - loss: 0.0520 - auc: 0.9977 - val_loss: 0.4032 - val_auc: 0.9484\n",
      "\n",
      "Epoch 00017: ReduceLROnPlateau reducing learning rate to 0.00040960004553198815.\n",
      "Epoch 18/50\n",
      "82/82 [==============================] - 6s 76ms/step - loss: 0.0548 - auc: 0.9975 - val_loss: 0.3834 - val_auc: 0.9525\n",
      "Restoring model weights from the end of the best epoch.\n",
      "Epoch 00018: early stopping\n"
     ]
    },
    {
     "data": {
      "image/png": "[encoded data removed]",
      "text/plain": [
       "<Figure size 432x288 with 1 Axes>"
      ]
     },
     "metadata": {
      "needs_background": "light"
     },
     "output_type": "display_data"
    },
    {
     "name": "stdout",
     "output_type": "stream",
     "text": [
      "fold 3\n",
      "****************************************\n",
      "Epoch 1/50\n",
      "82/82 [==============================] - 45s 258ms/step - loss: 0.6718 - auc: 0.6209 - val_loss: 0.6164 - val_auc: 0.7088\n",
      "Epoch 2/50\n",
      "82/82 [==============================] - 6s 76ms/step - loss: 0.5289 - auc: 0.8061 - val_loss: 0.4332 - val_auc: 0.8843\n",
      "Epoch 3/50\n",
      "82/82 [==============================] - 6s 76ms/step - loss: 0.4282 - auc: 0.8819 - val_loss: 0.3680 - val_auc: 0.9196\n",
      "Epoch 4/50\n",
      "82/82 [==============================] - 6s 76ms/step - loss: 0.3710 - auc: 0.9144 - val_loss: 0.3560 - val_auc: 0.9384\n",
      "Epoch 5/50\n",
      "82/82 [==============================] - 6s 76ms/step - loss: 0.3330 - auc: 0.9323 - val_loss: 0.3175 - val_auc: 0.9432\n",
      "\n",
      "Epoch 00005: ReduceLROnPlateau reducing learning rate to 0.000800000037997961.\n",
      "Epoch 6/50\n",
      "82/82 [==============================] - 6s 76ms/step - loss: 0.2810 - auc: 0.9520 - val_loss: 0.2883 - val_auc: 0.9514\n",
      "Epoch 7/50\n",
      "82/82 [==============================] - 6s 76ms/step - loss: 0.2414 - auc: 0.9648 - val_loss: 0.2704 - val_auc: 0.9569\n",
      "Epoch 8/50\n",
      "82/82 [==============================] - 7s 81ms/step - loss: 0.2109 - auc: 0.9731 - val_loss: 0.2899 - val_auc: 0.9562\n",
      "Epoch 9/50\n",
      "82/82 [==============================] - 6s 76ms/step - loss: 0.1996 - auc: 0.9758 - val_loss: 0.2886 - val_auc: 0.9534\n",
      "\n",
      "Epoch 00009: ReduceLROnPlateau reducing learning rate to 0.0006400000303983689.\n",
      "Epoch 10/50\n",
      "82/82 [==============================] - 6s 76ms/step - loss: 0.1860 - auc: 0.9786 - val_loss: 0.2684 - val_auc: 0.9612\n",
      "Epoch 11/50\n",
      "82/82 [==============================] - 6s 76ms/step - loss: 0.1401 - auc: 0.9873 - val_loss: 0.2956 - val_auc: 0.9600\n",
      "Epoch 12/50\n",
      "82/82 [==============================] - 6s 76ms/step - loss: 0.1260 - auc: 0.9899 - val_loss: 0.2608 - val_auc: 0.9613\n",
      "Epoch 13/50\n",
      "82/82 [==============================] - 6s 76ms/step - loss: 0.1211 - auc: 0.9906 - val_loss: 0.2734 - val_auc: 0.9615\n",
      "\n",
      "Epoch 00013: ReduceLROnPlateau reducing learning rate to 0.0005120000336319208.\n",
      "Epoch 14/50\n",
      "82/82 [==============================] - 6s 77ms/step - loss: 0.1008 - auc: 0.9931 - val_loss: 0.2998 - val_auc: 0.9578\n",
      "Epoch 15/50\n",
      "82/82 [==============================] - 6s 76ms/step - loss: 0.0710 - auc: 0.9965 - val_loss: 0.3445 - val_auc: 0.9571\n",
      "Epoch 16/50\n",
      "82/82 [==============================] - 6s 76ms/step - loss: 0.0660 - auc: 0.9969 - val_loss: 0.3687 - val_auc: 0.9514\n",
      "Epoch 17/50\n",
      "82/82 [==============================] - 6s 76ms/step - loss: 0.0587 - auc: 0.9973 - val_loss: 0.3505 - val_auc: 0.9568\n",
      "\n",
      "Epoch 00017: ReduceLROnPlateau reducing learning rate to 0.00040960004553198815.\n",
      "Epoch 18/50\n",
      "82/82 [==============================] - 6s 77ms/step - loss: 0.0425 - auc: 0.9985 - val_loss: 0.3928 - val_auc: 0.9529\n",
      "Restoring model weights from the end of the best epoch.\n",
      "Epoch 00018: early stopping\n"
     ]
    },
    {
     "data": {
      "image/png": "[encoded data removed]",
      "text/plain": [
       "<Figure size 432x288 with 1 Axes>"
      ]
     },
     "metadata": {
      "needs_background": "light"
     },
     "output_type": "display_data"
    },
    {
     "name": "stdout",
     "output_type": "stream",
     "text": [
      "fold 4\n",
      "****************************************\n",
      "Epoch 1/50\n",
      "82/82 [==============================] - 44s 261ms/step - loss: 0.6741 - auc: 0.6154 - val_loss: 0.5318 - val_auc: 0.8108\n",
      "Epoch 2/50\n",
      "82/82 [==============================] - 6s 76ms/step - loss: 0.5175 - auc: 0.8178 - val_loss: 0.4371 - val_auc: 0.8818\n",
      "Epoch 3/50\n",
      "82/82 [==============================] - 6s 76ms/step - loss: 0.4213 - auc: 0.8876 - val_loss: 0.4038 - val_auc: 0.9130\n",
      "Epoch 4/50\n",
      "82/82 [==============================] - 6s 76ms/step - loss: 0.3601 - auc: 0.9197 - val_loss: 0.3512 - val_auc: 0.9365\n",
      "Epoch 5/50\n",
      "82/82 [==============================] - 6s 76ms/step - loss: 0.3026 - auc: 0.9443 - val_loss: 0.3109 - val_auc: 0.9503\n",
      "\n",
      "Epoch 00005: ReduceLROnPlateau reducing learning rate to 0.000800000037997961.\n",
      "Epoch 6/50\n",
      "82/82 [==============================] - 6s 76ms/step - loss: 0.2502 - auc: 0.9621 - val_loss: 0.2643 - val_auc: 0.9583\n",
      "Epoch 7/50\n",
      "82/82 [==============================] - 6s 75ms/step - loss: 0.2224 - auc: 0.9698 - val_loss: 0.2653 - val_auc: 0.9580\n",
      "Epoch 8/50\n",
      "82/82 [==============================] - 7s 80ms/step - loss: 0.2161 - auc: 0.9717 - val_loss: 0.2836 - val_auc: 0.9525\n",
      "Epoch 9/50\n",
      "82/82 [==============================] - 6s 76ms/step - loss: 0.2015 - auc: 0.9752 - val_loss: 0.3062 - val_auc: 0.9569\n",
      "\n",
      "Epoch 00009: ReduceLROnPlateau reducing learning rate to 0.0006400000303983689.\n",
      "Epoch 10/50\n",
      "82/82 [==============================] - 6s 76ms/step - loss: 0.1595 - auc: 0.9844 - val_loss: 0.2746 - val_auc: 0.9597\n",
      "Epoch 11/50\n",
      "82/82 [==============================] - 6s 76ms/step - loss: 0.1345 - auc: 0.9887 - val_loss: 0.2819 - val_auc: 0.9618\n",
      "Epoch 12/50\n",
      "82/82 [==============================] - 6s 75ms/step - loss: 0.1145 - auc: 0.9914 - val_loss: 0.2920 - val_auc: 0.9578\n",
      "Epoch 13/50\n",
      "82/82 [==============================] - 6s 75ms/step - loss: 0.1148 - auc: 0.9916 - val_loss: 0.3213 - val_auc: 0.9568\n",
      "\n",
      "Epoch 00013: ReduceLROnPlateau reducing learning rate to 0.0005120000336319208.\n",
      "Epoch 14/50\n",
      "82/82 [==============================] - 6s 76ms/step - loss: 0.0818 - auc: 0.9957 - val_loss: 0.3199 - val_auc: 0.9578\n",
      "Epoch 15/50\n",
      "82/82 [==============================] - 6s 76ms/step - loss: 0.0642 - auc: 0.9973 - val_loss: 0.3603 - val_auc: 0.9550\n",
      "Epoch 16/50\n",
      "82/82 [==============================] - 6s 76ms/step - loss: 0.0672 - auc: 0.9962 - val_loss: 0.3506 - val_auc: 0.9547\n",
      "Restoring model weights from the end of the best epoch.\n",
      "Epoch 00016: early stopping\n"
     ]
    },
    {
     "data": {
      "image/png": "[encoded data removed]",
      "text/plain": [
       "<Figure size 432x288 with 1 Axes>"
      ]
     },
     "metadata": {
      "needs_background": "light"
     },
     "output_type": "display_data"
    },
    {
     "name": "stdout",
     "output_type": "stream",
     "text": [
      "fold 5\n",
      "****************************************\n",
      "Epoch 1/50\n",
      "82/82 [==============================] - 45s 262ms/step - loss: 0.6768 - auc: 0.6122 - val_loss: 0.5615 - val_auc: 0.7845\n",
      "Epoch 2/50\n",
      "82/82 [==============================] - 6s 75ms/step - loss: 0.5093 - auc: 0.8257 - val_loss: 0.4599 - val_auc: 0.8815\n",
      "Epoch 3/50\n",
      "82/82 [==============================] - 6s 76ms/step - loss: 0.4171 - auc: 0.8903 - val_loss: 0.4105 - val_auc: 0.9102\n",
      "Epoch 4/50\n",
      "82/82 [==============================] - 6s 76ms/step - loss: 0.3592 - auc: 0.9200 - val_loss: 0.3617 - val_auc: 0.9273\n",
      "Epoch 5/50\n",
      "82/82 [==============================] - 6s 76ms/step - loss: 0.3064 - auc: 0.9428 - val_loss: 0.3184 - val_auc: 0.9426\n",
      "\n",
      "Epoch 00005: ReduceLROnPlateau reducing learning rate to 0.000800000037997961.\n",
      "Epoch 6/50\n",
      "82/82 [==============================] - 6s 76ms/step - loss: 0.2703 - auc: 0.9556 - val_loss: 0.3453 - val_auc: 0.9416\n",
      "Epoch 7/50\n",
      "82/82 [==============================] - 6s 76ms/step - loss: 0.2349 - auc: 0.9667 - val_loss: 0.2864 - val_auc: 0.9500\n",
      "Epoch 8/50\n",
      "82/82 [==============================] - 7s 81ms/step - loss: 0.2183 - auc: 0.9709 - val_loss: 0.2790 - val_auc: 0.9574\n",
      "Epoch 9/50\n",
      "82/82 [==============================] - 6s 76ms/step - loss: 0.1872 - auc: 0.9785 - val_loss: 0.2804 - val_auc: 0.9605\n",
      "\n",
      "Epoch 00009: ReduceLROnPlateau reducing learning rate to 0.0006400000303983689.\n",
      "Epoch 10/50\n",
      "82/82 [==============================] - 6s 76ms/step - loss: 0.1592 - auc: 0.9839 - val_loss: 0.2599 - val_auc: 0.9623\n",
      "Epoch 11/50\n",
      "82/82 [==============================] - 6s 77ms/step - loss: 0.1375 - auc: 0.9882 - val_loss: 0.2801 - val_auc: 0.9596\n",
      "Epoch 12/50\n",
      "82/82 [==============================] - 6s 76ms/step - loss: 0.1145 - auc: 0.9914 - val_loss: 0.2737 - val_auc: 0.9617\n",
      "Epoch 13/50\n",
      "82/82 [==============================] - 6s 76ms/step - loss: 0.1041 - auc: 0.9932 - val_loss: 0.2926 - val_auc: 0.9558\n",
      "\n",
      "Epoch 00013: ReduceLROnPlateau reducing learning rate to 0.0005120000336319208.\n",
      "Epoch 14/50\n",
      "82/82 [==============================] - 6s 76ms/step - loss: 0.0957 - auc: 0.9941 - val_loss: 0.3016 - val_auc: 0.9610\n",
      "Epoch 15/50\n",
      "82/82 [==============================] - 6s 76ms/step - loss: 0.0748 - auc: 0.9960 - val_loss: 0.3292 - val_auc: 0.9563\n",
      "Restoring model weights from the end of the best epoch.\n",
      "Epoch 00015: early stopping\n"
     ]
    },
    {
     "data": {
      "image/png": "[encoded data removed]",
      "text/plain": [
       "<Figure size 432x288 with 1 Axes>"
      ]
     },
     "metadata": {
      "needs_background": "light"
     },
     "output_type": "display_data"
    },
    {
     "name": "stdout",
     "output_type": "stream",
     "text": [
      "CPU times: user 3min 35s, sys: 30.4 s, total: 4min 6s\n",
      "Wall time: 13min 32s\n"
     ]
    }
   ],
   "source": [
    "%%time\n",
    "\n",
    "from sklearn.model_selection import KFold, StratifiedKFold, GroupKFold\n",
    "from tensorflow.keras.layers import *\n",
    "from tensorflow.keras import *\n",
    "from tensorflow.keras.callbacks import *\n",
    "\n",
    "skf = KFold(n_splits = 5, shuffle = True, random_state = 2022)\n",
    "gkf = GroupKFold(n_splits = 5)\n",
    "preds = []\n",
    "\n",
    "for fold, (train_idx, val_idx) in enumerate(gkf.split(train, y, groups.unique())):\n",
    "    print('fold', fold+1)\n",
    "    print('*'*40)\n",
    "    groups.unique()\n",
    "    X_train, X_valid = train[train_idx], train[val_idx]\n",
    "    y_train, y_valid = y[train_idx], y[val_idx]\n",
    "    \n",
    "    es = EarlyStopping(monitor = 'val_auc', mode = 'max', patience = 5, verbose = 1, restore_best_weights = True)\n",
    "    lr = ReduceLROnPlateau(monitor=\"val_auc\", factor=0.8, \n",
    "                               patience=4, verbose = 1)\n",
    "    model = createModel()\n",
    "    \n",
    "    history = model.fit(X_train, y_train, validation_data = (X_valid, y_valid),\n",
    "                       epochs = 50, batch_size = 256, callbacks = [es, lr])\n",
    "    \n",
    "    preds.append(model.predict(test).squeeze())\n",
    "    plotHist(history)\n",
    "    \n",
    "    del X_train, X_valid, y_train, y_valid, model, history\n",
    "    gc.collect()\n",
    "    "
   ]
  },
  {
   "cell_type": "markdown",
   "id": "1b48594c",
   "metadata": {
    "papermill": {
     "duration": 2.167181,
     "end_time": "2022-04-05T00:37:40.298168",
     "exception": false,
     "start_time": "2022-04-05T00:37:38.130987",
     "status": "completed"
    },
    "tags": []
   },
   "source": [
    "# Submission"
   ]
  },
  {
   "cell_type": "code",
   "execution_count": 14,
   "id": "92146548",
   "metadata": {
    "execution": {
     "iopub.execute_input": "2022-04-05T00:37:44.684339Z",
     "iopub.status.busy": "2022-04-05T00:37:44.683674Z",
     "iopub.status.idle": "2022-04-05T00:37:44.742017Z",
     "shell.execute_reply": "2022-04-05T00:37:44.741428Z"
    },
    "papermill": {
     "duration": 2.251907,
     "end_time": "2022-04-05T00:37:44.742183",
     "exception": false,
     "start_time": "2022-04-05T00:37:42.490276",
     "status": "completed"
    },
    "tags": []
   },
   "outputs": [
    {
     "data": {
      "text/html": [
       "<div>\n",
       "<style scoped>\n",
       "    .dataframe tbody tr th:only-of-type {\n",
       "        vertical-align: middle;\n",
       "    }\n",
       "\n",
       "    .dataframe tbody tr th {\n",
       "        vertical-align: top;\n",
       "    }\n",
       "\n",
       "    .dataframe thead th {\n",
       "        text-align: right;\n",
       "    }\n",
       "</style>\n",
       "<table border=\"1\" class=\"dataframe\">\n",
       "  <thead>\n",
       "    <tr style=\"text-align: right;\">\n",
       "      <th></th>\n",
       "      <th>sequence</th>\n",
       "      <th>state</th>\n",
       "    </tr>\n",
       "  </thead>\n",
       "  <tbody>\n",
       "    <tr>\n",
       "      <th>0</th>\n",
       "      <td>25968</td>\n",
       "      <td>0.996183</td>\n",
       "    </tr>\n",
       "    <tr>\n",
       "      <th>1</th>\n",
       "      <td>25969</td>\n",
       "      <td>0.996307</td>\n",
       "    </tr>\n",
       "    <tr>\n",
       "      <th>2</th>\n",
       "      <td>25970</td>\n",
       "      <td>0.007381</td>\n",
       "    </tr>\n",
       "    <tr>\n",
       "      <th>3</th>\n",
       "      <td>25971</td>\n",
       "      <td>0.911287</td>\n",
       "    </tr>\n",
       "    <tr>\n",
       "      <th>4</th>\n",
       "      <td>25972</td>\n",
       "      <td>0.498132</td>\n",
       "    </tr>\n",
       "    <tr>\n",
       "      <th>...</th>\n",
       "      <td>...</td>\n",
       "      <td>...</td>\n",
       "    </tr>\n",
       "    <tr>\n",
       "      <th>12213</th>\n",
       "      <td>38181</td>\n",
       "      <td>0.207439</td>\n",
       "    </tr>\n",
       "    <tr>\n",
       "      <th>12214</th>\n",
       "      <td>38182</td>\n",
       "      <td>0.709569</td>\n",
       "    </tr>\n",
       "    <tr>\n",
       "      <th>12215</th>\n",
       "      <td>38183</td>\n",
       "      <td>0.187981</td>\n",
       "    </tr>\n",
       "    <tr>\n",
       "      <th>12216</th>\n",
       "      <td>38184</td>\n",
       "      <td>0.017639</td>\n",
       "    </tr>\n",
       "    <tr>\n",
       "      <th>12217</th>\n",
       "      <td>38185</td>\n",
       "      <td>0.010046</td>\n",
       "    </tr>\n",
       "  </tbody>\n",
       "</table>\n",
       "<p>12218 rows × 2 columns</p>\n",
       "</div>"
      ],
      "text/plain": [
       "       sequence     state\n",
       "0         25968  0.996183\n",
       "1         25969  0.996307\n",
       "2         25970  0.007381\n",
       "3         25971  0.911287\n",
       "4         25972  0.498132\n",
       "...         ...       ...\n",
       "12213     38181  0.207439\n",
       "12214     38182  0.709569\n",
       "12215     38183  0.187981\n",
       "12216     38184  0.017639\n",
       "12217     38185  0.010046\n",
       "\n",
       "[12218 rows x 2 columns]"
      ]
     },
     "execution_count": 14,
     "metadata": {},
     "output_type": "execute_result"
    }
   ],
   "source": [
    "sub[\"state\"] = sum(preds)/skf.n_splits \n",
    "sub.to_csv('submission.csv', index=False)\n",
    "sub"
   ]
  },
  {
   "cell_type": "code",
   "execution_count": null,
   "id": "7316d4aa",
   "metadata": {
    "papermill": {
     "duration": 2.184619,
     "end_time": "2022-04-05T00:37:49.071649",
     "exception": false,
     "start_time": "2022-04-05T00:37:46.887030",
     "status": "completed"
    },
    "tags": []
   },
   "outputs": [],
   "source": []
  }
 ],
 "metadata": {
  "kernelspec": {
   "display_name": "Python 3",
   "language": "python",
   "name": "python3"
  },
  "language_info": {
   "codemirror_mode": {
    "name": "ipython",
    "version": 3
   },
   "file_extension": ".py",
   "mimetype": "text/x-python",
   "name": "python",
   "nbconvert_exporter": "python",
   "pygments_lexer": "ipython3",
   "version": "3.7.10"
  },
  "papermill": {
   "default_parameters": {},
   "duration": 870.399756,
   "end_time": "2022-04-05T00:37:54.297029",
   "environment_variables": {},
   "exception": null,
   "input_path": "__notebook__.ipynb",
   "output_path": "__notebook__.ipynb",
   "parameters": {},
   "start_time": "2022-04-05T00:23:23.897273",
   "version": "2.3.3"
  }
 },
 "nbformat": 4,
 "nbformat_minor": 5
}
