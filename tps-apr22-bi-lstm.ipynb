{
 "cells": [
  {
   "cell_type": "code",
   "execution_count": 1,
   "id": "6a22cb38",
   "metadata": {
    "execution": {
     "iopub.execute_input": "2022-04-08T03:25:59.329334Z",
     "iopub.status.busy": "2022-04-08T03:25:59.327637Z",
     "iopub.status.idle": "2022-04-08T03:26:00.378854Z",
     "shell.execute_reply": "2022-04-08T03:26:00.378153Z",
     "shell.execute_reply.started": "2022-04-08T00:18:10.537550Z"
    },
    "papermill": {
     "duration": 1.071537,
     "end_time": "2022-04-08T03:26:00.379061",
     "exception": false,
     "start_time": "2022-04-08T03:25:59.307524",
     "status": "completed"
    },
    "tags": []
   },
   "outputs": [],
   "source": [
    "import numpy as np\n",
    "import pandas as pd\n",
    "import matplotlib.pyplot as plt\n",
    "import seaborn as sns\n",
    "\n",
    "import warnings\n",
    "warnings.filterwarnings('ignore')\n",
    "import os\n",
    "import gc\n",
    "\n",
    "from sklearn.metrics import roc_auc_score"
   ]
  },
  {
   "cell_type": "code",
   "execution_count": 2,
   "id": "0ad0e5c3",
   "metadata": {
    "execution": {
     "iopub.execute_input": "2022-04-08T03:26:00.414925Z",
     "iopub.status.busy": "2022-04-08T03:26:00.414184Z",
     "iopub.status.idle": "2022-04-08T03:26:12.739132Z",
     "shell.execute_reply": "2022-04-08T03:26:12.738444Z",
     "shell.execute_reply.started": "2022-04-08T00:18:11.534554Z"
    },
    "papermill": {
     "duration": 12.345626,
     "end_time": "2022-04-08T03:26:12.739298",
     "exception": false,
     "start_time": "2022-04-08T03:26:00.393672",
     "status": "completed"
    },
    "tags": []
   },
   "outputs": [
    {
     "name": "stdout",
     "output_type": "stream",
     "text": [
      "(1558080, 16)\n",
      "(733080, 16)\n",
      "(12218, 2)\n",
      "label (25968, 2)\n"
     ]
    }
   ],
   "source": [
    "train = pd.read_csv('../input/tabular-playground-series-apr-2022/train.csv')\n",
    "test = pd.read_csv('../input/tabular-playground-series-apr-2022/test.csv')\n",
    "print(train.shape)\n",
    "print(test.shape)\n",
    "\n",
    "sub = pd.read_csv(\"../input/tabular-playground-series-apr-2022/sample_submission.csv\")\n",
    "print(sub.shape)\n",
    "labels = pd.read_csv('../input/tabular-playground-series-apr-2022/train_labels.csv')\n",
    "print('label', labels.shape)"
   ]
  },
  {
   "cell_type": "code",
   "execution_count": 3,
   "id": "a6c0db0b",
   "metadata": {
    "execution": {
     "iopub.execute_input": "2022-04-08T03:26:12.785698Z",
     "iopub.status.busy": "2022-04-08T03:26:12.780613Z",
     "iopub.status.idle": "2022-04-08T03:26:13.066172Z",
     "shell.execute_reply": "2022-04-08T03:26:13.066663Z",
     "shell.execute_reply.started": "2022-04-08T00:18:22.589059Z"
    },
    "papermill": {
     "duration": 0.312465,
     "end_time": "2022-04-08T03:26:13.066871",
     "exception": false,
     "start_time": "2022-04-08T03:26:12.754406",
     "status": "completed"
    },
    "tags": []
   },
   "outputs": [
    {
     "data": {
      "text/html": [
       "<div>\n",
       "<style scoped>\n",
       "    .dataframe tbody tr th:only-of-type {\n",
       "        vertical-align: middle;\n",
       "    }\n",
       "\n",
       "    .dataframe tbody tr th {\n",
       "        vertical-align: top;\n",
       "    }\n",
       "\n",
       "    .dataframe thead th {\n",
       "        text-align: right;\n",
       "    }\n",
       "</style>\n",
       "<table border=\"1\" class=\"dataframe\">\n",
       "  <thead>\n",
       "    <tr style=\"text-align: right;\">\n",
       "      <th></th>\n",
       "      <th>sequence</th>\n",
       "      <th>subject</th>\n",
       "      <th>step</th>\n",
       "      <th>sensor_00</th>\n",
       "      <th>sensor_01</th>\n",
       "      <th>sensor_02</th>\n",
       "      <th>sensor_03</th>\n",
       "      <th>sensor_04</th>\n",
       "      <th>sensor_05</th>\n",
       "      <th>sensor_06</th>\n",
       "      <th>sensor_07</th>\n",
       "      <th>sensor_08</th>\n",
       "      <th>sensor_09</th>\n",
       "      <th>sensor_10</th>\n",
       "      <th>sensor_11</th>\n",
       "      <th>sensor_12</th>\n",
       "      <th>state</th>\n",
       "    </tr>\n",
       "  </thead>\n",
       "  <tbody>\n",
       "    <tr>\n",
       "      <th>0</th>\n",
       "      <td>0</td>\n",
       "      <td>47</td>\n",
       "      <td>0</td>\n",
       "      <td>-0.196291</td>\n",
       "      <td>0.112395</td>\n",
       "      <td>1.0</td>\n",
       "      <td>0.329204</td>\n",
       "      <td>-1.004660</td>\n",
       "      <td>-0.131638</td>\n",
       "      <td>-0.127505</td>\n",
       "      <td>0.368702</td>\n",
       "      <td>-0.1</td>\n",
       "      <td>-0.963873</td>\n",
       "      <td>-0.985069</td>\n",
       "      <td>0.531893</td>\n",
       "      <td>4.751492</td>\n",
       "      <td>0</td>\n",
       "    </tr>\n",
       "    <tr>\n",
       "      <th>1</th>\n",
       "      <td>0</td>\n",
       "      <td>47</td>\n",
       "      <td>1</td>\n",
       "      <td>-0.447450</td>\n",
       "      <td>0.134454</td>\n",
       "      <td>1.0</td>\n",
       "      <td>-0.658407</td>\n",
       "      <td>0.162495</td>\n",
       "      <td>0.340314</td>\n",
       "      <td>-0.209472</td>\n",
       "      <td>-0.867176</td>\n",
       "      <td>0.2</td>\n",
       "      <td>-0.301301</td>\n",
       "      <td>0.082733</td>\n",
       "      <td>-0.231481</td>\n",
       "      <td>0.454390</td>\n",
       "      <td>0</td>\n",
       "    </tr>\n",
       "    <tr>\n",
       "      <th>2</th>\n",
       "      <td>0</td>\n",
       "      <td>47</td>\n",
       "      <td>2</td>\n",
       "      <td>0.326893</td>\n",
       "      <td>-0.694328</td>\n",
       "      <td>1.0</td>\n",
       "      <td>0.330088</td>\n",
       "      <td>0.473678</td>\n",
       "      <td>1.280479</td>\n",
       "      <td>-0.094718</td>\n",
       "      <td>0.535878</td>\n",
       "      <td>1.4</td>\n",
       "      <td>1.002168</td>\n",
       "      <td>0.449221</td>\n",
       "      <td>-0.586420</td>\n",
       "      <td>-4.736147</td>\n",
       "      <td>0</td>\n",
       "    </tr>\n",
       "    <tr>\n",
       "      <th>3</th>\n",
       "      <td>0</td>\n",
       "      <td>47</td>\n",
       "      <td>3</td>\n",
       "      <td>0.523184</td>\n",
       "      <td>0.751050</td>\n",
       "      <td>1.0</td>\n",
       "      <td>0.976991</td>\n",
       "      <td>-0.563287</td>\n",
       "      <td>-0.720269</td>\n",
       "      <td>0.793260</td>\n",
       "      <td>0.951145</td>\n",
       "      <td>-0.3</td>\n",
       "      <td>-0.995665</td>\n",
       "      <td>-0.434290</td>\n",
       "      <td>1.344650</td>\n",
       "      <td>0.429241</td>\n",
       "      <td>0</td>\n",
       "    </tr>\n",
       "    <tr>\n",
       "      <th>4</th>\n",
       "      <td>0</td>\n",
       "      <td>47</td>\n",
       "      <td>4</td>\n",
       "      <td>0.272025</td>\n",
       "      <td>1.074580</td>\n",
       "      <td>1.0</td>\n",
       "      <td>-0.136283</td>\n",
       "      <td>0.398579</td>\n",
       "      <td>0.044877</td>\n",
       "      <td>0.560109</td>\n",
       "      <td>-0.541985</td>\n",
       "      <td>-0.9</td>\n",
       "      <td>1.055636</td>\n",
       "      <td>0.812631</td>\n",
       "      <td>0.123457</td>\n",
       "      <td>-0.223359</td>\n",
       "      <td>0</td>\n",
       "    </tr>\n",
       "  </tbody>\n",
       "</table>\n",
       "</div>"
      ],
      "text/plain": [
       "   sequence  subject  step  sensor_00  sensor_01  sensor_02  sensor_03  \\\n",
       "0         0       47     0  -0.196291   0.112395        1.0   0.329204   \n",
       "1         0       47     1  -0.447450   0.134454        1.0  -0.658407   \n",
       "2         0       47     2   0.326893  -0.694328        1.0   0.330088   \n",
       "3         0       47     3   0.523184   0.751050        1.0   0.976991   \n",
       "4         0       47     4   0.272025   1.074580        1.0  -0.136283   \n",
       "\n",
       "   sensor_04  sensor_05  sensor_06  sensor_07  sensor_08  sensor_09  \\\n",
       "0  -1.004660  -0.131638  -0.127505   0.368702       -0.1  -0.963873   \n",
       "1   0.162495   0.340314  -0.209472  -0.867176        0.2  -0.301301   \n",
       "2   0.473678   1.280479  -0.094718   0.535878        1.4   1.002168   \n",
       "3  -0.563287  -0.720269   0.793260   0.951145       -0.3  -0.995665   \n",
       "4   0.398579   0.044877   0.560109  -0.541985       -0.9   1.055636   \n",
       "\n",
       "   sensor_10  sensor_11  sensor_12  state  \n",
       "0  -0.985069   0.531893   4.751492      0  \n",
       "1   0.082733  -0.231481   0.454390      0  \n",
       "2   0.449221  -0.586420  -4.736147      0  \n",
       "3  -0.434290   1.344650   0.429241      0  \n",
       "4   0.812631   0.123457  -0.223359      0  "
      ]
     },
     "execution_count": 3,
     "metadata": {},
     "output_type": "execute_result"
    }
   ],
   "source": [
    "features = [c for c in train.columns if 'sensor' in c]\n",
    "\n",
    "# adding labels to train data\n",
    "train = pd.merge(train, labels,how='left', on=\"sequence\")\n",
    "train.head()"
   ]
  },
  {
   "cell_type": "markdown",
   "id": "d8db6666",
   "metadata": {
    "papermill": {
     "duration": 0.015051,
     "end_time": "2022-04-08T03:26:13.096981",
     "exception": false,
     "start_time": "2022-04-08T03:26:13.081930",
     "status": "completed"
    },
    "tags": []
   },
   "source": [
    "# FE"
   ]
  },
  {
   "cell_type": "code",
   "execution_count": 4,
   "id": "190e4d63",
   "metadata": {
    "execution": {
     "iopub.execute_input": "2022-04-08T03:26:13.137464Z",
     "iopub.status.busy": "2022-04-08T03:26:13.136712Z",
     "iopub.status.idle": "2022-04-08T03:26:14.776171Z",
     "shell.execute_reply": "2022-04-08T03:26:14.776848Z",
     "shell.execute_reply.started": "2022-04-08T00:18:22.804335Z"
    },
    "papermill": {
     "duration": 1.664704,
     "end_time": "2022-04-08T03:26:14.777088",
     "exception": false,
     "start_time": "2022-04-08T03:26:13.112384",
     "status": "completed"
    },
    "tags": []
   },
   "outputs": [
    {
     "name": "stdout",
     "output_type": "stream",
     "text": [
      "(1558080, 43)\n",
      "(733080, 42)\n"
     ]
    },
    {
     "data": {
      "text/html": [
       "<div>\n",
       "<style scoped>\n",
       "    .dataframe tbody tr th:only-of-type {\n",
       "        vertical-align: middle;\n",
       "    }\n",
       "\n",
       "    .dataframe tbody tr th {\n",
       "        vertical-align: top;\n",
       "    }\n",
       "\n",
       "    .dataframe thead th {\n",
       "        text-align: right;\n",
       "    }\n",
       "</style>\n",
       "<table border=\"1\" class=\"dataframe\">\n",
       "  <thead>\n",
       "    <tr style=\"text-align: right;\">\n",
       "      <th></th>\n",
       "      <th>sequence</th>\n",
       "      <th>subject</th>\n",
       "      <th>step</th>\n",
       "      <th>sensor_00</th>\n",
       "      <th>sensor_01</th>\n",
       "      <th>sensor_02</th>\n",
       "      <th>sensor_03</th>\n",
       "      <th>sensor_04</th>\n",
       "      <th>sensor_05</th>\n",
       "      <th>sensor_06</th>\n",
       "      <th>...</th>\n",
       "      <th>sensor_08_lag1</th>\n",
       "      <th>sensor_08_diff1</th>\n",
       "      <th>sensor_09_lag1</th>\n",
       "      <th>sensor_09_diff1</th>\n",
       "      <th>sensor_10_lag1</th>\n",
       "      <th>sensor_10_diff1</th>\n",
       "      <th>sensor_11_lag1</th>\n",
       "      <th>sensor_11_diff1</th>\n",
       "      <th>sensor_12_lag1</th>\n",
       "      <th>sensor_12_diff1</th>\n",
       "    </tr>\n",
       "  </thead>\n",
       "  <tbody>\n",
       "    <tr>\n",
       "      <th>0</th>\n",
       "      <td>0</td>\n",
       "      <td>47</td>\n",
       "      <td>0</td>\n",
       "      <td>-0.196291</td>\n",
       "      <td>0.112395</td>\n",
       "      <td>1.0</td>\n",
       "      <td>0.329204</td>\n",
       "      <td>-1.004660</td>\n",
       "      <td>-0.131638</td>\n",
       "      <td>-0.127505</td>\n",
       "      <td>...</td>\n",
       "      <td>0.0</td>\n",
       "      <td>-0.1</td>\n",
       "      <td>0.000000</td>\n",
       "      <td>-0.963873</td>\n",
       "      <td>0.000000</td>\n",
       "      <td>-0.985069</td>\n",
       "      <td>0.000000</td>\n",
       "      <td>0.531893</td>\n",
       "      <td>0.000000</td>\n",
       "      <td>4.751492</td>\n",
       "    </tr>\n",
       "    <tr>\n",
       "      <th>1</th>\n",
       "      <td>0</td>\n",
       "      <td>47</td>\n",
       "      <td>1</td>\n",
       "      <td>-0.447450</td>\n",
       "      <td>0.134454</td>\n",
       "      <td>1.0</td>\n",
       "      <td>-0.658407</td>\n",
       "      <td>0.162495</td>\n",
       "      <td>0.340314</td>\n",
       "      <td>-0.209472</td>\n",
       "      <td>...</td>\n",
       "      <td>-0.1</td>\n",
       "      <td>0.3</td>\n",
       "      <td>-0.963873</td>\n",
       "      <td>0.662572</td>\n",
       "      <td>-0.985069</td>\n",
       "      <td>1.067802</td>\n",
       "      <td>0.531893</td>\n",
       "      <td>-0.763375</td>\n",
       "      <td>4.751492</td>\n",
       "      <td>-4.297101</td>\n",
       "    </tr>\n",
       "    <tr>\n",
       "      <th>2</th>\n",
       "      <td>0</td>\n",
       "      <td>47</td>\n",
       "      <td>2</td>\n",
       "      <td>0.326893</td>\n",
       "      <td>-0.694328</td>\n",
       "      <td>1.0</td>\n",
       "      <td>0.330088</td>\n",
       "      <td>0.473678</td>\n",
       "      <td>1.280479</td>\n",
       "      <td>-0.094718</td>\n",
       "      <td>...</td>\n",
       "      <td>0.2</td>\n",
       "      <td>1.2</td>\n",
       "      <td>-0.301301</td>\n",
       "      <td>1.303468</td>\n",
       "      <td>0.082733</td>\n",
       "      <td>0.366488</td>\n",
       "      <td>-0.231481</td>\n",
       "      <td>-0.354938</td>\n",
       "      <td>0.454390</td>\n",
       "      <td>-5.190537</td>\n",
       "    </tr>\n",
       "    <tr>\n",
       "      <th>3</th>\n",
       "      <td>0</td>\n",
       "      <td>47</td>\n",
       "      <td>3</td>\n",
       "      <td>0.523184</td>\n",
       "      <td>0.751050</td>\n",
       "      <td>1.0</td>\n",
       "      <td>0.976991</td>\n",
       "      <td>-0.563287</td>\n",
       "      <td>-0.720269</td>\n",
       "      <td>0.793260</td>\n",
       "      <td>...</td>\n",
       "      <td>1.4</td>\n",
       "      <td>-1.7</td>\n",
       "      <td>1.002168</td>\n",
       "      <td>-1.997832</td>\n",
       "      <td>0.449221</td>\n",
       "      <td>-0.883511</td>\n",
       "      <td>-0.586420</td>\n",
       "      <td>1.931070</td>\n",
       "      <td>-4.736146</td>\n",
       "      <td>5.165388</td>\n",
       "    </tr>\n",
       "    <tr>\n",
       "      <th>4</th>\n",
       "      <td>0</td>\n",
       "      <td>47</td>\n",
       "      <td>4</td>\n",
       "      <td>0.272025</td>\n",
       "      <td>1.074580</td>\n",
       "      <td>1.0</td>\n",
       "      <td>-0.136283</td>\n",
       "      <td>0.398579</td>\n",
       "      <td>0.044877</td>\n",
       "      <td>0.560109</td>\n",
       "      <td>...</td>\n",
       "      <td>-0.3</td>\n",
       "      <td>-0.6</td>\n",
       "      <td>-0.995665</td>\n",
       "      <td>2.051301</td>\n",
       "      <td>-0.434290</td>\n",
       "      <td>1.246921</td>\n",
       "      <td>1.344650</td>\n",
       "      <td>-1.221193</td>\n",
       "      <td>0.429241</td>\n",
       "      <td>-0.652600</td>\n",
       "    </tr>\n",
       "  </tbody>\n",
       "</table>\n",
       "<p>5 rows × 43 columns</p>\n",
       "</div>"
      ],
      "text/plain": [
       "   sequence  subject  step  sensor_00  sensor_01  sensor_02  sensor_03  \\\n",
       "0         0       47     0  -0.196291   0.112395        1.0   0.329204   \n",
       "1         0       47     1  -0.447450   0.134454        1.0  -0.658407   \n",
       "2         0       47     2   0.326893  -0.694328        1.0   0.330088   \n",
       "3         0       47     3   0.523184   0.751050        1.0   0.976991   \n",
       "4         0       47     4   0.272025   1.074580        1.0  -0.136283   \n",
       "\n",
       "   sensor_04  sensor_05  sensor_06  ...  sensor_08_lag1  sensor_08_diff1  \\\n",
       "0  -1.004660  -0.131638  -0.127505  ...             0.0             -0.1   \n",
       "1   0.162495   0.340314  -0.209472  ...            -0.1              0.3   \n",
       "2   0.473678   1.280479  -0.094718  ...             0.2              1.2   \n",
       "3  -0.563287  -0.720269   0.793260  ...             1.4             -1.7   \n",
       "4   0.398579   0.044877   0.560109  ...            -0.3             -0.6   \n",
       "\n",
       "   sensor_09_lag1  sensor_09_diff1  sensor_10_lag1  sensor_10_diff1  \\\n",
       "0        0.000000        -0.963873        0.000000        -0.985069   \n",
       "1       -0.963873         0.662572       -0.985069         1.067802   \n",
       "2       -0.301301         1.303468        0.082733         0.366488   \n",
       "3        1.002168        -1.997832        0.449221        -0.883511   \n",
       "4       -0.995665         2.051301       -0.434290         1.246921   \n",
       "\n",
       "   sensor_11_lag1  sensor_11_diff1  sensor_12_lag1  sensor_12_diff1  \n",
       "0        0.000000         0.531893        0.000000         4.751492  \n",
       "1        0.531893        -0.763375        4.751492        -4.297101  \n",
       "2       -0.231481        -0.354938        0.454390        -5.190537  \n",
       "3       -0.586420         1.931070       -4.736146         5.165388  \n",
       "4        1.344650        -1.221193        0.429241        -0.652600  \n",
       "\n",
       "[5 rows x 43 columns]"
      ]
     },
     "execution_count": 4,
     "metadata": {},
     "output_type": "execute_result"
    }
   ],
   "source": [
    "def addFeatures(df):  \n",
    "    \n",
    "    for f in features:\n",
    "        df[f + '_lag1'] = df.groupby('sequence')[f].shift(1).fillna(0).astype('float32')\n",
    "        \n",
    "        #df[f + '_lag_back1'] = df.groupby('sequence')[f].shift(-1).fillna(0).astype('float32')\n",
    "        #df[f + '_cumsum'] = df.groupby('sequence')[f].cumsum().astype('float32')\n",
    "        df[f + '_diff1'] = (df[f] - df[f + '_lag1']).astype('float32')\n",
    "    return df\n",
    "\n",
    "train = addFeatures(train)\n",
    "test = addFeatures(test)\n",
    "\n",
    "print(train.shape)\n",
    "print(test.shape)\n",
    "train.head()"
   ]
  },
  {
   "cell_type": "code",
   "execution_count": 5,
   "id": "7fa55f77",
   "metadata": {
    "execution": {
     "iopub.execute_input": "2022-04-08T03:26:14.820446Z",
     "iopub.status.busy": "2022-04-08T03:26:14.819568Z",
     "iopub.status.idle": "2022-04-08T03:26:15.462027Z",
     "shell.execute_reply": "2022-04-08T03:26:15.462519Z",
     "shell.execute_reply.started": "2022-04-08T00:18:23.925909Z"
    },
    "papermill": {
     "duration": 0.661768,
     "end_time": "2022-04-08T03:26:15.462712",
     "exception": false,
     "start_time": "2022-04-08T03:26:14.800944",
     "status": "completed"
    },
    "tags": []
   },
   "outputs": [
    {
     "data": {
      "text/plain": [
       "array([[0, 0, 0, ..., 0, 0, 0],\n",
       "       [1, 1, 1, ..., 1, 1, 1],\n",
       "       [1, 1, 1, ..., 1, 1, 1],\n",
       "       ...,\n",
       "       [1, 1, 1, ..., 1, 1, 1],\n",
       "       [1, 1, 1, ..., 1, 1, 1],\n",
       "       [0, 0, 0, ..., 0, 0, 0]])"
      ]
     },
     "execution_count": 5,
     "metadata": {},
     "output_type": "execute_result"
    }
   ],
   "source": [
    "Window = 60\n",
    "\n",
    "groups = train[\"sequence\"]\n",
    "#labels = labels[\"state\"]\n",
    "\n",
    "y = train['state'].to_numpy().reshape(-1, Window)\n",
    "train.drop([\"sequence\",\"step\",\"subject\",\"state\"], axis=1, inplace=True)\n",
    "test.drop([\"sequence\",\"step\",\"subject\"], axis=1, inplace=True)\n",
    "y"
   ]
  },
  {
   "cell_type": "code",
   "execution_count": 6,
   "id": "a837528f",
   "metadata": {
    "execution": {
     "iopub.execute_input": "2022-04-08T03:26:15.498871Z",
     "iopub.status.busy": "2022-04-08T03:26:15.498235Z",
     "iopub.status.idle": "2022-04-08T03:26:15.514245Z",
     "shell.execute_reply": "2022-04-08T03:26:15.514793Z",
     "shell.execute_reply.started": "2022-04-08T00:18:24.280074Z"
    },
    "papermill": {
     "duration": 0.035527,
     "end_time": "2022-04-08T03:26:15.515014",
     "exception": false,
     "start_time": "2022-04-08T03:26:15.479487",
     "status": "completed"
    },
    "tags": []
   },
   "outputs": [
    {
     "data": {
      "text/plain": [
       "array([    0,     1,     2, ..., 25965, 25966, 25967])"
      ]
     },
     "execution_count": 6,
     "metadata": {},
     "output_type": "execute_result"
    }
   ],
   "source": [
    "groups.unique()"
   ]
  },
  {
   "cell_type": "code",
   "execution_count": 7,
   "id": "9bed71c3",
   "metadata": {
    "execution": {
     "iopub.execute_input": "2022-04-08T03:26:15.551489Z",
     "iopub.status.busy": "2022-04-08T03:26:15.550902Z",
     "iopub.status.idle": "2022-04-08T03:26:18.506861Z",
     "shell.execute_reply": "2022-04-08T03:26:18.507323Z",
     "shell.execute_reply.started": "2022-04-08T00:18:24.299194Z"
    },
    "papermill": {
     "duration": 2.975794,
     "end_time": "2022-04-08T03:26:18.507521",
     "exception": false,
     "start_time": "2022-04-08T03:26:15.531727",
     "status": "completed"
    },
    "tags": []
   },
   "outputs": [],
   "source": [
    "from sklearn.preprocessing import StandardScaler, RobustScaler\n",
    "sc = StandardScaler()\n",
    "\n",
    "train = sc.fit_transform(train)\n",
    "test = sc.transform(test)"
   ]
  },
  {
   "cell_type": "code",
   "execution_count": 8,
   "id": "d416cbce",
   "metadata": {
    "execution": {
     "iopub.execute_input": "2022-04-08T03:26:18.544859Z",
     "iopub.status.busy": "2022-04-08T03:26:18.544274Z",
     "iopub.status.idle": "2022-04-08T03:26:18.548931Z",
     "shell.execute_reply": "2022-04-08T03:26:18.549638Z",
     "shell.execute_reply.started": "2022-04-08T00:18:25.644926Z"
    },
    "papermill": {
     "duration": 0.023951,
     "end_time": "2022-04-08T03:26:18.549879",
     "exception": false,
     "start_time": "2022-04-08T03:26:18.525928",
     "status": "completed"
    },
    "tags": []
   },
   "outputs": [
    {
     "name": "stdout",
     "output_type": "stream",
     "text": [
      "(25968, 60, 39)\n"
     ]
    }
   ],
   "source": [
    "train = train.reshape(-1, Window, train.shape[-1])\n",
    "test = test.reshape(-1, Window, train.shape[-1])\n",
    "print(train.shape)"
   ]
  },
  {
   "cell_type": "code",
   "execution_count": 9,
   "id": "e0b1494b",
   "metadata": {
    "execution": {
     "iopub.execute_input": "2022-04-08T03:26:18.587406Z",
     "iopub.status.busy": "2022-04-08T03:26:18.586720Z",
     "iopub.status.idle": "2022-04-08T03:26:23.516899Z",
     "shell.execute_reply": "2022-04-08T03:26:23.517500Z",
     "shell.execute_reply.started": "2022-04-08T00:18:25.653240Z"
    },
    "papermill": {
     "duration": 4.950524,
     "end_time": "2022-04-08T03:26:23.517699",
     "exception": false,
     "start_time": "2022-04-08T03:26:18.567175",
     "status": "completed"
    },
    "tags": []
   },
   "outputs": [
    {
     "name": "stderr",
     "output_type": "stream",
     "text": [
      "2022-04-08 03:26:19.205013: W tensorflow/stream_executor/platform/default/dso_loader.cc:60] Could not load dynamic library 'libcudart.so.11.0'; dlerror: libcudart.so.11.0: cannot open shared object file: No such file or directory; LD_LIBRARY_PATH: /opt/conda/lib\n",
      "2022-04-08 03:26:19.205153: I tensorflow/stream_executor/cuda/cudart_stub.cc:29] Ignore above cudart dlerror if you do not have a GPU set up on your machine.\n"
     ]
    }
   ],
   "source": [
    "import tensorflow as tf\n",
    "import logging\n",
    "from tensorflow.keras import *"
   ]
  },
  {
   "cell_type": "code",
   "execution_count": 10,
   "id": "ab3c4983",
   "metadata": {
    "execution": {
     "iopub.execute_input": "2022-04-08T03:26:23.572724Z",
     "iopub.status.busy": "2022-04-08T03:26:23.571856Z",
     "iopub.status.idle": "2022-04-08T03:26:29.392194Z",
     "shell.execute_reply": "2022-04-08T03:26:29.392619Z",
     "shell.execute_reply.started": "2022-04-08T00:18:30.174112Z"
    },
    "papermill": {
     "duration": 5.857772,
     "end_time": "2022-04-08T03:26:29.392820",
     "exception": false,
     "start_time": "2022-04-08T03:26:23.535048",
     "status": "completed"
    },
    "tags": []
   },
   "outputs": [
    {
     "name": "stdout",
     "output_type": "stream",
     "text": [
      "2.4.1\n"
     ]
    },
    {
     "name": "stderr",
     "output_type": "stream",
     "text": [
      "2022-04-08 03:26:23.563392: I tensorflow/compiler/jit/xla_cpu_device.cc:41] Not creating XLA devices, tf_xla_enable_xla_devices not set\n",
      "2022-04-08 03:26:23.569776: W tensorflow/stream_executor/platform/default/dso_loader.cc:60] Could not load dynamic library 'libcuda.so.1'; dlerror: libcuda.so.1: cannot open shared object file: No such file or directory; LD_LIBRARY_PATH: /opt/conda/lib\n",
      "2022-04-08 03:26:23.569808: W tensorflow/stream_executor/cuda/cuda_driver.cc:326] failed call to cuInit: UNKNOWN ERROR (303)\n",
      "2022-04-08 03:26:23.569858: I tensorflow/stream_executor/cuda/cuda_diagnostics.cc:156] kernel driver does not appear to be running on this host (6ec746e1712d): /proc/driver/nvidia/version does not exist\n",
      "2022-04-08 03:26:23.573409: I tensorflow/core/platform/cpu_feature_guard.cc:142] This TensorFlow binary is optimized with oneAPI Deep Neural Network Library (oneDNN) to use the following CPU instructions in performance-critical operations:  AVX2 FMA\n",
      "To enable them in other operations, rebuild TensorFlow with the appropriate compiler flags.\n",
      "2022-04-08 03:26:23.574999: I tensorflow/compiler/jit/xla_gpu_device.cc:99] Not creating XLA devices, tf_xla_enable_xla_devices not set\n",
      "2022-04-08 03:26:23.580273: I tensorflow/compiler/jit/xla_gpu_device.cc:99] Not creating XLA devices, tf_xla_enable_xla_devices not set\n",
      "2022-04-08 03:26:23.603621: I tensorflow/core/distributed_runtime/rpc/grpc_channel.cc:301] Initialize GrpcChannelCache for job worker -> {0 -> 10.0.0.2:8470}\n",
      "2022-04-08 03:26:23.603658: I tensorflow/core/distributed_runtime/rpc/grpc_channel.cc:301] Initialize GrpcChannelCache for job localhost -> {0 -> localhost:30020}\n",
      "2022-04-08 03:26:23.625881: I tensorflow/core/distributed_runtime/rpc/grpc_channel.cc:301] Initialize GrpcChannelCache for job worker -> {0 -> 10.0.0.2:8470}\n",
      "2022-04-08 03:26:23.625922: I tensorflow/core/distributed_runtime/rpc/grpc_channel.cc:301] Initialize GrpcChannelCache for job localhost -> {0 -> localhost:30020}\n",
      "2022-04-08 03:26:23.627096: I tensorflow/core/distributed_runtime/rpc/grpc_server_lib.cc:411] Started server with target: grpc://localhost:30020\n"
     ]
    },
    {
     "name": "stdout",
     "output_type": "stream",
     "text": [
      "REPLICAS:  8\n"
     ]
    }
   ],
   "source": [
    "# Detect hardware, return appropriate distribution strategy\n",
    "print(tf.version.VERSION)\n",
    "tf.get_logger().setLevel(logging.ERROR)\n",
    "try: # detect TPU\n",
    "    tpu = None\n",
    "    tpu = tf.distribute.cluster_resolver.TPUClusterResolver()  # TPU detection\n",
    "    tf.config.experimental_connect_to_cluster(tpu)\n",
    "    tf.tpu.experimental.initialize_tpu_system(tpu)\n",
    "    strategy = tf.distribute.experimental.TPUStrategy(tpu)\n",
    "except ValueError: # detect GPU(s) and enable mixed precision\n",
    "    strategy = tf.distribute.MirroredStrategy() # works on GPU and multi-GPU\n",
    "    policy = tf.keras.mixed_precision.experimental.Policy('mixed_float16')\n",
    "    tf.config.optimizer.set_jit(True) # XLA compilation\n",
    "    tf.keras.mixed_precision.experimental.set_policy(policy)\n",
    "    print('Mixed precision enabled')\n",
    "print(\"REPLICAS: \", strategy.num_replicas_in_sync)"
   ]
  },
  {
   "cell_type": "markdown",
   "id": "00a7f9fa",
   "metadata": {
    "papermill": {
     "duration": 0.017578,
     "end_time": "2022-04-08T03:26:29.428123",
     "exception": false,
     "start_time": "2022-04-08T03:26:29.410545",
     "status": "completed"
    },
    "tags": []
   },
   "source": [
    "# LSTM"
   ]
  },
  {
   "cell_type": "code",
   "execution_count": 11,
   "id": "1a080d9b",
   "metadata": {
    "execution": {
     "iopub.execute_input": "2022-04-08T03:26:29.469280Z",
     "iopub.status.busy": "2022-04-08T03:26:29.468579Z",
     "iopub.status.idle": "2022-04-08T03:26:29.471493Z",
     "shell.execute_reply": "2022-04-08T03:26:29.470889Z",
     "shell.execute_reply.started": "2022-04-08T00:18:32.382550Z"
    },
    "papermill": {
     "duration": 0.026116,
     "end_time": "2022-04-08T03:26:29.471622",
     "exception": false,
     "start_time": "2022-04-08T03:26:29.445506",
     "status": "completed"
    },
    "tags": []
   },
   "outputs": [],
   "source": [
    "def plotHist(hist):\n",
    "    plt.plot(hist.history[\"auc\"])\n",
    "    plt.plot(hist.history[\"val_auc\"])\n",
    "    plt.title(\"model performance\")\n",
    "    plt.ylabel(\"area_under_curve\")\n",
    "    plt.xlabel(\"epoch\")\n",
    "    plt.legend([\"train\", \"validation\"], loc=\"upper left\")\n",
    "    plt.show()"
   ]
  },
  {
   "cell_type": "code",
   "execution_count": 12,
   "id": "d176b1ba",
   "metadata": {
    "execution": {
     "iopub.execute_input": "2022-04-08T03:26:29.515377Z",
     "iopub.status.busy": "2022-04-08T03:26:29.514807Z",
     "iopub.status.idle": "2022-04-08T03:26:29.516927Z",
     "shell.execute_reply": "2022-04-08T03:26:29.517428Z",
     "shell.execute_reply.started": "2022-04-08T00:18:32.392699Z"
    },
    "papermill": {
     "duration": 0.028218,
     "end_time": "2022-04-08T03:26:29.517585",
     "exception": false,
     "start_time": "2022-04-08T03:26:29.489367",
     "status": "completed"
    },
    "tags": []
   },
   "outputs": [],
   "source": [
    "from tensorflow.keras.metrics import AUC\n",
    "\n",
    "def createModel():\n",
    "    with strategy.scope():\n",
    "        model = Sequential(\n",
    "        [\n",
    "            Input(shape = (Window, train.shape[-1])),\n",
    "            Bidirectional(LSTM(768, return_sequences = True)),\n",
    "            Bidirectional(LSTM(512, return_sequences = True)), \n",
    "            Bidirectional(LSTM(256, return_sequences = True)),\n",
    "            Bidirectional(LSTM(128, return_sequences = True)),\n",
    "            Bidirectional(LSTM(128, return_sequences = True)),\n",
    "            Dense(128, activation = 'selu'),\n",
    "            Dense(1, activation = 'sigmoid')\n",
    "        ]\n",
    "        )\n",
    "        model.compile(optimizer = 'adam', loss = 'binary_crossentropy', metrics = [AUC(name = 'auc')]\n",
    "                     )\n",
    "    return (model)"
   ]
  },
  {
   "cell_type": "code",
   "execution_count": 13,
   "id": "10336745",
   "metadata": {
    "execution": {
     "iopub.execute_input": "2022-04-08T03:26:29.562858Z",
     "iopub.status.busy": "2022-04-08T03:26:29.562117Z",
     "iopub.status.idle": "2022-04-08T03:32:36.536392Z",
     "shell.execute_reply": "2022-04-08T03:32:36.536987Z",
     "shell.execute_reply.started": "2022-04-08T00:18:32.403639Z"
    },
    "papermill": {
     "duration": 367.00173,
     "end_time": "2022-04-08T03:32:36.537198",
     "exception": false,
     "start_time": "2022-04-08T03:26:29.535468",
     "status": "completed"
    },
    "tags": []
   },
   "outputs": [
    {
     "name": "stdout",
     "output_type": "stream",
     "text": [
      "fold 1\n",
      "************************************************************\n",
      "82/82 [==============================] - 49s 285ms/step - loss: 0.6736 - auc: 0.6108 - val_loss: 1.0322 - val_auc: 0.4557\n",
      "##############################\n",
      "Fold-1 | OOF Score: 0.4558467654431039\n"
     ]
    },
    {
     "data": {
      "image/png": "[encoded data removed]",
      "text/plain": [
       "<Figure size 432x288 with 1 Axes>"
      ]
     },
     "metadata": {
      "needs_background": "light"
     },
     "output_type": "display_data"
    },
    {
     "name": "stdout",
     "output_type": "stream",
     "text": [
      "fold 2\n",
      "************************************************************\n",
      "82/82 [==============================] - 52s 293ms/step - loss: 0.6839 - auc: 0.5948 - val_loss: 0.5926 - val_auc: 0.7729\n",
      "##############################\n",
      "Fold-2 | OOF Score: 0.7729133040114927\n"
     ]
    },
    {
     "data": {
      "image/png": "[encoded data removed]",
      "text/plain": [
       "<Figure size 432x288 with 1 Axes>"
      ]
     },
     "metadata": {
      "needs_background": "light"
     },
     "output_type": "display_data"
    },
    {
     "name": "stdout",
     "output_type": "stream",
     "text": [
      "fold 3\n",
      "************************************************************\n",
      "82/82 [==============================] - 54s 313ms/step - loss: 0.6758 - auc: 0.6101 - val_loss: 0.5095 - val_auc: 0.8345\n",
      "##############################\n",
      "Fold-3 | OOF Score: 0.8345108503731894\n"
     ]
    },
    {
     "data": {
      "image/png": "[encoded data removed]",
      "text/plain": [
       "<Figure size 432x288 with 1 Axes>"
      ]
     },
     "metadata": {
      "needs_background": "light"
     },
     "output_type": "display_data"
    },
    {
     "name": "stdout",
     "output_type": "stream",
     "text": [
      "fold 4\n",
      "************************************************************\n",
      "82/82 [==============================] - 52s 303ms/step - loss: 0.6769 - auc: 0.6149 - val_loss: 0.5972 - val_auc: 0.8057\n",
      "##############################\n",
      "Fold-4 | OOF Score: 0.8057175873181969\n"
     ]
    },
    {
     "data": {
      "image/png": "[encoded data removed]",
      "text/plain": [
       "<Figure size 432x288 with 1 Axes>"
      ]
     },
     "metadata": {
      "needs_background": "light"
     },
     "output_type": "display_data"
    },
    {
     "name": "stdout",
     "output_type": "stream",
     "text": [
      "fold 5\n",
      "************************************************************\n",
      "82/82 [==============================] - 52s 307ms/step - loss: 0.6762 - auc: 0.6053 - val_loss: 0.5655 - val_auc: 0.7885\n",
      "##############################\n",
      "Fold-5 | OOF Score: 0.7885143362328626\n"
     ]
    },
    {
     "data": {
      "image/png": "[encoded data removed]",
      "text/plain": [
       "<Figure size 432x288 with 1 Axes>"
      ]
     },
     "metadata": {
      "needs_background": "light"
     },
     "output_type": "display_data"
    },
    {
     "name": "stdout",
     "output_type": "stream",
     "text": [
      "CPU times: user 2min 32s, sys: 11.6 s, total: 2min 43s\n",
      "Wall time: 6min 6s\n"
     ]
    }
   ],
   "source": [
    "%%time\n",
    "\n",
    "\n",
    "from sklearn.model_selection import KFold, StratifiedKFold, GroupKFold\n",
    "from tensorflow.keras.layers import *\n",
    "from tensorflow.keras import *\n",
    "from tensorflow.keras.callbacks import *\n",
    "\n",
    "skf = KFold(n_splits = 5, shuffle = True, random_state = 2022)\n",
    "gkf = GroupKFold(n_splits = 5)\n",
    "preds = []\n",
    "\n",
    "BATCH_SIZE = 256\n",
    "\n",
    "for fold, (train_idx, val_idx) in enumerate(gkf.split(train, y, groups.unique())):\n",
    "    print('fold', fold+1)\n",
    "    print('*'*60)\n",
    "    groups.unique()\n",
    "    X_train, X_valid = train[train_idx], train[val_idx]\n",
    "    y_train, y_valid = y[train_idx], y[val_idx]\n",
    "    \n",
    "    es = EarlyStopping(monitor = 'val_auc', mode = 'max', patience = 5, verbose = 1, restore_best_weights = True)\n",
    "    lr = ReduceLROnPlateau(monitor=\"val_auc\", factor=0.8, \n",
    "                               patience=4, verbose = 1)\n",
    "    model = createModel()\n",
    "    \n",
    "    history = model.fit(X_train, y_train, validation_data = (X_valid, y_valid),\n",
    "                       epochs = 1, batch_size = 256, callbacks = [es, lr])\n",
    "    \n",
    "    y_true = y_valid.squeeze().reshape(-1, 1)\n",
    "    y_pred = model.predict(X_valid, batch_size=BATCH_SIZE).squeeze().reshape(-1, 1)\n",
    "    score = roc_auc_score(y_true, y_pred)\n",
    "    \n",
    "    print('#'*30)\n",
    "    print(f\"Fold-{fold+1} | OOF Score: {score}\")\n",
    "    \n",
    "    preds.append(model.predict(test).squeeze())\n",
    "    plotHist(history)\n",
    "    \n",
    "    del X_train, X_valid, y_train, y_valid, model, history\n",
    "    gc.collect()\n",
    "    "
   ]
  },
  {
   "cell_type": "markdown",
   "id": "23d0ca26",
   "metadata": {
    "papermill": {
     "duration": 0.152633,
     "end_time": "2022-04-08T03:32:36.846121",
     "exception": false,
     "start_time": "2022-04-08T03:32:36.693488",
     "status": "completed"
    },
    "tags": []
   },
   "source": [
    "# Submission"
   ]
  },
  {
   "cell_type": "code",
   "execution_count": 14,
   "id": "13ba6fb6",
   "metadata": {
    "execution": {
     "iopub.execute_input": "2022-04-08T03:32:37.235180Z",
     "iopub.status.busy": "2022-04-08T03:32:37.233694Z",
     "iopub.status.idle": "2022-04-08T03:32:37.305748Z",
     "shell.execute_reply": "2022-04-08T03:32:37.305180Z",
     "shell.execute_reply.started": "2022-04-08T00:22:19.638163Z"
    },
    "papermill": {
     "duration": 0.286219,
     "end_time": "2022-04-08T03:32:37.305957",
     "exception": false,
     "start_time": "2022-04-08T03:32:37.019738",
     "status": "completed"
    },
    "tags": []
   },
   "outputs": [
    {
     "data": {
      "text/html": [
       "<div>\n",
       "<style scoped>\n",
       "    .dataframe tbody tr th:only-of-type {\n",
       "        vertical-align: middle;\n",
       "    }\n",
       "\n",
       "    .dataframe tbody tr th {\n",
       "        vertical-align: top;\n",
       "    }\n",
       "\n",
       "    .dataframe thead th {\n",
       "        text-align: right;\n",
       "    }\n",
       "</style>\n",
       "<table border=\"1\" class=\"dataframe\">\n",
       "  <thead>\n",
       "    <tr style=\"text-align: right;\">\n",
       "      <th></th>\n",
       "      <th>sequence</th>\n",
       "      <th>state</th>\n",
       "    </tr>\n",
       "  </thead>\n",
       "  <tbody>\n",
       "    <tr>\n",
       "      <th>0</th>\n",
       "      <td>25968</td>\n",
       "      <td>0.725182</td>\n",
       "    </tr>\n",
       "    <tr>\n",
       "      <th>1</th>\n",
       "      <td>25969</td>\n",
       "      <td>0.600109</td>\n",
       "    </tr>\n",
       "    <tr>\n",
       "      <th>2</th>\n",
       "      <td>25970</td>\n",
       "      <td>0.391383</td>\n",
       "    </tr>\n",
       "    <tr>\n",
       "      <th>3</th>\n",
       "      <td>25971</td>\n",
       "      <td>0.374868</td>\n",
       "    </tr>\n",
       "    <tr>\n",
       "      <th>4</th>\n",
       "      <td>25972</td>\n",
       "      <td>0.646484</td>\n",
       "    </tr>\n",
       "    <tr>\n",
       "      <th>...</th>\n",
       "      <td>...</td>\n",
       "      <td>...</td>\n",
       "    </tr>\n",
       "    <tr>\n",
       "      <th>12213</th>\n",
       "      <td>38181</td>\n",
       "      <td>0.548567</td>\n",
       "    </tr>\n",
       "    <tr>\n",
       "      <th>12214</th>\n",
       "      <td>38182</td>\n",
       "      <td>0.543861</td>\n",
       "    </tr>\n",
       "    <tr>\n",
       "      <th>12215</th>\n",
       "      <td>38183</td>\n",
       "      <td>0.437171</td>\n",
       "    </tr>\n",
       "    <tr>\n",
       "      <th>12216</th>\n",
       "      <td>38184</td>\n",
       "      <td>0.487063</td>\n",
       "    </tr>\n",
       "    <tr>\n",
       "      <th>12217</th>\n",
       "      <td>38185</td>\n",
       "      <td>0.296145</td>\n",
       "    </tr>\n",
       "  </tbody>\n",
       "</table>\n",
       "<p>12218 rows × 2 columns</p>\n",
       "</div>"
      ],
      "text/plain": [
       "       sequence     state\n",
       "0         25968  0.725182\n",
       "1         25969  0.600109\n",
       "2         25970  0.391383\n",
       "3         25971  0.374868\n",
       "4         25972  0.646484\n",
       "...         ...       ...\n",
       "12213     38181  0.548567\n",
       "12214     38182  0.543861\n",
       "12215     38183  0.437171\n",
       "12216     38184  0.487063\n",
       "12217     38185  0.296145\n",
       "\n",
       "[12218 rows x 2 columns]"
      ]
     },
     "execution_count": 14,
     "metadata": {},
     "output_type": "execute_result"
    }
   ],
   "source": [
    "sub[\"state\"] = sum(preds)/skf.n_splits \n",
    "sub.to_csv('submission.csv', index=False)\n",
    "sub"
   ]
  },
  {
   "cell_type": "code",
   "execution_count": null,
   "id": "1bd453c9",
   "metadata": {
    "papermill": {
     "duration": 0.164459,
     "end_time": "2022-04-08T03:32:37.645947",
     "exception": false,
     "start_time": "2022-04-08T03:32:37.481488",
     "status": "completed"
    },
    "tags": []
   },
   "outputs": [],
   "source": []
  }
 ],
 "metadata": {
  "kernelspec": {
   "display_name": "Python 3",
   "language": "python",
   "name": "python3"
  },
  "language_info": {
   "codemirror_mode": {
    "name": "ipython",
    "version": 3
   },
   "file_extension": ".py",
   "mimetype": "text/x-python",
   "name": "python",
   "nbconvert_exporter": "python",
   "pygments_lexer": "ipython3",
   "version": "3.7.10"
  },
  "papermill": {
   "default_parameters": {},
   "duration": 409.947377,
   "end_time": "2022-04-08T03:32:41.124578",
   "environment_variables": {},
   "exception": null,
   "input_path": "__notebook__.ipynb",
   "output_path": "__notebook__.ipynb",
   "parameters": {},
   "start_time": "2022-04-08T03:25:51.177201",
   "version": "2.3.3"
  }
 },
 "nbformat": 4,
 "nbformat_minor": 5
}
