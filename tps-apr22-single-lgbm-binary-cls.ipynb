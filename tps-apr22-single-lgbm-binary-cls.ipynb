{
 "cells": [
  {
   "cell_type": "code",
   "execution_count": 1,
   "id": "e73d1d12",
   "metadata": {
    "execution": {
     "iopub.execute_input": "2022-04-13T22:06:57.224448Z",
     "iopub.status.busy": "2022-04-13T22:06:57.223724Z",
     "iopub.status.idle": "2022-04-13T22:06:58.309735Z",
     "shell.execute_reply": "2022-04-13T22:06:58.310279Z",
     "shell.execute_reply.started": "2022-04-13T22:03:59.430125Z"
    },
    "papermill": {
     "duration": 1.11961,
     "end_time": "2022-04-13T22:06:58.310610",
     "exception": false,
     "start_time": "2022-04-13T22:06:57.191000",
     "status": "completed"
    },
    "tags": []
   },
   "outputs": [],
   "source": [
    "import numpy as np\n",
    "import pandas as pd\n",
    "import matplotlib.pyplot as plt\n",
    "import seaborn as sns\n",
    "\n",
    "import warnings\n",
    "warnings.filterwarnings('ignore')\n",
    "import os\n",
    "import gc\n",
    "from scipy.stats import kurtosis\n",
    "from tqdm import tqdm"
   ]
  },
  {
   "cell_type": "markdown",
   "id": "b651542e",
   "metadata": {
    "papermill": {
     "duration": 0.020249,
     "end_time": "2022-04-13T22:06:58.352858",
     "exception": false,
     "start_time": "2022-04-13T22:06:58.332609",
     "status": "completed"
    },
    "tags": []
   },
   "source": [
    "In this competition, you'll classify 60-second sequences of sensor data, indicating whether a subject was in either of two activity states for the duration of the sequence."
   ]
  },
  {
   "cell_type": "markdown",
   "id": "538ccc49",
   "metadata": {
    "papermill": {
     "duration": 0.020266,
     "end_time": "2022-04-13T22:06:58.396834",
     "exception": false,
     "start_time": "2022-04-13T22:06:58.376568",
     "status": "completed"
    },
    "tags": []
   },
   "source": [
    "# Load Data"
   ]
  },
  {
   "cell_type": "code",
   "execution_count": 2,
   "id": "7b47c589",
   "metadata": {
    "execution": {
     "iopub.execute_input": "2022-04-13T22:06:58.442780Z",
     "iopub.status.busy": "2022-04-13T22:06:58.441742Z",
     "iopub.status.idle": "2022-04-13T22:07:11.572414Z",
     "shell.execute_reply": "2022-04-13T22:07:11.571652Z",
     "shell.execute_reply.started": "2022-04-13T22:00:57.705333Z"
    },
    "papermill": {
     "duration": 13.154479,
     "end_time": "2022-04-13T22:07:11.572594",
     "exception": false,
     "start_time": "2022-04-13T22:06:58.418115",
     "status": "completed"
    },
    "tags": []
   },
   "outputs": [
    {
     "name": "stdout",
     "output_type": "stream",
     "text": [
      "(1558080, 16)\n",
      "(733080, 16)\n",
      "(12218, 2)\n",
      "label (25968, 2)\n"
     ]
    }
   ],
   "source": [
    "train = pd.read_csv('../input/tabular-playground-series-apr-2022/train.csv')\n",
    "test = pd.read_csv('../input/tabular-playground-series-apr-2022/test.csv')\n",
    "print(train.shape)\n",
    "print(test.shape)\n",
    "\n",
    "sub = pd.read_csv('../input/tabular-playground-series-apr-2022/sample_submission.csv')\n",
    "print(sub.shape)\n",
    "\n",
    "train_labels = pd.read_csv('../input/tabular-playground-series-apr-2022/train_labels.csv')\n",
    "print('label', train_labels.shape)"
   ]
  },
  {
   "cell_type": "code",
   "execution_count": 3,
   "id": "f22236eb",
   "metadata": {
    "execution": {
     "iopub.execute_input": "2022-04-13T22:07:11.625417Z",
     "iopub.status.busy": "2022-04-13T22:07:11.624576Z",
     "iopub.status.idle": "2022-04-13T22:07:11.648189Z",
     "shell.execute_reply": "2022-04-13T22:07:11.648714Z",
     "shell.execute_reply.started": "2022-04-13T22:01:05.368035Z"
    },
    "papermill": {
     "duration": 0.05456,
     "end_time": "2022-04-13T22:07:11.648889",
     "exception": false,
     "start_time": "2022-04-13T22:07:11.594329",
     "status": "completed"
    },
    "tags": []
   },
   "outputs": [
    {
     "data": {
      "text/html": [
       "<div>\n",
       "<style scoped>\n",
       "    .dataframe tbody tr th:only-of-type {\n",
       "        vertical-align: middle;\n",
       "    }\n",
       "\n",
       "    .dataframe tbody tr th {\n",
       "        vertical-align: top;\n",
       "    }\n",
       "\n",
       "    .dataframe thead th {\n",
       "        text-align: right;\n",
       "    }\n",
       "</style>\n",
       "<table border=\"1\" class=\"dataframe\">\n",
       "  <thead>\n",
       "    <tr style=\"text-align: right;\">\n",
       "      <th></th>\n",
       "      <th>sequence</th>\n",
       "      <th>subject</th>\n",
       "      <th>step</th>\n",
       "      <th>sensor_00</th>\n",
       "      <th>sensor_01</th>\n",
       "      <th>sensor_02</th>\n",
       "      <th>sensor_03</th>\n",
       "      <th>sensor_04</th>\n",
       "      <th>sensor_05</th>\n",
       "      <th>sensor_06</th>\n",
       "      <th>sensor_07</th>\n",
       "      <th>sensor_08</th>\n",
       "      <th>sensor_09</th>\n",
       "      <th>sensor_10</th>\n",
       "      <th>sensor_11</th>\n",
       "      <th>sensor_12</th>\n",
       "    </tr>\n",
       "  </thead>\n",
       "  <tbody>\n",
       "    <tr>\n",
       "      <th>0</th>\n",
       "      <td>0</td>\n",
       "      <td>47</td>\n",
       "      <td>0</td>\n",
       "      <td>-0.196291</td>\n",
       "      <td>0.112395</td>\n",
       "      <td>1.0</td>\n",
       "      <td>0.329204</td>\n",
       "      <td>-1.004660</td>\n",
       "      <td>-0.131638</td>\n",
       "      <td>-0.127505</td>\n",
       "      <td>0.368702</td>\n",
       "      <td>-0.1</td>\n",
       "      <td>-0.963873</td>\n",
       "      <td>-0.985069</td>\n",
       "      <td>0.531893</td>\n",
       "      <td>4.751492</td>\n",
       "    </tr>\n",
       "    <tr>\n",
       "      <th>1</th>\n",
       "      <td>0</td>\n",
       "      <td>47</td>\n",
       "      <td>1</td>\n",
       "      <td>-0.447450</td>\n",
       "      <td>0.134454</td>\n",
       "      <td>1.0</td>\n",
       "      <td>-0.658407</td>\n",
       "      <td>0.162495</td>\n",
       "      <td>0.340314</td>\n",
       "      <td>-0.209472</td>\n",
       "      <td>-0.867176</td>\n",
       "      <td>0.2</td>\n",
       "      <td>-0.301301</td>\n",
       "      <td>0.082733</td>\n",
       "      <td>-0.231481</td>\n",
       "      <td>0.454390</td>\n",
       "    </tr>\n",
       "    <tr>\n",
       "      <th>2</th>\n",
       "      <td>0</td>\n",
       "      <td>47</td>\n",
       "      <td>2</td>\n",
       "      <td>0.326893</td>\n",
       "      <td>-0.694328</td>\n",
       "      <td>1.0</td>\n",
       "      <td>0.330088</td>\n",
       "      <td>0.473678</td>\n",
       "      <td>1.280479</td>\n",
       "      <td>-0.094718</td>\n",
       "      <td>0.535878</td>\n",
       "      <td>1.4</td>\n",
       "      <td>1.002168</td>\n",
       "      <td>0.449221</td>\n",
       "      <td>-0.586420</td>\n",
       "      <td>-4.736147</td>\n",
       "    </tr>\n",
       "    <tr>\n",
       "      <th>3</th>\n",
       "      <td>0</td>\n",
       "      <td>47</td>\n",
       "      <td>3</td>\n",
       "      <td>0.523184</td>\n",
       "      <td>0.751050</td>\n",
       "      <td>1.0</td>\n",
       "      <td>0.976991</td>\n",
       "      <td>-0.563287</td>\n",
       "      <td>-0.720269</td>\n",
       "      <td>0.793260</td>\n",
       "      <td>0.951145</td>\n",
       "      <td>-0.3</td>\n",
       "      <td>-0.995665</td>\n",
       "      <td>-0.434290</td>\n",
       "      <td>1.344650</td>\n",
       "      <td>0.429241</td>\n",
       "    </tr>\n",
       "    <tr>\n",
       "      <th>4</th>\n",
       "      <td>0</td>\n",
       "      <td>47</td>\n",
       "      <td>4</td>\n",
       "      <td>0.272025</td>\n",
       "      <td>1.074580</td>\n",
       "      <td>1.0</td>\n",
       "      <td>-0.136283</td>\n",
       "      <td>0.398579</td>\n",
       "      <td>0.044877</td>\n",
       "      <td>0.560109</td>\n",
       "      <td>-0.541985</td>\n",
       "      <td>-0.9</td>\n",
       "      <td>1.055636</td>\n",
       "      <td>0.812631</td>\n",
       "      <td>0.123457</td>\n",
       "      <td>-0.223359</td>\n",
       "    </tr>\n",
       "  </tbody>\n",
       "</table>\n",
       "</div>"
      ],
      "text/plain": [
       "   sequence  subject  step  sensor_00  sensor_01  sensor_02  sensor_03  \\\n",
       "0         0       47     0  -0.196291   0.112395        1.0   0.329204   \n",
       "1         0       47     1  -0.447450   0.134454        1.0  -0.658407   \n",
       "2         0       47     2   0.326893  -0.694328        1.0   0.330088   \n",
       "3         0       47     3   0.523184   0.751050        1.0   0.976991   \n",
       "4         0       47     4   0.272025   1.074580        1.0  -0.136283   \n",
       "\n",
       "   sensor_04  sensor_05  sensor_06  sensor_07  sensor_08  sensor_09  \\\n",
       "0  -1.004660  -0.131638  -0.127505   0.368702       -0.1  -0.963873   \n",
       "1   0.162495   0.340314  -0.209472  -0.867176        0.2  -0.301301   \n",
       "2   0.473678   1.280479  -0.094718   0.535878        1.4   1.002168   \n",
       "3  -0.563287  -0.720269   0.793260   0.951145       -0.3  -0.995665   \n",
       "4   0.398579   0.044877   0.560109  -0.541985       -0.9   1.055636   \n",
       "\n",
       "   sensor_10  sensor_11  sensor_12  \n",
       "0  -0.985069   0.531893   4.751492  \n",
       "1   0.082733  -0.231481   0.454390  \n",
       "2   0.449221  -0.586420  -4.736147  \n",
       "3  -0.434290   1.344650   0.429241  \n",
       "4   0.812631   0.123457  -0.223359  "
      ]
     },
     "execution_count": 3,
     "metadata": {},
     "output_type": "execute_result"
    }
   ],
   "source": [
    "train.head()"
   ]
  },
  {
   "cell_type": "markdown",
   "id": "aadca4f8",
   "metadata": {
    "papermill": {
     "duration": 0.022046,
     "end_time": "2022-04-13T22:07:11.692276",
     "exception": false,
     "start_time": "2022-04-13T22:07:11.670230",
     "status": "completed"
    },
    "tags": []
   },
   "source": [
    "# Files and Field Descriptions\n",
    "train.csv - the training set, comprising ~26,000 60-second recordings of thirteen biological sensors for almost one thousand experimental participants\n",
    "* sequence - a unique id for each sequence\n",
    "* subject - a unique id for the subject in the experiment\n",
    "* step - time step of the recording, in one second intervals\n",
    "* sensor_00 - sensor_12 - the value for each of the thirteen sensors at that time step\n",
    "\n",
    "train_labels.csv - the class label for each sequence.\n",
    "* sequence - the unique id for each sequence.\n",
    "* state - the state associated to each sequence. This is the target which you are trying to predict.\n",
    "\n",
    "test.csv - the test set. For each of the ~12,000 sequences, you should predict a value for that sequence's state.\n",
    "* sample_submission.csv - a sample submission file in the correct format."
   ]
  },
  {
   "cell_type": "markdown",
   "id": "56545186",
   "metadata": {
    "papermill": {
     "duration": 0.021007,
     "end_time": "2022-04-13T22:07:11.735085",
     "exception": false,
     "start_time": "2022-04-13T22:07:11.714078",
     "status": "completed"
    },
    "tags": []
   },
   "source": [
    "# FE"
   ]
  },
  {
   "cell_type": "code",
   "execution_count": 4,
   "id": "afc5cd02",
   "metadata": {
    "execution": {
     "iopub.execute_input": "2022-04-13T22:07:11.782184Z",
     "iopub.status.busy": "2022-04-13T22:07:11.781116Z",
     "iopub.status.idle": "2022-04-13T22:07:11.787979Z",
     "shell.execute_reply": "2022-04-13T22:07:11.787317Z",
     "shell.execute_reply.started": "2022-04-13T22:01:05.392598Z"
    },
    "papermill": {
     "duration": 0.031491,
     "end_time": "2022-04-13T22:07:11.788138",
     "exception": false,
     "start_time": "2022-04-13T22:07:11.756647",
     "status": "completed"
    },
    "tags": []
   },
   "outputs": [
    {
     "data": {
      "text/plain": [
       "['sensor_00',\n",
       " 'sensor_01',\n",
       " 'sensor_02',\n",
       " 'sensor_03',\n",
       " 'sensor_04',\n",
       " 'sensor_05',\n",
       " 'sensor_06',\n",
       " 'sensor_07',\n",
       " 'sensor_08',\n",
       " 'sensor_09',\n",
       " 'sensor_10',\n",
       " 'sensor_11',\n",
       " 'sensor_12']"
      ]
     },
     "execution_count": 4,
     "metadata": {},
     "output_type": "execute_result"
    }
   ],
   "source": [
    "scols = [c for c in train.columns if 'sensor' in c ]\n",
    "scols"
   ]
  },
  {
   "cell_type": "code",
   "execution_count": 5,
   "id": "69f7e0cd",
   "metadata": {
    "execution": {
     "iopub.execute_input": "2022-04-13T22:07:11.838898Z",
     "iopub.status.busy": "2022-04-13T22:07:11.838143Z",
     "iopub.status.idle": "2022-04-13T22:07:11.840623Z",
     "shell.execute_reply": "2022-04-13T22:07:11.841160Z",
     "shell.execute_reply.started": "2022-04-13T22:01:05.409821Z"
    },
    "papermill": {
     "duration": 0.031121,
     "end_time": "2022-04-13T22:07:11.841350",
     "exception": false,
     "start_time": "2022-04-13T22:07:11.810229",
     "status": "completed"
    },
    "tags": []
   },
   "outputs": [],
   "source": [
    "from scipy.stats import kurtosis, iqr\n",
    "def kurtosis_func(series):\n",
    "    '''\n",
    "    Describe something...\n",
    "    '''\n",
    "    return kurtosis(series)\n",
    "\n",
    "def iqr_func(series):\n",
    "    return iqr(series)"
   ]
  },
  {
   "cell_type": "code",
   "execution_count": 6,
   "id": "82afd8b8",
   "metadata": {
    "execution": {
     "iopub.execute_input": "2022-04-13T22:07:11.956270Z",
     "iopub.status.busy": "2022-04-13T22:07:11.955511Z",
     "iopub.status.idle": "2022-04-13T22:09:11.221862Z",
     "shell.execute_reply": "2022-04-13T22:09:11.222463Z",
     "shell.execute_reply.started": "2022-04-13T22:01:05.420790Z"
    },
    "papermill": {
     "duration": 119.358706,
     "end_time": "2022-04-13T22:09:11.222660",
     "exception": false,
     "start_time": "2022-04-13T22:07:11.863954",
     "status": "completed"
    },
    "tags": []
   },
   "outputs": [
    {
     "name": "stderr",
     "output_type": "stream",
     "text": [
      "100%|██████████| 13/13 [01:57<00:00,  9.06s/it]"
     ]
    },
    {
     "name": "stdout",
     "output_type": "stream",
     "text": [
      "(25968, 82)\n",
      "CPU times: user 1min 58s, sys: 1.03 s, total: 1min 59s\n",
      "Wall time: 1min 59s\n"
     ]
    },
    {
     "name": "stderr",
     "output_type": "stream",
     "text": [
      "\n"
     ]
    },
    {
     "data": {
      "text/html": [
       "<div>\n",
       "<style scoped>\n",
       "    .dataframe tbody tr th:only-of-type {\n",
       "        vertical-align: middle;\n",
       "    }\n",
       "\n",
       "    .dataframe tbody tr th {\n",
       "        vertical-align: top;\n",
       "    }\n",
       "\n",
       "    .dataframe thead th {\n",
       "        text-align: right;\n",
       "    }\n",
       "</style>\n",
       "<table border=\"1\" class=\"dataframe\">\n",
       "  <thead>\n",
       "    <tr style=\"text-align: right;\">\n",
       "      <th></th>\n",
       "      <th>sequence</th>\n",
       "      <th>subject</th>\n",
       "      <th>sensor_00_mean</th>\n",
       "      <th>sensor_00_std</th>\n",
       "      <th>sensor_00_min</th>\n",
       "      <th>sensor_00_max</th>\n",
       "      <th>sensor_01_mean</th>\n",
       "      <th>sensor_01_std</th>\n",
       "      <th>sensor_01_min</th>\n",
       "      <th>sensor_01_max</th>\n",
       "      <th>...</th>\n",
       "      <th>kurt_sensor_08</th>\n",
       "      <th>iqr_sensor_08</th>\n",
       "      <th>kurt_sensor_09</th>\n",
       "      <th>iqr_sensor_09</th>\n",
       "      <th>kurt_sensor_10</th>\n",
       "      <th>iqr_sensor_10</th>\n",
       "      <th>kurt_sensor_11</th>\n",
       "      <th>iqr_sensor_11</th>\n",
       "      <th>kurt_sensor_12</th>\n",
       "      <th>iqr_sensor_12</th>\n",
       "    </tr>\n",
       "  </thead>\n",
       "  <tbody>\n",
       "    <tr>\n",
       "      <th>0</th>\n",
       "      <td>0</td>\n",
       "      <td>47</td>\n",
       "      <td>0.041744</td>\n",
       "      <td>1.431660</td>\n",
       "      <td>-5.634467</td>\n",
       "      <td>7.534003</td>\n",
       "      <td>-0.013025</td>\n",
       "      <td>1.509221</td>\n",
       "      <td>-3.002101</td>\n",
       "      <td>3.623950</td>\n",
       "      <td>...</td>\n",
       "      <td>-0.403691</td>\n",
       "      <td>1.425</td>\n",
       "      <td>-0.089246</td>\n",
       "      <td>1.309249</td>\n",
       "      <td>-0.513776</td>\n",
       "      <td>1.247553</td>\n",
       "      <td>-0.012706</td>\n",
       "      <td>1.341049</td>\n",
       "      <td>21.285187</td>\n",
       "      <td>6.099957</td>\n",
       "    </tr>\n",
       "    <tr>\n",
       "      <th>1</th>\n",
       "      <td>1</td>\n",
       "      <td>66</td>\n",
       "      <td>-0.069294</td>\n",
       "      <td>1.593907</td>\n",
       "      <td>-6.657651</td>\n",
       "      <td>5.870943</td>\n",
       "      <td>-0.019958</td>\n",
       "      <td>0.949403</td>\n",
       "      <td>-2.745798</td>\n",
       "      <td>2.525210</td>\n",
       "      <td>...</td>\n",
       "      <td>0.127919</td>\n",
       "      <td>1.300</td>\n",
       "      <td>2.253551</td>\n",
       "      <td>1.024566</td>\n",
       "      <td>19.969010</td>\n",
       "      <td>0.884557</td>\n",
       "      <td>5.656813</td>\n",
       "      <td>1.069187</td>\n",
       "      <td>3.088862</td>\n",
       "      <td>0.396526</td>\n",
       "    </tr>\n",
       "    <tr>\n",
       "      <th>2</th>\n",
       "      <td>2</td>\n",
       "      <td>66</td>\n",
       "      <td>-0.001546</td>\n",
       "      <td>1.147526</td>\n",
       "      <td>-2.797527</td>\n",
       "      <td>3.402628</td>\n",
       "      <td>0.025000</td>\n",
       "      <td>0.803884</td>\n",
       "      <td>-1.733193</td>\n",
       "      <td>2.321429</td>\n",
       "      <td>...</td>\n",
       "      <td>1.949469</td>\n",
       "      <td>1.175</td>\n",
       "      <td>2.195867</td>\n",
       "      <td>0.787030</td>\n",
       "      <td>7.386540</td>\n",
       "      <td>0.737545</td>\n",
       "      <td>0.490734</td>\n",
       "      <td>0.787037</td>\n",
       "      <td>1.936414</td>\n",
       "      <td>0.356991</td>\n",
       "    </tr>\n",
       "    <tr>\n",
       "      <th>3</th>\n",
       "      <td>3</td>\n",
       "      <td>542</td>\n",
       "      <td>0.029869</td>\n",
       "      <td>1.769705</td>\n",
       "      <td>-3.643740</td>\n",
       "      <td>4.856260</td>\n",
       "      <td>-0.049177</td>\n",
       "      <td>1.914868</td>\n",
       "      <td>-5.860294</td>\n",
       "      <td>6.722689</td>\n",
       "      <td>...</td>\n",
       "      <td>0.367865</td>\n",
       "      <td>2.400</td>\n",
       "      <td>0.921675</td>\n",
       "      <td>3.703215</td>\n",
       "      <td>3.894959</td>\n",
       "      <td>0.379938</td>\n",
       "      <td>0.701239</td>\n",
       "      <td>1.101852</td>\n",
       "      <td>2.122750</td>\n",
       "      <td>0.233163</td>\n",
       "    </tr>\n",
       "    <tr>\n",
       "      <th>4</th>\n",
       "      <td>4</td>\n",
       "      <td>437</td>\n",
       "      <td>0.059132</td>\n",
       "      <td>2.014779</td>\n",
       "      <td>-5.331530</td>\n",
       "      <td>5.455951</td>\n",
       "      <td>0.014916</td>\n",
       "      <td>1.385251</td>\n",
       "      <td>-5.898109</td>\n",
       "      <td>3.532563</td>\n",
       "      <td>...</td>\n",
       "      <td>0.188311</td>\n",
       "      <td>1.150</td>\n",
       "      <td>1.659885</td>\n",
       "      <td>1.124819</td>\n",
       "      <td>-1.208661</td>\n",
       "      <td>0.605028</td>\n",
       "      <td>0.291986</td>\n",
       "      <td>2.761831</td>\n",
       "      <td>-0.001164</td>\n",
       "      <td>0.057971</td>\n",
       "    </tr>\n",
       "  </tbody>\n",
       "</table>\n",
       "<p>5 rows × 82 columns</p>\n",
       "</div>"
      ],
      "text/plain": [
       "   sequence  subject  sensor_00_mean  sensor_00_std  sensor_00_min  \\\n",
       "0         0       47        0.041744       1.431660      -5.634467   \n",
       "1         1       66       -0.069294       1.593907      -6.657651   \n",
       "2         2       66       -0.001546       1.147526      -2.797527   \n",
       "3         3      542        0.029869       1.769705      -3.643740   \n",
       "4         4      437        0.059132       2.014779      -5.331530   \n",
       "\n",
       "   sensor_00_max  sensor_01_mean  sensor_01_std  sensor_01_min  sensor_01_max  \\\n",
       "0       7.534003       -0.013025       1.509221      -3.002101       3.623950   \n",
       "1       5.870943       -0.019958       0.949403      -2.745798       2.525210   \n",
       "2       3.402628        0.025000       0.803884      -1.733193       2.321429   \n",
       "3       4.856260       -0.049177       1.914868      -5.860294       6.722689   \n",
       "4       5.455951        0.014916       1.385251      -5.898109       3.532563   \n",
       "\n",
       "   ...  kurt_sensor_08  iqr_sensor_08  kurt_sensor_09  iqr_sensor_09  \\\n",
       "0  ...       -0.403691          1.425       -0.089246       1.309249   \n",
       "1  ...        0.127919          1.300        2.253551       1.024566   \n",
       "2  ...        1.949469          1.175        2.195867       0.787030   \n",
       "3  ...        0.367865          2.400        0.921675       3.703215   \n",
       "4  ...        0.188311          1.150        1.659885       1.124819   \n",
       "\n",
       "   kurt_sensor_10  iqr_sensor_10  kurt_sensor_11  iqr_sensor_11  \\\n",
       "0       -0.513776       1.247553       -0.012706       1.341049   \n",
       "1       19.969010       0.884557        5.656813       1.069187   \n",
       "2        7.386540       0.737545        0.490734       0.787037   \n",
       "3        3.894959       0.379938        0.701239       1.101852   \n",
       "4       -1.208661       0.605028        0.291986       2.761831   \n",
       "\n",
       "   kurt_sensor_12  iqr_sensor_12  \n",
       "0       21.285187       6.099957  \n",
       "1        3.088862       0.396526  \n",
       "2        1.936414       0.356991  \n",
       "3        2.122750       0.233163  \n",
       "4       -0.001164       0.057971  \n",
       "\n",
       "[5 rows x 82 columns]"
      ]
     },
     "execution_count": 6,
     "metadata": {},
     "output_type": "execute_result"
    }
   ],
   "source": [
    "%%time\n",
    "\n",
    "train['colmean'] = train[scols].mean(axis = 1)\n",
    "train['colstd'] = train[scols].std(axis = 1)\n",
    "\n",
    "train_agg = train.groupby(['sequence','subject'])[scols].agg(['mean','std','min','max'])\n",
    "train_agg.columns = [\"_\".join(x) for x in train_agg.columns.ravel()]\n",
    "train_agg = train_agg.reset_index()\n",
    "train_agg = train_agg.merge(train_labels)\n",
    "train_agg['seq_cnt'] = train_agg.groupby('subject')['sequence'].transform('size')\n",
    "\n",
    "for c in tqdm(scols):\n",
    "    train_agg['kurt_'+ c] = train.groupby(['sequence','subject'])[c].apply(kurtosis).values\n",
    "    \n",
    "    train_agg['iqr_' + c] = train.groupby(['sequence','subject'])[c].apply(iqr_func).values\n",
    "    \n",
    "print(train_agg.shape)\n",
    "train_agg.head()"
   ]
  },
  {
   "cell_type": "markdown",
   "id": "53f3f218",
   "metadata": {
    "papermill": {
     "duration": 0.030489,
     "end_time": "2022-04-13T22:09:11.283179",
     "exception": false,
     "start_time": "2022-04-13T22:09:11.252690",
     "status": "completed"
    },
    "tags": []
   },
   "source": [
    "# Correlation Analysis"
   ]
  },
  {
   "cell_type": "code",
   "execution_count": 7,
   "id": "b2bcd270",
   "metadata": {
    "execution": {
     "iopub.execute_input": "2022-04-13T22:09:11.350817Z",
     "iopub.status.busy": "2022-04-13T22:09:11.348713Z",
     "iopub.status.idle": "2022-04-13T22:09:11.841885Z",
     "shell.execute_reply": "2022-04-13T22:09:11.841350Z",
     "shell.execute_reply.started": "2022-04-13T22:03:07.850315Z"
    },
    "papermill": {
     "duration": 0.528874,
     "end_time": "2022-04-13T22:09:11.842046",
     "exception": false,
     "start_time": "2022-04-13T22:09:11.313172",
     "status": "completed"
    },
    "tags": []
   },
   "outputs": [
    {
     "data": {
      "text/plain": [
       "state             1.000000\n",
       "seq_cnt           0.368076\n",
       "kurt_sensor_04    0.317900\n",
       "kurt_sensor_10    0.254715\n",
       "kurt_sensor_11    0.188112\n",
       "                    ...   \n",
       "sensor_07_mean    0.003675\n",
       "sensor_05_std     0.002744\n",
       "sensor_03_mean    0.001918\n",
       "sensor_00_min     0.001893\n",
       "sensor_07_std     0.001254\n",
       "Name: state, Length: 82, dtype: float64"
      ]
     },
     "execution_count": 7,
     "metadata": {},
     "output_type": "execute_result"
    }
   ],
   "source": [
    "train_agg.corr()['state'].abs().sort_values(ascending = False)"
   ]
  },
  {
   "cell_type": "code",
   "execution_count": 8,
   "id": "65d43cc3",
   "metadata": {
    "execution": {
     "iopub.execute_input": "2022-04-13T22:09:11.940341Z",
     "iopub.status.busy": "2022-04-13T22:09:11.939634Z",
     "iopub.status.idle": "2022-04-13T22:10:08.288939Z",
     "shell.execute_reply": "2022-04-13T22:10:08.289461Z",
     "shell.execute_reply.started": "2022-04-13T22:04:09.706004Z"
    },
    "papermill": {
     "duration": 56.41752,
     "end_time": "2022-04-13T22:10:08.289640",
     "exception": false,
     "start_time": "2022-04-13T22:09:11.872120",
     "status": "completed"
    },
    "tags": []
   },
   "outputs": [
    {
     "name": "stderr",
     "output_type": "stream",
     "text": [
      "100%|██████████| 13/13 [00:55<00:00,  4.28s/it]"
     ]
    },
    {
     "name": "stdout",
     "output_type": "stream",
     "text": [
      "(12218, 81)\n",
      "CPU times: user 56.2 s, sys: 175 ms, total: 56.3 s\n",
      "Wall time: 56.4 s\n"
     ]
    },
    {
     "name": "stderr",
     "output_type": "stream",
     "text": [
      "\n"
     ]
    },
    {
     "data": {
      "text/html": [
       "<div>\n",
       "<style scoped>\n",
       "    .dataframe tbody tr th:only-of-type {\n",
       "        vertical-align: middle;\n",
       "    }\n",
       "\n",
       "    .dataframe tbody tr th {\n",
       "        vertical-align: top;\n",
       "    }\n",
       "\n",
       "    .dataframe thead th {\n",
       "        text-align: right;\n",
       "    }\n",
       "</style>\n",
       "<table border=\"1\" class=\"dataframe\">\n",
       "  <thead>\n",
       "    <tr style=\"text-align: right;\">\n",
       "      <th></th>\n",
       "      <th>sequence</th>\n",
       "      <th>subject</th>\n",
       "      <th>sensor_00_mean</th>\n",
       "      <th>sensor_00_std</th>\n",
       "      <th>sensor_00_min</th>\n",
       "      <th>sensor_00_max</th>\n",
       "      <th>sensor_01_mean</th>\n",
       "      <th>sensor_01_std</th>\n",
       "      <th>sensor_01_min</th>\n",
       "      <th>sensor_01_max</th>\n",
       "      <th>...</th>\n",
       "      <th>kurt_sensor_08</th>\n",
       "      <th>iqr_sensor_08</th>\n",
       "      <th>kurt_sensor_09</th>\n",
       "      <th>iqr_sensor_09</th>\n",
       "      <th>kurt_sensor_10</th>\n",
       "      <th>iqr_sensor_10</th>\n",
       "      <th>kurt_sensor_11</th>\n",
       "      <th>iqr_sensor_11</th>\n",
       "      <th>kurt_sensor_12</th>\n",
       "      <th>iqr_sensor_12</th>\n",
       "    </tr>\n",
       "  </thead>\n",
       "  <tbody>\n",
       "    <tr>\n",
       "      <th>0</th>\n",
       "      <td>25968</td>\n",
       "      <td>684</td>\n",
       "      <td>-0.002602</td>\n",
       "      <td>1.091741</td>\n",
       "      <td>-4.950541</td>\n",
       "      <td>3.146832</td>\n",
       "      <td>-0.036432</td>\n",
       "      <td>4.499484</td>\n",
       "      <td>-21.747899</td>\n",
       "      <td>19.639706</td>\n",
       "      <td>...</td>\n",
       "      <td>2.033689</td>\n",
       "      <td>2.250</td>\n",
       "      <td>0.467456</td>\n",
       "      <td>0.952854</td>\n",
       "      <td>11.702361</td>\n",
       "      <td>0.615995</td>\n",
       "      <td>8.088929</td>\n",
       "      <td>1.048868</td>\n",
       "      <td>-0.293747</td>\n",
       "      <td>0.439258</td>\n",
       "    </tr>\n",
       "    <tr>\n",
       "      <th>1</th>\n",
       "      <td>25969</td>\n",
       "      <td>935</td>\n",
       "      <td>0.028516</td>\n",
       "      <td>1.450040</td>\n",
       "      <td>-3.675425</td>\n",
       "      <td>5.816074</td>\n",
       "      <td>0.002276</td>\n",
       "      <td>0.775379</td>\n",
       "      <td>-2.259454</td>\n",
       "      <td>1.763655</td>\n",
       "      <td>...</td>\n",
       "      <td>-0.044299</td>\n",
       "      <td>0.900</td>\n",
       "      <td>1.191125</td>\n",
       "      <td>0.688764</td>\n",
       "      <td>-0.222143</td>\n",
       "      <td>0.618827</td>\n",
       "      <td>1.753780</td>\n",
       "      <td>0.980453</td>\n",
       "      <td>-1.044935</td>\n",
       "      <td>1.062553</td>\n",
       "    </tr>\n",
       "    <tr>\n",
       "      <th>2</th>\n",
       "      <td>25970</td>\n",
       "      <td>924</td>\n",
       "      <td>0.057664</td>\n",
       "      <td>5.083618</td>\n",
       "      <td>-15.005410</td>\n",
       "      <td>12.306028</td>\n",
       "      <td>-0.021796</td>\n",
       "      <td>2.903657</td>\n",
       "      <td>-5.611345</td>\n",
       "      <td>5.900210</td>\n",
       "      <td>...</td>\n",
       "      <td>-0.067345</td>\n",
       "      <td>0.725</td>\n",
       "      <td>-0.078528</td>\n",
       "      <td>2.352782</td>\n",
       "      <td>-1.426722</td>\n",
       "      <td>5.706731</td>\n",
       "      <td>1.509805</td>\n",
       "      <td>3.298611</td>\n",
       "      <td>-1.158939</td>\n",
       "      <td>31.323423</td>\n",
       "    </tr>\n",
       "    <tr>\n",
       "      <th>3</th>\n",
       "      <td>25971</td>\n",
       "      <td>769</td>\n",
       "      <td>-0.004791</td>\n",
       "      <td>0.914917</td>\n",
       "      <td>-2.465997</td>\n",
       "      <td>2.876352</td>\n",
       "      <td>0.014863</td>\n",
       "      <td>0.950923</td>\n",
       "      <td>-2.591387</td>\n",
       "      <td>2.435924</td>\n",
       "      <td>...</td>\n",
       "      <td>1.710135</td>\n",
       "      <td>0.800</td>\n",
       "      <td>1.137138</td>\n",
       "      <td>0.564848</td>\n",
       "      <td>2.289931</td>\n",
       "      <td>0.413716</td>\n",
       "      <td>1.373066</td>\n",
       "      <td>0.558128</td>\n",
       "      <td>-0.497098</td>\n",
       "      <td>1.598998</td>\n",
       "    </tr>\n",
       "    <tr>\n",
       "      <th>4</th>\n",
       "      <td>25972</td>\n",
       "      <td>764</td>\n",
       "      <td>-0.001443</td>\n",
       "      <td>2.783685</td>\n",
       "      <td>-9.974498</td>\n",
       "      <td>17.295209</td>\n",
       "      <td>-0.025350</td>\n",
       "      <td>23.942241</td>\n",
       "      <td>-136.376050</td>\n",
       "      <td>115.925420</td>\n",
       "      <td>...</td>\n",
       "      <td>12.109514</td>\n",
       "      <td>1.000</td>\n",
       "      <td>26.070890</td>\n",
       "      <td>1.001445</td>\n",
       "      <td>0.723371</td>\n",
       "      <td>4.298331</td>\n",
       "      <td>27.719859</td>\n",
       "      <td>0.967850</td>\n",
       "      <td>-0.731940</td>\n",
       "      <td>248.652387</td>\n",
       "    </tr>\n",
       "  </tbody>\n",
       "</table>\n",
       "<p>5 rows × 81 columns</p>\n",
       "</div>"
      ],
      "text/plain": [
       "   sequence  subject  sensor_00_mean  sensor_00_std  sensor_00_min  \\\n",
       "0     25968      684       -0.002602       1.091741      -4.950541   \n",
       "1     25969      935        0.028516       1.450040      -3.675425   \n",
       "2     25970      924        0.057664       5.083618     -15.005410   \n",
       "3     25971      769       -0.004791       0.914917      -2.465997   \n",
       "4     25972      764       -0.001443       2.783685      -9.974498   \n",
       "\n",
       "   sensor_00_max  sensor_01_mean  sensor_01_std  sensor_01_min  sensor_01_max  \\\n",
       "0       3.146832       -0.036432       4.499484     -21.747899      19.639706   \n",
       "1       5.816074        0.002276       0.775379      -2.259454       1.763655   \n",
       "2      12.306028       -0.021796       2.903657      -5.611345       5.900210   \n",
       "3       2.876352        0.014863       0.950923      -2.591387       2.435924   \n",
       "4      17.295209       -0.025350      23.942241    -136.376050     115.925420   \n",
       "\n",
       "   ...  kurt_sensor_08  iqr_sensor_08  kurt_sensor_09  iqr_sensor_09  \\\n",
       "0  ...        2.033689          2.250        0.467456       0.952854   \n",
       "1  ...       -0.044299          0.900        1.191125       0.688764   \n",
       "2  ...       -0.067345          0.725       -0.078528       2.352782   \n",
       "3  ...        1.710135          0.800        1.137138       0.564848   \n",
       "4  ...       12.109514          1.000       26.070890       1.001445   \n",
       "\n",
       "   kurt_sensor_10  iqr_sensor_10  kurt_sensor_11  iqr_sensor_11  \\\n",
       "0       11.702361       0.615995        8.088929       1.048868   \n",
       "1       -0.222143       0.618827        1.753780       0.980453   \n",
       "2       -1.426722       5.706731        1.509805       3.298611   \n",
       "3        2.289931       0.413716        1.373066       0.558128   \n",
       "4        0.723371       4.298331       27.719859       0.967850   \n",
       "\n",
       "   kurt_sensor_12  iqr_sensor_12  \n",
       "0       -0.293747       0.439258  \n",
       "1       -1.044935       1.062553  \n",
       "2       -1.158939      31.323423  \n",
       "3       -0.497098       1.598998  \n",
       "4       -0.731940     248.652387  \n",
       "\n",
       "[5 rows x 81 columns]"
      ]
     },
     "execution_count": 8,
     "metadata": {},
     "output_type": "execute_result"
    }
   ],
   "source": [
    "%%time\n",
    "\n",
    "test['colmean'] = test[scols].mean(axis = 1)\n",
    "test['colstd'] = test[scols].std(axis = 1)\n",
    "\n",
    "test_agg = test.groupby(['sequence','subject'])[scols].agg(['mean','std','min','max'])\n",
    "test_agg.columns = [\"_\".join(x) for x in test_agg.columns.ravel()]\n",
    "test_agg = test_agg.reset_index()\n",
    "test_agg['seq_cnt'] = test_agg.groupby('subject')['sequence'].transform('size')\n",
    "\n",
    "for c in tqdm(scols):\n",
    "    test_agg['kurt_'+ c] = test.groupby(['sequence','subject'])[c].apply(kurtosis).values\n",
    "    test_agg['iqr_' + c] = test.groupby(['sequence','subject'])[c].apply(iqr_func).values\n",
    "    \n",
    "print(test_agg.shape)\n",
    "test_agg.head()\n"
   ]
  },
  {
   "cell_type": "markdown",
   "id": "064e3379",
   "metadata": {
    "papermill": {
     "duration": 0.035775,
     "end_time": "2022-04-13T22:10:08.362213",
     "exception": false,
     "start_time": "2022-04-13T22:10:08.326438",
     "status": "completed"
    },
    "tags": []
   },
   "source": [
    "# Pre-processing"
   ]
  },
  {
   "cell_type": "code",
   "execution_count": 9,
   "id": "94df2dce",
   "metadata": {
    "execution": {
     "iopub.execute_input": "2022-04-13T22:10:08.443603Z",
     "iopub.status.busy": "2022-04-13T22:10:08.441529Z",
     "iopub.status.idle": "2022-04-13T22:10:08.464299Z",
     "shell.execute_reply": "2022-04-13T22:10:08.463607Z",
     "shell.execute_reply.started": "2022-04-13T22:05:14.946982Z"
    },
    "papermill": {
     "duration": 0.06616,
     "end_time": "2022-04-13T22:10:08.464446",
     "exception": false,
     "start_time": "2022-04-13T22:10:08.398286",
     "status": "completed"
    },
    "tags": []
   },
   "outputs": [
    {
     "name": "stdout",
     "output_type": "stream",
     "text": [
      "(25968, 79)\n",
      "(12218, 79)\n"
     ]
    }
   ],
   "source": [
    "X_train = train_agg.drop(['state','sequence','subject'], axis = 1)\n",
    "y_train = train_agg.state\n",
    "print(X_train.shape)\n",
    "X_test = test_agg.drop(['sequence','subject'], axis = 1)\n",
    "print(X_test.shape)\n",
    "\n",
    "grp = train_agg.subject"
   ]
  },
  {
   "cell_type": "code",
   "execution_count": 10,
   "id": "6554860f",
   "metadata": {
    "execution": {
     "iopub.execute_input": "2022-04-13T22:10:08.544900Z",
     "iopub.status.busy": "2022-04-13T22:10:08.544220Z",
     "iopub.status.idle": "2022-04-13T22:10:08.551270Z",
     "shell.execute_reply": "2022-04-13T22:10:08.550688Z",
     "shell.execute_reply.started": "2022-04-13T22:05:17.017094Z"
    },
    "papermill": {
     "duration": 0.050181,
     "end_time": "2022-04-13T22:10:08.551410",
     "exception": false,
     "start_time": "2022-04-13T22:10:08.501229",
     "status": "completed"
    },
    "tags": []
   },
   "outputs": [
    {
     "data": {
      "text/plain": [
       "437    199\n",
       "1      175\n",
       "635    158\n",
       "647    144\n",
       "87     129\n",
       "      ... \n",
       "486      7\n",
       "519      7\n",
       "265      6\n",
       "73       5\n",
       "472      2\n",
       "Name: subject, Length: 672, dtype: int64"
      ]
     },
     "execution_count": 10,
     "metadata": {},
     "output_type": "execute_result"
    }
   ],
   "source": [
    "train_agg.subject.value_counts()"
   ]
  },
  {
   "cell_type": "markdown",
   "id": "897625e1",
   "metadata": {
    "papermill": {
     "duration": 0.036884,
     "end_time": "2022-04-13T22:10:08.625619",
     "exception": false,
     "start_time": "2022-04-13T22:10:08.588735",
     "status": "completed"
    },
    "tags": []
   },
   "source": [
    "# LGBM"
   ]
  },
  {
   "cell_type": "code",
   "execution_count": 11,
   "id": "1609467b",
   "metadata": {
    "execution": {
     "iopub.execute_input": "2022-04-13T22:10:08.703872Z",
     "iopub.status.busy": "2022-04-13T22:10:08.703123Z",
     "iopub.status.idle": "2022-04-13T22:10:55.699468Z",
     "shell.execute_reply": "2022-04-13T22:10:55.700063Z",
     "shell.execute_reply.started": "2022-04-13T22:05:21.177313Z"
    },
    "papermill": {
     "duration": 47.03758,
     "end_time": "2022-04-13T22:10:55.700304",
     "exception": false,
     "start_time": "2022-04-13T22:10:08.662724",
     "status": "completed"
    },
    "tags": []
   },
   "outputs": [
    {
     "data": {
      "text/html": [
       "<style type='text/css'>\n",
       ".datatable table.frame { margin-bottom: 0; }\n",
       ".datatable table.frame thead { border-bottom: none; }\n",
       ".datatable table.frame tr.coltypes td {  color: #FFFFFF;  line-height: 6px;  padding: 0 0.5em;}\n",
       ".datatable .bool    { background: #DDDD99; }\n",
       ".datatable .object  { background: #565656; }\n",
       ".datatable .int     { background: #5D9E5D; }\n",
       ".datatable .float   { background: #4040CC; }\n",
       ".datatable .str     { background: #CC4040; }\n",
       ".datatable .time    { background: #40CC40; }\n",
       ".datatable .row_index {  background: var(--jp-border-color3);  border-right: 1px solid var(--jp-border-color0);  color: var(--jp-ui-font-color3);  font-size: 9px;}\n",
       ".datatable .frame tbody td { text-align: left; }\n",
       ".datatable .frame tr.coltypes .row_index {  background: var(--jp-border-color0);}\n",
       ".datatable th:nth-child(2) { padding-left: 12px; }\n",
       ".datatable .hellipsis {  color: var(--jp-cell-editor-border-color);}\n",
       ".datatable .vellipsis {  background: var(--jp-layout-color0);  color: var(--jp-cell-editor-border-color);}\n",
       ".datatable .na {  color: var(--jp-cell-editor-border-color);  font-size: 80%;}\n",
       ".datatable .sp {  opacity: 0.25;}\n",
       ".datatable .footer { font-size: 9px; }\n",
       ".datatable .frame_dimensions {  background: var(--jp-border-color3);  border-top: 1px solid var(--jp-border-color0);  color: var(--jp-ui-font-color3);  display: inline-block;  opacity: 0.6;  padding: 1px 10px 1px 5px;}\n",
       "</style>\n"
      ],
      "text/plain": [
       "<IPython.core.display.HTML object>"
      ]
     },
     "metadata": {},
     "output_type": "display_data"
    },
    {
     "name": "stdout",
     "output_type": "stream",
     "text": [
      "Fold 1\n",
      "**************************************************\n",
      "[100]\ttraining's auc: 0.950777\ttraining's binary_logloss: 0.304896\tvalid_1's auc: 0.919397\tvalid_1's binary_logloss: 0.359345\n",
      "[200]\ttraining's auc: 0.973661\ttraining's binary_logloss: 0.238835\tvalid_1's auc: 0.926351\tvalid_1's binary_logloss: 0.33764\n",
      "[300]\ttraining's auc: 0.986262\ttraining's binary_logloss: 0.198242\tvalid_1's auc: 0.928131\tvalid_1's binary_logloss: 0.332669\n",
      "[400]\ttraining's auc: 0.993083\ttraining's binary_logloss: 0.168419\tvalid_1's auc: 0.928695\tvalid_1's binary_logloss: 0.330917\n",
      "[500]\ttraining's auc: 0.996702\ttraining's binary_logloss: 0.144142\tvalid_1's auc: 0.92935\tvalid_1's binary_logloss: 0.329359\n",
      "[600]\ttraining's auc: 0.99866\ttraining's binary_logloss: 0.123886\tvalid_1's auc: 0.929796\tvalid_1's binary_logloss: 0.328667\n",
      "[700]\ttraining's auc: 0.999531\ttraining's binary_logloss: 0.106596\tvalid_1's auc: 0.930496\tvalid_1's binary_logloss: 0.327742\n",
      "[800]\ttraining's auc: 0.999858\ttraining's binary_logloss: 0.0923148\tvalid_1's auc: 0.931081\tvalid_1's binary_logloss: 0.32713\n",
      "[900]\ttraining's auc: 0.999959\ttraining's binary_logloss: 0.0807524\tvalid_1's auc: 0.930964\tvalid_1's binary_logloss: 0.328813\n",
      "Fold 2\n",
      "**************************************************\n",
      "[100]\ttraining's auc: 0.949928\ttraining's binary_logloss: 0.306828\tvalid_1's auc: 0.921405\tvalid_1's binary_logloss: 0.354643\n",
      "[200]\ttraining's auc: 0.973027\ttraining's binary_logloss: 0.24054\tvalid_1's auc: 0.929499\tvalid_1's binary_logloss: 0.331788\n",
      "[300]\ttraining's auc: 0.98573\ttraining's binary_logloss: 0.199843\tvalid_1's auc: 0.931148\tvalid_1's binary_logloss: 0.326576\n",
      "[400]\ttraining's auc: 0.992928\ttraining's binary_logloss: 0.169587\tvalid_1's auc: 0.93201\tvalid_1's binary_logloss: 0.324138\n",
      "[500]\ttraining's auc: 0.996777\ttraining's binary_logloss: 0.144934\tvalid_1's auc: 0.933014\tvalid_1's binary_logloss: 0.321794\n",
      "[600]\ttraining's auc: 0.998665\ttraining's binary_logloss: 0.124778\tvalid_1's auc: 0.933633\tvalid_1's binary_logloss: 0.320889\n",
      "[700]\ttraining's auc: 0.99951\ttraining's binary_logloss: 0.108165\tvalid_1's auc: 0.9341\tvalid_1's binary_logloss: 0.320411\n",
      "Fold 3\n",
      "**************************************************\n",
      "[100]\ttraining's auc: 0.950728\ttraining's binary_logloss: 0.304276\tvalid_1's auc: 0.915144\tvalid_1's binary_logloss: 0.36683\n",
      "[200]\ttraining's auc: 0.9741\ttraining's binary_logloss: 0.237742\tvalid_1's auc: 0.922779\tvalid_1's binary_logloss: 0.346163\n",
      "[300]\ttraining's auc: 0.986761\ttraining's binary_logloss: 0.196825\tvalid_1's auc: 0.924702\tvalid_1's binary_logloss: 0.341569\n",
      "[400]\ttraining's auc: 0.993499\ttraining's binary_logloss: 0.166661\tvalid_1's auc: 0.926065\tvalid_1's binary_logloss: 0.338867\n",
      "[500]\ttraining's auc: 0.996955\ttraining's binary_logloss: 0.142444\tvalid_1's auc: 0.926536\tvalid_1's binary_logloss: 0.338342\n",
      "[600]\ttraining's auc: 0.998684\ttraining's binary_logloss: 0.12281\tvalid_1's auc: 0.927327\tvalid_1's binary_logloss: 0.337114\n",
      "[700]\ttraining's auc: 0.999452\ttraining's binary_logloss: 0.106432\tvalid_1's auc: 0.927737\tvalid_1's binary_logloss: 0.337401\n",
      "Fold 4\n",
      "**************************************************\n",
      "[100]\ttraining's auc: 0.950183\ttraining's binary_logloss: 0.305527\tvalid_1's auc: 0.920855\tvalid_1's binary_logloss: 0.355027\n",
      "[200]\ttraining's auc: 0.973246\ttraining's binary_logloss: 0.239728\tvalid_1's auc: 0.929074\tvalid_1's binary_logloss: 0.331549\n",
      "[300]\ttraining's auc: 0.985792\ttraining's binary_logloss: 0.198974\tvalid_1's auc: 0.931002\tvalid_1's binary_logloss: 0.325903\n",
      "[400]\ttraining's auc: 0.992842\ttraining's binary_logloss: 0.168592\tvalid_1's auc: 0.931946\tvalid_1's binary_logloss: 0.323388\n",
      "[500]\ttraining's auc: 0.996696\ttraining's binary_logloss: 0.144025\tvalid_1's auc: 0.932753\tvalid_1's binary_logloss: 0.321621\n",
      "[600]\ttraining's auc: 0.998542\ttraining's binary_logloss: 0.124224\tvalid_1's auc: 0.933741\tvalid_1's binary_logloss: 0.319607\n",
      "[700]\ttraining's auc: 0.999394\ttraining's binary_logloss: 0.107601\tvalid_1's auc: 0.934169\tvalid_1's binary_logloss: 0.319087\n",
      "[800]\ttraining's auc: 0.999797\ttraining's binary_logloss: 0.0932626\tvalid_1's auc: 0.934466\tvalid_1's binary_logloss: 0.318905\n",
      "Fold 5\n",
      "**************************************************\n",
      "[100]\ttraining's auc: 0.950528\ttraining's binary_logloss: 0.305126\tvalid_1's auc: 0.916636\tvalid_1's binary_logloss: 0.364082\n",
      "[200]\ttraining's auc: 0.97353\ttraining's binary_logloss: 0.238921\tvalid_1's auc: 0.924987\tvalid_1's binary_logloss: 0.340193\n",
      "[300]\ttraining's auc: 0.986142\ttraining's binary_logloss: 0.197905\tvalid_1's auc: 0.92734\tvalid_1's binary_logloss: 0.333731\n",
      "[400]\ttraining's auc: 0.992985\ttraining's binary_logloss: 0.167473\tvalid_1's auc: 0.928735\tvalid_1's binary_logloss: 0.330076\n",
      "[500]\ttraining's auc: 0.996746\ttraining's binary_logloss: 0.143192\tvalid_1's auc: 0.929692\tvalid_1's binary_logloss: 0.327927\n",
      "[600]\ttraining's auc: 0.998509\ttraining's binary_logloss: 0.12371\tvalid_1's auc: 0.930156\tvalid_1's binary_logloss: 0.327062\n",
      "[700]\ttraining's auc: 0.999376\ttraining's binary_logloss: 0.107224\tvalid_1's auc: 0.930468\tvalid_1's binary_logloss: 0.326803\n",
      "OOF ROC 0.9315393389131488\n"
     ]
    }
   ],
   "source": [
    "import lightgbm as lgb\n",
    "from sklearn.metrics import roc_auc_score\n",
    "from sklearn.model_selection import KFold, StratifiedKFold, GroupKFold\n",
    "\n",
    "skf = StratifiedKFold(n_splits = 5, shuffle = True, random_state = 2022)\n",
    "gkf = GroupKFold(n_splits = 5)\n",
    "preds = np.zeros(len(sub))\n",
    "oof = np.zeros(len(X_train))\n",
    "\n",
    "for i, (idxt, idxv) in enumerate(skf.split(X_train, y_train)):\n",
    "#for i, (idxt, idxv) in enumerate(gkf.split(X_train, groups = grp)):\n",
    "    \n",
    "    print('Fold', i+1)\n",
    "    print('*' * 50)\n",
    "    \n",
    "    X_trn, X_val = X_train.iloc[idxt], X_train.iloc[idxv]\n",
    "    y_trn, y_val = y_train.iloc[idxt], y_train.iloc[idxv]\n",
    "\n",
    "    clf = lgb.LGBMClassifier(\n",
    "\n",
    "        n_estimators = 2000,\n",
    "        learning_rate = 0.05,\n",
    "        subsample = 0.8,\n",
    "        colsample_bytree = 0.8,\n",
    "        reg_alpha = 1,\n",
    "         importance_type = 'gain',\n",
    "        )\n",
    "    \n",
    "    clf.fit(X_trn, y_trn, eval_set = [(X_trn, y_trn), (X_val, y_val)], eval_metric = ['auc'], verbose = 100,\n",
    "           early_stopping_rounds=100)\n",
    "\n",
    "    oof[idxv] = clf.predict_proba(X_val)[:,1]\n",
    "    preds += clf.predict_proba(X_test)[:,1]/skf.n_splits\n",
    "    \n",
    "print('OOF ROC', roc_auc_score(y_train, oof))     "
   ]
  },
  {
   "cell_type": "code",
   "execution_count": 12,
   "id": "4e6555bd",
   "metadata": {
    "execution": {
     "iopub.execute_input": "2022-04-13T22:10:55.812903Z",
     "iopub.status.busy": "2022-04-13T22:10:55.812278Z",
     "iopub.status.idle": "2022-04-13T22:10:56.159263Z",
     "shell.execute_reply": "2022-04-13T22:10:56.158683Z",
     "shell.execute_reply.started": "2022-04-13T22:03:24.885630Z"
    },
    "papermill": {
     "duration": 0.404609,
     "end_time": "2022-04-13T22:10:56.159401",
     "exception": false,
     "start_time": "2022-04-13T22:10:55.754792",
     "status": "completed"
    },
    "tags": []
   },
   "outputs": [
    {
     "data": {
      "image/png": "[encoded data removed]",
      "text/plain": [
       "<Figure size 1440x720 with 1 Axes>"
      ]
     },
     "metadata": {
      "needs_background": "light"
     },
     "output_type": "display_data"
    }
   ],
   "source": [
    "cols = list(X_train.columns)\n",
    "feature_imp = pd.DataFrame(sorted(zip(clf.feature_importances_,cols)), columns=['Value','Feature'])\n",
    "plt.figure(figsize=(20, 10))\n",
    "sns.barplot(x=\"Value\", y=\"Feature\", data=feature_imp.sort_values(by=\"Value\", ascending=False).iloc[:20])\n",
    "plt.title('LGBM Most Important Features')\n",
    "#plt.tight_layout()\n",
    "plt.show()"
   ]
  },
  {
   "cell_type": "markdown",
   "id": "e8e4a561",
   "metadata": {
    "papermill": {
     "duration": 0.055135,
     "end_time": "2022-04-13T22:10:56.270008",
     "exception": false,
     "start_time": "2022-04-13T22:10:56.214873",
     "status": "completed"
    },
    "tags": []
   },
   "source": [
    "# Submission"
   ]
  },
  {
   "cell_type": "code",
   "execution_count": 13,
   "id": "8d20bdef",
   "metadata": {
    "execution": {
     "iopub.execute_input": "2022-04-13T22:10:56.394777Z",
     "iopub.status.busy": "2022-04-13T22:10:56.394061Z",
     "iopub.status.idle": "2022-04-13T22:10:56.397810Z",
     "shell.execute_reply": "2022-04-13T22:10:56.397291Z",
     "shell.execute_reply.started": "2022-04-13T22:03:24.887206Z"
    },
    "papermill": {
     "duration": 0.072502,
     "end_time": "2022-04-13T22:10:56.397967",
     "exception": false,
     "start_time": "2022-04-13T22:10:56.325465",
     "status": "completed"
    },
    "tags": []
   },
   "outputs": [
    {
     "data": {
      "text/html": [
       "<div>\n",
       "<style scoped>\n",
       "    .dataframe tbody tr th:only-of-type {\n",
       "        vertical-align: middle;\n",
       "    }\n",
       "\n",
       "    .dataframe tbody tr th {\n",
       "        vertical-align: top;\n",
       "    }\n",
       "\n",
       "    .dataframe thead th {\n",
       "        text-align: right;\n",
       "    }\n",
       "</style>\n",
       "<table border=\"1\" class=\"dataframe\">\n",
       "  <thead>\n",
       "    <tr style=\"text-align: right;\">\n",
       "      <th></th>\n",
       "      <th>sequence</th>\n",
       "      <th>state</th>\n",
       "    </tr>\n",
       "  </thead>\n",
       "  <tbody>\n",
       "    <tr>\n",
       "      <th>0</th>\n",
       "      <td>25968</td>\n",
       "      <td>0.926708</td>\n",
       "    </tr>\n",
       "    <tr>\n",
       "      <th>1</th>\n",
       "      <td>25969</td>\n",
       "      <td>0.976557</td>\n",
       "    </tr>\n",
       "    <tr>\n",
       "      <th>2</th>\n",
       "      <td>25970</td>\n",
       "      <td>0.003733</td>\n",
       "    </tr>\n",
       "    <tr>\n",
       "      <th>3</th>\n",
       "      <td>25971</td>\n",
       "      <td>0.845711</td>\n",
       "    </tr>\n",
       "    <tr>\n",
       "      <th>4</th>\n",
       "      <td>25972</td>\n",
       "      <td>0.616048</td>\n",
       "    </tr>\n",
       "    <tr>\n",
       "      <th>...</th>\n",
       "      <td>...</td>\n",
       "      <td>...</td>\n",
       "    </tr>\n",
       "    <tr>\n",
       "      <th>12213</th>\n",
       "      <td>38181</td>\n",
       "      <td>0.894553</td>\n",
       "    </tr>\n",
       "    <tr>\n",
       "      <th>12214</th>\n",
       "      <td>38182</td>\n",
       "      <td>0.371089</td>\n",
       "    </tr>\n",
       "    <tr>\n",
       "      <th>12215</th>\n",
       "      <td>38183</td>\n",
       "      <td>0.762352</td>\n",
       "    </tr>\n",
       "    <tr>\n",
       "      <th>12216</th>\n",
       "      <td>38184</td>\n",
       "      <td>0.009430</td>\n",
       "    </tr>\n",
       "    <tr>\n",
       "      <th>12217</th>\n",
       "      <td>38185</td>\n",
       "      <td>0.062951</td>\n",
       "    </tr>\n",
       "  </tbody>\n",
       "</table>\n",
       "<p>12218 rows × 2 columns</p>\n",
       "</div>"
      ],
      "text/plain": [
       "       sequence     state\n",
       "0         25968  0.926708\n",
       "1         25969  0.976557\n",
       "2         25970  0.003733\n",
       "3         25971  0.845711\n",
       "4         25972  0.616048\n",
       "...         ...       ...\n",
       "12213     38181  0.894553\n",
       "12214     38182  0.371089\n",
       "12215     38183  0.762352\n",
       "12216     38184  0.009430\n",
       "12217     38185  0.062951\n",
       "\n",
       "[12218 rows x 2 columns]"
      ]
     },
     "execution_count": 13,
     "metadata": {},
     "output_type": "execute_result"
    }
   ],
   "source": [
    "sub.state = preds\n",
    "sub"
   ]
  },
  {
   "cell_type": "code",
   "execution_count": 14,
   "id": "b6eb87c9",
   "metadata": {
    "execution": {
     "iopub.execute_input": "2022-04-13T22:10:56.515108Z",
     "iopub.status.busy": "2022-04-13T22:10:56.514398Z",
     "iopub.status.idle": "2022-04-13T22:10:56.562398Z",
     "shell.execute_reply": "2022-04-13T22:10:56.562939Z",
     "shell.execute_reply.started": "2022-04-13T22:03:24.888785Z"
    },
    "papermill": {
     "duration": 0.109131,
     "end_time": "2022-04-13T22:10:56.563178",
     "exception": false,
     "start_time": "2022-04-13T22:10:56.454047",
     "status": "completed"
    },
    "tags": []
   },
   "outputs": [],
   "source": [
    "sub.to_csv('lgb_submission.csv', index = False)"
   ]
  },
  {
   "cell_type": "code",
   "execution_count": null,
   "id": "f3b50e43",
   "metadata": {
    "papermill": {
     "duration": 0.055018,
     "end_time": "2022-04-13T22:10:56.673923",
     "exception": false,
     "start_time": "2022-04-13T22:10:56.618905",
     "status": "completed"
    },
    "tags": []
   },
   "outputs": [],
   "source": []
  }
 ],
 "metadata": {
  "kernelspec": {
   "display_name": "Python 3",
   "language": "python",
   "name": "python3"
  },
  "language_info": {
   "codemirror_mode": {
    "name": "ipython",
    "version": 3
   },
   "file_extension": ".py",
   "mimetype": "text/x-python",
   "name": "python",
   "nbconvert_exporter": "python",
   "pygments_lexer": "ipython3",
   "version": "3.7.12"
  },
  "papermill": {
   "default_parameters": {},
   "duration": 251.557457,
   "end_time": "2022-04-13T22:10:57.551531",
   "environment_variables": {},
   "exception": null,
   "input_path": "__notebook__.ipynb",
   "output_path": "__notebook__.ipynb",
   "parameters": {},
   "start_time": "2022-04-13T22:06:45.994074",
   "version": "2.3.3"
  }
 },
 "nbformat": 4,
 "nbformat_minor": 5
}
